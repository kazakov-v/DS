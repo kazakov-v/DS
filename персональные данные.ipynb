{
 "cells": [
  {
   "cell_type": "markdown",
   "metadata": {},
   "source": [
    "```\n",
    "Описание проекта:\n",
    "\n",
    "Вам нужно защитить данные клиентов страховой компании «Хоть потоп».  \n",
    "Разработайте такой метод преобразования данных, чтобы по ним было сложно восстановить персональную информацию.  \n",
    "Обоснуйте корректность его работы.\n",
    "Нужно защитить данные, чтобы при преобразовании качество моделей машинного обучения не ухудшилось.  \n",
    "Подбирать наилучшую модель не требуется.\n",
    "\n",
    "Инструкция по выполнению проекта:\n",
    "\n",
    "1. Загрузите и изучите данные.\n",
    "\n",
    "2. Ответьте на вопрос и обоснуйте решение.\n",
    "Признаки умножают на обратимую матрицу. Изменится ли качество линейной регрессии? (Её можно обучить заново.)\n",
    "a. Изменится. Приведите примеры матриц.\n",
    "b. Не изменится. Укажите, как связаны параметры линейной регрессии в исходной задаче и в преобразованной.\n",
    "\n",
    "3. Предложите алгоритм преобразования данных для решения задачи. \n",
    "Обоснуйте, почему качество линейной регрессии не поменяется.\n",
    "\n",
    "4. Запрограммируйте этот алгоритм, применив матричные операции. \n",
    "Проверьте, что качество линейной регрессии из sklearn не отличается до и после преобразования. Примените метрику R2.\n",
    "\n",
    "Описание данных\n",
    "Набор данных находится в файле /datasets/insurance.csv.\n",
    "Признаки: пол, возраст и зарплата застрахованного, количество членов его семьи.\n",
    "Целевой признак: количество страховых выплат клиенту за последние 5 лет.\n",
    "```"
   ]
  },
  {
   "cell_type": "markdown",
   "metadata": {
    "toc": true
   },
   "source": [
    "<h1>Содержание<span class=\"tocSkip\"></span></h1>\n",
    "<div class=\"toc\"><ul class=\"toc-item\"><li><span><a href=\"#Загрузка-данных\" data-toc-modified-id=\"Загрузка-данных-1\"><span class=\"toc-item-num\">1&nbsp;&nbsp;</span>Загрузка данных</a></span><ul class=\"toc-item\"><li><span><a href=\"#Вывод:\" data-toc-modified-id=\"Вывод:-1.1\"><span class=\"toc-item-num\">1.1&nbsp;&nbsp;</span>Вывод:</a></span></li></ul></li><li><span><a href=\"#Умножение-матриц\" data-toc-modified-id=\"Умножение-матриц-2\"><span class=\"toc-item-num\">2&nbsp;&nbsp;</span>Умножение матриц</a></span><ul class=\"toc-item\"><li><span><a href=\"#Вывод:\" data-toc-modified-id=\"Вывод:-2.1\"><span class=\"toc-item-num\">2.1&nbsp;&nbsp;</span>Вывод:</a></span></li></ul></li><li><span><a href=\"#Алгоритм-преобразования\" data-toc-modified-id=\"Алгоритм-преобразования-3\"><span class=\"toc-item-num\">3&nbsp;&nbsp;</span>Алгоритм преобразования</a></span></li><li><span><a href=\"#Проверка-алгоритма\" data-toc-modified-id=\"Проверка-алгоритма-4\"><span class=\"toc-item-num\">4&nbsp;&nbsp;</span>Проверка алгоритма</a></span><ul class=\"toc-item\"><li><span><a href=\"#Вывод:\" data-toc-modified-id=\"Вывод:-4.1\"><span class=\"toc-item-num\">4.1&nbsp;&nbsp;</span>Вывод:</a></span></li></ul></li></ul></div>"
   ]
  },
  {
   "cell_type": "code",
   "execution_count": 1,
   "metadata": {},
   "outputs": [],
   "source": [
    "import pandas as pd\n",
    "import numpy as np\n",
    "\n",
    "from sklearn.model_selection import train_test_split\n",
    "from sklearn.linear_model import LinearRegression\n"
   ]
  },
  {
   "cell_type": "markdown",
   "metadata": {},
   "source": [
    "# Защита персональных данных клиентов"
   ]
  },
  {
   "cell_type": "markdown",
   "metadata": {},
   "source": [
    "Вам нужно защитить данные клиентов страховой компании «Хоть потоп». Разработайте такой метод преобразования данных, чтобы по ним было сложно восстановить персональную информацию. Обоснуйте корректность его работы.\n",
    "\n",
    "Нужно защитить данные, чтобы при преобразовании качество моделей машинного обучения не ухудшилось. Подбирать наилучшую модель не требуется."
   ]
  },
  {
   "cell_type": "markdown",
   "metadata": {},
   "source": [
    "## Загрузка данных"
   ]
  },
  {
   "cell_type": "code",
   "execution_count": 2,
   "metadata": {},
   "outputs": [
    {
     "name": "stdout",
     "output_type": "stream",
     "text": [
      "<class 'pandas.core.frame.DataFrame'>\n",
      "RangeIndex: 5000 entries, 0 to 4999\n",
      "Data columns (total 5 columns):\n",
      "Пол                  5000 non-null int64\n",
      "Возраст              5000 non-null float64\n",
      "Зарплата             5000 non-null float64\n",
      "Члены семьи          5000 non-null int64\n",
      "Страховые выплаты    5000 non-null int64\n",
      "dtypes: float64(2), int64(3)\n",
      "memory usage: 195.4 KB\n"
     ]
    },
    {
     "data": {
      "text/html": [
       "<div>\n",
       "<style scoped>\n",
       "    .dataframe tbody tr th:only-of-type {\n",
       "        vertical-align: middle;\n",
       "    }\n",
       "\n",
       "    .dataframe tbody tr th {\n",
       "        vertical-align: top;\n",
       "    }\n",
       "\n",
       "    .dataframe thead th {\n",
       "        text-align: right;\n",
       "    }\n",
       "</style>\n",
       "<table border=\"1\" class=\"dataframe\">\n",
       "  <thead>\n",
       "    <tr style=\"text-align: right;\">\n",
       "      <th></th>\n",
       "      <th>Пол</th>\n",
       "      <th>Возраст</th>\n",
       "      <th>Зарплата</th>\n",
       "      <th>Члены семьи</th>\n",
       "      <th>Страховые выплаты</th>\n",
       "    </tr>\n",
       "  </thead>\n",
       "  <tbody>\n",
       "    <tr>\n",
       "      <td>0</td>\n",
       "      <td>1</td>\n",
       "      <td>41.0</td>\n",
       "      <td>49600.0</td>\n",
       "      <td>1</td>\n",
       "      <td>0</td>\n",
       "    </tr>\n",
       "    <tr>\n",
       "      <td>1</td>\n",
       "      <td>0</td>\n",
       "      <td>46.0</td>\n",
       "      <td>38000.0</td>\n",
       "      <td>1</td>\n",
       "      <td>1</td>\n",
       "    </tr>\n",
       "    <tr>\n",
       "      <td>2</td>\n",
       "      <td>0</td>\n",
       "      <td>29.0</td>\n",
       "      <td>21000.0</td>\n",
       "      <td>0</td>\n",
       "      <td>0</td>\n",
       "    </tr>\n",
       "    <tr>\n",
       "      <td>3</td>\n",
       "      <td>0</td>\n",
       "      <td>21.0</td>\n",
       "      <td>41700.0</td>\n",
       "      <td>2</td>\n",
       "      <td>0</td>\n",
       "    </tr>\n",
       "    <tr>\n",
       "      <td>4</td>\n",
       "      <td>1</td>\n",
       "      <td>28.0</td>\n",
       "      <td>26100.0</td>\n",
       "      <td>0</td>\n",
       "      <td>0</td>\n",
       "    </tr>\n",
       "    <tr>\n",
       "      <td>...</td>\n",
       "      <td>...</td>\n",
       "      <td>...</td>\n",
       "      <td>...</td>\n",
       "      <td>...</td>\n",
       "      <td>...</td>\n",
       "    </tr>\n",
       "    <tr>\n",
       "      <td>4995</td>\n",
       "      <td>0</td>\n",
       "      <td>28.0</td>\n",
       "      <td>35700.0</td>\n",
       "      <td>2</td>\n",
       "      <td>0</td>\n",
       "    </tr>\n",
       "    <tr>\n",
       "      <td>4996</td>\n",
       "      <td>0</td>\n",
       "      <td>34.0</td>\n",
       "      <td>52400.0</td>\n",
       "      <td>1</td>\n",
       "      <td>0</td>\n",
       "    </tr>\n",
       "    <tr>\n",
       "      <td>4997</td>\n",
       "      <td>0</td>\n",
       "      <td>20.0</td>\n",
       "      <td>33900.0</td>\n",
       "      <td>2</td>\n",
       "      <td>0</td>\n",
       "    </tr>\n",
       "    <tr>\n",
       "      <td>4998</td>\n",
       "      <td>1</td>\n",
       "      <td>22.0</td>\n",
       "      <td>32700.0</td>\n",
       "      <td>3</td>\n",
       "      <td>0</td>\n",
       "    </tr>\n",
       "    <tr>\n",
       "      <td>4999</td>\n",
       "      <td>1</td>\n",
       "      <td>28.0</td>\n",
       "      <td>40600.0</td>\n",
       "      <td>1</td>\n",
       "      <td>0</td>\n",
       "    </tr>\n",
       "  </tbody>\n",
       "</table>\n",
       "<p>5000 rows × 5 columns</p>\n",
       "</div>"
      ],
      "text/plain": [
       "      Пол  Возраст  Зарплата  Члены семьи  Страховые выплаты\n",
       "0       1     41.0   49600.0            1                  0\n",
       "1       0     46.0   38000.0            1                  1\n",
       "2       0     29.0   21000.0            0                  0\n",
       "3       0     21.0   41700.0            2                  0\n",
       "4       1     28.0   26100.0            0                  0\n",
       "...   ...      ...       ...          ...                ...\n",
       "4995    0     28.0   35700.0            2                  0\n",
       "4996    0     34.0   52400.0            1                  0\n",
       "4997    0     20.0   33900.0            2                  0\n",
       "4998    1     22.0   32700.0            3                  0\n",
       "4999    1     28.0   40600.0            1                  0\n",
       "\n",
       "[5000 rows x 5 columns]"
      ]
     },
     "execution_count": 2,
     "metadata": {},
     "output_type": "execute_result"
    }
   ],
   "source": [
    "data = pd.read_csv('/datasets/insurance.csv')\n",
    "data.info()\n",
    "data"
   ]
  },
  {
   "cell_type": "code",
   "execution_count": 3,
   "metadata": {},
   "outputs": [
    {
     "data": {
      "text/html": [
       "<div>\n",
       "<style scoped>\n",
       "    .dataframe tbody tr th:only-of-type {\n",
       "        vertical-align: middle;\n",
       "    }\n",
       "\n",
       "    .dataframe tbody tr th {\n",
       "        vertical-align: top;\n",
       "    }\n",
       "\n",
       "    .dataframe thead th {\n",
       "        text-align: right;\n",
       "    }\n",
       "</style>\n",
       "<table border=\"1\" class=\"dataframe\">\n",
       "  <thead>\n",
       "    <tr style=\"text-align: right;\">\n",
       "      <th></th>\n",
       "      <th>Пол</th>\n",
       "      <th>Возраст</th>\n",
       "      <th>Зарплата</th>\n",
       "      <th>Члены семьи</th>\n",
       "      <th>Страховые выплаты</th>\n",
       "    </tr>\n",
       "  </thead>\n",
       "  <tbody>\n",
       "    <tr>\n",
       "      <td>count</td>\n",
       "      <td>5000.0</td>\n",
       "      <td>5000.00</td>\n",
       "      <td>5000.00</td>\n",
       "      <td>5000.00</td>\n",
       "      <td>5000.00</td>\n",
       "    </tr>\n",
       "    <tr>\n",
       "      <td>mean</td>\n",
       "      <td>0.5</td>\n",
       "      <td>30.95</td>\n",
       "      <td>39916.36</td>\n",
       "      <td>1.19</td>\n",
       "      <td>0.15</td>\n",
       "    </tr>\n",
       "    <tr>\n",
       "      <td>std</td>\n",
       "      <td>0.5</td>\n",
       "      <td>8.44</td>\n",
       "      <td>9900.08</td>\n",
       "      <td>1.09</td>\n",
       "      <td>0.46</td>\n",
       "    </tr>\n",
       "    <tr>\n",
       "      <td>min</td>\n",
       "      <td>0.0</td>\n",
       "      <td>18.00</td>\n",
       "      <td>5300.00</td>\n",
       "      <td>0.00</td>\n",
       "      <td>0.00</td>\n",
       "    </tr>\n",
       "    <tr>\n",
       "      <td>25%</td>\n",
       "      <td>0.0</td>\n",
       "      <td>24.00</td>\n",
       "      <td>33300.00</td>\n",
       "      <td>0.00</td>\n",
       "      <td>0.00</td>\n",
       "    </tr>\n",
       "    <tr>\n",
       "      <td>50%</td>\n",
       "      <td>0.0</td>\n",
       "      <td>30.00</td>\n",
       "      <td>40200.00</td>\n",
       "      <td>1.00</td>\n",
       "      <td>0.00</td>\n",
       "    </tr>\n",
       "    <tr>\n",
       "      <td>75%</td>\n",
       "      <td>1.0</td>\n",
       "      <td>37.00</td>\n",
       "      <td>46600.00</td>\n",
       "      <td>2.00</td>\n",
       "      <td>0.00</td>\n",
       "    </tr>\n",
       "    <tr>\n",
       "      <td>max</td>\n",
       "      <td>1.0</td>\n",
       "      <td>65.00</td>\n",
       "      <td>79000.00</td>\n",
       "      <td>6.00</td>\n",
       "      <td>5.00</td>\n",
       "    </tr>\n",
       "  </tbody>\n",
       "</table>\n",
       "</div>"
      ],
      "text/plain": [
       "          Пол  Возраст  Зарплата  Члены семьи  Страховые выплаты\n",
       "count  5000.0  5000.00   5000.00      5000.00            5000.00\n",
       "mean      0.5    30.95  39916.36         1.19               0.15\n",
       "std       0.5     8.44   9900.08         1.09               0.46\n",
       "min       0.0    18.00   5300.00         0.00               0.00\n",
       "25%       0.0    24.00  33300.00         0.00               0.00\n",
       "50%       0.0    30.00  40200.00         1.00               0.00\n",
       "75%       1.0    37.00  46600.00         2.00               0.00\n",
       "max       1.0    65.00  79000.00         6.00               5.00"
      ]
     },
     "execution_count": 3,
     "metadata": {},
     "output_type": "execute_result"
    }
   ],
   "source": [
    "data.describe().round(2)"
   ]
  },
  {
   "cell_type": "code",
   "execution_count": 4,
   "metadata": {},
   "outputs": [
    {
     "data": {
      "text/plain": [
       "153"
      ]
     },
     "execution_count": 4,
     "metadata": {},
     "output_type": "execute_result"
    }
   ],
   "source": [
    " data.duplicated().sum()"
   ]
  },
  {
   "cell_type": "markdown",
   "metadata": {},
   "source": [
    "### Вывод:  \n",
    "Данные корректны, пропусков нет.  \n",
    "Есть небольшое количество дубликатов строк, но они вполне могут относиться к различным людям,  \n",
    "поэтому не вижу необходимости их удалять."
   ]
  },
  {
   "cell_type": "markdown",
   "metadata": {},
   "source": [
    "## Умножение матриц"
   ]
  },
  {
   "cell_type": "code",
   "execution_count": 5,
   "metadata": {},
   "outputs": [],
   "source": [
    "def get_rnd_inv(N):\n",
    "    '''Получение случайной обратимой матрицы размером N x N'''\n",
    "    attempt = 0\n",
    "    success = False\n",
    "    while attempt < 3: # 3 попытки\n",
    "        P = np.random.rand(N, N)\n",
    "        try:    np.linalg.inv(P)\n",
    "        except: attempt += 1\n",
    "        else: \n",
    "            success = True\n",
    "            break\n",
    "    if not success: \n",
    "        print('Не удалось создать обратимую матрицу с', attempt, 'попыток')\n",
    "        return None\n",
    "    return P"
   ]
  },
  {
   "cell_type": "markdown",
   "metadata": {},
   "source": [
    "Разделим данные на обучающую и тестовую выборки в пропорции 60% : 40%, выделим признаки и цели:"
   ]
  },
  {
   "cell_type": "code",
   "execution_count": 6,
   "metadata": {},
   "outputs": [],
   "source": [
    "data_train, data_test = train_test_split(data, test_size = 0.4, random_state = 12345)\n",
    "y_test = data_test['Страховые выплаты']\n",
    "y_train = data_train['Страховые выплаты']\n",
    "X_test = data_test.drop('Страховые выплаты', axis = 1)\n",
    "X_train = data_train.drop('Страховые выплаты', axis = 1)"
   ]
  },
  {
   "cell_type": "markdown",
   "metadata": {},
   "source": [
    "Сформируем обратимую матрицу $P$ и закодируем признаки путем умножения на эту матрицу:"
   ]
  },
  {
   "cell_type": "code",
   "execution_count": 7,
   "metadata": {},
   "outputs": [],
   "source": [
    "P = get_rnd_inv(X_train.shape[1])\n",
    "X_test_encoded = X_test @ P\n",
    "X_train_encoded = X_train @ P"
   ]
  },
  {
   "cell_type": "markdown",
   "metadata": {},
   "source": [
    "Линейная регрессия на исходных данных $X$:"
   ]
  },
  {
   "cell_type": "code",
   "execution_count": 8,
   "metadata": {},
   "outputs": [
    {
     "name": "stdout",
     "output_type": "stream",
     "text": [
      "R2_score: 0.42375177725680424\n",
      "w: [ 1.88145195e-02  3.64721804e-02  1.61849337e-08 -7.95047136e-03]\n"
     ]
    }
   ],
   "source": [
    "model = LinearRegression()\n",
    "model.fit(X_train, y_train)\n",
    "print('R2_score:', model.score(X_test, y_test))\n",
    "print('w:', model.coef_)"
   ]
  },
  {
   "cell_type": "markdown",
   "metadata": {},
   "source": [
    "Линейная регрессия на преобразованных данных $XP$:"
   ]
  },
  {
   "cell_type": "code",
   "execution_count": 9,
   "metadata": {},
   "outputs": [
    {
     "name": "stdout",
     "output_type": "stream",
     "text": [
      "R2_score: 0.4237517772568152\n",
      "w: [ 0.04315459  0.01197285 -0.13219934  0.07200377]\n"
     ]
    }
   ],
   "source": [
    "model_encoded = LinearRegression()\n",
    "model_encoded.fit(X_train_encoded, y_train)\n",
    "print('R2_score:', model_encoded.score(X_test_encoded, y_test))\n",
    "print('w:', model_encoded.coef_)"
   ]
  },
  {
   "cell_type": "markdown",
   "metadata": {},
   "source": [
    "Коэффициенты линейной регрессии на преобразованных данных можно получить  \n",
    "из коэффициентов исходной модели путем умножения $P^{-1}w$"
   ]
  },
  {
   "cell_type": "code",
   "execution_count": 10,
   "metadata": {},
   "outputs": [
    {
     "data": {
      "text/plain": [
       "array([ 0.04315459,  0.01197285, -0.13219934,  0.07200377])"
      ]
     },
     "execution_count": 10,
     "metadata": {},
     "output_type": "execute_result"
    }
   ],
   "source": [
    "np.linalg.inv(P) @ model.coef_"
   ]
  },
  {
   "cell_type": "markdown",
   "metadata": {},
   "source": [
    "__Качество предсказания на исходных и преобразованных данных практически не отличается__     \n",
    "\n",
    "---\n",
    "Рассмотрим формулу обучения:\n"
   ]
  },
  {
   "cell_type": "markdown",
   "metadata": {},
   "source": [
    "Обозначения:\n",
    "\n",
    "- $X$ — матрица признаков (нулевой столбец состоит из единиц)\n",
    "\n",
    "- $y$ — вектор целевого признака\n",
    "\n",
    "- $P$ — матрица, на которую умножаются признаки\n",
    "\n",
    "- $w$ — вектор весов линейной регрессии (нулевой элемент равен сдвигу)"
   ]
  },
  {
   "cell_type": "markdown",
   "metadata": {},
   "source": [
    "Предсказания: $\\LARGE a = Xw $\n",
    "\n",
    "Задача обучения: $ w = \\arg\\min_w MSE(Xw, y) $\n",
    "\n",
    "Формула обучения: $ w = (X^T X)^{-1} X^T y $\n",
    "\n"
   ]
  },
  {
   "cell_type": "markdown",
   "metadata": {},
   "source": [
    "---  \n",
    "Если мы обучаем модель на матрице $XP$, где $P$ - обратимая матрица \n",
    "\n",
    " \n",
    "то формула обучения будет: $ w_e = ((XP)^T XP)^{-1} (XP)^T y $"
   ]
  },
  {
   "cell_type": "markdown",
   "metadata": {},
   "source": [
    "Воспользуемся свойствами обратимых: $(AB)^{-1} = B^{-1}A^{-1}$  и транспонированных матриц:  $(AB)^T = B^TA^T$"
   ]
  },
  {
   "cell_type": "markdown",
   "metadata": {},
   "source": [
    "для преобразования формулы обучения:"
   ]
  },
  {
   "cell_type": "markdown",
   "metadata": {},
   "source": [
    "- вынесем $P$ из инверсии произведения: $ w_e = P^{-1}((XP)^T X)^{-1} (XP)^T y $"
   ]
  },
  {
   "cell_type": "markdown",
   "metadata": {},
   "source": [
    "- раскроем транспонирование произведений $(XP)^T$:    $ w_e = P^{-1}(P^TX^T X)^{-1} P^TX^T y $"
   ]
  },
  {
   "cell_type": "markdown",
   "metadata": {},
   "source": [
    "- вынесем $P^T$ из инверсии произведения: $ w_e = P^{-1}(X^T X)^{-1}(P^T)^{-1} P^TX^T y $"
   ]
  },
  {
   "cell_type": "markdown",
   "metadata": {},
   "source": [
    "- сокращаем единичную матрицу: $(P^T)^{-1} P^T$"
   ]
  },
  {
   "cell_type": "markdown",
   "metadata": {},
   "source": [
    "- и получаем: $ w_e = P^{-1}(X^T X)^{-1}X^T y $ или $ w_e = P^{-1}w$"
   ]
  },
  {
   "cell_type": "markdown",
   "metadata": {},
   "source": [
    "- предсказания модели будут: $a_e = XPP^{-1}w$"
   ]
  },
  {
   "cell_type": "markdown",
   "metadata": {},
   "source": [
    "- сокращаем единичную матрицу $PP^{-1}$"
   ]
  },
  {
   "cell_type": "markdown",
   "metadata": {},
   "source": [
    "- и получаем предсказания $\\LARGE a_e = Xw$ - точно такие же, как и для исходной матрицы"
   ]
  },
  {
   "cell_type": "markdown",
   "metadata": {},
   "source": [
    "---   \n",
    "### Вывод:  \n",
    "___Умножение матрицы признаков на обратимую матрицу $\\large P$ не меняет качество линейной регрессии___   \n",
    "___Веса линейной регрессии на преобразованных данных можно получить из исходных весов: $\\large w_e=P^{-1}w$___\n",
    "\n",
    "---"
   ]
  },
  {
   "cell_type": "markdown",
   "metadata": {},
   "source": [
    "## Алгоритм преобразования"
   ]
  },
  {
   "cell_type": "markdown",
   "metadata": {},
   "source": [
    "**Алгоритм**\n",
    "\n",
    "1. Создать случайную обратимую матрицу $P$\n",
    "2. Умножить матрицу признаков тренировочной выборки на $P$\n",
    "3. Обучить модель на преобразованных данных\n",
    "4. Умножить матрицу признаков тестовой (рабочей) выборки на $P$\n",
    "5. Получить предсказания"
   ]
  },
  {
   "cell_type": "markdown",
   "metadata": {},
   "source": [
    "**Обоснование**\n",
    "\n",
    "Умножение признаков на обратимую матрицу позволяет закодировать персональные данные.  \n",
    "В то же время такое преобразование не мешает модели линейной регрессии делать предсказания  \n",
    "с такой же точностью, как и на исходных данных, что было доказано в предыдущем пункте."
   ]
  },
  {
   "cell_type": "markdown",
   "metadata": {},
   "source": [
    "## Проверка алгоритма"
   ]
  },
  {
   "cell_type": "code",
   "execution_count": 11,
   "metadata": {},
   "outputs": [],
   "source": [
    "class encoder:\n",
    "    def __init__(self):\n",
    "        self.ready = False\n",
    "    def dot(self, df):\n",
    "        if not self.ready:\n",
    "            self.P = get_rnd_inv(df.shape[1])\n",
    "            self.ready = True\n",
    "        return pd.DataFrame(df.values @ self.P)"
   ]
  },
  {
   "cell_type": "code",
   "execution_count": 12,
   "metadata": {},
   "outputs": [],
   "source": [
    "enc = encoder()\n",
    "X_train_encoded = enc.dot(X_train)\n",
    "X_test_encoded = enc.dot(X_test)"
   ]
  },
  {
   "cell_type": "markdown",
   "metadata": {},
   "source": [
    "Так выглядят признаки после кодирования:"
   ]
  },
  {
   "cell_type": "code",
   "execution_count": 13,
   "metadata": {},
   "outputs": [
    {
     "data": {
      "text/html": [
       "<div>\n",
       "<style scoped>\n",
       "    .dataframe tbody tr th:only-of-type {\n",
       "        vertical-align: middle;\n",
       "    }\n",
       "\n",
       "    .dataframe tbody tr th {\n",
       "        vertical-align: top;\n",
       "    }\n",
       "\n",
       "    .dataframe thead th {\n",
       "        text-align: right;\n",
       "    }\n",
       "</style>\n",
       "<table border=\"1\" class=\"dataframe\">\n",
       "  <thead>\n",
       "    <tr style=\"text-align: right;\">\n",
       "      <th></th>\n",
       "      <th>0</th>\n",
       "      <th>1</th>\n",
       "      <th>2</th>\n",
       "      <th>3</th>\n",
       "    </tr>\n",
       "  </thead>\n",
       "  <tbody>\n",
       "    <tr>\n",
       "      <td>0</td>\n",
       "      <td>26531.176546</td>\n",
       "      <td>1317.629672</td>\n",
       "      <td>21463.965407</td>\n",
       "      <td>2129.275516</td>\n",
       "    </tr>\n",
       "    <tr>\n",
       "      <td>1</td>\n",
       "      <td>29322.540069</td>\n",
       "      <td>1458.835681</td>\n",
       "      <td>23728.684180</td>\n",
       "      <td>2356.102699</td>\n",
       "    </tr>\n",
       "    <tr>\n",
       "      <td>2</td>\n",
       "      <td>28639.386625</td>\n",
       "      <td>1422.623526</td>\n",
       "      <td>23172.266366</td>\n",
       "      <td>2298.014517</td>\n",
       "    </tr>\n",
       "    <tr>\n",
       "      <td>3</td>\n",
       "      <td>23670.686470</td>\n",
       "      <td>1172.299257</td>\n",
       "      <td>19145.573350</td>\n",
       "      <td>1895.270720</td>\n",
       "    </tr>\n",
       "    <tr>\n",
       "      <td>4</td>\n",
       "      <td>27213.013870</td>\n",
       "      <td>1353.183595</td>\n",
       "      <td>22018.938195</td>\n",
       "      <td>2186.033945</td>\n",
       "    </tr>\n",
       "    <tr>\n",
       "      <td>...</td>\n",
       "      <td>...</td>\n",
       "      <td>...</td>\n",
       "      <td>...</td>\n",
       "      <td>...</td>\n",
       "    </tr>\n",
       "    <tr>\n",
       "      <td>1995</td>\n",
       "      <td>34622.392672</td>\n",
       "      <td>1715.184517</td>\n",
       "      <td>28003.416955</td>\n",
       "      <td>2773.022990</td>\n",
       "    </tr>\n",
       "    <tr>\n",
       "      <td>1996</td>\n",
       "      <td>30132.540107</td>\n",
       "      <td>1492.940565</td>\n",
       "      <td>24372.291612</td>\n",
       "      <td>2413.297679</td>\n",
       "    </tr>\n",
       "    <tr>\n",
       "      <td>1997</td>\n",
       "      <td>17894.683845</td>\n",
       "      <td>892.101562</td>\n",
       "      <td>14483.392049</td>\n",
       "      <td>1440.298307</td>\n",
       "    </tr>\n",
       "    <tr>\n",
       "      <td>1998</td>\n",
       "      <td>22515.814306</td>\n",
       "      <td>1117.267443</td>\n",
       "      <td>18214.669833</td>\n",
       "      <td>1805.316377</td>\n",
       "    </tr>\n",
       "    <tr>\n",
       "      <td>1999</td>\n",
       "      <td>21024.993381</td>\n",
       "      <td>1049.347175</td>\n",
       "      <td>17019.176975</td>\n",
       "      <td>1693.382204</td>\n",
       "    </tr>\n",
       "  </tbody>\n",
       "</table>\n",
       "<p>2000 rows × 4 columns</p>\n",
       "</div>"
      ],
      "text/plain": [
       "                 0            1             2            3\n",
       "0     26531.176546  1317.629672  21463.965407  2129.275516\n",
       "1     29322.540069  1458.835681  23728.684180  2356.102699\n",
       "2     28639.386625  1422.623526  23172.266366  2298.014517\n",
       "3     23670.686470  1172.299257  19145.573350  1895.270720\n",
       "4     27213.013870  1353.183595  22018.938195  2186.033945\n",
       "...            ...          ...           ...          ...\n",
       "1995  34622.392672  1715.184517  28003.416955  2773.022990\n",
       "1996  30132.540107  1492.940565  24372.291612  2413.297679\n",
       "1997  17894.683845   892.101562  14483.392049  1440.298307\n",
       "1998  22515.814306  1117.267443  18214.669833  1805.316377\n",
       "1999  21024.993381  1049.347175  17019.176975  1693.382204\n",
       "\n",
       "[2000 rows x 4 columns]"
      ]
     },
     "execution_count": 13,
     "metadata": {},
     "output_type": "execute_result"
    }
   ],
   "source": [
    "X_test_encoded"
   ]
  },
  {
   "cell_type": "code",
   "execution_count": 14,
   "metadata": {},
   "outputs": [
    {
     "data": {
      "text/html": [
       "<div>\n",
       "<style scoped>\n",
       "    .dataframe tbody tr th:only-of-type {\n",
       "        vertical-align: middle;\n",
       "    }\n",
       "\n",
       "    .dataframe tbody tr th {\n",
       "        vertical-align: top;\n",
       "    }\n",
       "\n",
       "    .dataframe thead th {\n",
       "        text-align: right;\n",
       "    }\n",
       "</style>\n",
       "<table border=\"1\" class=\"dataframe\">\n",
       "  <thead>\n",
       "    <tr style=\"text-align: right;\">\n",
       "      <th></th>\n",
       "      <th>Пол</th>\n",
       "      <th>Возраст</th>\n",
       "      <th>Зарплата</th>\n",
       "      <th>Члены семьи</th>\n",
       "    </tr>\n",
       "  </thead>\n",
       "  <tbody>\n",
       "    <tr>\n",
       "      <td>3183</td>\n",
       "      <td>0</td>\n",
       "      <td>33.0</td>\n",
       "      <td>39000.0</td>\n",
       "      <td>4</td>\n",
       "    </tr>\n",
       "    <tr>\n",
       "      <td>1071</td>\n",
       "      <td>0</td>\n",
       "      <td>50.0</td>\n",
       "      <td>43100.0</td>\n",
       "      <td>2</td>\n",
       "    </tr>\n",
       "    <tr>\n",
       "      <td>2640</td>\n",
       "      <td>1</td>\n",
       "      <td>39.0</td>\n",
       "      <td>42100.0</td>\n",
       "      <td>0</td>\n",
       "    </tr>\n",
       "    <tr>\n",
       "      <td>2282</td>\n",
       "      <td>0</td>\n",
       "      <td>20.0</td>\n",
       "      <td>34800.0</td>\n",
       "      <td>0</td>\n",
       "    </tr>\n",
       "    <tr>\n",
       "      <td>1595</td>\n",
       "      <td>0</td>\n",
       "      <td>41.0</td>\n",
       "      <td>40000.0</td>\n",
       "      <td>4</td>\n",
       "    </tr>\n",
       "    <tr>\n",
       "      <td>...</td>\n",
       "      <td>...</td>\n",
       "      <td>...</td>\n",
       "      <td>...</td>\n",
       "      <td>...</td>\n",
       "    </tr>\n",
       "    <tr>\n",
       "      <td>469</td>\n",
       "      <td>0</td>\n",
       "      <td>29.0</td>\n",
       "      <td>50900.0</td>\n",
       "      <td>2</td>\n",
       "    </tr>\n",
       "    <tr>\n",
       "      <td>2075</td>\n",
       "      <td>1</td>\n",
       "      <td>24.0</td>\n",
       "      <td>44300.0</td>\n",
       "      <td>1</td>\n",
       "    </tr>\n",
       "    <tr>\n",
       "      <td>1188</td>\n",
       "      <td>0</td>\n",
       "      <td>36.0</td>\n",
       "      <td>26300.0</td>\n",
       "      <td>3</td>\n",
       "    </tr>\n",
       "    <tr>\n",
       "      <td>88</td>\n",
       "      <td>1</td>\n",
       "      <td>24.0</td>\n",
       "      <td>33100.0</td>\n",
       "      <td>1</td>\n",
       "    </tr>\n",
       "    <tr>\n",
       "      <td>4569</td>\n",
       "      <td>1</td>\n",
       "      <td>45.0</td>\n",
       "      <td>30900.0</td>\n",
       "      <td>3</td>\n",
       "    </tr>\n",
       "  </tbody>\n",
       "</table>\n",
       "<p>2000 rows × 4 columns</p>\n",
       "</div>"
      ],
      "text/plain": [
       "      Пол  Возраст  Зарплата  Члены семьи\n",
       "3183    0     33.0   39000.0            4\n",
       "1071    0     50.0   43100.0            2\n",
       "2640    1     39.0   42100.0            0\n",
       "2282    0     20.0   34800.0            0\n",
       "1595    0     41.0   40000.0            4\n",
       "...   ...      ...       ...          ...\n",
       "469     0     29.0   50900.0            2\n",
       "2075    1     24.0   44300.0            1\n",
       "1188    0     36.0   26300.0            3\n",
       "88      1     24.0   33100.0            1\n",
       "4569    1     45.0   30900.0            3\n",
       "\n",
       "[2000 rows x 4 columns]"
      ]
     },
     "execution_count": 14,
     "metadata": {},
     "output_type": "execute_result"
    }
   ],
   "source": [
    "X_test"
   ]
  },
  {
   "cell_type": "code",
   "execution_count": 15,
   "metadata": {},
   "outputs": [
    {
     "name": "stdout",
     "output_type": "stream",
     "text": [
      "R2_score: 0.4237517772567847\n"
     ]
    }
   ],
   "source": [
    "model_encoded = LinearRegression()\n",
    "model_encoded.fit(X_train_encoded, y_train)\n",
    "print('R2_score:', model_encoded.score(X_test_encoded, y_test))"
   ]
  },
  {
   "cell_type": "code",
   "execution_count": 16,
   "metadata": {},
   "outputs": [
    {
     "name": "stdout",
     "output_type": "stream",
     "text": [
      "R2_score: 0.42375177725680424\n"
     ]
    }
   ],
   "source": [
    "model_original = LinearRegression()\n",
    "model_original.fit(X_train, y_train)\n",
    "print('R2_score:', model_original.score(X_test, y_test))"
   ]
  },
  {
   "cell_type": "markdown",
   "metadata": {},
   "source": [
    "### Вывод:  \n",
    "\n",
    "___Качество линейной регрессии из sklearn не отличается до и после преобразования___"
   ]
  },
  {
   "cell_type": "code",
   "execution_count": null,
   "metadata": {},
   "outputs": [],
   "source": []
  }
 ],
 "metadata": {
  "ExecuteTimeLog": [
   {
    "duration": 128,
    "start_time": "2021-11-12T11:12:50.068Z"
   },
   {
    "duration": 299,
    "start_time": "2021-11-12T11:12:58.172Z"
   },
   {
    "duration": 3,
    "start_time": "2021-11-12T11:13:24.421Z"
   },
   {
    "duration": 14,
    "start_time": "2021-11-12T11:13:36.596Z"
   },
   {
    "duration": 4,
    "start_time": "2021-11-12T11:14:24.387Z"
   },
   {
    "duration": 5,
    "start_time": "2021-11-12T11:14:30.411Z"
   },
   {
    "duration": 5,
    "start_time": "2021-11-12T11:14:54.867Z"
   },
   {
    "duration": 3,
    "start_time": "2021-11-12T11:15:48.818Z"
   },
   {
    "duration": 7,
    "start_time": "2021-11-12T11:15:49.794Z"
   },
   {
    "duration": 4,
    "start_time": "2021-11-12T11:15:51.003Z"
   },
   {
    "duration": 5,
    "start_time": "2021-11-12T11:15:52.770Z"
   },
   {
    "duration": 3,
    "start_time": "2021-11-12T11:16:16.099Z"
   },
   {
    "duration": 4,
    "start_time": "2021-11-12T11:16:29.954Z"
   },
   {
    "duration": 652,
    "start_time": "2021-11-12T11:16:32.745Z"
   },
   {
    "duration": 145,
    "start_time": "2021-11-12T11:17:47.780Z"
   },
   {
    "duration": 130,
    "start_time": "2021-11-12T11:18:15.257Z"
   },
   {
    "duration": 4,
    "start_time": "2021-11-12T11:18:40.937Z"
   },
   {
    "duration": 4,
    "start_time": "2021-11-12T11:19:30.760Z"
   },
   {
    "duration": 3,
    "start_time": "2021-11-12T11:19:45.465Z"
   },
   {
    "duration": 5,
    "start_time": "2021-11-12T11:19:50.656Z"
   },
   {
    "duration": 4,
    "start_time": "2021-11-12T11:19:52.905Z"
   },
   {
    "duration": 6,
    "start_time": "2021-11-12T11:28:43.577Z"
   },
   {
    "duration": 5,
    "start_time": "2021-11-12T11:28:56.860Z"
   },
   {
    "duration": 3,
    "start_time": "2021-11-12T11:29:17.523Z"
   },
   {
    "duration": 5,
    "start_time": "2021-11-12T11:29:19.619Z"
   },
   {
    "duration": 4,
    "start_time": "2021-11-12T11:29:22.515Z"
   },
   {
    "duration": 983,
    "start_time": "2021-11-12T11:32:18.203Z"
   },
   {
    "duration": 1119,
    "start_time": "2021-11-12T11:32:29.066Z"
   },
   {
    "duration": 4,
    "start_time": "2021-11-12T11:32:35.450Z"
   },
   {
    "duration": 6,
    "start_time": "2021-11-12T11:33:09.996Z"
   },
   {
    "duration": 4,
    "start_time": "2021-11-12T11:33:12.715Z"
   },
   {
    "duration": 5,
    "start_time": "2021-11-12T11:34:44.584Z"
   },
   {
    "duration": 3,
    "start_time": "2021-11-12T11:35:53.417Z"
   },
   {
    "duration": 124,
    "start_time": "2021-11-12T11:36:30.544Z"
   },
   {
    "duration": 5,
    "start_time": "2021-11-12T11:36:47.081Z"
   },
   {
    "duration": 236,
    "start_time": "2021-11-12T11:38:06.516Z"
   },
   {
    "duration": 2,
    "start_time": "2021-11-12T11:38:06.755Z"
   },
   {
    "duration": 19,
    "start_time": "2021-11-12T11:38:06.760Z"
   },
   {
    "duration": 14,
    "start_time": "2021-11-12T11:38:06.781Z"
   },
   {
    "duration": 17,
    "start_time": "2021-11-12T11:38:06.797Z"
   },
   {
    "duration": 12,
    "start_time": "2021-11-12T11:38:06.816Z"
   },
   {
    "duration": 76,
    "start_time": "2021-11-12T11:38:06.831Z"
   },
   {
    "duration": 4,
    "start_time": "2021-11-12T11:38:06.909Z"
   },
   {
    "duration": 205,
    "start_time": "2021-11-12T11:38:27.544Z"
   },
   {
    "duration": 2,
    "start_time": "2021-11-12T11:38:27.752Z"
   },
   {
    "duration": 6,
    "start_time": "2021-11-12T11:38:27.756Z"
   },
   {
    "duration": 5,
    "start_time": "2021-11-12T11:38:27.763Z"
   },
   {
    "duration": 13,
    "start_time": "2021-11-12T11:38:27.769Z"
   },
   {
    "duration": 8,
    "start_time": "2021-11-12T11:38:27.784Z"
   },
   {
    "duration": 14,
    "start_time": "2021-11-12T11:38:27.807Z"
   },
   {
    "duration": 84,
    "start_time": "2021-11-12T11:38:27.824Z"
   },
   {
    "duration": 191,
    "start_time": "2021-11-12T11:39:08.074Z"
   },
   {
    "duration": 2,
    "start_time": "2021-11-12T11:39:08.267Z"
   },
   {
    "duration": 6,
    "start_time": "2021-11-12T11:39:08.271Z"
   },
   {
    "duration": 6,
    "start_time": "2021-11-12T11:39:08.279Z"
   },
   {
    "duration": 21,
    "start_time": "2021-11-12T11:39:08.287Z"
   },
   {
    "duration": 15,
    "start_time": "2021-11-12T11:39:08.311Z"
   },
   {
    "duration": 419,
    "start_time": "2021-11-12T11:39:08.328Z"
   },
   {
    "duration": -36095,
    "start_time": "2021-11-12T11:39:44.844Z"
   },
   {
    "duration": 6,
    "start_time": "2021-11-12T11:41:11.543Z"
   },
   {
    "duration": 4,
    "start_time": "2021-11-12T11:48:17.530Z"
   },
   {
    "duration": 3,
    "start_time": "2021-11-12T11:49:37.139Z"
   },
   {
    "duration": 4,
    "start_time": "2021-11-12T11:49:49.576Z"
   },
   {
    "duration": 3,
    "start_time": "2021-11-12T11:50:09.377Z"
   },
   {
    "duration": 3,
    "start_time": "2021-11-12T11:50:10.378Z"
   },
   {
    "duration": 3,
    "start_time": "2021-11-12T11:50:11.577Z"
   },
   {
    "duration": 3,
    "start_time": "2021-11-12T11:51:19.041Z"
   },
   {
    "duration": 4,
    "start_time": "2021-11-12T11:51:19.582Z"
   },
   {
    "duration": 4,
    "start_time": "2021-11-12T11:51:20.096Z"
   },
   {
    "duration": 7,
    "start_time": "2021-11-12T11:56:13.538Z"
   },
   {
    "duration": 120,
    "start_time": "2021-11-12T12:00:47.893Z"
   },
   {
    "duration": 127,
    "start_time": "2021-11-12T12:01:00.907Z"
   },
   {
    "duration": 5,
    "start_time": "2021-11-12T12:01:20.138Z"
   },
   {
    "duration": 9,
    "start_time": "2021-11-12T12:01:25.738Z"
   },
   {
    "duration": 4,
    "start_time": "2021-11-12T12:01:37.464Z"
   },
   {
    "duration": 6,
    "start_time": "2021-11-12T12:02:27.193Z"
   },
   {
    "duration": 4,
    "start_time": "2021-11-12T12:02:28.058Z"
   },
   {
    "duration": 4,
    "start_time": "2021-11-12T12:02:39.593Z"
   },
   {
    "duration": 8,
    "start_time": "2021-11-12T12:02:40.155Z"
   },
   {
    "duration": 4,
    "start_time": "2021-11-12T12:10:12.196Z"
   },
   {
    "duration": 5,
    "start_time": "2021-11-12T12:13:09.219Z"
   },
   {
    "duration": 5,
    "start_time": "2021-11-12T12:14:03.021Z"
   },
   {
    "duration": 959,
    "start_time": "2021-11-12T12:23:52.485Z"
   },
   {
    "duration": 2819,
    "start_time": "2021-11-12T12:25:09.917Z"
   },
   {
    "duration": 19,
    "start_time": "2021-11-12T12:25:22.415Z"
   },
   {
    "duration": 31,
    "start_time": "2021-11-12T12:25:35.708Z"
   },
   {
    "duration": 30,
    "start_time": "2021-11-12T12:25:49.630Z"
   },
   {
    "duration": 6,
    "start_time": "2021-11-12T12:27:30.438Z"
   },
   {
    "duration": 18,
    "start_time": "2021-11-12T12:27:54.731Z"
   },
   {
    "duration": 7,
    "start_time": "2021-11-12T12:29:05.027Z"
   },
   {
    "duration": 411,
    "start_time": "2021-11-12T12:29:16.155Z"
   },
   {
    "duration": 381,
    "start_time": "2021-11-12T12:29:20.099Z"
   },
   {
    "duration": 5,
    "start_time": "2021-11-12T12:29:32.563Z"
   },
   {
    "duration": 378,
    "start_time": "2021-11-12T12:29:47.491Z"
   },
   {
    "duration": 383,
    "start_time": "2021-11-12T12:29:55.978Z"
   },
   {
    "duration": 23,
    "start_time": "2021-11-12T12:30:49.794Z"
   },
   {
    "duration": 19,
    "start_time": "2021-11-12T12:31:17.491Z"
   },
   {
    "duration": 18,
    "start_time": "2021-11-12T12:31:41.794Z"
   },
   {
    "duration": 5,
    "start_time": "2021-11-12T12:42:57.076Z"
   },
   {
    "duration": 368,
    "start_time": "2021-11-12T12:43:04.219Z"
   },
   {
    "duration": 13,
    "start_time": "2021-11-12T12:43:21.611Z"
   },
   {
    "duration": 13,
    "start_time": "2021-11-12T12:43:33.474Z"
   },
   {
    "duration": 12,
    "start_time": "2021-11-12T12:43:48.355Z"
   },
   {
    "duration": 7,
    "start_time": "2021-11-12T12:44:17.123Z"
   },
   {
    "duration": 6,
    "start_time": "2021-11-12T12:44:21.290Z"
   },
   {
    "duration": 4,
    "start_time": "2021-11-12T12:45:06.027Z"
   },
   {
    "duration": 6,
    "start_time": "2021-11-12T12:46:15.113Z"
   },
   {
    "duration": 105,
    "start_time": "2021-11-12T12:46:17.724Z"
   },
   {
    "duration": 5,
    "start_time": "2021-11-12T12:47:07.560Z"
   },
   {
    "duration": 9,
    "start_time": "2021-11-12T12:47:17.360Z"
   },
   {
    "duration": 5,
    "start_time": "2021-11-12T12:47:29.256Z"
   },
   {
    "duration": 5,
    "start_time": "2021-11-12T12:50:17.264Z"
   },
   {
    "duration": 4,
    "start_time": "2021-11-12T12:50:32.486Z"
   },
   {
    "duration": 11,
    "start_time": "2021-11-12T12:50:33.750Z"
   },
   {
    "duration": 5,
    "start_time": "2021-11-12T12:50:37.758Z"
   },
   {
    "duration": 1155,
    "start_time": "2021-11-12T12:50:48.285Z"
   },
   {
    "duration": 3,
    "start_time": "2021-11-12T12:50:49.442Z"
   },
   {
    "duration": 497,
    "start_time": "2021-11-12T12:50:49.447Z"
   },
   {
    "duration": -36136,
    "start_time": "2021-11-12T12:51:26.082Z"
   },
   {
    "duration": -36137,
    "start_time": "2021-11-12T12:51:26.084Z"
   },
   {
    "duration": -36137,
    "start_time": "2021-11-12T12:51:26.085Z"
   },
   {
    "duration": -36212,
    "start_time": "2021-11-12T12:51:26.162Z"
   },
   {
    "duration": -36214,
    "start_time": "2021-11-12T12:51:26.165Z"
   },
   {
    "duration": -36214,
    "start_time": "2021-11-12T12:51:26.166Z"
   },
   {
    "duration": -36215,
    "start_time": "2021-11-12T12:51:26.168Z"
   },
   {
    "duration": -36215,
    "start_time": "2021-11-12T12:51:26.169Z"
   },
   {
    "duration": 1053,
    "start_time": "2021-11-12T12:51:01.665Z"
   },
   {
    "duration": 3,
    "start_time": "2021-11-12T12:51:02.720Z"
   },
   {
    "duration": 463,
    "start_time": "2021-11-12T12:51:02.725Z"
   },
   {
    "duration": -36143,
    "start_time": "2021-11-12T12:51:39.334Z"
   },
   {
    "duration": -36144,
    "start_time": "2021-11-12T12:51:39.336Z"
   },
   {
    "duration": -36145,
    "start_time": "2021-11-12T12:51:39.338Z"
   },
   {
    "duration": -36220,
    "start_time": "2021-11-12T12:51:39.414Z"
   },
   {
    "duration": -36224,
    "start_time": "2021-11-12T12:51:39.419Z"
   },
   {
    "duration": -36225,
    "start_time": "2021-11-12T12:51:39.421Z"
   },
   {
    "duration": -36227,
    "start_time": "2021-11-12T12:51:39.424Z"
   },
   {
    "duration": -36227,
    "start_time": "2021-11-12T12:51:39.425Z"
   },
   {
    "duration": 1197,
    "start_time": "2021-11-12T12:51:33.434Z"
   },
   {
    "duration": 37,
    "start_time": "2021-11-12T12:51:34.633Z"
   },
   {
    "duration": 5,
    "start_time": "2021-11-12T12:51:34.672Z"
   },
   {
    "duration": 474,
    "start_time": "2021-11-12T12:51:34.678Z"
   },
   {
    "duration": -36136,
    "start_time": "2021-11-12T12:52:11.290Z"
   },
   {
    "duration": -36137,
    "start_time": "2021-11-12T12:52:11.292Z"
   },
   {
    "duration": 3,
    "start_time": "2021-11-12T12:51:55.850Z"
   },
   {
    "duration": 13,
    "start_time": "2021-11-12T12:51:58.017Z"
   },
   {
    "duration": 4,
    "start_time": "2021-11-12T12:51:58.520Z"
   },
   {
    "duration": 147,
    "start_time": "2021-11-12T12:52:36.426Z"
   },
   {
    "duration": 6,
    "start_time": "2021-11-12T12:52:46.640Z"
   },
   {
    "duration": 679,
    "start_time": "2021-11-12T12:53:04.417Z"
   },
   {
    "duration": 5,
    "start_time": "2021-11-12T12:53:44.592Z"
   },
   {
    "duration": 4,
    "start_time": "2021-11-12T12:54:00.695Z"
   },
   {
    "duration": 3,
    "start_time": "2021-11-12T12:54:03.024Z"
   },
   {
    "duration": 379,
    "start_time": "2021-11-12T12:54:10.583Z"
   },
   {
    "duration": 4,
    "start_time": "2021-11-12T12:54:41.313Z"
   },
   {
    "duration": 348,
    "start_time": "2021-11-12T12:54:43.110Z"
   },
   {
    "duration": 118,
    "start_time": "2021-11-12T12:55:02.583Z"
   },
   {
    "duration": 15,
    "start_time": "2021-11-12T12:55:08.279Z"
   },
   {
    "duration": 4,
    "start_time": "2021-11-12T12:55:23.951Z"
   },
   {
    "duration": 11,
    "start_time": "2021-11-12T12:55:25.992Z"
   },
   {
    "duration": 5,
    "start_time": "2021-11-12T12:55:29.513Z"
   },
   {
    "duration": 4,
    "start_time": "2021-11-12T12:55:32.855Z"
   },
   {
    "duration": 359,
    "start_time": "2021-11-12T12:55:39.191Z"
   },
   {
    "duration": 4,
    "start_time": "2021-11-12T12:55:47.166Z"
   },
   {
    "duration": 13,
    "start_time": "2021-11-12T12:56:31.862Z"
   },
   {
    "duration": 6,
    "start_time": "2021-11-12T13:01:40.236Z"
   },
   {
    "duration": 4042,
    "start_time": "2021-11-12T13:02:11.891Z"
   },
   {
    "duration": 56,
    "start_time": "2021-11-12T13:02:39.156Z"
   },
   {
    "duration": 4,
    "start_time": "2021-11-12T13:03:51.522Z"
   },
   {
    "duration": 19,
    "start_time": "2021-11-12T13:03:54.012Z"
   },
   {
    "duration": 413,
    "start_time": "2021-11-12T13:04:05.242Z"
   },
   {
    "duration": 41,
    "start_time": "2021-11-12T13:04:09.571Z"
   },
   {
    "duration": 4,
    "start_time": "2021-11-12T13:04:57.626Z"
   },
   {
    "duration": 91,
    "start_time": "2021-11-12T13:04:59.121Z"
   },
   {
    "duration": 5,
    "start_time": "2021-11-12T13:05:12.593Z"
   },
   {
    "duration": 386,
    "start_time": "2021-11-12T13:05:13.153Z"
   },
   {
    "duration": 4,
    "start_time": "2021-11-12T13:06:08.224Z"
   },
   {
    "duration": 5,
    "start_time": "2021-11-12T13:06:56.206Z"
   },
   {
    "duration": 30,
    "start_time": "2021-11-12T13:06:56.214Z"
   },
   {
    "duration": 35,
    "start_time": "2021-11-12T13:07:20.472Z"
   },
   {
    "duration": 3,
    "start_time": "2021-11-12T13:09:20.638Z"
   },
   {
    "duration": 23,
    "start_time": "2021-11-12T13:11:17.910Z"
   },
   {
    "duration": 20,
    "start_time": "2021-11-12T13:11:20.400Z"
   },
   {
    "duration": 13,
    "start_time": "2021-11-12T13:11:22.390Z"
   },
   {
    "duration": 8,
    "start_time": "2021-11-12T13:25:46.193Z"
   },
   {
    "duration": 5,
    "start_time": "2021-11-12T13:27:43.149Z"
   },
   {
    "duration": 5,
    "start_time": "2021-11-12T13:28:24.051Z"
   },
   {
    "duration": 10,
    "start_time": "2021-11-12T13:28:27.069Z"
   },
   {
    "duration": 36,
    "start_time": "2021-11-12T13:31:48.396Z"
   },
   {
    "duration": 8,
    "start_time": "2021-11-12T13:32:31.675Z"
   },
   {
    "duration": 1078,
    "start_time": "2021-11-12T13:33:36.764Z"
   },
   {
    "duration": 37,
    "start_time": "2021-11-12T13:33:37.844Z"
   },
   {
    "duration": 4,
    "start_time": "2021-11-12T13:33:37.883Z"
   },
   {
    "duration": 22,
    "start_time": "2021-11-12T13:33:37.890Z"
   },
   {
    "duration": 13,
    "start_time": "2021-11-12T13:33:37.914Z"
   },
   {
    "duration": 79,
    "start_time": "2021-11-12T13:33:37.929Z"
   },
   {
    "duration": 100,
    "start_time": "2021-11-12T13:33:38.011Z"
   },
   {
    "duration": 4,
    "start_time": "2021-11-12T13:34:04.525Z"
   },
   {
    "duration": 8,
    "start_time": "2021-11-12T13:34:06.937Z"
   },
   {
    "duration": 1151,
    "start_time": "2021-11-12T13:35:11.286Z"
   },
   {
    "duration": 41,
    "start_time": "2021-11-12T13:35:12.439Z"
   },
   {
    "duration": 5,
    "start_time": "2021-11-12T13:35:12.483Z"
   },
   {
    "duration": 32,
    "start_time": "2021-11-12T13:35:12.490Z"
   },
   {
    "duration": 12,
    "start_time": "2021-11-12T13:35:12.524Z"
   },
   {
    "duration": 15,
    "start_time": "2021-11-12T13:35:12.538Z"
   },
   {
    "duration": 59,
    "start_time": "2021-11-12T13:35:12.555Z"
   },
   {
    "duration": 1130,
    "start_time": "2021-11-12T13:35:47.356Z"
   },
   {
    "duration": 40,
    "start_time": "2021-11-12T13:35:48.489Z"
   },
   {
    "duration": 5,
    "start_time": "2021-11-12T13:35:48.532Z"
   },
   {
    "duration": 31,
    "start_time": "2021-11-12T13:35:48.539Z"
   },
   {
    "duration": 18,
    "start_time": "2021-11-12T13:35:48.572Z"
   },
   {
    "duration": 25,
    "start_time": "2021-11-12T13:35:48.592Z"
   },
   {
    "duration": 94,
    "start_time": "2021-11-12T13:35:48.620Z"
   },
   {
    "duration": 1083,
    "start_time": "2021-11-12T13:36:05.961Z"
   },
   {
    "duration": 37,
    "start_time": "2021-11-12T13:36:07.046Z"
   },
   {
    "duration": 4,
    "start_time": "2021-11-12T13:36:07.085Z"
   },
   {
    "duration": 19,
    "start_time": "2021-11-12T13:36:07.091Z"
   },
   {
    "duration": 12,
    "start_time": "2021-11-12T13:36:07.112Z"
   },
   {
    "duration": 86,
    "start_time": "2021-11-12T13:36:07.127Z"
   },
   {
    "duration": 11,
    "start_time": "2021-11-12T13:36:07.215Z"
   },
   {
    "duration": 8,
    "start_time": "2021-11-12T13:39:13.589Z"
   },
   {
    "duration": 7,
    "start_time": "2021-11-12T13:39:25.812Z"
   },
   {
    "duration": 3,
    "start_time": "2021-11-12T13:42:16.985Z"
   },
   {
    "duration": 8,
    "start_time": "2021-11-12T13:42:42.954Z"
   },
   {
    "duration": 9,
    "start_time": "2021-11-12T13:43:12.788Z"
   },
   {
    "duration": 9,
    "start_time": "2021-11-12T13:44:11.961Z"
   },
   {
    "duration": 8,
    "start_time": "2021-11-12T13:44:14.115Z"
   },
   {
    "duration": 455,
    "start_time": "2021-11-12T13:48:34.150Z"
   },
   {
    "duration": 5,
    "start_time": "2021-11-12T13:48:40.414Z"
   },
   {
    "duration": 6,
    "start_time": "2021-11-12T13:48:51.095Z"
   },
   {
    "duration": 24,
    "start_time": "2021-11-12T13:50:05.100Z"
   },
   {
    "duration": 26,
    "start_time": "2021-11-12T13:50:13.504Z"
   },
   {
    "duration": 3,
    "start_time": "2021-11-12T14:18:41.910Z"
   },
   {
    "duration": 4,
    "start_time": "2021-11-12T14:18:45.334Z"
   },
   {
    "duration": 3,
    "start_time": "2021-11-12T14:19:50.989Z"
   },
   {
    "duration": 4,
    "start_time": "2021-11-12T14:19:54.261Z"
   },
   {
    "duration": 3,
    "start_time": "2021-11-12T14:20:14.878Z"
   },
   {
    "duration": 4,
    "start_time": "2021-11-12T14:20:18.620Z"
   },
   {
    "duration": 406,
    "start_time": "2021-11-12T14:20:31.517Z"
   },
   {
    "duration": 4,
    "start_time": "2021-11-12T14:20:46.157Z"
   },
   {
    "duration": 5,
    "start_time": "2021-11-12T14:20:53.719Z"
   },
   {
    "duration": 13,
    "start_time": "2021-11-12T15:58:05.186Z"
   },
   {
    "duration": 1156,
    "start_time": "2021-11-12T15:58:15.495Z"
   },
   {
    "duration": 34,
    "start_time": "2021-11-12T15:58:16.653Z"
   },
   {
    "duration": 31,
    "start_time": "2021-11-12T15:58:16.689Z"
   },
   {
    "duration": 5,
    "start_time": "2021-11-12T15:58:16.722Z"
   },
   {
    "duration": 14,
    "start_time": "2021-11-12T15:58:16.728Z"
   },
   {
    "duration": 7,
    "start_time": "2021-11-12T15:58:16.743Z"
   },
   {
    "duration": 60,
    "start_time": "2021-11-12T15:58:16.751Z"
   },
   {
    "duration": 92,
    "start_time": "2021-11-12T15:58:16.814Z"
   },
   {
    "duration": 3,
    "start_time": "2021-11-12T15:58:16.908Z"
   },
   {
    "duration": 160,
    "start_time": "2021-11-12T15:58:16.913Z"
   },
   {
    "duration": -36243,
    "start_time": "2021-11-12T15:58:53.317Z"
   },
   {
    "duration": -36243,
    "start_time": "2021-11-12T15:58:53.319Z"
   },
   {
    "duration": -36246,
    "start_time": "2021-11-12T15:58:53.322Z"
   },
   {
    "duration": -36260,
    "start_time": "2021-11-12T15:58:53.337Z"
   },
   {
    "duration": -36323,
    "start_time": "2021-11-12T15:58:53.401Z"
   },
   {
    "duration": 9,
    "start_time": "2021-11-12T15:58:29.138Z"
   },
   {
    "duration": 8,
    "start_time": "2021-11-12T15:58:37.831Z"
   },
   {
    "duration": 8,
    "start_time": "2021-11-12T15:58:45.017Z"
   },
   {
    "duration": 8,
    "start_time": "2021-11-12T15:58:51.063Z"
   },
   {
    "duration": 10,
    "start_time": "2021-11-12T16:00:15.679Z"
   },
   {
    "duration": 8,
    "start_time": "2021-11-12T16:00:16.807Z"
   },
   {
    "duration": 7,
    "start_time": "2021-11-12T16:00:17.501Z"
   },
   {
    "duration": 14,
    "start_time": "2021-11-12T16:01:03.188Z"
   },
   {
    "duration": 7,
    "start_time": "2021-11-12T16:01:05.192Z"
   },
   {
    "duration": 7,
    "start_time": "2021-11-12T16:01:07.463Z"
   },
   {
    "duration": 6,
    "start_time": "2021-11-12T16:01:51.366Z"
   },
   {
    "duration": 8,
    "start_time": "2021-11-12T16:01:52.344Z"
   },
   {
    "duration": 438,
    "start_time": "2021-11-12T16:01:53.199Z"
   },
   {
    "duration": 5,
    "start_time": "2021-11-12T16:02:21.273Z"
   },
   {
    "duration": 9,
    "start_time": "2021-11-12T16:02:21.674Z"
   },
   {
    "duration": 7,
    "start_time": "2021-11-12T16:02:22.281Z"
   },
   {
    "duration": 1371,
    "start_time": "2021-11-12T21:05:00.124Z"
   },
   {
    "duration": 47,
    "start_time": "2021-11-12T21:05:03.641Z"
   },
   {
    "duration": 9,
    "start_time": "2021-11-12T21:05:34.302Z"
   },
   {
    "duration": 376,
    "start_time": "2021-11-12T21:48:10.694Z"
   },
   {
    "duration": 1481,
    "start_time": "2021-11-12T21:48:27.228Z"
   },
   {
    "duration": 47,
    "start_time": "2021-11-12T21:48:28.712Z"
   },
   {
    "duration": 43,
    "start_time": "2021-11-12T21:48:28.767Z"
   },
   {
    "duration": 8,
    "start_time": "2021-11-12T21:48:28.812Z"
   },
   {
    "duration": 7,
    "start_time": "2021-11-12T21:48:28.823Z"
   },
   {
    "duration": 46,
    "start_time": "2021-11-12T21:48:28.832Z"
   },
   {
    "duration": 13,
    "start_time": "2021-11-12T21:48:28.882Z"
   },
   {
    "duration": 85,
    "start_time": "2021-11-12T21:48:28.900Z"
   },
   {
    "duration": 96,
    "start_time": "2021-11-12T21:48:28.988Z"
   },
   {
    "duration": 82,
    "start_time": "2021-11-12T21:49:10.557Z"
   },
   {
    "duration": 92,
    "start_time": "2021-11-12T21:49:21.477Z"
   },
   {
    "duration": 12,
    "start_time": "2021-11-12T21:49:34.184Z"
   },
   {
    "duration": 11,
    "start_time": "2021-11-12T21:49:55.858Z"
   },
   {
    "duration": 10,
    "start_time": "2021-11-12T21:50:34.573Z"
   },
   {
    "duration": 12,
    "start_time": "2021-11-12T21:50:52.258Z"
   },
   {
    "duration": 12,
    "start_time": "2021-11-12T21:52:31.065Z"
   },
   {
    "duration": 11,
    "start_time": "2021-11-12T21:52:34.216Z"
   },
   {
    "duration": 11,
    "start_time": "2021-11-12T21:52:36.615Z"
   },
   {
    "duration": 6,
    "start_time": "2021-11-12T21:53:40.336Z"
   },
   {
    "duration": 4,
    "start_time": "2021-11-12T22:17:58.685Z"
   },
   {
    "duration": 5,
    "start_time": "2021-11-12T22:22:49.066Z"
   },
   {
    "duration": 4,
    "start_time": "2021-11-12T22:23:23.777Z"
   },
   {
    "duration": 5,
    "start_time": "2021-11-12T22:23:30.300Z"
   },
   {
    "duration": 8,
    "start_time": "2021-11-12T22:23:43.260Z"
   },
   {
    "duration": 8,
    "start_time": "2021-11-12T22:23:55.878Z"
   },
   {
    "duration": 8,
    "start_time": "2021-11-12T22:23:59.043Z"
   },
   {
    "duration": 12,
    "start_time": "2021-11-12T22:24:01.621Z"
   },
   {
    "duration": 6,
    "start_time": "2021-11-12T22:25:24.470Z"
   },
   {
    "duration": 3,
    "start_time": "2021-11-12T22:25:25.998Z"
   },
   {
    "duration": 804,
    "start_time": "2021-11-12T22:25:26.747Z"
   },
   {
    "duration": 5,
    "start_time": "2021-11-12T22:26:48.950Z"
   },
   {
    "duration": 4,
    "start_time": "2021-11-12T22:26:49.564Z"
   },
   {
    "duration": 747,
    "start_time": "2021-11-12T22:26:50.134Z"
   },
   {
    "duration": 5,
    "start_time": "2021-11-12T22:27:21.469Z"
   },
   {
    "duration": 4,
    "start_time": "2021-11-12T22:27:22.596Z"
   },
   {
    "duration": 6,
    "start_time": "2021-11-12T22:27:23.000Z"
   },
   {
    "duration": 5,
    "start_time": "2021-11-12T22:28:31.732Z"
   },
   {
    "duration": 3,
    "start_time": "2021-11-12T22:28:32.241Z"
   },
   {
    "duration": 16,
    "start_time": "2021-11-12T22:28:32.797Z"
   },
   {
    "duration": 16,
    "start_time": "2021-11-12T22:29:05.017Z"
   },
   {
    "duration": 5,
    "start_time": "2021-11-12T22:29:39.458Z"
   },
   {
    "duration": 4,
    "start_time": "2021-11-12T22:29:40.012Z"
   },
   {
    "duration": 16,
    "start_time": "2021-11-12T22:29:40.666Z"
   },
   {
    "duration": 53,
    "start_time": "2021-11-12T22:30:17.814Z"
   },
   {
    "duration": 273,
    "start_time": "2021-11-12T22:32:47.006Z"
   },
   {
    "duration": 5,
    "start_time": "2021-11-12T22:32:51.567Z"
   },
   {
    "duration": 3,
    "start_time": "2021-11-12T22:32:53.051Z"
   },
   {
    "duration": 25,
    "start_time": "2021-11-12T22:32:53.560Z"
   },
   {
    "duration": 4,
    "start_time": "2021-11-12T22:34:34.288Z"
   },
   {
    "duration": 3,
    "start_time": "2021-11-12T22:36:07.230Z"
   },
   {
    "duration": 4,
    "start_time": "2021-11-12T22:37:14.776Z"
   },
   {
    "duration": 4,
    "start_time": "2021-11-12T22:37:56.626Z"
   },
   {
    "duration": 3,
    "start_time": "2021-11-12T22:37:57.256Z"
   },
   {
    "duration": 5,
    "start_time": "2021-11-12T22:38:27.481Z"
   },
   {
    "duration": 3,
    "start_time": "2021-11-12T22:38:29.535Z"
   },
   {
    "duration": 128,
    "start_time": "2021-11-12T22:38:30.121Z"
   },
   {
    "duration": 284,
    "start_time": "2021-11-12T22:38:38.850Z"
   },
   {
    "duration": 14,
    "start_time": "2021-11-12T22:39:35.763Z"
   },
   {
    "duration": 5,
    "start_time": "2021-11-12T22:39:49.367Z"
   },
   {
    "duration": 3,
    "start_time": "2021-11-12T22:39:50.149Z"
   },
   {
    "duration": 12,
    "start_time": "2021-11-12T22:39:50.720Z"
   },
   {
    "duration": 12,
    "start_time": "2021-11-12T22:40:39.168Z"
   },
   {
    "duration": 5,
    "start_time": "2021-11-12T22:43:09.411Z"
   },
   {
    "duration": 3,
    "start_time": "2021-11-12T22:43:09.891Z"
   },
   {
    "duration": 10,
    "start_time": "2021-11-12T22:43:20.736Z"
   },
   {
    "duration": 11,
    "start_time": "2021-11-12T22:43:38.812Z"
   },
   {
    "duration": 2064,
    "start_time": "2021-11-12T22:43:51.413Z"
   },
   {
    "duration": 48,
    "start_time": "2021-11-12T22:43:53.479Z"
   },
   {
    "duration": 52,
    "start_time": "2021-11-12T22:43:53.530Z"
   },
   {
    "duration": 7,
    "start_time": "2021-11-12T22:43:53.585Z"
   },
   {
    "duration": 8,
    "start_time": "2021-11-12T22:43:53.595Z"
   },
   {
    "duration": 17,
    "start_time": "2021-11-12T22:43:53.605Z"
   },
   {
    "duration": 45,
    "start_time": "2021-11-12T22:43:53.625Z"
   },
   {
    "duration": 93,
    "start_time": "2021-11-12T22:43:53.675Z"
   },
   {
    "duration": 10,
    "start_time": "2021-11-12T22:43:53.770Z"
   },
   {
    "duration": 17,
    "start_time": "2021-11-12T22:43:53.783Z"
   },
   {
    "duration": 73,
    "start_time": "2021-11-12T22:43:53.803Z"
   },
   {
    "duration": 89,
    "start_time": "2021-11-12T22:43:53.880Z"
   },
   {
    "duration": 17,
    "start_time": "2021-11-12T22:43:53.972Z"
   },
   {
    "duration": 4,
    "start_time": "2021-11-12T22:45:58.120Z"
   },
   {
    "duration": 7,
    "start_time": "2021-11-12T22:45:58.659Z"
   },
   {
    "duration": 13,
    "start_time": "2021-11-12T22:45:59.244Z"
   },
   {
    "duration": 10,
    "start_time": "2021-11-12T22:46:39.956Z"
   },
   {
    "duration": 116,
    "start_time": "2021-11-12T22:48:18.372Z"
   },
   {
    "duration": 5,
    "start_time": "2021-11-12T22:48:24.703Z"
   },
   {
    "duration": 409,
    "start_time": "2021-11-12T22:48:26.368Z"
   },
   {
    "duration": 518,
    "start_time": "2021-11-12T22:48:34.303Z"
   },
   {
    "duration": 4,
    "start_time": "2021-11-12T22:49:09.448Z"
   },
   {
    "duration": 6,
    "start_time": "2021-11-12T22:49:10.319Z"
   },
   {
    "duration": 11,
    "start_time": "2021-11-12T22:49:11.953Z"
   },
   {
    "duration": 5,
    "start_time": "2021-11-12T22:51:51.376Z"
   },
   {
    "duration": 283,
    "start_time": "2021-11-12T22:51:56.132Z"
   },
   {
    "duration": 6,
    "start_time": "2021-11-12T22:52:01.471Z"
   },
   {
    "duration": 11,
    "start_time": "2021-11-12T22:52:02.670Z"
   },
   {
    "duration": 1313,
    "start_time": "2021-11-12T22:52:22.273Z"
   },
   {
    "duration": 49,
    "start_time": "2021-11-12T22:52:23.589Z"
   },
   {
    "duration": 51,
    "start_time": "2021-11-12T22:52:23.642Z"
   },
   {
    "duration": 8,
    "start_time": "2021-11-12T22:52:23.696Z"
   },
   {
    "duration": 14,
    "start_time": "2021-11-12T22:52:23.707Z"
   },
   {
    "duration": 17,
    "start_time": "2021-11-12T22:52:23.724Z"
   },
   {
    "duration": 28,
    "start_time": "2021-11-12T22:52:23.744Z"
   },
   {
    "duration": 93,
    "start_time": "2021-11-12T22:52:23.776Z"
   },
   {
    "duration": 94,
    "start_time": "2021-11-12T22:52:23.873Z"
   },
   {
    "duration": 8,
    "start_time": "2021-11-12T22:52:23.969Z"
   },
   {
    "duration": 7,
    "start_time": "2021-11-12T22:52:23.980Z"
   },
   {
    "duration": 7,
    "start_time": "2021-11-12T22:52:24.068Z"
   },
   {
    "duration": 92,
    "start_time": "2021-11-12T22:52:24.078Z"
   },
   {
    "duration": 5,
    "start_time": "2021-11-12T22:52:41.917Z"
   },
   {
    "duration": 6,
    "start_time": "2021-11-12T22:52:42.438Z"
   },
   {
    "duration": 10,
    "start_time": "2021-11-12T22:52:42.970Z"
   },
   {
    "duration": 11,
    "start_time": "2021-11-12T22:54:20.691Z"
   },
   {
    "duration": 15,
    "start_time": "2021-11-12T22:56:47.288Z"
   },
   {
    "duration": 17,
    "start_time": "2021-11-12T22:56:59.199Z"
   },
   {
    "duration": 1323,
    "start_time": "2021-11-12T23:05:51.261Z"
   },
   {
    "duration": 45,
    "start_time": "2021-11-12T23:05:52.586Z"
   },
   {
    "duration": 51,
    "start_time": "2021-11-12T23:05:52.634Z"
   },
   {
    "duration": 8,
    "start_time": "2021-11-12T23:05:52.688Z"
   },
   {
    "duration": 6,
    "start_time": "2021-11-12T23:05:52.698Z"
   },
   {
    "duration": 18,
    "start_time": "2021-11-12T23:05:52.707Z"
   },
   {
    "duration": 42,
    "start_time": "2021-11-12T23:05:52.728Z"
   },
   {
    "duration": 12,
    "start_time": "2021-11-12T23:05:52.774Z"
   },
   {
    "duration": 10,
    "start_time": "2021-11-12T23:05:52.869Z"
   },
   {
    "duration": 11,
    "start_time": "2021-11-12T23:05:52.881Z"
   },
   {
    "duration": 73,
    "start_time": "2021-11-12T23:05:52.894Z"
   },
   {
    "duration": 5,
    "start_time": "2021-11-12T23:05:52.970Z"
   },
   {
    "duration": 99,
    "start_time": "2021-11-12T23:05:52.978Z"
   },
   {
    "duration": 96,
    "start_time": "2021-11-12T23:05:53.080Z"
   },
   {
    "duration": 11,
    "start_time": "2021-11-12T23:05:53.178Z"
   },
   {
    "duration": 9,
    "start_time": "2021-11-12T23:05:53.192Z"
   },
   {
    "duration": 232,
    "start_time": "2021-11-13T00:46:55.054Z"
   },
   {
    "duration": 82530,
    "start_time": "2021-11-13T00:47:09.642Z"
   },
   {
    "duration": 83,
    "start_time": "2021-11-13T00:48:56.592Z"
   },
   {
    "duration": 7984,
    "start_time": "2021-11-13T00:49:01.063Z"
   },
   {
    "duration": 48849,
    "start_time": "2021-11-13T00:49:11.329Z"
   },
   {
    "duration": 1063061,
    "start_time": "2021-11-13T00:50:00.686Z"
   }
  ],
  "kernelspec": {
   "display_name": "Python 3 (ipykernel)",
   "language": "python",
   "name": "python3"
  },
  "language_info": {
   "codemirror_mode": {
    "name": "ipython",
    "version": 3
   },
   "file_extension": ".py",
   "mimetype": "text/x-python",
   "name": "python",
   "nbconvert_exporter": "python",
   "pygments_lexer": "ipython3",
   "version": "3.10.5"
  },
  "toc": {
   "base_numbering": 1,
   "nav_menu": {},
   "number_sections": true,
   "sideBar": true,
   "skip_h1_title": true,
   "title_cell": "Содержание",
   "title_sidebar": "Contents",
   "toc_cell": true,
   "toc_position": {},
   "toc_section_display": true,
   "toc_window_display": true
  }
 },
 "nbformat": 4,
 "nbformat_minor": 2
}
