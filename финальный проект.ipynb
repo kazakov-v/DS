{
 "cells": [
  {
   "cell_type": "markdown",
   "metadata": {},
   "source": [
    "\n",
    "# Промышленность — задача проекта\n",
    "\n",
    "Чтобы оптимизировать производственные расходы, металлургический комбинат ООО «Так закаляем сталь» решил уменьшить потребление электроэнергии на этапе обработки стали. Вам предстоит построить модель, которая предскажет температуру стали.\n",
    "\n",
    "### Описание этапа обработки\n",
    "\n",
    "Сталь обрабатывают в металлическом ковше вместимостью около 100 тонн. Чтобы ковш выдерживал высокие температуры, изнутри его облицовывают огнеупорным кирпичом. Расплавленную сталь заливают в ковш и подогревают до нужной температуры графитовыми электродами. Они установлены в крышке ковша. \n",
    "\n",
    "Из сплава выводится сера (десульфурация), добавлением примесей корректируется химический состав и отбираются пробы. Сталь легируют — изменяют её состав — подавая куски сплава из бункера для сыпучих материалов или проволоку через специальный трайб-аппарат (англ. tribe, «масса»).\n",
    "\n",
    "Перед тем как первый раз ввести легирующие добавки, измеряют температуру стали и производят её химический анализ. Потом температуру на несколько минут повышают, добавляют легирующие материалы и продувают сплав инертным газом. Затем его перемешивают и снова проводят измерения. Такой цикл повторяется до достижения целевого химического состава и оптимальной температуры плавки.\n",
    "\n",
    "Тогда расплавленная сталь отправляется на доводку металла или поступает в машину непрерывной разливки. Оттуда готовый продукт выходит в виде заготовок-слябов (англ. *slab*, «плита»).\n",
    "\n",
    "### Описание данных\n",
    "\n",
    "Данные состоят из файлов, полученных из разных источников:\n",
    "\n",
    "- `data_arc.csv` — данные об электродах;\n",
    "- `data_bulk.csv` — данные о подаче сыпучих материалов (объём);\n",
    "- `data_bulk_time.csv` *—* данные о подаче сыпучих материалов (время);\n",
    "- `data_gas.csv` — данные о продувке сплава газом;\n",
    "- `data_temp.csv` — результаты измерения температуры;\n",
    "- `data_wire.csv` — данные о проволочных материалах (объём);\n",
    "- `data_wire_time.csv` — данные о проволочных материалах (время).\n",
    "\n",
    "Во всех файлах столбец `key` содержит номер партии. В файлах может быть несколько строк с одинаковым значением `key`: они соответствуют разным итерациям обработки.\n"
   ]
  },
  {
   "cell_type": "code",
   "execution_count": 1,
   "metadata": {},
   "outputs": [],
   "source": [
    "import pandas as pd\n",
    "import numpy as np\n",
    "from matplotlib import pyplot as plt\n",
    "import warnings\n",
    "warnings.filterwarnings(\"ignore\", category=np.VisibleDeprecationWarning) "
   ]
  },
  {
   "cell_type": "markdown",
   "metadata": {},
   "source": [
    "---\n",
    "### Предобработка исходных данных   \n"
   ]
  },
  {
   "cell_type": "markdown",
   "metadata": {},
   "source": [
    "---\n",
    "#### Данные об электродах:"
   ]
  },
  {
   "cell_type": "code",
   "execution_count": 2,
   "metadata": {},
   "outputs": [
    {
     "name": "stdout",
     "output_type": "stream",
     "text": [
      "<class 'pandas.core.frame.DataFrame'>\n",
      "RangeIndex: 14876 entries, 0 to 14875\n",
      "Data columns (total 5 columns):\n",
      "key                     14876 non-null int64\n",
      "Начало нагрева дугой    14876 non-null datetime64[ns]\n",
      "Конец нагрева дугой     14876 non-null datetime64[ns]\n",
      "Активная мощность       14876 non-null float64\n",
      "Реактивная мощность     14876 non-null float64\n",
      "dtypes: datetime64[ns](2), float64(2), int64(1)\n",
      "memory usage: 581.2 KB\n"
     ]
    },
    {
     "data": {
      "text/html": [
       "<div>\n",
       "<style scoped>\n",
       "    .dataframe tbody tr th:only-of-type {\n",
       "        vertical-align: middle;\n",
       "    }\n",
       "\n",
       "    .dataframe tbody tr th {\n",
       "        vertical-align: top;\n",
       "    }\n",
       "\n",
       "    .dataframe thead th {\n",
       "        text-align: right;\n",
       "    }\n",
       "</style>\n",
       "<table border=\"1\" class=\"dataframe\">\n",
       "  <thead>\n",
       "    <tr style=\"text-align: right;\">\n",
       "      <th></th>\n",
       "      <th>key</th>\n",
       "      <th>Начало нагрева дугой</th>\n",
       "      <th>Конец нагрева дугой</th>\n",
       "      <th>Активная мощность</th>\n",
       "      <th>Реактивная мощность</th>\n",
       "    </tr>\n",
       "  </thead>\n",
       "  <tbody>\n",
       "    <tr>\n",
       "      <td>0</td>\n",
       "      <td>1</td>\n",
       "      <td>2019-05-03 11:02:14</td>\n",
       "      <td>2019-05-03 11:06:02</td>\n",
       "      <td>0.976059</td>\n",
       "      <td>0.687084</td>\n",
       "    </tr>\n",
       "    <tr>\n",
       "      <td>1</td>\n",
       "      <td>1</td>\n",
       "      <td>2019-05-03 11:07:28</td>\n",
       "      <td>2019-05-03 11:10:33</td>\n",
       "      <td>0.805607</td>\n",
       "      <td>0.520285</td>\n",
       "    </tr>\n",
       "    <tr>\n",
       "      <td>2</td>\n",
       "      <td>1</td>\n",
       "      <td>2019-05-03 11:11:44</td>\n",
       "      <td>2019-05-03 11:14:36</td>\n",
       "      <td>0.744363</td>\n",
       "      <td>0.498805</td>\n",
       "    </tr>\n",
       "    <tr>\n",
       "      <td>3</td>\n",
       "      <td>1</td>\n",
       "      <td>2019-05-03 11:18:14</td>\n",
       "      <td>2019-05-03 11:24:19</td>\n",
       "      <td>1.659363</td>\n",
       "      <td>1.062669</td>\n",
       "    </tr>\n",
       "    <tr>\n",
       "      <td>4</td>\n",
       "      <td>1</td>\n",
       "      <td>2019-05-03 11:26:09</td>\n",
       "      <td>2019-05-03 11:28:37</td>\n",
       "      <td>0.692755</td>\n",
       "      <td>0.414397</td>\n",
       "    </tr>\n",
       "    <tr>\n",
       "      <td>...</td>\n",
       "      <td>...</td>\n",
       "      <td>...</td>\n",
       "      <td>...</td>\n",
       "      <td>...</td>\n",
       "      <td>...</td>\n",
       "    </tr>\n",
       "    <tr>\n",
       "      <td>14871</td>\n",
       "      <td>3241</td>\n",
       "      <td>2019-09-01 03:58:58</td>\n",
       "      <td>2019-09-01 04:01:35</td>\n",
       "      <td>0.533670</td>\n",
       "      <td>0.354439</td>\n",
       "    </tr>\n",
       "    <tr>\n",
       "      <td>14872</td>\n",
       "      <td>3241</td>\n",
       "      <td>2019-09-01 04:05:04</td>\n",
       "      <td>2019-09-01 04:08:04</td>\n",
       "      <td>0.676604</td>\n",
       "      <td>0.523631</td>\n",
       "    </tr>\n",
       "    <tr>\n",
       "      <td>14873</td>\n",
       "      <td>3241</td>\n",
       "      <td>2019-09-01 04:16:41</td>\n",
       "      <td>2019-09-01 04:19:45</td>\n",
       "      <td>0.733899</td>\n",
       "      <td>0.475654</td>\n",
       "    </tr>\n",
       "    <tr>\n",
       "      <td>14874</td>\n",
       "      <td>3241</td>\n",
       "      <td>2019-09-01 04:31:51</td>\n",
       "      <td>2019-09-01 04:32:48</td>\n",
       "      <td>0.220694</td>\n",
       "      <td>0.145768</td>\n",
       "    </tr>\n",
       "    <tr>\n",
       "      <td>14875</td>\n",
       "      <td>3241</td>\n",
       "      <td>2019-09-01 04:34:47</td>\n",
       "      <td>2019-09-01 04:36:08</td>\n",
       "      <td>0.306580</td>\n",
       "      <td>0.196708</td>\n",
       "    </tr>\n",
       "  </tbody>\n",
       "</table>\n",
       "<p>14876 rows × 5 columns</p>\n",
       "</div>"
      ],
      "text/plain": [
       "        key Начало нагрева дугой Конец нагрева дугой  Активная мощность  \\\n",
       "0         1  2019-05-03 11:02:14 2019-05-03 11:06:02           0.976059   \n",
       "1         1  2019-05-03 11:07:28 2019-05-03 11:10:33           0.805607   \n",
       "2         1  2019-05-03 11:11:44 2019-05-03 11:14:36           0.744363   \n",
       "3         1  2019-05-03 11:18:14 2019-05-03 11:24:19           1.659363   \n",
       "4         1  2019-05-03 11:26:09 2019-05-03 11:28:37           0.692755   \n",
       "...     ...                  ...                 ...                ...   \n",
       "14871  3241  2019-09-01 03:58:58 2019-09-01 04:01:35           0.533670   \n",
       "14872  3241  2019-09-01 04:05:04 2019-09-01 04:08:04           0.676604   \n",
       "14873  3241  2019-09-01 04:16:41 2019-09-01 04:19:45           0.733899   \n",
       "14874  3241  2019-09-01 04:31:51 2019-09-01 04:32:48           0.220694   \n",
       "14875  3241  2019-09-01 04:34:47 2019-09-01 04:36:08           0.306580   \n",
       "\n",
       "       Реактивная мощность  \n",
       "0                 0.687084  \n",
       "1                 0.520285  \n",
       "2                 0.498805  \n",
       "3                 1.062669  \n",
       "4                 0.414397  \n",
       "...                    ...  \n",
       "14871             0.354439  \n",
       "14872             0.523631  \n",
       "14873             0.475654  \n",
       "14874             0.145768  \n",
       "14875             0.196708  \n",
       "\n",
       "[14876 rows x 5 columns]"
      ]
     },
     "metadata": {},
     "output_type": "display_data"
    },
    {
     "data": {
      "text/html": [
       "<div>\n",
       "<style scoped>\n",
       "    .dataframe tbody tr th:only-of-type {\n",
       "        vertical-align: middle;\n",
       "    }\n",
       "\n",
       "    .dataframe tbody tr th {\n",
       "        vertical-align: top;\n",
       "    }\n",
       "\n",
       "    .dataframe thead th {\n",
       "        text-align: right;\n",
       "    }\n",
       "</style>\n",
       "<table border=\"1\" class=\"dataframe\">\n",
       "  <thead>\n",
       "    <tr style=\"text-align: right;\">\n",
       "      <th></th>\n",
       "      <th>key</th>\n",
       "      <th>Активная мощность</th>\n",
       "      <th>Реактивная мощность</th>\n",
       "    </tr>\n",
       "  </thead>\n",
       "  <tbody>\n",
       "    <tr>\n",
       "      <td>count</td>\n",
       "      <td>14876.000000</td>\n",
       "      <td>14876.000000</td>\n",
       "      <td>14876.000000</td>\n",
       "    </tr>\n",
       "    <tr>\n",
       "      <td>mean</td>\n",
       "      <td>1615.220422</td>\n",
       "      <td>0.670441</td>\n",
       "      <td>0.452592</td>\n",
       "    </tr>\n",
       "    <tr>\n",
       "      <td>std</td>\n",
       "      <td>934.571502</td>\n",
       "      <td>0.408159</td>\n",
       "      <td>5.878702</td>\n",
       "    </tr>\n",
       "    <tr>\n",
       "      <td>min</td>\n",
       "      <td>1.000000</td>\n",
       "      <td>0.030002</td>\n",
       "      <td>-715.504924</td>\n",
       "    </tr>\n",
       "    <tr>\n",
       "      <td>25%</td>\n",
       "      <td>806.000000</td>\n",
       "      <td>0.395297</td>\n",
       "      <td>0.290991</td>\n",
       "    </tr>\n",
       "    <tr>\n",
       "      <td>50%</td>\n",
       "      <td>1617.000000</td>\n",
       "      <td>0.555517</td>\n",
       "      <td>0.415962</td>\n",
       "    </tr>\n",
       "    <tr>\n",
       "      <td>75%</td>\n",
       "      <td>2429.000000</td>\n",
       "      <td>0.857034</td>\n",
       "      <td>0.637371</td>\n",
       "    </tr>\n",
       "    <tr>\n",
       "      <td>max</td>\n",
       "      <td>3241.000000</td>\n",
       "      <td>3.731596</td>\n",
       "      <td>2.676388</td>\n",
       "    </tr>\n",
       "  </tbody>\n",
       "</table>\n",
       "</div>"
      ],
      "text/plain": [
       "                key  Активная мощность  Реактивная мощность\n",
       "count  14876.000000       14876.000000         14876.000000\n",
       "mean    1615.220422           0.670441             0.452592\n",
       "std      934.571502           0.408159             5.878702\n",
       "min        1.000000           0.030002          -715.504924\n",
       "25%      806.000000           0.395297             0.290991\n",
       "50%     1617.000000           0.555517             0.415962\n",
       "75%     2429.000000           0.857034             0.637371\n",
       "max     3241.000000           3.731596             2.676388"
      ]
     },
     "execution_count": 2,
     "metadata": {},
     "output_type": "execute_result"
    }
   ],
   "source": [
    "data_arc = pd.read_csv('/datasets/final_steel/data_arc.csv',\n",
    "                      converters={'Начало нагрева дугой': pd.to_datetime,\n",
    "                                  'Конец нагрева дугой' : pd.to_datetime})\n",
    "data_arc.info()\n",
    "display(data_arc)\n",
    "data_arc.describe()\n"
   ]
  },
  {
   "cell_type": "markdown",
   "metadata": {},
   "source": [
    "Очевидный выброс реактивной мощности -715 заменим на 0.7 величины соответствующей активной мощности:"
   ]
  },
  {
   "cell_type": "code",
   "execution_count": 3,
   "metadata": {},
   "outputs": [
    {
     "data": {
      "text/html": [
       "<div>\n",
       "<style scoped>\n",
       "    .dataframe tbody tr th:only-of-type {\n",
       "        vertical-align: middle;\n",
       "    }\n",
       "\n",
       "    .dataframe tbody tr th {\n",
       "        vertical-align: top;\n",
       "    }\n",
       "\n",
       "    .dataframe thead th {\n",
       "        text-align: right;\n",
       "    }\n",
       "</style>\n",
       "<table border=\"1\" class=\"dataframe\">\n",
       "  <thead>\n",
       "    <tr style=\"text-align: right;\">\n",
       "      <th></th>\n",
       "      <th>key</th>\n",
       "      <th>Начало нагрева дугой</th>\n",
       "      <th>Конец нагрева дугой</th>\n",
       "      <th>Активная мощность</th>\n",
       "      <th>Реактивная мощность</th>\n",
       "    </tr>\n",
       "  </thead>\n",
       "  <tbody>\n",
       "    <tr>\n",
       "      <td>9780</td>\n",
       "      <td>2116</td>\n",
       "      <td>2019-07-24 00:44:48</td>\n",
       "      <td>2019-07-24 00:46:37</td>\n",
       "      <td>0.495782</td>\n",
       "      <td>-715.504924</td>\n",
       "    </tr>\n",
       "  </tbody>\n",
       "</table>\n",
       "</div>"
      ],
      "text/plain": [
       "       key Начало нагрева дугой Конец нагрева дугой  Активная мощность  \\\n",
       "9780  2116  2019-07-24 00:44:48 2019-07-24 00:46:37           0.495782   \n",
       "\n",
       "      Реактивная мощность  \n",
       "9780          -715.504924  "
      ]
     },
     "metadata": {},
     "output_type": "display_data"
    }
   ],
   "source": [
    "display(data_arc.loc[ data_arc['Реактивная мощность'] < 0 , : ])"
   ]
  },
  {
   "cell_type": "code",
   "execution_count": 4,
   "metadata": {},
   "outputs": [
    {
     "data": {
      "text/html": [
       "<div>\n",
       "<style scoped>\n",
       "    .dataframe tbody tr th:only-of-type {\n",
       "        vertical-align: middle;\n",
       "    }\n",
       "\n",
       "    .dataframe tbody tr th {\n",
       "        vertical-align: top;\n",
       "    }\n",
       "\n",
       "    .dataframe thead th {\n",
       "        text-align: right;\n",
       "    }\n",
       "</style>\n",
       "<table border=\"1\" class=\"dataframe\">\n",
       "  <thead>\n",
       "    <tr style=\"text-align: right;\">\n",
       "      <th></th>\n",
       "      <th>key</th>\n",
       "      <th>Активная мощность</th>\n",
       "      <th>Реактивная мощность</th>\n",
       "    </tr>\n",
       "  </thead>\n",
       "  <tbody>\n",
       "    <tr>\n",
       "      <td>count</td>\n",
       "      <td>14876.000000</td>\n",
       "      <td>14876.000000</td>\n",
       "      <td>14876.000000</td>\n",
       "    </tr>\n",
       "    <tr>\n",
       "      <td>mean</td>\n",
       "      <td>1615.220422</td>\n",
       "      <td>0.670441</td>\n",
       "      <td>0.500713</td>\n",
       "    </tr>\n",
       "    <tr>\n",
       "      <td>std</td>\n",
       "      <td>934.571502</td>\n",
       "      <td>0.408159</td>\n",
       "      <td>0.310873</td>\n",
       "    </tr>\n",
       "    <tr>\n",
       "      <td>min</td>\n",
       "      <td>1.000000</td>\n",
       "      <td>0.030002</td>\n",
       "      <td>0.020806</td>\n",
       "    </tr>\n",
       "    <tr>\n",
       "      <td>25%</td>\n",
       "      <td>806.000000</td>\n",
       "      <td>0.395297</td>\n",
       "      <td>0.291008</td>\n",
       "    </tr>\n",
       "    <tr>\n",
       "      <td>50%</td>\n",
       "      <td>1617.000000</td>\n",
       "      <td>0.555517</td>\n",
       "      <td>0.415962</td>\n",
       "    </tr>\n",
       "    <tr>\n",
       "      <td>75%</td>\n",
       "      <td>2429.000000</td>\n",
       "      <td>0.857034</td>\n",
       "      <td>0.637371</td>\n",
       "    </tr>\n",
       "    <tr>\n",
       "      <td>max</td>\n",
       "      <td>3241.000000</td>\n",
       "      <td>3.731596</td>\n",
       "      <td>2.676388</td>\n",
       "    </tr>\n",
       "  </tbody>\n",
       "</table>\n",
       "</div>"
      ],
      "text/plain": [
       "                key  Активная мощность  Реактивная мощность\n",
       "count  14876.000000       14876.000000         14876.000000\n",
       "mean    1615.220422           0.670441             0.500713\n",
       "std      934.571502           0.408159             0.310873\n",
       "min        1.000000           0.030002             0.020806\n",
       "25%      806.000000           0.395297             0.291008\n",
       "50%     1617.000000           0.555517             0.415962\n",
       "75%     2429.000000           0.857034             0.637371\n",
       "max     3241.000000           3.731596             2.676388"
      ]
     },
     "execution_count": 4,
     "metadata": {},
     "output_type": "execute_result"
    }
   ],
   "source": [
    "data_arc.loc[ data_arc['Реактивная мощность'] < 0 , 'Реактивная мощность' ] = 0.495782 * 0.7\n",
    "data_arc.describe()"
   ]
  },
  {
   "cell_type": "code",
   "execution_count": 5,
   "metadata": {},
   "outputs": [
    {
     "data": {
      "image/png": "[encoded data removed]",
      "text/plain": [
       "<Figure size 1152x360 with 2 Axes>"
      ]
     },
     "metadata": {
      "needs_background": "light"
     },
     "output_type": "display_data"
    }
   ],
   "source": [
    "data_arc.iloc[:,[3,4]].hist(bins=100, figsize=(16,5))\n",
    "plt.show()"
   ]
  },
  {
   "cell_type": "markdown",
   "metadata": {},
   "source": [
    "---\n",
    "#### Результаты измерения температуры:"
   ]
  },
  {
   "cell_type": "code",
   "execution_count": 6,
   "metadata": {},
   "outputs": [
    {
     "name": "stdout",
     "output_type": "stream",
     "text": [
      "<class 'pandas.core.frame.DataFrame'>\n",
      "RangeIndex: 15907 entries, 0 to 15906\n",
      "Data columns (total 3 columns):\n",
      "key             15907 non-null int64\n",
      "Время замера    15907 non-null datetime64[ns]\n",
      "Температура     13006 non-null float64\n",
      "dtypes: datetime64[ns](1), float64(1), int64(1)\n",
      "memory usage: 372.9 KB\n"
     ]
    },
    {
     "data": {
      "text/html": [
       "<div>\n",
       "<style scoped>\n",
       "    .dataframe tbody tr th:only-of-type {\n",
       "        vertical-align: middle;\n",
       "    }\n",
       "\n",
       "    .dataframe tbody tr th {\n",
       "        vertical-align: top;\n",
       "    }\n",
       "\n",
       "    .dataframe thead th {\n",
       "        text-align: right;\n",
       "    }\n",
       "</style>\n",
       "<table border=\"1\" class=\"dataframe\">\n",
       "  <thead>\n",
       "    <tr style=\"text-align: right;\">\n",
       "      <th></th>\n",
       "      <th>key</th>\n",
       "      <th>Время замера</th>\n",
       "      <th>Температура</th>\n",
       "    </tr>\n",
       "  </thead>\n",
       "  <tbody>\n",
       "    <tr>\n",
       "      <td>0</td>\n",
       "      <td>1</td>\n",
       "      <td>2019-05-03 11:16:18</td>\n",
       "      <td>1571.0</td>\n",
       "    </tr>\n",
       "    <tr>\n",
       "      <td>1</td>\n",
       "      <td>1</td>\n",
       "      <td>2019-05-03 11:25:53</td>\n",
       "      <td>1604.0</td>\n",
       "    </tr>\n",
       "    <tr>\n",
       "      <td>2</td>\n",
       "      <td>1</td>\n",
       "      <td>2019-05-03 11:29:11</td>\n",
       "      <td>1618.0</td>\n",
       "    </tr>\n",
       "    <tr>\n",
       "      <td>3</td>\n",
       "      <td>1</td>\n",
       "      <td>2019-05-03 11:30:01</td>\n",
       "      <td>1601.0</td>\n",
       "    </tr>\n",
       "    <tr>\n",
       "      <td>4</td>\n",
       "      <td>1</td>\n",
       "      <td>2019-05-03 11:30:39</td>\n",
       "      <td>1613.0</td>\n",
       "    </tr>\n",
       "    <tr>\n",
       "      <td>...</td>\n",
       "      <td>...</td>\n",
       "      <td>...</td>\n",
       "      <td>...</td>\n",
       "    </tr>\n",
       "    <tr>\n",
       "      <td>15902</td>\n",
       "      <td>3241</td>\n",
       "      <td>2019-09-01 04:03:30</td>\n",
       "      <td>1586.0</td>\n",
       "    </tr>\n",
       "    <tr>\n",
       "      <td>15903</td>\n",
       "      <td>3241</td>\n",
       "      <td>2019-09-01 04:16:12</td>\n",
       "      <td>NaN</td>\n",
       "    </tr>\n",
       "    <tr>\n",
       "      <td>15904</td>\n",
       "      <td>3241</td>\n",
       "      <td>2019-09-01 04:22:39</td>\n",
       "      <td>NaN</td>\n",
       "    </tr>\n",
       "    <tr>\n",
       "      <td>15905</td>\n",
       "      <td>3241</td>\n",
       "      <td>2019-09-01 04:33:42</td>\n",
       "      <td>NaN</td>\n",
       "    </tr>\n",
       "    <tr>\n",
       "      <td>15906</td>\n",
       "      <td>3241</td>\n",
       "      <td>2019-09-01 04:38:08</td>\n",
       "      <td>NaN</td>\n",
       "    </tr>\n",
       "  </tbody>\n",
       "</table>\n",
       "<p>15907 rows × 3 columns</p>\n",
       "</div>"
      ],
      "text/plain": [
       "        key        Время замера  Температура\n",
       "0         1 2019-05-03 11:16:18       1571.0\n",
       "1         1 2019-05-03 11:25:53       1604.0\n",
       "2         1 2019-05-03 11:29:11       1618.0\n",
       "3         1 2019-05-03 11:30:01       1601.0\n",
       "4         1 2019-05-03 11:30:39       1613.0\n",
       "...     ...                 ...          ...\n",
       "15902  3241 2019-09-01 04:03:30       1586.0\n",
       "15903  3241 2019-09-01 04:16:12          NaN\n",
       "15904  3241 2019-09-01 04:22:39          NaN\n",
       "15905  3241 2019-09-01 04:33:42          NaN\n",
       "15906  3241 2019-09-01 04:38:08          NaN\n",
       "\n",
       "[15907 rows x 3 columns]"
      ]
     },
     "metadata": {},
     "output_type": "display_data"
    },
    {
     "data": {
      "text/html": [
       "<div>\n",
       "<style scoped>\n",
       "    .dataframe tbody tr th:only-of-type {\n",
       "        vertical-align: middle;\n",
       "    }\n",
       "\n",
       "    .dataframe tbody tr th {\n",
       "        vertical-align: top;\n",
       "    }\n",
       "\n",
       "    .dataframe thead th {\n",
       "        text-align: right;\n",
       "    }\n",
       "</style>\n",
       "<table border=\"1\" class=\"dataframe\">\n",
       "  <thead>\n",
       "    <tr style=\"text-align: right;\">\n",
       "      <th></th>\n",
       "      <th>key</th>\n",
       "      <th>Температура</th>\n",
       "    </tr>\n",
       "  </thead>\n",
       "  <tbody>\n",
       "    <tr>\n",
       "      <td>count</td>\n",
       "      <td>15907.000000</td>\n",
       "      <td>13006.000000</td>\n",
       "    </tr>\n",
       "    <tr>\n",
       "      <td>mean</td>\n",
       "      <td>1607.880870</td>\n",
       "      <td>1591.840920</td>\n",
       "    </tr>\n",
       "    <tr>\n",
       "      <td>std</td>\n",
       "      <td>942.212073</td>\n",
       "      <td>21.375851</td>\n",
       "    </tr>\n",
       "    <tr>\n",
       "      <td>min</td>\n",
       "      <td>1.000000</td>\n",
       "      <td>1191.000000</td>\n",
       "    </tr>\n",
       "    <tr>\n",
       "      <td>25%</td>\n",
       "      <td>790.000000</td>\n",
       "      <td>1581.000000</td>\n",
       "    </tr>\n",
       "    <tr>\n",
       "      <td>50%</td>\n",
       "      <td>1618.000000</td>\n",
       "      <td>1591.000000</td>\n",
       "    </tr>\n",
       "    <tr>\n",
       "      <td>75%</td>\n",
       "      <td>2427.000000</td>\n",
       "      <td>1601.000000</td>\n",
       "    </tr>\n",
       "    <tr>\n",
       "      <td>max</td>\n",
       "      <td>3241.000000</td>\n",
       "      <td>1705.000000</td>\n",
       "    </tr>\n",
       "  </tbody>\n",
       "</table>\n",
       "</div>"
      ],
      "text/plain": [
       "                key   Температура\n",
       "count  15907.000000  13006.000000\n",
       "mean    1607.880870   1591.840920\n",
       "std      942.212073     21.375851\n",
       "min        1.000000   1191.000000\n",
       "25%      790.000000   1581.000000\n",
       "50%     1618.000000   1591.000000\n",
       "75%     2427.000000   1601.000000\n",
       "max     3241.000000   1705.000000"
      ]
     },
     "execution_count": 6,
     "metadata": {},
     "output_type": "execute_result"
    }
   ],
   "source": [
    "data_temp = pd.read_csv('/datasets/final_steel/data_temp.csv',\n",
    "                        converters={'Время замера': pd.to_datetime})\n",
    "data_temp.info()\n",
    "display(data_temp)\n",
    "data_temp.describe()"
   ]
  },
  {
   "cell_type": "code",
   "execution_count": 7,
   "metadata": {},
   "outputs": [
    {
     "data": {
      "image/png": "[encoded data removed]",
      "text/plain": [
       "<Figure size 432x288 with 1 Axes>"
      ]
     },
     "metadata": {
      "needs_background": "light"
     },
     "output_type": "display_data"
    }
   ],
   "source": [
    "bp = data_temp.boxplot('Температура')"
   ]
  },
  {
   "cell_type": "markdown",
   "metadata": {},
   "source": [
    "Вероятно температуры ниже 1400 не соответствуют действительности:"
   ]
  },
  {
   "cell_type": "code",
   "execution_count": 8,
   "metadata": {},
   "outputs": [
    {
     "data": {
      "text/plain": [
       "{867, 1214, 1619, 1818, 2052, 2561}"
      ]
     },
     "execution_count": 8,
     "metadata": {},
     "output_type": "execute_result"
    }
   ],
   "source": [
    "dubious_data = set(data_temp.query('Температура < 1400').key)\n",
    "dubious_data"
   ]
  },
  {
   "cell_type": "code",
   "execution_count": 9,
   "metadata": {
    "scrolled": true
   },
   "outputs": [
    {
     "data": {
      "text/html": [
       "<div>\n",
       "<style scoped>\n",
       "    .dataframe tbody tr th:only-of-type {\n",
       "        vertical-align: middle;\n",
       "    }\n",
       "\n",
       "    .dataframe tbody tr th {\n",
       "        vertical-align: top;\n",
       "    }\n",
       "\n",
       "    .dataframe thead th {\n",
       "        text-align: right;\n",
       "    }\n",
       "</style>\n",
       "<table border=\"1\" class=\"dataframe\">\n",
       "  <thead>\n",
       "    <tr style=\"text-align: right;\">\n",
       "      <th></th>\n",
       "      <th>key</th>\n",
       "      <th>Время замера</th>\n",
       "      <th>Температура</th>\n",
       "    </tr>\n",
       "  </thead>\n",
       "  <tbody>\n",
       "    <tr>\n",
       "      <td>4350</td>\n",
       "      <td>867</td>\n",
       "      <td>2019-06-04 14:21:00</td>\n",
       "      <td>1191.0</td>\n",
       "    </tr>\n",
       "    <tr>\n",
       "      <td>4351</td>\n",
       "      <td>867</td>\n",
       "      <td>2019-06-04 14:29:35</td>\n",
       "      <td>1575.0</td>\n",
       "    </tr>\n",
       "    <tr>\n",
       "      <td>4352</td>\n",
       "      <td>867</td>\n",
       "      <td>2019-06-04 14:30:29</td>\n",
       "      <td>1576.0</td>\n",
       "    </tr>\n",
       "    <tr>\n",
       "      <td>4353</td>\n",
       "      <td>867</td>\n",
       "      <td>2019-06-04 14:43:10</td>\n",
       "      <td>1571.0</td>\n",
       "    </tr>\n",
       "    <tr>\n",
       "      <td>4354</td>\n",
       "      <td>867</td>\n",
       "      <td>2019-06-04 14:52:54</td>\n",
       "      <td>1600.0</td>\n",
       "    </tr>\n",
       "    <tr>\n",
       "      <td>4355</td>\n",
       "      <td>867</td>\n",
       "      <td>2019-06-04 14:57:17</td>\n",
       "      <td>1599.0</td>\n",
       "    </tr>\n",
       "    <tr>\n",
       "      <td>5978</td>\n",
       "      <td>1214</td>\n",
       "      <td>2019-06-16 05:32:00</td>\n",
       "      <td>1208.0</td>\n",
       "    </tr>\n",
       "    <tr>\n",
       "      <td>5979</td>\n",
       "      <td>1214</td>\n",
       "      <td>2019-06-16 05:49:01</td>\n",
       "      <td>1608.0</td>\n",
       "    </tr>\n",
       "    <tr>\n",
       "      <td>5980</td>\n",
       "      <td>1214</td>\n",
       "      <td>2019-06-16 05:51:28</td>\n",
       "      <td>1608.0</td>\n",
       "    </tr>\n",
       "    <tr>\n",
       "      <td>5981</td>\n",
       "      <td>1214</td>\n",
       "      <td>2019-06-16 05:51:38</td>\n",
       "      <td>1608.0</td>\n",
       "    </tr>\n",
       "    <tr>\n",
       "      <td>5982</td>\n",
       "      <td>1214</td>\n",
       "      <td>2019-06-16 05:52:41</td>\n",
       "      <td>1608.0</td>\n",
       "    </tr>\n",
       "    <tr>\n",
       "      <td>5983</td>\n",
       "      <td>1214</td>\n",
       "      <td>2019-06-16 05:53:03</td>\n",
       "      <td>1608.0</td>\n",
       "    </tr>\n",
       "    <tr>\n",
       "      <td>5984</td>\n",
       "      <td>1214</td>\n",
       "      <td>2019-06-16 05:53:13</td>\n",
       "      <td>1608.0</td>\n",
       "    </tr>\n",
       "    <tr>\n",
       "      <td>5985</td>\n",
       "      <td>1214</td>\n",
       "      <td>2019-06-16 05:54:48</td>\n",
       "      <td>1604.0</td>\n",
       "    </tr>\n",
       "    <tr>\n",
       "      <td>5986</td>\n",
       "      <td>1214</td>\n",
       "      <td>2019-06-16 05:57:21</td>\n",
       "      <td>1604.0</td>\n",
       "    </tr>\n",
       "    <tr>\n",
       "      <td>5987</td>\n",
       "      <td>1214</td>\n",
       "      <td>2019-06-16 06:00:25</td>\n",
       "      <td>1604.0</td>\n",
       "    </tr>\n",
       "    <tr>\n",
       "      <td>5988</td>\n",
       "      <td>1214</td>\n",
       "      <td>2019-06-16 06:06:12</td>\n",
       "      <td>1600.0</td>\n",
       "    </tr>\n",
       "    <tr>\n",
       "      <td>5989</td>\n",
       "      <td>1214</td>\n",
       "      <td>2019-06-16 06:07:28</td>\n",
       "      <td>1596.0</td>\n",
       "    </tr>\n",
       "    <tr>\n",
       "      <td>5990</td>\n",
       "      <td>1214</td>\n",
       "      <td>2019-06-16 06:08:28</td>\n",
       "      <td>1596.0</td>\n",
       "    </tr>\n",
       "    <tr>\n",
       "      <td>5991</td>\n",
       "      <td>1214</td>\n",
       "      <td>2019-06-16 06:09:10</td>\n",
       "      <td>1603.0</td>\n",
       "    </tr>\n",
       "    <tr>\n",
       "      <td>5992</td>\n",
       "      <td>1214</td>\n",
       "      <td>2019-06-16 06:12:25</td>\n",
       "      <td>1591.0</td>\n",
       "    </tr>\n",
       "    <tr>\n",
       "      <td>5993</td>\n",
       "      <td>1214</td>\n",
       "      <td>2019-06-16 06:14:45</td>\n",
       "      <td>1591.0</td>\n",
       "    </tr>\n",
       "    <tr>\n",
       "      <td>7958</td>\n",
       "      <td>1619</td>\n",
       "      <td>2019-06-30 11:03:54</td>\n",
       "      <td>1218.0</td>\n",
       "    </tr>\n",
       "    <tr>\n",
       "      <td>7959</td>\n",
       "      <td>1619</td>\n",
       "      <td>2019-06-30 11:04:39</td>\n",
       "      <td>1623.0</td>\n",
       "    </tr>\n",
       "    <tr>\n",
       "      <td>7960</td>\n",
       "      <td>1619</td>\n",
       "      <td>2019-06-30 11:10:01</td>\n",
       "      <td>1611.0</td>\n",
       "    </tr>\n",
       "    <tr>\n",
       "      <td>7961</td>\n",
       "      <td>1619</td>\n",
       "      <td>2019-06-30 11:16:03</td>\n",
       "      <td>1603.0</td>\n",
       "    </tr>\n",
       "    <tr>\n",
       "      <td>7962</td>\n",
       "      <td>1619</td>\n",
       "      <td>2019-06-30 11:21:54</td>\n",
       "      <td>1590.0</td>\n",
       "    </tr>\n",
       "    <tr>\n",
       "      <td>8907</td>\n",
       "      <td>1818</td>\n",
       "      <td>2019-07-07 00:00:14</td>\n",
       "      <td>1627.0</td>\n",
       "    </tr>\n",
       "    <tr>\n",
       "      <td>8908</td>\n",
       "      <td>1818</td>\n",
       "      <td>2019-07-07 00:13:02</td>\n",
       "      <td>1650.0</td>\n",
       "    </tr>\n",
       "    <tr>\n",
       "      <td>8909</td>\n",
       "      <td>1818</td>\n",
       "      <td>2019-07-07 00:25:28</td>\n",
       "      <td>1650.0</td>\n",
       "    </tr>\n",
       "    <tr>\n",
       "      <td>8910</td>\n",
       "      <td>1818</td>\n",
       "      <td>2019-07-07 00:26:03</td>\n",
       "      <td>1650.0</td>\n",
       "    </tr>\n",
       "    <tr>\n",
       "      <td>8911</td>\n",
       "      <td>1818</td>\n",
       "      <td>2019-07-07 00:26:42</td>\n",
       "      <td>1650.0</td>\n",
       "    </tr>\n",
       "    <tr>\n",
       "      <td>8912</td>\n",
       "      <td>1818</td>\n",
       "      <td>2019-07-07 00:27:23</td>\n",
       "      <td>1663.0</td>\n",
       "    </tr>\n",
       "    <tr>\n",
       "      <td>8913</td>\n",
       "      <td>1818</td>\n",
       "      <td>2019-07-07 00:30:49</td>\n",
       "      <td>1383.0</td>\n",
       "    </tr>\n",
       "    <tr>\n",
       "      <td>8914</td>\n",
       "      <td>1818</td>\n",
       "      <td>2019-07-07 00:31:40</td>\n",
       "      <td>1383.0</td>\n",
       "    </tr>\n",
       "    <tr>\n",
       "      <td>8915</td>\n",
       "      <td>1818</td>\n",
       "      <td>2019-07-07 00:32:55</td>\n",
       "      <td>1680.0</td>\n",
       "    </tr>\n",
       "    <tr>\n",
       "      <td>8916</td>\n",
       "      <td>1818</td>\n",
       "      <td>2019-07-07 00:36:11</td>\n",
       "      <td>1667.0</td>\n",
       "    </tr>\n",
       "    <tr>\n",
       "      <td>8917</td>\n",
       "      <td>1818</td>\n",
       "      <td>2019-07-07 00:36:45</td>\n",
       "      <td>1667.0</td>\n",
       "    </tr>\n",
       "    <tr>\n",
       "      <td>8918</td>\n",
       "      <td>1818</td>\n",
       "      <td>2019-07-07 00:38:50</td>\n",
       "      <td>1671.0</td>\n",
       "    </tr>\n",
       "    <tr>\n",
       "      <td>10127</td>\n",
       "      <td>2052</td>\n",
       "      <td>2019-07-21 14:51:40</td>\n",
       "      <td>1227.0</td>\n",
       "    </tr>\n",
       "    <tr>\n",
       "      <td>10128</td>\n",
       "      <td>2052</td>\n",
       "      <td>2019-07-21 14:52:21</td>\n",
       "      <td>1592.0</td>\n",
       "    </tr>\n",
       "    <tr>\n",
       "      <td>10129</td>\n",
       "      <td>2052</td>\n",
       "      <td>2019-07-21 15:06:31</td>\n",
       "      <td>1590.0</td>\n",
       "    </tr>\n",
       "    <tr>\n",
       "      <td>10130</td>\n",
       "      <td>2052</td>\n",
       "      <td>2019-07-21 15:15:24</td>\n",
       "      <td>1591.0</td>\n",
       "    </tr>\n",
       "    <tr>\n",
       "      <td>10131</td>\n",
       "      <td>2052</td>\n",
       "      <td>2019-07-21 15:24:06</td>\n",
       "      <td>1592.0</td>\n",
       "    </tr>\n",
       "    <tr>\n",
       "      <td>12564</td>\n",
       "      <td>2561</td>\n",
       "      <td>2019-08-08 07:34:15</td>\n",
       "      <td>1204.0</td>\n",
       "    </tr>\n",
       "    <tr>\n",
       "      <td>12565</td>\n",
       "      <td>2561</td>\n",
       "      <td>2019-08-08 07:35:02</td>\n",
       "      <td>NaN</td>\n",
       "    </tr>\n",
       "    <tr>\n",
       "      <td>12566</td>\n",
       "      <td>2561</td>\n",
       "      <td>2019-08-08 07:35:38</td>\n",
       "      <td>NaN</td>\n",
       "    </tr>\n",
       "    <tr>\n",
       "      <td>12567</td>\n",
       "      <td>2561</td>\n",
       "      <td>2019-08-08 07:49:07</td>\n",
       "      <td>NaN</td>\n",
       "    </tr>\n",
       "    <tr>\n",
       "      <td>12568</td>\n",
       "      <td>2561</td>\n",
       "      <td>2019-08-08 07:54:21</td>\n",
       "      <td>NaN</td>\n",
       "    </tr>\n",
       "    <tr>\n",
       "      <td>12569</td>\n",
       "      <td>2561</td>\n",
       "      <td>2019-08-08 07:56:57</td>\n",
       "      <td>NaN</td>\n",
       "    </tr>\n",
       "  </tbody>\n",
       "</table>\n",
       "</div>"
      ],
      "text/plain": [
       "        key        Время замера  Температура\n",
       "4350    867 2019-06-04 14:21:00       1191.0\n",
       "4351    867 2019-06-04 14:29:35       1575.0\n",
       "4352    867 2019-06-04 14:30:29       1576.0\n",
       "4353    867 2019-06-04 14:43:10       1571.0\n",
       "4354    867 2019-06-04 14:52:54       1600.0\n",
       "4355    867 2019-06-04 14:57:17       1599.0\n",
       "5978   1214 2019-06-16 05:32:00       1208.0\n",
       "5979   1214 2019-06-16 05:49:01       1608.0\n",
       "5980   1214 2019-06-16 05:51:28       1608.0\n",
       "5981   1214 2019-06-16 05:51:38       1608.0\n",
       "5982   1214 2019-06-16 05:52:41       1608.0\n",
       "5983   1214 2019-06-16 05:53:03       1608.0\n",
       "5984   1214 2019-06-16 05:53:13       1608.0\n",
       "5985   1214 2019-06-16 05:54:48       1604.0\n",
       "5986   1214 2019-06-16 05:57:21       1604.0\n",
       "5987   1214 2019-06-16 06:00:25       1604.0\n",
       "5988   1214 2019-06-16 06:06:12       1600.0\n",
       "5989   1214 2019-06-16 06:07:28       1596.0\n",
       "5990   1214 2019-06-16 06:08:28       1596.0\n",
       "5991   1214 2019-06-16 06:09:10       1603.0\n",
       "5992   1214 2019-06-16 06:12:25       1591.0\n",
       "5993   1214 2019-06-16 06:14:45       1591.0\n",
       "7958   1619 2019-06-30 11:03:54       1218.0\n",
       "7959   1619 2019-06-30 11:04:39       1623.0\n",
       "7960   1619 2019-06-30 11:10:01       1611.0\n",
       "7961   1619 2019-06-30 11:16:03       1603.0\n",
       "7962   1619 2019-06-30 11:21:54       1590.0\n",
       "8907   1818 2019-07-07 00:00:14       1627.0\n",
       "8908   1818 2019-07-07 00:13:02       1650.0\n",
       "8909   1818 2019-07-07 00:25:28       1650.0\n",
       "8910   1818 2019-07-07 00:26:03       1650.0\n",
       "8911   1818 2019-07-07 00:26:42       1650.0\n",
       "8912   1818 2019-07-07 00:27:23       1663.0\n",
       "8913   1818 2019-07-07 00:30:49       1383.0\n",
       "8914   1818 2019-07-07 00:31:40       1383.0\n",
       "8915   1818 2019-07-07 00:32:55       1680.0\n",
       "8916   1818 2019-07-07 00:36:11       1667.0\n",
       "8917   1818 2019-07-07 00:36:45       1667.0\n",
       "8918   1818 2019-07-07 00:38:50       1671.0\n",
       "10127  2052 2019-07-21 14:51:40       1227.0\n",
       "10128  2052 2019-07-21 14:52:21       1592.0\n",
       "10129  2052 2019-07-21 15:06:31       1590.0\n",
       "10130  2052 2019-07-21 15:15:24       1591.0\n",
       "10131  2052 2019-07-21 15:24:06       1592.0\n",
       "12564  2561 2019-08-08 07:34:15       1204.0\n",
       "12565  2561 2019-08-08 07:35:02          NaN\n",
       "12566  2561 2019-08-08 07:35:38          NaN\n",
       "12567  2561 2019-08-08 07:49:07          NaN\n",
       "12568  2561 2019-08-08 07:54:21          NaN\n",
       "12569  2561 2019-08-08 07:56:57          NaN"
      ]
     },
     "execution_count": 9,
     "metadata": {},
     "output_type": "execute_result"
    }
   ],
   "source": [
    "data_temp.query('key in @dubious_data')"
   ]
  },
  {
   "cell_type": "markdown",
   "metadata": {},
   "source": [
    "заменим на среднее значение 1591:"
   ]
  },
  {
   "cell_type": "code",
   "execution_count": 10,
   "metadata": {},
   "outputs": [],
   "source": [
    "data_temp.loc[ data_temp['Температура'] < 1400, 'Температура' ] = 1591"
   ]
  },
  {
   "cell_type": "code",
   "execution_count": 11,
   "metadata": {},
   "outputs": [
    {
     "data": {
      "image/png": "[encoded data removed]",
      "text/plain": [
       "<Figure size 576x360 with 1 Axes>"
      ]
     },
     "metadata": {
      "needs_background": "light"
     },
     "output_type": "display_data"
    }
   ],
   "source": [
    "data_temp.hist('Температура', bins=90, figsize=(8,5))\n",
    "plt.show()"
   ]
  },
  {
   "cell_type": "markdown",
   "metadata": {},
   "source": [
    "---\n",
    "####  Данные о продувке сплава газом:"
   ]
  },
  {
   "cell_type": "code",
   "execution_count": 12,
   "metadata": {},
   "outputs": [
    {
     "name": "stdout",
     "output_type": "stream",
     "text": [
      "<class 'pandas.core.frame.DataFrame'>\n",
      "Int64Index: 3239 entries, 1 to 3241\n",
      "Data columns (total 1 columns):\n",
      "gas    3239 non-null float64\n",
      "dtypes: float64(1)\n",
      "memory usage: 50.6 KB\n"
     ]
    },
    {
     "data": {
      "text/html": [
       "<div>\n",
       "<style scoped>\n",
       "    .dataframe tbody tr th:only-of-type {\n",
       "        vertical-align: middle;\n",
       "    }\n",
       "\n",
       "    .dataframe tbody tr th {\n",
       "        vertical-align: top;\n",
       "    }\n",
       "\n",
       "    .dataframe thead th {\n",
       "        text-align: right;\n",
       "    }\n",
       "</style>\n",
       "<table border=\"1\" class=\"dataframe\">\n",
       "  <thead>\n",
       "    <tr style=\"text-align: right;\">\n",
       "      <th></th>\n",
       "      <th>gas</th>\n",
       "    </tr>\n",
       "    <tr>\n",
       "      <th>key</th>\n",
       "      <th></th>\n",
       "    </tr>\n",
       "  </thead>\n",
       "  <tbody>\n",
       "    <tr>\n",
       "      <td>1</td>\n",
       "      <td>29.749986</td>\n",
       "    </tr>\n",
       "    <tr>\n",
       "      <td>2</td>\n",
       "      <td>12.555561</td>\n",
       "    </tr>\n",
       "    <tr>\n",
       "      <td>3</td>\n",
       "      <td>28.554793</td>\n",
       "    </tr>\n",
       "    <tr>\n",
       "      <td>4</td>\n",
       "      <td>18.841219</td>\n",
       "    </tr>\n",
       "    <tr>\n",
       "      <td>5</td>\n",
       "      <td>5.413692</td>\n",
       "    </tr>\n",
       "    <tr>\n",
       "      <td>...</td>\n",
       "      <td>...</td>\n",
       "    </tr>\n",
       "    <tr>\n",
       "      <td>3237</td>\n",
       "      <td>5.543905</td>\n",
       "    </tr>\n",
       "    <tr>\n",
       "      <td>3238</td>\n",
       "      <td>6.745669</td>\n",
       "    </tr>\n",
       "    <tr>\n",
       "      <td>3239</td>\n",
       "      <td>16.023518</td>\n",
       "    </tr>\n",
       "    <tr>\n",
       "      <td>3240</td>\n",
       "      <td>11.863103</td>\n",
       "    </tr>\n",
       "    <tr>\n",
       "      <td>3241</td>\n",
       "      <td>12.680959</td>\n",
       "    </tr>\n",
       "  </tbody>\n",
       "</table>\n",
       "<p>3239 rows × 1 columns</p>\n",
       "</div>"
      ],
      "text/plain": [
       "            gas\n",
       "key            \n",
       "1     29.749986\n",
       "2     12.555561\n",
       "3     28.554793\n",
       "4     18.841219\n",
       "5      5.413692\n",
       "...         ...\n",
       "3237   5.543905\n",
       "3238   6.745669\n",
       "3239  16.023518\n",
       "3240  11.863103\n",
       "3241  12.680959\n",
       "\n",
       "[3239 rows x 1 columns]"
      ]
     },
     "metadata": {},
     "output_type": "display_data"
    },
    {
     "data": {
      "text/html": [
       "<div>\n",
       "<style scoped>\n",
       "    .dataframe tbody tr th:only-of-type {\n",
       "        vertical-align: middle;\n",
       "    }\n",
       "\n",
       "    .dataframe tbody tr th {\n",
       "        vertical-align: top;\n",
       "    }\n",
       "\n",
       "    .dataframe thead th {\n",
       "        text-align: right;\n",
       "    }\n",
       "</style>\n",
       "<table border=\"1\" class=\"dataframe\">\n",
       "  <thead>\n",
       "    <tr style=\"text-align: right;\">\n",
       "      <th></th>\n",
       "      <th>gas</th>\n",
       "    </tr>\n",
       "  </thead>\n",
       "  <tbody>\n",
       "    <tr>\n",
       "      <td>count</td>\n",
       "      <td>3239.000000</td>\n",
       "    </tr>\n",
       "    <tr>\n",
       "      <td>mean</td>\n",
       "      <td>11.002062</td>\n",
       "    </tr>\n",
       "    <tr>\n",
       "      <td>std</td>\n",
       "      <td>6.220327</td>\n",
       "    </tr>\n",
       "    <tr>\n",
       "      <td>min</td>\n",
       "      <td>0.008399</td>\n",
       "    </tr>\n",
       "    <tr>\n",
       "      <td>25%</td>\n",
       "      <td>7.043089</td>\n",
       "    </tr>\n",
       "    <tr>\n",
       "      <td>50%</td>\n",
       "      <td>9.836267</td>\n",
       "    </tr>\n",
       "    <tr>\n",
       "      <td>75%</td>\n",
       "      <td>13.769915</td>\n",
       "    </tr>\n",
       "    <tr>\n",
       "      <td>max</td>\n",
       "      <td>77.995040</td>\n",
       "    </tr>\n",
       "  </tbody>\n",
       "</table>\n",
       "</div>"
      ],
      "text/plain": [
       "               gas\n",
       "count  3239.000000\n",
       "mean     11.002062\n",
       "std       6.220327\n",
       "min       0.008399\n",
       "25%       7.043089\n",
       "50%       9.836267\n",
       "75%      13.769915\n",
       "max      77.995040"
      ]
     },
     "execution_count": 12,
     "metadata": {},
     "output_type": "execute_result"
    }
   ],
   "source": [
    "data_gas = pd.read_csv('/datasets/final_steel/data_gas.csv', index_col='key')\n",
    "data_gas.columns = ['gas']\n",
    "data_gas.info()\n",
    "display(data_gas)\n",
    "data_gas.describe()"
   ]
  },
  {
   "cell_type": "code",
   "execution_count": 13,
   "metadata": {},
   "outputs": [
    {
     "data": {
      "image/png": "[encoded data removed]",
      "text/plain": [
       "<Figure size 864x360 with 1 Axes>"
      ]
     },
     "metadata": {
      "needs_background": "light"
     },
     "output_type": "display_data"
    }
   ],
   "source": [
    "data_gas.hist(bins=100, figsize=(12,5))\n",
    "plt.show()"
   ]
  },
  {
   "cell_type": "markdown",
   "metadata": {},
   "source": [
    "---\n",
    "#### Данные о подаче сыпучих материалов:"
   ]
  },
  {
   "cell_type": "code",
   "execution_count": 14,
   "metadata": {},
   "outputs": [],
   "source": [
    "data_bulk = pd.read_csv('/datasets/final_steel/data_bulk.csv', index_col='key')\n",
    "data_bulk_time = pd.read_csv('/datasets/final_steel/data_bulk_time.csv', index_col='key')"
   ]
  },
  {
   "cell_type": "code",
   "execution_count": 15,
   "metadata": {},
   "outputs": [
    {
     "name": "stdout",
     "output_type": "stream",
     "text": [
      "<class 'pandas.core.frame.DataFrame'>\n",
      "Int64Index: 3129 entries, 1 to 3241\n",
      "Data columns (total 15 columns):\n",
      "Bulk 1     252 non-null float64\n",
      "Bulk 2     22 non-null float64\n",
      "Bulk 3     1298 non-null float64\n",
      "Bulk 4     1014 non-null float64\n",
      "Bulk 5     77 non-null float64\n",
      "Bulk 6     576 non-null float64\n",
      "Bulk 7     25 non-null float64\n",
      "Bulk 8     1 non-null float64\n",
      "Bulk 9     19 non-null float64\n",
      "Bulk 10    176 non-null float64\n",
      "Bulk 11    177 non-null float64\n",
      "Bulk 12    2450 non-null float64\n",
      "Bulk 13    18 non-null float64\n",
      "Bulk 14    2806 non-null float64\n",
      "Bulk 15    2248 non-null float64\n",
      "dtypes: float64(15)\n",
      "memory usage: 391.1 KB\n"
     ]
    },
    {
     "data": {
      "text/html": [
       "<div>\n",
       "<style scoped>\n",
       "    .dataframe tbody tr th:only-of-type {\n",
       "        vertical-align: middle;\n",
       "    }\n",
       "\n",
       "    .dataframe tbody tr th {\n",
       "        vertical-align: top;\n",
       "    }\n",
       "\n",
       "    .dataframe thead th {\n",
       "        text-align: right;\n",
       "    }\n",
       "</style>\n",
       "<table border=\"1\" class=\"dataframe\">\n",
       "  <thead>\n",
       "    <tr style=\"text-align: right;\">\n",
       "      <th></th>\n",
       "      <th>count</th>\n",
       "      <th>mean</th>\n",
       "      <th>std</th>\n",
       "      <th>min</th>\n",
       "      <th>25%</th>\n",
       "      <th>50%</th>\n",
       "      <th>75%</th>\n",
       "      <th>max</th>\n",
       "    </tr>\n",
       "  </thead>\n",
       "  <tbody>\n",
       "    <tr>\n",
       "      <td>Bulk 1</td>\n",
       "      <td>252.0</td>\n",
       "      <td>39.242063</td>\n",
       "      <td>18.277654</td>\n",
       "      <td>10.0</td>\n",
       "      <td>27.00</td>\n",
       "      <td>31.0</td>\n",
       "      <td>46.00</td>\n",
       "      <td>185.0</td>\n",
       "    </tr>\n",
       "    <tr>\n",
       "      <td>Bulk 2</td>\n",
       "      <td>22.0</td>\n",
       "      <td>253.045455</td>\n",
       "      <td>21.180578</td>\n",
       "      <td>228.0</td>\n",
       "      <td>242.00</td>\n",
       "      <td>251.5</td>\n",
       "      <td>257.75</td>\n",
       "      <td>325.0</td>\n",
       "    </tr>\n",
       "    <tr>\n",
       "      <td>Bulk 3</td>\n",
       "      <td>1298.0</td>\n",
       "      <td>113.879045</td>\n",
       "      <td>75.483494</td>\n",
       "      <td>6.0</td>\n",
       "      <td>58.00</td>\n",
       "      <td>97.5</td>\n",
       "      <td>152.00</td>\n",
       "      <td>454.0</td>\n",
       "    </tr>\n",
       "    <tr>\n",
       "      <td>Bulk 4</td>\n",
       "      <td>1014.0</td>\n",
       "      <td>104.394477</td>\n",
       "      <td>48.184126</td>\n",
       "      <td>12.0</td>\n",
       "      <td>72.00</td>\n",
       "      <td>102.0</td>\n",
       "      <td>133.00</td>\n",
       "      <td>281.0</td>\n",
       "    </tr>\n",
       "    <tr>\n",
       "      <td>Bulk 5</td>\n",
       "      <td>77.0</td>\n",
       "      <td>107.025974</td>\n",
       "      <td>81.790646</td>\n",
       "      <td>11.0</td>\n",
       "      <td>70.00</td>\n",
       "      <td>86.0</td>\n",
       "      <td>132.00</td>\n",
       "      <td>603.0</td>\n",
       "    </tr>\n",
       "    <tr>\n",
       "      <td>Bulk 6</td>\n",
       "      <td>576.0</td>\n",
       "      <td>118.925347</td>\n",
       "      <td>72.057776</td>\n",
       "      <td>17.0</td>\n",
       "      <td>69.75</td>\n",
       "      <td>100.0</td>\n",
       "      <td>157.00</td>\n",
       "      <td>503.0</td>\n",
       "    </tr>\n",
       "    <tr>\n",
       "      <td>Bulk 7</td>\n",
       "      <td>25.0</td>\n",
       "      <td>305.600000</td>\n",
       "      <td>191.022904</td>\n",
       "      <td>47.0</td>\n",
       "      <td>155.00</td>\n",
       "      <td>298.0</td>\n",
       "      <td>406.00</td>\n",
       "      <td>772.0</td>\n",
       "    </tr>\n",
       "    <tr>\n",
       "      <td>Bulk 8</td>\n",
       "      <td>1.0</td>\n",
       "      <td>49.000000</td>\n",
       "      <td>NaN</td>\n",
       "      <td>49.0</td>\n",
       "      <td>49.00</td>\n",
       "      <td>49.0</td>\n",
       "      <td>49.00</td>\n",
       "      <td>49.0</td>\n",
       "    </tr>\n",
       "    <tr>\n",
       "      <td>Bulk 9</td>\n",
       "      <td>19.0</td>\n",
       "      <td>76.315789</td>\n",
       "      <td>21.720581</td>\n",
       "      <td>63.0</td>\n",
       "      <td>66.00</td>\n",
       "      <td>68.0</td>\n",
       "      <td>70.50</td>\n",
       "      <td>147.0</td>\n",
       "    </tr>\n",
       "    <tr>\n",
       "      <td>Bulk 10</td>\n",
       "      <td>176.0</td>\n",
       "      <td>83.284091</td>\n",
       "      <td>26.060347</td>\n",
       "      <td>24.0</td>\n",
       "      <td>64.00</td>\n",
       "      <td>86.5</td>\n",
       "      <td>102.00</td>\n",
       "      <td>159.0</td>\n",
       "    </tr>\n",
       "    <tr>\n",
       "      <td>Bulk 11</td>\n",
       "      <td>177.0</td>\n",
       "      <td>76.819209</td>\n",
       "      <td>59.655365</td>\n",
       "      <td>8.0</td>\n",
       "      <td>25.00</td>\n",
       "      <td>64.0</td>\n",
       "      <td>106.00</td>\n",
       "      <td>313.0</td>\n",
       "    </tr>\n",
       "    <tr>\n",
       "      <td>Bulk 12</td>\n",
       "      <td>2450.0</td>\n",
       "      <td>260.471020</td>\n",
       "      <td>120.649269</td>\n",
       "      <td>53.0</td>\n",
       "      <td>204.00</td>\n",
       "      <td>208.0</td>\n",
       "      <td>316.00</td>\n",
       "      <td>1849.0</td>\n",
       "    </tr>\n",
       "    <tr>\n",
       "      <td>Bulk 13</td>\n",
       "      <td>18.0</td>\n",
       "      <td>181.111111</td>\n",
       "      <td>46.088009</td>\n",
       "      <td>151.0</td>\n",
       "      <td>153.25</td>\n",
       "      <td>155.5</td>\n",
       "      <td>203.50</td>\n",
       "      <td>305.0</td>\n",
       "    </tr>\n",
       "    <tr>\n",
       "      <td>Bulk 14</td>\n",
       "      <td>2806.0</td>\n",
       "      <td>170.284747</td>\n",
       "      <td>65.868652</td>\n",
       "      <td>16.0</td>\n",
       "      <td>119.00</td>\n",
       "      <td>151.0</td>\n",
       "      <td>205.75</td>\n",
       "      <td>636.0</td>\n",
       "    </tr>\n",
       "    <tr>\n",
       "      <td>Bulk 15</td>\n",
       "      <td>2248.0</td>\n",
       "      <td>160.513345</td>\n",
       "      <td>51.765319</td>\n",
       "      <td>1.0</td>\n",
       "      <td>105.00</td>\n",
       "      <td>160.0</td>\n",
       "      <td>205.00</td>\n",
       "      <td>405.0</td>\n",
       "    </tr>\n",
       "  </tbody>\n",
       "</table>\n",
       "</div>"
      ],
      "text/plain": [
       "          count        mean         std    min     25%    50%     75%     max\n",
       "Bulk 1    252.0   39.242063   18.277654   10.0   27.00   31.0   46.00   185.0\n",
       "Bulk 2     22.0  253.045455   21.180578  228.0  242.00  251.5  257.75   325.0\n",
       "Bulk 3   1298.0  113.879045   75.483494    6.0   58.00   97.5  152.00   454.0\n",
       "Bulk 4   1014.0  104.394477   48.184126   12.0   72.00  102.0  133.00   281.0\n",
       "Bulk 5     77.0  107.025974   81.790646   11.0   70.00   86.0  132.00   603.0\n",
       "Bulk 6    576.0  118.925347   72.057776   17.0   69.75  100.0  157.00   503.0\n",
       "Bulk 7     25.0  305.600000  191.022904   47.0  155.00  298.0  406.00   772.0\n",
       "Bulk 8      1.0   49.000000         NaN   49.0   49.00   49.0   49.00    49.0\n",
       "Bulk 9     19.0   76.315789   21.720581   63.0   66.00   68.0   70.50   147.0\n",
       "Bulk 10   176.0   83.284091   26.060347   24.0   64.00   86.5  102.00   159.0\n",
       "Bulk 11   177.0   76.819209   59.655365    8.0   25.00   64.0  106.00   313.0\n",
       "Bulk 12  2450.0  260.471020  120.649269   53.0  204.00  208.0  316.00  1849.0\n",
       "Bulk 13    18.0  181.111111   46.088009  151.0  153.25  155.5  203.50   305.0\n",
       "Bulk 14  2806.0  170.284747   65.868652   16.0  119.00  151.0  205.75   636.0\n",
       "Bulk 15  2248.0  160.513345   51.765319    1.0  105.00  160.0  205.00   405.0"
      ]
     },
     "metadata": {},
     "output_type": "display_data"
    }
   ],
   "source": [
    "data_bulk.info()\n",
    "display(data_bulk.describe().T)"
   ]
  },
  {
   "cell_type": "code",
   "execution_count": 16,
   "metadata": {
    "scrolled": false
   },
   "outputs": [
    {
     "data": {
      "image/png": "[encoded data removed]",
      "text/plain": [
       "<Figure size 1152x360 with 1 Axes>"
      ]
     },
     "metadata": {
      "needs_background": "light"
     },
     "output_type": "display_data"
    }
   ],
   "source": [
    "bp = data_bulk.boxplot(figsize=(16,5))"
   ]
  },
  {
   "cell_type": "code",
   "execution_count": 17,
   "metadata": {},
   "outputs": [],
   "source": [
    "data_bulk = data_bulk.fillna(0)\n",
    "data_bulk_time = data_bulk_time.astype('datetime64[ns]')"
   ]
  },
  {
   "cell_type": "markdown",
   "metadata": {},
   "source": [
    "---\n",
    "#### Данные о проволочных материалах:"
   ]
  },
  {
   "cell_type": "code",
   "execution_count": 18,
   "metadata": {},
   "outputs": [],
   "source": [
    "data_wire = pd.read_csv('/datasets/final_steel/data_wire.csv', index_col='key')\n",
    "data_wire_time = pd.read_csv('/datasets/final_steel/data_wire_time.csv', index_col='key')"
   ]
  },
  {
   "cell_type": "code",
   "execution_count": 19,
   "metadata": {},
   "outputs": [
    {
     "name": "stdout",
     "output_type": "stream",
     "text": [
      "<class 'pandas.core.frame.DataFrame'>\n",
      "Int64Index: 3081 entries, 1 to 3241\n",
      "Data columns (total 9 columns):\n",
      "Wire 1    3055 non-null float64\n",
      "Wire 2    1079 non-null float64\n",
      "Wire 3    63 non-null float64\n",
      "Wire 4    14 non-null float64\n",
      "Wire 5    1 non-null float64\n",
      "Wire 6    73 non-null float64\n",
      "Wire 7    11 non-null float64\n",
      "Wire 8    19 non-null float64\n",
      "Wire 9    29 non-null float64\n",
      "dtypes: float64(9)\n",
      "memory usage: 240.7 KB\n"
     ]
    },
    {
     "data": {
      "text/html": [
       "<div>\n",
       "<style scoped>\n",
       "    .dataframe tbody tr th:only-of-type {\n",
       "        vertical-align: middle;\n",
       "    }\n",
       "\n",
       "    .dataframe tbody tr th {\n",
       "        vertical-align: top;\n",
       "    }\n",
       "\n",
       "    .dataframe thead th {\n",
       "        text-align: right;\n",
       "    }\n",
       "</style>\n",
       "<table border=\"1\" class=\"dataframe\">\n",
       "  <thead>\n",
       "    <tr style=\"text-align: right;\">\n",
       "      <th></th>\n",
       "      <th>count</th>\n",
       "      <th>mean</th>\n",
       "      <th>std</th>\n",
       "      <th>min</th>\n",
       "      <th>25%</th>\n",
       "      <th>50%</th>\n",
       "      <th>75%</th>\n",
       "      <th>max</th>\n",
       "    </tr>\n",
       "  </thead>\n",
       "  <tbody>\n",
       "    <tr>\n",
       "      <td>Wire 1</td>\n",
       "      <td>3055.0</td>\n",
       "      <td>100.895853</td>\n",
       "      <td>42.012518</td>\n",
       "      <td>1.918800</td>\n",
       "      <td>72.115684</td>\n",
       "      <td>100.158234</td>\n",
       "      <td>126.060484</td>\n",
       "      <td>330.314424</td>\n",
       "    </tr>\n",
       "    <tr>\n",
       "      <td>Wire 2</td>\n",
       "      <td>1079.0</td>\n",
       "      <td>50.577323</td>\n",
       "      <td>39.320216</td>\n",
       "      <td>0.030160</td>\n",
       "      <td>20.193680</td>\n",
       "      <td>40.142956</td>\n",
       "      <td>70.227558</td>\n",
       "      <td>282.780152</td>\n",
       "    </tr>\n",
       "    <tr>\n",
       "      <td>Wire 3</td>\n",
       "      <td>63.0</td>\n",
       "      <td>189.482681</td>\n",
       "      <td>99.513444</td>\n",
       "      <td>0.144144</td>\n",
       "      <td>95.135044</td>\n",
       "      <td>235.194977</td>\n",
       "      <td>276.252014</td>\n",
       "      <td>385.008668</td>\n",
       "    </tr>\n",
       "    <tr>\n",
       "      <td>Wire 4</td>\n",
       "      <td>14.0</td>\n",
       "      <td>57.442841</td>\n",
       "      <td>28.824667</td>\n",
       "      <td>24.148801</td>\n",
       "      <td>40.807002</td>\n",
       "      <td>45.234282</td>\n",
       "      <td>76.124619</td>\n",
       "      <td>113.231044</td>\n",
       "    </tr>\n",
       "    <tr>\n",
       "      <td>Wire 5</td>\n",
       "      <td>1.0</td>\n",
       "      <td>15.132000</td>\n",
       "      <td>NaN</td>\n",
       "      <td>15.132000</td>\n",
       "      <td>15.132000</td>\n",
       "      <td>15.132000</td>\n",
       "      <td>15.132000</td>\n",
       "      <td>15.132000</td>\n",
       "    </tr>\n",
       "    <tr>\n",
       "      <td>Wire 6</td>\n",
       "      <td>73.0</td>\n",
       "      <td>48.016974</td>\n",
       "      <td>33.919845</td>\n",
       "      <td>0.034320</td>\n",
       "      <td>25.053600</td>\n",
       "      <td>42.076324</td>\n",
       "      <td>64.212723</td>\n",
       "      <td>180.454575</td>\n",
       "    </tr>\n",
       "    <tr>\n",
       "      <td>Wire 7</td>\n",
       "      <td>11.0</td>\n",
       "      <td>10.039007</td>\n",
       "      <td>8.610584</td>\n",
       "      <td>0.234208</td>\n",
       "      <td>6.762756</td>\n",
       "      <td>9.017009</td>\n",
       "      <td>11.886057</td>\n",
       "      <td>32.847674</td>\n",
       "    </tr>\n",
       "    <tr>\n",
       "      <td>Wire 8</td>\n",
       "      <td>19.0</td>\n",
       "      <td>53.625193</td>\n",
       "      <td>16.881728</td>\n",
       "      <td>45.076721</td>\n",
       "      <td>46.094879</td>\n",
       "      <td>46.279999</td>\n",
       "      <td>48.089603</td>\n",
       "      <td>102.762401</td>\n",
       "    </tr>\n",
       "    <tr>\n",
       "      <td>Wire 9</td>\n",
       "      <td>29.0</td>\n",
       "      <td>34.155752</td>\n",
       "      <td>19.931616</td>\n",
       "      <td>4.622800</td>\n",
       "      <td>22.058401</td>\n",
       "      <td>30.066399</td>\n",
       "      <td>43.862003</td>\n",
       "      <td>90.053604</td>\n",
       "    </tr>\n",
       "  </tbody>\n",
       "</table>\n",
       "</div>"
      ],
      "text/plain": [
       "         count        mean        std        min        25%         50%  \\\n",
       "Wire 1  3055.0  100.895853  42.012518   1.918800  72.115684  100.158234   \n",
       "Wire 2  1079.0   50.577323  39.320216   0.030160  20.193680   40.142956   \n",
       "Wire 3    63.0  189.482681  99.513444   0.144144  95.135044  235.194977   \n",
       "Wire 4    14.0   57.442841  28.824667  24.148801  40.807002   45.234282   \n",
       "Wire 5     1.0   15.132000        NaN  15.132000  15.132000   15.132000   \n",
       "Wire 6    73.0   48.016974  33.919845   0.034320  25.053600   42.076324   \n",
       "Wire 7    11.0   10.039007   8.610584   0.234208   6.762756    9.017009   \n",
       "Wire 8    19.0   53.625193  16.881728  45.076721  46.094879   46.279999   \n",
       "Wire 9    29.0   34.155752  19.931616   4.622800  22.058401   30.066399   \n",
       "\n",
       "               75%         max  \n",
       "Wire 1  126.060484  330.314424  \n",
       "Wire 2   70.227558  282.780152  \n",
       "Wire 3  276.252014  385.008668  \n",
       "Wire 4   76.124619  113.231044  \n",
       "Wire 5   15.132000   15.132000  \n",
       "Wire 6   64.212723  180.454575  \n",
       "Wire 7   11.886057   32.847674  \n",
       "Wire 8   48.089603  102.762401  \n",
       "Wire 9   43.862003   90.053604  "
      ]
     },
     "metadata": {},
     "output_type": "display_data"
    }
   ],
   "source": [
    "data_wire.info()\n",
    "display(data_wire.describe().T)"
   ]
  },
  {
   "cell_type": "code",
   "execution_count": 20,
   "metadata": {},
   "outputs": [
    {
     "data": {
      "image/png": "[encoded data removed]",
      "text/plain": [
       "<Figure size 1152x360 with 1 Axes>"
      ]
     },
     "metadata": {
      "needs_background": "light"
     },
     "output_type": "display_data"
    }
   ],
   "source": [
    "bp = data_wire.boxplot(figsize=(16,5))"
   ]
  },
  {
   "cell_type": "code",
   "execution_count": 21,
   "metadata": {},
   "outputs": [],
   "source": [
    "data_wire = data_wire.fillna(0)\n",
    "data_wire_time = data_wire_time.astype('datetime64[ns]')"
   ]
  },
  {
   "cell_type": "markdown",
   "metadata": {},
   "source": [
    "---\n",
    "### План дальнейших действий:"
   ]
  },
  {
   "cell_type": "markdown",
   "metadata": {},
   "source": [
    "<div class=\"alert alert-block alert-info\">\n",
    "\n",
    "1. ___Выделить целевой признак:___  \n",
    "\n",
    "    - будем предсказывать температуру расплава непосредственно   перед передачей  \n",
    "    на дальнейшую переработку (на доводку металла или в машину непрерывной разливки).  \n",
    "    Т.е. измерение этой температуры должна быть последней операцией в данной партии.   \n",
    "    \n",
    "    \n",
    "    \n",
    "2. ___Сформировать признаки для обучения модели:___\n",
    "\n",
    "    - из данных по электродам вычислить количество внесенной энергии  \n",
    "    (сумма произведений активной мощности на время воздействия в данной партии)   \n",
    "    - из результатов измерения температуры извлечь начальную температуру расплава  \n",
    "    и время нахождения расплава в ковше  \n",
    "    - данные по продувке газом, подаче сыпучих и проволочных материалов  \n",
    "    присоединить по номеру партии в таблицу признаков\n",
    "    \n",
    "    \n",
    "3. ___Выделить тренировочную и тестовую выборку___   \n",
    "\n",
    "    - в пропорции 75% - 25%\n",
    "\n",
    "\n",
    "4. ___Обучить несколько моделей на тренировочной выборке с целевой метрикой MAE___\n",
    "\n",
    "\n",
    "5. ___Выбрать лучшую модель на тестовых данных___\n",
    "\n",
    "\n",
    "6. ___Определить влияние признаков на предсказание модели___ \n"
   ]
  },
  {
   "cell_type": "code",
   "execution_count": null,
   "metadata": {},
   "outputs": [],
   "source": []
  },
  {
   "cell_type": "markdown",
   "metadata": {},
   "source": [
    "### Подготовка признаков:"
   ]
  },
  {
   "cell_type": "code",
   "execution_count": 22,
   "metadata": {},
   "outputs": [
    {
     "data": {
      "text/html": [
       "<div>\n",
       "<style scoped>\n",
       "    .dataframe tbody tr th:only-of-type {\n",
       "        vertical-align: middle;\n",
       "    }\n",
       "\n",
       "    .dataframe tbody tr th {\n",
       "        vertical-align: top;\n",
       "    }\n",
       "\n",
       "    .dataframe thead th {\n",
       "        text-align: right;\n",
       "    }\n",
       "</style>\n",
       "<table border=\"1\" class=\"dataframe\">\n",
       "  <thead>\n",
       "    <tr style=\"text-align: right;\">\n",
       "      <th></th>\n",
       "      <th>out_time</th>\n",
       "      <th>temp_in</th>\n",
       "      <th>temp_out</th>\n",
       "      <th>duration</th>\n",
       "    </tr>\n",
       "    <tr>\n",
       "      <th>key</th>\n",
       "      <th></th>\n",
       "      <th></th>\n",
       "      <th></th>\n",
       "      <th></th>\n",
       "    </tr>\n",
       "  </thead>\n",
       "  <tbody>\n",
       "    <tr>\n",
       "      <td>1</td>\n",
       "      <td>2019-05-03 11:30:39</td>\n",
       "      <td>1571.0</td>\n",
       "      <td>1613.0</td>\n",
       "      <td>861.0</td>\n",
       "    </tr>\n",
       "    <tr>\n",
       "      <td>2</td>\n",
       "      <td>2019-05-03 11:59:12</td>\n",
       "      <td>1581.0</td>\n",
       "      <td>1602.0</td>\n",
       "      <td>1305.0</td>\n",
       "    </tr>\n",
       "    <tr>\n",
       "      <td>3</td>\n",
       "      <td>2019-05-03 12:34:57</td>\n",
       "      <td>1596.0</td>\n",
       "      <td>1599.0</td>\n",
       "      <td>1300.0</td>\n",
       "    </tr>\n",
       "    <tr>\n",
       "      <td>4</td>\n",
       "      <td>2019-05-03 12:59:25</td>\n",
       "      <td>1601.0</td>\n",
       "      <td>1625.0</td>\n",
       "      <td>388.0</td>\n",
       "    </tr>\n",
       "    <tr>\n",
       "      <td>5</td>\n",
       "      <td>2019-05-03 13:36:01</td>\n",
       "      <td>1576.0</td>\n",
       "      <td>1602.0</td>\n",
       "      <td>762.0</td>\n",
       "    </tr>\n",
       "    <tr>\n",
       "      <td>...</td>\n",
       "      <td>...</td>\n",
       "      <td>...</td>\n",
       "      <td>...</td>\n",
       "      <td>...</td>\n",
       "    </tr>\n",
       "    <tr>\n",
       "      <td>2495</td>\n",
       "      <td>2019-08-06 00:54:42</td>\n",
       "      <td>1570.0</td>\n",
       "      <td>1591.0</td>\n",
       "      <td>1137.0</td>\n",
       "    </tr>\n",
       "    <tr>\n",
       "      <td>2496</td>\n",
       "      <td>2019-08-06 01:29:52</td>\n",
       "      <td>1554.0</td>\n",
       "      <td>1591.0</td>\n",
       "      <td>1618.0</td>\n",
       "    </tr>\n",
       "    <tr>\n",
       "      <td>2497</td>\n",
       "      <td>2019-08-06 01:53:50</td>\n",
       "      <td>1571.0</td>\n",
       "      <td>1589.0</td>\n",
       "      <td>717.0</td>\n",
       "    </tr>\n",
       "    <tr>\n",
       "      <td>2498</td>\n",
       "      <td>2019-08-06 02:25:31</td>\n",
       "      <td>1591.0</td>\n",
       "      <td>1594.0</td>\n",
       "      <td>1302.0</td>\n",
       "    </tr>\n",
       "    <tr>\n",
       "      <td>2499</td>\n",
       "      <td>2019-08-06 03:00:28</td>\n",
       "      <td>1569.0</td>\n",
       "      <td>1603.0</td>\n",
       "      <td>1203.0</td>\n",
       "    </tr>\n",
       "  </tbody>\n",
       "</table>\n",
       "<p>2475 rows × 4 columns</p>\n",
       "</div>"
      ],
      "text/plain": [
       "                out_time  temp_in  temp_out  duration\n",
       "key                                                  \n",
       "1    2019-05-03 11:30:39   1571.0    1613.0     861.0\n",
       "2    2019-05-03 11:59:12   1581.0    1602.0    1305.0\n",
       "3    2019-05-03 12:34:57   1596.0    1599.0    1300.0\n",
       "4    2019-05-03 12:59:25   1601.0    1625.0     388.0\n",
       "5    2019-05-03 13:36:01   1576.0    1602.0     762.0\n",
       "...                  ...      ...       ...       ...\n",
       "2495 2019-08-06 00:54:42   1570.0    1591.0    1137.0\n",
       "2496 2019-08-06 01:29:52   1554.0    1591.0    1618.0\n",
       "2497 2019-08-06 01:53:50   1571.0    1589.0     717.0\n",
       "2498 2019-08-06 02:25:31   1591.0    1594.0    1302.0\n",
       "2499 2019-08-06 03:00:28   1569.0    1603.0    1203.0\n",
       "\n",
       "[2475 rows x 4 columns]"
      ]
     },
     "execution_count": 22,
     "metadata": {},
     "output_type": "execute_result"
    }
   ],
   "source": [
    "data_temp = data_temp.fillna(0)\n",
    "data = data_temp.pivot_table(index='key', aggfunc=('first', 'last'))\n",
    "data.columns = ['in_time', 'out_time', 'temp_in', 'temp_out']\n",
    "\n",
    "data['duration'] = (data.out_time - data.in_time) / np.timedelta64(1, 's')\n",
    "data = data.query('temp_out > 0 and duration > 0').drop('in_time', axis=1)\n",
    "data"
   ]
  },
  {
   "cell_type": "code",
   "execution_count": 23,
   "metadata": {},
   "outputs": [
    {
     "data": {
      "text/html": [
       "<div>\n",
       "<style scoped>\n",
       "    .dataframe tbody tr th:only-of-type {\n",
       "        vertical-align: middle;\n",
       "    }\n",
       "\n",
       "    .dataframe tbody tr th {\n",
       "        vertical-align: top;\n",
       "    }\n",
       "\n",
       "    .dataframe thead th {\n",
       "        text-align: right;\n",
       "    }\n",
       "</style>\n",
       "<table border=\"1\" class=\"dataframe\">\n",
       "  <thead>\n",
       "    <tr style=\"text-align: right;\">\n",
       "      <th></th>\n",
       "      <th>out_time</th>\n",
       "      <th>temp_in</th>\n",
       "      <th>temp_out</th>\n",
       "      <th>duration</th>\n",
       "      <th>last_bulk</th>\n",
       "      <th>last_wire</th>\n",
       "    </tr>\n",
       "    <tr>\n",
       "      <th>key</th>\n",
       "      <th></th>\n",
       "      <th></th>\n",
       "      <th></th>\n",
       "      <th></th>\n",
       "      <th></th>\n",
       "      <th></th>\n",
       "    </tr>\n",
       "  </thead>\n",
       "  <tbody>\n",
       "    <tr>\n",
       "      <td>1</td>\n",
       "      <td>2019-05-03 11:30:39</td>\n",
       "      <td>1571.0</td>\n",
       "      <td>1613.0</td>\n",
       "      <td>861.0</td>\n",
       "      <td>2019-05-03 11:21:30</td>\n",
       "      <td>2019-05-03 11:11:41</td>\n",
       "    </tr>\n",
       "    <tr>\n",
       "      <td>2</td>\n",
       "      <td>2019-05-03 11:59:12</td>\n",
       "      <td>1581.0</td>\n",
       "      <td>1602.0</td>\n",
       "      <td>1305.0</td>\n",
       "      <td>2019-05-03 11:46:38</td>\n",
       "      <td>2019-05-03 11:46:10</td>\n",
       "    </tr>\n",
       "    <tr>\n",
       "      <td>3</td>\n",
       "      <td>2019-05-03 12:34:57</td>\n",
       "      <td>1596.0</td>\n",
       "      <td>1599.0</td>\n",
       "      <td>1300.0</td>\n",
       "      <td>2019-05-03 12:31:06</td>\n",
       "      <td>2019-05-03 12:13:47</td>\n",
       "    </tr>\n",
       "    <tr>\n",
       "      <td>4</td>\n",
       "      <td>2019-05-03 12:59:25</td>\n",
       "      <td>1601.0</td>\n",
       "      <td>1625.0</td>\n",
       "      <td>388.0</td>\n",
       "      <td>2019-05-03 12:48:43</td>\n",
       "      <td>2019-05-03 12:48:05</td>\n",
       "    </tr>\n",
       "    <tr>\n",
       "      <td>5</td>\n",
       "      <td>2019-05-03 13:36:01</td>\n",
       "      <td>1576.0</td>\n",
       "      <td>1602.0</td>\n",
       "      <td>762.0</td>\n",
       "      <td>2019-05-03 13:18:50</td>\n",
       "      <td>2019-05-03 13:32:06</td>\n",
       "    </tr>\n",
       "    <tr>\n",
       "      <td>...</td>\n",
       "      <td>...</td>\n",
       "      <td>...</td>\n",
       "      <td>...</td>\n",
       "      <td>...</td>\n",
       "      <td>...</td>\n",
       "      <td>...</td>\n",
       "    </tr>\n",
       "    <tr>\n",
       "      <td>2495</td>\n",
       "      <td>2019-08-06 00:54:42</td>\n",
       "      <td>1570.0</td>\n",
       "      <td>1591.0</td>\n",
       "      <td>1137.0</td>\n",
       "      <td>2019-08-06 00:49:21</td>\n",
       "      <td>2019-08-06 00:36:13</td>\n",
       "    </tr>\n",
       "    <tr>\n",
       "      <td>2496</td>\n",
       "      <td>2019-08-06 01:29:52</td>\n",
       "      <td>1554.0</td>\n",
       "      <td>1591.0</td>\n",
       "      <td>1618.0</td>\n",
       "      <td>2019-08-06 01:14:16</td>\n",
       "      <td>2019-08-06 01:13:33</td>\n",
       "    </tr>\n",
       "    <tr>\n",
       "      <td>2497</td>\n",
       "      <td>2019-08-06 01:53:50</td>\n",
       "      <td>1571.0</td>\n",
       "      <td>1589.0</td>\n",
       "      <td>717.0</td>\n",
       "      <td>2019-08-06 01:43:02</td>\n",
       "      <td>2019-08-06 01:42:51</td>\n",
       "    </tr>\n",
       "    <tr>\n",
       "      <td>2498</td>\n",
       "      <td>2019-08-06 02:25:31</td>\n",
       "      <td>1591.0</td>\n",
       "      <td>1594.0</td>\n",
       "      <td>1302.0</td>\n",
       "      <td>2019-08-06 02:05:26</td>\n",
       "      <td>2019-08-06 02:04:20</td>\n",
       "    </tr>\n",
       "    <tr>\n",
       "      <td>2499</td>\n",
       "      <td>2019-08-06 03:00:28</td>\n",
       "      <td>1569.0</td>\n",
       "      <td>1603.0</td>\n",
       "      <td>1203.0</td>\n",
       "      <td>2019-08-06 02:40:36</td>\n",
       "      <td>2019-08-06 02:41:06</td>\n",
       "    </tr>\n",
       "  </tbody>\n",
       "</table>\n",
       "<p>2475 rows × 6 columns</p>\n",
       "</div>"
      ],
      "text/plain": [
       "                out_time  temp_in  temp_out  duration           last_bulk  \\\n",
       "key                                                                         \n",
       "1    2019-05-03 11:30:39   1571.0    1613.0     861.0 2019-05-03 11:21:30   \n",
       "2    2019-05-03 11:59:12   1581.0    1602.0    1305.0 2019-05-03 11:46:38   \n",
       "3    2019-05-03 12:34:57   1596.0    1599.0    1300.0 2019-05-03 12:31:06   \n",
       "4    2019-05-03 12:59:25   1601.0    1625.0     388.0 2019-05-03 12:48:43   \n",
       "5    2019-05-03 13:36:01   1576.0    1602.0     762.0 2019-05-03 13:18:50   \n",
       "...                  ...      ...       ...       ...                 ...   \n",
       "2495 2019-08-06 00:54:42   1570.0    1591.0    1137.0 2019-08-06 00:49:21   \n",
       "2496 2019-08-06 01:29:52   1554.0    1591.0    1618.0 2019-08-06 01:14:16   \n",
       "2497 2019-08-06 01:53:50   1571.0    1589.0     717.0 2019-08-06 01:43:02   \n",
       "2498 2019-08-06 02:25:31   1591.0    1594.0    1302.0 2019-08-06 02:05:26   \n",
       "2499 2019-08-06 03:00:28   1569.0    1603.0    1203.0 2019-08-06 02:40:36   \n",
       "\n",
       "               last_wire  \n",
       "key                       \n",
       "1    2019-05-03 11:11:41  \n",
       "2    2019-05-03 11:46:10  \n",
       "3    2019-05-03 12:13:47  \n",
       "4    2019-05-03 12:48:05  \n",
       "5    2019-05-03 13:32:06  \n",
       "...                  ...  \n",
       "2495 2019-08-06 00:36:13  \n",
       "2496 2019-08-06 01:13:33  \n",
       "2497 2019-08-06 01:42:51  \n",
       "2498 2019-08-06 02:04:20  \n",
       "2499 2019-08-06 02:41:06  \n",
       "\n",
       "[2475 rows x 6 columns]"
      ]
     },
     "execution_count": 23,
     "metadata": {},
     "output_type": "execute_result"
    }
   ],
   "source": [
    "last_bulk = data_bulk_time.max(axis=1)\n",
    "last_wire = data_wire_time.max(axis=1)\n",
    "last_additions = pd.DataFrame({'last_bulk':last_bulk, 'last_wire':last_wire})\n",
    "data = data.join(last_additions)\n",
    "data"
   ]
  },
  {
   "cell_type": "markdown",
   "metadata": {},
   "source": [
    "оставим партии, где измерение температуры - последняя операция, и удалим вспомогательные параметры:"
   ]
  },
  {
   "cell_type": "code",
   "execution_count": 24,
   "metadata": {},
   "outputs": [
    {
     "data": {
      "text/html": [
       "<div>\n",
       "<style scoped>\n",
       "    .dataframe tbody tr th:only-of-type {\n",
       "        vertical-align: middle;\n",
       "    }\n",
       "\n",
       "    .dataframe tbody tr th {\n",
       "        vertical-align: top;\n",
       "    }\n",
       "\n",
       "    .dataframe thead th {\n",
       "        text-align: right;\n",
       "    }\n",
       "</style>\n",
       "<table border=\"1\" class=\"dataframe\">\n",
       "  <thead>\n",
       "    <tr style=\"text-align: right;\">\n",
       "      <th></th>\n",
       "      <th>temp_in</th>\n",
       "      <th>temp_out</th>\n",
       "      <th>duration</th>\n",
       "    </tr>\n",
       "    <tr>\n",
       "      <th>key</th>\n",
       "      <th></th>\n",
       "      <th></th>\n",
       "      <th></th>\n",
       "    </tr>\n",
       "  </thead>\n",
       "  <tbody>\n",
       "    <tr>\n",
       "      <td>1</td>\n",
       "      <td>1571.0</td>\n",
       "      <td>1613.0</td>\n",
       "      <td>861.0</td>\n",
       "    </tr>\n",
       "    <tr>\n",
       "      <td>2</td>\n",
       "      <td>1581.0</td>\n",
       "      <td>1602.0</td>\n",
       "      <td>1305.0</td>\n",
       "    </tr>\n",
       "    <tr>\n",
       "      <td>3</td>\n",
       "      <td>1596.0</td>\n",
       "      <td>1599.0</td>\n",
       "      <td>1300.0</td>\n",
       "    </tr>\n",
       "    <tr>\n",
       "      <td>4</td>\n",
       "      <td>1601.0</td>\n",
       "      <td>1625.0</td>\n",
       "      <td>388.0</td>\n",
       "    </tr>\n",
       "    <tr>\n",
       "      <td>5</td>\n",
       "      <td>1576.0</td>\n",
       "      <td>1602.0</td>\n",
       "      <td>762.0</td>\n",
       "    </tr>\n",
       "    <tr>\n",
       "      <td>...</td>\n",
       "      <td>...</td>\n",
       "      <td>...</td>\n",
       "      <td>...</td>\n",
       "    </tr>\n",
       "    <tr>\n",
       "      <td>2495</td>\n",
       "      <td>1570.0</td>\n",
       "      <td>1591.0</td>\n",
       "      <td>1137.0</td>\n",
       "    </tr>\n",
       "    <tr>\n",
       "      <td>2496</td>\n",
       "      <td>1554.0</td>\n",
       "      <td>1591.0</td>\n",
       "      <td>1618.0</td>\n",
       "    </tr>\n",
       "    <tr>\n",
       "      <td>2497</td>\n",
       "      <td>1571.0</td>\n",
       "      <td>1589.0</td>\n",
       "      <td>717.0</td>\n",
       "    </tr>\n",
       "    <tr>\n",
       "      <td>2498</td>\n",
       "      <td>1591.0</td>\n",
       "      <td>1594.0</td>\n",
       "      <td>1302.0</td>\n",
       "    </tr>\n",
       "    <tr>\n",
       "      <td>2499</td>\n",
       "      <td>1569.0</td>\n",
       "      <td>1603.0</td>\n",
       "      <td>1203.0</td>\n",
       "    </tr>\n",
       "  </tbody>\n",
       "</table>\n",
       "<p>2322 rows × 3 columns</p>\n",
       "</div>"
      ],
      "text/plain": [
       "      temp_in  temp_out  duration\n",
       "key                              \n",
       "1      1571.0    1613.0     861.0\n",
       "2      1581.0    1602.0    1305.0\n",
       "3      1596.0    1599.0    1300.0\n",
       "4      1601.0    1625.0     388.0\n",
       "5      1576.0    1602.0     762.0\n",
       "...       ...       ...       ...\n",
       "2495   1570.0    1591.0    1137.0\n",
       "2496   1554.0    1591.0    1618.0\n",
       "2497   1571.0    1589.0     717.0\n",
       "2498   1591.0    1594.0    1302.0\n",
       "2499   1569.0    1603.0    1203.0\n",
       "\n",
       "[2322 rows x 3 columns]"
      ]
     },
     "execution_count": 24,
     "metadata": {},
     "output_type": "execute_result"
    }
   ],
   "source": [
    "data = data.query('last_bulk < out_time and last_wire < out_time')\n",
    "data = data.drop(['out_time', 'last_bulk', 'last_wire'], axis=1)\n",
    "data"
   ]
  },
  {
   "cell_type": "markdown",
   "metadata": {},
   "source": [
    "расчет электроэнергии затраченной на нагрев каждой партии:"
   ]
  },
  {
   "cell_type": "code",
   "execution_count": 25,
   "metadata": {
    "scrolled": false
   },
   "outputs": [
    {
     "data": {
      "text/html": [
       "<div>\n",
       "<style scoped>\n",
       "    .dataframe tbody tr th:only-of-type {\n",
       "        vertical-align: middle;\n",
       "    }\n",
       "\n",
       "    .dataframe tbody tr th {\n",
       "        vertical-align: top;\n",
       "    }\n",
       "\n",
       "    .dataframe thead th {\n",
       "        text-align: right;\n",
       "    }\n",
       "</style>\n",
       "<table border=\"1\" class=\"dataframe\">\n",
       "  <thead>\n",
       "    <tr style=\"text-align: right;\">\n",
       "      <th></th>\n",
       "      <th>energy</th>\n",
       "    </tr>\n",
       "    <tr>\n",
       "      <th>key</th>\n",
       "      <th></th>\n",
       "    </tr>\n",
       "  </thead>\n",
       "  <tbody>\n",
       "    <tr>\n",
       "      <td>1</td>\n",
       "      <td>1207.804249</td>\n",
       "    </tr>\n",
       "    <tr>\n",
       "      <td>2</td>\n",
       "      <td>733.816470</td>\n",
       "    </tr>\n",
       "    <tr>\n",
       "      <td>3</td>\n",
       "      <td>443.583327</td>\n",
       "    </tr>\n",
       "    <tr>\n",
       "      <td>4</td>\n",
       "      <td>670.663327</td>\n",
       "    </tr>\n",
       "    <tr>\n",
       "      <td>5</td>\n",
       "      <td>997.496095</td>\n",
       "    </tr>\n",
       "    <tr>\n",
       "      <td>...</td>\n",
       "      <td>...</td>\n",
       "    </tr>\n",
       "    <tr>\n",
       "      <td>3237</td>\n",
       "      <td>777.993447</td>\n",
       "    </tr>\n",
       "    <tr>\n",
       "      <td>3238</td>\n",
       "      <td>432.849310</td>\n",
       "    </tr>\n",
       "    <tr>\n",
       "      <td>3239</td>\n",
       "      <td>844.977151</td>\n",
       "    </tr>\n",
       "    <tr>\n",
       "      <td>3240</td>\n",
       "      <td>554.283211</td>\n",
       "    </tr>\n",
       "    <tr>\n",
       "      <td>3241</td>\n",
       "      <td>378.024840</td>\n",
       "    </tr>\n",
       "  </tbody>\n",
       "</table>\n",
       "<p>3214 rows × 1 columns</p>\n",
       "</div>"
      ],
      "text/plain": [
       "           energy\n",
       "key              \n",
       "1     1207.804249\n",
       "2      733.816470\n",
       "3      443.583327\n",
       "4      670.663327\n",
       "5      997.496095\n",
       "...           ...\n",
       "3237   777.993447\n",
       "3238   432.849310\n",
       "3239   844.977151\n",
       "3240   554.283211\n",
       "3241   378.024840\n",
       "\n",
       "[3214 rows x 1 columns]"
      ]
     },
     "execution_count": 25,
     "metadata": {},
     "output_type": "execute_result"
    }
   ],
   "source": [
    "data_arc['energy'] = ((data_arc['Конец нагрева дугой'] - data_arc['Начало нагрева дугой']) / \n",
    "                       np.timedelta64(1, 's') * data_arc['Активная мощность'])\n",
    "data_energy = data_arc.pivot_table(index='key', aggfunc={'energy':'sum'})\n",
    "data_energy"
   ]
  },
  {
   "cell_type": "markdown",
   "metadata": {},
   "source": [
    "объединим все потенциально важные параметры:"
   ]
  },
  {
   "cell_type": "code",
   "execution_count": 26,
   "metadata": {},
   "outputs": [
    {
     "data": {
      "text/html": [
       "<div>\n",
       "<style scoped>\n",
       "    .dataframe tbody tr th:only-of-type {\n",
       "        vertical-align: middle;\n",
       "    }\n",
       "\n",
       "    .dataframe tbody tr th {\n",
       "        vertical-align: top;\n",
       "    }\n",
       "\n",
       "    .dataframe thead th {\n",
       "        text-align: right;\n",
       "    }\n",
       "</style>\n",
       "<table border=\"1\" class=\"dataframe\">\n",
       "  <thead>\n",
       "    <tr style=\"text-align: right;\">\n",
       "      <th></th>\n",
       "      <th>temp_in</th>\n",
       "      <th>temp_out</th>\n",
       "      <th>duration</th>\n",
       "      <th>energy</th>\n",
       "      <th>gas</th>\n",
       "      <th>Bulk 1</th>\n",
       "      <th>Bulk 2</th>\n",
       "      <th>Bulk 3</th>\n",
       "      <th>Bulk 4</th>\n",
       "      <th>Bulk 5</th>\n",
       "      <th>...</th>\n",
       "      <th>Bulk 14</th>\n",
       "      <th>Bulk 15</th>\n",
       "      <th>Wire 1</th>\n",
       "      <th>Wire 2</th>\n",
       "      <th>Wire 3</th>\n",
       "      <th>Wire 4</th>\n",
       "      <th>Wire 6</th>\n",
       "      <th>Wire 7</th>\n",
       "      <th>Wire 8</th>\n",
       "      <th>Wire 9</th>\n",
       "    </tr>\n",
       "    <tr>\n",
       "      <th>key</th>\n",
       "      <th></th>\n",
       "      <th></th>\n",
       "      <th></th>\n",
       "      <th></th>\n",
       "      <th></th>\n",
       "      <th></th>\n",
       "      <th></th>\n",
       "      <th></th>\n",
       "      <th></th>\n",
       "      <th></th>\n",
       "      <th></th>\n",
       "      <th></th>\n",
       "      <th></th>\n",
       "      <th></th>\n",
       "      <th></th>\n",
       "      <th></th>\n",
       "      <th></th>\n",
       "      <th></th>\n",
       "      <th></th>\n",
       "      <th></th>\n",
       "      <th></th>\n",
       "    </tr>\n",
       "  </thead>\n",
       "  <tbody>\n",
       "    <tr>\n",
       "      <td>1</td>\n",
       "      <td>1571.0</td>\n",
       "      <td>1613.0</td>\n",
       "      <td>861.0</td>\n",
       "      <td>1207.804249</td>\n",
       "      <td>29.749986</td>\n",
       "      <td>0.0</td>\n",
       "      <td>0.0</td>\n",
       "      <td>0.0</td>\n",
       "      <td>43.0</td>\n",
       "      <td>0.0</td>\n",
       "      <td>...</td>\n",
       "      <td>150.0</td>\n",
       "      <td>154.0</td>\n",
       "      <td>60.059998</td>\n",
       "      <td>0.00000</td>\n",
       "      <td>0.0</td>\n",
       "      <td>0.0</td>\n",
       "      <td>0.0</td>\n",
       "      <td>0.0</td>\n",
       "      <td>0.0</td>\n",
       "      <td>0.0</td>\n",
       "    </tr>\n",
       "    <tr>\n",
       "      <td>2</td>\n",
       "      <td>1581.0</td>\n",
       "      <td>1602.0</td>\n",
       "      <td>1305.0</td>\n",
       "      <td>733.816470</td>\n",
       "      <td>12.555561</td>\n",
       "      <td>0.0</td>\n",
       "      <td>0.0</td>\n",
       "      <td>0.0</td>\n",
       "      <td>73.0</td>\n",
       "      <td>0.0</td>\n",
       "      <td>...</td>\n",
       "      <td>149.0</td>\n",
       "      <td>154.0</td>\n",
       "      <td>96.052315</td>\n",
       "      <td>0.00000</td>\n",
       "      <td>0.0</td>\n",
       "      <td>0.0</td>\n",
       "      <td>0.0</td>\n",
       "      <td>0.0</td>\n",
       "      <td>0.0</td>\n",
       "      <td>0.0</td>\n",
       "    </tr>\n",
       "    <tr>\n",
       "      <td>3</td>\n",
       "      <td>1596.0</td>\n",
       "      <td>1599.0</td>\n",
       "      <td>1300.0</td>\n",
       "      <td>443.583327</td>\n",
       "      <td>28.554793</td>\n",
       "      <td>0.0</td>\n",
       "      <td>0.0</td>\n",
       "      <td>0.0</td>\n",
       "      <td>34.0</td>\n",
       "      <td>0.0</td>\n",
       "      <td>...</td>\n",
       "      <td>152.0</td>\n",
       "      <td>153.0</td>\n",
       "      <td>91.160157</td>\n",
       "      <td>0.00000</td>\n",
       "      <td>0.0</td>\n",
       "      <td>0.0</td>\n",
       "      <td>0.0</td>\n",
       "      <td>0.0</td>\n",
       "      <td>0.0</td>\n",
       "      <td>0.0</td>\n",
       "    </tr>\n",
       "    <tr>\n",
       "      <td>4</td>\n",
       "      <td>1601.0</td>\n",
       "      <td>1625.0</td>\n",
       "      <td>388.0</td>\n",
       "      <td>670.663327</td>\n",
       "      <td>18.841219</td>\n",
       "      <td>0.0</td>\n",
       "      <td>0.0</td>\n",
       "      <td>0.0</td>\n",
       "      <td>81.0</td>\n",
       "      <td>0.0</td>\n",
       "      <td>...</td>\n",
       "      <td>153.0</td>\n",
       "      <td>154.0</td>\n",
       "      <td>89.063515</td>\n",
       "      <td>0.00000</td>\n",
       "      <td>0.0</td>\n",
       "      <td>0.0</td>\n",
       "      <td>0.0</td>\n",
       "      <td>0.0</td>\n",
       "      <td>0.0</td>\n",
       "      <td>0.0</td>\n",
       "    </tr>\n",
       "    <tr>\n",
       "      <td>5</td>\n",
       "      <td>1576.0</td>\n",
       "      <td>1602.0</td>\n",
       "      <td>762.0</td>\n",
       "      <td>997.496095</td>\n",
       "      <td>5.413692</td>\n",
       "      <td>0.0</td>\n",
       "      <td>0.0</td>\n",
       "      <td>0.0</td>\n",
       "      <td>78.0</td>\n",
       "      <td>0.0</td>\n",
       "      <td>...</td>\n",
       "      <td>151.0</td>\n",
       "      <td>152.0</td>\n",
       "      <td>89.238236</td>\n",
       "      <td>9.11456</td>\n",
       "      <td>0.0</td>\n",
       "      <td>0.0</td>\n",
       "      <td>0.0</td>\n",
       "      <td>0.0</td>\n",
       "      <td>0.0</td>\n",
       "      <td>0.0</td>\n",
       "    </tr>\n",
       "    <tr>\n",
       "      <td>...</td>\n",
       "      <td>...</td>\n",
       "      <td>...</td>\n",
       "      <td>...</td>\n",
       "      <td>...</td>\n",
       "      <td>...</td>\n",
       "      <td>...</td>\n",
       "      <td>...</td>\n",
       "      <td>...</td>\n",
       "      <td>...</td>\n",
       "      <td>...</td>\n",
       "      <td>...</td>\n",
       "      <td>...</td>\n",
       "      <td>...</td>\n",
       "      <td>...</td>\n",
       "      <td>...</td>\n",
       "      <td>...</td>\n",
       "      <td>...</td>\n",
       "      <td>...</td>\n",
       "      <td>...</td>\n",
       "      <td>...</td>\n",
       "      <td>...</td>\n",
       "    </tr>\n",
       "    <tr>\n",
       "      <td>2495</td>\n",
       "      <td>1570.0</td>\n",
       "      <td>1591.0</td>\n",
       "      <td>1137.0</td>\n",
       "      <td>626.167357</td>\n",
       "      <td>7.125735</td>\n",
       "      <td>0.0</td>\n",
       "      <td>0.0</td>\n",
       "      <td>21.0</td>\n",
       "      <td>0.0</td>\n",
       "      <td>0.0</td>\n",
       "      <td>...</td>\n",
       "      <td>129.0</td>\n",
       "      <td>223.0</td>\n",
       "      <td>89.150879</td>\n",
       "      <td>0.00000</td>\n",
       "      <td>0.0</td>\n",
       "      <td>0.0</td>\n",
       "      <td>0.0</td>\n",
       "      <td>0.0</td>\n",
       "      <td>0.0</td>\n",
       "      <td>0.0</td>\n",
       "    </tr>\n",
       "    <tr>\n",
       "      <td>2496</td>\n",
       "      <td>1554.0</td>\n",
       "      <td>1591.0</td>\n",
       "      <td>1618.0</td>\n",
       "      <td>727.868032</td>\n",
       "      <td>9.412616</td>\n",
       "      <td>0.0</td>\n",
       "      <td>0.0</td>\n",
       "      <td>0.0</td>\n",
       "      <td>63.0</td>\n",
       "      <td>0.0</td>\n",
       "      <td>...</td>\n",
       "      <td>129.0</td>\n",
       "      <td>226.0</td>\n",
       "      <td>114.179527</td>\n",
       "      <td>0.00000</td>\n",
       "      <td>0.0</td>\n",
       "      <td>0.0</td>\n",
       "      <td>0.0</td>\n",
       "      <td>0.0</td>\n",
       "      <td>0.0</td>\n",
       "      <td>0.0</td>\n",
       "    </tr>\n",
       "    <tr>\n",
       "      <td>2497</td>\n",
       "      <td>1571.0</td>\n",
       "      <td>1589.0</td>\n",
       "      <td>717.0</td>\n",
       "      <td>427.535518</td>\n",
       "      <td>6.271699</td>\n",
       "      <td>0.0</td>\n",
       "      <td>0.0</td>\n",
       "      <td>0.0</td>\n",
       "      <td>85.0</td>\n",
       "      <td>0.0</td>\n",
       "      <td>...</td>\n",
       "      <td>124.0</td>\n",
       "      <td>226.0</td>\n",
       "      <td>94.086723</td>\n",
       "      <td>9.04800</td>\n",
       "      <td>0.0</td>\n",
       "      <td>0.0</td>\n",
       "      <td>0.0</td>\n",
       "      <td>0.0</td>\n",
       "      <td>0.0</td>\n",
       "      <td>0.0</td>\n",
       "    </tr>\n",
       "    <tr>\n",
       "      <td>2498</td>\n",
       "      <td>1591.0</td>\n",
       "      <td>1594.0</td>\n",
       "      <td>1302.0</td>\n",
       "      <td>629.928649</td>\n",
       "      <td>14.953657</td>\n",
       "      <td>0.0</td>\n",
       "      <td>0.0</td>\n",
       "      <td>90.0</td>\n",
       "      <td>0.0</td>\n",
       "      <td>0.0</td>\n",
       "      <td>...</td>\n",
       "      <td>129.0</td>\n",
       "      <td>207.0</td>\n",
       "      <td>118.110717</td>\n",
       "      <td>0.00000</td>\n",
       "      <td>0.0</td>\n",
       "      <td>0.0</td>\n",
       "      <td>0.0</td>\n",
       "      <td>0.0</td>\n",
       "      <td>0.0</td>\n",
       "      <td>0.0</td>\n",
       "    </tr>\n",
       "    <tr>\n",
       "      <td>2499</td>\n",
       "      <td>1569.0</td>\n",
       "      <td>1603.0</td>\n",
       "      <td>1203.0</td>\n",
       "      <td>1075.132183</td>\n",
       "      <td>11.336151</td>\n",
       "      <td>0.0</td>\n",
       "      <td>0.0</td>\n",
       "      <td>47.0</td>\n",
       "      <td>0.0</td>\n",
       "      <td>0.0</td>\n",
       "      <td>...</td>\n",
       "      <td>126.0</td>\n",
       "      <td>227.0</td>\n",
       "      <td>110.160958</td>\n",
       "      <td>50.00528</td>\n",
       "      <td>0.0</td>\n",
       "      <td>0.0</td>\n",
       "      <td>0.0</td>\n",
       "      <td>0.0</td>\n",
       "      <td>0.0</td>\n",
       "      <td>0.0</td>\n",
       "    </tr>\n",
       "  </tbody>\n",
       "</table>\n",
       "<p>2322 rows × 27 columns</p>\n",
       "</div>"
      ],
      "text/plain": [
       "      temp_in  temp_out  duration       energy        gas  Bulk 1  Bulk 2  \\\n",
       "key                                                                         \n",
       "1      1571.0    1613.0     861.0  1207.804249  29.749986     0.0     0.0   \n",
       "2      1581.0    1602.0    1305.0   733.816470  12.555561     0.0     0.0   \n",
       "3      1596.0    1599.0    1300.0   443.583327  28.554793     0.0     0.0   \n",
       "4      1601.0    1625.0     388.0   670.663327  18.841219     0.0     0.0   \n",
       "5      1576.0    1602.0     762.0   997.496095   5.413692     0.0     0.0   \n",
       "...       ...       ...       ...          ...        ...     ...     ...   \n",
       "2495   1570.0    1591.0    1137.0   626.167357   7.125735     0.0     0.0   \n",
       "2496   1554.0    1591.0    1618.0   727.868032   9.412616     0.0     0.0   \n",
       "2497   1571.0    1589.0     717.0   427.535518   6.271699     0.0     0.0   \n",
       "2498   1591.0    1594.0    1302.0   629.928649  14.953657     0.0     0.0   \n",
       "2499   1569.0    1603.0    1203.0  1075.132183  11.336151     0.0     0.0   \n",
       "\n",
       "      Bulk 3  Bulk 4  Bulk 5  ...  Bulk 14  Bulk 15      Wire 1    Wire 2  \\\n",
       "key                           ...                                           \n",
       "1        0.0    43.0     0.0  ...    150.0    154.0   60.059998   0.00000   \n",
       "2        0.0    73.0     0.0  ...    149.0    154.0   96.052315   0.00000   \n",
       "3        0.0    34.0     0.0  ...    152.0    153.0   91.160157   0.00000   \n",
       "4        0.0    81.0     0.0  ...    153.0    154.0   89.063515   0.00000   \n",
       "5        0.0    78.0     0.0  ...    151.0    152.0   89.238236   9.11456   \n",
       "...      ...     ...     ...  ...      ...      ...         ...       ...   \n",
       "2495    21.0     0.0     0.0  ...    129.0    223.0   89.150879   0.00000   \n",
       "2496     0.0    63.0     0.0  ...    129.0    226.0  114.179527   0.00000   \n",
       "2497     0.0    85.0     0.0  ...    124.0    226.0   94.086723   9.04800   \n",
       "2498    90.0     0.0     0.0  ...    129.0    207.0  118.110717   0.00000   \n",
       "2499    47.0     0.0     0.0  ...    126.0    227.0  110.160958  50.00528   \n",
       "\n",
       "      Wire 3  Wire 4  Wire 6  Wire 7  Wire 8  Wire 9  \n",
       "key                                                   \n",
       "1        0.0     0.0     0.0     0.0     0.0     0.0  \n",
       "2        0.0     0.0     0.0     0.0     0.0     0.0  \n",
       "3        0.0     0.0     0.0     0.0     0.0     0.0  \n",
       "4        0.0     0.0     0.0     0.0     0.0     0.0  \n",
       "5        0.0     0.0     0.0     0.0     0.0     0.0  \n",
       "...      ...     ...     ...     ...     ...     ...  \n",
       "2495     0.0     0.0     0.0     0.0     0.0     0.0  \n",
       "2496     0.0     0.0     0.0     0.0     0.0     0.0  \n",
       "2497     0.0     0.0     0.0     0.0     0.0     0.0  \n",
       "2498     0.0     0.0     0.0     0.0     0.0     0.0  \n",
       "2499     0.0     0.0     0.0     0.0     0.0     0.0  \n",
       "\n",
       "[2322 rows x 27 columns]"
      ]
     },
     "execution_count": 26,
     "metadata": {},
     "output_type": "execute_result"
    }
   ],
   "source": [
    "data = data.join([data_energy, data_gas, data_bulk, data_wire])\n",
    "data = data.drop(['Bulk 8', 'Wire 5'], axis=1) # эти добавки использовались всего лишь по одному разу - удаляем\n",
    "data"
   ]
  },
  {
   "cell_type": "code",
   "execution_count": 27,
   "metadata": {
    "scrolled": false
   },
   "outputs": [
    {
     "data": {
      "text/html": [
       "<div>\n",
       "<style scoped>\n",
       "    .dataframe tbody tr th:only-of-type {\n",
       "        vertical-align: middle;\n",
       "    }\n",
       "\n",
       "    .dataframe tbody tr th {\n",
       "        vertical-align: top;\n",
       "    }\n",
       "\n",
       "    .dataframe thead th {\n",
       "        text-align: right;\n",
       "    }\n",
       "</style>\n",
       "<table border=\"1\" class=\"dataframe\">\n",
       "  <thead>\n",
       "    <tr style=\"text-align: right;\">\n",
       "      <th></th>\n",
       "      <th>count</th>\n",
       "      <th>mean</th>\n",
       "      <th>std</th>\n",
       "      <th>min</th>\n",
       "      <th>25%</th>\n",
       "      <th>50%</th>\n",
       "      <th>75%</th>\n",
       "      <th>max</th>\n",
       "    </tr>\n",
       "  </thead>\n",
       "  <tbody>\n",
       "    <tr>\n",
       "      <td>temp_in</td>\n",
       "      <td>2322.0</td>\n",
       "      <td>1587.365633</td>\n",
       "      <td>23.567723</td>\n",
       "      <td>1519.000000</td>\n",
       "      <td>1571.000000</td>\n",
       "      <td>1587.000000</td>\n",
       "      <td>1603.000000</td>\n",
       "      <td>1660.000000</td>\n",
       "    </tr>\n",
       "    <tr>\n",
       "      <td>temp_out</td>\n",
       "      <td>2322.0</td>\n",
       "      <td>1593.361757</td>\n",
       "      <td>11.187103</td>\n",
       "      <td>1541.000000</td>\n",
       "      <td>1587.000000</td>\n",
       "      <td>1593.000000</td>\n",
       "      <td>1598.000000</td>\n",
       "      <td>1653.000000</td>\n",
       "    </tr>\n",
       "    <tr>\n",
       "      <td>duration</td>\n",
       "      <td>2322.0</td>\n",
       "      <td>1900.195090</td>\n",
       "      <td>1322.188194</td>\n",
       "      <td>234.000000</td>\n",
       "      <td>1221.000000</td>\n",
       "      <td>1635.500000</td>\n",
       "      <td>2295.750000</td>\n",
       "      <td>23537.000000</td>\n",
       "    </tr>\n",
       "    <tr>\n",
       "      <td>energy</td>\n",
       "      <td>2322.0</td>\n",
       "      <td>721.215164</td>\n",
       "      <td>520.784233</td>\n",
       "      <td>10.614857</td>\n",
       "      <td>373.149110</td>\n",
       "      <td>610.677609</td>\n",
       "      <td>929.656690</td>\n",
       "      <td>8624.443403</td>\n",
       "    </tr>\n",
       "    <tr>\n",
       "      <td>gas</td>\n",
       "      <td>2320.0</td>\n",
       "      <td>11.387265</td>\n",
       "      <td>6.393307</td>\n",
       "      <td>0.008399</td>\n",
       "      <td>7.294619</td>\n",
       "      <td>10.106744</td>\n",
       "      <td>14.218487</td>\n",
       "      <td>77.995040</td>\n",
       "    </tr>\n",
       "    <tr>\n",
       "      <td>Bulk 1</td>\n",
       "      <td>2322.0</td>\n",
       "      <td>3.437984</td>\n",
       "      <td>12.429405</td>\n",
       "      <td>0.000000</td>\n",
       "      <td>0.000000</td>\n",
       "      <td>0.000000</td>\n",
       "      <td>0.000000</td>\n",
       "      <td>185.000000</td>\n",
       "    </tr>\n",
       "    <tr>\n",
       "      <td>Bulk 2</td>\n",
       "      <td>2322.0</td>\n",
       "      <td>1.426787</td>\n",
       "      <td>19.110712</td>\n",
       "      <td>0.000000</td>\n",
       "      <td>0.000000</td>\n",
       "      <td>0.000000</td>\n",
       "      <td>0.000000</td>\n",
       "      <td>325.000000</td>\n",
       "    </tr>\n",
       "    <tr>\n",
       "      <td>Bulk 3</td>\n",
       "      <td>2322.0</td>\n",
       "      <td>47.309216</td>\n",
       "      <td>75.338758</td>\n",
       "      <td>0.000000</td>\n",
       "      <td>0.000000</td>\n",
       "      <td>0.000000</td>\n",
       "      <td>79.750000</td>\n",
       "      <td>454.000000</td>\n",
       "    </tr>\n",
       "    <tr>\n",
       "      <td>Bulk 4</td>\n",
       "      <td>2322.0</td>\n",
       "      <td>37.360896</td>\n",
       "      <td>58.753252</td>\n",
       "      <td>0.000000</td>\n",
       "      <td>0.000000</td>\n",
       "      <td>0.000000</td>\n",
       "      <td>77.000000</td>\n",
       "      <td>281.000000</td>\n",
       "    </tr>\n",
       "    <tr>\n",
       "      <td>Bulk 5</td>\n",
       "      <td>2322.0</td>\n",
       "      <td>2.648148</td>\n",
       "      <td>22.435580</td>\n",
       "      <td>0.000000</td>\n",
       "      <td>0.000000</td>\n",
       "      <td>0.000000</td>\n",
       "      <td>0.000000</td>\n",
       "      <td>603.000000</td>\n",
       "    </tr>\n",
       "    <tr>\n",
       "      <td>Bulk 6</td>\n",
       "      <td>2322.0</td>\n",
       "      <td>22.335487</td>\n",
       "      <td>55.406810</td>\n",
       "      <td>0.000000</td>\n",
       "      <td>0.000000</td>\n",
       "      <td>0.000000</td>\n",
       "      <td>0.000000</td>\n",
       "      <td>503.000000</td>\n",
       "    </tr>\n",
       "    <tr>\n",
       "      <td>Bulk 7</td>\n",
       "      <td>2322.0</td>\n",
       "      <td>2.010767</td>\n",
       "      <td>30.722260</td>\n",
       "      <td>0.000000</td>\n",
       "      <td>0.000000</td>\n",
       "      <td>0.000000</td>\n",
       "      <td>0.000000</td>\n",
       "      <td>772.000000</td>\n",
       "    </tr>\n",
       "    <tr>\n",
       "      <td>Bulk 9</td>\n",
       "      <td>2322.0</td>\n",
       "      <td>0.446167</td>\n",
       "      <td>6.229966</td>\n",
       "      <td>0.000000</td>\n",
       "      <td>0.000000</td>\n",
       "      <td>0.000000</td>\n",
       "      <td>0.000000</td>\n",
       "      <td>147.000000</td>\n",
       "    </tr>\n",
       "    <tr>\n",
       "      <td>Bulk 10</td>\n",
       "      <td>2322.0</td>\n",
       "      <td>5.021533</td>\n",
       "      <td>20.838446</td>\n",
       "      <td>0.000000</td>\n",
       "      <td>0.000000</td>\n",
       "      <td>0.000000</td>\n",
       "      <td>0.000000</td>\n",
       "      <td>159.000000</td>\n",
       "    </tr>\n",
       "    <tr>\n",
       "      <td>Bulk 11</td>\n",
       "      <td>2322.0</td>\n",
       "      <td>4.236865</td>\n",
       "      <td>22.529235</td>\n",
       "      <td>0.000000</td>\n",
       "      <td>0.000000</td>\n",
       "      <td>0.000000</td>\n",
       "      <td>0.000000</td>\n",
       "      <td>313.000000</td>\n",
       "    </tr>\n",
       "    <tr>\n",
       "      <td>Bulk 12</td>\n",
       "      <td>2322.0</td>\n",
       "      <td>208.714040</td>\n",
       "      <td>156.839355</td>\n",
       "      <td>0.000000</td>\n",
       "      <td>105.000000</td>\n",
       "      <td>206.000000</td>\n",
       "      <td>281.750000</td>\n",
       "      <td>1849.000000</td>\n",
       "    </tr>\n",
       "    <tr>\n",
       "      <td>Bulk 13</td>\n",
       "      <td>2322.0</td>\n",
       "      <td>1.070629</td>\n",
       "      <td>14.256384</td>\n",
       "      <td>0.000000</td>\n",
       "      <td>0.000000</td>\n",
       "      <td>0.000000</td>\n",
       "      <td>0.000000</td>\n",
       "      <td>305.000000</td>\n",
       "    </tr>\n",
       "    <tr>\n",
       "      <td>Bulk 14</td>\n",
       "      <td>2322.0</td>\n",
       "      <td>154.145564</td>\n",
       "      <td>81.259222</td>\n",
       "      <td>0.000000</td>\n",
       "      <td>105.250000</td>\n",
       "      <td>149.000000</td>\n",
       "      <td>204.000000</td>\n",
       "      <td>636.000000</td>\n",
       "    </tr>\n",
       "    <tr>\n",
       "      <td>Bulk 15</td>\n",
       "      <td>2322.0</td>\n",
       "      <td>120.220069</td>\n",
       "      <td>84.524222</td>\n",
       "      <td>0.000000</td>\n",
       "      <td>0.000000</td>\n",
       "      <td>107.000000</td>\n",
       "      <td>204.000000</td>\n",
       "      <td>405.000000</td>\n",
       "    </tr>\n",
       "    <tr>\n",
       "      <td>Wire 1</td>\n",
       "      <td>2322.0</td>\n",
       "      <td>102.328558</td>\n",
       "      <td>43.562603</td>\n",
       "      <td>0.000000</td>\n",
       "      <td>73.148397</td>\n",
       "      <td>101.081759</td>\n",
       "      <td>127.705495</td>\n",
       "      <td>330.314424</td>\n",
       "    </tr>\n",
       "    <tr>\n",
       "      <td>Wire 2</td>\n",
       "      <td>2322.0</td>\n",
       "      <td>17.592638</td>\n",
       "      <td>33.641442</td>\n",
       "      <td>0.000000</td>\n",
       "      <td>0.000000</td>\n",
       "      <td>0.000000</td>\n",
       "      <td>23.102560</td>\n",
       "      <td>282.780152</td>\n",
       "    </tr>\n",
       "    <tr>\n",
       "      <td>Wire 3</td>\n",
       "      <td>2322.0</td>\n",
       "      <td>3.244668</td>\n",
       "      <td>27.984410</td>\n",
       "      <td>0.000000</td>\n",
       "      <td>0.000000</td>\n",
       "      <td>0.000000</td>\n",
       "      <td>0.000000</td>\n",
       "      <td>385.008668</td>\n",
       "    </tr>\n",
       "    <tr>\n",
       "      <td>Wire 4</td>\n",
       "      <td>2322.0</td>\n",
       "      <td>0.307474</td>\n",
       "      <td>4.764885</td>\n",
       "      <td>0.000000</td>\n",
       "      <td>0.000000</td>\n",
       "      <td>0.000000</td>\n",
       "      <td>0.000000</td>\n",
       "      <td>113.231044</td>\n",
       "    </tr>\n",
       "    <tr>\n",
       "      <td>Wire 6</td>\n",
       "      <td>2322.0</td>\n",
       "      <td>0.981771</td>\n",
       "      <td>8.706232</td>\n",
       "      <td>0.000000</td>\n",
       "      <td>0.000000</td>\n",
       "      <td>0.000000</td>\n",
       "      <td>0.000000</td>\n",
       "      <td>180.454575</td>\n",
       "    </tr>\n",
       "    <tr>\n",
       "      <td>Wire 7</td>\n",
       "      <td>2322.0</td>\n",
       "      <td>0.006380</td>\n",
       "      <td>0.206015</td>\n",
       "      <td>0.000000</td>\n",
       "      <td>0.000000</td>\n",
       "      <td>0.000000</td>\n",
       "      <td>0.000000</td>\n",
       "      <td>8.490040</td>\n",
       "    </tr>\n",
       "    <tr>\n",
       "      <td>Wire 8</td>\n",
       "      <td>2322.0</td>\n",
       "      <td>0.312249</td>\n",
       "      <td>4.409308</td>\n",
       "      <td>0.000000</td>\n",
       "      <td>0.000000</td>\n",
       "      <td>0.000000</td>\n",
       "      <td>0.000000</td>\n",
       "      <td>102.762401</td>\n",
       "    </tr>\n",
       "    <tr>\n",
       "      <td>Wire 9</td>\n",
       "      <td>2322.0</td>\n",
       "      <td>0.318069</td>\n",
       "      <td>3.461726</td>\n",
       "      <td>0.000000</td>\n",
       "      <td>0.000000</td>\n",
       "      <td>0.000000</td>\n",
       "      <td>0.000000</td>\n",
       "      <td>62.025600</td>\n",
       "    </tr>\n",
       "  </tbody>\n",
       "</table>\n",
       "</div>"
      ],
      "text/plain": [
       "           count         mean          std          min          25%  \\\n",
       "temp_in   2322.0  1587.365633    23.567723  1519.000000  1571.000000   \n",
       "temp_out  2322.0  1593.361757    11.187103  1541.000000  1587.000000   \n",
       "duration  2322.0  1900.195090  1322.188194   234.000000  1221.000000   \n",
       "energy    2322.0   721.215164   520.784233    10.614857   373.149110   \n",
       "gas       2320.0    11.387265     6.393307     0.008399     7.294619   \n",
       "Bulk 1    2322.0     3.437984    12.429405     0.000000     0.000000   \n",
       "Bulk 2    2322.0     1.426787    19.110712     0.000000     0.000000   \n",
       "Bulk 3    2322.0    47.309216    75.338758     0.000000     0.000000   \n",
       "Bulk 4    2322.0    37.360896    58.753252     0.000000     0.000000   \n",
       "Bulk 5    2322.0     2.648148    22.435580     0.000000     0.000000   \n",
       "Bulk 6    2322.0    22.335487    55.406810     0.000000     0.000000   \n",
       "Bulk 7    2322.0     2.010767    30.722260     0.000000     0.000000   \n",
       "Bulk 9    2322.0     0.446167     6.229966     0.000000     0.000000   \n",
       "Bulk 10   2322.0     5.021533    20.838446     0.000000     0.000000   \n",
       "Bulk 11   2322.0     4.236865    22.529235     0.000000     0.000000   \n",
       "Bulk 12   2322.0   208.714040   156.839355     0.000000   105.000000   \n",
       "Bulk 13   2322.0     1.070629    14.256384     0.000000     0.000000   \n",
       "Bulk 14   2322.0   154.145564    81.259222     0.000000   105.250000   \n",
       "Bulk 15   2322.0   120.220069    84.524222     0.000000     0.000000   \n",
       "Wire 1    2322.0   102.328558    43.562603     0.000000    73.148397   \n",
       "Wire 2    2322.0    17.592638    33.641442     0.000000     0.000000   \n",
       "Wire 3    2322.0     3.244668    27.984410     0.000000     0.000000   \n",
       "Wire 4    2322.0     0.307474     4.764885     0.000000     0.000000   \n",
       "Wire 6    2322.0     0.981771     8.706232     0.000000     0.000000   \n",
       "Wire 7    2322.0     0.006380     0.206015     0.000000     0.000000   \n",
       "Wire 8    2322.0     0.312249     4.409308     0.000000     0.000000   \n",
       "Wire 9    2322.0     0.318069     3.461726     0.000000     0.000000   \n",
       "\n",
       "                  50%          75%           max  \n",
       "temp_in   1587.000000  1603.000000   1660.000000  \n",
       "temp_out  1593.000000  1598.000000   1653.000000  \n",
       "duration  1635.500000  2295.750000  23537.000000  \n",
       "energy     610.677609   929.656690   8624.443403  \n",
       "gas         10.106744    14.218487     77.995040  \n",
       "Bulk 1       0.000000     0.000000    185.000000  \n",
       "Bulk 2       0.000000     0.000000    325.000000  \n",
       "Bulk 3       0.000000    79.750000    454.000000  \n",
       "Bulk 4       0.000000    77.000000    281.000000  \n",
       "Bulk 5       0.000000     0.000000    603.000000  \n",
       "Bulk 6       0.000000     0.000000    503.000000  \n",
       "Bulk 7       0.000000     0.000000    772.000000  \n",
       "Bulk 9       0.000000     0.000000    147.000000  \n",
       "Bulk 10      0.000000     0.000000    159.000000  \n",
       "Bulk 11      0.000000     0.000000    313.000000  \n",
       "Bulk 12    206.000000   281.750000   1849.000000  \n",
       "Bulk 13      0.000000     0.000000    305.000000  \n",
       "Bulk 14    149.000000   204.000000    636.000000  \n",
       "Bulk 15    107.000000   204.000000    405.000000  \n",
       "Wire 1     101.081759   127.705495    330.314424  \n",
       "Wire 2       0.000000    23.102560    282.780152  \n",
       "Wire 3       0.000000     0.000000    385.008668  \n",
       "Wire 4       0.000000     0.000000    113.231044  \n",
       "Wire 6       0.000000     0.000000    180.454575  \n",
       "Wire 7       0.000000     0.000000      8.490040  \n",
       "Wire 8       0.000000     0.000000    102.762401  \n",
       "Wire 9       0.000000     0.000000     62.025600  "
      ]
     },
     "execution_count": 27,
     "metadata": {},
     "output_type": "execute_result"
    }
   ],
   "source": [
    "data.describe().T"
   ]
  },
  {
   "cell_type": "code",
   "execution_count": 28,
   "metadata": {},
   "outputs": [],
   "source": [
    "target = data['temp_out']\n",
    "features = data.drop('temp_out', axis=1)\n",
    "features = features.fillna(0)"
   ]
  },
  {
   "cell_type": "code",
   "execution_count": 29,
   "metadata": {},
   "outputs": [
    {
     "name": "stdout",
     "output_type": "stream",
     "text": [
      "Wire 4 Bulk 7 0.74\n",
      "Wire 8 Bulk 9 0.97\n"
     ]
    }
   ],
   "source": [
    "corr = features.corr()\n",
    "for row in range(1, corr.shape[0]):\n",
    "    for col in range(0, row):\n",
    "        c = corr.iloc[row, col]\n",
    "        if np.abs(c) > 0.7:\n",
    "            print(corr.index[row], corr.columns[col], round(c, 2))"
   ]
  },
  {
   "cell_type": "code",
   "execution_count": 30,
   "metadata": {},
   "outputs": [],
   "source": [
    "features = features.drop(['Bulk 9'], axis=1) # удалим сильно коррелированные признаки"
   ]
  },
  {
   "cell_type": "markdown",
   "metadata": {},
   "source": [
    "### Обучение моделей:"
   ]
  },
  {
   "cell_type": "code",
   "execution_count": 31,
   "metadata": {},
   "outputs": [],
   "source": [
    "from sklearn.model_selection import train_test_split\n",
    "from sklearn.metrics import mean_absolute_error\n",
    "from sklearn.linear_model import LinearRegression\n",
    "from sklearn.ensemble import RandomForestRegressor\n",
    "from catboost import Pool, CatBoostRegressor\n",
    "from sklearn.model_selection import GridSearchCV"
   ]
  },
  {
   "cell_type": "code",
   "execution_count": 32,
   "metadata": {},
   "outputs": [],
   "source": [
    "features_train, features_test, target_train, target_test = \\\n",
    "    train_test_split(features, target, test_size=0.25, random_state=321)"
   ]
  },
  {
   "cell_type": "code",
   "execution_count": 33,
   "metadata": {},
   "outputs": [],
   "source": [
    "def score(model):\n",
    "    display(pd.DataFrame({'MAE':[mean_absolute_error(model.predict(features_train), target_train),\n",
    "                                 mean_absolute_error(model.predict(features_test), target_test)]}, \n",
    "                         index=['Тренировочная выборка', 'Тестовая выборка']))"
   ]
  },
  {
   "cell_type": "markdown",
   "metadata": {},
   "source": [
    "---\n",
    "#### Линейная регрессия:"
   ]
  },
  {
   "cell_type": "code",
   "execution_count": 34,
   "metadata": {},
   "outputs": [],
   "source": [
    "model_LR = LinearRegression()"
   ]
  },
  {
   "cell_type": "code",
   "execution_count": 35,
   "metadata": {},
   "outputs": [
    {
     "name": "stdout",
     "output_type": "stream",
     "text": [
      "CPU times: user 0 ns, sys: 9.49 ms, total: 9.49 ms\n",
      "Wall time: 3.44 ms\n"
     ]
    },
    {
     "data": {
      "text/plain": [
       "LinearRegression(copy_X=True, fit_intercept=True, n_jobs=None, normalize=False)"
      ]
     },
     "execution_count": 35,
     "metadata": {},
     "output_type": "execute_result"
    }
   ],
   "source": [
    "%%time\n",
    "\n",
    "model_LR.fit(features_train, target_train)"
   ]
  },
  {
   "cell_type": "code",
   "execution_count": 36,
   "metadata": {},
   "outputs": [
    {
     "data": {
      "text/html": [
       "<div>\n",
       "<style scoped>\n",
       "    .dataframe tbody tr th:only-of-type {\n",
       "        vertical-align: middle;\n",
       "    }\n",
       "\n",
       "    .dataframe tbody tr th {\n",
       "        vertical-align: top;\n",
       "    }\n",
       "\n",
       "    .dataframe thead th {\n",
       "        text-align: right;\n",
       "    }\n",
       "</style>\n",
       "<table border=\"1\" class=\"dataframe\">\n",
       "  <thead>\n",
       "    <tr style=\"text-align: right;\">\n",
       "      <th></th>\n",
       "      <th>MAE</th>\n",
       "    </tr>\n",
       "  </thead>\n",
       "  <tbody>\n",
       "    <tr>\n",
       "      <td>Тренировочная выборка</td>\n",
       "      <td>5.900850</td>\n",
       "    </tr>\n",
       "    <tr>\n",
       "      <td>Тестовая выборка</td>\n",
       "      <td>6.130912</td>\n",
       "    </tr>\n",
       "  </tbody>\n",
       "</table>\n",
       "</div>"
      ],
      "text/plain": [
       "                            MAE\n",
       "Тренировочная выборка  5.900850\n",
       "Тестовая выборка       6.130912"
      ]
     },
     "metadata": {},
     "output_type": "display_data"
    }
   ],
   "source": [
    "score(model_LR)"
   ]
  },
  {
   "cell_type": "markdown",
   "metadata": {},
   "source": [
    "---\n",
    "#### Случайный лес:"
   ]
  },
  {
   "cell_type": "code",
   "execution_count": 37,
   "metadata": {},
   "outputs": [],
   "source": [
    "parameters = [{'n_estimators': [100, 200, 400],\n",
    "               'max_depth': [5, 10, 20],\n",
    "               'max_leaf_nodes': [100, 200]}]"
   ]
  },
  {
   "cell_type": "code",
   "execution_count": 38,
   "metadata": {},
   "outputs": [],
   "source": [
    "model_RF = GridSearchCV(RandomForestRegressor(random_state=321), \n",
    "                        parameters, scoring='neg_mean_absolute_error', cv=3)"
   ]
  },
  {
   "cell_type": "code",
   "execution_count": 39,
   "metadata": {},
   "outputs": [
    {
     "name": "stdout",
     "output_type": "stream",
     "text": [
      "CPU times: user 1min 6s, sys: 217 ms, total: 1min 6s\n",
      "Wall time: 1min 6s\n"
     ]
    },
    {
     "data": {
      "text/plain": [
       "GridSearchCV(cv=3, error_score='raise-deprecating',\n",
       "             estimator=RandomForestRegressor(bootstrap=True, criterion='mse',\n",
       "                                             max_depth=None,\n",
       "                                             max_features='auto',\n",
       "                                             max_leaf_nodes=None,\n",
       "                                             min_impurity_decrease=0.0,\n",
       "                                             min_impurity_split=None,\n",
       "                                             min_samples_leaf=1,\n",
       "                                             min_samples_split=2,\n",
       "                                             min_weight_fraction_leaf=0.0,\n",
       "                                             n_estimators='warn', n_jobs=None,\n",
       "                                             oob_score=False, random_state=321,\n",
       "                                             verbose=0, warm_start=False),\n",
       "             iid='warn', n_jobs=None,\n",
       "             param_grid=[{'max_depth': [5, 10, 20],\n",
       "                          'max_leaf_nodes': [100, 200],\n",
       "                          'n_estimators': [100, 200, 400]}],\n",
       "             pre_dispatch='2*n_jobs', refit=True, return_train_score=False,\n",
       "             scoring='neg_mean_absolute_error', verbose=0)"
      ]
     },
     "execution_count": 39,
     "metadata": {},
     "output_type": "execute_result"
    }
   ],
   "source": [
    "%%time\n",
    "\n",
    "model_RF.fit(features_train, target_train)"
   ]
  },
  {
   "cell_type": "code",
   "execution_count": 40,
   "metadata": {},
   "outputs": [
    {
     "data": {
      "text/plain": [
       "{'max_depth': 20, 'max_leaf_nodes': 100, 'n_estimators': 400}"
      ]
     },
     "execution_count": 40,
     "metadata": {},
     "output_type": "execute_result"
    }
   ],
   "source": [
    "model_RF.best_params_"
   ]
  },
  {
   "cell_type": "code",
   "execution_count": 41,
   "metadata": {},
   "outputs": [
    {
     "data": {
      "text/html": [
       "<div>\n",
       "<style scoped>\n",
       "    .dataframe tbody tr th:only-of-type {\n",
       "        vertical-align: middle;\n",
       "    }\n",
       "\n",
       "    .dataframe tbody tr th {\n",
       "        vertical-align: top;\n",
       "    }\n",
       "\n",
       "    .dataframe thead th {\n",
       "        text-align: right;\n",
       "    }\n",
       "</style>\n",
       "<table border=\"1\" class=\"dataframe\">\n",
       "  <thead>\n",
       "    <tr style=\"text-align: right;\">\n",
       "      <th></th>\n",
       "      <th>MAE</th>\n",
       "    </tr>\n",
       "  </thead>\n",
       "  <tbody>\n",
       "    <tr>\n",
       "      <td>Тренировочная выборка</td>\n",
       "      <td>4.066280</td>\n",
       "    </tr>\n",
       "    <tr>\n",
       "      <td>Тестовая выборка</td>\n",
       "      <td>6.088051</td>\n",
       "    </tr>\n",
       "  </tbody>\n",
       "</table>\n",
       "</div>"
      ],
      "text/plain": [
       "                            MAE\n",
       "Тренировочная выборка  4.066280\n",
       "Тестовая выборка       6.088051"
      ]
     },
     "metadata": {},
     "output_type": "display_data"
    }
   ],
   "source": [
    "score(model_RF)"
   ]
  },
  {
   "cell_type": "markdown",
   "metadata": {},
   "source": [
    "---\n",
    "#### CatBoost:"
   ]
  },
  {
   "cell_type": "code",
   "execution_count": 42,
   "metadata": {},
   "outputs": [
    {
     "name": "stdout",
     "output_type": "stream",
     "text": [
      "CPU times: user 38 s, sys: 4.19 s, total: 42.1 s\n",
      "Wall time: 1min 4s\n"
     ]
    }
   ],
   "source": [
    "%%time \n",
    "\n",
    "model_CB = CatBoostRegressor(loss_function='MAE') \n",
    "\n",
    "parameters = {'depth':[3, 6], \n",
    "              'learning_rate':[0.1, 0.3],\n",
    "              'iterations':[100, 200, 400]}\n",
    "\n",
    "cb_grid = model_CB.grid_search(parameters, \n",
    "                         Pool(features_train, target_train), \n",
    "                         cv=3, verbose=False)"
   ]
  },
  {
   "cell_type": "code",
   "execution_count": 43,
   "metadata": {},
   "outputs": [
    {
     "data": {
      "text/plain": [
       "{'depth': 3, 'iterations': 400, 'learning_rate': 0.1}"
      ]
     },
     "execution_count": 43,
     "metadata": {},
     "output_type": "execute_result"
    }
   ],
   "source": [
    "cb_grid['params']"
   ]
  },
  {
   "cell_type": "code",
   "execution_count": 44,
   "metadata": {},
   "outputs": [
    {
     "data": {
      "text/html": [
       "<div>\n",
       "<style scoped>\n",
       "    .dataframe tbody tr th:only-of-type {\n",
       "        vertical-align: middle;\n",
       "    }\n",
       "\n",
       "    .dataframe tbody tr th {\n",
       "        vertical-align: top;\n",
       "    }\n",
       "\n",
       "    .dataframe thead th {\n",
       "        text-align: right;\n",
       "    }\n",
       "</style>\n",
       "<table border=\"1\" class=\"dataframe\">\n",
       "  <thead>\n",
       "    <tr style=\"text-align: right;\">\n",
       "      <th></th>\n",
       "      <th>MAE</th>\n",
       "    </tr>\n",
       "  </thead>\n",
       "  <tbody>\n",
       "    <tr>\n",
       "      <td>Тренировочная выборка</td>\n",
       "      <td>4.521773</td>\n",
       "    </tr>\n",
       "    <tr>\n",
       "      <td>Тестовая выборка</td>\n",
       "      <td>5.897653</td>\n",
       "    </tr>\n",
       "  </tbody>\n",
       "</table>\n",
       "</div>"
      ],
      "text/plain": [
       "                            MAE\n",
       "Тренировочная выборка  4.521773\n",
       "Тестовая выборка       5.897653"
      ]
     },
     "metadata": {},
     "output_type": "display_data"
    }
   ],
   "source": [
    "score(model_CB)"
   ]
  },
  {
   "cell_type": "markdown",
   "metadata": {},
   "source": [
    "###  Выбор модели"
   ]
  },
  {
   "cell_type": "markdown",
   "metadata": {},
   "source": [
    "__Наилучший результат показала модель CatBoost__  \n",
    "\n",
    "---\n",
    "Рассмотрим значимость признаков:"
   ]
  },
  {
   "cell_type": "code",
   "execution_count": 45,
   "metadata": {},
   "outputs": [
    {
     "data": {
      "image/png": "[encoded data removed]",
      "text/plain": [
       "<Figure size 1080x720 with 1 Axes>"
      ]
     },
     "metadata": {
      "needs_background": "light"
     },
     "output_type": "display_data"
    }
   ],
   "source": [
    "ax = pd.DataFrame(model_CB.feature_importances_, \n",
    "                  columns=['Значимость признаков'], \n",
    "                  index=features_train.columns).plot(kind='barh', grid=True, figsize=(15,10))"
   ]
  },
  {
   "cell_type": "markdown",
   "metadata": {},
   "source": [
    "удалим малозначимые признаки:"
   ]
  },
  {
   "cell_type": "code",
   "execution_count": 46,
   "metadata": {},
   "outputs": [
    {
     "data": {
      "text/plain": [
       "(2322, 16)"
      ]
     },
     "execution_count": 46,
     "metadata": {},
     "output_type": "execute_result"
    }
   ],
   "source": [
    "features = features.drop(['Wire 9', 'Wire 8', 'Wire 7', 'Wire 4', 'Wire 3', \n",
    "                          'Bulk 13', 'Bulk 10', 'Bulk 5', 'Bulk 2'], axis=1)\n",
    "features.shape"
   ]
  },
  {
   "cell_type": "code",
   "execution_count": 47,
   "metadata": {},
   "outputs": [],
   "source": [
    "features_train, features_test, target_train, target_test = \\\n",
    "    train_test_split(features, target, test_size=0.25, random_state=321)"
   ]
  },
  {
   "cell_type": "code",
   "execution_count": 48,
   "metadata": {},
   "outputs": [
    {
     "name": "stdout",
     "output_type": "stream",
     "text": [
      "CPU times: user 34.9 s, sys: 4.4 s, total: 39.3 s\n",
      "Wall time: 53.1 s\n"
     ]
    }
   ],
   "source": [
    "%%time \n",
    "\n",
    "model = CatBoostRegressor(loss_function='MAE') \n",
    "\n",
    "parameters = {'depth':[3, 6], \n",
    "              'learning_rate':[0.1, 0.3],\n",
    "              'iterations':[100, 200, 400]}\n",
    "\n",
    "cb_grid = model.grid_search(parameters, \n",
    "                            Pool(features_train, target_train), \n",
    "                            cv=3, verbose=False)"
   ]
  },
  {
   "cell_type": "markdown",
   "metadata": {},
   "source": [
    "<div class=\"alert alert-block alert-info\">   \n",
    "    \n",
    "---\n",
    "___Окончательный вариант CatBoostRegressor с параметрами:___"
   ]
  },
  {
   "cell_type": "code",
   "execution_count": 49,
   "metadata": {},
   "outputs": [
    {
     "data": {
      "text/plain": [
       "{'depth': 3, 'iterations': 400, 'learning_rate': 0.1}"
      ]
     },
     "execution_count": 49,
     "metadata": {},
     "output_type": "execute_result"
    }
   ],
   "source": [
    "cb_grid['params']"
   ]
  },
  {
   "cell_type": "code",
   "execution_count": 50,
   "metadata": {},
   "outputs": [
    {
     "data": {
      "text/html": [
       "<div>\n",
       "<style scoped>\n",
       "    .dataframe tbody tr th:only-of-type {\n",
       "        vertical-align: middle;\n",
       "    }\n",
       "\n",
       "    .dataframe tbody tr th {\n",
       "        vertical-align: top;\n",
       "    }\n",
       "\n",
       "    .dataframe thead th {\n",
       "        text-align: right;\n",
       "    }\n",
       "</style>\n",
       "<table border=\"1\" class=\"dataframe\">\n",
       "  <thead>\n",
       "    <tr style=\"text-align: right;\">\n",
       "      <th></th>\n",
       "      <th>MAE</th>\n",
       "    </tr>\n",
       "  </thead>\n",
       "  <tbody>\n",
       "    <tr>\n",
       "      <td>Тренировочная выборка</td>\n",
       "      <td>4.480511</td>\n",
       "    </tr>\n",
       "    <tr>\n",
       "      <td>Тестовая выборка</td>\n",
       "      <td>5.925476</td>\n",
       "    </tr>\n",
       "  </tbody>\n",
       "</table>\n",
       "</div>"
      ],
      "text/plain": [
       "                            MAE\n",
       "Тренировочная выборка  4.480511\n",
       "Тестовая выборка       5.925476"
      ]
     },
     "metadata": {},
     "output_type": "display_data"
    }
   ],
   "source": [
    "score(model)"
   ]
  },
  {
   "cell_type": "code",
   "execution_count": 51,
   "metadata": {},
   "outputs": [
    {
     "data": {
      "image/png": "[encoded data removed]",
      "text/plain": [
       "<Figure size 1080x432 with 1 Axes>"
      ]
     },
     "metadata": {
      "needs_background": "light"
     },
     "output_type": "display_data"
    }
   ],
   "source": [
    "ax = pd.DataFrame(model.feature_importances_, \n",
    "                  columns=['Значимость признаков'], \n",
    "                  index=features_train.columns).plot(kind='barh', grid=True, figsize=(15,6))"
   ]
  },
  {
   "cell_type": "markdown",
   "metadata": {},
   "source": [
    "<div class=\"alert alert-block alert-info\">\n",
    "    \n",
    "Добрый день. Я думаю в реальном проекте следовало бы рассмотреть гораздо больше факторов. Классы точности приборов, например. Или как  организован технологический процесс. Он уже дает неплохой результат - МАЕ от среднего значения:"
   ]
  },
  {
   "cell_type": "code",
   "execution_count": 52,
   "metadata": {},
   "outputs": [
    {
     "data": {
      "text/html": [
       "<div>\n",
       "<style scoped>\n",
       "    .dataframe tbody tr th:only-of-type {\n",
       "        vertical-align: middle;\n",
       "    }\n",
       "\n",
       "    .dataframe tbody tr th {\n",
       "        vertical-align: top;\n",
       "    }\n",
       "\n",
       "    .dataframe thead th {\n",
       "        text-align: right;\n",
       "    }\n",
       "</style>\n",
       "<table border=\"1\" class=\"dataframe\">\n",
       "  <thead>\n",
       "    <tr style=\"text-align: right;\">\n",
       "      <th></th>\n",
       "      <th>MAE</th>\n",
       "    </tr>\n",
       "  </thead>\n",
       "  <tbody>\n",
       "    <tr>\n",
       "      <td>Тренировочная выборка</td>\n",
       "      <td>7.978020</td>\n",
       "    </tr>\n",
       "    <tr>\n",
       "      <td>Тестовая выборка</td>\n",
       "      <td>8.305809</td>\n",
       "    </tr>\n",
       "  </tbody>\n",
       "</table>\n",
       "</div>"
      ],
      "text/plain": [
       "                            MAE\n",
       "Тренировочная выборка  7.978020\n",
       "Тестовая выборка       8.305809"
      ]
     },
     "metadata": {},
     "output_type": "display_data"
    }
   ],
   "source": [
    "from sklearn.dummy import DummyRegressor\n",
    "score(DummyRegressor().fit(features_train, target_train))"
   ]
  },
  {
   "cell_type": "markdown",
   "metadata": {},
   "source": [
    "<div class=\"alert alert-block alert-info\">\n",
    "    \n",
    "$8^oC$ при измеряемой температуре порядка $1600^oC$ - это всегог лишь 0.5%  \n",
    "    \n",
    "Так же неизвестно насколько точно есть возможность дозировать нагрев. Может быть есть смысл оптимизировать (уменьшить) количество включений или мощность. Но это уже надо знать электрическую схему установки."
   ]
  },
  {
   "cell_type": "markdown",
   "metadata": {},
   "source": [
    "### Отчет"
   ]
  },
  {
   "cell_type": "markdown",
   "metadata": {},
   "source": [
    "****Ключевые шаги:****\n",
    "\n",
    "---\n",
    "- ***изучение этапа обработки стали:***  \n",
    "Поскольку агрегатное состояние стали не меняется, становится понятно,  \n",
    "что температура практически линейно зависит от тепловой энергии расплава.  \n",
    "Энергия расплава увеличивается при помощи угольных электродов прямо пропорционально  \n",
    "количеству подведенной активной электрической энергии.  \n",
    "Энергия расплава уменьшается за счет утечки тепла в окружающую среду через  \n",
    "теплоизоляцию ковша, а так же при продувке расплава инертным газом и  \n",
    "при добавлении легирующих добавок.  \n",
    "Исходя из этого формировались признаки для обучения моделей.  \n",
    "Важный параметр - масса расплава - не предоставлен, поэтому предполагаем,  \n",
    "что масса расплава во всех примерах одинакова. То же относится и к теплоизоляции  \n",
    "ковша (это либо один и тот же ковш, либо идентичен по теплоизолирующим свойствам)\n",
    "\n",
    "---\n",
    "- ***предобработка данных:***  \n",
    "Исправлены очевидные ошибки в реактивной мощности и температурах.  \n",
    "Некоторые значения в расходе газа и легирующих добавок выглядят как выбросы,  \n",
    "но ввиду недостатка информации решил оставить их в датасетах.\n",
    "\n",
    "---\n",
    "\n",
    "- ***формирование и предварительный отбор признаков:***  \n",
    "Расчитано количество электрической энергии, затраченной на нагрев каждой партии.  \n",
    "Расчитано время нахождения в ковше.  \n",
    "Удалены ненужные признаки, сильнокоррелированные признаки  \n",
    "а так же редкие признаки (единичное использование)  \n",
    "Все признаки объединены в один датасет.  \n",
    "В партиях, где не использовался газ или легирующие добавки, пропуски заполнены нулями.  \n",
    "Оставлены только записи, в которых известна начальная и конечная температуры,  \n",
    "и после последнего измерения температуры больше не проводилось никаких операций.\n",
    "\n",
    "---\n",
    "- ***подготовка данных для обучения и тестирования моделей:***  \n",
    "Конечная температура выделена в качестве цели.  \n",
    "Данные разделены в пропорции 75% - 25% для обучения и тестирования моделей.\n",
    "\n",
    "---\n",
    "- ***выбор наиболее подходящей модели:***  \n",
    "Рассмотрены модели LinearRegression, RandomForestRegressor и  CatBoostRegressor.  \n",
    "Для двух последних моделей гиперпараметры подбирались при помощи кроссвалидации.   \n",
    "Наилучшую метрику MAE удалось получить с помощью CatBoostRegressor\n",
    "\n",
    "---\n",
    "- ***оценка значимости признаков и окончательный отбор признаков:***  \n",
    "После удаления малозначимых признаков осталось 16 значимых,  \n",
    "при этом качество модели практически не изменилось.\n",
    "\n",
    "---\n"
   ]
  },
  {
   "cell_type": "markdown",
   "metadata": {},
   "source": [
    "****Итоговая модель:****\n",
    "\n",
    "***CatBoostRegressor***   \n",
    "\n"
   ]
  },
  {
   "cell_type": "code",
   "execution_count": 53,
   "metadata": {},
   "outputs": [
    {
     "name": "stdout",
     "output_type": "stream",
     "text": [
      "Параметры модели {'loss_function': 'MAE', 'depth': 3, 'iterations': 400, 'learning_rate': 0.1}\n"
     ]
    },
    {
     "data": {
      "text/html": [
       "<div>\n",
       "<style scoped>\n",
       "    .dataframe tbody tr th:only-of-type {\n",
       "        vertical-align: middle;\n",
       "    }\n",
       "\n",
       "    .dataframe tbody tr th {\n",
       "        vertical-align: top;\n",
       "    }\n",
       "\n",
       "    .dataframe thead th {\n",
       "        text-align: right;\n",
       "    }\n",
       "</style>\n",
       "<table border=\"1\" class=\"dataframe\">\n",
       "  <thead>\n",
       "    <tr style=\"text-align: right;\">\n",
       "      <th></th>\n",
       "      <th>MAE</th>\n",
       "    </tr>\n",
       "  </thead>\n",
       "  <tbody>\n",
       "    <tr>\n",
       "      <td>Тренировочная выборка</td>\n",
       "      <td>4.480511</td>\n",
       "    </tr>\n",
       "    <tr>\n",
       "      <td>Тестовая выборка</td>\n",
       "      <td>5.925476</td>\n",
       "    </tr>\n",
       "  </tbody>\n",
       "</table>\n",
       "</div>"
      ],
      "text/plain": [
       "                            MAE\n",
       "Тренировочная выборка  4.480511\n",
       "Тестовая выборка       5.925476"
      ]
     },
     "metadata": {},
     "output_type": "display_data"
    }
   ],
   "source": [
    "print('Параметры модели', model.get_params())\n",
    "score(model)"
   ]
  },
  {
   "cell_type": "code",
   "execution_count": null,
   "metadata": {},
   "outputs": [],
   "source": []
  }
 ],
 "metadata": {
  "ExecuteTimeLog": [
   {
    "duration": 678,
    "start_time": "2022-02-21T16:07:11.994Z"
   },
   {
    "duration": 53,
    "start_time": "2022-02-21T16:08:54.727Z"
   },
   {
    "duration": 22,
    "start_time": "2022-02-21T16:09:04.702Z"
   },
   {
    "duration": 48,
    "start_time": "2022-02-21T16:09:38.646Z"
   },
   {
    "duration": 101,
    "start_time": "2022-02-21T16:10:14.373Z"
   },
   {
    "duration": 165,
    "start_time": "2022-02-21T16:11:29.231Z"
   },
   {
    "duration": 570,
    "start_time": "2022-02-21T18:32:50.625Z"
   },
   {
    "duration": 2060,
    "start_time": "2022-02-21T18:32:55.972Z"
   },
   {
    "duration": 18,
    "start_time": "2022-02-21T18:33:08.090Z"
   },
   {
    "duration": 7,
    "start_time": "2022-02-21T18:33:22.363Z"
   },
   {
    "duration": 5,
    "start_time": "2022-02-21T20:07:15.257Z"
   },
   {
    "duration": 233,
    "start_time": "2022-02-21T20:07:24.081Z"
   },
   {
    "duration": 4,
    "start_time": "2022-02-21T20:07:46.499Z"
   },
   {
    "duration": 20,
    "start_time": "2022-02-21T20:08:43.928Z"
   },
   {
    "duration": 308,
    "start_time": "2022-02-21T20:09:05.545Z"
   },
   {
    "duration": 13,
    "start_time": "2022-02-21T20:09:11.169Z"
   },
   {
    "duration": 12,
    "start_time": "2022-02-21T20:10:01.896Z"
   },
   {
    "duration": 551,
    "start_time": "2022-02-22T08:37:29.273Z"
   },
   {
    "duration": 474,
    "start_time": "2022-02-22T08:37:29.826Z"
   },
   {
    "duration": 18,
    "start_time": "2022-02-22T08:37:30.302Z"
   },
   {
    "duration": 13,
    "start_time": "2022-02-22T08:37:30.322Z"
   },
   {
    "duration": 41,
    "start_time": "2022-02-22T08:37:30.336Z"
   },
   {
    "duration": 41,
    "start_time": "2022-02-22T08:37:30.379Z"
   },
   {
    "duration": 12,
    "start_time": "2022-02-22T08:37:58.389Z"
   },
   {
    "duration": 19,
    "start_time": "2022-02-22T08:42:58.324Z"
   },
   {
    "duration": 20,
    "start_time": "2022-02-22T08:43:17.451Z"
   },
   {
    "duration": 9,
    "start_time": "2022-02-22T08:47:54.577Z"
   },
   {
    "duration": 9,
    "start_time": "2022-02-22T09:30:38.768Z"
   },
   {
    "duration": 10,
    "start_time": "2022-02-22T09:30:51.688Z"
   },
   {
    "duration": 8,
    "start_time": "2022-02-22T09:30:56.913Z"
   },
   {
    "duration": 10,
    "start_time": "2022-02-22T09:31:17.111Z"
   },
   {
    "duration": 8,
    "start_time": "2022-02-22T09:31:22.471Z"
   },
   {
    "duration": 44,
    "start_time": "2022-02-22T13:22:33.468Z"
   },
   {
    "duration": 42,
    "start_time": "2022-02-22T13:23:04.636Z"
   },
   {
    "duration": 49,
    "start_time": "2022-02-22T13:23:13.012Z"
   },
   {
    "duration": 1324,
    "start_time": "2022-02-22T13:25:08.179Z"
   },
   {
    "duration": 252,
    "start_time": "2022-02-22T13:26:33.595Z"
   },
   {
    "duration": 254,
    "start_time": "2022-02-22T13:26:51.378Z"
   },
   {
    "duration": 52,
    "start_time": "2022-02-22T13:27:11.969Z"
   },
   {
    "duration": 2578,
    "start_time": "2022-02-22T13:28:20.250Z"
   },
   {
    "duration": 41,
    "start_time": "2022-02-22T13:31:30.735Z"
   },
   {
    "duration": 1397,
    "start_time": "2022-02-22T13:32:42.776Z"
   },
   {
    "duration": 2595,
    "start_time": "2022-02-22T13:34:53.925Z"
   },
   {
    "duration": 4920,
    "start_time": "2022-02-22T13:36:42.620Z"
   },
   {
    "duration": 69,
    "start_time": "2022-02-22T13:36:56.999Z"
   },
   {
    "duration": 10,
    "start_time": "2022-02-22T13:36:59.532Z"
   },
   {
    "duration": 20,
    "start_time": "2022-02-22T13:37:06.603Z"
   },
   {
    "duration": 1403,
    "start_time": "2022-02-22T13:39:28.307Z"
   },
   {
    "duration": 1424,
    "start_time": "2022-02-22T13:40:11.162Z"
   },
   {
    "duration": 10,
    "start_time": "2022-02-22T13:40:57.739Z"
   },
   {
    "duration": 11,
    "start_time": "2022-02-22T13:42:40.984Z"
   },
   {
    "duration": 216,
    "start_time": "2022-02-22T13:43:42.841Z"
   },
   {
    "duration": 12,
    "start_time": "2022-02-22T13:43:50.122Z"
   },
   {
    "duration": 10,
    "start_time": "2022-02-22T13:45:20.480Z"
   },
   {
    "duration": 11,
    "start_time": "2022-02-22T13:46:10.941Z"
   },
   {
    "duration": 11,
    "start_time": "2022-02-22T13:46:26.231Z"
   },
   {
    "duration": 10,
    "start_time": "2022-02-22T13:47:24.191Z"
   },
   {
    "duration": 10,
    "start_time": "2022-02-22T13:47:47.223Z"
   },
   {
    "duration": 200,
    "start_time": "2022-02-22T14:51:43.867Z"
   },
   {
    "duration": 10,
    "start_time": "2022-02-22T14:52:00.403Z"
   },
   {
    "duration": 14,
    "start_time": "2022-02-22T14:52:08.684Z"
   },
   {
    "duration": 12,
    "start_time": "2022-02-22T14:52:31.362Z"
   },
   {
    "duration": 197,
    "start_time": "2022-02-22T14:53:11.090Z"
   },
   {
    "duration": 15,
    "start_time": "2022-02-22T14:53:18.530Z"
   },
   {
    "duration": 55,
    "start_time": "2022-02-22T14:53:53.658Z"
   },
   {
    "duration": 18,
    "start_time": "2022-02-22T14:54:16.211Z"
   },
   {
    "duration": 179,
    "start_time": "2022-02-22T14:54:47.281Z"
   },
   {
    "duration": 192,
    "start_time": "2022-02-22T14:54:59.474Z"
   },
   {
    "duration": 16,
    "start_time": "2022-02-22T14:55:07.074Z"
   },
   {
    "duration": 13,
    "start_time": "2022-02-22T14:55:41.338Z"
   },
   {
    "duration": 18,
    "start_time": "2022-02-22T14:57:43.072Z"
   },
   {
    "duration": 18,
    "start_time": "2022-02-22T14:57:58.289Z"
   },
   {
    "duration": 17,
    "start_time": "2022-02-22T14:58:25.449Z"
   },
   {
    "duration": 16,
    "start_time": "2022-02-22T14:59:18.089Z"
   },
   {
    "duration": 19,
    "start_time": "2022-02-22T15:00:07.696Z"
   },
   {
    "duration": 27,
    "start_time": "2022-02-22T15:01:02.128Z"
   },
   {
    "duration": 254,
    "start_time": "2022-02-22T15:01:37.983Z"
   },
   {
    "duration": 28,
    "start_time": "2022-02-22T15:01:51.886Z"
   },
   {
    "duration": 14,
    "start_time": "2022-02-22T15:02:15.814Z"
   },
   {
    "duration": 10,
    "start_time": "2022-02-22T15:02:34.230Z"
   },
   {
    "duration": 24,
    "start_time": "2022-02-22T15:04:08.319Z"
   },
   {
    "duration": 21,
    "start_time": "2022-02-22T15:04:38.726Z"
   },
   {
    "duration": 27,
    "start_time": "2022-02-22T15:05:13.502Z"
   },
   {
    "duration": 245,
    "start_time": "2022-02-22T15:07:42.539Z"
   },
   {
    "duration": 15,
    "start_time": "2022-02-22T15:07:47.528Z"
   },
   {
    "duration": 10,
    "start_time": "2022-02-22T15:09:18.634Z"
   },
   {
    "duration": 5,
    "start_time": "2022-02-22T15:09:50.538Z"
   },
   {
    "duration": 12,
    "start_time": "2022-02-22T15:09:54.563Z"
   },
   {
    "duration": 7,
    "start_time": "2022-02-22T15:10:15.386Z"
   },
   {
    "duration": 11,
    "start_time": "2022-02-22T15:12:49.648Z"
   },
   {
    "duration": 5,
    "start_time": "2022-02-22T15:13:35.399Z"
   },
   {
    "duration": 5,
    "start_time": "2022-02-22T15:13:50.032Z"
   },
   {
    "duration": 27,
    "start_time": "2022-02-22T15:15:56.639Z"
   },
   {
    "duration": 3,
    "start_time": "2022-02-22T15:16:16.143Z"
   },
   {
    "duration": 16,
    "start_time": "2022-02-22T15:16:23.271Z"
   },
   {
    "duration": 9,
    "start_time": "2022-02-22T15:16:43.798Z"
   },
   {
    "duration": 15,
    "start_time": "2022-02-22T15:16:52.734Z"
   },
   {
    "duration": 26,
    "start_time": "2022-02-22T15:21:50.181Z"
   },
   {
    "duration": 16,
    "start_time": "2022-02-22T15:22:31.813Z"
   },
   {
    "duration": 1006,
    "start_time": "2022-02-23T09:35:43.084Z"
   },
   {
    "duration": 2528,
    "start_time": "2022-02-23T09:35:44.091Z"
   },
   {
    "duration": 25,
    "start_time": "2022-02-23T09:35:46.621Z"
   },
   {
    "duration": 1347,
    "start_time": "2022-02-23T09:35:46.648Z"
   },
   {
    "duration": 7,
    "start_time": "2022-02-23T09:35:47.997Z"
   },
   {
    "duration": 28,
    "start_time": "2022-02-23T09:35:48.005Z"
   },
   {
    "duration": 32,
    "start_time": "2022-02-23T09:35:48.035Z"
   },
   {
    "duration": 330,
    "start_time": "2022-02-23T09:35:48.069Z"
   },
   {
    "duration": 9,
    "start_time": "2022-02-23T09:35:48.401Z"
   },
   {
    "duration": 24,
    "start_time": "2022-02-23T09:35:48.412Z"
   },
   {
    "duration": 9,
    "start_time": "2022-02-23T09:35:48.437Z"
   },
   {
    "duration": 17,
    "start_time": "2022-02-23T09:35:48.448Z"
   },
   {
    "duration": 24,
    "start_time": "2022-02-23T09:35:48.467Z"
   },
   {
    "duration": 9,
    "start_time": "2022-02-23T09:35:48.493Z"
   },
   {
    "duration": 28,
    "start_time": "2022-02-23T09:35:48.503Z"
   },
   {
    "duration": 30,
    "start_time": "2022-02-23T09:35:48.532Z"
   },
   {
    "duration": 15,
    "start_time": "2022-02-23T09:35:48.563Z"
   },
   {
    "duration": 29,
    "start_time": "2022-02-23T09:35:48.580Z"
   },
   {
    "duration": 10,
    "start_time": "2022-02-23T09:35:48.611Z"
   },
   {
    "duration": 25,
    "start_time": "2022-02-23T09:35:48.622Z"
   },
   {
    "duration": 5,
    "start_time": "2022-02-23T09:35:48.649Z"
   },
   {
    "duration": 33,
    "start_time": "2022-02-23T09:35:48.655Z"
   },
   {
    "duration": 11,
    "start_time": "2022-02-23T09:35:48.690Z"
   },
   {
    "duration": 14,
    "start_time": "2022-02-23T09:35:48.702Z"
   },
   {
    "duration": 25,
    "start_time": "2022-02-23T09:35:48.718Z"
   },
   {
    "duration": 101,
    "start_time": "2022-02-23T09:36:36.616Z"
   },
   {
    "duration": 160,
    "start_time": "2022-02-23T09:37:57.215Z"
   },
   {
    "duration": 124,
    "start_time": "2022-02-23T09:38:31.801Z"
   },
   {
    "duration": 9,
    "start_time": "2022-02-23T09:38:39.199Z"
   },
   {
    "duration": 8,
    "start_time": "2022-02-23T09:39:03.391Z"
   },
   {
    "duration": 141,
    "start_time": "2022-02-23T09:39:11.048Z"
   },
   {
    "duration": 123,
    "start_time": "2022-02-23T09:40:36.350Z"
   },
   {
    "duration": 128,
    "start_time": "2022-02-23T09:41:00.118Z"
   },
   {
    "duration": 129,
    "start_time": "2022-02-23T09:41:04.071Z"
   },
   {
    "duration": 133,
    "start_time": "2022-02-23T09:41:17.182Z"
   },
   {
    "duration": 171,
    "start_time": "2022-02-23T09:41:35.285Z"
   },
   {
    "duration": 340,
    "start_time": "2022-02-23T09:41:54.805Z"
   },
   {
    "duration": 373,
    "start_time": "2022-02-23T09:44:22.132Z"
   },
   {
    "duration": 300,
    "start_time": "2022-02-23T09:44:31.197Z"
   },
   {
    "duration": 9,
    "start_time": "2022-02-23T09:45:07.147Z"
   },
   {
    "duration": 6,
    "start_time": "2022-02-23T09:46:58.726Z"
   },
   {
    "duration": 8,
    "start_time": "2022-02-23T09:47:01.994Z"
   },
   {
    "duration": 123,
    "start_time": "2022-02-23T09:47:07.835Z"
   },
   {
    "duration": 115,
    "start_time": "2022-02-23T09:47:16.362Z"
   },
   {
    "duration": 22,
    "start_time": "2022-02-23T09:50:31.992Z"
   },
   {
    "duration": 23,
    "start_time": "2022-02-23T09:51:21.111Z"
   },
   {
    "duration": 357,
    "start_time": "2022-02-23T09:52:17.047Z"
   },
   {
    "duration": 337,
    "start_time": "2022-02-23T09:52:23.520Z"
   },
   {
    "duration": 27,
    "start_time": "2022-02-23T09:52:54.760Z"
   },
   {
    "duration": 17,
    "start_time": "2022-02-23T09:53:12.766Z"
   },
   {
    "duration": 20,
    "start_time": "2022-02-23T09:53:28.694Z"
   },
   {
    "duration": 25,
    "start_time": "2022-02-23T09:53:52.902Z"
   },
   {
    "duration": 7,
    "start_time": "2022-02-23T10:12:05.940Z"
   },
   {
    "duration": 2254,
    "start_time": "2022-02-23T10:12:15.165Z"
   },
   {
    "duration": 10,
    "start_time": "2022-02-23T10:12:21.546Z"
   },
   {
    "duration": 303,
    "start_time": "2022-02-23T10:12:54.203Z"
   },
   {
    "duration": 9,
    "start_time": "2022-02-23T10:13:05.507Z"
   },
   {
    "duration": 24,
    "start_time": "2022-02-23T10:14:38.395Z"
   },
   {
    "duration": 2317,
    "start_time": "2022-02-23T10:15:56.314Z"
   },
   {
    "duration": 9,
    "start_time": "2022-02-23T10:16:02.314Z"
   },
   {
    "duration": 20,
    "start_time": "2022-02-23T10:16:10.105Z"
   },
   {
    "duration": 421,
    "start_time": "2022-02-23T10:17:03.610Z"
   },
   {
    "duration": 260,
    "start_time": "2022-02-23T10:17:39.064Z"
   },
   {
    "duration": 510,
    "start_time": "2022-02-23T10:17:49.440Z"
   },
   {
    "duration": 614,
    "start_time": "2022-02-23T10:18:09.591Z"
   },
   {
    "duration": 665,
    "start_time": "2022-02-23T10:18:19.111Z"
   },
   {
    "duration": 589,
    "start_time": "2022-02-23T10:18:25.432Z"
   },
   {
    "duration": 596,
    "start_time": "2022-02-23T10:18:42.391Z"
   },
   {
    "duration": 135,
    "start_time": "2022-02-23T10:25:32.876Z"
   },
   {
    "duration": 369,
    "start_time": "2022-02-23T10:25:48.468Z"
   },
   {
    "duration": 123,
    "start_time": "2022-02-23T10:26:20.427Z"
   },
   {
    "duration": 118,
    "start_time": "2022-02-23T10:26:57.699Z"
   },
   {
    "duration": 9,
    "start_time": "2022-02-23T10:27:24.178Z"
   },
   {
    "duration": 6,
    "start_time": "2022-02-23T10:30:52.729Z"
   },
   {
    "duration": 6,
    "start_time": "2022-02-23T10:31:06.736Z"
   },
   {
    "duration": 7,
    "start_time": "2022-02-23T10:31:55.912Z"
   },
   {
    "duration": 339,
    "start_time": "2022-02-23T10:32:31.560Z"
   },
   {
    "duration": 12,
    "start_time": "2022-02-23T10:32:38.618Z"
   },
   {
    "duration": 6,
    "start_time": "2022-02-23T10:34:44.951Z"
   },
   {
    "duration": 12,
    "start_time": "2022-02-23T10:34:50.864Z"
   },
   {
    "duration": 8,
    "start_time": "2022-02-23T10:42:11.979Z"
   },
   {
    "duration": 10,
    "start_time": "2022-02-23T10:42:57.718Z"
   },
   {
    "duration": 7,
    "start_time": "2022-02-23T10:43:26.977Z"
   },
   {
    "duration": 8,
    "start_time": "2022-02-23T10:45:27.370Z"
   },
   {
    "duration": 5,
    "start_time": "2022-02-23T10:46:32.431Z"
   },
   {
    "duration": 8,
    "start_time": "2022-02-23T10:47:00.201Z"
   },
   {
    "duration": 661,
    "start_time": "2022-02-23T10:48:10.606Z"
   },
   {
    "duration": 309,
    "start_time": "2022-02-23T10:48:27.326Z"
   },
   {
    "duration": 309,
    "start_time": "2022-02-23T10:48:46.477Z"
   },
   {
    "duration": 440,
    "start_time": "2022-02-23T10:48:57.703Z"
   },
   {
    "duration": 238,
    "start_time": "2022-02-23T10:49:05.559Z"
   },
   {
    "duration": 397,
    "start_time": "2022-02-23T10:49:15.111Z"
   },
   {
    "duration": 336,
    "start_time": "2022-02-23T10:49:53.221Z"
   },
   {
    "duration": 369,
    "start_time": "2022-02-23T10:50:05.901Z"
   },
   {
    "duration": 342,
    "start_time": "2022-02-23T10:50:16.206Z"
   },
   {
    "duration": 348,
    "start_time": "2022-02-23T10:50:21.022Z"
   },
   {
    "duration": 368,
    "start_time": "2022-02-23T10:50:26.485Z"
   },
   {
    "duration": 288,
    "start_time": "2022-02-23T10:50:45.429Z"
   },
   {
    "duration": 124,
    "start_time": "2022-02-23T10:50:58.373Z"
   },
   {
    "duration": 1770,
    "start_time": "2022-02-23T10:51:21.692Z"
   },
   {
    "duration": 343,
    "start_time": "2022-02-23T10:51:35.004Z"
   },
   {
    "duration": 310,
    "start_time": "2022-02-23T10:51:49.637Z"
   },
   {
    "duration": 75,
    "start_time": "2022-02-23T10:54:12.676Z"
   },
   {
    "duration": 282,
    "start_time": "2022-02-23T10:55:03.101Z"
   },
   {
    "duration": 282,
    "start_time": "2022-02-23T10:55:41.675Z"
   },
   {
    "duration": 126,
    "start_time": "2022-02-23T10:55:50.127Z"
   },
   {
    "duration": 123,
    "start_time": "2022-02-23T10:56:18.425Z"
   },
   {
    "duration": 348,
    "start_time": "2022-02-23T10:56:55.658Z"
   },
   {
    "duration": 112,
    "start_time": "2022-02-23T10:57:04.218Z"
   },
   {
    "duration": 4,
    "start_time": "2022-02-23T10:58:45.201Z"
   },
   {
    "duration": 326,
    "start_time": "2022-02-23T10:58:55.680Z"
   },
   {
    "duration": 269,
    "start_time": "2022-02-23T10:58:59.336Z"
   },
   {
    "duration": 4,
    "start_time": "2022-02-23T10:59:09.672Z"
   },
   {
    "duration": 312,
    "start_time": "2022-02-23T11:03:15.608Z"
   },
   {
    "duration": 76,
    "start_time": "2022-02-23T11:03:44.813Z"
   },
   {
    "duration": 305,
    "start_time": "2022-02-23T11:07:36.252Z"
   },
   {
    "duration": 72,
    "start_time": "2022-02-23T11:07:38.787Z"
   },
   {
    "duration": 127,
    "start_time": "2022-02-23T11:10:55.307Z"
   },
   {
    "duration": 108,
    "start_time": "2022-02-23T11:11:41.387Z"
   },
   {
    "duration": 294,
    "start_time": "2022-02-23T11:11:54.625Z"
   },
   {
    "duration": 305,
    "start_time": "2022-02-23T11:11:57.800Z"
   },
   {
    "duration": 7,
    "start_time": "2022-02-23T11:12:05.819Z"
   },
   {
    "duration": 10,
    "start_time": "2022-02-23T11:12:28.498Z"
   },
   {
    "duration": 454,
    "start_time": "2022-02-23T11:12:55.208Z"
   },
   {
    "duration": 465,
    "start_time": "2022-02-23T11:13:04.216Z"
   },
   {
    "duration": 498,
    "start_time": "2022-02-23T11:13:24.497Z"
   },
   {
    "duration": 476,
    "start_time": "2022-02-23T11:13:33.984Z"
   },
   {
    "duration": 324,
    "start_time": "2022-02-23T11:13:42.695Z"
   },
   {
    "duration": 59,
    "start_time": "2022-02-23T11:15:48.272Z"
   },
   {
    "duration": 26,
    "start_time": "2022-02-23T11:15:57.840Z"
   },
   {
    "duration": 53,
    "start_time": "2022-02-23T11:16:32.824Z"
   },
   {
    "duration": 16,
    "start_time": "2022-02-23T11:16:35.728Z"
   },
   {
    "duration": 17,
    "start_time": "2022-02-23T11:16:48.966Z"
   },
   {
    "duration": 18,
    "start_time": "2022-02-23T11:17:31.966Z"
   },
   {
    "duration": 39,
    "start_time": "2022-02-23T11:18:37.815Z"
   },
   {
    "duration": 13,
    "start_time": "2022-02-23T11:18:52.262Z"
   },
   {
    "duration": 4,
    "start_time": "2022-02-23T11:18:57.926Z"
   },
   {
    "duration": 23,
    "start_time": "2022-02-23T11:19:07.541Z"
   },
   {
    "duration": 47,
    "start_time": "2022-02-23T11:19:27.198Z"
   },
   {
    "duration": 40,
    "start_time": "2022-02-23T11:19:34.461Z"
   },
   {
    "duration": 84,
    "start_time": "2022-02-23T11:20:25.604Z"
   },
   {
    "duration": 51,
    "start_time": "2022-02-23T11:21:09.268Z"
   },
   {
    "duration": 46,
    "start_time": "2022-02-23T11:21:11.549Z"
   },
   {
    "duration": 312,
    "start_time": "2022-02-23T11:22:25.906Z"
   },
   {
    "duration": 278,
    "start_time": "2022-02-23T11:22:47.067Z"
   },
   {
    "duration": 335,
    "start_time": "2022-02-23T11:23:05.603Z"
   },
   {
    "duration": 424,
    "start_time": "2022-02-23T11:23:54.130Z"
   },
   {
    "duration": 631,
    "start_time": "2022-02-23T11:24:02.052Z"
   },
   {
    "duration": 491,
    "start_time": "2022-02-23T11:24:08.147Z"
   },
   {
    "duration": 332,
    "start_time": "2022-02-23T11:24:13.266Z"
   },
   {
    "duration": 392,
    "start_time": "2022-02-23T11:24:53.442Z"
   },
   {
    "duration": 419,
    "start_time": "2022-02-23T11:25:00.737Z"
   },
   {
    "duration": 777,
    "start_time": "2022-02-23T11:29:03.457Z"
   },
   {
    "duration": 373,
    "start_time": "2022-02-23T11:29:12.000Z"
   },
   {
    "duration": 359,
    "start_time": "2022-02-23T11:29:19.735Z"
   },
   {
    "duration": 443,
    "start_time": "2022-02-23T11:31:10.840Z"
   },
   {
    "duration": 296,
    "start_time": "2022-02-23T11:31:21.190Z"
   },
   {
    "duration": 343,
    "start_time": "2022-02-23T11:31:42.845Z"
   },
   {
    "duration": 3,
    "start_time": "2022-02-23T11:32:00.550Z"
   },
   {
    "duration": 287,
    "start_time": "2022-02-23T11:32:10.790Z"
   },
   {
    "duration": 372,
    "start_time": "2022-02-23T11:33:27.796Z"
   },
   {
    "duration": 360,
    "start_time": "2022-02-23T11:33:53.149Z"
   },
   {
    "duration": 383,
    "start_time": "2022-02-23T11:34:14.469Z"
   },
   {
    "duration": 391,
    "start_time": "2022-02-23T11:34:33.196Z"
   },
   {
    "duration": 14,
    "start_time": "2022-02-23T11:35:38.692Z"
   },
   {
    "duration": 541,
    "start_time": "2022-02-23T11:35:44.398Z"
   },
   {
    "duration": 51,
    "start_time": "2022-02-23T11:36:01.731Z"
   },
   {
    "duration": 45,
    "start_time": "2022-02-23T11:36:02.787Z"
   },
   {
    "duration": 380,
    "start_time": "2022-02-23T11:36:07.285Z"
   },
   {
    "duration": 15,
    "start_time": "2022-02-23T11:36:17.738Z"
   },
   {
    "duration": 3,
    "start_time": "2022-02-23T11:36:50.218Z"
   },
   {
    "duration": 43,
    "start_time": "2022-02-23T11:38:58.978Z"
   },
   {
    "duration": 45,
    "start_time": "2022-02-23T11:39:33.722Z"
   },
   {
    "duration": 34,
    "start_time": "2022-02-23T11:39:35.944Z"
   },
   {
    "duration": 291,
    "start_time": "2022-02-23T11:40:11.633Z"
   },
   {
    "duration": 5,
    "start_time": "2022-02-23T11:40:41.489Z"
   },
   {
    "duration": 630,
    "start_time": "2022-02-23T11:40:57.131Z"
   },
   {
    "duration": 2273,
    "start_time": "2022-02-23T11:40:57.763Z"
   },
   {
    "duration": 8,
    "start_time": "2022-02-23T11:41:00.038Z"
   },
   {
    "duration": 20,
    "start_time": "2022-02-23T11:41:00.048Z"
   },
   {
    "duration": 656,
    "start_time": "2022-02-23T11:41:00.069Z"
   },
   {
    "duration": 2576,
    "start_time": "2022-02-23T11:41:00.731Z"
   },
   {
    "duration": 138,
    "start_time": "2022-02-23T11:41:03.309Z"
   },
   {
    "duration": 9,
    "start_time": "2022-02-23T11:41:03.449Z"
   },
   {
    "duration": 19,
    "start_time": "2022-02-23T11:41:03.460Z"
   },
   {
    "duration": 6,
    "start_time": "2022-02-23T11:41:03.480Z"
   },
   {
    "duration": 335,
    "start_time": "2022-02-23T11:41:03.487Z"
   },
   {
    "duration": 99,
    "start_time": "2022-02-23T11:41:03.823Z"
   },
   {
    "duration": 342,
    "start_time": "2022-02-23T11:41:03.924Z"
   },
   {
    "duration": 41,
    "start_time": "2022-02-23T11:41:04.268Z"
   },
   {
    "duration": 45,
    "start_time": "2022-02-23T11:41:04.311Z"
   },
   {
    "duration": 455,
    "start_time": "2022-02-23T11:41:04.357Z"
   },
   {
    "duration": 22,
    "start_time": "2022-02-23T11:41:04.813Z"
   },
   {
    "duration": 44,
    "start_time": "2022-02-23T11:41:04.837Z"
   },
   {
    "duration": 32,
    "start_time": "2022-02-23T11:41:04.882Z"
   },
   {
    "duration": 286,
    "start_time": "2022-02-23T11:41:04.916Z"
   },
   {
    "duration": 3,
    "start_time": "2022-02-23T11:41:05.204Z"
   },
   {
    "duration": 28,
    "start_time": "2022-02-23T11:41:05.209Z"
   },
   {
    "duration": 7,
    "start_time": "2022-02-23T11:41:05.240Z"
   },
   {
    "duration": 22,
    "start_time": "2022-02-23T11:41:05.249Z"
   },
   {
    "duration": 9,
    "start_time": "2022-02-23T11:41:05.273Z"
   },
   {
    "duration": 12,
    "start_time": "2022-02-23T11:41:05.283Z"
   },
   {
    "duration": 36,
    "start_time": "2022-02-23T11:41:05.296Z"
   },
   {
    "duration": 11,
    "start_time": "2022-02-23T11:41:05.334Z"
   },
   {
    "duration": 5,
    "start_time": "2022-02-23T11:41:05.346Z"
   },
   {
    "duration": 9,
    "start_time": "2022-02-23T11:41:05.352Z"
   },
   {
    "duration": 4,
    "start_time": "2022-02-23T11:41:05.363Z"
   },
   {
    "duration": 7,
    "start_time": "2022-02-23T11:47:59.330Z"
   },
   {
    "duration": 603,
    "start_time": "2022-02-23T11:48:09.489Z"
   },
   {
    "duration": 2294,
    "start_time": "2022-02-23T11:48:10.093Z"
   },
   {
    "duration": 8,
    "start_time": "2022-02-23T11:48:12.389Z"
   },
   {
    "duration": 34,
    "start_time": "2022-02-23T11:48:12.399Z"
   },
   {
    "duration": 640,
    "start_time": "2022-02-23T11:48:12.435Z"
   },
   {
    "duration": 1216,
    "start_time": "2022-02-23T11:48:13.076Z"
   },
   {
    "duration": 127,
    "start_time": "2022-02-23T11:48:14.294Z"
   },
   {
    "duration": 17,
    "start_time": "2022-02-23T11:48:14.423Z"
   },
   {
    "duration": 13,
    "start_time": "2022-02-23T11:48:14.442Z"
   },
   {
    "duration": 4,
    "start_time": "2022-02-23T11:48:14.457Z"
   },
   {
    "duration": 330,
    "start_time": "2022-02-23T11:48:14.462Z"
   },
   {
    "duration": 73,
    "start_time": "2022-02-23T11:48:14.794Z"
   },
   {
    "duration": 333,
    "start_time": "2022-02-23T11:48:14.869Z"
   },
   {
    "duration": 42,
    "start_time": "2022-02-23T11:48:15.204Z"
   },
   {
    "duration": 45,
    "start_time": "2022-02-23T11:48:15.248Z"
   },
   {
    "duration": 444,
    "start_time": "2022-02-23T11:48:15.295Z"
   },
   {
    "duration": 13,
    "start_time": "2022-02-23T11:48:15.741Z"
   },
   {
    "duration": 33,
    "start_time": "2022-02-23T11:48:15.755Z"
   },
   {
    "duration": 32,
    "start_time": "2022-02-23T11:48:15.790Z"
   },
   {
    "duration": 336,
    "start_time": "2022-02-23T11:48:15.824Z"
   },
   {
    "duration": 4,
    "start_time": "2022-02-23T11:48:16.162Z"
   },
   {
    "duration": 20,
    "start_time": "2022-02-23T11:48:16.168Z"
   },
   {
    "duration": 7,
    "start_time": "2022-02-23T11:48:16.190Z"
   },
   {
    "duration": 42,
    "start_time": "2022-02-23T11:48:16.198Z"
   },
   {
    "duration": 9,
    "start_time": "2022-02-23T11:48:16.241Z"
   },
   {
    "duration": 11,
    "start_time": "2022-02-23T11:48:16.252Z"
   },
   {
    "duration": 7,
    "start_time": "2022-02-23T11:48:16.265Z"
   },
   {
    "duration": 11,
    "start_time": "2022-02-23T11:48:16.274Z"
   },
   {
    "duration": 5,
    "start_time": "2022-02-23T11:48:16.287Z"
   },
   {
    "duration": 39,
    "start_time": "2022-02-23T11:48:16.294Z"
   },
   {
    "duration": 4,
    "start_time": "2022-02-23T11:48:16.334Z"
   },
   {
    "duration": 20,
    "start_time": "2022-02-23T12:12:36.601Z"
   },
   {
    "duration": 109,
    "start_time": "2022-02-23T12:20:30.494Z"
   },
   {
    "duration": 646,
    "start_time": "2022-02-23T12:51:23.828Z"
   },
   {
    "duration": 2243,
    "start_time": "2022-02-23T12:51:24.476Z"
   },
   {
    "duration": 18,
    "start_time": "2022-02-23T12:51:26.720Z"
   },
   {
    "duration": 21,
    "start_time": "2022-02-23T12:51:26.739Z"
   },
   {
    "duration": 647,
    "start_time": "2022-02-23T12:51:26.761Z"
   },
   {
    "duration": 1263,
    "start_time": "2022-02-23T12:51:27.409Z"
   },
   {
    "duration": 146,
    "start_time": "2022-02-23T12:51:28.674Z"
   },
   {
    "duration": 10,
    "start_time": "2022-02-23T12:51:28.822Z"
   },
   {
    "duration": 43,
    "start_time": "2022-02-23T12:51:28.834Z"
   },
   {
    "duration": 5,
    "start_time": "2022-02-23T12:51:28.878Z"
   },
   {
    "duration": 339,
    "start_time": "2022-02-23T12:51:28.885Z"
   },
   {
    "duration": 117,
    "start_time": "2022-02-23T12:51:29.225Z"
   },
   {
    "duration": 354,
    "start_time": "2022-02-23T12:51:29.344Z"
   },
   {
    "duration": 41,
    "start_time": "2022-02-23T12:51:29.701Z"
   },
   {
    "duration": 45,
    "start_time": "2022-02-23T12:51:29.744Z"
   },
   {
    "duration": 479,
    "start_time": "2022-02-23T12:51:29.790Z"
   },
   {
    "duration": 13,
    "start_time": "2022-02-23T12:51:30.270Z"
   },
   {
    "duration": 66,
    "start_time": "2022-02-23T12:51:30.284Z"
   },
   {
    "duration": 40,
    "start_time": "2022-02-23T12:51:30.352Z"
   },
   {
    "duration": 301,
    "start_time": "2022-02-23T12:51:30.394Z"
   },
   {
    "duration": 5,
    "start_time": "2022-02-23T12:51:30.697Z"
   },
   {
    "duration": 42,
    "start_time": "2022-02-23T12:54:27.056Z"
   },
   {
    "duration": 803,
    "start_time": "2022-02-23T12:55:37.705Z"
   },
   {
    "duration": 2682,
    "start_time": "2022-02-23T12:55:38.510Z"
   },
   {
    "duration": 8,
    "start_time": "2022-02-23T12:55:41.193Z"
   },
   {
    "duration": 38,
    "start_time": "2022-02-23T12:55:41.203Z"
   },
   {
    "duration": 643,
    "start_time": "2022-02-23T12:55:41.242Z"
   },
   {
    "duration": 1250,
    "start_time": "2022-02-23T12:55:41.887Z"
   },
   {
    "duration": 126,
    "start_time": "2022-02-23T12:55:43.139Z"
   },
   {
    "duration": 10,
    "start_time": "2022-02-23T12:55:43.267Z"
   },
   {
    "duration": 11,
    "start_time": "2022-02-23T12:55:43.279Z"
   },
   {
    "duration": 4,
    "start_time": "2022-02-23T12:55:43.292Z"
   },
   {
    "duration": 344,
    "start_time": "2022-02-23T12:55:43.298Z"
   },
   {
    "duration": 87,
    "start_time": "2022-02-23T12:55:43.644Z"
   },
   {
    "duration": 343,
    "start_time": "2022-02-23T12:55:43.733Z"
   },
   {
    "duration": 40,
    "start_time": "2022-02-23T12:55:44.079Z"
   },
   {
    "duration": 44,
    "start_time": "2022-02-23T12:55:44.122Z"
   },
   {
    "duration": 437,
    "start_time": "2022-02-23T12:55:44.167Z"
   },
   {
    "duration": 12,
    "start_time": "2022-02-23T12:55:44.606Z"
   },
   {
    "duration": 35,
    "start_time": "2022-02-23T12:55:44.620Z"
   },
   {
    "duration": 31,
    "start_time": "2022-02-23T12:55:44.656Z"
   },
   {
    "duration": 302,
    "start_time": "2022-02-23T12:55:44.689Z"
   },
   {
    "duration": 3,
    "start_time": "2022-02-23T12:55:44.993Z"
   },
   {
    "duration": 1473,
    "start_time": "2022-02-23T12:56:41.975Z"
   },
   {
    "duration": 3218,
    "start_time": "2022-02-23T12:56:43.449Z"
   },
   {
    "duration": 8,
    "start_time": "2022-02-23T12:56:46.669Z"
   },
   {
    "duration": 19,
    "start_time": "2022-02-23T12:56:46.679Z"
   },
   {
    "duration": 644,
    "start_time": "2022-02-23T12:56:46.700Z"
   },
   {
    "duration": 1254,
    "start_time": "2022-02-23T12:56:47.346Z"
   },
   {
    "duration": 151,
    "start_time": "2022-02-23T12:56:48.602Z"
   },
   {
    "duration": 9,
    "start_time": "2022-02-23T12:56:48.756Z"
   },
   {
    "duration": 11,
    "start_time": "2022-02-23T12:56:48.767Z"
   },
   {
    "duration": 6,
    "start_time": "2022-02-23T12:56:48.779Z"
   },
   {
    "duration": 337,
    "start_time": "2022-02-23T12:56:48.787Z"
   },
   {
    "duration": 116,
    "start_time": "2022-02-23T12:56:49.131Z"
   },
   {
    "duration": 345,
    "start_time": "2022-02-23T12:56:49.249Z"
   },
   {
    "duration": 40,
    "start_time": "2022-02-23T12:56:49.596Z"
   },
   {
    "duration": 47,
    "start_time": "2022-02-23T12:56:49.638Z"
   },
   {
    "duration": 472,
    "start_time": "2022-02-23T12:56:49.687Z"
   },
   {
    "duration": 12,
    "start_time": "2022-02-23T12:56:50.161Z"
   },
   {
    "duration": 45,
    "start_time": "2022-02-23T12:56:50.175Z"
   },
   {
    "duration": 32,
    "start_time": "2022-02-23T12:56:50.221Z"
   },
   {
    "duration": 491,
    "start_time": "2022-02-23T12:56:50.255Z"
   },
   {
    "duration": 6,
    "start_time": "2022-02-23T12:56:50.748Z"
   },
   {
    "duration": 831,
    "start_time": "2022-02-23T14:59:22.690Z"
   },
   {
    "duration": 4960,
    "start_time": "2022-02-23T14:59:31.569Z"
   },
   {
    "duration": 26,
    "start_time": "2022-02-23T14:59:36.532Z"
   },
   {
    "duration": 33,
    "start_time": "2022-02-23T14:59:42.512Z"
   },
   {
    "duration": 1167,
    "start_time": "2022-02-23T14:59:43.360Z"
   },
   {
    "duration": 2697,
    "start_time": "2022-02-23T14:59:44.889Z"
   },
   {
    "duration": 241,
    "start_time": "2022-02-23T14:59:47.589Z"
   },
   {
    "duration": 28,
    "start_time": "2022-02-23T14:59:47.834Z"
   },
   {
    "duration": 18,
    "start_time": "2022-02-23T14:59:47.865Z"
   },
   {
    "duration": 8,
    "start_time": "2022-02-23T14:59:47.886Z"
   },
   {
    "duration": 594,
    "start_time": "2022-02-23T14:59:47.897Z"
   },
   {
    "duration": 55,
    "start_time": "2022-02-23T14:59:48.494Z"
   },
   {
    "duration": 627,
    "start_time": "2022-02-23T14:59:48.553Z"
   },
   {
    "duration": 42,
    "start_time": "2022-02-23T14:59:49.183Z"
   },
   {
    "duration": 91,
    "start_time": "2022-02-23T14:59:49.227Z"
   },
   {
    "duration": 775,
    "start_time": "2022-02-23T14:59:49.321Z"
   },
   {
    "duration": 19,
    "start_time": "2022-02-23T14:59:50.098Z"
   },
   {
    "duration": 48,
    "start_time": "2022-02-23T14:59:50.120Z"
   },
   {
    "duration": 56,
    "start_time": "2022-02-23T14:59:50.171Z"
   },
   {
    "duration": 551,
    "start_time": "2022-02-23T14:59:50.230Z"
   },
   {
    "duration": 8,
    "start_time": "2022-02-23T14:59:50.784Z"
   },
   {
    "duration": 638,
    "start_time": "2022-02-24T14:57:43.446Z"
   },
   {
    "duration": 2413,
    "start_time": "2022-02-24T14:57:44.086Z"
   },
   {
    "duration": 8,
    "start_time": "2022-02-24T14:57:46.501Z"
   },
   {
    "duration": 18,
    "start_time": "2022-02-24T14:57:46.510Z"
   },
   {
    "duration": 697,
    "start_time": "2022-02-24T14:57:46.545Z"
   },
   {
    "duration": 1311,
    "start_time": "2022-02-24T14:57:47.243Z"
   },
   {
    "duration": 125,
    "start_time": "2022-02-24T14:57:48.556Z"
   },
   {
    "duration": 10,
    "start_time": "2022-02-24T14:57:48.684Z"
   },
   {
    "duration": 11,
    "start_time": "2022-02-24T14:57:48.695Z"
   },
   {
    "duration": 5,
    "start_time": "2022-02-24T14:57:48.708Z"
   },
   {
    "duration": 308,
    "start_time": "2022-02-24T14:57:48.714Z"
   },
   {
    "duration": 115,
    "start_time": "2022-02-24T14:57:49.023Z"
   },
   {
    "duration": 310,
    "start_time": "2022-02-24T14:57:49.139Z"
   },
   {
    "duration": 190,
    "start_time": "2022-02-24T14:57:49.450Z"
   },
   {
    "duration": 41,
    "start_time": "2022-02-24T14:57:49.642Z"
   },
   {
    "duration": 424,
    "start_time": "2022-02-24T14:57:49.685Z"
   },
   {
    "duration": 13,
    "start_time": "2022-02-24T14:57:50.110Z"
   },
   {
    "duration": 140,
    "start_time": "2022-02-24T14:57:50.124Z"
   },
   {
    "duration": 30,
    "start_time": "2022-02-24T14:57:50.266Z"
   },
   {
    "duration": 280,
    "start_time": "2022-02-24T14:57:50.298Z"
   },
   {
    "duration": 5,
    "start_time": "2022-02-24T14:57:50.580Z"
   },
   {
    "duration": 12,
    "start_time": "2022-02-24T14:59:51.966Z"
   },
   {
    "duration": 7,
    "start_time": "2022-02-24T15:01:32.000Z"
   },
   {
    "duration": 424,
    "start_time": "2022-02-24T15:02:01.014Z"
   },
   {
    "duration": 309,
    "start_time": "2022-02-24T15:02:14.135Z"
   },
   {
    "duration": 7,
    "start_time": "2022-02-24T15:02:20.791Z"
   },
   {
    "duration": 6,
    "start_time": "2022-02-24T15:02:48.119Z"
   },
   {
    "duration": 6,
    "start_time": "2022-02-24T15:05:19.557Z"
   },
   {
    "duration": 7,
    "start_time": "2022-02-24T15:05:58.477Z"
   },
   {
    "duration": 5,
    "start_time": "2022-02-24T15:06:49.597Z"
   },
   {
    "duration": 12,
    "start_time": "2022-02-24T15:06:57.844Z"
   },
   {
    "duration": 121,
    "start_time": "2022-02-24T15:07:51.636Z"
   },
   {
    "duration": 5,
    "start_time": "2022-02-24T15:07:59.635Z"
   },
   {
    "duration": 1144,
    "start_time": "2022-02-24T15:08:59.452Z"
   },
   {
    "duration": 13,
    "start_time": "2022-02-24T15:09:24.396Z"
   },
   {
    "duration": 12,
    "start_time": "2022-02-24T15:10:01.771Z"
   },
   {
    "duration": 7,
    "start_time": "2022-02-24T15:10:43.314Z"
   },
   {
    "duration": 9,
    "start_time": "2022-02-24T15:10:51.850Z"
   },
   {
    "duration": 5,
    "start_time": "2022-02-24T15:10:58.700Z"
   },
   {
    "duration": 8,
    "start_time": "2022-02-24T15:11:09.985Z"
   },
   {
    "duration": 10,
    "start_time": "2022-02-24T15:12:26.050Z"
   },
   {
    "duration": 4,
    "start_time": "2022-02-24T15:15:53.963Z"
   },
   {
    "duration": 10,
    "start_time": "2022-02-24T15:16:02.535Z"
   },
   {
    "duration": 5,
    "start_time": "2022-02-24T15:17:43.215Z"
   },
   {
    "duration": 10,
    "start_time": "2022-02-24T15:17:50.207Z"
   },
   {
    "duration": 113,
    "start_time": "2022-02-24T15:18:46.022Z"
   },
   {
    "duration": 16,
    "start_time": "2022-02-24T15:18:55.958Z"
   },
   {
    "duration": 1168,
    "start_time": "2022-02-24T15:20:07.269Z"
   },
   {
    "duration": 30,
    "start_time": "2022-02-24T15:20:18.397Z"
   },
   {
    "duration": 8,
    "start_time": "2022-02-24T15:20:59.565Z"
   },
   {
    "duration": 15,
    "start_time": "2022-02-24T15:22:18.998Z"
   },
   {
    "duration": 12,
    "start_time": "2022-02-24T15:22:27.788Z"
   },
   {
    "duration": 16,
    "start_time": "2022-02-24T15:24:04.347Z"
   },
   {
    "duration": 11,
    "start_time": "2022-02-24T15:24:06.596Z"
   },
   {
    "duration": 16,
    "start_time": "2022-02-24T15:26:12.828Z"
   },
   {
    "duration": 13,
    "start_time": "2022-02-24T15:26:15.698Z"
   },
   {
    "duration": 9,
    "start_time": "2022-02-24T15:27:12.720Z"
   },
   {
    "duration": 14,
    "start_time": "2022-02-24T15:27:22.107Z"
   },
   {
    "duration": 15,
    "start_time": "2022-02-24T15:27:36.633Z"
   },
   {
    "duration": 4,
    "start_time": "2022-02-24T15:29:30.978Z"
   },
   {
    "duration": 17,
    "start_time": "2022-02-24T15:29:42.872Z"
   },
   {
    "duration": 14,
    "start_time": "2022-02-24T15:31:16.008Z"
   },
   {
    "duration": 14,
    "start_time": "2022-02-24T15:32:22.833Z"
   },
   {
    "duration": 15,
    "start_time": "2022-02-24T15:32:46.126Z"
   },
   {
    "duration": 690,
    "start_time": "2022-02-24T15:33:21.512Z"
   },
   {
    "duration": 2218,
    "start_time": "2022-02-24T15:33:22.204Z"
   },
   {
    "duration": 7,
    "start_time": "2022-02-24T15:33:24.424Z"
   },
   {
    "duration": 27,
    "start_time": "2022-02-24T15:33:24.433Z"
   },
   {
    "duration": 631,
    "start_time": "2022-02-24T15:33:24.462Z"
   },
   {
    "duration": 1258,
    "start_time": "2022-02-24T15:33:25.095Z"
   },
   {
    "duration": 124,
    "start_time": "2022-02-24T15:33:26.354Z"
   },
   {
    "duration": 7,
    "start_time": "2022-02-24T15:33:26.479Z"
   },
   {
    "duration": 11,
    "start_time": "2022-02-24T15:33:26.489Z"
   },
   {
    "duration": 6,
    "start_time": "2022-02-24T15:33:26.501Z"
   },
   {
    "duration": 321,
    "start_time": "2022-02-24T15:33:26.508Z"
   },
   {
    "duration": 59,
    "start_time": "2022-02-24T15:33:26.830Z"
   },
   {
    "duration": 334,
    "start_time": "2022-02-24T15:33:26.891Z"
   },
   {
    "duration": 40,
    "start_time": "2022-02-24T15:33:27.226Z"
   },
   {
    "duration": 44,
    "start_time": "2022-02-24T15:33:27.267Z"
   },
   {
    "duration": 434,
    "start_time": "2022-02-24T15:33:27.312Z"
   },
   {
    "duration": 12,
    "start_time": "2022-02-24T15:33:27.748Z"
   },
   {
    "duration": 34,
    "start_time": "2022-02-24T15:33:27.761Z"
   },
   {
    "duration": 37,
    "start_time": "2022-02-24T15:33:27.797Z"
   },
   {
    "duration": 283,
    "start_time": "2022-02-24T15:33:27.835Z"
   },
   {
    "duration": 7,
    "start_time": "2022-02-24T15:33:28.119Z"
   },
   {
    "duration": 22,
    "start_time": "2022-02-24T15:33:28.127Z"
   },
   {
    "duration": 6,
    "start_time": "2022-02-24T15:33:28.151Z"
   },
   {
    "duration": 21,
    "start_time": "2022-02-24T15:33:28.158Z"
   },
   {
    "duration": 8,
    "start_time": "2022-02-24T15:33:28.180Z"
   },
   {
    "duration": 11,
    "start_time": "2022-02-24T15:33:28.189Z"
   },
   {
    "duration": 16,
    "start_time": "2022-02-24T15:33:28.203Z"
   },
   {
    "duration": 28,
    "start_time": "2022-02-24T15:33:28.220Z"
   },
   {
    "duration": 17,
    "start_time": "2022-02-24T15:33:28.249Z"
   },
   {
    "duration": 18,
    "start_time": "2022-02-24T15:33:28.268Z"
   },
   {
    "duration": 14,
    "start_time": "2022-02-24T15:33:28.288Z"
   },
   {
    "duration": 25,
    "start_time": "2022-02-24T15:34:22.140Z"
   },
   {
    "duration": 20,
    "start_time": "2022-02-24T15:34:43.004Z"
   },
   {
    "duration": 16,
    "start_time": "2022-02-24T15:35:55.355Z"
   },
   {
    "duration": 15,
    "start_time": "2022-02-24T15:37:07.499Z"
   },
   {
    "duration": 5,
    "start_time": "2022-02-24T15:37:13.764Z"
   },
   {
    "duration": 6,
    "start_time": "2022-02-24T15:37:32.979Z"
   },
   {
    "duration": 4,
    "start_time": "2022-02-24T15:38:40.851Z"
   },
   {
    "duration": 5,
    "start_time": "2022-02-24T15:38:53.556Z"
   },
   {
    "duration": 3,
    "start_time": "2022-02-24T15:39:25.886Z"
   },
   {
    "duration": 400,
    "start_time": "2022-02-24T15:41:03.912Z"
   },
   {
    "duration": 336,
    "start_time": "2022-02-24T15:41:16.346Z"
   },
   {
    "duration": 375,
    "start_time": "2022-02-24T15:41:49.320Z"
   },
   {
    "duration": 3,
    "start_time": "2022-02-24T15:42:01.319Z"
   },
   {
    "duration": 12,
    "start_time": "2022-02-24T15:42:06.439Z"
   },
   {
    "duration": 12,
    "start_time": "2022-02-24T15:42:26.200Z"
   },
   {
    "duration": 327,
    "start_time": "2022-02-24T15:42:56.072Z"
   },
   {
    "duration": 21,
    "start_time": "2022-02-24T15:43:27.710Z"
   },
   {
    "duration": 6,
    "start_time": "2022-02-24T15:43:45.414Z"
   },
   {
    "duration": 12,
    "start_time": "2022-02-24T15:44:49.215Z"
   },
   {
    "duration": 3,
    "start_time": "2022-02-24T15:46:43.333Z"
   },
   {
    "duration": 3,
    "start_time": "2022-02-24T15:46:47.175Z"
   },
   {
    "duration": 35,
    "start_time": "2022-02-24T15:46:54.564Z"
   },
   {
    "duration": 12,
    "start_time": "2022-02-24T15:47:17.732Z"
   },
   {
    "duration": 5,
    "start_time": "2022-02-24T15:47:46.293Z"
   },
   {
    "duration": 9,
    "start_time": "2022-02-24T15:47:56.687Z"
   },
   {
    "duration": 377,
    "start_time": "2022-02-24T15:48:03.892Z"
   },
   {
    "duration": 14,
    "start_time": "2022-02-24T15:48:13.724Z"
   },
   {
    "duration": 5,
    "start_time": "2022-02-24T15:48:32.162Z"
   },
   {
    "duration": 18,
    "start_time": "2022-02-24T15:48:34.515Z"
   },
   {
    "duration": 7,
    "start_time": "2022-02-24T15:48:54.005Z"
   },
   {
    "duration": 19,
    "start_time": "2022-02-24T15:49:01.443Z"
   },
   {
    "duration": 14,
    "start_time": "2022-02-24T15:49:34.012Z"
   },
   {
    "duration": 13,
    "start_time": "2022-02-24T15:50:10.619Z"
   },
   {
    "duration": 12,
    "start_time": "2022-02-24T15:50:57.626Z"
   },
   {
    "duration": 127,
    "start_time": "2022-02-24T15:51:41.490Z"
   },
   {
    "duration": 13,
    "start_time": "2022-02-24T15:51:49.289Z"
   },
   {
    "duration": 13,
    "start_time": "2022-02-24T15:52:24.067Z"
   },
   {
    "duration": 14,
    "start_time": "2022-02-24T15:52:46.939Z"
   },
   {
    "duration": 14,
    "start_time": "2022-02-24T15:52:55.633Z"
   },
   {
    "duration": 109,
    "start_time": "2022-02-24T15:53:00.074Z"
   },
   {
    "duration": 12,
    "start_time": "2022-02-24T15:53:05.616Z"
   },
   {
    "duration": 13,
    "start_time": "2022-02-24T15:53:11.896Z"
   },
   {
    "duration": 765,
    "start_time": "2022-02-25T14:56:35.157Z"
   },
   {
    "duration": 2830,
    "start_time": "2022-02-25T14:56:35.924Z"
   },
   {
    "duration": 22,
    "start_time": "2022-02-25T14:56:38.756Z"
   },
   {
    "duration": 30,
    "start_time": "2022-02-25T14:56:38.780Z"
   },
   {
    "duration": 843,
    "start_time": "2022-02-25T14:56:38.812Z"
   },
   {
    "duration": 1591,
    "start_time": "2022-02-25T14:56:39.657Z"
   },
   {
    "duration": 169,
    "start_time": "2022-02-25T14:56:41.250Z"
   },
   {
    "duration": 13,
    "start_time": "2022-02-25T14:56:41.422Z"
   },
   {
    "duration": 32,
    "start_time": "2022-02-25T14:56:41.438Z"
   },
   {
    "duration": 6,
    "start_time": "2022-02-25T14:56:41.473Z"
   },
   {
    "duration": 408,
    "start_time": "2022-02-25T14:56:41.481Z"
   },
   {
    "duration": 48,
    "start_time": "2022-02-25T14:56:41.891Z"
   },
   {
    "duration": 421,
    "start_time": "2022-02-25T14:56:41.941Z"
   },
   {
    "duration": 39,
    "start_time": "2022-02-25T14:56:42.368Z"
   },
   {
    "duration": 67,
    "start_time": "2022-02-25T14:56:42.409Z"
   },
   {
    "duration": 564,
    "start_time": "2022-02-25T14:56:42.478Z"
   },
   {
    "duration": 29,
    "start_time": "2022-02-25T14:56:43.044Z"
   },
   {
    "duration": 35,
    "start_time": "2022-02-25T14:56:43.075Z"
   },
   {
    "duration": 41,
    "start_time": "2022-02-25T14:56:43.112Z"
   },
   {
    "duration": 580,
    "start_time": "2022-02-25T14:56:43.155Z"
   },
   {
    "duration": 8,
    "start_time": "2022-02-25T14:56:43.737Z"
   },
   {
    "duration": 29,
    "start_time": "2022-02-25T14:56:43.748Z"
   },
   {
    "duration": 8,
    "start_time": "2022-02-25T14:56:43.783Z"
   },
   {
    "duration": 13,
    "start_time": "2022-02-25T14:56:43.793Z"
   },
   {
    "duration": 9,
    "start_time": "2022-02-25T14:56:43.809Z"
   },
   {
    "duration": 51,
    "start_time": "2022-02-25T14:56:43.821Z"
   },
   {
    "duration": 23,
    "start_time": "2022-02-25T14:56:43.874Z"
   },
   {
    "duration": 7,
    "start_time": "2022-02-25T14:56:43.899Z"
   },
   {
    "duration": 17,
    "start_time": "2022-02-25T14:56:43.908Z"
   },
   {
    "duration": 60,
    "start_time": "2022-02-25T14:56:43.927Z"
   },
   {
    "duration": 20,
    "start_time": "2022-02-25T14:56:43.989Z"
   },
   {
    "duration": 35,
    "start_time": "2022-02-25T14:56:44.011Z"
   },
   {
    "duration": 27,
    "start_time": "2022-02-25T14:56:44.068Z"
   },
   {
    "duration": 5,
    "start_time": "2022-02-25T14:56:44.097Z"
   },
   {
    "duration": 7,
    "start_time": "2022-02-25T14:56:44.104Z"
   },
   {
    "duration": 9,
    "start_time": "2022-02-25T14:56:44.113Z"
   },
   {
    "duration": 10,
    "start_time": "2022-02-25T14:56:44.124Z"
   },
   {
    "duration": 44,
    "start_time": "2022-02-25T14:56:44.136Z"
   },
   {
    "duration": 15,
    "start_time": "2022-02-25T14:57:04.767Z"
   },
   {
    "duration": 10,
    "start_time": "2022-02-25T14:57:24.390Z"
   },
   {
    "duration": 6,
    "start_time": "2022-02-25T14:57:45.175Z"
   },
   {
    "duration": 19,
    "start_time": "2022-02-25T14:57:53.678Z"
   },
   {
    "duration": 340,
    "start_time": "2022-02-25T14:58:40.789Z"
   },
   {
    "duration": 21,
    "start_time": "2022-02-25T14:59:11.966Z"
   },
   {
    "duration": 41,
    "start_time": "2022-02-25T14:59:52.158Z"
   },
   {
    "duration": 39,
    "start_time": "2022-02-25T15:00:56.831Z"
   },
   {
    "duration": 39,
    "start_time": "2022-02-25T15:02:35.565Z"
   },
   {
    "duration": 10,
    "start_time": "2022-02-25T15:03:01.190Z"
   },
   {
    "duration": 12,
    "start_time": "2022-02-25T15:03:08.483Z"
   },
   {
    "duration": 281,
    "start_time": "2022-02-25T15:03:46.966Z"
   },
   {
    "duration": 13,
    "start_time": "2022-02-25T15:04:06.427Z"
   },
   {
    "duration": 39,
    "start_time": "2022-02-25T15:04:13.218Z"
   },
   {
    "duration": 36,
    "start_time": "2022-02-25T15:04:39.483Z"
   },
   {
    "duration": 298,
    "start_time": "2022-02-25T15:08:55.720Z"
   },
   {
    "duration": 522,
    "start_time": "2022-02-25T15:09:01.024Z"
   },
   {
    "duration": 6,
    "start_time": "2022-02-25T15:09:03.568Z"
   },
   {
    "duration": 7,
    "start_time": "2022-02-25T15:09:12.191Z"
   },
   {
    "duration": 5,
    "start_time": "2022-02-25T15:09:24.143Z"
   },
   {
    "duration": 5,
    "start_time": "2022-02-25T15:09:41.583Z"
   },
   {
    "duration": 17,
    "start_time": "2022-02-25T15:11:01.887Z"
   },
   {
    "duration": 8,
    "start_time": "2022-02-25T15:11:11.638Z"
   },
   {
    "duration": 273,
    "start_time": "2022-02-25T15:11:44.584Z"
   },
   {
    "duration": 2,
    "start_time": "2022-02-25T15:12:27.438Z"
   },
   {
    "duration": 644,
    "start_time": "2022-02-25T15:13:01.985Z"
   },
   {
    "duration": 11,
    "start_time": "2022-02-25T15:13:33.638Z"
   },
   {
    "duration": 10,
    "start_time": "2022-02-25T15:16:05.495Z"
   },
   {
    "duration": 3,
    "start_time": "2022-02-25T15:16:10.541Z"
   },
   {
    "duration": 6,
    "start_time": "2022-02-25T15:16:12.708Z"
   },
   {
    "duration": 3,
    "start_time": "2022-02-25T15:16:15.453Z"
   },
   {
    "duration": 11,
    "start_time": "2022-02-25T15:16:17.386Z"
   },
   {
    "duration": 8,
    "start_time": "2022-02-25T15:16:55.048Z"
   },
   {
    "duration": 3,
    "start_time": "2022-02-25T15:18:26.732Z"
   },
   {
    "duration": 15,
    "start_time": "2022-02-25T15:19:24.101Z"
   },
   {
    "duration": 39,
    "start_time": "2022-02-25T15:22:10.675Z"
   },
   {
    "duration": 5,
    "start_time": "2022-02-25T15:24:35.028Z"
   },
   {
    "duration": 147,
    "start_time": "2022-02-25T15:24:48.885Z"
   },
   {
    "duration": 3,
    "start_time": "2022-02-25T15:25:07.412Z"
   },
   {
    "duration": 9,
    "start_time": "2022-02-25T15:25:08.531Z"
   },
   {
    "duration": 18,
    "start_time": "2022-02-25T15:25:10.499Z"
   },
   {
    "duration": 18,
    "start_time": "2022-02-25T15:25:23.666Z"
   },
   {
    "duration": 3,
    "start_time": "2022-02-25T15:26:13.948Z"
   },
   {
    "duration": 1374,
    "start_time": "2022-02-25T15:26:15.753Z"
   },
   {
    "duration": 44,
    "start_time": "2022-02-25T15:26:45.482Z"
   },
   {
    "duration": 25,
    "start_time": "2022-02-25T15:26:49.156Z"
   },
   {
    "duration": 65,
    "start_time": "2022-02-25T15:29:48.966Z"
   },
   {
    "duration": 3,
    "start_time": "2022-02-25T15:30:26.877Z"
   },
   {
    "duration": 1175,
    "start_time": "2022-02-25T15:30:44.358Z"
   },
   {
    "duration": 4,
    "start_time": "2022-02-25T15:31:06.685Z"
   },
   {
    "duration": 1545,
    "start_time": "2022-02-25T15:31:07.781Z"
   },
   {
    "duration": 3,
    "start_time": "2022-02-25T15:31:21.413Z"
   },
   {
    "duration": 1910,
    "start_time": "2022-02-25T15:31:25.878Z"
   },
   {
    "duration": 4,
    "start_time": "2022-02-25T15:31:42.917Z"
   },
   {
    "duration": 1925,
    "start_time": "2022-02-25T15:31:44.174Z"
   },
   {
    "duration": 16,
    "start_time": "2022-02-25T15:32:19.012Z"
   },
   {
    "duration": 15,
    "start_time": "2022-02-25T15:32:23.300Z"
   },
   {
    "duration": 4,
    "start_time": "2022-02-25T15:32:44.662Z"
   },
   {
    "duration": 2756,
    "start_time": "2022-02-25T15:32:45.284Z"
   },
   {
    "duration": 11,
    "start_time": "2022-02-25T15:32:50.652Z"
   },
   {
    "duration": 17,
    "start_time": "2022-02-25T15:32:53.415Z"
   },
   {
    "duration": 4,
    "start_time": "2022-02-25T15:33:01.692Z"
   },
   {
    "duration": 1709,
    "start_time": "2022-02-25T15:33:05.663Z"
   },
   {
    "duration": 19,
    "start_time": "2022-02-25T15:33:11.852Z"
   },
   {
    "duration": 17,
    "start_time": "2022-02-25T15:33:14.459Z"
   },
   {
    "duration": 4,
    "start_time": "2022-02-25T15:33:21.984Z"
   },
   {
    "duration": 1644,
    "start_time": "2022-02-25T15:33:26.722Z"
   },
   {
    "duration": 23,
    "start_time": "2022-02-25T15:33:34.467Z"
   },
   {
    "duration": 14,
    "start_time": "2022-02-25T15:33:36.892Z"
   },
   {
    "duration": 4,
    "start_time": "2022-02-25T15:33:46.906Z"
   },
   {
    "duration": 1943,
    "start_time": "2022-02-25T15:33:48.474Z"
   },
   {
    "duration": 18,
    "start_time": "2022-02-25T15:33:55.107Z"
   },
   {
    "duration": 16,
    "start_time": "2022-02-25T15:33:58.275Z"
   },
   {
    "duration": 4,
    "start_time": "2022-02-25T15:34:10.060Z"
   },
   {
    "duration": 1868,
    "start_time": "2022-02-25T15:34:13.635Z"
   },
   {
    "duration": 16,
    "start_time": "2022-02-25T15:34:24.331Z"
   },
   {
    "duration": 25,
    "start_time": "2022-02-25T15:34:26.308Z"
   },
   {
    "duration": 3,
    "start_time": "2022-02-25T15:34:37.531Z"
   },
   {
    "duration": 1991,
    "start_time": "2022-02-25T15:34:38.539Z"
   },
   {
    "duration": 14,
    "start_time": "2022-02-25T15:34:44.139Z"
   },
   {
    "duration": 18,
    "start_time": "2022-02-25T15:34:46.357Z"
   },
   {
    "duration": 5,
    "start_time": "2022-02-25T15:34:52.219Z"
   },
   {
    "duration": 2240,
    "start_time": "2022-02-25T15:34:54.515Z"
   },
   {
    "duration": 14,
    "start_time": "2022-02-25T15:34:59.755Z"
   },
   {
    "duration": 15,
    "start_time": "2022-02-25T15:35:02.206Z"
   },
   {
    "duration": 3,
    "start_time": "2022-02-25T15:35:10.828Z"
   },
   {
    "duration": 3048,
    "start_time": "2022-02-25T15:35:12.548Z"
   },
   {
    "duration": 15,
    "start_time": "2022-02-25T15:35:18.403Z"
   },
   {
    "duration": 14,
    "start_time": "2022-02-25T15:35:21.014Z"
   },
   {
    "duration": 4,
    "start_time": "2022-02-25T15:35:29.767Z"
   },
   {
    "duration": 4392,
    "start_time": "2022-02-25T15:35:30.451Z"
   },
   {
    "duration": 25,
    "start_time": "2022-02-25T15:35:40.242Z"
   },
   {
    "duration": 18,
    "start_time": "2022-02-25T15:35:42.451Z"
   },
   {
    "duration": 3,
    "start_time": "2022-02-25T15:35:59.805Z"
   },
   {
    "duration": 3390,
    "start_time": "2022-02-25T15:36:00.627Z"
   },
   {
    "duration": 23,
    "start_time": "2022-02-25T15:36:08.988Z"
   },
   {
    "duration": 22,
    "start_time": "2022-02-25T15:36:11.474Z"
   },
   {
    "duration": 4,
    "start_time": "2022-02-25T15:36:22.667Z"
   },
   {
    "duration": 3161,
    "start_time": "2022-02-25T15:36:23.602Z"
   },
   {
    "duration": 26,
    "start_time": "2022-02-25T15:36:30.122Z"
   },
   {
    "duration": 15,
    "start_time": "2022-02-25T15:36:32.235Z"
   },
   {
    "duration": 4,
    "start_time": "2022-02-25T15:36:40.435Z"
   },
   {
    "duration": 2867,
    "start_time": "2022-02-25T15:36:41.715Z"
   },
   {
    "duration": 17,
    "start_time": "2022-02-25T15:36:47.132Z"
   },
   {
    "duration": 16,
    "start_time": "2022-02-25T15:36:49.611Z"
   },
   {
    "duration": 3,
    "start_time": "2022-02-25T15:37:31.323Z"
   },
   {
    "duration": 1432,
    "start_time": "2022-02-25T15:37:32.249Z"
   },
   {
    "duration": 42,
    "start_time": "2022-02-25T15:37:36.370Z"
   },
   {
    "duration": 39,
    "start_time": "2022-02-25T15:37:37.402Z"
   },
   {
    "duration": 3,
    "start_time": "2022-02-25T15:38:09.674Z"
   },
   {
    "duration": 19560,
    "start_time": "2022-02-25T15:38:10.786Z"
   },
   {
    "duration": 45,
    "start_time": "2022-02-25T15:38:34.856Z"
   },
   {
    "duration": 26,
    "start_time": "2022-02-25T15:38:36.257Z"
   },
   {
    "duration": 4,
    "start_time": "2022-02-25T15:39:07.250Z"
   },
   {
    "duration": 5803,
    "start_time": "2022-02-25T15:39:08.122Z"
   },
   {
    "duration": 20,
    "start_time": "2022-02-25T15:39:16.057Z"
   },
   {
    "duration": 15,
    "start_time": "2022-02-25T15:39:18.381Z"
   },
   {
    "duration": 4,
    "start_time": "2022-02-25T15:39:25.770Z"
   },
   {
    "duration": 14677,
    "start_time": "2022-02-25T15:39:26.800Z"
   },
   {
    "duration": 39,
    "start_time": "2022-02-25T15:39:44.714Z"
   },
   {
    "duration": 26,
    "start_time": "2022-02-25T15:39:47.121Z"
   },
   {
    "duration": 4,
    "start_time": "2022-02-25T15:39:55.410Z"
   },
   {
    "duration": 40165,
    "start_time": "2022-02-25T15:39:57.384Z"
   },
   {
    "duration": 81,
    "start_time": "2022-02-25T15:40:40.537Z"
   },
   {
    "duration": 46,
    "start_time": "2022-02-25T15:40:43.283Z"
   },
   {
    "duration": 4,
    "start_time": "2022-02-25T15:42:05.513Z"
   },
   {
    "duration": 9748,
    "start_time": "2022-02-25T15:42:07.753Z"
   },
   {
    "duration": 18,
    "start_time": "2022-02-25T15:42:20.320Z"
   },
   {
    "duration": 26,
    "start_time": "2022-02-25T15:42:22.718Z"
   },
   {
    "duration": 4,
    "start_time": "2022-02-25T15:42:31.464Z"
   },
   {
    "duration": 16260,
    "start_time": "2022-02-25T15:42:32.569Z"
   },
   {
    "duration": 24,
    "start_time": "2022-02-25T15:42:51.456Z"
   },
   {
    "duration": 16,
    "start_time": "2022-02-25T15:42:54.147Z"
   },
   {
    "duration": 3,
    "start_time": "2022-02-25T15:43:10.097Z"
   },
   {
    "duration": 20552,
    "start_time": "2022-02-25T15:43:11.473Z"
   },
   {
    "duration": 33,
    "start_time": "2022-02-25T15:43:39.703Z"
   },
   {
    "duration": 19,
    "start_time": "2022-02-25T15:43:42.949Z"
   },
   {
    "duration": 4,
    "start_time": "2022-02-25T15:47:42.839Z"
   },
   {
    "duration": 19484,
    "start_time": "2022-02-25T15:47:44.118Z"
   },
   {
    "duration": 45,
    "start_time": "2022-02-25T15:48:06.438Z"
   },
   {
    "duration": 24,
    "start_time": "2022-02-25T15:48:08.693Z"
   },
   {
    "duration": 36,
    "start_time": "2022-02-25T15:52:50.387Z"
   },
   {
    "duration": 36,
    "start_time": "2022-02-25T15:53:54.554Z"
   },
   {
    "duration": 36,
    "start_time": "2022-02-25T15:55:12.658Z"
   },
   {
    "duration": 34,
    "start_time": "2022-02-25T15:55:31.309Z"
   },
   {
    "duration": 41,
    "start_time": "2022-02-25T15:56:08.138Z"
   },
   {
    "duration": 38,
    "start_time": "2022-02-25T15:56:19.001Z"
   },
   {
    "duration": 43,
    "start_time": "2022-02-25T15:56:31.090Z"
   },
   {
    "duration": 3,
    "start_time": "2022-02-25T15:57:13.062Z"
   },
   {
    "duration": 5,
    "start_time": "2022-02-25T15:57:16.513Z"
   },
   {
    "duration": 3,
    "start_time": "2022-02-25T15:57:18.935Z"
   },
   {
    "duration": 16,
    "start_time": "2022-02-25T15:57:21.239Z"
   },
   {
    "duration": 17,
    "start_time": "2022-02-25T15:57:23.808Z"
   },
   {
    "duration": 11,
    "start_time": "2022-02-25T15:57:26.336Z"
   },
   {
    "duration": 3,
    "start_time": "2022-02-25T15:57:29.823Z"
   },
   {
    "duration": 19771,
    "start_time": "2022-02-25T15:57:33.978Z"
   },
   {
    "duration": 42,
    "start_time": "2022-02-25T15:57:56.598Z"
   },
   {
    "duration": 27,
    "start_time": "2022-02-25T15:57:59.392Z"
   },
   {
    "duration": 3,
    "start_time": "2022-02-25T15:58:05.095Z"
   },
   {
    "duration": 3,
    "start_time": "2022-02-25T15:58:07.071Z"
   },
   {
    "duration": 2760,
    "start_time": "2022-02-25T15:58:12.576Z"
   },
   {
    "duration": 8,
    "start_time": "2022-02-25T15:58:23.191Z"
   },
   {
    "duration": 42,
    "start_time": "2022-02-25T15:58:25.577Z"
   },
   {
    "duration": 13336,
    "start_time": "2022-02-25T16:05:57.573Z"
   },
   {
    "duration": 676,
    "start_time": "2022-02-25T16:07:01.682Z"
   },
   {
    "duration": 2,
    "start_time": "2022-02-25T16:07:31.056Z"
   },
   {
    "duration": 292,
    "start_time": "2022-02-25T16:07:34.863Z"
   },
   {
    "duration": 3,
    "start_time": "2022-02-25T16:07:40.536Z"
   },
   {
    "duration": 10,
    "start_time": "2022-02-25T16:07:55.855Z"
   },
   {
    "duration": 261,
    "start_time": "2022-02-25T16:08:13.354Z"
   },
   {
    "duration": 5,
    "start_time": "2022-02-25T16:08:23.529Z"
   },
   {
    "duration": 345,
    "start_time": "2022-02-25T16:08:51.241Z"
   },
   {
    "duration": 308,
    "start_time": "2022-02-25T16:09:11.696Z"
   },
   {
    "duration": 356,
    "start_time": "2022-02-25T16:09:31.631Z"
   },
   {
    "duration": 85,
    "start_time": "2022-02-25T16:09:52.911Z"
   },
   {
    "duration": 45,
    "start_time": "2022-02-25T16:10:10.119Z"
   },
   {
    "duration": 618,
    "start_time": "2022-02-25T16:10:34.874Z"
   },
   {
    "duration": 348,
    "start_time": "2022-02-25T16:10:41.743Z"
   },
   {
    "duration": 317,
    "start_time": "2022-02-25T16:12:03.223Z"
   },
   {
    "duration": 1570,
    "start_time": "2022-02-25T16:12:14.415Z"
   },
   {
    "duration": 345,
    "start_time": "2022-02-25T16:12:22.885Z"
   },
   {
    "duration": 1650,
    "start_time": "2022-02-25T16:12:34.448Z"
   },
   {
    "duration": 113,
    "start_time": "2022-02-25T16:12:38.766Z"
   },
   {
    "duration": 45,
    "start_time": "2022-02-25T16:12:42.079Z"
   },
   {
    "duration": 365,
    "start_time": "2022-02-25T16:14:22.116Z"
   },
   {
    "duration": 1484,
    "start_time": "2022-02-25T16:14:42.894Z"
   },
   {
    "duration": 1641,
    "start_time": "2022-02-25T16:15:20.445Z"
   },
   {
    "duration": 1548,
    "start_time": "2022-02-25T16:15:36.468Z"
   },
   {
    "duration": 84,
    "start_time": "2022-02-25T16:15:40.924Z"
   },
   {
    "duration": 53,
    "start_time": "2022-02-25T16:15:43.886Z"
   },
   {
    "duration": 297,
    "start_time": "2022-02-25T16:16:56.036Z"
   },
   {
    "duration": 94,
    "start_time": "2022-02-25T16:17:23.644Z"
   },
   {
    "duration": 241,
    "start_time": "2022-02-25T16:17:29.123Z"
   },
   {
    "duration": 1616,
    "start_time": "2022-02-25T16:17:38.363Z"
   },
   {
    "duration": 1637,
    "start_time": "2022-02-25T16:18:19.266Z"
   },
   {
    "duration": 91,
    "start_time": "2022-02-25T16:18:24.194Z"
   },
   {
    "duration": 46,
    "start_time": "2022-02-25T16:18:26.986Z"
   },
   {
    "duration": 1596,
    "start_time": "2022-02-25T16:18:37.725Z"
   },
   {
    "duration": 118,
    "start_time": "2022-02-25T16:18:43.866Z"
   },
   {
    "duration": 46,
    "start_time": "2022-02-25T16:18:46.131Z"
   },
   {
    "duration": 1832,
    "start_time": "2022-02-25T16:19:19.241Z"
   },
   {
    "duration": 95,
    "start_time": "2022-02-25T16:19:25.700Z"
   },
   {
    "duration": 46,
    "start_time": "2022-02-25T16:19:29.061Z"
   },
   {
    "duration": 52,
    "start_time": "2022-02-25T16:19:45.362Z"
   },
   {
    "duration": 299,
    "start_time": "2022-02-25T16:20:49.403Z"
   },
   {
    "duration": 5,
    "start_time": "2022-02-25T16:21:18.696Z"
   },
   {
    "duration": 1815,
    "start_time": "2022-02-25T16:21:49.865Z"
   },
   {
    "duration": 4,
    "start_time": "2022-02-25T16:22:27.184Z"
   },
   {
    "duration": 5,
    "start_time": "2022-02-25T16:22:38.609Z"
   },
   {
    "duration": 6,
    "start_time": "2022-02-25T16:22:50.890Z"
   },
   {
    "duration": 831,
    "start_time": "2022-02-26T12:37:23.122Z"
   },
   {
    "duration": 5307,
    "start_time": "2022-02-26T12:37:23.956Z"
   },
   {
    "duration": 13,
    "start_time": "2022-02-26T12:37:29.274Z"
   },
   {
    "duration": 31,
    "start_time": "2022-02-26T12:37:29.290Z"
   },
   {
    "duration": 1222,
    "start_time": "2022-02-26T12:37:29.323Z"
   },
   {
    "duration": 2811,
    "start_time": "2022-02-26T12:37:30.548Z"
   },
   {
    "duration": 226,
    "start_time": "2022-02-26T12:37:33.374Z"
   },
   {
    "duration": 10,
    "start_time": "2022-02-26T12:37:33.604Z"
   },
   {
    "duration": 19,
    "start_time": "2022-02-26T12:37:33.617Z"
   },
   {
    "duration": 39,
    "start_time": "2022-02-26T12:37:33.638Z"
   },
   {
    "duration": 799,
    "start_time": "2022-02-26T12:37:33.679Z"
   },
   {
    "duration": 64,
    "start_time": "2022-02-26T12:37:34.481Z"
   },
   {
    "duration": 630,
    "start_time": "2022-02-26T12:37:34.547Z"
   },
   {
    "duration": 63,
    "start_time": "2022-02-26T12:37:35.180Z"
   },
   {
    "duration": 89,
    "start_time": "2022-02-26T12:37:35.245Z"
   },
   {
    "duration": 789,
    "start_time": "2022-02-26T12:37:35.338Z"
   },
   {
    "duration": 19,
    "start_time": "2022-02-26T12:37:36.129Z"
   },
   {
    "duration": 102,
    "start_time": "2022-02-26T12:37:36.150Z"
   },
   {
    "duration": 55,
    "start_time": "2022-02-26T12:37:36.254Z"
   },
   {
    "duration": 541,
    "start_time": "2022-02-26T12:37:36.311Z"
   },
   {
    "duration": 20,
    "start_time": "2022-02-26T12:37:36.855Z"
   },
   {
    "duration": 22,
    "start_time": "2022-02-26T12:37:36.877Z"
   },
   {
    "duration": 15,
    "start_time": "2022-02-26T12:37:36.906Z"
   },
   {
    "duration": 48,
    "start_time": "2022-02-26T12:37:36.926Z"
   },
   {
    "duration": 12,
    "start_time": "2022-02-26T12:37:36.977Z"
   },
   {
    "duration": 18,
    "start_time": "2022-02-26T12:37:36.992Z"
   },
   {
    "duration": 61,
    "start_time": "2022-02-26T12:37:37.013Z"
   },
   {
    "duration": 9,
    "start_time": "2022-02-26T12:37:37.077Z"
   },
   {
    "duration": 22,
    "start_time": "2022-02-26T12:37:37.089Z"
   },
   {
    "duration": 28,
    "start_time": "2022-02-26T12:37:37.113Z"
   },
   {
    "duration": 53,
    "start_time": "2022-02-26T12:37:37.143Z"
   },
   {
    "duration": 44,
    "start_time": "2022-02-26T12:37:37.199Z"
   },
   {
    "duration": 35,
    "start_time": "2022-02-26T12:37:37.274Z"
   },
   {
    "duration": 6,
    "start_time": "2022-02-26T12:37:37.311Z"
   },
   {
    "duration": 9,
    "start_time": "2022-02-26T12:37:37.320Z"
   },
   {
    "duration": 9,
    "start_time": "2022-02-26T12:37:37.331Z"
   },
   {
    "duration": 35,
    "start_time": "2022-02-26T12:37:37.343Z"
   },
   {
    "duration": 25,
    "start_time": "2022-02-26T12:37:37.380Z"
   },
   {
    "duration": 75,
    "start_time": "2022-02-26T12:37:37.407Z"
   },
   {
    "duration": 68,
    "start_time": "2022-02-26T12:37:37.484Z"
   },
   {
    "duration": 925,
    "start_time": "2022-02-26T12:37:37.555Z"
   },
   {
    "duration": 8,
    "start_time": "2022-02-26T12:37:38.482Z"
   },
   {
    "duration": 23,
    "start_time": "2022-02-26T12:37:38.492Z"
   },
   {
    "duration": 63,
    "start_time": "2022-02-26T12:37:38.518Z"
   },
   {
    "duration": 289,
    "start_time": "2022-02-26T12:37:38.584Z"
   },
   {
    "duration": 10,
    "start_time": "2022-02-26T12:37:38.876Z"
   },
   {
    "duration": 188,
    "start_time": "2022-02-26T12:37:38.889Z"
   },
   {
    "duration": 28230,
    "start_time": "2022-02-26T12:37:39.080Z"
   },
   {
    "duration": 68,
    "start_time": "2022-02-26T12:38:07.312Z"
   },
   {
    "duration": 33,
    "start_time": "2022-02-26T12:38:07.382Z"
   },
   {
    "duration": 909,
    "start_time": "2022-02-26T12:38:07.417Z"
   },
   {
    "duration": 7,
    "start_time": "2022-02-26T12:38:08.329Z"
   },
   {
    "duration": 2975,
    "start_time": "2022-02-26T12:38:08.338Z"
   },
   {
    "duration": 15,
    "start_time": "2022-02-26T12:38:11.316Z"
   },
   {
    "duration": 33,
    "start_time": "2022-02-26T12:38:11.333Z"
   },
   {
    "duration": 15311,
    "start_time": "2022-02-26T12:38:11.369Z"
   },
   {
    "duration": 137,
    "start_time": "2022-02-26T12:38:26.683Z"
   },
   {
    "duration": 100,
    "start_time": "2022-02-26T12:38:26.822Z"
   },
   {
    "duration": 6,
    "start_time": "2022-02-26T12:38:26.924Z"
   },
   {
    "duration": 43,
    "start_time": "2022-02-26T12:38:26.932Z"
   },
   {
    "duration": 28,
    "start_time": "2022-02-26T12:42:19.949Z"
   },
   {
    "duration": 20,
    "start_time": "2022-02-26T12:42:28.162Z"
   },
   {
    "duration": 28,
    "start_time": "2022-02-26T12:45:31.528Z"
   },
   {
    "duration": 44,
    "start_time": "2022-02-26T12:45:49.129Z"
   },
   {
    "duration": 48,
    "start_time": "2022-02-26T12:48:55.383Z"
   },
   {
    "duration": 50,
    "start_time": "2022-02-26T12:49:27.190Z"
   },
   {
    "duration": 58,
    "start_time": "2022-02-26T12:50:26.957Z"
   },
   {
    "duration": 50,
    "start_time": "2022-02-26T12:51:37.774Z"
   },
   {
    "duration": 30,
    "start_time": "2022-02-26T12:57:08.946Z"
   },
   {
    "duration": 814,
    "start_time": "2022-02-26T12:58:42.385Z"
   },
   {
    "duration": 49,
    "start_time": "2022-02-26T12:58:57.194Z"
   },
   {
    "duration": 32,
    "start_time": "2022-02-26T12:59:16.203Z"
   },
   {
    "duration": 20,
    "start_time": "2022-02-26T12:59:46.855Z"
   },
   {
    "duration": 32,
    "start_time": "2022-02-26T13:00:04.433Z"
   },
   {
    "duration": 33,
    "start_time": "2022-02-26T13:01:23.888Z"
   },
   {
    "duration": 19,
    "start_time": "2022-02-26T13:02:50.822Z"
   },
   {
    "duration": 17,
    "start_time": "2022-02-26T13:03:16.526Z"
   },
   {
    "duration": 29,
    "start_time": "2022-02-26T13:03:54.229Z"
   },
   {
    "duration": 28,
    "start_time": "2022-02-26T13:04:47.572Z"
   },
   {
    "duration": 29,
    "start_time": "2022-02-26T13:05:58.596Z"
   },
   {
    "duration": 9,
    "start_time": "2022-02-26T13:06:26.573Z"
   },
   {
    "duration": 223,
    "start_time": "2022-02-26T13:07:43.140Z"
   },
   {
    "duration": 22,
    "start_time": "2022-02-26T13:07:50.458Z"
   },
   {
    "duration": 33,
    "start_time": "2022-02-26T13:09:58.057Z"
   },
   {
    "duration": 20,
    "start_time": "2022-02-26T13:11:02.721Z"
   },
   {
    "duration": 23,
    "start_time": "2022-02-26T13:11:51.002Z"
   },
   {
    "duration": 47,
    "start_time": "2022-02-26T13:12:01.567Z"
   },
   {
    "duration": 32,
    "start_time": "2022-02-26T13:12:04.680Z"
   },
   {
    "duration": 1074,
    "start_time": "2022-02-26T13:12:27.034Z"
   },
   {
    "duration": 865,
    "start_time": "2022-02-26T13:13:08.509Z"
   },
   {
    "duration": 5053,
    "start_time": "2022-02-26T13:13:09.377Z"
   },
   {
    "duration": 15,
    "start_time": "2022-02-26T13:13:14.434Z"
   },
   {
    "duration": 55,
    "start_time": "2022-02-26T13:13:14.452Z"
   },
   {
    "duration": 1200,
    "start_time": "2022-02-26T13:13:14.509Z"
   },
   {
    "duration": 2630,
    "start_time": "2022-02-26T13:13:15.711Z"
   },
   {
    "duration": 248,
    "start_time": "2022-02-26T13:13:18.343Z"
   },
   {
    "duration": 11,
    "start_time": "2022-02-26T13:13:18.594Z"
   },
   {
    "duration": 19,
    "start_time": "2022-02-26T13:13:18.609Z"
   },
   {
    "duration": 7,
    "start_time": "2022-02-26T13:13:18.630Z"
   },
   {
    "duration": 591,
    "start_time": "2022-02-26T13:13:18.673Z"
   },
   {
    "duration": 83,
    "start_time": "2022-02-26T13:13:19.274Z"
   },
   {
    "duration": 680,
    "start_time": "2022-02-26T13:13:19.360Z"
   },
   {
    "duration": 45,
    "start_time": "2022-02-26T13:13:20.042Z"
   },
   {
    "duration": 98,
    "start_time": "2022-02-26T13:13:20.090Z"
   },
   {
    "duration": 785,
    "start_time": "2022-02-26T13:13:20.190Z"
   },
   {
    "duration": 20,
    "start_time": "2022-02-26T13:13:20.978Z"
   },
   {
    "duration": 52,
    "start_time": "2022-02-26T13:13:21.000Z"
   },
   {
    "duration": 54,
    "start_time": "2022-02-26T13:13:21.054Z"
   },
   {
    "duration": 554,
    "start_time": "2022-02-26T13:13:21.110Z"
   },
   {
    "duration": 12,
    "start_time": "2022-02-26T13:13:21.667Z"
   },
   {
    "duration": 1547,
    "start_time": "2022-02-26T13:13:21.681Z"
   },
   {
    "duration": -80137,
    "start_time": "2022-02-26T13:14:43.370Z"
   },
   {
    "duration": -80139,
    "start_time": "2022-02-26T13:14:43.373Z"
   },
   {
    "duration": -80143,
    "start_time": "2022-02-26T13:14:43.378Z"
   },
   {
    "duration": -80144,
    "start_time": "2022-02-26T13:14:43.381Z"
   },
   {
    "duration": -80147,
    "start_time": "2022-02-26T13:14:43.385Z"
   },
   {
    "duration": -80148,
    "start_time": "2022-02-26T13:14:43.388Z"
   },
   {
    "duration": -80150,
    "start_time": "2022-02-26T13:14:43.391Z"
   },
   {
    "duration": -80151,
    "start_time": "2022-02-26T13:14:43.394Z"
   },
   {
    "duration": -80153,
    "start_time": "2022-02-26T13:14:43.397Z"
   },
   {
    "duration": -80191,
    "start_time": "2022-02-26T13:14:43.437Z"
   },
   {
    "duration": -80193,
    "start_time": "2022-02-26T13:14:43.440Z"
   },
   {
    "duration": -80194,
    "start_time": "2022-02-26T13:14:43.442Z"
   },
   {
    "duration": -80194,
    "start_time": "2022-02-26T13:14:43.444Z"
   },
   {
    "duration": -80196,
    "start_time": "2022-02-26T13:14:43.447Z"
   },
   {
    "duration": -80197,
    "start_time": "2022-02-26T13:14:43.449Z"
   },
   {
    "duration": -80197,
    "start_time": "2022-02-26T13:14:43.451Z"
   },
   {
    "duration": -80198,
    "start_time": "2022-02-26T13:14:43.453Z"
   },
   {
    "duration": -80199,
    "start_time": "2022-02-26T13:14:43.456Z"
   },
   {
    "duration": -80200,
    "start_time": "2022-02-26T13:14:43.458Z"
   },
   {
    "duration": -80201,
    "start_time": "2022-02-26T13:14:43.461Z"
   },
   {
    "duration": -80200,
    "start_time": "2022-02-26T13:14:43.463Z"
   },
   {
    "duration": -80200,
    "start_time": "2022-02-26T13:14:43.465Z"
   },
   {
    "duration": -80200,
    "start_time": "2022-02-26T13:14:43.467Z"
   },
   {
    "duration": -80201,
    "start_time": "2022-02-26T13:14:43.470Z"
   },
   {
    "duration": -80200,
    "start_time": "2022-02-26T13:14:43.472Z"
   },
   {
    "duration": -80197,
    "start_time": "2022-02-26T13:14:43.474Z"
   },
   {
    "duration": -80197,
    "start_time": "2022-02-26T13:14:43.476Z"
   },
   {
    "duration": -80196,
    "start_time": "2022-02-26T13:14:43.478Z"
   },
   {
    "duration": -80197,
    "start_time": "2022-02-26T13:14:43.481Z"
   },
   {
    "duration": -80197,
    "start_time": "2022-02-26T13:14:43.483Z"
   },
   {
    "duration": -80196,
    "start_time": "2022-02-26T13:14:43.485Z"
   },
   {
    "duration": -80197,
    "start_time": "2022-02-26T13:14:43.488Z"
   },
   {
    "duration": 17,
    "start_time": "2022-02-26T13:14:53.335Z"
   },
   {
    "duration": 14,
    "start_time": "2022-02-26T13:15:06.861Z"
   },
   {
    "duration": 1428,
    "start_time": "2022-02-26T13:15:22.795Z"
   },
   {
    "duration": 1619,
    "start_time": "2022-02-26T13:15:55.957Z"
   },
   {
    "duration": 16,
    "start_time": "2022-02-26T13:17:02.420Z"
   },
   {
    "duration": 17,
    "start_time": "2022-02-26T13:17:23.315Z"
   },
   {
    "duration": 1541,
    "start_time": "2022-02-26T13:17:37.468Z"
   },
   {
    "duration": 45,
    "start_time": "2022-02-26T13:19:27.170Z"
   },
   {
    "duration": 977,
    "start_time": "2022-02-26T13:20:02.581Z"
   },
   {
    "duration": 4889,
    "start_time": "2022-02-26T13:20:03.560Z"
   },
   {
    "duration": 30,
    "start_time": "2022-02-26T13:20:08.452Z"
   },
   {
    "duration": 31,
    "start_time": "2022-02-26T13:20:08.486Z"
   },
   {
    "duration": 1231,
    "start_time": "2022-02-26T13:20:08.520Z"
   },
   {
    "duration": 2648,
    "start_time": "2022-02-26T13:20:09.753Z"
   },
   {
    "duration": 262,
    "start_time": "2022-02-26T13:20:12.404Z"
   },
   {
    "duration": 14,
    "start_time": "2022-02-26T13:20:12.676Z"
   },
   {
    "duration": 22,
    "start_time": "2022-02-26T13:20:12.694Z"
   },
   {
    "duration": 7,
    "start_time": "2022-02-26T13:20:12.719Z"
   },
   {
    "duration": 779,
    "start_time": "2022-02-26T13:20:12.728Z"
   },
   {
    "duration": 61,
    "start_time": "2022-02-26T13:20:13.509Z"
   },
   {
    "duration": 655,
    "start_time": "2022-02-26T13:20:13.573Z"
   },
   {
    "duration": 44,
    "start_time": "2022-02-26T13:20:14.230Z"
   },
   {
    "duration": 82,
    "start_time": "2022-02-26T13:20:14.276Z"
   },
   {
    "duration": 819,
    "start_time": "2022-02-26T13:20:14.361Z"
   },
   {
    "duration": 21,
    "start_time": "2022-02-26T13:20:15.182Z"
   },
   {
    "duration": 44,
    "start_time": "2022-02-26T13:20:15.206Z"
   },
   {
    "duration": 65,
    "start_time": "2022-02-26T13:20:15.253Z"
   },
   {
    "duration": 570,
    "start_time": "2022-02-26T13:20:15.321Z"
   },
   {
    "duration": 9,
    "start_time": "2022-02-26T13:20:15.894Z"
   },
   {
    "duration": 69,
    "start_time": "2022-02-26T13:20:15.906Z"
   },
   {
    "duration": 32,
    "start_time": "2022-02-26T13:20:15.981Z"
   },
   {
    "duration": 21,
    "start_time": "2022-02-26T13:20:16.016Z"
   },
   {
    "duration": 56,
    "start_time": "2022-02-26T13:20:16.040Z"
   },
   {
    "duration": 20,
    "start_time": "2022-02-26T13:20:16.098Z"
   },
   {
    "duration": 17,
    "start_time": "2022-02-26T13:20:16.121Z"
   },
   {
    "duration": 29,
    "start_time": "2022-02-26T13:20:16.174Z"
   },
   {
    "duration": 7,
    "start_time": "2022-02-26T13:20:16.206Z"
   },
   {
    "duration": 22,
    "start_time": "2022-02-26T13:20:16.216Z"
   },
   {
    "duration": 54,
    "start_time": "2022-02-26T13:20:16.240Z"
   },
   {
    "duration": 26,
    "start_time": "2022-02-26T13:20:16.297Z"
   },
   {
    "duration": 78,
    "start_time": "2022-02-26T13:20:16.325Z"
   },
   {
    "duration": 36,
    "start_time": "2022-02-26T13:20:16.405Z"
   },
   {
    "duration": 35,
    "start_time": "2022-02-26T13:20:16.444Z"
   },
   {
    "duration": 7,
    "start_time": "2022-02-26T13:20:16.482Z"
   },
   {
    "duration": 31,
    "start_time": "2022-02-26T13:20:16.492Z"
   },
   {
    "duration": 79,
    "start_time": "2022-02-26T13:20:16.525Z"
   },
   {
    "duration": 72,
    "start_time": "2022-02-26T13:20:16.606Z"
   },
   {
    "duration": 668,
    "start_time": "2022-02-26T13:20:16.681Z"
   },
   {
    "duration": 13,
    "start_time": "2022-02-26T13:20:17.351Z"
   },
   {
    "duration": 23,
    "start_time": "2022-02-26T13:20:17.367Z"
   },
   {
    "duration": 19,
    "start_time": "2022-02-26T13:20:17.392Z"
   },
   {
    "duration": 102,
    "start_time": "2022-02-26T13:20:17.476Z"
   },
   {
    "duration": 200,
    "start_time": "2022-02-26T13:20:17.580Z"
   },
   {
    "duration": 99,
    "start_time": "2022-02-26T13:20:17.786Z"
   },
   {
    "duration": 27619,
    "start_time": "2022-02-26T13:20:17.974Z"
   },
   {
    "duration": 51,
    "start_time": "2022-02-26T13:20:45.596Z"
   },
   {
    "duration": 50,
    "start_time": "2022-02-26T13:20:45.650Z"
   },
   {
    "duration": 77,
    "start_time": "2022-02-26T13:20:45.703Z"
   },
   {
    "duration": 5,
    "start_time": "2022-02-26T13:20:45.782Z"
   },
   {
    "duration": 2509,
    "start_time": "2022-02-26T13:20:45.790Z"
   },
   {
    "duration": 8,
    "start_time": "2022-02-26T13:20:48.302Z"
   },
   {
    "duration": 14,
    "start_time": "2022-02-26T13:20:48.312Z"
   },
   {
    "duration": 438,
    "start_time": "2022-02-26T13:22:55.867Z"
   },
   {
    "duration": 56,
    "start_time": "2022-02-26T13:23:26.040Z"
   },
   {
    "duration": 1495,
    "start_time": "2022-02-26T13:24:00.242Z"
   },
   {
    "duration": 873,
    "start_time": "2022-02-26T13:24:08.782Z"
   },
   {
    "duration": 5029,
    "start_time": "2022-02-26T13:24:09.658Z"
   },
   {
    "duration": 15,
    "start_time": "2022-02-26T13:24:14.690Z"
   },
   {
    "duration": 33,
    "start_time": "2022-02-26T13:24:14.707Z"
   },
   {
    "duration": 1262,
    "start_time": "2022-02-26T13:24:14.742Z"
   },
   {
    "duration": 2687,
    "start_time": "2022-02-26T13:24:16.007Z"
   },
   {
    "duration": 240,
    "start_time": "2022-02-26T13:24:18.697Z"
   },
   {
    "duration": 12,
    "start_time": "2022-02-26T13:24:18.943Z"
   },
   {
    "duration": 36,
    "start_time": "2022-02-26T13:24:18.957Z"
   },
   {
    "duration": 10,
    "start_time": "2022-02-26T13:24:18.995Z"
   },
   {
    "duration": 638,
    "start_time": "2022-02-26T13:24:19.008Z"
   },
   {
    "duration": 71,
    "start_time": "2022-02-26T13:24:19.649Z"
   },
   {
    "duration": 634,
    "start_time": "2022-02-26T13:24:19.723Z"
   },
   {
    "duration": 42,
    "start_time": "2022-02-26T13:24:20.359Z"
   },
   {
    "duration": 90,
    "start_time": "2022-02-26T13:24:20.404Z"
   },
   {
    "duration": 797,
    "start_time": "2022-02-26T13:24:20.497Z"
   },
   {
    "duration": 20,
    "start_time": "2022-02-26T13:24:21.296Z"
   },
   {
    "duration": 1550,
    "start_time": "2022-02-26T13:24:21.319Z"
   },
   {
    "duration": 60,
    "start_time": "2022-02-26T13:24:22.872Z"
   },
   {
    "duration": 593,
    "start_time": "2022-02-26T13:24:22.935Z"
   },
   {
    "duration": 7,
    "start_time": "2022-02-26T13:24:23.531Z"
   },
   {
    "duration": 65,
    "start_time": "2022-02-26T13:24:23.541Z"
   },
   {
    "duration": 29,
    "start_time": "2022-02-26T13:24:23.612Z"
   },
   {
    "duration": 45,
    "start_time": "2022-02-26T13:24:23.645Z"
   },
   {
    "duration": 25,
    "start_time": "2022-02-26T13:24:23.693Z"
   },
   {
    "duration": 19,
    "start_time": "2022-02-26T13:24:23.721Z"
   },
   {
    "duration": 47,
    "start_time": "2022-02-26T13:24:23.742Z"
   },
   {
    "duration": 28,
    "start_time": "2022-02-26T13:24:23.791Z"
   },
   {
    "duration": 7,
    "start_time": "2022-02-26T13:24:23.821Z"
   },
   {
    "duration": 53,
    "start_time": "2022-02-26T13:24:23.831Z"
   },
   {
    "duration": 30,
    "start_time": "2022-02-26T13:24:23.887Z"
   },
   {
    "duration": 26,
    "start_time": "2022-02-26T13:24:23.920Z"
   },
   {
    "duration": 45,
    "start_time": "2022-02-26T13:24:23.975Z"
   },
   {
    "duration": 65,
    "start_time": "2022-02-26T13:24:24.023Z"
   },
   {
    "duration": 8,
    "start_time": "2022-02-26T13:24:24.090Z"
   },
   {
    "duration": 8,
    "start_time": "2022-02-26T13:24:24.101Z"
   },
   {
    "duration": 25,
    "start_time": "2022-02-26T13:24:24.112Z"
   },
   {
    "duration": 51,
    "start_time": "2022-02-26T13:24:24.173Z"
   },
   {
    "duration": 81,
    "start_time": "2022-02-26T13:24:24.227Z"
   },
   {
    "duration": 653,
    "start_time": "2022-02-26T13:24:24.311Z"
   },
   {
    "duration": 11,
    "start_time": "2022-02-26T13:24:24.966Z"
   },
   {
    "duration": 6,
    "start_time": "2022-02-26T13:24:24.979Z"
   },
   {
    "duration": 86,
    "start_time": "2022-02-26T13:24:24.988Z"
   },
   {
    "duration": 103,
    "start_time": "2022-02-26T13:24:25.077Z"
   },
   {
    "duration": 196,
    "start_time": "2022-02-26T13:24:25.182Z"
   },
   {
    "duration": 194,
    "start_time": "2022-02-26T13:24:25.382Z"
   },
   {
    "duration": 28306,
    "start_time": "2022-02-26T13:24:25.579Z"
   },
   {
    "duration": 54,
    "start_time": "2022-02-26T13:24:53.887Z"
   },
   {
    "duration": 55,
    "start_time": "2022-02-26T13:24:53.943Z"
   },
   {
    "duration": 80,
    "start_time": "2022-02-26T13:24:54.000Z"
   },
   {
    "duration": 4,
    "start_time": "2022-02-26T13:24:54.082Z"
   },
   {
    "duration": 2643,
    "start_time": "2022-02-26T13:24:54.088Z"
   },
   {
    "duration": 15,
    "start_time": "2022-02-26T13:24:56.734Z"
   },
   {
    "duration": 12,
    "start_time": "2022-02-26T13:24:56.751Z"
   },
   {
    "duration": 420,
    "start_time": "2022-02-26T13:25:49.524Z"
   },
   {
    "duration": 48,
    "start_time": "2022-02-26T13:26:19.916Z"
   },
   {
    "duration": 863,
    "start_time": "2022-02-26T13:26:59.894Z"
   },
   {
    "duration": 5081,
    "start_time": "2022-02-26T13:27:00.760Z"
   },
   {
    "duration": 35,
    "start_time": "2022-02-26T13:27:05.844Z"
   },
   {
    "duration": 35,
    "start_time": "2022-02-26T13:27:05.882Z"
   },
   {
    "duration": 1309,
    "start_time": "2022-02-26T13:27:05.919Z"
   },
   {
    "duration": 2802,
    "start_time": "2022-02-26T13:27:07.231Z"
   },
   {
    "duration": 248,
    "start_time": "2022-02-26T13:27:10.035Z"
   },
   {
    "duration": 11,
    "start_time": "2022-02-26T13:27:10.287Z"
   },
   {
    "duration": 22,
    "start_time": "2022-02-26T13:27:10.302Z"
   },
   {
    "duration": 7,
    "start_time": "2022-02-26T13:27:10.326Z"
   },
   {
    "duration": 641,
    "start_time": "2022-02-26T13:27:10.336Z"
   },
   {
    "duration": 77,
    "start_time": "2022-02-26T13:27:10.979Z"
   },
   {
    "duration": 651,
    "start_time": "2022-02-26T13:27:11.058Z"
   },
   {
    "duration": 43,
    "start_time": "2022-02-26T13:27:11.711Z"
   },
   {
    "duration": 83,
    "start_time": "2022-02-26T13:27:11.757Z"
   },
   {
    "duration": 807,
    "start_time": "2022-02-26T13:27:11.842Z"
   },
   {
    "duration": 33,
    "start_time": "2022-02-26T13:27:12.652Z"
   },
   {
    "duration": 38,
    "start_time": "2022-02-26T13:27:12.687Z"
   },
   {
    "duration": 63,
    "start_time": "2022-02-26T13:27:12.728Z"
   },
   {
    "duration": 613,
    "start_time": "2022-02-26T13:27:12.793Z"
   },
   {
    "duration": 8,
    "start_time": "2022-02-26T13:27:13.408Z"
   },
   {
    "duration": 65,
    "start_time": "2022-02-26T13:27:13.418Z"
   },
   {
    "duration": 29,
    "start_time": "2022-02-26T13:27:13.490Z"
   },
   {
    "duration": 50,
    "start_time": "2022-02-26T13:27:13.523Z"
   },
   {
    "duration": 28,
    "start_time": "2022-02-26T13:27:13.576Z"
   },
   {
    "duration": 19,
    "start_time": "2022-02-26T13:27:13.606Z"
   },
   {
    "duration": 47,
    "start_time": "2022-02-26T13:27:13.628Z"
   },
   {
    "duration": 18,
    "start_time": "2022-02-26T13:27:13.677Z"
   },
   {
    "duration": 27,
    "start_time": "2022-02-26T13:27:13.698Z"
   },
   {
    "duration": 7,
    "start_time": "2022-02-26T13:27:13.727Z"
   },
   {
    "duration": 53,
    "start_time": "2022-02-26T13:27:13.736Z"
   },
   {
    "duration": 25,
    "start_time": "2022-02-26T13:27:13.791Z"
   },
   {
    "duration": 30,
    "start_time": "2022-02-26T13:27:13.818Z"
   },
   {
    "duration": 46,
    "start_time": "2022-02-26T13:27:13.873Z"
   },
   {
    "duration": 61,
    "start_time": "2022-02-26T13:27:13.922Z"
   },
   {
    "duration": 8,
    "start_time": "2022-02-26T13:27:13.986Z"
   },
   {
    "duration": 11,
    "start_time": "2022-02-26T13:27:13.996Z"
   },
   {
    "duration": 36,
    "start_time": "2022-02-26T13:27:14.010Z"
   },
   {
    "duration": 69,
    "start_time": "2022-02-26T13:27:14.048Z"
   },
   {
    "duration": 75,
    "start_time": "2022-02-26T13:27:14.119Z"
   },
   {
    "duration": 665,
    "start_time": "2022-02-26T13:27:14.196Z"
   },
   {
    "duration": 13,
    "start_time": "2022-02-26T13:27:14.863Z"
   },
   {
    "duration": 16,
    "start_time": "2022-02-26T13:27:14.879Z"
   },
   {
    "duration": 17,
    "start_time": "2022-02-26T13:27:14.898Z"
   },
   {
    "duration": 104,
    "start_time": "2022-02-26T13:27:14.976Z"
   },
   {
    "duration": 101,
    "start_time": "2022-02-26T13:27:15.084Z"
   },
   {
    "duration": 6,
    "start_time": "2022-02-26T13:27:15.275Z"
   },
   {
    "duration": 28266,
    "start_time": "2022-02-26T13:27:15.373Z"
   },
   {
    "duration": 68,
    "start_time": "2022-02-26T13:27:43.641Z"
   },
   {
    "duration": 34,
    "start_time": "2022-02-26T13:27:43.711Z"
   },
   {
    "duration": 85,
    "start_time": "2022-02-26T13:27:43.748Z"
   },
   {
    "duration": 4,
    "start_time": "2022-02-26T13:27:43.836Z"
   },
   {
    "duration": 2573,
    "start_time": "2022-02-26T13:27:43.842Z"
   },
   {
    "duration": 10,
    "start_time": "2022-02-26T13:27:46.417Z"
   },
   {
    "duration": 11,
    "start_time": "2022-02-26T13:27:46.429Z"
   },
   {
    "duration": 51,
    "start_time": "2022-02-26T13:28:12.366Z"
   },
   {
    "duration": 860,
    "start_time": "2022-02-26T13:29:56.098Z"
   },
   {
    "duration": 4868,
    "start_time": "2022-02-26T13:29:56.960Z"
   },
   {
    "duration": 15,
    "start_time": "2022-02-26T13:30:01.831Z"
   },
   {
    "duration": 51,
    "start_time": "2022-02-26T13:30:01.849Z"
   },
   {
    "duration": 1247,
    "start_time": "2022-02-26T13:30:01.902Z"
   },
   {
    "duration": 2788,
    "start_time": "2022-02-26T13:30:03.151Z"
   },
   {
    "duration": 252,
    "start_time": "2022-02-26T13:30:05.941Z"
   },
   {
    "duration": 11,
    "start_time": "2022-02-26T13:30:06.198Z"
   },
   {
    "duration": 23,
    "start_time": "2022-02-26T13:30:06.212Z"
   },
   {
    "duration": 35,
    "start_time": "2022-02-26T13:30:06.237Z"
   },
   {
    "duration": 608,
    "start_time": "2022-02-26T13:30:06.275Z"
   },
   {
    "duration": 65,
    "start_time": "2022-02-26T13:30:06.886Z"
   },
   {
    "duration": 619,
    "start_time": "2022-02-26T13:30:06.954Z"
   },
   {
    "duration": 43,
    "start_time": "2022-02-26T13:30:07.575Z"
   },
   {
    "duration": 93,
    "start_time": "2022-02-26T13:30:07.620Z"
   },
   {
    "duration": 795,
    "start_time": "2022-02-26T13:30:07.715Z"
   },
   {
    "duration": 22,
    "start_time": "2022-02-26T13:30:08.513Z"
   },
   {
    "duration": 63,
    "start_time": "2022-02-26T13:30:08.538Z"
   },
   {
    "duration": 60,
    "start_time": "2022-02-26T13:30:08.604Z"
   },
   {
    "duration": 612,
    "start_time": "2022-02-26T13:30:08.673Z"
   },
   {
    "duration": 9,
    "start_time": "2022-02-26T13:30:09.288Z"
   },
   {
    "duration": 59,
    "start_time": "2022-02-26T13:30:09.300Z"
   },
   {
    "duration": 29,
    "start_time": "2022-02-26T13:30:09.377Z"
   },
   {
    "duration": 21,
    "start_time": "2022-02-26T13:30:09.410Z"
   },
   {
    "duration": 58,
    "start_time": "2022-02-26T13:30:09.434Z"
   },
   {
    "duration": 17,
    "start_time": "2022-02-26T13:30:09.495Z"
   },
   {
    "duration": 8,
    "start_time": "2022-02-26T13:30:09.515Z"
   },
   {
    "duration": 301,
    "start_time": "2022-02-26T13:30:09.526Z"
   },
   {
    "duration": -80034,
    "start_time": "2022-02-26T13:31:29.863Z"
   },
   {
    "duration": -80036,
    "start_time": "2022-02-26T13:31:29.866Z"
   },
   {
    "duration": -80038,
    "start_time": "2022-02-26T13:31:29.869Z"
   },
   {
    "duration": -80045,
    "start_time": "2022-02-26T13:31:29.878Z"
   },
   {
    "duration": -80047,
    "start_time": "2022-02-26T13:31:29.881Z"
   },
   {
    "duration": -80048,
    "start_time": "2022-02-26T13:31:29.883Z"
   },
   {
    "duration": -80049,
    "start_time": "2022-02-26T13:31:29.886Z"
   },
   {
    "duration": -80050,
    "start_time": "2022-02-26T13:31:29.888Z"
   },
   {
    "duration": -80052,
    "start_time": "2022-02-26T13:31:29.891Z"
   },
   {
    "duration": -80053,
    "start_time": "2022-02-26T13:31:29.893Z"
   },
   {
    "duration": -80056,
    "start_time": "2022-02-26T13:31:29.897Z"
   },
   {
    "duration": -80057,
    "start_time": "2022-02-26T13:31:29.900Z"
   },
   {
    "duration": -80066,
    "start_time": "2022-02-26T13:31:29.910Z"
   },
   {
    "duration": -80067,
    "start_time": "2022-02-26T13:31:29.912Z"
   },
   {
    "duration": -80069,
    "start_time": "2022-02-26T13:31:29.915Z"
   },
   {
    "duration": -80069,
    "start_time": "2022-02-26T13:31:29.917Z"
   },
   {
    "duration": -80071,
    "start_time": "2022-02-26T13:31:29.920Z"
   },
   {
    "duration": -80071,
    "start_time": "2022-02-26T13:31:29.922Z"
   },
   {
    "duration": -80072,
    "start_time": "2022-02-26T13:31:29.924Z"
   },
   {
    "duration": 209,
    "start_time": "2022-02-26T13:31:22.339Z"
   },
   {
    "duration": 904,
    "start_time": "2022-02-26T13:31:28.595Z"
   },
   {
    "duration": 5555,
    "start_time": "2022-02-26T13:31:29.504Z"
   },
   {
    "duration": 17,
    "start_time": "2022-02-26T13:31:35.075Z"
   },
   {
    "duration": 35,
    "start_time": "2022-02-26T13:31:35.095Z"
   },
   {
    "duration": 1251,
    "start_time": "2022-02-26T13:31:35.133Z"
   },
   {
    "duration": 2763,
    "start_time": "2022-02-26T13:31:36.386Z"
   },
   {
    "duration": 253,
    "start_time": "2022-02-26T13:31:39.152Z"
   },
   {
    "duration": 12,
    "start_time": "2022-02-26T13:31:39.409Z"
   },
   {
    "duration": 20,
    "start_time": "2022-02-26T13:31:39.425Z"
   },
   {
    "duration": 9,
    "start_time": "2022-02-26T13:31:39.473Z"
   },
   {
    "duration": 609,
    "start_time": "2022-02-26T13:31:39.485Z"
   },
   {
    "duration": 66,
    "start_time": "2022-02-26T13:31:40.098Z"
   },
   {
    "duration": 742,
    "start_time": "2022-02-26T13:31:40.166Z"
   },
   {
    "duration": 47,
    "start_time": "2022-02-26T13:31:40.911Z"
   },
   {
    "duration": 90,
    "start_time": "2022-02-26T13:31:40.960Z"
   },
   {
    "duration": 852,
    "start_time": "2022-02-26T13:31:41.053Z"
   },
   {
    "duration": 19,
    "start_time": "2022-02-26T13:31:41.908Z"
   },
   {
    "duration": 37,
    "start_time": "2022-02-26T13:31:41.929Z"
   },
   {
    "duration": 57,
    "start_time": "2022-02-26T13:31:41.969Z"
   },
   {
    "duration": 578,
    "start_time": "2022-02-26T13:31:42.029Z"
   },
   {
    "duration": 8,
    "start_time": "2022-02-26T13:31:42.609Z"
   },
   {
    "duration": 71,
    "start_time": "2022-02-26T13:31:42.620Z"
   },
   {
    "duration": 29,
    "start_time": "2022-02-26T13:31:42.696Z"
   },
   {
    "duration": 22,
    "start_time": "2022-02-26T13:31:42.727Z"
   },
   {
    "duration": 26,
    "start_time": "2022-02-26T13:31:42.774Z"
   },
   {
    "duration": 23,
    "start_time": "2022-02-26T13:31:42.802Z"
   },
   {
    "duration": 317,
    "start_time": "2022-02-26T13:31:42.827Z"
   },
   {
    "duration": -80026,
    "start_time": "2022-02-26T13:33:03.173Z"
   },
   {
    "duration": -80026,
    "start_time": "2022-02-26T13:33:03.175Z"
   },
   {
    "duration": -80032,
    "start_time": "2022-02-26T13:33:03.182Z"
   },
   {
    "duration": -80034,
    "start_time": "2022-02-26T13:33:03.186Z"
   },
   {
    "duration": -80098,
    "start_time": "2022-02-26T13:33:03.252Z"
   },
   {
    "duration": -80099,
    "start_time": "2022-02-26T13:33:03.255Z"
   },
   {
    "duration": -80099,
    "start_time": "2022-02-26T13:33:03.257Z"
   },
   {
    "duration": -80100,
    "start_time": "2022-02-26T13:33:03.260Z"
   },
   {
    "duration": -80105,
    "start_time": "2022-02-26T13:33:03.267Z"
   },
   {
    "duration": -80104,
    "start_time": "2022-02-26T13:33:03.269Z"
   },
   {
    "duration": -80104,
    "start_time": "2022-02-26T13:33:03.271Z"
   },
   {
    "duration": -80105,
    "start_time": "2022-02-26T13:33:03.274Z"
   },
   {
    "duration": -80105,
    "start_time": "2022-02-26T13:33:03.276Z"
   },
   {
    "duration": -80104,
    "start_time": "2022-02-26T13:33:03.278Z"
   },
   {
    "duration": -80105,
    "start_time": "2022-02-26T13:33:03.281Z"
   },
   {
    "duration": -80108,
    "start_time": "2022-02-26T13:33:03.286Z"
   },
   {
    "duration": -80108,
    "start_time": "2022-02-26T13:33:03.288Z"
   },
   {
    "duration": -80165,
    "start_time": "2022-02-26T13:33:03.347Z"
   },
   {
    "duration": -80166,
    "start_time": "2022-02-26T13:33:03.350Z"
   },
   {
    "duration": 830,
    "start_time": "2022-02-26T13:32:47.127Z"
   },
   {
    "duration": 5244,
    "start_time": "2022-02-26T13:32:47.959Z"
   },
   {
    "duration": 14,
    "start_time": "2022-02-26T13:32:53.205Z"
   },
   {
    "duration": 31,
    "start_time": "2022-02-26T13:32:53.221Z"
   },
   {
    "duration": 1242,
    "start_time": "2022-02-26T13:32:53.255Z"
   },
   {
    "duration": 2731,
    "start_time": "2022-02-26T13:32:54.499Z"
   },
   {
    "duration": 225,
    "start_time": "2022-02-26T13:32:57.233Z"
   },
   {
    "duration": 21,
    "start_time": "2022-02-26T13:32:57.461Z"
   },
   {
    "duration": 21,
    "start_time": "2022-02-26T13:32:57.486Z"
   },
   {
    "duration": 9,
    "start_time": "2022-02-26T13:32:57.510Z"
   },
   {
    "duration": 655,
    "start_time": "2022-02-26T13:32:57.522Z"
   },
   {
    "duration": 58,
    "start_time": "2022-02-26T13:32:58.180Z"
   },
   {
    "duration": 635,
    "start_time": "2022-02-26T13:32:58.240Z"
   },
   {
    "duration": 42,
    "start_time": "2022-02-26T13:32:58.877Z"
   },
   {
    "duration": 90,
    "start_time": "2022-02-26T13:32:58.921Z"
   },
   {
    "duration": 787,
    "start_time": "2022-02-26T13:32:59.013Z"
   },
   {
    "duration": 20,
    "start_time": "2022-02-26T13:32:59.802Z"
   },
   {
    "duration": 40,
    "start_time": "2022-02-26T13:32:59.825Z"
   },
   {
    "duration": 58,
    "start_time": "2022-02-26T13:32:59.868Z"
   },
   {
    "duration": 571,
    "start_time": "2022-02-26T13:32:59.929Z"
   },
   {
    "duration": 8,
    "start_time": "2022-02-26T13:33:00.503Z"
   },
   {
    "duration": 68,
    "start_time": "2022-02-26T13:33:00.514Z"
   },
   {
    "duration": 28,
    "start_time": "2022-02-26T13:33:00.587Z"
   },
   {
    "duration": 23,
    "start_time": "2022-02-26T13:33:00.618Z"
   },
   {
    "duration": 55,
    "start_time": "2022-02-26T13:33:00.643Z"
   },
   {
    "duration": 21,
    "start_time": "2022-02-26T13:33:00.700Z"
   },
   {
    "duration": 302,
    "start_time": "2022-02-26T13:33:00.724Z"
   },
   {
    "duration": -80034,
    "start_time": "2022-02-26T13:34:21.063Z"
   },
   {
    "duration": -80036,
    "start_time": "2022-02-26T13:34:21.066Z"
   },
   {
    "duration": -80044,
    "start_time": "2022-02-26T13:34:21.075Z"
   },
   {
    "duration": -80045,
    "start_time": "2022-02-26T13:34:21.078Z"
   },
   {
    "duration": -80047,
    "start_time": "2022-02-26T13:34:21.081Z"
   },
   {
    "duration": -80048,
    "start_time": "2022-02-26T13:34:21.083Z"
   },
   {
    "duration": -80048,
    "start_time": "2022-02-26T13:34:21.085Z"
   },
   {
    "duration": -80050,
    "start_time": "2022-02-26T13:34:21.088Z"
   },
   {
    "duration": -80051,
    "start_time": "2022-02-26T13:34:21.091Z"
   },
   {
    "duration": -80052,
    "start_time": "2022-02-26T13:34:21.094Z"
   },
   {
    "duration": -80059,
    "start_time": "2022-02-26T13:34:21.102Z"
   },
   {
    "duration": -80060,
    "start_time": "2022-02-26T13:34:21.104Z"
   },
   {
    "duration": -80062,
    "start_time": "2022-02-26T13:34:21.108Z"
   },
   {
    "duration": -80064,
    "start_time": "2022-02-26T13:34:21.111Z"
   },
   {
    "duration": -80065,
    "start_time": "2022-02-26T13:34:21.114Z"
   },
   {
    "duration": -80066,
    "start_time": "2022-02-26T13:34:21.116Z"
   },
   {
    "duration": -80073,
    "start_time": "2022-02-26T13:34:21.124Z"
   },
   {
    "duration": -80074,
    "start_time": "2022-02-26T13:34:21.127Z"
   },
   {
    "duration": -80075,
    "start_time": "2022-02-26T13:34:21.129Z"
   },
   {
    "duration": -80140,
    "start_time": "2022-02-26T13:36:26.118Z"
   },
   {
    "duration": -80142,
    "start_time": "2022-02-26T13:36:26.121Z"
   },
   {
    "duration": -80143,
    "start_time": "2022-02-26T13:36:26.123Z"
   },
   {
    "duration": -80143,
    "start_time": "2022-02-26T13:36:26.125Z"
   },
   {
    "duration": -80144,
    "start_time": "2022-02-26T13:36:26.127Z"
   },
   {
    "duration": -80145,
    "start_time": "2022-02-26T13:36:26.130Z"
   },
   {
    "duration": -80151,
    "start_time": "2022-02-26T13:36:26.137Z"
   },
   {
    "duration": -80152,
    "start_time": "2022-02-26T13:36:26.140Z"
   },
   {
    "duration": -80153,
    "start_time": "2022-02-26T13:36:26.142Z"
   },
   {
    "duration": -80155,
    "start_time": "2022-02-26T13:36:26.145Z"
   },
   {
    "duration": -80202,
    "start_time": "2022-02-26T13:36:26.194Z"
   },
   {
    "duration": -80204,
    "start_time": "2022-02-26T13:36:26.197Z"
   },
   {
    "duration": -80205,
    "start_time": "2022-02-26T13:36:26.199Z"
   },
   {
    "duration": -80207,
    "start_time": "2022-02-26T13:36:26.202Z"
   },
   {
    "duration": -80207,
    "start_time": "2022-02-26T13:36:26.204Z"
   },
   {
    "duration": -80209,
    "start_time": "2022-02-26T13:36:26.207Z"
   },
   {
    "duration": -80210,
    "start_time": "2022-02-26T13:36:26.209Z"
   },
   {
    "duration": -80216,
    "start_time": "2022-02-26T13:36:26.217Z"
   },
   {
    "duration": -80217,
    "start_time": "2022-02-26T13:36:26.219Z"
   },
   {
    "duration": -80219,
    "start_time": "2022-02-26T13:36:26.222Z"
   },
   {
    "duration": -80219,
    "start_time": "2022-02-26T13:36:26.224Z"
   },
   {
    "duration": -80226,
    "start_time": "2022-02-26T13:36:26.232Z"
   },
   {
    "duration": -80234,
    "start_time": "2022-02-26T13:36:26.241Z"
   },
   {
    "duration": -80240,
    "start_time": "2022-02-26T13:36:26.249Z"
   },
   {
    "duration": -80248,
    "start_time": "2022-02-26T13:36:26.258Z"
   },
   {
    "duration": -80261,
    "start_time": "2022-02-26T13:36:26.272Z"
   },
   {
    "duration": -80221,
    "start_time": "2022-02-26T13:36:26.293Z"
   },
   {
    "duration": -80222,
    "start_time": "2022-02-26T13:36:26.296Z"
   },
   {
    "duration": -80222,
    "start_time": "2022-02-26T13:36:26.298Z"
   },
   {
    "duration": -80234,
    "start_time": "2022-02-26T13:36:26.311Z"
   },
   {
    "duration": -80235,
    "start_time": "2022-02-26T13:36:26.313Z"
   },
   {
    "duration": -80235,
    "start_time": "2022-02-26T13:36:26.315Z"
   },
   {
    "duration": -80236,
    "start_time": "2022-02-26T13:36:26.317Z"
   },
   {
    "duration": -80236,
    "start_time": "2022-02-26T13:36:26.319Z"
   },
   {
    "duration": -80241,
    "start_time": "2022-02-26T13:36:26.325Z"
   },
   {
    "duration": -80245,
    "start_time": "2022-02-26T13:36:26.331Z"
   },
   {
    "duration": -80245,
    "start_time": "2022-02-26T13:36:26.333Z"
   },
   {
    "duration": -80245,
    "start_time": "2022-02-26T13:36:26.335Z"
   },
   {
    "duration": -80246,
    "start_time": "2022-02-26T13:36:26.338Z"
   },
   {
    "duration": -80247,
    "start_time": "2022-02-26T13:36:26.340Z"
   },
   {
    "duration": -80247,
    "start_time": "2022-02-26T13:36:26.342Z"
   },
   {
    "duration": -80248,
    "start_time": "2022-02-26T13:36:26.344Z"
   },
   {
    "duration": -80249,
    "start_time": "2022-02-26T13:36:26.346Z"
   },
   {
    "duration": -80249,
    "start_time": "2022-02-26T13:36:26.348Z"
   },
   {
    "duration": -80251,
    "start_time": "2022-02-26T13:36:26.351Z"
   },
   {
    "duration": -80251,
    "start_time": "2022-02-26T13:36:26.353Z"
   },
   {
    "duration": 16,
    "start_time": "2022-02-26T13:35:32.719Z"
   },
   {
    "duration": 11,
    "start_time": "2022-02-26T13:35:42.369Z"
   },
   {
    "duration": 14,
    "start_time": "2022-02-26T13:35:49.110Z"
   },
   {
    "duration": 222,
    "start_time": "2022-02-26T13:35:54.279Z"
   },
   {
    "duration": 928,
    "start_time": "2022-02-26T13:36:15.967Z"
   },
   {
    "duration": 4993,
    "start_time": "2022-02-26T13:36:16.897Z"
   },
   {
    "duration": 13,
    "start_time": "2022-02-26T13:36:21.894Z"
   },
   {
    "duration": 48,
    "start_time": "2022-02-26T13:36:21.910Z"
   },
   {
    "duration": 1243,
    "start_time": "2022-02-26T13:36:21.961Z"
   },
   {
    "duration": 2703,
    "start_time": "2022-02-26T13:36:23.207Z"
   },
   {
    "duration": 244,
    "start_time": "2022-02-26T13:36:25.913Z"
   },
   {
    "duration": 20,
    "start_time": "2022-02-26T13:36:26.162Z"
   },
   {
    "duration": 18,
    "start_time": "2022-02-26T13:36:26.186Z"
   },
   {
    "duration": 18,
    "start_time": "2022-02-26T13:36:26.207Z"
   },
   {
    "duration": 608,
    "start_time": "2022-02-26T13:36:26.227Z"
   },
   {
    "duration": 60,
    "start_time": "2022-02-26T13:36:26.838Z"
   },
   {
    "duration": 645,
    "start_time": "2022-02-26T13:36:26.901Z"
   },
   {
    "duration": 57,
    "start_time": "2022-02-26T13:36:27.548Z"
   },
   {
    "duration": 85,
    "start_time": "2022-02-26T13:36:27.608Z"
   },
   {
    "duration": 841,
    "start_time": "2022-02-26T13:36:27.695Z"
   },
   {
    "duration": 20,
    "start_time": "2022-02-26T13:36:28.538Z"
   },
   {
    "duration": 45,
    "start_time": "2022-02-26T13:36:28.572Z"
   },
   {
    "duration": 59,
    "start_time": "2022-02-26T13:36:28.619Z"
   },
   {
    "duration": 577,
    "start_time": "2022-02-26T13:36:28.680Z"
   },
   {
    "duration": 17,
    "start_time": "2022-02-26T13:36:29.259Z"
   },
   {
    "duration": 75,
    "start_time": "2022-02-26T13:36:29.278Z"
   },
   {
    "duration": 30,
    "start_time": "2022-02-26T13:36:29.358Z"
   },
   {
    "duration": 36,
    "start_time": "2022-02-26T13:36:29.391Z"
   },
   {
    "duration": 30,
    "start_time": "2022-02-26T13:36:29.430Z"
   },
   {
    "duration": 350,
    "start_time": "2022-02-26T13:36:29.462Z"
   },
   {
    "duration": -80047,
    "start_time": "2022-02-26T13:37:49.861Z"
   },
   {
    "duration": -80049,
    "start_time": "2022-02-26T13:37:49.865Z"
   },
   {
    "duration": -80051,
    "start_time": "2022-02-26T13:37:49.868Z"
   },
   {
    "duration": -80052,
    "start_time": "2022-02-26T13:37:49.871Z"
   },
   {
    "duration": -80053,
    "start_time": "2022-02-26T13:37:49.874Z"
   },
   {
    "duration": -80055,
    "start_time": "2022-02-26T13:37:49.877Z"
   },
   {
    "duration": -80114,
    "start_time": "2022-02-26T13:37:49.937Z"
   },
   {
    "duration": -80115,
    "start_time": "2022-02-26T13:37:49.940Z"
   },
   {
    "duration": -80116,
    "start_time": "2022-02-26T13:37:49.942Z"
   },
   {
    "duration": -80117,
    "start_time": "2022-02-26T13:37:49.944Z"
   },
   {
    "duration": -80117,
    "start_time": "2022-02-26T13:37:49.946Z"
   },
   {
    "duration": -80117,
    "start_time": "2022-02-26T13:37:49.948Z"
   },
   {
    "duration": -80117,
    "start_time": "2022-02-26T13:37:49.950Z"
   },
   {
    "duration": -80118,
    "start_time": "2022-02-26T13:37:49.952Z"
   },
   {
    "duration": -80119,
    "start_time": "2022-02-26T13:37:49.954Z"
   },
   {
    "duration": -80119,
    "start_time": "2022-02-26T13:37:49.956Z"
   },
   {
    "duration": -80120,
    "start_time": "2022-02-26T13:37:49.958Z"
   },
   {
    "duration": -80121,
    "start_time": "2022-02-26T13:37:49.961Z"
   },
   {
    "duration": -80122,
    "start_time": "2022-02-26T13:37:49.963Z"
   },
   {
    "duration": -80122,
    "start_time": "2022-02-26T13:37:49.965Z"
   },
   {
    "duration": -80123,
    "start_time": "2022-02-26T13:37:49.967Z"
   },
   {
    "duration": 10,
    "start_time": "2022-02-26T13:37:01.292Z"
   },
   {
    "duration": 18,
    "start_time": "2022-02-26T13:37:04.986Z"
   },
   {
    "duration": 206,
    "start_time": "2022-02-26T13:37:23.883Z"
   },
   {
    "duration": 868,
    "start_time": "2022-02-26T13:37:32.817Z"
   },
   {
    "duration": 5263,
    "start_time": "2022-02-26T13:37:33.688Z"
   },
   {
    "duration": 27,
    "start_time": "2022-02-26T13:37:38.954Z"
   },
   {
    "duration": 32,
    "start_time": "2022-02-26T13:37:38.984Z"
   },
   {
    "duration": 1218,
    "start_time": "2022-02-26T13:37:39.019Z"
   },
   {
    "duration": 2709,
    "start_time": "2022-02-26T13:37:40.240Z"
   },
   {
    "duration": 268,
    "start_time": "2022-02-26T13:37:42.951Z"
   },
   {
    "duration": 11,
    "start_time": "2022-02-26T13:37:43.223Z"
   },
   {
    "duration": 45,
    "start_time": "2022-02-26T13:37:43.237Z"
   },
   {
    "duration": 11,
    "start_time": "2022-02-26T13:37:43.284Z"
   },
   {
    "duration": 597,
    "start_time": "2022-02-26T13:37:43.297Z"
   },
   {
    "duration": 64,
    "start_time": "2022-02-26T13:37:43.897Z"
   },
   {
    "duration": 666,
    "start_time": "2022-02-26T13:37:43.964Z"
   },
   {
    "duration": 48,
    "start_time": "2022-02-26T13:37:44.634Z"
   },
   {
    "duration": 98,
    "start_time": "2022-02-26T13:37:44.685Z"
   },
   {
    "duration": 932,
    "start_time": "2022-02-26T13:37:44.786Z"
   },
   {
    "duration": 29,
    "start_time": "2022-02-26T13:37:45.721Z"
   },
   {
    "duration": 51,
    "start_time": "2022-02-26T13:37:45.753Z"
   },
   {
    "duration": 99,
    "start_time": "2022-02-26T13:37:45.806Z"
   },
   {
    "duration": 859,
    "start_time": "2022-02-26T13:37:45.908Z"
   },
   {
    "duration": 12,
    "start_time": "2022-02-26T13:37:46.774Z"
   },
   {
    "duration": 49,
    "start_time": "2022-02-26T13:37:46.789Z"
   },
   {
    "duration": 49,
    "start_time": "2022-02-26T13:37:46.843Z"
   },
   {
    "duration": 22,
    "start_time": "2022-02-26T13:37:46.895Z"
   },
   {
    "duration": 58,
    "start_time": "2022-02-26T13:37:46.920Z"
   },
   {
    "duration": 10,
    "start_time": "2022-02-26T13:37:46.980Z"
   },
   {
    "duration": 82,
    "start_time": "2022-02-26T13:37:46.993Z"
   },
   {
    "duration": 385,
    "start_time": "2022-02-26T13:37:47.078Z"
   },
   {
    "duration": -80036,
    "start_time": "2022-02-26T13:39:07.501Z"
   },
   {
    "duration": -80037,
    "start_time": "2022-02-26T13:39:07.504Z"
   },
   {
    "duration": -80038,
    "start_time": "2022-02-26T13:39:07.507Z"
   },
   {
    "duration": -80038,
    "start_time": "2022-02-26T13:39:07.509Z"
   },
   {
    "duration": -80040,
    "start_time": "2022-02-26T13:39:07.512Z"
   },
   {
    "duration": -80045,
    "start_time": "2022-02-26T13:39:07.519Z"
   },
   {
    "duration": -80115,
    "start_time": "2022-02-26T13:39:07.590Z"
   },
   {
    "duration": -80121,
    "start_time": "2022-02-26T13:39:07.598Z"
   },
   {
    "duration": -80122,
    "start_time": "2022-02-26T13:39:07.600Z"
   },
   {
    "duration": -80122,
    "start_time": "2022-02-26T13:39:07.602Z"
   },
   {
    "duration": -80124,
    "start_time": "2022-02-26T13:39:07.605Z"
   },
   {
    "duration": -80125,
    "start_time": "2022-02-26T13:39:07.607Z"
   },
   {
    "duration": -80125,
    "start_time": "2022-02-26T13:39:07.609Z"
   },
   {
    "duration": -80126,
    "start_time": "2022-02-26T13:39:07.611Z"
   },
   {
    "duration": -80133,
    "start_time": "2022-02-26T13:39:07.619Z"
   },
   {
    "duration": -80134,
    "start_time": "2022-02-26T13:39:07.622Z"
   },
   {
    "duration": -80135,
    "start_time": "2022-02-26T13:39:07.624Z"
   },
   {
    "duration": -80136,
    "start_time": "2022-02-26T13:39:07.626Z"
   },
   {
    "duration": -80137,
    "start_time": "2022-02-26T13:39:07.629Z"
   },
   {
    "duration": 13,
    "start_time": "2022-02-26T13:38:31.354Z"
   },
   {
    "duration": 125,
    "start_time": "2022-02-26T13:38:58.378Z"
   },
   {
    "duration": 34,
    "start_time": "2022-02-26T13:41:35.275Z"
   },
   {
    "duration": 852,
    "start_time": "2022-02-26T13:43:12.000Z"
   },
   {
    "duration": 5154,
    "start_time": "2022-02-26T13:43:12.855Z"
   },
   {
    "duration": 14,
    "start_time": "2022-02-26T13:43:18.012Z"
   },
   {
    "duration": 59,
    "start_time": "2022-02-26T13:43:18.029Z"
   },
   {
    "duration": 1202,
    "start_time": "2022-02-26T13:43:18.091Z"
   },
   {
    "duration": 2701,
    "start_time": "2022-02-26T13:43:19.296Z"
   },
   {
    "duration": 242,
    "start_time": "2022-02-26T13:43:21.999Z"
   },
   {
    "duration": 12,
    "start_time": "2022-02-26T13:43:22.245Z"
   },
   {
    "duration": 20,
    "start_time": "2022-02-26T13:43:22.274Z"
   },
   {
    "duration": 9,
    "start_time": "2022-02-26T13:43:22.296Z"
   },
   {
    "duration": 648,
    "start_time": "2022-02-26T13:43:22.307Z"
   },
   {
    "duration": 54,
    "start_time": "2022-02-26T13:43:22.958Z"
   },
   {
    "duration": 623,
    "start_time": "2022-02-26T13:43:23.014Z"
   },
   {
    "duration": 44,
    "start_time": "2022-02-26T13:43:23.639Z"
   },
   {
    "duration": 88,
    "start_time": "2022-02-26T13:43:23.685Z"
   },
   {
    "duration": 797,
    "start_time": "2022-02-26T13:43:23.775Z"
   },
   {
    "duration": 22,
    "start_time": "2022-02-26T13:43:24.575Z"
   },
   {
    "duration": 49,
    "start_time": "2022-02-26T13:43:24.600Z"
   },
   {
    "duration": 65,
    "start_time": "2022-02-26T13:43:24.651Z"
   },
   {
    "duration": 561,
    "start_time": "2022-02-26T13:43:24.719Z"
   },
   {
    "duration": 9,
    "start_time": "2022-02-26T13:43:25.284Z"
   },
   {
    "duration": 60,
    "start_time": "2022-02-26T13:43:25.295Z"
   },
   {
    "duration": 32,
    "start_time": "2022-02-26T13:43:25.377Z"
   },
   {
    "duration": 22,
    "start_time": "2022-02-26T13:43:25.412Z"
   },
   {
    "duration": 55,
    "start_time": "2022-02-26T13:43:25.436Z"
   },
   {
    "duration": 10,
    "start_time": "2022-02-26T13:43:25.493Z"
   },
   {
    "duration": 41,
    "start_time": "2022-02-26T13:43:25.505Z"
   },
   {
    "duration": 165,
    "start_time": "2022-02-26T13:43:25.548Z"
   },
   {
    "duration": 20,
    "start_time": "2022-02-26T13:43:25.716Z"
   },
   {
    "duration": 331,
    "start_time": "2022-02-26T13:43:25.738Z"
   },
   {
    "duration": -80948,
    "start_time": "2022-02-26T13:44:47.019Z"
   },
   {
    "duration": -80950,
    "start_time": "2022-02-26T13:44:47.022Z"
   },
   {
    "duration": -80950,
    "start_time": "2022-02-26T13:44:47.024Z"
   },
   {
    "duration": -80952,
    "start_time": "2022-02-26T13:44:47.027Z"
   },
   {
    "duration": -81029,
    "start_time": "2022-02-26T13:44:47.106Z"
   },
   {
    "duration": -81035,
    "start_time": "2022-02-26T13:44:47.113Z"
   },
   {
    "duration": -81035,
    "start_time": "2022-02-26T13:44:47.115Z"
   },
   {
    "duration": -81036,
    "start_time": "2022-02-26T13:44:47.117Z"
   },
   {
    "duration": -81036,
    "start_time": "2022-02-26T13:44:47.119Z"
   },
   {
    "duration": -81038,
    "start_time": "2022-02-26T13:44:47.122Z"
   },
   {
    "duration": -81038,
    "start_time": "2022-02-26T13:44:47.124Z"
   },
   {
    "duration": -81039,
    "start_time": "2022-02-26T13:44:47.126Z"
   },
   {
    "duration": -81040,
    "start_time": "2022-02-26T13:44:47.128Z"
   },
   {
    "duration": -81042,
    "start_time": "2022-02-26T13:44:47.131Z"
   },
   {
    "duration": -81043,
    "start_time": "2022-02-26T13:44:47.134Z"
   },
   {
    "duration": -81044,
    "start_time": "2022-02-26T13:44:47.136Z"
   },
   {
    "duration": -81044,
    "start_time": "2022-02-26T13:44:47.138Z"
   },
   {
    "duration": -81045,
    "start_time": "2022-02-26T13:44:47.140Z"
   },
   {
    "duration": -81061,
    "start_time": "2022-02-26T13:44:47.157Z"
   },
   {
    "duration": 31,
    "start_time": "2022-02-26T13:44:54.091Z"
   },
   {
    "duration": 43,
    "start_time": "2022-02-26T13:45:25.632Z"
   },
   {
    "duration": 47,
    "start_time": "2022-02-26T13:45:37.262Z"
   },
   {
    "duration": 35,
    "start_time": "2022-02-26T13:45:57.018Z"
   },
   {
    "duration": 5,
    "start_time": "2022-02-26T13:47:22.661Z"
   },
   {
    "duration": 212,
    "start_time": "2022-02-26T13:47:38.549Z"
   },
   {
    "duration": 860,
    "start_time": "2022-02-26T13:47:44.587Z"
   },
   {
    "duration": 4906,
    "start_time": "2022-02-26T13:47:45.450Z"
   },
   {
    "duration": 25,
    "start_time": "2022-02-26T13:47:50.359Z"
   },
   {
    "duration": 30,
    "start_time": "2022-02-26T13:47:50.388Z"
   },
   {
    "duration": 1222,
    "start_time": "2022-02-26T13:47:50.421Z"
   },
   {
    "duration": 2708,
    "start_time": "2022-02-26T13:47:51.646Z"
   },
   {
    "duration": 237,
    "start_time": "2022-02-26T13:47:54.356Z"
   },
   {
    "duration": 10,
    "start_time": "2022-02-26T13:47:54.597Z"
   },
   {
    "duration": 20,
    "start_time": "2022-02-26T13:47:54.610Z"
   },
   {
    "duration": 7,
    "start_time": "2022-02-26T13:47:54.632Z"
   },
   {
    "duration": 624,
    "start_time": "2022-02-26T13:47:54.641Z"
   },
   {
    "duration": 58,
    "start_time": "2022-02-26T13:47:55.267Z"
   },
   {
    "duration": 649,
    "start_time": "2022-02-26T13:47:55.328Z"
   },
   {
    "duration": 44,
    "start_time": "2022-02-26T13:47:55.979Z"
   },
   {
    "duration": 97,
    "start_time": "2022-02-26T13:47:56.025Z"
   },
   {
    "duration": 810,
    "start_time": "2022-02-26T13:47:56.124Z"
   },
   {
    "duration": 20,
    "start_time": "2022-02-26T13:47:56.936Z"
   },
   {
    "duration": 50,
    "start_time": "2022-02-26T13:47:56.958Z"
   },
   {
    "duration": 63,
    "start_time": "2022-02-26T13:47:57.010Z"
   },
   {
    "duration": 559,
    "start_time": "2022-02-26T13:47:57.075Z"
   },
   {
    "duration": 9,
    "start_time": "2022-02-26T13:47:57.637Z"
   },
   {
    "duration": 66,
    "start_time": "2022-02-26T13:47:57.648Z"
   },
   {
    "duration": 28,
    "start_time": "2022-02-26T13:47:57.719Z"
   },
   {
    "duration": 39,
    "start_time": "2022-02-26T13:47:57.750Z"
   },
   {
    "duration": 26,
    "start_time": "2022-02-26T13:47:57.791Z"
   },
   {
    "duration": 69,
    "start_time": "2022-02-26T13:47:57.819Z"
   },
   {
    "duration": 157,
    "start_time": "2022-02-26T13:47:57.890Z"
   },
   {
    "duration": 45,
    "start_time": "2022-02-26T13:47:58.049Z"
   },
   {
    "duration": 320,
    "start_time": "2022-02-26T13:47:58.097Z"
   },
   {
    "duration": -80038,
    "start_time": "2022-02-26T13:49:18.457Z"
   },
   {
    "duration": -80064,
    "start_time": "2022-02-26T13:49:18.485Z"
   },
   {
    "duration": -80066,
    "start_time": "2022-02-26T13:49:18.488Z"
   },
   {
    "duration": -80066,
    "start_time": "2022-02-26T13:49:18.490Z"
   },
   {
    "duration": -80074,
    "start_time": "2022-02-26T13:49:18.500Z"
   },
   {
    "duration": -80076,
    "start_time": "2022-02-26T13:49:18.503Z"
   },
   {
    "duration": -80076,
    "start_time": "2022-02-26T13:49:18.505Z"
   },
   {
    "duration": -80078,
    "start_time": "2022-02-26T13:49:18.508Z"
   },
   {
    "duration": -80086,
    "start_time": "2022-02-26T13:49:18.517Z"
   },
   {
    "duration": -80088,
    "start_time": "2022-02-26T13:49:18.520Z"
   },
   {
    "duration": -80089,
    "start_time": "2022-02-26T13:49:18.523Z"
   },
   {
    "duration": -80090,
    "start_time": "2022-02-26T13:49:18.525Z"
   },
   {
    "duration": -80098,
    "start_time": "2022-02-26T13:49:18.534Z"
   },
   {
    "duration": -80099,
    "start_time": "2022-02-26T13:49:18.537Z"
   },
   {
    "duration": -80100,
    "start_time": "2022-02-26T13:49:18.539Z"
   },
   {
    "duration": -80100,
    "start_time": "2022-02-26T13:49:18.541Z"
   },
   {
    "duration": -80108,
    "start_time": "2022-02-26T13:49:18.550Z"
   },
   {
    "duration": -80109,
    "start_time": "2022-02-26T13:49:18.553Z"
   },
   {
    "duration": -80110,
    "start_time": "2022-02-26T13:49:18.555Z"
   },
   {
    "duration": 51,
    "start_time": "2022-02-26T13:49:19.258Z"
   },
   {
    "duration": 14,
    "start_time": "2022-02-26T13:49:51.060Z"
   },
   {
    "duration": 47,
    "start_time": "2022-02-26T13:50:33.074Z"
   },
   {
    "duration": 18,
    "start_time": "2022-02-26T13:50:53.791Z"
   },
   {
    "duration": 14,
    "start_time": "2022-02-26T13:51:17.531Z"
   },
   {
    "duration": 16,
    "start_time": "2022-02-26T13:51:28.883Z"
   },
   {
    "duration": 16,
    "start_time": "2022-02-26T13:52:16.010Z"
   },
   {
    "duration": 12,
    "start_time": "2022-02-26T13:52:23.241Z"
   },
   {
    "duration": 18,
    "start_time": "2022-02-26T13:52:34.475Z"
   },
   {
    "duration": 15,
    "start_time": "2022-02-26T13:53:00.850Z"
   },
   {
    "duration": 53,
    "start_time": "2022-02-26T13:53:12.033Z"
   },
   {
    "duration": 46,
    "start_time": "2022-02-26T13:53:39.282Z"
   },
   {
    "duration": 6,
    "start_time": "2022-02-26T13:56:06.689Z"
   },
   {
    "duration": 341,
    "start_time": "2022-02-26T13:56:14.303Z"
   },
   {
    "duration": 6,
    "start_time": "2022-02-26T13:56:20.112Z"
   },
   {
    "duration": 9,
    "start_time": "2022-02-26T13:57:03.222Z"
   },
   {
    "duration": 13,
    "start_time": "2022-02-26T13:57:30.310Z"
   },
   {
    "duration": 17,
    "start_time": "2022-02-26T13:57:33.869Z"
   },
   {
    "duration": 5,
    "start_time": "2022-02-26T13:57:41.366Z"
   },
   {
    "duration": 17,
    "start_time": "2022-02-26T13:57:56.102Z"
   },
   {
    "duration": 210,
    "start_time": "2022-02-26T13:58:16.047Z"
   },
   {
    "duration": 201,
    "start_time": "2022-02-26T13:59:48.229Z"
   },
   {
    "duration": 5,
    "start_time": "2022-02-26T13:59:54.148Z"
   },
   {
    "duration": 14,
    "start_time": "2022-02-26T13:59:57.381Z"
   },
   {
    "duration": 23,
    "start_time": "2022-02-26T14:00:20.596Z"
   },
   {
    "duration": 15,
    "start_time": "2022-02-26T14:00:50.230Z"
   },
   {
    "duration": 202,
    "start_time": "2022-02-26T14:00:58.116Z"
   },
   {
    "duration": 231,
    "start_time": "2022-02-26T14:01:56.986Z"
   },
   {
    "duration": 203,
    "start_time": "2022-02-26T14:02:24.682Z"
   },
   {
    "duration": 3,
    "start_time": "2022-02-26T14:02:33.722Z"
   },
   {
    "duration": 4,
    "start_time": "2022-02-26T14:02:40.337Z"
   },
   {
    "duration": 360,
    "start_time": "2022-02-26T14:03:06.017Z"
   },
   {
    "duration": 8,
    "start_time": "2022-02-26T14:03:17.540Z"
   },
   {
    "duration": 4,
    "start_time": "2022-02-26T14:03:20.250Z"
   },
   {
    "duration": 9,
    "start_time": "2022-02-26T14:04:10.528Z"
   },
   {
    "duration": 22,
    "start_time": "2022-02-26T14:04:12.334Z"
   },
   {
    "duration": 6,
    "start_time": "2022-02-26T14:04:25.344Z"
   },
   {
    "duration": 5,
    "start_time": "2022-02-26T14:04:35.159Z"
   },
   {
    "duration": 14,
    "start_time": "2022-02-26T14:05:04.593Z"
   },
   {
    "duration": 354,
    "start_time": "2022-02-26T14:05:28.617Z"
   },
   {
    "duration": 6,
    "start_time": "2022-02-26T14:06:12.448Z"
   },
   {
    "duration": 6,
    "start_time": "2022-02-26T14:06:17.391Z"
   },
   {
    "duration": 7,
    "start_time": "2022-02-26T14:06:21.017Z"
   },
   {
    "duration": 46,
    "start_time": "2022-02-26T14:06:35.902Z"
   },
   {
    "duration": 185,
    "start_time": "2022-02-26T14:06:41.296Z"
   },
   {
    "duration": 42,
    "start_time": "2022-02-26T14:06:45.335Z"
   },
   {
    "duration": 6,
    "start_time": "2022-02-26T14:06:56.721Z"
   },
   {
    "duration": 5,
    "start_time": "2022-02-26T14:09:19.533Z"
   },
   {
    "duration": 6,
    "start_time": "2022-02-26T14:09:37.979Z"
   },
   {
    "duration": 8,
    "start_time": "2022-02-26T14:09:58.054Z"
   },
   {
    "duration": 9,
    "start_time": "2022-02-26T14:11:49.436Z"
   },
   {
    "duration": 5,
    "start_time": "2022-02-26T14:11:58.460Z"
   },
   {
    "duration": 96,
    "start_time": "2022-02-26T14:13:37.635Z"
   },
   {
    "duration": 122,
    "start_time": "2022-02-26T14:14:42.586Z"
   },
   {
    "duration": 103,
    "start_time": "2022-02-26T14:15:30.395Z"
   },
   {
    "duration": 100,
    "start_time": "2022-02-26T14:16:08.534Z"
   },
   {
    "duration": 159,
    "start_time": "2022-02-26T14:16:23.041Z"
   },
   {
    "duration": 208,
    "start_time": "2022-02-26T14:16:54.841Z"
   },
   {
    "duration": 242,
    "start_time": "2022-02-26T14:17:03.336Z"
   },
   {
    "duration": 279,
    "start_time": "2022-02-26T14:17:48.136Z"
   },
   {
    "duration": 250,
    "start_time": "2022-02-26T14:17:56.136Z"
   },
   {
    "duration": 231,
    "start_time": "2022-02-26T14:18:49.983Z"
   },
   {
    "duration": 98,
    "start_time": "2022-02-26T14:19:46.199Z"
   },
   {
    "duration": 18,
    "start_time": "2022-02-26T14:19:55.119Z"
   },
   {
    "duration": 21,
    "start_time": "2022-02-26T14:21:23.805Z"
   },
   {
    "duration": 22,
    "start_time": "2022-02-26T14:21:36.174Z"
   },
   {
    "duration": 21,
    "start_time": "2022-02-26T14:21:50.686Z"
   },
   {
    "duration": 870,
    "start_time": "2022-02-26T14:23:18.765Z"
   },
   {
    "duration": 4780,
    "start_time": "2022-02-26T14:23:19.637Z"
   },
   {
    "duration": 13,
    "start_time": "2022-02-26T14:23:24.421Z"
   },
   {
    "duration": 56,
    "start_time": "2022-02-26T14:23:24.437Z"
   },
   {
    "duration": 1182,
    "start_time": "2022-02-26T14:23:24.495Z"
   },
   {
    "duration": 2636,
    "start_time": "2022-02-26T14:23:25.679Z"
   },
   {
    "duration": 240,
    "start_time": "2022-02-26T14:23:28.318Z"
   },
   {
    "duration": 19,
    "start_time": "2022-02-26T14:23:28.562Z"
   },
   {
    "duration": 18,
    "start_time": "2022-02-26T14:23:28.584Z"
   },
   {
    "duration": 7,
    "start_time": "2022-02-26T14:23:28.605Z"
   },
   {
    "duration": 611,
    "start_time": "2022-02-26T14:23:28.614Z"
   },
   {
    "duration": 55,
    "start_time": "2022-02-26T14:23:29.228Z"
   },
   {
    "duration": 631,
    "start_time": "2022-02-26T14:23:29.285Z"
   },
   {
    "duration": 44,
    "start_time": "2022-02-26T14:23:29.918Z"
   },
   {
    "duration": 83,
    "start_time": "2022-02-26T14:23:29.964Z"
   },
   {
    "duration": 784,
    "start_time": "2022-02-26T14:23:30.049Z"
   },
   {
    "duration": 20,
    "start_time": "2022-02-26T14:23:30.835Z"
   },
   {
    "duration": 51,
    "start_time": "2022-02-26T14:23:30.858Z"
   },
   {
    "duration": 56,
    "start_time": "2022-02-26T14:23:30.911Z"
   },
   {
    "duration": 545,
    "start_time": "2022-02-26T14:23:30.973Z"
   },
   {
    "duration": 8,
    "start_time": "2022-02-26T14:23:31.520Z"
   },
   {
    "duration": 64,
    "start_time": "2022-02-26T14:23:31.530Z"
   },
   {
    "duration": 29,
    "start_time": "2022-02-26T14:23:31.599Z"
   },
   {
    "duration": 47,
    "start_time": "2022-02-26T14:23:31.631Z"
   },
   {
    "duration": 25,
    "start_time": "2022-02-26T14:23:31.680Z"
   },
   {
    "duration": 69,
    "start_time": "2022-02-26T14:23:31.708Z"
   },
   {
    "duration": 134,
    "start_time": "2022-02-26T14:23:31.780Z"
   },
   {
    "duration": 5,
    "start_time": "2022-02-26T14:23:31.917Z"
   },
   {
    "duration": 23,
    "start_time": "2022-02-26T14:23:31.925Z"
   },
   {
    "duration": 360,
    "start_time": "2022-02-26T14:23:31.951Z"
   },
   {
    "duration": -80071,
    "start_time": "2022-02-26T14:24:52.384Z"
   },
   {
    "duration": -80073,
    "start_time": "2022-02-26T14:24:52.387Z"
   },
   {
    "duration": -80074,
    "start_time": "2022-02-26T14:24:52.390Z"
   },
   {
    "duration": -80080,
    "start_time": "2022-02-26T14:24:52.397Z"
   },
   {
    "duration": -80082,
    "start_time": "2022-02-26T14:24:52.400Z"
   },
   {
    "duration": -80083,
    "start_time": "2022-02-26T14:24:52.402Z"
   },
   {
    "duration": -80138,
    "start_time": "2022-02-26T14:24:52.459Z"
   },
   {
    "duration": -80140,
    "start_time": "2022-02-26T14:24:52.462Z"
   },
   {
    "duration": -80141,
    "start_time": "2022-02-26T14:24:52.464Z"
   },
   {
    "duration": -80142,
    "start_time": "2022-02-26T14:24:52.467Z"
   },
   {
    "duration": -80144,
    "start_time": "2022-02-26T14:24:52.470Z"
   },
   {
    "duration": -80145,
    "start_time": "2022-02-26T14:24:52.472Z"
   },
   {
    "duration": -80146,
    "start_time": "2022-02-26T14:24:52.475Z"
   },
   {
    "duration": -80147,
    "start_time": "2022-02-26T14:24:52.477Z"
   },
   {
    "duration": -80148,
    "start_time": "2022-02-26T14:24:52.479Z"
   },
   {
    "duration": -80156,
    "start_time": "2022-02-26T14:24:52.489Z"
   },
   {
    "duration": -80158,
    "start_time": "2022-02-26T14:24:52.492Z"
   },
   {
    "duration": -80159,
    "start_time": "2022-02-26T14:24:52.494Z"
   },
   {
    "duration": -80160,
    "start_time": "2022-02-26T14:24:52.496Z"
   },
   {
    "duration": 5,
    "start_time": "2022-02-26T14:23:47.615Z"
   },
   {
    "duration": 5,
    "start_time": "2022-02-26T14:27:33.822Z"
   },
   {
    "duration": 41,
    "start_time": "2022-02-26T14:27:39.604Z"
   },
   {
    "duration": 264,
    "start_time": "2022-02-26T14:29:25.501Z"
   },
   {
    "duration": 822,
    "start_time": "2022-02-26T14:29:44.417Z"
   },
   {
    "duration": 4741,
    "start_time": "2022-02-26T14:29:45.241Z"
   },
   {
    "duration": 14,
    "start_time": "2022-02-26T14:29:49.985Z"
   },
   {
    "duration": 52,
    "start_time": "2022-02-26T14:29:50.002Z"
   },
   {
    "duration": 1242,
    "start_time": "2022-02-26T14:29:50.073Z"
   },
   {
    "duration": 4126,
    "start_time": "2022-02-26T14:29:51.317Z"
   },
   {
    "duration": 232,
    "start_time": "2022-02-26T14:29:55.446Z"
   },
   {
    "duration": 10,
    "start_time": "2022-02-26T14:29:55.681Z"
   },
   {
    "duration": 19,
    "start_time": "2022-02-26T14:29:55.695Z"
   },
   {
    "duration": 8,
    "start_time": "2022-02-26T14:29:55.717Z"
   },
   {
    "duration": 609,
    "start_time": "2022-02-26T14:29:55.727Z"
   },
   {
    "duration": 77,
    "start_time": "2022-02-26T14:29:56.338Z"
   },
   {
    "duration": 626,
    "start_time": "2022-02-26T14:29:56.417Z"
   },
   {
    "duration": 42,
    "start_time": "2022-02-26T14:29:57.045Z"
   },
   {
    "duration": 86,
    "start_time": "2022-02-26T14:29:57.090Z"
   },
   {
    "duration": 797,
    "start_time": "2022-02-26T14:29:57.178Z"
   },
   {
    "duration": 21,
    "start_time": "2022-02-26T14:29:57.978Z"
   },
   {
    "duration": 42,
    "start_time": "2022-02-26T14:29:58.002Z"
   },
   {
    "duration": 69,
    "start_time": "2022-02-26T14:29:58.047Z"
   },
   {
    "duration": 590,
    "start_time": "2022-02-26T14:29:58.118Z"
   },
   {
    "duration": 9,
    "start_time": "2022-02-26T14:29:58.710Z"
   },
   {
    "duration": 69,
    "start_time": "2022-02-26T14:29:58.721Z"
   },
   {
    "duration": 28,
    "start_time": "2022-02-26T14:29:58.793Z"
   },
   {
    "duration": 21,
    "start_time": "2022-02-26T14:29:58.824Z"
   },
   {
    "duration": 27,
    "start_time": "2022-02-26T14:29:58.874Z"
   },
   {
    "duration": 46,
    "start_time": "2022-02-26T14:29:58.903Z"
   },
   {
    "duration": 130,
    "start_time": "2022-02-26T14:29:58.974Z"
   },
   {
    "duration": 5,
    "start_time": "2022-02-26T14:29:59.107Z"
   },
   {
    "duration": 37,
    "start_time": "2022-02-26T14:29:59.114Z"
   },
   {
    "duration": 5,
    "start_time": "2022-02-26T14:29:59.153Z"
   },
   {
    "duration": 570,
    "start_time": "2022-02-26T14:29:59.172Z"
   },
   {
    "duration": -80075,
    "start_time": "2022-02-26T14:31:19.819Z"
   },
   {
    "duration": -80077,
    "start_time": "2022-02-26T14:31:19.822Z"
   },
   {
    "duration": -80079,
    "start_time": "2022-02-26T14:31:19.825Z"
   },
   {
    "duration": -80079,
    "start_time": "2022-02-26T14:31:19.827Z"
   },
   {
    "duration": -80081,
    "start_time": "2022-02-26T14:31:19.830Z"
   },
   {
    "duration": -80088,
    "start_time": "2022-02-26T14:31:19.838Z"
   },
   {
    "duration": -80090,
    "start_time": "2022-02-26T14:31:19.841Z"
   },
   {
    "duration": -80091,
    "start_time": "2022-02-26T14:31:19.844Z"
   },
   {
    "duration": -80092,
    "start_time": "2022-02-26T14:31:19.846Z"
   },
   {
    "duration": -80094,
    "start_time": "2022-02-26T14:31:19.849Z"
   },
   {
    "duration": -80096,
    "start_time": "2022-02-26T14:31:19.852Z"
   },
   {
    "duration": -80097,
    "start_time": "2022-02-26T14:31:19.855Z"
   },
   {
    "duration": -80098,
    "start_time": "2022-02-26T14:31:19.857Z"
   },
   {
    "duration": -80141,
    "start_time": "2022-02-26T14:31:19.901Z"
   },
   {
    "duration": -80143,
    "start_time": "2022-02-26T14:31:19.904Z"
   },
   {
    "duration": -80144,
    "start_time": "2022-02-26T14:31:19.906Z"
   },
   {
    "duration": -80145,
    "start_time": "2022-02-26T14:31:19.909Z"
   },
   {
    "duration": -80146,
    "start_time": "2022-02-26T14:31:19.911Z"
   },
   {
    "duration": -80148,
    "start_time": "2022-02-26T14:31:19.914Z"
   },
   {
    "duration": 37,
    "start_time": "2022-02-26T14:30:45.716Z"
   },
   {
    "duration": 7,
    "start_time": "2022-02-26T14:30:52.484Z"
   },
   {
    "duration": 859,
    "start_time": "2022-02-26T14:34:15.865Z"
   },
   {
    "duration": 4775,
    "start_time": "2022-02-26T14:34:16.727Z"
   },
   {
    "duration": 13,
    "start_time": "2022-02-26T14:34:21.506Z"
   },
   {
    "duration": 55,
    "start_time": "2022-02-26T14:34:21.522Z"
   },
   {
    "duration": 1156,
    "start_time": "2022-02-26T14:34:21.579Z"
   },
   {
    "duration": 2699,
    "start_time": "2022-02-26T14:34:22.738Z"
   },
   {
    "duration": 238,
    "start_time": "2022-02-26T14:34:25.440Z"
   },
   {
    "duration": 11,
    "start_time": "2022-02-26T14:34:25.684Z"
   },
   {
    "duration": 25,
    "start_time": "2022-02-26T14:34:25.699Z"
   },
   {
    "duration": 12,
    "start_time": "2022-02-26T14:34:25.727Z"
   },
   {
    "duration": 614,
    "start_time": "2022-02-26T14:34:25.741Z"
   },
   {
    "duration": 64,
    "start_time": "2022-02-26T14:34:26.357Z"
   },
   {
    "duration": 628,
    "start_time": "2022-02-26T14:34:26.424Z"
   },
   {
    "duration": 44,
    "start_time": "2022-02-26T14:34:27.055Z"
   },
   {
    "duration": 85,
    "start_time": "2022-02-26T14:34:27.101Z"
   },
   {
    "duration": 772,
    "start_time": "2022-02-26T14:34:27.188Z"
   },
   {
    "duration": 30,
    "start_time": "2022-02-26T14:34:27.963Z"
   },
   {
    "duration": 45,
    "start_time": "2022-02-26T14:34:27.996Z"
   },
   {
    "duration": 66,
    "start_time": "2022-02-26T14:34:28.044Z"
   },
   {
    "duration": 543,
    "start_time": "2022-02-26T14:34:28.112Z"
   },
   {
    "duration": 17,
    "start_time": "2022-02-26T14:34:28.657Z"
   },
   {
    "duration": 49,
    "start_time": "2022-02-26T14:34:28.677Z"
   },
   {
    "duration": 45,
    "start_time": "2022-02-26T14:34:28.731Z"
   },
   {
    "duration": 22,
    "start_time": "2022-02-26T14:34:28.779Z"
   },
   {
    "duration": 25,
    "start_time": "2022-02-26T14:34:28.804Z"
   },
   {
    "duration": 79,
    "start_time": "2022-02-26T14:34:28.831Z"
   },
   {
    "duration": 131,
    "start_time": "2022-02-26T14:34:28.913Z"
   },
   {
    "duration": 6,
    "start_time": "2022-02-26T14:34:29.046Z"
   },
   {
    "duration": 28,
    "start_time": "2022-02-26T14:34:29.054Z"
   },
   {
    "duration": 5,
    "start_time": "2022-02-26T14:34:29.084Z"
   },
   {
    "duration": 647,
    "start_time": "2022-02-26T14:34:29.092Z"
   },
   {
    "duration": 8,
    "start_time": "2022-02-26T14:34:29.742Z"
   },
   {
    "duration": 19,
    "start_time": "2022-02-26T14:34:29.753Z"
   },
   {
    "duration": 361,
    "start_time": "2022-02-26T14:34:29.775Z"
   },
   {
    "duration": -80158,
    "start_time": "2022-02-26T14:35:50.298Z"
   },
   {
    "duration": -80158,
    "start_time": "2022-02-26T14:35:50.300Z"
   },
   {
    "duration": -80157,
    "start_time": "2022-02-26T14:35:50.302Z"
   },
   {
    "duration": -80158,
    "start_time": "2022-02-26T14:35:50.305Z"
   },
   {
    "duration": -80158,
    "start_time": "2022-02-26T14:35:50.307Z"
   },
   {
    "duration": -80157,
    "start_time": "2022-02-26T14:35:50.309Z"
   },
   {
    "duration": -80158,
    "start_time": "2022-02-26T14:35:50.312Z"
   },
   {
    "duration": -80158,
    "start_time": "2022-02-26T14:35:50.314Z"
   },
   {
    "duration": -80158,
    "start_time": "2022-02-26T14:35:50.316Z"
   },
   {
    "duration": -80157,
    "start_time": "2022-02-26T14:35:50.318Z"
   },
   {
    "duration": -80159,
    "start_time": "2022-02-26T14:35:50.322Z"
   },
   {
    "duration": 40,
    "start_time": "2022-02-26T14:35:47.044Z"
   },
   {
    "duration": 37,
    "start_time": "2022-02-26T14:35:55.390Z"
   },
   {
    "duration": 9,
    "start_time": "2022-02-26T14:36:10.382Z"
   },
   {
    "duration": 7,
    "start_time": "2022-02-26T14:36:20.638Z"
   },
   {
    "duration": 8,
    "start_time": "2022-02-26T14:36:54.932Z"
   },
   {
    "duration": 34,
    "start_time": "2022-02-26T14:37:30.062Z"
   },
   {
    "duration": 7,
    "start_time": "2022-02-26T14:38:53.380Z"
   },
   {
    "duration": 19,
    "start_time": "2022-02-26T14:38:55.587Z"
   },
   {
    "duration": 854,
    "start_time": "2022-02-26T14:39:08.428Z"
   },
   {
    "duration": 5240,
    "start_time": "2022-02-26T14:39:09.285Z"
   },
   {
    "duration": 14,
    "start_time": "2022-02-26T14:39:14.528Z"
   },
   {
    "duration": 54,
    "start_time": "2022-02-26T14:39:14.545Z"
   },
   {
    "duration": 1175,
    "start_time": "2022-02-26T14:39:14.601Z"
   },
   {
    "duration": 2609,
    "start_time": "2022-02-26T14:39:15.779Z"
   },
   {
    "duration": 245,
    "start_time": "2022-02-26T14:39:18.391Z"
   },
   {
    "duration": 10,
    "start_time": "2022-02-26T14:39:18.640Z"
   },
   {
    "duration": 38,
    "start_time": "2022-02-26T14:39:18.653Z"
   },
   {
    "duration": 14,
    "start_time": "2022-02-26T14:39:18.693Z"
   },
   {
    "duration": 599,
    "start_time": "2022-02-26T14:39:18.709Z"
   },
   {
    "duration": 73,
    "start_time": "2022-02-26T14:39:19.310Z"
   },
   {
    "duration": 634,
    "start_time": "2022-02-26T14:39:19.386Z"
   },
   {
    "duration": 43,
    "start_time": "2022-02-26T14:39:20.023Z"
   },
   {
    "duration": 84,
    "start_time": "2022-02-26T14:39:20.068Z"
   },
   {
    "duration": 809,
    "start_time": "2022-02-26T14:39:20.155Z"
   },
   {
    "duration": 24,
    "start_time": "2022-02-26T14:39:20.966Z"
   },
   {
    "duration": 44,
    "start_time": "2022-02-26T14:39:20.992Z"
   },
   {
    "duration": 59,
    "start_time": "2022-02-26T14:39:21.038Z"
   },
   {
    "duration": 549,
    "start_time": "2022-02-26T14:39:21.100Z"
   },
   {
    "duration": 8,
    "start_time": "2022-02-26T14:39:21.651Z"
   },
   {
    "duration": 47,
    "start_time": "2022-02-26T14:39:21.674Z"
   },
   {
    "duration": 48,
    "start_time": "2022-02-26T14:39:21.726Z"
   },
   {
    "duration": 21,
    "start_time": "2022-02-26T14:39:21.777Z"
   },
   {
    "duration": 25,
    "start_time": "2022-02-26T14:39:21.801Z"
   },
   {
    "duration": 79,
    "start_time": "2022-02-26T14:39:21.828Z"
   },
   {
    "duration": 133,
    "start_time": "2022-02-26T14:39:21.909Z"
   },
   {
    "duration": 6,
    "start_time": "2022-02-26T14:39:22.044Z"
   },
   {
    "duration": 32,
    "start_time": "2022-02-26T14:39:22.052Z"
   },
   {
    "duration": 5,
    "start_time": "2022-02-26T14:39:22.086Z"
   },
   {
    "duration": 641,
    "start_time": "2022-02-26T14:39:22.094Z"
   },
   {
    "duration": 7,
    "start_time": "2022-02-26T14:39:22.737Z"
   },
   {
    "duration": 10,
    "start_time": "2022-02-26T14:39:22.746Z"
   },
   {
    "duration": 23,
    "start_time": "2022-02-26T14:39:22.758Z"
   },
   {
    "duration": 193,
    "start_time": "2022-02-26T14:39:22.786Z"
   },
   {
    "duration": 99,
    "start_time": "2022-02-26T14:39:22.982Z"
   },
   {
    "duration": 91,
    "start_time": "2022-02-26T14:39:23.085Z"
   },
   {
    "duration": 21090,
    "start_time": "2022-02-26T14:39:23.272Z"
   },
   {
    "duration": 57,
    "start_time": "2022-02-26T14:39:44.364Z"
   },
   {
    "duration": 49,
    "start_time": "2022-02-26T14:39:44.424Z"
   },
   {
    "duration": 64,
    "start_time": "2022-02-26T14:39:44.475Z"
   },
   {
    "duration": 4,
    "start_time": "2022-02-26T14:39:44.541Z"
   },
   {
    "duration": 2557,
    "start_time": "2022-02-26T14:39:44.547Z"
   },
   {
    "duration": 12,
    "start_time": "2022-02-26T14:39:47.106Z"
   },
   {
    "duration": 10,
    "start_time": "2022-02-26T14:39:47.121Z"
   },
   {
    "duration": 883,
    "start_time": "2022-02-26T14:40:39.938Z"
   },
   {
    "duration": 4997,
    "start_time": "2022-02-26T14:40:40.823Z"
   },
   {
    "duration": 14,
    "start_time": "2022-02-26T14:40:45.822Z"
   },
   {
    "duration": 58,
    "start_time": "2022-02-26T14:40:45.838Z"
   },
   {
    "duration": 1149,
    "start_time": "2022-02-26T14:40:45.898Z"
   },
   {
    "duration": 2611,
    "start_time": "2022-02-26T14:40:47.050Z"
   },
   {
    "duration": 229,
    "start_time": "2022-02-26T14:40:49.673Z"
   },
   {
    "duration": 12,
    "start_time": "2022-02-26T14:40:49.908Z"
   },
   {
    "duration": 19,
    "start_time": "2022-02-26T14:40:49.924Z"
   },
   {
    "duration": 8,
    "start_time": "2022-02-26T14:40:49.974Z"
   },
   {
    "duration": 580,
    "start_time": "2022-02-26T14:40:49.984Z"
   },
   {
    "duration": 67,
    "start_time": "2022-02-26T14:40:50.567Z"
   },
   {
    "duration": 704,
    "start_time": "2022-02-26T14:40:50.637Z"
   },
   {
    "duration": 41,
    "start_time": "2022-02-26T14:40:51.344Z"
   },
   {
    "duration": 91,
    "start_time": "2022-02-26T14:40:51.388Z"
   },
   {
    "duration": 760,
    "start_time": "2022-02-26T14:40:51.482Z"
   },
   {
    "duration": 32,
    "start_time": "2022-02-26T14:40:52.245Z"
   },
   {
    "duration": 38,
    "start_time": "2022-02-26T14:40:52.280Z"
   },
   {
    "duration": 65,
    "start_time": "2022-02-26T14:40:52.321Z"
   },
   {
    "duration": 541,
    "start_time": "2022-02-26T14:40:52.389Z"
   },
   {
    "duration": 10,
    "start_time": "2022-02-26T14:40:52.933Z"
   },
   {
    "duration": 72,
    "start_time": "2022-02-26T14:40:52.946Z"
   },
   {
    "duration": 27,
    "start_time": "2022-02-26T14:40:53.023Z"
   },
   {
    "duration": 38,
    "start_time": "2022-02-26T14:40:53.053Z"
   },
   {
    "duration": 25,
    "start_time": "2022-02-26T14:40:53.093Z"
   },
   {
    "duration": 74,
    "start_time": "2022-02-26T14:40:53.120Z"
   },
   {
    "duration": 123,
    "start_time": "2022-02-26T14:40:53.196Z"
   },
   {
    "duration": 6,
    "start_time": "2022-02-26T14:40:53.321Z"
   },
   {
    "duration": 29,
    "start_time": "2022-02-26T14:40:53.330Z"
   },
   {
    "duration": 5,
    "start_time": "2022-02-26T14:40:53.373Z"
   },
   {
    "duration": 658,
    "start_time": "2022-02-26T14:40:53.381Z"
   },
   {
    "duration": 8,
    "start_time": "2022-02-26T14:40:54.041Z"
   },
   {
    "duration": 6,
    "start_time": "2022-02-26T14:40:54.051Z"
   },
   {
    "duration": 13,
    "start_time": "2022-02-26T14:40:54.074Z"
   },
   {
    "duration": 189,
    "start_time": "2022-02-26T14:40:54.091Z"
   },
   {
    "duration": 97,
    "start_time": "2022-02-26T14:40:54.284Z"
   },
   {
    "duration": 91,
    "start_time": "2022-02-26T14:40:54.384Z"
   },
   {
    "duration": 21941,
    "start_time": "2022-02-26T14:40:54.478Z"
   },
   {
    "duration": 63,
    "start_time": "2022-02-26T14:41:16.421Z"
   },
   {
    "duration": 32,
    "start_time": "2022-02-26T14:41:16.486Z"
   },
   {
    "duration": 80,
    "start_time": "2022-02-26T14:41:16.520Z"
   },
   {
    "duration": 4,
    "start_time": "2022-02-26T14:41:16.602Z"
   },
   {
    "duration": 2753,
    "start_time": "2022-02-26T14:41:16.609Z"
   },
   {
    "duration": 14,
    "start_time": "2022-02-26T14:41:19.365Z"
   },
   {
    "duration": 23,
    "start_time": "2022-02-26T14:41:19.382Z"
   },
   {
    "duration": 3,
    "start_time": "2022-02-26T14:41:39.790Z"
   },
   {
    "duration": 11,
    "start_time": "2022-02-26T14:41:42.836Z"
   },
   {
    "duration": 40,
    "start_time": "2022-02-26T14:41:45.934Z"
   },
   {
    "duration": 10,
    "start_time": "2022-02-26T14:41:48.583Z"
   },
   {
    "duration": 886,
    "start_time": "2022-02-26T14:42:05.852Z"
   },
   {
    "duration": 4813,
    "start_time": "2022-02-26T14:42:06.741Z"
   },
   {
    "duration": 28,
    "start_time": "2022-02-26T14:42:11.558Z"
   },
   {
    "duration": 31,
    "start_time": "2022-02-26T14:42:11.589Z"
   },
   {
    "duration": 1318,
    "start_time": "2022-02-26T14:42:11.622Z"
   },
   {
    "duration": 2650,
    "start_time": "2022-02-26T14:42:12.943Z"
   },
   {
    "duration": 233,
    "start_time": "2022-02-26T14:42:15.595Z"
   },
   {
    "duration": 11,
    "start_time": "2022-02-26T14:42:15.832Z"
   },
   {
    "duration": 35,
    "start_time": "2022-02-26T14:42:15.846Z"
   },
   {
    "duration": 7,
    "start_time": "2022-02-26T14:42:15.884Z"
   },
   {
    "duration": 590,
    "start_time": "2022-02-26T14:42:15.893Z"
   },
   {
    "duration": 59,
    "start_time": "2022-02-26T14:42:16.486Z"
   },
   {
    "duration": 641,
    "start_time": "2022-02-26T14:42:16.547Z"
   },
   {
    "duration": 45,
    "start_time": "2022-02-26T14:42:17.191Z"
   },
   {
    "duration": 92,
    "start_time": "2022-02-26T14:42:17.238Z"
   },
   {
    "duration": 794,
    "start_time": "2022-02-26T14:42:17.332Z"
   },
   {
    "duration": 20,
    "start_time": "2022-02-26T14:42:18.129Z"
   },
   {
    "duration": 41,
    "start_time": "2022-02-26T14:42:18.151Z"
   },
   {
    "duration": 56,
    "start_time": "2022-02-26T14:42:18.195Z"
   },
   {
    "duration": 576,
    "start_time": "2022-02-26T14:42:18.253Z"
   },
   {
    "duration": 9,
    "start_time": "2022-02-26T14:42:18.832Z"
   },
   {
    "duration": 68,
    "start_time": "2022-02-26T14:42:18.844Z"
   },
   {
    "duration": 28,
    "start_time": "2022-02-26T14:42:18.917Z"
   },
   {
    "duration": 41,
    "start_time": "2022-02-26T14:42:18.947Z"
   },
   {
    "duration": 25,
    "start_time": "2022-02-26T14:42:18.990Z"
   },
   {
    "duration": 73,
    "start_time": "2022-02-26T14:42:19.018Z"
   },
   {
    "duration": 121,
    "start_time": "2022-02-26T14:42:19.094Z"
   },
   {
    "duration": 6,
    "start_time": "2022-02-26T14:42:19.217Z"
   },
   {
    "duration": 20,
    "start_time": "2022-02-26T14:42:19.225Z"
   },
   {
    "duration": 30,
    "start_time": "2022-02-26T14:42:19.247Z"
   },
   {
    "duration": 666,
    "start_time": "2022-02-26T14:42:19.279Z"
   },
   {
    "duration": 7,
    "start_time": "2022-02-26T14:42:19.948Z"
   },
   {
    "duration": 15,
    "start_time": "2022-02-26T14:42:19.958Z"
   },
   {
    "duration": 13,
    "start_time": "2022-02-26T14:42:19.975Z"
   },
   {
    "duration": 186,
    "start_time": "2022-02-26T14:42:19.991Z"
   },
   {
    "duration": 99,
    "start_time": "2022-02-26T14:42:20.180Z"
   },
   {
    "duration": 99,
    "start_time": "2022-02-26T14:42:20.283Z"
   },
   {
    "duration": 21554,
    "start_time": "2022-02-26T14:42:20.385Z"
   },
   {
    "duration": 67,
    "start_time": "2022-02-26T14:42:41.942Z"
   },
   {
    "duration": 31,
    "start_time": "2022-02-26T14:42:42.012Z"
   },
   {
    "duration": 78,
    "start_time": "2022-02-26T14:42:42.045Z"
   },
   {
    "duration": 4,
    "start_time": "2022-02-26T14:42:42.125Z"
   },
   {
    "duration": 2807,
    "start_time": "2022-02-26T14:42:42.132Z"
   },
   {
    "duration": 9,
    "start_time": "2022-02-26T14:42:44.942Z"
   },
   {
    "duration": 15,
    "start_time": "2022-02-26T14:42:44.954Z"
   },
   {
    "duration": 1452,
    "start_time": "2022-02-26T14:43:24.433Z"
   },
   {
    "duration": 4993,
    "start_time": "2022-02-26T14:43:25.888Z"
   },
   {
    "duration": 14,
    "start_time": "2022-02-26T14:43:30.884Z"
   },
   {
    "duration": 43,
    "start_time": "2022-02-26T14:43:30.901Z"
   },
   {
    "duration": 1226,
    "start_time": "2022-02-26T14:43:30.946Z"
   },
   {
    "duration": 2632,
    "start_time": "2022-02-26T14:43:32.175Z"
   },
   {
    "duration": 232,
    "start_time": "2022-02-26T14:43:34.809Z"
   },
   {
    "duration": 27,
    "start_time": "2022-02-26T14:43:35.047Z"
   },
   {
    "duration": 19,
    "start_time": "2022-02-26T14:43:35.077Z"
   },
   {
    "duration": 13,
    "start_time": "2022-02-26T14:43:35.098Z"
   },
   {
    "duration": 591,
    "start_time": "2022-02-26T14:43:35.114Z"
   },
   {
    "duration": 58,
    "start_time": "2022-02-26T14:43:35.707Z"
   },
   {
    "duration": 611,
    "start_time": "2022-02-26T14:43:35.768Z"
   },
   {
    "duration": 43,
    "start_time": "2022-02-26T14:43:36.382Z"
   },
   {
    "duration": 90,
    "start_time": "2022-02-26T14:43:36.427Z"
   },
   {
    "duration": 798,
    "start_time": "2022-02-26T14:43:36.519Z"
   },
   {
    "duration": 19,
    "start_time": "2022-02-26T14:43:37.320Z"
   },
   {
    "duration": 43,
    "start_time": "2022-02-26T14:43:37.342Z"
   },
   {
    "duration": 56,
    "start_time": "2022-02-26T14:43:37.387Z"
   },
   {
    "duration": 560,
    "start_time": "2022-02-26T14:43:37.445Z"
   },
   {
    "duration": 8,
    "start_time": "2022-02-26T14:43:38.007Z"
   },
   {
    "duration": 67,
    "start_time": "2022-02-26T14:43:38.017Z"
   },
   {
    "duration": 29,
    "start_time": "2022-02-26T14:43:38.089Z"
   },
   {
    "duration": 21,
    "start_time": "2022-02-26T14:43:38.121Z"
   },
   {
    "duration": 26,
    "start_time": "2022-02-26T14:43:38.172Z"
   },
   {
    "duration": 45,
    "start_time": "2022-02-26T14:43:38.201Z"
   },
   {
    "duration": 144,
    "start_time": "2022-02-26T14:43:38.249Z"
   },
   {
    "duration": 6,
    "start_time": "2022-02-26T14:43:38.396Z"
   },
   {
    "duration": 22,
    "start_time": "2022-02-26T14:43:38.405Z"
   },
   {
    "duration": 6,
    "start_time": "2022-02-26T14:43:38.430Z"
   },
   {
    "duration": 670,
    "start_time": "2022-02-26T14:43:38.474Z"
   },
   {
    "duration": 8,
    "start_time": "2022-02-26T14:43:39.147Z"
   },
   {
    "duration": 16,
    "start_time": "2022-02-26T14:43:39.158Z"
   },
   {
    "duration": 17,
    "start_time": "2022-02-26T14:43:39.176Z"
   },
   {
    "duration": 86,
    "start_time": "2022-02-26T14:43:39.195Z"
   },
   {
    "duration": 194,
    "start_time": "2022-02-26T14:43:39.284Z"
   },
   {
    "duration": 104,
    "start_time": "2022-02-26T14:43:39.481Z"
   },
   {
    "duration": 20997,
    "start_time": "2022-02-26T14:43:39.588Z"
   },
   {
    "duration": 51,
    "start_time": "2022-02-26T14:44:00.588Z"
   },
   {
    "duration": 53,
    "start_time": "2022-02-26T14:44:00.642Z"
   },
   {
    "duration": 83,
    "start_time": "2022-02-26T14:44:00.698Z"
   },
   {
    "duration": 5,
    "start_time": "2022-02-26T14:44:00.783Z"
   },
   {
    "duration": 2618,
    "start_time": "2022-02-26T14:44:00.791Z"
   },
   {
    "duration": 9,
    "start_time": "2022-02-26T14:44:03.411Z"
   },
   {
    "duration": 11,
    "start_time": "2022-02-26T14:44:03.422Z"
   },
   {
    "duration": 813,
    "start_time": "2022-02-26T14:49:19.311Z"
   },
   {
    "duration": 4950,
    "start_time": "2022-02-26T14:49:20.127Z"
   },
   {
    "duration": 14,
    "start_time": "2022-02-26T14:49:25.079Z"
   },
   {
    "duration": 30,
    "start_time": "2022-02-26T14:49:25.096Z"
   },
   {
    "duration": 1209,
    "start_time": "2022-02-26T14:49:25.128Z"
   },
   {
    "duration": 2713,
    "start_time": "2022-02-26T14:49:26.339Z"
   },
   {
    "duration": 240,
    "start_time": "2022-02-26T14:49:29.055Z"
   },
   {
    "duration": 12,
    "start_time": "2022-02-26T14:49:29.299Z"
   },
   {
    "duration": 19,
    "start_time": "2022-02-26T14:49:29.313Z"
   },
   {
    "duration": 39,
    "start_time": "2022-02-26T14:49:29.334Z"
   },
   {
    "duration": 568,
    "start_time": "2022-02-26T14:49:29.375Z"
   },
   {
    "duration": 59,
    "start_time": "2022-02-26T14:49:29.945Z"
   },
   {
    "duration": 637,
    "start_time": "2022-02-26T14:49:30.006Z"
   },
   {
    "duration": 47,
    "start_time": "2022-02-26T14:49:30.646Z"
   },
   {
    "duration": 88,
    "start_time": "2022-02-26T14:49:30.696Z"
   },
   {
    "duration": 793,
    "start_time": "2022-02-26T14:49:30.786Z"
   },
   {
    "duration": 20,
    "start_time": "2022-02-26T14:49:31.582Z"
   },
   {
    "duration": 40,
    "start_time": "2022-02-26T14:49:31.604Z"
   },
   {
    "duration": 68,
    "start_time": "2022-02-26T14:49:31.646Z"
   },
   {
    "duration": 752,
    "start_time": "2022-02-26T14:49:31.716Z"
   },
   {
    "duration": 9,
    "start_time": "2022-02-26T14:49:32.474Z"
   },
   {
    "duration": 60,
    "start_time": "2022-02-26T14:49:32.485Z"
   },
   {
    "duration": 45,
    "start_time": "2022-02-26T14:49:32.550Z"
   },
   {
    "duration": 22,
    "start_time": "2022-02-26T14:49:32.598Z"
   },
   {
    "duration": 56,
    "start_time": "2022-02-26T14:49:32.623Z"
   },
   {
    "duration": 62,
    "start_time": "2022-02-26T14:49:32.682Z"
   },
   {
    "duration": 135,
    "start_time": "2022-02-26T14:49:32.746Z"
   },
   {
    "duration": 6,
    "start_time": "2022-02-26T14:49:32.884Z"
   },
   {
    "duration": 28,
    "start_time": "2022-02-26T14:49:32.893Z"
   },
   {
    "duration": 5,
    "start_time": "2022-02-26T14:49:32.924Z"
   },
   {
    "duration": 782,
    "start_time": "2022-02-26T14:49:32.931Z"
   },
   {
    "duration": 7,
    "start_time": "2022-02-26T14:49:33.716Z"
   },
   {
    "duration": 23,
    "start_time": "2022-02-26T14:49:33.726Z"
   },
   {
    "duration": 26,
    "start_time": "2022-02-26T14:49:33.752Z"
   },
   {
    "duration": 194,
    "start_time": "2022-02-26T14:49:33.782Z"
   },
   {
    "duration": 100,
    "start_time": "2022-02-26T14:49:33.979Z"
   },
   {
    "duration": 103,
    "start_time": "2022-02-26T14:49:34.082Z"
   },
   {
    "duration": 21545,
    "start_time": "2022-02-26T14:49:34.273Z"
   },
   {
    "duration": 70,
    "start_time": "2022-02-26T14:49:55.820Z"
   },
   {
    "duration": 31,
    "start_time": "2022-02-26T14:49:55.892Z"
   },
   {
    "duration": 3,
    "start_time": "2022-02-26T14:49:55.926Z"
   },
   {
    "duration": 2628,
    "start_time": "2022-02-26T14:49:55.932Z"
   },
   {
    "duration": 9,
    "start_time": "2022-02-26T14:49:58.563Z"
   },
   {
    "duration": 10,
    "start_time": "2022-02-26T14:49:58.574Z"
   },
   {
    "duration": 838,
    "start_time": "2022-02-26T15:21:15.829Z"
   },
   {
    "duration": 4847,
    "start_time": "2022-02-26T15:21:16.672Z"
   },
   {
    "duration": 14,
    "start_time": "2022-02-26T15:21:21.521Z"
   },
   {
    "duration": 53,
    "start_time": "2022-02-26T15:21:21.538Z"
   },
   {
    "duration": 1197,
    "start_time": "2022-02-26T15:21:21.594Z"
   },
   {
    "duration": 2583,
    "start_time": "2022-02-26T15:21:22.794Z"
   },
   {
    "duration": 224,
    "start_time": "2022-02-26T15:21:25.380Z"
   },
   {
    "duration": 11,
    "start_time": "2022-02-26T15:21:25.608Z"
   },
   {
    "duration": 19,
    "start_time": "2022-02-26T15:21:25.622Z"
   },
   {
    "duration": 36,
    "start_time": "2022-02-26T15:21:25.643Z"
   },
   {
    "duration": 719,
    "start_time": "2022-02-26T15:21:25.681Z"
   },
   {
    "duration": 76,
    "start_time": "2022-02-26T15:21:26.402Z"
   },
   {
    "duration": 640,
    "start_time": "2022-02-26T15:21:26.481Z"
   },
   {
    "duration": 42,
    "start_time": "2022-02-26T15:21:27.123Z"
   },
   {
    "duration": 82,
    "start_time": "2022-02-26T15:21:27.168Z"
   },
   {
    "duration": 803,
    "start_time": "2022-02-26T15:21:27.252Z"
   },
   {
    "duration": 29,
    "start_time": "2022-02-26T15:21:28.057Z"
   },
   {
    "duration": 38,
    "start_time": "2022-02-26T15:21:28.089Z"
   },
   {
    "duration": 69,
    "start_time": "2022-02-26T15:21:28.129Z"
   },
   {
    "duration": 550,
    "start_time": "2022-02-26T15:21:28.201Z"
   },
   {
    "duration": 8,
    "start_time": "2022-02-26T15:21:28.753Z"
   },
   {
    "duration": 47,
    "start_time": "2022-02-26T15:21:28.773Z"
   },
   {
    "duration": 50,
    "start_time": "2022-02-26T15:21:28.825Z"
   },
   {
    "duration": 23,
    "start_time": "2022-02-26T15:21:28.877Z"
   },
   {
    "duration": 25,
    "start_time": "2022-02-26T15:21:28.902Z"
   },
   {
    "duration": 78,
    "start_time": "2022-02-26T15:21:28.929Z"
   },
   {
    "duration": 127,
    "start_time": "2022-02-26T15:21:29.010Z"
   },
   {
    "duration": 6,
    "start_time": "2022-02-26T15:21:29.140Z"
   },
   {
    "duration": 39,
    "start_time": "2022-02-26T15:21:29.148Z"
   },
   {
    "duration": 5,
    "start_time": "2022-02-26T15:21:29.189Z"
   },
   {
    "duration": 695,
    "start_time": "2022-02-26T15:21:29.196Z"
   },
   {
    "duration": 7,
    "start_time": "2022-02-26T15:21:29.893Z"
   },
   {
    "duration": 8,
    "start_time": "2022-02-26T15:21:29.902Z"
   },
   {
    "duration": 62,
    "start_time": "2022-02-26T15:21:29.912Z"
   },
   {
    "duration": 100,
    "start_time": "2022-02-26T15:21:29.979Z"
   },
   {
    "duration": 98,
    "start_time": "2022-02-26T15:21:30.083Z"
   },
   {
    "duration": 190,
    "start_time": "2022-02-26T15:21:30.185Z"
   },
   {
    "duration": 20323,
    "start_time": "2022-02-26T15:21:30.378Z"
   },
   {
    "duration": 51,
    "start_time": "2022-02-26T15:21:50.703Z"
   },
   {
    "duration": 32,
    "start_time": "2022-02-26T15:21:50.773Z"
   },
   {
    "duration": 4,
    "start_time": "2022-02-26T15:21:50.807Z"
   },
   {
    "duration": 2783,
    "start_time": "2022-02-26T15:21:50.814Z"
   },
   {
    "duration": 12,
    "start_time": "2022-02-26T15:21:53.600Z"
   },
   {
    "duration": 11,
    "start_time": "2022-02-26T15:21:53.614Z"
   },
   {
    "duration": 842,
    "start_time": "2022-02-26T19:17:39.771Z"
   },
   {
    "duration": 4592,
    "start_time": "2022-02-26T19:17:40.616Z"
   },
   {
    "duration": 27,
    "start_time": "2022-02-26T19:17:45.211Z"
   },
   {
    "duration": 29,
    "start_time": "2022-02-26T19:17:45.240Z"
   },
   {
    "duration": 1118,
    "start_time": "2022-02-26T19:17:45.272Z"
   },
   {
    "duration": 2504,
    "start_time": "2022-02-26T19:17:46.392Z"
   },
   {
    "duration": 218,
    "start_time": "2022-02-26T19:17:48.899Z"
   },
   {
    "duration": 19,
    "start_time": "2022-02-26T19:17:49.123Z"
   },
   {
    "duration": 18,
    "start_time": "2022-02-26T19:17:49.145Z"
   },
   {
    "duration": 8,
    "start_time": "2022-02-26T19:17:49.166Z"
   },
   {
    "duration": 587,
    "start_time": "2022-02-26T19:17:49.177Z"
   },
   {
    "duration": 79,
    "start_time": "2022-02-26T19:17:49.767Z"
   },
   {
    "duration": 716,
    "start_time": "2022-02-26T19:17:49.848Z"
   },
   {
    "duration": 55,
    "start_time": "2022-02-26T19:17:50.566Z"
   },
   {
    "duration": 76,
    "start_time": "2022-02-26T19:17:50.623Z"
   },
   {
    "duration": 857,
    "start_time": "2022-02-26T19:17:50.702Z"
   },
   {
    "duration": 19,
    "start_time": "2022-02-26T19:17:51.562Z"
   },
   {
    "duration": 54,
    "start_time": "2022-02-26T19:17:51.584Z"
   },
   {
    "duration": 53,
    "start_time": "2022-02-26T19:17:51.640Z"
   },
   {
    "duration": 542,
    "start_time": "2022-02-26T19:17:51.696Z"
   },
   {
    "duration": 8,
    "start_time": "2022-02-26T19:17:52.240Z"
   },
   {
    "duration": 42,
    "start_time": "2022-02-26T19:17:52.251Z"
   },
   {
    "duration": 54,
    "start_time": "2022-02-26T19:17:52.298Z"
   },
   {
    "duration": 21,
    "start_time": "2022-02-26T19:17:52.355Z"
   },
   {
    "duration": 24,
    "start_time": "2022-02-26T19:17:52.378Z"
   },
   {
    "duration": 43,
    "start_time": "2022-02-26T19:17:52.432Z"
   },
   {
    "duration": 128,
    "start_time": "2022-02-26T19:17:52.478Z"
   },
   {
    "duration": 5,
    "start_time": "2022-02-26T19:17:52.609Z"
   },
   {
    "duration": 18,
    "start_time": "2022-02-26T19:17:52.632Z"
   },
   {
    "duration": 5,
    "start_time": "2022-02-26T19:17:52.652Z"
   },
   {
    "duration": 1501,
    "start_time": "2022-02-26T19:17:52.659Z"
   },
   {
    "duration": 7,
    "start_time": "2022-02-26T19:17:54.163Z"
   },
   {
    "duration": 109,
    "start_time": "2022-02-26T19:17:54.173Z"
   },
   {
    "duration": -62,
    "start_time": "2022-02-26T19:17:54.347Z"
   },
   {
    "duration": -63,
    "start_time": "2022-02-26T19:17:54.349Z"
   },
   {
    "duration": -63,
    "start_time": "2022-02-26T19:17:54.351Z"
   },
   {
    "duration": -73,
    "start_time": "2022-02-26T19:17:54.362Z"
   },
   {
    "duration": -77,
    "start_time": "2022-02-26T19:17:54.367Z"
   },
   {
    "duration": -79,
    "start_time": "2022-02-26T19:17:54.370Z"
   },
   {
    "duration": -80,
    "start_time": "2022-02-26T19:17:54.373Z"
   },
   {
    "duration": -133,
    "start_time": "2022-02-26T19:17:54.427Z"
   },
   {
    "duration": -138,
    "start_time": "2022-02-26T19:17:54.434Z"
   },
   {
    "duration": -140,
    "start_time": "2022-02-26T19:17:54.437Z"
   },
   {
    "duration": -139,
    "start_time": "2022-02-26T19:17:54.438Z"
   },
   {
    "duration": -140,
    "start_time": "2022-02-26T19:17:54.440Z"
   },
   {
    "duration": -140,
    "start_time": "2022-02-26T19:17:54.442Z"
   },
   {
    "duration": 281,
    "start_time": "2022-02-26T19:19:40.026Z"
   },
   {
    "duration": 4,
    "start_time": "2022-02-26T19:19:55.043Z"
   },
   {
    "duration": 4,
    "start_time": "2022-02-26T19:20:10.770Z"
   },
   {
    "duration": 4,
    "start_time": "2022-02-26T19:20:12.986Z"
   },
   {
    "duration": 11,
    "start_time": "2022-02-26T19:20:13.844Z"
   },
   {
    "duration": 9,
    "start_time": "2022-02-26T19:20:15.835Z"
   },
   {
    "duration": 5,
    "start_time": "2022-02-26T19:22:02.033Z"
   },
   {
    "duration": 4,
    "start_time": "2022-02-26T19:22:03.747Z"
   },
   {
    "duration": 11,
    "start_time": "2022-02-26T19:22:04.355Z"
   },
   {
    "duration": 70,
    "start_time": "2022-02-26T19:22:05.763Z"
   },
   {
    "duration": 862,
    "start_time": "2022-02-26T19:23:06.935Z"
   },
   {
    "duration": 4546,
    "start_time": "2022-02-26T19:23:07.800Z"
   },
   {
    "duration": 13,
    "start_time": "2022-02-26T19:23:12.349Z"
   },
   {
    "duration": 29,
    "start_time": "2022-02-26T19:23:12.364Z"
   },
   {
    "duration": 1145,
    "start_time": "2022-02-26T19:23:12.395Z"
   },
   {
    "duration": 2530,
    "start_time": "2022-02-26T19:23:13.543Z"
   },
   {
    "duration": 232,
    "start_time": "2022-02-26T19:23:16.076Z"
   },
   {
    "duration": 23,
    "start_time": "2022-02-26T19:23:16.312Z"
   },
   {
    "duration": 19,
    "start_time": "2022-02-26T19:23:16.338Z"
   },
   {
    "duration": 7,
    "start_time": "2022-02-26T19:23:16.359Z"
   },
   {
    "duration": 605,
    "start_time": "2022-02-26T19:23:16.368Z"
   },
   {
    "duration": 93,
    "start_time": "2022-02-26T19:23:16.975Z"
   },
   {
    "duration": 633,
    "start_time": "2022-02-26T19:23:17.070Z"
   },
   {
    "duration": 52,
    "start_time": "2022-02-26T19:23:17.705Z"
   },
   {
    "duration": 76,
    "start_time": "2022-02-26T19:23:17.760Z"
   },
   {
    "duration": 893,
    "start_time": "2022-02-26T19:23:17.839Z"
   },
   {
    "duration": 19,
    "start_time": "2022-02-26T19:23:18.735Z"
   },
   {
    "duration": 55,
    "start_time": "2022-02-26T19:23:18.757Z"
   },
   {
    "duration": 53,
    "start_time": "2022-02-26T19:23:18.814Z"
   },
   {
    "duration": 533,
    "start_time": "2022-02-26T19:23:18.870Z"
   },
   {
    "duration": 7,
    "start_time": "2022-02-26T19:23:19.406Z"
   },
   {
    "duration": 57,
    "start_time": "2022-02-26T19:23:19.416Z"
   },
   {
    "duration": 27,
    "start_time": "2022-02-26T19:23:19.478Z"
   },
   {
    "duration": 23,
    "start_time": "2022-02-26T19:23:19.533Z"
   },
   {
    "duration": 26,
    "start_time": "2022-02-26T19:23:19.559Z"
   },
   {
    "duration": 72,
    "start_time": "2022-02-26T19:23:19.588Z"
   },
   {
    "duration": 121,
    "start_time": "2022-02-26T19:23:19.662Z"
   },
   {
    "duration": 5,
    "start_time": "2022-02-26T19:23:19.786Z"
   },
   {
    "duration": 40,
    "start_time": "2022-02-26T19:23:19.793Z"
   },
   {
    "duration": 5,
    "start_time": "2022-02-26T19:23:19.835Z"
   },
   {
    "duration": 695,
    "start_time": "2022-02-26T19:23:19.843Z"
   },
   {
    "duration": 7,
    "start_time": "2022-02-26T19:23:20.541Z"
   },
   {
    "duration": 7,
    "start_time": "2022-02-26T19:23:20.550Z"
   },
   {
    "duration": 5,
    "start_time": "2022-02-26T19:23:20.559Z"
   },
   {
    "duration": 67,
    "start_time": "2022-02-26T19:23:20.566Z"
   },
   {
    "duration": 203,
    "start_time": "2022-02-26T19:23:20.636Z"
   },
   {
    "duration": 88,
    "start_time": "2022-02-26T19:23:20.845Z"
   },
   {
    "duration": 20475,
    "start_time": "2022-02-26T19:23:20.936Z"
   },
   {
    "duration": 87,
    "start_time": "2022-02-26T19:23:41.413Z"
   },
   {
    "duration": 6,
    "start_time": "2022-02-26T19:23:41.502Z"
   },
   {
    "duration": 2868,
    "start_time": "2022-02-26T19:23:41.511Z"
   },
   {
    "duration": 28,
    "start_time": "2022-02-26T19:23:44.381Z"
   },
   {
    "duration": 793,
    "start_time": "2022-02-26T19:25:18.381Z"
   },
   {
    "duration": 4572,
    "start_time": "2022-02-26T19:25:19.176Z"
   },
   {
    "duration": 14,
    "start_time": "2022-02-26T19:25:23.751Z"
   },
   {
    "duration": 32,
    "start_time": "2022-02-26T19:25:23.768Z"
   },
   {
    "duration": 1172,
    "start_time": "2022-02-26T19:25:23.802Z"
   },
   {
    "duration": 2593,
    "start_time": "2022-02-26T19:25:24.977Z"
   },
   {
    "duration": 231,
    "start_time": "2022-02-26T19:25:27.573Z"
   },
   {
    "duration": 10,
    "start_time": "2022-02-26T19:25:27.807Z"
   },
   {
    "duration": 19,
    "start_time": "2022-02-26T19:25:27.833Z"
   },
   {
    "duration": 8,
    "start_time": "2022-02-26T19:25:27.854Z"
   },
   {
    "duration": 574,
    "start_time": "2022-02-26T19:25:27.864Z"
   },
   {
    "duration": 77,
    "start_time": "2022-02-26T19:25:28.441Z"
   },
   {
    "duration": 583,
    "start_time": "2022-02-26T19:25:28.521Z"
   },
   {
    "duration": 57,
    "start_time": "2022-02-26T19:25:29.107Z"
   },
   {
    "duration": 78,
    "start_time": "2022-02-26T19:25:29.166Z"
   },
   {
    "duration": 779,
    "start_time": "2022-02-26T19:25:29.246Z"
   },
   {
    "duration": 20,
    "start_time": "2022-02-26T19:25:30.031Z"
   },
   {
    "duration": 57,
    "start_time": "2022-02-26T19:25:30.054Z"
   },
   {
    "duration": 56,
    "start_time": "2022-02-26T19:25:30.114Z"
   },
   {
    "duration": 542,
    "start_time": "2022-02-26T19:25:30.173Z"
   },
   {
    "duration": 16,
    "start_time": "2022-02-26T19:25:30.718Z"
   },
   {
    "duration": 49,
    "start_time": "2022-02-26T19:25:30.737Z"
   },
   {
    "duration": 50,
    "start_time": "2022-02-26T19:25:30.791Z"
   },
   {
    "duration": 21,
    "start_time": "2022-02-26T19:25:30.844Z"
   },
   {
    "duration": 25,
    "start_time": "2022-02-26T19:25:30.868Z"
   },
   {
    "duration": 77,
    "start_time": "2022-02-26T19:25:30.895Z"
   },
   {
    "duration": 126,
    "start_time": "2022-02-26T19:25:30.975Z"
   },
   {
    "duration": 6,
    "start_time": "2022-02-26T19:25:31.104Z"
   },
   {
    "duration": 32,
    "start_time": "2022-02-26T19:25:31.113Z"
   },
   {
    "duration": 6,
    "start_time": "2022-02-26T19:25:31.147Z"
   },
   {
    "duration": 680,
    "start_time": "2022-02-26T19:25:31.155Z"
   },
   {
    "duration": 7,
    "start_time": "2022-02-26T19:25:31.837Z"
   },
   {
    "duration": 8,
    "start_time": "2022-02-26T19:25:31.847Z"
   },
   {
    "duration": 7,
    "start_time": "2022-02-26T19:25:31.857Z"
   },
   {
    "duration": 67,
    "start_time": "2022-02-26T19:25:31.866Z"
   },
   {
    "duration": 197,
    "start_time": "2022-02-26T19:25:31.937Z"
   },
   {
    "duration": 95,
    "start_time": "2022-02-26T19:25:32.138Z"
   },
   {
    "duration": 19743,
    "start_time": "2022-02-26T19:25:32.235Z"
   },
   {
    "duration": 88,
    "start_time": "2022-02-26T19:25:51.981Z"
   },
   {
    "duration": 4,
    "start_time": "2022-02-26T19:25:52.071Z"
   },
   {
    "duration": 2856,
    "start_time": "2022-02-26T19:25:52.077Z"
   },
   {
    "duration": 18,
    "start_time": "2022-02-26T19:25:54.936Z"
   },
   {
    "duration": 4,
    "start_time": "2022-02-26T19:43:43.072Z"
   },
   {
    "duration": 4,
    "start_time": "2022-02-26T19:46:27.109Z"
   },
   {
    "duration": 4,
    "start_time": "2022-02-26T19:46:29.406Z"
   },
   {
    "duration": 7,
    "start_time": "2022-02-26T19:47:12.831Z"
   },
   {
    "duration": 4,
    "start_time": "2022-02-26T19:48:35.936Z"
   },
   {
    "duration": 15103,
    "start_time": "2022-02-26T19:49:10.854Z"
   },
   {
    "duration": 5,
    "start_time": "2022-02-26T19:50:16.848Z"
   },
   {
    "duration": 9,
    "start_time": "2022-02-26T19:51:32.053Z"
   },
   {
    "duration": 6,
    "start_time": "2022-02-26T19:52:15.101Z"
   },
   {
    "duration": 6,
    "start_time": "2022-02-26T19:53:01.070Z"
   },
   {
    "duration": 741,
    "start_time": "2022-02-26T19:53:17.781Z"
   },
   {
    "duration": 165,
    "start_time": "2022-02-26T19:53:38.774Z"
   },
   {
    "duration": 4,
    "start_time": "2022-02-26T19:56:34.716Z"
   },
   {
    "duration": 4,
    "start_time": "2022-02-26T19:56:36.733Z"
   },
   {
    "duration": 15171,
    "start_time": "2022-02-26T19:56:41.236Z"
   },
   {
    "duration": 4,
    "start_time": "2022-02-26T19:57:04.157Z"
   },
   {
    "duration": 167,
    "start_time": "2022-02-26T19:57:06.981Z"
   },
   {
    "duration": 15042,
    "start_time": "2022-02-26T19:57:17.964Z"
   },
   {
    "duration": 15152,
    "start_time": "2022-02-26T19:57:40.340Z"
   },
   {
    "duration": 5,
    "start_time": "2022-02-26T19:58:05.397Z"
   },
   {
    "duration": 178,
    "start_time": "2022-02-26T19:58:15.445Z"
   },
   {
    "duration": 3,
    "start_time": "2022-02-26T19:58:55.717Z"
   },
   {
    "duration": 5,
    "start_time": "2022-02-26T19:58:56.523Z"
   },
   {
    "duration": 27014,
    "start_time": "2022-02-26T19:58:57.515Z"
   },
   {
    "duration": 5,
    "start_time": "2022-02-26T19:59:27.772Z"
   },
   {
    "duration": 268,
    "start_time": "2022-02-26T19:59:31.321Z"
   },
   {
    "duration": 4,
    "start_time": "2022-02-26T20:00:40.876Z"
   },
   {
    "duration": 4,
    "start_time": "2022-02-26T20:00:41.971Z"
   },
   {
    "duration": 23811,
    "start_time": "2022-02-26T20:00:43.203Z"
   },
   {
    "duration": 6,
    "start_time": "2022-02-26T20:01:11.733Z"
   },
   {
    "duration": 58,
    "start_time": "2022-02-26T20:01:20.733Z"
   },
   {
    "duration": 3,
    "start_time": "2022-02-26T20:01:36.372Z"
   },
   {
    "duration": 35530,
    "start_time": "2022-02-26T20:01:37.404Z"
   },
   {
    "duration": 6,
    "start_time": "2022-02-26T20:02:16.819Z"
   },
   {
    "duration": 100,
    "start_time": "2022-02-26T20:02:23.750Z"
   },
   {
    "duration": 4,
    "start_time": "2022-02-26T20:02:33.292Z"
   },
   {
    "duration": 46760,
    "start_time": "2022-02-26T20:02:34.082Z"
   },
   {
    "duration": 5,
    "start_time": "2022-02-26T20:03:26.580Z"
   },
   {
    "duration": 103,
    "start_time": "2022-02-26T20:03:30.781Z"
   },
   {
    "duration": 4,
    "start_time": "2022-02-26T20:04:12.453Z"
   },
   {
    "duration": 25501,
    "start_time": "2022-02-26T20:04:13.333Z"
   },
   {
    "duration": 4,
    "start_time": "2022-02-26T20:04:47.613Z"
   },
   {
    "duration": 23909,
    "start_time": "2022-02-26T20:04:48.628Z"
   },
   {
    "duration": 4,
    "start_time": "2022-02-26T20:05:12.540Z"
   },
   {
    "duration": 288,
    "start_time": "2022-02-26T20:05:23.741Z"
   },
   {
    "duration": 4,
    "start_time": "2022-02-26T20:05:40.547Z"
   },
   {
    "duration": 23007,
    "start_time": "2022-02-26T20:05:44.509Z"
   },
   {
    "duration": 6,
    "start_time": "2022-02-26T20:06:13.963Z"
   },
   {
    "duration": 61,
    "start_time": "2022-02-26T20:06:17.022Z"
   },
   {
    "duration": 4,
    "start_time": "2022-02-26T20:07:14.315Z"
   },
   {
    "duration": 309545,
    "start_time": "2022-02-26T20:07:15.803Z"
   },
   {
    "duration": 5,
    "start_time": "2022-02-26T20:12:29.939Z"
   },
   {
    "duration": 134,
    "start_time": "2022-02-26T20:12:32.772Z"
   },
   {
    "duration": 838,
    "start_time": "2022-02-26T20:13:39.021Z"
   },
   {
    "duration": 5196,
    "start_time": "2022-02-26T20:13:39.861Z"
   },
   {
    "duration": 15,
    "start_time": "2022-02-26T20:13:45.060Z"
   },
   {
    "duration": 63,
    "start_time": "2022-02-26T20:13:45.078Z"
   },
   {
    "duration": 1133,
    "start_time": "2022-02-26T20:13:45.144Z"
   },
   {
    "duration": 2710,
    "start_time": "2022-02-26T20:13:46.279Z"
   },
   {
    "duration": 225,
    "start_time": "2022-02-26T20:13:48.991Z"
   },
   {
    "duration": 21,
    "start_time": "2022-02-26T20:13:49.220Z"
   },
   {
    "duration": 17,
    "start_time": "2022-02-26T20:13:49.244Z"
   },
   {
    "duration": 6,
    "start_time": "2022-02-26T20:13:49.264Z"
   },
   {
    "duration": 576,
    "start_time": "2022-02-26T20:13:49.273Z"
   },
   {
    "duration": 77,
    "start_time": "2022-02-26T20:13:49.852Z"
   },
   {
    "duration": 644,
    "start_time": "2022-02-26T20:13:49.932Z"
   },
   {
    "duration": 53,
    "start_time": "2022-02-26T20:13:50.579Z"
   },
   {
    "duration": 79,
    "start_time": "2022-02-26T20:13:50.634Z"
   },
   {
    "duration": 730,
    "start_time": "2022-02-26T20:13:50.732Z"
   },
   {
    "duration": 21,
    "start_time": "2022-02-26T20:13:51.465Z"
   },
   {
    "duration": 57,
    "start_time": "2022-02-26T20:13:51.488Z"
   },
   {
    "duration": 56,
    "start_time": "2022-02-26T20:13:51.547Z"
   },
   {
    "duration": 540,
    "start_time": "2022-02-26T20:13:51.606Z"
   },
   {
    "duration": 8,
    "start_time": "2022-02-26T20:13:52.149Z"
   },
   {
    "duration": 51,
    "start_time": "2022-02-26T20:13:52.159Z"
   },
   {
    "duration": 41,
    "start_time": "2022-02-26T20:13:52.215Z"
   },
   {
    "duration": 20,
    "start_time": "2022-02-26T20:13:52.258Z"
   },
   {
    "duration": 53,
    "start_time": "2022-02-26T20:13:52.280Z"
   },
   {
    "duration": 44,
    "start_time": "2022-02-26T20:13:52.335Z"
   },
   {
    "duration": 132,
    "start_time": "2022-02-26T20:13:52.381Z"
   },
   {
    "duration": 16,
    "start_time": "2022-02-26T20:13:52.516Z"
   },
   {
    "duration": 29,
    "start_time": "2022-02-26T20:13:52.535Z"
   },
   {
    "duration": 7,
    "start_time": "2022-02-26T20:13:52.567Z"
   },
   {
    "duration": 641,
    "start_time": "2022-02-26T20:13:52.577Z"
   },
   {
    "duration": 13,
    "start_time": "2022-02-26T20:13:53.220Z"
   },
   {
    "duration": 10,
    "start_time": "2022-02-26T20:13:53.236Z"
   },
   {
    "duration": 17,
    "start_time": "2022-02-26T20:13:53.248Z"
   },
   {
    "duration": 14,
    "start_time": "2022-02-26T20:13:53.267Z"
   },
   {
    "duration": 199,
    "start_time": "2022-02-26T20:13:53.334Z"
   },
   {
    "duration": 97,
    "start_time": "2022-02-26T20:13:53.536Z"
   },
   {
    "duration": 9,
    "start_time": "2022-02-26T20:13:53.635Z"
   },
   {
    "duration": 60849,
    "start_time": "2022-02-26T20:13:53.647Z"
   },
   {
    "duration": 6,
    "start_time": "2022-02-26T20:14:54.499Z"
   },
   {
    "duration": 56,
    "start_time": "2022-02-26T20:14:54.508Z"
   },
   {
    "duration": 5,
    "start_time": "2022-02-26T20:14:54.567Z"
   },
   {
    "duration": 2845,
    "start_time": "2022-02-26T20:14:54.574Z"
   },
   {
    "duration": 20,
    "start_time": "2022-02-26T20:14:57.421Z"
   },
   {
    "duration": 4,
    "start_time": "2022-02-26T20:15:29.824Z"
   },
   {
    "duration": 4,
    "start_time": "2022-02-26T20:15:30.920Z"
   },
   {
    "duration": 41986,
    "start_time": "2022-02-26T20:15:31.607Z"
   },
   {
    "duration": 5,
    "start_time": "2022-02-26T20:16:17.752Z"
   },
   {
    "duration": 33,
    "start_time": "2022-02-26T20:16:26.687Z"
   },
   {
    "duration": 4,
    "start_time": "2022-02-26T20:16:43.200Z"
   },
   {
    "duration": 4,
    "start_time": "2022-02-26T20:16:43.984Z"
   },
   {
    "duration": 90952,
    "start_time": "2022-02-26T20:16:44.600Z"
   },
   {
    "duration": 5,
    "start_time": "2022-02-26T20:18:21.111Z"
   },
   {
    "duration": 170,
    "start_time": "2022-02-26T20:18:30.017Z"
   },
   {
    "duration": 51894,
    "start_time": "2022-02-26T20:29:04.869Z"
   },
   {
    "duration": 6,
    "start_time": "2022-02-26T20:30:47.125Z"
   },
   {
    "duration": 440,
    "start_time": "2022-02-26T20:31:15.822Z"
   },
   {
    "duration": 534,
    "start_time": "2022-02-26T20:31:37.807Z"
   },
   {
    "duration": 666,
    "start_time": "2022-02-26T20:31:50.669Z"
   },
   {
    "duration": 51,
    "start_time": "2022-02-26T20:32:31.918Z"
   },
   {
    "duration": 69685,
    "start_time": "2022-02-26T20:33:39.989Z"
   },
   {
    "duration": 6,
    "start_time": "2022-02-26T20:34:58.684Z"
   },
   {
    "duration": 753,
    "start_time": "2022-02-26T20:35:07.700Z"
   },
   {
    "duration": 41,
    "start_time": "2022-02-26T20:35:11.525Z"
   },
   {
    "duration": 72737,
    "start_time": "2022-02-26T20:36:12.852Z"
   },
   {
    "duration": 5,
    "start_time": "2022-02-26T20:37:39.596Z"
   },
   {
    "duration": 647,
    "start_time": "2022-02-26T20:37:49.046Z"
   },
   {
    "duration": 20,
    "start_time": "2022-02-26T20:38:00.956Z"
   },
   {
    "duration": 6,
    "start_time": "2022-02-26T20:41:09.709Z"
   },
   {
    "duration": 7,
    "start_time": "2022-02-26T20:41:12.027Z"
   },
   {
    "duration": 7,
    "start_time": "2022-02-26T20:41:29.699Z"
   },
   {
    "duration": 2393,
    "start_time": "2022-02-26T20:43:31.445Z"
   },
   {
    "duration": 1199,
    "start_time": "2022-02-26T20:43:47.592Z"
   },
   {
    "duration": 4902,
    "start_time": "2022-02-26T20:43:48.793Z"
   },
   {
    "duration": 13,
    "start_time": "2022-02-26T20:43:53.698Z"
   },
   {
    "duration": 35,
    "start_time": "2022-02-26T20:43:53.732Z"
   },
   {
    "duration": 1169,
    "start_time": "2022-02-26T20:43:53.770Z"
   },
   {
    "duration": 2766,
    "start_time": "2022-02-26T20:43:54.942Z"
   },
   {
    "duration": 231,
    "start_time": "2022-02-26T20:43:57.711Z"
   },
   {
    "duration": 12,
    "start_time": "2022-02-26T20:43:57.950Z"
   },
   {
    "duration": 19,
    "start_time": "2022-02-26T20:43:57.964Z"
   },
   {
    "duration": 7,
    "start_time": "2022-02-26T20:43:57.985Z"
   },
   {
    "duration": 599,
    "start_time": "2022-02-26T20:43:57.994Z"
   },
   {
    "duration": 91,
    "start_time": "2022-02-26T20:43:58.596Z"
   },
   {
    "duration": 610,
    "start_time": "2022-02-26T20:43:58.689Z"
   },
   {
    "duration": 57,
    "start_time": "2022-02-26T20:43:59.301Z"
   },
   {
    "duration": 89,
    "start_time": "2022-02-26T20:43:59.361Z"
   },
   {
    "duration": 779,
    "start_time": "2022-02-26T20:43:59.453Z"
   },
   {
    "duration": 23,
    "start_time": "2022-02-26T20:44:00.235Z"
   },
   {
    "duration": 57,
    "start_time": "2022-02-26T20:44:00.261Z"
   },
   {
    "duration": 57,
    "start_time": "2022-02-26T20:44:00.320Z"
   },
   {
    "duration": 599,
    "start_time": "2022-02-26T20:44:00.380Z"
   },
   {
    "duration": 8,
    "start_time": "2022-02-26T20:44:00.982Z"
   },
   {
    "duration": 70,
    "start_time": "2022-02-26T20:44:00.992Z"
   },
   {
    "duration": 29,
    "start_time": "2022-02-26T20:44:01.068Z"
   },
   {
    "duration": 46,
    "start_time": "2022-02-26T20:44:01.101Z"
   },
   {
    "duration": 40,
    "start_time": "2022-02-26T20:44:01.150Z"
   },
   {
    "duration": 67,
    "start_time": "2022-02-26T20:44:01.193Z"
   },
   {
    "duration": 138,
    "start_time": "2022-02-26T20:44:01.262Z"
   },
   {
    "duration": 6,
    "start_time": "2022-02-26T20:44:01.402Z"
   },
   {
    "duration": 43,
    "start_time": "2022-02-26T20:44:01.411Z"
   },
   {
    "duration": 9,
    "start_time": "2022-02-26T20:44:01.458Z"
   },
   {
    "duration": 757,
    "start_time": "2022-02-26T20:44:01.469Z"
   },
   {
    "duration": 10,
    "start_time": "2022-02-26T20:44:02.228Z"
   },
   {
    "duration": 18,
    "start_time": "2022-02-26T20:44:02.241Z"
   },
   {
    "duration": 9,
    "start_time": "2022-02-26T20:44:02.262Z"
   },
   {
    "duration": 15,
    "start_time": "2022-02-26T20:44:02.273Z"
   },
   {
    "duration": 205,
    "start_time": "2022-02-26T20:44:02.335Z"
   },
   {
    "duration": 92,
    "start_time": "2022-02-26T20:44:02.544Z"
   },
   {
    "duration": 10,
    "start_time": "2022-02-26T20:44:02.640Z"
   },
   {
    "duration": 90153,
    "start_time": "2022-02-26T20:44:02.653Z"
   },
   {
    "duration": 5,
    "start_time": "2022-02-26T20:45:32.808Z"
   },
   {
    "duration": 196,
    "start_time": "2022-02-26T20:45:32.815Z"
   },
   {
    "duration": 74107,
    "start_time": "2022-02-26T20:45:33.013Z"
   },
   {
    "duration": 5,
    "start_time": "2022-02-26T20:46:47.122Z"
   },
   {
    "duration": 31,
    "start_time": "2022-02-26T20:46:47.130Z"
   },
   {
    "duration": 657,
    "start_time": "2022-02-26T20:46:47.164Z"
   },
   {
    "duration": 13,
    "start_time": "2022-02-26T20:46:47.823Z"
   },
   {
    "duration": 13,
    "start_time": "2022-02-26T20:46:47.839Z"
   },
   {
    "duration": 484,
    "start_time": "2022-02-26T20:50:45.997Z"
   },
   {
    "duration": 8,
    "start_time": "2022-02-26T20:50:52.359Z"
   },
   {
    "duration": 72571,
    "start_time": "2022-02-26T20:50:56.277Z"
   },
   {
    "duration": 5,
    "start_time": "2022-02-26T20:52:14.470Z"
   },
   {
    "duration": 2882,
    "start_time": "2022-02-26T20:52:19.020Z"
   },
   {
    "duration": 19,
    "start_time": "2022-02-26T20:52:28.597Z"
   },
   {
    "duration": 631,
    "start_time": "2022-02-26T20:52:43.197Z"
   },
   {
    "duration": 321,
    "start_time": "2022-02-26T20:53:57.736Z"
   },
   {
    "duration": 849,
    "start_time": "2022-02-26T20:54:07.768Z"
   },
   {
    "duration": 4762,
    "start_time": "2022-02-26T20:54:08.619Z"
   },
   {
    "duration": 13,
    "start_time": "2022-02-26T20:54:13.384Z"
   },
   {
    "duration": 58,
    "start_time": "2022-02-26T20:54:13.400Z"
   },
   {
    "duration": 1153,
    "start_time": "2022-02-26T20:54:13.461Z"
   },
   {
    "duration": 2592,
    "start_time": "2022-02-26T20:54:14.616Z"
   },
   {
    "duration": 217,
    "start_time": "2022-02-26T20:54:17.210Z"
   },
   {
    "duration": 15,
    "start_time": "2022-02-26T20:54:17.433Z"
   },
   {
    "duration": 19,
    "start_time": "2022-02-26T20:54:17.452Z"
   },
   {
    "duration": 7,
    "start_time": "2022-02-26T20:54:17.474Z"
   },
   {
    "duration": 587,
    "start_time": "2022-02-26T20:54:17.483Z"
   },
   {
    "duration": 84,
    "start_time": "2022-02-26T20:54:18.073Z"
   },
   {
    "duration": 613,
    "start_time": "2022-02-26T20:54:18.160Z"
   },
   {
    "duration": 54,
    "start_time": "2022-02-26T20:54:18.775Z"
   },
   {
    "duration": 82,
    "start_time": "2022-02-26T20:54:18.831Z"
   },
   {
    "duration": 744,
    "start_time": "2022-02-26T20:54:18.916Z"
   },
   {
    "duration": 19,
    "start_time": "2022-02-26T20:54:19.662Z"
   },
   {
    "duration": 62,
    "start_time": "2022-02-26T20:54:19.683Z"
   },
   {
    "duration": 54,
    "start_time": "2022-02-26T20:54:19.747Z"
   },
   {
    "duration": 542,
    "start_time": "2022-02-26T20:54:19.804Z"
   },
   {
    "duration": 8,
    "start_time": "2022-02-26T20:54:20.349Z"
   },
   {
    "duration": 51,
    "start_time": "2022-02-26T20:54:20.360Z"
   },
   {
    "duration": 34,
    "start_time": "2022-02-26T20:54:20.432Z"
   },
   {
    "duration": 21,
    "start_time": "2022-02-26T20:54:20.468Z"
   },
   {
    "duration": 56,
    "start_time": "2022-02-26T20:54:20.492Z"
   },
   {
    "duration": 45,
    "start_time": "2022-02-26T20:54:20.550Z"
   },
   {
    "duration": 124,
    "start_time": "2022-02-26T20:54:20.600Z"
   },
   {
    "duration": 7,
    "start_time": "2022-02-26T20:54:20.731Z"
   },
   {
    "duration": 29,
    "start_time": "2022-02-26T20:54:20.740Z"
   },
   {
    "duration": 5,
    "start_time": "2022-02-26T20:54:20.771Z"
   },
   {
    "duration": 653,
    "start_time": "2022-02-26T20:54:20.778Z"
   },
   {
    "duration": 8,
    "start_time": "2022-02-26T20:54:21.434Z"
   },
   {
    "duration": 5,
    "start_time": "2022-02-26T20:54:21.447Z"
   },
   {
    "duration": 5,
    "start_time": "2022-02-26T20:54:21.454Z"
   },
   {
    "duration": 71,
    "start_time": "2022-02-26T20:54:21.461Z"
   },
   {
    "duration": 115,
    "start_time": "2022-02-26T20:54:21.535Z"
   },
   {
    "duration": 18,
    "start_time": "2022-02-26T20:54:21.732Z"
   },
   {
    "duration": 7,
    "start_time": "2022-02-26T20:54:21.753Z"
   },
   {
    "duration": 89441,
    "start_time": "2022-02-26T20:54:21.763Z"
   },
   {
    "duration": 25,
    "start_time": "2022-02-26T20:55:51.207Z"
   },
   {
    "duration": 175,
    "start_time": "2022-02-26T20:55:51.235Z"
   },
   {
    "duration": 82082,
    "start_time": "2022-02-26T20:55:51.413Z"
   },
   {
    "duration": 6,
    "start_time": "2022-02-26T20:57:13.498Z"
   },
   {
    "duration": 18,
    "start_time": "2022-02-26T20:57:13.506Z"
   },
   {
    "duration": 642,
    "start_time": "2022-02-26T20:57:13.526Z"
   },
   {
    "duration": 5,
    "start_time": "2022-02-26T20:57:14.170Z"
   },
   {
    "duration": 9,
    "start_time": "2022-02-26T20:57:14.177Z"
   },
   {
    "duration": 70965,
    "start_time": "2022-02-26T20:57:14.188Z"
   },
   {
    "duration": 5,
    "start_time": "2022-02-26T20:58:25.156Z"
   },
   {
    "duration": 21,
    "start_time": "2022-02-26T20:58:25.163Z"
   },
   {
    "duration": 597,
    "start_time": "2022-02-26T20:58:25.187Z"
   },
   {
    "duration": 509,
    "start_time": "2022-02-26T20:59:48.607Z"
   },
   {
    "duration": 458,
    "start_time": "2022-02-26T20:59:55.286Z"
   },
   {
    "duration": 430,
    "start_time": "2022-02-26T21:10:37.981Z"
   },
   {
    "duration": 849,
    "start_time": "2022-02-26T21:10:52.302Z"
   },
   {
    "duration": 4625,
    "start_time": "2022-02-26T21:10:53.153Z"
   },
   {
    "duration": 14,
    "start_time": "2022-02-26T21:10:57.781Z"
   },
   {
    "duration": 54,
    "start_time": "2022-02-26T21:10:57.797Z"
   },
   {
    "duration": 1233,
    "start_time": "2022-02-26T21:10:57.854Z"
   },
   {
    "duration": 2471,
    "start_time": "2022-02-26T21:10:59.090Z"
   },
   {
    "duration": 235,
    "start_time": "2022-02-26T21:11:01.564Z"
   },
   {
    "duration": 11,
    "start_time": "2022-02-26T21:11:01.803Z"
   },
   {
    "duration": 30,
    "start_time": "2022-02-26T21:11:01.818Z"
   },
   {
    "duration": 19,
    "start_time": "2022-02-26T21:11:01.850Z"
   },
   {
    "duration": 576,
    "start_time": "2022-02-26T21:11:01.871Z"
   },
   {
    "duration": 77,
    "start_time": "2022-02-26T21:11:02.449Z"
   },
   {
    "duration": 599,
    "start_time": "2022-02-26T21:11:02.528Z"
   },
   {
    "duration": 54,
    "start_time": "2022-02-26T21:11:03.133Z"
   },
   {
    "duration": 73,
    "start_time": "2022-02-26T21:11:03.190Z"
   },
   {
    "duration": 845,
    "start_time": "2022-02-26T21:11:03.265Z"
   },
   {
    "duration": 31,
    "start_time": "2022-02-26T21:11:04.112Z"
   },
   {
    "duration": 55,
    "start_time": "2022-02-26T21:11:04.146Z"
   },
   {
    "duration": 55,
    "start_time": "2022-02-26T21:11:04.203Z"
   },
   {
    "duration": 536,
    "start_time": "2022-02-26T21:11:04.261Z"
   },
   {
    "duration": 8,
    "start_time": "2022-02-26T21:11:04.800Z"
   },
   {
    "duration": 54,
    "start_time": "2022-02-26T21:11:04.812Z"
   },
   {
    "duration": 28,
    "start_time": "2022-02-26T21:11:04.872Z"
   },
   {
    "duration": 46,
    "start_time": "2022-02-26T21:11:04.903Z"
   },
   {
    "duration": 24,
    "start_time": "2022-02-26T21:11:04.952Z"
   },
   {
    "duration": 72,
    "start_time": "2022-02-26T21:11:04.979Z"
   },
   {
    "duration": 117,
    "start_time": "2022-02-26T21:11:05.053Z"
   },
   {
    "duration": 5,
    "start_time": "2022-02-26T21:11:05.172Z"
   },
   {
    "duration": 21,
    "start_time": "2022-02-26T21:11:05.179Z"
   },
   {
    "duration": 31,
    "start_time": "2022-02-26T21:11:05.202Z"
   },
   {
    "duration": 713,
    "start_time": "2022-02-26T21:11:05.236Z"
   },
   {
    "duration": 7,
    "start_time": "2022-02-26T21:11:05.952Z"
   },
   {
    "duration": 5,
    "start_time": "2022-02-26T21:11:05.961Z"
   },
   {
    "duration": 5,
    "start_time": "2022-02-26T21:11:05.969Z"
   },
   {
    "duration": 58,
    "start_time": "2022-02-26T21:11:05.977Z"
   },
   {
    "duration": 198,
    "start_time": "2022-02-26T21:11:06.038Z"
   },
   {
    "duration": 93,
    "start_time": "2022-02-26T21:11:06.240Z"
   },
   {
    "duration": 6,
    "start_time": "2022-02-26T21:11:06.336Z"
   },
   {
    "duration": 86189,
    "start_time": "2022-02-26T21:11:06.345Z"
   },
   {
    "duration": 6,
    "start_time": "2022-02-26T21:12:32.537Z"
   },
   {
    "duration": 198,
    "start_time": "2022-02-26T21:12:32.546Z"
   },
   {
    "duration": 68889,
    "start_time": "2022-02-26T21:12:32.747Z"
   },
   {
    "duration": 6,
    "start_time": "2022-02-26T21:13:41.638Z"
   },
   {
    "duration": 46,
    "start_time": "2022-02-26T21:13:41.646Z"
   },
   {
    "duration": 672,
    "start_time": "2022-02-26T21:13:41.695Z"
   },
   {
    "duration": 7,
    "start_time": "2022-02-26T21:13:42.370Z"
   },
   {
    "duration": 7,
    "start_time": "2022-02-26T21:13:42.380Z"
   },
   {
    "duration": 65884,
    "start_time": "2022-02-26T21:13:42.389Z"
   },
   {
    "duration": 5,
    "start_time": "2022-02-26T21:14:48.276Z"
   },
   {
    "duration": 44,
    "start_time": "2022-02-26T21:14:48.283Z"
   },
   {
    "duration": 451,
    "start_time": "2022-02-26T21:14:48.329Z"
   },
   {
    "duration": 887,
    "start_time": "2022-02-27T11:02:01.773Z"
   },
   {
    "duration": 5500,
    "start_time": "2022-02-27T11:02:04.234Z"
   },
   {
    "duration": 13,
    "start_time": "2022-02-27T11:02:09.737Z"
   },
   {
    "duration": 63,
    "start_time": "2022-02-27T11:02:09.752Z"
   },
   {
    "duration": 1361,
    "start_time": "2022-02-27T11:02:09.818Z"
   },
   {
    "duration": 2535,
    "start_time": "2022-02-27T11:02:11.181Z"
   },
   {
    "duration": 246,
    "start_time": "2022-02-27T11:02:13.718Z"
   },
   {
    "duration": 25,
    "start_time": "2022-02-27T11:02:13.967Z"
   },
   {
    "duration": 19,
    "start_time": "2022-02-27T11:02:13.997Z"
   },
   {
    "duration": 7,
    "start_time": "2022-02-27T11:02:14.019Z"
   },
   {
    "duration": 632,
    "start_time": "2022-02-27T11:02:14.028Z"
   },
   {
    "duration": 65,
    "start_time": "2022-02-27T11:02:14.662Z"
   },
   {
    "duration": 648,
    "start_time": "2022-02-27T11:02:14.729Z"
   },
   {
    "duration": 43,
    "start_time": "2022-02-27T11:02:15.379Z"
   },
   {
    "duration": 96,
    "start_time": "2022-02-27T11:02:15.424Z"
   },
   {
    "duration": 758,
    "start_time": "2022-02-27T11:02:15.522Z"
   },
   {
    "duration": 24,
    "start_time": "2022-02-27T11:02:16.286Z"
   },
   {
    "duration": 42,
    "start_time": "2022-02-27T11:02:16.312Z"
   },
   {
    "duration": 66,
    "start_time": "2022-02-27T11:02:16.356Z"
   },
   {
    "duration": 636,
    "start_time": "2022-02-27T11:02:16.425Z"
   },
   {
    "duration": 8,
    "start_time": "2022-02-27T11:02:17.063Z"
   },
   {
    "duration": 47,
    "start_time": "2022-02-27T11:02:17.088Z"
   },
   {
    "duration": 26,
    "start_time": "2022-02-27T11:02:17.352Z"
   },
   {
    "duration": 21,
    "start_time": "2022-02-27T11:02:18.511Z"
   },
   {
    "duration": 24,
    "start_time": "2022-02-27T11:02:21.664Z"
   },
   {
    "duration": 47,
    "start_time": "2022-02-27T11:02:22.821Z"
   },
   {
    "duration": 112,
    "start_time": "2022-02-27T11:02:24.883Z"
   },
   {
    "duration": 7,
    "start_time": "2022-02-27T11:02:30.431Z"
   },
   {
    "duration": 23,
    "start_time": "2022-02-27T11:02:31.176Z"
   },
   {
    "duration": 6,
    "start_time": "2022-02-27T11:02:31.714Z"
   },
   {
    "duration": 681,
    "start_time": "2022-02-27T11:02:33.350Z"
   },
   {
    "duration": 6,
    "start_time": "2022-02-27T11:02:38.047Z"
   },
   {
    "duration": 4,
    "start_time": "2022-02-27T11:02:38.612Z"
   },
   {
    "duration": 4,
    "start_time": "2022-02-27T11:02:40.269Z"
   },
   {
    "duration": 16,
    "start_time": "2022-02-27T11:02:40.442Z"
   },
   {
    "duration": 63,
    "start_time": "2022-02-27T11:02:40.630Z"
   },
   {
    "duration": 4,
    "start_time": "2022-02-27T11:02:40.993Z"
   },
   {
    "duration": 4,
    "start_time": "2022-02-27T11:02:41.177Z"
   },
   {
    "duration": 90118,
    "start_time": "2022-02-27T11:02:41.352Z"
   },
   {
    "duration": 15,
    "start_time": "2022-02-27T11:04:11.472Z"
   },
   {
    "duration": 193,
    "start_time": "2022-02-27T11:04:11.490Z"
   },
   {
    "duration": 82682,
    "start_time": "2022-02-27T11:04:11.686Z"
   },
   {
    "duration": 5,
    "start_time": "2022-02-27T11:05:34.371Z"
   },
   {
    "duration": 37,
    "start_time": "2022-02-27T11:05:34.378Z"
   },
   {
    "duration": 724,
    "start_time": "2022-02-27T11:05:34.417Z"
   },
   {
    "duration": 7,
    "start_time": "2022-02-27T11:05:35.144Z"
   },
   {
    "duration": 11,
    "start_time": "2022-02-27T11:05:35.153Z"
   },
   {
    "duration": 80601,
    "start_time": "2022-02-27T11:05:35.167Z"
   },
   {
    "duration": 4,
    "start_time": "2022-02-27T11:06:55.771Z"
   },
   {
    "duration": 26,
    "start_time": "2022-02-27T11:06:55.777Z"
   },
   {
    "duration": 488,
    "start_time": "2022-02-27T11:06:55.805Z"
   },
   {
    "duration": 663,
    "start_time": "2022-03-03T02:37:41.014Z"
   },
   {
    "duration": 2201,
    "start_time": "2022-03-03T02:37:41.679Z"
   },
   {
    "duration": 9,
    "start_time": "2022-03-03T02:37:43.882Z"
   },
   {
    "duration": 21,
    "start_time": "2022-03-03T02:37:43.892Z"
   },
   {
    "duration": 704,
    "start_time": "2022-03-03T02:37:43.914Z"
   },
   {
    "duration": 1231,
    "start_time": "2022-03-03T02:37:44.620Z"
   },
   {
    "duration": 131,
    "start_time": "2022-03-03T02:37:45.853Z"
   },
   {
    "duration": 7,
    "start_time": "2022-03-03T02:37:45.987Z"
   },
   {
    "duration": 13,
    "start_time": "2022-03-03T02:37:45.995Z"
   },
   {
    "duration": 28,
    "start_time": "2022-03-03T02:37:46.010Z"
   },
   {
    "duration": 348,
    "start_time": "2022-03-03T02:37:46.040Z"
   },
   {
    "duration": 52,
    "start_time": "2022-03-03T02:37:46.390Z"
   },
   {
    "duration": 361,
    "start_time": "2022-03-03T02:37:46.443Z"
   },
   {
    "duration": 32,
    "start_time": "2022-03-03T02:37:46.806Z"
   },
   {
    "duration": 50,
    "start_time": "2022-03-03T02:37:46.840Z"
   },
   {
    "duration": 493,
    "start_time": "2022-03-03T02:37:46.892Z"
   },
   {
    "duration": 13,
    "start_time": "2022-03-03T02:37:47.387Z"
   },
   {
    "duration": 31,
    "start_time": "2022-03-03T02:37:47.401Z"
   },
   {
    "duration": 34,
    "start_time": "2022-03-03T02:37:47.433Z"
   },
   {
    "duration": 318,
    "start_time": "2022-03-03T02:37:47.469Z"
   },
   {
    "duration": 5,
    "start_time": "2022-03-03T02:37:47.788Z"
   },
   {
    "duration": 30,
    "start_time": "2022-03-03T02:37:47.795Z"
   },
   {
    "duration": 18,
    "start_time": "2022-03-03T02:37:47.840Z"
   },
   {
    "duration": 14,
    "start_time": "2022-03-03T02:37:47.860Z"
   },
   {
    "duration": 16,
    "start_time": "2022-03-03T02:37:47.875Z"
   },
   {
    "duration": 53,
    "start_time": "2022-03-03T02:37:47.892Z"
   },
   {
    "duration": 67,
    "start_time": "2022-03-03T02:37:47.946Z"
   },
   {
    "duration": 4,
    "start_time": "2022-03-03T02:37:48.014Z"
   },
   {
    "duration": 29,
    "start_time": "2022-03-03T02:37:48.020Z"
   },
   {
    "duration": 4,
    "start_time": "2022-03-03T02:37:48.050Z"
   },
   {
    "duration": 552,
    "start_time": "2022-03-03T02:37:48.055Z"
   },
   {
    "duration": 6,
    "start_time": "2022-03-03T02:37:48.608Z"
   },
   {
    "duration": 6,
    "start_time": "2022-03-03T02:37:48.615Z"
   },
   {
    "duration": 5,
    "start_time": "2022-03-03T02:37:48.622Z"
   },
   {
    "duration": 11,
    "start_time": "2022-03-03T02:37:48.638Z"
   },
   {
    "duration": 95,
    "start_time": "2022-03-03T02:37:48.651Z"
   },
   {
    "duration": 6,
    "start_time": "2022-03-03T02:37:48.840Z"
   },
   {
    "duration": 95,
    "start_time": "2022-03-03T02:37:48.849Z"
   },
   {
    "duration": 60642,
    "start_time": "2022-03-03T02:37:48.946Z"
   },
   {
    "duration": 4,
    "start_time": "2022-03-03T02:38:49.589Z"
   },
   {
    "duration": 109,
    "start_time": "2022-03-03T02:38:49.594Z"
   },
   {
    "duration": 58725,
    "start_time": "2022-03-03T02:38:49.704Z"
   },
   {
    "duration": 4,
    "start_time": "2022-03-03T02:39:48.431Z"
   },
   {
    "duration": 15,
    "start_time": "2022-03-03T02:39:48.437Z"
   },
   {
    "duration": 395,
    "start_time": "2022-03-03T02:39:48.453Z"
   },
   {
    "duration": 5,
    "start_time": "2022-03-03T02:39:48.849Z"
   },
   {
    "duration": 25,
    "start_time": "2022-03-03T02:39:48.855Z"
   },
   {
    "duration": 54049,
    "start_time": "2022-03-03T02:39:48.881Z"
   },
   {
    "duration": 3,
    "start_time": "2022-03-03T02:40:42.932Z"
   },
   {
    "duration": 13,
    "start_time": "2022-03-03T02:40:42.937Z"
   },
   {
    "duration": 287,
    "start_time": "2022-03-03T02:40:42.952Z"
   },
   {
    "duration": 493,
    "start_time": "2022-03-03T02:42:02.187Z"
   },
   {
    "duration": 9,
    "start_time": "2022-03-03T02:43:03.873Z"
   },
   {
    "duration": 666,
    "start_time": "2022-03-05T23:09:18.971Z"
   },
   {
    "duration": 2433,
    "start_time": "2022-03-05T23:09:19.639Z"
   },
   {
    "duration": 8,
    "start_time": "2022-03-05T23:09:22.074Z"
   },
   {
    "duration": 20,
    "start_time": "2022-03-05T23:09:22.084Z"
   },
   {
    "duration": 772,
    "start_time": "2022-03-05T23:09:22.106Z"
   },
   {
    "duration": 1293,
    "start_time": "2022-03-05T23:09:22.879Z"
   },
   {
    "duration": 150,
    "start_time": "2022-03-05T23:09:24.173Z"
   },
   {
    "duration": 8,
    "start_time": "2022-03-05T23:09:24.326Z"
   },
   {
    "duration": 27,
    "start_time": "2022-03-05T23:09:24.336Z"
   },
   {
    "duration": 5,
    "start_time": "2022-03-05T23:09:24.364Z"
   },
   {
    "duration": 391,
    "start_time": "2022-03-05T23:09:24.371Z"
   },
   {
    "duration": 44,
    "start_time": "2022-03-05T23:09:24.763Z"
   },
   {
    "duration": 393,
    "start_time": "2022-03-05T23:09:24.808Z"
   },
   {
    "duration": 33,
    "start_time": "2022-03-05T23:09:25.202Z"
   },
   {
    "duration": 55,
    "start_time": "2022-03-05T23:09:25.237Z"
   },
   {
    "duration": 522,
    "start_time": "2022-03-05T23:09:25.293Z"
   },
   {
    "duration": 14,
    "start_time": "2022-03-05T23:09:25.817Z"
   },
   {
    "duration": 29,
    "start_time": "2022-03-05T23:09:25.833Z"
   },
   {
    "duration": 36,
    "start_time": "2022-03-05T23:09:25.864Z"
   },
   {
    "duration": 353,
    "start_time": "2022-03-05T23:09:25.902Z"
   },
   {
    "duration": 6,
    "start_time": "2022-03-05T23:09:26.256Z"
   },
   {
    "duration": 30,
    "start_time": "2022-03-05T23:09:26.264Z"
   },
   {
    "duration": 19,
    "start_time": "2022-03-05T23:09:26.298Z"
   },
   {
    "duration": 41,
    "start_time": "2022-03-05T23:09:26.319Z"
   },
   {
    "duration": 18,
    "start_time": "2022-03-05T23:09:26.362Z"
   },
   {
    "duration": 30,
    "start_time": "2022-03-05T23:09:26.381Z"
   },
   {
    "duration": 92,
    "start_time": "2022-03-05T23:09:26.413Z"
   },
   {
    "duration": 5,
    "start_time": "2022-03-05T23:09:26.506Z"
   },
   {
    "duration": 13,
    "start_time": "2022-03-05T23:09:26.512Z"
   },
   {
    "duration": 3,
    "start_time": "2022-03-05T23:09:26.527Z"
   },
   {
    "duration": 541,
    "start_time": "2022-03-05T23:09:26.532Z"
   },
   {
    "duration": 6,
    "start_time": "2022-03-05T23:09:27.074Z"
   },
   {
    "duration": 4,
    "start_time": "2022-03-05T23:09:27.081Z"
   },
   {
    "duration": 5,
    "start_time": "2022-03-05T23:09:27.087Z"
   },
   {
    "duration": 11,
    "start_time": "2022-03-05T23:09:27.094Z"
   },
   {
    "duration": 200,
    "start_time": "2022-03-05T23:09:27.161Z"
   },
   {
    "duration": 4,
    "start_time": "2022-03-05T23:09:27.363Z"
   },
   {
    "duration": 93,
    "start_time": "2022-03-05T23:09:27.369Z"
   },
   {
    "duration": 66263,
    "start_time": "2022-03-05T23:09:27.464Z"
   },
   {
    "duration": 4,
    "start_time": "2022-03-05T23:10:33.728Z"
   },
   {
    "duration": 126,
    "start_time": "2022-03-05T23:10:33.734Z"
   },
   {
    "duration": 55719,
    "start_time": "2022-03-05T23:10:33.861Z"
   },
   {
    "duration": 3,
    "start_time": "2022-03-05T23:11:29.582Z"
   },
   {
    "duration": 13,
    "start_time": "2022-03-05T23:11:29.587Z"
   },
   {
    "duration": 432,
    "start_time": "2022-03-05T23:11:29.602Z"
   },
   {
    "duration": 6,
    "start_time": "2022-03-05T23:11:30.035Z"
   },
   {
    "duration": 20,
    "start_time": "2022-03-05T23:11:30.042Z"
   },
   {
    "duration": 53426,
    "start_time": "2022-03-05T23:11:30.064Z"
   },
   {
    "duration": 3,
    "start_time": "2022-03-05T23:12:23.492Z"
   },
   {
    "duration": 19,
    "start_time": "2022-03-05T23:12:23.497Z"
   },
   {
    "duration": 298,
    "start_time": "2022-03-05T23:12:23.517Z"
   },
   {
    "duration": 9,
    "start_time": "2022-03-05T23:12:23.817Z"
   },
   {
    "duration": 33,
    "start_time": "2022-03-05T23:12:23.827Z"
   },
   {
    "duration": 14,
    "start_time": "2022-03-05T23:13:49.854Z"
   },
   {
    "duration": 13,
    "start_time": "2022-03-05T23:14:05.588Z"
   },
   {
    "duration": 14,
    "start_time": "2022-03-05T23:14:42.893Z"
   },
   {
    "duration": 14,
    "start_time": "2022-03-05T23:15:18.979Z"
   },
   {
    "duration": 3,
    "start_time": "2022-03-05T23:15:46.860Z"
   },
   {
    "duration": 4,
    "start_time": "2022-03-05T23:16:37.771Z"
   },
   {
    "duration": 4,
    "start_time": "2022-03-05T23:16:43.044Z"
   },
   {
    "duration": 3,
    "start_time": "2022-03-05T23:16:46.781Z"
   },
   {
    "duration": 4,
    "start_time": "2022-03-05T23:17:01.411Z"
   },
   {
    "duration": 284,
    "start_time": "2022-03-05T23:17:30.972Z"
   },
   {
    "duration": 11,
    "start_time": "2022-03-05T23:17:45.724Z"
   },
   {
    "duration": 672,
    "start_time": "2022-03-05T23:19:14.627Z"
   },
   {
    "duration": 2523,
    "start_time": "2022-03-05T23:19:15.301Z"
   },
   {
    "duration": 9,
    "start_time": "2022-03-05T23:19:17.826Z"
   },
   {
    "duration": 33,
    "start_time": "2022-03-05T23:19:17.837Z"
   },
   {
    "duration": 813,
    "start_time": "2022-03-05T23:19:17.872Z"
   },
   {
    "duration": 1357,
    "start_time": "2022-03-05T23:19:18.687Z"
   },
   {
    "duration": 168,
    "start_time": "2022-03-05T23:19:20.046Z"
   },
   {
    "duration": 8,
    "start_time": "2022-03-05T23:19:20.217Z"
   },
   {
    "duration": 14,
    "start_time": "2022-03-05T23:19:20.227Z"
   },
   {
    "duration": 20,
    "start_time": "2022-03-05T23:19:20.243Z"
   },
   {
    "duration": 400,
    "start_time": "2022-03-05T23:19:20.265Z"
   },
   {
    "duration": 45,
    "start_time": "2022-03-05T23:19:20.667Z"
   },
   {
    "duration": 420,
    "start_time": "2022-03-05T23:19:20.714Z"
   },
   {
    "duration": 45,
    "start_time": "2022-03-05T23:19:21.137Z"
   },
   {
    "duration": 51,
    "start_time": "2022-03-05T23:19:21.184Z"
   },
   {
    "duration": 563,
    "start_time": "2022-03-05T23:19:21.237Z"
   },
   {
    "duration": 14,
    "start_time": "2022-03-05T23:19:21.802Z"
   },
   {
    "duration": 31,
    "start_time": "2022-03-05T23:19:21.817Z"
   },
   {
    "duration": 37,
    "start_time": "2022-03-05T23:19:21.850Z"
   },
   {
    "duration": 366,
    "start_time": "2022-03-05T23:19:21.889Z"
   },
   {
    "duration": 6,
    "start_time": "2022-03-05T23:19:22.258Z"
   },
   {
    "duration": 31,
    "start_time": "2022-03-05T23:19:22.266Z"
   },
   {
    "duration": 18,
    "start_time": "2022-03-05T23:19:22.301Z"
   },
   {
    "duration": 44,
    "start_time": "2022-03-05T23:19:22.322Z"
   },
   {
    "duration": 17,
    "start_time": "2022-03-05T23:19:22.367Z"
   },
   {
    "duration": 39,
    "start_time": "2022-03-05T23:19:22.386Z"
   },
   {
    "duration": 117,
    "start_time": "2022-03-05T23:19:22.427Z"
   },
   {
    "duration": 15,
    "start_time": "2022-03-05T23:19:22.546Z"
   },
   {
    "duration": 24,
    "start_time": "2022-03-05T23:19:22.564Z"
   },
   {
    "duration": 4,
    "start_time": "2022-03-05T23:19:22.589Z"
   },
   {
    "duration": 574,
    "start_time": "2022-03-05T23:19:22.595Z"
   },
   {
    "duration": 6,
    "start_time": "2022-03-05T23:19:23.171Z"
   },
   {
    "duration": 8,
    "start_time": "2022-03-05T23:19:23.178Z"
   },
   {
    "duration": 5,
    "start_time": "2022-03-05T23:19:23.188Z"
   },
   {
    "duration": 12,
    "start_time": "2022-03-05T23:19:23.195Z"
   },
   {
    "duration": 200,
    "start_time": "2022-03-05T23:19:23.260Z"
   },
   {
    "duration": 3,
    "start_time": "2022-03-05T23:19:23.462Z"
   },
   {
    "duration": 4,
    "start_time": "2022-03-05T23:19:23.467Z"
   },
   {
    "duration": 66777,
    "start_time": "2022-03-05T23:19:23.473Z"
   },
   {
    "duration": 11,
    "start_time": "2022-03-05T23:20:30.252Z"
   },
   {
    "duration": 126,
    "start_time": "2022-03-05T23:20:30.265Z"
   },
   {
    "duration": 64864,
    "start_time": "2022-03-05T23:20:30.394Z"
   },
   {
    "duration": 4,
    "start_time": "2022-03-05T23:21:35.259Z"
   },
   {
    "duration": 17,
    "start_time": "2022-03-05T23:21:35.264Z"
   },
   {
    "duration": 433,
    "start_time": "2022-03-05T23:21:35.282Z"
   },
   {
    "duration": 5,
    "start_time": "2022-03-05T23:21:35.717Z"
   },
   {
    "duration": 19,
    "start_time": "2022-03-05T23:21:35.723Z"
   },
   {
    "duration": 53070,
    "start_time": "2022-03-05T23:21:35.744Z"
   },
   {
    "duration": 4,
    "start_time": "2022-03-05T23:22:28.817Z"
   },
   {
    "duration": 16,
    "start_time": "2022-03-05T23:22:28.823Z"
   },
   {
    "duration": 301,
    "start_time": "2022-03-05T23:22:28.841Z"
   },
   {
    "duration": 18,
    "start_time": "2022-03-05T23:22:29.144Z"
   },
   {
    "duration": 15,
    "start_time": "2022-03-05T23:22:29.164Z"
   }
  ],
  "kernelspec": {
   "display_name": "Python 3 (ipykernel)",
   "language": "python",
   "name": "python3"
  },
  "language_info": {
   "codemirror_mode": {
    "name": "ipython",
    "version": 3
   },
   "file_extension": ".py",
   "mimetype": "text/x-python",
   "name": "python",
   "nbconvert_exporter": "python",
   "pygments_lexer": "ipython3",
   "version": "3.10.5"
  },
  "toc": {
   "base_numbering": 1,
   "nav_menu": {},
   "number_sections": true,
   "sideBar": true,
   "skip_h1_title": true,
   "title_cell": "Table of Contents",
   "title_sidebar": "Contents",
   "toc_cell": false,
   "toc_position": {
    "height": "calc(100% - 180px)",
    "left": "10px",
    "top": "150px",
    "width": "251.391px"
   },
   "toc_section_display": true,
   "toc_window_display": true
  }
 },
 "nbformat": 4,
 "nbformat_minor": 2
}
