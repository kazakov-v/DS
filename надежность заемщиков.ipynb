{
 "cells": [
  {
   "cell_type": "markdown",
   "metadata": {},
   "source": [
    "# Исследование надёжности заёмщиков\n",
    "\n",
    "Заказчик — кредитный отдел банка. Нужно разобраться, влияет ли семейное положение и количество детей клиента на факт погашения кредита в срок. Входные данные от банка — статистика о платёжеспособности клиентов.\n",
    "\n",
    "Результаты исследования будут учтены при построении модели **кредитного скоринга** — специальной системы, которая оценивает способность потенциального заёмщика вернуть кредит банку."
   ]
  },
  {
   "cell_type": "code",
   "execution_count": 1,
   "metadata": {},
   "outputs": [],
   "source": [
    "import pandas\n",
    "from collections import Counter\n",
    "import seaborn\n",
    "from pymystem3 import Mystem"
   ]
  },
  {
   "cell_type": "markdown",
   "metadata": {},
   "source": [
    "## Шаг 1. Откройте файл с данными и изучите общую информацию"
   ]
  },
  {
   "cell_type": "code",
   "execution_count": 2,
   "metadata": {
    "scrolled": true
   },
   "outputs": [
    {
     "data": {
      "text/html": [
       "<div>\n",
       "<style scoped>\n",
       "    .dataframe tbody tr th:only-of-type {\n",
       "        vertical-align: middle;\n",
       "    }\n",
       "\n",
       "    .dataframe tbody tr th {\n",
       "        vertical-align: top;\n",
       "    }\n",
       "\n",
       "    .dataframe thead th {\n",
       "        text-align: right;\n",
       "    }\n",
       "</style>\n",
       "<table border=\"1\" class=\"dataframe\">\n",
       "  <thead>\n",
       "    <tr style=\"text-align: right;\">\n",
       "      <th></th>\n",
       "      <th>children</th>\n",
       "      <th>days_employed</th>\n",
       "      <th>dob_years</th>\n",
       "      <th>education</th>\n",
       "      <th>education_id</th>\n",
       "      <th>family_status</th>\n",
       "      <th>family_status_id</th>\n",
       "      <th>gender</th>\n",
       "      <th>income_type</th>\n",
       "      <th>debt</th>\n",
       "      <th>total_income</th>\n",
       "      <th>purpose</th>\n",
       "    </tr>\n",
       "  </thead>\n",
       "  <tbody>\n",
       "    <tr>\n",
       "      <td>0</td>\n",
       "      <td>1</td>\n",
       "      <td>-8437.673028</td>\n",
       "      <td>42</td>\n",
       "      <td>высшее</td>\n",
       "      <td>0</td>\n",
       "      <td>женат / замужем</td>\n",
       "      <td>0</td>\n",
       "      <td>F</td>\n",
       "      <td>сотрудник</td>\n",
       "      <td>0</td>\n",
       "      <td>253875.639453</td>\n",
       "      <td>покупка жилья</td>\n",
       "    </tr>\n",
       "    <tr>\n",
       "      <td>1</td>\n",
       "      <td>1</td>\n",
       "      <td>-4024.803754</td>\n",
       "      <td>36</td>\n",
       "      <td>среднее</td>\n",
       "      <td>1</td>\n",
       "      <td>женат / замужем</td>\n",
       "      <td>0</td>\n",
       "      <td>F</td>\n",
       "      <td>сотрудник</td>\n",
       "      <td>0</td>\n",
       "      <td>112080.014102</td>\n",
       "      <td>приобретение автомобиля</td>\n",
       "    </tr>\n",
       "    <tr>\n",
       "      <td>2</td>\n",
       "      <td>0</td>\n",
       "      <td>-5623.422610</td>\n",
       "      <td>33</td>\n",
       "      <td>Среднее</td>\n",
       "      <td>1</td>\n",
       "      <td>женат / замужем</td>\n",
       "      <td>0</td>\n",
       "      <td>M</td>\n",
       "      <td>сотрудник</td>\n",
       "      <td>0</td>\n",
       "      <td>145885.952297</td>\n",
       "      <td>покупка жилья</td>\n",
       "    </tr>\n",
       "    <tr>\n",
       "      <td>3</td>\n",
       "      <td>3</td>\n",
       "      <td>-4124.747207</td>\n",
       "      <td>32</td>\n",
       "      <td>среднее</td>\n",
       "      <td>1</td>\n",
       "      <td>женат / замужем</td>\n",
       "      <td>0</td>\n",
       "      <td>M</td>\n",
       "      <td>сотрудник</td>\n",
       "      <td>0</td>\n",
       "      <td>267628.550329</td>\n",
       "      <td>дополнительное образование</td>\n",
       "    </tr>\n",
       "    <tr>\n",
       "      <td>4</td>\n",
       "      <td>0</td>\n",
       "      <td>340266.072047</td>\n",
       "      <td>53</td>\n",
       "      <td>среднее</td>\n",
       "      <td>1</td>\n",
       "      <td>гражданский брак</td>\n",
       "      <td>1</td>\n",
       "      <td>F</td>\n",
       "      <td>пенсионер</td>\n",
       "      <td>0</td>\n",
       "      <td>158616.077870</td>\n",
       "      <td>сыграть свадьбу</td>\n",
       "    </tr>\n",
       "    <tr>\n",
       "      <td>...</td>\n",
       "      <td>...</td>\n",
       "      <td>...</td>\n",
       "      <td>...</td>\n",
       "      <td>...</td>\n",
       "      <td>...</td>\n",
       "      <td>...</td>\n",
       "      <td>...</td>\n",
       "      <td>...</td>\n",
       "      <td>...</td>\n",
       "      <td>...</td>\n",
       "      <td>...</td>\n",
       "      <td>...</td>\n",
       "    </tr>\n",
       "    <tr>\n",
       "      <td>21520</td>\n",
       "      <td>1</td>\n",
       "      <td>-4529.316663</td>\n",
       "      <td>43</td>\n",
       "      <td>среднее</td>\n",
       "      <td>1</td>\n",
       "      <td>гражданский брак</td>\n",
       "      <td>1</td>\n",
       "      <td>F</td>\n",
       "      <td>компаньон</td>\n",
       "      <td>0</td>\n",
       "      <td>224791.862382</td>\n",
       "      <td>операции с жильем</td>\n",
       "    </tr>\n",
       "    <tr>\n",
       "      <td>21521</td>\n",
       "      <td>0</td>\n",
       "      <td>343937.404131</td>\n",
       "      <td>67</td>\n",
       "      <td>среднее</td>\n",
       "      <td>1</td>\n",
       "      <td>женат / замужем</td>\n",
       "      <td>0</td>\n",
       "      <td>F</td>\n",
       "      <td>пенсионер</td>\n",
       "      <td>0</td>\n",
       "      <td>155999.806512</td>\n",
       "      <td>сделка с автомобилем</td>\n",
       "    </tr>\n",
       "    <tr>\n",
       "      <td>21522</td>\n",
       "      <td>1</td>\n",
       "      <td>-2113.346888</td>\n",
       "      <td>38</td>\n",
       "      <td>среднее</td>\n",
       "      <td>1</td>\n",
       "      <td>гражданский брак</td>\n",
       "      <td>1</td>\n",
       "      <td>M</td>\n",
       "      <td>сотрудник</td>\n",
       "      <td>1</td>\n",
       "      <td>89672.561153</td>\n",
       "      <td>недвижимость</td>\n",
       "    </tr>\n",
       "    <tr>\n",
       "      <td>21523</td>\n",
       "      <td>3</td>\n",
       "      <td>-3112.481705</td>\n",
       "      <td>38</td>\n",
       "      <td>среднее</td>\n",
       "      <td>1</td>\n",
       "      <td>женат / замужем</td>\n",
       "      <td>0</td>\n",
       "      <td>M</td>\n",
       "      <td>сотрудник</td>\n",
       "      <td>1</td>\n",
       "      <td>244093.050500</td>\n",
       "      <td>на покупку своего автомобиля</td>\n",
       "    </tr>\n",
       "    <tr>\n",
       "      <td>21524</td>\n",
       "      <td>2</td>\n",
       "      <td>-1984.507589</td>\n",
       "      <td>40</td>\n",
       "      <td>среднее</td>\n",
       "      <td>1</td>\n",
       "      <td>женат / замужем</td>\n",
       "      <td>0</td>\n",
       "      <td>F</td>\n",
       "      <td>сотрудник</td>\n",
       "      <td>0</td>\n",
       "      <td>82047.418899</td>\n",
       "      <td>на покупку автомобиля</td>\n",
       "    </tr>\n",
       "  </tbody>\n",
       "</table>\n",
       "<p>21525 rows × 12 columns</p>\n",
       "</div>"
      ],
      "text/plain": [
       "       children  days_employed  dob_years education  education_id  \\\n",
       "0             1   -8437.673028         42    высшее             0   \n",
       "1             1   -4024.803754         36   среднее             1   \n",
       "2             0   -5623.422610         33   Среднее             1   \n",
       "3             3   -4124.747207         32   среднее             1   \n",
       "4             0  340266.072047         53   среднее             1   \n",
       "...         ...            ...        ...       ...           ...   \n",
       "21520         1   -4529.316663         43   среднее             1   \n",
       "21521         0  343937.404131         67   среднее             1   \n",
       "21522         1   -2113.346888         38   среднее             1   \n",
       "21523         3   -3112.481705         38   среднее             1   \n",
       "21524         2   -1984.507589         40   среднее             1   \n",
       "\n",
       "          family_status  family_status_id gender income_type  debt  \\\n",
       "0       женат / замужем                 0      F   сотрудник     0   \n",
       "1       женат / замужем                 0      F   сотрудник     0   \n",
       "2       женат / замужем                 0      M   сотрудник     0   \n",
       "3       женат / замужем                 0      M   сотрудник     0   \n",
       "4      гражданский брак                 1      F   пенсионер     0   \n",
       "...                 ...               ...    ...         ...   ...   \n",
       "21520  гражданский брак                 1      F   компаньон     0   \n",
       "21521   женат / замужем                 0      F   пенсионер     0   \n",
       "21522  гражданский брак                 1      M   сотрудник     1   \n",
       "21523   женат / замужем                 0      M   сотрудник     1   \n",
       "21524   женат / замужем                 0      F   сотрудник     0   \n",
       "\n",
       "        total_income                       purpose  \n",
       "0      253875.639453                 покупка жилья  \n",
       "1      112080.014102       приобретение автомобиля  \n",
       "2      145885.952297                 покупка жилья  \n",
       "3      267628.550329    дополнительное образование  \n",
       "4      158616.077870               сыграть свадьбу  \n",
       "...              ...                           ...  \n",
       "21520  224791.862382             операции с жильем  \n",
       "21521  155999.806512          сделка с автомобилем  \n",
       "21522   89672.561153                  недвижимость  \n",
       "21523  244093.050500  на покупку своего автомобиля  \n",
       "21524   82047.418899         на покупку автомобиля  \n",
       "\n",
       "[21525 rows x 12 columns]"
      ]
     },
     "execution_count": 2,
     "metadata": {},
     "output_type": "execute_result"
    }
   ],
   "source": [
    "try:\n",
    "    data = pandas.read_csv(r'/datasets/data.csv')\n",
    "except:\n",
    "    print('локальный файл')\n",
    "    data = pandas.read_csv(r'g:/data.csv')\n",
    "data"
   ]
  },
  {
   "cell_type": "markdown",
   "metadata": {},
   "source": [
    "### Описание данных:\n",
    "- children — количество детей в семье\n",
    "- days_employed — общий трудовой стаж в днях\n",
    "- dob_years — возраст клиента в годах\n",
    "- education — уровень образования клиента\n",
    "- education_id — идентификатор уровня образования\n",
    "- family_status — семейное положение\n",
    "- family_status_id — идентификатор семейного положения\n",
    "- gender — пол клиента\n",
    "- income_type — тип занятости\n",
    "- debt — имел ли задолженность по возврату кредитов\n",
    "- total_income — ежемесячный доход\n",
    "- purpose - цель кредита"
   ]
  },
  {
   "cell_type": "code",
   "execution_count": 3,
   "metadata": {},
   "outputs": [
    {
     "name": "stdout",
     "output_type": "stream",
     "text": [
      "<class 'pandas.core.frame.DataFrame'>\n",
      "RangeIndex: 21525 entries, 0 to 21524\n",
      "Data columns (total 12 columns):\n",
      "children            21525 non-null int64\n",
      "days_employed       19351 non-null float64\n",
      "dob_years           21525 non-null int64\n",
      "education           21525 non-null object\n",
      "education_id        21525 non-null int64\n",
      "family_status       21525 non-null object\n",
      "family_status_id    21525 non-null int64\n",
      "gender              21525 non-null object\n",
      "income_type         21525 non-null object\n",
      "debt                21525 non-null int64\n",
      "total_income        19351 non-null float64\n",
      "purpose             21525 non-null object\n",
      "dtypes: float64(2), int64(5), object(5)\n",
      "memory usage: 2.0+ MB\n"
     ]
    }
   ],
   "source": [
    "data.info()"
   ]
  },
  {
   "cell_type": "markdown",
   "metadata": {},
   "source": [
    "Отсутствуют данные в столбцах 'days_employed' и 'total_income' в 2174 строках.  \n",
    "Пропущенные данные находятся одновременно в одной строке:"
   ]
  },
  {
   "cell_type": "code",
   "execution_count": 4,
   "metadata": {},
   "outputs": [
    {
     "name": "stdout",
     "output_type": "stream",
     "text": [
      "Количество строк, в которых одновременно\n",
      "отсутствует 'days_employed' и 'total_income' = 2174\n"
     ]
    }
   ],
   "source": [
    "res = len(data[ (data['days_employed'].isna())&(data['total_income'].isna()) ])\n",
    "print(\"Количество строк, в которых одновременно\")\n",
    "print(\"отсутствует 'days_employed' и 'total_income' =\", res)"
   ]
  },
  {
   "cell_type": "markdown",
   "metadata": {},
   "source": [
    "Возможно эти данные не заносились в одном из филиалов,  \n",
    "или, возможно их не заносили какой-то период времени  \n",
    "(например, начинали сбор не всех текущих данных)  \n",
    "Количество неполных строк составляет чуть больше 10% от общего числа\n",
    "\n",
    "---\n",
    "Проверим отдельные столбцы на корректность данных:  \n",
    "___Столбец 'children':___\n"
   ]
  },
  {
   "cell_type": "code",
   "execution_count": 5,
   "metadata": {
    "scrolled": true
   },
   "outputs": [
    {
     "data": {
      "text/plain": [
       " 0     14149\n",
       " 1      4818\n",
       " 2      2055\n",
       " 3       330\n",
       " 20       76\n",
       "-1        47\n",
       " 4        41\n",
       " 5         9\n",
       "Name: children, dtype: int64"
      ]
     },
     "execution_count": 5,
     "metadata": {},
     "output_type": "execute_result"
    }
   ],
   "source": [
    "data['children'].value_counts()"
   ]
  },
  {
   "cell_type": "markdown",
   "metadata": {},
   "source": [
    "Столбец 'children' содержит некорректные значения: -1 и 20.  \n",
    "Всего некорректных значений 123.\n",
    "\n",
    "---\n",
    "___Столбец 'days_employed'___ так же содержит артефакты:   \n",
    "отрицательные значения, но по модулю они похожи на стаж в днях;  \n",
    "и положительные значения, которые слишком велики, для того чтобы быть стажем в днях\n"
   ]
  },
  {
   "cell_type": "markdown",
   "metadata": {},
   "source": [
    "Отрицательные значения линейно ограничены возрастом:"
   ]
  },
  {
   "cell_type": "code",
   "execution_count": 6,
   "metadata": {},
   "outputs": [
    {
     "data": {
      "image/png": "[encoded data removed]",
      "text/plain": [
       "<Figure size 432x288 with 1 Axes>"
      ]
     },
     "metadata": {
      "needs_background": "light"
     },
     "output_type": "display_data"
    }
   ],
   "source": [
    "seaborn.scatterplot(data=data[ data['days_employed']<0 ], x='dob_years', y='days_employed');"
   ]
  },
  {
   "cell_type": "markdown",
   "metadata": {},
   "source": [
    "Для отрицательных значений следует поменять знак и привести к типу int  \n",
    "Кроме этого на графике виден артефакт в виде нулевого возраста\n",
    "\n",
    "---\n",
    "Положительные значения в основном определены для старшей возрастной категории:"
   ]
  },
  {
   "cell_type": "code",
   "execution_count": 7,
   "metadata": {},
   "outputs": [
    {
     "data": {
      "image/png": "[encoded data removed]",
      "text/plain": [
       "<Figure size 432x288 with 1 Axes>"
      ]
     },
     "metadata": {
      "needs_background": "light"
     },
     "output_type": "display_data"
    }
   ],
   "source": [
    "seaborn.scatterplot(data=data[ data['days_employed']>0 ], x='dob_years', y='days_employed');"
   ]
  },
  {
   "cell_type": "markdown",
   "metadata": {},
   "source": [
    "Проверим тип занятости для этой группы:"
   ]
  },
  {
   "cell_type": "code",
   "execution_count": 8,
   "metadata": {},
   "outputs": [
    {
     "data": {
      "text/plain": [
       "пенсионер      3443\n",
       "безработный       2\n",
       "Name: income_type, dtype: int64"
      ]
     },
     "execution_count": 8,
     "metadata": {},
     "output_type": "execute_result"
    }
   ],
   "source": [
    "data[ data['days_employed']>0 ]['income_type'].value_counts()"
   ]
  },
  {
   "cell_type": "markdown",
   "metadata": {},
   "source": [
    "Соответственно, у кого трудовой стаж указан (отрицательные значения):"
   ]
  },
  {
   "cell_type": "code",
   "execution_count": 9,
   "metadata": {},
   "outputs": [
    {
     "data": {
      "text/plain": [
       "сотрудник          10014\n",
       "компаньон           4577\n",
       "госслужащий         1312\n",
       "в декрете              1\n",
       "предприниматель        1\n",
       "студент                1\n",
       "Name: income_type, dtype: int64"
      ]
     },
     "execution_count": 9,
     "metadata": {},
     "output_type": "execute_result"
    }
   ],
   "source": [
    "data[ data['days_employed']<0 ]['income_type'].value_counts()"
   ]
  },
  {
   "cell_type": "markdown",
   "metadata": {},
   "source": [
    "___Столбец 'dob_years'___ содержит некорректный возраст 0 лет в 101 строке:"
   ]
  },
  {
   "cell_type": "code",
   "execution_count": 10,
   "metadata": {
    "scrolled": true
   },
   "outputs": [
    {
     "data": {
      "text/plain": [
       "101"
      ]
     },
     "execution_count": 10,
     "metadata": {},
     "output_type": "execute_result"
    }
   ],
   "source": [
    "len(data[ data['dob_years']==0 ])"
   ]
  },
  {
   "cell_type": "markdown",
   "metadata": {},
   "source": [
    "остальные данные корректны:"
   ]
  },
  {
   "cell_type": "code",
   "execution_count": 11,
   "metadata": {
    "scrolled": true
   },
   "outputs": [
    {
     "name": "stdout",
     "output_type": "stream",
     "text": [
      "Минимальный возраст: 19 лет \n",
      "Максимальный возраст: 75 лет\n"
     ]
    }
   ],
   "source": [
    "print('Минимальный возраст:', data[ data['dob_years']!=0  ]['dob_years'].min() , 'лет',\n",
    "      '\\nМаксимальный возраст:', data['dob_years'].max(), 'лет' )"
   ]
  },
  {
   "cell_type": "markdown",
   "metadata": {},
   "source": [
    "***Столбцы 'education' и 'education_id':***"
   ]
  },
  {
   "cell_type": "code",
   "execution_count": 12,
   "metadata": {
    "scrolled": true
   },
   "outputs": [
    {
     "data": {
      "text/plain": [
       "education_id\n",
       "0                             [высшее, ВЫСШЕЕ, Высшее]\n",
       "1                          [среднее, Среднее, СРЕДНЕЕ]\n",
       "2    [неоконченное высшее, НЕОКОНЧЕННОЕ ВЫСШЕЕ, Нео...\n",
       "3                    [начальное, НАЧАЛЬНОЕ, Начальное]\n",
       "4     [Ученая степень, УЧЕНАЯ СТЕПЕНЬ, ученая степень]\n",
       "Name: education, dtype: object"
      ]
     },
     "execution_count": 12,
     "metadata": {},
     "output_type": "execute_result"
    }
   ],
   "source": [
    "data.groupby('education_id')['education'].unique()"
   ]
  },
  {
   "cell_type": "markdown",
   "metadata": {},
   "source": [
    "Текстовое описание имеет по три варианта написания.  "
   ]
  },
  {
   "cell_type": "markdown",
   "metadata": {},
   "source": [
    "Если привести текстовые описания например в нижний регистр:"
   ]
  },
  {
   "cell_type": "code",
   "execution_count": 13,
   "metadata": {},
   "outputs": [
    {
     "data": {
      "text/plain": [
       "education_id\n",
       "0                 [высшее]\n",
       "1                [среднее]\n",
       "2    [неоконченное высшее]\n",
       "3              [начальное]\n",
       "4         [ученая степень]\n",
       "Name: education, dtype: object"
      ]
     },
     "execution_count": 13,
     "metadata": {},
     "output_type": "execute_result"
    }
   ],
   "source": [
    "data['education'] = data['education'].str.lower()\n",
    "data.groupby('education_id')['education'].unique()"
   ]
  },
  {
   "cell_type": "markdown",
   "metadata": {},
   "source": [
    "то каждый 'education_id' будет иметь единственный вариант текстового описания 'education'\n",
    "\n",
    "---"
   ]
  },
  {
   "cell_type": "markdown",
   "metadata": {},
   "source": [
    "***Столбцы 'family_status' и 'family_status_id':***"
   ]
  },
  {
   "cell_type": "code",
   "execution_count": 14,
   "metadata": {},
   "outputs": [
    {
     "data": {
      "text/plain": [
       "family_status_id\n",
       "0          [женат / замужем]\n",
       "1         [гражданский брак]\n",
       "2           [вдовец / вдова]\n",
       "3                [в разводе]\n",
       "4    [Не женат / не замужем]\n",
       "Name: family_status, dtype: object"
      ]
     },
     "execution_count": 14,
     "metadata": {},
     "output_type": "execute_result"
    }
   ],
   "source": [
    "data.groupby('family_status_id')['family_status'].unique()"
   ]
  },
  {
   "cell_type": "markdown",
   "metadata": {},
   "source": [
    "Однозначное соответствие  \n",
    "\n",
    "---\n",
    "___Столбец 'gender':___"
   ]
  },
  {
   "cell_type": "code",
   "execution_count": 15,
   "metadata": {},
   "outputs": [
    {
     "data": {
      "text/plain": [
       "F      14236\n",
       "M       7288\n",
       "XNA        1\n",
       "Name: gender, dtype: int64"
      ]
     },
     "execution_count": 15,
     "metadata": {},
     "output_type": "execute_result"
    }
   ],
   "source": [
    "data['gender'].value_counts()"
   ]
  },
  {
   "cell_type": "markdown",
   "metadata": {},
   "source": [
    "Одно некорректное значение: XNA.  \n",
    "\n",
    "---\n",
    "___Столбец 'income_type':___"
   ]
  },
  {
   "cell_type": "code",
   "execution_count": 16,
   "metadata": {},
   "outputs": [
    {
     "data": {
      "text/plain": [
       "сотрудник          11119\n",
       "компаньон           5085\n",
       "пенсионер           3856\n",
       "госслужащий         1459\n",
       "предприниматель        2\n",
       "безработный            2\n",
       "студент                1\n",
       "в декрете              1\n",
       "Name: income_type, dtype: int64"
      ]
     },
     "execution_count": 16,
     "metadata": {},
     "output_type": "execute_result"
    }
   ],
   "source": [
    "data['income_type'].value_counts()"
   ]
  },
  {
   "cell_type": "markdown",
   "metadata": {},
   "source": [
    "___Столбец 'debt':___"
   ]
  },
  {
   "cell_type": "code",
   "execution_count": 17,
   "metadata": {},
   "outputs": [
    {
     "data": {
      "text/plain": [
       "0    19784\n",
       "1     1741\n",
       "Name: debt, dtype: int64"
      ]
     },
     "execution_count": 17,
     "metadata": {},
     "output_type": "execute_result"
    }
   ],
   "source": [
    "data['debt'].value_counts()"
   ]
  },
  {
   "cell_type": "code",
   "execution_count": 18,
   "metadata": {},
   "outputs": [
    {
     "data": {
      "text/plain": [
       "0.0809"
      ]
     },
     "execution_count": 18,
     "metadata": {},
     "output_type": "execute_result"
    }
   ],
   "source": [
    "round(data['debt'].mean(), 4)"
   ]
  },
  {
   "cell_type": "markdown",
   "metadata": {},
   "source": [
    "Важный параметр, по которому можно будет делать выводы.   \n",
    "Доля клиентов, имевших задолженность по возврату кредита по всем исходным данным составляет **0.0809** \n",
    "\n",
    "---\n",
    "***Столбец 'total_income':***"
   ]
  },
  {
   "cell_type": "markdown",
   "metadata": {},
   "source": [
    "Посмотрим распределение доходов по источникам:"
   ]
  },
  {
   "cell_type": "code",
   "execution_count": 19,
   "metadata": {},
   "outputs": [
    {
     "data": {
      "text/html": [
       "<div>\n",
       "<style scoped>\n",
       "    .dataframe tbody tr th:only-of-type {\n",
       "        vertical-align: middle;\n",
       "    }\n",
       "\n",
       "    .dataframe tbody tr th {\n",
       "        vertical-align: top;\n",
       "    }\n",
       "\n",
       "    .dataframe thead tr th {\n",
       "        text-align: left;\n",
       "    }\n",
       "\n",
       "    .dataframe thead tr:last-of-type th {\n",
       "        text-align: right;\n",
       "    }\n",
       "</style>\n",
       "<table border=\"1\" class=\"dataframe\">\n",
       "  <thead>\n",
       "    <tr>\n",
       "      <th></th>\n",
       "      <th>count</th>\n",
       "      <th>min</th>\n",
       "      <th>max</th>\n",
       "      <th>mean</th>\n",
       "      <th>median</th>\n",
       "    </tr>\n",
       "    <tr>\n",
       "      <th></th>\n",
       "      <th>total_income</th>\n",
       "      <th>total_income</th>\n",
       "      <th>total_income</th>\n",
       "      <th>total_income</th>\n",
       "      <th>total_income</th>\n",
       "    </tr>\n",
       "    <tr>\n",
       "      <th>income_type</th>\n",
       "      <th></th>\n",
       "      <th></th>\n",
       "      <th></th>\n",
       "      <th></th>\n",
       "      <th></th>\n",
       "    </tr>\n",
       "  </thead>\n",
       "  <tbody>\n",
       "    <tr>\n",
       "      <td>безработный</td>\n",
       "      <td>2</td>\n",
       "      <td>59956</td>\n",
       "      <td>202722</td>\n",
       "      <td>131339</td>\n",
       "      <td>131339</td>\n",
       "    </tr>\n",
       "    <tr>\n",
       "      <td>в декрете</td>\n",
       "      <td>1</td>\n",
       "      <td>53829</td>\n",
       "      <td>53829</td>\n",
       "      <td>53829</td>\n",
       "      <td>53829</td>\n",
       "    </tr>\n",
       "    <tr>\n",
       "      <td>госслужащий</td>\n",
       "      <td>1312</td>\n",
       "      <td>29200</td>\n",
       "      <td>910451</td>\n",
       "      <td>170898</td>\n",
       "      <td>150447</td>\n",
       "    </tr>\n",
       "    <tr>\n",
       "      <td>компаньон</td>\n",
       "      <td>4577</td>\n",
       "      <td>28702</td>\n",
       "      <td>2265604</td>\n",
       "      <td>202417</td>\n",
       "      <td>172357</td>\n",
       "    </tr>\n",
       "    <tr>\n",
       "      <td>пенсионер</td>\n",
       "      <td>3443</td>\n",
       "      <td>20667</td>\n",
       "      <td>735103</td>\n",
       "      <td>137127</td>\n",
       "      <td>118514</td>\n",
       "    </tr>\n",
       "    <tr>\n",
       "      <td>предприниматель</td>\n",
       "      <td>1</td>\n",
       "      <td>499163</td>\n",
       "      <td>499163</td>\n",
       "      <td>499163</td>\n",
       "      <td>499163</td>\n",
       "    </tr>\n",
       "    <tr>\n",
       "      <td>сотрудник</td>\n",
       "      <td>10014</td>\n",
       "      <td>21367</td>\n",
       "      <td>1726276</td>\n",
       "      <td>161380</td>\n",
       "      <td>142594</td>\n",
       "    </tr>\n",
       "    <tr>\n",
       "      <td>студент</td>\n",
       "      <td>1</td>\n",
       "      <td>98201</td>\n",
       "      <td>98201</td>\n",
       "      <td>98201</td>\n",
       "      <td>98201</td>\n",
       "    </tr>\n",
       "  </tbody>\n",
       "</table>\n",
       "</div>"
      ],
      "text/plain": [
       "                       count          min          max         mean  \\\n",
       "                total_income total_income total_income total_income   \n",
       "income_type                                                           \n",
       "безработный                2        59956       202722       131339   \n",
       "в декрете                  1        53829        53829        53829   \n",
       "госслужащий             1312        29200       910451       170898   \n",
       "компаньон               4577        28702      2265604       202417   \n",
       "пенсионер               3443        20667       735103       137127   \n",
       "предприниматель            1       499163       499163       499163   \n",
       "сотрудник              10014        21367      1726276       161380   \n",
       "студент                    1        98201        98201        98201   \n",
       "\n",
       "                      median  \n",
       "                total_income  \n",
       "income_type                   \n",
       "безработный           131339  \n",
       "в декрете              53829  \n",
       "госслужащий           150447  \n",
       "компаньон             172357  \n",
       "пенсионер             118514  \n",
       "предприниматель       499163  \n",
       "сотрудник             142594  \n",
       "студент                98201  "
      ]
     },
     "execution_count": 19,
     "metadata": {},
     "output_type": "execute_result"
    }
   ],
   "source": [
    "data.pivot_table(index=['income_type'],\n",
    "                  values=['total_income'],\n",
    "                  aggfunc=['count', 'min', 'max', 'mean', 'median']\n",
    "                  ).astype('int')"
   ]
  },
  {
   "cell_type": "markdown",
   "metadata": {},
   "source": [
    "Данные имеют очень большой разброс, даже в однотипных группах.  \n",
    "Стобец содержит пропущенные данные (около 10% от общего числа записей).  \n",
    "Доля клиентов, имевших задолженность по возврату кредита по записям  \n",
    "с неуказанным ежемесячным доходом:"
   ]
  },
  {
   "cell_type": "code",
   "execution_count": 20,
   "metadata": {},
   "outputs": [
    {
     "data": {
      "text/plain": [
       "0.0782"
      ]
     },
     "execution_count": 20,
     "metadata": {},
     "output_type": "execute_result"
    }
   ],
   "source": [
    "round(data[ data['total_income'].isna() ]['debt'].mean(), 4)"
   ]
  },
  {
   "cell_type": "markdown",
   "metadata": {},
   "source": [
    "составляет **0.0782**, что довольно близко к общей доле задолженностей (0.0809)   \n",
    "Поэтому эти строки целесообразнее удалить из расчетов."
   ]
  },
  {
   "cell_type": "markdown",
   "metadata": {},
   "source": [
    "___Столбец 'purpose':___"
   ]
  },
  {
   "cell_type": "code",
   "execution_count": 21,
   "metadata": {},
   "outputs": [
    {
     "data": {
      "text/plain": [
       "свадьба                                   797\n",
       "на проведение свадьбы                     777\n",
       "сыграть свадьбу                           774\n",
       "операции с недвижимостью                  676\n",
       "покупка коммерческой недвижимости         664\n",
       "операции с жильем                         653\n",
       "покупка жилья для сдачи                   653\n",
       "операции с коммерческой недвижимостью     651\n",
       "покупка жилья                             647\n",
       "жилье                                     647\n",
       "покупка жилья для семьи                   641\n",
       "строительство собственной недвижимости    635\n",
       "недвижимость                              634\n",
       "операции со своей недвижимостью           630\n",
       "строительство жилой недвижимости          626\n",
       "покупка недвижимости                      624\n",
       "покупка своего жилья                      620\n",
       "строительство недвижимости                620\n",
       "ремонт жилью                              612\n",
       "покупка жилой недвижимости                607\n",
       "на покупку своего автомобиля              505\n",
       "заняться высшим образованием              496\n",
       "автомобиль                                495\n",
       "сделка с подержанным автомобилем          489\n",
       "свой автомобиль                           480\n",
       "на покупку подержанного автомобиля        479\n",
       "автомобили                                478\n",
       "на покупку автомобиля                     472\n",
       "приобретение автомобиля                   462\n",
       "дополнительное образование                462\n",
       "сделка с автомобилем                      455\n",
       "высшее образование                        453\n",
       "образование                               447\n",
       "получение дополнительного образования     447\n",
       "получение образования                     443\n",
       "профильное образование                    436\n",
       "получение высшего образования             426\n",
       "заняться образованием                     412\n",
       "Name: purpose, dtype: int64"
      ]
     },
     "execution_count": 21,
     "metadata": {},
     "output_type": "execute_result"
    }
   ],
   "source": [
    "data['purpose'].value_counts()"
   ]
  },
  {
   "cell_type": "markdown",
   "metadata": {},
   "source": [
    "Содержит 38 вариантов целей кредита.   \n",
    "Требуется лемматизация и объединение в более крупные группы."
   ]
  },
  {
   "cell_type": "markdown",
   "metadata": {},
   "source": [
    "**Вывод**  \n",
    "\n",
    "Для целей исследования важны:  \n",
    "- семейное положение - исходные данные корректны\n",
    "- количество детей - некорректных значений 123\n",
    "- уровень дохода - пропущенных значений 2174\n",
    "- цели кредита - исходные данные корректны\n",
    "- наличие задолженности - исходные данные корректны  \n",
    "\n",
    "\n"
   ]
  },
  {
   "cell_type": "markdown",
   "metadata": {},
   "source": [
    "## Шаг 2. Предобработка данных"
   ]
  },
  {
   "cell_type": "markdown",
   "metadata": {},
   "source": [
    "### Обработка пропусков"
   ]
  },
  {
   "cell_type": "markdown",
   "metadata": {},
   "source": [
    "Удалим строки с некорректными сведениями о количестве детей:"
   ]
  },
  {
   "cell_type": "code",
   "execution_count": 22,
   "metadata": {},
   "outputs": [
    {
     "name": "stdout",
     "output_type": "stream",
     "text": [
      "Строк до удаления: 21525\n",
      "Строк после удаления: 21402\n"
     ]
    }
   ],
   "source": [
    "print('Строк до удаления:',len(data))\n",
    "\n",
    "drop_rows = data[ data['children']==-1 ].index\n",
    "data = data.drop( drop_rows ).reset_index(drop=True) # удалим строки с некорректными данными\n",
    "\n",
    "drop_rows = data[ data['children']==20 ].index\n",
    "data = data.drop( drop_rows ).reset_index(drop=True) # удалим строки с некорректными данными\n",
    "\n",
    "print('Строк после удаления:',len(data))"
   ]
  },
  {
   "cell_type": "markdown",
   "metadata": {},
   "source": [
    "Расчитаем медиану дохода для каждой группы 'income_type'.  \n",
    "Функция fillna_with_my_method обрабатывает строки с пропусками:  \n",
    "- пропущенный доход заменяется на медиану в соответствующей группе\n",
    "- пропущенный стаж заполнен нулями, поскольку в данном исследовании  \n",
    "этот столбец не используется. Кроме того, это позволит легко  \n",
    "идентифицировать измененные строки. Если бы эти значения использовались,  \n",
    "можно было бы записать туда например половину возможного стажа: (возраст - 18)*365 /2\n",
    "\n"
   ]
  },
  {
   "cell_type": "code",
   "execution_count": 23,
   "metadata": {},
   "outputs": [],
   "source": [
    "income_type_median = data.groupby('income_type')['total_income'].median()\n",
    "\n",
    "def fillna_with_my_method(row):\n",
    "    global income_type_median\n",
    "    if not row.hasnans:\n",
    "        return row\n",
    "    row['total_income'] = income_type_median[row['income_type']]\n",
    "    row['days_employed'] = 0\n",
    "    return row\n",
    "    \n",
    "data = data.apply(fillna_with_my_method, axis=1)\n",
    "#data.info()"
   ]
  },
  {
   "cell_type": "markdown",
   "metadata": {},
   "source": [
    "~~Удалим строки с отсутствующими данными:~~ не осталось"
   ]
  },
  {
   "cell_type": "code",
   "execution_count": 24,
   "metadata": {
    "scrolled": true
   },
   "outputs": [],
   "source": [
    "data = data.dropna().reset_index(drop=True)\n",
    "#data.info()"
   ]
  },
  {
   "cell_type": "markdown",
   "metadata": {},
   "source": [
    "Доля клиентов, имевших задолженность по возврату кредита составляет **0.0809**:"
   ]
  },
  {
   "cell_type": "code",
   "execution_count": 25,
   "metadata": {},
   "outputs": [
    {
     "data": {
      "text/plain": [
       "0.0809"
      ]
     },
     "execution_count": 25,
     "metadata": {},
     "output_type": "execute_result"
    }
   ],
   "source": [
    "round(data['debt'].mean(), 4)"
   ]
  },
  {
   "cell_type": "markdown",
   "metadata": {},
   "source": [
    "**Вывод**"
   ]
  },
  {
   "cell_type": "markdown",
   "metadata": {},
   "source": [
    "### Замена типа данных"
   ]
  },
  {
   "cell_type": "markdown",
   "metadata": {},
   "source": [
    "Заменим вещественные числа на целочисленные:"
   ]
  },
  {
   "cell_type": "code",
   "execution_count": 26,
   "metadata": {},
   "outputs": [
    {
     "name": "stdout",
     "output_type": "stream",
     "text": [
      "<class 'pandas.core.frame.DataFrame'>\n",
      "RangeIndex: 21402 entries, 0 to 21401\n",
      "Data columns (total 12 columns):\n",
      "children            21402 non-null int64\n",
      "days_employed       21402 non-null int64\n",
      "dob_years           21402 non-null int64\n",
      "education           21402 non-null object\n",
      "education_id        21402 non-null int64\n",
      "family_status       21402 non-null object\n",
      "family_status_id    21402 non-null int64\n",
      "gender              21402 non-null object\n",
      "income_type         21402 non-null object\n",
      "debt                21402 non-null int64\n",
      "total_income        21402 non-null int64\n",
      "purpose             21402 non-null object\n",
      "dtypes: int64(7), object(5)\n",
      "memory usage: 2.0+ MB\n"
     ]
    }
   ],
   "source": [
    "data['days_employed']=data['days_employed'].astype('int')\n",
    "data['total_income']=data['total_income'].astype('int')\n",
    "data.info()"
   ]
  },
  {
   "cell_type": "markdown",
   "metadata": {},
   "source": [
    "**Вывод**"
   ]
  },
  {
   "cell_type": "markdown",
   "metadata": {},
   "source": [
    "### Обработка дубликатов"
   ]
  },
  {
   "cell_type": "markdown",
   "metadata": {},
   "source": [
    "~~Дубликаты не обнаружены:~~  Удалим 71 строку, являющуюся дублем:"
   ]
  },
  {
   "cell_type": "code",
   "execution_count": 27,
   "metadata": {},
   "outputs": [
    {
     "name": "stdout",
     "output_type": "stream",
     "text": [
      "Строк до удаления дубликатов: 21402\n",
      "Строк после удаления дубликатов: 21331\n"
     ]
    }
   ],
   "source": [
    "print('Строк до удаления дубликатов:',len(data))\n",
    "data = data.drop_duplicates().reset_index(drop=True)\n",
    "print('Строк после удаления дубликатов:',len(data))\n",
    "#data.info()"
   ]
  },
  {
   "cell_type": "markdown",
   "metadata": {},
   "source": [
    "**Вывод**"
   ]
  },
  {
   "cell_type": "markdown",
   "metadata": {},
   "source": [
    "### Лемматизация"
   ]
  },
  {
   "cell_type": "markdown",
   "metadata": {},
   "source": [
    "Сгруппируем цели кредита в ключи словаря,  \n",
    "в качестве значений словаря выделим леммы:"
   ]
  },
  {
   "cell_type": "code",
   "execution_count": 28,
   "metadata": {},
   "outputs": [
    {
     "name": "stdout",
     "output_type": "stream",
     "text": [
      "**************************************"
     ]
    }
   ],
   "source": [
    "m = Mystem()\n",
    "purpose_dict = dict.fromkeys(data['purpose'], ())  \n",
    "for key in purpose_dict:\n",
    "    print('*', end='')     # be patient ;)\n",
    "    lst = []\n",
    "    lemmas = m.lemmatize(key)\n",
    "    for lemma in lemmas:\n",
    "        if len(lemma) < 3: # леммы короче 3 символов\n",
    "            continue       # пропускаем (пробелы, предлоги, знаки препинания)\n",
    "        lst.append(lemma)\n",
    "    purpose_dict[key] = lst"
   ]
  },
  {
   "cell_type": "markdown",
   "metadata": {},
   "source": [
    "Добавим столбец со списками лемм в исходную таблицу:"
   ]
  },
  {
   "cell_type": "code",
   "execution_count": 29,
   "metadata": {},
   "outputs": [
    {
     "data": {
      "text/html": [
       "<div>\n",
       "<style scoped>\n",
       "    .dataframe tbody tr th:only-of-type {\n",
       "        vertical-align: middle;\n",
       "    }\n",
       "\n",
       "    .dataframe tbody tr th {\n",
       "        vertical-align: top;\n",
       "    }\n",
       "\n",
       "    .dataframe thead th {\n",
       "        text-align: right;\n",
       "    }\n",
       "</style>\n",
       "<table border=\"1\" class=\"dataframe\">\n",
       "  <thead>\n",
       "    <tr style=\"text-align: right;\">\n",
       "      <th></th>\n",
       "      <th>purpose</th>\n",
       "      <th>purpose_lemmas</th>\n",
       "    </tr>\n",
       "  </thead>\n",
       "  <tbody>\n",
       "    <tr>\n",
       "      <td>0</td>\n",
       "      <td>покупка жилья</td>\n",
       "      <td>[покупка, жилье]</td>\n",
       "    </tr>\n",
       "    <tr>\n",
       "      <td>1</td>\n",
       "      <td>приобретение автомобиля</td>\n",
       "      <td>[приобретение, автомобиль]</td>\n",
       "    </tr>\n",
       "    <tr>\n",
       "      <td>2</td>\n",
       "      <td>покупка жилья</td>\n",
       "      <td>[покупка, жилье]</td>\n",
       "    </tr>\n",
       "    <tr>\n",
       "      <td>3</td>\n",
       "      <td>дополнительное образование</td>\n",
       "      <td>[дополнительный, образование]</td>\n",
       "    </tr>\n",
       "    <tr>\n",
       "      <td>4</td>\n",
       "      <td>сыграть свадьбу</td>\n",
       "      <td>[сыграть, свадьба]</td>\n",
       "    </tr>\n",
       "    <tr>\n",
       "      <td>...</td>\n",
       "      <td>...</td>\n",
       "      <td>...</td>\n",
       "    </tr>\n",
       "    <tr>\n",
       "      <td>21326</td>\n",
       "      <td>операции с жильем</td>\n",
       "      <td>[операция, жилье]</td>\n",
       "    </tr>\n",
       "    <tr>\n",
       "      <td>21327</td>\n",
       "      <td>сделка с автомобилем</td>\n",
       "      <td>[сделка, автомобиль]</td>\n",
       "    </tr>\n",
       "    <tr>\n",
       "      <td>21328</td>\n",
       "      <td>недвижимость</td>\n",
       "      <td>[недвижимость]</td>\n",
       "    </tr>\n",
       "    <tr>\n",
       "      <td>21329</td>\n",
       "      <td>на покупку своего автомобиля</td>\n",
       "      <td>[покупка, свой, автомобиль]</td>\n",
       "    </tr>\n",
       "    <tr>\n",
       "      <td>21330</td>\n",
       "      <td>на покупку автомобиля</td>\n",
       "      <td>[покупка, автомобиль]</td>\n",
       "    </tr>\n",
       "  </tbody>\n",
       "</table>\n",
       "<p>21331 rows × 2 columns</p>\n",
       "</div>"
      ],
      "text/plain": [
       "                            purpose                 purpose_lemmas\n",
       "0                     покупка жилья               [покупка, жилье]\n",
       "1           приобретение автомобиля     [приобретение, автомобиль]\n",
       "2                     покупка жилья               [покупка, жилье]\n",
       "3        дополнительное образование  [дополнительный, образование]\n",
       "4                   сыграть свадьбу             [сыграть, свадьба]\n",
       "...                             ...                            ...\n",
       "21326             операции с жильем              [операция, жилье]\n",
       "21327          сделка с автомобилем           [сделка, автомобиль]\n",
       "21328                  недвижимость                 [недвижимость]\n",
       "21329  на покупку своего автомобиля    [покупка, свой, автомобиль]\n",
       "21330         на покупку автомобиля          [покупка, автомобиль]\n",
       "\n",
       "[21331 rows x 2 columns]"
      ]
     },
     "execution_count": 29,
     "metadata": {},
     "output_type": "execute_result"
    }
   ],
   "source": [
    "def get_lemmas(str):\n",
    "    global purpose_dict\n",
    "    return purpose_dict[str]\n",
    "data['purpose_lemmas']=data['purpose'].apply(get_lemmas)\n",
    "data[['purpose','purpose_lemmas']]"
   ]
  },
  {
   "cell_type": "markdown",
   "metadata": {},
   "source": [
    "Посчитаем частоту употребления лемм:"
   ]
  },
  {
   "cell_type": "code",
   "execution_count": 30,
   "metadata": {},
   "outputs": [
    {
     "data": {
      "text/plain": [
       "[('недвижимость', 6314),\n",
       " ('покупка', 5865),\n",
       " ('жилье', 4437),\n",
       " ('автомобиль', 4279),\n",
       " ('образование', 3988),\n",
       " ('операция', 2587),\n",
       " ('свадьба', 2313),\n",
       " ('свой', 2219),\n",
       " ('строительство', 1867),\n",
       " ('высокий', 1367),\n",
       " ('получение', 1309),\n",
       " ('коммерческий', 1303),\n",
       " ('для', 1286),\n",
       " ('жилой', 1222),\n",
       " ('сделка', 936),\n",
       " ('заниматься', 904),\n",
       " ('дополнительный', 899),\n",
       " ('проведение', 763),\n",
       " ('сыграть', 760),\n",
       " ('сдача', 649),\n",
       " ('семья', 637),\n",
       " ('собственный', 628),\n",
       " ('ремонт', 604),\n",
       " ('подержанный', 481),\n",
       " ('подержать', 471),\n",
       " ('приобретение', 459),\n",
       " ('профильный', 432)]"
      ]
     },
     "execution_count": 30,
     "metadata": {},
     "output_type": "execute_result"
    }
   ],
   "source": [
    "lemmas_list = []\n",
    "for lemmas in data['purpose_lemmas']:\n",
    "    for lemma in lemmas:\n",
    "        lemmas_list.append(lemma)\n",
    "Counter(lemmas_list).most_common()"
   ]
  },
  {
   "cell_type": "markdown",
   "metadata": {},
   "source": [
    "Наиболее часто используются леммы,   \n",
    "обозначающие понятия, которые можно приобрести или оплатить:  \n",
    "***'недвижимость', 'жилье', 'автомобиль',  'образование',  'свадьба',***  \n",
    "(***'операция'*** в данном контексте означает действие: покупку, а не цель кредита)"
   ]
  },
  {
   "cell_type": "markdown",
   "metadata": {},
   "source": [
    "**Вывод**"
   ]
  },
  {
   "cell_type": "markdown",
   "metadata": {},
   "source": [
    "### Категоризация данных"
   ]
  },
  {
   "cell_type": "markdown",
   "metadata": {},
   "source": [
    "По наличию детей:\n",
    "- детей нет\n",
    "- дети есть  \n",
    "  \n",
    "_выделять отдельно по количеству детей нецелесообразно,_  \n",
    "_т.к. получатся очень небольшие группы_\n",
    "\n",
    "---\n",
    "По семейному положению:\n",
    "- состоит в браке\n",
    "- гражданский брак\n",
    "- не состоит в браке  \n",
    "\n",
    "_не состоит в браке объединяет разведенных,_  \n",
    "_не женатых/не замужем и вдовых_\n",
    "\n",
    "---\n",
    "По уровню дохода:\n",
    "- низкий доход\n",
    "- средний доход\n",
    "- высокий доход  \n",
    "\n",
    "_разделить всех клиентов на три равные по количеству группы,_  \n",
    "_и таким образом определить границы уровней дохода_\n",
    "\n",
    "---\n",
    "По цели кредита\n",
    "- образование\n",
    "- свадьба\n",
    "- автомобиль\n",
    "- жилье\n",
    "- недвижимость  \n",
    "\n",
    "\n",
    "---"
   ]
  },
  {
   "cell_type": "markdown",
   "metadata": {},
   "source": [
    "Функции для категоризации:"
   ]
  },
  {
   "cell_type": "code",
   "execution_count": 31,
   "metadata": {},
   "outputs": [],
   "source": [
    "def children_group(children): # данные из столбца 'children'\n",
    "    if children == 0:\n",
    "        return 'детей нет'\n",
    "    return 'дети есть'\n",
    "\n",
    "def family_group(family_status_id):# данные из столбца 'family_status_id'\n",
    "    if family_status_id == 0:      # официальный брак\n",
    "        return 'состоит в браке'\n",
    "    if family_status_id == 1:       # гражданский брак\n",
    "        return 'гражданский брак'\n",
    "    return 'не состоит в браке' # разведен(а), вдова(ец), не женат/не замужем\n",
    "\n",
    "def purpose_group(purpose_lemmas): # данные из столбца 'purpose_lemmas'\n",
    "    if 'образование' in purpose_lemmas:\n",
    "        return 'образование'\n",
    "    elif 'свадьба' in purpose_lemmas:\n",
    "        return 'свадьба'\n",
    "    elif 'автомобиль' in purpose_lemmas:\n",
    "        return 'автомобиль'\n",
    "    elif 'недвижимость' in purpose_lemmas:\n",
    "        return 'недвижимость'\n",
    "    elif 'жилье' in purpose_lemmas:\n",
    "        return 'жилье'\n",
    "    else:\n",
    "        return 'не определена'\n",
    "\n",
    "# расчитаем границы разделения по доходу:\n",
    "tmp = list(data['total_income']) # разделим всех клиентов на три равные по количеству группы\n",
    "tmp.sort()\n",
    "low_income = tmp[len(tmp)//3]    # 1/3 клиентов имеют доход ниже этого значения\n",
    "high_income = tmp[len(tmp)*2//3] # 1/3 клиентов имеют доход выше этого значения\n",
    "\n",
    "def income_group(total_income): # данные из столбца 'total_income'\n",
    "    global low_income\n",
    "    global high_income\n",
    "    if total_income > high_income:\n",
    "        return 'высокий доход'\n",
    "    if total_income < low_income:\n",
    "        return 'низкий доход'\n",
    "    return 'средний доход'"
   ]
  },
  {
   "cell_type": "markdown",
   "metadata": {},
   "source": [
    "Добавим категории в исходную таблицу:"
   ]
  },
  {
   "cell_type": "code",
   "execution_count": 32,
   "metadata": {},
   "outputs": [
    {
     "data": {
      "text/html": [
       "<div>\n",
       "<style scoped>\n",
       "    .dataframe tbody tr th:only-of-type {\n",
       "        vertical-align: middle;\n",
       "    }\n",
       "\n",
       "    .dataframe tbody tr th {\n",
       "        vertical-align: top;\n",
       "    }\n",
       "\n",
       "    .dataframe thead th {\n",
       "        text-align: right;\n",
       "    }\n",
       "</style>\n",
       "<table border=\"1\" class=\"dataframe\">\n",
       "  <thead>\n",
       "    <tr style=\"text-align: right;\">\n",
       "      <th></th>\n",
       "      <th>children</th>\n",
       "      <th>days_employed</th>\n",
       "      <th>dob_years</th>\n",
       "      <th>education</th>\n",
       "      <th>education_id</th>\n",
       "      <th>family_status</th>\n",
       "      <th>family_status_id</th>\n",
       "      <th>gender</th>\n",
       "      <th>income_type</th>\n",
       "      <th>debt</th>\n",
       "      <th>total_income</th>\n",
       "      <th>purpose</th>\n",
       "      <th>purpose_lemmas</th>\n",
       "      <th>children_group</th>\n",
       "      <th>family_group</th>\n",
       "      <th>purpose_group</th>\n",
       "      <th>income_group</th>\n",
       "    </tr>\n",
       "  </thead>\n",
       "  <tbody>\n",
       "    <tr>\n",
       "      <td>0</td>\n",
       "      <td>1</td>\n",
       "      <td>-8437</td>\n",
       "      <td>42</td>\n",
       "      <td>высшее</td>\n",
       "      <td>0</td>\n",
       "      <td>женат / замужем</td>\n",
       "      <td>0</td>\n",
       "      <td>F</td>\n",
       "      <td>сотрудник</td>\n",
       "      <td>0</td>\n",
       "      <td>253875</td>\n",
       "      <td>покупка жилья</td>\n",
       "      <td>[покупка, жилье]</td>\n",
       "      <td>дети есть</td>\n",
       "      <td>состоит в браке</td>\n",
       "      <td>жилье</td>\n",
       "      <td>высокий доход</td>\n",
       "    </tr>\n",
       "    <tr>\n",
       "      <td>1</td>\n",
       "      <td>1</td>\n",
       "      <td>-4024</td>\n",
       "      <td>36</td>\n",
       "      <td>среднее</td>\n",
       "      <td>1</td>\n",
       "      <td>женат / замужем</td>\n",
       "      <td>0</td>\n",
       "      <td>F</td>\n",
       "      <td>сотрудник</td>\n",
       "      <td>0</td>\n",
       "      <td>112080</td>\n",
       "      <td>приобретение автомобиля</td>\n",
       "      <td>[приобретение, автомобиль]</td>\n",
       "      <td>дети есть</td>\n",
       "      <td>состоит в браке</td>\n",
       "      <td>автомобиль</td>\n",
       "      <td>низкий доход</td>\n",
       "    </tr>\n",
       "    <tr>\n",
       "      <td>2</td>\n",
       "      <td>0</td>\n",
       "      <td>-5623</td>\n",
       "      <td>33</td>\n",
       "      <td>среднее</td>\n",
       "      <td>1</td>\n",
       "      <td>женат / замужем</td>\n",
       "      <td>0</td>\n",
       "      <td>M</td>\n",
       "      <td>сотрудник</td>\n",
       "      <td>0</td>\n",
       "      <td>145885</td>\n",
       "      <td>покупка жилья</td>\n",
       "      <td>[покупка, жилье]</td>\n",
       "      <td>детей нет</td>\n",
       "      <td>состоит в браке</td>\n",
       "      <td>жилье</td>\n",
       "      <td>средний доход</td>\n",
       "    </tr>\n",
       "    <tr>\n",
       "      <td>3</td>\n",
       "      <td>3</td>\n",
       "      <td>-4124</td>\n",
       "      <td>32</td>\n",
       "      <td>среднее</td>\n",
       "      <td>1</td>\n",
       "      <td>женат / замужем</td>\n",
       "      <td>0</td>\n",
       "      <td>M</td>\n",
       "      <td>сотрудник</td>\n",
       "      <td>0</td>\n",
       "      <td>267628</td>\n",
       "      <td>дополнительное образование</td>\n",
       "      <td>[дополнительный, образование]</td>\n",
       "      <td>дети есть</td>\n",
       "      <td>состоит в браке</td>\n",
       "      <td>образование</td>\n",
       "      <td>высокий доход</td>\n",
       "    </tr>\n",
       "    <tr>\n",
       "      <td>4</td>\n",
       "      <td>0</td>\n",
       "      <td>340266</td>\n",
       "      <td>53</td>\n",
       "      <td>среднее</td>\n",
       "      <td>1</td>\n",
       "      <td>гражданский брак</td>\n",
       "      <td>1</td>\n",
       "      <td>F</td>\n",
       "      <td>пенсионер</td>\n",
       "      <td>0</td>\n",
       "      <td>158616</td>\n",
       "      <td>сыграть свадьбу</td>\n",
       "      <td>[сыграть, свадьба]</td>\n",
       "      <td>детей нет</td>\n",
       "      <td>гражданский брак</td>\n",
       "      <td>свадьба</td>\n",
       "      <td>средний доход</td>\n",
       "    </tr>\n",
       "    <tr>\n",
       "      <td>...</td>\n",
       "      <td>...</td>\n",
       "      <td>...</td>\n",
       "      <td>...</td>\n",
       "      <td>...</td>\n",
       "      <td>...</td>\n",
       "      <td>...</td>\n",
       "      <td>...</td>\n",
       "      <td>...</td>\n",
       "      <td>...</td>\n",
       "      <td>...</td>\n",
       "      <td>...</td>\n",
       "      <td>...</td>\n",
       "      <td>...</td>\n",
       "      <td>...</td>\n",
       "      <td>...</td>\n",
       "      <td>...</td>\n",
       "      <td>...</td>\n",
       "    </tr>\n",
       "    <tr>\n",
       "      <td>21326</td>\n",
       "      <td>1</td>\n",
       "      <td>-4529</td>\n",
       "      <td>43</td>\n",
       "      <td>среднее</td>\n",
       "      <td>1</td>\n",
       "      <td>гражданский брак</td>\n",
       "      <td>1</td>\n",
       "      <td>F</td>\n",
       "      <td>компаньон</td>\n",
       "      <td>0</td>\n",
       "      <td>224791</td>\n",
       "      <td>операции с жильем</td>\n",
       "      <td>[операция, жилье]</td>\n",
       "      <td>дети есть</td>\n",
       "      <td>гражданский брак</td>\n",
       "      <td>жилье</td>\n",
       "      <td>высокий доход</td>\n",
       "    </tr>\n",
       "    <tr>\n",
       "      <td>21327</td>\n",
       "      <td>0</td>\n",
       "      <td>343937</td>\n",
       "      <td>67</td>\n",
       "      <td>среднее</td>\n",
       "      <td>1</td>\n",
       "      <td>женат / замужем</td>\n",
       "      <td>0</td>\n",
       "      <td>F</td>\n",
       "      <td>пенсионер</td>\n",
       "      <td>0</td>\n",
       "      <td>155999</td>\n",
       "      <td>сделка с автомобилем</td>\n",
       "      <td>[сделка, автомобиль]</td>\n",
       "      <td>детей нет</td>\n",
       "      <td>состоит в браке</td>\n",
       "      <td>автомобиль</td>\n",
       "      <td>средний доход</td>\n",
       "    </tr>\n",
       "    <tr>\n",
       "      <td>21328</td>\n",
       "      <td>1</td>\n",
       "      <td>-2113</td>\n",
       "      <td>38</td>\n",
       "      <td>среднее</td>\n",
       "      <td>1</td>\n",
       "      <td>гражданский брак</td>\n",
       "      <td>1</td>\n",
       "      <td>M</td>\n",
       "      <td>сотрудник</td>\n",
       "      <td>1</td>\n",
       "      <td>89672</td>\n",
       "      <td>недвижимость</td>\n",
       "      <td>[недвижимость]</td>\n",
       "      <td>дети есть</td>\n",
       "      <td>гражданский брак</td>\n",
       "      <td>недвижимость</td>\n",
       "      <td>низкий доход</td>\n",
       "    </tr>\n",
       "    <tr>\n",
       "      <td>21329</td>\n",
       "      <td>3</td>\n",
       "      <td>-3112</td>\n",
       "      <td>38</td>\n",
       "      <td>среднее</td>\n",
       "      <td>1</td>\n",
       "      <td>женат / замужем</td>\n",
       "      <td>0</td>\n",
       "      <td>M</td>\n",
       "      <td>сотрудник</td>\n",
       "      <td>1</td>\n",
       "      <td>244093</td>\n",
       "      <td>на покупку своего автомобиля</td>\n",
       "      <td>[покупка, свой, автомобиль]</td>\n",
       "      <td>дети есть</td>\n",
       "      <td>состоит в браке</td>\n",
       "      <td>автомобиль</td>\n",
       "      <td>высокий доход</td>\n",
       "    </tr>\n",
       "    <tr>\n",
       "      <td>21330</td>\n",
       "      <td>2</td>\n",
       "      <td>-1984</td>\n",
       "      <td>40</td>\n",
       "      <td>среднее</td>\n",
       "      <td>1</td>\n",
       "      <td>женат / замужем</td>\n",
       "      <td>0</td>\n",
       "      <td>F</td>\n",
       "      <td>сотрудник</td>\n",
       "      <td>0</td>\n",
       "      <td>82047</td>\n",
       "      <td>на покупку автомобиля</td>\n",
       "      <td>[покупка, автомобиль]</td>\n",
       "      <td>дети есть</td>\n",
       "      <td>состоит в браке</td>\n",
       "      <td>автомобиль</td>\n",
       "      <td>низкий доход</td>\n",
       "    </tr>\n",
       "  </tbody>\n",
       "</table>\n",
       "<p>21331 rows × 17 columns</p>\n",
       "</div>"
      ],
      "text/plain": [
       "       children  days_employed  dob_years education  education_id  \\\n",
       "0             1          -8437         42    высшее             0   \n",
       "1             1          -4024         36   среднее             1   \n",
       "2             0          -5623         33   среднее             1   \n",
       "3             3          -4124         32   среднее             1   \n",
       "4             0         340266         53   среднее             1   \n",
       "...         ...            ...        ...       ...           ...   \n",
       "21326         1          -4529         43   среднее             1   \n",
       "21327         0         343937         67   среднее             1   \n",
       "21328         1          -2113         38   среднее             1   \n",
       "21329         3          -3112         38   среднее             1   \n",
       "21330         2          -1984         40   среднее             1   \n",
       "\n",
       "          family_status  family_status_id gender income_type  debt  \\\n",
       "0       женат / замужем                 0      F   сотрудник     0   \n",
       "1       женат / замужем                 0      F   сотрудник     0   \n",
       "2       женат / замужем                 0      M   сотрудник     0   \n",
       "3       женат / замужем                 0      M   сотрудник     0   \n",
       "4      гражданский брак                 1      F   пенсионер     0   \n",
       "...                 ...               ...    ...         ...   ...   \n",
       "21326  гражданский брак                 1      F   компаньон     0   \n",
       "21327   женат / замужем                 0      F   пенсионер     0   \n",
       "21328  гражданский брак                 1      M   сотрудник     1   \n",
       "21329   женат / замужем                 0      M   сотрудник     1   \n",
       "21330   женат / замужем                 0      F   сотрудник     0   \n",
       "\n",
       "       total_income                       purpose  \\\n",
       "0            253875                 покупка жилья   \n",
       "1            112080       приобретение автомобиля   \n",
       "2            145885                 покупка жилья   \n",
       "3            267628    дополнительное образование   \n",
       "4            158616               сыграть свадьбу   \n",
       "...             ...                           ...   \n",
       "21326        224791             операции с жильем   \n",
       "21327        155999          сделка с автомобилем   \n",
       "21328         89672                  недвижимость   \n",
       "21329        244093  на покупку своего автомобиля   \n",
       "21330         82047         на покупку автомобиля   \n",
       "\n",
       "                      purpose_lemmas children_group      family_group  \\\n",
       "0                   [покупка, жилье]      дети есть   состоит в браке   \n",
       "1         [приобретение, автомобиль]      дети есть   состоит в браке   \n",
       "2                   [покупка, жилье]      детей нет   состоит в браке   \n",
       "3      [дополнительный, образование]      дети есть   состоит в браке   \n",
       "4                 [сыграть, свадьба]      детей нет  гражданский брак   \n",
       "...                              ...            ...               ...   \n",
       "21326              [операция, жилье]      дети есть  гражданский брак   \n",
       "21327           [сделка, автомобиль]      детей нет   состоит в браке   \n",
       "21328                 [недвижимость]      дети есть  гражданский брак   \n",
       "21329    [покупка, свой, автомобиль]      дети есть   состоит в браке   \n",
       "21330          [покупка, автомобиль]      дети есть   состоит в браке   \n",
       "\n",
       "      purpose_group   income_group  \n",
       "0             жилье  высокий доход  \n",
       "1        автомобиль   низкий доход  \n",
       "2             жилье  средний доход  \n",
       "3       образование  высокий доход  \n",
       "4           свадьба  средний доход  \n",
       "...             ...            ...  \n",
       "21326         жилье  высокий доход  \n",
       "21327    автомобиль  средний доход  \n",
       "21328  недвижимость   низкий доход  \n",
       "21329    автомобиль  высокий доход  \n",
       "21330    автомобиль   низкий доход  \n",
       "\n",
       "[21331 rows x 17 columns]"
      ]
     },
     "execution_count": 32,
     "metadata": {},
     "output_type": "execute_result"
    }
   ],
   "source": [
    "data['children_group'] = data['children'].apply(children_group)\n",
    "data['family_group'] = data['family_status_id'].apply(family_group)\n",
    "data['purpose_group'] = data['purpose_lemmas'].apply(purpose_group)\n",
    "data['income_group'] = data['total_income'].apply(income_group)\n",
    "data"
   ]
  },
  {
   "cell_type": "markdown",
   "metadata": {},
   "source": [
    "**Вывод**"
   ]
  },
  {
   "cell_type": "markdown",
   "metadata": {},
   "source": [
    "Данные для исследования надежности заемщиков подготовлены.\n",
    "\n",
    "---"
   ]
  },
  {
   "cell_type": "markdown",
   "metadata": {},
   "source": [
    "## Шаг 3. Ответьте на вопросы"
   ]
  },
  {
   "cell_type": "markdown",
   "metadata": {},
   "source": [
    "- Есть ли зависимость между наличием детей и возвратом кредита в срок?"
   ]
  },
  {
   "cell_type": "code",
   "execution_count": 33,
   "metadata": {},
   "outputs": [
    {
     "data": {
      "text/html": [
       "<div>\n",
       "<style scoped>\n",
       "    .dataframe tbody tr th:only-of-type {\n",
       "        vertical-align: middle;\n",
       "    }\n",
       "\n",
       "    .dataframe tbody tr th {\n",
       "        vertical-align: top;\n",
       "    }\n",
       "\n",
       "    .dataframe thead tr th {\n",
       "        text-align: left;\n",
       "    }\n",
       "\n",
       "    .dataframe thead tr:last-of-type th {\n",
       "        text-align: right;\n",
       "    }\n",
       "</style>\n",
       "<table border=\"1\" class=\"dataframe\">\n",
       "  <thead>\n",
       "    <tr>\n",
       "      <th></th>\n",
       "      <th>mean</th>\n",
       "      <th>count</th>\n",
       "    </tr>\n",
       "    <tr>\n",
       "      <th></th>\n",
       "      <th>debt</th>\n",
       "      <th>debt</th>\n",
       "    </tr>\n",
       "    <tr>\n",
       "      <th>children_group</th>\n",
       "      <th></th>\n",
       "      <th></th>\n",
       "    </tr>\n",
       "  </thead>\n",
       "  <tbody>\n",
       "    <tr>\n",
       "      <td>детей нет</td>\n",
       "      <td>0.0754</td>\n",
       "      <td>14091</td>\n",
       "    </tr>\n",
       "    <tr>\n",
       "      <td>дети есть</td>\n",
       "      <td>0.0924</td>\n",
       "      <td>7240</td>\n",
       "    </tr>\n",
       "  </tbody>\n",
       "</table>\n",
       "</div>"
      ],
      "text/plain": [
       "                  mean  count\n",
       "                  debt   debt\n",
       "children_group               \n",
       "детей нет       0.0754  14091\n",
       "дети есть       0.0924   7240"
      ]
     },
     "execution_count": 33,
     "metadata": {},
     "output_type": "execute_result"
    }
   ],
   "source": [
    "data.pivot_table(index=['children_group'],\n",
    "                  values=['debt'],\n",
    "                  aggfunc=['mean', 'count']\n",
    "                  ).round(4)"
   ]
  },
  {
   "cell_type": "markdown",
   "metadata": {},
   "source": [
    "**Вывод**"
   ]
  },
  {
   "cell_type": "markdown",
   "metadata": {},
   "source": [
    "Наличие детей увеличивает вероятность задолженности по кредиту  \n",
    "на ~~24.7%~~ 22.5% по сравнению с клиентами без детей.\n",
    "\n",
    "---"
   ]
  },
  {
   "cell_type": "markdown",
   "metadata": {},
   "source": [
    "- Есть ли зависимость между семейным положением и возвратом кредита в срок?"
   ]
  },
  {
   "cell_type": "code",
   "execution_count": 34,
   "metadata": {},
   "outputs": [
    {
     "data": {
      "text/html": [
       "<div>\n",
       "<style scoped>\n",
       "    .dataframe tbody tr th:only-of-type {\n",
       "        vertical-align: middle;\n",
       "    }\n",
       "\n",
       "    .dataframe tbody tr th {\n",
       "        vertical-align: top;\n",
       "    }\n",
       "\n",
       "    .dataframe thead tr th {\n",
       "        text-align: left;\n",
       "    }\n",
       "\n",
       "    .dataframe thead tr:last-of-type th {\n",
       "        text-align: right;\n",
       "    }\n",
       "</style>\n",
       "<table border=\"1\" class=\"dataframe\">\n",
       "  <thead>\n",
       "    <tr>\n",
       "      <th></th>\n",
       "      <th>mean</th>\n",
       "      <th>count</th>\n",
       "    </tr>\n",
       "    <tr>\n",
       "      <th></th>\n",
       "      <th>debt</th>\n",
       "      <th>debt</th>\n",
       "    </tr>\n",
       "    <tr>\n",
       "      <th>family_group</th>\n",
       "      <th></th>\n",
       "      <th></th>\n",
       "    </tr>\n",
       "  </thead>\n",
       "  <tbody>\n",
       "    <tr>\n",
       "      <td>гражданский брак</td>\n",
       "      <td>0.0931</td>\n",
       "      <td>4134</td>\n",
       "    </tr>\n",
       "    <tr>\n",
       "      <td>не состоит в браке</td>\n",
       "      <td>0.0851</td>\n",
       "      <td>4936</td>\n",
       "    </tr>\n",
       "    <tr>\n",
       "      <td>состоит в браке</td>\n",
       "      <td>0.0756</td>\n",
       "      <td>12261</td>\n",
       "    </tr>\n",
       "  </tbody>\n",
       "</table>\n",
       "</div>"
      ],
      "text/plain": [
       "                      mean  count\n",
       "                      debt   debt\n",
       "family_group                     \n",
       "гражданский брак    0.0931   4134\n",
       "не состоит в браке  0.0851   4936\n",
       "состоит в браке     0.0756  12261"
      ]
     },
     "execution_count": 34,
     "metadata": {},
     "output_type": "execute_result"
    }
   ],
   "source": [
    "data.pivot_table(index=['family_group'],\n",
    "                  values=['debt'],\n",
    "                  aggfunc=['mean', 'count']\n",
    "                  ).round(4)"
   ]
  },
  {
   "cell_type": "markdown",
   "metadata": {},
   "source": [
    "**Вывод**"
   ]
  },
  {
   "cell_type": "markdown",
   "metadata": {},
   "source": [
    "Наиболее надежными являются клиенты, состоящие в браке.  \n",
    "Для клиентов, состоящих в гражданском браке  \n",
    "вероятность невозврата кредита в срок выше на ~~18.7%~~ 23.1%   \n",
    "а для не состоящих в браке на ~~13.4%~~ 12.6% по сравнению с первой группой.\n",
    "\n",
    "---"
   ]
  },
  {
   "cell_type": "markdown",
   "metadata": {},
   "source": [
    "- Есть ли зависимость между уровнем дохода и возвратом кредита в срок?"
   ]
  },
  {
   "cell_type": "code",
   "execution_count": 35,
   "metadata": {},
   "outputs": [
    {
     "data": {
      "text/html": [
       "<div>\n",
       "<style scoped>\n",
       "    .dataframe tbody tr th:only-of-type {\n",
       "        vertical-align: middle;\n",
       "    }\n",
       "\n",
       "    .dataframe tbody tr th {\n",
       "        vertical-align: top;\n",
       "    }\n",
       "\n",
       "    .dataframe thead tr th {\n",
       "        text-align: left;\n",
       "    }\n",
       "\n",
       "    .dataframe thead tr:last-of-type th {\n",
       "        text-align: right;\n",
       "    }\n",
       "</style>\n",
       "<table border=\"1\" class=\"dataframe\">\n",
       "  <thead>\n",
       "    <tr>\n",
       "      <th></th>\n",
       "      <th>mean</th>\n",
       "      <th>count</th>\n",
       "    </tr>\n",
       "    <tr>\n",
       "      <th></th>\n",
       "      <th>debt</th>\n",
       "      <th>debt</th>\n",
       "    </tr>\n",
       "    <tr>\n",
       "      <th>income_group</th>\n",
       "      <th></th>\n",
       "      <th></th>\n",
       "    </tr>\n",
       "  </thead>\n",
       "  <tbody>\n",
       "    <tr>\n",
       "      <td>высокий доход</td>\n",
       "      <td>0.0752</td>\n",
       "      <td>6968</td>\n",
       "    </tr>\n",
       "    <tr>\n",
       "      <td>низкий доход</td>\n",
       "      <td>0.0816</td>\n",
       "      <td>7110</td>\n",
       "    </tr>\n",
       "    <tr>\n",
       "      <td>средний доход</td>\n",
       "      <td>0.0866</td>\n",
       "      <td>7253</td>\n",
       "    </tr>\n",
       "  </tbody>\n",
       "</table>\n",
       "</div>"
      ],
      "text/plain": [
       "                 mean count\n",
       "                 debt  debt\n",
       "income_group               \n",
       "высокий доход  0.0752  6968\n",
       "низкий доход   0.0816  7110\n",
       "средний доход  0.0866  7253"
      ]
     },
     "execution_count": 35,
     "metadata": {},
     "output_type": "execute_result"
    }
   ],
   "source": [
    "data.pivot_table(index=['income_group'],\n",
    "                  values=['debt'],\n",
    "                  aggfunc=['mean', 'count']\n",
    "                  ).round(4)"
   ]
  },
  {
   "cell_type": "markdown",
   "metadata": {},
   "source": [
    "**Вывод**"
   ]
  },
  {
   "cell_type": "markdown",
   "metadata": {},
   "source": [
    "Наиболее надежны заемщики с высоким доходом.  \n",
    "Далее следуют клиенты с низким доходом (риск невозврата выше на ~~9.4%~~ 8.5%),   \n",
    "хуже всего результат у заемщиков со средним доходом: ~~16.7%~~ 15.2% выше, чем у первой группы.\n",
    "\n",
    "---"
   ]
  },
  {
   "cell_type": "markdown",
   "metadata": {},
   "source": [
    "- Как разные цели кредита влияют на его возврат в срок?"
   ]
  },
  {
   "cell_type": "code",
   "execution_count": 36,
   "metadata": {},
   "outputs": [
    {
     "data": {
      "text/html": [
       "<div>\n",
       "<style scoped>\n",
       "    .dataframe tbody tr th:only-of-type {\n",
       "        vertical-align: middle;\n",
       "    }\n",
       "\n",
       "    .dataframe tbody tr th {\n",
       "        vertical-align: top;\n",
       "    }\n",
       "\n",
       "    .dataframe thead tr th {\n",
       "        text-align: left;\n",
       "    }\n",
       "\n",
       "    .dataframe thead tr:last-of-type th {\n",
       "        text-align: right;\n",
       "    }\n",
       "</style>\n",
       "<table border=\"1\" class=\"dataframe\">\n",
       "  <thead>\n",
       "    <tr>\n",
       "      <th></th>\n",
       "      <th>mean</th>\n",
       "      <th>count</th>\n",
       "    </tr>\n",
       "    <tr>\n",
       "      <th></th>\n",
       "      <th>debt</th>\n",
       "      <th>debt</th>\n",
       "    </tr>\n",
       "    <tr>\n",
       "      <th>purpose_group</th>\n",
       "      <th></th>\n",
       "      <th></th>\n",
       "    </tr>\n",
       "  </thead>\n",
       "  <tbody>\n",
       "    <tr>\n",
       "      <td>автомобиль</td>\n",
       "      <td>0.0935</td>\n",
       "      <td>4279</td>\n",
       "    </tr>\n",
       "    <tr>\n",
       "      <td>жилье</td>\n",
       "      <td>0.0694</td>\n",
       "      <td>4437</td>\n",
       "    </tr>\n",
       "    <tr>\n",
       "      <td>недвижимость</td>\n",
       "      <td>0.0748</td>\n",
       "      <td>6314</td>\n",
       "    </tr>\n",
       "    <tr>\n",
       "      <td>образование</td>\n",
       "      <td>0.0925</td>\n",
       "      <td>3988</td>\n",
       "    </tr>\n",
       "    <tr>\n",
       "      <td>свадьба</td>\n",
       "      <td>0.0791</td>\n",
       "      <td>2313</td>\n",
       "    </tr>\n",
       "  </tbody>\n",
       "</table>\n",
       "</div>"
      ],
      "text/plain": [
       "                 mean count\n",
       "                 debt  debt\n",
       "purpose_group              \n",
       "автомобиль     0.0935  4279\n",
       "жилье          0.0694  4437\n",
       "недвижимость   0.0748  6314\n",
       "образование    0.0925  3988\n",
       "свадьба        0.0791  2313"
      ]
     },
     "execution_count": 36,
     "metadata": {},
     "output_type": "execute_result"
    }
   ],
   "source": [
    "data.pivot_table(index=['purpose_group'],\n",
    "                  values=['debt'],\n",
    "                  aggfunc=['mean', 'count']\n",
    "                  ).round(4)"
   ]
  },
  {
   "cell_type": "markdown",
   "metadata": {},
   "source": [
    "**Вывод**"
   ]
  },
  {
   "cell_type": "markdown",
   "metadata": {},
   "source": [
    "Наимененьший риск невозврата имеют кредиты на:\n",
    "- жилье \n",
    "- свадьба (~~+5.7%~~ +14.0%)\n",
    "- недвижимость (~~+8.0%~~ +7.8%)  \n",
    "\n",
    "Наибольший риск невозврата:\n",
    "\n",
    "- образование (~~+31.5%~~ +33.3%)\n",
    "- автомобиль (~~+34.0%~~ +34.7%)\n",
    "\n",
    "---"
   ]
  },
  {
   "cell_type": "markdown",
   "metadata": {},
   "source": [
    "## Шаг 4. Общий вывод"
   ]
  },
  {
   "cell_type": "markdown",
   "metadata": {},
   "source": [
    "Произведено исследование надежности заемщиков на основании статистики  \n",
    "о платежеспособности клиентов, предоставленной кредитным отделом банка.  \n",
    "\n",
    "Столбцы, не представляющие интереса для целей исследования не изменялись:    \n",
    "поскольку данные не содержат однозначных идентификаторов клиентов, то  \n",
    "данные в этих столбцах помогают идентифицировать уникальных клиентов  \n",
    "и найти дубликаты строк (после удаления строк с некорректными и отсутствующими  \n",
    "данными - таковых не оказалось)  \n",
    "\n",
    "Около 10% строк не содержат информацию о стаже и ежемесячном доходе.  \n",
    "Ежемесячный доход необходим в целях исследования, но его величина имеет  \n",
    "очень большой разброс, и заполнение средними или медианными значениями  \n",
    "может исказить результат исследования (по крайней мере в части влияния размера  \n",
    "дохода на возврат кредита). Поэтому эти строки были удалены из обрабатываемых  \n",
    "данных. Так же были удалены строки с некорректным количеством детей, поскольку  \n",
    "таких строк было не много.\n",
    "\n",
    "Категоризация выполнена учетом того, чтобы в группах получились статистически  \n",
    "значимые выборки имеющие схожие (одного порядка) размеры.  \n"
   ]
  },
  {
   "cell_type": "markdown",
   "metadata": {},
   "source": [
    "### Итоговая таблица:\n",
    "| Категория | Доля задолженности | После заполнения пропусков\n",
    "|----|:----|:----|\n",
    "|___Наличие детей:___|  |  |\n",
    "|детей нет| 0.0749 | 0.0754 |\n",
    "|дети есть| 0.0934 | 0.0924 |\n",
    "|___Семейное положение:___|  |  |\n",
    "|состоит в браке| 0.0761 | 0.0756 |\n",
    "|не состоит в браке| 0.0863 | 0.0851 |\n",
    "|гражданский брак| 0.0903 | 0.0931 |\n",
    "|___Уровень дохода:___|  |  |\n",
    "|высокий доход| 0.0747 | 0.0752 |\n",
    "|низкий доход| 0.0817 | 0.0816 |\n",
    "|средний доход| 0.0872 | 0.0866 |\n",
    "|___Цель кредита:___|  |  |\n",
    "|жилье| 0.0702 | 0.0694 |\n",
    "|свадьба| 0.0742 | 0.0791 |\n",
    "|недвижимость| 0.0758 | 0.0748 |\n",
    "|образование| 0.0923 | 0.0925 |\n",
    "|автомобиль| 0.0940 | 0.0935 |\n",
    "|___Средняя доля задолженности___|  |  |\n",
    "|___по всем данным:___| 0.0812 | 0.0812 |\n",
    "\n",
    "\n"
   ]
  },
  {
   "cell_type": "code",
   "execution_count": null,
   "metadata": {},
   "outputs": [],
   "source": []
  }
 ],
 "metadata": {
  "ExecuteTimeLog": [
   {
    "duration": 1312,
    "start_time": "2021-07-21T12:00:48.723Z"
   },
   {
    "duration": 379,
    "start_time": "2021-07-21T12:01:32.340Z"
   },
   {
    "duration": 92,
    "start_time": "2021-07-21T12:02:35.220Z"
   },
   {
    "duration": 77,
    "start_time": "2021-07-21T12:03:02.312Z"
   },
   {
    "duration": 85,
    "start_time": "2021-07-21T12:04:43.701Z"
   },
   {
    "duration": 935,
    "start_time": "2021-07-21T12:05:19.345Z"
   },
   {
    "duration": 79,
    "start_time": "2021-07-21T12:07:07.375Z"
   },
   {
    "duration": 74,
    "start_time": "2021-07-21T12:07:27.745Z"
   },
   {
    "duration": 74,
    "start_time": "2021-07-21T12:07:40.021Z"
   },
   {
    "duration": 72,
    "start_time": "2021-07-21T12:08:06.967Z"
   },
   {
    "duration": 77,
    "start_time": "2021-07-21T12:08:22.895Z"
   },
   {
    "duration": 74,
    "start_time": "2021-07-21T12:10:20.102Z"
   },
   {
    "duration": 89,
    "start_time": "2021-07-21T12:10:41.917Z"
   },
   {
    "duration": 855,
    "start_time": "2021-07-21T12:14:52.960Z"
   },
   {
    "duration": 72,
    "start_time": "2021-07-21T12:18:03.676Z"
   },
   {
    "duration": 73,
    "start_time": "2021-07-21T12:23:10.385Z"
   },
   {
    "duration": 73,
    "start_time": "2021-07-21T12:23:24.345Z"
   },
   {
    "duration": 833,
    "start_time": "2021-07-21T12:25:06.593Z"
   },
   {
    "duration": 44,
    "start_time": "2021-07-21T12:25:07.429Z"
   },
   {
    "duration": 16,
    "start_time": "2021-07-21T12:25:07.476Z"
   },
   {
    "duration": 22,
    "start_time": "2021-07-21T12:29:22.084Z"
   },
   {
    "duration": 864,
    "start_time": "2021-07-21T12:31:37.231Z"
   },
   {
    "duration": 35,
    "start_time": "2021-07-21T12:31:38.098Z"
   },
   {
    "duration": 32,
    "start_time": "2021-07-21T12:31:38.137Z"
   },
   {
    "duration": 5,
    "start_time": "2021-07-21T13:55:16.351Z"
   },
   {
    "duration": 6,
    "start_time": "2021-07-21T13:55:44.174Z"
   },
   {
    "duration": 6,
    "start_time": "2021-07-21T13:56:20.728Z"
   },
   {
    "duration": 5,
    "start_time": "2021-07-21T13:56:22.984Z"
   },
   {
    "duration": 10,
    "start_time": "2021-07-21T14:06:06.652Z"
   },
   {
    "duration": 10,
    "start_time": "2021-07-21T14:09:55.556Z"
   },
   {
    "duration": 11,
    "start_time": "2021-07-21T14:10:18.881Z"
   },
   {
    "duration": 427,
    "start_time": "2021-07-21T14:11:20.226Z"
   },
   {
    "duration": 11,
    "start_time": "2021-07-21T14:16:24.784Z"
   },
   {
    "duration": 10,
    "start_time": "2021-07-21T14:16:54.184Z"
   },
   {
    "duration": 10,
    "start_time": "2021-07-21T14:16:59.518Z"
   },
   {
    "duration": 13,
    "start_time": "2021-07-21T14:17:15.751Z"
   },
   {
    "duration": 9,
    "start_time": "2021-07-21T14:18:05.662Z"
   },
   {
    "duration": 9,
    "start_time": "2021-07-21T14:18:51.941Z"
   },
   {
    "duration": 11,
    "start_time": "2021-07-21T14:19:17.717Z"
   },
   {
    "duration": 458,
    "start_time": "2021-07-21T14:19:44.669Z"
   },
   {
    "duration": 9,
    "start_time": "2021-07-21T14:20:36.647Z"
   },
   {
    "duration": 10,
    "start_time": "2021-07-21T14:21:11.741Z"
   },
   {
    "duration": 9,
    "start_time": "2021-07-21T14:21:42.246Z"
   },
   {
    "duration": 10,
    "start_time": "2021-07-21T14:22:23.221Z"
   },
   {
    "duration": 9,
    "start_time": "2021-07-21T14:23:05.797Z"
   },
   {
    "duration": 10,
    "start_time": "2021-07-21T14:24:00.380Z"
   },
   {
    "duration": 358,
    "start_time": "2021-07-21T14:24:07.211Z"
   },
   {
    "duration": 10,
    "start_time": "2021-07-21T14:24:13.212Z"
   },
   {
    "duration": 9,
    "start_time": "2021-07-21T14:24:33.051Z"
   },
   {
    "duration": 412,
    "start_time": "2021-07-21T14:24:44.659Z"
   },
   {
    "duration": 352,
    "start_time": "2021-07-21T14:24:52.404Z"
   },
   {
    "duration": 12,
    "start_time": "2021-07-21T14:25:20.307Z"
   },
   {
    "duration": 281,
    "start_time": "2021-07-30T09:41:32.125Z"
   },
   {
    "duration": 1111,
    "start_time": "2021-07-30T09:41:39.945Z"
   },
   {
    "duration": 64,
    "start_time": "2021-07-30T09:41:41.058Z"
   },
   {
    "duration": 10,
    "start_time": "2021-07-30T09:41:41.124Z"
   },
   {
    "duration": 5,
    "start_time": "2021-07-30T09:41:41.136Z"
   },
   {
    "duration": 8,
    "start_time": "2021-07-30T09:41:41.143Z"
   },
   {
    "duration": 424,
    "start_time": "2021-07-30T09:41:41.152Z"
   },
   {
    "duration": 294,
    "start_time": "2021-07-30T09:41:41.577Z"
   },
   {
    "duration": 7,
    "start_time": "2021-07-30T09:41:41.873Z"
   },
   {
    "duration": 9,
    "start_time": "2021-07-30T09:41:41.882Z"
   },
   {
    "duration": 4,
    "start_time": "2021-07-30T09:41:41.893Z"
   },
   {
    "duration": 8,
    "start_time": "2021-07-30T09:41:41.898Z"
   },
   {
    "duration": 35,
    "start_time": "2021-07-30T09:41:41.907Z"
   },
   {
    "duration": 332,
    "start_time": "2021-07-30T09:41:41.943Z"
   },
   {
    "duration": -3813,
    "start_time": "2021-07-30T09:41:46.091Z"
   },
   {
    "duration": -3816,
    "start_time": "2021-07-30T09:41:46.095Z"
   },
   {
    "duration": -3818,
    "start_time": "2021-07-30T09:41:46.098Z"
   },
   {
    "duration": -3833,
    "start_time": "2021-07-30T09:41:46.114Z"
   },
   {
    "duration": -3836,
    "start_time": "2021-07-30T09:41:46.117Z"
   },
   {
    "duration": -3838,
    "start_time": "2021-07-30T09:41:46.120Z"
   },
   {
    "duration": -3840,
    "start_time": "2021-07-30T09:41:46.123Z"
   },
   {
    "duration": -3841,
    "start_time": "2021-07-30T09:41:46.126Z"
   },
   {
    "duration": -3843,
    "start_time": "2021-07-30T09:41:46.129Z"
   },
   {
    "duration": -3844,
    "start_time": "2021-07-30T09:41:46.132Z"
   },
   {
    "duration": -3845,
    "start_time": "2021-07-30T09:41:46.134Z"
   },
   {
    "duration": -3848,
    "start_time": "2021-07-30T09:41:46.138Z"
   },
   {
    "duration": -3856,
    "start_time": "2021-07-30T09:41:46.148Z"
   },
   {
    "duration": -3858,
    "start_time": "2021-07-30T09:41:46.151Z"
   },
   {
    "duration": -3859,
    "start_time": "2021-07-30T09:41:46.153Z"
   },
   {
    "duration": -3860,
    "start_time": "2021-07-30T09:41:46.156Z"
   },
   {
    "duration": -3862,
    "start_time": "2021-07-30T09:41:46.159Z"
   },
   {
    "duration": -3864,
    "start_time": "2021-07-30T09:41:46.162Z"
   },
   {
    "duration": -3866,
    "start_time": "2021-07-30T09:41:46.166Z"
   },
   {
    "duration": -3869,
    "start_time": "2021-07-30T09:41:46.170Z"
   },
   {
    "duration": -3869,
    "start_time": "2021-07-30T09:41:46.172Z"
   },
   {
    "duration": 16,
    "start_time": "2021-07-30T09:42:11.499Z"
   },
   {
    "duration": 22,
    "start_time": "2021-07-30T09:42:34.314Z"
   },
   {
    "duration": 1113,
    "start_time": "2021-07-30T09:51:41.540Z"
   },
   {
    "duration": 65,
    "start_time": "2021-07-30T09:51:42.655Z"
   },
   {
    "duration": 12,
    "start_time": "2021-07-30T09:51:42.722Z"
   },
   {
    "duration": 7,
    "start_time": "2021-07-30T09:51:42.741Z"
   },
   {
    "duration": 9,
    "start_time": "2021-07-30T09:51:42.749Z"
   },
   {
    "duration": 425,
    "start_time": "2021-07-30T09:51:42.761Z"
   },
   {
    "duration": 326,
    "start_time": "2021-07-30T09:51:43.188Z"
   },
   {
    "duration": 9,
    "start_time": "2021-07-30T09:51:43.517Z"
   },
   {
    "duration": 12,
    "start_time": "2021-07-30T09:51:43.542Z"
   },
   {
    "duration": 6,
    "start_time": "2021-07-30T09:51:43.556Z"
   },
   {
    "duration": 9,
    "start_time": "2021-07-30T09:51:43.564Z"
   },
   {
    "duration": 10,
    "start_time": "2021-07-30T09:51:43.575Z"
   },
   {
    "duration": 20,
    "start_time": "2021-07-30T09:51:43.587Z"
   },
   {
    "duration": 44,
    "start_time": "2021-07-30T09:51:43.608Z"
   },
   {
    "duration": 9,
    "start_time": "2021-07-30T09:51:43.654Z"
   },
   {
    "duration": 8,
    "start_time": "2021-07-30T09:51:43.665Z"
   },
   {
    "duration": 6,
    "start_time": "2021-07-30T09:51:43.674Z"
   },
   {
    "duration": 5,
    "start_time": "2021-07-30T09:51:43.681Z"
   },
   {
    "duration": 72,
    "start_time": "2021-07-30T09:51:43.688Z"
   },
   {
    "duration": 6,
    "start_time": "2021-07-30T09:51:43.761Z"
   },
   {
    "duration": 9,
    "start_time": "2021-07-30T09:51:43.768Z"
   },
   {
    "duration": 16,
    "start_time": "2021-07-30T09:51:43.779Z"
   },
   {
    "duration": 16,
    "start_time": "2021-07-30T09:51:43.799Z"
   },
   {
    "duration": 6,
    "start_time": "2021-07-30T09:51:43.840Z"
   },
   {
    "duration": 22,
    "start_time": "2021-07-30T09:51:43.848Z"
   },
   {
    "duration": 13,
    "start_time": "2021-07-30T09:51:43.871Z"
   },
   {
    "duration": 683,
    "start_time": "2021-07-30T09:51:43.886Z"
   },
   {
    "duration": 21,
    "start_time": "2021-07-30T09:51:44.572Z"
   },
   {
    "duration": 11,
    "start_time": "2021-07-30T09:51:44.595Z"
   },
   {
    "duration": 70,
    "start_time": "2021-07-30T09:51:44.608Z"
   },
   {
    "duration": 27,
    "start_time": "2021-07-30T09:51:44.679Z"
   },
   {
    "duration": 44,
    "start_time": "2021-07-30T09:51:44.708Z"
   },
   {
    "duration": 22,
    "start_time": "2021-07-30T09:51:44.754Z"
   },
   {
    "duration": 23,
    "start_time": "2021-07-30T09:51:44.778Z"
   },
   {
    "duration": 53,
    "start_time": "2021-07-30T09:55:52.668Z"
   },
   {
    "duration": 332,
    "start_time": "2021-07-30T10:08:34.095Z"
   },
   {
    "duration": 256,
    "start_time": "2021-07-30T10:08:44.358Z"
   },
   {
    "duration": 7,
    "start_time": "2021-07-30T10:08:52.231Z"
   },
   {
    "duration": 6,
    "start_time": "2021-07-30T10:13:27.013Z"
   },
   {
    "duration": 7,
    "start_time": "2021-07-30T10:13:52.829Z"
   },
   {
    "duration": 6,
    "start_time": "2021-07-30T10:15:06.523Z"
   },
   {
    "duration": 8,
    "start_time": "2021-07-30T10:15:11.443Z"
   },
   {
    "duration": 10,
    "start_time": "2021-07-30T10:15:24.263Z"
   },
   {
    "duration": 6,
    "start_time": "2021-07-30T10:15:27.619Z"
   },
   {
    "duration": 7,
    "start_time": "2021-07-30T10:16:34.507Z"
   },
   {
    "duration": 450,
    "start_time": "2021-07-30T10:42:21.200Z"
   },
   {
    "duration": 433,
    "start_time": "2021-07-30T10:44:19.009Z"
   },
   {
    "duration": 723,
    "start_time": "2021-07-30T10:45:42.297Z"
   },
   {
    "duration": 268,
    "start_time": "2021-07-30T10:45:57.824Z"
   },
   {
    "duration": 4,
    "start_time": "2021-07-30T10:46:56.863Z"
   },
   {
    "duration": 6,
    "start_time": "2021-07-30T10:47:11.857Z"
   },
   {
    "duration": 259,
    "start_time": "2021-07-30T10:47:47.840Z"
   },
   {
    "duration": 1049,
    "start_time": "2021-07-30T10:47:55.295Z"
   },
   {
    "duration": 65,
    "start_time": "2021-07-30T10:47:56.346Z"
   },
   {
    "duration": 10,
    "start_time": "2021-07-30T10:47:56.413Z"
   },
   {
    "duration": 6,
    "start_time": "2021-07-30T10:47:56.424Z"
   },
   {
    "duration": 5,
    "start_time": "2021-07-30T10:47:56.440Z"
   },
   {
    "duration": 414,
    "start_time": "2021-07-30T10:47:56.447Z"
   },
   {
    "duration": 314,
    "start_time": "2021-07-30T10:47:56.862Z"
   },
   {
    "duration": 7,
    "start_time": "2021-07-30T10:47:57.179Z"
   },
   {
    "duration": 11,
    "start_time": "2021-07-30T10:47:57.188Z"
   },
   {
    "duration": 5,
    "start_time": "2021-07-30T10:47:57.200Z"
   },
   {
    "duration": 7,
    "start_time": "2021-07-30T10:47:57.207Z"
   },
   {
    "duration": 34,
    "start_time": "2021-07-30T10:47:57.216Z"
   },
   {
    "duration": 21,
    "start_time": "2021-07-30T10:47:57.252Z"
   },
   {
    "duration": 13,
    "start_time": "2021-07-30T10:47:57.274Z"
   },
   {
    "duration": 7,
    "start_time": "2021-07-30T10:47:57.288Z"
   },
   {
    "duration": 7,
    "start_time": "2021-07-30T10:47:57.297Z"
   },
   {
    "duration": 39,
    "start_time": "2021-07-30T10:47:57.306Z"
   },
   {
    "duration": 6,
    "start_time": "2021-07-30T10:47:57.347Z"
   },
   {
    "duration": 39,
    "start_time": "2021-07-30T10:47:57.354Z"
   },
   {
    "duration": 6,
    "start_time": "2021-07-30T10:47:57.394Z"
   },
   {
    "duration": 9,
    "start_time": "2021-07-30T10:47:57.401Z"
   },
   {
    "duration": 43,
    "start_time": "2021-07-30T10:47:57.412Z"
   },
   {
    "duration": 18,
    "start_time": "2021-07-30T10:47:57.458Z"
   },
   {
    "duration": 2527,
    "start_time": "2021-07-30T10:47:57.478Z"
   },
   {
    "duration": 34,
    "start_time": "2021-07-30T10:48:00.007Z"
   },
   {
    "duration": 5,
    "start_time": "2021-07-30T10:48:00.043Z"
   },
   {
    "duration": 15,
    "start_time": "2021-07-30T10:48:00.049Z"
   },
   {
    "duration": 14,
    "start_time": "2021-07-30T10:48:00.066Z"
   },
   {
    "duration": 674,
    "start_time": "2021-07-30T10:48:00.082Z"
   },
   {
    "duration": 21,
    "start_time": "2021-07-30T10:48:00.758Z"
   },
   {
    "duration": 9,
    "start_time": "2021-07-30T10:48:00.780Z"
   },
   {
    "duration": 61,
    "start_time": "2021-07-30T10:48:00.791Z"
   },
   {
    "duration": 29,
    "start_time": "2021-07-30T10:48:00.854Z"
   },
   {
    "duration": 26,
    "start_time": "2021-07-30T10:48:00.885Z"
   },
   {
    "duration": 51,
    "start_time": "2021-07-30T10:48:00.914Z"
   },
   {
    "duration": 27,
    "start_time": "2021-07-30T10:48:00.967Z"
   },
   {
    "duration": 1097,
    "start_time": "2021-07-30T10:50:19.363Z"
   },
   {
    "duration": 66,
    "start_time": "2021-07-30T10:50:20.462Z"
   },
   {
    "duration": 10,
    "start_time": "2021-07-30T10:50:20.530Z"
   },
   {
    "duration": 12,
    "start_time": "2021-07-30T10:50:20.542Z"
   },
   {
    "duration": 5,
    "start_time": "2021-07-30T10:50:20.556Z"
   },
   {
    "duration": 416,
    "start_time": "2021-07-30T10:50:20.562Z"
   },
   {
    "duration": 314,
    "start_time": "2021-07-30T10:50:20.980Z"
   },
   {
    "duration": 8,
    "start_time": "2021-07-30T10:50:21.296Z"
   },
   {
    "duration": 8,
    "start_time": "2021-07-30T10:50:21.306Z"
   },
   {
    "duration": 7,
    "start_time": "2021-07-30T10:50:21.316Z"
   },
   {
    "duration": 11,
    "start_time": "2021-07-30T10:50:21.342Z"
   },
   {
    "duration": 12,
    "start_time": "2021-07-30T10:50:21.355Z"
   },
   {
    "duration": 20,
    "start_time": "2021-07-30T10:50:21.369Z"
   },
   {
    "duration": 12,
    "start_time": "2021-07-30T10:50:21.391Z"
   },
   {
    "duration": 37,
    "start_time": "2021-07-30T10:50:21.404Z"
   },
   {
    "duration": 7,
    "start_time": "2021-07-30T10:50:21.442Z"
   },
   {
    "duration": 7,
    "start_time": "2021-07-30T10:50:21.451Z"
   },
   {
    "duration": 9,
    "start_time": "2021-07-30T10:50:21.460Z"
   },
   {
    "duration": 43,
    "start_time": "2021-07-30T10:50:21.470Z"
   },
   {
    "duration": 26,
    "start_time": "2021-07-30T10:50:21.515Z"
   },
   {
    "duration": 8,
    "start_time": "2021-07-30T10:50:21.543Z"
   },
   {
    "duration": 18,
    "start_time": "2021-07-30T10:50:21.552Z"
   },
   {
    "duration": 497,
    "start_time": "2021-07-30T10:50:21.573Z"
   },
   {
    "duration": -3854,
    "start_time": "2021-07-30T10:50:25.926Z"
   },
   {
    "duration": -3868,
    "start_time": "2021-07-30T10:50:25.941Z"
   },
   {
    "duration": -3873,
    "start_time": "2021-07-30T10:50:25.947Z"
   },
   {
    "duration": -3881,
    "start_time": "2021-07-30T10:50:25.956Z"
   },
   {
    "duration": -3883,
    "start_time": "2021-07-30T10:50:25.960Z"
   },
   {
    "duration": -3886,
    "start_time": "2021-07-30T10:50:25.963Z"
   },
   {
    "duration": -3888,
    "start_time": "2021-07-30T10:50:25.966Z"
   },
   {
    "duration": -3896,
    "start_time": "2021-07-30T10:50:25.975Z"
   },
   {
    "duration": -3900,
    "start_time": "2021-07-30T10:50:25.980Z"
   },
   {
    "duration": -3902,
    "start_time": "2021-07-30T10:50:25.983Z"
   },
   {
    "duration": -3910,
    "start_time": "2021-07-30T10:50:25.992Z"
   },
   {
    "duration": -3913,
    "start_time": "2021-07-30T10:50:25.996Z"
   },
   {
    "duration": 1040,
    "start_time": "2021-07-30T10:52:45.403Z"
   },
   {
    "duration": 64,
    "start_time": "2021-07-30T10:52:46.445Z"
   },
   {
    "duration": 9,
    "start_time": "2021-07-30T10:52:46.511Z"
   },
   {
    "duration": 5,
    "start_time": "2021-07-30T10:52:46.523Z"
   },
   {
    "duration": 13,
    "start_time": "2021-07-30T10:52:46.530Z"
   },
   {
    "duration": 412,
    "start_time": "2021-07-30T10:52:46.544Z"
   },
   {
    "duration": 306,
    "start_time": "2021-07-30T10:52:46.957Z"
   },
   {
    "duration": 7,
    "start_time": "2021-07-30T10:52:47.265Z"
   },
   {
    "duration": 10,
    "start_time": "2021-07-30T10:52:47.274Z"
   },
   {
    "duration": 5,
    "start_time": "2021-07-30T10:52:47.285Z"
   },
   {
    "duration": 21,
    "start_time": "2021-07-30T10:52:47.292Z"
   },
   {
    "duration": 27,
    "start_time": "2021-07-30T10:52:47.314Z"
   },
   {
    "duration": 20,
    "start_time": "2021-07-30T10:52:47.342Z"
   },
   {
    "duration": 11,
    "start_time": "2021-07-30T10:52:47.363Z"
   },
   {
    "duration": 6,
    "start_time": "2021-07-30T10:52:47.375Z"
   },
   {
    "duration": 8,
    "start_time": "2021-07-30T10:52:47.383Z"
   },
   {
    "duration": 9,
    "start_time": "2021-07-30T10:52:47.392Z"
   },
   {
    "duration": 4,
    "start_time": "2021-07-30T10:52:47.403Z"
   },
   {
    "duration": 73,
    "start_time": "2021-07-30T10:52:47.408Z"
   },
   {
    "duration": 7,
    "start_time": "2021-07-30T10:52:47.483Z"
   },
   {
    "duration": 21,
    "start_time": "2021-07-30T10:52:47.491Z"
   },
   {
    "duration": 27,
    "start_time": "2021-07-30T10:52:47.514Z"
   },
   {
    "duration": 13,
    "start_time": "2021-07-30T10:52:47.544Z"
   },
   {
    "duration": 7,
    "start_time": "2021-07-30T10:52:47.558Z"
   },
   {
    "duration": 12,
    "start_time": "2021-07-30T10:52:47.567Z"
   },
   {
    "duration": 21,
    "start_time": "2021-07-30T10:52:47.580Z"
   },
   {
    "duration": 21,
    "start_time": "2021-07-30T10:52:47.604Z"
   },
   {
    "duration": 16,
    "start_time": "2021-07-30T10:52:47.627Z"
   },
   {
    "duration": 28,
    "start_time": "2021-07-30T10:52:47.644Z"
   },
   {
    "duration": 368,
    "start_time": "2021-07-30T10:52:47.673Z"
   },
   {
    "duration": -3908,
    "start_time": "2021-07-30T10:52:51.951Z"
   },
   {
    "duration": -3941,
    "start_time": "2021-07-30T10:52:51.985Z"
   },
   {
    "duration": -3943,
    "start_time": "2021-07-30T10:52:51.988Z"
   },
   {
    "duration": -3944,
    "start_time": "2021-07-30T10:52:51.990Z"
   },
   {
    "duration": -3947,
    "start_time": "2021-07-30T10:52:51.993Z"
   },
   {
    "duration": 1055,
    "start_time": "2021-07-30T10:54:05.205Z"
   },
   {
    "duration": 65,
    "start_time": "2021-07-30T10:54:06.262Z"
   },
   {
    "duration": 10,
    "start_time": "2021-07-30T10:54:06.329Z"
   },
   {
    "duration": 8,
    "start_time": "2021-07-30T10:54:06.341Z"
   },
   {
    "duration": 6,
    "start_time": "2021-07-30T10:54:06.351Z"
   },
   {
    "duration": 411,
    "start_time": "2021-07-30T10:54:06.359Z"
   },
   {
    "duration": 305,
    "start_time": "2021-07-30T10:54:06.772Z"
   },
   {
    "duration": 8,
    "start_time": "2021-07-30T10:54:07.080Z"
   },
   {
    "duration": 22,
    "start_time": "2021-07-30T10:54:07.090Z"
   },
   {
    "duration": 10,
    "start_time": "2021-07-30T10:54:07.114Z"
   },
   {
    "duration": 12,
    "start_time": "2021-07-30T10:54:07.125Z"
   },
   {
    "duration": 12,
    "start_time": "2021-07-30T10:54:07.141Z"
   },
   {
    "duration": 22,
    "start_time": "2021-07-30T10:54:07.155Z"
   },
   {
    "duration": 11,
    "start_time": "2021-07-30T10:54:07.178Z"
   },
   {
    "duration": 7,
    "start_time": "2021-07-30T10:54:07.191Z"
   },
   {
    "duration": 9,
    "start_time": "2021-07-30T10:54:07.199Z"
   },
   {
    "duration": 6,
    "start_time": "2021-07-30T10:54:07.241Z"
   },
   {
    "duration": 6,
    "start_time": "2021-07-30T10:54:07.248Z"
   },
   {
    "duration": 47,
    "start_time": "2021-07-30T10:54:07.255Z"
   },
   {
    "duration": 6,
    "start_time": "2021-07-30T10:54:07.303Z"
   },
   {
    "duration": 12,
    "start_time": "2021-07-30T10:54:07.310Z"
   },
   {
    "duration": 28,
    "start_time": "2021-07-30T10:54:07.324Z"
   },
   {
    "duration": 27,
    "start_time": "2021-07-30T10:54:07.355Z"
   },
   {
    "duration": 17,
    "start_time": "2021-07-30T10:54:07.384Z"
   },
   {
    "duration": 4,
    "start_time": "2021-07-30T10:54:07.403Z"
   },
   {
    "duration": 37,
    "start_time": "2021-07-30T10:54:07.409Z"
   },
   {
    "duration": 14,
    "start_time": "2021-07-30T10:54:07.447Z"
   },
   {
    "duration": 630,
    "start_time": "2021-07-30T10:54:07.462Z"
   },
   {
    "duration": 19,
    "start_time": "2021-07-30T10:54:08.095Z"
   },
   {
    "duration": 26,
    "start_time": "2021-07-30T10:54:08.116Z"
   },
   {
    "duration": 51,
    "start_time": "2021-07-30T10:54:08.144Z"
   },
   {
    "duration": 26,
    "start_time": "2021-07-30T10:54:08.196Z"
   },
   {
    "duration": 26,
    "start_time": "2021-07-30T10:54:08.224Z"
   },
   {
    "duration": 21,
    "start_time": "2021-07-30T10:54:08.251Z"
   },
   {
    "duration": 21,
    "start_time": "2021-07-30T10:54:08.273Z"
   },
   {
    "duration": 14,
    "start_time": "2021-07-30T10:56:26.789Z"
   },
   {
    "duration": 1064,
    "start_time": "2021-07-30T10:56:40.879Z"
   },
   {
    "duration": 65,
    "start_time": "2021-07-30T10:56:41.945Z"
   },
   {
    "duration": 10,
    "start_time": "2021-07-30T10:56:42.012Z"
   },
   {
    "duration": 9,
    "start_time": "2021-07-30T10:56:42.024Z"
   },
   {
    "duration": 6,
    "start_time": "2021-07-30T10:56:42.040Z"
   },
   {
    "duration": 407,
    "start_time": "2021-07-30T10:56:42.047Z"
   },
   {
    "duration": 312,
    "start_time": "2021-07-30T10:56:42.455Z"
   },
   {
    "duration": 7,
    "start_time": "2021-07-30T10:56:42.769Z"
   },
   {
    "duration": 14,
    "start_time": "2021-07-30T10:56:42.778Z"
   },
   {
    "duration": 5,
    "start_time": "2021-07-30T10:56:42.793Z"
   },
   {
    "duration": 8,
    "start_time": "2021-07-30T10:56:42.799Z"
   },
   {
    "duration": 39,
    "start_time": "2021-07-30T10:56:42.809Z"
   },
   {
    "duration": 19,
    "start_time": "2021-07-30T10:56:42.850Z"
   },
   {
    "duration": 10,
    "start_time": "2021-07-30T10:56:42.871Z"
   },
   {
    "duration": 6,
    "start_time": "2021-07-30T10:56:42.883Z"
   },
   {
    "duration": 8,
    "start_time": "2021-07-30T10:56:42.890Z"
   },
   {
    "duration": 6,
    "start_time": "2021-07-30T10:56:42.899Z"
   },
   {
    "duration": 10,
    "start_time": "2021-07-30T10:56:42.907Z"
   },
   {
    "duration": 37,
    "start_time": "2021-07-30T10:56:42.941Z"
   },
   {
    "duration": 5,
    "start_time": "2021-07-30T10:56:42.980Z"
   },
   {
    "duration": 19,
    "start_time": "2021-07-30T10:56:42.986Z"
   },
   {
    "duration": 25,
    "start_time": "2021-07-30T10:56:43.006Z"
   },
   {
    "duration": 13,
    "start_time": "2021-07-30T10:56:43.040Z"
   },
   {
    "duration": 17,
    "start_time": "2021-07-30T10:56:43.055Z"
   },
   {
    "duration": 4,
    "start_time": "2021-07-30T10:56:43.073Z"
   },
   {
    "duration": 13,
    "start_time": "2021-07-30T10:56:43.078Z"
   },
   {
    "duration": 13,
    "start_time": "2021-07-30T10:56:43.092Z"
   },
   {
    "duration": 655,
    "start_time": "2021-07-30T10:56:43.106Z"
   },
   {
    "duration": 20,
    "start_time": "2021-07-30T10:56:43.763Z"
   },
   {
    "duration": 9,
    "start_time": "2021-07-30T10:56:43.785Z"
   },
   {
    "duration": 60,
    "start_time": "2021-07-30T10:56:43.796Z"
   },
   {
    "duration": 28,
    "start_time": "2021-07-30T10:56:43.857Z"
   },
   {
    "duration": 21,
    "start_time": "2021-07-30T10:56:43.886Z"
   },
   {
    "duration": 41,
    "start_time": "2021-07-30T10:56:43.909Z"
   },
   {
    "duration": 21,
    "start_time": "2021-07-30T10:56:43.951Z"
   },
   {
    "duration": 1378,
    "start_time": "2021-07-30T11:01:39.050Z"
   },
   {
    "duration": 90,
    "start_time": "2021-07-30T11:01:40.431Z"
   },
   {
    "duration": 19,
    "start_time": "2021-07-30T11:01:40.524Z"
   },
   {
    "duration": 6,
    "start_time": "2021-07-30T11:01:40.546Z"
   },
   {
    "duration": 17,
    "start_time": "2021-07-30T11:01:40.554Z"
   },
   {
    "duration": 608,
    "start_time": "2021-07-30T11:01:40.573Z"
   },
   {
    "duration": 410,
    "start_time": "2021-07-30T11:01:41.183Z"
   },
   {
    "duration": 9,
    "start_time": "2021-07-30T11:01:41.595Z"
   },
   {
    "duration": 14,
    "start_time": "2021-07-30T11:01:41.607Z"
   },
   {
    "duration": 22,
    "start_time": "2021-07-30T11:01:41.622Z"
   },
   {
    "duration": 13,
    "start_time": "2021-07-30T11:01:41.646Z"
   },
   {
    "duration": 23,
    "start_time": "2021-07-30T11:01:41.661Z"
   },
   {
    "duration": 37,
    "start_time": "2021-07-30T11:01:41.686Z"
   },
   {
    "duration": 18,
    "start_time": "2021-07-30T11:01:41.725Z"
   },
   {
    "duration": 8,
    "start_time": "2021-07-30T11:01:41.745Z"
   },
   {
    "duration": 25,
    "start_time": "2021-07-30T11:01:41.755Z"
   },
   {
    "duration": 10,
    "start_time": "2021-07-30T11:01:41.782Z"
   },
   {
    "duration": 6,
    "start_time": "2021-07-30T11:01:41.794Z"
   },
   {
    "duration": 63,
    "start_time": "2021-07-30T11:01:41.802Z"
   },
   {
    "duration": 6,
    "start_time": "2021-07-30T11:01:41.867Z"
   },
   {
    "duration": 23,
    "start_time": "2021-07-30T11:01:41.875Z"
   },
   {
    "duration": 31,
    "start_time": "2021-07-30T11:01:41.900Z"
   },
   {
    "duration": 19,
    "start_time": "2021-07-30T11:01:41.935Z"
   },
   {
    "duration": 3,
    "start_time": "2021-07-30T11:01:41.956Z"
   },
   {
    "duration": 16,
    "start_time": "2021-07-30T11:01:41.961Z"
   },
   {
    "duration": 436,
    "start_time": "2021-07-30T11:01:41.979Z"
   },
   {
    "duration": -3871,
    "start_time": "2021-07-30T11:01:46.288Z"
   },
   {
    "duration": -3873,
    "start_time": "2021-07-30T11:01:46.291Z"
   },
   {
    "duration": -3874,
    "start_time": "2021-07-30T11:01:46.294Z"
   },
   {
    "duration": -3876,
    "start_time": "2021-07-30T11:01:46.297Z"
   },
   {
    "duration": -3878,
    "start_time": "2021-07-30T11:01:46.300Z"
   },
   {
    "duration": -3880,
    "start_time": "2021-07-30T11:01:46.303Z"
   },
   {
    "duration": -3886,
    "start_time": "2021-07-30T11:01:46.310Z"
   },
   {
    "duration": -3888,
    "start_time": "2021-07-30T11:01:46.313Z"
   },
   {
    "duration": -3888,
    "start_time": "2021-07-30T11:01:46.315Z"
   },
   {
    "duration": 1251,
    "start_time": "2021-07-30T11:02:46.809Z"
   },
   {
    "duration": 75,
    "start_time": "2021-07-30T11:02:48.062Z"
   },
   {
    "duration": 14,
    "start_time": "2021-07-30T11:02:48.140Z"
   },
   {
    "duration": 9,
    "start_time": "2021-07-30T11:02:48.156Z"
   },
   {
    "duration": 9,
    "start_time": "2021-07-30T11:02:48.167Z"
   },
   {
    "duration": 610,
    "start_time": "2021-07-30T11:02:48.178Z"
   },
   {
    "duration": 332,
    "start_time": "2021-07-30T11:02:48.790Z"
   },
   {
    "duration": 17,
    "start_time": "2021-07-30T11:02:49.125Z"
   },
   {
    "duration": 17,
    "start_time": "2021-07-30T11:02:49.145Z"
   },
   {
    "duration": 6,
    "start_time": "2021-07-30T11:02:49.164Z"
   },
   {
    "duration": 9,
    "start_time": "2021-07-30T11:02:49.172Z"
   },
   {
    "duration": 11,
    "start_time": "2021-07-30T11:02:49.183Z"
   },
   {
    "duration": 56,
    "start_time": "2021-07-30T11:02:49.196Z"
   },
   {
    "duration": 14,
    "start_time": "2021-07-30T11:02:49.255Z"
   },
   {
    "duration": 7,
    "start_time": "2021-07-30T11:02:49.271Z"
   },
   {
    "duration": 10,
    "start_time": "2021-07-30T11:02:49.279Z"
   },
   {
    "duration": 9,
    "start_time": "2021-07-30T11:02:49.291Z"
   },
   {
    "duration": 5,
    "start_time": "2021-07-30T11:02:49.302Z"
   },
   {
    "duration": 87,
    "start_time": "2021-07-30T11:02:49.308Z"
   },
   {
    "duration": 7,
    "start_time": "2021-07-30T11:02:49.398Z"
   },
   {
    "duration": 13,
    "start_time": "2021-07-30T11:02:49.406Z"
   },
   {
    "duration": 40,
    "start_time": "2021-07-30T11:02:49.421Z"
   },
   {
    "duration": 20,
    "start_time": "2021-07-30T11:02:49.465Z"
   },
   {
    "duration": 5,
    "start_time": "2021-07-30T11:02:49.487Z"
   },
   {
    "duration": 8,
    "start_time": "2021-07-30T11:02:49.493Z"
   },
   {
    "duration": 363,
    "start_time": "2021-07-30T11:02:49.502Z"
   },
   {
    "duration": -3848,
    "start_time": "2021-07-30T11:02:53.715Z"
   },
   {
    "duration": -3850,
    "start_time": "2021-07-30T11:02:53.718Z"
   },
   {
    "duration": -3852,
    "start_time": "2021-07-30T11:02:53.721Z"
   },
   {
    "duration": -3854,
    "start_time": "2021-07-30T11:02:53.724Z"
   },
   {
    "duration": -3855,
    "start_time": "2021-07-30T11:02:53.726Z"
   },
   {
    "duration": -3872,
    "start_time": "2021-07-30T11:02:53.744Z"
   },
   {
    "duration": -3875,
    "start_time": "2021-07-30T11:02:53.748Z"
   },
   {
    "duration": -3877,
    "start_time": "2021-07-30T11:02:53.751Z"
   },
   {
    "duration": -3879,
    "start_time": "2021-07-30T11:02:53.754Z"
   },
   {
    "duration": 2,
    "start_time": "2021-07-30T11:04:02.487Z"
   },
   {
    "duration": 12,
    "start_time": "2021-07-30T11:04:28.569Z"
   },
   {
    "duration": 16,
    "start_time": "2021-07-30T11:04:53.811Z"
   },
   {
    "duration": 2633,
    "start_time": "2021-07-30T11:06:11.608Z"
   },
   {
    "duration": 2693,
    "start_time": "2021-07-30T11:06:29.848Z"
   },
   {
    "duration": 247,
    "start_time": "2021-07-30T11:06:53.624Z"
   },
   {
    "duration": 1153,
    "start_time": "2021-07-30T11:07:00.899Z"
   },
   {
    "duration": 67,
    "start_time": "2021-07-30T11:07:02.054Z"
   },
   {
    "duration": 10,
    "start_time": "2021-07-30T11:07:02.123Z"
   },
   {
    "duration": 11,
    "start_time": "2021-07-30T11:07:02.135Z"
   },
   {
    "duration": 19,
    "start_time": "2021-07-30T11:07:02.148Z"
   },
   {
    "duration": 476,
    "start_time": "2021-07-30T11:07:02.169Z"
   },
   {
    "duration": 358,
    "start_time": "2021-07-30T11:07:02.646Z"
   },
   {
    "duration": 7,
    "start_time": "2021-07-30T11:07:03.006Z"
   },
   {
    "duration": 35,
    "start_time": "2021-07-30T11:07:03.015Z"
   },
   {
    "duration": 25,
    "start_time": "2021-07-30T11:07:03.052Z"
   },
   {
    "duration": 33,
    "start_time": "2021-07-30T11:07:03.079Z"
   },
   {
    "duration": 32,
    "start_time": "2021-07-30T11:07:03.114Z"
   },
   {
    "duration": 34,
    "start_time": "2021-07-30T11:07:03.147Z"
   },
   {
    "duration": 30,
    "start_time": "2021-07-30T11:07:03.183Z"
   },
   {
    "duration": 22,
    "start_time": "2021-07-30T11:07:03.214Z"
   },
   {
    "duration": 28,
    "start_time": "2021-07-30T11:07:03.237Z"
   },
   {
    "duration": 20,
    "start_time": "2021-07-30T11:07:03.267Z"
   },
   {
    "duration": 23,
    "start_time": "2021-07-30T11:07:03.289Z"
   },
   {
    "duration": 59,
    "start_time": "2021-07-30T11:07:03.314Z"
   },
   {
    "duration": 5,
    "start_time": "2021-07-30T11:07:03.375Z"
   },
   {
    "duration": 22,
    "start_time": "2021-07-30T11:07:03.382Z"
   },
   {
    "duration": 26,
    "start_time": "2021-07-30T11:07:03.406Z"
   },
   {
    "duration": 2886,
    "start_time": "2021-07-30T11:07:03.435Z"
   },
   {
    "duration": 2,
    "start_time": "2021-07-30T11:07:06.323Z"
   },
   {
    "duration": 28,
    "start_time": "2021-07-30T11:07:06.326Z"
   },
   {
    "duration": 25,
    "start_time": "2021-07-30T11:07:06.355Z"
   },
   {
    "duration": 27,
    "start_time": "2021-07-30T11:07:06.382Z"
   },
   {
    "duration": 669,
    "start_time": "2021-07-30T11:07:06.411Z"
   },
   {
    "duration": 22,
    "start_time": "2021-07-30T11:07:07.082Z"
   },
   {
    "duration": 8,
    "start_time": "2021-07-30T11:07:07.106Z"
   },
   {
    "duration": 64,
    "start_time": "2021-07-30T11:07:07.116Z"
   },
   {
    "duration": 29,
    "start_time": "2021-07-30T11:07:07.181Z"
   },
   {
    "duration": 41,
    "start_time": "2021-07-30T11:07:07.211Z"
   },
   {
    "duration": 22,
    "start_time": "2021-07-30T11:07:07.254Z"
   },
   {
    "duration": 28,
    "start_time": "2021-07-30T11:07:07.278Z"
   },
   {
    "duration": 576,
    "start_time": "2021-07-30T11:18:26.429Z"
   },
   {
    "duration": 435,
    "start_time": "2021-07-30T11:24:09.858Z"
   },
   {
    "duration": 446,
    "start_time": "2021-07-30T11:24:37.011Z"
   },
   {
    "duration": 532,
    "start_time": "2021-07-30T11:24:54.057Z"
   },
   {
    "duration": 445,
    "start_time": "2021-07-30T11:27:46.665Z"
   },
   {
    "duration": 463,
    "start_time": "2021-07-30T11:28:05.009Z"
   },
   {
    "duration": 2379,
    "start_time": "2021-07-30T11:28:58.030Z"
   },
   {
    "duration": 1139,
    "start_time": "2021-07-30T11:29:20.976Z"
   },
   {
    "duration": 81,
    "start_time": "2021-07-30T11:29:22.117Z"
   },
   {
    "duration": 10,
    "start_time": "2021-07-30T11:29:22.200Z"
   },
   {
    "duration": 7,
    "start_time": "2021-07-30T11:29:22.212Z"
   },
   {
    "duration": 22,
    "start_time": "2021-07-30T11:29:22.220Z"
   },
   {
    "duration": 461,
    "start_time": "2021-07-30T11:29:22.244Z"
   },
   {
    "duration": 389,
    "start_time": "2021-07-30T11:29:22.707Z"
   },
   {
    "duration": 7,
    "start_time": "2021-07-30T11:29:23.098Z"
   },
   {
    "duration": 12,
    "start_time": "2021-07-30T11:29:23.107Z"
   },
   {
    "duration": 24,
    "start_time": "2021-07-30T11:29:23.120Z"
   },
   {
    "duration": 19,
    "start_time": "2021-07-30T11:29:23.146Z"
   },
   {
    "duration": 12,
    "start_time": "2021-07-30T11:29:23.169Z"
   },
   {
    "duration": 21,
    "start_time": "2021-07-30T11:29:23.182Z"
   },
   {
    "duration": 40,
    "start_time": "2021-07-30T11:29:23.205Z"
   },
   {
    "duration": 11,
    "start_time": "2021-07-30T11:29:23.247Z"
   },
   {
    "duration": 10,
    "start_time": "2021-07-30T11:29:23.262Z"
   },
   {
    "duration": 9,
    "start_time": "2021-07-30T11:29:23.275Z"
   },
   {
    "duration": 5,
    "start_time": "2021-07-30T11:29:23.286Z"
   },
   {
    "duration": 76,
    "start_time": "2021-07-30T11:29:23.292Z"
   },
   {
    "duration": 6,
    "start_time": "2021-07-30T11:29:23.370Z"
   },
   {
    "duration": 12,
    "start_time": "2021-07-30T11:29:23.377Z"
   },
   {
    "duration": 20,
    "start_time": "2021-07-30T11:29:23.390Z"
   },
   {
    "duration": 2499,
    "start_time": "2021-07-30T11:29:23.413Z"
   },
   {
    "duration": 26,
    "start_time": "2021-07-30T11:29:25.914Z"
   },
   {
    "duration": 6,
    "start_time": "2021-07-30T11:29:25.943Z"
   },
   {
    "duration": 20,
    "start_time": "2021-07-30T11:29:25.951Z"
   },
   {
    "duration": 16,
    "start_time": "2021-07-30T11:29:25.973Z"
   },
   {
    "duration": 873,
    "start_time": "2021-07-30T11:29:25.991Z"
   },
   {
    "duration": 24,
    "start_time": "2021-07-30T11:29:26.866Z"
   },
   {
    "duration": 9,
    "start_time": "2021-07-30T11:29:26.892Z"
   },
   {
    "duration": 77,
    "start_time": "2021-07-30T11:29:26.903Z"
   },
   {
    "duration": 26,
    "start_time": "2021-07-30T11:29:26.982Z"
   },
   {
    "duration": 39,
    "start_time": "2021-07-30T11:29:27.010Z"
   },
   {
    "duration": 29,
    "start_time": "2021-07-30T11:29:27.051Z"
   },
   {
    "duration": 21,
    "start_time": "2021-07-30T11:29:27.082Z"
   },
   {
    "duration": 560,
    "start_time": "2021-07-30T11:31:22.780Z"
   },
   {
    "duration": 436,
    "start_time": "2021-07-30T11:31:39.123Z"
   },
   {
    "duration": 2409,
    "start_time": "2021-07-30T11:32:43.386Z"
   },
   {
    "duration": 2338,
    "start_time": "2021-07-30T11:32:54.427Z"
   },
   {
    "duration": 4311,
    "start_time": "2021-07-30T11:35:10.372Z"
   },
   {
    "duration": 1223,
    "start_time": "2021-07-30T11:35:30.567Z"
   },
   {
    "duration": 77,
    "start_time": "2021-07-30T11:35:31.792Z"
   },
   {
    "duration": 14,
    "start_time": "2021-07-30T11:35:31.871Z"
   },
   {
    "duration": 10,
    "start_time": "2021-07-30T11:35:31.888Z"
   },
   {
    "duration": 15,
    "start_time": "2021-07-30T11:35:31.899Z"
   },
   {
    "duration": 483,
    "start_time": "2021-07-30T11:35:31.915Z"
   },
   {
    "duration": 376,
    "start_time": "2021-07-30T11:35:32.400Z"
   },
   {
    "duration": 8,
    "start_time": "2021-07-30T11:35:32.779Z"
   },
   {
    "duration": 9,
    "start_time": "2021-07-30T11:35:32.789Z"
   },
   {
    "duration": 5,
    "start_time": "2021-07-30T11:35:32.800Z"
   },
   {
    "duration": 8,
    "start_time": "2021-07-30T11:35:32.806Z"
   },
   {
    "duration": 11,
    "start_time": "2021-07-30T11:35:32.816Z"
   },
   {
    "duration": 38,
    "start_time": "2021-07-30T11:35:32.828Z"
   },
   {
    "duration": 11,
    "start_time": "2021-07-30T11:35:32.869Z"
   },
   {
    "duration": 6,
    "start_time": "2021-07-30T11:35:32.882Z"
   },
   {
    "duration": 11,
    "start_time": "2021-07-30T11:35:32.890Z"
   },
   {
    "duration": 8,
    "start_time": "2021-07-30T11:35:32.902Z"
   },
   {
    "duration": 11,
    "start_time": "2021-07-30T11:35:32.912Z"
   },
   {
    "duration": 48,
    "start_time": "2021-07-30T11:35:32.925Z"
   },
   {
    "duration": 6,
    "start_time": "2021-07-30T11:35:32.974Z"
   },
   {
    "duration": 10,
    "start_time": "2021-07-30T11:35:32.981Z"
   },
   {
    "duration": 19,
    "start_time": "2021-07-30T11:35:32.993Z"
   },
   {
    "duration": 4904,
    "start_time": "2021-07-30T11:35:33.015Z"
   },
   {
    "duration": 31,
    "start_time": "2021-07-30T11:35:37.921Z"
   },
   {
    "duration": 7,
    "start_time": "2021-07-30T11:35:37.954Z"
   },
   {
    "duration": 15,
    "start_time": "2021-07-30T11:35:37.963Z"
   },
   {
    "duration": 13,
    "start_time": "2021-07-30T11:35:37.980Z"
   },
   {
    "duration": 755,
    "start_time": "2021-07-30T11:35:37.995Z"
   },
   {
    "duration": 27,
    "start_time": "2021-07-30T11:35:38.753Z"
   },
   {
    "duration": 11,
    "start_time": "2021-07-30T11:35:38.781Z"
   },
   {
    "duration": 66,
    "start_time": "2021-07-30T11:35:38.794Z"
   },
   {
    "duration": 31,
    "start_time": "2021-07-30T11:35:38.863Z"
   },
   {
    "duration": 24,
    "start_time": "2021-07-30T11:35:38.895Z"
   },
   {
    "duration": 58,
    "start_time": "2021-07-30T11:35:38.920Z"
   },
   {
    "duration": 24,
    "start_time": "2021-07-30T11:35:38.981Z"
   },
   {
    "duration": 4610,
    "start_time": "2021-07-30T11:36:31.661Z"
   },
   {
    "duration": 5101,
    "start_time": "2021-07-30T11:37:27.422Z"
   },
   {
    "duration": 1871,
    "start_time": "2021-07-30T11:56:50.388Z"
   },
   {
    "duration": 1976,
    "start_time": "2021-07-30T11:57:20.262Z"
   },
   {
    "duration": 1194,
    "start_time": "2021-07-30T11:57:33.893Z"
   },
   {
    "duration": 80,
    "start_time": "2021-07-30T11:57:35.089Z"
   },
   {
    "duration": 15,
    "start_time": "2021-07-30T11:57:35.172Z"
   },
   {
    "duration": 6,
    "start_time": "2021-07-30T11:57:35.189Z"
   },
   {
    "duration": 10,
    "start_time": "2021-07-30T11:57:35.197Z"
   },
   {
    "duration": 491,
    "start_time": "2021-07-30T11:57:35.208Z"
   },
   {
    "duration": 375,
    "start_time": "2021-07-30T11:57:35.700Z"
   },
   {
    "duration": 7,
    "start_time": "2021-07-30T11:57:36.078Z"
   },
   {
    "duration": 17,
    "start_time": "2021-07-30T11:57:36.087Z"
   },
   {
    "duration": 9,
    "start_time": "2021-07-30T11:57:36.105Z"
   },
   {
    "duration": 18,
    "start_time": "2021-07-30T11:57:36.115Z"
   },
   {
    "duration": 28,
    "start_time": "2021-07-30T11:57:36.135Z"
   },
   {
    "duration": 25,
    "start_time": "2021-07-30T11:57:36.165Z"
   },
   {
    "duration": 20,
    "start_time": "2021-07-30T11:57:36.192Z"
   },
   {
    "duration": 17,
    "start_time": "2021-07-30T11:57:36.213Z"
   },
   {
    "duration": 29,
    "start_time": "2021-07-30T11:57:36.232Z"
   },
   {
    "duration": 22,
    "start_time": "2021-07-30T11:57:36.262Z"
   },
   {
    "duration": 28,
    "start_time": "2021-07-30T11:57:36.286Z"
   },
   {
    "duration": 64,
    "start_time": "2021-07-30T11:57:36.316Z"
   },
   {
    "duration": 6,
    "start_time": "2021-07-30T11:57:36.381Z"
   },
   {
    "duration": 15,
    "start_time": "2021-07-30T11:57:36.389Z"
   },
   {
    "duration": 42,
    "start_time": "2021-07-30T11:57:36.406Z"
   },
   {
    "duration": 4770,
    "start_time": "2021-07-30T11:57:36.452Z"
   },
   {
    "duration": 23,
    "start_time": "2021-07-30T11:57:41.224Z"
   },
   {
    "duration": 6,
    "start_time": "2021-07-30T11:57:41.249Z"
   },
   {
    "duration": 25,
    "start_time": "2021-07-30T11:57:41.258Z"
   },
   {
    "duration": 14,
    "start_time": "2021-07-30T11:57:41.284Z"
   },
   {
    "duration": 714,
    "start_time": "2021-07-30T11:57:41.300Z"
   },
   {
    "duration": 35,
    "start_time": "2021-07-30T11:57:42.017Z"
   },
   {
    "duration": 14,
    "start_time": "2021-07-30T11:57:42.056Z"
   },
   {
    "duration": 54,
    "start_time": "2021-07-30T11:57:42.076Z"
   },
   {
    "duration": 46,
    "start_time": "2021-07-30T11:57:42.132Z"
   },
   {
    "duration": 24,
    "start_time": "2021-07-30T11:57:42.180Z"
   },
   {
    "duration": 40,
    "start_time": "2021-07-30T11:57:42.206Z"
   },
   {
    "duration": 30,
    "start_time": "2021-07-30T11:57:42.249Z"
   },
   {
    "duration": 2237,
    "start_time": "2021-07-30T11:58:57.174Z"
   },
   {
    "duration": 1813,
    "start_time": "2021-07-30T11:59:13.448Z"
   },
   {
    "duration": 1739,
    "start_time": "2021-07-30T11:59:36.398Z"
   },
   {
    "duration": 1057,
    "start_time": "2021-07-30T11:59:44.208Z"
   },
   {
    "duration": 67,
    "start_time": "2021-07-30T11:59:45.267Z"
   },
   {
    "duration": 21,
    "start_time": "2021-07-30T11:59:45.336Z"
   },
   {
    "duration": 13,
    "start_time": "2021-07-30T11:59:45.360Z"
   },
   {
    "duration": 28,
    "start_time": "2021-07-30T11:59:45.375Z"
   },
   {
    "duration": 478,
    "start_time": "2021-07-30T11:59:45.405Z"
   },
   {
    "duration": 314,
    "start_time": "2021-07-30T11:59:45.885Z"
   },
   {
    "duration": 7,
    "start_time": "2021-07-30T11:59:46.201Z"
   },
   {
    "duration": 10,
    "start_time": "2021-07-30T11:59:46.210Z"
   },
   {
    "duration": 20,
    "start_time": "2021-07-30T11:59:46.222Z"
   },
   {
    "duration": 12,
    "start_time": "2021-07-30T11:59:46.244Z"
   },
   {
    "duration": 19,
    "start_time": "2021-07-30T11:59:46.258Z"
   },
   {
    "duration": 21,
    "start_time": "2021-07-30T11:59:46.279Z"
   },
   {
    "duration": 12,
    "start_time": "2021-07-30T11:59:46.301Z"
   },
   {
    "duration": 31,
    "start_time": "2021-07-30T11:59:46.314Z"
   },
   {
    "duration": 12,
    "start_time": "2021-07-30T11:59:46.347Z"
   },
   {
    "duration": 15,
    "start_time": "2021-07-30T11:59:46.361Z"
   },
   {
    "duration": 5,
    "start_time": "2021-07-30T11:59:46.378Z"
   },
   {
    "duration": 47,
    "start_time": "2021-07-30T11:59:46.385Z"
   },
   {
    "duration": 12,
    "start_time": "2021-07-30T11:59:46.434Z"
   },
   {
    "duration": 17,
    "start_time": "2021-07-30T11:59:46.448Z"
   },
   {
    "duration": 20,
    "start_time": "2021-07-30T11:59:46.466Z"
   },
   {
    "duration": 4411,
    "start_time": "2021-07-30T11:59:46.489Z"
   },
   {
    "duration": 11,
    "start_time": "2021-07-30T11:59:50.902Z"
   },
   {
    "duration": 6,
    "start_time": "2021-07-30T11:59:50.915Z"
   },
   {
    "duration": 33,
    "start_time": "2021-07-30T11:59:50.922Z"
   },
   {
    "duration": 15,
    "start_time": "2021-07-30T11:59:50.957Z"
   },
   {
    "duration": 674,
    "start_time": "2021-07-30T11:59:50.973Z"
   },
   {
    "duration": 24,
    "start_time": "2021-07-30T11:59:51.649Z"
   },
   {
    "duration": 9,
    "start_time": "2021-07-30T11:59:51.675Z"
   },
   {
    "duration": 62,
    "start_time": "2021-07-30T11:59:51.686Z"
   },
   {
    "duration": 31,
    "start_time": "2021-07-30T11:59:51.750Z"
   },
   {
    "duration": 24,
    "start_time": "2021-07-30T11:59:51.782Z"
   },
   {
    "duration": 57,
    "start_time": "2021-07-30T11:59:51.807Z"
   },
   {
    "duration": 22,
    "start_time": "2021-07-30T11:59:51.866Z"
   },
   {
    "duration": 1813,
    "start_time": "2021-07-30T12:00:33.426Z"
   },
   {
    "duration": 1154,
    "start_time": "2021-07-30T12:00:47.120Z"
   },
   {
    "duration": 66,
    "start_time": "2021-07-30T12:00:48.276Z"
   },
   {
    "duration": 15,
    "start_time": "2021-07-30T12:00:48.346Z"
   },
   {
    "duration": 14,
    "start_time": "2021-07-30T12:00:48.363Z"
   },
   {
    "duration": 16,
    "start_time": "2021-07-30T12:00:48.378Z"
   },
   {
    "duration": 468,
    "start_time": "2021-07-30T12:00:48.395Z"
   },
   {
    "duration": 338,
    "start_time": "2021-07-30T12:00:48.865Z"
   },
   {
    "duration": 9,
    "start_time": "2021-07-30T12:00:49.206Z"
   },
   {
    "duration": 29,
    "start_time": "2021-07-30T12:00:49.218Z"
   },
   {
    "duration": 7,
    "start_time": "2021-07-30T12:00:49.249Z"
   },
   {
    "duration": 9,
    "start_time": "2021-07-30T12:00:49.258Z"
   },
   {
    "duration": 14,
    "start_time": "2021-07-30T12:00:49.269Z"
   },
   {
    "duration": 21,
    "start_time": "2021-07-30T12:00:49.284Z"
   },
   {
    "duration": 47,
    "start_time": "2021-07-30T12:00:49.307Z"
   },
   {
    "duration": 8,
    "start_time": "2021-07-30T12:00:49.357Z"
   },
   {
    "duration": 13,
    "start_time": "2021-07-30T12:00:49.367Z"
   },
   {
    "duration": 17,
    "start_time": "2021-07-30T12:00:49.382Z"
   },
   {
    "duration": 8,
    "start_time": "2021-07-30T12:00:49.400Z"
   },
   {
    "duration": 56,
    "start_time": "2021-07-30T12:00:49.409Z"
   },
   {
    "duration": 6,
    "start_time": "2021-07-30T12:00:49.466Z"
   },
   {
    "duration": 14,
    "start_time": "2021-07-30T12:00:49.473Z"
   },
   {
    "duration": 18,
    "start_time": "2021-07-30T12:00:49.489Z"
   },
   {
    "duration": 4314,
    "start_time": "2021-07-30T12:00:49.510Z"
   },
   {
    "duration": 16,
    "start_time": "2021-07-30T12:00:53.826Z"
   },
   {
    "duration": 6,
    "start_time": "2021-07-30T12:00:53.844Z"
   },
   {
    "duration": 17,
    "start_time": "2021-07-30T12:00:53.853Z"
   },
   {
    "duration": 14,
    "start_time": "2021-07-30T12:00:53.872Z"
   },
   {
    "duration": 687,
    "start_time": "2021-07-30T12:00:53.888Z"
   },
   {
    "duration": 23,
    "start_time": "2021-07-30T12:00:54.577Z"
   },
   {
    "duration": 11,
    "start_time": "2021-07-30T12:00:54.602Z"
   },
   {
    "duration": 71,
    "start_time": "2021-07-30T12:00:54.615Z"
   },
   {
    "duration": 26,
    "start_time": "2021-07-30T12:00:54.688Z"
   },
   {
    "duration": 45,
    "start_time": "2021-07-30T12:00:54.716Z"
   },
   {
    "duration": 22,
    "start_time": "2021-07-30T12:00:54.763Z"
   },
   {
    "duration": 21,
    "start_time": "2021-07-30T12:00:54.787Z"
   },
   {
    "duration": 1842,
    "start_time": "2021-07-30T12:04:36.936Z"
   },
   {
    "duration": 1077,
    "start_time": "2021-07-30T12:04:45.278Z"
   },
   {
    "duration": 67,
    "start_time": "2021-07-30T12:04:46.357Z"
   },
   {
    "duration": 10,
    "start_time": "2021-07-30T12:04:46.426Z"
   },
   {
    "duration": 6,
    "start_time": "2021-07-30T12:04:46.441Z"
   },
   {
    "duration": 7,
    "start_time": "2021-07-30T12:04:46.449Z"
   },
   {
    "duration": 412,
    "start_time": "2021-07-30T12:04:46.458Z"
   },
   {
    "duration": 323,
    "start_time": "2021-07-30T12:04:46.871Z"
   },
   {
    "duration": 7,
    "start_time": "2021-07-30T12:04:47.196Z"
   },
   {
    "duration": 11,
    "start_time": "2021-07-30T12:04:47.205Z"
   },
   {
    "duration": 23,
    "start_time": "2021-07-30T12:04:47.218Z"
   },
   {
    "duration": 15,
    "start_time": "2021-07-30T12:04:47.243Z"
   },
   {
    "duration": 28,
    "start_time": "2021-07-30T12:04:47.259Z"
   },
   {
    "duration": 36,
    "start_time": "2021-07-30T12:04:47.288Z"
   },
   {
    "duration": 13,
    "start_time": "2021-07-30T12:04:47.325Z"
   },
   {
    "duration": 15,
    "start_time": "2021-07-30T12:04:47.339Z"
   },
   {
    "duration": 18,
    "start_time": "2021-07-30T12:04:47.355Z"
   },
   {
    "duration": 20,
    "start_time": "2021-07-30T12:04:47.375Z"
   },
   {
    "duration": 16,
    "start_time": "2021-07-30T12:04:47.397Z"
   },
   {
    "duration": 47,
    "start_time": "2021-07-30T12:04:47.414Z"
   },
   {
    "duration": 6,
    "start_time": "2021-07-30T12:04:47.462Z"
   },
   {
    "duration": 34,
    "start_time": "2021-07-30T12:04:47.469Z"
   },
   {
    "duration": 31,
    "start_time": "2021-07-30T12:04:47.505Z"
   },
   {
    "duration": 4075,
    "start_time": "2021-07-30T12:04:47.539Z"
   },
   {
    "duration": 11,
    "start_time": "2021-07-30T12:04:51.617Z"
   },
   {
    "duration": 14,
    "start_time": "2021-07-30T12:04:51.629Z"
   },
   {
    "duration": 16,
    "start_time": "2021-07-30T12:04:51.644Z"
   },
   {
    "duration": 28,
    "start_time": "2021-07-30T12:04:51.661Z"
   },
   {
    "duration": 643,
    "start_time": "2021-07-30T12:04:51.690Z"
   },
   {
    "duration": 25,
    "start_time": "2021-07-30T12:04:52.335Z"
   },
   {
    "duration": 10,
    "start_time": "2021-07-30T12:04:52.362Z"
   },
   {
    "duration": 45,
    "start_time": "2021-07-30T12:04:52.373Z"
   },
   {
    "duration": 43,
    "start_time": "2021-07-30T12:04:52.420Z"
   },
   {
    "duration": 24,
    "start_time": "2021-07-30T12:04:52.464Z"
   },
   {
    "duration": 22,
    "start_time": "2021-07-30T12:04:52.489Z"
   },
   {
    "duration": 44,
    "start_time": "2021-07-30T12:04:52.512Z"
   },
   {
    "duration": 1761,
    "start_time": "2021-07-30T12:05:38.786Z"
   },
   {
    "duration": 1075,
    "start_time": "2021-07-30T12:07:37.676Z"
   },
   {
    "duration": 67,
    "start_time": "2021-07-30T12:07:38.754Z"
   },
   {
    "duration": 10,
    "start_time": "2021-07-30T12:07:38.823Z"
   },
   {
    "duration": 14,
    "start_time": "2021-07-30T12:07:38.836Z"
   },
   {
    "duration": 14,
    "start_time": "2021-07-30T12:07:38.852Z"
   },
   {
    "duration": 439,
    "start_time": "2021-07-30T12:07:38.867Z"
   },
   {
    "duration": 347,
    "start_time": "2021-07-30T12:07:39.308Z"
   },
   {
    "duration": 8,
    "start_time": "2021-07-30T12:07:39.658Z"
   },
   {
    "duration": 17,
    "start_time": "2021-07-30T12:07:39.669Z"
   },
   {
    "duration": 17,
    "start_time": "2021-07-30T12:07:39.687Z"
   },
   {
    "duration": 15,
    "start_time": "2021-07-30T12:07:39.706Z"
   },
   {
    "duration": 29,
    "start_time": "2021-07-30T12:07:39.722Z"
   },
   {
    "duration": 30,
    "start_time": "2021-07-30T12:07:39.753Z"
   },
   {
    "duration": 15,
    "start_time": "2021-07-30T12:07:39.785Z"
   },
   {
    "duration": 13,
    "start_time": "2021-07-30T12:07:39.801Z"
   },
   {
    "duration": 17,
    "start_time": "2021-07-30T12:07:39.816Z"
   },
   {
    "duration": 16,
    "start_time": "2021-07-30T12:07:39.834Z"
   },
   {
    "duration": 12,
    "start_time": "2021-07-30T12:07:39.852Z"
   },
   {
    "duration": 46,
    "start_time": "2021-07-30T12:07:39.866Z"
   },
   {
    "duration": 5,
    "start_time": "2021-07-30T12:07:39.914Z"
   },
   {
    "duration": 16,
    "start_time": "2021-07-30T12:07:39.920Z"
   },
   {
    "duration": 25,
    "start_time": "2021-07-30T12:07:39.938Z"
   },
   {
    "duration": 4212,
    "start_time": "2021-07-30T12:07:39.966Z"
   },
   {
    "duration": 11,
    "start_time": "2021-07-30T12:07:44.180Z"
   },
   {
    "duration": 18,
    "start_time": "2021-07-30T12:07:44.192Z"
   },
   {
    "duration": 24,
    "start_time": "2021-07-30T12:07:44.212Z"
   },
   {
    "duration": 27,
    "start_time": "2021-07-30T12:07:44.238Z"
   },
   {
    "duration": 631,
    "start_time": "2021-07-30T12:07:44.267Z"
   },
   {
    "duration": 20,
    "start_time": "2021-07-30T12:07:44.900Z"
   },
   {
    "duration": 27,
    "start_time": "2021-07-30T12:07:44.921Z"
   },
   {
    "duration": 60,
    "start_time": "2021-07-30T12:07:44.950Z"
   },
   {
    "duration": 26,
    "start_time": "2021-07-30T12:07:45.011Z"
   },
   {
    "duration": 22,
    "start_time": "2021-07-30T12:07:45.039Z"
   },
   {
    "duration": 20,
    "start_time": "2021-07-30T12:07:45.063Z"
   },
   {
    "duration": 20,
    "start_time": "2021-07-30T12:07:45.085Z"
   },
   {
    "duration": 1905,
    "start_time": "2021-07-30T12:10:49.528Z"
   },
   {
    "duration": 1062,
    "start_time": "2021-07-30T12:11:03.987Z"
   },
   {
    "duration": 68,
    "start_time": "2021-07-30T12:11:05.051Z"
   },
   {
    "duration": 10,
    "start_time": "2021-07-30T12:11:05.121Z"
   },
   {
    "duration": 16,
    "start_time": "2021-07-30T12:11:05.133Z"
   },
   {
    "duration": 22,
    "start_time": "2021-07-30T12:11:05.151Z"
   },
   {
    "duration": 442,
    "start_time": "2021-07-30T12:11:05.175Z"
   },
   {
    "duration": 338,
    "start_time": "2021-07-30T12:11:05.619Z"
   },
   {
    "duration": 7,
    "start_time": "2021-07-30T12:11:05.959Z"
   },
   {
    "duration": 15,
    "start_time": "2021-07-30T12:11:05.968Z"
   },
   {
    "duration": 11,
    "start_time": "2021-07-30T12:11:05.984Z"
   },
   {
    "duration": 21,
    "start_time": "2021-07-30T12:11:05.997Z"
   },
   {
    "duration": 14,
    "start_time": "2021-07-30T12:11:06.020Z"
   },
   {
    "duration": 25,
    "start_time": "2021-07-30T12:11:06.035Z"
   },
   {
    "duration": 24,
    "start_time": "2021-07-30T12:11:06.062Z"
   },
   {
    "duration": 14,
    "start_time": "2021-07-30T12:11:06.088Z"
   },
   {
    "duration": 18,
    "start_time": "2021-07-30T12:11:06.104Z"
   },
   {
    "duration": 18,
    "start_time": "2021-07-30T12:11:06.124Z"
   },
   {
    "duration": 15,
    "start_time": "2021-07-30T12:11:06.143Z"
   },
   {
    "duration": 52,
    "start_time": "2021-07-30T12:11:06.160Z"
   },
   {
    "duration": 5,
    "start_time": "2021-07-30T12:11:06.214Z"
   },
   {
    "duration": 17,
    "start_time": "2021-07-30T12:11:06.220Z"
   },
   {
    "duration": 33,
    "start_time": "2021-07-30T12:11:06.238Z"
   },
   {
    "duration": 3974,
    "start_time": "2021-07-30T12:11:06.274Z"
   },
   {
    "duration": 13,
    "start_time": "2021-07-30T12:11:10.250Z"
   },
   {
    "duration": 16,
    "start_time": "2021-07-30T12:11:10.265Z"
   },
   {
    "duration": 32,
    "start_time": "2021-07-30T12:11:10.283Z"
   },
   {
    "duration": 28,
    "start_time": "2021-07-30T12:11:10.317Z"
   },
   {
    "duration": 632,
    "start_time": "2021-07-30T12:11:10.346Z"
   },
   {
    "duration": 20,
    "start_time": "2021-07-30T12:11:10.980Z"
   },
   {
    "duration": 17,
    "start_time": "2021-07-30T12:11:11.001Z"
   },
   {
    "duration": 70,
    "start_time": "2021-07-30T12:11:11.019Z"
   },
   {
    "duration": 25,
    "start_time": "2021-07-30T12:11:11.091Z"
   },
   {
    "duration": 21,
    "start_time": "2021-07-30T12:11:11.117Z"
   },
   {
    "duration": 21,
    "start_time": "2021-07-30T12:11:11.146Z"
   },
   {
    "duration": 24,
    "start_time": "2021-07-30T12:11:11.169Z"
   },
   {
    "duration": 21,
    "start_time": "2021-07-30T12:11:47.448Z"
   },
   {
    "duration": 370,
    "start_time": "2021-07-30T12:17:26.363Z"
   },
   {
    "duration": 1149,
    "start_time": "2021-07-30T12:17:58.603Z"
   },
   {
    "duration": 73,
    "start_time": "2021-07-30T12:17:59.754Z"
   },
   {
    "duration": 18,
    "start_time": "2021-07-30T12:17:59.830Z"
   },
   {
    "duration": 8,
    "start_time": "2021-07-30T12:17:59.850Z"
   },
   {
    "duration": 8,
    "start_time": "2021-07-30T12:17:59.860Z"
   },
   {
    "duration": 502,
    "start_time": "2021-07-30T12:17:59.870Z"
   },
   {
    "duration": 322,
    "start_time": "2021-07-30T12:18:00.374Z"
   },
   {
    "duration": 7,
    "start_time": "2021-07-30T12:18:00.699Z"
   },
   {
    "duration": 28,
    "start_time": "2021-07-30T12:18:00.708Z"
   },
   {
    "duration": 15,
    "start_time": "2021-07-30T12:18:00.737Z"
   },
   {
    "duration": 20,
    "start_time": "2021-07-30T12:18:00.754Z"
   },
   {
    "duration": 29,
    "start_time": "2021-07-30T12:18:00.776Z"
   },
   {
    "duration": 34,
    "start_time": "2021-07-30T12:18:00.807Z"
   },
   {
    "duration": 24,
    "start_time": "2021-07-30T12:18:00.843Z"
   },
   {
    "duration": 15,
    "start_time": "2021-07-30T12:18:00.869Z"
   },
   {
    "duration": 22,
    "start_time": "2021-07-30T12:18:00.886Z"
   },
   {
    "duration": 29,
    "start_time": "2021-07-30T12:18:00.910Z"
   },
   {
    "duration": 20,
    "start_time": "2021-07-30T12:18:00.940Z"
   },
   {
    "duration": 54,
    "start_time": "2021-07-30T12:18:00.961Z"
   },
   {
    "duration": 5,
    "start_time": "2021-07-30T12:18:01.016Z"
   },
   {
    "duration": 27,
    "start_time": "2021-07-30T12:18:01.022Z"
   },
   {
    "duration": 38,
    "start_time": "2021-07-30T12:18:01.050Z"
   },
   {
    "duration": 4068,
    "start_time": "2021-07-30T12:18:01.091Z"
   },
   {
    "duration": 11,
    "start_time": "2021-07-30T12:18:05.161Z"
   },
   {
    "duration": 13,
    "start_time": "2021-07-30T12:18:05.173Z"
   },
   {
    "duration": 16,
    "start_time": "2021-07-30T12:18:05.187Z"
   },
   {
    "duration": 18,
    "start_time": "2021-07-30T12:18:05.205Z"
   },
   {
    "duration": 732,
    "start_time": "2021-07-30T12:18:05.240Z"
   },
   {
    "duration": 20,
    "start_time": "2021-07-30T12:18:05.974Z"
   },
   {
    "duration": 352,
    "start_time": "2021-07-30T12:18:05.996Z"
   },
   {
    "duration": -3895,
    "start_time": "2021-07-30T12:18:10.245Z"
   },
   {
    "duration": -3897,
    "start_time": "2021-07-30T12:18:10.248Z"
   },
   {
    "duration": -3899,
    "start_time": "2021-07-30T12:18:10.252Z"
   },
   {
    "duration": -3900,
    "start_time": "2021-07-30T12:18:10.254Z"
   },
   {
    "duration": -3902,
    "start_time": "2021-07-30T12:18:10.257Z"
   },
   {
    "duration": -3904,
    "start_time": "2021-07-30T12:18:10.260Z"
   },
   {
    "duration": 6,
    "start_time": "2021-07-30T12:18:39.792Z"
   },
   {
    "duration": 629,
    "start_time": "2021-07-30T12:19:40.440Z"
   },
   {
    "duration": 6,
    "start_time": "2021-07-30T12:20:02.710Z"
   },
   {
    "duration": 16,
    "start_time": "2021-07-30T12:20:34.341Z"
   },
   {
    "duration": 7,
    "start_time": "2021-07-30T12:20:40.741Z"
   },
   {
    "duration": 8,
    "start_time": "2021-07-30T12:20:53.254Z"
   },
   {
    "duration": 642,
    "start_time": "2021-07-30T12:22:44.118Z"
   },
   {
    "duration": 16,
    "start_time": "2021-07-30T12:22:55.430Z"
   },
   {
    "duration": 651,
    "start_time": "2021-07-30T12:24:20.678Z"
   },
   {
    "duration": 5,
    "start_time": "2021-07-30T12:24:49.981Z"
   },
   {
    "duration": 716,
    "start_time": "2021-07-30T12:27:31.628Z"
   },
   {
    "duration": 5,
    "start_time": "2021-07-30T12:27:43.005Z"
   },
   {
    "duration": 286,
    "start_time": "2021-07-30T12:28:21.451Z"
   },
   {
    "duration": 287,
    "start_time": "2021-07-30T12:28:30.267Z"
   },
   {
    "duration": 4,
    "start_time": "2021-07-30T12:28:39.460Z"
   },
   {
    "duration": 5,
    "start_time": "2021-07-30T12:30:15.570Z"
   },
   {
    "duration": 1074,
    "start_time": "2021-07-30T12:31:50.286Z"
   },
   {
    "duration": 66,
    "start_time": "2021-07-30T12:31:51.362Z"
   },
   {
    "duration": 12,
    "start_time": "2021-07-30T12:31:51.430Z"
   },
   {
    "duration": 8,
    "start_time": "2021-07-30T12:31:51.444Z"
   },
   {
    "duration": 14,
    "start_time": "2021-07-30T12:31:51.454Z"
   },
   {
    "duration": 449,
    "start_time": "2021-07-30T12:31:51.470Z"
   },
   {
    "duration": 356,
    "start_time": "2021-07-30T12:31:51.921Z"
   },
   {
    "duration": 8,
    "start_time": "2021-07-30T12:31:52.280Z"
   },
   {
    "duration": 14,
    "start_time": "2021-07-30T12:31:52.290Z"
   },
   {
    "duration": 9,
    "start_time": "2021-07-30T12:31:52.306Z"
   },
   {
    "duration": 28,
    "start_time": "2021-07-30T12:31:52.317Z"
   },
   {
    "duration": 16,
    "start_time": "2021-07-30T12:31:52.348Z"
   },
   {
    "duration": 29,
    "start_time": "2021-07-30T12:31:52.366Z"
   },
   {
    "duration": 12,
    "start_time": "2021-07-30T12:31:52.396Z"
   },
   {
    "duration": 7,
    "start_time": "2021-07-30T12:31:52.410Z"
   },
   {
    "duration": 9,
    "start_time": "2021-07-30T12:31:52.419Z"
   },
   {
    "duration": 16,
    "start_time": "2021-07-30T12:31:52.429Z"
   },
   {
    "duration": 5,
    "start_time": "2021-07-30T12:31:52.447Z"
   },
   {
    "duration": 47,
    "start_time": "2021-07-30T12:31:52.454Z"
   },
   {
    "duration": 6,
    "start_time": "2021-07-30T12:31:52.502Z"
   },
   {
    "duration": 32,
    "start_time": "2021-07-30T12:31:52.509Z"
   },
   {
    "duration": 19,
    "start_time": "2021-07-30T12:31:52.543Z"
   },
   {
    "duration": 4255,
    "start_time": "2021-07-30T12:31:52.565Z"
   },
   {
    "duration": 18,
    "start_time": "2021-07-30T12:31:56.823Z"
   },
   {
    "duration": 5,
    "start_time": "2021-07-30T12:31:56.843Z"
   },
   {
    "duration": 16,
    "start_time": "2021-07-30T12:31:56.849Z"
   },
   {
    "duration": 19,
    "start_time": "2021-07-30T12:31:56.867Z"
   },
   {
    "duration": 702,
    "start_time": "2021-07-30T12:31:56.887Z"
   },
   {
    "duration": 20,
    "start_time": "2021-07-30T12:31:57.591Z"
   },
   {
    "duration": 5,
    "start_time": "2021-07-30T12:31:57.612Z"
   },
   {
    "duration": 33,
    "start_time": "2021-07-30T12:31:57.618Z"
   },
   {
    "duration": 53,
    "start_time": "2021-07-30T12:31:57.653Z"
   },
   {
    "duration": 26,
    "start_time": "2021-07-30T12:31:57.707Z"
   },
   {
    "duration": 30,
    "start_time": "2021-07-30T12:31:57.735Z"
   },
   {
    "duration": 23,
    "start_time": "2021-07-30T12:31:57.767Z"
   },
   {
    "duration": 23,
    "start_time": "2021-07-30T12:31:57.791Z"
   },
   {
    "duration": 1123,
    "start_time": "2021-07-30T12:33:27.414Z"
   },
   {
    "duration": 67,
    "start_time": "2021-07-30T12:33:28.539Z"
   },
   {
    "duration": 10,
    "start_time": "2021-07-30T12:33:28.608Z"
   },
   {
    "duration": 6,
    "start_time": "2021-07-30T12:33:28.620Z"
   },
   {
    "duration": 19,
    "start_time": "2021-07-30T12:33:28.627Z"
   },
   {
    "duration": 459,
    "start_time": "2021-07-30T12:33:28.647Z"
   },
   {
    "duration": 370,
    "start_time": "2021-07-30T12:33:29.108Z"
   },
   {
    "duration": 7,
    "start_time": "2021-07-30T12:33:29.480Z"
   },
   {
    "duration": 19,
    "start_time": "2021-07-30T12:33:29.489Z"
   },
   {
    "duration": 14,
    "start_time": "2021-07-30T12:33:29.510Z"
   },
   {
    "duration": 23,
    "start_time": "2021-07-30T12:33:29.525Z"
   },
   {
    "duration": 21,
    "start_time": "2021-07-30T12:33:29.550Z"
   },
   {
    "duration": 32,
    "start_time": "2021-07-30T12:33:29.573Z"
   },
   {
    "duration": 11,
    "start_time": "2021-07-30T12:33:29.607Z"
   },
   {
    "duration": 7,
    "start_time": "2021-07-30T12:33:29.620Z"
   },
   {
    "duration": 18,
    "start_time": "2021-07-30T12:33:29.628Z"
   },
   {
    "duration": 19,
    "start_time": "2021-07-30T12:33:29.648Z"
   },
   {
    "duration": 17,
    "start_time": "2021-07-30T12:33:29.669Z"
   },
   {
    "duration": 46,
    "start_time": "2021-07-30T12:33:29.688Z"
   },
   {
    "duration": 7,
    "start_time": "2021-07-30T12:33:29.735Z"
   },
   {
    "duration": 24,
    "start_time": "2021-07-30T12:33:29.744Z"
   },
   {
    "duration": 18,
    "start_time": "2021-07-30T12:33:29.770Z"
   },
   {
    "duration": 4495,
    "start_time": "2021-07-30T12:33:29.791Z"
   },
   {
    "duration": 11,
    "start_time": "2021-07-30T12:33:34.288Z"
   },
   {
    "duration": 14,
    "start_time": "2021-07-30T12:33:34.301Z"
   },
   {
    "duration": 25,
    "start_time": "2021-07-30T12:33:34.317Z"
   },
   {
    "duration": 27,
    "start_time": "2021-07-30T12:33:34.344Z"
   },
   {
    "duration": 694,
    "start_time": "2021-07-30T12:33:34.373Z"
   },
   {
    "duration": 21,
    "start_time": "2021-07-30T12:33:35.068Z"
   },
   {
    "duration": 15,
    "start_time": "2021-07-30T12:33:35.091Z"
   },
   {
    "duration": 24,
    "start_time": "2021-07-30T12:33:35.108Z"
   },
   {
    "duration": 70,
    "start_time": "2021-07-30T12:33:35.134Z"
   },
   {
    "duration": 33,
    "start_time": "2021-07-30T12:33:35.206Z"
   },
   {
    "duration": 24,
    "start_time": "2021-07-30T12:33:35.242Z"
   },
   {
    "duration": 24,
    "start_time": "2021-07-30T12:33:35.268Z"
   },
   {
    "duration": 27,
    "start_time": "2021-07-30T12:33:35.293Z"
   },
   {
    "duration": 16,
    "start_time": "2021-07-30T12:40:28.711Z"
   },
   {
    "duration": 16,
    "start_time": "2021-07-30T12:41:35.415Z"
   },
   {
    "duration": 18,
    "start_time": "2021-07-30T12:41:41.943Z"
   },
   {
    "duration": 5,
    "start_time": "2021-07-30T13:08:48.699Z"
   },
   {
    "duration": 1198,
    "start_time": "2021-07-30T13:12:03.880Z"
   },
   {
    "duration": 72,
    "start_time": "2021-07-30T13:12:05.081Z"
   },
   {
    "duration": 11,
    "start_time": "2021-07-30T13:12:05.155Z"
   },
   {
    "duration": 5,
    "start_time": "2021-07-30T13:12:05.168Z"
   },
   {
    "duration": 7,
    "start_time": "2021-07-30T13:12:05.175Z"
   },
   {
    "duration": 475,
    "start_time": "2021-07-30T13:12:05.184Z"
   },
   {
    "duration": 322,
    "start_time": "2021-07-30T13:12:05.660Z"
   },
   {
    "duration": 8,
    "start_time": "2021-07-30T13:12:05.984Z"
   },
   {
    "duration": 8,
    "start_time": "2021-07-30T13:12:05.994Z"
   },
   {
    "duration": 4,
    "start_time": "2021-07-30T13:12:06.004Z"
   },
   {
    "duration": 11,
    "start_time": "2021-07-30T13:12:06.009Z"
   },
   {
    "duration": 13,
    "start_time": "2021-07-30T13:12:06.041Z"
   },
   {
    "duration": 22,
    "start_time": "2021-07-30T13:12:06.057Z"
   },
   {
    "duration": 10,
    "start_time": "2021-07-30T13:12:06.081Z"
   },
   {
    "duration": 7,
    "start_time": "2021-07-30T13:12:06.092Z"
   },
   {
    "duration": 10,
    "start_time": "2021-07-30T13:12:06.100Z"
   },
   {
    "duration": 7,
    "start_time": "2021-07-30T13:12:06.141Z"
   },
   {
    "duration": 7,
    "start_time": "2021-07-30T13:12:06.150Z"
   },
   {
    "duration": 41,
    "start_time": "2021-07-30T13:12:06.159Z"
   },
   {
    "duration": 5,
    "start_time": "2021-07-30T13:12:06.202Z"
   },
   {
    "duration": 35,
    "start_time": "2021-07-30T13:12:06.209Z"
   },
   {
    "duration": 19,
    "start_time": "2021-07-30T13:12:06.246Z"
   },
   {
    "duration": 4373,
    "start_time": "2021-07-30T13:12:06.268Z"
   },
   {
    "duration": 14,
    "start_time": "2021-07-30T13:12:10.643Z"
   },
   {
    "duration": 7,
    "start_time": "2021-07-30T13:12:10.659Z"
   },
   {
    "duration": 21,
    "start_time": "2021-07-30T13:12:10.667Z"
   },
   {
    "duration": 19,
    "start_time": "2021-07-30T13:12:10.689Z"
   },
   {
    "duration": 707,
    "start_time": "2021-07-30T13:12:10.710Z"
   },
   {
    "duration": 37,
    "start_time": "2021-07-30T13:12:11.419Z"
   },
   {
    "duration": 17,
    "start_time": "2021-07-30T13:12:11.457Z"
   },
   {
    "duration": 10,
    "start_time": "2021-07-30T13:12:11.476Z"
   },
   {
    "duration": 8,
    "start_time": "2021-07-30T13:12:11.488Z"
   },
   {
    "duration": 55,
    "start_time": "2021-07-30T13:12:11.498Z"
   },
   {
    "duration": 29,
    "start_time": "2021-07-30T13:12:11.555Z"
   },
   {
    "duration": 23,
    "start_time": "2021-07-30T13:12:11.586Z"
   },
   {
    "duration": 45,
    "start_time": "2021-07-30T13:12:11.611Z"
   },
   {
    "duration": 22,
    "start_time": "2021-07-30T13:12:11.659Z"
   },
   {
    "duration": 1094,
    "start_time": "2021-07-30T13:13:23.958Z"
   },
   {
    "duration": 66,
    "start_time": "2021-07-30T13:13:25.055Z"
   },
   {
    "duration": 10,
    "start_time": "2021-07-30T13:13:25.123Z"
   },
   {
    "duration": 10,
    "start_time": "2021-07-30T13:13:25.135Z"
   },
   {
    "duration": 7,
    "start_time": "2021-07-30T13:13:25.147Z"
   },
   {
    "duration": 432,
    "start_time": "2021-07-30T13:13:25.156Z"
   },
   {
    "duration": 341,
    "start_time": "2021-07-30T13:13:25.590Z"
   },
   {
    "duration": 14,
    "start_time": "2021-07-30T13:13:25.934Z"
   },
   {
    "duration": 13,
    "start_time": "2021-07-30T13:13:25.950Z"
   },
   {
    "duration": 10,
    "start_time": "2021-07-30T13:13:25.964Z"
   },
   {
    "duration": 8,
    "start_time": "2021-07-30T13:13:25.975Z"
   },
   {
    "duration": 10,
    "start_time": "2021-07-30T13:13:25.985Z"
   },
   {
    "duration": 46,
    "start_time": "2021-07-30T13:13:25.997Z"
   },
   {
    "duration": 16,
    "start_time": "2021-07-30T13:13:26.045Z"
   },
   {
    "duration": 7,
    "start_time": "2021-07-30T13:13:26.063Z"
   },
   {
    "duration": 9,
    "start_time": "2021-07-30T13:13:26.072Z"
   },
   {
    "duration": 7,
    "start_time": "2021-07-30T13:13:26.082Z"
   },
   {
    "duration": 4,
    "start_time": "2021-07-30T13:13:26.091Z"
   },
   {
    "duration": 80,
    "start_time": "2021-07-30T13:13:26.096Z"
   },
   {
    "duration": 5,
    "start_time": "2021-07-30T13:13:26.178Z"
   },
   {
    "duration": 7,
    "start_time": "2021-07-30T13:13:26.185Z"
   },
   {
    "duration": 21,
    "start_time": "2021-07-30T13:13:26.193Z"
   },
   {
    "duration": 4344,
    "start_time": "2021-07-30T13:13:26.217Z"
   },
   {
    "duration": 11,
    "start_time": "2021-07-30T13:13:30.563Z"
   },
   {
    "duration": 20,
    "start_time": "2021-07-30T13:13:30.576Z"
   },
   {
    "duration": 32,
    "start_time": "2021-07-30T13:13:30.597Z"
   },
   {
    "duration": 25,
    "start_time": "2021-07-30T13:13:30.631Z"
   },
   {
    "duration": 699,
    "start_time": "2021-07-30T13:13:30.658Z"
   },
   {
    "duration": 20,
    "start_time": "2021-07-30T13:13:31.359Z"
   },
   {
    "duration": 24,
    "start_time": "2021-07-30T13:13:31.380Z"
   },
   {
    "duration": 24,
    "start_time": "2021-07-30T13:13:31.406Z"
   },
   {
    "duration": 28,
    "start_time": "2021-07-30T13:13:31.432Z"
   },
   {
    "duration": 56,
    "start_time": "2021-07-30T13:13:31.462Z"
   },
   {
    "duration": 30,
    "start_time": "2021-07-30T13:13:31.519Z"
   },
   {
    "duration": 24,
    "start_time": "2021-07-30T13:13:31.552Z"
   },
   {
    "duration": 21,
    "start_time": "2021-07-30T13:13:31.577Z"
   },
   {
    "duration": 42,
    "start_time": "2021-07-30T13:13:31.600Z"
   },
   {
    "duration": 5,
    "start_time": "2021-07-30T13:40:10.977Z"
   },
   {
    "duration": 1146,
    "start_time": "2021-07-30T14:00:01.312Z"
   },
   {
    "duration": 70,
    "start_time": "2021-07-30T14:00:02.460Z"
   },
   {
    "duration": 12,
    "start_time": "2021-07-30T14:00:02.532Z"
   },
   {
    "duration": 6,
    "start_time": "2021-07-30T14:00:02.547Z"
   },
   {
    "duration": 6,
    "start_time": "2021-07-30T14:00:02.556Z"
   },
   {
    "duration": 442,
    "start_time": "2021-07-30T14:00:02.564Z"
   },
   {
    "duration": 381,
    "start_time": "2021-07-30T14:00:03.008Z"
   },
   {
    "duration": 7,
    "start_time": "2021-07-30T14:00:03.392Z"
   },
   {
    "duration": 15,
    "start_time": "2021-07-30T14:00:03.401Z"
   },
   {
    "duration": 10,
    "start_time": "2021-07-30T14:00:03.417Z"
   },
   {
    "duration": 17,
    "start_time": "2021-07-30T14:00:03.442Z"
   },
   {
    "duration": 33,
    "start_time": "2021-07-30T14:00:03.461Z"
   },
   {
    "duration": 21,
    "start_time": "2021-07-30T14:00:03.496Z"
   },
   {
    "duration": 13,
    "start_time": "2021-07-30T14:00:03.519Z"
   },
   {
    "duration": 17,
    "start_time": "2021-07-30T14:00:03.534Z"
   },
   {
    "duration": 17,
    "start_time": "2021-07-30T14:00:03.553Z"
   },
   {
    "duration": 17,
    "start_time": "2021-07-30T14:00:03.572Z"
   },
   {
    "duration": 12,
    "start_time": "2021-07-30T14:00:03.591Z"
   },
   {
    "duration": 61,
    "start_time": "2021-07-30T14:00:03.605Z"
   },
   {
    "duration": 5,
    "start_time": "2021-07-30T14:00:03.668Z"
   },
   {
    "duration": 21,
    "start_time": "2021-07-30T14:00:03.675Z"
   },
   {
    "duration": 26,
    "start_time": "2021-07-30T14:00:03.697Z"
   },
   {
    "duration": 4430,
    "start_time": "2021-07-30T14:00:03.726Z"
   },
   {
    "duration": 12,
    "start_time": "2021-07-30T14:00:08.158Z"
   },
   {
    "duration": 4,
    "start_time": "2021-07-30T14:00:08.172Z"
   },
   {
    "duration": 16,
    "start_time": "2021-07-30T14:00:08.177Z"
   },
   {
    "duration": 17,
    "start_time": "2021-07-30T14:00:08.195Z"
   },
   {
    "duration": 756,
    "start_time": "2021-07-30T14:00:08.214Z"
   },
   {
    "duration": 27,
    "start_time": "2021-07-30T14:00:08.972Z"
   },
   {
    "duration": 17,
    "start_time": "2021-07-30T14:00:09.001Z"
   },
   {
    "duration": 29,
    "start_time": "2021-07-30T14:00:09.020Z"
   },
   {
    "duration": 9,
    "start_time": "2021-07-30T14:00:09.051Z"
   },
   {
    "duration": 42,
    "start_time": "2021-07-30T14:00:09.062Z"
   },
   {
    "duration": 44,
    "start_time": "2021-07-30T14:00:09.106Z"
   },
   {
    "duration": 22,
    "start_time": "2021-07-30T14:00:09.152Z"
   },
   {
    "duration": 20,
    "start_time": "2021-07-30T14:00:09.176Z"
   },
   {
    "duration": 44,
    "start_time": "2021-07-30T14:00:09.198Z"
   },
   {
    "duration": 1089,
    "start_time": "2021-07-30T14:00:43.397Z"
   },
   {
    "duration": 78,
    "start_time": "2021-07-30T14:00:44.489Z"
   },
   {
    "duration": 10,
    "start_time": "2021-07-30T14:00:44.570Z"
   },
   {
    "duration": 7,
    "start_time": "2021-07-30T14:00:44.582Z"
   },
   {
    "duration": 7,
    "start_time": "2021-07-30T14:00:44.590Z"
   },
   {
    "duration": 488,
    "start_time": "2021-07-30T14:00:44.598Z"
   },
   {
    "duration": 322,
    "start_time": "2021-07-30T14:00:45.088Z"
   },
   {
    "duration": 9,
    "start_time": "2021-07-30T14:00:45.412Z"
   },
   {
    "duration": 38,
    "start_time": "2021-07-30T14:00:45.423Z"
   },
   {
    "duration": 7,
    "start_time": "2021-07-30T14:00:45.463Z"
   },
   {
    "duration": 9,
    "start_time": "2021-07-30T14:00:45.472Z"
   },
   {
    "duration": 11,
    "start_time": "2021-07-30T14:00:45.483Z"
   },
   {
    "duration": 20,
    "start_time": "2021-07-30T14:00:45.496Z"
   },
   {
    "duration": 39,
    "start_time": "2021-07-30T14:00:45.518Z"
   },
   {
    "duration": 9,
    "start_time": "2021-07-30T14:00:45.559Z"
   },
   {
    "duration": 12,
    "start_time": "2021-07-30T14:00:45.570Z"
   },
   {
    "duration": 19,
    "start_time": "2021-07-30T14:00:45.583Z"
   },
   {
    "duration": 9,
    "start_time": "2021-07-30T14:00:45.603Z"
   },
   {
    "duration": 72,
    "start_time": "2021-07-30T14:00:45.613Z"
   },
   {
    "duration": 6,
    "start_time": "2021-07-30T14:00:45.687Z"
   },
   {
    "duration": 9,
    "start_time": "2021-07-30T14:00:45.694Z"
   },
   {
    "duration": 25,
    "start_time": "2021-07-30T14:00:45.705Z"
   },
   {
    "duration": 4391,
    "start_time": "2021-07-30T14:00:45.733Z"
   },
   {
    "duration": 17,
    "start_time": "2021-07-30T14:00:50.126Z"
   },
   {
    "duration": 5,
    "start_time": "2021-07-30T14:00:50.146Z"
   },
   {
    "duration": 17,
    "start_time": "2021-07-30T14:00:50.153Z"
   },
   {
    "duration": 17,
    "start_time": "2021-07-30T14:00:50.172Z"
   },
   {
    "duration": 762,
    "start_time": "2021-07-30T14:00:50.192Z"
   },
   {
    "duration": 22,
    "start_time": "2021-07-30T14:00:50.958Z"
   },
   {
    "duration": 16,
    "start_time": "2021-07-30T14:00:50.982Z"
   },
   {
    "duration": 20,
    "start_time": "2021-07-30T14:00:51.000Z"
   },
   {
    "duration": 37,
    "start_time": "2021-07-30T14:00:51.022Z"
   },
   {
    "duration": 51,
    "start_time": "2021-07-30T14:00:51.061Z"
   },
   {
    "duration": 27,
    "start_time": "2021-07-30T14:00:51.113Z"
   },
   {
    "duration": 27,
    "start_time": "2021-07-30T14:00:51.142Z"
   },
   {
    "duration": 25,
    "start_time": "2021-07-30T14:00:51.170Z"
   },
   {
    "duration": 20,
    "start_time": "2021-07-30T14:00:51.197Z"
   },
   {
    "duration": 1089,
    "start_time": "2021-07-30T14:01:46.873Z"
   },
   {
    "duration": 65,
    "start_time": "2021-07-30T14:01:47.964Z"
   },
   {
    "duration": 10,
    "start_time": "2021-07-30T14:01:48.031Z"
   },
   {
    "duration": 8,
    "start_time": "2021-07-30T14:01:48.044Z"
   },
   {
    "duration": 9,
    "start_time": "2021-07-30T14:01:48.054Z"
   },
   {
    "duration": 449,
    "start_time": "2021-07-30T14:01:48.065Z"
   },
   {
    "duration": 381,
    "start_time": "2021-07-30T14:01:48.516Z"
   },
   {
    "duration": 9,
    "start_time": "2021-07-30T14:01:48.899Z"
   },
   {
    "duration": 15,
    "start_time": "2021-07-30T14:01:48.910Z"
   },
   {
    "duration": 15,
    "start_time": "2021-07-30T14:01:48.927Z"
   },
   {
    "duration": 15,
    "start_time": "2021-07-30T14:01:48.944Z"
   },
   {
    "duration": 13,
    "start_time": "2021-07-30T14:01:48.961Z"
   },
   {
    "duration": 42,
    "start_time": "2021-07-30T14:01:48.976Z"
   },
   {
    "duration": 10,
    "start_time": "2021-07-30T14:01:49.020Z"
   },
   {
    "duration": 12,
    "start_time": "2021-07-30T14:01:49.032Z"
   },
   {
    "duration": 12,
    "start_time": "2021-07-30T14:01:49.046Z"
   },
   {
    "duration": 20,
    "start_time": "2021-07-30T14:01:49.060Z"
   },
   {
    "duration": 7,
    "start_time": "2021-07-30T14:01:49.082Z"
   },
   {
    "duration": 62,
    "start_time": "2021-07-30T14:01:49.091Z"
   },
   {
    "duration": 8,
    "start_time": "2021-07-30T14:01:49.155Z"
   },
   {
    "duration": 18,
    "start_time": "2021-07-30T14:01:49.164Z"
   },
   {
    "duration": 31,
    "start_time": "2021-07-30T14:01:49.185Z"
   },
   {
    "duration": 4415,
    "start_time": "2021-07-30T14:01:49.220Z"
   },
   {
    "duration": 15,
    "start_time": "2021-07-30T14:01:53.638Z"
   },
   {
    "duration": 12,
    "start_time": "2021-07-30T14:01:53.655Z"
   },
   {
    "duration": 22,
    "start_time": "2021-07-30T14:01:53.668Z"
   },
   {
    "duration": 18,
    "start_time": "2021-07-30T14:01:53.692Z"
   },
   {
    "duration": 710,
    "start_time": "2021-07-30T14:01:53.711Z"
   },
   {
    "duration": 38,
    "start_time": "2021-07-30T14:01:54.423Z"
   },
   {
    "duration": 16,
    "start_time": "2021-07-30T14:01:54.463Z"
   },
   {
    "duration": 13,
    "start_time": "2021-07-30T14:01:54.480Z"
   },
   {
    "duration": 23,
    "start_time": "2021-07-30T14:01:54.494Z"
   },
   {
    "duration": 48,
    "start_time": "2021-07-30T14:01:54.519Z"
   },
   {
    "duration": 26,
    "start_time": "2021-07-30T14:01:54.569Z"
   },
   {
    "duration": 24,
    "start_time": "2021-07-30T14:01:54.597Z"
   },
   {
    "duration": 44,
    "start_time": "2021-07-30T14:01:54.622Z"
   },
   {
    "duration": 22,
    "start_time": "2021-07-30T14:01:54.667Z"
   },
   {
    "duration": 1085,
    "start_time": "2021-07-30T14:14:17.277Z"
   },
   {
    "duration": 71,
    "start_time": "2021-07-30T14:14:18.364Z"
   },
   {
    "duration": 14,
    "start_time": "2021-07-30T14:14:18.437Z"
   },
   {
    "duration": 8,
    "start_time": "2021-07-30T14:14:18.454Z"
   },
   {
    "duration": 8,
    "start_time": "2021-07-30T14:14:18.464Z"
   },
   {
    "duration": 486,
    "start_time": "2021-07-30T14:14:18.474Z"
   },
   {
    "duration": 344,
    "start_time": "2021-07-30T14:14:18.962Z"
   },
   {
    "duration": 7,
    "start_time": "2021-07-30T14:14:19.309Z"
   },
   {
    "duration": 10,
    "start_time": "2021-07-30T14:14:19.318Z"
   },
   {
    "duration": 7,
    "start_time": "2021-07-30T14:14:19.340Z"
   },
   {
    "duration": 14,
    "start_time": "2021-07-30T14:14:19.349Z"
   },
   {
    "duration": 10,
    "start_time": "2021-07-30T14:14:19.365Z"
   },
   {
    "duration": 26,
    "start_time": "2021-07-30T14:14:19.377Z"
   },
   {
    "duration": 10,
    "start_time": "2021-07-30T14:14:19.404Z"
   },
   {
    "duration": 8,
    "start_time": "2021-07-30T14:14:19.440Z"
   },
   {
    "duration": 11,
    "start_time": "2021-07-30T14:14:19.450Z"
   },
   {
    "duration": 12,
    "start_time": "2021-07-30T14:14:19.463Z"
   },
   {
    "duration": 6,
    "start_time": "2021-07-30T14:14:19.476Z"
   },
   {
    "duration": 40,
    "start_time": "2021-07-30T14:14:19.484Z"
   },
   {
    "duration": 8,
    "start_time": "2021-07-30T14:14:19.541Z"
   },
   {
    "duration": 9,
    "start_time": "2021-07-30T14:14:19.551Z"
   },
   {
    "duration": 26,
    "start_time": "2021-07-30T14:14:19.562Z"
   },
   {
    "duration": 4226,
    "start_time": "2021-07-30T14:14:19.591Z"
   },
   {
    "duration": 13,
    "start_time": "2021-07-30T14:14:23.819Z"
   },
   {
    "duration": 6,
    "start_time": "2021-07-30T14:14:23.842Z"
   },
   {
    "duration": 22,
    "start_time": "2021-07-30T14:14:23.850Z"
   },
   {
    "duration": 19,
    "start_time": "2021-07-30T14:14:23.874Z"
   },
   {
    "duration": 748,
    "start_time": "2021-07-30T14:14:23.894Z"
   },
   {
    "duration": 24,
    "start_time": "2021-07-30T14:14:24.645Z"
   },
   {
    "duration": 16,
    "start_time": "2021-07-30T14:14:24.671Z"
   },
   {
    "duration": 11,
    "start_time": "2021-07-30T14:14:24.689Z"
   },
   {
    "duration": 9,
    "start_time": "2021-07-30T14:14:24.702Z"
   },
   {
    "duration": 65,
    "start_time": "2021-07-30T14:14:24.713Z"
   },
   {
    "duration": 27,
    "start_time": "2021-07-30T14:14:24.780Z"
   },
   {
    "duration": 42,
    "start_time": "2021-07-30T14:14:24.809Z"
   },
   {
    "duration": 23,
    "start_time": "2021-07-30T14:14:24.853Z"
   },
   {
    "duration": 21,
    "start_time": "2021-07-30T14:14:24.877Z"
   },
   {
    "duration": 1096,
    "start_time": "2021-07-30T14:21:57.360Z"
   },
   {
    "duration": 66,
    "start_time": "2021-07-30T14:21:58.458Z"
   },
   {
    "duration": 10,
    "start_time": "2021-07-30T14:21:58.526Z"
   },
   {
    "duration": 7,
    "start_time": "2021-07-30T14:21:58.541Z"
   },
   {
    "duration": 9,
    "start_time": "2021-07-30T14:21:58.551Z"
   },
   {
    "duration": 470,
    "start_time": "2021-07-30T14:21:58.561Z"
   },
   {
    "duration": 348,
    "start_time": "2021-07-30T14:21:59.033Z"
   },
   {
    "duration": 7,
    "start_time": "2021-07-30T14:21:59.385Z"
   },
   {
    "duration": 12,
    "start_time": "2021-07-30T14:21:59.394Z"
   },
   {
    "duration": 7,
    "start_time": "2021-07-30T14:21:59.408Z"
   },
   {
    "duration": 27,
    "start_time": "2021-07-30T14:21:59.416Z"
   },
   {
    "duration": 14,
    "start_time": "2021-07-30T14:21:59.445Z"
   },
   {
    "duration": 20,
    "start_time": "2021-07-30T14:21:59.461Z"
   },
   {
    "duration": 11,
    "start_time": "2021-07-30T14:21:59.482Z"
   },
   {
    "duration": 7,
    "start_time": "2021-07-30T14:21:59.494Z"
   },
   {
    "duration": 39,
    "start_time": "2021-07-30T14:21:59.502Z"
   },
   {
    "duration": 6,
    "start_time": "2021-07-30T14:21:59.544Z"
   },
   {
    "duration": 7,
    "start_time": "2021-07-30T14:21:59.552Z"
   },
   {
    "duration": 41,
    "start_time": "2021-07-30T14:21:59.561Z"
   },
   {
    "duration": 6,
    "start_time": "2021-07-30T14:21:59.604Z"
   },
   {
    "duration": 33,
    "start_time": "2021-07-30T14:21:59.611Z"
   },
   {
    "duration": 19,
    "start_time": "2021-07-30T14:21:59.646Z"
   },
   {
    "duration": 4554,
    "start_time": "2021-07-30T14:21:59.669Z"
   },
   {
    "duration": 22,
    "start_time": "2021-07-30T14:22:04.225Z"
   },
   {
    "duration": 5,
    "start_time": "2021-07-30T14:22:04.249Z"
   },
   {
    "duration": 15,
    "start_time": "2021-07-30T14:22:04.256Z"
   },
   {
    "duration": 19,
    "start_time": "2021-07-30T14:22:04.272Z"
   },
   {
    "duration": 716,
    "start_time": "2021-07-30T14:22:04.293Z"
   },
   {
    "duration": 35,
    "start_time": "2021-07-30T14:22:05.011Z"
   },
   {
    "duration": 18,
    "start_time": "2021-07-30T14:22:05.049Z"
   },
   {
    "duration": 15,
    "start_time": "2021-07-30T14:22:05.069Z"
   },
   {
    "duration": 59,
    "start_time": "2021-07-30T14:22:05.085Z"
   },
   {
    "duration": 29,
    "start_time": "2021-07-30T14:22:05.146Z"
   },
   {
    "duration": 22,
    "start_time": "2021-07-30T14:22:05.176Z"
   },
   {
    "duration": 42,
    "start_time": "2021-07-30T14:22:05.199Z"
   },
   {
    "duration": 25,
    "start_time": "2021-07-30T14:22:05.243Z"
   }
  ],
  "kernelspec": {
   "display_name": "Python 3 (ipykernel)",
   "language": "python",
   "name": "python3"
  },
  "language_info": {
   "codemirror_mode": {
    "name": "ipython",
    "version": 3
   },
   "file_extension": ".py",
   "mimetype": "text/x-python",
   "name": "python",
   "nbconvert_exporter": "python",
   "pygments_lexer": "ipython3",
   "version": "3.10.5"
  },
  "toc": {
   "base_numbering": 1,
   "nav_menu": {},
   "number_sections": true,
   "sideBar": true,
   "skip_h1_title": true,
   "title_cell": "Table of Contents",
   "title_sidebar": "Contents",
   "toc_cell": false,
   "toc_position": {
    "height": "calc(100% - 180px)",
    "left": "10px",
    "top": "150px",
    "width": "389.594px"
   },
   "toc_section_display": true,
   "toc_window_display": true
  }
 },
 "nbformat": 4,
 "nbformat_minor": 2
}
