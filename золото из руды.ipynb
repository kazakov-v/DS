{
 "cells": [
  {
   "cell_type": "markdown",
   "metadata": {},
   "source": [
    "# Восстановление золота из руды\n",
    "\n",
    "---"
   ]
  },
  {
   "cell_type": "markdown",
   "metadata": {},
   "source": [
    "\n",
    "```\n",
    "Технологический процесс\n",
    "Как золото получают из руды? Изучите внимательно стадии процесса.\n",
    "Когда добытая руда проходит первичную обработку, получается дроблёная смесь. \n",
    "Её отправляют на флотацию (обогащение) и двухэтапную очистку.\n",
    "```\n",
    "![avatar](https://pictures.s3.yandex.net/resources/viruchka_1576238830.jpg)\n",
    "```\n",
    "Опишем каждую стадию:\n",
    "1. Флотация\n",
    "Во флотационную установку подаётся смесь золотосодержащей руды. \n",
    "После обогащения получается черновой концентрат и «отвальные хвосты», \n",
    "то есть остатки продукта с низкой концентрацией ценных металлов.\n",
    "На стабильность этого процесса влияет непостоянное и неоптимальное \n",
    "физико-химическое состояние флотационной пульпы (смеси твёрдых частиц и жидкости).\n",
    "2. Очистка\n",
    "Черновой концентрат проходит две очистки. \n",
    "На выходе получается финальный концентрат и новые отвальные хвосты.\n",
    "\n",
    "Описание данных\n",
    "Технологический процесс\n",
    "Rougher feed — исходное сырье\n",
    "Rougher additions (или reagent additions) — флотационные реагенты: Xanthate, Sulphate, Depressant\n",
    "Xanthate **— ксантогенат (промотер, или активатор флотации);\n",
    "Sulphate — сульфат (на данном производстве сульфид натрия);\n",
    "Depressant — депрессант (силикат натрия).\n",
    "Rougher process (англ. «грубый процесс») — флотация\n",
    "Rougher tails — отвальные хвосты\n",
    "Float banks — флотационная установка\n",
    "Cleaner process — очистка\n",
    "Rougher Au — черновой концентрат золота\n",
    "Final Au — финальный концентрат золота\n",
    "\n",
    "Параметры этапов\n",
    "air amount — объём воздуха\n",
    "fluid levels — уровень жидкости\n",
    "feed size — размер гранул сырья\n",
    "feed rate — скорость подачи\n",
    "\n",
    "Наименование признаков\n",
    "Наименование признаков должно быть такое:\n",
    "[этап].[тип_параметра].[название_параметра]\n",
    "Пример: rougher.input.feed_ag\n",
    "Возможные значения для блока [этап]:\n",
    "rougher — флотация\n",
    "primary_cleaner — первичная очистка\n",
    "secondary_cleaner — вторичная очистка\n",
    "final — финальные характеристики\n",
    "Возможные значения для блока [тип_параметра]:\n",
    "input — параметры сырья\n",
    "output — параметры продукта\n",
    "state — параметры, характеризующие текущее состояние этапа\n",
    "calculation — расчётные характеристики\n",
    "\n",
    "Расчёт эффективности\n",
    "Вам нужно смоделировать процесс восстановления золота из золотосодержащей руды.\n",
    "Эффективность обогащения рассчитывается по формуле:\n",
    "```\n",
    "$\\large Recovery = \\frac{C\\times(F-T)}{F\\times(C-T)} \\times 100\\% $\n",
    "```\n",
    "где:\n",
    "C — доля золота в концентрате после флотации/очистки;\n",
    "F — доля золота в сырье/концентрате до флотации/очистки;\n",
    "T — доля золота в отвальных хвостах после флотации/очистки.\n",
    "Для прогноза коэффициента нужно найти долю золота в концентратах и хвостах. \n",
    "Причём важен не только финальный продукт, но и черновой концентрат.\n",
    "\n",
    "Метрика качества:\n",
    "\n",
    "Для решения задачи введём новую метрику качества — sMAPE \n",
    "(англ. Symmetric Mean Absolute Percentage Error, «симметричное среднее абсолютное процентное отклонение»).\n",
    "Она похожа на MAE, но выражается не в абсолютных величинах, а в относительных. \n",
    "Почему симметричная? Она одинаково учитывает масштаб и целевого признака, и предсказания.\n",
    "Метрика sMAPE вычисляется так:\n",
    "```\n",
    "$\\large sMAPE = \\frac{1}{N} \\sum_{i=1}^{N} \\frac{| y_i - \\hat{y}_i |}{( | y_i | + |\\hat{y}_i | ) / 2} \\times 100\\% $\n",
    "```\n",
    "Обозначения:\n",
    "```\n",
    "$\\large y_i$  -Значение целевого признака для объекта с порядковым номером i в выборке, на которой измеряется качество.\n",
    "\n",
    "$\\large \\hat{y}_i$  -Значение предсказания для объекта с порядковым номером i, например, в тестовой выборке.\n",
    "\n",
    "$\\large N$  -Количество объектов в выборке.\n",
    "\n",
    "$\\large \\sum_{i=1}^{N}$  -Суммирование по всем объектам выборки (i меняется от 1 до N).\n",
    "```\n",
    "Нужно спрогнозировать сразу две величины:\n",
    "эффективность обогащения чернового концентрата rougher.output.recovery;\n",
    "эффективность обогащения финального концентрата final.output.recovery.\n",
    "Итоговая метрика складывается из двух величин:\n",
    "```\n",
    "$\\large Итоговое\\ sMAPE = 25\\% \\times sMAPE( rougher ) + 75\\% \\times sMAPE ( final ) $\n"
   ]
  },
  {
   "cell_type": "markdown",
   "metadata": {},
   "source": [
    "----\n",
    "----\n",
    "___Описание проекта:___\n",
    "\n",
    "```\n",
    "Данные находятся в трёх файлах:\n",
    "gold_recovery_train_new.csv — обучающая выборка;\n",
    "gold_recovery_test_new.csv — тестовая выборка;\n",
    "gold_recovery_full_new.csv — исходные данные.\n",
    "Данные индексируются датой и временем получения информации (признак date). \n",
    "Соседние по времени параметры часто похожи.\n",
    "Некоторые параметры недоступны, потому что замеряются и/или рассчитываются значительно позже. \n",
    "Из-за этого в тестовой выборке отсутствуют некоторые признаки, которые могут быть в обучающей. \n",
    "Также в тестовом наборе нет целевых признаков.\n",
    "Исходный датасет содержит обучающую и тестовую выборки со всеми признаками.\n",
    "В вашем распоряжении сырые данные: их просто выгрузили из хранилища. \n",
    "Прежде чем приступить к построению модели, проверьте по нашей инструкции их на корректность.\n",
    "\n",
    "Инструкция по выполнению проекта:\n",
    "\n",
    "1. Подготовьте данные\n",
    "1.1. Откройте файлы и изучите их.\n",
    "Путь к файлам:\n",
    "/datasets/gold_recovery_train_new.csv\n",
    "/datasets/gold_recovery_test_new.csv\n",
    "/datasets/gold_recovery_full_new.csv\n",
    "1.2. Проверьте, что эффективность обогащения рассчитана правильно. \n",
    "     Вычислите её на обучающей выборке для признака rougher.output.recovery. \n",
    "     Найдите MAE между вашими расчётами и значением признака. Опишите выводы.\n",
    "1.3. Проанализируйте признаки, недоступные в тестовой выборке. \n",
    "     Что это за параметры? К какому типу относятся?\n",
    "1.4. Проведите предобработку данных.\n",
    "\n",
    "2. Проанализируйте данные\n",
    "2.1. Посмотрите, как меняется концентрация металлов (Au, Ag, Pb) на различных этапах очистки. Опишите выводы.\n",
    "2.2. Сравните распределения размеров гранул сырья на обучающей и тестовой выборках. \n",
    "     Если распределения сильно отличаются друг от друга, оценка модели будет неправильной.\n",
    "2.3. Исследуйте суммарную концентрацию всех веществ на разных стадиях: в сырье, в черновом и финальном концентратах.\n",
    "\n",
    "3. Постройте модель\n",
    "3.1. Напишите функцию для вычисления итоговой sMAPE.\n",
    "3.2. Обучите разные модели и оцените их качество кросс-валидацией. \n",
    "     Выберите лучшую модель и проверьте её на тестовой выборке. Опишите выводы.\n",
    "```"
   ]
  },
  {
   "cell_type": "markdown",
   "metadata": {
    "toc": true
   },
   "source": [
    "<h1>Содержание<span class=\"tocSkip\"></span></h1>\n",
    "<div class=\"toc\"><ul class=\"toc-item\"><li><span><a href=\"#Подготовка-данных\" data-toc-modified-id=\"Подготовка-данных-1\"><span class=\"toc-item-num\">1&nbsp;&nbsp;</span>Подготовка данных</a></span><ul class=\"toc-item\"><li><span><a href=\"#Открытие-файлов\" data-toc-modified-id=\"Открытие-файлов-1.1\"><span class=\"toc-item-num\">1.1&nbsp;&nbsp;</span>Открытие файлов</a></span></li><li><span><a href=\"#Проверка-правильности-расчета-эффективности-обогащения-на-обучающей-выборке-для-признака-rougher.output.recovery.-Нахождение-MAE-между-расчётами-и-значением-признака.\" data-toc-modified-id=\"Проверка-правильности-расчета-эффективности-обогащения-на-обучающей-выборке-для-признака-rougher.output.recovery.-Нахождение-MAE-между-расчётами-и-значением-признака.-1.2\"><span class=\"toc-item-num\">1.2&nbsp;&nbsp;</span>Проверка правильности расчета эффективности обогащения на обучающей выборке для признака rougher.output.recovery. Нахождение MAE между расчётами и значением признака.</a></span></li><li><span><a href=\"#Анализ-признаков,-недоступные-в-тестовой-выборке\" data-toc-modified-id=\"Анализ-признаков,-недоступные-в-тестовой-выборке-1.3\"><span class=\"toc-item-num\">1.3&nbsp;&nbsp;</span>Анализ признаков, недоступные в тестовой выборке</a></span></li><li><span><a href=\"#Предобработка-данных\" data-toc-modified-id=\"Предобработка-данных-1.4\"><span class=\"toc-item-num\">1.4&nbsp;&nbsp;</span>Предобработка данных</a></span></li></ul></li><li><span><a href=\"#Анализ-данных\" data-toc-modified-id=\"Анализ-данных-2\"><span class=\"toc-item-num\">2&nbsp;&nbsp;</span>Анализ данных</a></span><ul class=\"toc-item\"><li><span><a href=\"#Посмотрим,-как-меняется-концентрация-металлов-(Au,-Ag,-Pb)-на-различных-этапах-очистки.\" data-toc-modified-id=\"Посмотрим,-как-меняется-концентрация-металлов-(Au,-Ag,-Pb)-на-различных-этапах-очистки.-2.1\"><span class=\"toc-item-num\">2.1&nbsp;&nbsp;</span>Посмотрим, как меняется концентрация металлов (Au, Ag, Pb) на различных этапах очистки.</a></span></li><li><span><a href=\"#Сравним-распределения-размеров-гранул-сырья-на-обучающей-и-тестовой-выборках.\" data-toc-modified-id=\"Сравним-распределения-размеров-гранул-сырья-на-обучающей-и-тестовой-выборках.-2.2\"><span class=\"toc-item-num\">2.2&nbsp;&nbsp;</span>Сравним распределения размеров гранул сырья на обучающей и тестовой выборках.</a></span></li><li><span><a href=\"#Исследуем-суммарную-концентрацию-всех-веществ-на-разных-стадиях:-в-сырье,-в-черновом-и-финальном-концентратах.\" data-toc-modified-id=\"Исследуем-суммарную-концентрацию-всех-веществ-на-разных-стадиях:-в-сырье,-в-черновом-и-финальном-концентратах.-2.3\"><span class=\"toc-item-num\">2.3&nbsp;&nbsp;</span>Исследуем суммарную концентрацию всех веществ на разных стадиях: в сырье, в черновом и финальном концентратах.</a></span></li></ul></li><li><span><a href=\"#Модель\" data-toc-modified-id=\"Модель-3\"><span class=\"toc-item-num\">3&nbsp;&nbsp;</span>Модель</a></span><ul class=\"toc-item\"><li><span><a href=\"#Функция-для-вычисления-итоговой-sMAPE.\" data-toc-modified-id=\"Функция-для-вычисления-итоговой-sMAPE.-3.1\"><span class=\"toc-item-num\">3.1&nbsp;&nbsp;</span>Функция для вычисления итоговой sMAPE.</a></span></li><li><span><a href=\"#Обучение-разных-моделей-и-оценка-их-качества-кросс-валидацией.-Выбор-лучшей-модели-и-проверка-её-на-тестовой-выборке.\" data-toc-modified-id=\"Обучение-разных-моделей-и-оценка-их-качества-кросс-валидацией.-Выбор-лучшей-модели-и-проверка-её-на-тестовой-выборке.-3.2\"><span class=\"toc-item-num\">3.2&nbsp;&nbsp;</span>Обучение разных моделей и оценка их качества кросс-валидацией. Выбор лучшей модели и проверка её на тестовой выборке.</a></span></li></ul></li><li><span><a href=\"#Общий-вывод:\" data-toc-modified-id=\"Общий-вывод:-4\"><span class=\"toc-item-num\">4&nbsp;&nbsp;</span>Общий вывод:</a></span></li></ul></div>"
   ]
  },
  {
   "cell_type": "markdown",
   "metadata": {},
   "source": [
    "## Подготовка данных"
   ]
  },
  {
   "cell_type": "code",
   "execution_count": 1,
   "metadata": {},
   "outputs": [],
   "source": [
    "import pandas as pd\n",
    "import numpy as np\n",
    "import matplotlib.pyplot as plt\n",
    "\n",
    "from sklearn.ensemble import RandomForestRegressor\n",
    "from sklearn.tree import DecisionTreeRegressor\n",
    "from sklearn.linear_model import LinearRegression\n",
    "from sklearn.dummy import DummyRegressor\n",
    "\n",
    "from sklearn.model_selection import cross_val_score\n",
    "from sklearn.metrics import make_scorer\n",
    "from sklearn.preprocessing import StandardScaler\n"
   ]
  },
  {
   "cell_type": "markdown",
   "metadata": {},
   "source": [
    "### Открытие файлов"
   ]
  },
  {
   "cell_type": "code",
   "execution_count": 2,
   "metadata": {},
   "outputs": [],
   "source": [
    "df_full = pd.read_csv('/datasets/gold_recovery_full_new.csv',index_col='date')\n",
    "df_test = pd.read_csv('/datasets/gold_recovery_test_new.csv', index_col='date')\n",
    "df_train = pd.read_csv('/datasets/gold_recovery_train_new.csv', index_col='date')"
   ]
  },
  {
   "cell_type": "code",
   "execution_count": 3,
   "metadata": {},
   "outputs": [
    {
     "name": "stdout",
     "output_type": "stream",
     "text": [
      "<class 'pandas.core.frame.DataFrame'>\n",
      "Index: 19439 entries, 2016-01-15 00:00:00 to 2018-08-18 10:59:59\n",
      "Data columns (total 86 columns):\n",
      "final.output.concentrate_ag                           19438 non-null float64\n",
      "final.output.concentrate_pb                           19438 non-null float64\n",
      "final.output.concentrate_sol                          19228 non-null float64\n",
      "final.output.concentrate_au                           19439 non-null float64\n",
      "final.output.recovery                                 19439 non-null float64\n",
      "final.output.tail_ag                                  19438 non-null float64\n",
      "final.output.tail_pb                                  19338 non-null float64\n",
      "final.output.tail_sol                                 19433 non-null float64\n",
      "final.output.tail_au                                  19439 non-null float64\n",
      "primary_cleaner.input.sulfate                         19415 non-null float64\n",
      "primary_cleaner.input.depressant                      19402 non-null float64\n",
      "primary_cleaner.input.feed_size                       19439 non-null float64\n",
      "primary_cleaner.input.xanthate                        19335 non-null float64\n",
      "primary_cleaner.output.concentrate_ag                 19439 non-null float64\n",
      "primary_cleaner.output.concentrate_pb                 19323 non-null float64\n",
      "primary_cleaner.output.concentrate_sol                19069 non-null float64\n",
      "primary_cleaner.output.concentrate_au                 19439 non-null float64\n",
      "primary_cleaner.output.tail_ag                        19435 non-null float64\n",
      "primary_cleaner.output.tail_pb                        19418 non-null float64\n",
      "primary_cleaner.output.tail_sol                       19377 non-null float64\n",
      "primary_cleaner.output.tail_au                        19439 non-null float64\n",
      "primary_cleaner.state.floatbank8_a_air                19435 non-null float64\n",
      "primary_cleaner.state.floatbank8_a_level              19438 non-null float64\n",
      "primary_cleaner.state.floatbank8_b_air                19435 non-null float64\n",
      "primary_cleaner.state.floatbank8_b_level              19438 non-null float64\n",
      "primary_cleaner.state.floatbank8_c_air                19437 non-null float64\n",
      "primary_cleaner.state.floatbank8_c_level              19438 non-null float64\n",
      "primary_cleaner.state.floatbank8_d_air                19436 non-null float64\n",
      "primary_cleaner.state.floatbank8_d_level              19438 non-null float64\n",
      "rougher.calculation.sulfate_to_au_concentrate         19437 non-null float64\n",
      "rougher.calculation.floatbank10_sulfate_to_au_feed    19437 non-null float64\n",
      "rougher.calculation.floatbank11_sulfate_to_au_feed    19437 non-null float64\n",
      "rougher.calculation.au_pb_ratio                       19439 non-null float64\n",
      "rougher.input.feed_ag                                 19439 non-null float64\n",
      "rougher.input.feed_pb                                 19339 non-null float64\n",
      "rougher.input.feed_rate                               19428 non-null float64\n",
      "rougher.input.feed_size                               19294 non-null float64\n",
      "rougher.input.feed_sol                                19340 non-null float64\n",
      "rougher.input.feed_au                                 19439 non-null float64\n",
      "rougher.input.floatbank10_sulfate                     19405 non-null float64\n",
      "rougher.input.floatbank10_xanthate                    19431 non-null float64\n",
      "rougher.input.floatbank11_sulfate                     19395 non-null float64\n",
      "rougher.input.floatbank11_xanthate                    18986 non-null float64\n",
      "rougher.output.concentrate_ag                         19439 non-null float64\n",
      "rougher.output.concentrate_pb                         19439 non-null float64\n",
      "rougher.output.concentrate_sol                        19416 non-null float64\n",
      "rougher.output.concentrate_au                         19439 non-null float64\n",
      "rougher.output.recovery                               19439 non-null float64\n",
      "rougher.output.tail_ag                                19438 non-null float64\n",
      "rougher.output.tail_pb                                19439 non-null float64\n",
      "rougher.output.tail_sol                               19439 non-null float64\n",
      "rougher.output.tail_au                                19439 non-null float64\n",
      "rougher.state.floatbank10_a_air                       19438 non-null float64\n",
      "rougher.state.floatbank10_a_level                     19438 non-null float64\n",
      "rougher.state.floatbank10_b_air                       19438 non-null float64\n",
      "rougher.state.floatbank10_b_level                     19438 non-null float64\n",
      "rougher.state.floatbank10_c_air                       19438 non-null float64\n",
      "rougher.state.floatbank10_c_level                     19438 non-null float64\n",
      "rougher.state.floatbank10_d_air                       19439 non-null float64\n",
      "rougher.state.floatbank10_d_level                     19439 non-null float64\n",
      "rougher.state.floatbank10_e_air                       19003 non-null float64\n",
      "rougher.state.floatbank10_e_level                     19439 non-null float64\n",
      "rougher.state.floatbank10_f_air                       19439 non-null float64\n",
      "rougher.state.floatbank10_f_level                     19439 non-null float64\n",
      "secondary_cleaner.output.tail_ag                      19437 non-null float64\n",
      "secondary_cleaner.output.tail_pb                      19427 non-null float64\n",
      "secondary_cleaner.output.tail_sol                     17691 non-null float64\n",
      "secondary_cleaner.output.tail_au                      19439 non-null float64\n",
      "secondary_cleaner.state.floatbank2_a_air              19219 non-null float64\n",
      "secondary_cleaner.state.floatbank2_a_level            19438 non-null float64\n",
      "secondary_cleaner.state.floatbank2_b_air              19416 non-null float64\n",
      "secondary_cleaner.state.floatbank2_b_level            19438 non-null float64\n",
      "secondary_cleaner.state.floatbank3_a_air              19426 non-null float64\n",
      "secondary_cleaner.state.floatbank3_a_level            19438 non-null float64\n",
      "secondary_cleaner.state.floatbank3_b_air              19438 non-null float64\n",
      "secondary_cleaner.state.floatbank3_b_level            19438 non-null float64\n",
      "secondary_cleaner.state.floatbank4_a_air              19433 non-null float64\n",
      "secondary_cleaner.state.floatbank4_a_level            19438 non-null float64\n",
      "secondary_cleaner.state.floatbank4_b_air              19438 non-null float64\n",
      "secondary_cleaner.state.floatbank4_b_level            19438 non-null float64\n",
      "secondary_cleaner.state.floatbank5_a_air              19438 non-null float64\n",
      "secondary_cleaner.state.floatbank5_a_level            19438 non-null float64\n",
      "secondary_cleaner.state.floatbank5_b_air              19438 non-null float64\n",
      "secondary_cleaner.state.floatbank5_b_level            19438 non-null float64\n",
      "secondary_cleaner.state.floatbank6_a_air              19437 non-null float64\n",
      "secondary_cleaner.state.floatbank6_a_level            19438 non-null float64\n",
      "dtypes: float64(86)\n",
      "memory usage: 12.9+ MB\n"
     ]
    }
   ],
   "source": [
    "df_full.info()"
   ]
  },
  {
   "cell_type": "code",
   "execution_count": 4,
   "metadata": {},
   "outputs": [
    {
     "name": "stdout",
     "output_type": "stream",
     "text": [
      "<class 'pandas.core.frame.DataFrame'>\n",
      "Index: 14149 entries, 2016-01-15 00:00:00 to 2018-08-18 10:59:59\n",
      "Data columns (total 86 columns):\n",
      "final.output.concentrate_ag                           14148 non-null float64\n",
      "final.output.concentrate_pb                           14148 non-null float64\n",
      "final.output.concentrate_sol                          13938 non-null float64\n",
      "final.output.concentrate_au                           14149 non-null float64\n",
      "final.output.recovery                                 14149 non-null float64\n",
      "final.output.tail_ag                                  14149 non-null float64\n",
      "final.output.tail_pb                                  14049 non-null float64\n",
      "final.output.tail_sol                                 14144 non-null float64\n",
      "final.output.tail_au                                  14149 non-null float64\n",
      "primary_cleaner.input.sulfate                         14129 non-null float64\n",
      "primary_cleaner.input.depressant                      14117 non-null float64\n",
      "primary_cleaner.input.feed_size                       14149 non-null float64\n",
      "primary_cleaner.input.xanthate                        14049 non-null float64\n",
      "primary_cleaner.output.concentrate_ag                 14149 non-null float64\n",
      "primary_cleaner.output.concentrate_pb                 14063 non-null float64\n",
      "primary_cleaner.output.concentrate_sol                13863 non-null float64\n",
      "primary_cleaner.output.concentrate_au                 14149 non-null float64\n",
      "primary_cleaner.output.tail_ag                        14148 non-null float64\n",
      "primary_cleaner.output.tail_pb                        14134 non-null float64\n",
      "primary_cleaner.output.tail_sol                       14103 non-null float64\n",
      "primary_cleaner.output.tail_au                        14149 non-null float64\n",
      "primary_cleaner.state.floatbank8_a_air                14145 non-null float64\n",
      "primary_cleaner.state.floatbank8_a_level              14148 non-null float64\n",
      "primary_cleaner.state.floatbank8_b_air                14145 non-null float64\n",
      "primary_cleaner.state.floatbank8_b_level              14148 non-null float64\n",
      "primary_cleaner.state.floatbank8_c_air                14147 non-null float64\n",
      "primary_cleaner.state.floatbank8_c_level              14148 non-null float64\n",
      "primary_cleaner.state.floatbank8_d_air                14146 non-null float64\n",
      "primary_cleaner.state.floatbank8_d_level              14148 non-null float64\n",
      "rougher.calculation.sulfate_to_au_concentrate         14148 non-null float64\n",
      "rougher.calculation.floatbank10_sulfate_to_au_feed    14148 non-null float64\n",
      "rougher.calculation.floatbank11_sulfate_to_au_feed    14148 non-null float64\n",
      "rougher.calculation.au_pb_ratio                       14149 non-null float64\n",
      "rougher.input.feed_ag                                 14149 non-null float64\n",
      "rougher.input.feed_pb                                 14049 non-null float64\n",
      "rougher.input.feed_rate                               14141 non-null float64\n",
      "rougher.input.feed_size                               14005 non-null float64\n",
      "rougher.input.feed_sol                                14071 non-null float64\n",
      "rougher.input.feed_au                                 14149 non-null float64\n",
      "rougher.input.floatbank10_sulfate                     14120 non-null float64\n",
      "rougher.input.floatbank10_xanthate                    14141 non-null float64\n",
      "rougher.input.floatbank11_sulfate                     14113 non-null float64\n",
      "rougher.input.floatbank11_xanthate                    13721 non-null float64\n",
      "rougher.output.concentrate_ag                         14149 non-null float64\n",
      "rougher.output.concentrate_pb                         14149 non-null float64\n",
      "rougher.output.concentrate_sol                        14127 non-null float64\n",
      "rougher.output.concentrate_au                         14149 non-null float64\n",
      "rougher.output.recovery                               14149 non-null float64\n",
      "rougher.output.tail_ag                                14148 non-null float64\n",
      "rougher.output.tail_pb                                14149 non-null float64\n",
      "rougher.output.tail_sol                               14149 non-null float64\n",
      "rougher.output.tail_au                                14149 non-null float64\n",
      "rougher.state.floatbank10_a_air                       14148 non-null float64\n",
      "rougher.state.floatbank10_a_level                     14148 non-null float64\n",
      "rougher.state.floatbank10_b_air                       14148 non-null float64\n",
      "rougher.state.floatbank10_b_level                     14148 non-null float64\n",
      "rougher.state.floatbank10_c_air                       14148 non-null float64\n",
      "rougher.state.floatbank10_c_level                     14148 non-null float64\n",
      "rougher.state.floatbank10_d_air                       14149 non-null float64\n",
      "rougher.state.floatbank10_d_level                     14149 non-null float64\n",
      "rougher.state.floatbank10_e_air                       13713 non-null float64\n",
      "rougher.state.floatbank10_e_level                     14149 non-null float64\n",
      "rougher.state.floatbank10_f_air                       14149 non-null float64\n",
      "rougher.state.floatbank10_f_level                     14149 non-null float64\n",
      "secondary_cleaner.output.tail_ag                      14147 non-null float64\n",
      "secondary_cleaner.output.tail_pb                      14139 non-null float64\n",
      "secondary_cleaner.output.tail_sol                     12544 non-null float64\n",
      "secondary_cleaner.output.tail_au                      14149 non-null float64\n",
      "secondary_cleaner.state.floatbank2_a_air              13932 non-null float64\n",
      "secondary_cleaner.state.floatbank2_a_level            14148 non-null float64\n",
      "secondary_cleaner.state.floatbank2_b_air              14128 non-null float64\n",
      "secondary_cleaner.state.floatbank2_b_level            14148 non-null float64\n",
      "secondary_cleaner.state.floatbank3_a_air              14145 non-null float64\n",
      "secondary_cleaner.state.floatbank3_a_level            14148 non-null float64\n",
      "secondary_cleaner.state.floatbank3_b_air              14148 non-null float64\n",
      "secondary_cleaner.state.floatbank3_b_level            14148 non-null float64\n",
      "secondary_cleaner.state.floatbank4_a_air              14143 non-null float64\n",
      "secondary_cleaner.state.floatbank4_a_level            14148 non-null float64\n",
      "secondary_cleaner.state.floatbank4_b_air              14148 non-null float64\n",
      "secondary_cleaner.state.floatbank4_b_level            14148 non-null float64\n",
      "secondary_cleaner.state.floatbank5_a_air              14148 non-null float64\n",
      "secondary_cleaner.state.floatbank5_a_level            14148 non-null float64\n",
      "secondary_cleaner.state.floatbank5_b_air              14148 non-null float64\n",
      "secondary_cleaner.state.floatbank5_b_level            14148 non-null float64\n",
      "secondary_cleaner.state.floatbank6_a_air              14147 non-null float64\n",
      "secondary_cleaner.state.floatbank6_a_level            14148 non-null float64\n",
      "dtypes: float64(86)\n",
      "memory usage: 9.4+ MB\n"
     ]
    }
   ],
   "source": [
    "df_train.info()"
   ]
  },
  {
   "cell_type": "code",
   "execution_count": 5,
   "metadata": {},
   "outputs": [
    {
     "name": "stdout",
     "output_type": "stream",
     "text": [
      "<class 'pandas.core.frame.DataFrame'>\n",
      "Index: 5290 entries, 2016-09-01 00:59:59 to 2017-12-31 23:59:59\n",
      "Data columns (total 52 columns):\n",
      "primary_cleaner.input.sulfate                 5286 non-null float64\n",
      "primary_cleaner.input.depressant              5285 non-null float64\n",
      "primary_cleaner.input.feed_size               5290 non-null float64\n",
      "primary_cleaner.input.xanthate                5286 non-null float64\n",
      "primary_cleaner.state.floatbank8_a_air        5290 non-null float64\n",
      "primary_cleaner.state.floatbank8_a_level      5290 non-null float64\n",
      "primary_cleaner.state.floatbank8_b_air        5290 non-null float64\n",
      "primary_cleaner.state.floatbank8_b_level      5290 non-null float64\n",
      "primary_cleaner.state.floatbank8_c_air        5290 non-null float64\n",
      "primary_cleaner.state.floatbank8_c_level      5290 non-null float64\n",
      "primary_cleaner.state.floatbank8_d_air        5290 non-null float64\n",
      "primary_cleaner.state.floatbank8_d_level      5290 non-null float64\n",
      "rougher.input.feed_ag                         5290 non-null float64\n",
      "rougher.input.feed_pb                         5290 non-null float64\n",
      "rougher.input.feed_rate                       5287 non-null float64\n",
      "rougher.input.feed_size                       5289 non-null float64\n",
      "rougher.input.feed_sol                        5269 non-null float64\n",
      "rougher.input.feed_au                         5290 non-null float64\n",
      "rougher.input.floatbank10_sulfate             5285 non-null float64\n",
      "rougher.input.floatbank10_xanthate            5290 non-null float64\n",
      "rougher.input.floatbank11_sulfate             5282 non-null float64\n",
      "rougher.input.floatbank11_xanthate            5265 non-null float64\n",
      "rougher.state.floatbank10_a_air               5290 non-null float64\n",
      "rougher.state.floatbank10_a_level             5290 non-null float64\n",
      "rougher.state.floatbank10_b_air               5290 non-null float64\n",
      "rougher.state.floatbank10_b_level             5290 non-null float64\n",
      "rougher.state.floatbank10_c_air               5290 non-null float64\n",
      "rougher.state.floatbank10_c_level             5290 non-null float64\n",
      "rougher.state.floatbank10_d_air               5290 non-null float64\n",
      "rougher.state.floatbank10_d_level             5290 non-null float64\n",
      "rougher.state.floatbank10_e_air               5290 non-null float64\n",
      "rougher.state.floatbank10_e_level             5290 non-null float64\n",
      "rougher.state.floatbank10_f_air               5290 non-null float64\n",
      "rougher.state.floatbank10_f_level             5290 non-null float64\n",
      "secondary_cleaner.state.floatbank2_a_air      5287 non-null float64\n",
      "secondary_cleaner.state.floatbank2_a_level    5290 non-null float64\n",
      "secondary_cleaner.state.floatbank2_b_air      5288 non-null float64\n",
      "secondary_cleaner.state.floatbank2_b_level    5290 non-null float64\n",
      "secondary_cleaner.state.floatbank3_a_air      5281 non-null float64\n",
      "secondary_cleaner.state.floatbank3_a_level    5290 non-null float64\n",
      "secondary_cleaner.state.floatbank3_b_air      5290 non-null float64\n",
      "secondary_cleaner.state.floatbank3_b_level    5290 non-null float64\n",
      "secondary_cleaner.state.floatbank4_a_air      5290 non-null float64\n",
      "secondary_cleaner.state.floatbank4_a_level    5290 non-null float64\n",
      "secondary_cleaner.state.floatbank4_b_air      5290 non-null float64\n",
      "secondary_cleaner.state.floatbank4_b_level    5290 non-null float64\n",
      "secondary_cleaner.state.floatbank5_a_air      5290 non-null float64\n",
      "secondary_cleaner.state.floatbank5_a_level    5290 non-null float64\n",
      "secondary_cleaner.state.floatbank5_b_air      5290 non-null float64\n",
      "secondary_cleaner.state.floatbank5_b_level    5290 non-null float64\n",
      "secondary_cleaner.state.floatbank6_a_air      5290 non-null float64\n",
      "secondary_cleaner.state.floatbank6_a_level    5290 non-null float64\n",
      "dtypes: float64(52)\n",
      "memory usage: 2.1+ MB\n"
     ]
    }
   ],
   "source": [
    "df_test.info()"
   ]
  },
  {
   "cell_type": "code",
   "execution_count": null,
   "metadata": {},
   "outputs": [],
   "source": []
  },
  {
   "cell_type": "markdown",
   "metadata": {},
   "source": [
    "### Проверка правильности расчета эффективности обогащения на обучающей выборке для признака rougher.output.recovery. Нахождение MAE между расчётами и значением признака."
   ]
  },
  {
   "cell_type": "markdown",
   "metadata": {},
   "source": [
    "$\\large Recovery = \\frac{C\\times(F-T)}{F\\times(C-T)} \\times 100\\% $"
   ]
  },
  {
   "cell_type": "code",
   "execution_count": 6,
   "metadata": {},
   "outputs": [
    {
     "name": "stdout",
     "output_type": "stream",
     "text": [
      "MAE : 9.682896147825551e-15\n"
     ]
    }
   ],
   "source": [
    "C = df_train['rougher.output.concentrate_au']\n",
    "F = df_train['rougher.input.feed_au']\n",
    "T = df_train['rougher.output.tail_au']\n",
    "df_train['rougher.output.recovery_calculated'] = (C * (F - T)) / (F * (C - T)) * 100\n",
    "mae = (df_train['rougher.output.recovery_calculated'] - \n",
    "       df_train['rougher.output.recovery']).abs().sum() / len(df_train)\n",
    "print(\"MAE\", \":\", mae)"
   ]
  },
  {
   "cell_type": "markdown",
   "metadata": {},
   "source": [
    "__Вывод:  значения расчитаны верно.__"
   ]
  },
  {
   "cell_type": "markdown",
   "metadata": {},
   "source": [
    "### Анализ признаков, недоступные в тестовой выборке"
   ]
  },
  {
   "cell_type": "code",
   "execution_count": 7,
   "metadata": {},
   "outputs": [
    {
     "name": "stdout",
     "output_type": "stream",
     "text": [
      "Недоступно 34 столбца:\n"
     ]
    },
    {
     "data": {
      "text/plain": [
       "['final.output.concentrate_ag',\n",
       " 'final.output.concentrate_au',\n",
       " 'final.output.concentrate_pb',\n",
       " 'final.output.concentrate_sol',\n",
       " 'final.output.recovery',\n",
       " 'final.output.tail_ag',\n",
       " 'final.output.tail_au',\n",
       " 'final.output.tail_pb',\n",
       " 'final.output.tail_sol',\n",
       " 'primary_cleaner.output.concentrate_ag',\n",
       " 'primary_cleaner.output.concentrate_au',\n",
       " 'primary_cleaner.output.concentrate_pb',\n",
       " 'primary_cleaner.output.concentrate_sol',\n",
       " 'primary_cleaner.output.tail_ag',\n",
       " 'primary_cleaner.output.tail_au',\n",
       " 'primary_cleaner.output.tail_pb',\n",
       " 'primary_cleaner.output.tail_sol',\n",
       " 'rougher.calculation.au_pb_ratio',\n",
       " 'rougher.calculation.floatbank10_sulfate_to_au_feed',\n",
       " 'rougher.calculation.floatbank11_sulfate_to_au_feed',\n",
       " 'rougher.calculation.sulfate_to_au_concentrate',\n",
       " 'rougher.output.concentrate_ag',\n",
       " 'rougher.output.concentrate_au',\n",
       " 'rougher.output.concentrate_pb',\n",
       " 'rougher.output.concentrate_sol',\n",
       " 'rougher.output.recovery',\n",
       " 'rougher.output.tail_ag',\n",
       " 'rougher.output.tail_au',\n",
       " 'rougher.output.tail_pb',\n",
       " 'rougher.output.tail_sol',\n",
       " 'secondary_cleaner.output.tail_ag',\n",
       " 'secondary_cleaner.output.tail_au',\n",
       " 'secondary_cleaner.output.tail_pb',\n",
       " 'secondary_cleaner.output.tail_sol']"
      ]
     },
     "execution_count": 7,
     "metadata": {},
     "output_type": "execute_result"
    }
   ],
   "source": [
    "unavailable_columns = list(df_full.columns.difference(df_test.columns))\n",
    "print('Недоступно', len(unavailable_columns), 'столбца:')\n",
    "unavailable_columns"
   ]
  },
  {
   "cell_type": "markdown",
   "metadata": {},
   "source": [
    "__Отсутствующие столбцы содержат параметры продукта и расчетные характеристики,   \n",
    "которые замеряются и/или расчитываются позже, т.е модель не может их использовать для предсказаний.  \n",
    "Также отсутствуют целевые признаки, которые потребуются для оценки качества моделей.__   \n",
    "\n",
    "---"
   ]
  },
  {
   "cell_type": "markdown",
   "metadata": {},
   "source": [
    "### Предобработка данных"
   ]
  },
  {
   "cell_type": "markdown",
   "metadata": {},
   "source": [
    "Выделим данные для обучения моделей"
   ]
  },
  {
   "cell_type": "code",
   "execution_count": 8,
   "metadata": {},
   "outputs": [],
   "source": [
    "X_columns = list(df_full.columns.difference(unavailable_columns))\n",
    "y_columns = ['rougher.output.recovery', 'final.output.recovery']\n",
    "ml_full = df_full.loc[:, X_columns + y_columns]  "
   ]
  },
  {
   "cell_type": "markdown",
   "metadata": {},
   "source": [
    "Процент пропусков данных:"
   ]
  },
  {
   "cell_type": "code",
   "execution_count": 9,
   "metadata": {},
   "outputs": [
    {
     "data": {
      "text/plain": [
       "rougher.input.floatbank11_xanthate            2.330367\n",
       "rougher.state.floatbank10_e_air               2.242914\n",
       "secondary_cleaner.state.floatbank2_a_air      1.131745\n",
       "rougher.input.feed_size                       0.745923\n",
       "primary_cleaner.input.xanthate                0.535007\n",
       "rougher.input.feed_pb                         0.514430\n",
       "rougher.input.feed_sol                        0.509285\n",
       "rougher.input.floatbank11_sulfate             0.226349\n",
       "primary_cleaner.input.depressant              0.190339\n",
       "rougher.input.floatbank10_sulfate             0.174906\n",
       "primary_cleaner.input.sulfate                 0.123463\n",
       "secondary_cleaner.state.floatbank2_b_air      0.118319\n",
       "secondary_cleaner.state.floatbank3_a_air      0.066876\n",
       "rougher.input.feed_rate                       0.056587\n",
       "rougher.input.floatbank10_xanthate            0.041154\n",
       "secondary_cleaner.state.floatbank4_a_air      0.030866\n",
       "primary_cleaner.state.floatbank8_b_air        0.020577\n",
       "primary_cleaner.state.floatbank8_a_air        0.020577\n",
       "primary_cleaner.state.floatbank8_d_air        0.015433\n",
       "primary_cleaner.state.floatbank8_c_air        0.010289\n",
       "secondary_cleaner.state.floatbank6_a_air      0.010289\n",
       "rougher.state.floatbank10_a_air               0.005144\n",
       "primary_cleaner.state.floatbank8_b_level      0.005144\n",
       "primary_cleaner.state.floatbank8_a_level      0.005144\n",
       "primary_cleaner.state.floatbank8_c_level      0.005144\n",
       "rougher.state.floatbank10_b_air               0.005144\n",
       "primary_cleaner.state.floatbank8_d_level      0.005144\n",
       "rougher.state.floatbank10_a_level             0.005144\n",
       "rougher.state.floatbank10_c_air               0.005144\n",
       "rougher.state.floatbank10_b_level             0.005144\n",
       "secondary_cleaner.state.floatbank4_b_air      0.005144\n",
       "rougher.state.floatbank10_c_level             0.005144\n",
       "secondary_cleaner.state.floatbank6_a_level    0.005144\n",
       "secondary_cleaner.state.floatbank5_b_level    0.005144\n",
       "secondary_cleaner.state.floatbank5_b_air      0.005144\n",
       "secondary_cleaner.state.floatbank5_a_level    0.005144\n",
       "secondary_cleaner.state.floatbank2_a_level    0.005144\n",
       "secondary_cleaner.state.floatbank2_b_level    0.005144\n",
       "secondary_cleaner.state.floatbank3_a_level    0.005144\n",
       "secondary_cleaner.state.floatbank5_a_air      0.005144\n",
       "secondary_cleaner.state.floatbank4_b_level    0.005144\n",
       "secondary_cleaner.state.floatbank3_b_air      0.005144\n",
       "secondary_cleaner.state.floatbank3_b_level    0.005144\n",
       "secondary_cleaner.state.floatbank4_a_level    0.005144\n",
       "primary_cleaner.input.feed_size               0.000000\n",
       "rougher.input.feed_ag                         0.000000\n",
       "rougher.output.recovery                       0.000000\n",
       "rougher.input.feed_au                         0.000000\n",
       "rougher.state.floatbank10_f_level             0.000000\n",
       "rougher.state.floatbank10_f_air               0.000000\n",
       "rougher.state.floatbank10_e_level             0.000000\n",
       "rougher.state.floatbank10_d_level             0.000000\n",
       "rougher.state.floatbank10_d_air               0.000000\n",
       "final.output.recovery                         0.000000\n",
       "dtype: float64"
      ]
     },
     "execution_count": 9,
     "metadata": {},
     "output_type": "execute_result"
    }
   ],
   "source": [
    "(ml_full.isna().mean() * 100).sort_values(ascending=False)"
   ]
  },
  {
   "cell_type": "markdown",
   "metadata": {},
   "source": [
    "Отдельные параметры имеют не много пропусков, но они слабо пересекаются, и поэтому  "
   ]
  },
  {
   "cell_type": "code",
   "execution_count": 10,
   "metadata": {},
   "outputs": [
    {
     "name": "stdout",
     "output_type": "stream",
     "text": [
      "Удаление строк, содержащих пропуски вызовет удаление 7.88 % строк исходного датасета\n"
     ]
    }
   ],
   "source": [
    "print('Удаление строк, содержащих пропуски вызовет удаление',\n",
    "      round((len(ml_full) - len(ml_full.dropna())) / len(ml_full) * 100, 2), \n",
    "      '% строк исходного датасета')"
   ]
  },
  {
   "cell_type": "markdown",
   "metadata": {},
   "source": [
    "Из задания известно, что соседние по времени параметры похожи,  \n",
    "поэтому заполним пропуски последними известными значениями: "
   ]
  },
  {
   "cell_type": "code",
   "execution_count": 11,
   "metadata": {},
   "outputs": [
    {
     "data": {
      "text/html": [
       "<div>\n",
       "<style scoped>\n",
       "    .dataframe tbody tr th:only-of-type {\n",
       "        vertical-align: middle;\n",
       "    }\n",
       "\n",
       "    .dataframe tbody tr th {\n",
       "        vertical-align: top;\n",
       "    }\n",
       "\n",
       "    .dataframe thead th {\n",
       "        text-align: right;\n",
       "    }\n",
       "</style>\n",
       "<table border=\"1\" class=\"dataframe\">\n",
       "  <thead>\n",
       "    <tr style=\"text-align: right;\">\n",
       "      <th></th>\n",
       "      <th>count</th>\n",
       "      <th>mean</th>\n",
       "      <th>std</th>\n",
       "      <th>min</th>\n",
       "      <th>25%</th>\n",
       "      <th>50%</th>\n",
       "      <th>75%</th>\n",
       "      <th>max</th>\n",
       "    </tr>\n",
       "  </thead>\n",
       "  <tbody>\n",
       "    <tr>\n",
       "      <td>primary_cleaner.input.depressant</td>\n",
       "      <td>19439.0</td>\n",
       "      <td>8.8</td>\n",
       "      <td>3.3</td>\n",
       "      <td>0.0</td>\n",
       "      <td>6.1</td>\n",
       "      <td>8.0</td>\n",
       "      <td>11.0</td>\n",
       "      <td>40.0</td>\n",
       "    </tr>\n",
       "    <tr>\n",
       "      <td>primary_cleaner.input.feed_size</td>\n",
       "      <td>19439.0</td>\n",
       "      <td>7.3</td>\n",
       "      <td>0.6</td>\n",
       "      <td>1.1</td>\n",
       "      <td>6.9</td>\n",
       "      <td>7.3</td>\n",
       "      <td>7.7</td>\n",
       "      <td>15.5</td>\n",
       "    </tr>\n",
       "    <tr>\n",
       "      <td>primary_cleaner.input.sulfate</td>\n",
       "      <td>19439.0</td>\n",
       "      <td>144.5</td>\n",
       "      <td>44.6</td>\n",
       "      <td>0.0</td>\n",
       "      <td>114.1</td>\n",
       "      <td>143.2</td>\n",
       "      <td>175.0</td>\n",
       "      <td>266.0</td>\n",
       "    </tr>\n",
       "    <tr>\n",
       "      <td>primary_cleaner.input.xanthate</td>\n",
       "      <td>19439.0</td>\n",
       "      <td>1.0</td>\n",
       "      <td>0.5</td>\n",
       "      <td>0.0</td>\n",
       "      <td>0.7</td>\n",
       "      <td>0.9</td>\n",
       "      <td>1.2</td>\n",
       "      <td>4.1</td>\n",
       "    </tr>\n",
       "    <tr>\n",
       "      <td>primary_cleaner.state.floatbank8_a_air</td>\n",
       "      <td>19439.0</td>\n",
       "      <td>1589.4</td>\n",
       "      <td>129.0</td>\n",
       "      <td>0.0</td>\n",
       "      <td>1505.1</td>\n",
       "      <td>1600.6</td>\n",
       "      <td>1697.7</td>\n",
       "      <td>2103.1</td>\n",
       "    </tr>\n",
       "    <tr>\n",
       "      <td>primary_cleaner.state.floatbank8_a_level</td>\n",
       "      <td>19439.0</td>\n",
       "      <td>-491.2</td>\n",
       "      <td>32.4</td>\n",
       "      <td>-798.6</td>\n",
       "      <td>-500.3</td>\n",
       "      <td>-499.9</td>\n",
       "      <td>-499.4</td>\n",
       "      <td>-57.2</td>\n",
       "    </tr>\n",
       "    <tr>\n",
       "      <td>primary_cleaner.state.floatbank8_b_air</td>\n",
       "      <td>19439.0</td>\n",
       "      <td>1591.4</td>\n",
       "      <td>131.8</td>\n",
       "      <td>0.0</td>\n",
       "      <td>1503.6</td>\n",
       "      <td>1600.5</td>\n",
       "      <td>1699.2</td>\n",
       "      <td>2114.9</td>\n",
       "    </tr>\n",
       "    <tr>\n",
       "      <td>primary_cleaner.state.floatbank8_b_level</td>\n",
       "      <td>19439.0</td>\n",
       "      <td>-492.2</td>\n",
       "      <td>33.8</td>\n",
       "      <td>-800.0</td>\n",
       "      <td>-500.4</td>\n",
       "      <td>-500.0</td>\n",
       "      <td>-499.4</td>\n",
       "      <td>-142.5</td>\n",
       "    </tr>\n",
       "    <tr>\n",
       "      <td>primary_cleaner.state.floatbank8_c_air</td>\n",
       "      <td>19439.0</td>\n",
       "      <td>1586.7</td>\n",
       "      <td>136.1</td>\n",
       "      <td>0.0</td>\n",
       "      <td>1500.9</td>\n",
       "      <td>1600.3</td>\n",
       "      <td>1699.5</td>\n",
       "      <td>2013.2</td>\n",
       "    </tr>\n",
       "    <tr>\n",
       "      <td>primary_cleaner.state.floatbank8_c_level</td>\n",
       "      <td>19439.0</td>\n",
       "      <td>-492.0</td>\n",
       "      <td>32.7</td>\n",
       "      <td>-800.0</td>\n",
       "      <td>-500.7</td>\n",
       "      <td>-499.9</td>\n",
       "      <td>-498.9</td>\n",
       "      <td>-150.9</td>\n",
       "    </tr>\n",
       "    <tr>\n",
       "      <td>primary_cleaner.state.floatbank8_d_air</td>\n",
       "      <td>19439.0</td>\n",
       "      <td>1543.0</td>\n",
       "      <td>246.3</td>\n",
       "      <td>0.0</td>\n",
       "      <td>1494.3</td>\n",
       "      <td>1599.4</td>\n",
       "      <td>1698.5</td>\n",
       "      <td>2398.9</td>\n",
       "    </tr>\n",
       "    <tr>\n",
       "      <td>primary_cleaner.state.floatbank8_d_level</td>\n",
       "      <td>19439.0</td>\n",
       "      <td>-488.0</td>\n",
       "      <td>44.0</td>\n",
       "      <td>-799.8</td>\n",
       "      <td>-500.5</td>\n",
       "      <td>-499.9</td>\n",
       "      <td>-499.1</td>\n",
       "      <td>-30.6</td>\n",
       "    </tr>\n",
       "    <tr>\n",
       "      <td>rougher.input.feed_ag</td>\n",
       "      <td>19439.0</td>\n",
       "      <td>8.8</td>\n",
       "      <td>1.9</td>\n",
       "      <td>0.0</td>\n",
       "      <td>7.2</td>\n",
       "      <td>8.6</td>\n",
       "      <td>10.2</td>\n",
       "      <td>14.6</td>\n",
       "    </tr>\n",
       "    <tr>\n",
       "      <td>rougher.input.feed_au</td>\n",
       "      <td>19439.0</td>\n",
       "      <td>8.3</td>\n",
       "      <td>2.0</td>\n",
       "      <td>0.0</td>\n",
       "      <td>6.9</td>\n",
       "      <td>8.1</td>\n",
       "      <td>9.8</td>\n",
       "      <td>13.7</td>\n",
       "    </tr>\n",
       "    <tr>\n",
       "      <td>rougher.input.feed_pb</td>\n",
       "      <td>19439.0</td>\n",
       "      <td>3.6</td>\n",
       "      <td>1.1</td>\n",
       "      <td>0.0</td>\n",
       "      <td>2.9</td>\n",
       "      <td>3.5</td>\n",
       "      <td>4.2</td>\n",
       "      <td>7.1</td>\n",
       "    </tr>\n",
       "    <tr>\n",
       "      <td>rougher.input.feed_rate</td>\n",
       "      <td>19439.0</td>\n",
       "      <td>478.2</td>\n",
       "      <td>105.4</td>\n",
       "      <td>0.0</td>\n",
       "      <td>416.4</td>\n",
       "      <td>499.4</td>\n",
       "      <td>550.2</td>\n",
       "      <td>717.5</td>\n",
       "    </tr>\n",
       "    <tr>\n",
       "      <td>rougher.input.feed_size</td>\n",
       "      <td>19439.0</td>\n",
       "      <td>59.1</td>\n",
       "      <td>22.1</td>\n",
       "      <td>0.0</td>\n",
       "      <td>47.5</td>\n",
       "      <td>54.7</td>\n",
       "      <td>65.0</td>\n",
       "      <td>485.0</td>\n",
       "    </tr>\n",
       "    <tr>\n",
       "      <td>rougher.input.feed_sol</td>\n",
       "      <td>19439.0</td>\n",
       "      <td>36.7</td>\n",
       "      <td>5.2</td>\n",
       "      <td>0.0</td>\n",
       "      <td>34.2</td>\n",
       "      <td>37.2</td>\n",
       "      <td>40.0</td>\n",
       "      <td>53.5</td>\n",
       "    </tr>\n",
       "    <tr>\n",
       "      <td>rougher.input.floatbank10_sulfate</td>\n",
       "      <td>19439.0</td>\n",
       "      <td>12.3</td>\n",
       "      <td>3.5</td>\n",
       "      <td>0.0</td>\n",
       "      <td>10.0</td>\n",
       "      <td>12.0</td>\n",
       "      <td>14.7</td>\n",
       "      <td>36.1</td>\n",
       "    </tr>\n",
       "    <tr>\n",
       "      <td>rougher.input.floatbank10_xanthate</td>\n",
       "      <td>19439.0</td>\n",
       "      <td>6.0</td>\n",
       "      <td>1.1</td>\n",
       "      <td>0.0</td>\n",
       "      <td>5.4</td>\n",
       "      <td>6.0</td>\n",
       "      <td>6.8</td>\n",
       "      <td>9.7</td>\n",
       "    </tr>\n",
       "    <tr>\n",
       "      <td>rougher.input.floatbank11_sulfate</td>\n",
       "      <td>19439.0</td>\n",
       "      <td>12.1</td>\n",
       "      <td>3.8</td>\n",
       "      <td>0.0</td>\n",
       "      <td>10.0</td>\n",
       "      <td>12.0</td>\n",
       "      <td>14.6</td>\n",
       "      <td>38.0</td>\n",
       "    </tr>\n",
       "    <tr>\n",
       "      <td>rougher.input.floatbank11_xanthate</td>\n",
       "      <td>19439.0</td>\n",
       "      <td>6.0</td>\n",
       "      <td>1.2</td>\n",
       "      <td>0.0</td>\n",
       "      <td>5.4</td>\n",
       "      <td>6.0</td>\n",
       "      <td>6.8</td>\n",
       "      <td>9.7</td>\n",
       "    </tr>\n",
       "    <tr>\n",
       "      <td>rougher.state.floatbank10_a_air</td>\n",
       "      <td>19439.0</td>\n",
       "      <td>1105.3</td>\n",
       "      <td>160.8</td>\n",
       "      <td>-0.0</td>\n",
       "      <td>999.7</td>\n",
       "      <td>1001.1</td>\n",
       "      <td>1205.6</td>\n",
       "      <td>1522.0</td>\n",
       "    </tr>\n",
       "    <tr>\n",
       "      <td>rougher.state.floatbank10_a_level</td>\n",
       "      <td>19439.0</td>\n",
       "      <td>-376.6</td>\n",
       "      <td>93.9</td>\n",
       "      <td>-657.9</td>\n",
       "      <td>-499.8</td>\n",
       "      <td>-300.3</td>\n",
       "      <td>-300.0</td>\n",
       "      <td>-273.8</td>\n",
       "    </tr>\n",
       "    <tr>\n",
       "      <td>rougher.state.floatbank10_b_air</td>\n",
       "      <td>19439.0</td>\n",
       "      <td>1320.2</td>\n",
       "      <td>176.3</td>\n",
       "      <td>-0.7</td>\n",
       "      <td>1199.6</td>\n",
       "      <td>1301.6</td>\n",
       "      <td>1448.6</td>\n",
       "      <td>1809.2</td>\n",
       "    </tr>\n",
       "    <tr>\n",
       "      <td>rougher.state.floatbank10_b_level</td>\n",
       "      <td>19439.0</td>\n",
       "      <td>-467.2</td>\n",
       "      <td>54.7</td>\n",
       "      <td>-650.3</td>\n",
       "      <td>-500.2</td>\n",
       "      <td>-499.8</td>\n",
       "      <td>-400.6</td>\n",
       "      <td>-296.4</td>\n",
       "    </tr>\n",
       "    <tr>\n",
       "      <td>rougher.state.floatbank10_c_air</td>\n",
       "      <td>19439.0</td>\n",
       "      <td>1300.0</td>\n",
       "      <td>202.8</td>\n",
       "      <td>-0.1</td>\n",
       "      <td>1151.1</td>\n",
       "      <td>1300.2</td>\n",
       "      <td>1449.5</td>\n",
       "      <td>2499.1</td>\n",
       "    </tr>\n",
       "    <tr>\n",
       "      <td>rougher.state.floatbank10_c_level</td>\n",
       "      <td>19439.0</td>\n",
       "      <td>-467.7</td>\n",
       "      <td>53.5</td>\n",
       "      <td>-647.5</td>\n",
       "      <td>-500.2</td>\n",
       "      <td>-499.7</td>\n",
       "      <td>-401.0</td>\n",
       "      <td>-292.2</td>\n",
       "    </tr>\n",
       "    <tr>\n",
       "      <td>rougher.state.floatbank10_d_air</td>\n",
       "      <td>19439.0</td>\n",
       "      <td>1211.6</td>\n",
       "      <td>204.0</td>\n",
       "      <td>-1.0</td>\n",
       "      <td>1061.1</td>\n",
       "      <td>1201.6</td>\n",
       "      <td>1352.9</td>\n",
       "      <td>1817.2</td>\n",
       "    </tr>\n",
       "    <tr>\n",
       "      <td>rougher.state.floatbank10_d_level</td>\n",
       "      <td>19439.0</td>\n",
       "      <td>-468.2</td>\n",
       "      <td>53.9</td>\n",
       "      <td>-648.4</td>\n",
       "      <td>-500.4</td>\n",
       "      <td>-499.5</td>\n",
       "      <td>-401.6</td>\n",
       "      <td>-76.4</td>\n",
       "    </tr>\n",
       "    <tr>\n",
       "      <td>rougher.state.floatbank10_e_air</td>\n",
       "      <td>19439.0</td>\n",
       "      <td>1076.8</td>\n",
       "      <td>173.5</td>\n",
       "      <td>-2.0</td>\n",
       "      <td>997.9</td>\n",
       "      <td>1049.8</td>\n",
       "      <td>1199.3</td>\n",
       "      <td>1922.6</td>\n",
       "    </tr>\n",
       "    <tr>\n",
       "      <td>rougher.state.floatbank10_e_level</td>\n",
       "      <td>19439.0</td>\n",
       "      <td>-466.0</td>\n",
       "      <td>57.4</td>\n",
       "      <td>-649.4</td>\n",
       "      <td>-500.2</td>\n",
       "      <td>-499.7</td>\n",
       "      <td>-401.2</td>\n",
       "      <td>-139.8</td>\n",
       "    </tr>\n",
       "    <tr>\n",
       "      <td>rougher.state.floatbank10_f_air</td>\n",
       "      <td>19439.0</td>\n",
       "      <td>1025.3</td>\n",
       "      <td>164.5</td>\n",
       "      <td>-2.6</td>\n",
       "      <td>901.0</td>\n",
       "      <td>999.9</td>\n",
       "      <td>1099.7</td>\n",
       "      <td>1706.3</td>\n",
       "    </tr>\n",
       "    <tr>\n",
       "      <td>rougher.state.floatbank10_f_level</td>\n",
       "      <td>19439.0</td>\n",
       "      <td>-466.3</td>\n",
       "      <td>57.9</td>\n",
       "      <td>-649.9</td>\n",
       "      <td>-500.5</td>\n",
       "      <td>-499.5</td>\n",
       "      <td>-401.5</td>\n",
       "      <td>-191.7</td>\n",
       "    </tr>\n",
       "    <tr>\n",
       "      <td>secondary_cleaner.state.floatbank2_a_air</td>\n",
       "      <td>19439.0</td>\n",
       "      <td>28.8</td>\n",
       "      <td>5.5</td>\n",
       "      <td>0.1</td>\n",
       "      <td>25.1</td>\n",
       "      <td>29.3</td>\n",
       "      <td>33.0</td>\n",
       "      <td>52.7</td>\n",
       "    </tr>\n",
       "    <tr>\n",
       "      <td>secondary_cleaner.state.floatbank2_a_level</td>\n",
       "      <td>19439.0</td>\n",
       "      <td>-502.4</td>\n",
       "      <td>53.6</td>\n",
       "      <td>-799.6</td>\n",
       "      <td>-500.2</td>\n",
       "      <td>-500.0</td>\n",
       "      <td>-499.7</td>\n",
       "      <td>-127.9</td>\n",
       "    </tr>\n",
       "    <tr>\n",
       "      <td>secondary_cleaner.state.floatbank2_b_air</td>\n",
       "      <td>19439.0</td>\n",
       "      <td>24.1</td>\n",
       "      <td>5.8</td>\n",
       "      <td>0.0</td>\n",
       "      <td>20.9</td>\n",
       "      <td>25.0</td>\n",
       "      <td>28.0</td>\n",
       "      <td>35.2</td>\n",
       "    </tr>\n",
       "    <tr>\n",
       "      <td>secondary_cleaner.state.floatbank2_b_level</td>\n",
       "      <td>19439.0</td>\n",
       "      <td>-503.2</td>\n",
       "      <td>56.6</td>\n",
       "      <td>-799.9</td>\n",
       "      <td>-500.3</td>\n",
       "      <td>-500.0</td>\n",
       "      <td>-499.8</td>\n",
       "      <td>-212.0</td>\n",
       "    </tr>\n",
       "    <tr>\n",
       "      <td>secondary_cleaner.state.floatbank3_a_air</td>\n",
       "      <td>19439.0</td>\n",
       "      <td>28.2</td>\n",
       "      <td>6.2</td>\n",
       "      <td>0.0</td>\n",
       "      <td>24.9</td>\n",
       "      <td>28.0</td>\n",
       "      <td>33.0</td>\n",
       "      <td>44.3</td>\n",
       "    </tr>\n",
       "    <tr>\n",
       "      <td>secondary_cleaner.state.floatbank3_a_level</td>\n",
       "      <td>19439.0</td>\n",
       "      <td>-486.2</td>\n",
       "      <td>54.4</td>\n",
       "      <td>-799.8</td>\n",
       "      <td>-500.2</td>\n",
       "      <td>-499.9</td>\n",
       "      <td>-499.3</td>\n",
       "      <td>-191.7</td>\n",
       "    </tr>\n",
       "    <tr>\n",
       "      <td>secondary_cleaner.state.floatbank3_b_air</td>\n",
       "      <td>19439.0</td>\n",
       "      <td>22.2</td>\n",
       "      <td>5.6</td>\n",
       "      <td>0.0</td>\n",
       "      <td>19.0</td>\n",
       "      <td>22.0</td>\n",
       "      <td>26.0</td>\n",
       "      <td>35.1</td>\n",
       "    </tr>\n",
       "    <tr>\n",
       "      <td>secondary_cleaner.state.floatbank3_b_level</td>\n",
       "      <td>19439.0</td>\n",
       "      <td>-493.7</td>\n",
       "      <td>43.4</td>\n",
       "      <td>-809.3</td>\n",
       "      <td>-500.1</td>\n",
       "      <td>-500.0</td>\n",
       "      <td>-499.8</td>\n",
       "      <td>-159.7</td>\n",
       "    </tr>\n",
       "    <tr>\n",
       "      <td>secondary_cleaner.state.floatbank4_a_air</td>\n",
       "      <td>19439.0</td>\n",
       "      <td>19.0</td>\n",
       "      <td>5.4</td>\n",
       "      <td>0.0</td>\n",
       "      <td>15.0</td>\n",
       "      <td>18.0</td>\n",
       "      <td>23.0</td>\n",
       "      <td>30.1</td>\n",
       "    </tr>\n",
       "    <tr>\n",
       "      <td>secondary_cleaner.state.floatbank4_a_level</td>\n",
       "      <td>19439.0</td>\n",
       "      <td>-485.9</td>\n",
       "      <td>47.8</td>\n",
       "      <td>-799.8</td>\n",
       "      <td>-500.7</td>\n",
       "      <td>-499.8</td>\n",
       "      <td>-498.2</td>\n",
       "      <td>-245.2</td>\n",
       "    </tr>\n",
       "    <tr>\n",
       "      <td>secondary_cleaner.state.floatbank4_b_air</td>\n",
       "      <td>19439.0</td>\n",
       "      <td>15.0</td>\n",
       "      <td>4.9</td>\n",
       "      <td>0.0</td>\n",
       "      <td>11.9</td>\n",
       "      <td>15.0</td>\n",
       "      <td>19.0</td>\n",
       "      <td>31.3</td>\n",
       "    </tr>\n",
       "    <tr>\n",
       "      <td>secondary_cleaner.state.floatbank4_b_level</td>\n",
       "      <td>19439.0</td>\n",
       "      <td>-461.1</td>\n",
       "      <td>67.4</td>\n",
       "      <td>-800.8</td>\n",
       "      <td>-500.2</td>\n",
       "      <td>-499.5</td>\n",
       "      <td>-400.1</td>\n",
       "      <td>-6.5</td>\n",
       "    </tr>\n",
       "    <tr>\n",
       "      <td>secondary_cleaner.state.floatbank5_a_air</td>\n",
       "      <td>19439.0</td>\n",
       "      <td>15.7</td>\n",
       "      <td>5.5</td>\n",
       "      <td>-0.4</td>\n",
       "      <td>11.0</td>\n",
       "      <td>15.0</td>\n",
       "      <td>18.0</td>\n",
       "      <td>43.7</td>\n",
       "    </tr>\n",
       "    <tr>\n",
       "      <td>secondary_cleaner.state.floatbank5_a_level</td>\n",
       "      <td>19439.0</td>\n",
       "      <td>-488.7</td>\n",
       "      <td>34.5</td>\n",
       "      <td>-797.3</td>\n",
       "      <td>-500.5</td>\n",
       "      <td>-499.8</td>\n",
       "      <td>-498.4</td>\n",
       "      <td>-244.5</td>\n",
       "    </tr>\n",
       "    <tr>\n",
       "      <td>secondary_cleaner.state.floatbank5_b_air</td>\n",
       "      <td>19439.0</td>\n",
       "      <td>12.2</td>\n",
       "      <td>5.3</td>\n",
       "      <td>0.5</td>\n",
       "      <td>9.0</td>\n",
       "      <td>11.0</td>\n",
       "      <td>14.0</td>\n",
       "      <td>27.9</td>\n",
       "    </tr>\n",
       "    <tr>\n",
       "      <td>secondary_cleaner.state.floatbank5_b_level</td>\n",
       "      <td>19439.0</td>\n",
       "      <td>-487.2</td>\n",
       "      <td>38.3</td>\n",
       "      <td>-800.2</td>\n",
       "      <td>-500.1</td>\n",
       "      <td>-499.9</td>\n",
       "      <td>-499.4</td>\n",
       "      <td>-137.7</td>\n",
       "    </tr>\n",
       "    <tr>\n",
       "      <td>secondary_cleaner.state.floatbank6_a_air</td>\n",
       "      <td>19439.0</td>\n",
       "      <td>19.0</td>\n",
       "      <td>5.6</td>\n",
       "      <td>-0.1</td>\n",
       "      <td>15.0</td>\n",
       "      <td>20.0</td>\n",
       "      <td>24.0</td>\n",
       "      <td>32.2</td>\n",
       "    </tr>\n",
       "    <tr>\n",
       "      <td>secondary_cleaner.state.floatbank6_a_level</td>\n",
       "      <td>19439.0</td>\n",
       "      <td>-505.4</td>\n",
       "      <td>37.7</td>\n",
       "      <td>-809.7</td>\n",
       "      <td>-500.7</td>\n",
       "      <td>-500.0</td>\n",
       "      <td>-499.5</td>\n",
       "      <td>-104.4</td>\n",
       "    </tr>\n",
       "    <tr>\n",
       "      <td>rougher.output.recovery</td>\n",
       "      <td>19439.0</td>\n",
       "      <td>83.3</td>\n",
       "      <td>14.1</td>\n",
       "      <td>0.0</td>\n",
       "      <td>81.0</td>\n",
       "      <td>86.2</td>\n",
       "      <td>90.0</td>\n",
       "      <td>100.0</td>\n",
       "    </tr>\n",
       "    <tr>\n",
       "      <td>final.output.recovery</td>\n",
       "      <td>19439.0</td>\n",
       "      <td>67.1</td>\n",
       "      <td>10.1</td>\n",
       "      <td>0.0</td>\n",
       "      <td>63.3</td>\n",
       "      <td>68.2</td>\n",
       "      <td>72.7</td>\n",
       "      <td>100.0</td>\n",
       "    </tr>\n",
       "  </tbody>\n",
       "</table>\n",
       "</div>"
      ],
      "text/plain": [
       "                                              count    mean    std    min  \\\n",
       "primary_cleaner.input.depressant            19439.0     8.8    3.3    0.0   \n",
       "primary_cleaner.input.feed_size             19439.0     7.3    0.6    1.1   \n",
       "primary_cleaner.input.sulfate               19439.0   144.5   44.6    0.0   \n",
       "primary_cleaner.input.xanthate              19439.0     1.0    0.5    0.0   \n",
       "primary_cleaner.state.floatbank8_a_air      19439.0  1589.4  129.0    0.0   \n",
       "primary_cleaner.state.floatbank8_a_level    19439.0  -491.2   32.4 -798.6   \n",
       "primary_cleaner.state.floatbank8_b_air      19439.0  1591.4  131.8    0.0   \n",
       "primary_cleaner.state.floatbank8_b_level    19439.0  -492.2   33.8 -800.0   \n",
       "primary_cleaner.state.floatbank8_c_air      19439.0  1586.7  136.1    0.0   \n",
       "primary_cleaner.state.floatbank8_c_level    19439.0  -492.0   32.7 -800.0   \n",
       "primary_cleaner.state.floatbank8_d_air      19439.0  1543.0  246.3    0.0   \n",
       "primary_cleaner.state.floatbank8_d_level    19439.0  -488.0   44.0 -799.8   \n",
       "rougher.input.feed_ag                       19439.0     8.8    1.9    0.0   \n",
       "rougher.input.feed_au                       19439.0     8.3    2.0    0.0   \n",
       "rougher.input.feed_pb                       19439.0     3.6    1.1    0.0   \n",
       "rougher.input.feed_rate                     19439.0   478.2  105.4    0.0   \n",
       "rougher.input.feed_size                     19439.0    59.1   22.1    0.0   \n",
       "rougher.input.feed_sol                      19439.0    36.7    5.2    0.0   \n",
       "rougher.input.floatbank10_sulfate           19439.0    12.3    3.5    0.0   \n",
       "rougher.input.floatbank10_xanthate          19439.0     6.0    1.1    0.0   \n",
       "rougher.input.floatbank11_sulfate           19439.0    12.1    3.8    0.0   \n",
       "rougher.input.floatbank11_xanthate          19439.0     6.0    1.2    0.0   \n",
       "rougher.state.floatbank10_a_air             19439.0  1105.3  160.8   -0.0   \n",
       "rougher.state.floatbank10_a_level           19439.0  -376.6   93.9 -657.9   \n",
       "rougher.state.floatbank10_b_air             19439.0  1320.2  176.3   -0.7   \n",
       "rougher.state.floatbank10_b_level           19439.0  -467.2   54.7 -650.3   \n",
       "rougher.state.floatbank10_c_air             19439.0  1300.0  202.8   -0.1   \n",
       "rougher.state.floatbank10_c_level           19439.0  -467.7   53.5 -647.5   \n",
       "rougher.state.floatbank10_d_air             19439.0  1211.6  204.0   -1.0   \n",
       "rougher.state.floatbank10_d_level           19439.0  -468.2   53.9 -648.4   \n",
       "rougher.state.floatbank10_e_air             19439.0  1076.8  173.5   -2.0   \n",
       "rougher.state.floatbank10_e_level           19439.0  -466.0   57.4 -649.4   \n",
       "rougher.state.floatbank10_f_air             19439.0  1025.3  164.5   -2.6   \n",
       "rougher.state.floatbank10_f_level           19439.0  -466.3   57.9 -649.9   \n",
       "secondary_cleaner.state.floatbank2_a_air    19439.0    28.8    5.5    0.1   \n",
       "secondary_cleaner.state.floatbank2_a_level  19439.0  -502.4   53.6 -799.6   \n",
       "secondary_cleaner.state.floatbank2_b_air    19439.0    24.1    5.8    0.0   \n",
       "secondary_cleaner.state.floatbank2_b_level  19439.0  -503.2   56.6 -799.9   \n",
       "secondary_cleaner.state.floatbank3_a_air    19439.0    28.2    6.2    0.0   \n",
       "secondary_cleaner.state.floatbank3_a_level  19439.0  -486.2   54.4 -799.8   \n",
       "secondary_cleaner.state.floatbank3_b_air    19439.0    22.2    5.6    0.0   \n",
       "secondary_cleaner.state.floatbank3_b_level  19439.0  -493.7   43.4 -809.3   \n",
       "secondary_cleaner.state.floatbank4_a_air    19439.0    19.0    5.4    0.0   \n",
       "secondary_cleaner.state.floatbank4_a_level  19439.0  -485.9   47.8 -799.8   \n",
       "secondary_cleaner.state.floatbank4_b_air    19439.0    15.0    4.9    0.0   \n",
       "secondary_cleaner.state.floatbank4_b_level  19439.0  -461.1   67.4 -800.8   \n",
       "secondary_cleaner.state.floatbank5_a_air    19439.0    15.7    5.5   -0.4   \n",
       "secondary_cleaner.state.floatbank5_a_level  19439.0  -488.7   34.5 -797.3   \n",
       "secondary_cleaner.state.floatbank5_b_air    19439.0    12.2    5.3    0.5   \n",
       "secondary_cleaner.state.floatbank5_b_level  19439.0  -487.2   38.3 -800.2   \n",
       "secondary_cleaner.state.floatbank6_a_air    19439.0    19.0    5.6   -0.1   \n",
       "secondary_cleaner.state.floatbank6_a_level  19439.0  -505.4   37.7 -809.7   \n",
       "rougher.output.recovery                     19439.0    83.3   14.1    0.0   \n",
       "final.output.recovery                       19439.0    67.1   10.1    0.0   \n",
       "\n",
       "                                               25%     50%     75%     max  \n",
       "primary_cleaner.input.depressant               6.1     8.0    11.0    40.0  \n",
       "primary_cleaner.input.feed_size                6.9     7.3     7.7    15.5  \n",
       "primary_cleaner.input.sulfate                114.1   143.2   175.0   266.0  \n",
       "primary_cleaner.input.xanthate                 0.7     0.9     1.2     4.1  \n",
       "primary_cleaner.state.floatbank8_a_air      1505.1  1600.6  1697.7  2103.1  \n",
       "primary_cleaner.state.floatbank8_a_level    -500.3  -499.9  -499.4   -57.2  \n",
       "primary_cleaner.state.floatbank8_b_air      1503.6  1600.5  1699.2  2114.9  \n",
       "primary_cleaner.state.floatbank8_b_level    -500.4  -500.0  -499.4  -142.5  \n",
       "primary_cleaner.state.floatbank8_c_air      1500.9  1600.3  1699.5  2013.2  \n",
       "primary_cleaner.state.floatbank8_c_level    -500.7  -499.9  -498.9  -150.9  \n",
       "primary_cleaner.state.floatbank8_d_air      1494.3  1599.4  1698.5  2398.9  \n",
       "primary_cleaner.state.floatbank8_d_level    -500.5  -499.9  -499.1   -30.6  \n",
       "rougher.input.feed_ag                          7.2     8.6    10.2    14.6  \n",
       "rougher.input.feed_au                          6.9     8.1     9.8    13.7  \n",
       "rougher.input.feed_pb                          2.9     3.5     4.2     7.1  \n",
       "rougher.input.feed_rate                      416.4   499.4   550.2   717.5  \n",
       "rougher.input.feed_size                       47.5    54.7    65.0   485.0  \n",
       "rougher.input.feed_sol                        34.2    37.2    40.0    53.5  \n",
       "rougher.input.floatbank10_sulfate             10.0    12.0    14.7    36.1  \n",
       "rougher.input.floatbank10_xanthate             5.4     6.0     6.8     9.7  \n",
       "rougher.input.floatbank11_sulfate             10.0    12.0    14.6    38.0  \n",
       "rougher.input.floatbank11_xanthate             5.4     6.0     6.8     9.7  \n",
       "rougher.state.floatbank10_a_air              999.7  1001.1  1205.6  1522.0  \n",
       "rougher.state.floatbank10_a_level           -499.8  -300.3  -300.0  -273.8  \n",
       "rougher.state.floatbank10_b_air             1199.6  1301.6  1448.6  1809.2  \n",
       "rougher.state.floatbank10_b_level           -500.2  -499.8  -400.6  -296.4  \n",
       "rougher.state.floatbank10_c_air             1151.1  1300.2  1449.5  2499.1  \n",
       "rougher.state.floatbank10_c_level           -500.2  -499.7  -401.0  -292.2  \n",
       "rougher.state.floatbank10_d_air             1061.1  1201.6  1352.9  1817.2  \n",
       "rougher.state.floatbank10_d_level           -500.4  -499.5  -401.6   -76.4  \n",
       "rougher.state.floatbank10_e_air              997.9  1049.8  1199.3  1922.6  \n",
       "rougher.state.floatbank10_e_level           -500.2  -499.7  -401.2  -139.8  \n",
       "rougher.state.floatbank10_f_air              901.0   999.9  1099.7  1706.3  \n",
       "rougher.state.floatbank10_f_level           -500.5  -499.5  -401.5  -191.7  \n",
       "secondary_cleaner.state.floatbank2_a_air      25.1    29.3    33.0    52.7  \n",
       "secondary_cleaner.state.floatbank2_a_level  -500.2  -500.0  -499.7  -127.9  \n",
       "secondary_cleaner.state.floatbank2_b_air      20.9    25.0    28.0    35.2  \n",
       "secondary_cleaner.state.floatbank2_b_level  -500.3  -500.0  -499.8  -212.0  \n",
       "secondary_cleaner.state.floatbank3_a_air      24.9    28.0    33.0    44.3  \n",
       "secondary_cleaner.state.floatbank3_a_level  -500.2  -499.9  -499.3  -191.7  \n",
       "secondary_cleaner.state.floatbank3_b_air      19.0    22.0    26.0    35.1  \n",
       "secondary_cleaner.state.floatbank3_b_level  -500.1  -500.0  -499.8  -159.7  \n",
       "secondary_cleaner.state.floatbank4_a_air      15.0    18.0    23.0    30.1  \n",
       "secondary_cleaner.state.floatbank4_a_level  -500.7  -499.8  -498.2  -245.2  \n",
       "secondary_cleaner.state.floatbank4_b_air      11.9    15.0    19.0    31.3  \n",
       "secondary_cleaner.state.floatbank4_b_level  -500.2  -499.5  -400.1    -6.5  \n",
       "secondary_cleaner.state.floatbank5_a_air      11.0    15.0    18.0    43.7  \n",
       "secondary_cleaner.state.floatbank5_a_level  -500.5  -499.8  -498.4  -244.5  \n",
       "secondary_cleaner.state.floatbank5_b_air       9.0    11.0    14.0    27.9  \n",
       "secondary_cleaner.state.floatbank5_b_level  -500.1  -499.9  -499.4  -137.7  \n",
       "secondary_cleaner.state.floatbank6_a_air      15.0    20.0    24.0    32.2  \n",
       "secondary_cleaner.state.floatbank6_a_level  -500.7  -500.0  -499.5  -104.4  \n",
       "rougher.output.recovery                       81.0    86.2    90.0   100.0  \n",
       "final.output.recovery                         63.3    68.2    72.7   100.0  "
      ]
     },
     "execution_count": 11,
     "metadata": {},
     "output_type": "execute_result"
    }
   ],
   "source": [
    "ml_full = ml_full.ffill()\n",
    "ml_full.describe().T.round(1)"
   ]
  },
  {
   "cell_type": "markdown",
   "metadata": {},
   "source": [
    "Сформируем тренировочную и тестовую выборки:"
   ]
  },
  {
   "cell_type": "code",
   "execution_count": 12,
   "metadata": {},
   "outputs": [
    {
     "name": "stdout",
     "output_type": "stream",
     "text": [
      "Тренировочная выборка:\t (14149, 52) \t (14149, 2)\n",
      "Тестовая выборка:\t (5290, 52) \t (5290, 2)\n"
     ]
    }
   ],
   "source": [
    "X_train = ml_full.loc[df_train.index, X_columns].reset_index().drop('date', axis=1)\n",
    "y_train = ml_full.loc[df_train.index, y_columns].reset_index().drop('date', axis=1)\n",
    "X_test = ml_full.loc[df_test.index, X_columns].reset_index().drop('date', axis=1)\n",
    "y_test = ml_full.loc[df_test.index, y_columns].reset_index().drop('date', axis=1)\n",
    "print('Тренировочная выборка:\\t', X_train.shape, '\\t' ,y_train.shape)\n",
    "print('Тестовая выборка:\\t', X_test.shape, '\\t', y_test.shape)"
   ]
  },
  {
   "cell_type": "markdown",
   "metadata": {},
   "source": [
    "## Анализ данных"
   ]
  },
  {
   "cell_type": "markdown",
   "metadata": {},
   "source": [
    "###  Посмотрим, как меняется концентрация металлов (Au, Ag, Pb) на различных этапах очистки.\n"
   ]
  },
  {
   "cell_type": "markdown",
   "metadata": {},
   "source": [
    "Есть информация о концентрации в трех точках:  \n",
    "- после флотации\n",
    "- после первого этапа очистки\n",
    "- после второго этапа очистки (финальная)"
   ]
  },
  {
   "cell_type": "code",
   "execution_count": 13,
   "metadata": {},
   "outputs": [
    {
     "name": "stdout",
     "output_type": "stream",
     "text": [
      "final.output.concentrate_ag\n",
      "final.output.concentrate_pb\n",
      "final.output.concentrate_sol\n",
      "final.output.concentrate_au\n",
      "primary_cleaner.output.concentrate_ag\n",
      "primary_cleaner.output.concentrate_pb\n",
      "primary_cleaner.output.concentrate_sol\n",
      "primary_cleaner.output.concentrate_au\n",
      "rougher.output.concentrate_ag\n",
      "rougher.output.concentrate_pb\n",
      "rougher.output.concentrate_sol\n",
      "rougher.output.concentrate_au\n"
     ]
    }
   ],
   "source": [
    "for s in df_full.columns:\n",
    "    if 'concentrate_' in s:\n",
    "        print(s)"
   ]
  },
  {
   "cell_type": "code",
   "execution_count": 14,
   "metadata": {},
   "outputs": [],
   "source": [
    "au_conc = df_full[['rougher.output.concentrate_au', \n",
    "                   'primary_cleaner.output.concentrate_au', \n",
    "                   'final.output.concentrate_au']].dropna()\n",
    "\n",
    "ag_conc = df_full[['rougher.output.concentrate_ag', \n",
    "                   'primary_cleaner.output.concentrate_ag', \n",
    "                   'final.output.concentrate_ag']].dropna()\n",
    "\n",
    "pb_conc = df_full[['rougher.output.concentrate_pb', \n",
    "                   'primary_cleaner.output.concentrate_pb', \n",
    "                   'final.output.concentrate_pb']].dropna()\n",
    "\n",
    "cols = ['после флотации', \n",
    "        'после первичной очистки', \n",
    "        'концентрация на выходе']\n",
    "\n",
    "au_conc.columns = cols\n",
    "ag_conc.columns = cols\n",
    "pb_conc.columns = cols"
   ]
  },
  {
   "cell_type": "code",
   "execution_count": 15,
   "metadata": {},
   "outputs": [
    {
     "data": {
      "image/png": "[encoded data removed]",
      "text/plain": [
       "<Figure size 1080x360 with 1 Axes>"
      ]
     },
     "metadata": {
      "needs_background": "light"
     },
     "output_type": "display_data"
    }
   ],
   "source": [
    "ax = au_conc.plot(kind='hist', bins=100, figsize=(15, 5), grid=True, alpha=0.75, title='Золото')"
   ]
  },
  {
   "cell_type": "code",
   "execution_count": 16,
   "metadata": {},
   "outputs": [
    {
     "data": {
      "image/png": "[encoded data removed]",
      "text/plain": [
       "<Figure size 1080x360 with 1 Axes>"
      ]
     },
     "metadata": {
      "needs_background": "light"
     },
     "output_type": "display_data"
    }
   ],
   "source": [
    "ax = ag_conc.plot(kind='hist', bins=100, figsize=(15, 5), grid=True, alpha=0.75, title='Серебро')"
   ]
  },
  {
   "cell_type": "code",
   "execution_count": 17,
   "metadata": {},
   "outputs": [
    {
     "data": {
      "image/png": "[encoded data removed]",
      "text/plain": [
       "<Figure size 1080x360 with 1 Axes>"
      ]
     },
     "metadata": {
      "needs_background": "light"
     },
     "output_type": "display_data"
    }
   ],
   "source": [
    "ax = pb_conc.plot(kind='hist', bins=100, figsize=(15, 5), grid=True, alpha=0.7, title='Свинец')"
   ]
  },
  {
   "cell_type": "markdown",
   "metadata": {},
   "source": [
    "___Концентрация серебра уменьшается по ходу переработки в отличие от золота и свинца.   \n",
    "Концентрация свинца увеличивается незначительно; Лучше всего очищается золото.___"
   ]
  },
  {
   "cell_type": "markdown",
   "metadata": {},
   "source": [
    "###  Сравним распределения размеров гранул сырья на обучающей и тестовой выборках.\n"
   ]
  },
  {
   "cell_type": "markdown",
   "metadata": {},
   "source": [
    "Данные о размере гранул сырья есть на входе на флотацию и на входе на первичную очистку:"
   ]
  },
  {
   "cell_type": "code",
   "execution_count": 18,
   "metadata": {},
   "outputs": [
    {
     "name": "stdout",
     "output_type": "stream",
     "text": [
      "primary_cleaner.input.feed_size\n",
      "rougher.input.feed_size\n"
     ]
    }
   ],
   "source": [
    "for s in df_full.columns:\n",
    "    if 'size' in s:\n",
    "        print(s)"
   ]
  },
  {
   "cell_type": "code",
   "execution_count": 19,
   "metadata": {},
   "outputs": [
    {
     "data": {
      "text/html": [
       "<div>\n",
       "<style scoped>\n",
       "    .dataframe tbody tr th:only-of-type {\n",
       "        vertical-align: middle;\n",
       "    }\n",
       "\n",
       "    .dataframe tbody tr th {\n",
       "        vertical-align: top;\n",
       "    }\n",
       "\n",
       "    .dataframe thead th {\n",
       "        text-align: right;\n",
       "    }\n",
       "</style>\n",
       "<table border=\"1\" class=\"dataframe\">\n",
       "  <thead>\n",
       "    <tr style=\"text-align: right;\">\n",
       "      <th></th>\n",
       "      <th>rougher.input.feed_size</th>\n",
       "      <th>primary_cleaner.input.feed_size</th>\n",
       "    </tr>\n",
       "  </thead>\n",
       "  <tbody>\n",
       "    <tr>\n",
       "      <td>count</td>\n",
       "      <td>14005.000000</td>\n",
       "      <td>14005.000000</td>\n",
       "    </tr>\n",
       "    <tr>\n",
       "      <td>mean</td>\n",
       "      <td>60.110518</td>\n",
       "      <td>7.314827</td>\n",
       "    </tr>\n",
       "    <tr>\n",
       "      <td>std</td>\n",
       "      <td>22.418485</td>\n",
       "      <td>0.608746</td>\n",
       "    </tr>\n",
       "    <tr>\n",
       "      <td>min</td>\n",
       "      <td>9.659576</td>\n",
       "      <td>1.080000</td>\n",
       "    </tr>\n",
       "    <tr>\n",
       "      <td>25%</td>\n",
       "      <td>48.973027</td>\n",
       "      <td>6.960000</td>\n",
       "    </tr>\n",
       "    <tr>\n",
       "      <td>50%</td>\n",
       "      <td>55.373885</td>\n",
       "      <td>7.290000</td>\n",
       "    </tr>\n",
       "    <tr>\n",
       "      <td>75%</td>\n",
       "      <td>66.080172</td>\n",
       "      <td>7.685000</td>\n",
       "    </tr>\n",
       "    <tr>\n",
       "      <td>max</td>\n",
       "      <td>484.967466</td>\n",
       "      <td>10.470000</td>\n",
       "    </tr>\n",
       "  </tbody>\n",
       "</table>\n",
       "</div>"
      ],
      "text/plain": [
       "       rougher.input.feed_size  primary_cleaner.input.feed_size\n",
       "count             14005.000000                     14005.000000\n",
       "mean                 60.110518                         7.314827\n",
       "std                  22.418485                         0.608746\n",
       "min                   9.659576                         1.080000\n",
       "25%                  48.973027                         6.960000\n",
       "50%                  55.373885                         7.290000\n",
       "75%                  66.080172                         7.685000\n",
       "max                 484.967466                        10.470000"
      ]
     },
     "execution_count": 19,
     "metadata": {},
     "output_type": "execute_result"
    }
   ],
   "source": [
    "df_train[['rougher.input.feed_size', 'primary_cleaner.input.feed_size']].dropna().describe()"
   ]
  },
  {
   "cell_type": "code",
   "execution_count": 20,
   "metadata": {},
   "outputs": [
    {
     "data": {
      "text/html": [
       "<div>\n",
       "<style scoped>\n",
       "    .dataframe tbody tr th:only-of-type {\n",
       "        vertical-align: middle;\n",
       "    }\n",
       "\n",
       "    .dataframe tbody tr th {\n",
       "        vertical-align: top;\n",
       "    }\n",
       "\n",
       "    .dataframe thead th {\n",
       "        text-align: right;\n",
       "    }\n",
       "</style>\n",
       "<table border=\"1\" class=\"dataframe\">\n",
       "  <thead>\n",
       "    <tr style=\"text-align: right;\">\n",
       "      <th></th>\n",
       "      <th>rougher.input.feed_size</th>\n",
       "      <th>primary_cleaner.input.feed_size</th>\n",
       "    </tr>\n",
       "  </thead>\n",
       "  <tbody>\n",
       "    <tr>\n",
       "      <td>count</td>\n",
       "      <td>5289.000000</td>\n",
       "      <td>5289.000000</td>\n",
       "    </tr>\n",
       "    <tr>\n",
       "      <td>mean</td>\n",
       "      <td>55.951097</td>\n",
       "      <td>7.266352</td>\n",
       "    </tr>\n",
       "    <tr>\n",
       "      <td>std</td>\n",
       "      <td>19.081758</td>\n",
       "      <td>0.610276</td>\n",
       "    </tr>\n",
       "    <tr>\n",
       "      <td>min</td>\n",
       "      <td>0.046369</td>\n",
       "      <td>5.650000</td>\n",
       "    </tr>\n",
       "    <tr>\n",
       "      <td>25%</td>\n",
       "      <td>43.906347</td>\n",
       "      <td>6.890000</td>\n",
       "    </tr>\n",
       "    <tr>\n",
       "      <td>50%</td>\n",
       "      <td>50.841029</td>\n",
       "      <td>7.250000</td>\n",
       "    </tr>\n",
       "    <tr>\n",
       "      <td>75%</td>\n",
       "      <td>62.431047</td>\n",
       "      <td>7.600000</td>\n",
       "    </tr>\n",
       "    <tr>\n",
       "      <td>max</td>\n",
       "      <td>392.494040</td>\n",
       "      <td>15.500000</td>\n",
       "    </tr>\n",
       "  </tbody>\n",
       "</table>\n",
       "</div>"
      ],
      "text/plain": [
       "       rougher.input.feed_size  primary_cleaner.input.feed_size\n",
       "count              5289.000000                      5289.000000\n",
       "mean                 55.951097                         7.266352\n",
       "std                  19.081758                         0.610276\n",
       "min                   0.046369                         5.650000\n",
       "25%                  43.906347                         6.890000\n",
       "50%                  50.841029                         7.250000\n",
       "75%                  62.431047                         7.600000\n",
       "max                 392.494040                        15.500000"
      ]
     },
     "execution_count": 20,
     "metadata": {},
     "output_type": "execute_result"
    }
   ],
   "source": [
    "df_test[['rougher.input.feed_size', 'primary_cleaner.input.feed_size']].dropna().describe()"
   ]
  },
  {
   "cell_type": "markdown",
   "metadata": {},
   "source": [
    "___Размеры гранул имеют схожее распределение___"
   ]
  },
  {
   "cell_type": "code",
   "execution_count": null,
   "metadata": {},
   "outputs": [],
   "source": []
  },
  {
   "cell_type": "markdown",
   "metadata": {},
   "source": [
    "### Исследуем суммарную концентрацию всех веществ на разных стадиях: в сырье, в черновом и финальном концентратах."
   ]
  },
  {
   "cell_type": "code",
   "execution_count": 21,
   "metadata": {},
   "outputs": [],
   "source": [
    "joined_conc = au_conc.join(ag_conc, rsuffix='_ag').join(pb_conc, rsuffix='_pb').dropna()"
   ]
  },
  {
   "cell_type": "code",
   "execution_count": 22,
   "metadata": {},
   "outputs": [],
   "source": [
    "total_conc = pd.DataFrame()\n",
    "total_conc['после флотации'] = joined_conc.apply(lambda x: x[0]+x[3]+x[6], axis=1)\n",
    "total_conc['после первичной очистки'] = joined_conc.apply(lambda x: x[1]+x[4]+x[7], axis=1)\n",
    "total_conc['концентрация на выходе'] = joined_conc.apply(lambda x: x[2]+x[5]+x[8], axis=1)"
   ]
  },
  {
   "cell_type": "code",
   "execution_count": 23,
   "metadata": {},
   "outputs": [],
   "source": [
    "epsilon = np.finfo(float).eps"
   ]
  },
  {
   "cell_type": "code",
   "execution_count": 24,
   "metadata": {},
   "outputs": [
    {
     "name": "stdout",
     "output_type": "stream",
     "text": [
      "Количество строк с нулевой суммарной концентрацией: 573 (2.97%)\n"
     ]
    }
   ],
   "source": [
    "incorrect_data = ((total_conc['после флотации'] < epsilon) |\n",
    "                  (total_conc['после первичной очистки'] < epsilon) |\n",
    "                  (total_conc['концентрация на выходе'] < epsilon)\n",
    "                 )\n",
    "print('Количество строк с нулевой суммарной концентрацией:', \n",
    "      incorrect_data.sum(), '(' +  \n",
    "      str(round(incorrect_data.mean()*100, 2))+ '%)')"
   ]
  },
  {
   "cell_type": "code",
   "execution_count": 25,
   "metadata": {},
   "outputs": [
    {
     "data": {
      "text/html": [
       "<div>\n",
       "<style scoped>\n",
       "    .dataframe tbody tr th:only-of-type {\n",
       "        vertical-align: middle;\n",
       "    }\n",
       "\n",
       "    .dataframe tbody tr th {\n",
       "        vertical-align: top;\n",
       "    }\n",
       "\n",
       "    .dataframe thead th {\n",
       "        text-align: right;\n",
       "    }\n",
       "</style>\n",
       "<table border=\"1\" class=\"dataframe\">\n",
       "  <thead>\n",
       "    <tr style=\"text-align: right;\">\n",
       "      <th></th>\n",
       "      <th>после флотации</th>\n",
       "      <th>после первичной очистки</th>\n",
       "      <th>концентрация на выходе</th>\n",
       "    </tr>\n",
       "    <tr>\n",
       "      <th>date</th>\n",
       "      <th></th>\n",
       "      <th></th>\n",
       "      <th></th>\n",
       "    </tr>\n",
       "  </thead>\n",
       "  <tbody>\n",
       "    <tr>\n",
       "      <td>2017-04-15 07:59:59</td>\n",
       "      <td>38.607797</td>\n",
       "      <td>0.000000</td>\n",
       "      <td>59.944693</td>\n",
       "    </tr>\n",
       "    <tr>\n",
       "      <td>2016-11-19 15:59:59</td>\n",
       "      <td>18.436502</td>\n",
       "      <td>29.160158</td>\n",
       "      <td>0.000000</td>\n",
       "    </tr>\n",
       "    <tr>\n",
       "      <td>2016-09-06 22:59:59</td>\n",
       "      <td>0.000000</td>\n",
       "      <td>55.549037</td>\n",
       "      <td>60.711115</td>\n",
       "    </tr>\n",
       "    <tr>\n",
       "      <td>2017-06-06 22:59:59</td>\n",
       "      <td>0.000000</td>\n",
       "      <td>55.049246</td>\n",
       "      <td>61.072263</td>\n",
       "    </tr>\n",
       "    <tr>\n",
       "      <td>2017-06-04 16:59:59</td>\n",
       "      <td>0.000000</td>\n",
       "      <td>55.537905</td>\n",
       "      <td>61.715938</td>\n",
       "    </tr>\n",
       "    <tr>\n",
       "      <td>2017-08-12 00:59:59</td>\n",
       "      <td>34.327270</td>\n",
       "      <td>0.000000</td>\n",
       "      <td>58.026877</td>\n",
       "    </tr>\n",
       "  </tbody>\n",
       "</table>\n",
       "</div>"
      ],
      "text/plain": [
       "                     после флотации  после первичной очистки  \\\n",
       "date                                                           \n",
       "2017-04-15 07:59:59       38.607797                 0.000000   \n",
       "2016-11-19 15:59:59       18.436502                29.160158   \n",
       "2016-09-06 22:59:59        0.000000                55.549037   \n",
       "2017-06-06 22:59:59        0.000000                55.049246   \n",
       "2017-06-04 16:59:59        0.000000                55.537905   \n",
       "2017-08-12 00:59:59       34.327270                 0.000000   \n",
       "\n",
       "                     концентрация на выходе  \n",
       "date                                         \n",
       "2017-04-15 07:59:59               59.944693  \n",
       "2016-11-19 15:59:59                0.000000  \n",
       "2016-09-06 22:59:59               60.711115  \n",
       "2017-06-06 22:59:59               61.072263  \n",
       "2017-06-04 16:59:59               61.715938  \n",
       "2017-08-12 00:59:59               58.026877  "
      ]
     },
     "execution_count": 25,
     "metadata": {},
     "output_type": "execute_result"
    }
   ],
   "source": [
    "total_conc[incorrect_data].sample(6, random_state=2)"
   ]
  },
  {
   "cell_type": "code",
   "execution_count": 26,
   "metadata": {},
   "outputs": [],
   "source": [
    "total_conc.drop(total_conc[incorrect_data].index, inplace=True)"
   ]
  },
  {
   "cell_type": "code",
   "execution_count": 27,
   "metadata": {},
   "outputs": [
    {
     "data": {
      "text/html": [
       "<div>\n",
       "<style scoped>\n",
       "    .dataframe tbody tr th:only-of-type {\n",
       "        vertical-align: middle;\n",
       "    }\n",
       "\n",
       "    .dataframe tbody tr th {\n",
       "        vertical-align: top;\n",
       "    }\n",
       "\n",
       "    .dataframe thead th {\n",
       "        text-align: right;\n",
       "    }\n",
       "</style>\n",
       "<table border=\"1\" class=\"dataframe\">\n",
       "  <thead>\n",
       "    <tr style=\"text-align: right;\">\n",
       "      <th></th>\n",
       "      <th>после флотации</th>\n",
       "      <th>после первичной очистки</th>\n",
       "      <th>концентрация на выходе</th>\n",
       "    </tr>\n",
       "  </thead>\n",
       "  <tbody>\n",
       "    <tr>\n",
       "      <td>count</td>\n",
       "      <td>18749.000000</td>\n",
       "      <td>18749.000000</td>\n",
       "      <td>18749.000000</td>\n",
       "    </tr>\n",
       "    <tr>\n",
       "      <td>mean</td>\n",
       "      <td>40.196786</td>\n",
       "      <td>50.665529</td>\n",
       "      <td>59.585523</td>\n",
       "    </tr>\n",
       "    <tr>\n",
       "      <td>std</td>\n",
       "      <td>3.872232</td>\n",
       "      <td>6.570297</td>\n",
       "      <td>4.120569</td>\n",
       "    </tr>\n",
       "    <tr>\n",
       "      <td>min</td>\n",
       "      <td>0.030000</td>\n",
       "      <td>0.030000</td>\n",
       "      <td>0.030000</td>\n",
       "    </tr>\n",
       "    <tr>\n",
       "      <td>25%</td>\n",
       "      <td>38.535909</td>\n",
       "      <td>50.105544</td>\n",
       "      <td>59.321258</td>\n",
       "    </tr>\n",
       "    <tr>\n",
       "      <td>50%</td>\n",
       "      <td>40.370417</td>\n",
       "      <td>51.911374</td>\n",
       "      <td>60.306795</td>\n",
       "    </tr>\n",
       "    <tr>\n",
       "      <td>75%</td>\n",
       "      <td>42.403399</td>\n",
       "      <td>53.359157</td>\n",
       "      <td>61.090348</td>\n",
       "    </tr>\n",
       "    <tr>\n",
       "      <td>max</td>\n",
       "      <td>49.700943</td>\n",
       "      <td>60.106566</td>\n",
       "      <td>64.968881</td>\n",
       "    </tr>\n",
       "  </tbody>\n",
       "</table>\n",
       "</div>"
      ],
      "text/plain": [
       "       после флотации  после первичной очистки  концентрация на выходе\n",
       "count    18749.000000             18749.000000            18749.000000\n",
       "mean        40.196786                50.665529               59.585523\n",
       "std          3.872232                 6.570297                4.120569\n",
       "min          0.030000                 0.030000                0.030000\n",
       "25%         38.535909                50.105544               59.321258\n",
       "50%         40.370417                51.911374               60.306795\n",
       "75%         42.403399                53.359157               61.090348\n",
       "max         49.700943                60.106566               64.968881"
      ]
     },
     "execution_count": 27,
     "metadata": {},
     "output_type": "execute_result"
    }
   ],
   "source": [
    "total_conc.describe()"
   ]
  },
  {
   "cell_type": "code",
   "execution_count": 28,
   "metadata": {
    "scrolled": true
   },
   "outputs": [
    {
     "data": {
      "image/png": "[encoded data removed]",
      "text/plain": [
       "<Figure size 1080x360 with 1 Axes>"
      ]
     },
     "metadata": {
      "needs_background": "light"
     },
     "output_type": "display_data"
    }
   ],
   "source": [
    "ax = total_conc.plot(kind='hist', bins=100, figsize=(15, 5), grid=True, alpha=0.8, title='Суммарная концентрация')"
   ]
  },
  {
   "cell_type": "markdown",
   "metadata": {},
   "source": [
    "## Модель"
   ]
  },
  {
   "cell_type": "markdown",
   "metadata": {},
   "source": [
    "### Функция для вычисления итоговой sMAPE.\n"
   ]
  },
  {
   "cell_type": "markdown",
   "metadata": {},
   "source": [
    "$\\large Итоговое\\ sMAPE = 25\\% \\times sMAPE( rougher ) + 75\\% \\times sMAPE ( final ) $\n"
   ]
  },
  {
   "cell_type": "code",
   "execution_count": 29,
   "metadata": {},
   "outputs": [],
   "source": [
    "def total_smape(target, predic):\n",
    "    \n",
    "    target = np.array(target)\n",
    "    target_rougher = target[:, 0]\n",
    "    predic_rougher = predic[:, 0]\n",
    "\n",
    "    num = np.abs(target_rougher - predic_rougher)\n",
    "    den = (np.abs(target_rougher) + np.abs(predic_rougher)) / 2\n",
    "    smape_rougher = np.mean(num / den) * 100\n",
    "\n",
    "    target_final = target[:, 1]\n",
    "    predic_final = predic[:, 1]\n",
    "\n",
    "    num = np.abs(target_final - predic_final)\n",
    "    den = (np.abs(target_final) + np.abs(predic_final)) / 2\n",
    "    smape_final = np.mean(num / den) * 100\n",
    "\n",
    "    return (smape_rougher * 0.25 + smape_final * 0.75)\n"
   ]
  },
  {
   "cell_type": "code",
   "execution_count": 30,
   "metadata": {},
   "outputs": [],
   "source": [
    "scorer = make_scorer(total_smape, greater_is_better=False)"
   ]
  },
  {
   "cell_type": "markdown",
   "metadata": {},
   "source": [
    "###  Обучение разных моделей и оценка их качества кросс-валидацией. Выбор лучшей модели и проверка её на тестовой выборке."
   ]
  },
  {
   "cell_type": "markdown",
   "metadata": {},
   "source": [
    "Отнормируем входные признаки:"
   ]
  },
  {
   "cell_type": "code",
   "execution_count": 31,
   "metadata": {},
   "outputs": [],
   "source": [
    "scaler = StandardScaler()\n",
    "X_train = scaler.fit_transform(X_train)\n",
    "X_test = scaler.transform(X_test)"
   ]
  },
  {
   "cell_type": "code",
   "execution_count": 32,
   "metadata": {},
   "outputs": [],
   "source": [
    "def report(score):\n",
    "    print('Среднее значение:', round(score.mean(), 2), \n",
    "          'минимум:', round(score.min(), 2), \n",
    "          'максимум:', round(score.max(), 2),\n",
    "          'ст. отклонение:', round(score.std(), 2))\n",
    "    print('--------------------------------------------------------------------------')"
   ]
  },
  {
   "cell_type": "markdown",
   "metadata": {},
   "source": [
    "***Линейная регрессия:***"
   ]
  },
  {
   "cell_type": "code",
   "execution_count": 33,
   "metadata": {},
   "outputs": [
    {
     "name": "stdout",
     "output_type": "stream",
     "text": [
      "Среднее значение: -12.38 минимум: -14.4 максимум: -9.99 ст. отклонение: 1.52\n",
      "--------------------------------------------------------------------------\n"
     ]
    }
   ],
   "source": [
    "model = LinearRegression()\n",
    "score = cross_val_score(model, X_train, y_train, cv=5, scoring=scorer)\n",
    "report(score)"
   ]
  },
  {
   "cell_type": "code",
   "execution_count": null,
   "metadata": {},
   "outputs": [],
   "source": []
  },
  {
   "cell_type": "markdown",
   "metadata": {},
   "source": [
    "***Случайный лес:***"
   ]
  },
  {
   "cell_type": "code",
   "execution_count": 34,
   "metadata": {},
   "outputs": [
    {
     "name": "stdout",
     "output_type": "stream",
     "text": [
      "Среднее значение: -11.04 минимум: -12.72 максимум: -8.57 ст. отклонение: 1.57\n",
      "--------------------------------------------------------------------------\n"
     ]
    }
   ],
   "source": [
    "model = RandomForestRegressor(max_depth = 2, n_estimators = 40, random_state = 12345)\n",
    "score = cross_val_score(model, X_train, y_train, cv=5, scoring=scorer)\n",
    "report(score)"
   ]
  },
  {
   "cell_type": "markdown",
   "metadata": {},
   "source": [
    "***Дерево решений:***"
   ]
  },
  {
   "cell_type": "code",
   "execution_count": 35,
   "metadata": {},
   "outputs": [
    {
     "name": "stdout",
     "output_type": "stream",
     "text": [
      "Среднее значение: -10.87 минимум: -12.47 максимум: -9.46 ст. отклонение: 1.08\n",
      "--------------------------------------------------------------------------\n"
     ]
    }
   ],
   "source": [
    "model = DecisionTreeRegressor(max_depth = 5, random_state = 12345)\n",
    "score = cross_val_score(model, X_train, y_train, cv=5, scoring=scorer)\n",
    "report(score)"
   ]
  },
  {
   "cell_type": "markdown",
   "metadata": {},
   "source": [
    "***Предсказание в виде константы (среднее значение цели):***"
   ]
  },
  {
   "cell_type": "code",
   "execution_count": 36,
   "metadata": {},
   "outputs": [
    {
     "name": "stdout",
     "output_type": "stream",
     "text": [
      "Среднее значение: -11.57 минимум: -13.73 максимум: -10.0 ст. отклонение: 1.23\n",
      "--------------------------------------------------------------------------\n"
     ]
    }
   ],
   "source": [
    "model = DummyRegressor()\n",
    "score = cross_val_score(model, X_train, y_train, cv=5, scoring=scorer)\n",
    "report(score)"
   ]
  },
  {
   "cell_type": "markdown",
   "metadata": {},
   "source": [
    "**На тестовой выборке:**"
   ]
  },
  {
   "cell_type": "code",
   "execution_count": 37,
   "metadata": {},
   "outputs": [
    {
     "data": {
      "text/plain": [
       "9.972775555351223"
      ]
     },
     "execution_count": 37,
     "metadata": {},
     "output_type": "execute_result"
    }
   ],
   "source": [
    "model = LinearRegression()\n",
    "model.fit(X_train, y_train)\n",
    "prediction = model.predict(X_test)\n",
    "total_smape(y_test, prediction)"
   ]
  },
  {
   "cell_type": "code",
   "execution_count": 38,
   "metadata": {},
   "outputs": [
    {
     "data": {
      "text/plain": [
       "8.782624868843069"
      ]
     },
     "execution_count": 38,
     "metadata": {},
     "output_type": "execute_result"
    }
   ],
   "source": [
    "model = RandomForestRegressor(max_depth = 2, n_estimators = 40, random_state = 12345)\n",
    "model.fit(X_train, y_train)\n",
    "prediction = model.predict(X_test)\n",
    "total_smape(y_test, prediction)"
   ]
  },
  {
   "cell_type": "code",
   "execution_count": 39,
   "metadata": {},
   "outputs": [
    {
     "data": {
      "text/plain": [
       "9.53956632407638"
      ]
     },
     "execution_count": 39,
     "metadata": {},
     "output_type": "execute_result"
    }
   ],
   "source": [
    "model = DecisionTreeRegressor(max_depth = 5, random_state = 12345)\n",
    "model.fit(X_train, y_train)\n",
    "prediction = model.predict(X_test)\n",
    "total_smape(y_test, prediction)"
   ]
  },
  {
   "cell_type": "code",
   "execution_count": 40,
   "metadata": {},
   "outputs": [
    {
     "data": {
      "text/plain": [
       "10.289630376021034"
      ]
     },
     "execution_count": 40,
     "metadata": {},
     "output_type": "execute_result"
    }
   ],
   "source": [
    "model = DummyRegressor()\n",
    "model.fit(X_train, y_train)\n",
    "prediction = model.predict(X_test)\n",
    "total_smape(y_test, prediction)"
   ]
  },
  {
   "cell_type": "markdown",
   "metadata": {},
   "source": [
    "## Общий вывод:"
   ]
  },
  {
   "cell_type": "markdown",
   "metadata": {},
   "source": [
    "<div class=\"alert alert-block alert-info\">\n",
    "На тестовой выборке все модели показали результат чуть лучше, чем предсказание среднего значения.\n",
    "    \n",
    "---    \n",
    "    \n",
    "На тренировочной выборке лучший результат показала модель DecisionTreeRegressor(max_depth = 5)  \n",
    "\n",
    "На тестовой выборке RandomForestRegressor(max_depth = 2, n_estimators = 40) превзошла ее,  \n",
    "но эта модель имеет наибольший разброс качества предсказаний, \n",
    "    \n",
    "поэтому целесообразнее использовать <b> DecisionTreeRegressor(max_depth = 5) </b>\n",
    "</div>"
   ]
  },
  {
   "cell_type": "code",
   "execution_count": null,
   "metadata": {},
   "outputs": [],
   "source": []
  },
  {
   "cell_type": "code",
   "execution_count": null,
   "metadata": {},
   "outputs": [],
   "source": []
  },
  {
   "cell_type": "markdown",
   "metadata": {},
   "source": []
  }
 ],
 "metadata": {
  "ExecuteTimeLog": [
   {
    "duration": 175,
    "start_time": "2021-10-25T11:47:32.880Z"
   },
   {
    "duration": 95,
    "start_time": "2021-10-25T11:49:27.077Z"
   },
   {
    "duration": 304,
    "start_time": "2021-10-25T11:56:30.131Z"
   },
   {
    "duration": 1148,
    "start_time": "2021-10-25T11:56:32.385Z"
   },
   {
    "duration": 2324,
    "start_time": "2021-10-25T11:56:34.649Z"
   },
   {
    "duration": 1857,
    "start_time": "2021-10-25T11:58:05.313Z"
   },
   {
    "duration": 16,
    "start_time": "2021-10-25T11:58:48.903Z"
   },
   {
    "duration": 14,
    "start_time": "2021-10-25T12:02:49.983Z"
   },
   {
    "duration": 10,
    "start_time": "2021-10-25T12:03:01.254Z"
   },
   {
    "duration": 317,
    "start_time": "2021-10-25T12:03:16.630Z"
   },
   {
    "duration": 8,
    "start_time": "2021-10-25T12:03:25.798Z"
   },
   {
    "duration": 3,
    "start_time": "2021-10-25T12:04:17.135Z"
   },
   {
    "duration": 5,
    "start_time": "2021-10-25T12:04:42.204Z"
   },
   {
    "duration": 10,
    "start_time": "2021-10-25T12:04:46.198Z"
   },
   {
    "duration": 5,
    "start_time": "2021-10-25T12:05:18.469Z"
   },
   {
    "duration": 10,
    "start_time": "2021-10-25T12:05:21.196Z"
   },
   {
    "duration": 6,
    "start_time": "2021-10-25T12:06:00.508Z"
   },
   {
    "duration": 10,
    "start_time": "2021-10-25T12:06:02.836Z"
   },
   {
    "duration": 12,
    "start_time": "2021-10-25T12:06:39.564Z"
   },
   {
    "duration": 12,
    "start_time": "2021-10-25T12:06:58.549Z"
   },
   {
    "duration": 303,
    "start_time": "2021-10-25T12:07:15.732Z"
   },
   {
    "duration": 13,
    "start_time": "2021-10-25T12:07:16.805Z"
   },
   {
    "duration": 1516,
    "start_time": "2021-10-25T19:58:29.071Z"
   },
   {
    "duration": 972,
    "start_time": "2021-10-25T19:58:30.590Z"
   },
   {
    "duration": 27,
    "start_time": "2021-10-25T19:58:31.565Z"
   },
   {
    "duration": 43,
    "start_time": "2021-10-25T19:58:31.595Z"
   },
   {
    "duration": 16,
    "start_time": "2021-10-25T19:58:31.641Z"
   },
   {
    "duration": 9,
    "start_time": "2021-10-25T19:59:20.878Z"
   },
   {
    "duration": 10,
    "start_time": "2021-10-25T19:59:32.602Z"
   },
   {
    "duration": 14,
    "start_time": "2021-10-25T19:59:51.157Z"
   },
   {
    "duration": 6,
    "start_time": "2021-10-25T20:00:02.948Z"
   },
   {
    "duration": 39,
    "start_time": "2021-10-25T20:00:23.782Z"
   },
   {
    "duration": 78,
    "start_time": "2021-10-25T20:00:42.648Z"
   },
   {
    "duration": 42,
    "start_time": "2021-10-25T20:01:54.676Z"
   },
   {
    "duration": 381,
    "start_time": "2021-10-25T20:02:08.369Z"
   },
   {
    "duration": 373,
    "start_time": "2021-10-25T20:02:14.428Z"
   },
   {
    "duration": 387,
    "start_time": "2021-10-25T20:02:27.208Z"
   },
   {
    "duration": 38,
    "start_time": "2021-10-25T20:03:00.285Z"
   },
   {
    "duration": 423,
    "start_time": "2021-10-25T20:03:49.083Z"
   },
   {
    "duration": 51,
    "start_time": "2021-10-25T20:04:44.344Z"
   },
   {
    "duration": 331,
    "start_time": "2021-10-25T20:07:20.531Z"
   },
   {
    "duration": 443,
    "start_time": "2021-10-25T20:07:47.640Z"
   },
   {
    "duration": 56,
    "start_time": "2021-10-25T20:08:19.468Z"
   },
   {
    "duration": 59,
    "start_time": "2021-10-25T20:08:28.499Z"
   },
   {
    "duration": 14,
    "start_time": "2021-10-25T20:09:02.430Z"
   },
   {
    "duration": 351,
    "start_time": "2021-10-25T20:09:24.487Z"
   },
   {
    "duration": 351,
    "start_time": "2021-10-25T20:09:55.895Z"
   },
   {
    "duration": 301,
    "start_time": "2021-10-25T20:10:13.550Z"
   },
   {
    "duration": 274,
    "start_time": "2021-10-25T20:11:09.005Z"
   },
   {
    "duration": 285,
    "start_time": "2021-10-25T20:11:16.955Z"
   },
   {
    "duration": 12,
    "start_time": "2021-10-25T20:11:45.277Z"
   },
   {
    "duration": 40,
    "start_time": "2021-10-25T20:11:49.896Z"
   },
   {
    "duration": 277,
    "start_time": "2021-10-25T20:12:09.165Z"
   },
   {
    "duration": 73,
    "start_time": "2021-10-25T20:12:30.638Z"
   },
   {
    "duration": 42,
    "start_time": "2021-10-25T20:12:42.114Z"
   },
   {
    "duration": 1549,
    "start_time": "2021-10-25T23:30:41.179Z"
   },
   {
    "duration": 961,
    "start_time": "2021-10-25T23:30:42.730Z"
   },
   {
    "duration": 24,
    "start_time": "2021-10-25T23:30:43.694Z"
   },
   {
    "duration": 40,
    "start_time": "2021-10-25T23:30:43.721Z"
   },
   {
    "duration": 14,
    "start_time": "2021-10-25T23:30:43.764Z"
   },
   {
    "duration": 25,
    "start_time": "2021-10-25T23:30:43.781Z"
   },
   {
    "duration": 57,
    "start_time": "2021-10-25T23:30:43.809Z"
   },
   {
    "duration": 71,
    "start_time": "2021-10-25T23:30:43.869Z"
   },
   {
    "duration": 40,
    "start_time": "2021-10-25T23:31:00.761Z"
   },
   {
    "duration": 8,
    "start_time": "2021-10-25T23:31:41.255Z"
   },
   {
    "duration": 8,
    "start_time": "2021-10-25T23:31:52.370Z"
   },
   {
    "duration": 9,
    "start_time": "2021-10-25T23:32:13.355Z"
   },
   {
    "duration": 8,
    "start_time": "2021-10-25T23:32:23.555Z"
   },
   {
    "duration": 8,
    "start_time": "2021-10-25T23:33:03.080Z"
   },
   {
    "duration": 8,
    "start_time": "2021-10-25T23:33:11.135Z"
   },
   {
    "duration": 8,
    "start_time": "2021-10-25T23:33:20.061Z"
   },
   {
    "duration": 7,
    "start_time": "2021-10-25T23:33:37.177Z"
   },
   {
    "duration": 8,
    "start_time": "2021-10-25T23:33:44.497Z"
   },
   {
    "duration": 8,
    "start_time": "2021-10-25T23:34:12.172Z"
   },
   {
    "duration": 8,
    "start_time": "2021-10-25T23:34:24.426Z"
   },
   {
    "duration": 7,
    "start_time": "2021-10-25T23:34:34.627Z"
   },
   {
    "duration": 8,
    "start_time": "2021-10-25T23:34:49.449Z"
   },
   {
    "duration": 9,
    "start_time": "2021-10-25T23:35:02.920Z"
   },
   {
    "duration": 9,
    "start_time": "2021-10-25T23:35:16.042Z"
   },
   {
    "duration": 8,
    "start_time": "2021-10-25T23:35:29.723Z"
   },
   {
    "duration": 607,
    "start_time": "2021-10-25T23:36:06.834Z"
   },
   {
    "duration": 10,
    "start_time": "2021-10-25T23:36:12.894Z"
   },
   {
    "duration": 895,
    "start_time": "2021-10-26T11:05:09.225Z"
   },
   {
    "duration": 1560,
    "start_time": "2021-10-26T11:16:58.649Z"
   },
   {
    "duration": 921,
    "start_time": "2021-10-26T11:17:00.212Z"
   },
   {
    "duration": 34,
    "start_time": "2021-10-26T11:17:01.136Z"
   },
   {
    "duration": 22,
    "start_time": "2021-10-26T11:17:01.173Z"
   },
   {
    "duration": 19,
    "start_time": "2021-10-26T11:17:01.197Z"
   },
   {
    "duration": 13,
    "start_time": "2021-10-26T11:18:17.246Z"
   },
   {
    "duration": 39,
    "start_time": "2021-10-26T11:18:33.039Z"
   },
   {
    "duration": 10,
    "start_time": "2021-10-26T11:18:46.128Z"
   },
   {
    "duration": 8,
    "start_time": "2021-10-26T11:18:56.575Z"
   },
   {
    "duration": 15,
    "start_time": "2021-10-26T11:19:06.993Z"
   },
   {
    "duration": 115,
    "start_time": "2021-10-26T11:19:18.662Z"
   },
   {
    "duration": 11,
    "start_time": "2021-10-26T11:19:40.495Z"
   },
   {
    "duration": 14,
    "start_time": "2021-10-26T11:20:51.029Z"
   },
   {
    "duration": 12,
    "start_time": "2021-10-26T11:21:10.413Z"
   },
   {
    "duration": 14,
    "start_time": "2021-10-26T11:21:19.230Z"
   },
   {
    "duration": 15,
    "start_time": "2021-10-26T11:21:27.817Z"
   },
   {
    "duration": 12,
    "start_time": "2021-10-26T11:22:12.398Z"
   },
   {
    "duration": 11,
    "start_time": "2021-10-26T11:22:29.853Z"
   },
   {
    "duration": 12,
    "start_time": "2021-10-26T11:22:59.573Z"
   },
   {
    "duration": 12,
    "start_time": "2021-10-26T11:23:05.636Z"
   },
   {
    "duration": 1821,
    "start_time": "2021-10-26T13:03:13.694Z"
   },
   {
    "duration": 1032,
    "start_time": "2021-10-26T13:03:15.517Z"
   },
   {
    "duration": 25,
    "start_time": "2021-10-26T13:03:16.552Z"
   },
   {
    "duration": 27,
    "start_time": "2021-10-26T13:03:16.580Z"
   },
   {
    "duration": 48,
    "start_time": "2021-10-26T13:03:16.610Z"
   },
   {
    "duration": 24,
    "start_time": "2021-10-26T13:03:16.661Z"
   },
   {
    "duration": 560,
    "start_time": "2021-10-26T13:03:52.821Z"
   },
   {
    "duration": 49,
    "start_time": "2021-10-26T13:04:17.688Z"
   },
   {
    "duration": 52,
    "start_time": "2021-10-26T13:04:59.934Z"
   },
   {
    "duration": 13,
    "start_time": "2021-10-26T13:05:06.527Z"
   },
   {
    "duration": 16,
    "start_time": "2021-10-26T13:05:21.997Z"
   },
   {
    "duration": 14,
    "start_time": "2021-10-26T13:05:45.053Z"
   },
   {
    "duration": 15,
    "start_time": "2021-10-26T13:05:55.677Z"
   },
   {
    "duration": 9,
    "start_time": "2021-10-26T13:07:02.163Z"
   },
   {
    "duration": 9,
    "start_time": "2021-10-26T13:07:08.149Z"
   },
   {
    "duration": 40,
    "start_time": "2021-10-26T13:07:28.684Z"
   },
   {
    "duration": 11,
    "start_time": "2021-10-26T13:08:08.517Z"
   },
   {
    "duration": 586,
    "start_time": "2021-10-26T13:08:14.876Z"
   },
   {
    "duration": 816,
    "start_time": "2021-10-26T13:08:27.999Z"
   },
   {
    "duration": 329,
    "start_time": "2021-10-26T13:08:46.795Z"
   },
   {
    "duration": 690,
    "start_time": "2021-10-26T13:08:58.555Z"
   },
   {
    "duration": 478,
    "start_time": "2021-10-26T13:10:06.195Z"
   },
   {
    "duration": 395,
    "start_time": "2021-10-26T13:10:19.863Z"
   },
   {
    "duration": 915,
    "start_time": "2021-10-26T13:11:40.578Z"
   },
   {
    "duration": 1232,
    "start_time": "2021-10-26T13:12:37.451Z"
   },
   {
    "duration": 1401,
    "start_time": "2021-10-26T13:14:11.065Z"
   },
   {
    "duration": 1244,
    "start_time": "2021-10-26T13:15:02.745Z"
   },
   {
    "duration": 1328,
    "start_time": "2021-10-26T13:15:09.200Z"
   },
   {
    "duration": 1431,
    "start_time": "2021-10-26T13:17:54.568Z"
   },
   {
    "duration": 8,
    "start_time": "2021-10-26T13:28:56.687Z"
   },
   {
    "duration": 734,
    "start_time": "2021-10-26T13:29:37.591Z"
   },
   {
    "duration": 425,
    "start_time": "2021-10-26T13:29:57.114Z"
   },
   {
    "duration": 1562,
    "start_time": "2021-10-26T13:30:58.559Z"
   },
   {
    "duration": 1052,
    "start_time": "2021-10-26T13:31:00.124Z"
   },
   {
    "duration": 25,
    "start_time": "2021-10-26T13:31:01.179Z"
   },
   {
    "duration": 21,
    "start_time": "2021-10-26T13:31:01.207Z"
   },
   {
    "duration": 39,
    "start_time": "2021-10-26T13:31:01.231Z"
   },
   {
    "duration": 20,
    "start_time": "2021-10-26T13:31:01.273Z"
   },
   {
    "duration": 35,
    "start_time": "2021-10-26T13:31:01.295Z"
   },
   {
    "duration": 1279,
    "start_time": "2021-10-26T13:31:01.333Z"
   },
   {
    "duration": 1403,
    "start_time": "2021-10-26T13:31:02.615Z"
   },
   {
    "duration": 309,
    "start_time": "2021-10-26T13:31:04.021Z"
   },
   {
    "duration": 294,
    "start_time": "2021-10-26T13:31:04.333Z"
   },
   {
    "duration": 534,
    "start_time": "2021-10-26T13:31:26.971Z"
   },
   {
    "duration": 546,
    "start_time": "2021-10-26T13:31:30.139Z"
   },
   {
    "duration": 11,
    "start_time": "2021-10-26T13:31:54.499Z"
   },
   {
    "duration": 11,
    "start_time": "2021-10-26T13:32:10.956Z"
   },
   {
    "duration": 5,
    "start_time": "2021-10-26T13:34:28.658Z"
   },
   {
    "duration": 7,
    "start_time": "2021-10-26T13:36:57.298Z"
   },
   {
    "duration": 5,
    "start_time": "2021-10-26T13:37:10.313Z"
   },
   {
    "duration": 7,
    "start_time": "2021-10-26T13:37:12.745Z"
   },
   {
    "duration": 11,
    "start_time": "2021-10-26T13:38:36.609Z"
   },
   {
    "duration": 7,
    "start_time": "2021-10-26T13:39:16.410Z"
   },
   {
    "duration": 10,
    "start_time": "2021-10-26T13:39:25.936Z"
   },
   {
    "duration": 19,
    "start_time": "2021-10-26T13:39:42.264Z"
   },
   {
    "duration": 7,
    "start_time": "2021-10-26T13:39:59.160Z"
   },
   {
    "duration": 10,
    "start_time": "2021-10-26T13:40:09.199Z"
   },
   {
    "duration": 6,
    "start_time": "2021-10-26T13:40:30.848Z"
   },
   {
    "duration": 7,
    "start_time": "2021-10-26T13:40:46.295Z"
   },
   {
    "duration": 7,
    "start_time": "2021-10-26T13:41:31.743Z"
   },
   {
    "duration": 8,
    "start_time": "2021-10-26T13:41:42.505Z"
   },
   {
    "duration": 8,
    "start_time": "2021-10-26T13:41:49.559Z"
   },
   {
    "duration": 13,
    "start_time": "2021-10-26T13:42:17.487Z"
   },
   {
    "duration": 9,
    "start_time": "2021-10-26T13:42:35.454Z"
   },
   {
    "duration": 5,
    "start_time": "2021-10-26T13:42:43.927Z"
   },
   {
    "duration": 8,
    "start_time": "2021-10-26T13:43:20.855Z"
   },
   {
    "duration": 12,
    "start_time": "2021-10-26T13:43:28.438Z"
   },
   {
    "duration": 9,
    "start_time": "2021-10-26T13:44:03.030Z"
   },
   {
    "duration": 952,
    "start_time": "2021-10-26T14:25:05.090Z"
   },
   {
    "duration": 1523,
    "start_time": "2021-10-26T14:25:19.187Z"
   },
   {
    "duration": 902,
    "start_time": "2021-10-26T14:25:20.713Z"
   },
   {
    "duration": 24,
    "start_time": "2021-10-26T14:25:21.617Z"
   },
   {
    "duration": 35,
    "start_time": "2021-10-26T14:25:21.644Z"
   },
   {
    "duration": 15,
    "start_time": "2021-10-26T14:25:21.682Z"
   },
   {
    "duration": 20,
    "start_time": "2021-10-26T14:25:21.699Z"
   },
   {
    "duration": 54,
    "start_time": "2021-10-26T14:25:21.722Z"
   },
   {
    "duration": 1429,
    "start_time": "2021-10-26T14:25:21.780Z"
   },
   {
    "duration": 1324,
    "start_time": "2021-10-26T14:25:23.212Z"
   },
   {
    "duration": 519,
    "start_time": "2021-10-26T14:25:24.538Z"
   },
   {
    "duration": 540,
    "start_time": "2021-10-26T14:25:25.059Z"
   },
   {
    "duration": 3,
    "start_time": "2021-10-26T14:25:25.602Z"
   },
   {
    "duration": 15,
    "start_time": "2021-10-26T14:25:25.608Z"
   },
   {
    "duration": 34,
    "start_time": "2021-10-26T14:25:25.625Z"
   },
   {
    "duration": 524,
    "start_time": "2021-10-26T15:25:52.626Z"
   },
   {
    "duration": 11,
    "start_time": "2021-10-26T15:26:03.295Z"
   },
   {
    "duration": 359,
    "start_time": "2021-10-26T15:26:33.699Z"
   },
   {
    "duration": 119,
    "start_time": "2021-10-26T15:26:52.210Z"
   },
   {
    "duration": 12,
    "start_time": "2021-10-26T15:27:10.886Z"
   },
   {
    "duration": 10,
    "start_time": "2021-10-26T15:28:32.561Z"
   },
   {
    "duration": 7,
    "start_time": "2021-10-26T15:34:21.700Z"
   },
   {
    "duration": 14,
    "start_time": "2021-10-26T15:34:33.797Z"
   },
   {
    "duration": 7,
    "start_time": "2021-10-26T15:34:54.188Z"
   },
   {
    "duration": 7,
    "start_time": "2021-10-26T15:35:06.523Z"
   },
   {
    "duration": 1492,
    "start_time": "2021-10-26T15:35:54.990Z"
   },
   {
    "duration": 913,
    "start_time": "2021-10-26T15:35:56.485Z"
   },
   {
    "duration": 24,
    "start_time": "2021-10-26T15:35:57.401Z"
   },
   {
    "duration": 42,
    "start_time": "2021-10-26T15:35:57.428Z"
   },
   {
    "duration": 16,
    "start_time": "2021-10-26T15:35:57.473Z"
   },
   {
    "duration": 18,
    "start_time": "2021-10-26T15:35:57.493Z"
   },
   {
    "duration": 16,
    "start_time": "2021-10-26T15:35:57.513Z"
   },
   {
    "duration": 23,
    "start_time": "2021-10-26T15:35:57.560Z"
   },
   {
    "duration": 21,
    "start_time": "2021-10-26T15:35:57.587Z"
   },
   {
    "duration": 1356,
    "start_time": "2021-10-26T15:35:57.611Z"
   },
   {
    "duration": 1427,
    "start_time": "2021-10-26T15:35:58.970Z"
   },
   {
    "duration": 576,
    "start_time": "2021-10-26T15:36:00.399Z"
   },
   {
    "duration": 583,
    "start_time": "2021-10-26T15:36:00.977Z"
   },
   {
    "duration": 3,
    "start_time": "2021-10-26T15:36:01.563Z"
   },
   {
    "duration": 90,
    "start_time": "2021-10-26T15:36:01.569Z"
   },
   {
    "duration": 47,
    "start_time": "2021-10-26T15:36:01.662Z"
   },
   {
    "duration": 12,
    "start_time": "2021-10-26T15:42:36.481Z"
   },
   {
    "duration": 13,
    "start_time": "2021-10-26T15:55:15.552Z"
   },
   {
    "duration": 13,
    "start_time": "2021-10-26T15:55:41.236Z"
   },
   {
    "duration": 525,
    "start_time": "2021-10-26T15:56:02.616Z"
   },
   {
    "duration": 15,
    "start_time": "2021-10-26T15:56:07.441Z"
   },
   {
    "duration": 9,
    "start_time": "2021-10-26T15:56:19.704Z"
   },
   {
    "duration": 6,
    "start_time": "2021-10-26T15:56:25.031Z"
   },
   {
    "duration": 408,
    "start_time": "2021-10-26T15:56:37.733Z"
   },
   {
    "duration": 116,
    "start_time": "2021-10-26T15:56:42.287Z"
   },
   {
    "duration": 13,
    "start_time": "2021-10-26T15:56:55.730Z"
   },
   {
    "duration": 15,
    "start_time": "2021-10-26T15:57:07.386Z"
   },
   {
    "duration": 12,
    "start_time": "2021-10-26T15:57:12.739Z"
   },
   {
    "duration": 13,
    "start_time": "2021-10-26T15:57:27.768Z"
   },
   {
    "duration": 14,
    "start_time": "2021-10-26T15:58:16.781Z"
   },
   {
    "duration": 14,
    "start_time": "2021-10-26T15:58:40.883Z"
   },
   {
    "duration": 14,
    "start_time": "2021-10-26T15:58:47.958Z"
   },
   {
    "duration": 15,
    "start_time": "2021-10-26T15:59:17.366Z"
   },
   {
    "duration": 15,
    "start_time": "2021-10-26T16:00:31.883Z"
   },
   {
    "duration": 11,
    "start_time": "2021-10-26T16:02:56.322Z"
   },
   {
    "duration": 13,
    "start_time": "2021-10-26T16:03:09.124Z"
   },
   {
    "duration": 16,
    "start_time": "2021-10-26T16:03:26.465Z"
   },
   {
    "duration": 8,
    "start_time": "2021-10-26T16:10:55.225Z"
   },
   {
    "duration": 4,
    "start_time": "2021-10-26T16:25:07.286Z"
   },
   {
    "duration": 7,
    "start_time": "2021-10-26T16:25:16.199Z"
   },
   {
    "duration": 27,
    "start_time": "2021-10-26T16:25:50.552Z"
   },
   {
    "duration": 17,
    "start_time": "2021-10-26T16:26:43.028Z"
   },
   {
    "duration": 7,
    "start_time": "2021-10-26T16:28:13.189Z"
   },
   {
    "duration": 8,
    "start_time": "2021-10-26T16:28:51.574Z"
   },
   {
    "duration": 9,
    "start_time": "2021-10-26T16:28:57.595Z"
   },
   {
    "duration": 9,
    "start_time": "2021-10-26T16:29:14.515Z"
   },
   {
    "duration": 430,
    "start_time": "2021-10-26T18:13:10.801Z"
   },
   {
    "duration": 1562,
    "start_time": "2021-10-26T18:13:18.109Z"
   },
   {
    "duration": 931,
    "start_time": "2021-10-26T18:13:19.674Z"
   },
   {
    "duration": 24,
    "start_time": "2021-10-26T18:13:20.608Z"
   },
   {
    "duration": 21,
    "start_time": "2021-10-26T18:13:20.635Z"
   },
   {
    "duration": 51,
    "start_time": "2021-10-26T18:13:20.659Z"
   },
   {
    "duration": 14,
    "start_time": "2021-10-26T18:13:20.713Z"
   },
   {
    "duration": 15,
    "start_time": "2021-10-26T18:13:20.730Z"
   },
   {
    "duration": 14,
    "start_time": "2021-10-26T18:13:20.748Z"
   },
   {
    "duration": 10,
    "start_time": "2021-10-26T18:13:52.848Z"
   },
   {
    "duration": 725,
    "start_time": "2021-10-26T18:17:19.262Z"
   },
   {
    "duration": 6,
    "start_time": "2021-10-26T18:17:27.766Z"
   },
   {
    "duration": 842,
    "start_time": "2021-10-26T18:22:41.316Z"
   },
   {
    "duration": 7,
    "start_time": "2021-10-26T18:22:50.629Z"
   },
   {
    "duration": 7,
    "start_time": "2021-10-26T18:23:30.819Z"
   },
   {
    "duration": 6,
    "start_time": "2021-10-26T18:24:38.337Z"
   },
   {
    "duration": 7,
    "start_time": "2021-10-26T18:24:57.628Z"
   },
   {
    "duration": 361,
    "start_time": "2021-10-26T18:28:04.081Z"
   },
   {
    "duration": 9,
    "start_time": "2021-10-26T18:28:11.620Z"
   },
   {
    "duration": 18,
    "start_time": "2021-10-26T18:28:38.515Z"
   },
   {
    "duration": 17,
    "start_time": "2021-10-26T18:29:18.296Z"
   },
   {
    "duration": 18,
    "start_time": "2021-10-26T18:29:24.582Z"
   },
   {
    "duration": 16,
    "start_time": "2021-10-26T18:29:32.952Z"
   },
   {
    "duration": 196,
    "start_time": "2021-10-26T18:31:04.727Z"
   },
   {
    "duration": 1497,
    "start_time": "2021-10-26T18:38:00.842Z"
   },
   {
    "duration": 947,
    "start_time": "2021-10-26T18:38:02.342Z"
   },
   {
    "duration": 28,
    "start_time": "2021-10-26T18:38:03.293Z"
   },
   {
    "duration": 24,
    "start_time": "2021-10-26T18:38:03.324Z"
   },
   {
    "duration": 16,
    "start_time": "2021-10-26T18:38:03.350Z"
   },
   {
    "duration": 16,
    "start_time": "2021-10-26T18:38:03.401Z"
   },
   {
    "duration": 12,
    "start_time": "2021-10-26T18:38:03.420Z"
   },
   {
    "duration": 13,
    "start_time": "2021-10-26T18:38:03.436Z"
   },
   {
    "duration": 255,
    "start_time": "2021-10-26T18:38:03.454Z"
   },
   {
    "duration": 16,
    "start_time": "2021-10-26T18:38:03.712Z"
   },
   {
    "duration": 19,
    "start_time": "2021-10-26T18:40:13.507Z"
   },
   {
    "duration": 19,
    "start_time": "2021-10-26T18:41:51.899Z"
   },
   {
    "duration": 44,
    "start_time": "2021-10-26T18:42:19.830Z"
   },
   {
    "duration": 30,
    "start_time": "2021-10-26T18:42:26.633Z"
   },
   {
    "duration": 32,
    "start_time": "2021-10-26T18:42:50.101Z"
   },
   {
    "duration": 8,
    "start_time": "2021-10-26T18:45:41.081Z"
   },
   {
    "duration": 7,
    "start_time": "2021-10-26T18:45:53.021Z"
   },
   {
    "duration": 8,
    "start_time": "2021-10-26T18:46:02.772Z"
   },
   {
    "duration": 7,
    "start_time": "2021-10-26T18:46:09.853Z"
   },
   {
    "duration": 7,
    "start_time": "2021-10-26T18:46:38.774Z"
   },
   {
    "duration": 516,
    "start_time": "2021-10-26T18:47:00.766Z"
   },
   {
    "duration": 10,
    "start_time": "2021-10-26T18:47:35.043Z"
   },
   {
    "duration": 8,
    "start_time": "2021-10-26T18:48:04.969Z"
   },
   {
    "duration": 404,
    "start_time": "2021-10-26T18:48:21.216Z"
   },
   {
    "duration": -217,
    "start_time": "2021-10-26T18:49:02.600Z"
   },
   {
    "duration": 1614,
    "start_time": "2021-10-26T18:49:07.888Z"
   },
   {
    "duration": 1191,
    "start_time": "2021-10-26T18:49:09.506Z"
   },
   {
    "duration": 27,
    "start_time": "2021-10-26T18:49:10.701Z"
   },
   {
    "duration": 23,
    "start_time": "2021-10-26T18:49:10.732Z"
   },
   {
    "duration": 55,
    "start_time": "2021-10-26T18:49:10.757Z"
   },
   {
    "duration": 19,
    "start_time": "2021-10-26T18:49:10.816Z"
   },
   {
    "duration": 12,
    "start_time": "2021-10-26T18:49:10.838Z"
   },
   {
    "duration": 46,
    "start_time": "2021-10-26T18:49:10.857Z"
   },
   {
    "duration": 10,
    "start_time": "2021-10-26T18:49:10.907Z"
   },
   {
    "duration": 457,
    "start_time": "2021-10-26T18:49:10.920Z"
   },
   {
    "duration": 28,
    "start_time": "2021-10-26T18:49:11.380Z"
   },
   {
    "duration": 37,
    "start_time": "2021-10-26T18:49:11.410Z"
   },
   {
    "duration": 42,
    "start_time": "2021-10-26T18:50:12.332Z"
   },
   {
    "duration": 10,
    "start_time": "2021-10-26T18:50:23.455Z"
   },
   {
    "duration": 13,
    "start_time": "2021-10-26T18:50:33.483Z"
   },
   {
    "duration": 7,
    "start_time": "2021-10-26T18:50:48.558Z"
   },
   {
    "duration": 7,
    "start_time": "2021-10-26T18:50:58.849Z"
   },
   {
    "duration": 336,
    "start_time": "2021-10-26T20:42:33.218Z"
   },
   {
    "duration": 1288,
    "start_time": "2021-10-26T20:42:41.214Z"
   },
   {
    "duration": 725,
    "start_time": "2021-10-26T20:42:42.504Z"
   },
   {
    "duration": 20,
    "start_time": "2021-10-26T20:42:43.231Z"
   },
   {
    "duration": 14,
    "start_time": "2021-10-26T20:42:43.253Z"
   },
   {
    "duration": 9,
    "start_time": "2021-10-26T20:42:43.269Z"
   },
   {
    "duration": 9,
    "start_time": "2021-10-26T20:42:43.281Z"
   },
   {
    "duration": 7,
    "start_time": "2021-10-26T20:42:43.292Z"
   },
   {
    "duration": 43,
    "start_time": "2021-10-26T20:42:43.302Z"
   },
   {
    "duration": 22,
    "start_time": "2021-10-26T20:42:43.347Z"
   },
   {
    "duration": 19,
    "start_time": "2021-10-26T20:42:43.371Z"
   },
   {
    "duration": 24,
    "start_time": "2021-10-26T20:42:43.392Z"
   },
   {
    "duration": 37,
    "start_time": "2021-10-26T20:42:43.418Z"
   },
   {
    "duration": 43,
    "start_time": "2021-10-26T20:42:43.458Z"
   },
   {
    "duration": 43,
    "start_time": "2021-10-26T20:43:45.349Z"
   },
   {
    "duration": 24,
    "start_time": "2021-10-26T20:45:09.836Z"
   },
   {
    "duration": 32,
    "start_time": "2021-10-26T20:45:31.509Z"
   },
   {
    "duration": 1159,
    "start_time": "2021-10-27T08:53:11.504Z"
   },
   {
    "duration": 930,
    "start_time": "2021-10-27T08:53:12.665Z"
   },
   {
    "duration": 18,
    "start_time": "2021-10-27T08:53:13.597Z"
   },
   {
    "duration": 15,
    "start_time": "2021-10-27T08:53:13.618Z"
   },
   {
    "duration": 30,
    "start_time": "2021-10-27T08:53:13.635Z"
   },
   {
    "duration": 12,
    "start_time": "2021-10-27T08:53:13.667Z"
   },
   {
    "duration": 7,
    "start_time": "2021-10-27T08:53:13.681Z"
   },
   {
    "duration": 7,
    "start_time": "2021-10-27T08:53:13.690Z"
   },
   {
    "duration": 8,
    "start_time": "2021-10-27T08:53:13.698Z"
   },
   {
    "duration": 8,
    "start_time": "2021-10-27T08:53:13.708Z"
   },
   {
    "duration": 51,
    "start_time": "2021-10-27T08:53:13.719Z"
   },
   {
    "duration": 34,
    "start_time": "2021-10-27T08:53:13.772Z"
   },
   {
    "duration": 82,
    "start_time": "2021-10-27T08:53:13.808Z"
   },
   {
    "duration": 5,
    "start_time": "2021-10-27T08:54:31.711Z"
   },
   {
    "duration": 34,
    "start_time": "2021-10-27T08:57:23.142Z"
   },
   {
    "duration": 44,
    "start_time": "2021-10-27T08:57:46.167Z"
   },
   {
    "duration": 12,
    "start_time": "2021-10-27T08:57:59.303Z"
   },
   {
    "duration": 11,
    "start_time": "2021-10-27T08:58:03.648Z"
   },
   {
    "duration": 1235,
    "start_time": "2021-10-27T08:58:45.008Z"
   },
   {
    "duration": 848,
    "start_time": "2021-10-27T08:58:46.246Z"
   },
   {
    "duration": 19,
    "start_time": "2021-10-27T08:58:47.096Z"
   },
   {
    "duration": 18,
    "start_time": "2021-10-27T08:58:47.118Z"
   },
   {
    "duration": 12,
    "start_time": "2021-10-27T08:58:47.163Z"
   },
   {
    "duration": 6,
    "start_time": "2021-10-27T08:58:47.178Z"
   },
   {
    "duration": 16,
    "start_time": "2021-10-27T08:58:47.186Z"
   },
   {
    "duration": 6,
    "start_time": "2021-10-27T08:58:47.205Z"
   },
   {
    "duration": 15,
    "start_time": "2021-10-27T08:58:47.214Z"
   },
   {
    "duration": 11,
    "start_time": "2021-10-27T08:58:47.264Z"
   },
   {
    "duration": 8,
    "start_time": "2021-10-27T08:58:47.277Z"
   },
   {
    "duration": 10,
    "start_time": "2021-10-27T08:58:47.287Z"
   },
   {
    "duration": 9,
    "start_time": "2021-10-27T08:58:47.299Z"
   },
   {
    "duration": 17,
    "start_time": "2021-10-27T08:58:47.314Z"
   },
   {
    "duration": 34,
    "start_time": "2021-10-27T08:58:47.333Z"
   },
   {
    "duration": 25,
    "start_time": "2021-10-27T08:58:47.370Z"
   },
   {
    "duration": 70,
    "start_time": "2021-10-27T08:58:47.397Z"
   },
   {
    "duration": 1564,
    "start_time": "2021-10-27T08:59:53.693Z"
   },
   {
    "duration": 1063,
    "start_time": "2021-10-27T08:59:55.260Z"
   },
   {
    "duration": 24,
    "start_time": "2021-10-27T08:59:56.327Z"
   },
   {
    "duration": 22,
    "start_time": "2021-10-27T08:59:56.362Z"
   },
   {
    "duration": 13,
    "start_time": "2021-10-27T08:59:56.387Z"
   },
   {
    "duration": 7,
    "start_time": "2021-10-27T08:59:56.403Z"
   },
   {
    "duration": 5,
    "start_time": "2021-10-27T08:59:56.412Z"
   },
   {
    "duration": 6,
    "start_time": "2021-10-27T08:59:56.420Z"
   },
   {
    "duration": 49,
    "start_time": "2021-10-27T08:59:56.428Z"
   },
   {
    "duration": 8,
    "start_time": "2021-10-27T08:59:56.479Z"
   },
   {
    "duration": 9,
    "start_time": "2021-10-27T08:59:56.489Z"
   },
   {
    "duration": 9,
    "start_time": "2021-10-27T08:59:56.500Z"
   },
   {
    "duration": 8,
    "start_time": "2021-10-27T08:59:56.511Z"
   },
   {
    "duration": 48,
    "start_time": "2021-10-27T08:59:56.521Z"
   },
   {
    "duration": 4,
    "start_time": "2021-10-27T08:59:56.571Z"
   },
   {
    "duration": 31,
    "start_time": "2021-10-27T08:59:56.577Z"
   },
   {
    "duration": 68,
    "start_time": "2021-10-27T08:59:56.610Z"
   },
   {
    "duration": 1252,
    "start_time": "2021-10-27T09:00:54.063Z"
   },
   {
    "duration": 797,
    "start_time": "2021-10-27T09:00:55.317Z"
   },
   {
    "duration": 17,
    "start_time": "2021-10-27T09:00:56.117Z"
   },
   {
    "duration": 32,
    "start_time": "2021-10-27T09:00:56.137Z"
   },
   {
    "duration": 10,
    "start_time": "2021-10-27T09:00:56.171Z"
   },
   {
    "duration": 7,
    "start_time": "2021-10-27T09:00:56.184Z"
   },
   {
    "duration": 9,
    "start_time": "2021-10-27T09:00:56.193Z"
   },
   {
    "duration": 16,
    "start_time": "2021-10-27T09:00:56.205Z"
   },
   {
    "duration": 20,
    "start_time": "2021-10-27T09:00:56.223Z"
   },
   {
    "duration": 23,
    "start_time": "2021-10-27T09:00:56.245Z"
   },
   {
    "duration": 17,
    "start_time": "2021-10-27T09:00:56.271Z"
   },
   {
    "duration": 12,
    "start_time": "2021-10-27T09:00:56.290Z"
   },
   {
    "duration": 19,
    "start_time": "2021-10-27T09:00:56.303Z"
   },
   {
    "duration": 24,
    "start_time": "2021-10-27T09:00:56.324Z"
   },
   {
    "duration": 4,
    "start_time": "2021-10-27T09:00:56.364Z"
   },
   {
    "duration": 30,
    "start_time": "2021-10-27T09:00:56.371Z"
   },
   {
    "duration": 60,
    "start_time": "2021-10-27T09:00:56.404Z"
   },
   {
    "duration": 25,
    "start_time": "2021-10-27T09:02:11.883Z"
   },
   {
    "duration": 26,
    "start_time": "2021-10-27T09:02:26.581Z"
   },
   {
    "duration": 44,
    "start_time": "2021-10-27T09:03:25.445Z"
   },
   {
    "duration": 1272,
    "start_time": "2021-10-27T09:05:03.836Z"
   },
   {
    "duration": 732,
    "start_time": "2021-10-27T09:05:05.110Z"
   },
   {
    "duration": 25,
    "start_time": "2021-10-27T09:05:05.844Z"
   },
   {
    "duration": 14,
    "start_time": "2021-10-27T09:05:05.871Z"
   },
   {
    "duration": 9,
    "start_time": "2021-10-27T09:05:05.887Z"
   },
   {
    "duration": 4,
    "start_time": "2021-10-27T09:05:05.898Z"
   },
   {
    "duration": 9,
    "start_time": "2021-10-27T09:05:05.904Z"
   },
   {
    "duration": 17,
    "start_time": "2021-10-27T09:05:05.915Z"
   },
   {
    "duration": 21,
    "start_time": "2021-10-27T09:05:05.934Z"
   },
   {
    "duration": 48,
    "start_time": "2021-10-27T09:05:05.964Z"
   },
   {
    "duration": 9,
    "start_time": "2021-10-27T09:05:06.014Z"
   },
   {
    "duration": 41,
    "start_time": "2021-10-27T09:05:06.025Z"
   },
   {
    "duration": 8,
    "start_time": "2021-10-27T09:05:06.068Z"
   },
   {
    "duration": 23,
    "start_time": "2021-10-27T09:05:06.078Z"
   },
   {
    "duration": 21,
    "start_time": "2021-10-27T09:05:06.103Z"
   },
   {
    "duration": 14,
    "start_time": "2021-10-27T09:05:06.126Z"
   },
   {
    "duration": 46,
    "start_time": "2021-10-27T09:05:06.142Z"
   },
   {
    "duration": 35,
    "start_time": "2021-10-27T09:05:06.190Z"
   },
   {
    "duration": 51,
    "start_time": "2021-10-27T09:06:04.661Z"
   },
   {
    "duration": 1216,
    "start_time": "2021-10-27T09:07:16.386Z"
   },
   {
    "duration": 735,
    "start_time": "2021-10-27T09:07:17.607Z"
   },
   {
    "duration": 20,
    "start_time": "2021-10-27T09:07:18.344Z"
   },
   {
    "duration": 14,
    "start_time": "2021-10-27T09:07:18.367Z"
   },
   {
    "duration": 10,
    "start_time": "2021-10-27T09:07:18.383Z"
   },
   {
    "duration": 11,
    "start_time": "2021-10-27T09:07:18.395Z"
   },
   {
    "duration": 8,
    "start_time": "2021-10-27T09:07:18.408Z"
   },
   {
    "duration": 8,
    "start_time": "2021-10-27T09:07:18.418Z"
   },
   {
    "duration": 8,
    "start_time": "2021-10-27T09:07:18.465Z"
   },
   {
    "duration": 7,
    "start_time": "2021-10-27T09:07:18.475Z"
   },
   {
    "duration": 24,
    "start_time": "2021-10-27T09:07:18.484Z"
   },
   {
    "duration": 3,
    "start_time": "2021-10-27T09:07:18.510Z"
   },
   {
    "duration": 53,
    "start_time": "2021-10-27T09:07:18.515Z"
   },
   {
    "duration": 39,
    "start_time": "2021-10-27T09:07:18.570Z"
   },
   {
    "duration": 110,
    "start_time": "2021-10-27T09:07:45.925Z"
   },
   {
    "duration": 106,
    "start_time": "2021-10-27T09:07:50.154Z"
   },
   {
    "duration": 115,
    "start_time": "2021-10-27T09:08:20.490Z"
   },
   {
    "duration": 118,
    "start_time": "2021-10-27T09:08:30.177Z"
   },
   {
    "duration": 107,
    "start_time": "2021-10-27T09:08:40.409Z"
   },
   {
    "duration": 5,
    "start_time": "2021-10-27T09:49:19.816Z"
   },
   {
    "duration": 5,
    "start_time": "2021-10-27T09:51:08.033Z"
   },
   {
    "duration": 5,
    "start_time": "2021-10-27T09:51:15.192Z"
   },
   {
    "duration": 7,
    "start_time": "2021-10-27T09:52:16.649Z"
   },
   {
    "duration": 24,
    "start_time": "2021-10-27T09:52:33.761Z"
   },
   {
    "duration": 14,
    "start_time": "2021-10-27T09:52:43.889Z"
   },
   {
    "duration": 10,
    "start_time": "2021-10-27T09:54:43.960Z"
   },
   {
    "duration": 4,
    "start_time": "2021-10-27T09:59:32.196Z"
   },
   {
    "duration": 15,
    "start_time": "2021-10-27T10:00:12.269Z"
   },
   {
    "duration": 12,
    "start_time": "2021-10-27T10:01:09.243Z"
   },
   {
    "duration": 12,
    "start_time": "2021-10-27T10:01:17.341Z"
   },
   {
    "duration": 10,
    "start_time": "2021-10-27T10:05:49.178Z"
   },
   {
    "duration": 393,
    "start_time": "2021-10-27T10:06:11.625Z"
   },
   {
    "duration": 11,
    "start_time": "2021-10-27T10:06:41.978Z"
   },
   {
    "duration": 12,
    "start_time": "2021-10-27T10:08:00.769Z"
   },
   {
    "duration": 14,
    "start_time": "2021-10-27T10:08:30.328Z"
   },
   {
    "duration": 8,
    "start_time": "2021-10-27T10:13:07.645Z"
   },
   {
    "duration": 12,
    "start_time": "2021-10-27T10:13:29.980Z"
   },
   {
    "duration": 156,
    "start_time": "2021-10-27T10:16:24.468Z"
   },
   {
    "duration": 176,
    "start_time": "2021-10-27T10:17:37.570Z"
   },
   {
    "duration": 1110,
    "start_time": "2021-10-27T10:21:46.993Z"
   },
   {
    "duration": 713,
    "start_time": "2021-10-27T10:21:48.105Z"
   },
   {
    "duration": 15,
    "start_time": "2021-10-27T10:21:48.820Z"
   },
   {
    "duration": 28,
    "start_time": "2021-10-27T10:21:48.836Z"
   },
   {
    "duration": 9,
    "start_time": "2021-10-27T10:21:48.866Z"
   },
   {
    "duration": 11,
    "start_time": "2021-10-27T10:21:48.876Z"
   },
   {
    "duration": 7,
    "start_time": "2021-10-27T10:21:48.889Z"
   },
   {
    "duration": 11,
    "start_time": "2021-10-27T10:21:48.897Z"
   },
   {
    "duration": 12,
    "start_time": "2021-10-27T10:21:48.910Z"
   },
   {
    "duration": 42,
    "start_time": "2021-10-27T10:21:48.923Z"
   },
   {
    "duration": 169,
    "start_time": "2021-10-27T10:21:48.967Z"
   },
   {
    "duration": 153,
    "start_time": "2021-10-27T10:22:03.432Z"
   },
   {
    "duration": 153,
    "start_time": "2021-10-27T10:22:22.184Z"
   },
   {
    "duration": 333,
    "start_time": "2021-10-27T10:26:56.521Z"
   },
   {
    "duration": 19,
    "start_time": "2021-10-27T10:27:04.259Z"
   },
   {
    "duration": 281,
    "start_time": "2021-10-27T10:27:16.466Z"
   },
   {
    "duration": 247,
    "start_time": "2021-10-27T10:27:19.489Z"
   },
   {
    "duration": 5,
    "start_time": "2021-10-27T10:27:22.089Z"
   },
   {
    "duration": 30,
    "start_time": "2021-10-27T10:27:28.746Z"
   },
   {
    "duration": 33,
    "start_time": "2021-10-27T10:28:22.866Z"
   },
   {
    "duration": 4,
    "start_time": "2021-10-27T10:29:30.553Z"
   },
   {
    "duration": 4,
    "start_time": "2021-10-27T10:30:30.601Z"
   },
   {
    "duration": 5,
    "start_time": "2021-10-27T10:30:36.328Z"
   },
   {
    "duration": 4,
    "start_time": "2021-10-27T10:30:51.778Z"
   },
   {
    "duration": 35,
    "start_time": "2021-10-27T10:31:10.112Z"
   },
   {
    "duration": 29,
    "start_time": "2021-10-27T10:32:06.321Z"
   },
   {
    "duration": 5,
    "start_time": "2021-10-27T10:56:04.005Z"
   },
   {
    "duration": 4,
    "start_time": "2021-10-27T10:56:06.674Z"
   },
   {
    "duration": 271,
    "start_time": "2021-10-27T10:56:55.386Z"
   },
   {
    "duration": 5,
    "start_time": "2021-10-27T10:56:57.323Z"
   },
   {
    "duration": 3,
    "start_time": "2021-10-27T10:56:59.226Z"
   },
   {
    "duration": 241,
    "start_time": "2021-10-27T11:07:22.957Z"
   },
   {
    "duration": 3,
    "start_time": "2021-10-27T11:08:17.261Z"
   },
   {
    "duration": 23,
    "start_time": "2021-10-27T11:08:23.916Z"
   },
   {
    "duration": 5,
    "start_time": "2021-10-27T11:08:41.916Z"
   },
   {
    "duration": 5,
    "start_time": "2021-10-27T11:09:10.588Z"
   },
   {
    "duration": 9,
    "start_time": "2021-10-27T11:09:25.068Z"
   },
   {
    "duration": 9,
    "start_time": "2021-10-27T11:09:33.924Z"
   },
   {
    "duration": 4,
    "start_time": "2021-10-27T11:09:46.188Z"
   },
   {
    "duration": 4,
    "start_time": "2021-10-27T11:09:53.819Z"
   },
   {
    "duration": 4,
    "start_time": "2021-10-27T11:13:16.610Z"
   },
   {
    "duration": 2117,
    "start_time": "2021-10-27T11:14:22.178Z"
   },
   {
    "duration": 5,
    "start_time": "2021-10-27T11:15:57.824Z"
   },
   {
    "duration": 1886,
    "start_time": "2021-10-27T11:16:00.592Z"
   },
   {
    "duration": 4,
    "start_time": "2021-10-27T11:17:02.041Z"
   },
   {
    "duration": 4,
    "start_time": "2021-10-27T11:17:10.119Z"
   },
   {
    "duration": 1785,
    "start_time": "2021-10-27T11:17:10.703Z"
   },
   {
    "duration": 4,
    "start_time": "2021-10-27T11:17:35.943Z"
   },
   {
    "duration": 2977,
    "start_time": "2021-10-27T11:17:37.864Z"
   },
   {
    "duration": 3,
    "start_time": "2021-10-27T11:21:05.518Z"
   },
   {
    "duration": 35,
    "start_time": "2021-10-27T11:22:15.334Z"
   },
   {
    "duration": 255,
    "start_time": "2021-10-27T11:22:38.604Z"
   },
   {
    "duration": 257,
    "start_time": "2021-10-27T11:22:55.188Z"
   },
   {
    "duration": 706,
    "start_time": "2021-10-27T11:23:06.389Z"
   },
   {
    "duration": 297,
    "start_time": "2021-10-27T11:24:09.411Z"
   },
   {
    "duration": 245,
    "start_time": "2021-10-27T11:24:32.612Z"
   },
   {
    "duration": 20,
    "start_time": "2021-10-27T11:24:43.822Z"
   },
   {
    "duration": 21,
    "start_time": "2021-10-27T11:25:04.035Z"
   },
   {
    "duration": 4,
    "start_time": "2021-10-27T11:25:07.667Z"
   },
   {
    "duration": 96,
    "start_time": "2021-10-27T11:25:08.170Z"
   },
   {
    "duration": 596,
    "start_time": "2021-10-27T11:25:09.422Z"
   },
   {
    "duration": 4,
    "start_time": "2021-10-27T11:27:53.675Z"
   },
   {
    "duration": 2,
    "start_time": "2021-10-27T11:27:55.580Z"
   },
   {
    "duration": 900,
    "start_time": "2021-10-27T11:27:59.556Z"
   },
   {
    "duration": 6,
    "start_time": "2021-10-27T11:28:30.220Z"
   },
   {
    "duration": 4,
    "start_time": "2021-10-27T11:28:30.841Z"
   },
   {
    "duration": 850,
    "start_time": "2021-10-27T11:28:34.643Z"
   },
   {
    "duration": 5,
    "start_time": "2021-10-27T11:29:08.612Z"
   },
   {
    "duration": 3,
    "start_time": "2021-10-27T11:29:09.112Z"
   },
   {
    "duration": 813,
    "start_time": "2021-10-27T11:29:11.722Z"
   },
   {
    "duration": 5,
    "start_time": "2021-10-27T11:29:40.242Z"
   },
   {
    "duration": 3,
    "start_time": "2021-10-27T11:29:41.497Z"
   },
   {
    "duration": 1828,
    "start_time": "2021-10-27T11:29:44.257Z"
   },
   {
    "duration": 5,
    "start_time": "2021-10-27T11:30:34.305Z"
   },
   {
    "duration": 3,
    "start_time": "2021-10-27T11:30:35.832Z"
   },
   {
    "duration": 1897,
    "start_time": "2021-10-27T11:30:38.392Z"
   },
   {
    "duration": 8,
    "start_time": "2021-10-27T11:31:19.897Z"
   },
   {
    "duration": 4,
    "start_time": "2021-10-27T11:31:20.887Z"
   },
   {
    "duration": 1799,
    "start_time": "2021-10-27T11:31:23.392Z"
   },
   {
    "duration": 7,
    "start_time": "2021-10-27T11:32:52.273Z"
   },
   {
    "duration": 4,
    "start_time": "2021-10-27T11:32:53.320Z"
   },
   {
    "duration": 1683,
    "start_time": "2021-10-27T11:32:55.801Z"
   },
   {
    "duration": 5,
    "start_time": "2021-10-27T11:33:42.728Z"
   },
   {
    "duration": 3,
    "start_time": "2021-10-27T11:33:43.591Z"
   },
   {
    "duration": 1745,
    "start_time": "2021-10-27T11:33:46.422Z"
   },
   {
    "duration": 5,
    "start_time": "2021-10-27T11:34:49.760Z"
   },
   {
    "duration": 3,
    "start_time": "2021-10-27T11:34:50.494Z"
   },
   {
    "duration": 1491,
    "start_time": "2021-10-27T11:34:53.384Z"
   },
   {
    "duration": 7,
    "start_time": "2021-10-27T11:35:13.984Z"
   },
   {
    "duration": 3,
    "start_time": "2021-10-27T11:35:15.230Z"
   },
   {
    "duration": 2191,
    "start_time": "2021-10-27T11:35:17.278Z"
   },
   {
    "duration": 5,
    "start_time": "2021-10-27T11:36:37.080Z"
   },
   {
    "duration": 3,
    "start_time": "2021-10-27T11:36:38.541Z"
   },
   {
    "duration": 690,
    "start_time": "2021-10-27T11:36:40.703Z"
   },
   {
    "duration": 24,
    "start_time": "2021-10-27T11:37:42.134Z"
   },
   {
    "duration": 1243,
    "start_time": "2021-10-27T11:38:25.201Z"
   },
   {
    "duration": 733,
    "start_time": "2021-10-27T11:38:26.446Z"
   },
   {
    "duration": 16,
    "start_time": "2021-10-27T11:38:27.182Z"
   },
   {
    "duration": 15,
    "start_time": "2021-10-27T11:38:27.201Z"
   },
   {
    "duration": 10,
    "start_time": "2021-10-27T11:38:27.218Z"
   },
   {
    "duration": 38,
    "start_time": "2021-10-27T11:38:27.230Z"
   },
   {
    "duration": 9,
    "start_time": "2021-10-27T11:38:27.270Z"
   },
   {
    "duration": 9,
    "start_time": "2021-10-27T11:38:27.281Z"
   },
   {
    "duration": 12,
    "start_time": "2021-10-27T11:38:27.294Z"
   },
   {
    "duration": 15,
    "start_time": "2021-10-27T11:38:27.308Z"
   },
   {
    "duration": 212,
    "start_time": "2021-10-27T11:38:27.325Z"
   },
   {
    "duration": 41,
    "start_time": "2021-10-27T11:38:27.539Z"
   },
   {
    "duration": 87,
    "start_time": "2021-10-27T11:38:27.582Z"
   },
   {
    "duration": -30174,
    "start_time": "2021-10-27T11:38:57.845Z"
   },
   {
    "duration": -30177,
    "start_time": "2021-10-27T11:38:57.849Z"
   },
   {
    "duration": -30179,
    "start_time": "2021-10-27T11:38:57.852Z"
   },
   {
    "duration": -30181,
    "start_time": "2021-10-27T11:38:57.855Z"
   },
   {
    "duration": -30182,
    "start_time": "2021-10-27T11:38:57.857Z"
   },
   {
    "duration": -30183,
    "start_time": "2021-10-27T11:38:57.859Z"
   },
   {
    "duration": 26,
    "start_time": "2021-10-27T11:38:36.755Z"
   },
   {
    "duration": 9,
    "start_time": "2021-10-27T11:39:02.490Z"
   },
   {
    "duration": 31,
    "start_time": "2021-10-27T11:39:38.399Z"
   },
   {
    "duration": 351,
    "start_time": "2021-10-27T11:39:58.113Z"
   },
   {
    "duration": 31,
    "start_time": "2021-10-27T11:40:11.840Z"
   },
   {
    "duration": 64,
    "start_time": "2021-10-27T11:41:37.424Z"
   },
   {
    "duration": 1191,
    "start_time": "2021-10-27T11:41:50.119Z"
   },
   {
    "duration": 688,
    "start_time": "2021-10-27T11:41:51.312Z"
   },
   {
    "duration": 17,
    "start_time": "2021-10-27T11:41:52.002Z"
   },
   {
    "duration": 16,
    "start_time": "2021-10-27T11:41:52.021Z"
   },
   {
    "duration": 33,
    "start_time": "2021-10-27T11:41:52.040Z"
   },
   {
    "duration": 13,
    "start_time": "2021-10-27T11:41:52.075Z"
   },
   {
    "duration": 14,
    "start_time": "2021-10-27T11:41:52.090Z"
   },
   {
    "duration": 13,
    "start_time": "2021-10-27T11:41:52.106Z"
   },
   {
    "duration": 14,
    "start_time": "2021-10-27T11:41:52.122Z"
   },
   {
    "duration": 41,
    "start_time": "2021-10-27T11:41:52.138Z"
   },
   {
    "duration": 176,
    "start_time": "2021-10-27T11:41:52.181Z"
   },
   {
    "duration": 38,
    "start_time": "2021-10-27T11:41:52.359Z"
   },
   {
    "duration": 5,
    "start_time": "2021-10-27T11:41:52.399Z"
   },
   {
    "duration": 19,
    "start_time": "2021-10-27T11:41:52.406Z"
   },
   {
    "duration": 26,
    "start_time": "2021-10-27T11:41:52.427Z"
   },
   {
    "duration": 3,
    "start_time": "2021-10-27T11:41:52.463Z"
   },
   {
    "duration": 106,
    "start_time": "2021-10-27T11:41:52.467Z"
   },
   {
    "duration": 526,
    "start_time": "2021-10-27T11:41:52.575Z"
   },
   {
    "duration": 1209,
    "start_time": "2021-10-27T11:42:28.225Z"
   },
   {
    "duration": 740,
    "start_time": "2021-10-27T11:42:29.436Z"
   },
   {
    "duration": 17,
    "start_time": "2021-10-27T11:42:30.179Z"
   },
   {
    "duration": 28,
    "start_time": "2021-10-27T11:42:30.198Z"
   },
   {
    "duration": 22,
    "start_time": "2021-10-27T11:42:30.228Z"
   },
   {
    "duration": 14,
    "start_time": "2021-10-27T11:42:30.252Z"
   },
   {
    "duration": 36,
    "start_time": "2021-10-27T11:42:30.268Z"
   },
   {
    "duration": 27,
    "start_time": "2021-10-27T11:42:30.306Z"
   },
   {
    "duration": 34,
    "start_time": "2021-10-27T11:42:30.337Z"
   },
   {
    "duration": 29,
    "start_time": "2021-10-27T11:42:30.374Z"
   },
   {
    "duration": 191,
    "start_time": "2021-10-27T11:42:30.405Z"
   },
   {
    "duration": 43,
    "start_time": "2021-10-27T11:42:30.598Z"
   },
   {
    "duration": 22,
    "start_time": "2021-10-27T11:42:30.643Z"
   },
   {
    "duration": 60,
    "start_time": "2021-10-27T11:42:30.667Z"
   },
   {
    "duration": 59,
    "start_time": "2021-10-27T11:42:30.729Z"
   },
   {
    "duration": 34,
    "start_time": "2021-10-27T11:42:30.790Z"
   },
   {
    "duration": 336,
    "start_time": "2021-10-27T11:42:30.827Z"
   },
   {
    "duration": 1006,
    "start_time": "2021-10-27T11:42:31.167Z"
   },
   {
    "duration": 6,
    "start_time": "2021-10-27T11:42:52.308Z"
   },
   {
    "duration": 3,
    "start_time": "2021-10-27T11:42:55.339Z"
   },
   {
    "duration": 844,
    "start_time": "2021-10-27T11:43:03.711Z"
   },
   {
    "duration": 6,
    "start_time": "2021-10-27T11:43:48.908Z"
   },
   {
    "duration": 3,
    "start_time": "2021-10-27T11:43:49.834Z"
   },
   {
    "duration": 1722,
    "start_time": "2021-10-27T11:43:53.156Z"
   },
   {
    "duration": 6,
    "start_time": "2021-10-27T11:44:23.268Z"
   },
   {
    "duration": 3,
    "start_time": "2021-10-27T11:44:24.346Z"
   },
   {
    "duration": 1673,
    "start_time": "2021-10-27T11:44:27.505Z"
   },
   {
    "duration": 8,
    "start_time": "2021-10-27T11:45:19.539Z"
   },
   {
    "duration": 3,
    "start_time": "2021-10-27T11:45:20.073Z"
   },
   {
    "duration": 1549,
    "start_time": "2021-10-27T11:45:22.818Z"
   },
   {
    "duration": 5,
    "start_time": "2021-10-27T11:45:46.058Z"
   },
   {
    "duration": 3,
    "start_time": "2021-10-27T11:45:46.635Z"
   },
   {
    "duration": 1947,
    "start_time": "2021-10-27T11:45:48.618Z"
   },
   {
    "duration": 5,
    "start_time": "2021-10-27T11:46:35.369Z"
   },
   {
    "duration": 3,
    "start_time": "2021-10-27T11:46:37.562Z"
   },
   {
    "duration": 1710,
    "start_time": "2021-10-27T11:46:40.362Z"
   },
   {
    "duration": 7,
    "start_time": "2021-10-27T11:47:07.026Z"
   },
   {
    "duration": 3,
    "start_time": "2021-10-27T11:47:07.609Z"
   },
   {
    "duration": 1339,
    "start_time": "2021-10-27T11:47:10.433Z"
   },
   {
    "duration": 6,
    "start_time": "2021-10-27T11:47:59.376Z"
   },
   {
    "duration": 4,
    "start_time": "2021-10-27T11:48:00.176Z"
   },
   {
    "duration": 1985,
    "start_time": "2021-10-27T11:48:03.280Z"
   },
   {
    "duration": 5,
    "start_time": "2021-10-27T11:48:49.488Z"
   },
   {
    "duration": 3,
    "start_time": "2021-10-27T11:48:50.054Z"
   },
   {
    "duration": 1690,
    "start_time": "2021-10-27T11:48:52.783Z"
   },
   {
    "duration": 4,
    "start_time": "2021-10-27T11:50:03.199Z"
   },
   {
    "duration": 3,
    "start_time": "2021-10-27T11:50:04.358Z"
   },
   {
    "duration": 57,
    "start_time": "2021-10-27T11:50:12.510Z"
   },
   {
    "duration": 1915,
    "start_time": "2021-10-27T11:50:28.848Z"
   },
   {
    "duration": 5,
    "start_time": "2021-10-27T11:50:42.966Z"
   },
   {
    "duration": 3,
    "start_time": "2021-10-27T11:50:44.287Z"
   },
   {
    "duration": 928,
    "start_time": "2021-10-27T11:50:47.239Z"
   },
   {
    "duration": 5,
    "start_time": "2021-10-27T11:51:32.511Z"
   },
   {
    "duration": 3,
    "start_time": "2021-10-27T11:51:33.276Z"
   },
   {
    "duration": 895,
    "start_time": "2021-10-27T11:51:36.470Z"
   },
   {
    "duration": 19,
    "start_time": "2021-10-27T11:52:11.670Z"
   },
   {
    "duration": 3,
    "start_time": "2021-10-27T11:52:13.942Z"
   },
   {
    "duration": 100,
    "start_time": "2021-10-27T11:52:14.565Z"
   },
   {
    "duration": 1426,
    "start_time": "2021-10-27T11:52:16.846Z"
   },
   {
    "duration": 5,
    "start_time": "2021-10-27T11:52:25.693Z"
   },
   {
    "duration": 3,
    "start_time": "2021-10-27T11:52:26.430Z"
   },
   {
    "duration": 1600,
    "start_time": "2021-10-27T11:52:28.669Z"
   },
   {
    "duration": 5,
    "start_time": "2021-10-27T11:53:25.453Z"
   },
   {
    "duration": 3,
    "start_time": "2021-10-27T11:53:28.364Z"
   },
   {
    "duration": 1637,
    "start_time": "2021-10-27T11:53:34.437Z"
   },
   {
    "duration": 5,
    "start_time": "2021-10-27T11:54:24.405Z"
   },
   {
    "duration": 3,
    "start_time": "2021-10-27T11:54:25.005Z"
   },
   {
    "duration": 866,
    "start_time": "2021-10-27T11:54:27.637Z"
   },
   {
    "duration": 7,
    "start_time": "2021-10-27T11:55:41.821Z"
   },
   {
    "duration": 4,
    "start_time": "2021-10-27T11:55:43.268Z"
   },
   {
    "duration": 22,
    "start_time": "2021-10-27T11:55:46.589Z"
   },
   {
    "duration": 3,
    "start_time": "2021-10-27T11:55:47.108Z"
   },
   {
    "duration": 32,
    "start_time": "2021-10-27T11:55:47.843Z"
   },
   {
    "duration": 5499,
    "start_time": "2021-10-27T11:55:48.742Z"
   },
   {
    "duration": 10,
    "start_time": "2021-10-27T11:57:55.499Z"
   },
   {
    "duration": 260,
    "start_time": "2021-10-27T11:58:11.163Z"
   },
   {
    "duration": 6,
    "start_time": "2021-10-27T11:58:18.459Z"
   },
   {
    "duration": 3,
    "start_time": "2021-10-27T11:59:04.722Z"
   },
   {
    "duration": 3,
    "start_time": "2021-10-27T11:59:05.938Z"
   },
   {
    "duration": 2135,
    "start_time": "2021-10-27T11:59:10.733Z"
   },
   {
    "duration": 4,
    "start_time": "2021-10-27T11:59:53.026Z"
   },
   {
    "duration": 5,
    "start_time": "2021-10-27T11:59:55.489Z"
   },
   {
    "duration": 5,
    "start_time": "2021-10-27T12:00:00.018Z"
   },
   {
    "duration": 5,
    "start_time": "2021-10-27T12:00:13.769Z"
   },
   {
    "duration": 5,
    "start_time": "2021-10-27T12:00:17.978Z"
   },
   {
    "duration": 8,
    "start_time": "2021-10-27T12:00:22.124Z"
   },
   {
    "duration": 93,
    "start_time": "2021-10-27T12:00:42.426Z"
   },
   {
    "duration": 5,
    "start_time": "2021-10-27T12:00:47.489Z"
   },
   {
    "duration": 4,
    "start_time": "2021-10-27T12:02:49.865Z"
   },
   {
    "duration": 5,
    "start_time": "2021-10-27T12:07:54.246Z"
   },
   {
    "duration": 3,
    "start_time": "2021-10-27T12:08:05.550Z"
   },
   {
    "duration": 22,
    "start_time": "2021-10-27T12:08:18.710Z"
   },
   {
    "duration": 4,
    "start_time": "2021-10-27T12:08:19.478Z"
   },
   {
    "duration": 84,
    "start_time": "2021-10-27T12:08:20.181Z"
   },
   {
    "duration": 1573,
    "start_time": "2021-10-27T12:08:21.093Z"
   },
   {
    "duration": 4,
    "start_time": "2021-10-27T12:11:06.964Z"
   },
   {
    "duration": 3,
    "start_time": "2021-10-27T12:11:07.900Z"
   },
   {
    "duration": 1912,
    "start_time": "2021-10-27T12:11:10.756Z"
   },
   {
    "duration": 790,
    "start_time": "2021-10-27T12:12:09.780Z"
   },
   {
    "duration": 262,
    "start_time": "2021-10-27T12:12:16.564Z"
   },
   {
    "duration": 433,
    "start_time": "2021-10-27T12:12:20.734Z"
   },
   {
    "duration": 953,
    "start_time": "2021-10-27T12:12:25.015Z"
   },
   {
    "duration": 1344,
    "start_time": "2021-10-27T12:12:29.627Z"
   },
   {
    "duration": 271,
    "start_time": "2021-10-27T12:13:25.228Z"
   },
   {
    "duration": 330,
    "start_time": "2021-10-27T12:14:13.139Z"
   },
   {
    "duration": 1691,
    "start_time": "2021-10-27T12:14:14.882Z"
   },
   {
    "duration": 562,
    "start_time": "2021-10-27T12:15:42.109Z"
   },
   {
    "duration": 569,
    "start_time": "2021-10-27T12:15:51.082Z"
   },
   {
    "duration": 324,
    "start_time": "2021-10-27T12:16:23.370Z"
   },
   {
    "duration": 310,
    "start_time": "2021-10-27T12:16:33.033Z"
   },
   {
    "duration": 2105,
    "start_time": "2021-10-27T12:17:10.266Z"
   },
   {
    "duration": 3,
    "start_time": "2021-10-27T12:19:25.503Z"
   },
   {
    "duration": 19,
    "start_time": "2021-10-27T12:19:28.360Z"
   },
   {
    "duration": 44,
    "start_time": "2021-10-27T12:19:29.123Z"
   },
   {
    "duration": 1036,
    "start_time": "2021-10-27T12:19:30.936Z"
   },
   {
    "duration": 5,
    "start_time": "2021-10-27T12:19:36.921Z"
   },
   {
    "duration": 3,
    "start_time": "2021-10-27T12:19:39.847Z"
   },
   {
    "duration": 20,
    "start_time": "2021-10-27T12:19:42.383Z"
   },
   {
    "duration": 81,
    "start_time": "2021-10-27T12:19:42.984Z"
   },
   {
    "duration": 1384,
    "start_time": "2021-10-27T12:19:43.882Z"
   },
   {
    "duration": 428,
    "start_time": "2021-10-27T12:19:51.465Z"
   },
   {
    "duration": 3,
    "start_time": "2021-10-27T12:20:07.800Z"
   },
   {
    "duration": 5,
    "start_time": "2021-10-27T12:24:54.381Z"
   },
   {
    "duration": 251,
    "start_time": "2021-10-27T12:26:20.711Z"
   },
   {
    "duration": 8,
    "start_time": "2021-10-27T12:26:28.084Z"
   },
   {
    "duration": 8,
    "start_time": "2021-10-27T12:27:28.908Z"
   },
   {
    "duration": 1838,
    "start_time": "2021-10-27T12:30:43.827Z"
   },
   {
    "duration": 2385,
    "start_time": "2021-10-27T12:31:11.490Z"
   },
   {
    "duration": 1986,
    "start_time": "2021-10-27T12:32:59.386Z"
   },
   {
    "duration": 38620,
    "start_time": "2021-10-27T12:34:05.521Z"
   },
   {
    "duration": 6529,
    "start_time": "2021-10-27T12:34:52.058Z"
   },
   {
    "duration": 5,
    "start_time": "2021-10-27T12:35:24.495Z"
   },
   {
    "duration": 12912,
    "start_time": "2021-10-27T12:36:56.536Z"
   },
   {
    "duration": 1643,
    "start_time": "2021-10-27T12:37:14.175Z"
   },
   {
    "duration": 1262,
    "start_time": "2021-10-27T12:38:16.365Z"
   },
   {
    "duration": 760,
    "start_time": "2021-10-27T12:38:17.629Z"
   },
   {
    "duration": 17,
    "start_time": "2021-10-27T12:38:18.391Z"
   },
   {
    "duration": 15,
    "start_time": "2021-10-27T12:38:18.411Z"
   },
   {
    "duration": 39,
    "start_time": "2021-10-27T12:38:18.428Z"
   },
   {
    "duration": 15,
    "start_time": "2021-10-27T12:38:18.469Z"
   },
   {
    "duration": 8,
    "start_time": "2021-10-27T12:38:18.486Z"
   },
   {
    "duration": 13,
    "start_time": "2021-10-27T12:38:18.496Z"
   },
   {
    "duration": 14,
    "start_time": "2021-10-27T12:38:18.512Z"
   },
   {
    "duration": 41,
    "start_time": "2021-10-27T12:38:18.528Z"
   },
   {
    "duration": 194,
    "start_time": "2021-10-27T12:38:18.571Z"
   },
   {
    "duration": 43,
    "start_time": "2021-10-27T12:38:18.768Z"
   },
   {
    "duration": 5,
    "start_time": "2021-10-27T12:38:18.813Z"
   },
   {
    "duration": 6,
    "start_time": "2021-10-27T12:38:18.820Z"
   },
   {
    "duration": 59,
    "start_time": "2021-10-27T12:38:18.828Z"
   },
   {
    "duration": 1775,
    "start_time": "2021-10-27T12:38:18.890Z"
   },
   {
    "duration": 12700,
    "start_time": "2021-10-27T12:38:20.667Z"
   },
   {
    "duration": 1680,
    "start_time": "2021-10-27T12:38:33.369Z"
   },
   {
    "duration": 16,
    "start_time": "2021-10-27T12:38:35.051Z"
   },
   {
    "duration": 10,
    "start_time": "2021-10-27T12:38:35.070Z"
   },
   {
    "duration": 6,
    "start_time": "2021-10-27T12:39:34.209Z"
   },
   {
    "duration": 1222,
    "start_time": "2021-10-27T12:41:43.010Z"
   },
   {
    "duration": 754,
    "start_time": "2021-10-27T12:41:44.235Z"
   },
   {
    "duration": 18,
    "start_time": "2021-10-27T12:41:44.991Z"
   },
   {
    "duration": 18,
    "start_time": "2021-10-27T12:41:45.012Z"
   },
   {
    "duration": 39,
    "start_time": "2021-10-27T12:41:45.032Z"
   },
   {
    "duration": 15,
    "start_time": "2021-10-27T12:41:45.074Z"
   },
   {
    "duration": 19,
    "start_time": "2021-10-27T12:41:45.091Z"
   },
   {
    "duration": 22,
    "start_time": "2021-10-27T12:41:45.112Z"
   },
   {
    "duration": 23,
    "start_time": "2021-10-27T12:41:45.138Z"
   },
   {
    "duration": 20,
    "start_time": "2021-10-27T12:41:45.164Z"
   },
   {
    "duration": 203,
    "start_time": "2021-10-27T12:41:45.186Z"
   },
   {
    "duration": 46,
    "start_time": "2021-10-27T12:41:45.391Z"
   },
   {
    "duration": 26,
    "start_time": "2021-10-27T12:41:45.439Z"
   },
   {
    "duration": 28,
    "start_time": "2021-10-27T12:41:45.467Z"
   },
   {
    "duration": 41,
    "start_time": "2021-10-27T12:41:45.497Z"
   },
   {
    "duration": 1527,
    "start_time": "2021-10-27T12:41:45.540Z"
   },
   {
    "duration": 18008,
    "start_time": "2021-10-27T12:41:47.070Z"
   },
   {
    "duration": 2303,
    "start_time": "2021-10-27T12:42:05.081Z"
   },
   {
    "duration": 178,
    "start_time": "2021-10-27T12:42:07.386Z"
   },
   {
    "duration": 3645,
    "start_time": "2021-10-27T12:42:07.566Z"
   },
   {
    "duration": 450,
    "start_time": "2021-10-27T12:42:11.214Z"
   },
   {
    "duration": 8,
    "start_time": "2021-10-27T12:42:11.667Z"
   },
   {
    "duration": 1478,
    "start_time": "2021-10-27T12:43:13.656Z"
   },
   {
    "duration": 757,
    "start_time": "2021-10-27T12:43:15.136Z"
   },
   {
    "duration": 18,
    "start_time": "2021-10-27T12:43:15.896Z"
   },
   {
    "duration": 16,
    "start_time": "2021-10-27T12:43:15.916Z"
   },
   {
    "duration": 38,
    "start_time": "2021-10-27T12:43:15.934Z"
   },
   {
    "duration": 13,
    "start_time": "2021-10-27T12:43:15.974Z"
   },
   {
    "duration": 9,
    "start_time": "2021-10-27T12:43:15.989Z"
   },
   {
    "duration": 14,
    "start_time": "2021-10-27T12:43:16.002Z"
   },
   {
    "duration": 48,
    "start_time": "2021-10-27T12:43:16.018Z"
   },
   {
    "duration": 14,
    "start_time": "2021-10-27T12:43:16.068Z"
   },
   {
    "duration": 205,
    "start_time": "2021-10-27T12:43:16.084Z"
   },
   {
    "duration": 45,
    "start_time": "2021-10-27T12:43:16.291Z"
   },
   {
    "duration": 6,
    "start_time": "2021-10-27T12:43:16.338Z"
   },
   {
    "duration": 18,
    "start_time": "2021-10-27T12:43:16.346Z"
   },
   {
    "duration": 34,
    "start_time": "2021-10-27T12:43:16.366Z"
   },
   {
    "duration": 1666,
    "start_time": "2021-10-27T12:43:16.402Z"
   },
   {
    "duration": 13057,
    "start_time": "2021-10-27T12:43:18.073Z"
   },
   {
    "duration": 1645,
    "start_time": "2021-10-27T12:43:31.132Z"
   },
   {
    "duration": 396,
    "start_time": "2021-10-27T12:43:32.779Z"
   },
   {
    "duration": 2809,
    "start_time": "2021-10-27T12:43:33.177Z"
   },
   {
    "duration": 331,
    "start_time": "2021-10-27T12:43:35.988Z"
   },
   {
    "duration": 8,
    "start_time": "2021-10-27T12:43:36.320Z"
   },
   {
    "duration": 6203,
    "start_time": "2021-10-27T12:45:30.022Z"
   },
   {
    "duration": 2597,
    "start_time": "2021-10-27T12:45:41.844Z"
   },
   {
    "duration": 5845,
    "start_time": "2021-10-27T12:45:49.428Z"
   },
   {
    "duration": 1233,
    "start_time": "2021-10-27T12:49:16.342Z"
   },
   {
    "duration": 718,
    "start_time": "2021-10-27T12:49:17.578Z"
   },
   {
    "duration": 18,
    "start_time": "2021-10-27T12:49:18.298Z"
   },
   {
    "duration": 17,
    "start_time": "2021-10-27T12:49:18.318Z"
   },
   {
    "duration": 33,
    "start_time": "2021-10-27T12:49:18.337Z"
   },
   {
    "duration": 9,
    "start_time": "2021-10-27T12:49:18.372Z"
   },
   {
    "duration": 11,
    "start_time": "2021-10-27T12:49:18.383Z"
   },
   {
    "duration": 14,
    "start_time": "2021-10-27T12:49:18.397Z"
   },
   {
    "duration": 51,
    "start_time": "2021-10-27T12:49:18.415Z"
   },
   {
    "duration": 17,
    "start_time": "2021-10-27T12:49:18.469Z"
   },
   {
    "duration": 193,
    "start_time": "2021-10-27T12:49:18.489Z"
   },
   {
    "duration": 42,
    "start_time": "2021-10-27T12:49:18.684Z"
   },
   {
    "duration": 4,
    "start_time": "2021-10-27T12:49:18.728Z"
   },
   {
    "duration": 8,
    "start_time": "2021-10-27T12:49:18.734Z"
   },
   {
    "duration": 42,
    "start_time": "2021-10-27T12:49:18.743Z"
   },
   {
    "duration": 1678,
    "start_time": "2021-10-27T12:49:18.787Z"
   },
   {
    "duration": 83407,
    "start_time": "2021-10-27T12:49:20.468Z"
   },
   {
    "duration": 3588,
    "start_time": "2021-10-27T12:50:43.877Z"
   },
   {
    "duration": 302,
    "start_time": "2021-10-27T12:50:47.467Z"
   },
   {
    "duration": 6075,
    "start_time": "2021-10-27T12:50:47.773Z"
   },
   {
    "duration": 321,
    "start_time": "2021-10-27T12:50:53.850Z"
   },
   {
    "duration": 6,
    "start_time": "2021-10-27T12:50:54.172Z"
   },
   {
    "duration": 1587,
    "start_time": "2021-10-27T12:51:20.246Z"
   },
   {
    "duration": 1016,
    "start_time": "2021-10-27T12:51:21.836Z"
   },
   {
    "duration": 24,
    "start_time": "2021-10-27T12:51:22.855Z"
   },
   {
    "duration": 15,
    "start_time": "2021-10-27T12:51:22.881Z"
   },
   {
    "duration": 10,
    "start_time": "2021-10-27T12:51:22.898Z"
   },
   {
    "duration": 12,
    "start_time": "2021-10-27T12:51:22.910Z"
   },
   {
    "duration": 41,
    "start_time": "2021-10-27T12:51:22.924Z"
   },
   {
    "duration": 10,
    "start_time": "2021-10-27T12:51:22.967Z"
   },
   {
    "duration": 15,
    "start_time": "2021-10-27T12:51:22.981Z"
   },
   {
    "duration": 20,
    "start_time": "2021-10-27T12:51:22.998Z"
   },
   {
    "duration": 294,
    "start_time": "2021-10-27T12:51:23.021Z"
   },
   {
    "duration": 71,
    "start_time": "2021-10-27T12:51:23.318Z"
   },
   {
    "duration": 6,
    "start_time": "2021-10-27T12:51:23.391Z"
   },
   {
    "duration": 6,
    "start_time": "2021-10-27T12:51:23.400Z"
   },
   {
    "duration": 5,
    "start_time": "2021-10-27T12:51:23.408Z"
   },
   {
    "duration": 1852,
    "start_time": "2021-10-27T12:51:23.415Z"
   },
   {
    "duration": 82821,
    "start_time": "2021-10-27T12:51:25.269Z"
   },
   {
    "duration": 3392,
    "start_time": "2021-10-27T12:52:48.092Z"
   },
   {
    "duration": 282,
    "start_time": "2021-10-27T12:52:51.487Z"
   },
   {
    "duration": 5930,
    "start_time": "2021-10-27T12:52:51.770Z"
   },
   {
    "duration": 431,
    "start_time": "2021-10-27T12:52:57.702Z"
   },
   {
    "duration": 6,
    "start_time": "2021-10-27T12:52:58.135Z"
   },
   {
    "duration": 1476,
    "start_time": "2021-10-27T12:56:07.209Z"
   },
   {
    "duration": 1023,
    "start_time": "2021-10-27T12:56:08.688Z"
   },
   {
    "duration": 24,
    "start_time": "2021-10-27T12:56:09.714Z"
   },
   {
    "duration": 35,
    "start_time": "2021-10-27T12:56:09.740Z"
   },
   {
    "duration": 14,
    "start_time": "2021-10-27T12:56:09.777Z"
   },
   {
    "duration": 14,
    "start_time": "2021-10-27T12:56:09.794Z"
   },
   {
    "duration": 11,
    "start_time": "2021-10-27T12:56:09.811Z"
   },
   {
    "duration": 41,
    "start_time": "2021-10-27T12:56:09.824Z"
   },
   {
    "duration": 15,
    "start_time": "2021-10-27T12:56:09.869Z"
   },
   {
    "duration": 18,
    "start_time": "2021-10-27T12:56:09.887Z"
   },
   {
    "duration": 296,
    "start_time": "2021-10-27T12:56:09.908Z"
   },
   {
    "duration": 73,
    "start_time": "2021-10-27T12:56:10.206Z"
   },
   {
    "duration": 6,
    "start_time": "2021-10-27T12:56:10.281Z"
   },
   {
    "duration": 5,
    "start_time": "2021-10-27T12:56:10.289Z"
   },
   {
    "duration": 31,
    "start_time": "2021-10-27T12:56:10.296Z"
   },
   {
    "duration": 1143,
    "start_time": "2021-10-27T12:56:10.329Z"
   },
   {
    "duration": 117562,
    "start_time": "2021-10-27T12:56:11.475Z"
   },
   {
    "duration": 4888,
    "start_time": "2021-10-27T12:58:09.039Z"
   },
   {
    "duration": 233,
    "start_time": "2021-10-27T12:58:13.930Z"
   },
   {
    "duration": 8135,
    "start_time": "2021-10-27T12:58:14.166Z"
   },
   {
    "duration": 434,
    "start_time": "2021-10-27T12:58:22.304Z"
   },
   {
    "duration": 6,
    "start_time": "2021-10-27T12:58:22.740Z"
   },
   {
    "duration": 1662,
    "start_time": "2021-10-27T13:02:31.644Z"
   },
   {
    "duration": 1088,
    "start_time": "2021-10-27T13:02:33.309Z"
   },
   {
    "duration": 25,
    "start_time": "2021-10-27T13:02:34.400Z"
   },
   {
    "duration": 41,
    "start_time": "2021-10-27T13:02:34.428Z"
   },
   {
    "duration": 12,
    "start_time": "2021-10-27T13:02:34.471Z"
   },
   {
    "duration": 22,
    "start_time": "2021-10-27T13:02:34.484Z"
   },
   {
    "duration": 16,
    "start_time": "2021-10-27T13:02:34.508Z"
   },
   {
    "duration": 32,
    "start_time": "2021-10-27T13:02:34.526Z"
   },
   {
    "duration": 29,
    "start_time": "2021-10-27T13:02:34.562Z"
   },
   {
    "duration": 35,
    "start_time": "2021-10-27T13:02:34.593Z"
   },
   {
    "duration": 195,
    "start_time": "2021-10-27T13:02:34.630Z"
   },
   {
    "duration": 61,
    "start_time": "2021-10-27T13:02:34.827Z"
   },
   {
    "duration": 5,
    "start_time": "2021-10-27T13:02:34.891Z"
   },
   {
    "duration": 42,
    "start_time": "2021-10-27T13:02:34.898Z"
   },
   {
    "duration": 50,
    "start_time": "2021-10-27T13:02:34.942Z"
   },
   {
    "duration": 1879,
    "start_time": "2021-10-27T13:02:34.994Z"
   },
   {
    "duration": 1499,
    "start_time": "2021-10-27T13:08:34.328Z"
   },
   {
    "duration": 1071,
    "start_time": "2021-10-27T13:08:35.830Z"
   },
   {
    "duration": 24,
    "start_time": "2021-10-27T13:08:36.904Z"
   },
   {
    "duration": 34,
    "start_time": "2021-10-27T13:08:36.930Z"
   },
   {
    "duration": 14,
    "start_time": "2021-10-27T13:08:36.967Z"
   },
   {
    "duration": 13,
    "start_time": "2021-10-27T13:08:36.983Z"
   },
   {
    "duration": 9,
    "start_time": "2021-10-27T13:08:36.998Z"
   },
   {
    "duration": 10,
    "start_time": "2021-10-27T13:08:37.011Z"
   },
   {
    "duration": 46,
    "start_time": "2021-10-27T13:08:37.023Z"
   },
   {
    "duration": 15,
    "start_time": "2021-10-27T13:08:37.071Z"
   },
   {
    "duration": 189,
    "start_time": "2021-10-27T13:08:37.088Z"
   },
   {
    "duration": 39,
    "start_time": "2021-10-27T13:08:37.279Z"
   },
   {
    "duration": 4,
    "start_time": "2021-10-27T13:08:37.319Z"
   },
   {
    "duration": 6,
    "start_time": "2021-10-27T13:08:37.325Z"
   },
   {
    "duration": 48,
    "start_time": "2021-10-27T13:08:37.333Z"
   },
   {
    "duration": 2183,
    "start_time": "2021-10-27T13:08:37.382Z"
   },
   {
    "duration": 1516,
    "start_time": "2021-10-27T13:11:08.806Z"
   },
   {
    "duration": 782,
    "start_time": "2021-10-27T13:11:10.324Z"
   },
   {
    "duration": 18,
    "start_time": "2021-10-27T13:11:11.108Z"
   },
   {
    "duration": 15,
    "start_time": "2021-10-27T13:11:11.129Z"
   },
   {
    "duration": 10,
    "start_time": "2021-10-27T13:11:11.164Z"
   },
   {
    "duration": 19,
    "start_time": "2021-10-27T13:11:11.177Z"
   },
   {
    "duration": 8,
    "start_time": "2021-10-27T13:11:11.198Z"
   },
   {
    "duration": 10,
    "start_time": "2021-10-27T13:11:11.208Z"
   },
   {
    "duration": 11,
    "start_time": "2021-10-27T13:11:11.221Z"
   },
   {
    "duration": 14,
    "start_time": "2021-10-27T13:11:11.263Z"
   },
   {
    "duration": 202,
    "start_time": "2021-10-27T13:11:11.279Z"
   },
   {
    "duration": 43,
    "start_time": "2021-10-27T13:11:11.483Z"
   },
   {
    "duration": 4,
    "start_time": "2021-10-27T13:11:11.528Z"
   },
   {
    "duration": 30,
    "start_time": "2021-10-27T13:11:11.534Z"
   },
   {
    "duration": 33,
    "start_time": "2021-10-27T13:11:11.566Z"
   },
   {
    "duration": 1270,
    "start_time": "2021-10-27T13:11:11.601Z"
   },
   {
    "duration": 24600,
    "start_time": "2021-10-27T13:11:12.873Z"
   },
   {
    "duration": 2037,
    "start_time": "2021-10-27T13:11:37.475Z"
   },
   {
    "duration": 453,
    "start_time": "2021-10-27T13:11:39.514Z"
   },
   {
    "duration": 8082,
    "start_time": "2021-10-27T13:11:39.969Z"
   },
   {
    "duration": 718,
    "start_time": "2021-10-27T13:11:48.053Z"
   },
   {
    "duration": 7,
    "start_time": "2021-10-27T13:11:48.773Z"
   },
   {
    "duration": 1322,
    "start_time": "2021-10-27T13:12:04.317Z"
   },
   {
    "duration": 1965,
    "start_time": "2021-10-27T13:14:15.945Z"
   },
   {
    "duration": 1242,
    "start_time": "2021-10-27T13:14:54.511Z"
   },
   {
    "duration": 774,
    "start_time": "2021-10-27T13:14:55.758Z"
   },
   {
    "duration": 30,
    "start_time": "2021-10-27T13:14:56.535Z"
   },
   {
    "duration": 17,
    "start_time": "2021-10-27T13:14:56.567Z"
   },
   {
    "duration": 13,
    "start_time": "2021-10-27T13:14:56.587Z"
   },
   {
    "duration": 12,
    "start_time": "2021-10-27T13:14:56.603Z"
   },
   {
    "duration": 10,
    "start_time": "2021-10-27T13:14:56.617Z"
   },
   {
    "duration": 10,
    "start_time": "2021-10-27T13:14:56.664Z"
   },
   {
    "duration": 12,
    "start_time": "2021-10-27T13:14:56.677Z"
   },
   {
    "duration": 15,
    "start_time": "2021-10-27T13:14:56.691Z"
   },
   {
    "duration": 215,
    "start_time": "2021-10-27T13:14:56.708Z"
   },
   {
    "duration": 51,
    "start_time": "2021-10-27T13:14:56.925Z"
   },
   {
    "duration": 5,
    "start_time": "2021-10-27T13:14:56.978Z"
   },
   {
    "duration": 7,
    "start_time": "2021-10-27T13:14:56.985Z"
   },
   {
    "duration": 26,
    "start_time": "2021-10-27T13:14:56.994Z"
   },
   {
    "duration": 1841,
    "start_time": "2021-10-27T13:14:57.022Z"
   },
   {
    "duration": 107668,
    "start_time": "2021-10-27T13:14:58.867Z"
   },
   {
    "duration": 5409,
    "start_time": "2021-10-27T13:16:46.538Z"
   },
   {
    "duration": 125,
    "start_time": "2021-10-27T13:16:51.950Z"
   },
   {
    "duration": 31542,
    "start_time": "2021-10-27T13:16:52.078Z"
   },
   {
    "duration": 1384,
    "start_time": "2021-10-27T13:17:23.622Z"
   },
   {
    "duration": 6,
    "start_time": "2021-10-27T13:17:25.008Z"
   },
   {
    "duration": 947,
    "start_time": "2021-10-27T13:18:41.417Z"
   },
   {
    "duration": 1589,
    "start_time": "2021-10-27T13:18:53.504Z"
   },
   {
    "duration": 434,
    "start_time": "2021-10-27T13:19:20.297Z"
   },
   {
    "duration": 307,
    "start_time": "2021-10-27T13:19:33.073Z"
   },
   {
    "duration": 308,
    "start_time": "2021-10-27T13:19:37.656Z"
   },
   {
    "duration": 306,
    "start_time": "2021-10-27T13:19:42.055Z"
   },
   {
    "duration": 319,
    "start_time": "2021-10-27T13:19:46.320Z"
   },
   {
    "duration": 1205,
    "start_time": "2021-10-27T13:19:51.318Z"
   },
   {
    "duration": 675,
    "start_time": "2021-10-27T13:19:56.607Z"
   },
   {
    "duration": 648,
    "start_time": "2021-10-27T13:20:00.375Z"
   },
   {
    "duration": 677,
    "start_time": "2021-10-27T13:20:04.888Z"
   },
   {
    "duration": 571,
    "start_time": "2021-10-27T13:20:09.593Z"
   },
   {
    "duration": 623,
    "start_time": "2021-10-27T13:20:14.481Z"
   },
   {
    "duration": 691,
    "start_time": "2021-10-27T13:20:19.151Z"
   },
   {
    "duration": 438,
    "start_time": "2021-10-27T13:20:23.408Z"
   },
   {
    "duration": 375,
    "start_time": "2021-10-27T13:20:27.167Z"
   },
   {
    "duration": 329,
    "start_time": "2021-10-27T13:20:30.640Z"
   },
   {
    "duration": 389,
    "start_time": "2021-10-27T13:20:34.576Z"
   },
   {
    "duration": 1953,
    "start_time": "2021-10-27T13:20:38.695Z"
   },
   {
    "duration": 388,
    "start_time": "2021-10-27T13:20:54.927Z"
   },
   {
    "duration": 383,
    "start_time": "2021-10-27T13:20:59.614Z"
   },
   {
    "duration": 387,
    "start_time": "2021-10-27T13:21:04.448Z"
   },
   {
    "duration": 388,
    "start_time": "2021-10-27T13:21:15.191Z"
   },
   {
    "duration": 2069,
    "start_time": "2021-10-27T13:21:23.930Z"
   },
   {
    "duration": 92,
    "start_time": "2021-10-27T13:21:29.472Z"
   },
   {
    "duration": 172,
    "start_time": "2021-10-27T13:21:33.303Z"
   },
   {
    "duration": 238,
    "start_time": "2021-10-27T13:21:37.447Z"
   },
   {
    "duration": 168,
    "start_time": "2021-10-27T13:21:41.926Z"
   },
   {
    "duration": 896,
    "start_time": "2021-10-27T13:21:55.559Z"
   },
   {
    "duration": 497,
    "start_time": "2021-10-27T13:22:02.160Z"
   },
   {
    "duration": 1280,
    "start_time": "2021-10-27T13:22:05.510Z"
   },
   {
    "duration": 1847,
    "start_time": "2021-10-27T13:22:11.883Z"
   },
   {
    "duration": 908,
    "start_time": "2021-10-27T13:22:18.295Z"
   },
   {
    "duration": 1648,
    "start_time": "2021-10-27T13:22:22.455Z"
   },
   {
    "duration": 1974,
    "start_time": "2021-10-27T13:22:27.512Z"
   },
   {
    "duration": 2367,
    "start_time": "2021-10-27T13:22:33.870Z"
   },
   {
    "duration": 2624,
    "start_time": "2021-10-27T13:22:39.846Z"
   },
   {
    "duration": 2916,
    "start_time": "2021-10-27T13:22:46.390Z"
   },
   {
    "duration": 2089,
    "start_time": "2021-10-27T13:22:53.462Z"
   },
   {
    "duration": 377,
    "start_time": "2021-10-27T13:23:05.573Z"
   },
   {
    "duration": 8145,
    "start_time": "2021-10-27T13:23:18.167Z"
   },
   {
    "duration": 15962,
    "start_time": "2021-10-27T13:23:38.839Z"
   },
   {
    "duration": 24056,
    "start_time": "2021-10-27T13:24:00.197Z"
   },
   {
    "duration": 32155,
    "start_time": "2021-10-27T13:24:30.453Z"
   },
   {
    "duration": 41028,
    "start_time": "2021-10-27T13:25:08.220Z"
   },
   {
    "duration": 49043,
    "start_time": "2021-10-27T13:25:55.773Z"
   },
   {
    "duration": 23764,
    "start_time": "2021-10-27T13:27:27.100Z"
   },
   {
    "duration": 1315,
    "start_time": "2021-10-27T13:29:26.125Z"
   },
   {
    "duration": 997,
    "start_time": "2021-10-27T13:29:27.442Z"
   },
   {
    "duration": 29,
    "start_time": "2021-10-27T13:29:28.442Z"
   },
   {
    "duration": 23,
    "start_time": "2021-10-27T13:29:28.474Z"
   },
   {
    "duration": 16,
    "start_time": "2021-10-27T13:29:28.500Z"
   },
   {
    "duration": 45,
    "start_time": "2021-10-27T13:29:28.519Z"
   },
   {
    "duration": 12,
    "start_time": "2021-10-27T13:29:28.567Z"
   },
   {
    "duration": 11,
    "start_time": "2021-10-27T13:29:28.581Z"
   },
   {
    "duration": 17,
    "start_time": "2021-10-27T13:29:28.596Z"
   },
   {
    "duration": 50,
    "start_time": "2021-10-27T13:29:28.617Z"
   },
   {
    "duration": 356,
    "start_time": "2021-10-27T13:29:28.669Z"
   },
   {
    "duration": 76,
    "start_time": "2021-10-27T13:29:29.027Z"
   },
   {
    "duration": 6,
    "start_time": "2021-10-27T13:29:29.106Z"
   },
   {
    "duration": 3,
    "start_time": "2021-10-27T13:29:29.114Z"
   },
   {
    "duration": 51,
    "start_time": "2021-10-27T13:29:29.120Z"
   },
   {
    "duration": 3089,
    "start_time": "2021-10-27T13:29:29.174Z"
   },
   {
    "duration": 124619,
    "start_time": "2021-10-27T13:29:32.277Z"
   },
   {
    "duration": 2076,
    "start_time": "2021-10-27T13:31:36.898Z"
   },
   {
    "duration": 188,
    "start_time": "2021-10-27T13:31:38.976Z"
   },
   {
    "duration": 32434,
    "start_time": "2021-10-27T13:31:39.168Z"
   },
   {
    "duration": 407,
    "start_time": "2021-10-27T13:32:11.604Z"
   },
   {
    "duration": 10,
    "start_time": "2021-10-27T13:32:12.013Z"
   },
   {
    "duration": 31135,
    "start_time": "2021-10-27T13:33:23.058Z"
   },
   {
    "duration": 173733,
    "start_time": "2021-10-27T13:34:13.800Z"
   },
   {
    "duration": 5564,
    "start_time": "2021-10-27T13:38:00.639Z"
   },
   {
    "duration": 4014,
    "start_time": "2021-10-27T13:38:17.088Z"
   },
   {
    "duration": 19664,
    "start_time": "2021-10-27T13:38:32.849Z"
   },
   {
    "duration": 59,
    "start_time": "2021-10-27T13:39:46.917Z"
   },
   {
    "duration": 5,
    "start_time": "2021-10-27T13:40:20.477Z"
   },
   {
    "duration": 859,
    "start_time": "2021-10-27T13:41:05.405Z"
   },
   {
    "duration": 1903,
    "start_time": "2021-10-27T13:41:15.261Z"
   },
   {
    "duration": 20,
    "start_time": "2021-10-27T13:46:55.923Z"
   },
   {
    "duration": 1244,
    "start_time": "2021-10-27T13:47:04.882Z"
   },
   {
    "duration": 5245,
    "start_time": "2021-10-27T13:47:06.128Z"
   },
   {
    "duration": 17,
    "start_time": "2021-10-27T13:47:11.375Z"
   },
   {
    "duration": 15,
    "start_time": "2021-10-27T13:47:11.394Z"
   },
   {
    "duration": 11,
    "start_time": "2021-10-27T13:47:11.411Z"
   },
   {
    "duration": 12,
    "start_time": "2021-10-27T13:47:11.423Z"
   },
   {
    "duration": 28,
    "start_time": "2021-10-27T13:47:11.436Z"
   },
   {
    "duration": 9,
    "start_time": "2021-10-27T13:47:11.467Z"
   },
   {
    "duration": 13,
    "start_time": "2021-10-27T13:47:11.479Z"
   },
   {
    "duration": 15,
    "start_time": "2021-10-27T13:47:11.493Z"
   },
   {
    "duration": 204,
    "start_time": "2021-10-27T13:47:11.510Z"
   },
   {
    "duration": 58,
    "start_time": "2021-10-27T13:47:11.716Z"
   },
   {
    "duration": 5,
    "start_time": "2021-10-27T13:47:11.776Z"
   },
   {
    "duration": 6,
    "start_time": "2021-10-27T13:47:11.783Z"
   },
   {
    "duration": 28,
    "start_time": "2021-10-27T13:47:11.791Z"
   },
   {
    "duration": 1646,
    "start_time": "2021-10-27T13:47:11.821Z"
   },
   {
    "duration": 19808,
    "start_time": "2021-10-27T13:47:13.469Z"
   },
   {
    "duration": 2071,
    "start_time": "2021-10-27T13:47:33.280Z"
   },
   {
    "duration": 64,
    "start_time": "2021-10-27T13:47:35.353Z"
   },
   {
    "duration": 344,
    "start_time": "2021-10-27T13:47:35.419Z"
   },
   {
    "duration": 3915,
    "start_time": "2021-10-27T13:47:35.766Z"
   },
   {
    "duration": 382,
    "start_time": "2021-10-27T13:47:39.683Z"
   },
   {
    "duration": 6,
    "start_time": "2021-10-27T13:47:40.068Z"
   },
   {
    "duration": 4,
    "start_time": "2021-10-27T13:54:21.017Z"
   },
   {
    "duration": 4,
    "start_time": "2021-10-27T13:54:34.377Z"
   },
   {
    "duration": 4,
    "start_time": "2021-10-27T13:55:08.017Z"
   },
   {
    "duration": 1623,
    "start_time": "2021-10-27T13:55:13.840Z"
   },
   {
    "duration": 3,
    "start_time": "2021-10-27T13:55:32.000Z"
   },
   {
    "duration": 1598,
    "start_time": "2021-10-27T13:55:33.672Z"
   },
   {
    "duration": 3,
    "start_time": "2021-10-27T13:56:31.976Z"
   },
   {
    "duration": 1864,
    "start_time": "2021-10-27T13:56:35.007Z"
   },
   {
    "duration": 20938,
    "start_time": "2021-10-27T13:56:50.472Z"
   },
   {
    "duration": 1950,
    "start_time": "2021-10-27T13:57:33.119Z"
   },
   {
    "duration": 60,
    "start_time": "2021-10-27T13:57:47.991Z"
   },
   {
    "duration": 4,
    "start_time": "2021-10-27T13:58:16.654Z"
   },
   {
    "duration": 63,
    "start_time": "2021-10-27T13:58:20.079Z"
   },
   {
    "duration": 4,
    "start_time": "2021-10-27T13:58:28.822Z"
   },
   {
    "duration": 66,
    "start_time": "2021-10-27T13:58:31.471Z"
   },
   {
    "duration": 1266,
    "start_time": "2021-10-27T13:58:46.977Z"
   },
   {
    "duration": 814,
    "start_time": "2021-10-27T13:58:48.245Z"
   },
   {
    "duration": 17,
    "start_time": "2021-10-27T13:58:49.062Z"
   },
   {
    "duration": 15,
    "start_time": "2021-10-27T13:58:49.082Z"
   },
   {
    "duration": 12,
    "start_time": "2021-10-27T13:58:49.099Z"
   },
   {
    "duration": 13,
    "start_time": "2021-10-27T13:58:49.113Z"
   },
   {
    "duration": 41,
    "start_time": "2021-10-27T13:58:49.129Z"
   },
   {
    "duration": 15,
    "start_time": "2021-10-27T13:58:49.173Z"
   },
   {
    "duration": 53,
    "start_time": "2021-10-27T13:58:49.191Z"
   },
   {
    "duration": 30,
    "start_time": "2021-10-27T13:58:49.246Z"
   },
   {
    "duration": 197,
    "start_time": "2021-10-27T13:58:49.278Z"
   },
   {
    "duration": 44,
    "start_time": "2021-10-27T13:58:49.477Z"
   },
   {
    "duration": 5,
    "start_time": "2021-10-27T13:58:49.523Z"
   },
   {
    "duration": 31,
    "start_time": "2021-10-27T13:58:49.530Z"
   },
   {
    "duration": 53,
    "start_time": "2021-10-27T13:58:49.563Z"
   },
   {
    "duration": 3,
    "start_time": "2021-10-27T13:58:49.619Z"
   },
   {
    "duration": 1640,
    "start_time": "2021-10-27T13:58:49.625Z"
   },
   {
    "duration": 20862,
    "start_time": "2021-10-27T13:58:51.271Z"
   },
   {
    "duration": 2044,
    "start_time": "2021-10-27T13:59:12.135Z"
   },
   {
    "duration": 64,
    "start_time": "2021-10-27T13:59:14.181Z"
   },
   {
    "duration": 129,
    "start_time": "2021-10-27T13:59:14.247Z"
   },
   {
    "duration": 4156,
    "start_time": "2021-10-27T13:59:14.464Z"
   },
   {
    "duration": 395,
    "start_time": "2021-10-27T13:59:18.623Z"
   },
   {
    "duration": 6,
    "start_time": "2021-10-27T13:59:19.020Z"
   },
   {
    "duration": 340,
    "start_time": "2021-10-27T14:01:56.935Z"
   },
   {
    "duration": 5,
    "start_time": "2021-10-27T14:02:10.358Z"
   },
   {
    "duration": 3,
    "start_time": "2021-10-27T14:03:45.782Z"
   },
   {
    "duration": 74,
    "start_time": "2021-10-27T14:03:49.629Z"
   },
   {
    "duration": 4,
    "start_time": "2021-10-27T14:04:00.070Z"
   },
   {
    "duration": 55,
    "start_time": "2021-10-27T14:04:02.294Z"
   },
   {
    "duration": 3,
    "start_time": "2021-10-27T14:04:13.341Z"
   },
   {
    "duration": 56,
    "start_time": "2021-10-27T14:04:15.549Z"
   },
   {
    "duration": 3,
    "start_time": "2021-10-27T14:04:25.980Z"
   },
   {
    "duration": 56,
    "start_time": "2021-10-27T14:04:28.485Z"
   },
   {
    "duration": 3,
    "start_time": "2021-10-27T14:04:33.214Z"
   },
   {
    "duration": 61,
    "start_time": "2021-10-27T14:04:35.285Z"
   },
   {
    "duration": 3,
    "start_time": "2021-10-27T14:04:39.838Z"
   },
   {
    "duration": 1203,
    "start_time": "2021-10-27T14:04:46.351Z"
   },
   {
    "duration": 877,
    "start_time": "2021-10-27T14:04:47.556Z"
   },
   {
    "duration": 31,
    "start_time": "2021-10-27T14:04:48.436Z"
   },
   {
    "duration": 14,
    "start_time": "2021-10-27T14:04:48.470Z"
   },
   {
    "duration": 20,
    "start_time": "2021-10-27T14:04:48.486Z"
   },
   {
    "duration": 12,
    "start_time": "2021-10-27T14:04:48.508Z"
   },
   {
    "duration": 8,
    "start_time": "2021-10-27T14:04:48.522Z"
   },
   {
    "duration": 34,
    "start_time": "2021-10-27T14:04:48.532Z"
   },
   {
    "duration": 15,
    "start_time": "2021-10-27T14:04:48.569Z"
   },
   {
    "duration": 15,
    "start_time": "2021-10-27T14:04:48.586Z"
   },
   {
    "duration": 195,
    "start_time": "2021-10-27T14:04:48.603Z"
   },
   {
    "duration": 37,
    "start_time": "2021-10-27T14:04:48.800Z"
   },
   {
    "duration": 25,
    "start_time": "2021-10-27T14:04:48.839Z"
   },
   {
    "duration": 23,
    "start_time": "2021-10-27T14:04:48.866Z"
   },
   {
    "duration": 29,
    "start_time": "2021-10-27T14:04:48.891Z"
   },
   {
    "duration": 4,
    "start_time": "2021-10-27T14:04:48.921Z"
   },
   {
    "duration": 2049,
    "start_time": "2021-10-27T14:04:48.926Z"
   },
   {
    "duration": 20343,
    "start_time": "2021-10-27T14:04:50.977Z"
   },
   {
    "duration": 1929,
    "start_time": "2021-10-27T14:05:11.322Z"
   },
   {
    "duration": 62,
    "start_time": "2021-10-27T14:05:13.253Z"
   },
   {
    "duration": 4,
    "start_time": "2021-10-27T14:05:13.317Z"
   },
   {
    "duration": 545,
    "start_time": "2021-10-27T14:05:13.322Z"
   },
   {
    "duration": 3953,
    "start_time": "2021-10-27T14:05:13.869Z"
   },
   {
    "duration": 384,
    "start_time": "2021-10-27T14:05:17.824Z"
   },
   {
    "duration": 6,
    "start_time": "2021-10-27T14:05:18.210Z"
   },
   {
    "duration": 4,
    "start_time": "2021-10-27T14:10:14.296Z"
   },
   {
    "duration": 1179,
    "start_time": "2021-10-27T14:16:59.545Z"
   },
   {
    "duration": 733,
    "start_time": "2021-10-27T14:17:00.726Z"
   },
   {
    "duration": 16,
    "start_time": "2021-10-27T14:17:01.464Z"
   },
   {
    "duration": 33,
    "start_time": "2021-10-27T14:17:01.481Z"
   },
   {
    "duration": 24,
    "start_time": "2021-10-27T14:17:01.516Z"
   },
   {
    "duration": 36,
    "start_time": "2021-10-27T14:17:01.542Z"
   },
   {
    "duration": 26,
    "start_time": "2021-10-27T14:17:01.580Z"
   },
   {
    "duration": 52,
    "start_time": "2021-10-27T14:17:01.608Z"
   },
   {
    "duration": 26,
    "start_time": "2021-10-27T14:17:01.663Z"
   },
   {
    "duration": 23,
    "start_time": "2021-10-27T14:17:01.692Z"
   },
   {
    "duration": 177,
    "start_time": "2021-10-27T14:17:01.717Z"
   },
   {
    "duration": 44,
    "start_time": "2021-10-27T14:17:01.896Z"
   },
   {
    "duration": 21,
    "start_time": "2021-10-27T14:17:01.942Z"
   },
   {
    "duration": 16,
    "start_time": "2021-10-27T14:17:01.966Z"
   },
   {
    "duration": 36,
    "start_time": "2021-10-27T14:17:01.984Z"
   },
   {
    "duration": 5,
    "start_time": "2021-10-27T14:17:02.022Z"
   },
   {
    "duration": 2370,
    "start_time": "2021-10-27T14:17:02.029Z"
   },
   {
    "duration": 15973,
    "start_time": "2021-10-27T14:17:04.401Z"
   },
   {
    "duration": 1533,
    "start_time": "2021-10-27T14:17:20.376Z"
   },
   {
    "duration": 66,
    "start_time": "2021-10-27T14:17:21.911Z"
   },
   {
    "duration": 287,
    "start_time": "2021-10-27T14:17:21.979Z"
   },
   {
    "duration": 3944,
    "start_time": "2021-10-27T14:17:22.269Z"
   },
   {
    "duration": 363,
    "start_time": "2021-10-27T14:17:26.215Z"
   },
   {
    "duration": 5,
    "start_time": "2021-10-27T14:17:26.580Z"
   },
   {
    "duration": 331,
    "start_time": "2021-10-27T14:23:30.516Z"
   },
   {
    "duration": 5,
    "start_time": "2021-10-27T14:23:36.188Z"
   },
   {
    "duration": 4,
    "start_time": "2021-10-27T14:23:47.946Z"
   },
   {
    "duration": 277,
    "start_time": "2021-10-27T14:23:55.787Z"
   },
   {
    "duration": 5,
    "start_time": "2021-10-27T14:24:00.514Z"
   },
   {
    "duration": 6,
    "start_time": "2021-10-27T14:24:17.954Z"
   },
   {
    "duration": 8,
    "start_time": "2021-10-27T14:25:01.858Z"
   },
   {
    "duration": 5,
    "start_time": "2021-10-27T14:26:34.184Z"
   },
   {
    "duration": 5,
    "start_time": "2021-10-27T14:27:06.377Z"
   },
   {
    "duration": 5,
    "start_time": "2021-10-27T14:28:00.521Z"
   },
   {
    "duration": 9,
    "start_time": "2021-10-27T14:35:38.334Z"
   },
   {
    "duration": 11,
    "start_time": "2021-10-27T14:35:44.796Z"
   },
   {
    "duration": 28,
    "start_time": "2021-10-27T14:36:06.389Z"
   },
   {
    "duration": 14,
    "start_time": "2021-10-27T14:37:08.621Z"
   },
   {
    "duration": 10,
    "start_time": "2021-10-27T14:37:15.412Z"
   },
   {
    "duration": 12,
    "start_time": "2021-10-27T14:37:21.358Z"
   },
   {
    "duration": 1249,
    "start_time": "2021-10-27T14:38:30.080Z"
   },
   {
    "duration": 804,
    "start_time": "2021-10-27T14:38:31.331Z"
   },
   {
    "duration": 26,
    "start_time": "2021-10-27T14:38:32.137Z"
   },
   {
    "duration": 16,
    "start_time": "2021-10-27T14:38:32.165Z"
   },
   {
    "duration": 11,
    "start_time": "2021-10-27T14:38:32.184Z"
   },
   {
    "duration": 13,
    "start_time": "2021-10-27T14:38:32.198Z"
   },
   {
    "duration": 11,
    "start_time": "2021-10-27T14:38:32.213Z"
   },
   {
    "duration": 44,
    "start_time": "2021-10-27T14:38:32.226Z"
   },
   {
    "duration": 10,
    "start_time": "2021-10-27T14:38:32.273Z"
   },
   {
    "duration": 16,
    "start_time": "2021-10-27T14:38:32.285Z"
   },
   {
    "duration": 208,
    "start_time": "2021-10-27T14:38:32.303Z"
   },
   {
    "duration": 73,
    "start_time": "2021-10-27T14:38:32.513Z"
   },
   {
    "duration": 5,
    "start_time": "2021-10-27T14:38:32.588Z"
   },
   {
    "duration": 23,
    "start_time": "2021-10-27T14:38:32.595Z"
   },
   {
    "duration": 306,
    "start_time": "2021-10-27T14:38:32.620Z"
   },
   {
    "duration": 6,
    "start_time": "2021-10-27T14:38:32.928Z"
   },
   {
    "duration": 9,
    "start_time": "2021-10-27T14:38:32.936Z"
   },
   {
    "duration": 36,
    "start_time": "2021-10-27T14:38:32.947Z"
   },
   {
    "duration": 5,
    "start_time": "2021-10-27T14:38:32.984Z"
   },
   {
    "duration": 1772,
    "start_time": "2021-10-27T14:38:32.991Z"
   },
   {
    "duration": 16043,
    "start_time": "2021-10-27T14:38:34.765Z"
   },
   {
    "duration": 1731,
    "start_time": "2021-10-27T14:38:50.810Z"
   },
   {
    "duration": 69,
    "start_time": "2021-10-27T14:38:52.544Z"
   },
   {
    "duration": 158,
    "start_time": "2021-10-27T14:38:52.615Z"
   },
   {
    "duration": 4198,
    "start_time": "2021-10-27T14:38:52.775Z"
   },
   {
    "duration": 378,
    "start_time": "2021-10-27T14:38:56.975Z"
   },
   {
    "duration": 10,
    "start_time": "2021-10-27T14:38:57.356Z"
   },
   {
    "duration": 256,
    "start_time": "2021-10-27T14:38:58.895Z"
   },
   {
    "duration": 330,
    "start_time": "2021-10-27T14:39:16.198Z"
   },
   {
    "duration": 335,
    "start_time": "2021-10-27T14:39:22.702Z"
   },
   {
    "duration": 704,
    "start_time": "2021-10-27T14:39:34.503Z"
   },
   {
    "duration": 841,
    "start_time": "2021-10-27T14:39:55.831Z"
   },
   {
    "duration": 850,
    "start_time": "2021-10-27T14:40:20.550Z"
   },
   {
    "duration": 988,
    "start_time": "2021-10-27T14:40:30.622Z"
   },
   {
    "duration": 934,
    "start_time": "2021-10-27T14:41:03.796Z"
   },
   {
    "duration": 793,
    "start_time": "2021-10-27T14:41:20.629Z"
   },
   {
    "duration": 1040,
    "start_time": "2021-10-27T14:41:41.093Z"
   },
   {
    "duration": 842,
    "start_time": "2021-10-27T14:41:49.821Z"
   },
   {
    "duration": 809,
    "start_time": "2021-10-27T14:42:16.057Z"
   },
   {
    "duration": 1053,
    "start_time": "2021-10-27T14:42:29.492Z"
   },
   {
    "duration": 851,
    "start_time": "2021-10-27T14:43:01.436Z"
   },
   {
    "duration": 1078,
    "start_time": "2021-10-27T14:43:15.893Z"
   },
   {
    "duration": 918,
    "start_time": "2021-10-27T14:43:35.029Z"
   },
   {
    "duration": 847,
    "start_time": "2021-10-27T14:43:49.540Z"
   },
   {
    "duration": 17,
    "start_time": "2021-10-27T14:46:07.812Z"
   },
   {
    "duration": 17,
    "start_time": "2021-10-27T14:46:26.299Z"
   },
   {
    "duration": 1015,
    "start_time": "2021-10-27T14:46:27.083Z"
   },
   {
    "duration": 845,
    "start_time": "2021-10-27T14:46:32.204Z"
   },
   {
    "duration": 842,
    "start_time": "2021-10-27T14:46:35.572Z"
   },
   {
    "duration": 1568,
    "start_time": "2021-10-27T14:47:11.281Z"
   },
   {
    "duration": 1099,
    "start_time": "2021-10-27T14:47:12.851Z"
   },
   {
    "duration": 26,
    "start_time": "2021-10-27T14:47:13.953Z"
   },
   {
    "duration": 20,
    "start_time": "2021-10-27T14:47:13.982Z"
   },
   {
    "duration": 14,
    "start_time": "2021-10-27T14:47:14.005Z"
   },
   {
    "duration": 13,
    "start_time": "2021-10-27T14:47:14.021Z"
   },
   {
    "duration": 33,
    "start_time": "2021-10-27T14:47:14.036Z"
   },
   {
    "duration": 9,
    "start_time": "2021-10-27T14:47:14.072Z"
   },
   {
    "duration": 11,
    "start_time": "2021-10-27T14:47:14.084Z"
   },
   {
    "duration": 17,
    "start_time": "2021-10-27T14:47:14.097Z"
   },
   {
    "duration": 296,
    "start_time": "2021-10-27T14:47:14.116Z"
   },
   {
    "duration": 72,
    "start_time": "2021-10-27T14:47:14.414Z"
   },
   {
    "duration": 7,
    "start_time": "2021-10-27T14:47:14.488Z"
   },
   {
    "duration": 17,
    "start_time": "2021-10-27T14:47:14.497Z"
   },
   {
    "duration": 1424,
    "start_time": "2021-10-27T14:47:14.516Z"
   },
   {
    "duration": 942,
    "start_time": "2021-10-27T14:47:15.942Z"
   },
   {
    "duration": 854,
    "start_time": "2021-10-27T14:47:16.886Z"
   },
   {
    "duration": 5,
    "start_time": "2021-10-27T14:47:17.742Z"
   },
   {
    "duration": 15,
    "start_time": "2021-10-27T14:47:17.749Z"
   },
   {
    "duration": 30,
    "start_time": "2021-10-27T14:47:17.766Z"
   },
   {
    "duration": 4,
    "start_time": "2021-10-27T14:47:17.798Z"
   },
   {
    "duration": 1569,
    "start_time": "2021-10-27T14:47:17.804Z"
   },
   {
    "duration": 15665,
    "start_time": "2021-10-27T14:47:19.466Z"
   },
   {
    "duration": 1619,
    "start_time": "2021-10-27T14:47:35.133Z"
   },
   {
    "duration": 59,
    "start_time": "2021-10-27T14:47:36.754Z"
   },
   {
    "duration": 155,
    "start_time": "2021-10-27T14:47:36.815Z"
   },
   {
    "duration": 4005,
    "start_time": "2021-10-27T14:47:36.973Z"
   },
   {
    "duration": 384,
    "start_time": "2021-10-27T14:47:40.980Z"
   },
   {
    "duration": 6,
    "start_time": "2021-10-27T14:47:41.366Z"
   },
   {
    "duration": 4,
    "start_time": "2021-10-27T14:50:19.166Z"
   },
   {
    "duration": 319,
    "start_time": "2021-10-27T14:52:22.685Z"
   },
   {
    "duration": 314,
    "start_time": "2021-10-27T14:53:32.272Z"
   },
   {
    "duration": 707,
    "start_time": "2021-10-27T14:54:16.064Z"
   },
   {
    "duration": 545,
    "start_time": "2021-10-27T14:54:50.770Z"
   },
   {
    "duration": 20,
    "start_time": "2021-10-27T14:55:19.735Z"
   },
   {
    "duration": 16,
    "start_time": "2021-10-27T14:55:48.859Z"
   },
   {
    "duration": 22,
    "start_time": "2021-10-27T14:56:09.775Z"
   },
   {
    "duration": 17,
    "start_time": "2021-10-27T14:56:23.367Z"
   },
   {
    "duration": 346,
    "start_time": "2021-10-27T15:02:53.571Z"
   },
   {
    "duration": 748,
    "start_time": "2021-10-27T15:03:01.855Z"
   },
   {
    "duration": 237,
    "start_time": "2021-10-27T15:03:31.492Z"
   },
   {
    "duration": 252,
    "start_time": "2021-10-27T15:03:44.291Z"
   },
   {
    "duration": 6,
    "start_time": "2021-10-27T15:04:47.437Z"
   },
   {
    "duration": 14,
    "start_time": "2021-10-27T15:04:55.265Z"
   },
   {
    "duration": 12,
    "start_time": "2021-10-27T15:05:32.275Z"
   },
   {
    "duration": 15,
    "start_time": "2021-10-27T15:05:34.779Z"
   },
   {
    "duration": 13,
    "start_time": "2021-10-27T15:05:55.314Z"
   },
   {
    "duration": 15,
    "start_time": "2021-10-27T15:05:57.803Z"
   },
   {
    "duration": 13,
    "start_time": "2021-10-27T15:07:03.641Z"
   },
   {
    "duration": 16,
    "start_time": "2021-10-27T15:07:16.233Z"
   },
   {
    "duration": 919,
    "start_time": "2021-10-27T15:10:30.079Z"
   },
   {
    "duration": 249,
    "start_time": "2021-10-27T15:11:51.490Z"
   },
   {
    "duration": 251,
    "start_time": "2021-10-27T15:12:24.406Z"
   },
   {
    "duration": 7,
    "start_time": "2021-10-27T15:13:03.439Z"
   },
   {
    "duration": 14,
    "start_time": "2021-10-27T15:13:11.830Z"
   },
   {
    "duration": 10,
    "start_time": "2021-10-27T15:13:20.534Z"
   },
   {
    "duration": 15,
    "start_time": "2021-10-27T15:13:23.855Z"
   },
   {
    "duration": 13,
    "start_time": "2021-10-27T15:14:10.821Z"
   },
   {
    "duration": 24,
    "start_time": "2021-10-27T15:14:13.454Z"
   },
   {
    "duration": 14,
    "start_time": "2021-10-27T15:14:35.581Z"
   },
   {
    "duration": 6183,
    "start_time": "2021-10-27T15:15:43.716Z"
   },
   {
    "duration": 556,
    "start_time": "2021-10-27T15:17:53.784Z"
   },
   {
    "duration": 19,
    "start_time": "2021-10-27T15:18:01.435Z"
   },
   {
    "duration": 4,
    "start_time": "2021-10-27T15:18:19.972Z"
   },
   {
    "duration": 800,
    "start_time": "2021-10-27T15:18:24.490Z"
   },
   {
    "duration": 790,
    "start_time": "2021-10-27T15:18:31.212Z"
   },
   {
    "duration": 3,
    "start_time": "2021-10-27T15:18:42.939Z"
   },
   {
    "duration": 920,
    "start_time": "2021-10-27T15:18:48.722Z"
   },
   {
    "duration": 82,
    "start_time": "2021-10-27T15:19:12.098Z"
   },
   {
    "duration": 558,
    "start_time": "2021-10-27T15:19:19.427Z"
   },
   {
    "duration": 9,
    "start_time": "2021-10-27T15:19:28.244Z"
   },
   {
    "duration": 545,
    "start_time": "2021-10-27T15:20:03.699Z"
   },
   {
    "duration": 9,
    "start_time": "2021-10-27T15:20:04.716Z"
   },
   {
    "duration": 1692,
    "start_time": "2021-10-27T15:21:12.515Z"
   },
   {
    "duration": 17,
    "start_time": "2021-10-27T15:21:20.762Z"
   },
   {
    "duration": 946,
    "start_time": "2021-10-27T15:22:10.706Z"
   },
   {
    "duration": 1070,
    "start_time": "2021-10-27T15:22:40.625Z"
   },
   {
    "duration": 997,
    "start_time": "2021-10-27T15:23:05.514Z"
   },
   {
    "duration": 1062,
    "start_time": "2021-10-27T15:23:11.505Z"
   },
   {
    "duration": 21,
    "start_time": "2021-10-27T15:25:13.839Z"
   },
   {
    "duration": 1198,
    "start_time": "2021-10-27T15:26:54.320Z"
   },
   {
    "duration": 815,
    "start_time": "2021-10-27T15:26:55.521Z"
   },
   {
    "duration": 28,
    "start_time": "2021-10-27T15:26:56.338Z"
   },
   {
    "duration": 18,
    "start_time": "2021-10-27T15:26:56.369Z"
   },
   {
    "duration": 18,
    "start_time": "2021-10-27T15:26:56.389Z"
   },
   {
    "duration": 13,
    "start_time": "2021-10-27T15:26:56.409Z"
   },
   {
    "duration": 14,
    "start_time": "2021-10-27T15:26:56.425Z"
   },
   {
    "duration": 26,
    "start_time": "2021-10-27T15:26:56.442Z"
   },
   {
    "duration": 11,
    "start_time": "2021-10-27T15:26:56.471Z"
   },
   {
    "duration": 16,
    "start_time": "2021-10-27T15:26:56.484Z"
   },
   {
    "duration": 208,
    "start_time": "2021-10-27T15:26:56.502Z"
   },
   {
    "duration": 43,
    "start_time": "2021-10-27T15:26:56.712Z"
   },
   {
    "duration": 6,
    "start_time": "2021-10-27T15:26:56.764Z"
   },
   {
    "duration": 18,
    "start_time": "2021-10-27T15:26:56.774Z"
   },
   {
    "duration": 937,
    "start_time": "2021-10-27T15:26:56.794Z"
   },
   {
    "duration": 1058,
    "start_time": "2021-10-27T15:26:57.733Z"
   },
   {
    "duration": 886,
    "start_time": "2021-10-27T15:26:58.793Z"
   },
   {
    "duration": 3,
    "start_time": "2021-10-27T15:26:59.681Z"
   },
   {
    "duration": 34,
    "start_time": "2021-10-27T15:26:59.686Z"
   },
   {
    "duration": 18,
    "start_time": "2021-10-27T15:26:59.722Z"
   },
   {
    "duration": 53,
    "start_time": "2021-10-27T15:26:59.742Z"
   },
   {
    "duration": 1662,
    "start_time": "2021-10-27T15:26:59.797Z"
   },
   {
    "duration": 26,
    "start_time": "2021-10-27T15:27:01.465Z"
   },
   {
    "duration": 916,
    "start_time": "2021-10-27T15:27:01.493Z"
   },
   {
    "duration": 4,
    "start_time": "2021-10-27T15:27:02.411Z"
   },
   {
    "duration": 16,
    "start_time": "2021-10-27T15:27:02.417Z"
   },
   {
    "duration": 49,
    "start_time": "2021-10-27T15:27:02.434Z"
   },
   {
    "duration": 4,
    "start_time": "2021-10-27T15:27:02.485Z"
   },
   {
    "duration": 2277,
    "start_time": "2021-10-27T15:27:02.491Z"
   },
   {
    "duration": 17148,
    "start_time": "2021-10-27T15:27:04.775Z"
   },
   {
    "duration": 1607,
    "start_time": "2021-10-27T15:27:21.925Z"
   },
   {
    "duration": 59,
    "start_time": "2021-10-27T15:27:23.534Z"
   },
   {
    "duration": 276,
    "start_time": "2021-10-27T15:27:23.595Z"
   },
   {
    "duration": 4201,
    "start_time": "2021-10-27T15:27:23.878Z"
   },
   {
    "duration": 421,
    "start_time": "2021-10-27T15:27:28.081Z"
   },
   {
    "duration": 7,
    "start_time": "2021-10-27T15:27:28.504Z"
   },
   {
    "duration": 1222,
    "start_time": "2021-10-27T15:52:37.867Z"
   },
   {
    "duration": 801,
    "start_time": "2021-10-27T15:52:39.092Z"
   },
   {
    "duration": 17,
    "start_time": "2021-10-27T15:52:39.895Z"
   },
   {
    "duration": 15,
    "start_time": "2021-10-27T15:52:39.914Z"
   },
   {
    "duration": 44,
    "start_time": "2021-10-27T15:52:39.931Z"
   },
   {
    "duration": 12,
    "start_time": "2021-10-27T15:52:39.977Z"
   },
   {
    "duration": 8,
    "start_time": "2021-10-27T15:52:39.991Z"
   },
   {
    "duration": 21,
    "start_time": "2021-10-27T15:52:40.002Z"
   },
   {
    "duration": 18,
    "start_time": "2021-10-27T15:52:40.027Z"
   },
   {
    "duration": 30,
    "start_time": "2021-10-27T15:52:40.048Z"
   },
   {
    "duration": 186,
    "start_time": "2021-10-27T15:52:40.080Z"
   },
   {
    "duration": 44,
    "start_time": "2021-10-27T15:52:40.268Z"
   },
   {
    "duration": 5,
    "start_time": "2021-10-27T15:52:40.314Z"
   },
   {
    "duration": 16,
    "start_time": "2021-10-27T15:52:40.320Z"
   },
   {
    "duration": 1432,
    "start_time": "2021-10-27T15:52:40.338Z"
   },
   {
    "duration": 1545,
    "start_time": "2021-10-27T15:52:41.773Z"
   },
   {
    "duration": 880,
    "start_time": "2021-10-27T15:52:43.319Z"
   },
   {
    "duration": 4,
    "start_time": "2021-10-27T15:52:44.200Z"
   },
   {
    "duration": 44,
    "start_time": "2021-10-27T15:52:44.205Z"
   },
   {
    "duration": 27,
    "start_time": "2021-10-27T15:52:44.251Z"
   },
   {
    "duration": 29,
    "start_time": "2021-10-27T15:52:44.280Z"
   },
   {
    "duration": 1706,
    "start_time": "2021-10-27T15:52:44.311Z"
   },
   {
    "duration": 19,
    "start_time": "2021-10-27T15:52:46.021Z"
   },
   {
    "duration": 971,
    "start_time": "2021-10-27T15:52:46.042Z"
   },
   {
    "duration": 5,
    "start_time": "2021-10-27T15:52:47.015Z"
   },
   {
    "duration": 9,
    "start_time": "2021-10-27T15:52:47.021Z"
   },
   {
    "duration": 42,
    "start_time": "2021-10-27T15:52:47.032Z"
   },
   {
    "duration": 5,
    "start_time": "2021-10-27T15:52:47.076Z"
   },
   {
    "duration": 1884,
    "start_time": "2021-10-27T15:52:47.083Z"
   },
   {
    "duration": 18690,
    "start_time": "2021-10-27T15:52:48.969Z"
   },
   {
    "duration": 1561,
    "start_time": "2021-10-27T15:53:07.664Z"
   },
   {
    "duration": 66,
    "start_time": "2021-10-27T15:53:09.227Z"
   },
   {
    "duration": 290,
    "start_time": "2021-10-27T15:53:09.294Z"
   },
   {
    "duration": 4207,
    "start_time": "2021-10-27T15:53:09.585Z"
   },
   {
    "duration": 401,
    "start_time": "2021-10-27T15:53:13.794Z"
   },
   {
    "duration": 6,
    "start_time": "2021-10-27T15:53:14.197Z"
   },
   {
    "duration": 1144,
    "start_time": "2021-10-27T21:48:41.823Z"
   },
   {
    "duration": 701,
    "start_time": "2021-10-27T21:48:44.579Z"
   },
   {
    "duration": 15,
    "start_time": "2021-10-27T21:49:27.029Z"
   },
   {
    "duration": 14,
    "start_time": "2021-10-27T21:49:27.715Z"
   },
   {
    "duration": 10,
    "start_time": "2021-10-27T21:49:28.706Z"
   },
   {
    "duration": 8,
    "start_time": "2021-10-27T21:50:00.397Z"
   },
   {
    "duration": 8,
    "start_time": "2021-10-27T21:50:34.259Z"
   },
   {
    "duration": 9,
    "start_time": "2021-10-27T21:51:07.792Z"
   },
   {
    "duration": 9,
    "start_time": "2021-10-27T21:51:09.143Z"
   },
   {
    "duration": 12,
    "start_time": "2021-10-27T21:51:12.717Z"
   },
   {
    "duration": 168,
    "start_time": "2021-10-27T21:51:14.533Z"
   },
   {
    "duration": 31,
    "start_time": "2021-10-27T21:52:04.457Z"
   },
   {
    "duration": 5,
    "start_time": "2021-10-27T21:53:12.337Z"
   },
   {
    "duration": 12,
    "start_time": "2021-10-27T21:53:12.839Z"
   },
   {
    "duration": 1498,
    "start_time": "2021-10-27T21:53:13.499Z"
   },
   {
    "duration": 819,
    "start_time": "2021-10-27T21:53:14.999Z"
   },
   {
    "duration": 916,
    "start_time": "2021-10-27T21:53:15.820Z"
   },
   {
    "duration": 4,
    "start_time": "2021-10-27T21:53:43.704Z"
   },
   {
    "duration": 25,
    "start_time": "2021-10-27T21:53:44.088Z"
   },
   {
    "duration": 17,
    "start_time": "2021-10-27T21:53:44.231Z"
   },
   {
    "duration": 18,
    "start_time": "2021-10-27T21:54:19.459Z"
   },
   {
    "duration": 545,
    "start_time": "2021-10-27T21:54:19.634Z"
   },
   {
    "duration": 27,
    "start_time": "2021-10-27T21:54:20.181Z"
   },
   {
    "duration": 820,
    "start_time": "2021-10-27T21:54:20.210Z"
   },
   {
    "duration": 4,
    "start_time": "2021-10-27T21:55:10.544Z"
   },
   {
    "duration": 2,
    "start_time": "2021-10-27T21:55:10.810Z"
   },
   {
    "duration": 20,
    "start_time": "2021-10-27T21:55:57.344Z"
   },
   {
    "duration": 4,
    "start_time": "2021-10-27T21:55:58.023Z"
   },
   {
    "duration": 1325,
    "start_time": "2021-10-27T21:56:16.269Z"
   },
   {
    "duration": 1256,
    "start_time": "2021-10-29T08:22:55.226Z"
   },
   {
    "duration": 728,
    "start_time": "2021-10-29T08:22:56.484Z"
   },
   {
    "duration": 16,
    "start_time": "2021-10-29T08:22:57.214Z"
   },
   {
    "duration": 22,
    "start_time": "2021-10-29T08:22:57.232Z"
   },
   {
    "duration": 10,
    "start_time": "2021-10-29T08:22:57.255Z"
   },
   {
    "duration": 13,
    "start_time": "2021-10-29T08:22:57.266Z"
   },
   {
    "duration": 8,
    "start_time": "2021-10-29T08:22:57.280Z"
   },
   {
    "duration": 11,
    "start_time": "2021-10-29T08:22:57.290Z"
   },
   {
    "duration": 45,
    "start_time": "2021-10-29T08:22:57.303Z"
   },
   {
    "duration": 14,
    "start_time": "2021-10-29T08:22:57.350Z"
   },
   {
    "duration": 195,
    "start_time": "2021-10-29T08:22:57.365Z"
   },
   {
    "duration": 37,
    "start_time": "2021-10-29T08:22:57.562Z"
   },
   {
    "duration": 5,
    "start_time": "2021-10-29T08:22:57.601Z"
   },
   {
    "duration": 43,
    "start_time": "2021-10-29T08:22:57.608Z"
   },
   {
    "duration": 847,
    "start_time": "2021-10-29T08:22:57.653Z"
   },
   {
    "duration": 1129,
    "start_time": "2021-10-29T08:22:58.502Z"
   },
   {
    "duration": 839,
    "start_time": "2021-10-29T08:22:59.633Z"
   },
   {
    "duration": 4,
    "start_time": "2021-10-29T08:23:00.474Z"
   },
   {
    "duration": 35,
    "start_time": "2021-10-29T08:23:00.480Z"
   },
   {
    "duration": 35,
    "start_time": "2021-10-29T08:23:00.517Z"
   },
   {
    "duration": 21,
    "start_time": "2021-10-29T08:23:00.554Z"
   },
   {
    "duration": 1681,
    "start_time": "2021-10-29T08:23:00.577Z"
   },
   {
    "duration": 25,
    "start_time": "2021-10-29T08:23:02.261Z"
   },
   {
    "duration": 839,
    "start_time": "2021-10-29T08:23:02.288Z"
   },
   {
    "duration": 5,
    "start_time": "2021-10-29T08:23:03.129Z"
   },
   {
    "duration": 12,
    "start_time": "2021-10-29T08:23:03.136Z"
   },
   {
    "duration": 25,
    "start_time": "2021-10-29T08:23:03.150Z"
   },
   {
    "duration": 5,
    "start_time": "2021-10-29T08:23:03.177Z"
   },
   {
    "duration": 1868,
    "start_time": "2021-10-29T08:23:03.184Z"
   },
   {
    "duration": 17483,
    "start_time": "2021-10-29T08:23:05.054Z"
   },
   {
    "duration": 1509,
    "start_time": "2021-10-29T08:23:22.539Z"
   },
   {
    "duration": 42,
    "start_time": "2021-10-29T08:23:24.050Z"
   },
   {
    "duration": 255,
    "start_time": "2021-10-29T08:23:24.093Z"
   },
   {
    "duration": 4175,
    "start_time": "2021-10-29T08:23:24.350Z"
   },
   {
    "duration": 462,
    "start_time": "2021-10-29T08:23:28.527Z"
   },
   {
    "duration": 6,
    "start_time": "2021-10-29T08:23:28.991Z"
   },
   {
    "duration": 11,
    "start_time": "2021-10-29T08:24:51.221Z"
   },
   {
    "duration": 390,
    "start_time": "2021-10-29T08:25:58.022Z"
   },
   {
    "duration": 94,
    "start_time": "2021-10-29T08:26:17.453Z"
   },
   {
    "duration": 12,
    "start_time": "2021-10-29T08:27:26.692Z"
   },
   {
    "duration": 11,
    "start_time": "2021-10-29T08:28:59.972Z"
   },
   {
    "duration": 11,
    "start_time": "2021-10-29T08:29:38.877Z"
   },
   {
    "duration": 3,
    "start_time": "2021-10-29T08:30:46.131Z"
   },
   {
    "duration": 11,
    "start_time": "2021-10-29T08:30:54.780Z"
   },
   {
    "duration": 11,
    "start_time": "2021-10-29T08:31:08.749Z"
   },
   {
    "duration": 11,
    "start_time": "2021-10-29T08:31:19.338Z"
   },
   {
    "duration": 11,
    "start_time": "2021-10-29T08:31:26.739Z"
   },
   {
    "duration": 11,
    "start_time": "2021-10-29T08:31:45.683Z"
   },
   {
    "duration": 11,
    "start_time": "2021-10-29T08:31:55.203Z"
   },
   {
    "duration": 11,
    "start_time": "2021-10-29T08:32:02.451Z"
   },
   {
    "duration": 6,
    "start_time": "2021-10-29T08:32:39.962Z"
   },
   {
    "duration": 325,
    "start_time": "2021-10-29T08:44:18.589Z"
   },
   {
    "duration": 13,
    "start_time": "2021-10-29T08:45:15.556Z"
   },
   {
    "duration": 340,
    "start_time": "2021-10-29T08:46:10.283Z"
   },
   {
    "duration": 289,
    "start_time": "2021-10-29T08:47:15.979Z"
   },
   {
    "duration": 288,
    "start_time": "2021-10-29T08:47:21.578Z"
   },
   {
    "duration": 13,
    "start_time": "2021-10-29T08:47:28.202Z"
   },
   {
    "duration": 6,
    "start_time": "2021-10-29T08:51:12.056Z"
   },
   {
    "duration": 12,
    "start_time": "2021-10-29T08:51:54.055Z"
   },
   {
    "duration": 10,
    "start_time": "2021-10-29T08:52:09.248Z"
   },
   {
    "duration": 10,
    "start_time": "2021-10-29T08:52:31.296Z"
   },
   {
    "duration": 11,
    "start_time": "2021-10-29T08:53:18.744Z"
   },
   {
    "duration": 9,
    "start_time": "2021-10-29T08:53:24.758Z"
   },
   {
    "duration": 11,
    "start_time": "2021-10-29T08:53:36.078Z"
   },
   {
    "duration": 9,
    "start_time": "2021-10-29T08:53:46.430Z"
   },
   {
    "duration": 14,
    "start_time": "2021-10-29T08:53:55.159Z"
   },
   {
    "duration": 11,
    "start_time": "2021-10-29T08:54:09.742Z"
   },
   {
    "duration": 11,
    "start_time": "2021-10-29T08:54:14.853Z"
   },
   {
    "duration": 11,
    "start_time": "2021-10-29T08:54:20.183Z"
   },
   {
    "duration": 11,
    "start_time": "2021-10-29T08:54:25.998Z"
   },
   {
    "duration": 15,
    "start_time": "2021-10-29T08:54:31.623Z"
   },
   {
    "duration": 14,
    "start_time": "2021-10-29T08:54:38.382Z"
   },
   {
    "duration": 13,
    "start_time": "2021-10-29T08:54:45.879Z"
   },
   {
    "duration": 9,
    "start_time": "2021-10-29T08:54:53.686Z"
   },
   {
    "duration": 14,
    "start_time": "2021-10-29T08:55:01.262Z"
   },
   {
    "duration": 13,
    "start_time": "2021-10-29T08:55:21.503Z"
   },
   {
    "duration": 14,
    "start_time": "2021-10-29T08:55:29.838Z"
   },
   {
    "duration": 11,
    "start_time": "2021-10-29T08:55:35.021Z"
   },
   {
    "duration": 289,
    "start_time": "2021-10-29T08:56:54.684Z"
   },
   {
    "duration": 6,
    "start_time": "2021-10-29T08:56:58.516Z"
   },
   {
    "duration": 11,
    "start_time": "2021-10-29T08:57:00.516Z"
   },
   {
    "duration": 358,
    "start_time": "2021-10-29T08:58:06.668Z"
   },
   {
    "duration": 7,
    "start_time": "2021-10-29T08:58:43.628Z"
   },
   {
    "duration": 8,
    "start_time": "2021-10-29T08:58:56.621Z"
   },
   {
    "duration": 292,
    "start_time": "2021-10-29T08:59:01.013Z"
   },
   {
    "duration": 7,
    "start_time": "2021-10-29T08:59:25.196Z"
   },
   {
    "duration": 306,
    "start_time": "2021-10-29T09:00:11.155Z"
   },
   {
    "duration": 5,
    "start_time": "2021-10-29T09:00:28.394Z"
   },
   {
    "duration": 287,
    "start_time": "2021-10-29T09:00:35.228Z"
   },
   {
    "duration": 644,
    "start_time": "2021-10-29T09:00:42.835Z"
   },
   {
    "duration": 119,
    "start_time": "2021-10-29T09:01:00.068Z"
   },
   {
    "duration": 7,
    "start_time": "2021-10-29T09:02:28.281Z"
   },
   {
    "duration": 15,
    "start_time": "2021-10-29T09:02:35.201Z"
   },
   {
    "duration": 2068,
    "start_time": "2021-10-29T09:02:36.377Z"
   },
   {
    "duration": 8,
    "start_time": "2021-10-29T09:02:40.969Z"
   },
   {
    "duration": 3,
    "start_time": "2021-10-29T09:02:43.865Z"
   },
   {
    "duration": 5,
    "start_time": "2021-10-29T09:02:44.913Z"
   },
   {
    "duration": 10,
    "start_time": "2021-10-29T09:02:52.762Z"
   },
   {
    "duration": 9,
    "start_time": "2021-10-29T09:02:56.538Z"
   },
   {
    "duration": 307,
    "start_time": "2021-10-29T09:03:18.498Z"
   },
   {
    "duration": 10,
    "start_time": "2021-10-29T09:03:38.058Z"
   },
   {
    "duration": 537,
    "start_time": "2021-10-29T09:04:09.624Z"
   },
   {
    "duration": 14,
    "start_time": "2021-10-29T09:04:15.681Z"
   },
   {
    "duration": 12,
    "start_time": "2021-10-29T09:04:30.730Z"
   },
   {
    "duration": 7,
    "start_time": "2021-10-29T09:04:46.480Z"
   },
   {
    "duration": 14,
    "start_time": "2021-10-29T09:04:52.297Z"
   },
   {
    "duration": 844,
    "start_time": "2021-10-29T09:04:55.891Z"
   },
   {
    "duration": 7,
    "start_time": "2021-10-29T09:06:29.144Z"
   },
   {
    "duration": 9,
    "start_time": "2021-10-29T09:06:32.504Z"
   },
   {
    "duration": 10,
    "start_time": "2021-10-29T09:06:41.529Z"
   },
   {
    "duration": 10,
    "start_time": "2021-10-29T09:06:55.776Z"
   },
   {
    "duration": 19,
    "start_time": "2021-10-29T09:06:58.919Z"
   },
   {
    "duration": 1671,
    "start_time": "2021-10-29T09:06:59.392Z"
   },
   {
    "duration": 4,
    "start_time": "2021-10-29T09:07:01.065Z"
   },
   {
    "duration": 8,
    "start_time": "2021-10-29T09:07:01.704Z"
   },
   {
    "duration": 9,
    "start_time": "2021-10-29T09:08:18.960Z"
   },
   {
    "duration": 18,
    "start_time": "2021-10-29T09:11:00.669Z"
   },
   {
    "duration": 3029,
    "start_time": "2021-10-29T09:11:01.532Z"
   },
   {
    "duration": 3,
    "start_time": "2021-10-29T09:11:04.564Z"
   },
   {
    "duration": 7,
    "start_time": "2021-10-29T09:11:05.477Z"
   },
   {
    "duration": 3,
    "start_time": "2021-10-29T09:11:14.109Z"
   },
   {
    "duration": 8,
    "start_time": "2021-10-29T09:11:14.765Z"
   },
   {
    "duration": 3,
    "start_time": "2021-10-29T09:11:19.700Z"
   },
   {
    "duration": 9,
    "start_time": "2021-10-29T09:11:20.237Z"
   },
   {
    "duration": 29,
    "start_time": "2021-10-29T09:16:33.330Z"
   },
   {
    "duration": 10,
    "start_time": "2021-10-29T09:17:04.186Z"
   },
   {
    "duration": 8,
    "start_time": "2021-10-29T09:17:06.521Z"
   },
   {
    "duration": 26,
    "start_time": "2021-10-29T09:17:08.697Z"
   },
   {
    "duration": 853,
    "start_time": "2021-10-29T09:17:21.482Z"
   },
   {
    "duration": 10,
    "start_time": "2021-10-29T09:22:56.808Z"
   },
   {
    "duration": 7,
    "start_time": "2021-10-29T09:23:10.576Z"
   },
   {
    "duration": 14,
    "start_time": "2021-10-29T09:23:18.486Z"
   },
   {
    "duration": 3059,
    "start_time": "2021-10-29T09:23:18.957Z"
   },
   {
    "duration": 3,
    "start_time": "2021-10-29T09:23:22.018Z"
   },
   {
    "duration": 23,
    "start_time": "2021-10-29T09:23:22.023Z"
   },
   {
    "duration": 7,
    "start_time": "2021-10-29T09:24:06.936Z"
   },
   {
    "duration": 8,
    "start_time": "2021-10-29T09:24:19.167Z"
   },
   {
    "duration": 8,
    "start_time": "2021-10-29T09:24:29.669Z"
   },
   {
    "duration": 9,
    "start_time": "2021-10-29T09:25:18.318Z"
   },
   {
    "duration": 6,
    "start_time": "2021-10-29T09:25:23.637Z"
   },
   {
    "duration": 8,
    "start_time": "2021-10-29T09:25:40.006Z"
   },
   {
    "duration": 1267,
    "start_time": "2021-10-29T09:27:57.597Z"
   },
   {
    "duration": 743,
    "start_time": "2021-10-29T09:27:58.867Z"
   },
   {
    "duration": 14,
    "start_time": "2021-10-29T09:27:59.612Z"
   },
   {
    "duration": 26,
    "start_time": "2021-10-29T09:27:59.628Z"
   },
   {
    "duration": 9,
    "start_time": "2021-10-29T09:27:59.656Z"
   },
   {
    "duration": 9,
    "start_time": "2021-10-29T09:27:59.667Z"
   },
   {
    "duration": 20,
    "start_time": "2021-10-29T09:27:59.677Z"
   },
   {
    "duration": 15,
    "start_time": "2021-10-29T09:27:59.700Z"
   },
   {
    "duration": 28,
    "start_time": "2021-10-29T09:27:59.717Z"
   },
   {
    "duration": 13,
    "start_time": "2021-10-29T09:27:59.747Z"
   },
   {
    "duration": 190,
    "start_time": "2021-10-29T09:27:59.761Z"
   },
   {
    "duration": 40,
    "start_time": "2021-10-29T09:27:59.953Z"
   },
   {
    "duration": 5,
    "start_time": "2021-10-29T09:27:59.995Z"
   },
   {
    "duration": 50,
    "start_time": "2021-10-29T09:28:00.002Z"
   },
   {
    "duration": 1050,
    "start_time": "2021-10-29T09:28:00.055Z"
   },
   {
    "duration": 917,
    "start_time": "2021-10-29T09:28:01.107Z"
   },
   {
    "duration": 908,
    "start_time": "2021-10-29T09:28:02.027Z"
   },
   {
    "duration": 9,
    "start_time": "2021-10-29T09:28:02.937Z"
   },
   {
    "duration": 30,
    "start_time": "2021-10-29T09:28:02.947Z"
   },
   {
    "duration": 17,
    "start_time": "2021-10-29T09:28:02.978Z"
   },
   {
    "duration": 21,
    "start_time": "2021-10-29T09:28:02.996Z"
   },
   {
    "duration": 1625,
    "start_time": "2021-10-29T09:28:03.019Z"
   },
   {
    "duration": 3,
    "start_time": "2021-10-29T09:28:04.648Z"
   },
   {
    "duration": 24,
    "start_time": "2021-10-29T09:28:04.653Z"
   },
   {
    "duration": 44,
    "start_time": "2021-10-29T09:28:04.679Z"
   },
   {
    "duration": 28,
    "start_time": "2021-10-29T09:28:04.725Z"
   },
   {
    "duration": 36,
    "start_time": "2021-10-29T09:28:04.754Z"
   },
   {
    "duration": 919,
    "start_time": "2021-10-29T09:28:04.792Z"
   },
   {
    "duration": 4,
    "start_time": "2021-10-29T09:28:05.713Z"
   },
   {
    "duration": 33,
    "start_time": "2021-10-29T09:28:05.719Z"
   },
   {
    "duration": 52,
    "start_time": "2021-10-29T09:28:05.753Z"
   },
   {
    "duration": 10,
    "start_time": "2021-10-29T09:28:05.807Z"
   },
   {
    "duration": 2438,
    "start_time": "2021-10-29T09:28:05.819Z"
   },
   {
    "duration": 17635,
    "start_time": "2021-10-29T09:28:08.260Z"
   },
   {
    "duration": 1520,
    "start_time": "2021-10-29T09:28:25.897Z"
   },
   {
    "duration": 48,
    "start_time": "2021-10-29T09:28:27.419Z"
   },
   {
    "duration": 291,
    "start_time": "2021-10-29T09:28:27.468Z"
   },
   {
    "duration": 4844,
    "start_time": "2021-10-29T09:28:27.760Z"
   },
   {
    "duration": 469,
    "start_time": "2021-10-29T09:28:32.606Z"
   },
   {
    "duration": 6,
    "start_time": "2021-10-29T09:28:33.077Z"
   },
   {
    "duration": 1166,
    "start_time": "2021-10-29T09:40:02.004Z"
   },
   {
    "duration": 724,
    "start_time": "2021-10-29T09:40:03.172Z"
   },
   {
    "duration": 15,
    "start_time": "2021-10-29T09:40:03.898Z"
   },
   {
    "duration": 20,
    "start_time": "2021-10-29T09:40:03.915Z"
   },
   {
    "duration": 23,
    "start_time": "2021-10-29T09:40:03.937Z"
   },
   {
    "duration": 23,
    "start_time": "2021-10-29T09:40:03.962Z"
   },
   {
    "duration": 35,
    "start_time": "2021-10-29T09:40:03.987Z"
   },
   {
    "duration": 39,
    "start_time": "2021-10-29T09:40:04.025Z"
   },
   {
    "duration": 37,
    "start_time": "2021-10-29T09:40:04.067Z"
   },
   {
    "duration": 37,
    "start_time": "2021-10-29T09:40:04.106Z"
   },
   {
    "duration": 184,
    "start_time": "2021-10-29T09:40:04.145Z"
   },
   {
    "duration": 39,
    "start_time": "2021-10-29T09:40:04.331Z"
   },
   {
    "duration": 5,
    "start_time": "2021-10-29T09:40:04.372Z"
   },
   {
    "duration": 32,
    "start_time": "2021-10-29T09:40:04.379Z"
   },
   {
    "duration": 957,
    "start_time": "2021-10-29T09:40:04.413Z"
   },
   {
    "duration": 878,
    "start_time": "2021-10-29T09:40:05.372Z"
   },
   {
    "duration": 781,
    "start_time": "2021-10-29T09:40:06.252Z"
   },
   {
    "duration": 9,
    "start_time": "2021-10-29T09:40:07.035Z"
   },
   {
    "duration": 29,
    "start_time": "2021-10-29T09:40:07.045Z"
   },
   {
    "duration": 15,
    "start_time": "2021-10-29T09:40:07.076Z"
   },
   {
    "duration": 26,
    "start_time": "2021-10-29T09:40:07.092Z"
   },
   {
    "duration": 1485,
    "start_time": "2021-10-29T09:40:07.119Z"
   },
   {
    "duration": 2,
    "start_time": "2021-10-29T09:40:08.608Z"
   },
   {
    "duration": 16,
    "start_time": "2021-10-29T09:40:08.612Z"
   },
   {
    "duration": 17,
    "start_time": "2021-10-29T09:40:08.630Z"
   },
   {
    "duration": 7,
    "start_time": "2021-10-29T09:40:08.649Z"
   },
   {
    "duration": 21,
    "start_time": "2021-10-29T09:40:08.657Z"
   },
   {
    "duration": 811,
    "start_time": "2021-10-29T09:40:08.680Z"
   },
   {
    "duration": 4,
    "start_time": "2021-10-29T09:40:09.492Z"
   },
   {
    "duration": 5,
    "start_time": "2021-10-29T09:40:09.498Z"
   },
   {
    "duration": 39,
    "start_time": "2021-10-29T09:40:09.505Z"
   },
   {
    "duration": 3,
    "start_time": "2021-10-29T09:40:09.546Z"
   },
   {
    "duration": 1495,
    "start_time": "2021-10-29T09:40:09.550Z"
   },
   {
    "duration": 15590,
    "start_time": "2021-10-29T09:40:11.047Z"
   },
   {
    "duration": 1467,
    "start_time": "2021-10-29T09:40:26.644Z"
   },
   {
    "duration": 53,
    "start_time": "2021-10-29T09:40:28.113Z"
   },
   {
    "duration": 183,
    "start_time": "2021-10-29T09:40:28.168Z"
   },
   {
    "duration": 4049,
    "start_time": "2021-10-29T09:40:28.354Z"
   },
   {
    "duration": 358,
    "start_time": "2021-10-29T09:40:32.404Z"
   },
   {
    "duration": 6,
    "start_time": "2021-10-29T09:40:32.763Z"
   }
  ],
  "kernelspec": {
   "display_name": "Python 3 (ipykernel)",
   "language": "python",
   "name": "python3"
  },
  "language_info": {
   "codemirror_mode": {
    "name": "ipython",
    "version": 3
   },
   "file_extension": ".py",
   "mimetype": "text/x-python",
   "name": "python",
   "nbconvert_exporter": "python",
   "pygments_lexer": "ipython3",
   "version": "3.10.5"
  },
  "toc": {
   "base_numbering": 1,
   "nav_menu": {},
   "number_sections": true,
   "sideBar": true,
   "skip_h1_title": true,
   "title_cell": "Содержание",
   "title_sidebar": "Contents",
   "toc_cell": true,
   "toc_position": {
    "height": "calc(100% - 180px)",
    "left": "10px",
    "top": "150px",
    "width": "408.188px"
   },
   "toc_section_display": true,
   "toc_window_display": true
  }
 },
 "nbformat": 4,
 "nbformat_minor": 2
}
