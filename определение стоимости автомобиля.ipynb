{
 "cells": [
  {
   "cell_type": "markdown",
   "metadata": {},
   "source": [
    "# Определение стоимости автомобилей"
   ]
  },
  {
   "cell_type": "markdown",
   "metadata": {},
   "source": [
    "Сервис по продаже автомобилей с пробегом «Не бит, не крашен» разрабатывает приложение для привлечения новых клиентов. В нём можно быстро узнать рыночную стоимость своего автомобиля. В вашем распоряжении исторические данные: технические характеристики, комплектации и цены автомобилей. Вам нужно построить модель для определения стоимости. \n",
    "\n",
    "Заказчику важны:\n",
    "\n",
    "- качество предсказания;\n",
    "- скорость предсказания;\n",
    "- время обучения."
   ]
  },
  {
   "cell_type": "markdown",
   "metadata": {},
   "source": [
    "\n",
    "\n",
    "\n",
    "---\n",
    "__Признаки__\n",
    "- DateCrawled — дата скачивания анкеты из базы\n",
    "- VehicleType — тип автомобильного кузова\n",
    "- RegistrationYear — год регистрации автомобиля\n",
    "- Gearbox — тип коробки передач\n",
    "- Power — мощность (л. с.)\n",
    "- Model — модель автомобиля\n",
    "- Kilometer — пробег (км)\n",
    "- RegistrationMonth — месяц регистрации автомобиля\n",
    "- FuelType — тип топлива\n",
    "- Brand — марка автомобиля\n",
    "- NotRepaired — была машина в ремонте или нет\n",
    "- DateCreated — дата создания анкеты\n",
    "- NumberOfPictures — количество фотографий автомобиля\n",
    "- PostalCode — почтовый индекс владельца анкеты (пользователя)\n",
    "- LastSeen — дата последней активности пользователя\n",
    "\n",
    "\n",
    "__Целевой признак__\n",
    "- Price — цена (евро)\n"
   ]
  },
  {
   "cell_type": "code",
   "execution_count": 1,
   "metadata": {},
   "outputs": [],
   "source": [
    "import pandas as pd\n",
    "import numpy as np\n",
    "\n",
    "from sklearn.model_selection import train_test_split\n",
    "from sklearn.metrics import mean_squared_error\n",
    "from sklearn.ensemble import RandomForestRegressor\n",
    "from catboost import CatBoostRegressor, Pool\n",
    "import lightgbm as lgb"
   ]
  },
  {
   "cell_type": "markdown",
   "metadata": {},
   "source": [
    "## Подготовка данных"
   ]
  },
  {
   "cell_type": "code",
   "execution_count": 2,
   "metadata": {},
   "outputs": [],
   "source": [
    "data = pd.read_csv('/datasets/autos.csv')"
   ]
  },
  {
   "cell_type": "code",
   "execution_count": 3,
   "metadata": {},
   "outputs": [
    {
     "name": "stdout",
     "output_type": "stream",
     "text": [
      "<class 'pandas.core.frame.DataFrame'>\n",
      "RangeIndex: 354369 entries, 0 to 354368\n",
      "Data columns (total 16 columns):\n",
      "DateCrawled          354369 non-null object\n",
      "Price                354369 non-null int64\n",
      "VehicleType          316879 non-null object\n",
      "RegistrationYear     354369 non-null int64\n",
      "Gearbox              334536 non-null object\n",
      "Power                354369 non-null int64\n",
      "Model                334664 non-null object\n",
      "Kilometer            354369 non-null int64\n",
      "RegistrationMonth    354369 non-null int64\n",
      "FuelType             321474 non-null object\n",
      "Brand                354369 non-null object\n",
      "NotRepaired          283215 non-null object\n",
      "DateCreated          354369 non-null object\n",
      "NumberOfPictures     354369 non-null int64\n",
      "PostalCode           354369 non-null int64\n",
      "LastSeen             354369 non-null object\n",
      "dtypes: int64(7), object(9)\n",
      "memory usage: 43.3+ MB\n"
     ]
    },
    {
     "data": {
      "text/html": [
       "<div>\n",
       "<style scoped>\n",
       "    .dataframe tbody tr th:only-of-type {\n",
       "        vertical-align: middle;\n",
       "    }\n",
       "\n",
       "    .dataframe tbody tr th {\n",
       "        vertical-align: top;\n",
       "    }\n",
       "\n",
       "    .dataframe thead th {\n",
       "        text-align: right;\n",
       "    }\n",
       "</style>\n",
       "<table border=\"1\" class=\"dataframe\">\n",
       "  <thead>\n",
       "    <tr style=\"text-align: right;\">\n",
       "      <th></th>\n",
       "      <th>DateCrawled</th>\n",
       "      <th>Price</th>\n",
       "      <th>VehicleType</th>\n",
       "      <th>RegistrationYear</th>\n",
       "      <th>Gearbox</th>\n",
       "      <th>Power</th>\n",
       "      <th>Model</th>\n",
       "      <th>Kilometer</th>\n",
       "      <th>RegistrationMonth</th>\n",
       "      <th>FuelType</th>\n",
       "      <th>Brand</th>\n",
       "      <th>NotRepaired</th>\n",
       "      <th>DateCreated</th>\n",
       "      <th>NumberOfPictures</th>\n",
       "      <th>PostalCode</th>\n",
       "      <th>LastSeen</th>\n",
       "    </tr>\n",
       "  </thead>\n",
       "  <tbody>\n",
       "    <tr>\n",
       "      <td>0</td>\n",
       "      <td>2016-03-24 11:52:17</td>\n",
       "      <td>480</td>\n",
       "      <td>NaN</td>\n",
       "      <td>1993</td>\n",
       "      <td>manual</td>\n",
       "      <td>0</td>\n",
       "      <td>golf</td>\n",
       "      <td>150000</td>\n",
       "      <td>0</td>\n",
       "      <td>petrol</td>\n",
       "      <td>volkswagen</td>\n",
       "      <td>NaN</td>\n",
       "      <td>2016-03-24 00:00:00</td>\n",
       "      <td>0</td>\n",
       "      <td>70435</td>\n",
       "      <td>2016-04-07 03:16:57</td>\n",
       "    </tr>\n",
       "    <tr>\n",
       "      <td>1</td>\n",
       "      <td>2016-03-24 10:58:45</td>\n",
       "      <td>18300</td>\n",
       "      <td>coupe</td>\n",
       "      <td>2011</td>\n",
       "      <td>manual</td>\n",
       "      <td>190</td>\n",
       "      <td>NaN</td>\n",
       "      <td>125000</td>\n",
       "      <td>5</td>\n",
       "      <td>gasoline</td>\n",
       "      <td>audi</td>\n",
       "      <td>yes</td>\n",
       "      <td>2016-03-24 00:00:00</td>\n",
       "      <td>0</td>\n",
       "      <td>66954</td>\n",
       "      <td>2016-04-07 01:46:50</td>\n",
       "    </tr>\n",
       "    <tr>\n",
       "      <td>2</td>\n",
       "      <td>2016-03-14 12:52:21</td>\n",
       "      <td>9800</td>\n",
       "      <td>suv</td>\n",
       "      <td>2004</td>\n",
       "      <td>auto</td>\n",
       "      <td>163</td>\n",
       "      <td>grand</td>\n",
       "      <td>125000</td>\n",
       "      <td>8</td>\n",
       "      <td>gasoline</td>\n",
       "      <td>jeep</td>\n",
       "      <td>NaN</td>\n",
       "      <td>2016-03-14 00:00:00</td>\n",
       "      <td>0</td>\n",
       "      <td>90480</td>\n",
       "      <td>2016-04-05 12:47:46</td>\n",
       "    </tr>\n",
       "    <tr>\n",
       "      <td>3</td>\n",
       "      <td>2016-03-17 16:54:04</td>\n",
       "      <td>1500</td>\n",
       "      <td>small</td>\n",
       "      <td>2001</td>\n",
       "      <td>manual</td>\n",
       "      <td>75</td>\n",
       "      <td>golf</td>\n",
       "      <td>150000</td>\n",
       "      <td>6</td>\n",
       "      <td>petrol</td>\n",
       "      <td>volkswagen</td>\n",
       "      <td>no</td>\n",
       "      <td>2016-03-17 00:00:00</td>\n",
       "      <td>0</td>\n",
       "      <td>91074</td>\n",
       "      <td>2016-03-17 17:40:17</td>\n",
       "    </tr>\n",
       "    <tr>\n",
       "      <td>4</td>\n",
       "      <td>2016-03-31 17:25:20</td>\n",
       "      <td>3600</td>\n",
       "      <td>small</td>\n",
       "      <td>2008</td>\n",
       "      <td>manual</td>\n",
       "      <td>69</td>\n",
       "      <td>fabia</td>\n",
       "      <td>90000</td>\n",
       "      <td>7</td>\n",
       "      <td>gasoline</td>\n",
       "      <td>skoda</td>\n",
       "      <td>no</td>\n",
       "      <td>2016-03-31 00:00:00</td>\n",
       "      <td>0</td>\n",
       "      <td>60437</td>\n",
       "      <td>2016-04-06 10:17:21</td>\n",
       "    </tr>\n",
       "    <tr>\n",
       "      <td>...</td>\n",
       "      <td>...</td>\n",
       "      <td>...</td>\n",
       "      <td>...</td>\n",
       "      <td>...</td>\n",
       "      <td>...</td>\n",
       "      <td>...</td>\n",
       "      <td>...</td>\n",
       "      <td>...</td>\n",
       "      <td>...</td>\n",
       "      <td>...</td>\n",
       "      <td>...</td>\n",
       "      <td>...</td>\n",
       "      <td>...</td>\n",
       "      <td>...</td>\n",
       "      <td>...</td>\n",
       "      <td>...</td>\n",
       "    </tr>\n",
       "    <tr>\n",
       "      <td>354364</td>\n",
       "      <td>2016-03-21 09:50:58</td>\n",
       "      <td>0</td>\n",
       "      <td>NaN</td>\n",
       "      <td>2005</td>\n",
       "      <td>manual</td>\n",
       "      <td>0</td>\n",
       "      <td>colt</td>\n",
       "      <td>150000</td>\n",
       "      <td>7</td>\n",
       "      <td>petrol</td>\n",
       "      <td>mitsubishi</td>\n",
       "      <td>yes</td>\n",
       "      <td>2016-03-21 00:00:00</td>\n",
       "      <td>0</td>\n",
       "      <td>2694</td>\n",
       "      <td>2016-03-21 10:42:49</td>\n",
       "    </tr>\n",
       "    <tr>\n",
       "      <td>354365</td>\n",
       "      <td>2016-03-14 17:48:27</td>\n",
       "      <td>2200</td>\n",
       "      <td>NaN</td>\n",
       "      <td>2005</td>\n",
       "      <td>NaN</td>\n",
       "      <td>0</td>\n",
       "      <td>NaN</td>\n",
       "      <td>20000</td>\n",
       "      <td>1</td>\n",
       "      <td>NaN</td>\n",
       "      <td>sonstige_autos</td>\n",
       "      <td>NaN</td>\n",
       "      <td>2016-03-14 00:00:00</td>\n",
       "      <td>0</td>\n",
       "      <td>39576</td>\n",
       "      <td>2016-04-06 00:46:52</td>\n",
       "    </tr>\n",
       "    <tr>\n",
       "      <td>354366</td>\n",
       "      <td>2016-03-05 19:56:21</td>\n",
       "      <td>1199</td>\n",
       "      <td>convertible</td>\n",
       "      <td>2000</td>\n",
       "      <td>auto</td>\n",
       "      <td>101</td>\n",
       "      <td>fortwo</td>\n",
       "      <td>125000</td>\n",
       "      <td>3</td>\n",
       "      <td>petrol</td>\n",
       "      <td>smart</td>\n",
       "      <td>no</td>\n",
       "      <td>2016-03-05 00:00:00</td>\n",
       "      <td>0</td>\n",
       "      <td>26135</td>\n",
       "      <td>2016-03-11 18:17:12</td>\n",
       "    </tr>\n",
       "    <tr>\n",
       "      <td>354367</td>\n",
       "      <td>2016-03-19 18:57:12</td>\n",
       "      <td>9200</td>\n",
       "      <td>bus</td>\n",
       "      <td>1996</td>\n",
       "      <td>manual</td>\n",
       "      <td>102</td>\n",
       "      <td>transporter</td>\n",
       "      <td>150000</td>\n",
       "      <td>3</td>\n",
       "      <td>gasoline</td>\n",
       "      <td>volkswagen</td>\n",
       "      <td>no</td>\n",
       "      <td>2016-03-19 00:00:00</td>\n",
       "      <td>0</td>\n",
       "      <td>87439</td>\n",
       "      <td>2016-04-07 07:15:26</td>\n",
       "    </tr>\n",
       "    <tr>\n",
       "      <td>354368</td>\n",
       "      <td>2016-03-20 19:41:08</td>\n",
       "      <td>3400</td>\n",
       "      <td>wagon</td>\n",
       "      <td>2002</td>\n",
       "      <td>manual</td>\n",
       "      <td>100</td>\n",
       "      <td>golf</td>\n",
       "      <td>150000</td>\n",
       "      <td>6</td>\n",
       "      <td>gasoline</td>\n",
       "      <td>volkswagen</td>\n",
       "      <td>NaN</td>\n",
       "      <td>2016-03-20 00:00:00</td>\n",
       "      <td>0</td>\n",
       "      <td>40764</td>\n",
       "      <td>2016-03-24 12:45:21</td>\n",
       "    </tr>\n",
       "  </tbody>\n",
       "</table>\n",
       "<p>354369 rows × 16 columns</p>\n",
       "</div>"
      ],
      "text/plain": [
       "                DateCrawled  Price  VehicleType  RegistrationYear Gearbox  \\\n",
       "0       2016-03-24 11:52:17    480          NaN              1993  manual   \n",
       "1       2016-03-24 10:58:45  18300        coupe              2011  manual   \n",
       "2       2016-03-14 12:52:21   9800          suv              2004    auto   \n",
       "3       2016-03-17 16:54:04   1500        small              2001  manual   \n",
       "4       2016-03-31 17:25:20   3600        small              2008  manual   \n",
       "...                     ...    ...          ...               ...     ...   \n",
       "354364  2016-03-21 09:50:58      0          NaN              2005  manual   \n",
       "354365  2016-03-14 17:48:27   2200          NaN              2005     NaN   \n",
       "354366  2016-03-05 19:56:21   1199  convertible              2000    auto   \n",
       "354367  2016-03-19 18:57:12   9200          bus              1996  manual   \n",
       "354368  2016-03-20 19:41:08   3400        wagon              2002  manual   \n",
       "\n",
       "        Power        Model  Kilometer  RegistrationMonth  FuelType  \\\n",
       "0           0         golf     150000                  0    petrol   \n",
       "1         190          NaN     125000                  5  gasoline   \n",
       "2         163        grand     125000                  8  gasoline   \n",
       "3          75         golf     150000                  6    petrol   \n",
       "4          69        fabia      90000                  7  gasoline   \n",
       "...       ...          ...        ...                ...       ...   \n",
       "354364      0         colt     150000                  7    petrol   \n",
       "354365      0          NaN      20000                  1       NaN   \n",
       "354366    101       fortwo     125000                  3    petrol   \n",
       "354367    102  transporter     150000                  3  gasoline   \n",
       "354368    100         golf     150000                  6  gasoline   \n",
       "\n",
       "                 Brand NotRepaired          DateCreated  NumberOfPictures  \\\n",
       "0           volkswagen         NaN  2016-03-24 00:00:00                 0   \n",
       "1                 audi         yes  2016-03-24 00:00:00                 0   \n",
       "2                 jeep         NaN  2016-03-14 00:00:00                 0   \n",
       "3           volkswagen          no  2016-03-17 00:00:00                 0   \n",
       "4                skoda          no  2016-03-31 00:00:00                 0   \n",
       "...                ...         ...                  ...               ...   \n",
       "354364      mitsubishi         yes  2016-03-21 00:00:00                 0   \n",
       "354365  sonstige_autos         NaN  2016-03-14 00:00:00                 0   \n",
       "354366           smart          no  2016-03-05 00:00:00                 0   \n",
       "354367      volkswagen          no  2016-03-19 00:00:00                 0   \n",
       "354368      volkswagen         NaN  2016-03-20 00:00:00                 0   \n",
       "\n",
       "        PostalCode             LastSeen  \n",
       "0            70435  2016-04-07 03:16:57  \n",
       "1            66954  2016-04-07 01:46:50  \n",
       "2            90480  2016-04-05 12:47:46  \n",
       "3            91074  2016-03-17 17:40:17  \n",
       "4            60437  2016-04-06 10:17:21  \n",
       "...            ...                  ...  \n",
       "354364        2694  2016-03-21 10:42:49  \n",
       "354365       39576  2016-04-06 00:46:52  \n",
       "354366       26135  2016-03-11 18:17:12  \n",
       "354367       87439  2016-04-07 07:15:26  \n",
       "354368       40764  2016-03-24 12:45:21  \n",
       "\n",
       "[354369 rows x 16 columns]"
      ]
     },
     "execution_count": 3,
     "metadata": {},
     "output_type": "execute_result"
    }
   ],
   "source": [
    "data.info()\n",
    "data"
   ]
  },
  {
   "cell_type": "code",
   "execution_count": null,
   "metadata": {},
   "outputs": [],
   "source": []
  },
  {
   "cell_type": "markdown",
   "metadata": {},
   "source": [
    "Удалим дубликаты строк, заполним пропуски , скорректируем типы данных:"
   ]
  },
  {
   "cell_type": "code",
   "execution_count": 4,
   "metadata": {},
   "outputs": [
    {
     "name": "stdout",
     "output_type": "stream",
     "text": [
      "<class 'pandas.core.frame.DataFrame'>\n",
      "RangeIndex: 354365 entries, 0 to 354364\n",
      "Data columns (total 16 columns):\n",
      "DateCrawled          354365 non-null datetime64[ns]\n",
      "Price                354365 non-null int32\n",
      "VehicleType          354365 non-null category\n",
      "RegistrationYear     354365 non-null int16\n",
      "Gearbox              354365 non-null category\n",
      "Power                354365 non-null int16\n",
      "Model                354365 non-null category\n",
      "Kilometer            354365 non-null int32\n",
      "RegistrationMonth    354365 non-null int8\n",
      "FuelType             354365 non-null category\n",
      "Brand                354365 non-null category\n",
      "NotRepaired          354365 non-null category\n",
      "DateCreated          354365 non-null datetime64[ns]\n",
      "NumberOfPictures     354365 non-null int32\n",
      "PostalCode           354365 non-null int32\n",
      "LastSeen             354365 non-null datetime64[ns]\n",
      "dtypes: category(6), datetime64[ns](3), int16(2), int32(4), int8(1)\n",
      "memory usage: 17.6 MB\n"
     ]
    },
    {
     "data": {
      "text/html": [
       "<div>\n",
       "<style scoped>\n",
       "    .dataframe tbody tr th:only-of-type {\n",
       "        vertical-align: middle;\n",
       "    }\n",
       "\n",
       "    .dataframe tbody tr th {\n",
       "        vertical-align: top;\n",
       "    }\n",
       "\n",
       "    .dataframe thead th {\n",
       "        text-align: right;\n",
       "    }\n",
       "</style>\n",
       "<table border=\"1\" class=\"dataframe\">\n",
       "  <thead>\n",
       "    <tr style=\"text-align: right;\">\n",
       "      <th></th>\n",
       "      <th>Price</th>\n",
       "      <th>RegistrationYear</th>\n",
       "      <th>Power</th>\n",
       "      <th>Kilometer</th>\n",
       "      <th>RegistrationMonth</th>\n",
       "      <th>NumberOfPictures</th>\n",
       "      <th>PostalCode</th>\n",
       "    </tr>\n",
       "  </thead>\n",
       "  <tbody>\n",
       "    <tr>\n",
       "      <td>count</td>\n",
       "      <td>354365.0</td>\n",
       "      <td>354365.0</td>\n",
       "      <td>354365.0</td>\n",
       "      <td>354365.0</td>\n",
       "      <td>354365.0</td>\n",
       "      <td>354365.0</td>\n",
       "      <td>354365.0</td>\n",
       "    </tr>\n",
       "    <tr>\n",
       "      <td>mean</td>\n",
       "      <td>4416.7</td>\n",
       "      <td>2004.2</td>\n",
       "      <td>110.1</td>\n",
       "      <td>128211.4</td>\n",
       "      <td>5.7</td>\n",
       "      <td>0.0</td>\n",
       "      <td>50508.5</td>\n",
       "    </tr>\n",
       "    <tr>\n",
       "      <td>std</td>\n",
       "      <td>4514.2</td>\n",
       "      <td>90.2</td>\n",
       "      <td>189.9</td>\n",
       "      <td>37905.1</td>\n",
       "      <td>3.7</td>\n",
       "      <td>0.0</td>\n",
       "      <td>25783.1</td>\n",
       "    </tr>\n",
       "    <tr>\n",
       "      <td>min</td>\n",
       "      <td>0.0</td>\n",
       "      <td>1000.0</td>\n",
       "      <td>0.0</td>\n",
       "      <td>5000.0</td>\n",
       "      <td>0.0</td>\n",
       "      <td>0.0</td>\n",
       "      <td>1067.0</td>\n",
       "    </tr>\n",
       "    <tr>\n",
       "      <td>25%</td>\n",
       "      <td>1050.0</td>\n",
       "      <td>1999.0</td>\n",
       "      <td>69.0</td>\n",
       "      <td>125000.0</td>\n",
       "      <td>3.0</td>\n",
       "      <td>0.0</td>\n",
       "      <td>30165.0</td>\n",
       "    </tr>\n",
       "    <tr>\n",
       "      <td>50%</td>\n",
       "      <td>2700.0</td>\n",
       "      <td>2003.0</td>\n",
       "      <td>105.0</td>\n",
       "      <td>150000.0</td>\n",
       "      <td>6.0</td>\n",
       "      <td>0.0</td>\n",
       "      <td>49413.0</td>\n",
       "    </tr>\n",
       "    <tr>\n",
       "      <td>75%</td>\n",
       "      <td>6400.0</td>\n",
       "      <td>2008.0</td>\n",
       "      <td>143.0</td>\n",
       "      <td>150000.0</td>\n",
       "      <td>9.0</td>\n",
       "      <td>0.0</td>\n",
       "      <td>71083.0</td>\n",
       "    </tr>\n",
       "    <tr>\n",
       "      <td>max</td>\n",
       "      <td>20000.0</td>\n",
       "      <td>9999.0</td>\n",
       "      <td>20000.0</td>\n",
       "      <td>150000.0</td>\n",
       "      <td>12.0</td>\n",
       "      <td>0.0</td>\n",
       "      <td>99998.0</td>\n",
       "    </tr>\n",
       "  </tbody>\n",
       "</table>\n",
       "</div>"
      ],
      "text/plain": [
       "          Price  RegistrationYear     Power  Kilometer  RegistrationMonth  \\\n",
       "count  354365.0          354365.0  354365.0   354365.0           354365.0   \n",
       "mean     4416.7            2004.2     110.1   128211.4                5.7   \n",
       "std      4514.2              90.2     189.9    37905.1                3.7   \n",
       "min         0.0            1000.0       0.0     5000.0                0.0   \n",
       "25%      1050.0            1999.0      69.0   125000.0                3.0   \n",
       "50%      2700.0            2003.0     105.0   150000.0                6.0   \n",
       "75%      6400.0            2008.0     143.0   150000.0                9.0   \n",
       "max     20000.0            9999.0   20000.0   150000.0               12.0   \n",
       "\n",
       "       NumberOfPictures  PostalCode  \n",
       "count          354365.0    354365.0  \n",
       "mean                0.0     50508.5  \n",
       "std                 0.0     25783.1  \n",
       "min                 0.0      1067.0  \n",
       "25%                 0.0     30165.0  \n",
       "50%                 0.0     49413.0  \n",
       "75%                 0.0     71083.0  \n",
       "max                 0.0     99998.0  "
      ]
     },
     "execution_count": 4,
     "metadata": {},
     "output_type": "execute_result"
    }
   ],
   "source": [
    "data = data.drop_duplicates().reset_index(drop=True)\n",
    "\n",
    "data = data.fillna('null')\n",
    "\n",
    "data = data.astype({'DateCrawled': 'datetime64[ns]',\n",
    "                    'Price': 'int32',\n",
    "                    'RegistrationYear': 'int16',\n",
    "                    'Power': 'int16',\n",
    "                    'Kilometer': 'int32',\n",
    "                    'RegistrationMonth': 'int8',\n",
    "                    'DateCreated': 'datetime64[ns]',\n",
    "                    'NumberOfPictures': 'int32',\n",
    "                    'PostalCode': 'int32',\n",
    "                    'LastSeen': 'datetime64[ns]',\n",
    "                     ###\n",
    "                    'VehicleType':'category',\n",
    "                    'Gearbox':'category',\n",
    "                    'Model':'category',\n",
    "                    'FuelType':'category',\n",
    "                    'Brand':'category',\n",
    "                    'NotRepaired':'category'                    \n",
    "                   })\n",
    "data.info()\n",
    "data.describe().round(1)"
   ]
  },
  {
   "cell_type": "code",
   "execution_count": null,
   "metadata": {},
   "outputs": [],
   "source": []
  },
  {
   "cell_type": "code",
   "execution_count": 5,
   "metadata": {},
   "outputs": [
    {
     "data": {
      "text/html": [
       "<div>\n",
       "<style scoped>\n",
       "    .dataframe tbody tr th:only-of-type {\n",
       "        vertical-align: middle;\n",
       "    }\n",
       "\n",
       "    .dataframe tbody tr th {\n",
       "        vertical-align: top;\n",
       "    }\n",
       "\n",
       "    .dataframe thead th {\n",
       "        text-align: right;\n",
       "    }\n",
       "</style>\n",
       "<table border=\"1\" class=\"dataframe\">\n",
       "  <thead>\n",
       "    <tr style=\"text-align: right;\">\n",
       "      <th></th>\n",
       "      <th>DateCrawled</th>\n",
       "      <th>DateCreated</th>\n",
       "      <th>LastSeen</th>\n",
       "    </tr>\n",
       "  </thead>\n",
       "  <tbody>\n",
       "    <tr>\n",
       "      <td>count</td>\n",
       "      <td>354365</td>\n",
       "      <td>354365</td>\n",
       "      <td>354365</td>\n",
       "    </tr>\n",
       "    <tr>\n",
       "      <td>unique</td>\n",
       "      <td>271174</td>\n",
       "      <td>109</td>\n",
       "      <td>179150</td>\n",
       "    </tr>\n",
       "    <tr>\n",
       "      <td>top</td>\n",
       "      <td>2016-03-24 14:49:47</td>\n",
       "      <td>2016-04-03 00:00:00</td>\n",
       "      <td>2016-04-06 13:45:54</td>\n",
       "    </tr>\n",
       "    <tr>\n",
       "      <td>freq</td>\n",
       "      <td>7</td>\n",
       "      <td>13718</td>\n",
       "      <td>17</td>\n",
       "    </tr>\n",
       "    <tr>\n",
       "      <td>first</td>\n",
       "      <td>2016-03-05 14:06:22</td>\n",
       "      <td>2014-03-10 00:00:00</td>\n",
       "      <td>2016-03-05 14:15:08</td>\n",
       "    </tr>\n",
       "    <tr>\n",
       "      <td>last</td>\n",
       "      <td>2016-04-07 14:36:58</td>\n",
       "      <td>2016-04-07 00:00:00</td>\n",
       "      <td>2016-04-07 14:58:51</td>\n",
       "    </tr>\n",
       "  </tbody>\n",
       "</table>\n",
       "</div>"
      ],
      "text/plain": [
       "                DateCrawled          DateCreated             LastSeen\n",
       "count                354365               354365               354365\n",
       "unique               271174                  109               179150\n",
       "top     2016-03-24 14:49:47  2016-04-03 00:00:00  2016-04-06 13:45:54\n",
       "freq                      7                13718                   17\n",
       "first   2016-03-05 14:06:22  2014-03-10 00:00:00  2016-03-05 14:15:08\n",
       "last    2016-04-07 14:36:58  2016-04-07 00:00:00  2016-04-07 14:58:51"
      ]
     },
     "execution_count": 5,
     "metadata": {},
     "output_type": "execute_result"
    }
   ],
   "source": [
    "data[['DateCrawled', 'DateCreated', 'LastSeen']].describe()"
   ]
  },
  {
   "cell_type": "markdown",
   "metadata": {},
   "source": [
    "Удалим данные не влияющие на цену:"
   ]
  },
  {
   "cell_type": "code",
   "execution_count": 6,
   "metadata": {},
   "outputs": [],
   "source": [
    "data = data.drop(['DateCrawled', 'DateCreated', 'NumberOfPictures', 'PostalCode', 'LastSeen'], axis=1)"
   ]
  },
  {
   "cell_type": "code",
   "execution_count": null,
   "metadata": {},
   "outputs": [],
   "source": []
  },
  {
   "cell_type": "code",
   "execution_count": 7,
   "metadata": {
    "scrolled": true
   },
   "outputs": [
    {
     "data": {
      "text/plain": [
       "sedan          91457\n",
       "small          79830\n",
       "wagon          65165\n",
       "null           37490\n",
       "bus            28775\n",
       "convertible    20203\n",
       "coupe          16161\n",
       "suv            11996\n",
       "other           3288\n",
       "Name: VehicleType, dtype: int64"
      ]
     },
     "metadata": {},
     "output_type": "display_data"
    }
   ],
   "source": [
    "display(data['VehicleType'].value_counts())"
   ]
  },
  {
   "cell_type": "code",
   "execution_count": 8,
   "metadata": {
    "scrolled": true
   },
   "outputs": [
    {
     "data": {
      "text/plain": [
       "golf                  29232\n",
       "other                 24420\n",
       "3er                   19761\n",
       "null                  19705\n",
       "polo                  13066\n",
       "                      ...  \n",
       "serie_2                   8\n",
       "rangerover                4\n",
       "serie_3                   4\n",
       "range_rover_evoque        2\n",
       "serie_1                   2\n",
       "Name: Model, Length: 251, dtype: int64"
      ]
     },
     "execution_count": 8,
     "metadata": {},
     "output_type": "execute_result"
    }
   ],
   "source": [
    "data['Model'].value_counts()"
   ]
  },
  {
   "cell_type": "code",
   "execution_count": 9,
   "metadata": {},
   "outputs": [
    {
     "data": {
      "text/plain": [
       "['100',\n",
       " '145',\n",
       " '147',\n",
       " '156',\n",
       " '159',\n",
       " '1_reihe',\n",
       " '1er',\n",
       " '200',\n",
       " '2_reihe',\n",
       " '300c',\n",
       " '3_reihe',\n",
       " '3er',\n",
       " '4_reihe',\n",
       " '500',\n",
       " '5_reihe',\n",
       " '5er',\n",
       " '601',\n",
       " '6_reihe',\n",
       " '6er',\n",
       " '7er',\n",
       " '80',\n",
       " '850',\n",
       " '90',\n",
       " '900',\n",
       " '9000',\n",
       " '911',\n",
       " 'a1',\n",
       " 'a2',\n",
       " 'a3',\n",
       " 'a4',\n",
       " 'a5',\n",
       " 'a6',\n",
       " 'a8',\n",
       " 'a_klasse',\n",
       " 'accord',\n",
       " 'agila',\n",
       " 'alhambra',\n",
       " 'almera',\n",
       " 'altea',\n",
       " 'amarok',\n",
       " 'antara',\n",
       " 'arosa',\n",
       " 'astra',\n",
       " 'auris',\n",
       " 'avensis',\n",
       " 'aveo',\n",
       " 'aygo',\n",
       " 'b_klasse',\n",
       " 'b_max',\n",
       " 'beetle',\n",
       " 'berlingo',\n",
       " 'bora',\n",
       " 'boxster',\n",
       " 'bravo',\n",
       " 'c1',\n",
       " 'c2',\n",
       " 'c3',\n",
       " 'c4',\n",
       " 'c5',\n",
       " 'c_klasse',\n",
       " 'c_max',\n",
       " 'c_reihe',\n",
       " 'caddy',\n",
       " 'calibra',\n",
       " 'captiva',\n",
       " 'carisma',\n",
       " 'carnival',\n",
       " 'cayenne',\n",
       " 'cc',\n",
       " 'ceed',\n",
       " 'charade',\n",
       " 'cherokee',\n",
       " 'citigo',\n",
       " 'civic',\n",
       " 'cl',\n",
       " 'clio',\n",
       " 'clk',\n",
       " 'clubman',\n",
       " 'colt',\n",
       " 'combo',\n",
       " 'cooper',\n",
       " 'cordoba',\n",
       " 'corolla',\n",
       " 'corsa',\n",
       " 'cr_reihe',\n",
       " 'croma',\n",
       " 'crossfire',\n",
       " 'cuore',\n",
       " 'cx_reihe',\n",
       " 'defender',\n",
       " 'delta',\n",
       " 'discovery',\n",
       " 'doblo',\n",
       " 'ducato',\n",
       " 'duster',\n",
       " 'e_klasse',\n",
       " 'elefantino',\n",
       " 'eos',\n",
       " 'escort',\n",
       " 'espace',\n",
       " 'exeo',\n",
       " 'fabia',\n",
       " 'fiesta',\n",
       " 'focus',\n",
       " 'forester',\n",
       " 'forfour',\n",
       " 'fortwo',\n",
       " 'fox',\n",
       " 'freelander',\n",
       " 'fusion',\n",
       " 'g_klasse',\n",
       " 'galant',\n",
       " 'galaxy',\n",
       " 'getz',\n",
       " 'gl',\n",
       " 'glk',\n",
       " 'golf',\n",
       " 'grand',\n",
       " 'i3',\n",
       " 'i_reihe',\n",
       " 'ibiza',\n",
       " 'impreza',\n",
       " 'insignia',\n",
       " 'jazz',\n",
       " 'jetta',\n",
       " 'jimny',\n",
       " 'juke',\n",
       " 'justy',\n",
       " 'ka',\n",
       " 'kadett',\n",
       " 'kaefer',\n",
       " 'kalina',\n",
       " 'kalos',\n",
       " 'kangoo',\n",
       " 'kappa',\n",
       " 'kuga',\n",
       " 'laguna',\n",
       " 'lancer',\n",
       " 'lanos',\n",
       " 'legacy',\n",
       " 'leon',\n",
       " 'lodgy',\n",
       " 'logan',\n",
       " 'lupo',\n",
       " 'lybra',\n",
       " 'm_klasse',\n",
       " 'm_reihe',\n",
       " 'materia',\n",
       " 'matiz',\n",
       " 'megane',\n",
       " 'meriva',\n",
       " 'micra',\n",
       " 'mii',\n",
       " 'modus',\n",
       " 'mondeo',\n",
       " 'move',\n",
       " 'musa',\n",
       " 'mustang',\n",
       " 'mx_reihe',\n",
       " 'navara',\n",
       " 'niva',\n",
       " 'note',\n",
       " 'nubira',\n",
       " 'null',\n",
       " 'octavia',\n",
       " 'omega',\n",
       " 'one',\n",
       " 'other',\n",
       " 'outlander',\n",
       " 'pajero',\n",
       " 'panda',\n",
       " 'passat',\n",
       " 'phaeton',\n",
       " 'picanto',\n",
       " 'polo',\n",
       " 'primera',\n",
       " 'ptcruiser',\n",
       " 'punto',\n",
       " 'q3',\n",
       " 'q5',\n",
       " 'q7',\n",
       " 'qashqai',\n",
       " 'r19',\n",
       " 'range_rover',\n",
       " 'range_rover_evoque',\n",
       " 'range_rover_sport',\n",
       " 'rangerover',\n",
       " 'rav',\n",
       " 'rio',\n",
       " 'roadster',\n",
       " 'roomster',\n",
       " 'rx_reihe',\n",
       " 's60',\n",
       " 's_klasse',\n",
       " 's_max',\n",
       " 's_type',\n",
       " 'samara',\n",
       " 'sandero',\n",
       " 'santa',\n",
       " 'scenic',\n",
       " 'scirocco',\n",
       " 'seicento',\n",
       " 'serie_1',\n",
       " 'serie_2',\n",
       " 'serie_3',\n",
       " 'sharan',\n",
       " 'signum',\n",
       " 'sirion',\n",
       " 'sl',\n",
       " 'slk',\n",
       " 'sorento',\n",
       " 'spark',\n",
       " 'spider',\n",
       " 'sportage',\n",
       " 'sprinter',\n",
       " 'stilo',\n",
       " 'superb',\n",
       " 'swift',\n",
       " 'terios',\n",
       " 'tigra',\n",
       " 'tiguan',\n",
       " 'toledo',\n",
       " 'touareg',\n",
       " 'touran',\n",
       " 'transit',\n",
       " 'transporter',\n",
       " 'tt',\n",
       " 'tucson',\n",
       " 'twingo',\n",
       " 'up',\n",
       " 'v40',\n",
       " 'v50',\n",
       " 'v60',\n",
       " 'v70',\n",
       " 'v_klasse',\n",
       " 'vectra',\n",
       " 'verso',\n",
       " 'viano',\n",
       " 'vito',\n",
       " 'vivaro',\n",
       " 'voyager',\n",
       " 'wrangler',\n",
       " 'x_reihe',\n",
       " 'x_trail',\n",
       " 'x_type',\n",
       " 'xc_reihe',\n",
       " 'yaris',\n",
       " 'yeti',\n",
       " 'ypsilon',\n",
       " 'z_reihe',\n",
       " 'zafira']"
      ]
     },
     "execution_count": 9,
     "metadata": {},
     "output_type": "execute_result"
    }
   ],
   "source": [
    "sorted(data['Model'].unique())"
   ]
  },
  {
   "cell_type": "code",
   "execution_count": 10,
   "metadata": {},
   "outputs": [
    {
     "data": {
      "text/plain": [
       "petrol      216349\n",
       "gasoline     98719\n",
       "null         32895\n",
       "lpg           5310\n",
       "cng            565\n",
       "hybrid         233\n",
       "other          204\n",
       "electric        90\n",
       "Name: FuelType, dtype: int64"
      ]
     },
     "execution_count": 10,
     "metadata": {},
     "output_type": "execute_result"
    }
   ],
   "source": [
    "data['FuelType'].value_counts()"
   ]
  },
  {
   "cell_type": "code",
   "execution_count": 11,
   "metadata": {},
   "outputs": [
    {
     "data": {
      "text/plain": [
       "volkswagen        77012\n",
       "opel              39931\n",
       "bmw               36914\n",
       "mercedes_benz     32044\n",
       "audi              29456\n",
       "ford              25179\n",
       "renault           17927\n",
       "peugeot           10998\n",
       "fiat               9643\n",
       "seat               6907\n",
       "mazda              5615\n",
       "skoda              5500\n",
       "smart              5246\n",
       "citroen            5148\n",
       "nissan             4941\n",
       "toyota             4606\n",
       "hyundai            3587\n",
       "sonstige_autos     3374\n",
       "volvo              3210\n",
       "mini               3202\n",
       "mitsubishi         3022\n",
       "honda              2817\n",
       "kia                2465\n",
       "suzuki             2322\n",
       "alfa_romeo         2314\n",
       "chevrolet          1754\n",
       "chrysler           1439\n",
       "dacia               900\n",
       "daihatsu            806\n",
       "subaru              762\n",
       "porsche             758\n",
       "jeep                677\n",
       "trabant             589\n",
       "land_rover          545\n",
       "daewoo              542\n",
       "saab                526\n",
       "jaguar              505\n",
       "rover               486\n",
       "lancia              471\n",
       "lada                225\n",
       "Name: Brand, dtype: int64"
      ]
     },
     "execution_count": 11,
     "metadata": {},
     "output_type": "execute_result"
    }
   ],
   "source": [
    "data['Brand'].value_counts()"
   ]
  },
  {
   "cell_type": "code",
   "execution_count": 12,
   "metadata": {},
   "outputs": [
    {
     "data": {
      "text/plain": [
       "no      247158\n",
       "null     71154\n",
       "yes      36053\n",
       "Name: NotRepaired, dtype: int64"
      ]
     },
     "execution_count": 12,
     "metadata": {},
     "output_type": "execute_result"
    }
   ],
   "source": [
    "data['NotRepaired'].value_counts()"
   ]
  },
  {
   "cell_type": "markdown",
   "metadata": {},
   "source": [
    "Оставим объявления с ценой от 100 евро и выше:"
   ]
  },
  {
   "cell_type": "code",
   "execution_count": 13,
   "metadata": {},
   "outputs": [],
   "source": [
    "data = data[data['Price']>=100].reset_index(drop=True)"
   ]
  },
  {
   "cell_type": "markdown",
   "metadata": {},
   "source": [
    "мощностью более 30 л.с.:"
   ]
  },
  {
   "cell_type": "code",
   "execution_count": 14,
   "metadata": {},
   "outputs": [],
   "source": [
    "data = data[data['Power']>30].reset_index(drop=True)"
   ]
  },
  {
   "cell_type": "markdown",
   "metadata": {},
   "source": [
    "скорректируем неправдоподобные мощности (вероятнее всего была ошибка на 1 или 2 порядка):"
   ]
  },
  {
   "cell_type": "code",
   "execution_count": 15,
   "metadata": {},
   "outputs": [],
   "source": [
    "data['Power'] = data['Power'].apply(lambda x: x if x<550 else x//10)\n",
    "data['Power'] = data['Power'].apply(lambda x: x if x<550 else x//10)"
   ]
  },
  {
   "cell_type": "markdown",
   "metadata": {},
   "source": [
    "оставим разумные годы регистрации (ретро автомобили вероятно оцениваются по другим критериям):"
   ]
  },
  {
   "cell_type": "code",
   "execution_count": 16,
   "metadata": {},
   "outputs": [],
   "source": [
    "data = data[(data['RegistrationYear']>=1998)&\n",
    "            (data['RegistrationYear']<=2018)].reset_index(drop=True)"
   ]
  },
  {
   "cell_type": "markdown",
   "metadata": {},
   "source": [
    "Месяц регистрации содержит довольно много нулевых значений. Судя по распределению ноль означает, что месяц решистрации не был указан:"
   ]
  },
  {
   "cell_type": "code",
   "execution_count": 17,
   "metadata": {
    "scrolled": false
   },
   "outputs": [
    {
     "data": {
      "text/html": [
       "<div>\n",
       "<style scoped>\n",
       "    .dataframe tbody tr th:only-of-type {\n",
       "        vertical-align: middle;\n",
       "    }\n",
       "\n",
       "    .dataframe tbody tr th {\n",
       "        vertical-align: top;\n",
       "    }\n",
       "\n",
       "    .dataframe thead tr th {\n",
       "        text-align: left;\n",
       "    }\n",
       "\n",
       "    .dataframe thead tr:last-of-type th {\n",
       "        text-align: right;\n",
       "    }\n",
       "</style>\n",
       "<table border=\"1\" class=\"dataframe\">\n",
       "  <thead>\n",
       "    <tr>\n",
       "      <th></th>\n",
       "      <th colspan=\"13\" halign=\"left\">Количество объявлений:</th>\n",
       "    </tr>\n",
       "    <tr>\n",
       "      <th>Месяц Регистрации</th>\n",
       "      <th>0</th>\n",
       "      <th>1</th>\n",
       "      <th>2</th>\n",
       "      <th>3</th>\n",
       "      <th>4</th>\n",
       "      <th>5</th>\n",
       "      <th>6</th>\n",
       "      <th>7</th>\n",
       "      <th>8</th>\n",
       "      <th>9</th>\n",
       "      <th>10</th>\n",
       "      <th>11</th>\n",
       "      <th>12</th>\n",
       "    </tr>\n",
       "    <tr>\n",
       "      <th>Год регистрации</th>\n",
       "      <th></th>\n",
       "      <th></th>\n",
       "      <th></th>\n",
       "      <th></th>\n",
       "      <th></th>\n",
       "      <th></th>\n",
       "      <th></th>\n",
       "      <th></th>\n",
       "      <th></th>\n",
       "      <th></th>\n",
       "      <th></th>\n",
       "      <th></th>\n",
       "      <th></th>\n",
       "    </tr>\n",
       "  </thead>\n",
       "  <tbody>\n",
       "    <tr>\n",
       "      <td>1998</td>\n",
       "      <td>1361</td>\n",
       "      <td>876</td>\n",
       "      <td>827</td>\n",
       "      <td>1520</td>\n",
       "      <td>1103</td>\n",
       "      <td>1066</td>\n",
       "      <td>1336</td>\n",
       "      <td>1232</td>\n",
       "      <td>976</td>\n",
       "      <td>990</td>\n",
       "      <td>1272</td>\n",
       "      <td>1194</td>\n",
       "      <td>1356</td>\n",
       "    </tr>\n",
       "    <tr>\n",
       "      <td>1999</td>\n",
       "      <td>1509</td>\n",
       "      <td>1277</td>\n",
       "      <td>1172</td>\n",
       "      <td>2085</td>\n",
       "      <td>1618</td>\n",
       "      <td>1505</td>\n",
       "      <td>1684</td>\n",
       "      <td>1649</td>\n",
       "      <td>1289</td>\n",
       "      <td>1409</td>\n",
       "      <td>1392</td>\n",
       "      <td>1385</td>\n",
       "      <td>1507</td>\n",
       "    </tr>\n",
       "    <tr>\n",
       "      <td>2000</td>\n",
       "      <td>1792</td>\n",
       "      <td>1471</td>\n",
       "      <td>1181</td>\n",
       "      <td>1942</td>\n",
       "      <td>1442</td>\n",
       "      <td>1757</td>\n",
       "      <td>1544</td>\n",
       "      <td>1256</td>\n",
       "      <td>1270</td>\n",
       "      <td>1167</td>\n",
       "      <td>1326</td>\n",
       "      <td>1244</td>\n",
       "      <td>1280</td>\n",
       "    </tr>\n",
       "    <tr>\n",
       "      <td>2001</td>\n",
       "      <td>1103</td>\n",
       "      <td>1286</td>\n",
       "      <td>1135</td>\n",
       "      <td>1894</td>\n",
       "      <td>1453</td>\n",
       "      <td>1631</td>\n",
       "      <td>1565</td>\n",
       "      <td>1415</td>\n",
       "      <td>1275</td>\n",
       "      <td>1282</td>\n",
       "      <td>1295</td>\n",
       "      <td>1253</td>\n",
       "      <td>1242</td>\n",
       "    </tr>\n",
       "    <tr>\n",
       "      <td>2002</td>\n",
       "      <td>805</td>\n",
       "      <td>1114</td>\n",
       "      <td>1418</td>\n",
       "      <td>1742</td>\n",
       "      <td>1457</td>\n",
       "      <td>1461</td>\n",
       "      <td>1601</td>\n",
       "      <td>1412</td>\n",
       "      <td>1186</td>\n",
       "      <td>1168</td>\n",
       "      <td>1353</td>\n",
       "      <td>1279</td>\n",
       "      <td>1200</td>\n",
       "    </tr>\n",
       "    <tr>\n",
       "      <td>2003</td>\n",
       "      <td>788</td>\n",
       "      <td>1241</td>\n",
       "      <td>1109</td>\n",
       "      <td>2241</td>\n",
       "      <td>1484</td>\n",
       "      <td>1526</td>\n",
       "      <td>1664</td>\n",
       "      <td>1346</td>\n",
       "      <td>1135</td>\n",
       "      <td>1345</td>\n",
       "      <td>1493</td>\n",
       "      <td>1238</td>\n",
       "      <td>1307</td>\n",
       "    </tr>\n",
       "    <tr>\n",
       "      <td>2004</td>\n",
       "      <td>594</td>\n",
       "      <td>1171</td>\n",
       "      <td>1071</td>\n",
       "      <td>1653</td>\n",
       "      <td>1845</td>\n",
       "      <td>1464</td>\n",
       "      <td>1626</td>\n",
       "      <td>1421</td>\n",
       "      <td>1100</td>\n",
       "      <td>1309</td>\n",
       "      <td>1518</td>\n",
       "      <td>1518</td>\n",
       "      <td>1500</td>\n",
       "    </tr>\n",
       "    <tr>\n",
       "      <td>2005</td>\n",
       "      <td>904</td>\n",
       "      <td>1116</td>\n",
       "      <td>1093</td>\n",
       "      <td>1806</td>\n",
       "      <td>1522</td>\n",
       "      <td>1895</td>\n",
       "      <td>1819</td>\n",
       "      <td>1471</td>\n",
       "      <td>1265</td>\n",
       "      <td>1555</td>\n",
       "      <td>1541</td>\n",
       "      <td>1350</td>\n",
       "      <td>1529</td>\n",
       "    </tr>\n",
       "    <tr>\n",
       "      <td>2006</td>\n",
       "      <td>511</td>\n",
       "      <td>1247</td>\n",
       "      <td>1105</td>\n",
       "      <td>1818</td>\n",
       "      <td>1613</td>\n",
       "      <td>1581</td>\n",
       "      <td>2116</td>\n",
       "      <td>1402</td>\n",
       "      <td>1226</td>\n",
       "      <td>1332</td>\n",
       "      <td>1487</td>\n",
       "      <td>1547</td>\n",
       "      <td>1568</td>\n",
       "    </tr>\n",
       "    <tr>\n",
       "      <td>2007</td>\n",
       "      <td>338</td>\n",
       "      <td>1054</td>\n",
       "      <td>933</td>\n",
       "      <td>1668</td>\n",
       "      <td>1329</td>\n",
       "      <td>1402</td>\n",
       "      <td>1384</td>\n",
       "      <td>1586</td>\n",
       "      <td>1182</td>\n",
       "      <td>1254</td>\n",
       "      <td>1389</td>\n",
       "      <td>1242</td>\n",
       "      <td>1300</td>\n",
       "    </tr>\n",
       "    <tr>\n",
       "      <td>2008</td>\n",
       "      <td>295</td>\n",
       "      <td>1084</td>\n",
       "      <td>1025</td>\n",
       "      <td>1385</td>\n",
       "      <td>1448</td>\n",
       "      <td>1228</td>\n",
       "      <td>1325</td>\n",
       "      <td>1159</td>\n",
       "      <td>1225</td>\n",
       "      <td>1109</td>\n",
       "      <td>1187</td>\n",
       "      <td>1006</td>\n",
       "      <td>1037</td>\n",
       "    </tr>\n",
       "    <tr>\n",
       "      <td>2009</td>\n",
       "      <td>255</td>\n",
       "      <td>964</td>\n",
       "      <td>1069</td>\n",
       "      <td>1350</td>\n",
       "      <td>1262</td>\n",
       "      <td>1271</td>\n",
       "      <td>1414</td>\n",
       "      <td>1121</td>\n",
       "      <td>990</td>\n",
       "      <td>1202</td>\n",
       "      <td>1147</td>\n",
       "      <td>980</td>\n",
       "      <td>798</td>\n",
       "    </tr>\n",
       "    <tr>\n",
       "      <td>2010</td>\n",
       "      <td>109</td>\n",
       "      <td>701</td>\n",
       "      <td>714</td>\n",
       "      <td>1030</td>\n",
       "      <td>989</td>\n",
       "      <td>915</td>\n",
       "      <td>1010</td>\n",
       "      <td>756</td>\n",
       "      <td>701</td>\n",
       "      <td>770</td>\n",
       "      <td>1038</td>\n",
       "      <td>829</td>\n",
       "      <td>774</td>\n",
       "    </tr>\n",
       "    <tr>\n",
       "      <td>2011</td>\n",
       "      <td>85</td>\n",
       "      <td>765</td>\n",
       "      <td>723</td>\n",
       "      <td>1057</td>\n",
       "      <td>798</td>\n",
       "      <td>901</td>\n",
       "      <td>905</td>\n",
       "      <td>751</td>\n",
       "      <td>713</td>\n",
       "      <td>753</td>\n",
       "      <td>712</td>\n",
       "      <td>801</td>\n",
       "      <td>583</td>\n",
       "    </tr>\n",
       "    <tr>\n",
       "      <td>2012</td>\n",
       "      <td>61</td>\n",
       "      <td>578</td>\n",
       "      <td>557</td>\n",
       "      <td>954</td>\n",
       "      <td>731</td>\n",
       "      <td>661</td>\n",
       "      <td>695</td>\n",
       "      <td>494</td>\n",
       "      <td>413</td>\n",
       "      <td>467</td>\n",
       "      <td>426</td>\n",
       "      <td>462</td>\n",
       "      <td>393</td>\n",
       "    </tr>\n",
       "    <tr>\n",
       "      <td>2013</td>\n",
       "      <td>26</td>\n",
       "      <td>346</td>\n",
       "      <td>308</td>\n",
       "      <td>520</td>\n",
       "      <td>404</td>\n",
       "      <td>389</td>\n",
       "      <td>414</td>\n",
       "      <td>318</td>\n",
       "      <td>271</td>\n",
       "      <td>258</td>\n",
       "      <td>269</td>\n",
       "      <td>247</td>\n",
       "      <td>203</td>\n",
       "    </tr>\n",
       "    <tr>\n",
       "      <td>2014</td>\n",
       "      <td>13</td>\n",
       "      <td>197</td>\n",
       "      <td>167</td>\n",
       "      <td>295</td>\n",
       "      <td>267</td>\n",
       "      <td>214</td>\n",
       "      <td>192</td>\n",
       "      <td>150</td>\n",
       "      <td>180</td>\n",
       "      <td>204</td>\n",
       "      <td>201</td>\n",
       "      <td>164</td>\n",
       "      <td>144</td>\n",
       "    </tr>\n",
       "    <tr>\n",
       "      <td>2015</td>\n",
       "      <td>13</td>\n",
       "      <td>129</td>\n",
       "      <td>136</td>\n",
       "      <td>176</td>\n",
       "      <td>103</td>\n",
       "      <td>89</td>\n",
       "      <td>107</td>\n",
       "      <td>74</td>\n",
       "      <td>60</td>\n",
       "      <td>45</td>\n",
       "      <td>54</td>\n",
       "      <td>43</td>\n",
       "      <td>30</td>\n",
       "    </tr>\n",
       "    <tr>\n",
       "      <td>2016</td>\n",
       "      <td>1423</td>\n",
       "      <td>296</td>\n",
       "      <td>288</td>\n",
       "      <td>481</td>\n",
       "      <td>477</td>\n",
       "      <td>490</td>\n",
       "      <td>553</td>\n",
       "      <td>426</td>\n",
       "      <td>390</td>\n",
       "      <td>356</td>\n",
       "      <td>432</td>\n",
       "      <td>368</td>\n",
       "      <td>328</td>\n",
       "    </tr>\n",
       "    <tr>\n",
       "      <td>2017</td>\n",
       "      <td>1558</td>\n",
       "      <td>383</td>\n",
       "      <td>357</td>\n",
       "      <td>598</td>\n",
       "      <td>555</td>\n",
       "      <td>528</td>\n",
       "      <td>640</td>\n",
       "      <td>534</td>\n",
       "      <td>437</td>\n",
       "      <td>392</td>\n",
       "      <td>462</td>\n",
       "      <td>445</td>\n",
       "      <td>469</td>\n",
       "    </tr>\n",
       "    <tr>\n",
       "      <td>2018</td>\n",
       "      <td>475</td>\n",
       "      <td>184</td>\n",
       "      <td>176</td>\n",
       "      <td>286</td>\n",
       "      <td>252</td>\n",
       "      <td>203</td>\n",
       "      <td>223</td>\n",
       "      <td>170</td>\n",
       "      <td>157</td>\n",
       "      <td>173</td>\n",
       "      <td>168</td>\n",
       "      <td>198</td>\n",
       "      <td>196</td>\n",
       "    </tr>\n",
       "  </tbody>\n",
       "</table>\n",
       "</div>"
      ],
      "text/plain": [
       "                  Количество объявлений:                                      \\\n",
       "Месяц Регистрации                     0     1     2     3     4     5     6    \n",
       "Год регистрации                                                                \n",
       "1998                                1361   876   827  1520  1103  1066  1336   \n",
       "1999                                1509  1277  1172  2085  1618  1505  1684   \n",
       "2000                                1792  1471  1181  1942  1442  1757  1544   \n",
       "2001                                1103  1286  1135  1894  1453  1631  1565   \n",
       "2002                                 805  1114  1418  1742  1457  1461  1601   \n",
       "2003                                 788  1241  1109  2241  1484  1526  1664   \n",
       "2004                                 594  1171  1071  1653  1845  1464  1626   \n",
       "2005                                 904  1116  1093  1806  1522  1895  1819   \n",
       "2006                                 511  1247  1105  1818  1613  1581  2116   \n",
       "2007                                 338  1054   933  1668  1329  1402  1384   \n",
       "2008                                 295  1084  1025  1385  1448  1228  1325   \n",
       "2009                                 255   964  1069  1350  1262  1271  1414   \n",
       "2010                                 109   701   714  1030   989   915  1010   \n",
       "2011                                  85   765   723  1057   798   901   905   \n",
       "2012                                  61   578   557   954   731   661   695   \n",
       "2013                                  26   346   308   520   404   389   414   \n",
       "2014                                  13   197   167   295   267   214   192   \n",
       "2015                                  13   129   136   176   103    89   107   \n",
       "2016                                1423   296   288   481   477   490   553   \n",
       "2017                                1558   383   357   598   555   528   640   \n",
       "2018                                 475   184   176   286   252   203   223   \n",
       "\n",
       "                                                       \n",
       "Месяц Регистрации    7     8     9     10    11    12  \n",
       "Год регистрации                                        \n",
       "1998               1232   976   990  1272  1194  1356  \n",
       "1999               1649  1289  1409  1392  1385  1507  \n",
       "2000               1256  1270  1167  1326  1244  1280  \n",
       "2001               1415  1275  1282  1295  1253  1242  \n",
       "2002               1412  1186  1168  1353  1279  1200  \n",
       "2003               1346  1135  1345  1493  1238  1307  \n",
       "2004               1421  1100  1309  1518  1518  1500  \n",
       "2005               1471  1265  1555  1541  1350  1529  \n",
       "2006               1402  1226  1332  1487  1547  1568  \n",
       "2007               1586  1182  1254  1389  1242  1300  \n",
       "2008               1159  1225  1109  1187  1006  1037  \n",
       "2009               1121   990  1202  1147   980   798  \n",
       "2010                756   701   770  1038   829   774  \n",
       "2011                751   713   753   712   801   583  \n",
       "2012                494   413   467   426   462   393  \n",
       "2013                318   271   258   269   247   203  \n",
       "2014                150   180   204   201   164   144  \n",
       "2015                 74    60    45    54    43    30  \n",
       "2016                426   390   356   432   368   328  \n",
       "2017                534   437   392   462   445   469  \n",
       "2018                170   157   173   168   198   196  "
      ]
     },
     "execution_count": 17,
     "metadata": {},
     "output_type": "execute_result"
    }
   ],
   "source": [
    "months = data[['RegistrationYear', 'RegistrationMonth']].copy()\n",
    "months.columns = ['Год регистрации', 'Месяц Регистрации']\n",
    "months['Количество объявлений:'] = 1\n",
    "pd.pivot_table(months, index = 'Год регистрации', columns = 'Месяц Регистрации', aggfunc = 'sum' )"
   ]
  },
  {
   "cell_type": "markdown",
   "metadata": {},
   "source": [
    "Заменим нулевые значения случайными числами:"
   ]
  },
  {
   "cell_type": "code",
   "execution_count": 18,
   "metadata": {},
   "outputs": [],
   "source": [
    "data['RegistrationMonth'] = data['RegistrationMonth'].apply(lambda x: np.random.randint(1,13) if x==0 else x)"
   ]
  },
  {
   "cell_type": "code",
   "execution_count": 19,
   "metadata": {},
   "outputs": [
    {
     "data": {
      "text/html": [
       "<div>\n",
       "<style scoped>\n",
       "    .dataframe tbody tr th:only-of-type {\n",
       "        vertical-align: middle;\n",
       "    }\n",
       "\n",
       "    .dataframe tbody tr th {\n",
       "        vertical-align: top;\n",
       "    }\n",
       "\n",
       "    .dataframe thead tr th {\n",
       "        text-align: left;\n",
       "    }\n",
       "\n",
       "    .dataframe thead tr:last-of-type th {\n",
       "        text-align: right;\n",
       "    }\n",
       "</style>\n",
       "<table border=\"1\" class=\"dataframe\">\n",
       "  <thead>\n",
       "    <tr>\n",
       "      <th></th>\n",
       "      <th colspan=\"12\" halign=\"left\">Количество объявлений:</th>\n",
       "    </tr>\n",
       "    <tr>\n",
       "      <th>Месяц Регистрации</th>\n",
       "      <th>1</th>\n",
       "      <th>2</th>\n",
       "      <th>3</th>\n",
       "      <th>4</th>\n",
       "      <th>5</th>\n",
       "      <th>6</th>\n",
       "      <th>7</th>\n",
       "      <th>8</th>\n",
       "      <th>9</th>\n",
       "      <th>10</th>\n",
       "      <th>11</th>\n",
       "      <th>12</th>\n",
       "    </tr>\n",
       "    <tr>\n",
       "      <th>Год регистрации</th>\n",
       "      <th></th>\n",
       "      <th></th>\n",
       "      <th></th>\n",
       "      <th></th>\n",
       "      <th></th>\n",
       "      <th></th>\n",
       "      <th></th>\n",
       "      <th></th>\n",
       "      <th></th>\n",
       "      <th></th>\n",
       "      <th></th>\n",
       "      <th></th>\n",
       "    </tr>\n",
       "  </thead>\n",
       "  <tbody>\n",
       "    <tr>\n",
       "      <td>1998</td>\n",
       "      <td>987</td>\n",
       "      <td>938</td>\n",
       "      <td>1639</td>\n",
       "      <td>1206</td>\n",
       "      <td>1188</td>\n",
       "      <td>1448</td>\n",
       "      <td>1346</td>\n",
       "      <td>1098</td>\n",
       "      <td>1082</td>\n",
       "      <td>1397</td>\n",
       "      <td>1311</td>\n",
       "      <td>1469</td>\n",
       "    </tr>\n",
       "    <tr>\n",
       "      <td>1999</td>\n",
       "      <td>1401</td>\n",
       "      <td>1312</td>\n",
       "      <td>2196</td>\n",
       "      <td>1749</td>\n",
       "      <td>1624</td>\n",
       "      <td>1795</td>\n",
       "      <td>1768</td>\n",
       "      <td>1425</td>\n",
       "      <td>1522</td>\n",
       "      <td>1531</td>\n",
       "      <td>1526</td>\n",
       "      <td>1632</td>\n",
       "    </tr>\n",
       "    <tr>\n",
       "      <td>2000</td>\n",
       "      <td>1642</td>\n",
       "      <td>1336</td>\n",
       "      <td>2095</td>\n",
       "      <td>1582</td>\n",
       "      <td>1923</td>\n",
       "      <td>1685</td>\n",
       "      <td>1397</td>\n",
       "      <td>1421</td>\n",
       "      <td>1316</td>\n",
       "      <td>1466</td>\n",
       "      <td>1377</td>\n",
       "      <td>1432</td>\n",
       "    </tr>\n",
       "    <tr>\n",
       "      <td>2001</td>\n",
       "      <td>1376</td>\n",
       "      <td>1229</td>\n",
       "      <td>1985</td>\n",
       "      <td>1538</td>\n",
       "      <td>1729</td>\n",
       "      <td>1654</td>\n",
       "      <td>1493</td>\n",
       "      <td>1366</td>\n",
       "      <td>1369</td>\n",
       "      <td>1392</td>\n",
       "      <td>1343</td>\n",
       "      <td>1355</td>\n",
       "    </tr>\n",
       "    <tr>\n",
       "      <td>2002</td>\n",
       "      <td>1182</td>\n",
       "      <td>1488</td>\n",
       "      <td>1807</td>\n",
       "      <td>1523</td>\n",
       "      <td>1521</td>\n",
       "      <td>1666</td>\n",
       "      <td>1492</td>\n",
       "      <td>1260</td>\n",
       "      <td>1230</td>\n",
       "      <td>1414</td>\n",
       "      <td>1350</td>\n",
       "      <td>1263</td>\n",
       "    </tr>\n",
       "    <tr>\n",
       "      <td>2003</td>\n",
       "      <td>1306</td>\n",
       "      <td>1192</td>\n",
       "      <td>2301</td>\n",
       "      <td>1546</td>\n",
       "      <td>1592</td>\n",
       "      <td>1720</td>\n",
       "      <td>1417</td>\n",
       "      <td>1201</td>\n",
       "      <td>1411</td>\n",
       "      <td>1558</td>\n",
       "      <td>1306</td>\n",
       "      <td>1367</td>\n",
       "    </tr>\n",
       "    <tr>\n",
       "      <td>2004</td>\n",
       "      <td>1233</td>\n",
       "      <td>1115</td>\n",
       "      <td>1696</td>\n",
       "      <td>1886</td>\n",
       "      <td>1513</td>\n",
       "      <td>1667</td>\n",
       "      <td>1469</td>\n",
       "      <td>1166</td>\n",
       "      <td>1360</td>\n",
       "      <td>1567</td>\n",
       "      <td>1556</td>\n",
       "      <td>1562</td>\n",
       "    </tr>\n",
       "    <tr>\n",
       "      <td>2005</td>\n",
       "      <td>1194</td>\n",
       "      <td>1170</td>\n",
       "      <td>1895</td>\n",
       "      <td>1605</td>\n",
       "      <td>1967</td>\n",
       "      <td>1893</td>\n",
       "      <td>1549</td>\n",
       "      <td>1335</td>\n",
       "      <td>1617</td>\n",
       "      <td>1623</td>\n",
       "      <td>1421</td>\n",
       "      <td>1597</td>\n",
       "    </tr>\n",
       "    <tr>\n",
       "      <td>2006</td>\n",
       "      <td>1294</td>\n",
       "      <td>1145</td>\n",
       "      <td>1859</td>\n",
       "      <td>1661</td>\n",
       "      <td>1630</td>\n",
       "      <td>2157</td>\n",
       "      <td>1438</td>\n",
       "      <td>1272</td>\n",
       "      <td>1373</td>\n",
       "      <td>1529</td>\n",
       "      <td>1588</td>\n",
       "      <td>1607</td>\n",
       "    </tr>\n",
       "    <tr>\n",
       "      <td>2007</td>\n",
       "      <td>1079</td>\n",
       "      <td>961</td>\n",
       "      <td>1697</td>\n",
       "      <td>1361</td>\n",
       "      <td>1446</td>\n",
       "      <td>1405</td>\n",
       "      <td>1620</td>\n",
       "      <td>1211</td>\n",
       "      <td>1271</td>\n",
       "      <td>1421</td>\n",
       "      <td>1269</td>\n",
       "      <td>1320</td>\n",
       "    </tr>\n",
       "    <tr>\n",
       "      <td>2008</td>\n",
       "      <td>1107</td>\n",
       "      <td>1050</td>\n",
       "      <td>1412</td>\n",
       "      <td>1476</td>\n",
       "      <td>1248</td>\n",
       "      <td>1353</td>\n",
       "      <td>1182</td>\n",
       "      <td>1253</td>\n",
       "      <td>1130</td>\n",
       "      <td>1214</td>\n",
       "      <td>1025</td>\n",
       "      <td>1063</td>\n",
       "    </tr>\n",
       "    <tr>\n",
       "      <td>2009</td>\n",
       "      <td>979</td>\n",
       "      <td>1087</td>\n",
       "      <td>1375</td>\n",
       "      <td>1284</td>\n",
       "      <td>1294</td>\n",
       "      <td>1433</td>\n",
       "      <td>1145</td>\n",
       "      <td>1015</td>\n",
       "      <td>1223</td>\n",
       "      <td>1173</td>\n",
       "      <td>996</td>\n",
       "      <td>819</td>\n",
       "    </tr>\n",
       "    <tr>\n",
       "      <td>2010</td>\n",
       "      <td>707</td>\n",
       "      <td>727</td>\n",
       "      <td>1043</td>\n",
       "      <td>995</td>\n",
       "      <td>923</td>\n",
       "      <td>1019</td>\n",
       "      <td>765</td>\n",
       "      <td>710</td>\n",
       "      <td>781</td>\n",
       "      <td>1045</td>\n",
       "      <td>838</td>\n",
       "      <td>783</td>\n",
       "    </tr>\n",
       "    <tr>\n",
       "      <td>2011</td>\n",
       "      <td>770</td>\n",
       "      <td>727</td>\n",
       "      <td>1062</td>\n",
       "      <td>805</td>\n",
       "      <td>913</td>\n",
       "      <td>913</td>\n",
       "      <td>759</td>\n",
       "      <td>722</td>\n",
       "      <td>765</td>\n",
       "      <td>715</td>\n",
       "      <td>810</td>\n",
       "      <td>586</td>\n",
       "    </tr>\n",
       "    <tr>\n",
       "      <td>2012</td>\n",
       "      <td>589</td>\n",
       "      <td>562</td>\n",
       "      <td>958</td>\n",
       "      <td>734</td>\n",
       "      <td>664</td>\n",
       "      <td>699</td>\n",
       "      <td>499</td>\n",
       "      <td>418</td>\n",
       "      <td>474</td>\n",
       "      <td>432</td>\n",
       "      <td>463</td>\n",
       "      <td>400</td>\n",
       "    </tr>\n",
       "    <tr>\n",
       "      <td>2013</td>\n",
       "      <td>348</td>\n",
       "      <td>312</td>\n",
       "      <td>523</td>\n",
       "      <td>408</td>\n",
       "      <td>392</td>\n",
       "      <td>415</td>\n",
       "      <td>320</td>\n",
       "      <td>271</td>\n",
       "      <td>261</td>\n",
       "      <td>271</td>\n",
       "      <td>249</td>\n",
       "      <td>203</td>\n",
       "    </tr>\n",
       "    <tr>\n",
       "      <td>2014</td>\n",
       "      <td>199</td>\n",
       "      <td>169</td>\n",
       "      <td>295</td>\n",
       "      <td>269</td>\n",
       "      <td>215</td>\n",
       "      <td>193</td>\n",
       "      <td>150</td>\n",
       "      <td>180</td>\n",
       "      <td>204</td>\n",
       "      <td>203</td>\n",
       "      <td>167</td>\n",
       "      <td>144</td>\n",
       "    </tr>\n",
       "    <tr>\n",
       "      <td>2015</td>\n",
       "      <td>130</td>\n",
       "      <td>137</td>\n",
       "      <td>177</td>\n",
       "      <td>103</td>\n",
       "      <td>90</td>\n",
       "      <td>108</td>\n",
       "      <td>74</td>\n",
       "      <td>62</td>\n",
       "      <td>47</td>\n",
       "      <td>54</td>\n",
       "      <td>44</td>\n",
       "      <td>33</td>\n",
       "    </tr>\n",
       "    <tr>\n",
       "      <td>2016</td>\n",
       "      <td>420</td>\n",
       "      <td>385</td>\n",
       "      <td>598</td>\n",
       "      <td>598</td>\n",
       "      <td>623</td>\n",
       "      <td>666</td>\n",
       "      <td>535</td>\n",
       "      <td>512</td>\n",
       "      <td>465</td>\n",
       "      <td>569</td>\n",
       "      <td>491</td>\n",
       "      <td>446</td>\n",
       "    </tr>\n",
       "    <tr>\n",
       "      <td>2017</td>\n",
       "      <td>501</td>\n",
       "      <td>485</td>\n",
       "      <td>741</td>\n",
       "      <td>699</td>\n",
       "      <td>654</td>\n",
       "      <td>762</td>\n",
       "      <td>668</td>\n",
       "      <td>563</td>\n",
       "      <td>516</td>\n",
       "      <td>596</td>\n",
       "      <td>572</td>\n",
       "      <td>601</td>\n",
       "    </tr>\n",
       "    <tr>\n",
       "      <td>2018</td>\n",
       "      <td>234</td>\n",
       "      <td>213</td>\n",
       "      <td>328</td>\n",
       "      <td>286</td>\n",
       "      <td>242</td>\n",
       "      <td>268</td>\n",
       "      <td>210</td>\n",
       "      <td>194</td>\n",
       "      <td>201</td>\n",
       "      <td>206</td>\n",
       "      <td>239</td>\n",
       "      <td>240</td>\n",
       "    </tr>\n",
       "  </tbody>\n",
       "</table>\n",
       "</div>"
      ],
      "text/plain": [
       "                  Количество объявлений:                                      \\\n",
       "Месяц Регистрации                     1     2     3     4     5     6     7    \n",
       "Год регистрации                                                                \n",
       "1998                                 987   938  1639  1206  1188  1448  1346   \n",
       "1999                                1401  1312  2196  1749  1624  1795  1768   \n",
       "2000                                1642  1336  2095  1582  1923  1685  1397   \n",
       "2001                                1376  1229  1985  1538  1729  1654  1493   \n",
       "2002                                1182  1488  1807  1523  1521  1666  1492   \n",
       "2003                                1306  1192  2301  1546  1592  1720  1417   \n",
       "2004                                1233  1115  1696  1886  1513  1667  1469   \n",
       "2005                                1194  1170  1895  1605  1967  1893  1549   \n",
       "2006                                1294  1145  1859  1661  1630  2157  1438   \n",
       "2007                                1079   961  1697  1361  1446  1405  1620   \n",
       "2008                                1107  1050  1412  1476  1248  1353  1182   \n",
       "2009                                 979  1087  1375  1284  1294  1433  1145   \n",
       "2010                                 707   727  1043   995   923  1019   765   \n",
       "2011                                 770   727  1062   805   913   913   759   \n",
       "2012                                 589   562   958   734   664   699   499   \n",
       "2013                                 348   312   523   408   392   415   320   \n",
       "2014                                 199   169   295   269   215   193   150   \n",
       "2015                                 130   137   177   103    90   108    74   \n",
       "2016                                 420   385   598   598   623   666   535   \n",
       "2017                                 501   485   741   699   654   762   668   \n",
       "2018                                 234   213   328   286   242   268   210   \n",
       "\n",
       "                                                 \n",
       "Месяц Регистрации    8     9     10    11    12  \n",
       "Год регистрации                                  \n",
       "1998               1098  1082  1397  1311  1469  \n",
       "1999               1425  1522  1531  1526  1632  \n",
       "2000               1421  1316  1466  1377  1432  \n",
       "2001               1366  1369  1392  1343  1355  \n",
       "2002               1260  1230  1414  1350  1263  \n",
       "2003               1201  1411  1558  1306  1367  \n",
       "2004               1166  1360  1567  1556  1562  \n",
       "2005               1335  1617  1623  1421  1597  \n",
       "2006               1272  1373  1529  1588  1607  \n",
       "2007               1211  1271  1421  1269  1320  \n",
       "2008               1253  1130  1214  1025  1063  \n",
       "2009               1015  1223  1173   996   819  \n",
       "2010                710   781  1045   838   783  \n",
       "2011                722   765   715   810   586  \n",
       "2012                418   474   432   463   400  \n",
       "2013                271   261   271   249   203  \n",
       "2014                180   204   203   167   144  \n",
       "2015                 62    47    54    44    33  \n",
       "2016                512   465   569   491   446  \n",
       "2017                563   516   596   572   601  \n",
       "2018                194   201   206   239   240  "
      ]
     },
     "execution_count": 19,
     "metadata": {},
     "output_type": "execute_result"
    }
   ],
   "source": [
    "months = data[['RegistrationYear', 'RegistrationMonth']].copy()\n",
    "months.columns = ['Год регистрации', 'Месяц Регистрации']\n",
    "months['Количество объявлений:'] = 1\n",
    "pd.pivot_table(months, index = 'Год регистрации', columns = 'Месяц Регистрации', aggfunc = 'sum' )"
   ]
  },
  {
   "cell_type": "code",
   "execution_count": null,
   "metadata": {},
   "outputs": [],
   "source": []
  },
  {
   "cell_type": "code",
   "execution_count": null,
   "metadata": {},
   "outputs": [],
   "source": []
  },
  {
   "cell_type": "markdown",
   "metadata": {},
   "source": [
    "## Обучение моделей"
   ]
  },
  {
   "cell_type": "code",
   "execution_count": 20,
   "metadata": {},
   "outputs": [],
   "source": [
    "def rmse_report(model, trainX, trainY, testX, testY):\n",
    "    print('RMSE на тренировочной выборке:', round(mean_squared_error(trainY, model.predict(trainX))**0.5, 2))\n",
    "    print('RMSE  на   тестовой  выборке:', round(mean_squared_error(testY, model.predict(testX))**0.5, 2))"
   ]
  },
  {
   "cell_type": "code",
   "execution_count": 21,
   "metadata": {},
   "outputs": [],
   "source": [
    "trainX, testX, \\\n",
    "trainY, testY = train_test_split(\n",
    "    data.drop('Price',axis = 1),\n",
    "    data['Price'],\n",
    "    test_size = 0.25, random_state = 12345)"
   ]
  },
  {
   "cell_type": "markdown",
   "metadata": {},
   "source": [
    "### Catboost"
   ]
  },
  {
   "cell_type": "code",
   "execution_count": 22,
   "metadata": {},
   "outputs": [
    {
     "name": "stdout",
     "output_type": "stream",
     "text": [
      "0:\tloss: 1646.0984010\tbest: 1646.0984010 (0)\ttotal: 24.9s\tremaining: 1m 14s\n",
      "1:\tloss: 1587.2976383\tbest: 1587.2976383 (1)\ttotal: 47.6s\tremaining: 47.6s\n",
      "2:\tloss: 1676.2990910\tbest: 1587.2976383 (1)\ttotal: 58.3s\tremaining: 19.4s\n",
      "3:\tloss: 1710.7682434\tbest: 1587.2976383 (1)\ttotal: 1m 8s\tremaining: 0us\n",
      "Estimating final quality...\n",
      "CPU times: user 2min 20s, sys: 22.1 s, total: 2min 42s\n",
      "Wall time: 2min 45s\n"
     ]
    }
   ],
   "source": [
    "%%time \n",
    "cat_feat = ['VehicleType','Gearbox', 'Model',\n",
    "            'FuelType', 'Brand','NotRepaired']\n",
    "\n",
    "CB = CatBoostRegressor(loss_function='RMSE') \n",
    "\n",
    "parameters = {'depth':[12, 6], \n",
    "              'learning_rate':[1, 0.3],\n",
    "              'iterations':[60]}\n",
    "\n",
    "cb_grid = CB.grid_search(parameters, \n",
    "                         Pool(trainX, trainY, cat_features=cat_feat), \n",
    "                         cv=3, verbose=True)"
   ]
  },
  {
   "cell_type": "code",
   "execution_count": 23,
   "metadata": {},
   "outputs": [
    {
     "name": "stdout",
     "output_type": "stream",
     "text": [
      "RMSE на тренировочной выборке: 1435.98\n",
      "RMSE  на   тестовой  выборке: 1567.36\n"
     ]
    }
   ],
   "source": [
    "rmse_report(CB, trainX, trainY, testX, testY)"
   ]
  },
  {
   "cell_type": "code",
   "execution_count": 24,
   "metadata": {},
   "outputs": [
    {
     "data": {
      "text/plain": [
       "{'depth': 12, 'iterations': 60, 'learning_rate': 0.3}"
      ]
     },
     "execution_count": 24,
     "metadata": {},
     "output_type": "execute_result"
    }
   ],
   "source": [
    "cb_grid['params']"
   ]
  },
  {
   "cell_type": "code",
   "execution_count": 25,
   "metadata": {},
   "outputs": [
    {
     "data": {
      "image/png": "[encoded data removed]",
      "text/plain": [
       "<Figure size 1080x360 with 1 Axes>"
      ]
     },
     "metadata": {
      "needs_background": "light"
     },
     "output_type": "display_data"
    }
   ],
   "source": [
    "ax = pd.DataFrame(CB.feature_importances_, \n",
    "                  columns=['Значимость признаков'], \n",
    "                  index=trainX.columns).plot(kind='barh', grid=True, figsize=(15,5))"
   ]
  },
  {
   "cell_type": "markdown",
   "metadata": {},
   "source": [
    "### LightGBM"
   ]
  },
  {
   "cell_type": "code",
   "execution_count": 26,
   "metadata": {},
   "outputs": [
    {
     "name": "stdout",
     "output_type": "stream",
     "text": [
      "[10]\ttraining's rmse: 2555.3\tvalid_1's rmse: 2548.68\n",
      "[20]\ttraining's rmse: 1930.74\tvalid_1's rmse: 1932.34\n",
      "[30]\ttraining's rmse: 1738.68\tvalid_1's rmse: 1746.12\n",
      "[40]\ttraining's rmse: 1668.77\tvalid_1's rmse: 1681.61\n",
      "[50]\ttraining's rmse: 1635.29\tvalid_1's rmse: 1653.83\n",
      "[60]\ttraining's rmse: 1615.41\tvalid_1's rmse: 1637.53\n",
      "[70]\ttraining's rmse: 1599.11\tvalid_1's rmse: 1625.24\n",
      "[80]\ttraining's rmse: 1584.08\tvalid_1's rmse: 1614.6\n",
      "[90]\ttraining's rmse: 1573.37\tvalid_1's rmse: 1607.77\n",
      "[100]\ttraining's rmse: 1563.96\tvalid_1's rmse: 1601.55\n",
      "[110]\ttraining's rmse: 1556.63\tvalid_1's rmse: 1596.22\n",
      "[120]\ttraining's rmse: 1548.62\tvalid_1's rmse: 1591.51\n",
      "[130]\ttraining's rmse: 1541.51\tvalid_1's rmse: 1586.93\n",
      "[140]\ttraining's rmse: 1533.63\tvalid_1's rmse: 1581.92\n",
      "[150]\ttraining's rmse: 1527.04\tvalid_1's rmse: 1577.85\n",
      "[160]\ttraining's rmse: 1521.08\tvalid_1's rmse: 1573.73\n",
      "[170]\ttraining's rmse: 1515.51\tvalid_1's rmse: 1570.64\n",
      "[180]\ttraining's rmse: 1509.64\tvalid_1's rmse: 1567.18\n",
      "[190]\ttraining's rmse: 1504.43\tvalid_1's rmse: 1564.41\n",
      "[200]\ttraining's rmse: 1500.01\tvalid_1's rmse: 1561.94\n",
      "CPU times: user 12.1 s, sys: 0 ns, total: 12.1 s\n",
      "Wall time: 12.3 s\n"
     ]
    }
   ],
   "source": [
    "%%time \n",
    "lgb_train = lgb.Dataset(trainX, trainY)\n",
    "lgb_test = lgb.Dataset(testX, testY, reference=lgb_train)\n",
    "parameters = {'metric': 'rmse', \n",
    "              'max_depth': 6,\n",
    "              'random_state': 12345,\n",
    "              'learning_rate': 0.1}\n",
    "\n",
    "LG = lgb.train(parameters,\n",
    "               lgb_train,\n",
    "               num_boost_round=200,\n",
    "               valid_sets=[lgb_train, lgb_test],                  \n",
    "               verbose_eval=10)"
   ]
  },
  {
   "cell_type": "code",
   "execution_count": 27,
   "metadata": {},
   "outputs": [
    {
     "name": "stdout",
     "output_type": "stream",
     "text": [
      "RMSE на тренировочной выборке: 1500.01\n",
      "RMSE  на   тестовой  выборке: 1561.94\n"
     ]
    }
   ],
   "source": [
    "rmse_report(LG, trainX, trainY, testX, testY)"
   ]
  },
  {
   "cell_type": "markdown",
   "metadata": {},
   "source": [
    "### RandomForest"
   ]
  },
  {
   "cell_type": "code",
   "execution_count": 28,
   "metadata": {},
   "outputs": [],
   "source": [
    "trainX_ohe, testX_ohe, \\\n",
    "trainY_ohe, testY_ohe = train_test_split(\n",
    "    pd.get_dummies(data.drop('Price',axis = 1), drop_first=True),\n",
    "    data['Price'],\n",
    "    test_size = 0.25, random_state = 12345)"
   ]
  },
  {
   "cell_type": "code",
   "execution_count": 29,
   "metadata": {},
   "outputs": [
    {
     "name": "stdout",
     "output_type": "stream",
     "text": [
      "CPU times: user 1min 18s, sys: 0 ns, total: 1min 18s\n",
      "Wall time: 1min 19s\n"
     ]
    },
    {
     "data": {
      "text/plain": [
       "RandomForestRegressor(bootstrap=True, criterion='mse', max_depth=None,\n",
       "                      max_features='auto', max_leaf_nodes=None,\n",
       "                      min_impurity_decrease=0.0, min_impurity_split=None,\n",
       "                      min_samples_leaf=1, min_samples_split=2,\n",
       "                      min_weight_fraction_leaf=0.0, n_estimators=20,\n",
       "                      n_jobs=None, oob_score=False, random_state=12345,\n",
       "                      verbose=0, warm_start=False)"
      ]
     },
     "execution_count": 29,
     "metadata": {},
     "output_type": "execute_result"
    }
   ],
   "source": [
    "%%time \n",
    "RF = RandomForestRegressor(random_state=12345,n_estimators=20)\n",
    "RF.fit(trainX_ohe, trainY_ohe)"
   ]
  },
  {
   "cell_type": "code",
   "execution_count": 30,
   "metadata": {},
   "outputs": [
    {
     "name": "stdout",
     "output_type": "stream",
     "text": [
      "RMSE на тренировочной выборке: 756.19\n",
      "RMSE  на   тестовой  выборке: 1571.05\n"
     ]
    }
   ],
   "source": [
    "rmse_report(RF, trainX_ohe, trainY_ohe, testX_ohe, testY_ohe)"
   ]
  },
  {
   "cell_type": "markdown",
   "metadata": {},
   "source": [
    "## Анализ моделей"
   ]
  },
  {
   "cell_type": "markdown",
   "metadata": {},
   "source": [
    "Обучение показало, что модели градиентного бустинга Catboost и LightGBM позволяют позволяю получить схожие результаты, превосходящие по качеству предсказания RandomForest. Кроме этого, RandomForestRegressor очень сильно переобучается.\n",
    "\n",
    "---\n",
    "Для сравнения скорости работы подберем гиперпараметры, обеспечивающие сходное качество предсказания, и замерим время обучения и время предсказания для каждой модели:\n"
   ]
  },
  {
   "cell_type": "markdown",
   "metadata": {},
   "source": [
    "### Catboost"
   ]
  },
  {
   "cell_type": "code",
   "execution_count": 31,
   "metadata": {},
   "outputs": [
    {
     "name": "stdout",
     "output_type": "stream",
     "text": [
      "CPU times: user 23.4 s, sys: 3.03 s, total: 26.4 s\n",
      "Wall time: 27.7 s\n"
     ]
    }
   ],
   "source": [
    "%%time\n",
    "CB = CatBoostRegressor(loss_function='RMSE', depth=12, iterations=60, learning_rate=0.3)\n",
    "ax = CB.fit(Pool(trainX, trainY, cat_features=cat_feat), verbose=False)"
   ]
  },
  {
   "cell_type": "code",
   "execution_count": 32,
   "metadata": {},
   "outputs": [
    {
     "name": "stdout",
     "output_type": "stream",
     "text": [
      "93.1 ms ± 2.23 ms per loop (mean ± std. dev. of 7 runs, 10 loops each)\n"
     ]
    }
   ],
   "source": [
    "%%timeit\n",
    "CB.predict(testX)"
   ]
  },
  {
   "cell_type": "code",
   "execution_count": 33,
   "metadata": {},
   "outputs": [
    {
     "name": "stdout",
     "output_type": "stream",
     "text": [
      "RMSE  на   тестовой  выборке: 1567.36\n"
     ]
    }
   ],
   "source": [
    "print('RMSE  на   тестовой  выборке:', round(mean_squared_error(testY, CB.predict(testX))**0.5, 2))"
   ]
  },
  {
   "cell_type": "markdown",
   "metadata": {},
   "source": [
    "### LighGBM"
   ]
  },
  {
   "cell_type": "code",
   "execution_count": 34,
   "metadata": {},
   "outputs": [
    {
     "name": "stdout",
     "output_type": "stream",
     "text": [
      "CPU times: user 6.89 s, sys: 17.8 ms, total: 6.91 s\n",
      "Wall time: 7.07 s\n"
     ]
    }
   ],
   "source": [
    "%%time\n",
    "LG = lgb.train({'metric': 'rmse', \n",
    "                'max_depth': 16,\n",
    "                'random_state': 12345,\n",
    "                'learning_rate': 0.1},\n",
    "                lgb.Dataset(trainX, trainY),\n",
    "                num_boost_round=120)"
   ]
  },
  {
   "cell_type": "code",
   "execution_count": 35,
   "metadata": {},
   "outputs": [
    {
     "name": "stdout",
     "output_type": "stream",
     "text": [
      "772 ms ± 40.9 ms per loop (mean ± std. dev. of 7 runs, 1 loop each)\n"
     ]
    }
   ],
   "source": [
    "%%timeit\n",
    "LG.predict(testX)"
   ]
  },
  {
   "cell_type": "code",
   "execution_count": 36,
   "metadata": {},
   "outputs": [
    {
     "name": "stdout",
     "output_type": "stream",
     "text": [
      "RMSE  на   тестовой  выборке: 1574.73\n"
     ]
    }
   ],
   "source": [
    "print('RMSE  на   тестовой  выборке:', round(mean_squared_error(testY, LG.predict(testX))**0.5, 2))"
   ]
  },
  {
   "cell_type": "markdown",
   "metadata": {},
   "source": [
    "### RandomForest"
   ]
  },
  {
   "cell_type": "code",
   "execution_count": 37,
   "metadata": {},
   "outputs": [
    {
     "name": "stdout",
     "output_type": "stream",
     "text": [
      "CPU times: user 1min 17s, sys: 0 ns, total: 1min 17s\n",
      "Wall time: 1min 18s\n"
     ]
    },
    {
     "data": {
      "text/plain": [
       "RandomForestRegressor(bootstrap=True, criterion='mse', max_depth=None,\n",
       "                      max_features='auto', max_leaf_nodes=None,\n",
       "                      min_impurity_decrease=0.0, min_impurity_split=None,\n",
       "                      min_samples_leaf=1, min_samples_split=2,\n",
       "                      min_weight_fraction_leaf=0.0, n_estimators=20,\n",
       "                      n_jobs=None, oob_score=False, random_state=12345,\n",
       "                      verbose=0, warm_start=False)"
      ]
     },
     "execution_count": 37,
     "metadata": {},
     "output_type": "execute_result"
    }
   ],
   "source": [
    "%%time\n",
    "RF = RandomForestRegressor(random_state=12345,n_estimators=20)\n",
    "RF.fit(trainX_ohe, trainY_ohe)"
   ]
  },
  {
   "cell_type": "code",
   "execution_count": 38,
   "metadata": {},
   "outputs": [
    {
     "name": "stdout",
     "output_type": "stream",
     "text": [
      "834 ms ± 7.94 ms per loop (mean ± std. dev. of 7 runs, 1 loop each)\n"
     ]
    }
   ],
   "source": [
    "%%timeit\n",
    "RF.predict(testX_ohe)"
   ]
  },
  {
   "cell_type": "code",
   "execution_count": 39,
   "metadata": {},
   "outputs": [
    {
     "name": "stdout",
     "output_type": "stream",
     "text": [
      "RMSE  на   тестовой  выборке: 1571.05\n"
     ]
    }
   ],
   "source": [
    "print('RMSE  на   тестовой  выборке:', round(mean_squared_error(testY_ohe, RF.predict(testX_ohe))**0.5, 2))"
   ]
  },
  {
   "cell_type": "markdown",
   "metadata": {},
   "source": [
    "## Вывод:"
   ]
  },
  {
   "cell_type": "markdown",
   "metadata": {},
   "source": [
    "- Модель RandomForestRegressor проигрывает по всем параметрам:  \n",
    "время обучения, время предсказания и качество предсказания.\n",
    "\n",
    "---\n",
    "- Модели Catboost и LightGBM позволяют получить сходное качество прогнозирования.\n",
    "- При одинаковом качестве предсказания Catboost  дольше обучается,  \n",
    " но быстрее предсказывает (29сек - 98мсек),  \n",
    " по сравнения с LightGBM (7.7сек - 770мсек)\n"
   ]
  },
  {
   "cell_type": "code",
   "execution_count": null,
   "metadata": {},
   "outputs": [],
   "source": []
  }
 ],
 "metadata": {
  "ExecuteTimeLog": [
   {
    "duration": 811,
    "start_time": "2021-11-25T12:07:37.248Z"
   },
   {
    "duration": 6666,
    "start_time": "2021-11-25T12:07:42.528Z"
   },
   {
    "duration": 49,
    "start_time": "2021-11-25T12:08:03.272Z"
   },
   {
    "duration": 412,
    "start_time": "2021-11-25T12:08:20.744Z"
   },
   {
    "duration": 368,
    "start_time": "2021-11-25T12:08:41.256Z"
   },
   {
    "duration": 35,
    "start_time": "2021-11-25T12:10:20.791Z"
   },
   {
    "duration": 35,
    "start_time": "2021-11-25T12:11:14.960Z"
   },
   {
    "duration": 290,
    "start_time": "2021-11-25T12:12:08.727Z"
   },
   {
    "duration": 695,
    "start_time": "2021-11-25T12:12:14.590Z"
   },
   {
    "duration": 299,
    "start_time": "2021-11-25T12:12:45.166Z"
   },
   {
    "duration": 787,
    "start_time": "2021-11-25T12:13:18.166Z"
   },
   {
    "duration": 728,
    "start_time": "2021-11-25T12:13:38.500Z"
   },
   {
    "duration": 1173,
    "start_time": "2021-11-25T12:13:39.231Z"
   },
   {
    "duration": 62,
    "start_time": "2021-11-25T12:13:40.408Z"
   },
   {
    "duration": 887,
    "start_time": "2021-11-25T12:13:40.474Z"
   },
   {
    "duration": 37,
    "start_time": "2021-11-25T12:13:41.367Z"
   },
   {
    "duration": 55,
    "start_time": "2021-11-25T12:15:29.017Z"
   },
   {
    "duration": 35,
    "start_time": "2021-11-25T12:15:33.080Z"
   },
   {
    "duration": 423,
    "start_time": "2021-11-25T12:17:20.545Z"
   },
   {
    "duration": 1160,
    "start_time": "2021-11-25T12:17:26.032Z"
   },
   {
    "duration": 775,
    "start_time": "2021-11-25T12:17:27.194Z"
   },
   {
    "duration": 71,
    "start_time": "2021-11-25T12:17:27.972Z"
   },
   {
    "duration": 33,
    "start_time": "2021-11-25T12:17:29.592Z"
   },
   {
    "duration": 789,
    "start_time": "2021-11-25T12:18:21.992Z"
   },
   {
    "duration": 1207,
    "start_time": "2021-11-25T12:18:22.785Z"
   },
   {
    "duration": 830,
    "start_time": "2021-11-25T12:18:23.998Z"
   },
   {
    "duration": 85,
    "start_time": "2021-11-25T12:18:24.831Z"
   },
   {
    "duration": 56,
    "start_time": "2021-11-25T12:18:24.919Z"
   },
   {
    "duration": 96,
    "start_time": "2021-11-25T12:18:40.042Z"
   },
   {
    "duration": 449,
    "start_time": "2021-11-25T12:19:20.733Z"
   },
   {
    "duration": 4,
    "start_time": "2021-11-25T12:19:47.531Z"
   },
   {
    "duration": 315,
    "start_time": "2021-11-25T12:19:54.059Z"
   },
   {
    "duration": 69,
    "start_time": "2021-11-25T12:20:55.338Z"
   },
   {
    "duration": 1785,
    "start_time": "2021-11-25T12:21:52.618Z"
   },
   {
    "duration": 339,
    "start_time": "2021-11-25T12:22:10.473Z"
   },
   {
    "duration": 385,
    "start_time": "2021-11-25T12:22:52.498Z"
   },
   {
    "duration": 856,
    "start_time": "2021-11-25T12:23:58.849Z"
   },
   {
    "duration": 1253,
    "start_time": "2021-11-25T12:23:59.707Z"
   },
   {
    "duration": 827,
    "start_time": "2021-11-25T12:24:00.967Z"
   },
   {
    "duration": 77,
    "start_time": "2021-11-25T12:24:01.797Z"
   },
   {
    "duration": 41,
    "start_time": "2021-11-25T12:24:01.877Z"
   },
   {
    "duration": 82,
    "start_time": "2021-11-25T12:24:01.920Z"
   },
   {
    "duration": 500,
    "start_time": "2021-11-25T12:24:02.005Z"
   },
   {
    "duration": 337,
    "start_time": "2021-11-25T12:24:23.038Z"
   },
   {
    "duration": 363,
    "start_time": "2021-11-25T12:24:35.207Z"
   },
   {
    "duration": 830,
    "start_time": "2021-11-25T12:24:58.637Z"
   },
   {
    "duration": 375,
    "start_time": "2021-11-25T12:25:05.629Z"
   },
   {
    "duration": 76,
    "start_time": "2021-11-25T12:26:00.061Z"
   },
   {
    "duration": 100,
    "start_time": "2021-11-25T12:29:51.618Z"
   },
   {
    "duration": 97,
    "start_time": "2021-11-25T12:30:49.538Z"
   },
   {
    "duration": 372,
    "start_time": "2021-11-25T12:31:32.809Z"
   },
   {
    "duration": 265,
    "start_time": "2021-11-25T12:31:44.530Z"
   },
   {
    "duration": 95,
    "start_time": "2021-11-25T12:32:55.272Z"
   },
   {
    "duration": 93,
    "start_time": "2021-11-25T12:33:17.264Z"
   },
   {
    "duration": 47,
    "start_time": "2021-11-25T12:34:14.359Z"
   },
   {
    "duration": 34,
    "start_time": "2021-11-25T12:34:26.247Z"
   },
   {
    "duration": 37,
    "start_time": "2021-11-25T12:34:43.944Z"
   },
   {
    "duration": 34,
    "start_time": "2021-11-25T12:34:52.687Z"
   },
   {
    "duration": 413,
    "start_time": "2021-11-25T12:37:18.103Z"
   },
   {
    "duration": 30,
    "start_time": "2021-11-25T12:38:02.615Z"
   },
   {
    "duration": 301,
    "start_time": "2021-11-25T12:38:16.453Z"
   },
   {
    "duration": 30,
    "start_time": "2021-11-25T12:38:23.159Z"
   },
   {
    "duration": 75,
    "start_time": "2021-11-25T12:38:40.318Z"
   },
   {
    "duration": 59,
    "start_time": "2021-11-25T12:38:48.470Z"
   },
   {
    "duration": 95,
    "start_time": "2021-11-25T12:38:52.854Z"
   },
   {
    "duration": 101,
    "start_time": "2021-11-25T12:40:03.998Z"
   },
   {
    "duration": 95,
    "start_time": "2021-11-25T12:40:19.317Z"
   },
   {
    "duration": 7,
    "start_time": "2021-11-25T12:40:28.404Z"
   },
   {
    "duration": 317,
    "start_time": "2021-11-25T12:40:34.836Z"
   },
   {
    "duration": 318,
    "start_time": "2021-11-25T12:40:50.645Z"
   },
   {
    "duration": 331,
    "start_time": "2021-11-25T12:41:02.917Z"
   },
   {
    "duration": 14,
    "start_time": "2021-11-25T12:41:22.467Z"
   },
   {
    "duration": 14,
    "start_time": "2021-11-25T12:41:38.437Z"
   },
   {
    "duration": 13,
    "start_time": "2021-11-25T12:41:46.892Z"
   },
   {
    "duration": 17,
    "start_time": "2021-11-25T12:42:04.436Z"
   },
   {
    "duration": 55,
    "start_time": "2021-11-25T12:43:35.766Z"
   },
   {
    "duration": 91,
    "start_time": "2021-11-25T12:43:44.531Z"
   },
   {
    "duration": 39,
    "start_time": "2021-11-25T12:44:02.780Z"
   },
   {
    "duration": 35,
    "start_time": "2021-11-25T12:44:16.523Z"
   },
   {
    "duration": 35,
    "start_time": "2021-11-25T12:45:38.122Z"
   },
   {
    "duration": 33,
    "start_time": "2021-11-25T12:45:53.179Z"
   },
   {
    "duration": 809,
    "start_time": "2021-11-25T12:48:44.214Z"
   },
   {
    "duration": 1258,
    "start_time": "2021-11-25T12:48:45.026Z"
   },
   {
    "duration": 776,
    "start_time": "2021-11-25T12:48:46.287Z"
   },
   {
    "duration": 70,
    "start_time": "2021-11-25T12:48:47.069Z"
   },
   {
    "duration": 81,
    "start_time": "2021-11-25T12:48:47.142Z"
   },
   {
    "duration": 71,
    "start_time": "2021-11-25T12:48:47.225Z"
   },
   {
    "duration": 125,
    "start_time": "2021-11-25T12:48:47.300Z"
   },
   {
    "duration": 22,
    "start_time": "2021-11-25T12:48:47.428Z"
   },
   {
    "duration": 368,
    "start_time": "2021-11-25T12:48:47.453Z"
   },
   {
    "duration": 246,
    "start_time": "2021-11-25T12:49:16.271Z"
   },
   {
    "duration": 235,
    "start_time": "2021-11-25T12:49:23.801Z"
   },
   {
    "duration": 755,
    "start_time": "2021-11-25T12:49:45.712Z"
   },
   {
    "duration": 1172,
    "start_time": "2021-11-25T12:49:46.471Z"
   },
   {
    "duration": 786,
    "start_time": "2021-11-25T12:49:47.647Z"
   },
   {
    "duration": 80,
    "start_time": "2021-11-25T12:49:48.438Z"
   },
   {
    "duration": 74,
    "start_time": "2021-11-25T12:49:48.520Z"
   },
   {
    "duration": 51,
    "start_time": "2021-11-25T12:49:48.597Z"
   },
   {
    "duration": 108,
    "start_time": "2021-11-25T12:49:48.668Z"
   },
   {
    "duration": 38,
    "start_time": "2021-11-25T12:49:48.779Z"
   },
   {
    "duration": 379,
    "start_time": "2021-11-25T12:49:48.822Z"
   },
   {
    "duration": 260,
    "start_time": "2021-11-25T12:50:15.735Z"
   },
   {
    "duration": 763,
    "start_time": "2021-11-25T12:50:59.081Z"
   },
   {
    "duration": 1158,
    "start_time": "2021-11-25T12:50:59.847Z"
   },
   {
    "duration": 936,
    "start_time": "2021-11-25T12:51:01.008Z"
   },
   {
    "duration": 69,
    "start_time": "2021-11-25T12:51:01.947Z"
   },
   {
    "duration": 81,
    "start_time": "2021-11-25T12:51:02.018Z"
   },
   {
    "duration": 4,
    "start_time": "2021-11-25T12:51:02.101Z"
   },
   {
    "duration": 119,
    "start_time": "2021-11-25T12:51:02.108Z"
   },
   {
    "duration": 42,
    "start_time": "2021-11-25T12:51:02.229Z"
   },
   {
    "duration": 407,
    "start_time": "2021-11-25T12:51:02.274Z"
   },
   {
    "duration": 784,
    "start_time": "2021-11-25T12:51:30.269Z"
   },
   {
    "duration": 1179,
    "start_time": "2021-11-25T12:51:31.056Z"
   },
   {
    "duration": 775,
    "start_time": "2021-11-25T12:51:32.239Z"
   },
   {
    "duration": 76,
    "start_time": "2021-11-25T12:51:33.016Z"
   },
   {
    "duration": 75,
    "start_time": "2021-11-25T12:51:33.094Z"
   },
   {
    "duration": 50,
    "start_time": "2021-11-25T12:51:33.171Z"
   },
   {
    "duration": 125,
    "start_time": "2021-11-25T12:51:33.224Z"
   },
   {
    "duration": 32,
    "start_time": "2021-11-25T12:51:33.353Z"
   },
   {
    "duration": 387,
    "start_time": "2021-11-25T12:51:33.393Z"
   },
   {
    "duration": 267,
    "start_time": "2021-11-25T12:52:08.467Z"
   },
   {
    "duration": 5,
    "start_time": "2021-11-25T12:52:38.745Z"
   },
   {
    "duration": 395,
    "start_time": "2021-11-25T12:52:42.041Z"
   },
   {
    "duration": 354,
    "start_time": "2021-11-25T12:53:07.225Z"
   },
   {
    "duration": 596,
    "start_time": "2021-11-25T12:53:37.025Z"
   },
   {
    "duration": 318,
    "start_time": "2021-11-25T12:54:04.442Z"
   },
   {
    "duration": 238,
    "start_time": "2021-11-25T12:54:27.089Z"
   },
   {
    "duration": 100,
    "start_time": "2021-11-25T12:57:02.023Z"
   },
   {
    "duration": 261,
    "start_time": "2021-11-25T12:57:09.335Z"
   },
   {
    "duration": 355,
    "start_time": "2021-11-25T12:57:18.415Z"
   },
   {
    "duration": 6,
    "start_time": "2021-11-25T12:58:38.472Z"
   },
   {
    "duration": 6,
    "start_time": "2021-11-25T13:00:03.254Z"
   },
   {
    "duration": 561,
    "start_time": "2021-11-25T13:00:06.437Z"
   },
   {
    "duration": 9,
    "start_time": "2021-11-25T13:00:09.158Z"
   },
   {
    "duration": 5,
    "start_time": "2021-11-25T13:00:25.718Z"
   },
   {
    "duration": 6,
    "start_time": "2021-11-25T13:00:30.145Z"
   },
   {
    "duration": 23,
    "start_time": "2021-11-25T13:01:42.972Z"
   },
   {
    "duration": 6,
    "start_time": "2021-11-25T13:07:30.337Z"
   },
   {
    "duration": 6,
    "start_time": "2021-11-25T13:07:57.913Z"
   },
   {
    "duration": 6,
    "start_time": "2021-11-25T13:08:19.754Z"
   },
   {
    "duration": 140,
    "start_time": "2021-11-25T13:08:27.457Z"
   },
   {
    "duration": 6,
    "start_time": "2021-11-25T13:08:40.961Z"
   },
   {
    "duration": 7,
    "start_time": "2021-11-25T13:09:05.129Z"
   },
   {
    "duration": 7,
    "start_time": "2021-11-25T13:09:21.185Z"
   },
   {
    "duration": 6,
    "start_time": "2021-11-25T13:09:48.472Z"
   },
   {
    "duration": 293,
    "start_time": "2021-11-25T13:09:58.481Z"
   },
   {
    "duration": 7,
    "start_time": "2021-11-25T13:10:37.112Z"
   },
   {
    "duration": 8,
    "start_time": "2021-11-25T13:10:45.096Z"
   },
   {
    "duration": 12,
    "start_time": "2021-11-25T13:11:14.503Z"
   },
   {
    "duration": 569,
    "start_time": "2021-11-25T21:18:14.720Z"
   },
   {
    "duration": 762,
    "start_time": "2021-11-25T21:18:15.291Z"
   },
   {
    "duration": 479,
    "start_time": "2021-11-25T21:18:16.056Z"
   },
   {
    "duration": 55,
    "start_time": "2021-11-25T21:18:16.537Z"
   },
   {
    "duration": 36,
    "start_time": "2021-11-25T21:18:16.593Z"
   },
   {
    "duration": 45,
    "start_time": "2021-11-25T21:18:16.631Z"
   },
   {
    "duration": 75,
    "start_time": "2021-11-25T21:18:16.678Z"
   },
   {
    "duration": 15,
    "start_time": "2021-11-25T21:18:16.763Z"
   },
   {
    "duration": 233,
    "start_time": "2021-11-25T21:18:16.780Z"
   },
   {
    "duration": 17,
    "start_time": "2021-11-25T21:18:17.015Z"
   },
   {
    "duration": 14,
    "start_time": "2021-11-25T21:18:17.034Z"
   },
   {
    "duration": 22,
    "start_time": "2021-11-25T21:18:17.049Z"
   },
   {
    "duration": 537,
    "start_time": "2021-11-25T21:18:58.020Z"
   },
   {
    "duration": 769,
    "start_time": "2021-11-25T21:18:58.559Z"
   },
   {
    "duration": 40,
    "start_time": "2021-11-25T21:18:59.330Z"
   },
   {
    "duration": 297,
    "start_time": "2021-11-25T21:18:59.372Z"
   },
   {
    "duration": -68,
    "start_time": "2021-11-25T21:18:59.739Z"
   },
   {
    "duration": -72,
    "start_time": "2021-11-25T21:18:59.744Z"
   },
   {
    "duration": -76,
    "start_time": "2021-11-25T21:18:59.749Z"
   },
   {
    "duration": -77,
    "start_time": "2021-11-25T21:18:59.751Z"
   },
   {
    "duration": -78,
    "start_time": "2021-11-25T21:18:59.753Z"
   },
   {
    "duration": -82,
    "start_time": "2021-11-25T21:18:59.757Z"
   },
   {
    "duration": -83,
    "start_time": "2021-11-25T21:18:59.759Z"
   },
   {
    "duration": -84,
    "start_time": "2021-11-25T21:18:59.761Z"
   },
   {
    "duration": -91,
    "start_time": "2021-11-25T21:18:59.769Z"
   },
   {
    "duration": -92,
    "start_time": "2021-11-25T21:18:59.771Z"
   },
   {
    "duration": 117,
    "start_time": "2021-11-25T21:19:22.654Z"
   },
   {
    "duration": 34,
    "start_time": "2021-11-25T21:19:44.089Z"
   },
   {
    "duration": 180,
    "start_time": "2021-11-25T21:20:26.450Z"
   },
   {
    "duration": 281,
    "start_time": "2021-11-25T21:21:07.174Z"
   },
   {
    "duration": 242,
    "start_time": "2021-11-25T21:21:38.567Z"
   },
   {
    "duration": 5,
    "start_time": "2021-11-25T21:22:15.063Z"
   },
   {
    "duration": 112,
    "start_time": "2021-11-25T21:22:30.140Z"
   },
   {
    "duration": 119,
    "start_time": "2021-11-25T21:22:44.822Z"
   },
   {
    "duration": 112,
    "start_time": "2021-11-25T21:22:53.419Z"
   },
   {
    "duration": 84,
    "start_time": "2021-11-25T21:22:59.134Z"
   },
   {
    "duration": 81,
    "start_time": "2021-11-25T21:23:33.543Z"
   },
   {
    "duration": 115,
    "start_time": "2021-11-25T21:23:40.998Z"
   },
   {
    "duration": 113,
    "start_time": "2021-11-25T21:23:48.995Z"
   },
   {
    "duration": 86,
    "start_time": "2021-11-25T21:24:06.349Z"
   },
   {
    "duration": 104,
    "start_time": "2021-11-25T21:24:14.300Z"
   },
   {
    "duration": 109,
    "start_time": "2021-11-25T21:24:20.435Z"
   },
   {
    "duration": 127,
    "start_time": "2021-11-25T21:24:59.496Z"
   },
   {
    "duration": 112,
    "start_time": "2021-11-25T21:25:08.316Z"
   },
   {
    "duration": 39,
    "start_time": "2021-11-25T21:28:16.633Z"
   },
   {
    "duration": 20,
    "start_time": "2021-11-25T21:28:17.600Z"
   },
   {
    "duration": 6179,
    "start_time": "2021-11-25T21:29:14.146Z"
   },
   {
    "duration": 24,
    "start_time": "2021-11-25T21:29:37.725Z"
   },
   {
    "duration": 608,
    "start_time": "2021-11-25T21:31:36.050Z"
   },
   {
    "duration": 804,
    "start_time": "2021-11-25T21:31:36.660Z"
   },
   {
    "duration": 2,
    "start_time": "2021-11-25T21:31:37.466Z"
   },
   {
    "duration": 36,
    "start_time": "2021-11-25T21:31:37.470Z"
   },
   {
    "duration": 152,
    "start_time": "2021-11-25T21:31:37.507Z"
   },
   {
    "duration": 2,
    "start_time": "2021-11-25T21:31:37.661Z"
   },
   {
    "duration": 498,
    "start_time": "2021-11-25T21:31:37.665Z"
   },
   {
    "duration": 39,
    "start_time": "2021-11-25T21:31:38.165Z"
   },
   {
    "duration": 39,
    "start_time": "2021-11-25T21:31:38.207Z"
   },
   {
    "duration": 49,
    "start_time": "2021-11-25T21:31:38.248Z"
   },
   {
    "duration": 112,
    "start_time": "2021-11-25T21:31:38.298Z"
   },
   {
    "duration": 15,
    "start_time": "2021-11-25T21:31:38.412Z"
   },
   {
    "duration": 250,
    "start_time": "2021-11-25T21:31:38.429Z"
   },
   {
    "duration": 18,
    "start_time": "2021-11-25T21:31:38.681Z"
   },
   {
    "duration": 6,
    "start_time": "2021-11-25T21:31:38.701Z"
   },
   {
    "duration": 23,
    "start_time": "2021-11-25T21:31:38.708Z"
   },
   {
    "duration": 28,
    "start_time": "2021-11-25T21:32:28.092Z"
   },
   {
    "duration": 23,
    "start_time": "2021-11-25T21:35:35.253Z"
   },
   {
    "duration": 13,
    "start_time": "2021-11-25T21:36:07.220Z"
   },
   {
    "duration": 356,
    "start_time": "2021-11-25T21:36:31.848Z"
   },
   {
    "duration": 247,
    "start_time": "2021-11-25T21:36:44.030Z"
   },
   {
    "duration": 175,
    "start_time": "2021-11-25T21:37:34.401Z"
   },
   {
    "duration": 177,
    "start_time": "2021-11-25T21:37:44.764Z"
   },
   {
    "duration": 219,
    "start_time": "2021-11-25T21:38:17.736Z"
   },
   {
    "duration": 177,
    "start_time": "2021-11-25T21:38:25.026Z"
   },
   {
    "duration": 182,
    "start_time": "2021-11-25T21:38:30.636Z"
   },
   {
    "duration": 177,
    "start_time": "2021-11-25T21:38:40.942Z"
   },
   {
    "duration": 170,
    "start_time": "2021-11-25T21:38:51.546Z"
   },
   {
    "duration": 168,
    "start_time": "2021-11-25T21:38:57.817Z"
   },
   {
    "duration": 173,
    "start_time": "2021-11-25T21:39:04.297Z"
   },
   {
    "duration": 180,
    "start_time": "2021-11-25T21:39:09.696Z"
   },
   {
    "duration": 175,
    "start_time": "2021-11-25T21:39:17.826Z"
   },
   {
    "duration": 178,
    "start_time": "2021-11-25T21:39:28.822Z"
   },
   {
    "duration": 182,
    "start_time": "2021-11-25T21:39:35.167Z"
   },
   {
    "duration": 251,
    "start_time": "2021-11-25T21:39:39.921Z"
   },
   {
    "duration": 172,
    "start_time": "2021-11-25T21:39:44.348Z"
   },
   {
    "duration": 185,
    "start_time": "2021-11-25T21:39:54.774Z"
   },
   {
    "duration": 173,
    "start_time": "2021-11-25T21:39:59.303Z"
   },
   {
    "duration": 185,
    "start_time": "2021-11-25T21:40:05.318Z"
   },
   {
    "duration": 257,
    "start_time": "2021-11-25T21:43:16.781Z"
   },
   {
    "duration": 47,
    "start_time": "2021-11-25T21:43:29.442Z"
   },
   {
    "duration": 37,
    "start_time": "2021-11-25T21:43:34.991Z"
   },
   {
    "duration": 12,
    "start_time": "2021-11-25T21:43:41.727Z"
   },
   {
    "duration": 48,
    "start_time": "2021-11-25T21:44:51.838Z"
   },
   {
    "duration": 41,
    "start_time": "2021-11-25T21:44:54.547Z"
   },
   {
    "duration": 47,
    "start_time": "2021-11-25T21:45:30.925Z"
   },
   {
    "duration": 31,
    "start_time": "2021-11-25T21:45:33.928Z"
   },
   {
    "duration": 16,
    "start_time": "2021-11-25T21:46:24.270Z"
   },
   {
    "duration": 5,
    "start_time": "2021-11-25T21:47:57.440Z"
   },
   {
    "duration": 15,
    "start_time": "2021-11-25T21:48:23.253Z"
   },
   {
    "duration": 5,
    "start_time": "2021-11-25T21:48:25.983Z"
   },
   {
    "duration": 7,
    "start_time": "2021-11-25T21:48:28.833Z"
   },
   {
    "duration": 14,
    "start_time": "2021-11-25T21:48:47.448Z"
   },
   {
    "duration": 7,
    "start_time": "2021-11-25T21:48:51.168Z"
   },
   {
    "duration": 110,
    "start_time": "2021-11-25T21:49:11.688Z"
   },
   {
    "duration": 17,
    "start_time": "2021-11-25T21:49:12.199Z"
   },
   {
    "duration": 31,
    "start_time": "2021-11-25T21:49:12.812Z"
   },
   {
    "duration": 22,
    "start_time": "2021-11-25T21:50:19.564Z"
   },
   {
    "duration": 3,
    "start_time": "2021-11-25T21:50:20.808Z"
   },
   {
    "duration": 6,
    "start_time": "2021-11-25T21:50:21.425Z"
   },
   {
    "duration": 164,
    "start_time": "2021-11-25T21:50:58.832Z"
   },
   {
    "duration": 3,
    "start_time": "2021-11-25T21:50:59.372Z"
   },
   {
    "duration": 7,
    "start_time": "2021-11-25T21:51:00.587Z"
   },
   {
    "duration": 18,
    "start_time": "2021-11-25T21:51:17.431Z"
   },
   {
    "duration": 6,
    "start_time": "2021-11-25T21:51:18.227Z"
   },
   {
    "duration": 8,
    "start_time": "2021-11-25T21:51:18.752Z"
   },
   {
    "duration": 13,
    "start_time": "2021-11-25T21:51:27.798Z"
   },
   {
    "duration": 6,
    "start_time": "2021-11-25T21:51:28.815Z"
   },
   {
    "duration": 7,
    "start_time": "2021-11-25T21:51:29.223Z"
   },
   {
    "duration": 13,
    "start_time": "2021-11-25T21:53:20.975Z"
   },
   {
    "duration": 50,
    "start_time": "2021-11-25T21:55:05.038Z"
   },
   {
    "duration": 49,
    "start_time": "2021-11-25T22:08:36.552Z"
   },
   {
    "duration": 52,
    "start_time": "2021-11-25T22:09:52.721Z"
   },
   {
    "duration": 48,
    "start_time": "2021-11-25T22:10:17.067Z"
   },
   {
    "duration": 53,
    "start_time": "2021-11-25T22:10:48.868Z"
   },
   {
    "duration": 269,
    "start_time": "2021-11-25T22:12:31.111Z"
   },
   {
    "duration": 56,
    "start_time": "2021-11-25T22:12:44.610Z"
   },
   {
    "duration": 50,
    "start_time": "2021-11-25T22:13:19.307Z"
   },
   {
    "duration": 585,
    "start_time": "2021-11-25T22:14:47.161Z"
   },
   {
    "duration": 806,
    "start_time": "2021-11-25T22:14:47.748Z"
   },
   {
    "duration": 2,
    "start_time": "2021-11-25T22:14:48.556Z"
   },
   {
    "duration": 34,
    "start_time": "2021-11-25T22:14:48.563Z"
   },
   {
    "duration": 155,
    "start_time": "2021-11-25T22:14:48.599Z"
   },
   {
    "duration": 2,
    "start_time": "2021-11-25T22:14:48.756Z"
   },
   {
    "duration": 521,
    "start_time": "2021-11-25T22:14:48.759Z"
   },
   {
    "duration": 40,
    "start_time": "2021-11-25T22:14:49.282Z"
   },
   {
    "duration": 55,
    "start_time": "2021-11-25T22:14:49.325Z"
   },
   {
    "duration": 35,
    "start_time": "2021-11-25T22:14:49.382Z"
   },
   {
    "duration": 102,
    "start_time": "2021-11-25T22:14:49.419Z"
   },
   {
    "duration": 270,
    "start_time": "2021-11-25T22:14:49.523Z"
   },
   {
    "duration": 14,
    "start_time": "2021-11-25T22:14:49.795Z"
   },
   {
    "duration": 76,
    "start_time": "2021-11-25T22:14:49.811Z"
   },
   {
    "duration": 5,
    "start_time": "2021-11-25T22:14:49.888Z"
   },
   {
    "duration": 28,
    "start_time": "2021-11-25T22:14:49.895Z"
   },
   {
    "duration": 164,
    "start_time": "2021-11-25T22:14:49.925Z"
   },
   {
    "duration": 18,
    "start_time": "2021-11-25T22:14:50.090Z"
   },
   {
    "duration": 11,
    "start_time": "2021-11-25T22:14:50.110Z"
   },
   {
    "duration": 8,
    "start_time": "2021-11-25T22:14:50.123Z"
   },
   {
    "duration": 555,
    "start_time": "2021-11-25T22:15:41.202Z"
   },
   {
    "duration": 796,
    "start_time": "2021-11-25T22:15:41.759Z"
   },
   {
    "duration": 5,
    "start_time": "2021-11-25T22:15:42.558Z"
   },
   {
    "duration": 32,
    "start_time": "2021-11-25T22:15:42.565Z"
   },
   {
    "duration": 149,
    "start_time": "2021-11-25T22:15:42.599Z"
   },
   {
    "duration": 2,
    "start_time": "2021-11-25T22:15:42.750Z"
   },
   {
    "duration": 520,
    "start_time": "2021-11-25T22:15:42.753Z"
   },
   {
    "duration": 40,
    "start_time": "2021-11-25T22:15:43.276Z"
   },
   {
    "duration": 55,
    "start_time": "2021-11-25T22:15:43.319Z"
   },
   {
    "duration": 36,
    "start_time": "2021-11-25T22:15:43.376Z"
   },
   {
    "duration": 107,
    "start_time": "2021-11-25T22:15:43.414Z"
   },
   {
    "duration": 264,
    "start_time": "2021-11-25T22:15:43.523Z"
   },
   {
    "duration": 17,
    "start_time": "2021-11-25T22:15:43.789Z"
   },
   {
    "duration": 68,
    "start_time": "2021-11-25T22:15:43.808Z"
   },
   {
    "duration": 5,
    "start_time": "2021-11-25T22:15:43.878Z"
   },
   {
    "duration": 9,
    "start_time": "2021-11-25T22:15:43.885Z"
   },
   {
    "duration": 168,
    "start_time": "2021-11-25T22:15:43.896Z"
   },
   {
    "duration": 18,
    "start_time": "2021-11-25T22:15:44.066Z"
   },
   {
    "duration": 5,
    "start_time": "2021-11-25T22:15:44.085Z"
   },
   {
    "duration": 7,
    "start_time": "2021-11-25T22:15:44.092Z"
   },
   {
    "duration": 576,
    "start_time": "2021-11-25T22:16:14.388Z"
   },
   {
    "duration": 812,
    "start_time": "2021-11-25T22:16:14.966Z"
   },
   {
    "duration": 3,
    "start_time": "2021-11-25T22:16:15.780Z"
   },
   {
    "duration": 31,
    "start_time": "2021-11-25T22:16:15.785Z"
   },
   {
    "duration": 161,
    "start_time": "2021-11-25T22:16:15.818Z"
   },
   {
    "duration": 3,
    "start_time": "2021-11-25T22:16:15.981Z"
   },
   {
    "duration": 500,
    "start_time": "2021-11-25T22:16:15.986Z"
   },
   {
    "duration": 42,
    "start_time": "2021-11-25T22:16:16.488Z"
   },
   {
    "duration": 56,
    "start_time": "2021-11-25T22:16:16.533Z"
   },
   {
    "duration": 34,
    "start_time": "2021-11-25T22:16:16.591Z"
   },
   {
    "duration": 100,
    "start_time": "2021-11-25T22:16:16.627Z"
   },
   {
    "duration": 261,
    "start_time": "2021-11-25T22:16:16.729Z"
   },
   {
    "duration": 16,
    "start_time": "2021-11-25T22:16:16.992Z"
   },
   {
    "duration": 67,
    "start_time": "2021-11-25T22:16:17.009Z"
   },
   {
    "duration": 6,
    "start_time": "2021-11-25T22:16:17.078Z"
   },
   {
    "duration": 11,
    "start_time": "2021-11-25T22:16:17.086Z"
   },
   {
    "duration": 176,
    "start_time": "2021-11-25T22:16:17.099Z"
   },
   {
    "duration": 18,
    "start_time": "2021-11-25T22:16:17.277Z"
   },
   {
    "duration": 6,
    "start_time": "2021-11-25T22:16:17.297Z"
   },
   {
    "duration": 7,
    "start_time": "2021-11-25T22:16:17.305Z"
   },
   {
    "duration": 559,
    "start_time": "2021-11-25T22:16:36.596Z"
   },
   {
    "duration": 812,
    "start_time": "2021-11-25T22:16:37.156Z"
   },
   {
    "duration": 3,
    "start_time": "2021-11-25T22:16:37.970Z"
   },
   {
    "duration": 31,
    "start_time": "2021-11-25T22:16:37.975Z"
   },
   {
    "duration": 161,
    "start_time": "2021-11-25T22:16:38.008Z"
   },
   {
    "duration": 3,
    "start_time": "2021-11-25T22:16:38.171Z"
   },
   {
    "duration": 525,
    "start_time": "2021-11-25T22:16:38.176Z"
   },
   {
    "duration": 40,
    "start_time": "2021-11-25T22:16:38.703Z"
   },
   {
    "duration": 88,
    "start_time": "2021-11-25T22:16:38.746Z"
   },
   {
    "duration": 33,
    "start_time": "2021-11-25T22:16:38.835Z"
   },
   {
    "duration": 85,
    "start_time": "2021-11-25T22:16:38.870Z"
   },
   {
    "duration": 264,
    "start_time": "2021-11-25T22:16:38.956Z"
   },
   {
    "duration": 15,
    "start_time": "2021-11-25T22:16:39.221Z"
   },
   {
    "duration": 59,
    "start_time": "2021-11-25T22:16:39.237Z"
   },
   {
    "duration": 6,
    "start_time": "2021-11-25T22:16:39.298Z"
   },
   {
    "duration": 9,
    "start_time": "2021-11-25T22:16:39.306Z"
   },
   {
    "duration": 172,
    "start_time": "2021-11-25T22:16:39.316Z"
   },
   {
    "duration": 18,
    "start_time": "2021-11-25T22:16:39.489Z"
   },
   {
    "duration": 5,
    "start_time": "2021-11-25T22:16:39.508Z"
   },
   {
    "duration": 9,
    "start_time": "2021-11-25T22:16:39.514Z"
   },
   {
    "duration": 570,
    "start_time": "2021-11-25T22:18:28.219Z"
   },
   {
    "duration": 812,
    "start_time": "2021-11-25T22:18:28.791Z"
   },
   {
    "duration": 3,
    "start_time": "2021-11-25T22:18:29.605Z"
   },
   {
    "duration": 35,
    "start_time": "2021-11-25T22:18:29.610Z"
   },
   {
    "duration": 152,
    "start_time": "2021-11-25T22:18:29.646Z"
   },
   {
    "duration": 2,
    "start_time": "2021-11-25T22:18:29.800Z"
   },
   {
    "duration": 540,
    "start_time": "2021-11-25T22:18:29.803Z"
   },
   {
    "duration": 45,
    "start_time": "2021-11-25T22:18:30.345Z"
   },
   {
    "duration": 55,
    "start_time": "2021-11-25T22:18:30.393Z"
   },
   {
    "duration": 35,
    "start_time": "2021-11-25T22:18:30.450Z"
   },
   {
    "duration": 101,
    "start_time": "2021-11-25T22:18:30.486Z"
   },
   {
    "duration": 274,
    "start_time": "2021-11-25T22:18:30.589Z"
   },
   {
    "duration": 14,
    "start_time": "2021-11-25T22:18:30.865Z"
   },
   {
    "duration": 54,
    "start_time": "2021-11-25T22:18:30.881Z"
   },
   {
    "duration": 5,
    "start_time": "2021-11-25T22:18:30.936Z"
   },
   {
    "duration": 26,
    "start_time": "2021-11-25T22:18:30.943Z"
   },
   {
    "duration": 174,
    "start_time": "2021-11-25T22:18:30.971Z"
   },
   {
    "duration": 28,
    "start_time": "2021-11-25T22:18:31.147Z"
   },
   {
    "duration": 5,
    "start_time": "2021-11-25T22:18:31.177Z"
   },
   {
    "duration": 17,
    "start_time": "2021-11-25T22:18:31.183Z"
   },
   {
    "duration": 624,
    "start_time": "2021-11-25T22:18:59.533Z"
   },
   {
    "duration": 840,
    "start_time": "2021-11-25T22:19:00.159Z"
   },
   {
    "duration": 3,
    "start_time": "2021-11-25T22:19:01.001Z"
   },
   {
    "duration": 44,
    "start_time": "2021-11-25T22:19:01.006Z"
   },
   {
    "duration": 145,
    "start_time": "2021-11-25T22:19:01.052Z"
   },
   {
    "duration": 2,
    "start_time": "2021-11-25T22:19:01.199Z"
   },
   {
    "duration": 563,
    "start_time": "2021-11-25T22:19:01.203Z"
   },
   {
    "duration": 43,
    "start_time": "2021-11-25T22:19:01.768Z"
   },
   {
    "duration": 66,
    "start_time": "2021-11-25T22:19:01.814Z"
   },
   {
    "duration": 37,
    "start_time": "2021-11-25T22:19:01.882Z"
   },
   {
    "duration": 99,
    "start_time": "2021-11-25T22:19:01.921Z"
   },
   {
    "duration": 272,
    "start_time": "2021-11-25T22:19:02.022Z"
   },
   {
    "duration": 13,
    "start_time": "2021-11-25T22:19:02.296Z"
   },
   {
    "duration": 145,
    "start_time": "2021-11-25T22:19:02.311Z"
   },
   {
    "duration": 5,
    "start_time": "2021-11-25T22:19:02.457Z"
   },
   {
    "duration": 29,
    "start_time": "2021-11-25T22:19:02.463Z"
   },
   {
    "duration": 165,
    "start_time": "2021-11-25T22:19:02.493Z"
   },
   {
    "duration": 21,
    "start_time": "2021-11-25T22:19:02.659Z"
   },
   {
    "duration": 7,
    "start_time": "2021-11-25T22:19:02.682Z"
   },
   {
    "duration": 12,
    "start_time": "2021-11-25T22:19:02.691Z"
   },
   {
    "duration": 606,
    "start_time": "2021-11-25T22:19:46.174Z"
   },
   {
    "duration": 833,
    "start_time": "2021-11-25T22:19:46.782Z"
   },
   {
    "duration": 3,
    "start_time": "2021-11-25T22:19:47.618Z"
   },
   {
    "duration": 186,
    "start_time": "2021-11-25T22:19:47.623Z"
   },
   {
    "duration": 139,
    "start_time": "2021-11-25T22:19:47.811Z"
   },
   {
    "duration": 3,
    "start_time": "2021-11-25T22:19:47.952Z"
   },
   {
    "duration": 520,
    "start_time": "2021-11-25T22:19:47.963Z"
   },
   {
    "duration": 42,
    "start_time": "2021-11-25T22:19:48.484Z"
   },
   {
    "duration": 56,
    "start_time": "2021-11-25T22:19:48.529Z"
   },
   {
    "duration": 34,
    "start_time": "2021-11-25T22:19:48.587Z"
   },
   {
    "duration": 95,
    "start_time": "2021-11-25T22:19:48.622Z"
   },
   {
    "duration": 265,
    "start_time": "2021-11-25T22:19:48.719Z"
   },
   {
    "duration": 14,
    "start_time": "2021-11-25T22:19:48.986Z"
   },
   {
    "duration": 63,
    "start_time": "2021-11-25T22:19:49.002Z"
   },
   {
    "duration": 5,
    "start_time": "2021-11-25T22:19:49.066Z"
   },
   {
    "duration": 14,
    "start_time": "2021-11-25T22:19:49.073Z"
   },
   {
    "duration": 170,
    "start_time": "2021-11-25T22:19:49.089Z"
   },
   {
    "duration": 17,
    "start_time": "2021-11-25T22:19:49.263Z"
   },
   {
    "duration": 5,
    "start_time": "2021-11-25T22:19:49.281Z"
   },
   {
    "duration": 14,
    "start_time": "2021-11-25T22:19:49.287Z"
   },
   {
    "duration": 616,
    "start_time": "2021-11-25T22:22:29.140Z"
   },
   {
    "duration": 841,
    "start_time": "2021-11-25T22:22:29.758Z"
   },
   {
    "duration": 3,
    "start_time": "2021-11-25T22:22:30.601Z"
   },
   {
    "duration": 39,
    "start_time": "2021-11-25T22:22:30.606Z"
   },
   {
    "duration": 164,
    "start_time": "2021-11-25T22:22:30.647Z"
   },
   {
    "duration": 3,
    "start_time": "2021-11-25T22:22:30.813Z"
   },
   {
    "duration": 545,
    "start_time": "2021-11-25T22:22:30.818Z"
   },
   {
    "duration": 45,
    "start_time": "2021-11-25T22:22:31.365Z"
   },
   {
    "duration": 56,
    "start_time": "2021-11-25T22:22:31.413Z"
   },
   {
    "duration": 31,
    "start_time": "2021-11-25T22:22:31.471Z"
   },
   {
    "duration": 105,
    "start_time": "2021-11-25T22:22:31.504Z"
   },
   {
    "duration": 273,
    "start_time": "2021-11-25T22:22:31.611Z"
   },
   {
    "duration": 19,
    "start_time": "2021-11-25T22:22:31.886Z"
   },
   {
    "duration": 64,
    "start_time": "2021-11-25T22:22:31.907Z"
   },
   {
    "duration": 6,
    "start_time": "2021-11-25T22:22:31.974Z"
   },
   {
    "duration": 10,
    "start_time": "2021-11-25T22:22:31.982Z"
   },
   {
    "duration": 164,
    "start_time": "2021-11-25T22:22:31.994Z"
   },
   {
    "duration": 18,
    "start_time": "2021-11-25T22:22:32.163Z"
   },
   {
    "duration": 5,
    "start_time": "2021-11-25T22:22:32.183Z"
   },
   {
    "duration": 22,
    "start_time": "2021-11-25T22:22:32.190Z"
   },
   {
    "duration": 18,
    "start_time": "2021-11-25T22:27:03.601Z"
   },
   {
    "duration": 735,
    "start_time": "2021-11-25T22:28:42.122Z"
   },
   {
    "duration": 262,
    "start_time": "2021-11-25T22:28:53.793Z"
   },
   {
    "duration": 592,
    "start_time": "2021-11-25T22:29:29.283Z"
   },
   {
    "duration": 838,
    "start_time": "2021-11-25T22:29:29.877Z"
   },
   {
    "duration": 29,
    "start_time": "2021-11-25T22:29:30.717Z"
   },
   {
    "duration": 24,
    "start_time": "2021-11-25T22:29:30.763Z"
   },
   {
    "duration": 158,
    "start_time": "2021-11-25T22:29:30.789Z"
   },
   {
    "duration": 2,
    "start_time": "2021-11-25T22:29:30.949Z"
   },
   {
    "duration": 537,
    "start_time": "2021-11-25T22:29:30.952Z"
   },
   {
    "duration": 45,
    "start_time": "2021-11-25T22:29:31.491Z"
   },
   {
    "duration": 59,
    "start_time": "2021-11-25T22:29:31.538Z"
   },
   {
    "duration": 37,
    "start_time": "2021-11-25T22:29:31.599Z"
   },
   {
    "duration": 77,
    "start_time": "2021-11-25T22:29:31.638Z"
   },
   {
    "duration": 333,
    "start_time": "2021-11-25T22:29:31.717Z"
   },
   {
    "duration": 18,
    "start_time": "2021-11-25T22:29:32.051Z"
   },
   {
    "duration": 47,
    "start_time": "2021-11-25T22:29:32.071Z"
   },
   {
    "duration": 252,
    "start_time": "2021-11-25T22:29:32.119Z"
   },
   {
    "duration": 8,
    "start_time": "2021-11-25T22:29:32.373Z"
   },
   {
    "duration": 173,
    "start_time": "2021-11-25T22:29:32.383Z"
   },
   {
    "duration": 22,
    "start_time": "2021-11-25T22:29:32.558Z"
   },
   {
    "duration": 6,
    "start_time": "2021-11-25T22:29:32.582Z"
   },
   {
    "duration": 11,
    "start_time": "2021-11-25T22:29:32.589Z"
   },
   {
    "duration": 400,
    "start_time": "2021-11-25T22:29:59.207Z"
   },
   {
    "duration": 438,
    "start_time": "2021-11-25T22:30:52.697Z"
   },
   {
    "duration": 425,
    "start_time": "2021-11-25T22:30:58.532Z"
   },
   {
    "duration": 572,
    "start_time": "2021-11-25T22:31:11.432Z"
   },
   {
    "duration": 347,
    "start_time": "2021-11-25T22:31:19.202Z"
   },
   {
    "duration": 8924,
    "start_time": "2021-11-25T22:31:29.283Z"
   },
   {
    "duration": 8892,
    "start_time": "2021-11-25T22:31:47.028Z"
   },
   {
    "duration": 17,
    "start_time": "2021-11-25T22:32:42.409Z"
   },
   {
    "duration": 586,
    "start_time": "2021-11-27T13:02:18.577Z"
   },
   {
    "duration": 1142,
    "start_time": "2021-11-27T13:02:19.165Z"
   },
   {
    "duration": 26,
    "start_time": "2021-11-27T13:02:20.309Z"
   },
   {
    "duration": 18,
    "start_time": "2021-11-27T13:02:20.337Z"
   },
   {
    "duration": 137,
    "start_time": "2021-11-27T13:02:20.357Z"
   },
   {
    "duration": 3,
    "start_time": "2021-11-27T13:02:20.496Z"
   },
   {
    "duration": 468,
    "start_time": "2021-11-27T13:02:20.500Z"
   },
   {
    "duration": 47,
    "start_time": "2021-11-27T13:02:20.971Z"
   },
   {
    "duration": 41,
    "start_time": "2021-11-27T13:02:21.020Z"
   },
   {
    "duration": 34,
    "start_time": "2021-11-27T13:02:21.062Z"
   },
   {
    "duration": 64,
    "start_time": "2021-11-27T13:02:21.097Z"
   },
   {
    "duration": 274,
    "start_time": "2021-11-27T13:02:21.163Z"
   },
   {
    "duration": 12,
    "start_time": "2021-11-27T13:02:21.438Z"
   },
   {
    "duration": 63,
    "start_time": "2021-11-27T13:02:21.451Z"
   },
   {
    "duration": 7277,
    "start_time": "2021-11-27T13:02:21.515Z"
   },
   {
    "duration": 19,
    "start_time": "2021-11-27T13:02:28.795Z"
   },
   {
    "duration": 160,
    "start_time": "2021-11-27T13:02:28.816Z"
   },
   {
    "duration": 28,
    "start_time": "2021-11-27T13:02:28.978Z"
   },
   {
    "duration": 5,
    "start_time": "2021-11-27T13:02:29.009Z"
   },
   {
    "duration": 7,
    "start_time": "2021-11-27T13:02:29.016Z"
   },
   {
    "duration": 186,
    "start_time": "2021-11-27T13:02:59.285Z"
   },
   {
    "duration": 6978,
    "start_time": "2021-11-27T13:03:21.197Z"
   },
   {
    "duration": 24,
    "start_time": "2021-11-27T13:03:28.176Z"
   },
   {
    "duration": 45,
    "start_time": "2021-11-27T13:03:54.663Z"
   },
   {
    "duration": 372,
    "start_time": "2021-11-27T13:04:10.756Z"
   },
   {
    "duration": 267,
    "start_time": "2021-11-27T13:04:14.661Z"
   },
   {
    "duration": 259,
    "start_time": "2021-11-27T13:04:32.853Z"
   },
   {
    "duration": 272,
    "start_time": "2021-11-27T13:04:38.717Z"
   },
   {
    "duration": 269,
    "start_time": "2021-11-27T13:04:50.549Z"
   },
   {
    "duration": 267,
    "start_time": "2021-11-27T13:04:54.845Z"
   },
   {
    "duration": 261,
    "start_time": "2021-11-27T13:04:58.692Z"
   },
   {
    "duration": 33,
    "start_time": "2021-11-27T13:05:22.996Z"
   },
   {
    "duration": 56,
    "start_time": "2021-11-27T13:05:34.909Z"
   },
   {
    "duration": 312,
    "start_time": "2021-11-27T13:05:44.453Z"
   },
   {
    "duration": 68,
    "start_time": "2021-11-27T13:05:49.972Z"
   },
   {
    "duration": 59,
    "start_time": "2021-11-27T13:05:57.205Z"
   },
   {
    "duration": 62,
    "start_time": "2021-11-27T13:06:04.100Z"
   },
   {
    "duration": 53,
    "start_time": "2021-11-27T13:06:08.411Z"
   },
   {
    "duration": 59,
    "start_time": "2021-11-27T13:06:14.242Z"
   },
   {
    "duration": 57,
    "start_time": "2021-11-27T13:06:24.101Z"
   },
   {
    "duration": 59,
    "start_time": "2021-11-27T13:06:30.419Z"
   },
   {
    "duration": 58,
    "start_time": "2021-11-27T13:06:37.035Z"
   },
   {
    "duration": 57,
    "start_time": "2021-11-27T13:06:41.451Z"
   },
   {
    "duration": 60,
    "start_time": "2021-11-27T13:06:48.467Z"
   },
   {
    "duration": 575,
    "start_time": "2021-11-27T13:06:59.375Z"
   },
   {
    "duration": 789,
    "start_time": "2021-11-27T13:06:59.952Z"
   },
   {
    "duration": 26,
    "start_time": "2021-11-27T13:07:00.743Z"
   },
   {
    "duration": 31,
    "start_time": "2021-11-27T13:07:00.771Z"
   },
   {
    "duration": 131,
    "start_time": "2021-11-27T13:07:00.803Z"
   },
   {
    "duration": 2,
    "start_time": "2021-11-27T13:07:00.935Z"
   },
   {
    "duration": 443,
    "start_time": "2021-11-27T13:07:00.938Z"
   },
   {
    "duration": 37,
    "start_time": "2021-11-27T13:07:01.382Z"
   },
   {
    "duration": 45,
    "start_time": "2021-11-27T13:07:01.421Z"
   },
   {
    "duration": 42,
    "start_time": "2021-11-27T13:07:01.468Z"
   },
   {
    "duration": 62,
    "start_time": "2021-11-27T13:07:01.512Z"
   },
   {
    "duration": 261,
    "start_time": "2021-11-27T13:07:01.589Z"
   },
   {
    "duration": 12,
    "start_time": "2021-11-27T13:07:01.851Z"
   },
   {
    "duration": 56,
    "start_time": "2021-11-27T13:07:01.864Z"
   },
   {
    "duration": 70,
    "start_time": "2021-11-27T13:07:01.921Z"
   },
   {
    "duration": 18,
    "start_time": "2021-11-27T13:07:01.993Z"
   },
   {
    "duration": 193,
    "start_time": "2021-11-27T13:07:02.013Z"
   },
   {
    "duration": 16,
    "start_time": "2021-11-27T13:07:02.207Z"
   },
   {
    "duration": 14,
    "start_time": "2021-11-27T13:07:02.224Z"
   },
   {
    "duration": 10,
    "start_time": "2021-11-27T13:07:02.239Z"
   },
   {
    "duration": 212,
    "start_time": "2021-11-27T13:07:37.012Z"
   },
   {
    "duration": 382,
    "start_time": "2021-11-27T13:07:50.044Z"
   },
   {
    "duration": 426,
    "start_time": "2021-11-27T13:08:04.963Z"
   },
   {
    "duration": 410,
    "start_time": "2021-11-27T13:08:11.219Z"
   },
   {
    "duration": 1075,
    "start_time": "2021-11-27T13:08:27.243Z"
   },
   {
    "duration": 1257,
    "start_time": "2021-11-27T13:08:56.925Z"
   },
   {
    "duration": 962,
    "start_time": "2021-11-27T13:09:52.293Z"
   },
   {
    "duration": 537,
    "start_time": "2021-11-27T13:10:25.507Z"
   },
   {
    "duration": 890,
    "start_time": "2021-11-27T13:10:26.046Z"
   },
   {
    "duration": 26,
    "start_time": "2021-11-27T13:10:26.940Z"
   },
   {
    "duration": 32,
    "start_time": "2021-11-27T13:10:26.968Z"
   },
   {
    "duration": 132,
    "start_time": "2021-11-27T13:10:27.001Z"
   },
   {
    "duration": 2,
    "start_time": "2021-11-27T13:10:27.135Z"
   },
   {
    "duration": 423,
    "start_time": "2021-11-27T13:10:27.139Z"
   },
   {
    "duration": 39,
    "start_time": "2021-11-27T13:10:27.565Z"
   },
   {
    "duration": 34,
    "start_time": "2021-11-27T13:10:27.606Z"
   },
   {
    "duration": 49,
    "start_time": "2021-11-27T13:10:27.641Z"
   },
   {
    "duration": 63,
    "start_time": "2021-11-27T13:10:27.691Z"
   },
   {
    "duration": 261,
    "start_time": "2021-11-27T13:10:27.756Z"
   },
   {
    "duration": 14,
    "start_time": "2021-11-27T13:10:28.019Z"
   },
   {
    "duration": 59,
    "start_time": "2021-11-27T13:10:28.035Z"
   },
   {
    "duration": 2,
    "start_time": "2021-11-27T13:10:28.096Z"
   },
   {
    "duration": 389,
    "start_time": "2021-11-27T13:10:28.100Z"
   },
   {
    "duration": 213,
    "start_time": "2021-11-27T13:10:28.491Z"
   },
   {
    "duration": 16,
    "start_time": "2021-11-27T13:10:28.706Z"
   },
   {
    "duration": 5,
    "start_time": "2021-11-27T13:10:28.724Z"
   },
   {
    "duration": 6,
    "start_time": "2021-11-27T13:10:28.731Z"
   },
   {
    "duration": 881,
    "start_time": "2021-11-27T13:10:51.427Z"
   },
   {
    "duration": 527,
    "start_time": "2021-11-27T13:11:07.749Z"
   },
   {
    "duration": 694,
    "start_time": "2021-11-27T13:11:08.278Z"
   },
   {
    "duration": 30,
    "start_time": "2021-11-27T13:11:08.974Z"
   },
   {
    "duration": 36,
    "start_time": "2021-11-27T13:11:09.006Z"
   },
   {
    "duration": 121,
    "start_time": "2021-11-27T13:11:09.043Z"
   },
   {
    "duration": 2,
    "start_time": "2021-11-27T13:11:09.165Z"
   },
   {
    "duration": 432,
    "start_time": "2021-11-27T13:11:09.168Z"
   },
   {
    "duration": 35,
    "start_time": "2021-11-27T13:11:09.602Z"
   },
   {
    "duration": 45,
    "start_time": "2021-11-27T13:11:09.639Z"
   },
   {
    "duration": 31,
    "start_time": "2021-11-27T13:11:09.686Z"
   },
   {
    "duration": 60,
    "start_time": "2021-11-27T13:11:09.718Z"
   },
   {
    "duration": 238,
    "start_time": "2021-11-27T13:11:09.780Z"
   },
   {
    "duration": 13,
    "start_time": "2021-11-27T13:11:10.019Z"
   },
   {
    "duration": 53,
    "start_time": "2021-11-27T13:11:10.033Z"
   },
   {
    "duration": 26,
    "start_time": "2021-11-27T13:11:10.088Z"
   },
   {
    "duration": 920,
    "start_time": "2021-11-27T13:11:10.115Z"
   },
   {
    "duration": 172,
    "start_time": "2021-11-27T13:11:11.037Z"
   },
   {
    "duration": 15,
    "start_time": "2021-11-27T13:11:11.210Z"
   },
   {
    "duration": 16,
    "start_time": "2021-11-27T13:11:11.226Z"
   },
   {
    "duration": 20,
    "start_time": "2021-11-27T13:11:11.243Z"
   },
   {
    "duration": 872,
    "start_time": "2021-11-27T13:11:25.915Z"
   },
   {
    "duration": 1075,
    "start_time": "2021-11-27T13:11:44.601Z"
   },
   {
    "duration": 23,
    "start_time": "2021-11-27T13:12:12.008Z"
   },
   {
    "duration": 559,
    "start_time": "2021-11-27T13:13:17.470Z"
   },
   {
    "duration": 785,
    "start_time": "2021-11-27T13:13:18.031Z"
   },
   {
    "duration": 26,
    "start_time": "2021-11-27T13:13:18.818Z"
   },
   {
    "duration": 21,
    "start_time": "2021-11-27T13:13:18.845Z"
   },
   {
    "duration": 120,
    "start_time": "2021-11-27T13:13:18.888Z"
   },
   {
    "duration": 2,
    "start_time": "2021-11-27T13:13:19.010Z"
   },
   {
    "duration": 423,
    "start_time": "2021-11-27T13:13:19.014Z"
   },
   {
    "duration": 35,
    "start_time": "2021-11-27T13:13:19.438Z"
   },
   {
    "duration": 40,
    "start_time": "2021-11-27T13:13:19.476Z"
   },
   {
    "duration": 36,
    "start_time": "2021-11-27T13:13:19.518Z"
   },
   {
    "duration": 76,
    "start_time": "2021-11-27T13:13:19.556Z"
   },
   {
    "duration": 243,
    "start_time": "2021-11-27T13:13:19.634Z"
   },
   {
    "duration": 12,
    "start_time": "2021-11-27T13:13:19.878Z"
   },
   {
    "duration": 45,
    "start_time": "2021-11-27T13:13:19.892Z"
   },
   {
    "duration": 25,
    "start_time": "2021-11-27T13:13:19.938Z"
   },
   {
    "duration": 930,
    "start_time": "2021-11-27T13:13:19.965Z"
   },
   {
    "duration": 21,
    "start_time": "2021-11-27T13:13:20.897Z"
   },
   {
    "duration": 14,
    "start_time": "2021-11-27T13:13:20.920Z"
   },
   {
    "duration": 278,
    "start_time": "2021-11-27T13:13:20.935Z"
   },
   {
    "duration": -41448,
    "start_time": "2021-11-27T13:14:02.663Z"
   },
   {
    "duration": 568,
    "start_time": "2021-11-27T13:14:11.377Z"
   },
   {
    "duration": 690,
    "start_time": "2021-11-27T13:14:11.948Z"
   },
   {
    "duration": 26,
    "start_time": "2021-11-27T13:14:12.640Z"
   },
   {
    "duration": 26,
    "start_time": "2021-11-27T13:14:12.668Z"
   },
   {
    "duration": 124,
    "start_time": "2021-11-27T13:14:12.695Z"
   },
   {
    "duration": 2,
    "start_time": "2021-11-27T13:14:12.820Z"
   },
   {
    "duration": 419,
    "start_time": "2021-11-27T13:14:12.823Z"
   },
   {
    "duration": 44,
    "start_time": "2021-11-27T13:14:13.244Z"
   },
   {
    "duration": 39,
    "start_time": "2021-11-27T13:14:13.290Z"
   },
   {
    "duration": 31,
    "start_time": "2021-11-27T13:14:13.330Z"
   },
   {
    "duration": 74,
    "start_time": "2021-11-27T13:14:13.362Z"
   },
   {
    "duration": 240,
    "start_time": "2021-11-27T13:14:13.437Z"
   },
   {
    "duration": 12,
    "start_time": "2021-11-27T13:14:13.679Z"
   },
   {
    "duration": 40,
    "start_time": "2021-11-27T13:14:13.692Z"
   },
   {
    "duration": 26,
    "start_time": "2021-11-27T13:14:13.734Z"
   },
   {
    "duration": 988,
    "start_time": "2021-11-27T13:14:13.761Z"
   },
   {
    "duration": 21,
    "start_time": "2021-11-27T13:14:14.751Z"
   },
   {
    "duration": 27,
    "start_time": "2021-11-27T13:14:14.774Z"
   },
   {
    "duration": 298,
    "start_time": "2021-11-27T13:14:14.802Z"
   },
   {
    "duration": -41449,
    "start_time": "2021-11-27T13:14:56.551Z"
   },
   {
    "duration": 893,
    "start_time": "2021-11-27T13:33:50.086Z"
   },
   {
    "duration": 1698,
    "start_time": "2021-11-27T13:34:00.525Z"
   },
   {
    "duration": 1134,
    "start_time": "2021-11-27T13:34:10.406Z"
   },
   {
    "duration": 554,
    "start_time": "2021-11-27T13:34:42.683Z"
   },
   {
    "duration": 703,
    "start_time": "2021-11-27T13:34:43.239Z"
   },
   {
    "duration": 25,
    "start_time": "2021-11-27T13:34:43.944Z"
   },
   {
    "duration": 30,
    "start_time": "2021-11-27T13:34:43.970Z"
   },
   {
    "duration": 122,
    "start_time": "2021-11-27T13:34:44.002Z"
   },
   {
    "duration": 2,
    "start_time": "2021-11-27T13:34:44.126Z"
   },
   {
    "duration": 438,
    "start_time": "2021-11-27T13:34:44.129Z"
   },
   {
    "duration": 39,
    "start_time": "2021-11-27T13:34:44.569Z"
   },
   {
    "duration": 38,
    "start_time": "2021-11-27T13:34:44.611Z"
   },
   {
    "duration": 48,
    "start_time": "2021-11-27T13:34:44.650Z"
   },
   {
    "duration": 60,
    "start_time": "2021-11-27T13:34:44.699Z"
   },
   {
    "duration": 245,
    "start_time": "2021-11-27T13:34:44.760Z"
   },
   {
    "duration": 13,
    "start_time": "2021-11-27T13:34:45.007Z"
   },
   {
    "duration": 55,
    "start_time": "2021-11-27T13:34:45.022Z"
   },
   {
    "duration": 30,
    "start_time": "2021-11-27T13:34:45.079Z"
   },
   {
    "duration": 279,
    "start_time": "2021-11-27T13:34:45.111Z"
   },
   {
    "duration": -41462,
    "start_time": "2021-11-27T13:35:26.853Z"
   },
   {
    "duration": -41463,
    "start_time": "2021-11-27T13:35:26.855Z"
   },
   {
    "duration": -41464,
    "start_time": "2021-11-27T13:35:26.857Z"
   },
   {
    "duration": -41465,
    "start_time": "2021-11-27T13:35:26.859Z"
   },
   {
    "duration": 232,
    "start_time": "2021-11-27T13:35:09.798Z"
   },
   {
    "duration": 270,
    "start_time": "2021-11-27T13:35:27.782Z"
   },
   {
    "duration": 409,
    "start_time": "2021-11-27T13:35:39.901Z"
   },
   {
    "duration": 633,
    "start_time": "2021-11-27T13:36:01.437Z"
   },
   {
    "duration": 881,
    "start_time": "2021-11-27T13:36:20.574Z"
   },
   {
    "duration": 28,
    "start_time": "2021-11-27T13:37:06.316Z"
   },
   {
    "duration": 941,
    "start_time": "2021-11-27T13:37:07.204Z"
   },
   {
    "duration": 28,
    "start_time": "2021-11-27T13:37:15.211Z"
   },
   {
    "duration": 869,
    "start_time": "2021-11-27T13:37:16.171Z"
   },
   {
    "duration": 984,
    "start_time": "2021-11-27T13:37:36.116Z"
   },
   {
    "duration": 1700,
    "start_time": "2021-11-27T13:37:47.332Z"
   },
   {
    "duration": 1834,
    "start_time": "2021-11-27T13:37:59.556Z"
   },
   {
    "duration": 1655,
    "start_time": "2021-11-27T13:38:12.691Z"
   },
   {
    "duration": 1091,
    "start_time": "2021-11-27T13:38:20.619Z"
   },
   {
    "duration": 369,
    "start_time": "2021-11-27T13:38:26.820Z"
   },
   {
    "duration": 600,
    "start_time": "2021-11-27T13:38:30.645Z"
   },
   {
    "duration": 622,
    "start_time": "2021-11-27T13:38:36.003Z"
   },
   {
    "duration": 1128,
    "start_time": "2021-11-27T13:38:40.724Z"
   },
   {
    "duration": 82,
    "start_time": "2021-11-27T13:40:06.419Z"
   },
   {
    "duration": 562,
    "start_time": "2021-11-27T13:40:21.079Z"
   },
   {
    "duration": 704,
    "start_time": "2021-11-27T13:40:21.643Z"
   },
   {
    "duration": 125,
    "start_time": "2021-11-27T13:40:22.349Z"
   },
   {
    "duration": 26,
    "start_time": "2021-11-27T13:40:22.476Z"
   },
   {
    "duration": 127,
    "start_time": "2021-11-27T13:40:22.504Z"
   },
   {
    "duration": 1,
    "start_time": "2021-11-27T13:40:22.633Z"
   },
   {
    "duration": 533,
    "start_time": "2021-11-27T13:40:22.636Z"
   },
   {
    "duration": 40,
    "start_time": "2021-11-27T13:40:23.171Z"
   },
   {
    "duration": 35,
    "start_time": "2021-11-27T13:40:23.213Z"
   },
   {
    "duration": 45,
    "start_time": "2021-11-27T13:40:23.250Z"
   },
   {
    "duration": 62,
    "start_time": "2021-11-27T13:40:23.297Z"
   },
   {
    "duration": 245,
    "start_time": "2021-11-27T13:40:23.361Z"
   },
   {
    "duration": 13,
    "start_time": "2021-11-27T13:40:23.608Z"
   },
   {
    "duration": 41,
    "start_time": "2021-11-27T13:40:23.623Z"
   },
   {
    "duration": 45,
    "start_time": "2021-11-27T13:40:23.666Z"
   },
   {
    "duration": 941,
    "start_time": "2021-11-27T13:40:23.713Z"
   },
   {
    "duration": 22,
    "start_time": "2021-11-27T13:40:24.655Z"
   },
   {
    "duration": 15,
    "start_time": "2021-11-27T13:40:24.688Z"
   },
   {
    "duration": 276,
    "start_time": "2021-11-27T13:40:24.705Z"
   },
   {
    "duration": -41465,
    "start_time": "2021-11-27T13:41:06.447Z"
   },
   {
    "duration": 5850,
    "start_time": "2021-11-27T13:41:44.025Z"
   },
   {
    "duration": 5908,
    "start_time": "2021-11-27T13:41:58.874Z"
   },
   {
    "duration": 5631,
    "start_time": "2021-11-27T13:42:53.601Z"
   },
   {
    "duration": 5554,
    "start_time": "2021-11-27T13:43:19.265Z"
   },
   {
    "duration": 528,
    "start_time": "2021-11-27T13:43:43.312Z"
   },
   {
    "duration": 706,
    "start_time": "2021-11-27T13:43:43.842Z"
   },
   {
    "duration": 136,
    "start_time": "2021-11-27T13:43:44.552Z"
   },
   {
    "duration": 20,
    "start_time": "2021-11-27T13:43:44.690Z"
   },
   {
    "duration": 134,
    "start_time": "2021-11-27T13:43:44.712Z"
   },
   {
    "duration": 67,
    "start_time": "2021-11-27T13:43:44.847Z"
   },
   {
    "duration": 2,
    "start_time": "2021-11-27T13:43:44.916Z"
   },
   {
    "duration": 75,
    "start_time": "2021-11-27T13:43:44.920Z"
   },
   {
    "duration": -41466,
    "start_time": "2021-11-27T13:44:26.463Z"
   },
   {
    "duration": -41467,
    "start_time": "2021-11-27T13:44:26.465Z"
   },
   {
    "duration": -41468,
    "start_time": "2021-11-27T13:44:26.467Z"
   },
   {
    "duration": -41469,
    "start_time": "2021-11-27T13:44:26.469Z"
   },
   {
    "duration": -41469,
    "start_time": "2021-11-27T13:44:26.470Z"
   },
   {
    "duration": -41470,
    "start_time": "2021-11-27T13:44:26.472Z"
   },
   {
    "duration": -41475,
    "start_time": "2021-11-27T13:44:26.478Z"
   },
   {
    "duration": -41477,
    "start_time": "2021-11-27T13:44:26.481Z"
   },
   {
    "duration": -41477,
    "start_time": "2021-11-27T13:44:26.482Z"
   },
   {
    "duration": -41478,
    "start_time": "2021-11-27T13:44:26.484Z"
   },
   {
    "duration": -41479,
    "start_time": "2021-11-27T13:44:26.486Z"
   },
   {
    "duration": -41480,
    "start_time": "2021-11-27T13:44:26.488Z"
   },
   {
    "duration": -41480,
    "start_time": "2021-11-27T13:44:26.489Z"
   },
   {
    "duration": -41481,
    "start_time": "2021-11-27T13:44:26.491Z"
   },
   {
    "duration": 86,
    "start_time": "2021-11-27T13:44:00.807Z"
   },
   {
    "duration": 84,
    "start_time": "2021-11-27T13:45:19.374Z"
   },
   {
    "duration": 422,
    "start_time": "2021-11-27T13:46:55.830Z"
   },
   {
    "duration": 409,
    "start_time": "2021-11-27T13:47:11.742Z"
   },
   {
    "duration": 506,
    "start_time": "2021-11-27T13:49:00.439Z"
   },
   {
    "duration": 723,
    "start_time": "2021-11-27T13:49:00.947Z"
   },
   {
    "duration": 137,
    "start_time": "2021-11-27T13:49:01.672Z"
   },
   {
    "duration": 419,
    "start_time": "2021-11-27T13:49:01.811Z"
   },
   {
    "duration": 19,
    "start_time": "2021-11-27T13:49:02.232Z"
   },
   {
    "duration": 100,
    "start_time": "2021-11-27T13:49:02.252Z"
   },
   {
    "duration": 95,
    "start_time": "2021-11-27T13:49:02.353Z"
   },
   {
    "duration": 45,
    "start_time": "2021-11-27T13:49:02.451Z"
   },
   {
    "duration": 57,
    "start_time": "2021-11-27T13:49:02.498Z"
   },
   {
    "duration": 34,
    "start_time": "2021-11-27T13:49:02.556Z"
   },
   {
    "duration": 22,
    "start_time": "2021-11-27T13:49:02.591Z"
   },
   {
    "duration": 73,
    "start_time": "2021-11-27T13:49:02.615Z"
   },
   {
    "duration": 2,
    "start_time": "2021-11-27T13:49:02.689Z"
   },
   {
    "duration": 81,
    "start_time": "2021-11-27T13:49:02.692Z"
   },
   {
    "duration": -41471,
    "start_time": "2021-11-27T13:49:44.246Z"
   },
   {
    "duration": -41472,
    "start_time": "2021-11-27T13:49:44.248Z"
   },
   {
    "duration": -41473,
    "start_time": "2021-11-27T13:49:44.250Z"
   },
   {
    "duration": -41473,
    "start_time": "2021-11-27T13:49:44.251Z"
   },
   {
    "duration": -41474,
    "start_time": "2021-11-27T13:49:44.253Z"
   },
   {
    "duration": -41475,
    "start_time": "2021-11-27T13:49:44.255Z"
   },
   {
    "duration": -41475,
    "start_time": "2021-11-27T13:49:44.256Z"
   },
   {
    "duration": -41481,
    "start_time": "2021-11-27T13:49:44.263Z"
   },
   {
    "duration": -41481,
    "start_time": "2021-11-27T13:49:44.264Z"
   },
   {
    "duration": 3,
    "start_time": "2021-11-27T13:52:34.988Z"
   },
   {
    "duration": 16,
    "start_time": "2021-11-27T13:53:02.619Z"
   },
   {
    "duration": 43,
    "start_time": "2021-11-27T13:53:07.299Z"
   },
   {
    "duration": 294,
    "start_time": "2021-11-27T13:53:50.012Z"
   },
   {
    "duration": 508,
    "start_time": "2021-11-27T13:53:57.733Z"
   },
   {
    "duration": 718,
    "start_time": "2021-11-27T13:53:58.243Z"
   },
   {
    "duration": 143,
    "start_time": "2021-11-27T13:53:58.963Z"
   },
   {
    "duration": 436,
    "start_time": "2021-11-27T13:53:59.108Z"
   },
   {
    "duration": 23,
    "start_time": "2021-11-27T13:53:59.545Z"
   },
   {
    "duration": 109,
    "start_time": "2021-11-27T13:53:59.570Z"
   },
   {
    "duration": 99,
    "start_time": "2021-11-27T13:53:59.688Z"
   },
   {
    "duration": 37,
    "start_time": "2021-11-27T13:53:59.790Z"
   },
   {
    "duration": 37,
    "start_time": "2021-11-27T13:53:59.829Z"
   },
   {
    "duration": 43,
    "start_time": "2021-11-27T13:53:59.868Z"
   },
   {
    "duration": 22,
    "start_time": "2021-11-27T13:53:59.912Z"
   },
   {
    "duration": 80,
    "start_time": "2021-11-27T13:53:59.936Z"
   },
   {
    "duration": 5,
    "start_time": "2021-11-27T13:54:00.017Z"
   },
   {
    "duration": 36,
    "start_time": "2021-11-27T13:54:00.024Z"
   },
   {
    "duration": 2,
    "start_time": "2021-11-27T13:54:00.061Z"
   },
   {
    "duration": 88,
    "start_time": "2021-11-27T13:54:00.065Z"
   },
   {
    "duration": -41504,
    "start_time": "2021-11-27T13:54:41.659Z"
   },
   {
    "duration": -41505,
    "start_time": "2021-11-27T13:54:41.661Z"
   },
   {
    "duration": -41507,
    "start_time": "2021-11-27T13:54:41.664Z"
   },
   {
    "duration": -41508,
    "start_time": "2021-11-27T13:54:41.665Z"
   },
   {
    "duration": -41509,
    "start_time": "2021-11-27T13:54:41.667Z"
   },
   {
    "duration": -41515,
    "start_time": "2021-11-27T13:54:41.674Z"
   },
   {
    "duration": -41516,
    "start_time": "2021-11-27T13:54:41.676Z"
   },
   {
    "duration": -41525,
    "start_time": "2021-11-27T13:54:41.685Z"
   },
   {
    "duration": -41526,
    "start_time": "2021-11-27T13:54:41.687Z"
   },
   {
    "duration": 109,
    "start_time": "2021-11-27T13:55:04.954Z"
   },
   {
    "duration": 312,
    "start_time": "2021-11-27T13:56:14.192Z"
   },
   {
    "duration": 578,
    "start_time": "2021-11-27T13:56:19.111Z"
   },
   {
    "duration": 689,
    "start_time": "2021-11-27T13:56:19.691Z"
   },
   {
    "duration": 130,
    "start_time": "2021-11-27T13:56:20.381Z"
   },
   {
    "duration": 418,
    "start_time": "2021-11-27T13:56:20.513Z"
   },
   {
    "duration": 21,
    "start_time": "2021-11-27T13:56:20.933Z"
   },
   {
    "duration": 113,
    "start_time": "2021-11-27T13:56:20.956Z"
   },
   {
    "duration": 92,
    "start_time": "2021-11-27T13:56:21.071Z"
   },
   {
    "duration": 42,
    "start_time": "2021-11-27T13:56:21.165Z"
   },
   {
    "duration": 35,
    "start_time": "2021-11-27T13:56:21.209Z"
   },
   {
    "duration": 30,
    "start_time": "2021-11-27T13:56:21.245Z"
   },
   {
    "duration": 21,
    "start_time": "2021-11-27T13:56:21.288Z"
   },
   {
    "duration": 79,
    "start_time": "2021-11-27T13:56:21.310Z"
   },
   {
    "duration": 3,
    "start_time": "2021-11-27T13:56:21.391Z"
   },
   {
    "duration": 106,
    "start_time": "2021-11-27T13:56:21.395Z"
   },
   {
    "duration": 2,
    "start_time": "2021-11-27T13:56:21.503Z"
   },
   {
    "duration": 103,
    "start_time": "2021-11-27T13:56:21.506Z"
   },
   {
    "duration": -41484,
    "start_time": "2021-11-27T13:57:03.094Z"
   },
   {
    "duration": -41484,
    "start_time": "2021-11-27T13:57:03.095Z"
   },
   {
    "duration": -41485,
    "start_time": "2021-11-27T13:57:03.097Z"
   },
   {
    "duration": -41486,
    "start_time": "2021-11-27T13:57:03.099Z"
   },
   {
    "duration": -41488,
    "start_time": "2021-11-27T13:57:03.101Z"
   },
   {
    "duration": -41488,
    "start_time": "2021-11-27T13:57:03.102Z"
   },
   {
    "duration": -41490,
    "start_time": "2021-11-27T13:57:03.104Z"
   },
   {
    "duration": -41492,
    "start_time": "2021-11-27T13:57:03.107Z"
   },
   {
    "duration": -41493,
    "start_time": "2021-11-27T13:57:03.109Z"
   },
   {
    "duration": 559,
    "start_time": "2021-11-27T13:57:04.969Z"
   },
   {
    "duration": 690,
    "start_time": "2021-11-27T13:57:05.531Z"
   },
   {
    "duration": 134,
    "start_time": "2021-11-27T13:57:06.223Z"
   },
   {
    "duration": 405,
    "start_time": "2021-11-27T13:57:06.359Z"
   },
   {
    "duration": 28,
    "start_time": "2021-11-27T13:57:06.765Z"
   },
   {
    "duration": 100,
    "start_time": "2021-11-27T13:57:06.794Z"
   },
   {
    "duration": 81,
    "start_time": "2021-11-27T13:57:06.896Z"
   },
   {
    "duration": 34,
    "start_time": "2021-11-27T13:57:06.989Z"
   },
   {
    "duration": 32,
    "start_time": "2021-11-27T13:57:07.025Z"
   },
   {
    "duration": 49,
    "start_time": "2021-11-27T13:57:07.059Z"
   },
   {
    "duration": 23,
    "start_time": "2021-11-27T13:57:07.109Z"
   },
   {
    "duration": 80,
    "start_time": "2021-11-27T13:57:07.134Z"
   },
   {
    "duration": 4,
    "start_time": "2021-11-27T13:57:07.216Z"
   },
   {
    "duration": 101,
    "start_time": "2021-11-27T13:57:07.222Z"
   },
   {
    "duration": 2,
    "start_time": "2021-11-27T13:57:07.325Z"
   },
   {
    "duration": 79,
    "start_time": "2021-11-27T13:57:07.329Z"
   },
   {
    "duration": -41473,
    "start_time": "2021-11-27T13:57:48.883Z"
   },
   {
    "duration": -41474,
    "start_time": "2021-11-27T13:57:48.885Z"
   },
   {
    "duration": -41475,
    "start_time": "2021-11-27T13:57:48.887Z"
   },
   {
    "duration": -41476,
    "start_time": "2021-11-27T13:57:48.889Z"
   },
   {
    "duration": -41477,
    "start_time": "2021-11-27T13:57:48.891Z"
   },
   {
    "duration": -41478,
    "start_time": "2021-11-27T13:57:48.893Z"
   },
   {
    "duration": -41486,
    "start_time": "2021-11-27T13:57:48.902Z"
   },
   {
    "duration": -41486,
    "start_time": "2021-11-27T13:57:48.903Z"
   },
   {
    "duration": -41487,
    "start_time": "2021-11-27T13:57:48.905Z"
   },
   {
    "duration": 513,
    "start_time": "2021-11-27T13:57:41.747Z"
   },
   {
    "duration": 686,
    "start_time": "2021-11-27T13:57:42.262Z"
   },
   {
    "duration": 131,
    "start_time": "2021-11-27T13:57:42.950Z"
   },
   {
    "duration": 405,
    "start_time": "2021-11-27T13:57:43.082Z"
   },
   {
    "duration": 22,
    "start_time": "2021-11-27T13:57:43.489Z"
   },
   {
    "duration": 103,
    "start_time": "2021-11-27T13:57:43.513Z"
   },
   {
    "duration": 88,
    "start_time": "2021-11-27T13:57:43.618Z"
   },
   {
    "duration": 34,
    "start_time": "2021-11-27T13:57:43.708Z"
   },
   {
    "duration": 45,
    "start_time": "2021-11-27T13:57:43.745Z"
   },
   {
    "duration": 32,
    "start_time": "2021-11-27T13:57:43.792Z"
   },
   {
    "duration": 21,
    "start_time": "2021-11-27T13:57:43.825Z"
   },
   {
    "duration": 90,
    "start_time": "2021-11-27T13:57:43.848Z"
   },
   {
    "duration": 3,
    "start_time": "2021-11-27T13:57:43.940Z"
   },
   {
    "duration": 108,
    "start_time": "2021-11-27T13:57:43.944Z"
   },
   {
    "duration": 2,
    "start_time": "2021-11-27T13:57:44.054Z"
   },
   {
    "duration": 83,
    "start_time": "2021-11-27T13:57:44.057Z"
   },
   {
    "duration": -41465,
    "start_time": "2021-11-27T13:58:25.607Z"
   },
   {
    "duration": -41466,
    "start_time": "2021-11-27T13:58:25.609Z"
   },
   {
    "duration": -41467,
    "start_time": "2021-11-27T13:58:25.611Z"
   },
   {
    "duration": -41478,
    "start_time": "2021-11-27T13:58:25.622Z"
   },
   {
    "duration": -41480,
    "start_time": "2021-11-27T13:58:25.625Z"
   },
   {
    "duration": -41482,
    "start_time": "2021-11-27T13:58:25.628Z"
   },
   {
    "duration": -41483,
    "start_time": "2021-11-27T13:58:25.630Z"
   },
   {
    "duration": -41484,
    "start_time": "2021-11-27T13:58:25.632Z"
   },
   {
    "duration": -41527,
    "start_time": "2021-11-27T13:58:25.676Z"
   },
   {
    "duration": 141,
    "start_time": "2021-11-27T14:01:47.008Z"
   },
   {
    "duration": 103,
    "start_time": "2021-11-27T14:01:51.711Z"
   },
   {
    "duration": 149,
    "start_time": "2021-11-27T14:02:19.259Z"
   },
   {
    "duration": 119,
    "start_time": "2021-11-27T14:02:25.758Z"
   },
   {
    "duration": 107,
    "start_time": "2021-11-27T14:02:30.383Z"
   },
   {
    "duration": 65,
    "start_time": "2021-11-27T14:03:03.269Z"
   },
   {
    "duration": 552,
    "start_time": "2021-11-27T14:03:33.954Z"
   },
   {
    "duration": 708,
    "start_time": "2021-11-27T14:03:34.508Z"
   },
   {
    "duration": 130,
    "start_time": "2021-11-27T14:03:35.218Z"
   },
   {
    "duration": 427,
    "start_time": "2021-11-27T14:03:35.350Z"
   },
   {
    "duration": 25,
    "start_time": "2021-11-27T14:03:35.779Z"
   },
   {
    "duration": 100,
    "start_time": "2021-11-27T14:03:35.806Z"
   },
   {
    "duration": 98,
    "start_time": "2021-11-27T14:03:35.908Z"
   },
   {
    "duration": 36,
    "start_time": "2021-11-27T14:03:36.008Z"
   },
   {
    "duration": 46,
    "start_time": "2021-11-27T14:03:36.046Z"
   },
   {
    "duration": 32,
    "start_time": "2021-11-27T14:03:36.094Z"
   },
   {
    "duration": 21,
    "start_time": "2021-11-27T14:03:36.128Z"
   },
   {
    "duration": 94,
    "start_time": "2021-11-27T14:03:36.151Z"
   },
   {
    "duration": 3,
    "start_time": "2021-11-27T14:03:36.247Z"
   },
   {
    "duration": 90,
    "start_time": "2021-11-27T14:03:36.252Z"
   },
   {
    "duration": 145,
    "start_time": "2021-11-27T14:03:36.343Z"
   },
   {
    "duration": 59,
    "start_time": "2021-11-27T14:03:36.490Z"
   },
   {
    "duration": 244,
    "start_time": "2021-11-27T14:03:36.550Z"
   },
   {
    "duration": 11,
    "start_time": "2021-11-27T14:03:36.796Z"
   },
   {
    "duration": 39,
    "start_time": "2021-11-27T14:03:36.809Z"
   },
   {
    "duration": 952,
    "start_time": "2021-11-27T14:03:36.849Z"
   },
   {
    "duration": 21,
    "start_time": "2021-11-27T14:03:37.802Z"
   },
   {
    "duration": 15,
    "start_time": "2021-11-27T14:03:37.825Z"
   },
   {
    "duration": 272,
    "start_time": "2021-11-27T14:03:37.843Z"
   },
   {
    "duration": -41474,
    "start_time": "2021-11-27T14:04:19.591Z"
   },
   {
    "duration": 23,
    "start_time": "2021-11-27T14:05:40.966Z"
   },
   {
    "duration": 14,
    "start_time": "2021-11-27T14:06:44.556Z"
   },
   {
    "duration": 13,
    "start_time": "2021-11-27T14:06:50.510Z"
   },
   {
    "duration": 242,
    "start_time": "2021-11-27T14:07:03.733Z"
   },
   {
    "duration": 18,
    "start_time": "2021-11-27T14:07:11.500Z"
   },
   {
    "duration": 268,
    "start_time": "2021-11-27T14:08:44.331Z"
   },
   {
    "duration": 17,
    "start_time": "2021-11-27T14:08:49.822Z"
   },
   {
    "duration": 18,
    "start_time": "2021-11-27T14:08:57.908Z"
   },
   {
    "duration": 17,
    "start_time": "2021-11-27T14:09:06.181Z"
   },
   {
    "duration": 59,
    "start_time": "2021-11-27T14:10:22.172Z"
   },
   {
    "duration": 375,
    "start_time": "2021-11-27T14:14:49.497Z"
   },
   {
    "duration": 19,
    "start_time": "2021-11-27T14:17:00.721Z"
   },
   {
    "duration": 19,
    "start_time": "2021-11-27T14:17:52.536Z"
   },
   {
    "duration": 26,
    "start_time": "2021-11-27T14:19:49.671Z"
   },
   {
    "duration": 23,
    "start_time": "2021-11-27T14:20:55.081Z"
   },
   {
    "duration": 20,
    "start_time": "2021-11-27T14:21:22.246Z"
   },
   {
    "duration": 20,
    "start_time": "2021-11-27T14:21:49.190Z"
   },
   {
    "duration": 310,
    "start_time": "2021-11-27T14:26:38.987Z"
   },
   {
    "duration": 1552,
    "start_time": "2021-11-27T14:26:46.884Z"
   },
   {
    "duration": 1550,
    "start_time": "2021-11-27T14:26:56.803Z"
   },
   {
    "duration": 1587,
    "start_time": "2021-11-27T14:27:05.589Z"
   },
   {
    "duration": 1617,
    "start_time": "2021-11-27T14:27:21.283Z"
   },
   {
    "duration": 1647,
    "start_time": "2021-11-27T14:27:44.083Z"
   },
   {
    "duration": 1785,
    "start_time": "2021-11-27T14:27:54.060Z"
   },
   {
    "duration": 308,
    "start_time": "2021-11-27T14:28:08.498Z"
   },
   {
    "duration": 14048,
    "start_time": "2021-11-27T14:28:12.810Z"
   },
   {
    "duration": 2110,
    "start_time": "2021-11-27T14:28:47.627Z"
   },
   {
    "duration": 1485,
    "start_time": "2021-11-27T14:28:55.828Z"
   },
   {
    "duration": 1461,
    "start_time": "2021-11-27T14:29:03.402Z"
   },
   {
    "duration": 2045,
    "start_time": "2021-11-27T14:29:16.633Z"
   },
   {
    "duration": 22,
    "start_time": "2021-11-27T14:29:39.962Z"
   },
   {
    "duration": 20,
    "start_time": "2021-11-27T14:30:07.894Z"
   },
   {
    "duration": 20,
    "start_time": "2021-11-27T14:31:08.363Z"
   },
   {
    "duration": 22,
    "start_time": "2021-11-27T14:31:23.114Z"
   },
   {
    "duration": 20,
    "start_time": "2021-11-27T14:32:31.914Z"
   },
   {
    "duration": 22,
    "start_time": "2021-11-27T14:33:23.722Z"
   },
   {
    "duration": 20,
    "start_time": "2021-11-27T14:34:15.346Z"
   },
   {
    "duration": 19,
    "start_time": "2021-11-27T14:34:44.424Z"
   },
   {
    "duration": 20,
    "start_time": "2021-11-27T14:35:09.503Z"
   },
   {
    "duration": 17,
    "start_time": "2021-11-27T14:35:40.767Z"
   },
   {
    "duration": 15,
    "start_time": "2021-11-27T14:37:10.008Z"
   },
   {
    "duration": 235,
    "start_time": "2021-11-27T14:37:52.607Z"
   },
   {
    "duration": 88,
    "start_time": "2021-11-27T14:38:08.037Z"
   },
   {
    "duration": 68,
    "start_time": "2021-11-27T14:38:52.229Z"
   },
   {
    "duration": 69,
    "start_time": "2021-11-27T14:39:02.085Z"
   },
   {
    "duration": 76,
    "start_time": "2021-11-27T14:39:43.712Z"
   },
   {
    "duration": 71,
    "start_time": "2021-11-27T14:39:59.976Z"
   },
   {
    "duration": 65,
    "start_time": "2021-11-27T14:40:22.461Z"
   },
   {
    "duration": 172,
    "start_time": "2021-11-27T14:40:44.717Z"
   },
   {
    "duration": 268,
    "start_time": "2021-11-27T14:40:53.044Z"
   },
   {
    "duration": 15,
    "start_time": "2021-11-27T14:41:05.284Z"
   },
   {
    "duration": 28,
    "start_time": "2021-11-27T14:45:13.162Z"
   },
   {
    "duration": 551,
    "start_time": "2021-11-27T14:45:22.801Z"
   },
   {
    "duration": 714,
    "start_time": "2021-11-27T14:45:23.353Z"
   },
   {
    "duration": 136,
    "start_time": "2021-11-27T14:45:24.069Z"
   },
   {
    "duration": 522,
    "start_time": "2021-11-27T14:45:24.206Z"
   },
   {
    "duration": 23,
    "start_time": "2021-11-27T14:45:24.729Z"
   },
   {
    "duration": 103,
    "start_time": "2021-11-27T14:45:24.754Z"
   },
   {
    "duration": 95,
    "start_time": "2021-11-27T14:45:24.859Z"
   },
   {
    "duration": 43,
    "start_time": "2021-11-27T14:45:24.957Z"
   },
   {
    "duration": 36,
    "start_time": "2021-11-27T14:45:25.002Z"
   },
   {
    "duration": 31,
    "start_time": "2021-11-27T14:45:25.040Z"
   },
   {
    "duration": 31,
    "start_time": "2021-11-27T14:45:25.073Z"
   },
   {
    "duration": 11,
    "start_time": "2021-11-27T14:45:25.105Z"
   },
   {
    "duration": 17,
    "start_time": "2021-11-27T14:45:25.118Z"
   },
   {
    "duration": 101,
    "start_time": "2021-11-27T14:45:25.136Z"
   },
   {
    "duration": 4,
    "start_time": "2021-11-27T14:45:25.239Z"
   },
   {
    "duration": 93,
    "start_time": "2021-11-27T14:45:25.244Z"
   },
   {
    "duration": 157,
    "start_time": "2021-11-27T14:45:25.339Z"
   },
   {
    "duration": 62,
    "start_time": "2021-11-27T14:45:25.498Z"
   },
   {
    "duration": 1587,
    "start_time": "2021-11-27T14:45:25.562Z"
   },
   {
    "duration": 20,
    "start_time": "2021-11-27T14:45:27.151Z"
   },
   {
    "duration": 41,
    "start_time": "2021-11-27T14:45:27.187Z"
   },
   {
    "duration": 997,
    "start_time": "2021-11-27T14:45:27.230Z"
   },
   {
    "duration": 22,
    "start_time": "2021-11-27T14:45:28.231Z"
   },
   {
    "duration": 14,
    "start_time": "2021-11-27T14:45:28.255Z"
   },
   {
    "duration": 274,
    "start_time": "2021-11-27T14:45:28.288Z"
   },
   {
    "duration": -41499,
    "start_time": "2021-11-27T14:46:10.062Z"
   },
   {
    "duration": 233,
    "start_time": "2021-11-27T14:46:26.086Z"
   },
   {
    "duration": 82,
    "start_time": "2021-11-27T14:49:30.380Z"
   },
   {
    "duration": 84,
    "start_time": "2021-11-27T14:49:39.732Z"
   },
   {
    "duration": 84,
    "start_time": "2021-11-27T14:50:19.827Z"
   },
   {
    "duration": 17,
    "start_time": "2021-11-27T14:50:23.124Z"
   },
   {
    "duration": 20,
    "start_time": "2021-11-27T14:50:43.956Z"
   },
   {
    "duration": 85,
    "start_time": "2021-11-27T14:52:11.690Z"
   },
   {
    "duration": 16,
    "start_time": "2021-11-27T14:52:12.643Z"
   },
   {
    "duration": 555,
    "start_time": "2021-11-27T14:52:44.190Z"
   },
   {
    "duration": 711,
    "start_time": "2021-11-27T14:52:44.746Z"
   },
   {
    "duration": 137,
    "start_time": "2021-11-27T14:52:45.459Z"
   },
   {
    "duration": 532,
    "start_time": "2021-11-27T14:52:45.598Z"
   },
   {
    "duration": 22,
    "start_time": "2021-11-27T14:52:46.131Z"
   },
   {
    "duration": 104,
    "start_time": "2021-11-27T14:52:46.155Z"
   },
   {
    "duration": 95,
    "start_time": "2021-11-27T14:52:46.261Z"
   },
   {
    "duration": 46,
    "start_time": "2021-11-27T14:52:46.358Z"
   },
   {
    "duration": 34,
    "start_time": "2021-11-27T14:52:46.407Z"
   },
   {
    "duration": 45,
    "start_time": "2021-11-27T14:52:46.443Z"
   },
   {
    "duration": 23,
    "start_time": "2021-11-27T14:52:46.489Z"
   },
   {
    "duration": 96,
    "start_time": "2021-11-27T14:52:46.513Z"
   },
   {
    "duration": 21,
    "start_time": "2021-11-27T14:52:46.611Z"
   },
   {
    "duration": 87,
    "start_time": "2021-11-27T14:52:46.633Z"
   },
   {
    "duration": 3,
    "start_time": "2021-11-27T14:52:46.721Z"
   },
   {
    "duration": 90,
    "start_time": "2021-11-27T14:52:46.725Z"
   },
   {
    "duration": 147,
    "start_time": "2021-11-27T14:52:46.816Z"
   },
   {
    "duration": 63,
    "start_time": "2021-11-27T14:52:46.965Z"
   },
   {
    "duration": 1605,
    "start_time": "2021-11-27T14:52:47.030Z"
   },
   {
    "duration": 15,
    "start_time": "2021-11-27T14:52:48.637Z"
   },
   {
    "duration": 59,
    "start_time": "2021-11-27T14:52:48.653Z"
   },
   {
    "duration": 983,
    "start_time": "2021-11-27T14:52:48.714Z"
   },
   {
    "duration": 20,
    "start_time": "2021-11-27T14:52:49.698Z"
   },
   {
    "duration": 13,
    "start_time": "2021-11-27T14:52:49.720Z"
   },
   {
    "duration": 327,
    "start_time": "2021-11-27T14:52:49.735Z"
   },
   {
    "duration": -41506,
    "start_time": "2021-11-27T14:53:31.570Z"
   },
   {
    "duration": 20,
    "start_time": "2021-11-27T14:53:44.267Z"
   },
   {
    "duration": 87,
    "start_time": "2021-11-27T14:54:03.436Z"
   },
   {
    "duration": 33,
    "start_time": "2021-11-27T14:54:04.693Z"
   },
   {
    "duration": 550,
    "start_time": "2021-12-01T21:21:07.561Z"
   },
   {
    "duration": 845,
    "start_time": "2021-12-01T21:21:10.457Z"
   },
   {
    "duration": 132,
    "start_time": "2021-12-01T21:21:13.208Z"
   },
   {
    "duration": 54,
    "start_time": "2021-12-01T21:21:18.467Z"
   },
   {
    "duration": 555,
    "start_time": "2021-12-01T21:22:35.091Z"
   },
   {
    "duration": 745,
    "start_time": "2021-12-01T21:22:35.649Z"
   },
   {
    "duration": 143,
    "start_time": "2021-12-01T21:22:36.396Z"
   },
   {
    "duration": 472,
    "start_time": "2021-12-01T21:22:36.541Z"
   },
   {
    "duration": 54,
    "start_time": "2021-12-01T21:22:37.015Z"
   },
   {
    "duration": 36,
    "start_time": "2021-12-01T21:22:37.070Z"
   },
   {
    "duration": 109,
    "start_time": "2021-12-01T21:22:37.107Z"
   },
   {
    "duration": 100,
    "start_time": "2021-12-01T21:22:37.218Z"
   },
   {
    "duration": 36,
    "start_time": "2021-12-01T21:22:37.321Z"
   },
   {
    "duration": 49,
    "start_time": "2021-12-01T21:22:37.359Z"
   },
   {
    "duration": 25,
    "start_time": "2021-12-01T21:22:37.410Z"
   },
   {
    "duration": 24,
    "start_time": "2021-12-01T21:22:37.437Z"
   },
   {
    "duration": 107,
    "start_time": "2021-12-01T21:22:37.463Z"
   },
   {
    "duration": 29,
    "start_time": "2021-12-01T21:22:37.572Z"
   },
   {
    "duration": 89,
    "start_time": "2021-12-01T21:22:37.603Z"
   },
   {
    "duration": 3,
    "start_time": "2021-12-01T21:22:37.694Z"
   },
   {
    "duration": 96,
    "start_time": "2021-12-01T21:22:37.698Z"
   },
   {
    "duration": 163,
    "start_time": "2021-12-01T21:22:37.796Z"
   },
   {
    "duration": 75,
    "start_time": "2021-12-01T21:22:37.961Z"
   },
   {
    "duration": 28,
    "start_time": "2021-12-01T21:22:38.038Z"
   },
   {
    "duration": 1912,
    "start_time": "2021-12-01T21:22:38.068Z"
   },
   {
    "duration": 20,
    "start_time": "2021-12-01T21:22:39.981Z"
   },
   {
    "duration": 47,
    "start_time": "2021-12-01T21:22:40.004Z"
   },
   {
    "duration": 1203,
    "start_time": "2021-12-01T21:22:40.052Z"
   },
   {
    "duration": 23,
    "start_time": "2021-12-01T21:22:41.256Z"
   },
   {
    "duration": 24,
    "start_time": "2021-12-01T21:22:41.280Z"
   },
   {
    "duration": 235,
    "start_time": "2021-12-01T21:22:41.306Z"
   },
   {
    "duration": -67,
    "start_time": "2021-12-01T21:22:41.610Z"
   },
   {
    "duration": 4444,
    "start_time": "2021-12-01T21:27:51.824Z"
   },
   {
    "duration": 523,
    "start_time": "2021-12-01T21:28:03.237Z"
   },
   {
    "duration": 778,
    "start_time": "2021-12-01T21:28:03.762Z"
   },
   {
    "duration": 150,
    "start_time": "2021-12-01T21:28:04.542Z"
   },
   {
    "duration": 473,
    "start_time": "2021-12-01T21:28:04.694Z"
   },
   {
    "duration": 123,
    "start_time": "2021-12-01T21:28:05.169Z"
   },
   {
    "duration": 17,
    "start_time": "2021-12-01T21:28:05.293Z"
   },
   {
    "duration": 44,
    "start_time": "2021-12-01T21:28:05.312Z"
   },
   {
    "duration": 114,
    "start_time": "2021-12-01T21:28:05.358Z"
   },
   {
    "duration": 43,
    "start_time": "2021-12-01T21:28:05.475Z"
   },
   {
    "duration": 39,
    "start_time": "2021-12-01T21:28:05.520Z"
   },
   {
    "duration": 44,
    "start_time": "2021-12-01T21:28:05.561Z"
   },
   {
    "duration": 25,
    "start_time": "2021-12-01T21:28:05.606Z"
   },
   {
    "duration": 103,
    "start_time": "2021-12-01T21:28:05.632Z"
   },
   {
    "duration": 23,
    "start_time": "2021-12-01T21:28:05.737Z"
   },
   {
    "duration": 96,
    "start_time": "2021-12-01T21:28:05.761Z"
   },
   {
    "duration": 4,
    "start_time": "2021-12-01T21:28:05.858Z"
   },
   {
    "duration": 95,
    "start_time": "2021-12-01T21:28:05.863Z"
   },
   {
    "duration": 161,
    "start_time": "2021-12-01T21:28:05.960Z"
   },
   {
    "duration": 79,
    "start_time": "2021-12-01T21:28:06.122Z"
   },
   {
    "duration": 31,
    "start_time": "2021-12-01T21:28:06.202Z"
   },
   {
    "duration": 1875,
    "start_time": "2021-12-01T21:28:06.234Z"
   },
   {
    "duration": 17,
    "start_time": "2021-12-01T21:28:08.111Z"
   },
   {
    "duration": 62,
    "start_time": "2021-12-01T21:28:08.130Z"
   },
   {
    "duration": 1151,
    "start_time": "2021-12-01T21:28:08.194Z"
   },
   {
    "duration": 24,
    "start_time": "2021-12-01T21:28:09.346Z"
   },
   {
    "duration": 32,
    "start_time": "2021-12-01T21:28:09.372Z"
   },
   {
    "duration": 245,
    "start_time": "2021-12-01T21:28:09.406Z"
   },
   {
    "duration": -49,
    "start_time": "2021-12-01T21:28:09.702Z"
   },
   {
    "duration": 4192,
    "start_time": "2021-12-01T21:28:35.212Z"
   },
   {
    "duration": 566,
    "start_time": "2021-12-01T21:28:42.286Z"
   },
   {
    "duration": 755,
    "start_time": "2021-12-01T21:28:42.854Z"
   },
   {
    "duration": 141,
    "start_time": "2021-12-01T21:28:43.612Z"
   },
   {
    "duration": 478,
    "start_time": "2021-12-01T21:28:43.755Z"
   },
   {
    "duration": 301,
    "start_time": "2021-12-01T21:28:44.234Z"
   },
   {
    "duration": 229,
    "start_time": "2021-12-01T21:28:44.536Z"
   },
   {
    "duration": 102,
    "start_time": "2021-12-01T21:28:44.766Z"
   },
   {
    "duration": 109,
    "start_time": "2021-12-01T21:28:44.872Z"
   },
   {
    "duration": 56,
    "start_time": "2021-12-01T21:28:44.983Z"
   },
   {
    "duration": 88,
    "start_time": "2021-12-01T21:28:45.041Z"
   },
   {
    "duration": 71,
    "start_time": "2021-12-01T21:28:45.131Z"
   },
   {
    "duration": 67,
    "start_time": "2021-12-01T21:28:45.203Z"
   },
   {
    "duration": 154,
    "start_time": "2021-12-01T21:28:45.272Z"
   },
   {
    "duration": 44,
    "start_time": "2021-12-01T21:28:45.428Z"
   },
   {
    "duration": 136,
    "start_time": "2021-12-01T21:28:45.474Z"
   },
   {
    "duration": 4,
    "start_time": "2021-12-01T21:28:45.612Z"
   },
   {
    "duration": 146,
    "start_time": "2021-12-01T21:28:45.618Z"
   },
   {
    "duration": 426,
    "start_time": "2021-12-01T21:28:45.766Z"
   },
   {
    "duration": 69,
    "start_time": "2021-12-01T21:28:46.194Z"
   },
   {
    "duration": 49,
    "start_time": "2021-12-01T21:28:46.265Z"
   },
   {
    "duration": 1954,
    "start_time": "2021-12-01T21:28:46.316Z"
   },
   {
    "duration": 25,
    "start_time": "2021-12-01T21:28:48.271Z"
   },
   {
    "duration": 42,
    "start_time": "2021-12-01T21:28:48.299Z"
   },
   {
    "duration": 1181,
    "start_time": "2021-12-01T21:28:48.343Z"
   },
   {
    "duration": 23,
    "start_time": "2021-12-01T21:28:49.526Z"
   },
   {
    "duration": 16,
    "start_time": "2021-12-01T21:28:49.551Z"
   },
   {
    "duration": 252,
    "start_time": "2021-12-01T21:28:49.569Z"
   },
   {
    "duration": -148,
    "start_time": "2021-12-01T21:28:49.971Z"
   },
   {
    "duration": 524,
    "start_time": "2021-12-01T21:29:41.929Z"
   },
   {
    "duration": 774,
    "start_time": "2021-12-01T21:29:42.455Z"
   },
   {
    "duration": 146,
    "start_time": "2021-12-01T21:29:43.231Z"
   },
   {
    "duration": 468,
    "start_time": "2021-12-01T21:29:43.380Z"
   },
   {
    "duration": 300,
    "start_time": "2021-12-01T21:29:43.850Z"
   },
   {
    "duration": 239,
    "start_time": "2021-12-01T21:29:44.152Z"
   },
   {
    "duration": -180,
    "start_time": "2021-12-01T21:29:44.574Z"
   },
   {
    "duration": -188,
    "start_time": "2021-12-01T21:29:44.583Z"
   },
   {
    "duration": -188,
    "start_time": "2021-12-01T21:29:44.585Z"
   },
   {
    "duration": -189,
    "start_time": "2021-12-01T21:29:44.588Z"
   },
   {
    "duration": -249,
    "start_time": "2021-12-01T21:29:44.649Z"
   },
   {
    "duration": -249,
    "start_time": "2021-12-01T21:29:44.651Z"
   },
   {
    "duration": -250,
    "start_time": "2021-12-01T21:29:44.653Z"
   },
   {
    "duration": -249,
    "start_time": "2021-12-01T21:29:44.654Z"
   },
   {
    "duration": -249,
    "start_time": "2021-12-01T21:29:44.655Z"
   },
   {
    "duration": -249,
    "start_time": "2021-12-01T21:29:44.657Z"
   },
   {
    "duration": -250,
    "start_time": "2021-12-01T21:29:44.659Z"
   },
   {
    "duration": -258,
    "start_time": "2021-12-01T21:29:44.668Z"
   },
   {
    "duration": -259,
    "start_time": "2021-12-01T21:29:44.671Z"
   },
   {
    "duration": -260,
    "start_time": "2021-12-01T21:29:44.673Z"
   },
   {
    "duration": -260,
    "start_time": "2021-12-01T21:29:44.675Z"
   },
   {
    "duration": -269,
    "start_time": "2021-12-01T21:29:44.685Z"
   },
   {
    "duration": -269,
    "start_time": "2021-12-01T21:29:44.687Z"
   },
   {
    "duration": -269,
    "start_time": "2021-12-01T21:29:44.688Z"
   },
   {
    "duration": -270,
    "start_time": "2021-12-01T21:29:44.690Z"
   },
   {
    "duration": -270,
    "start_time": "2021-12-01T21:29:44.692Z"
   },
   {
    "duration": -270,
    "start_time": "2021-12-01T21:29:44.694Z"
   },
   {
    "duration": -272,
    "start_time": "2021-12-01T21:29:44.697Z"
   },
   {
    "duration": -272,
    "start_time": "2021-12-01T21:29:44.698Z"
   },
   {
    "duration": 171,
    "start_time": "2021-12-01T21:30:14.717Z"
   },
   {
    "duration": 179,
    "start_time": "2021-12-01T21:30:26.740Z"
   },
   {
    "duration": 191,
    "start_time": "2021-12-01T21:32:28.707Z"
   },
   {
    "duration": 175,
    "start_time": "2021-12-01T21:32:46.452Z"
   },
   {
    "duration": 212,
    "start_time": "2021-12-01T21:34:20.850Z"
   },
   {
    "duration": 155,
    "start_time": "2021-12-01T21:34:22.169Z"
   },
   {
    "duration": 197,
    "start_time": "2021-12-01T21:35:33.133Z"
   },
   {
    "duration": 189,
    "start_time": "2021-12-01T21:36:09.886Z"
   },
   {
    "duration": 86,
    "start_time": "2021-12-01T21:36:20.746Z"
   },
   {
    "duration": 151,
    "start_time": "2021-12-01T21:36:23.716Z"
   },
   {
    "duration": 70,
    "start_time": "2021-12-01T21:39:30.033Z"
   },
   {
    "duration": 58,
    "start_time": "2021-12-01T21:39:39.408Z"
   },
   {
    "duration": 114,
    "start_time": "2021-12-01T21:39:47.314Z"
   },
   {
    "duration": 80,
    "start_time": "2021-12-01T21:39:49.864Z"
   },
   {
    "duration": 162,
    "start_time": "2021-12-01T21:40:13.835Z"
   },
   {
    "duration": 168,
    "start_time": "2021-12-01T21:40:19.174Z"
   },
   {
    "duration": 171,
    "start_time": "2021-12-01T21:40:24.604Z"
   },
   {
    "duration": 54,
    "start_time": "2021-12-01T21:40:36.828Z"
   },
   {
    "duration": 548,
    "start_time": "2021-12-01T21:40:42.313Z"
   },
   {
    "duration": 765,
    "start_time": "2021-12-01T21:40:42.863Z"
   },
   {
    "duration": 145,
    "start_time": "2021-12-01T21:40:43.630Z"
   },
   {
    "duration": 475,
    "start_time": "2021-12-01T21:40:43.776Z"
   },
   {
    "duration": 274,
    "start_time": "2021-12-01T21:40:44.253Z"
   },
   {
    "duration": 89,
    "start_time": "2021-12-01T21:40:44.528Z"
   },
   {
    "duration": 232,
    "start_time": "2021-12-01T21:40:44.618Z"
   },
   {
    "duration": -205,
    "start_time": "2021-12-01T21:40:45.058Z"
   },
   {
    "duration": -206,
    "start_time": "2021-12-01T21:40:45.060Z"
   },
   {
    "duration": -278,
    "start_time": "2021-12-01T21:40:45.133Z"
   },
   {
    "duration": -279,
    "start_time": "2021-12-01T21:40:45.135Z"
   },
   {
    "duration": -282,
    "start_time": "2021-12-01T21:40:45.139Z"
   },
   {
    "duration": -284,
    "start_time": "2021-12-01T21:40:45.142Z"
   },
   {
    "duration": -284,
    "start_time": "2021-12-01T21:40:45.143Z"
   },
   {
    "duration": -285,
    "start_time": "2021-12-01T21:40:45.145Z"
   },
   {
    "duration": -285,
    "start_time": "2021-12-01T21:40:45.146Z"
   },
   {
    "duration": -286,
    "start_time": "2021-12-01T21:40:45.148Z"
   },
   {
    "duration": -287,
    "start_time": "2021-12-01T21:40:45.150Z"
   },
   {
    "duration": -287,
    "start_time": "2021-12-01T21:40:45.151Z"
   },
   {
    "duration": -287,
    "start_time": "2021-12-01T21:40:45.152Z"
   },
   {
    "duration": -288,
    "start_time": "2021-12-01T21:40:45.154Z"
   },
   {
    "duration": -364,
    "start_time": "2021-12-01T21:40:45.231Z"
   },
   {
    "duration": -365,
    "start_time": "2021-12-01T21:40:45.233Z"
   },
   {
    "duration": -365,
    "start_time": "2021-12-01T21:40:45.234Z"
   },
   {
    "duration": -366,
    "start_time": "2021-12-01T21:40:45.236Z"
   },
   {
    "duration": -366,
    "start_time": "2021-12-01T21:40:45.237Z"
   },
   {
    "duration": -367,
    "start_time": "2021-12-01T21:40:45.239Z"
   },
   {
    "duration": -367,
    "start_time": "2021-12-01T21:40:45.240Z"
   },
   {
    "duration": -368,
    "start_time": "2021-12-01T21:40:45.242Z"
   },
   {
    "duration": -373,
    "start_time": "2021-12-01T21:40:45.247Z"
   },
   {
    "duration": 344,
    "start_time": "2021-12-01T21:41:10.061Z"
   },
   {
    "duration": 56,
    "start_time": "2021-12-01T21:41:11.469Z"
   },
   {
    "duration": 86,
    "start_time": "2021-12-01T21:41:23.469Z"
   },
   {
    "duration": 49,
    "start_time": "2021-12-01T21:41:48.791Z"
   },
   {
    "duration": 109,
    "start_time": "2021-12-01T21:42:17.636Z"
   },
   {
    "duration": 95,
    "start_time": "2021-12-01T21:42:37.813Z"
   },
   {
    "duration": 90,
    "start_time": "2021-12-01T21:42:42.328Z"
   },
   {
    "duration": 93,
    "start_time": "2021-12-01T21:42:52.300Z"
   },
   {
    "duration": 79,
    "start_time": "2021-12-01T21:44:23.004Z"
   },
   {
    "duration": 26,
    "start_time": "2021-12-01T21:45:27.445Z"
   },
   {
    "duration": 18,
    "start_time": "2021-12-01T21:45:37.527Z"
   },
   {
    "duration": 33,
    "start_time": "2021-12-01T21:45:53.098Z"
   },
   {
    "duration": 17,
    "start_time": "2021-12-01T21:46:36.898Z"
   },
   {
    "duration": 33,
    "start_time": "2021-12-01T21:47:10.994Z"
   },
   {
    "duration": 34,
    "start_time": "2021-12-01T21:47:52.799Z"
   },
   {
    "duration": 184,
    "start_time": "2021-12-01T21:48:23.475Z"
   },
   {
    "duration": 139,
    "start_time": "2021-12-01T21:48:30.780Z"
   },
   {
    "duration": 34,
    "start_time": "2021-12-01T21:48:38.339Z"
   },
   {
    "duration": 173,
    "start_time": "2021-12-01T21:49:24.215Z"
   },
   {
    "duration": 34,
    "start_time": "2021-12-01T21:49:30.126Z"
   },
   {
    "duration": 35,
    "start_time": "2021-12-01T21:50:01.611Z"
   },
   {
    "duration": 4497,
    "start_time": "2021-12-01T21:50:39.503Z"
   },
   {
    "duration": 4993,
    "start_time": "2021-12-01T21:50:47.018Z"
   },
   {
    "duration": 31,
    "start_time": "2021-12-01T21:50:56.542Z"
   },
   {
    "duration": 210,
    "start_time": "2021-12-01T22:05:49.956Z"
   },
   {
    "duration": 554,
    "start_time": "2021-12-01T22:06:19.606Z"
   },
   {
    "duration": 789,
    "start_time": "2021-12-01T22:06:20.162Z"
   },
   {
    "duration": 147,
    "start_time": "2021-12-01T22:06:20.955Z"
   },
   {
    "duration": 540,
    "start_time": "2021-12-01T22:06:21.104Z"
   },
   {
    "duration": 248,
    "start_time": "2021-12-01T22:06:21.646Z"
   },
   {
    "duration": 81,
    "start_time": "2021-12-01T22:06:21.896Z"
   },
   {
    "duration": 97,
    "start_time": "2021-12-01T22:06:21.978Z"
   },
   {
    "duration": 89,
    "start_time": "2021-12-01T22:06:22.077Z"
   },
   {
    "duration": 37,
    "start_time": "2021-12-01T22:06:22.168Z"
   },
   {
    "duration": 147,
    "start_time": "2021-12-01T22:06:22.207Z"
   },
   {
    "duration": 39,
    "start_time": "2021-12-01T22:06:22.356Z"
   },
   {
    "duration": 36,
    "start_time": "2021-12-01T22:06:22.397Z"
   },
   {
    "duration": 34,
    "start_time": "2021-12-01T22:06:22.435Z"
   },
   {
    "duration": 51,
    "start_time": "2021-12-01T22:06:22.471Z"
   },
   {
    "duration": 33,
    "start_time": "2021-12-01T22:06:22.524Z"
   },
   {
    "duration": 238,
    "start_time": "2021-12-01T22:06:22.559Z"
   },
   {
    "duration": -65,
    "start_time": "2021-12-01T22:06:22.865Z"
   },
   {
    "duration": -68,
    "start_time": "2021-12-01T22:06:22.868Z"
   },
   {
    "duration": -70,
    "start_time": "2021-12-01T22:06:22.871Z"
   },
   {
    "duration": -72,
    "start_time": "2021-12-01T22:06:22.874Z"
   },
   {
    "duration": -75,
    "start_time": "2021-12-01T22:06:22.878Z"
   },
   {
    "duration": -76,
    "start_time": "2021-12-01T22:06:22.880Z"
   },
   {
    "duration": -78,
    "start_time": "2021-12-01T22:06:22.883Z"
   },
   {
    "duration": -78,
    "start_time": "2021-12-01T22:06:22.884Z"
   },
   {
    "duration": -79,
    "start_time": "2021-12-01T22:06:22.886Z"
   },
   {
    "duration": -79,
    "start_time": "2021-12-01T22:06:22.887Z"
   },
   {
    "duration": -80,
    "start_time": "2021-12-01T22:06:22.889Z"
   },
   {
    "duration": -81,
    "start_time": "2021-12-01T22:06:22.891Z"
   },
   {
    "duration": -82,
    "start_time": "2021-12-01T22:06:22.893Z"
   },
   {
    "duration": -82,
    "start_time": "2021-12-01T22:06:22.894Z"
   },
   {
    "duration": -83,
    "start_time": "2021-12-01T22:06:22.896Z"
   },
   {
    "duration": -84,
    "start_time": "2021-12-01T22:06:22.897Z"
   },
   {
    "duration": -85,
    "start_time": "2021-12-01T22:06:22.899Z"
   },
   {
    "duration": -85,
    "start_time": "2021-12-01T22:06:22.900Z"
   },
   {
    "duration": -86,
    "start_time": "2021-12-01T22:06:22.902Z"
   },
   {
    "duration": -86,
    "start_time": "2021-12-01T22:06:22.903Z"
   },
   {
    "duration": -111,
    "start_time": "2021-12-01T22:06:22.929Z"
   },
   {
    "duration": -112,
    "start_time": "2021-12-01T22:06:22.931Z"
   },
   {
    "duration": -113,
    "start_time": "2021-12-01T22:06:22.933Z"
   },
   {
    "duration": 181,
    "start_time": "2021-12-01T22:07:05.285Z"
   },
   {
    "duration": 534,
    "start_time": "2021-12-01T22:09:57.622Z"
   },
   {
    "duration": 767,
    "start_time": "2021-12-01T22:09:58.158Z"
   },
   {
    "duration": 144,
    "start_time": "2021-12-01T22:09:58.927Z"
   },
   {
    "duration": 529,
    "start_time": "2021-12-01T22:09:59.072Z"
   },
   {
    "duration": 246,
    "start_time": "2021-12-01T22:09:59.602Z"
   },
   {
    "duration": 83,
    "start_time": "2021-12-01T22:09:59.849Z"
   },
   {
    "duration": 104,
    "start_time": "2021-12-01T22:09:59.934Z"
   },
   {
    "duration": 88,
    "start_time": "2021-12-01T22:10:00.040Z"
   },
   {
    "duration": 21,
    "start_time": "2021-12-01T22:10:00.131Z"
   },
   {
    "duration": 225,
    "start_time": "2021-12-01T22:10:00.154Z"
   },
   {
    "duration": 36,
    "start_time": "2021-12-01T22:10:00.381Z"
   },
   {
    "duration": 40,
    "start_time": "2021-12-01T22:10:00.419Z"
   },
   {
    "duration": 45,
    "start_time": "2021-12-01T22:10:00.460Z"
   },
   {
    "duration": 34,
    "start_time": "2021-12-01T22:10:00.507Z"
   },
   {
    "duration": 48,
    "start_time": "2021-12-01T22:10:00.543Z"
   },
   {
    "duration": 51,
    "start_time": "2021-12-01T22:10:00.593Z"
   },
   {
    "duration": 230,
    "start_time": "2021-12-01T22:10:00.646Z"
   },
   {
    "duration": -147,
    "start_time": "2021-12-01T22:10:01.025Z"
   },
   {
    "duration": -148,
    "start_time": "2021-12-01T22:10:01.027Z"
   },
   {
    "duration": -150,
    "start_time": "2021-12-01T22:10:01.029Z"
   },
   {
    "duration": -151,
    "start_time": "2021-12-01T22:10:01.031Z"
   },
   {
    "duration": -152,
    "start_time": "2021-12-01T22:10:01.033Z"
   },
   {
    "duration": -154,
    "start_time": "2021-12-01T22:10:01.036Z"
   },
   {
    "duration": -156,
    "start_time": "2021-12-01T22:10:01.039Z"
   },
   {
    "duration": -157,
    "start_time": "2021-12-01T22:10:01.041Z"
   },
   {
    "duration": -158,
    "start_time": "2021-12-01T22:10:01.043Z"
   },
   {
    "duration": -159,
    "start_time": "2021-12-01T22:10:01.045Z"
   },
   {
    "duration": -159,
    "start_time": "2021-12-01T22:10:01.046Z"
   },
   {
    "duration": -160,
    "start_time": "2021-12-01T22:10:01.048Z"
   },
   {
    "duration": -160,
    "start_time": "2021-12-01T22:10:01.049Z"
   },
   {
    "duration": -162,
    "start_time": "2021-12-01T22:10:01.051Z"
   },
   {
    "duration": -162,
    "start_time": "2021-12-01T22:10:01.052Z"
   },
   {
    "duration": -163,
    "start_time": "2021-12-01T22:10:01.054Z"
   },
   {
    "duration": -164,
    "start_time": "2021-12-01T22:10:01.056Z"
   },
   {
    "duration": -165,
    "start_time": "2021-12-01T22:10:01.058Z"
   },
   {
    "duration": -166,
    "start_time": "2021-12-01T22:10:01.060Z"
   },
   {
    "duration": -167,
    "start_time": "2021-12-01T22:10:01.061Z"
   },
   {
    "duration": -168,
    "start_time": "2021-12-01T22:10:01.063Z"
   },
   {
    "duration": -168,
    "start_time": "2021-12-01T22:10:01.064Z"
   },
   {
    "duration": 49,
    "start_time": "2021-12-01T22:10:48.056Z"
   },
   {
    "duration": 385,
    "start_time": "2021-12-01T22:12:30.423Z"
   },
   {
    "duration": 225,
    "start_time": "2021-12-01T22:13:55.611Z"
   },
   {
    "duration": 54,
    "start_time": "2021-12-01T22:14:17.817Z"
   },
   {
    "duration": 42,
    "start_time": "2021-12-01T22:14:19.436Z"
   },
   {
    "duration": 63,
    "start_time": "2021-12-01T22:14:49.796Z"
   },
   {
    "duration": 42,
    "start_time": "2021-12-01T22:14:51.088Z"
   },
   {
    "duration": 48,
    "start_time": "2021-12-01T22:15:08.382Z"
   },
   {
    "duration": 43,
    "start_time": "2021-12-01T22:15:21.417Z"
   },
   {
    "duration": 46,
    "start_time": "2021-12-01T22:15:22.860Z"
   },
   {
    "duration": 42,
    "start_time": "2021-12-01T22:15:36.327Z"
   },
   {
    "duration": 42,
    "start_time": "2021-12-01T22:15:43.439Z"
   },
   {
    "duration": 44,
    "start_time": "2021-12-01T22:15:45.224Z"
   },
   {
    "duration": 568,
    "start_time": "2021-12-01T22:16:01.981Z"
   },
   {
    "duration": 787,
    "start_time": "2021-12-01T22:16:02.551Z"
   },
   {
    "duration": 143,
    "start_time": "2021-12-01T22:16:03.340Z"
   },
   {
    "duration": 538,
    "start_time": "2021-12-01T22:16:03.492Z"
   },
   {
    "duration": 256,
    "start_time": "2021-12-01T22:16:04.032Z"
   },
   {
    "duration": 80,
    "start_time": "2021-12-01T22:16:04.292Z"
   },
   {
    "duration": 103,
    "start_time": "2021-12-01T22:16:04.374Z"
   },
   {
    "duration": 86,
    "start_time": "2021-12-01T22:16:04.479Z"
   },
   {
    "duration": 32,
    "start_time": "2021-12-01T22:16:04.568Z"
   },
   {
    "duration": 213,
    "start_time": "2021-12-01T22:16:04.602Z"
   },
   {
    "duration": 31,
    "start_time": "2021-12-01T22:16:04.817Z"
   },
   {
    "duration": 46,
    "start_time": "2021-12-01T22:16:04.849Z"
   },
   {
    "duration": 32,
    "start_time": "2021-12-01T22:16:04.896Z"
   },
   {
    "duration": 34,
    "start_time": "2021-12-01T22:16:04.930Z"
   },
   {
    "duration": 48,
    "start_time": "2021-12-01T22:16:04.966Z"
   },
   {
    "duration": 40,
    "start_time": "2021-12-01T22:16:05.016Z"
   },
   {
    "duration": 69,
    "start_time": "2021-12-01T22:16:05.058Z"
   },
   {
    "duration": 222,
    "start_time": "2021-12-01T22:16:05.128Z"
   },
   {
    "duration": -70,
    "start_time": "2021-12-01T22:16:05.422Z"
   },
   {
    "duration": -84,
    "start_time": "2021-12-01T22:16:05.437Z"
   },
   {
    "duration": -85,
    "start_time": "2021-12-01T22:16:05.439Z"
   },
   {
    "duration": -86,
    "start_time": "2021-12-01T22:16:05.441Z"
   },
   {
    "duration": -86,
    "start_time": "2021-12-01T22:16:05.442Z"
   },
   {
    "duration": -143,
    "start_time": "2021-12-01T22:16:05.500Z"
   },
   {
    "duration": -155,
    "start_time": "2021-12-01T22:16:05.512Z"
   },
   {
    "duration": -156,
    "start_time": "2021-12-01T22:16:05.514Z"
   },
   {
    "duration": -157,
    "start_time": "2021-12-01T22:16:05.516Z"
   },
   {
    "duration": -157,
    "start_time": "2021-12-01T22:16:05.517Z"
   },
   {
    "duration": -158,
    "start_time": "2021-12-01T22:16:05.519Z"
   },
   {
    "duration": -169,
    "start_time": "2021-12-01T22:16:05.531Z"
   },
   {
    "duration": -170,
    "start_time": "2021-12-01T22:16:05.533Z"
   },
   {
    "duration": -170,
    "start_time": "2021-12-01T22:16:05.534Z"
   },
   {
    "duration": -171,
    "start_time": "2021-12-01T22:16:05.536Z"
   },
   {
    "duration": -181,
    "start_time": "2021-12-01T22:16:05.547Z"
   },
   {
    "duration": 551,
    "start_time": "2021-12-01T22:17:11.862Z"
   },
   {
    "duration": 757,
    "start_time": "2021-12-01T22:17:12.414Z"
   },
   {
    "duration": 140,
    "start_time": "2021-12-01T22:17:13.173Z"
   },
   {
    "duration": 551,
    "start_time": "2021-12-01T22:17:13.315Z"
   },
   {
    "duration": 250,
    "start_time": "2021-12-01T22:17:13.868Z"
   },
   {
    "duration": 87,
    "start_time": "2021-12-01T22:17:14.120Z"
   },
   {
    "duration": 104,
    "start_time": "2021-12-01T22:17:14.209Z"
   },
   {
    "duration": 81,
    "start_time": "2021-12-01T22:17:14.315Z"
   },
   {
    "duration": 23,
    "start_time": "2021-12-01T22:17:14.398Z"
   },
   {
    "duration": 256,
    "start_time": "2021-12-01T22:17:14.423Z"
   },
   {
    "duration": 37,
    "start_time": "2021-12-01T22:17:14.681Z"
   },
   {
    "duration": 48,
    "start_time": "2021-12-01T22:17:14.720Z"
   },
   {
    "duration": 56,
    "start_time": "2021-12-01T22:17:14.770Z"
   },
   {
    "duration": 37,
    "start_time": "2021-12-01T22:17:14.828Z"
   },
   {
    "duration": 49,
    "start_time": "2021-12-01T22:17:14.867Z"
   },
   {
    "duration": 56,
    "start_time": "2021-12-01T22:17:14.917Z"
   },
   {
    "duration": 66,
    "start_time": "2021-12-01T22:17:14.974Z"
   },
   {
    "duration": 3485,
    "start_time": "2021-12-01T22:17:15.041Z"
   },
   {
    "duration": -83,
    "start_time": "2021-12-01T22:17:18.611Z"
   },
   {
    "duration": -93,
    "start_time": "2021-12-01T22:17:18.622Z"
   },
   {
    "duration": -95,
    "start_time": "2021-12-01T22:17:18.625Z"
   },
   {
    "duration": -96,
    "start_time": "2021-12-01T22:17:18.627Z"
   },
   {
    "duration": -136,
    "start_time": "2021-12-01T22:17:18.668Z"
   },
   {
    "duration": -137,
    "start_time": "2021-12-01T22:17:18.670Z"
   },
   {
    "duration": -138,
    "start_time": "2021-12-01T22:17:18.672Z"
   },
   {
    "duration": -139,
    "start_time": "2021-12-01T22:17:18.673Z"
   },
   {
    "duration": -140,
    "start_time": "2021-12-01T22:17:18.675Z"
   },
   {
    "duration": -140,
    "start_time": "2021-12-01T22:17:18.676Z"
   },
   {
    "duration": -142,
    "start_time": "2021-12-01T22:17:18.679Z"
   },
   {
    "duration": -152,
    "start_time": "2021-12-01T22:17:18.690Z"
   },
   {
    "duration": -153,
    "start_time": "2021-12-01T22:17:18.692Z"
   },
   {
    "duration": -165,
    "start_time": "2021-12-01T22:17:18.705Z"
   },
   {
    "duration": -167,
    "start_time": "2021-12-01T22:17:18.708Z"
   },
   {
    "duration": -214,
    "start_time": "2021-12-01T22:17:18.756Z"
   },
   {
    "duration": 585,
    "start_time": "2021-12-01T22:18:01.174Z"
   },
   {
    "duration": 790,
    "start_time": "2021-12-01T22:18:01.761Z"
   },
   {
    "duration": 147,
    "start_time": "2021-12-01T22:18:02.553Z"
   },
   {
    "duration": 576,
    "start_time": "2021-12-01T22:18:02.702Z"
   },
   {
    "duration": 250,
    "start_time": "2021-12-01T22:18:03.280Z"
   },
   {
    "duration": 83,
    "start_time": "2021-12-01T22:18:03.531Z"
   },
   {
    "duration": 104,
    "start_time": "2021-12-01T22:18:03.616Z"
   },
   {
    "duration": 85,
    "start_time": "2021-12-01T22:18:03.722Z"
   },
   {
    "duration": 25,
    "start_time": "2021-12-01T22:18:03.811Z"
   },
   {
    "duration": 256,
    "start_time": "2021-12-01T22:18:03.838Z"
   },
   {
    "duration": 34,
    "start_time": "2021-12-01T22:18:04.096Z"
   },
   {
    "duration": 36,
    "start_time": "2021-12-01T22:18:04.131Z"
   },
   {
    "duration": 49,
    "start_time": "2021-12-01T22:18:04.169Z"
   },
   {
    "duration": 34,
    "start_time": "2021-12-01T22:18:04.221Z"
   },
   {
    "duration": 53,
    "start_time": "2021-12-01T22:18:04.257Z"
   },
   {
    "duration": 39,
    "start_time": "2021-12-01T22:18:04.312Z"
   },
   {
    "duration": 80,
    "start_time": "2021-12-01T22:18:04.353Z"
   },
   {
    "duration": 234,
    "start_time": "2021-12-01T22:18:04.435Z"
   },
   {
    "duration": -74,
    "start_time": "2021-12-01T22:18:04.745Z"
   },
   {
    "duration": -75,
    "start_time": "2021-12-01T22:18:04.747Z"
   },
   {
    "duration": -77,
    "start_time": "2021-12-01T22:18:04.750Z"
   },
   {
    "duration": -77,
    "start_time": "2021-12-01T22:18:04.751Z"
   },
   {
    "duration": -78,
    "start_time": "2021-12-01T22:18:04.753Z"
   },
   {
    "duration": -79,
    "start_time": "2021-12-01T22:18:04.755Z"
   },
   {
    "duration": -80,
    "start_time": "2021-12-01T22:18:04.757Z"
   },
   {
    "duration": -80,
    "start_time": "2021-12-01T22:18:04.758Z"
   },
   {
    "duration": -82,
    "start_time": "2021-12-01T22:18:04.761Z"
   },
   {
    "duration": -136,
    "start_time": "2021-12-01T22:18:04.816Z"
   },
   {
    "duration": -140,
    "start_time": "2021-12-01T22:18:04.821Z"
   },
   {
    "duration": -142,
    "start_time": "2021-12-01T22:18:04.824Z"
   },
   {
    "duration": -146,
    "start_time": "2021-12-01T22:18:04.829Z"
   },
   {
    "duration": -147,
    "start_time": "2021-12-01T22:18:04.831Z"
   },
   {
    "duration": -149,
    "start_time": "2021-12-01T22:18:04.834Z"
   },
   {
    "duration": -150,
    "start_time": "2021-12-01T22:18:04.836Z"
   },
   {
    "duration": 32,
    "start_time": "2021-12-01T22:19:54.605Z"
   },
   {
    "duration": 27,
    "start_time": "2021-12-01T22:20:11.990Z"
   },
   {
    "duration": 575,
    "start_time": "2021-12-01T22:20:24.582Z"
   },
   {
    "duration": 820,
    "start_time": "2021-12-01T22:20:25.160Z"
   },
   {
    "duration": 145,
    "start_time": "2021-12-01T22:20:25.982Z"
   },
   {
    "duration": 571,
    "start_time": "2021-12-01T22:20:26.129Z"
   },
   {
    "duration": 262,
    "start_time": "2021-12-01T22:20:26.701Z"
   },
   {
    "duration": 90,
    "start_time": "2021-12-01T22:20:26.964Z"
   },
   {
    "duration": 105,
    "start_time": "2021-12-01T22:20:27.055Z"
   },
   {
    "duration": 86,
    "start_time": "2021-12-01T22:20:27.161Z"
   },
   {
    "duration": 26,
    "start_time": "2021-12-01T22:20:27.251Z"
   },
   {
    "duration": 252,
    "start_time": "2021-12-01T22:20:27.291Z"
   },
   {
    "duration": 33,
    "start_time": "2021-12-01T22:20:27.545Z"
   },
   {
    "duration": 45,
    "start_time": "2021-12-01T22:20:27.579Z"
   },
   {
    "duration": 32,
    "start_time": "2021-12-01T22:20:27.626Z"
   },
   {
    "duration": 50,
    "start_time": "2021-12-01T22:20:27.659Z"
   },
   {
    "duration": 31,
    "start_time": "2021-12-01T22:20:27.711Z"
   },
   {
    "duration": 50,
    "start_time": "2021-12-01T22:20:27.743Z"
   },
   {
    "duration": 58,
    "start_time": "2021-12-01T22:20:27.795Z"
   },
   {
    "duration": 46,
    "start_time": "2021-12-01T22:20:27.855Z"
   },
   {
    "duration": 27,
    "start_time": "2021-12-01T22:20:27.903Z"
   },
   {
    "duration": 233,
    "start_time": "2021-12-01T22:20:27.931Z"
   },
   {
    "duration": -71,
    "start_time": "2021-12-01T22:20:28.236Z"
   },
   {
    "duration": -77,
    "start_time": "2021-12-01T22:20:28.243Z"
   },
   {
    "duration": -78,
    "start_time": "2021-12-01T22:20:28.245Z"
   },
   {
    "duration": -79,
    "start_time": "2021-12-01T22:20:28.247Z"
   },
   {
    "duration": -80,
    "start_time": "2021-12-01T22:20:28.249Z"
   },
   {
    "duration": -80,
    "start_time": "2021-12-01T22:20:28.250Z"
   },
   {
    "duration": -81,
    "start_time": "2021-12-01T22:20:28.252Z"
   },
   {
    "duration": -82,
    "start_time": "2021-12-01T22:20:28.254Z"
   },
   {
    "duration": -84,
    "start_time": "2021-12-01T22:20:28.256Z"
   },
   {
    "duration": -83,
    "start_time": "2021-12-01T22:20:28.257Z"
   },
   {
    "duration": -84,
    "start_time": "2021-12-01T22:20:28.259Z"
   },
   {
    "duration": -85,
    "start_time": "2021-12-01T22:20:28.261Z"
   },
   {
    "duration": -86,
    "start_time": "2021-12-01T22:20:28.262Z"
   },
   {
    "duration": -86,
    "start_time": "2021-12-01T22:20:28.263Z"
   },
   {
    "duration": -87,
    "start_time": "2021-12-01T22:20:28.265Z"
   },
   {
    "duration": -88,
    "start_time": "2021-12-01T22:20:28.267Z"
   },
   {
    "duration": 543,
    "start_time": "2021-12-01T22:21:00.621Z"
   },
   {
    "duration": 811,
    "start_time": "2021-12-01T22:21:01.166Z"
   },
   {
    "duration": 146,
    "start_time": "2021-12-01T22:21:01.979Z"
   },
   {
    "duration": 555,
    "start_time": "2021-12-01T22:21:02.127Z"
   },
   {
    "duration": 249,
    "start_time": "2021-12-01T22:21:02.684Z"
   },
   {
    "duration": 88,
    "start_time": "2021-12-01T22:21:02.934Z"
   },
   {
    "duration": 102,
    "start_time": "2021-12-01T22:21:03.024Z"
   },
   {
    "duration": 90,
    "start_time": "2021-12-01T22:21:03.130Z"
   },
   {
    "duration": 24,
    "start_time": "2021-12-01T22:21:03.223Z"
   },
   {
    "duration": 262,
    "start_time": "2021-12-01T22:21:03.249Z"
   },
   {
    "duration": 35,
    "start_time": "2021-12-01T22:21:03.513Z"
   },
   {
    "duration": 51,
    "start_time": "2021-12-01T22:21:03.549Z"
   },
   {
    "duration": 33,
    "start_time": "2021-12-01T22:21:03.602Z"
   },
   {
    "duration": 36,
    "start_time": "2021-12-01T22:21:03.636Z"
   },
   {
    "duration": 46,
    "start_time": "2021-12-01T22:21:03.674Z"
   },
   {
    "duration": 40,
    "start_time": "2021-12-01T22:21:03.722Z"
   },
   {
    "duration": 71,
    "start_time": "2021-12-01T22:21:03.764Z"
   },
   {
    "duration": 31,
    "start_time": "2021-12-01T22:21:03.837Z"
   },
   {
    "duration": 43,
    "start_time": "2021-12-01T22:21:03.870Z"
   },
   {
    "duration": 225,
    "start_time": "2021-12-01T22:21:03.914Z"
   },
   {
    "duration": -88,
    "start_time": "2021-12-01T22:21:04.229Z"
   },
   {
    "duration": -89,
    "start_time": "2021-12-01T22:21:04.232Z"
   },
   {
    "duration": -90,
    "start_time": "2021-12-01T22:21:04.234Z"
   },
   {
    "duration": -133,
    "start_time": "2021-12-01T22:21:04.278Z"
   },
   {
    "duration": -133,
    "start_time": "2021-12-01T22:21:04.280Z"
   },
   {
    "duration": -135,
    "start_time": "2021-12-01T22:21:04.283Z"
   },
   {
    "duration": -142,
    "start_time": "2021-12-01T22:21:04.291Z"
   },
   {
    "duration": -142,
    "start_time": "2021-12-01T22:21:04.293Z"
   },
   {
    "duration": -144,
    "start_time": "2021-12-01T22:21:04.296Z"
   },
   {
    "duration": -144,
    "start_time": "2021-12-01T22:21:04.298Z"
   },
   {
    "duration": -146,
    "start_time": "2021-12-01T22:21:04.301Z"
   },
   {
    "duration": -146,
    "start_time": "2021-12-01T22:21:04.303Z"
   },
   {
    "duration": -147,
    "start_time": "2021-12-01T22:21:04.305Z"
   },
   {
    "duration": -212,
    "start_time": "2021-12-01T22:21:04.371Z"
   },
   {
    "duration": -213,
    "start_time": "2021-12-01T22:21:04.374Z"
   },
   {
    "duration": -215,
    "start_time": "2021-12-01T22:21:04.377Z"
   },
   {
    "duration": 581,
    "start_time": "2021-12-01T22:21:23.291Z"
   },
   {
    "duration": 805,
    "start_time": "2021-12-01T22:21:23.874Z"
   },
   {
    "duration": 147,
    "start_time": "2021-12-01T22:21:24.681Z"
   },
   {
    "duration": 565,
    "start_time": "2021-12-01T22:21:24.829Z"
   },
   {
    "duration": 260,
    "start_time": "2021-12-01T22:21:25.396Z"
   },
   {
    "duration": 89,
    "start_time": "2021-12-01T22:21:25.658Z"
   },
   {
    "duration": 118,
    "start_time": "2021-12-01T22:21:25.748Z"
   },
   {
    "duration": 89,
    "start_time": "2021-12-01T22:21:25.869Z"
   },
   {
    "duration": 31,
    "start_time": "2021-12-01T22:21:25.961Z"
   },
   {
    "duration": 251,
    "start_time": "2021-12-01T22:21:25.993Z"
   },
   {
    "duration": 32,
    "start_time": "2021-12-01T22:21:26.246Z"
   },
   {
    "duration": 42,
    "start_time": "2021-12-01T22:21:26.280Z"
   },
   {
    "duration": 33,
    "start_time": "2021-12-01T22:21:26.324Z"
   },
   {
    "duration": 52,
    "start_time": "2021-12-01T22:21:26.358Z"
   },
   {
    "duration": 35,
    "start_time": "2021-12-01T22:21:26.412Z"
   },
   {
    "duration": 45,
    "start_time": "2021-12-01T22:21:26.449Z"
   },
   {
    "duration": 49,
    "start_time": "2021-12-01T22:21:26.496Z"
   },
   {
    "duration": 27,
    "start_time": "2021-12-01T22:21:26.546Z"
   },
   {
    "duration": 18,
    "start_time": "2021-12-01T22:21:26.590Z"
   },
   {
    "duration": 351,
    "start_time": "2021-12-01T22:21:26.609Z"
   },
   {
    "duration": -55,
    "start_time": "2021-12-01T22:21:27.017Z"
   },
   {
    "duration": -56,
    "start_time": "2021-12-01T22:21:27.019Z"
   },
   {
    "duration": -58,
    "start_time": "2021-12-01T22:21:27.022Z"
   },
   {
    "duration": -78,
    "start_time": "2021-12-01T22:21:27.043Z"
   },
   {
    "duration": -81,
    "start_time": "2021-12-01T22:21:27.047Z"
   },
   {
    "duration": -84,
    "start_time": "2021-12-01T22:21:27.051Z"
   },
   {
    "duration": -86,
    "start_time": "2021-12-01T22:21:27.054Z"
   },
   {
    "duration": -91,
    "start_time": "2021-12-01T22:21:27.060Z"
   },
   {
    "duration": -94,
    "start_time": "2021-12-01T22:21:27.063Z"
   },
   {
    "duration": -95,
    "start_time": "2021-12-01T22:21:27.065Z"
   },
   {
    "duration": -96,
    "start_time": "2021-12-01T22:21:27.067Z"
   },
   {
    "duration": -97,
    "start_time": "2021-12-01T22:21:27.069Z"
   },
   {
    "duration": -98,
    "start_time": "2021-12-01T22:21:27.071Z"
   },
   {
    "duration": -99,
    "start_time": "2021-12-01T22:21:27.073Z"
   },
   {
    "duration": -101,
    "start_time": "2021-12-01T22:21:27.075Z"
   },
   {
    "duration": -102,
    "start_time": "2021-12-01T22:21:27.077Z"
   },
   {
    "duration": 579,
    "start_time": "2021-12-01T22:21:57.003Z"
   },
   {
    "duration": 764,
    "start_time": "2021-12-01T22:21:57.585Z"
   },
   {
    "duration": 145,
    "start_time": "2021-12-01T22:21:58.352Z"
   },
   {
    "duration": 551,
    "start_time": "2021-12-01T22:21:58.499Z"
   },
   {
    "duration": 258,
    "start_time": "2021-12-01T22:21:59.052Z"
   },
   {
    "duration": 88,
    "start_time": "2021-12-01T22:21:59.311Z"
   },
   {
    "duration": 99,
    "start_time": "2021-12-01T22:21:59.401Z"
   },
   {
    "duration": 89,
    "start_time": "2021-12-01T22:21:59.502Z"
   },
   {
    "duration": 25,
    "start_time": "2021-12-01T22:21:59.595Z"
   },
   {
    "duration": 259,
    "start_time": "2021-12-01T22:21:59.623Z"
   },
   {
    "duration": 37,
    "start_time": "2021-12-01T22:21:59.883Z"
   },
   {
    "duration": 35,
    "start_time": "2021-12-01T22:21:59.921Z"
   },
   {
    "duration": 50,
    "start_time": "2021-12-01T22:21:59.958Z"
   },
   {
    "duration": 67,
    "start_time": "2021-12-01T22:22:00.010Z"
   },
   {
    "duration": 43,
    "start_time": "2021-12-01T22:22:00.079Z"
   },
   {
    "duration": 71,
    "start_time": "2021-12-01T22:22:00.123Z"
   },
   {
    "duration": 58,
    "start_time": "2021-12-01T22:22:00.196Z"
   },
   {
    "duration": 50,
    "start_time": "2021-12-01T22:22:00.256Z"
   },
   {
    "duration": 29,
    "start_time": "2021-12-01T22:22:00.309Z"
   },
   {
    "duration": 268,
    "start_time": "2021-12-01T22:22:00.340Z"
   },
   {
    "duration": -169,
    "start_time": "2021-12-01T22:22:00.779Z"
   },
   {
    "duration": -169,
    "start_time": "2021-12-01T22:22:00.781Z"
   },
   {
    "duration": -190,
    "start_time": "2021-12-01T22:22:00.802Z"
   },
   {
    "duration": -199,
    "start_time": "2021-12-01T22:22:00.812Z"
   },
   {
    "duration": -200,
    "start_time": "2021-12-01T22:22:00.814Z"
   },
   {
    "duration": -209,
    "start_time": "2021-12-01T22:22:00.824Z"
   },
   {
    "duration": -210,
    "start_time": "2021-12-01T22:22:00.826Z"
   },
   {
    "duration": -210,
    "start_time": "2021-12-01T22:22:00.827Z"
   },
   {
    "duration": -210,
    "start_time": "2021-12-01T22:22:00.828Z"
   },
   {
    "duration": -211,
    "start_time": "2021-12-01T22:22:00.830Z"
   },
   {
    "duration": -212,
    "start_time": "2021-12-01T22:22:00.832Z"
   },
   {
    "duration": -222,
    "start_time": "2021-12-01T22:22:00.843Z"
   },
   {
    "duration": -224,
    "start_time": "2021-12-01T22:22:00.846Z"
   },
   {
    "duration": -225,
    "start_time": "2021-12-01T22:22:00.848Z"
   },
   {
    "duration": -226,
    "start_time": "2021-12-01T22:22:00.850Z"
   },
   {
    "duration": -237,
    "start_time": "2021-12-01T22:22:00.862Z"
   },
   {
    "duration": 565,
    "start_time": "2021-12-01T22:22:15.078Z"
   },
   {
    "duration": 765,
    "start_time": "2021-12-01T22:22:15.645Z"
   },
   {
    "duration": 143,
    "start_time": "2021-12-01T22:22:16.412Z"
   },
   {
    "duration": 562,
    "start_time": "2021-12-01T22:22:16.557Z"
   },
   {
    "duration": 266,
    "start_time": "2021-12-01T22:22:17.121Z"
   },
   {
    "duration": 87,
    "start_time": "2021-12-01T22:22:17.392Z"
   },
   {
    "duration": 117,
    "start_time": "2021-12-01T22:22:17.481Z"
   },
   {
    "duration": 77,
    "start_time": "2021-12-01T22:22:17.601Z"
   },
   {
    "duration": 24,
    "start_time": "2021-12-01T22:22:17.692Z"
   },
   {
    "duration": 258,
    "start_time": "2021-12-01T22:22:17.718Z"
   },
   {
    "duration": 46,
    "start_time": "2021-12-01T22:22:17.978Z"
   },
   {
    "duration": 50,
    "start_time": "2021-12-01T22:22:18.026Z"
   },
   {
    "duration": 53,
    "start_time": "2021-12-01T22:22:18.078Z"
   },
   {
    "duration": 44,
    "start_time": "2021-12-01T22:22:18.133Z"
   },
   {
    "duration": 38,
    "start_time": "2021-12-01T22:22:18.179Z"
   },
   {
    "duration": 64,
    "start_time": "2021-12-01T22:22:18.219Z"
   },
   {
    "duration": 66,
    "start_time": "2021-12-01T22:22:18.285Z"
   },
   {
    "duration": 49,
    "start_time": "2021-12-01T22:22:18.353Z"
   },
   {
    "duration": 27,
    "start_time": "2021-12-01T22:22:18.405Z"
   },
   {
    "duration": 248,
    "start_time": "2021-12-01T22:22:18.434Z"
   },
   {
    "duration": -88,
    "start_time": "2021-12-01T22:22:18.773Z"
   },
   {
    "duration": -90,
    "start_time": "2021-12-01T22:22:18.776Z"
   },
   {
    "duration": -91,
    "start_time": "2021-12-01T22:22:18.779Z"
   },
   {
    "duration": -92,
    "start_time": "2021-12-01T22:22:18.781Z"
   },
   {
    "duration": -92,
    "start_time": "2021-12-01T22:22:18.782Z"
   },
   {
    "duration": -93,
    "start_time": "2021-12-01T22:22:18.785Z"
   },
   {
    "duration": -94,
    "start_time": "2021-12-01T22:22:18.787Z"
   },
   {
    "duration": -132,
    "start_time": "2021-12-01T22:22:18.826Z"
   },
   {
    "duration": -132,
    "start_time": "2021-12-01T22:22:18.828Z"
   },
   {
    "duration": -137,
    "start_time": "2021-12-01T22:22:18.834Z"
   },
   {
    "duration": -143,
    "start_time": "2021-12-01T22:22:18.841Z"
   },
   {
    "duration": -144,
    "start_time": "2021-12-01T22:22:18.844Z"
   },
   {
    "duration": -145,
    "start_time": "2021-12-01T22:22:18.846Z"
   },
   {
    "duration": -145,
    "start_time": "2021-12-01T22:22:18.848Z"
   },
   {
    "duration": -146,
    "start_time": "2021-12-01T22:22:18.850Z"
   },
   {
    "duration": -146,
    "start_time": "2021-12-01T22:22:18.852Z"
   },
   {
    "duration": 561,
    "start_time": "2021-12-01T22:22:33.675Z"
   },
   {
    "duration": 753,
    "start_time": "2021-12-01T22:22:34.239Z"
   },
   {
    "duration": 139,
    "start_time": "2021-12-01T22:22:34.994Z"
   },
   {
    "duration": 517,
    "start_time": "2021-12-01T22:22:35.135Z"
   },
   {
    "duration": 239,
    "start_time": "2021-12-01T22:22:35.654Z"
   },
   {
    "duration": 80,
    "start_time": "2021-12-01T22:22:35.895Z"
   },
   {
    "duration": 103,
    "start_time": "2021-12-01T22:22:35.976Z"
   },
   {
    "duration": 80,
    "start_time": "2021-12-01T22:22:36.081Z"
   },
   {
    "duration": 36,
    "start_time": "2021-12-01T22:22:36.163Z"
   },
   {
    "duration": 245,
    "start_time": "2021-12-01T22:22:36.201Z"
   },
   {
    "duration": 33,
    "start_time": "2021-12-01T22:22:36.447Z"
   },
   {
    "duration": 35,
    "start_time": "2021-12-01T22:22:36.491Z"
   },
   {
    "duration": 35,
    "start_time": "2021-12-01T22:22:36.527Z"
   },
   {
    "duration": 51,
    "start_time": "2021-12-01T22:22:36.564Z"
   },
   {
    "duration": 40,
    "start_time": "2021-12-01T22:22:36.617Z"
   },
   {
    "duration": 43,
    "start_time": "2021-12-01T22:22:36.658Z"
   },
   {
    "duration": 57,
    "start_time": "2021-12-01T22:22:36.703Z"
   },
   {
    "duration": 48,
    "start_time": "2021-12-01T22:22:36.762Z"
   },
   {
    "duration": 27,
    "start_time": "2021-12-01T22:22:36.812Z"
   },
   {
    "duration": 231,
    "start_time": "2021-12-01T22:22:36.841Z"
   },
   {
    "duration": -80,
    "start_time": "2021-12-01T22:22:37.154Z"
   },
   {
    "duration": -82,
    "start_time": "2021-12-01T22:22:37.157Z"
   },
   {
    "duration": -83,
    "start_time": "2021-12-01T22:22:37.159Z"
   },
   {
    "duration": -85,
    "start_time": "2021-12-01T22:22:37.162Z"
   },
   {
    "duration": -86,
    "start_time": "2021-12-01T22:22:37.164Z"
   },
   {
    "duration": -87,
    "start_time": "2021-12-01T22:22:37.166Z"
   },
   {
    "duration": -88,
    "start_time": "2021-12-01T22:22:37.168Z"
   },
   {
    "duration": -89,
    "start_time": "2021-12-01T22:22:37.170Z"
   },
   {
    "duration": -89,
    "start_time": "2021-12-01T22:22:37.171Z"
   },
   {
    "duration": -90,
    "start_time": "2021-12-01T22:22:37.173Z"
   },
   {
    "duration": -91,
    "start_time": "2021-12-01T22:22:37.175Z"
   },
   {
    "duration": -93,
    "start_time": "2021-12-01T22:22:37.178Z"
   },
   {
    "duration": -94,
    "start_time": "2021-12-01T22:22:37.180Z"
   },
   {
    "duration": -100,
    "start_time": "2021-12-01T22:22:37.187Z"
   },
   {
    "duration": -102,
    "start_time": "2021-12-01T22:22:37.190Z"
   },
   {
    "duration": -104,
    "start_time": "2021-12-01T22:22:37.193Z"
   },
   {
    "duration": 523,
    "start_time": "2021-12-01T22:24:09.642Z"
   },
   {
    "duration": 793,
    "start_time": "2021-12-01T22:24:10.168Z"
   },
   {
    "duration": 146,
    "start_time": "2021-12-01T22:24:10.963Z"
   },
   {
    "duration": 557,
    "start_time": "2021-12-01T22:24:11.111Z"
   },
   {
    "duration": 256,
    "start_time": "2021-12-01T22:24:11.670Z"
   },
   {
    "duration": 91,
    "start_time": "2021-12-01T22:24:11.928Z"
   },
   {
    "duration": 99,
    "start_time": "2021-12-01T22:24:12.021Z"
   },
   {
    "duration": 85,
    "start_time": "2021-12-01T22:24:12.121Z"
   },
   {
    "duration": 25,
    "start_time": "2021-12-01T22:24:12.209Z"
   },
   {
    "duration": 257,
    "start_time": "2021-12-01T22:24:12.236Z"
   },
   {
    "duration": 32,
    "start_time": "2021-12-01T22:24:12.495Z"
   },
   {
    "duration": 36,
    "start_time": "2021-12-01T22:24:12.529Z"
   },
   {
    "duration": 49,
    "start_time": "2021-12-01T22:24:12.567Z"
   },
   {
    "duration": 36,
    "start_time": "2021-12-01T22:24:12.618Z"
   },
   {
    "duration": 51,
    "start_time": "2021-12-01T22:24:12.655Z"
   },
   {
    "duration": 38,
    "start_time": "2021-12-01T22:24:12.708Z"
   },
   {
    "duration": 72,
    "start_time": "2021-12-01T22:24:12.747Z"
   },
   {
    "duration": 58,
    "start_time": "2021-12-01T22:24:12.821Z"
   },
   {
    "duration": 37,
    "start_time": "2021-12-01T22:24:12.881Z"
   },
   {
    "duration": 21,
    "start_time": "2021-12-01T22:24:12.920Z"
   },
   {
    "duration": 232,
    "start_time": "2021-12-01T22:24:12.942Z"
   },
   {
    "duration": -72,
    "start_time": "2021-12-01T22:24:13.248Z"
   },
   {
    "duration": -72,
    "start_time": "2021-12-01T22:24:13.249Z"
   },
   {
    "duration": -73,
    "start_time": "2021-12-01T22:24:13.251Z"
   },
   {
    "duration": -74,
    "start_time": "2021-12-01T22:24:13.253Z"
   },
   {
    "duration": -75,
    "start_time": "2021-12-01T22:24:13.255Z"
   },
   {
    "duration": -77,
    "start_time": "2021-12-01T22:24:13.258Z"
   },
   {
    "duration": -138,
    "start_time": "2021-12-01T22:24:13.320Z"
   },
   {
    "duration": -140,
    "start_time": "2021-12-01T22:24:13.322Z"
   },
   {
    "duration": -150,
    "start_time": "2021-12-01T22:24:13.333Z"
   },
   {
    "duration": -151,
    "start_time": "2021-12-01T22:24:13.335Z"
   },
   {
    "duration": -152,
    "start_time": "2021-12-01T22:24:13.337Z"
   },
   {
    "duration": -161,
    "start_time": "2021-12-01T22:24:13.347Z"
   },
   {
    "duration": -163,
    "start_time": "2021-12-01T22:24:13.350Z"
   },
   {
    "duration": -164,
    "start_time": "2021-12-01T22:24:13.352Z"
   },
   {
    "duration": -166,
    "start_time": "2021-12-01T22:24:13.354Z"
   },
   {
    "duration": 561,
    "start_time": "2021-12-01T22:26:24.988Z"
   },
   {
    "duration": 817,
    "start_time": "2021-12-01T22:26:25.551Z"
   },
   {
    "duration": 150,
    "start_time": "2021-12-01T22:26:26.370Z"
   },
   {
    "duration": 541,
    "start_time": "2021-12-01T22:26:26.522Z"
   },
   {
    "duration": 261,
    "start_time": "2021-12-01T22:26:27.065Z"
   },
   {
    "duration": 85,
    "start_time": "2021-12-01T22:26:27.328Z"
   },
   {
    "duration": 101,
    "start_time": "2021-12-01T22:26:27.415Z"
   },
   {
    "duration": 82,
    "start_time": "2021-12-01T22:26:27.518Z"
   },
   {
    "duration": 25,
    "start_time": "2021-12-01T22:26:27.603Z"
   },
   {
    "duration": 254,
    "start_time": "2021-12-01T22:26:27.630Z"
   },
   {
    "duration": 32,
    "start_time": "2021-12-01T22:26:27.885Z"
   },
   {
    "duration": 33,
    "start_time": "2021-12-01T22:26:27.919Z"
   },
   {
    "duration": 50,
    "start_time": "2021-12-01T22:26:27.954Z"
   },
   {
    "duration": 33,
    "start_time": "2021-12-01T22:26:28.006Z"
   },
   {
    "duration": 33,
    "start_time": "2021-12-01T22:26:28.040Z"
   },
   {
    "duration": 126,
    "start_time": "2021-12-01T22:26:28.075Z"
   },
   {
    "duration": 37,
    "start_time": "2021-12-01T22:26:28.203Z"
   },
   {
    "duration": 79,
    "start_time": "2021-12-01T22:26:28.241Z"
   },
   {
    "duration": 62,
    "start_time": "2021-12-01T22:26:28.321Z"
   },
   {
    "duration": 36,
    "start_time": "2021-12-01T22:26:28.384Z"
   },
   {
    "duration": 20,
    "start_time": "2021-12-01T22:26:28.421Z"
   },
   {
    "duration": 228,
    "start_time": "2021-12-01T22:26:28.443Z"
   },
   {
    "duration": -53,
    "start_time": "2021-12-01T22:26:28.726Z"
   },
   {
    "duration": -56,
    "start_time": "2021-12-01T22:26:28.731Z"
   },
   {
    "duration": -57,
    "start_time": "2021-12-01T22:26:28.733Z"
   },
   {
    "duration": -60,
    "start_time": "2021-12-01T22:26:28.736Z"
   },
   {
    "duration": -62,
    "start_time": "2021-12-01T22:26:28.739Z"
   },
   {
    "duration": -63,
    "start_time": "2021-12-01T22:26:28.741Z"
   },
   {
    "duration": -64,
    "start_time": "2021-12-01T22:26:28.743Z"
   },
   {
    "duration": -65,
    "start_time": "2021-12-01T22:26:28.745Z"
   },
   {
    "duration": -68,
    "start_time": "2021-12-01T22:26:28.748Z"
   },
   {
    "duration": -71,
    "start_time": "2021-12-01T22:26:28.752Z"
   },
   {
    "duration": -72,
    "start_time": "2021-12-01T22:26:28.754Z"
   },
   {
    "duration": -75,
    "start_time": "2021-12-01T22:26:28.757Z"
   },
   {
    "duration": -75,
    "start_time": "2021-12-01T22:26:28.758Z"
   },
   {
    "duration": -76,
    "start_time": "2021-12-01T22:26:28.760Z"
   },
   {
    "duration": 21,
    "start_time": "2021-12-01T22:27:26.955Z"
   },
   {
    "duration": 542,
    "start_time": "2021-12-01T22:28:33.257Z"
   },
   {
    "duration": 752,
    "start_time": "2021-12-01T22:28:33.801Z"
   },
   {
    "duration": 144,
    "start_time": "2021-12-01T22:28:34.555Z"
   },
   {
    "duration": 533,
    "start_time": "2021-12-01T22:28:34.701Z"
   },
   {
    "duration": 256,
    "start_time": "2021-12-01T22:28:35.235Z"
   },
   {
    "duration": 80,
    "start_time": "2021-12-01T22:28:35.493Z"
   },
   {
    "duration": 102,
    "start_time": "2021-12-01T22:28:35.574Z"
   },
   {
    "duration": 86,
    "start_time": "2021-12-01T22:28:35.678Z"
   },
   {
    "duration": 39,
    "start_time": "2021-12-01T22:28:35.766Z"
   },
   {
    "duration": 244,
    "start_time": "2021-12-01T22:28:35.807Z"
   },
   {
    "duration": 40,
    "start_time": "2021-12-01T22:28:36.053Z"
   },
   {
    "duration": 33,
    "start_time": "2021-12-01T22:28:36.094Z"
   },
   {
    "duration": 33,
    "start_time": "2021-12-01T22:28:36.129Z"
   },
   {
    "duration": 54,
    "start_time": "2021-12-01T22:28:36.164Z"
   },
   {
    "duration": 34,
    "start_time": "2021-12-01T22:28:36.219Z"
   },
   {
    "duration": 21,
    "start_time": "2021-12-01T22:28:36.255Z"
   },
   {
    "duration": 99,
    "start_time": "2021-12-01T22:28:36.292Z"
   },
   {
    "duration": 21,
    "start_time": "2021-12-01T22:28:36.393Z"
   },
   {
    "duration": 37,
    "start_time": "2021-12-01T22:28:36.416Z"
   },
   {
    "duration": 87,
    "start_time": "2021-12-01T22:28:36.455Z"
   },
   {
    "duration": 67,
    "start_time": "2021-12-01T22:28:36.544Z"
   },
   {
    "duration": 31,
    "start_time": "2021-12-01T22:28:36.613Z"
   },
   {
    "duration": 19,
    "start_time": "2021-12-01T22:28:36.648Z"
   },
   {
    "duration": 225,
    "start_time": "2021-12-01T22:28:36.691Z"
   },
   {
    "duration": -169,
    "start_time": "2021-12-01T22:28:37.088Z"
   },
   {
    "duration": -170,
    "start_time": "2021-12-01T22:28:37.090Z"
   },
   {
    "duration": -170,
    "start_time": "2021-12-01T22:28:37.092Z"
   },
   {
    "duration": -172,
    "start_time": "2021-12-01T22:28:37.095Z"
   },
   {
    "duration": -173,
    "start_time": "2021-12-01T22:28:37.097Z"
   },
   {
    "duration": -173,
    "start_time": "2021-12-01T22:28:37.099Z"
   },
   {
    "duration": -174,
    "start_time": "2021-12-01T22:28:37.101Z"
   },
   {
    "duration": -175,
    "start_time": "2021-12-01T22:28:37.104Z"
   },
   {
    "duration": -176,
    "start_time": "2021-12-01T22:28:37.106Z"
   },
   {
    "duration": -176,
    "start_time": "2021-12-01T22:28:37.108Z"
   },
   {
    "duration": -176,
    "start_time": "2021-12-01T22:28:37.109Z"
   },
   {
    "duration": -176,
    "start_time": "2021-12-01T22:28:37.111Z"
   },
   {
    "duration": -176,
    "start_time": "2021-12-01T22:28:37.112Z"
   },
   {
    "duration": -177,
    "start_time": "2021-12-01T22:28:37.114Z"
   },
   {
    "duration": 538,
    "start_time": "2021-12-01T22:30:38.422Z"
   },
   {
    "duration": 834,
    "start_time": "2021-12-01T22:30:38.961Z"
   },
   {
    "duration": 152,
    "start_time": "2021-12-01T22:30:39.797Z"
   },
   {
    "duration": 577,
    "start_time": "2021-12-01T22:30:39.951Z"
   },
   {
    "duration": 270,
    "start_time": "2021-12-01T22:30:40.529Z"
   },
   {
    "duration": 103,
    "start_time": "2021-12-01T22:30:40.801Z"
   },
   {
    "duration": 98,
    "start_time": "2021-12-01T22:30:40.907Z"
   },
   {
    "duration": 85,
    "start_time": "2021-12-01T22:30:41.007Z"
   },
   {
    "duration": 23,
    "start_time": "2021-12-01T22:30:41.094Z"
   },
   {
    "duration": 254,
    "start_time": "2021-12-01T22:30:41.119Z"
   },
   {
    "duration": 41,
    "start_time": "2021-12-01T22:30:41.374Z"
   },
   {
    "duration": 36,
    "start_time": "2021-12-01T22:30:41.417Z"
   },
   {
    "duration": 50,
    "start_time": "2021-12-01T22:30:41.455Z"
   },
   {
    "duration": 35,
    "start_time": "2021-12-01T22:30:41.507Z"
   },
   {
    "duration": 32,
    "start_time": "2021-12-01T22:30:41.544Z"
   },
   {
    "duration": 32,
    "start_time": "2021-12-01T22:30:41.578Z"
   },
   {
    "duration": 200,
    "start_time": "2021-12-01T22:30:41.612Z"
   },
   {
    "duration": 10,
    "start_time": "2021-12-01T22:30:41.813Z"
   },
   {
    "duration": 38,
    "start_time": "2021-12-01T22:30:41.825Z"
   },
   {
    "duration": 78,
    "start_time": "2021-12-01T22:30:41.865Z"
   },
   {
    "duration": 74,
    "start_time": "2021-12-01T22:30:41.944Z"
   },
   {
    "duration": 31,
    "start_time": "2021-12-01T22:30:42.020Z"
   },
   {
    "duration": 20,
    "start_time": "2021-12-01T22:30:42.052Z"
   },
   {
    "duration": 242,
    "start_time": "2021-12-01T22:30:42.073Z"
   },
   {
    "duration": -109,
    "start_time": "2021-12-01T22:30:42.426Z"
   },
   {
    "duration": -109,
    "start_time": "2021-12-01T22:30:42.428Z"
   },
   {
    "duration": -110,
    "start_time": "2021-12-01T22:30:42.430Z"
   },
   {
    "duration": -113,
    "start_time": "2021-12-01T22:30:42.434Z"
   },
   {
    "duration": -113,
    "start_time": "2021-12-01T22:30:42.435Z"
   },
   {
    "duration": -115,
    "start_time": "2021-12-01T22:30:42.437Z"
   },
   {
    "duration": -121,
    "start_time": "2021-12-01T22:30:42.445Z"
   },
   {
    "duration": -123,
    "start_time": "2021-12-01T22:30:42.447Z"
   },
   {
    "duration": -124,
    "start_time": "2021-12-01T22:30:42.449Z"
   },
   {
    "duration": -124,
    "start_time": "2021-12-01T22:30:42.450Z"
   },
   {
    "duration": -124,
    "start_time": "2021-12-01T22:30:42.451Z"
   },
   {
    "duration": -125,
    "start_time": "2021-12-01T22:30:42.453Z"
   },
   {
    "duration": -126,
    "start_time": "2021-12-01T22:30:42.455Z"
   },
   {
    "duration": -128,
    "start_time": "2021-12-01T22:30:42.458Z"
   },
   {
    "duration": 21,
    "start_time": "2021-12-01T22:31:12.006Z"
   },
   {
    "duration": 569,
    "start_time": "2021-12-01T22:32:39.473Z"
   },
   {
    "duration": 754,
    "start_time": "2021-12-01T22:32:40.043Z"
   },
   {
    "duration": 147,
    "start_time": "2021-12-01T22:32:40.799Z"
   },
   {
    "duration": 527,
    "start_time": "2021-12-01T22:32:40.948Z"
   },
   {
    "duration": 243,
    "start_time": "2021-12-01T22:32:41.476Z"
   },
   {
    "duration": 86,
    "start_time": "2021-12-01T22:32:41.721Z"
   },
   {
    "duration": 102,
    "start_time": "2021-12-01T22:32:41.808Z"
   },
   {
    "duration": 80,
    "start_time": "2021-12-01T22:32:41.912Z"
   },
   {
    "duration": 23,
    "start_time": "2021-12-01T22:32:41.994Z"
   },
   {
    "duration": 247,
    "start_time": "2021-12-01T22:32:42.019Z"
   },
   {
    "duration": 40,
    "start_time": "2021-12-01T22:32:42.268Z"
   },
   {
    "duration": 33,
    "start_time": "2021-12-01T22:32:42.310Z"
   },
   {
    "duration": 63,
    "start_time": "2021-12-01T22:32:42.344Z"
   },
   {
    "duration": 43,
    "start_time": "2021-12-01T22:32:42.408Z"
   },
   {
    "duration": 43,
    "start_time": "2021-12-01T22:32:42.453Z"
   },
   {
    "duration": 40,
    "start_time": "2021-12-01T22:32:42.498Z"
   },
   {
    "duration": 179,
    "start_time": "2021-12-01T22:32:42.540Z"
   },
   {
    "duration": 21,
    "start_time": "2021-12-01T22:32:42.721Z"
   },
   {
    "duration": 48,
    "start_time": "2021-12-01T22:32:42.743Z"
   },
   {
    "duration": 61,
    "start_time": "2021-12-01T22:32:42.793Z"
   },
   {
    "duration": 67,
    "start_time": "2021-12-01T22:32:42.856Z"
   },
   {
    "duration": 30,
    "start_time": "2021-12-01T22:32:42.925Z"
   },
   {
    "duration": 36,
    "start_time": "2021-12-01T22:32:42.957Z"
   },
   {
    "duration": 232,
    "start_time": "2021-12-01T22:32:42.995Z"
   },
   {
    "duration": -220,
    "start_time": "2021-12-01T22:32:43.449Z"
   },
   {
    "duration": -221,
    "start_time": "2021-12-01T22:32:43.452Z"
   },
   {
    "duration": -223,
    "start_time": "2021-12-01T22:32:43.455Z"
   },
   {
    "duration": -225,
    "start_time": "2021-12-01T22:32:43.457Z"
   },
   {
    "duration": -225,
    "start_time": "2021-12-01T22:32:43.459Z"
   },
   {
    "duration": -227,
    "start_time": "2021-12-01T22:32:43.461Z"
   },
   {
    "duration": -227,
    "start_time": "2021-12-01T22:32:43.463Z"
   },
   {
    "duration": -229,
    "start_time": "2021-12-01T22:32:43.466Z"
   },
   {
    "duration": -229,
    "start_time": "2021-12-01T22:32:43.467Z"
   },
   {
    "duration": -229,
    "start_time": "2021-12-01T22:32:43.469Z"
   },
   {
    "duration": -229,
    "start_time": "2021-12-01T22:32:43.470Z"
   },
   {
    "duration": -230,
    "start_time": "2021-12-01T22:32:43.472Z"
   },
   {
    "duration": -230,
    "start_time": "2021-12-01T22:32:43.473Z"
   },
   {
    "duration": -230,
    "start_time": "2021-12-01T22:32:43.474Z"
   },
   {
    "duration": 563,
    "start_time": "2021-12-01T22:33:29.310Z"
   },
   {
    "duration": 801,
    "start_time": "2021-12-01T22:33:29.876Z"
   },
   {
    "duration": 145,
    "start_time": "2021-12-01T22:33:30.679Z"
   },
   {
    "duration": 549,
    "start_time": "2021-12-01T22:33:30.827Z"
   },
   {
    "duration": 250,
    "start_time": "2021-12-01T22:33:31.377Z"
   },
   {
    "duration": 85,
    "start_time": "2021-12-01T22:33:31.629Z"
   },
   {
    "duration": 105,
    "start_time": "2021-12-01T22:33:31.715Z"
   },
   {
    "duration": 82,
    "start_time": "2021-12-01T22:33:31.822Z"
   },
   {
    "duration": 24,
    "start_time": "2021-12-01T22:33:31.907Z"
   },
   {
    "duration": 253,
    "start_time": "2021-12-01T22:33:31.933Z"
   },
   {
    "duration": 33,
    "start_time": "2021-12-01T22:33:32.191Z"
   },
   {
    "duration": 36,
    "start_time": "2021-12-01T22:33:32.225Z"
   },
   {
    "duration": 45,
    "start_time": "2021-12-01T22:33:32.263Z"
   },
   {
    "duration": 35,
    "start_time": "2021-12-01T22:33:32.310Z"
   },
   {
    "duration": 45,
    "start_time": "2021-12-01T22:33:32.347Z"
   },
   {
    "duration": 36,
    "start_time": "2021-12-01T22:33:32.394Z"
   },
   {
    "duration": 22,
    "start_time": "2021-12-01T22:33:32.432Z"
   },
   {
    "duration": 193,
    "start_time": "2021-12-01T22:33:32.455Z"
   },
   {
    "duration": 21,
    "start_time": "2021-12-01T22:33:32.650Z"
   },
   {
    "duration": 70,
    "start_time": "2021-12-01T22:33:32.673Z"
   },
   {
    "duration": 72,
    "start_time": "2021-12-01T22:33:32.745Z"
   },
   {
    "duration": 31,
    "start_time": "2021-12-01T22:33:32.819Z"
   },
   {
    "duration": 45,
    "start_time": "2021-12-01T22:33:32.852Z"
   },
   {
    "duration": 231,
    "start_time": "2021-12-01T22:33:32.898Z"
   },
   {
    "duration": -74,
    "start_time": "2021-12-01T22:33:33.206Z"
   },
   {
    "duration": -76,
    "start_time": "2021-12-01T22:33:33.209Z"
   },
   {
    "duration": -76,
    "start_time": "2021-12-01T22:33:33.211Z"
   },
   {
    "duration": -77,
    "start_time": "2021-12-01T22:33:33.213Z"
   },
   {
    "duration": -78,
    "start_time": "2021-12-01T22:33:33.215Z"
   },
   {
    "duration": -78,
    "start_time": "2021-12-01T22:33:33.217Z"
   },
   {
    "duration": -79,
    "start_time": "2021-12-01T22:33:33.219Z"
   },
   {
    "duration": -80,
    "start_time": "2021-12-01T22:33:33.221Z"
   },
   {
    "duration": -81,
    "start_time": "2021-12-01T22:33:33.223Z"
   },
   {
    "duration": -85,
    "start_time": "2021-12-01T22:33:33.229Z"
   },
   {
    "duration": -87,
    "start_time": "2021-12-01T22:33:33.232Z"
   },
   {
    "duration": -88,
    "start_time": "2021-12-01T22:33:33.234Z"
   },
   {
    "duration": -89,
    "start_time": "2021-12-01T22:33:33.236Z"
   },
   {
    "duration": -88,
    "start_time": "2021-12-01T22:33:33.237Z"
   },
   {
    "duration": 506,
    "start_time": "2021-12-01T22:33:57.550Z"
   },
   {
    "duration": 761,
    "start_time": "2021-12-01T22:33:58.058Z"
   },
   {
    "duration": 145,
    "start_time": "2021-12-01T22:33:58.822Z"
   },
   {
    "duration": 532,
    "start_time": "2021-12-01T22:33:58.969Z"
   },
   {
    "duration": 248,
    "start_time": "2021-12-01T22:33:59.503Z"
   },
   {
    "duration": 88,
    "start_time": "2021-12-01T22:33:59.753Z"
   },
   {
    "duration": 101,
    "start_time": "2021-12-01T22:33:59.843Z"
   },
   {
    "duration": 87,
    "start_time": "2021-12-01T22:33:59.946Z"
   },
   {
    "duration": 24,
    "start_time": "2021-12-01T22:34:00.035Z"
   },
   {
    "duration": 258,
    "start_time": "2021-12-01T22:34:00.061Z"
   },
   {
    "duration": 33,
    "start_time": "2021-12-01T22:34:00.321Z"
   },
   {
    "duration": 47,
    "start_time": "2021-12-01T22:34:00.355Z"
   },
   {
    "duration": 35,
    "start_time": "2021-12-01T22:34:00.404Z"
   },
   {
    "duration": 38,
    "start_time": "2021-12-01T22:34:00.440Z"
   },
   {
    "duration": 33,
    "start_time": "2021-12-01T22:34:00.492Z"
   },
   {
    "duration": 42,
    "start_time": "2021-12-01T22:34:00.527Z"
   },
   {
    "duration": 37,
    "start_time": "2021-12-01T22:34:00.571Z"
   },
   {
    "duration": 183,
    "start_time": "2021-12-01T22:34:00.609Z"
   },
   {
    "duration": 19,
    "start_time": "2021-12-01T22:34:00.794Z"
   },
   {
    "duration": 62,
    "start_time": "2021-12-01T22:34:00.814Z"
   },
   {
    "duration": 71,
    "start_time": "2021-12-01T22:34:00.878Z"
   },
   {
    "duration": 46,
    "start_time": "2021-12-01T22:34:00.950Z"
   },
   {
    "duration": 20,
    "start_time": "2021-12-01T22:34:00.999Z"
   },
   {
    "duration": 230,
    "start_time": "2021-12-01T22:34:01.021Z"
   },
   {
    "duration": -58,
    "start_time": "2021-12-01T22:34:01.310Z"
   },
   {
    "duration": -59,
    "start_time": "2021-12-01T22:34:01.312Z"
   },
   {
    "duration": -60,
    "start_time": "2021-12-01T22:34:01.314Z"
   },
   {
    "duration": -62,
    "start_time": "2021-12-01T22:34:01.317Z"
   },
   {
    "duration": -85,
    "start_time": "2021-12-01T22:34:01.341Z"
   },
   {
    "duration": -92,
    "start_time": "2021-12-01T22:34:01.348Z"
   },
   {
    "duration": -94,
    "start_time": "2021-12-01T22:34:01.351Z"
   },
   {
    "duration": -96,
    "start_time": "2021-12-01T22:34:01.354Z"
   },
   {
    "duration": -98,
    "start_time": "2021-12-01T22:34:01.357Z"
   },
   {
    "duration": -100,
    "start_time": "2021-12-01T22:34:01.360Z"
   },
   {
    "duration": -101,
    "start_time": "2021-12-01T22:34:01.362Z"
   },
   {
    "duration": -101,
    "start_time": "2021-12-01T22:34:01.363Z"
   },
   {
    "duration": -102,
    "start_time": "2021-12-01T22:34:01.365Z"
   },
   {
    "duration": -102,
    "start_time": "2021-12-01T22:34:01.366Z"
   },
   {
    "duration": 4263,
    "start_time": "2021-12-01T22:40:49.442Z"
   },
   {
    "duration": 4641,
    "start_time": "2021-12-01T22:41:08.492Z"
   },
   {
    "duration": 4161,
    "start_time": "2021-12-01T22:41:15.092Z"
   },
   {
    "duration": 549,
    "start_time": "2021-12-01T22:41:45.494Z"
   },
   {
    "duration": 761,
    "start_time": "2021-12-01T22:41:46.045Z"
   },
   {
    "duration": 144,
    "start_time": "2021-12-01T22:41:46.808Z"
   },
   {
    "duration": 537,
    "start_time": "2021-12-01T22:41:46.954Z"
   },
   {
    "duration": 246,
    "start_time": "2021-12-01T22:41:47.493Z"
   },
   {
    "duration": 82,
    "start_time": "2021-12-01T22:41:47.741Z"
   },
   {
    "duration": 102,
    "start_time": "2021-12-01T22:41:47.824Z"
   },
   {
    "duration": 84,
    "start_time": "2021-12-01T22:41:47.928Z"
   },
   {
    "duration": 24,
    "start_time": "2021-12-01T22:41:48.015Z"
   },
   {
    "duration": 256,
    "start_time": "2021-12-01T22:41:48.041Z"
   },
   {
    "duration": 32,
    "start_time": "2021-12-01T22:41:48.299Z"
   },
   {
    "duration": 36,
    "start_time": "2021-12-01T22:41:48.333Z"
   },
   {
    "duration": 49,
    "start_time": "2021-12-01T22:41:48.370Z"
   },
   {
    "duration": 34,
    "start_time": "2021-12-01T22:41:48.421Z"
   },
   {
    "duration": 49,
    "start_time": "2021-12-01T22:41:48.456Z"
   },
   {
    "duration": 37,
    "start_time": "2021-12-01T22:41:48.507Z"
   },
   {
    "duration": 22,
    "start_time": "2021-12-01T22:41:48.545Z"
   },
   {
    "duration": 188,
    "start_time": "2021-12-01T22:41:48.568Z"
   },
   {
    "duration": 18,
    "start_time": "2021-12-01T22:41:48.758Z"
   },
   {
    "duration": 71,
    "start_time": "2021-12-01T22:41:48.778Z"
   },
   {
    "duration": 64,
    "start_time": "2021-12-01T22:41:48.851Z"
   },
   {
    "duration": 28,
    "start_time": "2021-12-01T22:41:48.916Z"
   },
   {
    "duration": 8,
    "start_time": "2021-12-01T22:41:48.945Z"
   },
   {
    "duration": 40,
    "start_time": "2021-12-01T22:41:48.955Z"
   },
   {
    "duration": 245,
    "start_time": "2021-12-01T22:41:48.997Z"
   },
   {
    "duration": -117,
    "start_time": "2021-12-01T22:41:49.361Z"
   },
   {
    "duration": -123,
    "start_time": "2021-12-01T22:41:49.368Z"
   },
   {
    "duration": -126,
    "start_time": "2021-12-01T22:41:49.372Z"
   },
   {
    "duration": -128,
    "start_time": "2021-12-01T22:41:49.375Z"
   },
   {
    "duration": -129,
    "start_time": "2021-12-01T22:41:49.377Z"
   },
   {
    "duration": -130,
    "start_time": "2021-12-01T22:41:49.379Z"
   },
   {
    "duration": -131,
    "start_time": "2021-12-01T22:41:49.381Z"
   },
   {
    "duration": -131,
    "start_time": "2021-12-01T22:41:49.382Z"
   },
   {
    "duration": -132,
    "start_time": "2021-12-01T22:41:49.384Z"
   },
   {
    "duration": -134,
    "start_time": "2021-12-01T22:41:49.387Z"
   },
   {
    "duration": -134,
    "start_time": "2021-12-01T22:41:49.388Z"
   },
   {
    "duration": -135,
    "start_time": "2021-12-01T22:41:49.390Z"
   },
   {
    "duration": -135,
    "start_time": "2021-12-01T22:41:49.391Z"
   },
   {
    "duration": -135,
    "start_time": "2021-12-01T22:41:49.392Z"
   },
   {
    "duration": 16,
    "start_time": "2021-12-01T22:42:07.828Z"
   },
   {
    "duration": 24,
    "start_time": "2021-12-01T22:42:14.594Z"
   },
   {
    "duration": 540,
    "start_time": "2021-12-01T22:46:17.819Z"
   },
   {
    "duration": 755,
    "start_time": "2021-12-01T22:46:18.361Z"
   },
   {
    "duration": 144,
    "start_time": "2021-12-01T22:46:19.119Z"
   },
   {
    "duration": 555,
    "start_time": "2021-12-01T22:46:19.264Z"
   },
   {
    "duration": 253,
    "start_time": "2021-12-01T22:46:19.820Z"
   },
   {
    "duration": 86,
    "start_time": "2021-12-01T22:46:20.074Z"
   },
   {
    "duration": 99,
    "start_time": "2021-12-01T22:46:20.162Z"
   },
   {
    "duration": 83,
    "start_time": "2021-12-01T22:46:20.263Z"
   },
   {
    "duration": 23,
    "start_time": "2021-12-01T22:46:20.348Z"
   },
   {
    "duration": 253,
    "start_time": "2021-12-01T22:46:20.372Z"
   },
   {
    "duration": 32,
    "start_time": "2021-12-01T22:46:20.626Z"
   },
   {
    "duration": 46,
    "start_time": "2021-12-01T22:46:20.660Z"
   },
   {
    "duration": 32,
    "start_time": "2021-12-01T22:46:20.707Z"
   },
   {
    "duration": 34,
    "start_time": "2021-12-01T22:46:20.740Z"
   },
   {
    "duration": 47,
    "start_time": "2021-12-01T22:46:20.776Z"
   },
   {
    "duration": 37,
    "start_time": "2021-12-01T22:46:20.825Z"
   },
   {
    "duration": 34,
    "start_time": "2021-12-01T22:46:20.863Z"
   },
   {
    "duration": 180,
    "start_time": "2021-12-01T22:46:20.899Z"
   },
   {
    "duration": 24,
    "start_time": "2021-12-01T22:46:21.081Z"
   },
   {
    "duration": 61,
    "start_time": "2021-12-01T22:46:21.106Z"
   },
   {
    "duration": 73,
    "start_time": "2021-12-01T22:46:21.169Z"
   },
   {
    "duration": 31,
    "start_time": "2021-12-01T22:46:21.244Z"
   },
   {
    "duration": 96,
    "start_time": "2021-12-01T22:46:21.278Z"
   },
   {
    "duration": 20,
    "start_time": "2021-12-01T22:46:21.376Z"
   },
   {
    "duration": 29,
    "start_time": "2021-12-01T22:46:21.398Z"
   },
   {
    "duration": 241,
    "start_time": "2021-12-01T22:46:21.429Z"
   },
   {
    "duration": -158,
    "start_time": "2021-12-01T22:46:21.830Z"
   },
   {
    "duration": -159,
    "start_time": "2021-12-01T22:46:21.832Z"
   },
   {
    "duration": -161,
    "start_time": "2021-12-01T22:46:21.834Z"
   },
   {
    "duration": -162,
    "start_time": "2021-12-01T22:46:21.836Z"
   },
   {
    "duration": -161,
    "start_time": "2021-12-01T22:46:21.837Z"
   },
   {
    "duration": -162,
    "start_time": "2021-12-01T22:46:21.839Z"
   },
   {
    "duration": -163,
    "start_time": "2021-12-01T22:46:21.841Z"
   },
   {
    "duration": -164,
    "start_time": "2021-12-01T22:46:21.843Z"
   },
   {
    "duration": -164,
    "start_time": "2021-12-01T22:46:21.844Z"
   },
   {
    "duration": -165,
    "start_time": "2021-12-01T22:46:21.846Z"
   },
   {
    "duration": -165,
    "start_time": "2021-12-01T22:46:21.847Z"
   },
   {
    "duration": -166,
    "start_time": "2021-12-01T22:46:21.849Z"
   },
   {
    "duration": -167,
    "start_time": "2021-12-01T22:46:21.851Z"
   },
   {
    "duration": -167,
    "start_time": "2021-12-01T22:46:21.852Z"
   },
   {
    "duration": -168,
    "start_time": "2021-12-01T22:46:21.854Z"
   },
   {
    "duration": 20,
    "start_time": "2021-12-01T22:46:37.893Z"
   },
   {
    "duration": 566,
    "start_time": "2021-12-01T22:47:56.699Z"
   },
   {
    "duration": 789,
    "start_time": "2021-12-01T22:47:57.268Z"
   },
   {
    "duration": 151,
    "start_time": "2021-12-01T22:47:58.059Z"
   },
   {
    "duration": 549,
    "start_time": "2021-12-01T22:47:58.212Z"
   },
   {
    "duration": 260,
    "start_time": "2021-12-01T22:47:58.763Z"
   },
   {
    "duration": 83,
    "start_time": "2021-12-01T22:47:59.025Z"
   },
   {
    "duration": 102,
    "start_time": "2021-12-01T22:47:59.110Z"
   },
   {
    "duration": 78,
    "start_time": "2021-12-01T22:47:59.214Z"
   },
   {
    "duration": 20,
    "start_time": "2021-12-01T22:47:59.295Z"
   },
   {
    "duration": 223,
    "start_time": "2021-12-01T22:47:59.317Z"
   },
   {
    "duration": 32,
    "start_time": "2021-12-01T22:47:59.541Z"
   },
   {
    "duration": 48,
    "start_time": "2021-12-01T22:47:59.574Z"
   },
   {
    "duration": 36,
    "start_time": "2021-12-01T22:47:59.624Z"
   },
   {
    "duration": 46,
    "start_time": "2021-12-01T22:47:59.662Z"
   },
   {
    "duration": 32,
    "start_time": "2021-12-01T22:47:59.709Z"
   },
   {
    "duration": 48,
    "start_time": "2021-12-01T22:47:59.743Z"
   },
   {
    "duration": 23,
    "start_time": "2021-12-01T22:47:59.793Z"
   },
   {
    "duration": 186,
    "start_time": "2021-12-01T22:47:59.817Z"
   },
   {
    "duration": 23,
    "start_time": "2021-12-01T22:48:00.006Z"
   },
   {
    "duration": 73,
    "start_time": "2021-12-01T22:48:00.030Z"
   },
   {
    "duration": 59,
    "start_time": "2021-12-01T22:48:00.105Z"
   },
   {
    "duration": 47,
    "start_time": "2021-12-01T22:48:00.165Z"
   },
   {
    "duration": 96,
    "start_time": "2021-12-01T22:48:00.214Z"
   },
   {
    "duration": 18,
    "start_time": "2021-12-01T22:48:00.312Z"
   },
   {
    "duration": 11,
    "start_time": "2021-12-01T22:48:00.332Z"
   },
   {
    "duration": 51,
    "start_time": "2021-12-01T22:48:00.344Z"
   },
   {
    "duration": 240,
    "start_time": "2021-12-01T22:48:00.400Z"
   },
   {
    "duration": -124,
    "start_time": "2021-12-01T22:48:00.767Z"
   },
   {
    "duration": -130,
    "start_time": "2021-12-01T22:48:00.774Z"
   },
   {
    "duration": -130,
    "start_time": "2021-12-01T22:48:00.776Z"
   },
   {
    "duration": -131,
    "start_time": "2021-12-01T22:48:00.779Z"
   },
   {
    "duration": -133,
    "start_time": "2021-12-01T22:48:00.782Z"
   },
   {
    "duration": -137,
    "start_time": "2021-12-01T22:48:00.788Z"
   },
   {
    "duration": -138,
    "start_time": "2021-12-01T22:48:00.790Z"
   },
   {
    "duration": -139,
    "start_time": "2021-12-01T22:48:00.792Z"
   },
   {
    "duration": -139,
    "start_time": "2021-12-01T22:48:00.794Z"
   },
   {
    "duration": -140,
    "start_time": "2021-12-01T22:48:00.796Z"
   },
   {
    "duration": -140,
    "start_time": "2021-12-01T22:48:00.798Z"
   },
   {
    "duration": -145,
    "start_time": "2021-12-01T22:48:00.804Z"
   },
   {
    "duration": -146,
    "start_time": "2021-12-01T22:48:00.807Z"
   },
   {
    "duration": -147,
    "start_time": "2021-12-01T22:48:00.809Z"
   },
   {
    "duration": -147,
    "start_time": "2021-12-01T22:48:00.811Z"
   },
   {
    "duration": 559,
    "start_time": "2021-12-01T22:48:56.361Z"
   },
   {
    "duration": 783,
    "start_time": "2021-12-01T22:48:56.923Z"
   },
   {
    "duration": 143,
    "start_time": "2021-12-01T22:48:57.708Z"
   },
   {
    "duration": 547,
    "start_time": "2021-12-01T22:48:57.853Z"
   },
   {
    "duration": 251,
    "start_time": "2021-12-01T22:48:58.402Z"
   },
   {
    "duration": 83,
    "start_time": "2021-12-01T22:48:58.654Z"
   },
   {
    "duration": 102,
    "start_time": "2021-12-01T22:48:58.739Z"
   },
   {
    "duration": 81,
    "start_time": "2021-12-01T22:48:58.844Z"
   },
   {
    "duration": 23,
    "start_time": "2021-12-01T22:48:58.927Z"
   },
   {
    "duration": 243,
    "start_time": "2021-12-01T22:48:58.951Z"
   },
   {
    "duration": 32,
    "start_time": "2021-12-01T22:48:59.195Z"
   },
   {
    "duration": 33,
    "start_time": "2021-12-01T22:48:59.229Z"
   },
   {
    "duration": 52,
    "start_time": "2021-12-01T22:48:59.264Z"
   },
   {
    "duration": 35,
    "start_time": "2021-12-01T22:48:59.317Z"
   },
   {
    "duration": 46,
    "start_time": "2021-12-01T22:48:59.353Z"
   },
   {
    "duration": 40,
    "start_time": "2021-12-01T22:48:59.400Z"
   },
   {
    "duration": 22,
    "start_time": "2021-12-01T22:48:59.442Z"
   },
   {
    "duration": 186,
    "start_time": "2021-12-01T22:48:59.465Z"
   },
   {
    "duration": 18,
    "start_time": "2021-12-01T22:48:59.653Z"
   },
   {
    "duration": 70,
    "start_time": "2021-12-01T22:48:59.673Z"
   },
   {
    "duration": 64,
    "start_time": "2021-12-01T22:48:59.744Z"
   },
   {
    "duration": 30,
    "start_time": "2021-12-01T22:48:59.810Z"
   },
   {
    "duration": 2,
    "start_time": "2021-12-01T22:48:59.843Z"
   },
   {
    "duration": 21,
    "start_time": "2021-12-01T22:48:59.847Z"
   },
   {
    "duration": 28,
    "start_time": "2021-12-01T22:48:59.870Z"
   },
   {
    "duration": 33,
    "start_time": "2021-12-01T22:48:59.899Z"
   },
   {
    "duration": 539,
    "start_time": "2021-12-01T22:48:59.934Z"
   },
   {
    "duration": -178,
    "start_time": "2021-12-01T22:49:00.653Z"
   },
   {
    "duration": -178,
    "start_time": "2021-12-01T22:49:00.655Z"
   },
   {
    "duration": -178,
    "start_time": "2021-12-01T22:49:00.656Z"
   },
   {
    "duration": -178,
    "start_time": "2021-12-01T22:49:00.658Z"
   },
   {
    "duration": -179,
    "start_time": "2021-12-01T22:49:00.660Z"
   },
   {
    "duration": -179,
    "start_time": "2021-12-01T22:49:00.661Z"
   },
   {
    "duration": -178,
    "start_time": "2021-12-01T22:49:00.662Z"
   },
   {
    "duration": -179,
    "start_time": "2021-12-01T22:49:00.664Z"
   },
   {
    "duration": -178,
    "start_time": "2021-12-01T22:49:00.665Z"
   },
   {
    "duration": -179,
    "start_time": "2021-12-01T22:49:00.667Z"
   },
   {
    "duration": -178,
    "start_time": "2021-12-01T22:49:00.668Z"
   },
   {
    "duration": -179,
    "start_time": "2021-12-01T22:49:00.670Z"
   },
   {
    "duration": -178,
    "start_time": "2021-12-01T22:49:00.671Z"
   },
   {
    "duration": -179,
    "start_time": "2021-12-01T22:49:00.673Z"
   },
   {
    "duration": -178,
    "start_time": "2021-12-01T22:49:00.674Z"
   },
   {
    "duration": 517,
    "start_time": "2021-12-01T22:50:08.647Z"
   },
   {
    "duration": 777,
    "start_time": "2021-12-01T22:50:09.166Z"
   },
   {
    "duration": 148,
    "start_time": "2021-12-01T22:50:09.944Z"
   },
   {
    "duration": 561,
    "start_time": "2021-12-01T22:50:10.094Z"
   },
   {
    "duration": 279,
    "start_time": "2021-12-01T22:50:10.656Z"
   },
   {
    "duration": 91,
    "start_time": "2021-12-01T22:50:10.937Z"
   },
   {
    "duration": 99,
    "start_time": "2021-12-01T22:50:11.030Z"
   },
   {
    "duration": 81,
    "start_time": "2021-12-01T22:50:11.130Z"
   },
   {
    "duration": 23,
    "start_time": "2021-12-01T22:50:11.214Z"
   },
   {
    "duration": 246,
    "start_time": "2021-12-01T22:50:11.239Z"
   },
   {
    "duration": 33,
    "start_time": "2021-12-01T22:50:11.490Z"
   },
   {
    "duration": 40,
    "start_time": "2021-12-01T22:50:11.524Z"
   },
   {
    "duration": 48,
    "start_time": "2021-12-01T22:50:11.566Z"
   },
   {
    "duration": 34,
    "start_time": "2021-12-01T22:50:11.615Z"
   },
   {
    "duration": 45,
    "start_time": "2021-12-01T22:50:11.651Z"
   },
   {
    "duration": 40,
    "start_time": "2021-12-01T22:50:11.698Z"
   },
   {
    "duration": 21,
    "start_time": "2021-12-01T22:50:11.740Z"
   },
   {
    "duration": 189,
    "start_time": "2021-12-01T22:50:11.762Z"
   },
   {
    "duration": 19,
    "start_time": "2021-12-01T22:50:11.952Z"
   },
   {
    "duration": 68,
    "start_time": "2021-12-01T22:50:11.972Z"
   },
   {
    "duration": 65,
    "start_time": "2021-12-01T22:50:12.041Z"
   },
   {
    "duration": 29,
    "start_time": "2021-12-01T22:50:12.108Z"
   },
   {
    "duration": 2,
    "start_time": "2021-12-01T22:50:12.139Z"
   },
   {
    "duration": 26,
    "start_time": "2021-12-01T22:50:12.143Z"
   },
   {
    "duration": 15,
    "start_time": "2021-12-01T22:50:12.171Z"
   },
   {
    "duration": 32,
    "start_time": "2021-12-01T22:50:12.191Z"
   },
   {
    "duration": 16,
    "start_time": "2021-12-01T22:50:12.227Z"
   },
   {
    "duration": 225,
    "start_time": "2021-12-01T22:50:12.245Z"
   },
   {
    "duration": -58,
    "start_time": "2021-12-01T22:50:12.530Z"
   },
   {
    "duration": -59,
    "start_time": "2021-12-01T22:50:12.532Z"
   },
   {
    "duration": -60,
    "start_time": "2021-12-01T22:50:12.534Z"
   },
   {
    "duration": -87,
    "start_time": "2021-12-01T22:50:12.562Z"
   },
   {
    "duration": -89,
    "start_time": "2021-12-01T22:50:12.565Z"
   },
   {
    "duration": -104,
    "start_time": "2021-12-01T22:50:12.581Z"
   },
   {
    "duration": -104,
    "start_time": "2021-12-01T22:50:12.582Z"
   },
   {
    "duration": -105,
    "start_time": "2021-12-01T22:50:12.584Z"
   },
   {
    "duration": -150,
    "start_time": "2021-12-01T22:50:12.630Z"
   },
   {
    "duration": -151,
    "start_time": "2021-12-01T22:50:12.632Z"
   },
   {
    "duration": -152,
    "start_time": "2021-12-01T22:50:12.634Z"
   },
   {
    "duration": -152,
    "start_time": "2021-12-01T22:50:12.635Z"
   },
   {
    "duration": -153,
    "start_time": "2021-12-01T22:50:12.637Z"
   },
   {
    "duration": -154,
    "start_time": "2021-12-01T22:50:12.639Z"
   },
   {
    "duration": 21,
    "start_time": "2021-12-01T22:51:20.981Z"
   },
   {
    "duration": 25,
    "start_time": "2021-12-01T22:54:53.862Z"
   },
   {
    "duration": 25,
    "start_time": "2021-12-01T22:55:07.171Z"
   },
   {
    "duration": 567,
    "start_time": "2021-12-01T22:55:22.483Z"
   },
   {
    "duration": 783,
    "start_time": "2021-12-01T22:55:23.052Z"
   },
   {
    "duration": 145,
    "start_time": "2021-12-01T22:55:23.837Z"
   },
   {
    "duration": 540,
    "start_time": "2021-12-01T22:55:23.991Z"
   },
   {
    "duration": 253,
    "start_time": "2021-12-01T22:55:24.532Z"
   },
   {
    "duration": 81,
    "start_time": "2021-12-01T22:55:24.787Z"
   },
   {
    "duration": 103,
    "start_time": "2021-12-01T22:55:24.870Z"
   },
   {
    "duration": 88,
    "start_time": "2021-12-01T22:55:24.974Z"
   },
   {
    "duration": 38,
    "start_time": "2021-12-01T22:55:25.064Z"
   },
   {
    "duration": 221,
    "start_time": "2021-12-01T22:55:25.104Z"
   },
   {
    "duration": 31,
    "start_time": "2021-12-01T22:55:25.327Z"
   },
   {
    "duration": 47,
    "start_time": "2021-12-01T22:55:25.360Z"
   },
   {
    "duration": 33,
    "start_time": "2021-12-01T22:55:25.409Z"
   },
   {
    "duration": 50,
    "start_time": "2021-12-01T22:55:25.444Z"
   },
   {
    "duration": 34,
    "start_time": "2021-12-01T22:55:25.496Z"
   },
   {
    "duration": 38,
    "start_time": "2021-12-01T22:55:25.533Z"
   },
   {
    "duration": 28,
    "start_time": "2021-12-01T22:55:25.573Z"
   },
   {
    "duration": 23,
    "start_time": "2021-12-01T22:55:25.603Z"
   },
   {
    "duration": 9,
    "start_time": "2021-12-01T22:55:25.629Z"
   },
   {
    "duration": 51,
    "start_time": "2021-12-01T22:55:25.640Z"
   },
   {
    "duration": 11,
    "start_time": "2021-12-01T22:55:25.693Z"
   },
   {
    "duration": 11,
    "start_time": "2021-12-01T22:55:25.706Z"
   },
   {
    "duration": 42,
    "start_time": "2021-12-01T22:55:25.719Z"
   },
   {
    "duration": 39,
    "start_time": "2021-12-01T22:55:25.764Z"
   },
   {
    "duration": 3,
    "start_time": "2021-12-01T22:55:25.805Z"
   },
   {
    "duration": 19,
    "start_time": "2021-12-01T22:55:25.810Z"
   },
   {
    "duration": 3,
    "start_time": "2021-12-01T22:55:25.834Z"
   },
   {
    "duration": 17,
    "start_time": "2021-12-01T22:55:25.839Z"
   },
   {
    "duration": 36,
    "start_time": "2021-12-01T22:55:25.858Z"
   },
   {
    "duration": 241,
    "start_time": "2021-12-01T22:55:25.896Z"
   },
   {
    "duration": -252,
    "start_time": "2021-12-01T22:55:26.392Z"
   },
   {
    "duration": -260,
    "start_time": "2021-12-01T22:55:26.400Z"
   },
   {
    "duration": -262,
    "start_time": "2021-12-01T22:55:26.403Z"
   },
   {
    "duration": -264,
    "start_time": "2021-12-01T22:55:26.406Z"
   },
   {
    "duration": -265,
    "start_time": "2021-12-01T22:55:26.408Z"
   },
   {
    "duration": -266,
    "start_time": "2021-12-01T22:55:26.410Z"
   },
   {
    "duration": -267,
    "start_time": "2021-12-01T22:55:26.412Z"
   },
   {
    "duration": -268,
    "start_time": "2021-12-01T22:55:26.414Z"
   },
   {
    "duration": -269,
    "start_time": "2021-12-01T22:55:26.416Z"
   },
   {
    "duration": -270,
    "start_time": "2021-12-01T22:55:26.418Z"
   },
   {
    "duration": -271,
    "start_time": "2021-12-01T22:55:26.420Z"
   },
   {
    "duration": -273,
    "start_time": "2021-12-01T22:55:26.423Z"
   },
   {
    "duration": -273,
    "start_time": "2021-12-01T22:55:26.424Z"
   },
   {
    "duration": -275,
    "start_time": "2021-12-01T22:55:26.426Z"
   },
   {
    "duration": 583,
    "start_time": "2021-12-01T22:56:01.471Z"
   },
   {
    "duration": 793,
    "start_time": "2021-12-01T22:56:02.057Z"
   },
   {
    "duration": 142,
    "start_time": "2021-12-01T22:56:02.852Z"
   },
   {
    "duration": 549,
    "start_time": "2021-12-01T22:56:02.996Z"
   },
   {
    "duration": 247,
    "start_time": "2021-12-01T22:56:03.547Z"
   },
   {
    "duration": 78,
    "start_time": "2021-12-01T22:56:03.796Z"
   },
   {
    "duration": 104,
    "start_time": "2021-12-01T22:56:03.876Z"
   },
   {
    "duration": 84,
    "start_time": "2021-12-01T22:56:03.982Z"
   },
   {
    "duration": 36,
    "start_time": "2021-12-01T22:56:04.068Z"
   },
   {
    "duration": 247,
    "start_time": "2021-12-01T22:56:04.106Z"
   },
   {
    "duration": 38,
    "start_time": "2021-12-01T22:56:04.354Z"
   },
   {
    "duration": 32,
    "start_time": "2021-12-01T22:56:04.393Z"
   },
   {
    "duration": 32,
    "start_time": "2021-12-01T22:56:04.427Z"
   },
   {
    "duration": 56,
    "start_time": "2021-12-01T22:56:04.460Z"
   },
   {
    "duration": 32,
    "start_time": "2021-12-01T22:56:04.517Z"
   },
   {
    "duration": 52,
    "start_time": "2021-12-01T22:56:04.550Z"
   },
   {
    "duration": 56,
    "start_time": "2021-12-01T22:56:04.604Z"
   },
   {
    "duration": 30,
    "start_time": "2021-12-01T22:56:04.662Z"
   },
   {
    "duration": 19,
    "start_time": "2021-12-01T22:56:04.694Z"
   },
   {
    "duration": 162,
    "start_time": "2021-12-01T22:56:04.715Z"
   },
   {
    "duration": 27,
    "start_time": "2021-12-01T22:56:04.879Z"
   },
   {
    "duration": 38,
    "start_time": "2021-12-01T22:56:04.907Z"
   },
   {
    "duration": 71,
    "start_time": "2021-12-01T22:56:04.949Z"
   },
   {
    "duration": 28,
    "start_time": "2021-12-01T22:56:05.022Z"
   },
   {
    "duration": 2,
    "start_time": "2021-12-01T22:56:05.052Z"
   },
   {
    "duration": 37,
    "start_time": "2021-12-01T22:56:05.056Z"
   },
   {
    "duration": 2,
    "start_time": "2021-12-01T22:56:05.094Z"
   },
   {
    "duration": 31,
    "start_time": "2021-12-01T22:56:05.097Z"
   },
   {
    "duration": 15,
    "start_time": "2021-12-01T22:56:05.129Z"
   },
   {
    "duration": 234,
    "start_time": "2021-12-01T22:56:05.146Z"
   },
   {
    "duration": -87,
    "start_time": "2021-12-01T22:56:05.469Z"
   },
   {
    "duration": -91,
    "start_time": "2021-12-01T22:56:05.473Z"
   },
   {
    "duration": -93,
    "start_time": "2021-12-01T22:56:05.476Z"
   },
   {
    "duration": -96,
    "start_time": "2021-12-01T22:56:05.480Z"
   },
   {
    "duration": -96,
    "start_time": "2021-12-01T22:56:05.482Z"
   },
   {
    "duration": -99,
    "start_time": "2021-12-01T22:56:05.485Z"
   },
   {
    "duration": -99,
    "start_time": "2021-12-01T22:56:05.486Z"
   },
   {
    "duration": -100,
    "start_time": "2021-12-01T22:56:05.488Z"
   },
   {
    "duration": -100,
    "start_time": "2021-12-01T22:56:05.489Z"
   },
   {
    "duration": -101,
    "start_time": "2021-12-01T22:56:05.491Z"
   },
   {
    "duration": -102,
    "start_time": "2021-12-01T22:56:05.493Z"
   },
   {
    "duration": -102,
    "start_time": "2021-12-01T22:56:05.494Z"
   },
   {
    "duration": -103,
    "start_time": "2021-12-01T22:56:05.496Z"
   },
   {
    "duration": -103,
    "start_time": "2021-12-01T22:56:05.497Z"
   },
   {
    "duration": 505,
    "start_time": "2021-12-01T23:34:03.451Z"
   },
   {
    "duration": 768,
    "start_time": "2021-12-01T23:34:03.958Z"
   },
   {
    "duration": 145,
    "start_time": "2021-12-01T23:34:04.728Z"
   },
   {
    "duration": 522,
    "start_time": "2021-12-01T23:34:04.874Z"
   },
   {
    "duration": 246,
    "start_time": "2021-12-01T23:34:05.398Z"
   },
   {
    "duration": 84,
    "start_time": "2021-12-01T23:34:05.646Z"
   },
   {
    "duration": 102,
    "start_time": "2021-12-01T23:34:05.732Z"
   },
   {
    "duration": 84,
    "start_time": "2021-12-01T23:34:05.836Z"
   },
   {
    "duration": 23,
    "start_time": "2021-12-01T23:34:05.922Z"
   },
   {
    "duration": 245,
    "start_time": "2021-12-01T23:34:05.947Z"
   },
   {
    "duration": 32,
    "start_time": "2021-12-01T23:34:06.194Z"
   },
   {
    "duration": 57,
    "start_time": "2021-12-01T23:34:06.228Z"
   },
   {
    "duration": 33,
    "start_time": "2021-12-01T23:34:06.287Z"
   },
   {
    "duration": 35,
    "start_time": "2021-12-01T23:34:06.322Z"
   },
   {
    "duration": 42,
    "start_time": "2021-12-01T23:34:06.358Z"
   },
   {
    "duration": 38,
    "start_time": "2021-12-01T23:34:06.401Z"
   },
   {
    "duration": 65,
    "start_time": "2021-12-01T23:34:06.441Z"
   },
   {
    "duration": 21,
    "start_time": "2021-12-01T23:34:06.508Z"
   },
   {
    "duration": 18,
    "start_time": "2021-12-01T23:34:06.530Z"
   },
   {
    "duration": 172,
    "start_time": "2021-12-01T23:34:06.550Z"
   },
   {
    "duration": 19,
    "start_time": "2021-12-01T23:34:06.723Z"
   },
   {
    "duration": 49,
    "start_time": "2021-12-01T23:34:06.744Z"
   },
   {
    "duration": 57,
    "start_time": "2021-12-01T23:34:06.795Z"
   },
   {
    "duration": 50,
    "start_time": "2021-12-01T23:34:06.854Z"
   },
   {
    "duration": 2,
    "start_time": "2021-12-01T23:34:06.906Z"
   },
   {
    "duration": 18,
    "start_time": "2021-12-01T23:34:06.910Z"
   },
   {
    "duration": 3,
    "start_time": "2021-12-01T23:34:06.933Z"
   },
   {
    "duration": 28,
    "start_time": "2021-12-01T23:34:06.938Z"
   },
   {
    "duration": 16,
    "start_time": "2021-12-01T23:34:06.992Z"
   },
   {
    "duration": 242,
    "start_time": "2021-12-01T23:34:07.010Z"
   },
   {
    "duration": -91,
    "start_time": "2021-12-01T23:34:07.345Z"
   },
   {
    "duration": -93,
    "start_time": "2021-12-01T23:34:07.349Z"
   },
   {
    "duration": -96,
    "start_time": "2021-12-01T23:34:07.353Z"
   },
   {
    "duration": -98,
    "start_time": "2021-12-01T23:34:07.357Z"
   },
   {
    "duration": -100,
    "start_time": "2021-12-01T23:34:07.360Z"
   },
   {
    "duration": -101,
    "start_time": "2021-12-01T23:34:07.363Z"
   },
   {
    "duration": -102,
    "start_time": "2021-12-01T23:34:07.365Z"
   },
   {
    "duration": -161,
    "start_time": "2021-12-01T23:34:07.426Z"
   },
   {
    "duration": -166,
    "start_time": "2021-12-01T23:34:07.432Z"
   },
   {
    "duration": -166,
    "start_time": "2021-12-01T23:34:07.434Z"
   },
   {
    "duration": -302,
    "start_time": "2021-12-01T23:34:07.571Z"
   },
   {
    "duration": -404,
    "start_time": "2021-12-01T23:34:07.675Z"
   },
   {
    "duration": -408,
    "start_time": "2021-12-01T23:34:07.680Z"
   },
   {
    "duration": -506,
    "start_time": "2021-12-01T23:34:07.780Z"
   },
   {
    "duration": 29,
    "start_time": "2021-12-01T23:35:03.660Z"
   },
   {
    "duration": 58,
    "start_time": "2021-12-01T23:35:26.176Z"
   },
   {
    "duration": 28,
    "start_time": "2021-12-01T23:36:15.753Z"
   },
   {
    "duration": 32,
    "start_time": "2021-12-01T23:36:40.802Z"
   },
   {
    "duration": 30,
    "start_time": "2021-12-01T23:37:04.937Z"
   },
   {
    "duration": 6,
    "start_time": "2021-12-01T23:38:08.328Z"
   },
   {
    "duration": 16,
    "start_time": "2021-12-01T23:38:19.924Z"
   },
   {
    "duration": 189,
    "start_time": "2021-12-01T23:38:40.593Z"
   },
   {
    "duration": 19,
    "start_time": "2021-12-01T23:38:52.955Z"
   },
   {
    "duration": 349,
    "start_time": "2021-12-02T13:00:40.237Z"
   },
   {
    "duration": 717,
    "start_time": "2021-12-02T13:00:46.876Z"
   },
   {
    "duration": 1283,
    "start_time": "2021-12-02T13:00:47.596Z"
   },
   {
    "duration": 160,
    "start_time": "2021-12-02T13:00:48.882Z"
   },
   {
    "duration": 642,
    "start_time": "2021-12-02T13:00:49.044Z"
   },
   {
    "duration": 295,
    "start_time": "2021-12-02T13:00:49.688Z"
   },
   {
    "duration": 99,
    "start_time": "2021-12-02T13:00:49.985Z"
   },
   {
    "duration": 139,
    "start_time": "2021-12-02T13:00:50.086Z"
   },
   {
    "duration": 121,
    "start_time": "2021-12-02T13:00:50.228Z"
   },
   {
    "duration": 29,
    "start_time": "2021-12-02T13:00:50.351Z"
   },
   {
    "duration": 321,
    "start_time": "2021-12-02T13:00:50.383Z"
   },
   {
    "duration": 39,
    "start_time": "2021-12-02T13:00:50.707Z"
   },
   {
    "duration": 73,
    "start_time": "2021-12-02T13:00:50.763Z"
   },
   {
    "duration": 44,
    "start_time": "2021-12-02T13:00:50.839Z"
   },
   {
    "duration": 55,
    "start_time": "2021-12-02T13:00:50.886Z"
   },
   {
    "duration": 71,
    "start_time": "2021-12-02T13:00:50.944Z"
   },
   {
    "duration": 72,
    "start_time": "2021-12-02T13:00:51.018Z"
   },
   {
    "duration": 73,
    "start_time": "2021-12-02T13:00:51.093Z"
   },
   {
    "duration": 65,
    "start_time": "2021-12-02T13:00:51.168Z"
   },
   {
    "duration": 44,
    "start_time": "2021-12-02T13:00:51.235Z"
   },
   {
    "duration": 26,
    "start_time": "2021-12-02T13:00:51.282Z"
   },
   {
    "duration": 195,
    "start_time": "2021-12-02T13:00:51.310Z"
   },
   {
    "duration": 24,
    "start_time": "2021-12-02T13:00:51.507Z"
   },
   {
    "duration": 60,
    "start_time": "2021-12-02T13:00:51.536Z"
   },
   {
    "duration": 80,
    "start_time": "2021-12-02T13:00:51.598Z"
   },
   {
    "duration": 35,
    "start_time": "2021-12-02T13:00:51.681Z"
   },
   {
    "duration": 3,
    "start_time": "2021-12-02T13:00:51.718Z"
   },
   {
    "duration": 78,
    "start_time": "2021-12-02T13:00:51.723Z"
   },
   {
    "duration": 36,
    "start_time": "2021-12-02T13:00:51.804Z"
   },
   {
    "duration": 79,
    "start_time": "2021-12-02T13:00:51.842Z"
   },
   {
    "duration": 17,
    "start_time": "2021-12-02T13:00:51.923Z"
   },
   {
    "duration": 356,
    "start_time": "2021-12-02T13:00:51.942Z"
   },
   {
    "duration": 631,
    "start_time": "2021-12-02T13:01:59.170Z"
   },
   {
    "duration": 952,
    "start_time": "2021-12-02T13:01:59.803Z"
   },
   {
    "duration": 164,
    "start_time": "2021-12-02T13:02:00.757Z"
   },
   {
    "duration": 666,
    "start_time": "2021-12-02T13:02:00.923Z"
   },
   {
    "duration": 274,
    "start_time": "2021-12-02T13:02:01.591Z"
   },
   {
    "duration": 97,
    "start_time": "2021-12-02T13:02:01.867Z"
   },
   {
    "duration": 305,
    "start_time": "2021-12-02T13:02:01.966Z"
   },
   {
    "duration": 104,
    "start_time": "2021-12-02T13:02:02.273Z"
   },
   {
    "duration": 29,
    "start_time": "2021-12-02T13:02:02.380Z"
   },
   {
    "duration": 292,
    "start_time": "2021-12-02T13:02:02.410Z"
   },
   {
    "duration": 35,
    "start_time": "2021-12-02T13:02:02.704Z"
   },
   {
    "duration": 121,
    "start_time": "2021-12-02T13:02:02.741Z"
   },
   {
    "duration": 44,
    "start_time": "2021-12-02T13:02:02.864Z"
   },
   {
    "duration": 38,
    "start_time": "2021-12-02T13:02:02.910Z"
   },
   {
    "duration": 130,
    "start_time": "2021-12-02T13:02:02.950Z"
   },
   {
    "duration": 53,
    "start_time": "2021-12-02T13:02:03.082Z"
   },
   {
    "duration": 86,
    "start_time": "2021-12-02T13:02:03.137Z"
   },
   {
    "duration": 60,
    "start_time": "2021-12-02T13:02:03.225Z"
   },
   {
    "duration": 25,
    "start_time": "2021-12-02T13:02:03.287Z"
   },
   {
    "duration": 45,
    "start_time": "2021-12-02T13:02:03.314Z"
   },
   {
    "duration": 186,
    "start_time": "2021-12-02T13:02:03.360Z"
   },
   {
    "duration": 28,
    "start_time": "2021-12-02T13:02:03.548Z"
   },
   {
    "duration": 68,
    "start_time": "2021-12-02T13:02:03.579Z"
   },
   {
    "duration": 66,
    "start_time": "2021-12-02T13:02:03.649Z"
   },
   {
    "duration": 33,
    "start_time": "2021-12-02T13:02:03.717Z"
   },
   {
    "duration": 12,
    "start_time": "2021-12-02T13:02:03.752Z"
   },
   {
    "duration": 30,
    "start_time": "2021-12-02T13:02:03.766Z"
   },
   {
    "duration": 11,
    "start_time": "2021-12-02T13:02:03.798Z"
   },
   {
    "duration": 44,
    "start_time": "2021-12-02T13:02:03.811Z"
   },
   {
    "duration": 17,
    "start_time": "2021-12-02T13:02:03.857Z"
   },
   {
    "duration": 305,
    "start_time": "2021-12-02T13:02:03.876Z"
   },
   {
    "duration": 278,
    "start_time": "2021-12-02T15:05:18.215Z"
   },
   {
    "duration": 1186,
    "start_time": "2021-12-03T12:57:05.352Z"
   },
   {
    "duration": 799,
    "start_time": "2021-12-03T12:57:06.540Z"
   },
   {
    "duration": 142,
    "start_time": "2021-12-03T12:57:07.341Z"
   },
   {
    "duration": 514,
    "start_time": "2021-12-03T12:57:07.484Z"
   },
   {
    "duration": 250,
    "start_time": "2021-12-03T12:57:08.000Z"
   },
   {
    "duration": 113,
    "start_time": "2021-12-03T12:57:08.252Z"
   },
   {
    "duration": 102,
    "start_time": "2021-12-03T12:57:08.366Z"
   },
   {
    "duration": 82,
    "start_time": "2021-12-03T12:57:08.471Z"
   },
   {
    "duration": 21,
    "start_time": "2021-12-03T12:57:08.556Z"
   },
   {
    "duration": 224,
    "start_time": "2021-12-03T12:57:08.578Z"
   },
   {
    "duration": 42,
    "start_time": "2021-12-03T12:57:08.803Z"
   },
   {
    "duration": 33,
    "start_time": "2021-12-03T12:57:08.847Z"
   },
   {
    "duration": 21,
    "start_time": "2021-12-03T12:57:08.882Z"
   },
   {
    "duration": 54,
    "start_time": "2021-12-03T12:57:08.904Z"
   },
   {
    "duration": 41,
    "start_time": "2021-12-03T12:57:08.959Z"
   },
   {
    "duration": 43,
    "start_time": "2021-12-03T12:57:09.002Z"
   },
   {
    "duration": 38,
    "start_time": "2021-12-03T12:57:09.047Z"
   },
   {
    "duration": 59,
    "start_time": "2021-12-03T12:57:09.086Z"
   },
   {
    "duration": 25,
    "start_time": "2021-12-03T12:57:09.147Z"
   },
   {
    "duration": 19,
    "start_time": "2021-12-03T12:57:09.173Z"
   },
   {
    "duration": 180,
    "start_time": "2021-12-03T12:57:09.194Z"
   },
   {
    "duration": 26,
    "start_time": "2021-12-03T12:57:09.377Z"
   },
   {
    "duration": 53,
    "start_time": "2021-12-03T12:57:09.407Z"
   },
   {
    "duration": 69,
    "start_time": "2021-12-03T12:57:09.463Z"
   },
   {
    "duration": 33,
    "start_time": "2021-12-03T12:57:09.544Z"
   },
   {
    "duration": 2,
    "start_time": "2021-12-03T12:57:09.579Z"
   },
   {
    "duration": 36,
    "start_time": "2021-12-03T12:57:09.583Z"
   },
   {
    "duration": 15,
    "start_time": "2021-12-03T12:57:09.621Z"
   },
   {
    "duration": 51,
    "start_time": "2021-12-03T12:57:09.637Z"
   },
   {
    "duration": 19,
    "start_time": "2021-12-03T12:57:09.690Z"
   },
   {
    "duration": 80,
    "start_time": "2021-12-03T12:57:09.711Z"
   },
   {
    "duration": 375,
    "start_time": "2021-12-03T12:57:09.793Z"
   },
   {
    "duration": -42886,
    "start_time": "2021-12-03T12:57:53.056Z"
   },
   {
    "duration": 1121,
    "start_time": "2021-12-03T13:10:37.607Z"
   },
   {
    "duration": 849,
    "start_time": "2021-12-03T13:10:38.730Z"
   },
   {
    "duration": 176,
    "start_time": "2021-12-03T13:10:39.582Z"
   },
   {
    "duration": 543,
    "start_time": "2021-12-03T13:10:39.759Z"
   },
   {
    "duration": 250,
    "start_time": "2021-12-03T13:10:40.304Z"
   },
   {
    "duration": 88,
    "start_time": "2021-12-03T13:10:40.556Z"
   },
   {
    "duration": 103,
    "start_time": "2021-12-03T13:10:40.646Z"
   },
   {
    "duration": 96,
    "start_time": "2021-12-03T13:10:40.751Z"
   },
   {
    "duration": 22,
    "start_time": "2021-12-03T13:10:40.850Z"
   },
   {
    "duration": 227,
    "start_time": "2021-12-03T13:10:40.875Z"
   },
   {
    "duration": 43,
    "start_time": "2021-12-03T13:10:41.104Z"
   },
   {
    "duration": 44,
    "start_time": "2021-12-03T13:10:41.149Z"
   },
   {
    "duration": 22,
    "start_time": "2021-12-03T13:10:41.195Z"
   },
   {
    "duration": 47,
    "start_time": "2021-12-03T13:10:41.219Z"
   },
   {
    "duration": 35,
    "start_time": "2021-12-03T13:10:41.268Z"
   },
   {
    "duration": 50,
    "start_time": "2021-12-03T13:10:41.305Z"
   },
   {
    "duration": 35,
    "start_time": "2021-12-03T13:10:41.356Z"
   },
   {
    "duration": 57,
    "start_time": "2021-12-03T13:10:41.393Z"
   },
   {
    "duration": 24,
    "start_time": "2021-12-03T13:10:41.452Z"
   },
   {
    "duration": 18,
    "start_time": "2021-12-03T13:10:41.478Z"
   },
   {
    "duration": 174,
    "start_time": "2021-12-03T13:10:41.498Z"
   },
   {
    "duration": 19,
    "start_time": "2021-12-03T13:10:41.674Z"
   },
   {
    "duration": 52,
    "start_time": "2021-12-03T13:10:41.695Z"
   },
   {
    "duration": 53,
    "start_time": "2021-12-03T13:10:41.750Z"
   },
   {
    "duration": 43,
    "start_time": "2021-12-03T13:10:41.805Z"
   },
   {
    "duration": 3,
    "start_time": "2021-12-03T13:10:41.849Z"
   },
   {
    "duration": 19,
    "start_time": "2021-12-03T13:10:41.855Z"
   },
   {
    "duration": 4,
    "start_time": "2021-12-03T13:10:41.876Z"
   },
   {
    "duration": 29,
    "start_time": "2021-12-03T13:10:41.882Z"
   },
   {
    "duration": 42,
    "start_time": "2021-12-03T13:10:41.913Z"
   },
   {
    "duration": 87,
    "start_time": "2021-12-03T13:10:41.957Z"
   },
   {
    "duration": 1123,
    "start_time": "2021-12-03T13:14:20.301Z"
   },
   {
    "duration": 798,
    "start_time": "2021-12-03T13:14:21.426Z"
   },
   {
    "duration": 148,
    "start_time": "2021-12-03T13:14:22.226Z"
   },
   {
    "duration": 544,
    "start_time": "2021-12-03T13:14:22.376Z"
   },
   {
    "duration": 244,
    "start_time": "2021-12-03T13:14:22.921Z"
   },
   {
    "duration": 83,
    "start_time": "2021-12-03T13:14:23.167Z"
   },
   {
    "duration": 104,
    "start_time": "2021-12-03T13:14:23.252Z"
   },
   {
    "duration": 88,
    "start_time": "2021-12-03T13:14:23.359Z"
   },
   {
    "duration": 22,
    "start_time": "2021-12-03T13:14:23.449Z"
   },
   {
    "duration": 226,
    "start_time": "2021-12-03T13:14:23.472Z"
   },
   {
    "duration": 45,
    "start_time": "2021-12-03T13:14:23.700Z"
   },
   {
    "duration": 53,
    "start_time": "2021-12-03T13:14:23.747Z"
   },
   {
    "duration": 43,
    "start_time": "2021-12-03T13:14:23.801Z"
   },
   {
    "duration": 44,
    "start_time": "2021-12-03T13:14:23.846Z"
   },
   {
    "duration": 43,
    "start_time": "2021-12-03T13:14:23.892Z"
   },
   {
    "duration": 51,
    "start_time": "2021-12-03T13:14:23.937Z"
   },
   {
    "duration": 58,
    "start_time": "2021-12-03T13:14:23.990Z"
   },
   {
    "duration": 51,
    "start_time": "2021-12-03T13:14:24.050Z"
   },
   {
    "duration": 25,
    "start_time": "2021-12-03T13:14:24.102Z"
   },
   {
    "duration": 31,
    "start_time": "2021-12-03T13:14:24.129Z"
   },
   {
    "duration": 170,
    "start_time": "2021-12-03T13:14:24.162Z"
   },
   {
    "duration": 21,
    "start_time": "2021-12-03T13:14:24.334Z"
   },
   {
    "duration": 36,
    "start_time": "2021-12-03T13:14:24.358Z"
   },
   {
    "duration": 79,
    "start_time": "2021-12-03T13:14:24.396Z"
   },
   {
    "duration": 32,
    "start_time": "2021-12-03T13:14:24.477Z"
   },
   {
    "duration": 3,
    "start_time": "2021-12-03T13:14:24.510Z"
   },
   {
    "duration": 38,
    "start_time": "2021-12-03T13:14:24.514Z"
   },
   {
    "duration": 6,
    "start_time": "2021-12-03T13:14:24.553Z"
   },
   {
    "duration": 30,
    "start_time": "2021-12-03T13:14:24.561Z"
   },
   {
    "duration": 14,
    "start_time": "2021-12-03T13:14:24.593Z"
   },
   {
    "duration": 97,
    "start_time": "2021-12-03T13:14:24.609Z"
   },
   {
    "duration": 1118,
    "start_time": "2021-12-03T13:18:10.316Z"
   },
   {
    "duration": 865,
    "start_time": "2021-12-03T13:18:11.436Z"
   },
   {
    "duration": 163,
    "start_time": "2021-12-03T13:18:12.303Z"
   },
   {
    "duration": 525,
    "start_time": "2021-12-03T13:18:12.468Z"
   },
   {
    "duration": 246,
    "start_time": "2021-12-03T13:18:12.995Z"
   },
   {
    "duration": 81,
    "start_time": "2021-12-03T13:18:13.242Z"
   },
   {
    "duration": 100,
    "start_time": "2021-12-03T13:18:13.325Z"
   },
   {
    "duration": 88,
    "start_time": "2021-12-03T13:18:13.428Z"
   },
   {
    "duration": 33,
    "start_time": "2021-12-03T13:18:13.518Z"
   },
   {
    "duration": 213,
    "start_time": "2021-12-03T13:18:13.552Z"
   },
   {
    "duration": 32,
    "start_time": "2021-12-03T13:18:13.766Z"
   },
   {
    "duration": 48,
    "start_time": "2021-12-03T13:18:13.800Z"
   },
   {
    "duration": 20,
    "start_time": "2021-12-03T13:18:13.850Z"
   },
   {
    "duration": 32,
    "start_time": "2021-12-03T13:18:13.871Z"
   },
   {
    "duration": 49,
    "start_time": "2021-12-03T13:18:13.904Z"
   },
   {
    "duration": 33,
    "start_time": "2021-12-03T13:18:13.955Z"
   },
   {
    "duration": 36,
    "start_time": "2021-12-03T13:18:13.989Z"
   },
   {
    "duration": 52,
    "start_time": "2021-12-03T13:18:14.045Z"
   },
   {
    "duration": 25,
    "start_time": "2021-12-03T13:18:14.098Z"
   },
   {
    "duration": 34,
    "start_time": "2021-12-03T13:18:14.125Z"
   },
   {
    "duration": 154,
    "start_time": "2021-12-03T13:18:14.160Z"
   },
   {
    "duration": 28,
    "start_time": "2021-12-03T13:18:14.316Z"
   },
   {
    "duration": 36,
    "start_time": "2021-12-03T13:18:14.347Z"
   },
   {
    "duration": 70,
    "start_time": "2021-12-03T13:18:14.385Z"
   },
   {
    "duration": 27,
    "start_time": "2021-12-03T13:18:14.458Z"
   },
   {
    "duration": 2,
    "start_time": "2021-12-03T13:18:14.487Z"
   },
   {
    "duration": 21,
    "start_time": "2021-12-03T13:18:14.490Z"
   },
   {
    "duration": 3,
    "start_time": "2021-12-03T13:18:14.513Z"
   },
   {
    "duration": 50,
    "start_time": "2021-12-03T13:18:14.517Z"
   },
   {
    "duration": 13,
    "start_time": "2021-12-03T13:18:14.569Z"
   },
   {
    "duration": 93,
    "start_time": "2021-12-03T13:18:14.584Z"
   },
   {
    "duration": 1096,
    "start_time": "2021-12-03T13:36:51.381Z"
   },
   {
    "duration": 822,
    "start_time": "2021-12-03T13:36:52.480Z"
   },
   {
    "duration": 146,
    "start_time": "2021-12-03T13:36:53.304Z"
   },
   {
    "duration": 530,
    "start_time": "2021-12-03T13:36:53.452Z"
   },
   {
    "duration": 240,
    "start_time": "2021-12-03T13:36:53.984Z"
   },
   {
    "duration": 86,
    "start_time": "2021-12-03T13:36:54.225Z"
   },
   {
    "duration": 106,
    "start_time": "2021-12-03T13:36:54.312Z"
   },
   {
    "duration": 86,
    "start_time": "2021-12-03T13:36:54.420Z"
   },
   {
    "duration": 21,
    "start_time": "2021-12-03T13:36:54.509Z"
   },
   {
    "duration": 223,
    "start_time": "2021-12-03T13:36:54.532Z"
   },
   {
    "duration": 36,
    "start_time": "2021-12-03T13:36:54.757Z"
   },
   {
    "duration": 50,
    "start_time": "2021-12-03T13:36:54.795Z"
   },
   {
    "duration": 44,
    "start_time": "2021-12-03T13:36:54.847Z"
   },
   {
    "duration": 34,
    "start_time": "2021-12-03T13:36:54.893Z"
   },
   {
    "duration": 65,
    "start_time": "2021-12-03T13:36:54.929Z"
   },
   {
    "duration": 44,
    "start_time": "2021-12-03T13:36:54.996Z"
   },
   {
    "duration": 53,
    "start_time": "2021-12-03T13:36:55.041Z"
   },
   {
    "duration": 52,
    "start_time": "2021-12-03T13:36:55.096Z"
   },
   {
    "duration": 24,
    "start_time": "2021-12-03T13:36:55.149Z"
   },
   {
    "duration": 21,
    "start_time": "2021-12-03T13:36:55.175Z"
   },
   {
    "duration": 159,
    "start_time": "2021-12-03T13:36:55.198Z"
   },
   {
    "duration": 20,
    "start_time": "2021-12-03T13:36:55.359Z"
   },
   {
    "duration": 36,
    "start_time": "2021-12-03T13:36:55.380Z"
   },
   {
    "duration": 72,
    "start_time": "2021-12-03T13:36:55.418Z"
   },
   {
    "duration": 30,
    "start_time": "2021-12-03T13:36:55.492Z"
   },
   {
    "duration": 20,
    "start_time": "2021-12-03T13:36:55.524Z"
   },
   {
    "duration": 19,
    "start_time": "2021-12-03T13:36:55.548Z"
   },
   {
    "duration": 4,
    "start_time": "2021-12-03T13:36:55.569Z"
   },
   {
    "duration": 34,
    "start_time": "2021-12-03T13:36:55.575Z"
   },
   {
    "duration": 36,
    "start_time": "2021-12-03T13:36:55.611Z"
   },
   {
    "duration": 99,
    "start_time": "2021-12-03T13:36:55.649Z"
   },
   {
    "duration": 2584,
    "start_time": "2021-12-03T13:36:55.749Z"
   },
   {
    "duration": 267,
    "start_time": "2021-12-03T13:36:58.335Z"
   },
   {
    "duration": -42913,
    "start_time": "2021-12-03T13:37:41.517Z"
   },
   {
    "duration": 1156,
    "start_time": "2021-12-03T13:42:43.357Z"
   },
   {
    "duration": 855,
    "start_time": "2021-12-03T13:42:44.515Z"
   },
   {
    "duration": 149,
    "start_time": "2021-12-03T13:42:45.372Z"
   },
   {
    "duration": 552,
    "start_time": "2021-12-03T13:42:45.523Z"
   },
   {
    "duration": 256,
    "start_time": "2021-12-03T13:42:46.077Z"
   },
   {
    "duration": 84,
    "start_time": "2021-12-03T13:42:46.335Z"
   },
   {
    "duration": 107,
    "start_time": "2021-12-03T13:42:46.420Z"
   },
   {
    "duration": 81,
    "start_time": "2021-12-03T13:42:46.529Z"
   },
   {
    "duration": 20,
    "start_time": "2021-12-03T13:42:46.612Z"
   },
   {
    "duration": 211,
    "start_time": "2021-12-03T13:42:46.644Z"
   },
   {
    "duration": 34,
    "start_time": "2021-12-03T13:42:46.856Z"
   },
   {
    "duration": 56,
    "start_time": "2021-12-03T13:42:46.892Z"
   },
   {
    "duration": 28,
    "start_time": "2021-12-03T13:42:46.950Z"
   },
   {
    "duration": 35,
    "start_time": "2021-12-03T13:42:46.980Z"
   },
   {
    "duration": 53,
    "start_time": "2021-12-03T13:42:47.017Z"
   },
   {
    "duration": 33,
    "start_time": "2021-12-03T13:42:47.073Z"
   },
   {
    "duration": 54,
    "start_time": "2021-12-03T13:42:47.108Z"
   },
   {
    "duration": 55,
    "start_time": "2021-12-03T13:42:47.163Z"
   },
   {
    "duration": 35,
    "start_time": "2021-12-03T13:42:47.220Z"
   },
   {
    "duration": 20,
    "start_time": "2021-12-03T13:42:47.257Z"
   },
   {
    "duration": 176,
    "start_time": "2021-12-03T13:42:47.279Z"
   },
   {
    "duration": 22,
    "start_time": "2021-12-03T13:42:47.457Z"
   },
   {
    "duration": 37,
    "start_time": "2021-12-03T13:42:47.483Z"
   },
   {
    "duration": 74,
    "start_time": "2021-12-03T13:42:47.522Z"
   },
   {
    "duration": 45,
    "start_time": "2021-12-03T13:42:47.599Z"
   },
   {
    "duration": 3,
    "start_time": "2021-12-03T13:42:47.646Z"
   },
   {
    "duration": 21,
    "start_time": "2021-12-03T13:42:47.651Z"
   },
   {
    "duration": 6,
    "start_time": "2021-12-03T13:42:47.674Z"
   },
   {
    "duration": 34,
    "start_time": "2021-12-03T13:42:47.682Z"
   },
   {
    "duration": 33,
    "start_time": "2021-12-03T13:42:47.718Z"
   },
   {
    "duration": 92,
    "start_time": "2021-12-03T13:42:47.752Z"
   },
   {
    "duration": 4,
    "start_time": "2021-12-03T13:42:47.846Z"
   },
   {
    "duration": 353550,
    "start_time": "2021-12-03T13:42:47.852Z"
   },
   {
    "duration": 355,
    "start_time": "2021-12-03T13:48:41.403Z"
   },
   {
    "duration": -42917,
    "start_time": "2021-12-03T13:49:24.677Z"
   },
   {
    "duration": 1090,
    "start_time": "2021-12-03T13:51:37.221Z"
   },
   {
    "duration": 740,
    "start_time": "2021-12-03T13:51:38.313Z"
   },
   {
    "duration": 141,
    "start_time": "2021-12-03T13:51:39.055Z"
   },
   {
    "duration": 614,
    "start_time": "2021-12-03T13:51:39.198Z"
   },
   {
    "duration": 252,
    "start_time": "2021-12-03T13:51:39.814Z"
   },
   {
    "duration": 84,
    "start_time": "2021-12-03T13:51:40.067Z"
   },
   {
    "duration": 100,
    "start_time": "2021-12-03T13:51:40.153Z"
   },
   {
    "duration": 76,
    "start_time": "2021-12-03T13:51:40.254Z"
   },
   {
    "duration": 29,
    "start_time": "2021-12-03T13:51:40.333Z"
   },
   {
    "duration": 216,
    "start_time": "2021-12-03T13:51:40.364Z"
   },
   {
    "duration": 31,
    "start_time": "2021-12-03T13:51:40.582Z"
   },
   {
    "duration": 47,
    "start_time": "2021-12-03T13:51:40.614Z"
   },
   {
    "duration": 21,
    "start_time": "2021-12-03T13:51:40.662Z"
   },
   {
    "duration": 33,
    "start_time": "2021-12-03T13:51:40.684Z"
   },
   {
    "duration": 52,
    "start_time": "2021-12-03T13:51:40.719Z"
   },
   {
    "duration": 34,
    "start_time": "2021-12-03T13:51:40.773Z"
   },
   {
    "duration": 44,
    "start_time": "2021-12-03T13:51:40.809Z"
   },
   {
    "duration": 50,
    "start_time": "2021-12-03T13:51:40.854Z"
   },
   {
    "duration": 23,
    "start_time": "2021-12-03T13:51:40.906Z"
   },
   {
    "duration": 27,
    "start_time": "2021-12-03T13:51:40.931Z"
   },
   {
    "duration": 165,
    "start_time": "2021-12-03T13:51:40.960Z"
   },
   {
    "duration": 27,
    "start_time": "2021-12-03T13:51:41.127Z"
   },
   {
    "duration": 34,
    "start_time": "2021-12-03T13:51:41.156Z"
   },
   {
    "duration": 64,
    "start_time": "2021-12-03T13:51:41.192Z"
   },
   {
    "duration": 27,
    "start_time": "2021-12-03T13:51:41.258Z"
   },
   {
    "duration": 2,
    "start_time": "2021-12-03T13:51:41.286Z"
   },
   {
    "duration": 17,
    "start_time": "2021-12-03T13:51:41.291Z"
   },
   {
    "duration": 2,
    "start_time": "2021-12-03T13:51:41.310Z"
   },
   {
    "duration": 52,
    "start_time": "2021-12-03T13:51:41.314Z"
   },
   {
    "duration": 15,
    "start_time": "2021-12-03T13:51:41.368Z"
   },
   {
    "duration": 106,
    "start_time": "2021-12-03T13:51:41.385Z"
   },
   {
    "duration": 4,
    "start_time": "2021-12-03T13:51:41.493Z"
   },
   {
    "duration": 18215,
    "start_time": "2021-12-03T13:51:41.499Z"
   },
   {
    "duration": 357,
    "start_time": "2021-12-03T13:51:59.716Z"
   },
   {
    "duration": -42908,
    "start_time": "2021-12-03T13:52:42.984Z"
   },
   {
    "duration": 4,
    "start_time": "2021-12-03T13:52:52.265Z"
   },
   {
    "duration": 17957,
    "start_time": "2021-12-03T13:52:54.632Z"
   },
   {
    "duration": 4,
    "start_time": "2021-12-03T13:53:31.096Z"
   },
   {
    "duration": 18186,
    "start_time": "2021-12-03T13:53:34.352Z"
   },
   {
    "duration": 4,
    "start_time": "2021-12-03T13:54:18.953Z"
   },
   {
    "duration": 26694,
    "start_time": "2021-12-03T13:54:21.823Z"
   },
   {
    "duration": 4,
    "start_time": "2021-12-03T13:55:09.360Z"
   },
   {
    "duration": 2549,
    "start_time": "2021-12-03T13:55:11.759Z"
   },
   {
    "duration": 4,
    "start_time": "2021-12-03T13:55:24.872Z"
   },
   {
    "duration": 196617,
    "start_time": "2021-12-03T13:55:27.758Z"
   },
   {
    "duration": 4,
    "start_time": "2021-12-03T14:00:05.069Z"
   },
   {
    "duration": 198079,
    "start_time": "2021-12-03T14:00:08.142Z"
   },
   {
    "duration": 539,
    "start_time": "2021-12-03T14:04:18.507Z"
   },
   {
    "duration": 1146,
    "start_time": "2021-12-03T14:05:34.488Z"
   },
   {
    "duration": 778,
    "start_time": "2021-12-03T14:05:35.636Z"
   },
   {
    "duration": 142,
    "start_time": "2021-12-03T14:05:36.416Z"
   },
   {
    "duration": 530,
    "start_time": "2021-12-03T14:05:36.559Z"
   },
   {
    "duration": 243,
    "start_time": "2021-12-03T14:05:37.091Z"
   },
   {
    "duration": 92,
    "start_time": "2021-12-03T14:05:37.335Z"
   },
   {
    "duration": 101,
    "start_time": "2021-12-03T14:05:37.428Z"
   },
   {
    "duration": 85,
    "start_time": "2021-12-03T14:05:37.531Z"
   },
   {
    "duration": 33,
    "start_time": "2021-12-03T14:05:37.619Z"
   },
   {
    "duration": 227,
    "start_time": "2021-12-03T14:05:37.654Z"
   },
   {
    "duration": 33,
    "start_time": "2021-12-03T14:05:37.883Z"
   },
   {
    "duration": 50,
    "start_time": "2021-12-03T14:05:37.917Z"
   },
   {
    "duration": 20,
    "start_time": "2021-12-03T14:05:37.970Z"
   },
   {
    "duration": 53,
    "start_time": "2021-12-03T14:05:37.992Z"
   },
   {
    "duration": 37,
    "start_time": "2021-12-03T14:05:38.047Z"
   },
   {
    "duration": 36,
    "start_time": "2021-12-03T14:05:38.086Z"
   },
   {
    "duration": 52,
    "start_time": "2021-12-03T14:05:38.124Z"
   },
   {
    "duration": 52,
    "start_time": "2021-12-03T14:05:38.178Z"
   },
   {
    "duration": 36,
    "start_time": "2021-12-03T14:05:38.232Z"
   },
   {
    "duration": 19,
    "start_time": "2021-12-03T14:05:38.270Z"
   },
   {
    "duration": 316,
    "start_time": "2021-12-03T14:05:38.292Z"
   },
   {
    "duration": 39,
    "start_time": "2021-12-03T14:05:38.610Z"
   },
   {
    "duration": 43,
    "start_time": "2021-12-03T14:05:38.651Z"
   },
   {
    "duration": 97,
    "start_time": "2021-12-03T14:05:38.696Z"
   },
   {
    "duration": 50,
    "start_time": "2021-12-03T14:05:38.796Z"
   },
   {
    "duration": 2,
    "start_time": "2021-12-03T14:05:38.849Z"
   },
   {
    "duration": 34,
    "start_time": "2021-12-03T14:05:38.856Z"
   },
   {
    "duration": 17,
    "start_time": "2021-12-03T14:05:38.893Z"
   },
   {
    "duration": 57,
    "start_time": "2021-12-03T14:05:38.912Z"
   },
   {
    "duration": 18,
    "start_time": "2021-12-03T14:05:38.971Z"
   },
   {
    "duration": 126,
    "start_time": "2021-12-03T14:05:38.991Z"
   },
   {
    "duration": 5,
    "start_time": "2021-12-03T14:05:39.119Z"
   },
   {
    "duration": 36394,
    "start_time": "2021-12-03T14:05:39.126Z"
   },
   {
    "duration": 539,
    "start_time": "2021-12-03T14:06:15.521Z"
   },
   {
    "duration": 198,
    "start_time": "2021-12-03T14:06:16.062Z"
   },
   {
    "duration": 1179,
    "start_time": "2021-12-03T14:06:16.262Z"
   },
   {
    "duration": -42919,
    "start_time": "2021-12-03T14:07:00.362Z"
   },
   {
    "duration": 5,
    "start_time": "2021-12-03T14:06:39.819Z"
   },
   {
    "duration": 35799,
    "start_time": "2021-12-03T14:06:42.687Z"
   },
   {
    "duration": 4,
    "start_time": "2021-12-03T14:07:37.069Z"
   },
   {
    "duration": 19125,
    "start_time": "2021-12-03T14:07:41.893Z"
   },
   {
    "duration": 461,
    "start_time": "2021-12-03T14:08:29.507Z"
   },
   {
    "duration": 178,
    "start_time": "2021-12-03T14:08:32.267Z"
   },
   {
    "duration": 1110,
    "start_time": "2021-12-03T14:08:47.607Z"
   },
   {
    "duration": 775,
    "start_time": "2021-12-03T14:08:48.719Z"
   },
   {
    "duration": 141,
    "start_time": "2021-12-03T14:08:49.496Z"
   },
   {
    "duration": 517,
    "start_time": "2021-12-03T14:08:49.639Z"
   },
   {
    "duration": 245,
    "start_time": "2021-12-03T14:08:50.157Z"
   },
   {
    "duration": 88,
    "start_time": "2021-12-03T14:08:50.404Z"
   },
   {
    "duration": 98,
    "start_time": "2021-12-03T14:08:50.494Z"
   },
   {
    "duration": 92,
    "start_time": "2021-12-03T14:08:50.595Z"
   },
   {
    "duration": 23,
    "start_time": "2021-12-03T14:08:50.689Z"
   },
   {
    "duration": 223,
    "start_time": "2021-12-03T14:08:50.714Z"
   },
   {
    "duration": 37,
    "start_time": "2021-12-03T14:08:50.938Z"
   },
   {
    "duration": 35,
    "start_time": "2021-12-03T14:08:50.977Z"
   },
   {
    "duration": 40,
    "start_time": "2021-12-03T14:08:51.014Z"
   },
   {
    "duration": 33,
    "start_time": "2021-12-03T14:08:51.056Z"
   },
   {
    "duration": 37,
    "start_time": "2021-12-03T14:08:51.091Z"
   },
   {
    "duration": 44,
    "start_time": "2021-12-03T14:08:51.130Z"
   },
   {
    "duration": 35,
    "start_time": "2021-12-03T14:08:51.175Z"
   },
   {
    "duration": 70,
    "start_time": "2021-12-03T14:08:51.212Z"
   },
   {
    "duration": 25,
    "start_time": "2021-12-03T14:08:51.283Z"
   },
   {
    "duration": 19,
    "start_time": "2021-12-03T14:08:51.310Z"
   },
   {
    "duration": 173,
    "start_time": "2021-12-03T14:08:51.344Z"
   },
   {
    "duration": 26,
    "start_time": "2021-12-03T14:08:51.519Z"
   },
   {
    "duration": 37,
    "start_time": "2021-12-03T14:08:51.548Z"
   },
   {
    "duration": 74,
    "start_time": "2021-12-03T14:08:51.587Z"
   },
   {
    "duration": 29,
    "start_time": "2021-12-03T14:08:51.662Z"
   },
   {
    "duration": 2,
    "start_time": "2021-12-03T14:08:51.693Z"
   },
   {
    "duration": 22,
    "start_time": "2021-12-03T14:08:51.697Z"
   },
   {
    "duration": 25,
    "start_time": "2021-12-03T14:08:51.721Z"
   },
   {
    "duration": 34,
    "start_time": "2021-12-03T14:08:51.748Z"
   },
   {
    "duration": 15,
    "start_time": "2021-12-03T14:08:51.784Z"
   },
   {
    "duration": 97,
    "start_time": "2021-12-03T14:08:51.801Z"
   },
   {
    "duration": 4,
    "start_time": "2021-12-03T14:08:51.900Z"
   },
   {
    "duration": 109969,
    "start_time": "2021-12-03T14:08:51.906Z"
   },
   {
    "duration": 580,
    "start_time": "2021-12-03T14:10:41.877Z"
   },
   {
    "duration": 196,
    "start_time": "2021-12-03T14:10:42.459Z"
   },
   {
    "duration": 360,
    "start_time": "2021-12-03T14:10:42.656Z"
   },
   {
    "duration": -42929,
    "start_time": "2021-12-03T14:11:25.947Z"
   },
   {
    "duration": 1086,
    "start_time": "2021-12-03T14:11:11.840Z"
   },
   {
    "duration": 783,
    "start_time": "2021-12-03T14:11:12.928Z"
   },
   {
    "duration": 150,
    "start_time": "2021-12-03T14:11:13.713Z"
   },
   {
    "duration": 555,
    "start_time": "2021-12-03T14:11:13.865Z"
   },
   {
    "duration": 322,
    "start_time": "2021-12-03T14:11:14.422Z"
   },
   {
    "duration": 80,
    "start_time": "2021-12-03T14:11:14.746Z"
   },
   {
    "duration": 100,
    "start_time": "2021-12-03T14:11:14.827Z"
   },
   {
    "duration": 84,
    "start_time": "2021-12-03T14:11:14.929Z"
   },
   {
    "duration": 33,
    "start_time": "2021-12-03T14:11:15.016Z"
   },
   {
    "duration": 218,
    "start_time": "2021-12-03T14:11:15.051Z"
   },
   {
    "duration": 31,
    "start_time": "2021-12-03T14:11:15.271Z"
   },
   {
    "duration": 48,
    "start_time": "2021-12-03T14:11:15.303Z"
   },
   {
    "duration": 44,
    "start_time": "2021-12-03T14:11:15.352Z"
   },
   {
    "duration": 40,
    "start_time": "2021-12-03T14:11:15.398Z"
   },
   {
    "duration": 43,
    "start_time": "2021-12-03T14:11:15.440Z"
   },
   {
    "duration": 55,
    "start_time": "2021-12-03T14:11:15.484Z"
   },
   {
    "duration": 62,
    "start_time": "2021-12-03T14:11:15.541Z"
   },
   {
    "duration": 60,
    "start_time": "2021-12-03T14:11:15.605Z"
   },
   {
    "duration": 25,
    "start_time": "2021-12-03T14:11:15.667Z"
   },
   {
    "duration": 19,
    "start_time": "2021-12-03T14:11:15.693Z"
   },
   {
    "duration": 170,
    "start_time": "2021-12-03T14:11:15.714Z"
   },
   {
    "duration": 19,
    "start_time": "2021-12-03T14:11:15.885Z"
   },
   {
    "duration": 60,
    "start_time": "2021-12-03T14:11:15.906Z"
   },
   {
    "duration": 53,
    "start_time": "2021-12-03T14:11:15.968Z"
   },
   {
    "duration": 36,
    "start_time": "2021-12-03T14:11:16.023Z"
   },
   {
    "duration": 2,
    "start_time": "2021-12-03T14:11:16.061Z"
   },
   {
    "duration": 17,
    "start_time": "2021-12-03T14:11:16.066Z"
   },
   {
    "duration": 4,
    "start_time": "2021-12-03T14:11:16.085Z"
   },
   {
    "duration": 52,
    "start_time": "2021-12-03T14:11:16.090Z"
   },
   {
    "duration": 14,
    "start_time": "2021-12-03T14:11:16.144Z"
   },
   {
    "duration": 83,
    "start_time": "2021-12-03T14:11:16.159Z"
   },
   {
    "duration": 4,
    "start_time": "2021-12-03T14:11:16.243Z"
   },
   {
    "duration": 324368,
    "start_time": "2021-12-03T14:11:16.249Z"
   },
   {
    "duration": 940,
    "start_time": "2021-12-03T14:16:40.619Z"
   },
   {
    "duration": 300,
    "start_time": "2021-12-03T14:16:41.561Z"
   },
   {
    "duration": 353,
    "start_time": "2021-12-03T14:16:41.862Z"
   },
   {
    "duration": -42934,
    "start_time": "2021-12-03T14:17:25.151Z"
   },
   {
    "duration": 4,
    "start_time": "2021-12-03T14:17:10.977Z"
   },
   {
    "duration": 72759,
    "start_time": "2021-12-03T14:17:14.632Z"
   },
   {
    "duration": 4,
    "start_time": "2021-12-03T14:18:55.719Z"
   },
   {
    "duration": 44556,
    "start_time": "2021-12-03T14:18:58.647Z"
   },
   {
    "duration": 536,
    "start_time": "2021-12-03T14:20:43.926Z"
   },
   {
    "duration": 182,
    "start_time": "2021-12-03T14:20:46.665Z"
   },
   {
    "duration": 540,
    "start_time": "2021-12-03T14:22:20.022Z"
   },
   {
    "duration": 162,
    "start_time": "2021-12-03T14:22:54.291Z"
   },
   {
    "duration": 149,
    "start_time": "2021-12-03T14:23:17.404Z"
   },
   {
    "duration": 476,
    "start_time": "2021-12-03T14:23:19.885Z"
   },
   {
    "duration": 4,
    "start_time": "2021-12-03T14:23:57.967Z"
   },
   {
    "duration": 1114,
    "start_time": "2021-12-03T14:24:04.164Z"
   },
   {
    "duration": 807,
    "start_time": "2021-12-03T14:24:05.280Z"
   },
   {
    "duration": 153,
    "start_time": "2021-12-03T14:24:06.091Z"
   },
   {
    "duration": 547,
    "start_time": "2021-12-03T14:24:06.246Z"
   },
   {
    "duration": 261,
    "start_time": "2021-12-03T14:24:06.795Z"
   },
   {
    "duration": 94,
    "start_time": "2021-12-03T14:24:07.058Z"
   },
   {
    "duration": 115,
    "start_time": "2021-12-03T14:24:07.155Z"
   },
   {
    "duration": 96,
    "start_time": "2021-12-03T14:24:07.272Z"
   },
   {
    "duration": 23,
    "start_time": "2021-12-03T14:24:07.370Z"
   },
   {
    "duration": 304,
    "start_time": "2021-12-03T14:24:07.395Z"
   },
   {
    "duration": 47,
    "start_time": "2021-12-03T14:24:07.701Z"
   },
   {
    "duration": 37,
    "start_time": "2021-12-03T14:24:07.750Z"
   },
   {
    "duration": 28,
    "start_time": "2021-12-03T14:24:07.789Z"
   },
   {
    "duration": 54,
    "start_time": "2021-12-03T14:24:07.819Z"
   },
   {
    "duration": 41,
    "start_time": "2021-12-03T14:24:07.874Z"
   },
   {
    "duration": 47,
    "start_time": "2021-12-03T14:24:07.916Z"
   },
   {
    "duration": 38,
    "start_time": "2021-12-03T14:24:07.965Z"
   },
   {
    "duration": 66,
    "start_time": "2021-12-03T14:24:08.004Z"
   },
   {
    "duration": 85,
    "start_time": "2021-12-03T14:24:08.072Z"
   },
   {
    "duration": 22,
    "start_time": "2021-12-03T14:24:08.159Z"
   },
   {
    "duration": 172,
    "start_time": "2021-12-03T14:24:08.182Z"
   },
   {
    "duration": 22,
    "start_time": "2021-12-03T14:24:08.357Z"
   },
   {
    "duration": 37,
    "start_time": "2021-12-03T14:24:08.381Z"
   },
   {
    "duration": 75,
    "start_time": "2021-12-03T14:24:08.419Z"
   },
   {
    "duration": 30,
    "start_time": "2021-12-03T14:24:08.496Z"
   },
   {
    "duration": 3,
    "start_time": "2021-12-03T14:24:08.544Z"
   },
   {
    "duration": 33,
    "start_time": "2021-12-03T14:24:08.548Z"
   },
   {
    "duration": 23,
    "start_time": "2021-12-03T14:24:08.583Z"
   },
   {
    "duration": 43,
    "start_time": "2021-12-03T14:24:08.608Z"
   },
   {
    "duration": 15,
    "start_time": "2021-12-03T14:24:08.653Z"
   },
   {
    "duration": 91,
    "start_time": "2021-12-03T14:24:08.669Z"
   },
   {
    "duration": 4,
    "start_time": "2021-12-03T14:24:08.761Z"
   },
   {
    "duration": 112467,
    "start_time": "2021-12-03T14:24:08.767Z"
   },
   {
    "duration": 529,
    "start_time": "2021-12-03T14:26:01.236Z"
   },
   {
    "duration": 285,
    "start_time": "2021-12-03T14:26:01.767Z"
   },
   {
    "duration": 397,
    "start_time": "2021-12-03T14:26:02.054Z"
   },
   {
    "duration": -42926,
    "start_time": "2021-12-03T14:26:45.379Z"
   },
   {
    "duration": 1056,
    "start_time": "2021-12-03T14:39:07.372Z"
   },
   {
    "duration": 771,
    "start_time": "2021-12-03T14:39:08.430Z"
   },
   {
    "duration": 151,
    "start_time": "2021-12-03T14:39:09.206Z"
   },
   {
    "duration": 530,
    "start_time": "2021-12-03T14:39:09.359Z"
   },
   {
    "duration": 255,
    "start_time": "2021-12-03T14:39:09.891Z"
   },
   {
    "duration": 80,
    "start_time": "2021-12-03T14:39:10.147Z"
   },
   {
    "duration": 105,
    "start_time": "2021-12-03T14:39:10.229Z"
   },
   {
    "duration": 89,
    "start_time": "2021-12-03T14:39:10.336Z"
   },
   {
    "duration": 30,
    "start_time": "2021-12-03T14:39:10.427Z"
   },
   {
    "duration": 227,
    "start_time": "2021-12-03T14:39:10.459Z"
   },
   {
    "duration": 33,
    "start_time": "2021-12-03T14:39:10.688Z"
   },
   {
    "duration": 47,
    "start_time": "2021-12-03T14:39:10.723Z"
   },
   {
    "duration": 43,
    "start_time": "2021-12-03T14:39:10.772Z"
   },
   {
    "duration": 42,
    "start_time": "2021-12-03T14:39:10.817Z"
   },
   {
    "duration": 43,
    "start_time": "2021-12-03T14:39:10.861Z"
   },
   {
    "duration": 56,
    "start_time": "2021-12-03T14:39:10.905Z"
   },
   {
    "duration": 62,
    "start_time": "2021-12-03T14:39:10.963Z"
   },
   {
    "duration": 55,
    "start_time": "2021-12-03T14:39:11.026Z"
   },
   {
    "duration": 24,
    "start_time": "2021-12-03T14:39:11.083Z"
   },
   {
    "duration": 23,
    "start_time": "2021-12-03T14:39:11.109Z"
   },
   {
    "duration": 174,
    "start_time": "2021-12-03T14:39:11.133Z"
   },
   {
    "duration": 18,
    "start_time": "2021-12-03T14:39:11.310Z"
   },
   {
    "duration": 47,
    "start_time": "2021-12-03T14:39:11.330Z"
   },
   {
    "duration": 53,
    "start_time": "2021-12-03T14:39:11.379Z"
   },
   {
    "duration": 31,
    "start_time": "2021-12-03T14:39:11.434Z"
   },
   {
    "duration": 2,
    "start_time": "2021-12-03T14:39:11.467Z"
   },
   {
    "duration": 42,
    "start_time": "2021-12-03T14:39:11.470Z"
   },
   {
    "duration": 32,
    "start_time": "2021-12-03T14:39:11.513Z"
   },
   {
    "duration": 46,
    "start_time": "2021-12-03T14:39:11.546Z"
   },
   {
    "duration": 14,
    "start_time": "2021-12-03T14:39:11.593Z"
   },
   {
    "duration": 99,
    "start_time": "2021-12-03T14:39:11.609Z"
   },
   {
    "duration": 4,
    "start_time": "2021-12-03T14:39:11.709Z"
   },
   {
    "duration": 221669,
    "start_time": "2021-12-03T14:39:11.715Z"
   },
   {
    "duration": 777,
    "start_time": "2021-12-03T14:42:53.386Z"
   },
   {
    "duration": 291,
    "start_time": "2021-12-03T14:42:54.165Z"
   },
   {
    "duration": 351,
    "start_time": "2021-12-03T14:42:54.458Z"
   },
   {
    "duration": -42937,
    "start_time": "2021-12-03T14:43:37.747Z"
   },
   {
    "duration": 1024,
    "start_time": "2021-12-03T14:46:58.321Z"
   },
   {
    "duration": 1028,
    "start_time": "2021-12-03T14:47:38.802Z"
   },
   {
    "duration": 697,
    "start_time": "2021-12-03T14:47:50.073Z"
   },
   {
    "duration": 277,
    "start_time": "2021-12-03T14:52:26.648Z"
   },
   {
    "duration": 1071,
    "start_time": "2021-12-03T14:53:06.953Z"
   },
   {
    "duration": 754,
    "start_time": "2021-12-03T14:53:08.026Z"
   },
   {
    "duration": 143,
    "start_time": "2021-12-03T14:53:08.782Z"
   },
   {
    "duration": 533,
    "start_time": "2021-12-03T14:53:08.926Z"
   },
   {
    "duration": 247,
    "start_time": "2021-12-03T14:53:09.461Z"
   },
   {
    "duration": 83,
    "start_time": "2021-12-03T14:53:09.709Z"
   },
   {
    "duration": 107,
    "start_time": "2021-12-03T14:53:09.794Z"
   },
   {
    "duration": 80,
    "start_time": "2021-12-03T14:53:09.904Z"
   },
   {
    "duration": 20,
    "start_time": "2021-12-03T14:53:09.986Z"
   },
   {
    "duration": 230,
    "start_time": "2021-12-03T14:53:10.008Z"
   },
   {
    "duration": 32,
    "start_time": "2021-12-03T14:53:10.239Z"
   },
   {
    "duration": 36,
    "start_time": "2021-12-03T14:53:10.273Z"
   },
   {
    "duration": 40,
    "start_time": "2021-12-03T14:53:10.310Z"
   },
   {
    "duration": 34,
    "start_time": "2021-12-03T14:53:10.352Z"
   },
   {
    "duration": 33,
    "start_time": "2021-12-03T14:53:10.388Z"
   },
   {
    "duration": 47,
    "start_time": "2021-12-03T14:53:10.422Z"
   },
   {
    "duration": 36,
    "start_time": "2021-12-03T14:53:10.471Z"
   },
   {
    "duration": 62,
    "start_time": "2021-12-03T14:53:10.508Z"
   },
   {
    "duration": 24,
    "start_time": "2021-12-03T14:53:10.571Z"
   },
   {
    "duration": 18,
    "start_time": "2021-12-03T14:53:10.596Z"
   },
   {
    "duration": 179,
    "start_time": "2021-12-03T14:53:10.615Z"
   },
   {
    "duration": 20,
    "start_time": "2021-12-03T14:53:10.795Z"
   },
   {
    "duration": 47,
    "start_time": "2021-12-03T14:53:10.818Z"
   },
   {
    "duration": 52,
    "start_time": "2021-12-03T14:53:10.867Z"
   },
   {
    "duration": 39,
    "start_time": "2021-12-03T14:53:10.920Z"
   },
   {
    "duration": 2,
    "start_time": "2021-12-03T14:53:10.961Z"
   },
   {
    "duration": 19,
    "start_time": "2021-12-03T14:53:10.964Z"
   },
   {
    "duration": 2,
    "start_time": "2021-12-03T14:53:10.984Z"
   },
   {
    "duration": 34,
    "start_time": "2021-12-03T14:53:10.988Z"
   },
   {
    "duration": 27,
    "start_time": "2021-12-03T14:53:11.023Z"
   },
   {
    "duration": 75,
    "start_time": "2021-12-03T14:53:11.051Z"
   },
   {
    "duration": 145,
    "start_time": "2021-12-03T14:53:11.127Z"
   },
   {
    "duration": 263,
    "start_time": "2021-12-03T14:53:11.274Z"
   },
   {
    "duration": 182,
    "start_time": "2021-12-03T14:53:11.539Z"
   },
   {
    "duration": 258,
    "start_time": "2021-12-03T14:53:11.723Z"
   },
   {
    "duration": -42950,
    "start_time": "2021-12-03T14:53:54.934Z"
   },
   {
    "duration": -42951,
    "start_time": "2021-12-03T14:53:54.936Z"
   },
   {
    "duration": -42956,
    "start_time": "2021-12-03T14:53:54.942Z"
   },
   {
    "duration": 4,
    "start_time": "2021-12-03T14:53:27.458Z"
   },
   {
    "duration": 1083,
    "start_time": "2021-12-03T14:53:37.335Z"
   },
   {
    "duration": 764,
    "start_time": "2021-12-03T14:53:38.420Z"
   },
   {
    "duration": 153,
    "start_time": "2021-12-03T14:53:39.186Z"
   },
   {
    "duration": 534,
    "start_time": "2021-12-03T14:53:39.345Z"
   },
   {
    "duration": 246,
    "start_time": "2021-12-03T14:53:39.880Z"
   },
   {
    "duration": 81,
    "start_time": "2021-12-03T14:53:40.127Z"
   },
   {
    "duration": 99,
    "start_time": "2021-12-03T14:53:40.210Z"
   },
   {
    "duration": 78,
    "start_time": "2021-12-03T14:53:40.311Z"
   },
   {
    "duration": 19,
    "start_time": "2021-12-03T14:53:40.391Z"
   },
   {
    "duration": 216,
    "start_time": "2021-12-03T14:53:40.411Z"
   },
   {
    "duration": 35,
    "start_time": "2021-12-03T14:53:40.629Z"
   },
   {
    "duration": 34,
    "start_time": "2021-12-03T14:53:40.666Z"
   },
   {
    "duration": 23,
    "start_time": "2021-12-03T14:53:40.702Z"
   },
   {
    "duration": 47,
    "start_time": "2021-12-03T14:53:40.726Z"
   },
   {
    "duration": 35,
    "start_time": "2021-12-03T14:53:40.775Z"
   },
   {
    "duration": 40,
    "start_time": "2021-12-03T14:53:40.812Z"
   },
   {
    "duration": 41,
    "start_time": "2021-12-03T14:53:40.853Z"
   },
   {
    "duration": 58,
    "start_time": "2021-12-03T14:53:40.895Z"
   },
   {
    "duration": 24,
    "start_time": "2021-12-03T14:53:40.954Z"
   },
   {
    "duration": 18,
    "start_time": "2021-12-03T14:53:40.979Z"
   },
   {
    "duration": 163,
    "start_time": "2021-12-03T14:53:40.999Z"
   },
   {
    "duration": 18,
    "start_time": "2021-12-03T14:53:41.164Z"
   },
   {
    "duration": 48,
    "start_time": "2021-12-03T14:53:41.185Z"
   },
   {
    "duration": 52,
    "start_time": "2021-12-03T14:53:41.235Z"
   },
   {
    "duration": 28,
    "start_time": "2021-12-03T14:53:41.288Z"
   },
   {
    "duration": 2,
    "start_time": "2021-12-03T14:53:41.317Z"
   },
   {
    "duration": 36,
    "start_time": "2021-12-03T14:53:41.321Z"
   },
   {
    "duration": 2,
    "start_time": "2021-12-03T14:53:41.359Z"
   },
   {
    "duration": 31,
    "start_time": "2021-12-03T14:53:41.362Z"
   },
   {
    "duration": 14,
    "start_time": "2021-12-03T14:53:41.394Z"
   },
   {
    "duration": 99,
    "start_time": "2021-12-03T14:53:41.409Z"
   },
   {
    "duration": 126,
    "start_time": "2021-12-03T14:53:41.510Z"
   },
   {
    "duration": 8,
    "start_time": "2021-12-03T14:53:41.638Z"
   },
   {
    "duration": 220554,
    "start_time": "2021-12-03T14:53:41.648Z"
   },
   {
    "duration": 751,
    "start_time": "2021-12-03T14:57:22.204Z"
   },
   {
    "duration": 202,
    "start_time": "2021-12-03T14:57:22.956Z"
   },
   {
    "duration": 354,
    "start_time": "2021-12-03T14:57:23.160Z"
   },
   {
    "duration": -42952,
    "start_time": "2021-12-03T14:58:06.468Z"
   },
   {
    "duration": 1050,
    "start_time": "2021-12-03T14:58:00.581Z"
   },
   {
    "duration": 846,
    "start_time": "2021-12-03T14:58:01.633Z"
   },
   {
    "duration": 148,
    "start_time": "2021-12-03T14:58:02.482Z"
   },
   {
    "duration": 516,
    "start_time": "2021-12-03T14:58:02.632Z"
   },
   {
    "duration": 245,
    "start_time": "2021-12-03T14:58:03.149Z"
   },
   {
    "duration": 82,
    "start_time": "2021-12-03T14:58:03.396Z"
   },
   {
    "duration": 102,
    "start_time": "2021-12-03T14:58:03.480Z"
   },
   {
    "duration": 83,
    "start_time": "2021-12-03T14:58:03.585Z"
   },
   {
    "duration": 19,
    "start_time": "2021-12-03T14:58:03.670Z"
   },
   {
    "duration": 215,
    "start_time": "2021-12-03T14:58:03.690Z"
   },
   {
    "duration": 40,
    "start_time": "2021-12-03T14:58:03.906Z"
   },
   {
    "duration": 38,
    "start_time": "2021-12-03T14:58:03.947Z"
   },
   {
    "duration": 24,
    "start_time": "2021-12-03T14:58:03.987Z"
   },
   {
    "duration": 47,
    "start_time": "2021-12-03T14:58:04.012Z"
   },
   {
    "duration": 38,
    "start_time": "2021-12-03T14:58:04.061Z"
   },
   {
    "duration": 33,
    "start_time": "2021-12-03T14:58:04.101Z"
   },
   {
    "duration": 34,
    "start_time": "2021-12-03T14:58:04.144Z"
   },
   {
    "duration": 64,
    "start_time": "2021-12-03T14:58:04.180Z"
   },
   {
    "duration": 27,
    "start_time": "2021-12-03T14:58:04.246Z"
   },
   {
    "duration": 19,
    "start_time": "2021-12-03T14:58:04.274Z"
   },
   {
    "duration": 259,
    "start_time": "2021-12-03T14:58:04.295Z"
   },
   {
    "duration": 28,
    "start_time": "2021-12-03T14:58:04.556Z"
   },
   {
    "duration": 36,
    "start_time": "2021-12-03T14:58:04.588Z"
   },
   {
    "duration": 67,
    "start_time": "2021-12-03T14:58:04.626Z"
   },
   {
    "duration": 28,
    "start_time": "2021-12-03T14:58:04.694Z"
   },
   {
    "duration": 2,
    "start_time": "2021-12-03T14:58:04.724Z"
   },
   {
    "duration": 17,
    "start_time": "2021-12-03T14:58:04.744Z"
   },
   {
    "duration": 3,
    "start_time": "2021-12-03T14:58:04.763Z"
   },
   {
    "duration": 29,
    "start_time": "2021-12-03T14:58:04.767Z"
   },
   {
    "duration": 15,
    "start_time": "2021-12-03T14:58:04.798Z"
   },
   {
    "duration": 75,
    "start_time": "2021-12-03T14:58:04.845Z"
   },
   {
    "duration": 132,
    "start_time": "2021-12-03T14:58:04.922Z"
   },
   {
    "duration": 4,
    "start_time": "2021-12-03T14:58:05.056Z"
   },
   {
    "duration": 216989,
    "start_time": "2021-12-03T14:58:05.061Z"
   },
   {
    "duration": 717,
    "start_time": "2021-12-03T15:01:42.051Z"
   },
   {
    "duration": 283,
    "start_time": "2021-12-03T15:01:42.770Z"
   },
   {
    "duration": 477,
    "start_time": "2021-12-03T15:01:43.055Z"
   },
   {
    "duration": -42951,
    "start_time": "2021-12-03T15:02:26.485Z"
   },
   {
    "duration": -42952,
    "start_time": "2021-12-03T15:02:26.487Z"
   },
   {
    "duration": 2811,
    "start_time": "2021-12-03T15:01:52.953Z"
   },
   {
    "duration": 2818,
    "start_time": "2021-12-03T15:02:47.792Z"
   },
   {
    "duration": 1108,
    "start_time": "2021-12-03T15:03:54.410Z"
   },
   {
    "duration": 773,
    "start_time": "2021-12-03T15:03:55.520Z"
   },
   {
    "duration": 146,
    "start_time": "2021-12-03T15:03:56.295Z"
   },
   {
    "duration": 518,
    "start_time": "2021-12-03T15:03:56.443Z"
   },
   {
    "duration": 252,
    "start_time": "2021-12-03T15:03:56.963Z"
   },
   {
    "duration": 89,
    "start_time": "2021-12-03T15:03:57.216Z"
   },
   {
    "duration": 105,
    "start_time": "2021-12-03T15:03:57.307Z"
   },
   {
    "duration": 90,
    "start_time": "2021-12-03T15:03:57.413Z"
   },
   {
    "duration": 21,
    "start_time": "2021-12-03T15:03:57.505Z"
   },
   {
    "duration": 217,
    "start_time": "2021-12-03T15:03:57.528Z"
   },
   {
    "duration": 33,
    "start_time": "2021-12-03T15:03:57.747Z"
   },
   {
    "duration": 37,
    "start_time": "2021-12-03T15:03:57.781Z"
   },
   {
    "duration": 39,
    "start_time": "2021-12-03T15:03:57.820Z"
   },
   {
    "duration": 33,
    "start_time": "2021-12-03T15:03:57.860Z"
   },
   {
    "duration": 51,
    "start_time": "2021-12-03T15:03:57.894Z"
   },
   {
    "duration": 31,
    "start_time": "2021-12-03T15:03:57.947Z"
   },
   {
    "duration": 38,
    "start_time": "2021-12-03T15:03:57.980Z"
   },
   {
    "duration": 64,
    "start_time": "2021-12-03T15:03:58.019Z"
   },
   {
    "duration": 22,
    "start_time": "2021-12-03T15:03:58.085Z"
   },
   {
    "duration": 16,
    "start_time": "2021-12-03T15:03:58.109Z"
   },
   {
    "duration": 172,
    "start_time": "2021-12-03T15:03:58.127Z"
   },
   {
    "duration": 18,
    "start_time": "2021-12-03T15:03:58.300Z"
   },
   {
    "duration": 47,
    "start_time": "2021-12-03T15:03:58.320Z"
   },
   {
    "duration": 49,
    "start_time": "2021-12-03T15:03:58.369Z"
   },
   {
    "duration": 46,
    "start_time": "2021-12-03T15:03:58.420Z"
   },
   {
    "duration": 2,
    "start_time": "2021-12-03T15:03:58.468Z"
   },
   {
    "duration": 16,
    "start_time": "2021-12-03T15:03:58.472Z"
   },
   {
    "duration": 8,
    "start_time": "2021-12-03T15:03:58.490Z"
   },
   {
    "duration": 26,
    "start_time": "2021-12-03T15:03:58.499Z"
   },
   {
    "duration": 30,
    "start_time": "2021-12-03T15:03:58.527Z"
   },
   {
    "duration": 2,
    "start_time": "2021-12-03T15:03:58.559Z"
   },
   {
    "duration": 92,
    "start_time": "2021-12-03T15:03:58.563Z"
   },
   {
    "duration": 123,
    "start_time": "2021-12-03T15:03:58.657Z"
   },
   {
    "duration": 4,
    "start_time": "2021-12-03T15:03:58.782Z"
   },
   {
    "duration": 252666,
    "start_time": "2021-12-03T15:03:58.787Z"
   },
   {
    "duration": 710,
    "start_time": "2021-12-03T15:08:11.455Z"
   },
   {
    "duration": 386,
    "start_time": "2021-12-03T15:08:12.167Z"
   },
   {
    "duration": 571,
    "start_time": "2021-12-03T15:08:12.555Z"
   },
   {
    "duration": -42958,
    "start_time": "2021-12-03T15:08:56.086Z"
   },
   {
    "duration": 164490,
    "start_time": "2021-12-03T15:09:02.534Z"
   },
   {
    "duration": 344189,
    "start_time": "2021-12-03T15:12:12.275Z"
   },
   {
    "duration": 496,
    "start_time": "2021-12-03T15:18:26.267Z"
   },
   {
    "duration": 138,
    "start_time": "2021-12-03T15:18:31.921Z"
   },
   {
    "duration": 1193,
    "start_time": "2021-12-03T15:18:51.857Z"
   },
   {
    "duration": 822,
    "start_time": "2021-12-03T15:18:53.052Z"
   },
   {
    "duration": 150,
    "start_time": "2021-12-03T15:18:53.877Z"
   },
   {
    "duration": 557,
    "start_time": "2021-12-03T15:18:54.029Z"
   },
   {
    "duration": 257,
    "start_time": "2021-12-03T15:18:54.588Z"
   },
   {
    "duration": 85,
    "start_time": "2021-12-03T15:18:54.847Z"
   },
   {
    "duration": 115,
    "start_time": "2021-12-03T15:18:54.934Z"
   },
   {
    "duration": 94,
    "start_time": "2021-12-03T15:18:55.051Z"
   },
   {
    "duration": 22,
    "start_time": "2021-12-03T15:18:55.148Z"
   },
   {
    "duration": 230,
    "start_time": "2021-12-03T15:18:55.172Z"
   },
   {
    "duration": 41,
    "start_time": "2021-12-03T15:18:55.404Z"
   },
   {
    "duration": 35,
    "start_time": "2021-12-03T15:18:55.447Z"
   },
   {
    "duration": 22,
    "start_time": "2021-12-03T15:18:55.484Z"
   },
   {
    "duration": 53,
    "start_time": "2021-12-03T15:18:55.508Z"
   },
   {
    "duration": 36,
    "start_time": "2021-12-03T15:18:55.563Z"
   },
   {
    "duration": 51,
    "start_time": "2021-12-03T15:18:55.600Z"
   },
   {
    "duration": 34,
    "start_time": "2021-12-03T15:18:55.653Z"
   },
   {
    "duration": 64,
    "start_time": "2021-12-03T15:18:55.688Z"
   },
   {
    "duration": 27,
    "start_time": "2021-12-03T15:18:55.754Z"
   },
   {
    "duration": 19,
    "start_time": "2021-12-03T15:18:55.782Z"
   },
   {
    "duration": 166,
    "start_time": "2021-12-03T15:18:55.804Z"
   },
   {
    "duration": 20,
    "start_time": "2021-12-03T15:18:55.971Z"
   },
   {
    "duration": 33,
    "start_time": "2021-12-03T15:18:55.993Z"
   },
   {
    "duration": 65,
    "start_time": "2021-12-03T15:18:56.028Z"
   },
   {
    "duration": 26,
    "start_time": "2021-12-03T15:18:56.095Z"
   },
   {
    "duration": 21,
    "start_time": "2021-12-03T15:18:56.123Z"
   },
   {
    "duration": 19,
    "start_time": "2021-12-03T15:18:56.148Z"
   },
   {
    "duration": 3,
    "start_time": "2021-12-03T15:18:56.169Z"
   },
   {
    "duration": 31,
    "start_time": "2021-12-03T15:18:56.173Z"
   },
   {
    "duration": 44,
    "start_time": "2021-12-03T15:18:56.206Z"
   },
   {
    "duration": 2,
    "start_time": "2021-12-03T15:18:56.254Z"
   },
   {
    "duration": 86,
    "start_time": "2021-12-03T15:18:56.258Z"
   },
   {
    "duration": 129,
    "start_time": "2021-12-03T15:18:56.346Z"
   },
   {
    "duration": 4,
    "start_time": "2021-12-03T15:18:56.476Z"
   },
   {
    "duration": 219262,
    "start_time": "2021-12-03T15:18:56.482Z"
   },
   {
    "duration": 715,
    "start_time": "2021-12-03T15:22:35.746Z"
   },
   {
    "duration": 291,
    "start_time": "2021-12-03T15:22:36.463Z"
   },
   {
    "duration": 367,
    "start_time": "2021-12-03T15:22:36.756Z"
   },
   {
    "duration": -42964,
    "start_time": "2021-12-03T15:23:20.089Z"
   },
   {
    "duration": 5,
    "start_time": "2021-12-03T15:22:54.913Z"
   },
   {
    "duration": 10012,
    "start_time": "2021-12-03T15:22:58.129Z"
   },
   {
    "duration": 411,
    "start_time": "2021-12-03T15:23:12.449Z"
   },
   {
    "duration": 122,
    "start_time": "2021-12-03T15:23:15.240Z"
   },
   {
    "duration": 4,
    "start_time": "2021-12-03T15:23:23.865Z"
   },
   {
    "duration": 4,
    "start_time": "2021-12-03T15:23:28.705Z"
   },
   {
    "duration": 41579,
    "start_time": "2021-12-03T15:23:32.016Z"
   },
   {
    "duration": 588,
    "start_time": "2021-12-03T15:24:16.871Z"
   },
   {
    "duration": 195,
    "start_time": "2021-12-03T15:24:19.654Z"
   },
   {
    "duration": 4,
    "start_time": "2021-12-03T15:24:31.882Z"
   },
   {
    "duration": 12848,
    "start_time": "2021-12-03T15:24:34.254Z"
   },
   {
    "duration": 465,
    "start_time": "2021-12-03T15:24:52.199Z"
   },
   {
    "duration": 127,
    "start_time": "2021-12-03T15:24:55.254Z"
   },
   {
    "duration": 4,
    "start_time": "2021-12-03T15:25:07.817Z"
   },
   {
    "duration": 12248,
    "start_time": "2021-12-03T15:25:11.287Z"
   },
   {
    "duration": 469,
    "start_time": "2021-12-03T15:25:27.090Z"
   },
   {
    "duration": 107,
    "start_time": "2021-12-03T15:25:29.671Z"
   },
   {
    "duration": 4,
    "start_time": "2021-12-03T15:25:38.782Z"
   },
   {
    "duration": 15194,
    "start_time": "2021-12-03T15:25:41.026Z"
   },
   {
    "duration": 462,
    "start_time": "2021-12-03T15:26:01.694Z"
   },
   {
    "duration": 142,
    "start_time": "2021-12-03T15:26:04.447Z"
   },
   {
    "duration": 4,
    "start_time": "2021-12-03T15:26:13.728Z"
   },
   {
    "duration": 18286,
    "start_time": "2021-12-03T15:26:15.918Z"
   },
   {
    "duration": 510,
    "start_time": "2021-12-03T15:26:38.047Z"
   },
   {
    "duration": 162,
    "start_time": "2021-12-03T15:26:42.094Z"
   },
   {
    "duration": 4,
    "start_time": "2021-12-03T15:26:48.103Z"
   },
   {
    "duration": 21834,
    "start_time": "2021-12-03T15:26:50.463Z"
   },
   {
    "duration": 461,
    "start_time": "2021-12-03T15:27:17.605Z"
   },
   {
    "duration": 180,
    "start_time": "2021-12-03T15:27:20.270Z"
   },
   {
    "duration": 4,
    "start_time": "2021-12-03T15:27:29.774Z"
   },
   {
    "duration": 24626,
    "start_time": "2021-12-03T15:27:33.565Z"
   },
   {
    "duration": 488,
    "start_time": "2021-12-03T15:28:37.469Z"
   },
   {
    "duration": 174,
    "start_time": "2021-12-03T15:28:40.676Z"
   },
   {
    "duration": 153077,
    "start_time": "2021-12-03T15:28:53.125Z"
   },
   {
    "duration": 472,
    "start_time": "2021-12-03T15:31:43.995Z"
   },
   {
    "duration": 189,
    "start_time": "2021-12-03T15:31:47.563Z"
   },
   {
    "duration": 1246,
    "start_time": "2021-12-03T15:33:43.601Z"
   },
   {
    "duration": 936,
    "start_time": "2021-12-03T15:33:44.849Z"
   },
   {
    "duration": 158,
    "start_time": "2021-12-03T15:33:45.788Z"
   },
   {
    "duration": 560,
    "start_time": "2021-12-03T15:33:45.949Z"
   },
   {
    "duration": 251,
    "start_time": "2021-12-03T15:33:46.511Z"
   },
   {
    "duration": 94,
    "start_time": "2021-12-03T15:33:46.764Z"
   },
   {
    "duration": 111,
    "start_time": "2021-12-03T15:33:46.860Z"
   },
   {
    "duration": 91,
    "start_time": "2021-12-03T15:33:46.973Z"
   },
   {
    "duration": 21,
    "start_time": "2021-12-03T15:33:47.066Z"
   },
   {
    "duration": 232,
    "start_time": "2021-12-03T15:33:47.088Z"
   },
   {
    "duration": 36,
    "start_time": "2021-12-03T15:33:47.322Z"
   },
   {
    "duration": 36,
    "start_time": "2021-12-03T15:33:47.360Z"
   },
   {
    "duration": 20,
    "start_time": "2021-12-03T15:33:47.398Z"
   },
   {
    "duration": 54,
    "start_time": "2021-12-03T15:33:47.420Z"
   },
   {
    "duration": 37,
    "start_time": "2021-12-03T15:33:47.476Z"
   },
   {
    "duration": 50,
    "start_time": "2021-12-03T15:33:47.515Z"
   },
   {
    "duration": 38,
    "start_time": "2021-12-03T15:33:47.567Z"
   },
   {
    "duration": 65,
    "start_time": "2021-12-03T15:33:47.607Z"
   },
   {
    "duration": 26,
    "start_time": "2021-12-03T15:33:47.674Z"
   },
   {
    "duration": 21,
    "start_time": "2021-12-03T15:33:47.703Z"
   },
   {
    "duration": 185,
    "start_time": "2021-12-03T15:33:47.726Z"
   },
   {
    "duration": 32,
    "start_time": "2021-12-03T15:33:47.912Z"
   },
   {
    "duration": 35,
    "start_time": "2021-12-03T15:33:47.947Z"
   },
   {
    "duration": 72,
    "start_time": "2021-12-03T15:33:47.984Z"
   },
   {
    "duration": 28,
    "start_time": "2021-12-03T15:33:48.058Z"
   },
   {
    "duration": 2,
    "start_time": "2021-12-03T15:33:48.088Z"
   },
   {
    "duration": 20,
    "start_time": "2021-12-03T15:33:48.092Z"
   },
   {
    "duration": 2,
    "start_time": "2021-12-03T15:33:48.114Z"
   },
   {
    "duration": 49,
    "start_time": "2021-12-03T15:33:48.118Z"
   },
   {
    "duration": 16,
    "start_time": "2021-12-03T15:33:48.169Z"
   },
   {
    "duration": 2,
    "start_time": "2021-12-03T15:33:48.187Z"
   },
   {
    "duration": 110,
    "start_time": "2021-12-03T15:33:48.191Z"
   },
   {
    "duration": 138,
    "start_time": "2021-12-03T15:33:48.303Z"
   },
   {
    "duration": 161795,
    "start_time": "2021-12-03T15:33:48.445Z"
   },
   {
    "duration": 4,
    "start_time": "2021-12-03T15:36:30.243Z"
   },
   {
    "duration": 410,
    "start_time": "2021-12-03T15:36:30.249Z"
   },
   {
    "duration": 196,
    "start_time": "2021-12-03T15:36:30.661Z"
   },
   {
    "duration": 363,
    "start_time": "2021-12-03T15:36:30.859Z"
   },
   {
    "duration": -42975,
    "start_time": "2021-12-03T15:37:14.199Z"
   },
   {
    "duration": 4,
    "start_time": "2021-12-03T15:36:44.956Z"
   },
   {
    "duration": 5,
    "start_time": "2021-12-03T15:37:15.596Z"
   },
   {
    "duration": 5,
    "start_time": "2021-12-03T15:37:27.860Z"
   },
   {
    "duration": 249067,
    "start_time": "2021-12-03T15:38:59.862Z"
   },
   {
    "duration": 8,
    "start_time": "2021-12-03T15:43:08.931Z"
   },
   {
    "duration": 543,
    "start_time": "2021-12-03T15:43:17.314Z"
   },
   {
    "duration": 144,
    "start_time": "2021-12-03T15:43:20.520Z"
   },
   {
    "duration": 221,
    "start_time": "2021-12-03T15:47:24.569Z"
   },
   {
    "duration": 66,
    "start_time": "2021-12-03T15:49:41.382Z"
   },
   {
    "duration": 28,
    "start_time": "2021-12-03T15:50:07.000Z"
   },
   {
    "duration": 9939,
    "start_time": "2021-12-03T15:50:09.807Z"
   },
   {
    "duration": 7932,
    "start_time": "2021-12-03T15:52:57.822Z"
   },
   {
    "duration": 827,
    "start_time": "2021-12-03T15:54:21.733Z"
   },
   {
    "duration": 1130,
    "start_time": "2021-12-03T15:58:04.734Z"
   },
   {
    "duration": 778,
    "start_time": "2021-12-03T15:58:05.866Z"
   },
   {
    "duration": 142,
    "start_time": "2021-12-03T15:58:06.646Z"
   },
   {
    "duration": 547,
    "start_time": "2021-12-03T15:58:06.790Z"
   },
   {
    "duration": 252,
    "start_time": "2021-12-03T15:58:07.338Z"
   },
   {
    "duration": 86,
    "start_time": "2021-12-03T15:58:07.591Z"
   },
   {
    "duration": 100,
    "start_time": "2021-12-03T15:58:07.678Z"
   },
   {
    "duration": 87,
    "start_time": "2021-12-03T15:58:07.781Z"
   },
   {
    "duration": 21,
    "start_time": "2021-12-03T15:58:07.870Z"
   },
   {
    "duration": 233,
    "start_time": "2021-12-03T15:58:07.893Z"
   },
   {
    "duration": 39,
    "start_time": "2021-12-03T15:58:08.127Z"
   },
   {
    "duration": 53,
    "start_time": "2021-12-03T15:58:08.167Z"
   },
   {
    "duration": 24,
    "start_time": "2021-12-03T15:58:08.222Z"
   },
   {
    "duration": 36,
    "start_time": "2021-12-03T15:58:08.247Z"
   },
   {
    "duration": 46,
    "start_time": "2021-12-03T15:58:08.285Z"
   },
   {
    "duration": 32,
    "start_time": "2021-12-03T15:58:08.345Z"
   },
   {
    "duration": 36,
    "start_time": "2021-12-03T15:58:08.379Z"
   },
   {
    "duration": 68,
    "start_time": "2021-12-03T15:58:08.417Z"
   },
   {
    "duration": 28,
    "start_time": "2021-12-03T15:58:08.486Z"
   },
   {
    "duration": 33,
    "start_time": "2021-12-03T15:58:08.516Z"
   },
   {
    "duration": 164,
    "start_time": "2021-12-03T15:58:08.551Z"
   },
   {
    "duration": 20,
    "start_time": "2021-12-03T15:58:08.716Z"
   },
   {
    "duration": 36,
    "start_time": "2021-12-03T15:58:08.746Z"
   },
   {
    "duration": 70,
    "start_time": "2021-12-03T15:58:08.784Z"
   },
   {
    "duration": 29,
    "start_time": "2021-12-03T15:58:08.856Z"
   },
   {
    "duration": 2,
    "start_time": "2021-12-03T15:58:08.886Z"
   },
   {
    "duration": 22,
    "start_time": "2021-12-03T15:58:08.890Z"
   },
   {
    "duration": 4,
    "start_time": "2021-12-03T15:58:08.914Z"
   },
   {
    "duration": 46,
    "start_time": "2021-12-03T15:58:08.920Z"
   },
   {
    "duration": 14,
    "start_time": "2021-12-03T15:58:08.967Z"
   },
   {
    "duration": 2,
    "start_time": "2021-12-03T15:58:08.983Z"
   },
   {
    "duration": 104,
    "start_time": "2021-12-03T15:58:08.987Z"
   },
   {
    "duration": 131,
    "start_time": "2021-12-03T15:58:09.092Z"
   },
   {
    "duration": 106,
    "start_time": "2021-12-03T15:58:09.224Z"
   },
   {
    "duration": 245034,
    "start_time": "2021-12-03T15:58:09.332Z"
   },
   {
    "duration": 4,
    "start_time": "2021-12-03T16:02:14.368Z"
   },
   {
    "duration": 281,
    "start_time": "2021-12-03T16:02:14.373Z"
   },
   {
    "duration": 100,
    "start_time": "2021-12-03T16:02:14.656Z"
   },
   {
    "duration": 9,
    "start_time": "2021-12-03T16:02:14.758Z"
   },
   {
    "duration": 7083,
    "start_time": "2021-12-03T16:02:14.769Z"
   },
   {
    "duration": 809,
    "start_time": "2021-12-03T16:02:21.854Z"
   },
   {
    "duration": 343,
    "start_time": "2021-12-03T16:02:22.745Z"
   },
   {
    "duration": -42977,
    "start_time": "2021-12-03T16:03:06.066Z"
   },
   {
    "duration": 10413,
    "start_time": "2021-12-03T16:04:16.636Z"
   },
   {
    "duration": 727,
    "start_time": "2021-12-03T16:04:30.531Z"
   },
   {
    "duration": 7610,
    "start_time": "2021-12-03T16:04:40.435Z"
   },
   {
    "duration": 715,
    "start_time": "2021-12-03T16:04:53.443Z"
   },
   {
    "duration": 18,
    "start_time": "2021-12-03T16:08:31.281Z"
   },
   {
    "duration": 65,
    "start_time": "2021-12-03T16:08:40.201Z"
   },
   {
    "duration": 323,
    "start_time": "2021-12-03T16:10:23.433Z"
   },
   {
    "duration": 648,
    "start_time": "2021-12-03T16:11:23.032Z"
   },
   {
    "duration": 721,
    "start_time": "2021-12-03T16:11:57.760Z"
   },
   {
    "duration": 832,
    "start_time": "2021-12-03T16:12:07.847Z"
   },
   {
    "duration": 819,
    "start_time": "2021-12-03T16:12:19.959Z"
   },
   {
    "duration": 593,
    "start_time": "2021-12-03T16:12:39.464Z"
   },
   {
    "duration": 34,
    "start_time": "2021-12-03T16:12:46.607Z"
   },
   {
    "duration": 84,
    "start_time": "2021-12-03T16:13:08.720Z"
   },
   {
    "duration": 258,
    "start_time": "2021-12-03T16:13:28.854Z"
   },
   {
    "duration": 224,
    "start_time": "2021-12-03T16:13:38.206Z"
   },
   {
    "duration": 15932,
    "start_time": "2021-12-03T16:13:44.526Z"
   },
   {
    "duration": 738,
    "start_time": "2021-12-03T16:15:42.912Z"
   },
   {
    "duration": 124,
    "start_time": "2021-12-03T16:19:29.875Z"
   },
   {
    "duration": 7,
    "start_time": "2021-12-03T16:19:32.486Z"
   },
   {
    "duration": 190,
    "start_time": "2021-12-03T16:21:29.795Z"
   },
   {
    "duration": 727,
    "start_time": "2021-12-03T16:21:43.372Z"
   },
   {
    "duration": 124,
    "start_time": "2021-12-03T16:21:45.892Z"
   },
   {
    "duration": 6,
    "start_time": "2021-12-03T16:21:48.356Z"
   },
   {
    "duration": 245793,
    "start_time": "2021-12-03T16:21:50.955Z"
   },
   {
    "duration": 236,
    "start_time": "2021-12-03T16:26:07.217Z"
   },
   {
    "duration": 66,
    "start_time": "2021-12-03T16:26:09.792Z"
   },
   {
    "duration": 48108,
    "start_time": "2021-12-03T16:26:22.538Z"
   },
   {
    "duration": 494,
    "start_time": "2021-12-03T16:27:16.216Z"
   },
   {
    "duration": 419,
    "start_time": "2021-12-03T16:27:23.407Z"
   },
   {
    "duration": 8150,
    "start_time": "2021-12-03T16:27:38.296Z"
   },
   {
    "duration": 338,
    "start_time": "2021-12-03T16:27:51.207Z"
   },
   {
    "duration": 97,
    "start_time": "2021-12-03T16:27:53.855Z"
   },
   {
    "duration": 42946,
    "start_time": "2021-12-03T16:28:03.400Z"
   },
   {
    "duration": 280,
    "start_time": "2021-12-03T16:28:54.974Z"
   },
   {
    "duration": 146,
    "start_time": "2021-12-03T16:28:57.798Z"
   },
   {
    "duration": 11551,
    "start_time": "2021-12-03T16:29:15.495Z"
   },
   {
    "duration": 330,
    "start_time": "2021-12-03T16:29:31.014Z"
   },
   {
    "duration": 26675,
    "start_time": "2021-12-03T16:29:41.470Z"
   },
   {
    "duration": 305,
    "start_time": "2021-12-03T16:30:12.141Z"
   },
   {
    "duration": 95,
    "start_time": "2021-12-03T16:30:15.558Z"
   },
   {
    "duration": 4574,
    "start_time": "2021-12-03T16:30:26.072Z"
   },
   {
    "duration": 316,
    "start_time": "2021-12-03T16:30:33.437Z"
   },
   {
    "duration": 85,
    "start_time": "2021-12-03T16:30:36.566Z"
   },
   {
    "duration": 1462,
    "start_time": "2021-12-03T18:30:17.477Z"
   },
   {
    "duration": 1258,
    "start_time": "2021-12-03T18:30:18.942Z"
   },
   {
    "duration": 213,
    "start_time": "2021-12-03T18:30:20.203Z"
   },
   {
    "duration": 874,
    "start_time": "2021-12-03T18:30:20.419Z"
   },
   {
    "duration": 359,
    "start_time": "2021-12-03T18:30:21.295Z"
   },
   {
    "duration": 115,
    "start_time": "2021-12-03T18:30:21.656Z"
   },
   {
    "duration": 130,
    "start_time": "2021-12-03T18:30:21.782Z"
   },
   {
    "duration": 134,
    "start_time": "2021-12-03T18:30:21.916Z"
   },
   {
    "duration": 50,
    "start_time": "2021-12-03T18:30:22.053Z"
   },
   {
    "duration": 308,
    "start_time": "2021-12-03T18:30:22.105Z"
   },
   {
    "duration": 44,
    "start_time": "2021-12-03T18:30:22.416Z"
   },
   {
    "duration": 63,
    "start_time": "2021-12-03T18:30:22.463Z"
   },
   {
    "duration": 30,
    "start_time": "2021-12-03T18:30:22.529Z"
   },
   {
    "duration": 60,
    "start_time": "2021-12-03T18:30:22.561Z"
   },
   {
    "duration": 71,
    "start_time": "2021-12-03T18:30:22.623Z"
   },
   {
    "duration": 88,
    "start_time": "2021-12-03T18:30:22.696Z"
   },
   {
    "duration": 74,
    "start_time": "2021-12-03T18:30:22.787Z"
   },
   {
    "duration": 118,
    "start_time": "2021-12-03T18:30:22.864Z"
   },
   {
    "duration": 53,
    "start_time": "2021-12-03T18:30:22.985Z"
   },
   {
    "duration": 61,
    "start_time": "2021-12-03T18:30:23.041Z"
   },
   {
    "duration": 525,
    "start_time": "2021-12-03T18:30:23.105Z"
   },
   {
    "duration": 59,
    "start_time": "2021-12-03T18:30:23.633Z"
   },
   {
    "duration": 82,
    "start_time": "2021-12-03T18:30:23.702Z"
   },
   {
    "duration": 146,
    "start_time": "2021-12-03T18:30:23.788Z"
   },
   {
    "duration": 73,
    "start_time": "2021-12-03T18:30:23.937Z"
   },
   {
    "duration": 4,
    "start_time": "2021-12-03T18:30:24.013Z"
   },
   {
    "duration": 62,
    "start_time": "2021-12-03T18:30:24.020Z"
   },
   {
    "duration": 4,
    "start_time": "2021-12-03T18:30:24.085Z"
   },
   {
    "duration": 65,
    "start_time": "2021-12-03T18:30:24.091Z"
   },
   {
    "duration": 49,
    "start_time": "2021-12-03T18:30:24.159Z"
   },
   {
    "duration": 3,
    "start_time": "2021-12-03T18:30:24.211Z"
   },
   {
    "duration": 217,
    "start_time": "2021-12-03T18:30:24.217Z"
   },
   {
    "duration": 294,
    "start_time": "2021-12-03T18:30:24.437Z"
   },
   {
    "duration": 225,
    "start_time": "2021-12-03T18:30:24.734Z"
   },
   {
    "duration": 3800,
    "start_time": "2021-12-03T18:30:24.962Z"
   },
   {
    "duration": 5,
    "start_time": "2021-12-03T18:30:28.764Z"
   },
   {
    "duration": 294,
    "start_time": "2021-12-03T18:30:28.771Z"
   },
   {
    "duration": -146,
    "start_time": "2021-12-03T18:30:29.214Z"
   },
   {
    "duration": -147,
    "start_time": "2021-12-03T18:30:29.217Z"
   },
   {
    "duration": -147,
    "start_time": "2021-12-03T18:30:29.219Z"
   },
   {
    "duration": -148,
    "start_time": "2021-12-03T18:30:29.222Z"
   },
   {
    "duration": -148,
    "start_time": "2021-12-03T18:30:29.224Z"
   },
   {
    "duration": -148,
    "start_time": "2021-12-03T18:30:29.226Z"
   },
   {
    "duration": -148,
    "start_time": "2021-12-03T18:30:29.228Z"
   },
   {
    "duration": -148,
    "start_time": "2021-12-03T18:30:29.230Z"
   },
   {
    "duration": -188,
    "start_time": "2021-12-03T18:30:29.272Z"
   },
   {
    "duration": -193,
    "start_time": "2021-12-03T18:30:29.279Z"
   },
   {
    "duration": -195,
    "start_time": "2021-12-03T18:30:29.282Z"
   },
   {
    "duration": -195,
    "start_time": "2021-12-03T18:30:29.284Z"
   },
   {
    "duration": -195,
    "start_time": "2021-12-03T18:30:29.286Z"
   },
   {
    "duration": -200,
    "start_time": "2021-12-03T18:30:29.293Z"
   },
   {
    "duration": -202,
    "start_time": "2021-12-03T18:30:29.296Z"
   },
   {
    "duration": -201,
    "start_time": "2021-12-03T18:30:29.298Z"
   },
   {
    "duration": -202,
    "start_time": "2021-12-03T18:30:29.300Z"
   },
   {
    "duration": 1656,
    "start_time": "2021-12-03T18:32:58.144Z"
   },
   {
    "duration": 1265,
    "start_time": "2021-12-03T18:32:59.803Z"
   },
   {
    "duration": 211,
    "start_time": "2021-12-03T18:33:01.071Z"
   },
   {
    "duration": 905,
    "start_time": "2021-12-03T18:33:01.285Z"
   },
   {
    "duration": 383,
    "start_time": "2021-12-03T18:33:02.193Z"
   },
   {
    "duration": 124,
    "start_time": "2021-12-03T18:33:02.581Z"
   },
   {
    "duration": 135,
    "start_time": "2021-12-03T18:33:02.707Z"
   },
   {
    "duration": 144,
    "start_time": "2021-12-03T18:33:02.846Z"
   },
   {
    "duration": 37,
    "start_time": "2021-12-03T18:33:02.993Z"
   },
   {
    "duration": 313,
    "start_time": "2021-12-03T18:33:03.033Z"
   },
   {
    "duration": 53,
    "start_time": "2021-12-03T18:33:03.349Z"
   },
   {
    "duration": 52,
    "start_time": "2021-12-03T18:33:03.404Z"
   },
   {
    "duration": 56,
    "start_time": "2021-12-03T18:33:03.459Z"
   },
   {
    "duration": 73,
    "start_time": "2021-12-03T18:33:03.518Z"
   },
   {
    "duration": 51,
    "start_time": "2021-12-03T18:33:03.594Z"
   },
   {
    "duration": 68,
    "start_time": "2021-12-03T18:33:03.649Z"
   },
   {
    "duration": 77,
    "start_time": "2021-12-03T18:33:03.720Z"
   },
   {
    "duration": 93,
    "start_time": "2021-12-03T18:33:03.800Z"
   },
   {
    "duration": 39,
    "start_time": "2021-12-03T18:33:03.896Z"
   },
   {
    "duration": 54,
    "start_time": "2021-12-03T18:33:03.938Z"
   },
   {
    "duration": 283,
    "start_time": "2021-12-03T18:33:03.995Z"
   },
   {
    "duration": 34,
    "start_time": "2021-12-03T18:33:04.280Z"
   },
   {
    "duration": 82,
    "start_time": "2021-12-03T18:33:04.320Z"
   },
   {
    "duration": 107,
    "start_time": "2021-12-03T18:33:04.405Z"
   },
   {
    "duration": 38,
    "start_time": "2021-12-03T18:33:04.514Z"
   },
   {
    "duration": 3,
    "start_time": "2021-12-03T18:33:04.554Z"
   },
   {
    "duration": 49,
    "start_time": "2021-12-03T18:33:04.560Z"
   },
   {
    "duration": 4,
    "start_time": "2021-12-03T18:33:04.612Z"
   },
   {
    "duration": 75,
    "start_time": "2021-12-03T18:33:04.619Z"
   },
   {
    "duration": 25,
    "start_time": "2021-12-03T18:33:04.697Z"
   },
   {
    "duration": 3,
    "start_time": "2021-12-03T18:33:04.724Z"
   },
   {
    "duration": 199,
    "start_time": "2021-12-03T18:33:04.729Z"
   },
   {
    "duration": 194,
    "start_time": "2021-12-03T18:33:04.930Z"
   },
   {
    "duration": 8066,
    "start_time": "2021-12-03T18:33:05.127Z"
   },
   {
    "duration": 6,
    "start_time": "2021-12-03T18:33:13.196Z"
   },
   {
    "duration": 304,
    "start_time": "2021-12-03T18:33:13.205Z"
   },
   {
    "duration": -86,
    "start_time": "2021-12-03T18:33:13.597Z"
   },
   {
    "duration": -91,
    "start_time": "2021-12-03T18:33:13.603Z"
   },
   {
    "duration": -105,
    "start_time": "2021-12-03T18:33:13.619Z"
   },
   {
    "duration": -113,
    "start_time": "2021-12-03T18:33:13.628Z"
   },
   {
    "duration": -115,
    "start_time": "2021-12-03T18:33:13.631Z"
   },
   {
    "duration": -116,
    "start_time": "2021-12-03T18:33:13.633Z"
   },
   {
    "duration": -117,
    "start_time": "2021-12-03T18:33:13.636Z"
   },
   {
    "duration": -120,
    "start_time": "2021-12-03T18:33:13.640Z"
   },
   {
    "duration": -135,
    "start_time": "2021-12-03T18:33:13.656Z"
   },
   {
    "duration": -137,
    "start_time": "2021-12-03T18:33:13.659Z"
   },
   {
    "duration": -138,
    "start_time": "2021-12-03T18:33:13.661Z"
   },
   {
    "duration": -137,
    "start_time": "2021-12-03T18:33:13.662Z"
   },
   {
    "duration": -139,
    "start_time": "2021-12-03T18:33:13.665Z"
   },
   {
    "duration": -141,
    "start_time": "2021-12-03T18:33:13.668Z"
   },
   {
    "duration": -142,
    "start_time": "2021-12-03T18:33:13.670Z"
   },
   {
    "duration": -148,
    "start_time": "2021-12-03T18:33:13.678Z"
   },
   {
    "duration": -150,
    "start_time": "2021-12-03T18:33:13.681Z"
   },
   {
    "duration": -151,
    "start_time": "2021-12-03T18:33:13.683Z"
   },
   {
    "duration": 1496,
    "start_time": "2021-12-03T18:33:49.750Z"
   },
   {
    "duration": 1134,
    "start_time": "2021-12-03T18:33:51.248Z"
   },
   {
    "duration": 204,
    "start_time": "2021-12-03T18:33:52.385Z"
   },
   {
    "duration": 946,
    "start_time": "2021-12-03T18:33:52.592Z"
   },
   {
    "duration": 369,
    "start_time": "2021-12-03T18:33:53.541Z"
   },
   {
    "duration": 122,
    "start_time": "2021-12-03T18:33:53.912Z"
   },
   {
    "duration": 138,
    "start_time": "2021-12-03T18:33:54.037Z"
   },
   {
    "duration": 142,
    "start_time": "2021-12-03T18:33:54.183Z"
   },
   {
    "duration": 54,
    "start_time": "2021-12-03T18:33:54.329Z"
   },
   {
    "duration": 316,
    "start_time": "2021-12-03T18:33:54.386Z"
   },
   {
    "duration": 46,
    "start_time": "2021-12-03T18:33:54.705Z"
   },
   {
    "duration": 69,
    "start_time": "2021-12-03T18:33:54.754Z"
   },
   {
    "duration": 35,
    "start_time": "2021-12-03T18:33:54.826Z"
   },
   {
    "duration": 66,
    "start_time": "2021-12-03T18:33:54.864Z"
   },
   {
    "duration": 68,
    "start_time": "2021-12-03T18:33:54.933Z"
   },
   {
    "duration": 60,
    "start_time": "2021-12-03T18:33:55.003Z"
   },
   {
    "duration": 79,
    "start_time": "2021-12-03T18:33:55.065Z"
   },
   {
    "duration": 99,
    "start_time": "2021-12-03T18:33:55.147Z"
   },
   {
    "duration": 42,
    "start_time": "2021-12-03T18:33:55.248Z"
   },
   {
    "duration": 32,
    "start_time": "2021-12-03T18:33:55.293Z"
   },
   {
    "duration": 302,
    "start_time": "2021-12-03T18:33:55.328Z"
   },
   {
    "duration": 32,
    "start_time": "2021-12-03T18:33:55.633Z"
   },
   {
    "duration": 61,
    "start_time": "2021-12-03T18:33:55.684Z"
   },
   {
    "duration": 109,
    "start_time": "2021-12-03T18:33:55.748Z"
   },
   {
    "duration": 54,
    "start_time": "2021-12-03T18:33:55.859Z"
   },
   {
    "duration": 2,
    "start_time": "2021-12-03T18:33:55.916Z"
   },
   {
    "duration": 40,
    "start_time": "2021-12-03T18:33:55.920Z"
   },
   {
    "duration": 3,
    "start_time": "2021-12-03T18:33:55.982Z"
   },
   {
    "duration": 44,
    "start_time": "2021-12-03T18:33:55.987Z"
   },
   {
    "duration": 50,
    "start_time": "2021-12-03T18:33:56.033Z"
   },
   {
    "duration": 3,
    "start_time": "2021-12-03T18:33:56.085Z"
   },
   {
    "duration": 179,
    "start_time": "2021-12-03T18:33:56.091Z"
   },
   {
    "duration": 191,
    "start_time": "2021-12-03T18:33:56.273Z"
   },
   {
    "duration": 361024,
    "start_time": "2021-12-03T18:33:56.466Z"
   },
   {
    "duration": 5,
    "start_time": "2021-12-03T18:39:57.492Z"
   },
   {
    "duration": 690,
    "start_time": "2021-12-03T18:39:57.500Z"
   },
   {
    "duration": 209,
    "start_time": "2021-12-03T18:39:58.192Z"
   },
   {
    "duration": 13,
    "start_time": "2021-12-03T18:39:58.403Z"
   },
   {
    "duration": 147,
    "start_time": "2021-12-03T18:39:58.482Z"
   },
   {
    "duration": 321951,
    "start_time": "2021-12-03T18:39:58.632Z"
   },
   {
    "duration": 1232,
    "start_time": "2021-12-03T18:45:20.586Z"
   },
   {
    "duration": 63,
    "start_time": "2021-12-03T18:45:21.820Z"
   },
   {
    "duration": 1134,
    "start_time": "2021-12-03T18:45:21.886Z"
   },
   {
    "duration": 1160,
    "start_time": "2021-12-03T18:45:23.022Z"
   },
   {
    "duration": 180,
    "start_time": "2021-12-03T18:45:24.184Z"
   },
   {
    "duration": 8,
    "start_time": "2021-12-03T18:45:24.366Z"
   },
   {
    "duration": 150407,
    "start_time": "2021-12-03T18:45:24.376Z"
   },
   {
    "duration": 502,
    "start_time": "2021-12-03T18:47:54.786Z"
   },
   {
    "duration": 192,
    "start_time": "2021-12-03T18:47:55.292Z"
   },
   {
    "duration": 724149,
    "start_time": "2021-12-03T18:47:55.487Z"
   },
   {
    "duration": 16300,
    "start_time": "2021-12-03T18:59:59.639Z"
   },
   {
    "duration": 5099,
    "start_time": "2021-12-03T19:00:15.942Z"
   },
   {
    "duration": 1448,
    "start_time": "2021-12-03T19:00:21.044Z"
   },
   {
    "duration": -373,
    "start_time": "2021-12-03T19:00:22.868Z"
   },
   {
    "duration": 26397,
    "start_time": "2021-12-03T19:04:37.521Z"
   },
   {
    "duration": 633,
    "start_time": "2021-12-03T19:05:22.906Z"
   },
   {
    "duration": 65178,
    "start_time": "2021-12-03T19:05:41.846Z"
   },
   {
    "duration": 2311,
    "start_time": "2021-12-03T19:10:00.990Z"
   },
   {
    "duration": 781,
    "start_time": "2021-12-03T19:10:05.850Z"
   },
   {
    "duration": 648,
    "start_time": "2021-12-03T19:12:37.339Z"
   },
   {
    "duration": 131091,
    "start_time": "2021-12-03T19:12:55.013Z"
   },
   {
    "duration": 3181,
    "start_time": "2021-12-03T19:15:50.232Z"
   },
   {
    "duration": 1098,
    "start_time": "2021-12-03T19:15:55.709Z"
   },
   {
    "duration": 131015,
    "start_time": "2021-12-03T19:16:32.101Z"
   },
   {
    "duration": 3183,
    "start_time": "2021-12-03T19:19:34.393Z"
   },
   {
    "duration": 1106,
    "start_time": "2021-12-03T19:19:39.967Z"
   },
   {
    "duration": 1531,
    "start_time": "2021-12-03T19:19:48.658Z"
   },
   {
    "duration": 1141,
    "start_time": "2021-12-03T19:19:50.191Z"
   },
   {
    "duration": 206,
    "start_time": "2021-12-03T19:19:51.335Z"
   },
   {
    "duration": 817,
    "start_time": "2021-12-03T19:19:51.545Z"
   },
   {
    "duration": 363,
    "start_time": "2021-12-03T19:19:52.365Z"
   },
   {
    "duration": 119,
    "start_time": "2021-12-03T19:19:52.731Z"
   },
   {
    "duration": 143,
    "start_time": "2021-12-03T19:19:52.852Z"
   },
   {
    "duration": 131,
    "start_time": "2021-12-03T19:19:52.998Z"
   },
   {
    "duration": 36,
    "start_time": "2021-12-03T19:19:53.132Z"
   },
   {
    "duration": 308,
    "start_time": "2021-12-03T19:19:53.182Z"
   },
   {
    "duration": 47,
    "start_time": "2021-12-03T19:19:53.493Z"
   },
   {
    "duration": 75,
    "start_time": "2021-12-03T19:19:53.542Z"
   },
   {
    "duration": 42,
    "start_time": "2021-12-03T19:19:53.619Z"
   },
   {
    "duration": 91,
    "start_time": "2021-12-03T19:19:53.664Z"
   },
   {
    "duration": 59,
    "start_time": "2021-12-03T19:19:53.758Z"
   },
   {
    "duration": 64,
    "start_time": "2021-12-03T19:19:53.819Z"
   },
   {
    "duration": 62,
    "start_time": "2021-12-03T19:19:53.886Z"
   },
   {
    "duration": 124,
    "start_time": "2021-12-03T19:19:53.951Z"
   },
   {
    "duration": 42,
    "start_time": "2021-12-03T19:19:54.077Z"
   },
   {
    "duration": 32,
    "start_time": "2021-12-03T19:19:54.122Z"
   },
   {
    "duration": 298,
    "start_time": "2021-12-03T19:19:54.157Z"
   },
   {
    "duration": 45,
    "start_time": "2021-12-03T19:19:54.458Z"
   },
   {
    "duration": 82,
    "start_time": "2021-12-03T19:19:54.511Z"
   },
   {
    "duration": 102,
    "start_time": "2021-12-03T19:19:54.596Z"
   },
   {
    "duration": 38,
    "start_time": "2021-12-03T19:19:54.701Z"
   },
   {
    "duration": 3,
    "start_time": "2021-12-03T19:19:54.741Z"
   },
   {
    "duration": 54,
    "start_time": "2021-12-03T19:19:54.747Z"
   },
   {
    "duration": 3,
    "start_time": "2021-12-03T19:19:54.804Z"
   },
   {
    "duration": 40,
    "start_time": "2021-12-03T19:19:54.810Z"
   },
   {
    "duration": 52,
    "start_time": "2021-12-03T19:19:54.853Z"
   },
   {
    "duration": 4,
    "start_time": "2021-12-03T19:19:54.907Z"
   },
   {
    "duration": 192,
    "start_time": "2021-12-03T19:19:54.914Z"
   },
   {
    "duration": 200,
    "start_time": "2021-12-03T19:19:55.109Z"
   },
   {
    "duration": 158,
    "start_time": "2021-12-03T19:19:55.312Z"
   },
   {
    "duration": 364110,
    "start_time": "2021-12-03T19:19:55.473Z"
   },
   {
    "duration": 4,
    "start_time": "2021-12-03T19:25:59.586Z"
   },
   {
    "duration": 404,
    "start_time": "2021-12-03T19:25:59.592Z"
   },
   {
    "duration": 111,
    "start_time": "2021-12-03T19:25:59.999Z"
   },
   {
    "duration": 76,
    "start_time": "2021-12-03T19:26:00.113Z"
   },
   {
    "duration": 1574,
    "start_time": "2021-12-03T19:28:01.881Z"
   },
   {
    "duration": 1224,
    "start_time": "2021-12-03T19:28:03.458Z"
   },
   {
    "duration": 204,
    "start_time": "2021-12-03T19:28:04.685Z"
   },
   {
    "duration": 846,
    "start_time": "2021-12-03T19:28:04.892Z"
   },
   {
    "duration": 469,
    "start_time": "2021-12-03T19:28:05.741Z"
   },
   {
    "duration": 27,
    "start_time": "2021-12-03T19:28:06.212Z"
   },
   {
    "duration": 143,
    "start_time": "2021-12-03T19:28:06.241Z"
   },
   {
    "duration": 130,
    "start_time": "2021-12-03T19:28:06.386Z"
   },
   {
    "duration": 11,
    "start_time": "2021-12-03T19:28:06.520Z"
   },
   {
    "duration": 431,
    "start_time": "2021-12-03T19:28:06.535Z"
   },
   {
    "duration": -145,
    "start_time": "2021-12-03T19:28:07.116Z"
   },
   {
    "duration": -144,
    "start_time": "2021-12-03T19:28:07.117Z"
   },
   {
    "duration": -144,
    "start_time": "2021-12-03T19:28:07.119Z"
   },
   {
    "duration": -153,
    "start_time": "2021-12-03T19:28:07.130Z"
   },
   {
    "duration": -155,
    "start_time": "2021-12-03T19:28:07.134Z"
   },
   {
    "duration": -155,
    "start_time": "2021-12-03T19:28:07.136Z"
   },
   {
    "duration": -167,
    "start_time": "2021-12-03T19:28:07.149Z"
   },
   {
    "duration": -168,
    "start_time": "2021-12-03T19:28:07.152Z"
   },
   {
    "duration": -179,
    "start_time": "2021-12-03T19:28:07.165Z"
   },
   {
    "duration": -182,
    "start_time": "2021-12-03T19:28:07.170Z"
   },
   {
    "duration": -193,
    "start_time": "2021-12-03T19:28:07.183Z"
   },
   {
    "duration": -194,
    "start_time": "2021-12-03T19:28:07.186Z"
   },
   {
    "duration": -195,
    "start_time": "2021-12-03T19:28:07.189Z"
   },
   {
    "duration": -211,
    "start_time": "2021-12-03T19:28:07.207Z"
   },
   {
    "duration": -223,
    "start_time": "2021-12-03T19:28:07.221Z"
   },
   {
    "duration": -240,
    "start_time": "2021-12-03T19:28:07.240Z"
   },
   {
    "duration": -256,
    "start_time": "2021-12-03T19:28:07.258Z"
   },
   {
    "duration": -270,
    "start_time": "2021-12-03T19:28:07.274Z"
   },
   {
    "duration": -271,
    "start_time": "2021-12-03T19:28:07.277Z"
   },
   {
    "duration": -271,
    "start_time": "2021-12-03T19:28:07.279Z"
   },
   {
    "duration": -270,
    "start_time": "2021-12-03T19:28:07.280Z"
   },
   {
    "duration": -270,
    "start_time": "2021-12-03T19:28:07.282Z"
   },
   {
    "duration": -269,
    "start_time": "2021-12-03T19:28:07.283Z"
   },
   {
    "duration": -269,
    "start_time": "2021-12-03T19:28:07.285Z"
   },
   {
    "duration": -270,
    "start_time": "2021-12-03T19:28:07.288Z"
   },
   {
    "duration": -270,
    "start_time": "2021-12-03T19:28:07.290Z"
   },
   {
    "duration": -270,
    "start_time": "2021-12-03T19:28:07.292Z"
   },
   {
    "duration": -271,
    "start_time": "2021-12-03T19:28:07.294Z"
   },
   {
    "duration": -215,
    "start_time": "2021-12-03T19:28:07.296Z"
   },
   {
    "duration": -215,
    "start_time": "2021-12-03T19:28:07.298Z"
   },
   {
    "duration": -214,
    "start_time": "2021-12-03T19:28:07.299Z"
   },
   {
    "duration": -214,
    "start_time": "2021-12-03T19:28:07.301Z"
   },
   {
    "duration": -212,
    "start_time": "2021-12-03T19:28:07.302Z"
   },
   {
    "duration": -212,
    "start_time": "2021-12-03T19:28:07.304Z"
   },
   {
    "duration": -213,
    "start_time": "2021-12-03T19:28:07.307Z"
   },
   {
    "duration": -213,
    "start_time": "2021-12-03T19:28:07.308Z"
   },
   {
    "duration": -212,
    "start_time": "2021-12-03T19:28:07.310Z"
   },
   {
    "duration": -213,
    "start_time": "2021-12-03T19:28:07.312Z"
   },
   {
    "duration": -212,
    "start_time": "2021-12-03T19:28:07.314Z"
   },
   {
    "duration": 1942,
    "start_time": "2021-12-03T19:30:01.593Z"
   },
   {
    "duration": 1602,
    "start_time": "2021-12-03T19:30:03.538Z"
   },
   {
    "duration": 327,
    "start_time": "2021-12-03T19:30:05.144Z"
   },
   {
    "duration": 1071,
    "start_time": "2021-12-03T19:30:05.482Z"
   },
   {
    "duration": 836,
    "start_time": "2021-12-03T19:30:06.557Z"
   },
   {
    "duration": 711,
    "start_time": "2021-12-03T19:30:07.396Z"
   },
   {
    "duration": 33,
    "start_time": "2021-12-03T19:30:08.110Z"
   },
   {
    "duration": 146,
    "start_time": "2021-12-03T19:30:08.146Z"
   },
   {
    "duration": 130,
    "start_time": "2021-12-03T19:30:08.295Z"
   },
   {
    "duration": 10,
    "start_time": "2021-12-03T19:30:08.427Z"
   },
   {
    "duration": 12,
    "start_time": "2021-12-03T19:30:08.439Z"
   },
   {
    "duration": 36,
    "start_time": "2021-12-03T19:30:08.454Z"
   },
   {
    "duration": 14,
    "start_time": "2021-12-03T19:30:08.492Z"
   },
   {
    "duration": 10,
    "start_time": "2021-12-03T19:30:08.508Z"
   },
   {
    "duration": 10,
    "start_time": "2021-12-03T19:30:08.521Z"
   },
   {
    "duration": 52,
    "start_time": "2021-12-03T19:30:08.533Z"
   },
   {
    "duration": 32,
    "start_time": "2021-12-03T19:30:08.588Z"
   },
   {
    "duration": 60,
    "start_time": "2021-12-03T19:30:08.622Z"
   },
   {
    "duration": 51,
    "start_time": "2021-12-03T19:30:08.685Z"
   },
   {
    "duration": 71,
    "start_time": "2021-12-03T19:30:08.739Z"
   },
   {
    "duration": 264,
    "start_time": "2021-12-03T19:30:08.813Z"
   },
   {
    "duration": 44,
    "start_time": "2021-12-03T19:30:09.079Z"
   },
   {
    "duration": 28,
    "start_time": "2021-12-03T19:30:09.128Z"
   },
   {
    "duration": 112,
    "start_time": "2021-12-03T19:30:09.159Z"
   },
   {
    "duration": 40,
    "start_time": "2021-12-03T19:30:09.281Z"
   },
   {
    "duration": 3,
    "start_time": "2021-12-03T19:30:09.323Z"
   },
   {
    "duration": 66,
    "start_time": "2021-12-03T19:30:09.328Z"
   },
   {
    "duration": 3,
    "start_time": "2021-12-03T19:30:09.397Z"
   },
   {
    "duration": 41,
    "start_time": "2021-12-03T19:30:09.402Z"
   },
   {
    "duration": 10,
    "start_time": "2021-12-03T19:30:09.447Z"
   },
   {
    "duration": 3,
    "start_time": "2021-12-03T19:30:09.483Z"
   },
   {
    "duration": 64,
    "start_time": "2021-12-03T19:30:09.489Z"
   },
   {
    "duration": 208,
    "start_time": "2021-12-03T19:30:09.556Z"
   },
   {
    "duration": 363574,
    "start_time": "2021-12-03T19:30:09.766Z"
   },
   {
    "duration": 6,
    "start_time": "2021-12-03T19:36:13.343Z"
   },
   {
    "duration": 374,
    "start_time": "2021-12-03T19:36:13.352Z"
   },
   {
    "duration": 262,
    "start_time": "2021-12-03T19:36:13.729Z"
   },
   {
    "duration": 12,
    "start_time": "2021-12-03T19:36:13.993Z"
   },
   {
    "duration": 317587,
    "start_time": "2021-12-03T19:36:14.008Z"
   },
   {
    "duration": 1385,
    "start_time": "2021-12-03T19:41:31.597Z"
   },
   {
    "duration": 3,
    "start_time": "2021-12-03T19:41:32.985Z"
   },
   {
    "duration": 1200,
    "start_time": "2021-12-03T19:41:32.991Z"
   },
   {
    "duration": 1165,
    "start_time": "2021-12-03T19:41:34.193Z"
   },
   {
    "duration": 184,
    "start_time": "2021-12-03T19:41:35.361Z"
   },
   {
    "duration": 153808,
    "start_time": "2021-12-03T19:41:35.547Z"
   },
   {
    "duration": 3192,
    "start_time": "2021-12-03T19:44:09.357Z"
   },
   {
    "duration": 1132,
    "start_time": "2021-12-03T19:44:12.551Z"
   },
   {
    "duration": 414,
    "start_time": "2021-12-03T19:44:13.685Z"
   },
   {
    "duration": -80,
    "start_time": "2021-12-03T19:44:14.182Z"
   },
   {
    "duration": 1461,
    "start_time": "2021-12-03T19:56:16.925Z"
   },
   {
    "duration": 1127,
    "start_time": "2021-12-03T19:56:18.389Z"
   },
   {
    "duration": 214,
    "start_time": "2021-12-03T19:56:19.519Z"
   },
   {
    "duration": 801,
    "start_time": "2021-12-03T19:56:19.736Z"
   },
   {
    "duration": 558,
    "start_time": "2021-12-03T19:56:20.540Z"
   },
   {
    "duration": 403,
    "start_time": "2021-12-03T19:56:21.100Z"
   },
   {
    "duration": 24,
    "start_time": "2021-12-03T19:56:21.506Z"
   },
   {
    "duration": 148,
    "start_time": "2021-12-03T19:56:21.534Z"
   },
   {
    "duration": 137,
    "start_time": "2021-12-03T19:56:21.685Z"
   },
   {
    "duration": 13,
    "start_time": "2021-12-03T19:56:21.825Z"
   },
   {
    "duration": 22,
    "start_time": "2021-12-03T19:56:21.841Z"
   },
   {
    "duration": 14,
    "start_time": "2021-12-03T19:56:21.881Z"
   },
   {
    "duration": 13,
    "start_time": "2021-12-03T19:56:21.898Z"
   },
   {
    "duration": 11,
    "start_time": "2021-12-03T19:56:21.914Z"
   },
   {
    "duration": 11,
    "start_time": "2021-12-03T19:56:21.927Z"
   },
   {
    "duration": 10,
    "start_time": "2021-12-03T19:56:21.983Z"
   },
   {
    "duration": 30,
    "start_time": "2021-12-03T19:56:21.996Z"
   },
   {
    "duration": 64,
    "start_time": "2021-12-03T19:56:22.029Z"
   },
   {
    "duration": 52,
    "start_time": "2021-12-03T19:56:22.096Z"
   },
   {
    "duration": 67,
    "start_time": "2021-12-03T19:56:22.151Z"
   },
   {
    "duration": 274,
    "start_time": "2021-12-03T19:56:22.222Z"
   },
   {
    "duration": 48,
    "start_time": "2021-12-03T19:56:22.498Z"
   },
   {
    "duration": 56,
    "start_time": "2021-12-03T19:56:22.553Z"
   },
   {
    "duration": 113,
    "start_time": "2021-12-03T19:56:22.612Z"
   },
   {
    "duration": 53,
    "start_time": "2021-12-03T19:56:22.728Z"
   },
   {
    "duration": 3,
    "start_time": "2021-12-03T19:56:22.784Z"
   },
   {
    "duration": 48,
    "start_time": "2021-12-03T19:56:22.789Z"
   },
   {
    "duration": 3,
    "start_time": "2021-12-03T19:56:22.839Z"
   },
   {
    "duration": 62,
    "start_time": "2021-12-03T19:56:22.845Z"
   },
   {
    "duration": 10,
    "start_time": "2021-12-03T19:56:22.910Z"
   },
   {
    "duration": 5,
    "start_time": "2021-12-03T19:56:22.922Z"
   },
   {
    "duration": 117,
    "start_time": "2021-12-03T19:56:22.930Z"
   },
   {
    "duration": 360546,
    "start_time": "2021-12-03T19:56:23.050Z"
   },
   {
    "duration": 5,
    "start_time": "2021-12-03T20:02:23.598Z"
   },
   {
    "duration": 617,
    "start_time": "2021-12-03T20:02:23.605Z"
   },
   {
    "duration": 269,
    "start_time": "2021-12-03T20:02:24.225Z"
   },
   {
    "duration": 230901,
    "start_time": "2021-12-03T20:02:24.497Z"
   },
   {
    "duration": 1239,
    "start_time": "2021-12-03T20:06:15.400Z"
   },
   {
    "duration": 3,
    "start_time": "2021-12-03T20:06:16.641Z"
   },
   {
    "duration": 1166,
    "start_time": "2021-12-03T20:06:16.647Z"
   },
   {
    "duration": 1208,
    "start_time": "2021-12-03T20:06:17.816Z"
   },
   {
    "duration": 139852,
    "start_time": "2021-12-03T20:06:19.026Z"
   },
   {
    "duration": 3231,
    "start_time": "2021-12-03T20:08:38.882Z"
   },
   {
    "duration": 1121,
    "start_time": "2021-12-03T20:08:42.116Z"
   },
   {
    "duration": 407,
    "start_time": "2021-12-03T20:08:43.240Z"
   },
   {
    "duration": -198,
    "start_time": "2021-12-03T20:08:43.848Z"
   },
   {
    "duration": 405,
    "start_time": "2021-12-03T20:18:01.565Z"
   },
   {
    "duration": 1494,
    "start_time": "2021-12-03T20:18:18.488Z"
   },
   {
    "duration": 1172,
    "start_time": "2021-12-03T20:18:19.985Z"
   },
   {
    "duration": 210,
    "start_time": "2021-12-03T20:18:21.160Z"
   },
   {
    "duration": 1739,
    "start_time": "2021-12-03T20:18:21.373Z"
   },
   {
    "duration": 138,
    "start_time": "2021-12-03T20:18:23.116Z"
   },
   {
    "duration": 126,
    "start_time": "2021-12-03T20:18:23.257Z"
   },
   {
    "duration": 10,
    "start_time": "2021-12-03T20:18:23.385Z"
   },
   {
    "duration": 16,
    "start_time": "2021-12-03T20:18:23.398Z"
   },
   {
    "duration": 13,
    "start_time": "2021-12-03T20:18:23.418Z"
   },
   {
    "duration": 50,
    "start_time": "2021-12-03T20:18:23.434Z"
   },
   {
    "duration": 10,
    "start_time": "2021-12-03T20:18:23.486Z"
   },
   {
    "duration": 11,
    "start_time": "2021-12-03T20:18:23.499Z"
   },
   {
    "duration": 10,
    "start_time": "2021-12-03T20:18:23.512Z"
   },
   {
    "duration": 82,
    "start_time": "2021-12-03T20:18:23.525Z"
   },
   {
    "duration": 33,
    "start_time": "2021-12-03T20:18:23.610Z"
   },
   {
    "duration": 67,
    "start_time": "2021-12-03T20:18:23.645Z"
   },
   {
    "duration": 44,
    "start_time": "2021-12-03T20:18:23.714Z"
   },
   {
    "duration": 293,
    "start_time": "2021-12-03T20:18:23.760Z"
   },
   {
    "duration": 57,
    "start_time": "2021-12-03T20:18:24.055Z"
   },
   {
    "duration": 29,
    "start_time": "2021-12-03T20:18:24.114Z"
   },
   {
    "duration": 102,
    "start_time": "2021-12-03T20:18:24.146Z"
   },
   {
    "duration": 59,
    "start_time": "2021-12-03T20:18:24.250Z"
   },
   {
    "duration": 10,
    "start_time": "2021-12-03T20:18:24.312Z"
   },
   {
    "duration": 89,
    "start_time": "2021-12-03T20:18:24.325Z"
   },
   {
    "duration": 356600,
    "start_time": "2021-12-03T20:18:24.416Z"
   },
   {
    "duration": 5,
    "start_time": "2021-12-03T20:24:21.018Z"
   },
   {
    "duration": 377,
    "start_time": "2021-12-03T20:24:21.031Z"
   },
   {
    "duration": 173,
    "start_time": "2021-12-03T20:24:21.411Z"
   },
   {
    "duration": 246805,
    "start_time": "2021-12-03T20:24:21.586Z"
   },
   {
    "duration": 1190,
    "start_time": "2021-12-03T20:28:28.393Z"
   },
   {
    "duration": 4,
    "start_time": "2021-12-03T20:28:29.586Z"
   },
   {
    "duration": 1054,
    "start_time": "2021-12-03T20:28:29.593Z"
   },
   {
    "duration": 1768,
    "start_time": "2021-12-03T20:28:30.650Z"
   },
   {
    "duration": 134072,
    "start_time": "2021-12-03T20:28:32.422Z"
   },
   {
    "duration": 3225,
    "start_time": "2021-12-03T20:30:46.496Z"
   },
   {
    "duration": 1364,
    "start_time": "2021-12-03T20:30:49.724Z"
   },
   {
    "duration": 7,
    "start_time": "2021-12-03T20:30:51.091Z"
   },
   {
    "duration": 105,
    "start_time": "2021-12-03T20:30:51.100Z"
   },
   {
    "duration": 525,
    "start_time": "2021-12-03T20:32:27.283Z"
   },
   {
    "duration": 1108,
    "start_time": "2021-12-03T20:32:46.298Z"
   },
   {
    "duration": 362,
    "start_time": "2021-12-03T20:35:28.154Z"
   },
   {
    "duration": 68,
    "start_time": "2021-12-03T20:35:33.450Z"
   },
   {
    "duration": 1405,
    "start_time": "2021-12-03T20:52:47.583Z"
   },
   {
    "duration": 1114,
    "start_time": "2021-12-03T20:52:48.990Z"
   },
   {
    "duration": 209,
    "start_time": "2021-12-03T20:52:50.107Z"
   },
   {
    "duration": 1779,
    "start_time": "2021-12-03T20:52:50.320Z"
   },
   {
    "duration": 137,
    "start_time": "2021-12-03T20:52:52.101Z"
   },
   {
    "duration": 12,
    "start_time": "2021-12-03T20:52:52.240Z"
   },
   {
    "duration": 32,
    "start_time": "2021-12-03T20:52:52.255Z"
   },
   {
    "duration": 14,
    "start_time": "2021-12-03T20:52:52.289Z"
   },
   {
    "duration": 13,
    "start_time": "2021-12-03T20:52:52.307Z"
   },
   {
    "duration": 10,
    "start_time": "2021-12-03T20:52:52.323Z"
   },
   {
    "duration": 47,
    "start_time": "2021-12-03T20:52:52.336Z"
   },
   {
    "duration": 11,
    "start_time": "2021-12-03T20:52:52.386Z"
   },
   {
    "duration": 36,
    "start_time": "2021-12-03T20:52:52.399Z"
   },
   {
    "duration": 67,
    "start_time": "2021-12-03T20:52:52.437Z"
   },
   {
    "duration": 376,
    "start_time": "2021-12-03T20:52:52.506Z"
   },
   {
    "duration": 36,
    "start_time": "2021-12-03T20:52:52.884Z"
   },
   {
    "duration": 99,
    "start_time": "2021-12-03T20:52:52.923Z"
   },
   {
    "duration": 9,
    "start_time": "2021-12-03T20:52:53.024Z"
   },
   {
    "duration": 83,
    "start_time": "2021-12-03T20:52:53.036Z"
   },
   {
    "duration": 5,
    "start_time": "2021-12-03T20:52:53.121Z"
   },
   {
    "duration": -52,
    "start_time": "2021-12-03T20:52:53.181Z"
   },
   {
    "duration": -70,
    "start_time": "2021-12-03T20:52:53.200Z"
   },
   {
    "duration": -70,
    "start_time": "2021-12-03T20:52:53.202Z"
   },
   {
    "duration": -71,
    "start_time": "2021-12-03T20:52:53.204Z"
   },
   {
    "duration": -71,
    "start_time": "2021-12-03T20:52:53.206Z"
   },
   {
    "duration": -71,
    "start_time": "2021-12-03T20:52:53.208Z"
   },
   {
    "duration": -72,
    "start_time": "2021-12-03T20:52:53.210Z"
   },
   {
    "duration": -72,
    "start_time": "2021-12-03T20:52:53.211Z"
   },
   {
    "duration": -71,
    "start_time": "2021-12-03T20:52:53.212Z"
   },
   {
    "duration": -93,
    "start_time": "2021-12-03T20:52:53.235Z"
   },
   {
    "duration": -94,
    "start_time": "2021-12-03T20:52:53.237Z"
   },
   {
    "duration": -94,
    "start_time": "2021-12-03T20:52:53.239Z"
   },
   {
    "duration": 5,
    "start_time": "2021-12-03T20:56:02.025Z"
   },
   {
    "duration": 1137,
    "start_time": "2021-12-03T20:57:06.890Z"
   },
   {
    "duration": 1484,
    "start_time": "2021-12-03T20:57:29.207Z"
   },
   {
    "duration": 1408,
    "start_time": "2021-12-03T20:57:30.694Z"
   },
   {
    "duration": 284,
    "start_time": "2021-12-03T20:57:32.105Z"
   },
   {
    "duration": 1733,
    "start_time": "2021-12-03T20:57:32.391Z"
   },
   {
    "duration": -264,
    "start_time": "2021-12-03T20:57:34.392Z"
   },
   {
    "duration": -266,
    "start_time": "2021-12-03T20:57:34.395Z"
   },
   {
    "duration": -267,
    "start_time": "2021-12-03T20:57:34.398Z"
   },
   {
    "duration": -332,
    "start_time": "2021-12-03T20:57:34.464Z"
   },
   {
    "duration": -334,
    "start_time": "2021-12-03T20:57:34.467Z"
   },
   {
    "duration": -333,
    "start_time": "2021-12-03T20:57:34.468Z"
   },
   {
    "duration": -333,
    "start_time": "2021-12-03T20:57:34.470Z"
   },
   {
    "duration": -337,
    "start_time": "2021-12-03T20:57:34.475Z"
   },
   {
    "duration": -338,
    "start_time": "2021-12-03T20:57:34.477Z"
   },
   {
    "duration": -339,
    "start_time": "2021-12-03T20:57:34.479Z"
   },
   {
    "duration": -340,
    "start_time": "2021-12-03T20:57:34.481Z"
   },
   {
    "duration": -339,
    "start_time": "2021-12-03T20:57:34.482Z"
   },
   {
    "duration": -340,
    "start_time": "2021-12-03T20:57:34.484Z"
   },
   {
    "duration": -341,
    "start_time": "2021-12-03T20:57:34.486Z"
   },
   {
    "duration": -342,
    "start_time": "2021-12-03T20:57:34.488Z"
   },
   {
    "duration": -342,
    "start_time": "2021-12-03T20:57:34.489Z"
   },
   {
    "duration": -342,
    "start_time": "2021-12-03T20:57:34.491Z"
   },
   {
    "duration": -342,
    "start_time": "2021-12-03T20:57:34.492Z"
   },
   {
    "duration": -343,
    "start_time": "2021-12-03T20:57:34.494Z"
   },
   {
    "duration": -344,
    "start_time": "2021-12-03T20:57:34.496Z"
   },
   {
    "duration": -343,
    "start_time": "2021-12-03T20:57:34.497Z"
   },
   {
    "duration": -344,
    "start_time": "2021-12-03T20:57:34.499Z"
   },
   {
    "duration": -344,
    "start_time": "2021-12-03T20:57:34.500Z"
   },
   {
    "duration": -399,
    "start_time": "2021-12-03T20:57:34.556Z"
   },
   {
    "duration": -401,
    "start_time": "2021-12-03T20:57:34.559Z"
   },
   {
    "duration": -401,
    "start_time": "2021-12-03T20:57:34.561Z"
   },
   {
    "duration": -401,
    "start_time": "2021-12-03T20:57:34.562Z"
   },
   {
    "duration": -402,
    "start_time": "2021-12-03T20:57:34.564Z"
   },
   {
    "duration": -402,
    "start_time": "2021-12-03T20:57:34.565Z"
   },
   {
    "duration": 1965,
    "start_time": "2021-12-03T20:57:47.297Z"
   },
   {
    "duration": 1366,
    "start_time": "2021-12-03T20:59:33.123Z"
   },
   {
    "duration": 1247,
    "start_time": "2021-12-03T20:59:34.492Z"
   },
   {
    "duration": 208,
    "start_time": "2021-12-03T20:59:35.742Z"
   },
   {
    "duration": 1827,
    "start_time": "2021-12-03T20:59:35.952Z"
   },
   {
    "duration": 519,
    "start_time": "2021-12-03T20:59:37.783Z"
   },
   {
    "duration": -194,
    "start_time": "2021-12-03T20:59:38.501Z"
   },
   {
    "duration": -194,
    "start_time": "2021-12-03T20:59:38.503Z"
   },
   {
    "duration": -194,
    "start_time": "2021-12-03T20:59:38.505Z"
   },
   {
    "duration": -261,
    "start_time": "2021-12-03T20:59:38.574Z"
   },
   {
    "duration": -262,
    "start_time": "2021-12-03T20:59:38.577Z"
   },
   {
    "duration": -261,
    "start_time": "2021-12-03T20:59:38.578Z"
   },
   {
    "duration": -264,
    "start_time": "2021-12-03T20:59:38.583Z"
   },
   {
    "duration": -264,
    "start_time": "2021-12-03T20:59:38.585Z"
   },
   {
    "duration": -264,
    "start_time": "2021-12-03T20:59:38.587Z"
   },
   {
    "duration": -263,
    "start_time": "2021-12-03T20:59:38.588Z"
   },
   {
    "duration": -262,
    "start_time": "2021-12-03T20:59:38.589Z"
   },
   {
    "duration": -263,
    "start_time": "2021-12-03T20:59:38.592Z"
   },
   {
    "duration": -262,
    "start_time": "2021-12-03T20:59:38.593Z"
   },
   {
    "duration": -260,
    "start_time": "2021-12-03T20:59:38.594Z"
   },
   {
    "duration": -260,
    "start_time": "2021-12-03T20:59:38.596Z"
   },
   {
    "duration": -260,
    "start_time": "2021-12-03T20:59:38.598Z"
   },
   {
    "duration": -258,
    "start_time": "2021-12-03T20:59:38.599Z"
   },
   {
    "duration": -257,
    "start_time": "2021-12-03T20:59:38.600Z"
   },
   {
    "duration": -220,
    "start_time": "2021-12-03T20:59:38.602Z"
   },
   {
    "duration": -219,
    "start_time": "2021-12-03T20:59:38.603Z"
   },
   {
    "duration": -218,
    "start_time": "2021-12-03T20:59:38.604Z"
   },
   {
    "duration": -217,
    "start_time": "2021-12-03T20:59:38.606Z"
   },
   {
    "duration": -217,
    "start_time": "2021-12-03T20:59:38.608Z"
   },
   {
    "duration": -217,
    "start_time": "2021-12-03T20:59:38.610Z"
   },
   {
    "duration": -265,
    "start_time": "2021-12-03T20:59:38.660Z"
   },
   {
    "duration": -265,
    "start_time": "2021-12-03T20:59:38.662Z"
   },
   {
    "duration": -265,
    "start_time": "2021-12-03T20:59:38.664Z"
   },
   {
    "duration": -264,
    "start_time": "2021-12-03T20:59:38.665Z"
   },
   {
    "duration": 1477,
    "start_time": "2021-12-03T21:00:09.565Z"
   },
   {
    "duration": 1165,
    "start_time": "2021-12-03T21:00:11.045Z"
   },
   {
    "duration": 206,
    "start_time": "2021-12-03T21:00:12.213Z"
   },
   {
    "duration": 1813,
    "start_time": "2021-12-03T21:00:12.422Z"
   },
   {
    "duration": 145,
    "start_time": "2021-12-03T21:00:14.239Z"
   },
   {
    "duration": 15,
    "start_time": "2021-12-03T21:00:14.386Z"
   },
   {
    "duration": 16,
    "start_time": "2021-12-03T21:00:14.404Z"
   },
   {
    "duration": 14,
    "start_time": "2021-12-03T21:00:14.423Z"
   },
   {
    "duration": 47,
    "start_time": "2021-12-03T21:00:14.442Z"
   },
   {
    "duration": 11,
    "start_time": "2021-12-03T21:00:14.493Z"
   },
   {
    "duration": 12,
    "start_time": "2021-12-03T21:00:14.507Z"
   },
   {
    "duration": 13,
    "start_time": "2021-12-03T21:00:14.521Z"
   },
   {
    "duration": 72,
    "start_time": "2021-12-03T21:00:14.537Z"
   },
   {
    "duration": 28,
    "start_time": "2021-12-03T21:00:14.611Z"
   },
   {
    "duration": 287,
    "start_time": "2021-12-03T21:00:14.641Z"
   },
   {
    "duration": 33,
    "start_time": "2021-12-03T21:00:14.930Z"
   },
   {
    "duration": 100,
    "start_time": "2021-12-03T21:00:14.965Z"
   },
   {
    "duration": 22,
    "start_time": "2021-12-03T21:00:15.068Z"
   },
   {
    "duration": 89,
    "start_time": "2021-12-03T21:00:15.093Z"
   },
   {
    "duration": 681465,
    "start_time": "2021-12-03T21:00:15.184Z"
   },
   {
    "duration": 480,
    "start_time": "2021-12-03T21:11:36.651Z"
   },
   {
    "duration": 170,
    "start_time": "2021-12-03T21:11:37.133Z"
   },
   {
    "duration": 314,
    "start_time": "2021-12-03T21:11:37.305Z"
   },
   {
    "duration": 280,
    "start_time": "2021-12-03T21:11:37.621Z"
   },
   {
    "duration": -89,
    "start_time": "2021-12-03T21:11:37.992Z"
   },
   {
    "duration": -89,
    "start_time": "2021-12-03T21:11:37.994Z"
   },
   {
    "duration": -89,
    "start_time": "2021-12-03T21:11:37.996Z"
   },
   {
    "duration": -90,
    "start_time": "2021-12-03T21:11:37.999Z"
   },
   {
    "duration": -90,
    "start_time": "2021-12-03T21:11:38.001Z"
   },
   {
    "duration": -123,
    "start_time": "2021-12-03T21:11:38.036Z"
   },
   {
    "duration": -124,
    "start_time": "2021-12-03T21:11:38.038Z"
   },
   {
    "duration": -124,
    "start_time": "2021-12-03T21:11:38.040Z"
   },
   {
    "duration": 363145,
    "start_time": "2021-12-03T21:11:56.654Z"
   },
   {
    "duration": 61783,
    "start_time": "2021-12-03T21:18:03.496Z"
   },
   {
    "duration": 300815,
    "start_time": "2021-12-03T21:19:08.678Z"
   },
   {
    "duration": 3098,
    "start_time": "2021-12-03T21:24:43.457Z"
   },
   {
    "duration": 1021,
    "start_time": "2021-12-03T21:24:49.815Z"
   },
   {
    "duration": 1853,
    "start_time": "2021-12-03T21:25:19.669Z"
   },
   {
    "duration": 131827,
    "start_time": "2021-12-03T21:25:48.619Z"
   },
   {
    "duration": 4415,
    "start_time": "2021-12-03T21:29:11.698Z"
   },
   {
    "duration": 1456,
    "start_time": "2021-12-03T21:29:19.196Z"
   },
   {
    "duration": 399084,
    "start_time": "2021-12-03T21:30:30.810Z"
   },
   {
    "duration": 2924,
    "start_time": "2021-12-03T21:37:27.412Z"
   },
   {
    "duration": 961,
    "start_time": "2021-12-03T21:37:38.032Z"
   },
   {
    "duration": 21220,
    "start_time": "2021-12-03T21:38:31.178Z"
   },
   {
    "duration": 76403,
    "start_time": "2021-12-03T21:38:56.785Z"
   },
   {
    "duration": 1763,
    "start_time": "2021-12-03T21:40:25.976Z"
   },
   {
    "duration": 600,
    "start_time": "2021-12-03T21:40:29.847Z"
   },
   {
    "duration": 16658,
    "start_time": "2021-12-03T21:40:39.132Z"
   },
   {
    "duration": 1410,
    "start_time": "2021-12-03T21:41:06.572Z"
   },
   {
    "duration": 1109,
    "start_time": "2021-12-03T21:41:07.985Z"
   },
   {
    "duration": 202,
    "start_time": "2021-12-03T21:41:09.098Z"
   },
   {
    "duration": 1684,
    "start_time": "2021-12-03T21:41:09.303Z"
   },
   {
    "duration": 134,
    "start_time": "2021-12-03T21:41:10.990Z"
   },
   {
    "duration": 15,
    "start_time": "2021-12-03T21:41:11.127Z"
   },
   {
    "duration": 10,
    "start_time": "2021-12-03T21:41:11.145Z"
   },
   {
    "duration": 13,
    "start_time": "2021-12-03T21:41:11.181Z"
   },
   {
    "duration": 13,
    "start_time": "2021-12-03T21:41:11.198Z"
   },
   {
    "duration": 11,
    "start_time": "2021-12-03T21:41:11.215Z"
   },
   {
    "duration": 54,
    "start_time": "2021-12-03T21:41:11.228Z"
   },
   {
    "duration": 13,
    "start_time": "2021-12-03T21:41:11.284Z"
   },
   {
    "duration": 29,
    "start_time": "2021-12-03T21:41:11.299Z"
   },
   {
    "duration": 60,
    "start_time": "2021-12-03T21:41:11.331Z"
   },
   {
    "duration": 268,
    "start_time": "2021-12-03T21:41:11.393Z"
   },
   {
    "duration": 35,
    "start_time": "2021-12-03T21:41:11.664Z"
   },
   {
    "duration": 89,
    "start_time": "2021-12-03T21:41:11.701Z"
   },
   {
    "duration": 10,
    "start_time": "2021-12-03T21:41:11.792Z"
   },
   {
    "duration": 89,
    "start_time": "2021-12-03T21:41:11.804Z"
   },
   {
    "duration": 42005,
    "start_time": "2021-12-03T21:41:11.895Z"
   },
   {
    "duration": 272,
    "start_time": "2021-12-03T21:41:53.903Z"
   },
   {
    "duration": -153,
    "start_time": "2021-12-03T21:41:54.331Z"
   },
   {
    "duration": -153,
    "start_time": "2021-12-03T21:41:54.333Z"
   },
   {
    "duration": -153,
    "start_time": "2021-12-03T21:41:54.335Z"
   },
   {
    "duration": -153,
    "start_time": "2021-12-03T21:41:54.337Z"
   },
   {
    "duration": -157,
    "start_time": "2021-12-03T21:41:54.342Z"
   },
   {
    "duration": -159,
    "start_time": "2021-12-03T21:41:54.345Z"
   },
   {
    "duration": -160,
    "start_time": "2021-12-03T21:41:54.347Z"
   },
   {
    "duration": -159,
    "start_time": "2021-12-03T21:41:54.348Z"
   },
   {
    "duration": -161,
    "start_time": "2021-12-03T21:41:54.351Z"
   },
   {
    "duration": 269862,
    "start_time": "2021-12-03T21:42:05.422Z"
   },
   {
    "duration": 1904,
    "start_time": "2021-12-03T21:47:05.636Z"
   },
   {
    "duration": 698,
    "start_time": "2021-12-03T21:47:10.063Z"
   },
   {
    "duration": 258504,
    "start_time": "2021-12-03T21:48:19.679Z"
   },
   {
    "duration": 2096,
    "start_time": "2021-12-03T21:53:19.188Z"
   },
   {
    "duration": 701,
    "start_time": "2021-12-03T21:53:23.823Z"
   },
   {
    "duration": 289520,
    "start_time": "2021-12-03T21:53:44.269Z"
   },
   {
    "duration": 279773,
    "start_time": "2021-12-03T21:58:59.216Z"
   },
   {
    "duration": 281571,
    "start_time": "2021-12-03T22:03:55.514Z"
   },
   {
    "duration": 3056,
    "start_time": "2021-12-03T22:08:48.874Z"
   },
   {
    "duration": 1053,
    "start_time": "2021-12-03T22:08:54.243Z"
   },
   {
    "duration": 251806,
    "start_time": "2021-12-03T22:09:10.580Z"
   },
   {
    "duration": 1357,
    "start_time": "2021-12-03T22:13:58.620Z"
   },
   {
    "duration": 1151,
    "start_time": "2021-12-03T22:13:59.979Z"
   },
   {
    "duration": 212,
    "start_time": "2021-12-03T22:14:01.133Z"
   },
   {
    "duration": 2093,
    "start_time": "2021-12-03T22:14:01.348Z"
   },
   {
    "duration": 128,
    "start_time": "2021-12-03T22:14:03.443Z"
   },
   {
    "duration": 16,
    "start_time": "2021-12-03T22:14:03.581Z"
   },
   {
    "duration": 15,
    "start_time": "2021-12-03T22:14:03.599Z"
   },
   {
    "duration": 17,
    "start_time": "2021-12-03T22:14:03.619Z"
   },
   {
    "duration": 48,
    "start_time": "2021-12-03T22:14:03.640Z"
   },
   {
    "duration": 13,
    "start_time": "2021-12-03T22:14:03.691Z"
   },
   {
    "duration": 13,
    "start_time": "2021-12-03T22:14:03.707Z"
   },
   {
    "duration": 12,
    "start_time": "2021-12-03T22:14:03.723Z"
   },
   {
    "duration": 78,
    "start_time": "2021-12-03T22:14:03.737Z"
   },
   {
    "duration": 40,
    "start_time": "2021-12-03T22:14:03.819Z"
   },
   {
    "duration": 573,
    "start_time": "2021-12-03T22:14:03.862Z"
   },
   {
    "duration": 54,
    "start_time": "2021-12-03T22:14:04.438Z"
   },
   {
    "duration": 121,
    "start_time": "2021-12-03T22:14:04.495Z"
   },
   {
    "duration": 3,
    "start_time": "2021-12-03T22:14:04.618Z"
   },
   {
    "duration": 92,
    "start_time": "2021-12-03T22:14:04.623Z"
   },
   {
    "duration": 1498,
    "start_time": "2021-12-03T22:51:11.805Z"
   },
   {
    "duration": 1204,
    "start_time": "2021-12-03T22:51:13.306Z"
   },
   {
    "duration": 205,
    "start_time": "2021-12-03T22:51:14.513Z"
   },
   {
    "duration": 1784,
    "start_time": "2021-12-03T22:51:14.721Z"
   },
   {
    "duration": 136,
    "start_time": "2021-12-03T22:51:16.507Z"
   },
   {
    "duration": 15,
    "start_time": "2021-12-03T22:51:16.645Z"
   },
   {
    "duration": 27,
    "start_time": "2021-12-03T22:51:16.663Z"
   },
   {
    "duration": 12,
    "start_time": "2021-12-03T22:51:16.694Z"
   },
   {
    "duration": 12,
    "start_time": "2021-12-03T22:51:16.708Z"
   },
   {
    "duration": 9,
    "start_time": "2021-12-03T22:51:16.723Z"
   },
   {
    "duration": 53,
    "start_time": "2021-12-03T22:51:16.734Z"
   },
   {
    "duration": 10,
    "start_time": "2021-12-03T22:51:16.790Z"
   },
   {
    "duration": 29,
    "start_time": "2021-12-03T22:51:16.802Z"
   },
   {
    "duration": 59,
    "start_time": "2021-12-03T22:51:16.834Z"
   },
   {
    "duration": 275,
    "start_time": "2021-12-03T22:51:16.896Z"
   },
   {
    "duration": 35,
    "start_time": "2021-12-03T22:51:17.173Z"
   },
   {
    "duration": 95,
    "start_time": "2021-12-03T22:51:17.211Z"
   },
   {
    "duration": 4,
    "start_time": "2021-12-03T22:51:17.309Z"
   },
   {
    "duration": 124,
    "start_time": "2021-12-03T22:51:17.316Z"
   },
   {
    "duration": 1441,
    "start_time": "2021-12-03T22:56:32.442Z"
   },
   {
    "duration": 1099,
    "start_time": "2021-12-03T22:56:33.885Z"
   },
   {
    "duration": 207,
    "start_time": "2021-12-03T22:56:34.987Z"
   },
   {
    "duration": 1734,
    "start_time": "2021-12-03T22:56:35.197Z"
   },
   {
    "duration": 127,
    "start_time": "2021-12-03T22:56:36.933Z"
   },
   {
    "duration": 21,
    "start_time": "2021-12-03T22:56:37.062Z"
   },
   {
    "duration": 12,
    "start_time": "2021-12-03T22:56:37.086Z"
   },
   {
    "duration": 12,
    "start_time": "2021-12-03T22:56:37.102Z"
   },
   {
    "duration": 14,
    "start_time": "2021-12-03T22:56:37.117Z"
   },
   {
    "duration": 49,
    "start_time": "2021-12-03T22:56:37.133Z"
   },
   {
    "duration": 11,
    "start_time": "2021-12-03T22:56:37.184Z"
   },
   {
    "duration": 10,
    "start_time": "2021-12-03T22:56:37.197Z"
   },
   {
    "duration": 27,
    "start_time": "2021-12-03T22:56:37.209Z"
   },
   {
    "duration": 81,
    "start_time": "2021-12-03T22:56:37.239Z"
   },
   {
    "duration": 524,
    "start_time": "2021-12-03T22:56:37.323Z"
   },
   {
    "duration": 41,
    "start_time": "2021-12-03T22:56:37.850Z"
   },
   {
    "duration": 92,
    "start_time": "2021-12-03T22:56:37.894Z"
   },
   {
    "duration": 3,
    "start_time": "2021-12-03T22:56:37.988Z"
   },
   {
    "duration": 74,
    "start_time": "2021-12-03T22:56:37.993Z"
   },
   {
    "duration": 1430,
    "start_time": "2021-12-03T23:21:13.421Z"
   },
   {
    "duration": 1123,
    "start_time": "2021-12-03T23:21:14.854Z"
   },
   {
    "duration": 215,
    "start_time": "2021-12-03T23:21:15.982Z"
   },
   {
    "duration": 2658,
    "start_time": "2021-12-03T23:21:16.200Z"
   },
   {
    "duration": 170,
    "start_time": "2021-12-03T23:21:18.861Z"
   },
   {
    "duration": 18,
    "start_time": "2021-12-03T23:21:19.034Z"
   },
   {
    "duration": 29,
    "start_time": "2021-12-03T23:21:19.055Z"
   },
   {
    "duration": 16,
    "start_time": "2021-12-03T23:21:19.087Z"
   },
   {
    "duration": 19,
    "start_time": "2021-12-03T23:21:19.108Z"
   },
   {
    "duration": 13,
    "start_time": "2021-12-03T23:21:19.131Z"
   },
   {
    "duration": 13,
    "start_time": "2021-12-03T23:21:19.183Z"
   },
   {
    "duration": 12,
    "start_time": "2021-12-03T23:21:19.199Z"
   },
   {
    "duration": 77,
    "start_time": "2021-12-03T23:21:19.214Z"
   },
   {
    "duration": 38,
    "start_time": "2021-12-03T23:21:19.294Z"
   },
   {
    "duration": 277,
    "start_time": "2021-12-03T23:21:19.335Z"
   },
   {
    "duration": 30,
    "start_time": "2021-12-03T23:21:19.615Z"
   },
   {
    "duration": 92,
    "start_time": "2021-12-03T23:21:19.647Z"
   },
   {
    "duration": 4,
    "start_time": "2021-12-03T23:21:19.741Z"
   },
   {
    "duration": 91,
    "start_time": "2021-12-03T23:21:19.748Z"
   },
   {
    "duration": 2001405,
    "start_time": "2021-12-03T23:21:19.841Z"
   },
   {
    "duration": 1447,
    "start_time": "2021-12-03T23:54:41.249Z"
   },
   {
    "duration": 490,
    "start_time": "2021-12-03T23:54:42.699Z"
   },
   {
    "duration": 260092,
    "start_time": "2021-12-03T23:54:43.191Z"
   },
   {
    "duration": 6309,
    "start_time": "2021-12-03T23:59:03.286Z"
   },
   {
    "duration": 2204,
    "start_time": "2021-12-03T23:59:09.597Z"
   },
   {
    "duration": 1839,
    "start_time": "2021-12-03T23:59:11.804Z"
   },
   {
    "duration": 203977,
    "start_time": "2021-12-03T23:59:13.647Z"
   },
   {
    "duration": 4975,
    "start_time": "2021-12-04T00:02:37.626Z"
   },
   {
    "duration": 1720,
    "start_time": "2021-12-04T00:02:42.604Z"
   },
   {
    "duration": 5,
    "start_time": "2021-12-04T00:02:44.327Z"
   },
   {
    "duration": 1220,
    "start_time": "2021-12-05T19:22:30.068Z"
   },
   {
    "duration": 908,
    "start_time": "2021-12-05T19:22:31.290Z"
   },
   {
    "duration": 150,
    "start_time": "2021-12-05T19:22:32.200Z"
   },
   {
    "duration": 1439,
    "start_time": "2021-12-05T19:22:32.352Z"
   },
   {
    "duration": 92,
    "start_time": "2021-12-05T19:22:33.793Z"
   },
   {
    "duration": 10,
    "start_time": "2021-12-05T19:22:33.886Z"
   },
   {
    "duration": 11,
    "start_time": "2021-12-05T19:22:33.897Z"
   },
   {
    "duration": 10,
    "start_time": "2021-12-05T19:22:33.910Z"
   },
   {
    "duration": 9,
    "start_time": "2021-12-05T19:22:33.922Z"
   },
   {
    "duration": 31,
    "start_time": "2021-12-05T19:22:33.933Z"
   },
   {
    "duration": 8,
    "start_time": "2021-12-05T19:22:33.966Z"
   },
   {
    "duration": 6,
    "start_time": "2021-12-05T19:22:33.976Z"
   },
   {
    "duration": 22,
    "start_time": "2021-12-05T19:22:33.984Z"
   },
   {
    "duration": 20,
    "start_time": "2021-12-05T19:22:34.008Z"
   },
   {
    "duration": 192,
    "start_time": "2021-12-05T19:22:34.030Z"
   },
   {
    "duration": 24,
    "start_time": "2021-12-05T19:22:34.224Z"
   },
   {
    "duration": 56,
    "start_time": "2021-12-05T19:22:34.250Z"
   },
   {
    "duration": 2,
    "start_time": "2021-12-05T19:22:34.308Z"
   },
   {
    "duration": 175,
    "start_time": "2021-12-05T19:22:34.312Z"
   },
   {
    "duration": 119094,
    "start_time": "2021-12-05T19:22:34.488Z"
   },
   {
    "duration": 291,
    "start_time": "2021-12-05T19:24:33.584Z"
   },
   {
    "duration": 95,
    "start_time": "2021-12-05T19:24:33.877Z"
   },
   {
    "duration": 5192,
    "start_time": "2021-12-05T19:24:33.974Z"
   },
   {
    "duration": 1302,
    "start_time": "2021-12-05T19:24:39.168Z"
   },
   {
    "duration": 406,
    "start_time": "2021-12-05T19:24:40.472Z"
   },
   {
    "duration": 1452,
    "start_time": "2021-12-05T19:24:40.880Z"
   },
   {
    "duration": 176012,
    "start_time": "2021-12-05T19:24:42.335Z"
   },
   {
    "duration": 5167,
    "start_time": "2021-12-05T19:27:38.349Z"
   },
   {
    "duration": 1721,
    "start_time": "2021-12-05T19:27:43.518Z"
   },
   {
    "duration": 335,
    "start_time": "2021-12-05T19:27:45.241Z"
   },
   {
    "duration": -84,
    "start_time": "2021-12-05T19:27:45.662Z"
   },
   {
    "duration": -86,
    "start_time": "2021-12-05T19:27:45.665Z"
   },
   {
    "duration": -144,
    "start_time": "2021-12-05T19:27:45.724Z"
   },
   {
    "duration": -145,
    "start_time": "2021-12-05T19:27:45.726Z"
   },
   {
    "duration": -145,
    "start_time": "2021-12-05T19:27:45.727Z"
   },
   {
    "duration": 3,
    "start_time": "2021-12-05T19:28:43.593Z"
   },
   {
    "duration": 3,
    "start_time": "2021-12-05T19:28:46.316Z"
   },
   {
    "duration": 23588,
    "start_time": "2021-12-05T19:28:48.775Z"
   },
   {
    "duration": 4,
    "start_time": "2021-12-05T19:29:38.532Z"
   },
   {
    "duration": 504,
    "start_time": "2021-12-05T19:29:45.865Z"
   },
   {
    "duration": 178,
    "start_time": "2021-12-05T19:29:48.792Z"
   },
   {
    "duration": 22507,
    "start_time": "2021-12-05T19:30:04.061Z"
   },
   {
    "duration": 4,
    "start_time": "2021-12-05T19:30:38.638Z"
   },
   {
    "duration": 586,
    "start_time": "2021-12-05T19:30:40.678Z"
   },
   {
    "duration": 251,
    "start_time": "2021-12-05T19:30:43.812Z"
   },
   {
    "duration": 117767,
    "start_time": "2021-12-05T19:32:27.899Z"
   },
   {
    "duration": 3514,
    "start_time": "2021-12-05T19:34:45.677Z"
   },
   {
    "duration": 1200,
    "start_time": "2021-12-05T19:34:51.767Z"
   },
   {
    "duration": 58255,
    "start_time": "2021-12-05T19:35:25.816Z"
   },
   {
    "duration": 1999,
    "start_time": "2021-12-05T19:36:45.724Z"
   },
   {
    "duration": 652,
    "start_time": "2021-12-05T19:36:50.075Z"
   },
   {
    "duration": 29746,
    "start_time": "2021-12-05T19:37:14.735Z"
   },
   {
    "duration": 1139,
    "start_time": "2021-12-05T19:37:50.405Z"
   },
   {
    "duration": 385,
    "start_time": "2021-12-05T19:37:54.034Z"
   },
   {
    "duration": 12254,
    "start_time": "2021-12-05T19:38:02.449Z"
   },
   {
    "duration": 648,
    "start_time": "2021-12-05T19:38:18.800Z"
   },
   {
    "duration": 238,
    "start_time": "2021-12-05T19:38:22.160Z"
   },
   {
    "duration": 18705,
    "start_time": "2021-12-05T19:38:33.230Z"
   },
   {
    "duration": 789,
    "start_time": "2021-12-05T19:38:55.835Z"
   },
   {
    "duration": 368,
    "start_time": "2021-12-05T19:38:58.744Z"
   },
   {
    "duration": 24341,
    "start_time": "2021-12-05T19:39:08.616Z"
   },
   {
    "duration": 958,
    "start_time": "2021-12-05T19:39:36.502Z"
   },
   {
    "duration": 336,
    "start_time": "2021-12-05T19:39:39.562Z"
   },
   {
    "duration": 88273,
    "start_time": "2021-12-05T19:40:04.117Z"
   },
   {
    "duration": 2607,
    "start_time": "2021-12-05T19:42:05.650Z"
   },
   {
    "duration": 903,
    "start_time": "2021-12-05T19:42:10.270Z"
   },
   {
    "duration": 27,
    "start_time": "2021-12-05T19:42:58.376Z"
   },
   {
    "duration": 18,
    "start_time": "2021-12-05T19:43:20.517Z"
   },
   {
    "duration": 6512,
    "start_time": "2021-12-05T19:43:27.715Z"
   },
   {
    "duration": 7405,
    "start_time": "2021-12-05T19:44:21.567Z"
   },
   {
    "duration": 30,
    "start_time": "2021-12-05T19:44:36.207Z"
   },
   {
    "duration": 308,
    "start_time": "2021-12-05T19:45:15.402Z"
   },
   {
    "duration": 13,
    "start_time": "2021-12-05T19:45:36.478Z"
   },
   {
    "duration": 18,
    "start_time": "2021-12-05T19:45:40.858Z"
   },
   {
    "duration": 13,
    "start_time": "2021-12-05T19:45:52.648Z"
   },
   {
    "duration": 17,
    "start_time": "2021-12-05T19:45:56.024Z"
   },
   {
    "duration": 14,
    "start_time": "2021-12-05T19:46:40.064Z"
   },
   {
    "duration": 15,
    "start_time": "2021-12-05T19:46:42.959Z"
   },
   {
    "duration": 59,
    "start_time": "2021-12-05T19:47:07.336Z"
   },
   {
    "duration": 50,
    "start_time": "2021-12-05T19:48:10.577Z"
   },
   {
    "duration": 4,
    "start_time": "2021-12-05T19:50:31.487Z"
   },
   {
    "duration": 5,
    "start_time": "2021-12-05T19:50:42.349Z"
   },
   {
    "duration": 4,
    "start_time": "2021-12-05T19:50:52.037Z"
   },
   {
    "duration": 811,
    "start_time": "2021-12-05T19:51:00.677Z"
   },
   {
    "duration": 138,
    "start_time": "2021-12-05T19:51:04.572Z"
   },
   {
    "duration": 1112,
    "start_time": "2021-12-05T19:51:07.609Z"
   },
   {
    "duration": 91,
    "start_time": "2021-12-05T19:51:15.109Z"
   },
   {
    "duration": 9,
    "start_time": "2021-12-05T19:51:20.854Z"
   },
   {
    "duration": 50,
    "start_time": "2021-12-05T19:51:29.359Z"
   },
   {
    "duration": 25,
    "start_time": "2021-12-05T19:53:32.316Z"
   },
   {
    "duration": 21,
    "start_time": "2021-12-05T19:53:35.001Z"
   },
   {
    "duration": 159,
    "start_time": "2021-12-05T19:53:37.056Z"
   },
   {
    "duration": 24,
    "start_time": "2021-12-05T19:53:39.170Z"
   },
   {
    "duration": 51,
    "start_time": "2021-12-05T19:53:41.135Z"
   },
   {
    "duration": 246,
    "start_time": "2021-12-05T19:54:19.415Z"
   },
   {
    "duration": 14,
    "start_time": "2021-12-05T19:54:39.456Z"
   },
   {
    "duration": 49,
    "start_time": "2021-12-05T19:54:56.889Z"
   },
   {
    "duration": 8,
    "start_time": "2021-12-05T19:55:23.538Z"
   },
   {
    "duration": 53,
    "start_time": "2021-12-05T19:55:26.858Z"
   },
   {
    "duration": 8,
    "start_time": "2021-12-05T19:55:55.777Z"
   },
   {
    "duration": 25,
    "start_time": "2021-12-05T19:56:09.893Z"
   },
   {
    "duration": 16,
    "start_time": "2021-12-05T19:56:21.204Z"
   },
   {
    "duration": 8,
    "start_time": "2021-12-05T19:56:40.658Z"
   },
   {
    "duration": 17,
    "start_time": "2021-12-05T19:56:44.902Z"
   },
   {
    "duration": 9,
    "start_time": "2021-12-05T19:57:13.944Z"
   },
   {
    "duration": 7,
    "start_time": "2021-12-05T19:58:10.059Z"
   },
   {
    "duration": 19,
    "start_time": "2021-12-05T19:58:13.044Z"
   },
   {
    "duration": 38,
    "start_time": "2021-12-05T19:58:43.046Z"
   },
   {
    "duration": 144,
    "start_time": "2021-12-05T20:00:25.063Z"
   },
   {
    "duration": 37,
    "start_time": "2021-12-05T20:00:28.511Z"
   },
   {
    "duration": 30,
    "start_time": "2021-12-05T20:00:46.890Z"
   },
   {
    "duration": 1179,
    "start_time": "2021-12-05T20:01:44.687Z"
   },
   {
    "duration": 858,
    "start_time": "2021-12-05T20:01:45.868Z"
   },
   {
    "duration": 156,
    "start_time": "2021-12-05T20:01:46.728Z"
   },
   {
    "duration": 1311,
    "start_time": "2021-12-05T20:01:46.886Z"
   },
   {
    "duration": 99,
    "start_time": "2021-12-05T20:01:48.198Z"
   },
   {
    "duration": 12,
    "start_time": "2021-12-05T20:01:48.299Z"
   },
   {
    "duration": 7,
    "start_time": "2021-12-05T20:01:48.312Z"
   },
   {
    "duration": 11,
    "start_time": "2021-12-05T20:01:48.321Z"
   },
   {
    "duration": 35,
    "start_time": "2021-12-05T20:01:48.335Z"
   },
   {
    "duration": 8,
    "start_time": "2021-12-05T20:01:48.372Z"
   },
   {
    "duration": 8,
    "start_time": "2021-12-05T20:01:48.381Z"
   },
   {
    "duration": 13,
    "start_time": "2021-12-05T20:01:48.391Z"
   },
   {
    "duration": 25,
    "start_time": "2021-12-05T20:01:48.405Z"
   },
   {
    "duration": 47,
    "start_time": "2021-12-05T20:01:48.431Z"
   },
   {
    "duration": 168,
    "start_time": "2021-12-05T20:01:48.480Z"
   },
   {
    "duration": 34,
    "start_time": "2021-12-05T20:01:48.650Z"
   },
   {
    "duration": 53,
    "start_time": "2021-12-05T20:01:48.686Z"
   },
   {
    "duration": 155,
    "start_time": "2021-12-05T20:01:48.741Z"
   },
   {
    "duration": 67,
    "start_time": "2021-12-05T20:01:48.898Z"
   },
   {
    "duration": 3,
    "start_time": "2021-12-05T20:01:48.967Z"
   },
   {
    "duration": 58,
    "start_time": "2021-12-05T20:01:48.972Z"
   },
   {
    "duration": 1563,
    "start_time": "2021-12-05T20:03:27.295Z"
   },
   {
    "duration": 877,
    "start_time": "2021-12-05T20:03:28.863Z"
   },
   {
    "duration": 169,
    "start_time": "2021-12-05T20:03:29.742Z"
   },
   {
    "duration": 1329,
    "start_time": "2021-12-05T20:03:29.913Z"
   },
   {
    "duration": 99,
    "start_time": "2021-12-05T20:03:31.244Z"
   },
   {
    "duration": 19,
    "start_time": "2021-12-05T20:03:31.345Z"
   },
   {
    "duration": 8,
    "start_time": "2021-12-05T20:03:31.366Z"
   },
   {
    "duration": 12,
    "start_time": "2021-12-05T20:03:31.377Z"
   },
   {
    "duration": 39,
    "start_time": "2021-12-05T20:03:31.391Z"
   },
   {
    "duration": 7,
    "start_time": "2021-12-05T20:03:31.432Z"
   },
   {
    "duration": 13,
    "start_time": "2021-12-05T20:03:31.441Z"
   },
   {
    "duration": 23,
    "start_time": "2021-12-05T20:03:31.456Z"
   },
   {
    "duration": 32,
    "start_time": "2021-12-05T20:03:31.481Z"
   },
   {
    "duration": 22,
    "start_time": "2021-12-05T20:03:31.514Z"
   },
   {
    "duration": 170,
    "start_time": "2021-12-05T20:03:31.538Z"
   },
   {
    "duration": 23,
    "start_time": "2021-12-05T20:03:31.710Z"
   },
   {
    "duration": 53,
    "start_time": "2021-12-05T20:03:31.735Z"
   },
   {
    "duration": 122,
    "start_time": "2021-12-05T20:03:31.790Z"
   },
   {
    "duration": 50,
    "start_time": "2021-12-05T20:03:31.914Z"
   },
   {
    "duration": 2,
    "start_time": "2021-12-05T20:03:31.966Z"
   },
   {
    "duration": 110,
    "start_time": "2021-12-05T20:03:31.970Z"
   },
   {
    "duration": 110057,
    "start_time": "2021-12-05T20:03:32.082Z"
   },
   {
    "duration": 235,
    "start_time": "2021-12-05T20:05:22.143Z"
   },
   {
    "duration": 95,
    "start_time": "2021-12-05T20:05:22.380Z"
   },
   {
    "duration": 5786,
    "start_time": "2021-12-05T20:05:22.478Z"
   },
   {
    "duration": 1115,
    "start_time": "2021-12-05T20:05:28.266Z"
   },
   {
    "duration": 393,
    "start_time": "2021-12-05T20:05:29.383Z"
   },
   {
    "duration": 1312,
    "start_time": "2021-12-05T20:05:29.778Z"
   },
   {
    "duration": 72093,
    "start_time": "2021-12-05T20:05:31.092Z"
   },
   {
    "duration": 2207,
    "start_time": "2021-12-05T20:06:43.187Z"
   },
   {
    "duration": 775,
    "start_time": "2021-12-05T20:06:45.396Z"
   },
   {
    "duration": 4,
    "start_time": "2021-12-05T20:06:46.172Z"
   },
   {
    "duration": 1171,
    "start_time": "2021-12-05T20:08:34.806Z"
   },
   {
    "duration": 877,
    "start_time": "2021-12-05T20:08:35.979Z"
   },
   {
    "duration": 154,
    "start_time": "2021-12-05T20:08:36.858Z"
   },
   {
    "duration": 1279,
    "start_time": "2021-12-05T20:08:37.015Z"
   },
   {
    "duration": 100,
    "start_time": "2021-12-05T20:08:38.296Z"
   },
   {
    "duration": 13,
    "start_time": "2021-12-05T20:08:38.397Z"
   },
   {
    "duration": 11,
    "start_time": "2021-12-05T20:08:38.412Z"
   },
   {
    "duration": 11,
    "start_time": "2021-12-05T20:08:38.427Z"
   },
   {
    "duration": 29,
    "start_time": "2021-12-05T20:08:38.441Z"
   },
   {
    "duration": 11,
    "start_time": "2021-12-05T20:08:38.472Z"
   },
   {
    "duration": 10,
    "start_time": "2021-12-05T20:08:38.485Z"
   },
   {
    "duration": 8,
    "start_time": "2021-12-05T20:08:38.497Z"
   },
   {
    "duration": 59,
    "start_time": "2021-12-05T20:08:38.507Z"
   },
   {
    "duration": 21,
    "start_time": "2021-12-05T20:08:38.568Z"
   },
   {
    "duration": 167,
    "start_time": "2021-12-05T20:08:38.591Z"
   },
   {
    "duration": 23,
    "start_time": "2021-12-05T20:08:38.760Z"
   },
   {
    "duration": 40,
    "start_time": "2021-12-05T20:08:38.785Z"
   },
   {
    "duration": 127,
    "start_time": "2021-12-05T20:08:38.827Z"
   },
   {
    "duration": 47,
    "start_time": "2021-12-05T20:08:38.956Z"
   },
   {
    "duration": 58,
    "start_time": "2021-12-05T20:08:39.005Z"
   },
   {
    "duration": 215978,
    "start_time": "2021-12-05T20:08:39.065Z"
   },
   {
    "duration": 318,
    "start_time": "2021-12-05T20:12:15.045Z"
   },
   {
    "duration": 104,
    "start_time": "2021-12-05T20:12:15.368Z"
   },
   {
    "duration": 13294,
    "start_time": "2021-12-05T20:12:15.475Z"
   },
   {
    "duration": 3405,
    "start_time": "2021-12-05T20:12:28.771Z"
   },
   {
    "duration": 1195,
    "start_time": "2021-12-05T20:12:32.178Z"
   },
   {
    "duration": 1166,
    "start_time": "2021-12-05T20:12:33.374Z"
   },
   {
    "duration": 71653,
    "start_time": "2021-12-05T20:12:34.542Z"
   },
   {
    "duration": 2245,
    "start_time": "2021-12-05T20:13:46.196Z"
   },
   {
    "duration": 749,
    "start_time": "2021-12-05T20:13:48.443Z"
   },
   {
    "duration": 3,
    "start_time": "2021-12-05T20:13:49.194Z"
   },
   {
    "duration": 1223,
    "start_time": "2021-12-05T20:15:56.862Z"
   },
   {
    "duration": 894,
    "start_time": "2021-12-05T20:15:58.087Z"
   },
   {
    "duration": 157,
    "start_time": "2021-12-05T20:15:58.984Z"
   },
   {
    "duration": 1305,
    "start_time": "2021-12-05T20:15:59.144Z"
   },
   {
    "duration": 103,
    "start_time": "2021-12-05T20:16:00.451Z"
   },
   {
    "duration": 19,
    "start_time": "2021-12-05T20:16:00.556Z"
   },
   {
    "duration": 24,
    "start_time": "2021-12-05T20:16:00.577Z"
   },
   {
    "duration": 34,
    "start_time": "2021-12-05T20:16:00.605Z"
   },
   {
    "duration": 23,
    "start_time": "2021-12-05T20:16:00.642Z"
   },
   {
    "duration": 21,
    "start_time": "2021-12-05T20:16:00.668Z"
   },
   {
    "duration": 29,
    "start_time": "2021-12-05T20:16:00.692Z"
   },
   {
    "duration": 21,
    "start_time": "2021-12-05T20:16:00.724Z"
   },
   {
    "duration": 43,
    "start_time": "2021-12-05T20:16:00.747Z"
   },
   {
    "duration": 33,
    "start_time": "2021-12-05T20:16:00.792Z"
   },
   {
    "duration": 189,
    "start_time": "2021-12-05T20:16:00.827Z"
   },
   {
    "duration": 23,
    "start_time": "2021-12-05T20:16:01.017Z"
   },
   {
    "duration": 51,
    "start_time": "2021-12-05T20:16:01.042Z"
   },
   {
    "duration": 119,
    "start_time": "2021-12-05T20:16:01.095Z"
   },
   {
    "duration": 68,
    "start_time": "2021-12-05T20:16:01.217Z"
   },
   {
    "duration": 53,
    "start_time": "2021-12-05T20:16:01.287Z"
   },
   {
    "duration": 301,
    "start_time": "2021-12-05T20:16:01.341Z"
   },
   {
    "duration": 266,
    "start_time": "2021-12-05T20:16:01.644Z"
   },
   {
    "duration": -449,
    "start_time": "2021-12-05T20:16:02.362Z"
   },
   {
    "duration": -451,
    "start_time": "2021-12-05T20:16:02.364Z"
   },
   {
    "duration": -452,
    "start_time": "2021-12-05T20:16:02.366Z"
   },
   {
    "duration": -453,
    "start_time": "2021-12-05T20:16:02.368Z"
   },
   {
    "duration": -455,
    "start_time": "2021-12-05T20:16:02.371Z"
   },
   {
    "duration": -456,
    "start_time": "2021-12-05T20:16:02.373Z"
   },
   {
    "duration": -457,
    "start_time": "2021-12-05T20:16:02.375Z"
   },
   {
    "duration": -457,
    "start_time": "2021-12-05T20:16:02.376Z"
   },
   {
    "duration": -458,
    "start_time": "2021-12-05T20:16:02.378Z"
   },
   {
    "duration": 1151,
    "start_time": "2021-12-05T20:18:28.929Z"
   },
   {
    "duration": 1002,
    "start_time": "2021-12-05T20:18:30.082Z"
   },
   {
    "duration": 157,
    "start_time": "2021-12-05T20:18:31.087Z"
   },
   {
    "duration": 1391,
    "start_time": "2021-12-05T20:18:31.246Z"
   },
   {
    "duration": 102,
    "start_time": "2021-12-05T20:18:32.639Z"
   },
   {
    "duration": 11,
    "start_time": "2021-12-05T20:18:32.742Z"
   },
   {
    "duration": 36,
    "start_time": "2021-12-05T20:18:32.754Z"
   },
   {
    "duration": 37,
    "start_time": "2021-12-05T20:18:32.793Z"
   },
   {
    "duration": 36,
    "start_time": "2021-12-05T20:18:32.832Z"
   },
   {
    "duration": 35,
    "start_time": "2021-12-05T20:18:32.869Z"
   },
   {
    "duration": 30,
    "start_time": "2021-12-05T20:18:32.905Z"
   },
   {
    "duration": 49,
    "start_time": "2021-12-05T20:18:32.937Z"
   },
   {
    "duration": 51,
    "start_time": "2021-12-05T20:18:32.987Z"
   },
   {
    "duration": 21,
    "start_time": "2021-12-05T20:18:33.040Z"
   },
   {
    "duration": 170,
    "start_time": "2021-12-05T20:18:33.063Z"
   },
   {
    "duration": 22,
    "start_time": "2021-12-05T20:18:33.235Z"
   },
   {
    "duration": 81,
    "start_time": "2021-12-05T20:18:33.259Z"
   },
   {
    "duration": 113,
    "start_time": "2021-12-05T20:18:33.342Z"
   },
   {
    "duration": 48,
    "start_time": "2021-12-05T20:18:33.457Z"
   },
   {
    "duration": 66,
    "start_time": "2021-12-05T20:18:33.507Z"
   },
   {
    "duration": 151513,
    "start_time": "2021-12-05T20:18:33.575Z"
   },
   {
    "duration": 285,
    "start_time": "2021-12-05T20:21:05.090Z"
   },
   {
    "duration": 93,
    "start_time": "2021-12-05T20:21:05.379Z"
   },
   {
    "duration": 14696,
    "start_time": "2021-12-05T20:21:05.474Z"
   },
   {
    "duration": 3733,
    "start_time": "2021-12-05T20:21:20.173Z"
   },
   {
    "duration": 1272,
    "start_time": "2021-12-05T20:21:23.908Z"
   },
   {
    "duration": 1220,
    "start_time": "2021-12-05T20:21:25.182Z"
   },
   {
    "duration": 47407,
    "start_time": "2021-12-05T20:21:26.404Z"
   },
   {
    "duration": 1591,
    "start_time": "2021-12-05T20:22:13.813Z"
   },
   {
    "duration": 546,
    "start_time": "2021-12-05T20:22:15.406Z"
   },
   {
    "duration": 4,
    "start_time": "2021-12-05T20:28:17.705Z"
   },
   {
    "duration": 389,
    "start_time": "2021-12-05T20:29:49.282Z"
   },
   {
    "duration": 4,
    "start_time": "2021-12-05T20:30:31.944Z"
   },
   {
    "duration": 349,
    "start_time": "2021-12-05T20:30:34.627Z"
   },
   {
    "duration": 4,
    "start_time": "2021-12-05T20:30:59.894Z"
   },
   {
    "duration": 316,
    "start_time": "2021-12-05T20:31:02.182Z"
   },
   {
    "duration": 3,
    "start_time": "2021-12-05T20:31:28.284Z"
   },
   {
    "duration": 338,
    "start_time": "2021-12-05T20:31:30.939Z"
   },
   {
    "duration": 4,
    "start_time": "2021-12-05T20:31:53.454Z"
   },
   {
    "duration": 330,
    "start_time": "2021-12-05T20:31:55.658Z"
   },
   {
    "duration": 341,
    "start_time": "2021-12-05T20:32:18.129Z"
   },
   {
    "duration": 4858,
    "start_time": "2021-12-05T20:32:50.214Z"
   },
   {
    "duration": 2125,
    "start_time": "2021-12-05T20:33:57.686Z"
   },
   {
    "duration": 3,
    "start_time": "2021-12-05T20:34:47.907Z"
   },
   {
    "duration": 457,
    "start_time": "2021-12-05T20:47:43.225Z"
   },
   {
    "duration": 11,
    "start_time": "2021-12-05T20:47:50.830Z"
   },
   {
    "duration": 4,
    "start_time": "2021-12-05T20:47:59.905Z"
   },
   {
    "duration": 6,
    "start_time": "2021-12-05T20:48:38.457Z"
   },
   {
    "duration": 4,
    "start_time": "2021-12-05T20:49:03.656Z"
   },
   {
    "duration": 4,
    "start_time": "2021-12-05T20:50:05.681Z"
   },
   {
    "duration": 4,
    "start_time": "2021-12-05T20:50:19.631Z"
   },
   {
    "duration": 3,
    "start_time": "2021-12-05T20:50:30.012Z"
   },
   {
    "duration": 3,
    "start_time": "2021-12-05T20:50:33.341Z"
   },
   {
    "duration": 4,
    "start_time": "2021-12-05T20:50:48.987Z"
   },
   {
    "duration": 4,
    "start_time": "2021-12-05T20:51:19.512Z"
   },
   {
    "duration": 29,
    "start_time": "2021-12-05T20:51:38.788Z"
   },
   {
    "duration": 238,
    "start_time": "2021-12-05T20:52:24.734Z"
   },
   {
    "duration": 237,
    "start_time": "2021-12-05T20:52:40.754Z"
   },
   {
    "duration": 5,
    "start_time": "2021-12-05T20:52:51.479Z"
   },
   {
    "duration": 9,
    "start_time": "2021-12-05T20:53:10.830Z"
   },
   {
    "duration": 266,
    "start_time": "2021-12-05T20:53:16.351Z"
   },
   {
    "duration": 198,
    "start_time": "2021-12-05T20:53:25.214Z"
   },
   {
    "duration": 279,
    "start_time": "2021-12-05T20:53:43.262Z"
   },
   {
    "duration": 405,
    "start_time": "2021-12-05T20:54:04.035Z"
   },
   {
    "duration": 8,
    "start_time": "2021-12-05T20:54:29.881Z"
   },
   {
    "duration": 253,
    "start_time": "2021-12-05T20:54:49.292Z"
   },
   {
    "duration": 7,
    "start_time": "2021-12-05T20:55:22.322Z"
   },
   {
    "duration": 5,
    "start_time": "2021-12-05T20:55:47.627Z"
   },
   {
    "duration": 5,
    "start_time": "2021-12-05T20:56:10.503Z"
   },
   {
    "duration": 2,
    "start_time": "2021-12-05T20:56:16.368Z"
   },
   {
    "duration": 255,
    "start_time": "2021-12-05T20:56:21.123Z"
   },
   {
    "duration": 12,
    "start_time": "2021-12-05T20:56:33.467Z"
   },
   {
    "duration": 6,
    "start_time": "2021-12-05T20:57:16.384Z"
   },
   {
    "duration": 8,
    "start_time": "2021-12-05T20:57:39.829Z"
   },
   {
    "duration": 249,
    "start_time": "2021-12-05T20:57:53.030Z"
   },
   {
    "duration": 9,
    "start_time": "2021-12-05T20:58:06.125Z"
   },
   {
    "duration": 4,
    "start_time": "2021-12-05T20:58:21.110Z"
   },
   {
    "duration": 4,
    "start_time": "2021-12-05T20:59:08.391Z"
   },
   {
    "duration": 8,
    "start_time": "2021-12-05T20:59:28.866Z"
   },
   {
    "duration": 164,
    "start_time": "2021-12-05T20:59:45.590Z"
   },
   {
    "duration": 182,
    "start_time": "2021-12-05T20:59:56.542Z"
   },
   {
    "duration": 318,
    "start_time": "2021-12-05T21:00:50.919Z"
   },
   {
    "duration": 188,
    "start_time": "2021-12-05T21:01:10.822Z"
   },
   {
    "duration": 190,
    "start_time": "2021-12-05T21:01:21.113Z"
   },
   {
    "duration": 202,
    "start_time": "2021-12-05T21:02:12.368Z"
   },
   {
    "duration": 7,
    "start_time": "2021-12-05T21:02:34.044Z"
   },
   {
    "duration": 191,
    "start_time": "2021-12-05T21:03:38.769Z"
   },
   {
    "duration": 4,
    "start_time": "2021-12-05T21:04:46.031Z"
   },
   {
    "duration": 4,
    "start_time": "2021-12-05T21:05:42.672Z"
   },
   {
    "duration": 247,
    "start_time": "2021-12-05T21:05:51.027Z"
   },
   {
    "duration": 4,
    "start_time": "2021-12-05T21:05:55.768Z"
   },
   {
    "duration": 1134,
    "start_time": "2021-12-05T21:06:05.447Z"
   },
   {
    "duration": 853,
    "start_time": "2021-12-05T21:06:06.583Z"
   },
   {
    "duration": 151,
    "start_time": "2021-12-05T21:06:07.439Z"
   },
   {
    "duration": 1280,
    "start_time": "2021-12-05T21:06:07.592Z"
   },
   {
    "duration": 104,
    "start_time": "2021-12-05T21:06:08.874Z"
   },
   {
    "duration": 12,
    "start_time": "2021-12-05T21:06:08.980Z"
   },
   {
    "duration": 8,
    "start_time": "2021-12-05T21:06:08.994Z"
   },
   {
    "duration": 21,
    "start_time": "2021-12-05T21:06:09.003Z"
   },
   {
    "duration": 13,
    "start_time": "2021-12-05T21:06:09.027Z"
   },
   {
    "duration": 22,
    "start_time": "2021-12-05T21:06:09.042Z"
   },
   {
    "duration": 18,
    "start_time": "2021-12-05T21:06:09.066Z"
   },
   {
    "duration": 13,
    "start_time": "2021-12-05T21:06:09.086Z"
   },
   {
    "duration": 30,
    "start_time": "2021-12-05T21:06:09.101Z"
   },
   {
    "duration": 22,
    "start_time": "2021-12-05T21:06:09.133Z"
   },
   {
    "duration": 174,
    "start_time": "2021-12-05T21:06:09.157Z"
   },
   {
    "duration": 33,
    "start_time": "2021-12-05T21:06:09.333Z"
   },
   {
    "duration": 40,
    "start_time": "2021-12-05T21:06:09.368Z"
   },
   {
    "duration": 121,
    "start_time": "2021-12-05T21:06:09.410Z"
   },
   {
    "duration": 46,
    "start_time": "2021-12-05T21:06:09.533Z"
   },
   {
    "duration": 3,
    "start_time": "2021-12-05T21:06:09.581Z"
   },
   {
    "duration": 443,
    "start_time": "2021-12-05T21:06:09.585Z"
   },
   {
    "duration": 683,
    "start_time": "2021-12-05T21:06:10.030Z"
   },
   {
    "duration": -376,
    "start_time": "2021-12-05T21:06:11.092Z"
   },
   {
    "duration": -377,
    "start_time": "2021-12-05T21:06:11.094Z"
   },
   {
    "duration": -378,
    "start_time": "2021-12-05T21:06:11.096Z"
   },
   {
    "duration": -449,
    "start_time": "2021-12-05T21:06:11.168Z"
   },
   {
    "duration": -452,
    "start_time": "2021-12-05T21:06:11.172Z"
   },
   {
    "duration": -454,
    "start_time": "2021-12-05T21:06:11.175Z"
   },
   {
    "duration": -455,
    "start_time": "2021-12-05T21:06:11.177Z"
   },
   {
    "duration": -455,
    "start_time": "2021-12-05T21:06:11.178Z"
   },
   {
    "duration": 1160,
    "start_time": "2021-12-05T21:08:51.210Z"
   },
   {
    "duration": 913,
    "start_time": "2021-12-05T21:08:52.373Z"
   },
   {
    "duration": 156,
    "start_time": "2021-12-05T21:08:53.290Z"
   },
   {
    "duration": 1416,
    "start_time": "2021-12-05T21:08:53.448Z"
   },
   {
    "duration": 115,
    "start_time": "2021-12-05T21:08:54.866Z"
   },
   {
    "duration": 13,
    "start_time": "2021-12-05T21:08:54.983Z"
   },
   {
    "duration": 13,
    "start_time": "2021-12-05T21:08:54.997Z"
   },
   {
    "duration": 24,
    "start_time": "2021-12-05T21:08:55.013Z"
   },
   {
    "duration": 12,
    "start_time": "2021-12-05T21:08:55.040Z"
   },
   {
    "duration": 9,
    "start_time": "2021-12-05T21:08:55.063Z"
   },
   {
    "duration": 12,
    "start_time": "2021-12-05T21:08:55.074Z"
   },
   {
    "duration": 10,
    "start_time": "2021-12-05T21:08:55.090Z"
   },
   {
    "duration": 22,
    "start_time": "2021-12-05T21:08:55.102Z"
   },
   {
    "duration": 61,
    "start_time": "2021-12-05T21:08:55.125Z"
   },
   {
    "duration": 165,
    "start_time": "2021-12-05T21:08:55.188Z"
   },
   {
    "duration": 25,
    "start_time": "2021-12-05T21:08:55.355Z"
   },
   {
    "duration": 47,
    "start_time": "2021-12-05T21:08:55.382Z"
   },
   {
    "duration": 134,
    "start_time": "2021-12-05T21:08:55.430Z"
   },
   {
    "duration": 49,
    "start_time": "2021-12-05T21:08:55.566Z"
   },
   {
    "duration": 3,
    "start_time": "2021-12-05T21:08:55.617Z"
   },
   {
    "duration": 71,
    "start_time": "2021-12-05T21:08:55.622Z"
   },
   {
    "duration": 1150,
    "start_time": "2021-12-05T21:10:02.759Z"
   },
   {
    "duration": 841,
    "start_time": "2021-12-05T21:10:03.911Z"
   },
   {
    "duration": 153,
    "start_time": "2021-12-05T21:10:04.755Z"
   },
   {
    "duration": 1265,
    "start_time": "2021-12-05T21:10:04.911Z"
   },
   {
    "duration": 100,
    "start_time": "2021-12-05T21:10:06.178Z"
   },
   {
    "duration": 12,
    "start_time": "2021-12-05T21:10:06.280Z"
   },
   {
    "duration": 62,
    "start_time": "2021-12-05T21:10:06.293Z"
   },
   {
    "duration": 12,
    "start_time": "2021-12-05T21:10:06.358Z"
   },
   {
    "duration": 9,
    "start_time": "2021-12-05T21:10:06.373Z"
   },
   {
    "duration": 8,
    "start_time": "2021-12-05T21:10:06.384Z"
   },
   {
    "duration": 7,
    "start_time": "2021-12-05T21:10:06.394Z"
   },
   {
    "duration": 7,
    "start_time": "2021-12-05T21:10:06.403Z"
   },
   {
    "duration": 22,
    "start_time": "2021-12-05T21:10:06.412Z"
   },
   {
    "duration": 23,
    "start_time": "2021-12-05T21:10:06.463Z"
   },
   {
    "duration": 169,
    "start_time": "2021-12-05T21:10:06.487Z"
   },
   {
    "duration": 24,
    "start_time": "2021-12-05T21:10:06.658Z"
   },
   {
    "duration": 39,
    "start_time": "2021-12-05T21:10:06.684Z"
   },
   {
    "duration": 127,
    "start_time": "2021-12-05T21:10:06.725Z"
   },
   {
    "duration": 41,
    "start_time": "2021-12-05T21:10:06.854Z"
   },
   {
    "duration": 3,
    "start_time": "2021-12-05T21:10:06.897Z"
   },
   {
    "duration": 67,
    "start_time": "2021-12-05T21:10:06.902Z"
   },
   {
    "duration": 175156,
    "start_time": "2021-12-05T21:10:06.971Z"
   },
   {
    "duration": 440,
    "start_time": "2021-12-05T21:13:02.131Z"
   },
   {
    "duration": 5,
    "start_time": "2021-12-05T21:13:02.573Z"
   },
   {
    "duration": 38,
    "start_time": "2021-12-05T21:13:02.579Z"
   },
   {
    "duration": 279,
    "start_time": "2021-12-05T21:13:02.619Z"
   },
   {
    "duration": 95971,
    "start_time": "2021-12-05T21:13:02.900Z"
   },
   {
    "duration": 4892,
    "start_time": "2021-12-05T21:14:38.874Z"
   },
   {
    "duration": 1178,
    "start_time": "2021-12-05T21:14:43.768Z"
   },
   {
    "duration": 48121,
    "start_time": "2021-12-05T21:14:44.948Z"
   },
   {
    "duration": 2073,
    "start_time": "2021-12-05T21:15:33.071Z"
   },
   {
    "duration": 187,
    "start_time": "2021-12-05T21:15:35.213Z"
   },
   {
    "duration": 177,
    "start_time": "2021-12-05T21:15:53.753Z"
   },
   {
    "duration": 281,
    "start_time": "2021-12-05T21:16:37.164Z"
   },
   {
    "duration": 233,
    "start_time": "2021-12-05T21:16:44.004Z"
   },
   {
    "duration": 151156,
    "start_time": "2021-12-05T21:20:58.602Z"
   },
   {
    "duration": 5681,
    "start_time": "2021-12-05T21:24:05.703Z"
   },
   {
    "duration": 662,
    "start_time": "2021-12-05T21:35:31.003Z"
   },
   {
    "duration": 5114,
    "start_time": "2021-12-05T21:35:50.292Z"
   },
   {
    "duration": 8047,
    "start_time": "2021-12-05T21:36:28.918Z"
   },
   {
    "duration": 9664,
    "start_time": "2021-12-05T21:37:07.709Z"
   },
   {
    "duration": 10919,
    "start_time": "2021-12-05T21:37:55.979Z"
   },
   {
    "duration": 8117,
    "start_time": "2021-12-05T21:39:41.357Z"
   },
   {
    "duration": 331,
    "start_time": "2021-12-05T21:39:53.643Z"
   },
   {
    "duration": 8430,
    "start_time": "2021-12-05T21:40:53.942Z"
   },
   {
    "duration": 8026,
    "start_time": "2021-12-05T21:41:10.248Z"
   },
   {
    "duration": 359,
    "start_time": "2021-12-05T21:42:25.627Z"
   },
   {
    "duration": 8094,
    "start_time": "2021-12-05T21:42:30.980Z"
   },
   {
    "duration": 241,
    "start_time": "2021-12-05T21:42:42.289Z"
   },
   {
    "duration": 241,
    "start_time": "2021-12-05T21:43:42.306Z"
   },
   {
    "duration": 8025,
    "start_time": "2021-12-05T21:43:50.650Z"
   },
   {
    "duration": 838,
    "start_time": "2021-12-05T21:44:05.661Z"
   },
   {
    "duration": 56,
    "start_time": "2021-12-05T21:44:29.916Z"
   },
   {
    "duration": 8023,
    "start_time": "2021-12-05T21:45:28.452Z"
   },
   {
    "duration": 51,
    "start_time": "2021-12-05T21:45:39.848Z"
   },
   {
    "duration": 9676,
    "start_time": "2021-12-05T21:45:43.988Z"
   },
   {
    "duration": 1199,
    "start_time": "2021-12-05T21:46:03.773Z"
   },
   {
    "duration": 11161,
    "start_time": "2021-12-05T21:46:10.492Z"
   },
   {
    "duration": 1456,
    "start_time": "2021-12-05T21:46:25.223Z"
   },
   {
    "duration": 251,
    "start_time": "2021-12-05T21:48:11.261Z"
   },
   {
    "duration": 7,
    "start_time": "2021-12-05T21:48:26.965Z"
   },
   {
    "duration": 247,
    "start_time": "2021-12-05T21:48:35.605Z"
   },
   {
    "duration": 4,
    "start_time": "2021-12-05T21:48:40.225Z"
   },
   {
    "duration": 279,
    "start_time": "2021-12-05T21:50:21.178Z"
   },
   {
    "duration": 3312,
    "start_time": "2021-12-05T21:50:35.278Z"
   },
   {
    "duration": 3455,
    "start_time": "2021-12-05T21:50:47.743Z"
   },
   {
    "duration": 29096,
    "start_time": "2021-12-05T21:51:36.883Z"
   },
   {
    "duration": 28784,
    "start_time": "2021-12-05T21:52:13.108Z"
   },
   {
    "duration": 29099,
    "start_time": "2021-12-05T21:53:44.101Z"
   },
   {
    "duration": 8314,
    "start_time": "2021-12-05T21:54:28.396Z"
   },
   {
    "duration": 67,
    "start_time": "2021-12-05T21:54:42.002Z"
   },
   {
    "duration": 9841,
    "start_time": "2021-12-05T21:59:31.732Z"
   },
   {
    "duration": 9951,
    "start_time": "2021-12-05T22:00:04.821Z"
   },
   {
    "duration": 1146,
    "start_time": "2021-12-05T22:00:19.837Z"
   },
   {
    "duration": 8615,
    "start_time": "2021-12-05T22:01:21.265Z"
   },
   {
    "duration": 8167,
    "start_time": "2021-12-05T22:01:36.413Z"
   },
   {
    "duration": 943,
    "start_time": "2021-12-05T22:01:48.429Z"
   },
   {
    "duration": 6559,
    "start_time": "2021-12-05T22:02:33.114Z"
   },
   {
    "duration": 5975,
    "start_time": "2021-12-05T22:02:55.389Z"
   },
   {
    "duration": 681,
    "start_time": "2021-12-05T22:03:06.085Z"
   },
   {
    "duration": 13907,
    "start_time": "2021-12-05T22:03:28.269Z"
   },
   {
    "duration": 12638,
    "start_time": "2021-12-05T22:03:47.336Z"
   },
   {
    "duration": 1542,
    "start_time": "2021-12-05T22:04:11.740Z"
   },
   {
    "duration": 203,
    "start_time": "2021-12-05T22:13:01.513Z"
   },
   {
    "duration": 161,
    "start_time": "2021-12-05T22:13:56.421Z"
   },
   {
    "duration": 170,
    "start_time": "2021-12-05T22:14:32.030Z"
   },
   {
    "duration": 29247,
    "start_time": "2021-12-05T22:15:12.159Z"
   },
   {
    "duration": 7957,
    "start_time": "2021-12-05T22:15:51.217Z"
   },
   {
    "duration": 52,
    "start_time": "2021-12-05T22:16:02.047Z"
   },
   {
    "duration": 29421,
    "start_time": "2021-12-05T22:16:14.783Z"
   },
   {
    "duration": 8019,
    "start_time": "2021-12-05T22:17:02.155Z"
   },
   {
    "duration": 103,
    "start_time": "2021-12-05T22:17:14.065Z"
   },
   {
    "duration": 6555,
    "start_time": "2021-12-05T22:19:17.816Z"
   },
   {
    "duration": 5732,
    "start_time": "2021-12-05T22:19:36.837Z"
   },
   {
    "duration": 716,
    "start_time": "2021-12-05T22:19:49.661Z"
   },
   {
    "duration": 91340,
    "start_time": "2021-12-05T22:20:38.832Z"
   },
   {
    "duration": 7635,
    "start_time": "2021-12-05T22:22:20.054Z"
   },
   {
    "duration": 949,
    "start_time": "2021-12-05T22:22:32.488Z"
   },
   {
    "duration": 14085,
    "start_time": "2021-12-05T22:22:56.579Z"
   },
   {
    "duration": 9244,
    "start_time": "2021-12-05T22:23:17.927Z"
   },
   {
    "duration": 1088,
    "start_time": "2021-12-05T22:23:31.785Z"
   },
   {
    "duration": 8170,
    "start_time": "2021-12-05T22:23:45.705Z"
   },
   {
    "duration": 7731,
    "start_time": "2021-12-05T22:23:57.645Z"
   },
   {
    "duration": 940,
    "start_time": "2021-12-05T22:24:35.042Z"
   },
   {
    "duration": 6930,
    "start_time": "2021-12-05T22:24:45.541Z"
   },
   {
    "duration": 6613,
    "start_time": "2021-12-05T22:24:55.561Z"
   },
   {
    "duration": 752,
    "start_time": "2021-12-05T22:25:06.512Z"
   },
   {
    "duration": 1181,
    "start_time": "2021-12-05T22:28:09.572Z"
   },
   {
    "duration": 810,
    "start_time": "2021-12-05T22:28:10.755Z"
   },
   {
    "duration": 149,
    "start_time": "2021-12-05T22:28:11.567Z"
   },
   {
    "duration": 1254,
    "start_time": "2021-12-05T22:28:11.719Z"
   },
   {
    "duration": 98,
    "start_time": "2021-12-05T22:28:12.974Z"
   },
   {
    "duration": 13,
    "start_time": "2021-12-05T22:28:13.074Z"
   },
   {
    "duration": 30,
    "start_time": "2021-12-05T22:28:13.089Z"
   },
   {
    "duration": 23,
    "start_time": "2021-12-05T22:28:13.121Z"
   },
   {
    "duration": 19,
    "start_time": "2021-12-05T22:28:13.147Z"
   },
   {
    "duration": 31,
    "start_time": "2021-12-05T22:28:13.168Z"
   },
   {
    "duration": 20,
    "start_time": "2021-12-05T22:28:13.201Z"
   },
   {
    "duration": 29,
    "start_time": "2021-12-05T22:28:13.223Z"
   },
   {
    "duration": 40,
    "start_time": "2021-12-05T22:28:13.253Z"
   },
   {
    "duration": 22,
    "start_time": "2021-12-05T22:28:13.295Z"
   },
   {
    "duration": 184,
    "start_time": "2021-12-05T22:28:13.319Z"
   },
   {
    "duration": 23,
    "start_time": "2021-12-05T22:28:13.505Z"
   },
   {
    "duration": 54,
    "start_time": "2021-12-05T22:28:13.530Z"
   },
   {
    "duration": 115,
    "start_time": "2021-12-05T22:28:13.585Z"
   },
   {
    "duration": 40,
    "start_time": "2021-12-05T22:28:13.701Z"
   },
   {
    "duration": 3,
    "start_time": "2021-12-05T22:28:13.743Z"
   },
   {
    "duration": 51,
    "start_time": "2021-12-05T22:28:13.763Z"
   },
   {
    "duration": 173896,
    "start_time": "2021-12-05T22:28:13.816Z"
   },
   {
    "duration": 357,
    "start_time": "2021-12-05T22:31:07.714Z"
   },
   {
    "duration": 4,
    "start_time": "2021-12-05T22:31:08.072Z"
   },
   {
    "duration": 332,
    "start_time": "2021-12-05T22:31:08.077Z"
   },
   {
    "duration": 14062,
    "start_time": "2021-12-05T22:31:08.411Z"
   },
   {
    "duration": 4801,
    "start_time": "2021-12-05T22:31:22.476Z"
   },
   {
    "duration": 1168,
    "start_time": "2021-12-05T22:31:27.280Z"
   },
   {
    "duration": 92131,
    "start_time": "2021-12-05T22:31:28.450Z"
   },
   {
    "duration": 3906,
    "start_time": "2021-12-05T22:33:00.584Z"
   },
   {
    "duration": 29625,
    "start_time": "2021-12-05T22:33:04.492Z"
   },
   {
    "duration": 8063,
    "start_time": "2021-12-05T22:33:34.119Z"
   },
   {
    "duration": 110,
    "start_time": "2021-12-05T22:33:42.184Z"
   },
   {
    "duration": 7275,
    "start_time": "2021-12-05T22:33:42.296Z"
   },
   {
    "duration": 6410,
    "start_time": "2021-12-05T22:33:49.573Z"
   },
   {
    "duration": 800,
    "start_time": "2021-12-05T22:33:56.064Z"
   },
   {
    "duration": 92661,
    "start_time": "2021-12-05T22:33:56.866Z"
   },
   {
    "duration": 7703,
    "start_time": "2021-12-05T22:35:29.528Z"
   },
   {
    "duration": 970,
    "start_time": "2021-12-05T22:35:37.233Z"
   },
   {
    "duration": 1215,
    "start_time": "2021-12-05T22:38:39.056Z"
   },
   {
    "duration": 856,
    "start_time": "2021-12-05T22:38:40.273Z"
   },
   {
    "duration": 157,
    "start_time": "2021-12-05T22:38:41.131Z"
   },
   {
    "duration": 1306,
    "start_time": "2021-12-05T22:38:41.290Z"
   },
   {
    "duration": 98,
    "start_time": "2021-12-05T22:38:42.598Z"
   },
   {
    "duration": 14,
    "start_time": "2021-12-05T22:38:42.698Z"
   },
   {
    "duration": 7,
    "start_time": "2021-12-05T22:38:42.714Z"
   },
   {
    "duration": 9,
    "start_time": "2021-12-05T22:38:42.723Z"
   },
   {
    "duration": 34,
    "start_time": "2021-12-05T22:38:42.735Z"
   },
   {
    "duration": 7,
    "start_time": "2021-12-05T22:38:42.771Z"
   },
   {
    "duration": 7,
    "start_time": "2021-12-05T22:38:42.780Z"
   },
   {
    "duration": 7,
    "start_time": "2021-12-05T22:38:42.789Z"
   },
   {
    "duration": 23,
    "start_time": "2021-12-05T22:38:42.797Z"
   },
   {
    "duration": 58,
    "start_time": "2021-12-05T22:38:42.822Z"
   },
   {
    "duration": 171,
    "start_time": "2021-12-05T22:38:42.881Z"
   },
   {
    "duration": 26,
    "start_time": "2021-12-05T22:38:43.054Z"
   },
   {
    "duration": 58,
    "start_time": "2021-12-05T22:38:43.082Z"
   },
   {
    "duration": 134,
    "start_time": "2021-12-05T22:38:43.142Z"
   },
   {
    "duration": 40,
    "start_time": "2021-12-05T22:38:43.278Z"
   },
   {
    "duration": 3,
    "start_time": "2021-12-05T22:38:43.320Z"
   },
   {
    "duration": 64,
    "start_time": "2021-12-05T22:38:43.325Z"
   },
   {
    "duration": 174630,
    "start_time": "2021-12-05T22:38:43.391Z"
   },
   {
    "duration": 448,
    "start_time": "2021-12-05T22:41:38.023Z"
   },
   {
    "duration": 5,
    "start_time": "2021-12-05T22:41:38.473Z"
   },
   {
    "duration": 326,
    "start_time": "2021-12-05T22:41:38.479Z"
   },
   {
    "duration": 12664,
    "start_time": "2021-12-05T22:41:38.807Z"
   },
   {
    "duration": 4804,
    "start_time": "2021-12-05T22:41:51.474Z"
   },
   {
    "duration": 1119,
    "start_time": "2021-12-05T22:41:56.280Z"
   },
   {
    "duration": 91988,
    "start_time": "2021-12-05T22:41:57.401Z"
   },
   {
    "duration": 3789,
    "start_time": "2021-12-05T22:43:29.391Z"
   },
   {
    "duration": 29525,
    "start_time": "2021-12-05T22:43:33.182Z"
   },
   {
    "duration": 8067,
    "start_time": "2021-12-05T22:44:02.709Z"
   },
   {
    "duration": 113,
    "start_time": "2021-12-05T22:44:10.778Z"
   },
   {
    "duration": 7570,
    "start_time": "2021-12-05T22:44:10.893Z"
   },
   {
    "duration": 6509,
    "start_time": "2021-12-05T22:44:18.466Z"
   },
   {
    "duration": 892,
    "start_time": "2021-12-05T22:44:24.977Z"
   },
   {
    "duration": 92056,
    "start_time": "2021-12-05T22:44:25.871Z"
   },
   {
    "duration": 7719,
    "start_time": "2021-12-05T22:45:57.929Z"
   },
   {
    "duration": 950,
    "start_time": "2021-12-05T22:46:05.650Z"
   },
   {
    "duration": 1104,
    "start_time": "2021-12-26T21:37:59.684Z"
   },
   {
    "duration": 825,
    "start_time": "2021-12-26T21:38:00.790Z"
   },
   {
    "duration": 147,
    "start_time": "2021-12-26T21:38:01.618Z"
   },
   {
    "duration": 1204,
    "start_time": "2021-12-26T21:38:01.767Z"
   },
   {
    "duration": 82,
    "start_time": "2021-12-26T21:38:02.973Z"
   },
   {
    "duration": 11,
    "start_time": "2021-12-26T21:38:03.057Z"
   },
   {
    "duration": 7,
    "start_time": "2021-12-26T21:38:03.070Z"
   },
   {
    "duration": 9,
    "start_time": "2021-12-26T21:38:03.093Z"
   },
   {
    "duration": 9,
    "start_time": "2021-12-26T21:38:03.103Z"
   },
   {
    "duration": 6,
    "start_time": "2021-12-26T21:38:03.114Z"
   },
   {
    "duration": 7,
    "start_time": "2021-12-26T21:38:03.122Z"
   },
   {
    "duration": 8,
    "start_time": "2021-12-26T21:38:03.130Z"
   },
   {
    "duration": 57,
    "start_time": "2021-12-26T21:38:03.139Z"
   },
   {
    "duration": 20,
    "start_time": "2021-12-26T21:38:03.198Z"
   },
   {
    "duration": 163,
    "start_time": "2021-12-26T21:38:03.219Z"
   },
   {
    "duration": 25,
    "start_time": "2021-12-26T21:38:03.383Z"
   },
   {
    "duration": 38,
    "start_time": "2021-12-26T21:38:03.410Z"
   },
   {
    "duration": 127,
    "start_time": "2021-12-26T21:38:03.449Z"
   },
   {
    "duration": 46,
    "start_time": "2021-12-26T21:38:03.578Z"
   },
   {
    "duration": 5,
    "start_time": "2021-12-26T21:38:03.626Z"
   },
   {
    "duration": 45,
    "start_time": "2021-12-26T21:38:03.632Z"
   },
   {
    "duration": 166609,
    "start_time": "2021-12-26T21:38:03.692Z"
   },
   {
    "duration": 327,
    "start_time": "2021-12-26T21:40:50.305Z"
   },
   {
    "duration": 58,
    "start_time": "2021-12-26T21:40:50.634Z"
   },
   {
    "duration": 320,
    "start_time": "2021-12-26T21:40:50.693Z"
   },
   {
    "duration": 13277,
    "start_time": "2021-12-26T21:40:51.015Z"
   },
   {
    "duration": 4898,
    "start_time": "2021-12-26T21:41:04.294Z"
   },
   {
    "duration": 1071,
    "start_time": "2021-12-26T21:41:09.194Z"
   },
   {
    "duration": 79020,
    "start_time": "2021-12-26T21:41:10.267Z"
   },
   {
    "duration": 3501,
    "start_time": "2021-12-26T21:42:29.291Z"
   },
   {
    "duration": 29151,
    "start_time": "2021-12-26T21:42:32.794Z"
   },
   {
    "duration": 7955,
    "start_time": "2021-12-26T21:43:01.947Z"
   },
   {
    "duration": 108,
    "start_time": "2021-12-26T21:43:09.903Z"
   },
   {
    "duration": 7687,
    "start_time": "2021-12-26T21:43:10.012Z"
   },
   {
    "duration": 6204,
    "start_time": "2021-12-26T21:43:17.701Z"
   },
   {
    "duration": 791,
    "start_time": "2021-12-26T21:43:23.907Z"
   },
   {
    "duration": 78515,
    "start_time": "2021-12-26T21:43:24.700Z"
   },
   {
    "duration": 6921,
    "start_time": "2021-12-26T21:44:43.217Z"
   },
   {
    "duration": 894,
    "start_time": "2021-12-26T21:44:50.139Z"
   },
   {
    "duration": 23464,
    "start_time": "2021-12-26T21:44:51.034Z"
   },
   {
    "duration": 18729,
    "start_time": "2021-12-26T21:45:14.500Z"
   },
   {
    "duration": 2360,
    "start_time": "2021-12-26T21:45:33.232Z"
   },
   {
    "duration": 1050,
    "start_time": "2021-12-26T22:02:16.156Z"
   },
   {
    "duration": 772,
    "start_time": "2021-12-26T22:02:17.208Z"
   },
   {
    "duration": 144,
    "start_time": "2021-12-26T22:02:17.982Z"
   },
   {
    "duration": 1201,
    "start_time": "2021-12-26T22:02:18.128Z"
   },
   {
    "duration": 83,
    "start_time": "2021-12-26T22:02:19.331Z"
   },
   {
    "duration": 12,
    "start_time": "2021-12-26T22:02:19.415Z"
   },
   {
    "duration": 9,
    "start_time": "2021-12-26T22:02:19.428Z"
   },
   {
    "duration": 10,
    "start_time": "2021-12-26T22:02:19.438Z"
   },
   {
    "duration": 8,
    "start_time": "2021-12-26T22:02:19.450Z"
   },
   {
    "duration": 36,
    "start_time": "2021-12-26T22:02:19.460Z"
   },
   {
    "duration": 6,
    "start_time": "2021-12-26T22:02:19.498Z"
   },
   {
    "duration": 6,
    "start_time": "2021-12-26T22:02:19.506Z"
   },
   {
    "duration": 23,
    "start_time": "2021-12-26T22:02:19.513Z"
   },
   {
    "duration": 20,
    "start_time": "2021-12-26T22:02:19.538Z"
   },
   {
    "duration": 187,
    "start_time": "2021-12-26T22:02:19.560Z"
   },
   {
    "duration": 21,
    "start_time": "2021-12-26T22:02:19.749Z"
   },
   {
    "duration": 48,
    "start_time": "2021-12-26T22:02:19.772Z"
   },
   {
    "duration": 108,
    "start_time": "2021-12-26T22:02:19.822Z"
   },
   {
    "duration": 38,
    "start_time": "2021-12-26T22:02:19.931Z"
   },
   {
    "duration": 3,
    "start_time": "2021-12-26T22:02:19.971Z"
   },
   {
    "duration": 43,
    "start_time": "2021-12-26T22:02:19.991Z"
   },
   {
    "duration": 167837,
    "start_time": "2021-12-26T22:02:20.036Z"
   },
   {
    "duration": 341,
    "start_time": "2021-12-26T22:05:07.875Z"
   },
   {
    "duration": 4,
    "start_time": "2021-12-26T22:05:08.217Z"
   },
   {
    "duration": 379,
    "start_time": "2021-12-26T22:05:08.223Z"
   },
   {
    "duration": 13698,
    "start_time": "2021-12-26T22:05:08.603Z"
   },
   {
    "duration": 4796,
    "start_time": "2021-12-26T22:05:22.304Z"
   },
   {
    "duration": 1042,
    "start_time": "2021-12-26T22:05:27.102Z"
   },
   {
    "duration": 81056,
    "start_time": "2021-12-26T22:05:28.146Z"
   },
   {
    "duration": 3507,
    "start_time": "2021-12-26T22:06:49.204Z"
   },
   {
    "duration": 29625,
    "start_time": "2021-12-26T22:06:52.713Z"
   },
   {
    "duration": 8060,
    "start_time": "2021-12-26T22:07:22.340Z"
   },
   {
    "duration": 98,
    "start_time": "2021-12-26T22:07:30.401Z"
   },
   {
    "duration": 7496,
    "start_time": "2021-12-26T22:07:30.501Z"
   },
   {
    "duration": 6395,
    "start_time": "2021-12-26T22:07:38.000Z"
   },
   {
    "duration": 895,
    "start_time": "2021-12-26T22:07:44.397Z"
   },
   {
    "duration": 79983,
    "start_time": "2021-12-26T22:07:45.294Z"
   },
   {
    "duration": 7351,
    "start_time": "2021-12-26T22:09:05.278Z"
   },
   {
    "duration": 940,
    "start_time": "2021-12-26T22:09:12.631Z"
   },
   {
    "duration": 1080,
    "start_time": "2021-12-27T09:42:06.754Z"
   },
   {
    "duration": 755,
    "start_time": "2021-12-27T09:42:08.086Z"
   },
   {
    "duration": 142,
    "start_time": "2021-12-27T09:42:08.852Z"
   },
   {
    "duration": 1142,
    "start_time": "2021-12-27T09:43:55.658Z"
   },
   {
    "duration": 81,
    "start_time": "2021-12-27T09:45:30.599Z"
   },
   {
    "duration": 13,
    "start_time": "2021-12-27T09:45:32.001Z"
   },
   {
    "duration": 8,
    "start_time": "2021-12-27T09:46:07.880Z"
   },
   {
    "duration": 10,
    "start_time": "2021-12-27T09:46:08.435Z"
   },
   {
    "duration": 10,
    "start_time": "2021-12-27T09:46:08.965Z"
   },
   {
    "duration": 7,
    "start_time": "2021-12-27T09:46:09.568Z"
   },
   {
    "duration": 8,
    "start_time": "2021-12-27T09:46:10.260Z"
   },
   {
    "duration": 7,
    "start_time": "2021-12-27T09:46:10.868Z"
   },
   {
    "duration": 23,
    "start_time": "2021-12-27T09:46:15.635Z"
   },
   {
    "duration": 21,
    "start_time": "2021-12-27T09:46:17.060Z"
   },
   {
    "duration": 151,
    "start_time": "2021-12-27T09:46:18.586Z"
   },
   {
    "duration": 23,
    "start_time": "2021-12-27T09:46:24.119Z"
   },
   {
    "duration": 36,
    "start_time": "2021-12-27T09:46:25.205Z"
   },
   {
    "duration": 98,
    "start_time": "2021-12-27T09:46:27.968Z"
   },
   {
    "duration": 39,
    "start_time": "2021-12-27T09:46:28.398Z"
   },
   {
    "duration": 3,
    "start_time": "2021-12-27T09:54:51.321Z"
   },
   {
    "duration": 42,
    "start_time": "2021-12-27T09:54:51.966Z"
   },
   {
    "duration": 165907,
    "start_time": "2021-12-27T09:55:08.457Z"
   },
   {
    "duration": 307,
    "start_time": "2021-12-27T09:57:54.366Z"
   },
   {
    "duration": 5,
    "start_time": "2021-12-27T09:57:54.675Z"
   },
   {
    "duration": 369,
    "start_time": "2021-12-27T09:57:54.683Z"
   },
   {
    "duration": 12292,
    "start_time": "2021-12-27T09:57:55.054Z"
   },
   {
    "duration": 4507,
    "start_time": "2021-12-27T09:58:07.348Z"
   },
   {
    "duration": 1054,
    "start_time": "2021-12-27T09:58:11.857Z"
   },
   {
    "duration": 79459,
    "start_time": "2021-12-27T09:58:12.913Z"
   },
   {
    "duration": 3274,
    "start_time": "2021-12-27T09:59:32.373Z"
   },
   {
    "duration": 27753,
    "start_time": "2021-12-27T09:59:35.649Z"
   },
   {
    "duration": 7567,
    "start_time": "2021-12-27T10:00:03.404Z"
   },
   {
    "duration": 97,
    "start_time": "2021-12-27T10:00:10.973Z"
   },
   {
    "duration": 7071,
    "start_time": "2021-12-27T10:00:11.072Z"
   },
   {
    "duration": 6112,
    "start_time": "2021-12-27T10:00:18.145Z"
   },
   {
    "duration": 794,
    "start_time": "2021-12-27T10:00:24.259Z"
   },
   {
    "duration": 78757,
    "start_time": "2021-12-27T10:00:25.055Z"
   },
   {
    "duration": 6693,
    "start_time": "2021-12-27T10:01:43.814Z"
   },
   {
    "duration": 879,
    "start_time": "2021-12-27T10:01:50.509Z"
   }
  ],
  "kernelspec": {
   "display_name": "Python 3 (ipykernel)",
   "language": "python",
   "name": "python3"
  },
  "language_info": {
   "codemirror_mode": {
    "name": "ipython",
    "version": 3
   },
   "file_extension": ".py",
   "mimetype": "text/x-python",
   "name": "python",
   "nbconvert_exporter": "python",
   "pygments_lexer": "ipython3",
   "version": "3.10.5"
  },
  "toc": {
   "base_numbering": 1,
   "nav_menu": {},
   "number_sections": true,
   "sideBar": true,
   "skip_h1_title": true,
   "title_cell": "Table of Contents",
   "title_sidebar": "Contents",
   "toc_cell": false,
   "toc_position": {},
   "toc_section_display": true,
   "toc_window_display": true
  }
 },
 "nbformat": 4,
 "nbformat_minor": 2
}
