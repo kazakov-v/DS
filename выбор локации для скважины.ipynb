{
 "cells": [
  {
   "cell_type": "markdown",
   "metadata": {},
   "source": [
    "# Выбор локации для скважины"
   ]
  },
  {
   "cell_type": "markdown",
   "metadata": {},
   "source": [
    "Допустим, вы работаете в добывающей компании «ГлавРосГосНефть». Нужно решить, где бурить новую скважину.\n",
    "\n",
    "Вам предоставлены пробы нефти в трёх регионах: в каждом 10 000 месторождений, где измерили качество нефти и объём её запасов. Постройте модель машинного обучения, которая поможет определить регион, где добыча принесёт наибольшую прибыль. Проанализируйте возможную прибыль и риски техникой *Bootstrap.*\n",
    "\n",
    "Шаги для выбора локации:\n",
    "\n",
    "- В избранном регионе ищут месторождения, для каждого определяют значения признаков;\n",
    "- Строят модель и оценивают объём запасов;\n",
    "- Выбирают месторождения с самым высокими оценками значений. Количество месторождений зависит от бюджета компании и стоимости разработки одной скважины;\n",
    "- Прибыль равна суммарной прибыли отобранных месторождений."
   ]
  },
  {
   "cell_type": "code",
   "execution_count": 1,
   "metadata": {},
   "outputs": [],
   "source": [
    "RS = 123\n",
    "import pandas as pd\n",
    "import numpy as np\n",
    "from sklearn.model_selection import train_test_split\n",
    "from sklearn.linear_model import LinearRegression\n",
    "from sklearn.metrics import mean_squared_error"
   ]
  },
  {
   "cell_type": "markdown",
   "metadata": {},
   "source": [
    "## Загрузка и подготовка данных"
   ]
  },
  {
   "cell_type": "markdown",
   "metadata": {},
   "source": [
    "----------\n",
    "### Регион '0':"
   ]
  },
  {
   "cell_type": "code",
   "execution_count": 2,
   "metadata": {
    "scrolled": false
   },
   "outputs": [
    {
     "name": "stdout",
     "output_type": "stream",
     "text": [
      "<class 'pandas.core.frame.DataFrame'>\n",
      "RangeIndex: 100000 entries, 0 to 99999\n",
      "Data columns (total 5 columns):\n",
      "id         100000 non-null object\n",
      "f0         100000 non-null float64\n",
      "f1         100000 non-null float64\n",
      "f2         100000 non-null float64\n",
      "product    100000 non-null float64\n",
      "dtypes: float64(4), object(1)\n",
      "memory usage: 3.8+ MB\n"
     ]
    }
   ],
   "source": [
    "rg_0 = pd.read_csv('/datasets/geo_data_0.csv')\n",
    "rg_0.info()"
   ]
  },
  {
   "cell_type": "code",
   "execution_count": 3,
   "metadata": {},
   "outputs": [
    {
     "name": "stdout",
     "output_type": "stream",
     "text": [
      "Дубликатов строк: 0\n",
      "Количество уникальных id: 99990\n",
      "\n",
      "Описание числовых признаков:\n"
     ]
    },
    {
     "data": {
      "text/html": [
       "<div>\n",
       "<style scoped>\n",
       "    .dataframe tbody tr th:only-of-type {\n",
       "        vertical-align: middle;\n",
       "    }\n",
       "\n",
       "    .dataframe tbody tr th {\n",
       "        vertical-align: top;\n",
       "    }\n",
       "\n",
       "    .dataframe thead th {\n",
       "        text-align: right;\n",
       "    }\n",
       "</style>\n",
       "<table border=\"1\" class=\"dataframe\">\n",
       "  <thead>\n",
       "    <tr style=\"text-align: right;\">\n",
       "      <th></th>\n",
       "      <th>f0</th>\n",
       "      <th>f1</th>\n",
       "      <th>f2</th>\n",
       "      <th>product</th>\n",
       "    </tr>\n",
       "  </thead>\n",
       "  <tbody>\n",
       "    <tr>\n",
       "      <td>count</td>\n",
       "      <td>100000.000</td>\n",
       "      <td>100000.000</td>\n",
       "      <td>100000.000</td>\n",
       "      <td>100000.000</td>\n",
       "    </tr>\n",
       "    <tr>\n",
       "      <td>mean</td>\n",
       "      <td>0.500</td>\n",
       "      <td>0.250</td>\n",
       "      <td>2.503</td>\n",
       "      <td>92.500</td>\n",
       "    </tr>\n",
       "    <tr>\n",
       "      <td>std</td>\n",
       "      <td>0.872</td>\n",
       "      <td>0.504</td>\n",
       "      <td>3.248</td>\n",
       "      <td>44.289</td>\n",
       "    </tr>\n",
       "    <tr>\n",
       "      <td>min</td>\n",
       "      <td>-1.409</td>\n",
       "      <td>-0.848</td>\n",
       "      <td>-12.088</td>\n",
       "      <td>0.000</td>\n",
       "    </tr>\n",
       "    <tr>\n",
       "      <td>25%</td>\n",
       "      <td>-0.073</td>\n",
       "      <td>-0.201</td>\n",
       "      <td>0.288</td>\n",
       "      <td>56.498</td>\n",
       "    </tr>\n",
       "    <tr>\n",
       "      <td>50%</td>\n",
       "      <td>0.502</td>\n",
       "      <td>0.250</td>\n",
       "      <td>2.516</td>\n",
       "      <td>91.850</td>\n",
       "    </tr>\n",
       "    <tr>\n",
       "      <td>75%</td>\n",
       "      <td>1.074</td>\n",
       "      <td>0.701</td>\n",
       "      <td>4.715</td>\n",
       "      <td>128.564</td>\n",
       "    </tr>\n",
       "    <tr>\n",
       "      <td>max</td>\n",
       "      <td>2.362</td>\n",
       "      <td>1.344</td>\n",
       "      <td>16.004</td>\n",
       "      <td>185.364</td>\n",
       "    </tr>\n",
       "  </tbody>\n",
       "</table>\n",
       "</div>"
      ],
      "text/plain": [
       "               f0          f1          f2     product\n",
       "count  100000.000  100000.000  100000.000  100000.000\n",
       "mean        0.500       0.250       2.503      92.500\n",
       "std         0.872       0.504       3.248      44.289\n",
       "min        -1.409      -0.848     -12.088       0.000\n",
       "25%        -0.073      -0.201       0.288      56.498\n",
       "50%         0.502       0.250       2.516      91.850\n",
       "75%         1.074       0.701       4.715     128.564\n",
       "max         2.362       1.344      16.004     185.364"
      ]
     },
     "execution_count": 3,
     "metadata": {},
     "output_type": "execute_result"
    }
   ],
   "source": [
    "print('Дубликатов строк:', rg_0.duplicated().sum())\n",
    "print('Количество уникальных id:', rg_0['id'].nunique())\n",
    "print('\\nОписание числовых признаков:')\n",
    "rg_0.describe().round(3)"
   ]
  },
  {
   "cell_type": "markdown",
   "metadata": {},
   "source": [
    "----------\n",
    "### Регион '1':"
   ]
  },
  {
   "cell_type": "code",
   "execution_count": 4,
   "metadata": {},
   "outputs": [
    {
     "name": "stdout",
     "output_type": "stream",
     "text": [
      "<class 'pandas.core.frame.DataFrame'>\n",
      "RangeIndex: 100000 entries, 0 to 99999\n",
      "Data columns (total 5 columns):\n",
      "id         100000 non-null object\n",
      "f0         100000 non-null float64\n",
      "f1         100000 non-null float64\n",
      "f2         100000 non-null float64\n",
      "product    100000 non-null float64\n",
      "dtypes: float64(4), object(1)\n",
      "memory usage: 3.8+ MB\n"
     ]
    }
   ],
   "source": [
    "rg_1 = pd.read_csv('/datasets/geo_data_1.csv')\n",
    "rg_1.info()"
   ]
  },
  {
   "cell_type": "code",
   "execution_count": 5,
   "metadata": {},
   "outputs": [
    {
     "name": "stdout",
     "output_type": "stream",
     "text": [
      "Дубликатов строк: 0\n",
      "Количество уникальных id: 99996\n",
      "\n",
      "Описание числовых признаков:\n"
     ]
    },
    {
     "data": {
      "text/html": [
       "<div>\n",
       "<style scoped>\n",
       "    .dataframe tbody tr th:only-of-type {\n",
       "        vertical-align: middle;\n",
       "    }\n",
       "\n",
       "    .dataframe tbody tr th {\n",
       "        vertical-align: top;\n",
       "    }\n",
       "\n",
       "    .dataframe thead th {\n",
       "        text-align: right;\n",
       "    }\n",
       "</style>\n",
       "<table border=\"1\" class=\"dataframe\">\n",
       "  <thead>\n",
       "    <tr style=\"text-align: right;\">\n",
       "      <th></th>\n",
       "      <th>f0</th>\n",
       "      <th>f1</th>\n",
       "      <th>f2</th>\n",
       "      <th>product</th>\n",
       "    </tr>\n",
       "  </thead>\n",
       "  <tbody>\n",
       "    <tr>\n",
       "      <td>count</td>\n",
       "      <td>100000.000</td>\n",
       "      <td>100000.000</td>\n",
       "      <td>100000.000</td>\n",
       "      <td>100000.000</td>\n",
       "    </tr>\n",
       "    <tr>\n",
       "      <td>mean</td>\n",
       "      <td>1.141</td>\n",
       "      <td>-4.797</td>\n",
       "      <td>2.495</td>\n",
       "      <td>68.825</td>\n",
       "    </tr>\n",
       "    <tr>\n",
       "      <td>std</td>\n",
       "      <td>8.966</td>\n",
       "      <td>5.120</td>\n",
       "      <td>1.704</td>\n",
       "      <td>45.944</td>\n",
       "    </tr>\n",
       "    <tr>\n",
       "      <td>min</td>\n",
       "      <td>-31.610</td>\n",
       "      <td>-26.359</td>\n",
       "      <td>-0.018</td>\n",
       "      <td>0.000</td>\n",
       "    </tr>\n",
       "    <tr>\n",
       "      <td>25%</td>\n",
       "      <td>-6.299</td>\n",
       "      <td>-8.268</td>\n",
       "      <td>1.000</td>\n",
       "      <td>26.953</td>\n",
       "    </tr>\n",
       "    <tr>\n",
       "      <td>50%</td>\n",
       "      <td>1.153</td>\n",
       "      <td>-4.813</td>\n",
       "      <td>2.011</td>\n",
       "      <td>57.086</td>\n",
       "    </tr>\n",
       "    <tr>\n",
       "      <td>75%</td>\n",
       "      <td>8.621</td>\n",
       "      <td>-1.333</td>\n",
       "      <td>4.000</td>\n",
       "      <td>107.813</td>\n",
       "    </tr>\n",
       "    <tr>\n",
       "      <td>max</td>\n",
       "      <td>29.422</td>\n",
       "      <td>18.734</td>\n",
       "      <td>5.020</td>\n",
       "      <td>137.945</td>\n",
       "    </tr>\n",
       "  </tbody>\n",
       "</table>\n",
       "</div>"
      ],
      "text/plain": [
       "               f0          f1          f2     product\n",
       "count  100000.000  100000.000  100000.000  100000.000\n",
       "mean        1.141      -4.797       2.495      68.825\n",
       "std         8.966       5.120       1.704      45.944\n",
       "min       -31.610     -26.359      -0.018       0.000\n",
       "25%        -6.299      -8.268       1.000      26.953\n",
       "50%         1.153      -4.813       2.011      57.086\n",
       "75%         8.621      -1.333       4.000     107.813\n",
       "max        29.422      18.734       5.020     137.945"
      ]
     },
     "execution_count": 5,
     "metadata": {},
     "output_type": "execute_result"
    }
   ],
   "source": [
    "print('Дубликатов строк:', rg_1.duplicated().sum())\n",
    "print('Количество уникальных id:', rg_1['id'].nunique())\n",
    "print('\\nОписание числовых признаков:')\n",
    "rg_1.describe().round(3)"
   ]
  },
  {
   "cell_type": "markdown",
   "metadata": {},
   "source": [
    "----------\n",
    "### Регион '2':"
   ]
  },
  {
   "cell_type": "code",
   "execution_count": 6,
   "metadata": {},
   "outputs": [
    {
     "name": "stdout",
     "output_type": "stream",
     "text": [
      "<class 'pandas.core.frame.DataFrame'>\n",
      "RangeIndex: 100000 entries, 0 to 99999\n",
      "Data columns (total 5 columns):\n",
      "id         100000 non-null object\n",
      "f0         100000 non-null float64\n",
      "f1         100000 non-null float64\n",
      "f2         100000 non-null float64\n",
      "product    100000 non-null float64\n",
      "dtypes: float64(4), object(1)\n",
      "memory usage: 3.8+ MB\n"
     ]
    }
   ],
   "source": [
    "rg_2 = pd.read_csv('/datasets/geo_data_2.csv')\n",
    "rg_2.info()"
   ]
  },
  {
   "cell_type": "code",
   "execution_count": 7,
   "metadata": {},
   "outputs": [
    {
     "name": "stdout",
     "output_type": "stream",
     "text": [
      "Дубликатов строк: 0\n",
      "Количество уникальных id: 99996\n",
      "\n",
      "Описание числовых признаков:\n"
     ]
    },
    {
     "data": {
      "text/html": [
       "<div>\n",
       "<style scoped>\n",
       "    .dataframe tbody tr th:only-of-type {\n",
       "        vertical-align: middle;\n",
       "    }\n",
       "\n",
       "    .dataframe tbody tr th {\n",
       "        vertical-align: top;\n",
       "    }\n",
       "\n",
       "    .dataframe thead th {\n",
       "        text-align: right;\n",
       "    }\n",
       "</style>\n",
       "<table border=\"1\" class=\"dataframe\">\n",
       "  <thead>\n",
       "    <tr style=\"text-align: right;\">\n",
       "      <th></th>\n",
       "      <th>f0</th>\n",
       "      <th>f1</th>\n",
       "      <th>f2</th>\n",
       "      <th>product</th>\n",
       "    </tr>\n",
       "  </thead>\n",
       "  <tbody>\n",
       "    <tr>\n",
       "      <td>count</td>\n",
       "      <td>100000.000</td>\n",
       "      <td>100000.000</td>\n",
       "      <td>100000.000</td>\n",
       "      <td>100000.000</td>\n",
       "    </tr>\n",
       "    <tr>\n",
       "      <td>mean</td>\n",
       "      <td>0.002</td>\n",
       "      <td>-0.002</td>\n",
       "      <td>2.495</td>\n",
       "      <td>95.000</td>\n",
       "    </tr>\n",
       "    <tr>\n",
       "      <td>std</td>\n",
       "      <td>1.732</td>\n",
       "      <td>1.730</td>\n",
       "      <td>3.473</td>\n",
       "      <td>44.750</td>\n",
       "    </tr>\n",
       "    <tr>\n",
       "      <td>min</td>\n",
       "      <td>-8.760</td>\n",
       "      <td>-7.084</td>\n",
       "      <td>-11.970</td>\n",
       "      <td>0.000</td>\n",
       "    </tr>\n",
       "    <tr>\n",
       "      <td>25%</td>\n",
       "      <td>-1.162</td>\n",
       "      <td>-1.175</td>\n",
       "      <td>0.130</td>\n",
       "      <td>59.450</td>\n",
       "    </tr>\n",
       "    <tr>\n",
       "      <td>50%</td>\n",
       "      <td>0.009</td>\n",
       "      <td>-0.009</td>\n",
       "      <td>2.484</td>\n",
       "      <td>94.926</td>\n",
       "    </tr>\n",
       "    <tr>\n",
       "      <td>75%</td>\n",
       "      <td>1.159</td>\n",
       "      <td>1.164</td>\n",
       "      <td>4.859</td>\n",
       "      <td>130.595</td>\n",
       "    </tr>\n",
       "    <tr>\n",
       "      <td>max</td>\n",
       "      <td>7.238</td>\n",
       "      <td>7.845</td>\n",
       "      <td>16.739</td>\n",
       "      <td>190.030</td>\n",
       "    </tr>\n",
       "  </tbody>\n",
       "</table>\n",
       "</div>"
      ],
      "text/plain": [
       "               f0          f1          f2     product\n",
       "count  100000.000  100000.000  100000.000  100000.000\n",
       "mean        0.002      -0.002       2.495      95.000\n",
       "std         1.732       1.730       3.473      44.750\n",
       "min        -8.760      -7.084     -11.970       0.000\n",
       "25%        -1.162      -1.175       0.130      59.450\n",
       "50%         0.009      -0.009       2.484      94.926\n",
       "75%         1.159       1.164       4.859     130.595\n",
       "max         7.238       7.845      16.739     190.030"
      ]
     },
     "execution_count": 7,
     "metadata": {},
     "output_type": "execute_result"
    }
   ],
   "source": [
    "print('Дубликатов строк:', rg_2.duplicated().sum())\n",
    "print('Количество уникальных id:', rg_2['id'].nunique())\n",
    "print('\\nОписание числовых признаков:')\n",
    "rg_2.describe().round(3)"
   ]
  },
  {
   "cell_type": "markdown",
   "metadata": {},
   "source": [
    "### Вывод:  \n",
    "Данные разных регионов имеют схожую структуру, пропуски данных и дубликаты строк отсутствуют.  \n",
    "Идентификатор скважины для обучения модели не нужен, его следует удалить."
   ]
  },
  {
   "cell_type": "markdown",
   "metadata": {},
   "source": [
    "## Обучение и проверка модели"
   ]
  },
  {
   "cell_type": "code",
   "execution_count": 8,
   "metadata": {},
   "outputs": [],
   "source": [
    "def split(df):\n",
    "    train_df, valid_df = train_test_split(df, test_size = 0.25, random_state = RS)\n",
    "    Y_train = train_df['product']\n",
    "    X_train = train_df.drop(['id','product'], axis = 1)\n",
    "    Y_valid = valid_df['product']\n",
    "    X_valid = valid_df.drop(['id','product'], axis = 1)\n",
    "    return Y_train, X_train, Y_valid, X_valid"
   ]
  },
  {
   "cell_type": "markdown",
   "metadata": {},
   "source": [
    "Разделим данные каждого региона на обучающую и валидационные выборки в пропроции 75% - 25%   \n",
    "и выделим признаки и цели."
   ]
  },
  {
   "cell_type": "code",
   "execution_count": 9,
   "metadata": {},
   "outputs": [],
   "source": [
    "Y_train_0, X_train_0, Y_valid_0, X_valid_0 = split(rg_0)\n",
    "Y_train_1, X_train_1, Y_valid_1, X_valid_1 = split(rg_1)\n",
    "Y_train_2, X_train_2, Y_valid_2, X_valid_2 = split(rg_2)"
   ]
  },
  {
   "cell_type": "code",
   "execution_count": 10,
   "metadata": {},
   "outputs": [],
   "source": [
    "def create_model(Y_train, X_train, Y_valid, X_valid):\n",
    "    model = LinearRegression()\n",
    "    model.fit(X_train, Y_train)\n",
    "    prediction = pd.Series(model.predict(X_valid))\n",
    "    rmse = mean_squared_error(Y_valid,prediction)**0.5\n",
    "    return prediction, rmse, model"
   ]
  },
  {
   "cell_type": "markdown",
   "metadata": {},
   "source": [
    "Обучим модели на обучающих выборках   \n",
    "и расчитаем среднеквадратичную ошибку на валидационных выборках."
   ]
  },
  {
   "cell_type": "code",
   "execution_count": 11,
   "metadata": {},
   "outputs": [],
   "source": [
    "predict_0, rmse_0, model_0 = create_model(Y_train_0, X_train_0, Y_valid_0, X_valid_0)\n",
    "predict_1, rmse_1, model_1 = create_model(Y_train_1, X_train_1, Y_valid_1, X_valid_1)\n",
    "predict_2, rmse_2, model_2 = create_model(Y_train_2, X_train_2, Y_valid_2, X_valid_2)"
   ]
  },
  {
   "cell_type": "code",
   "execution_count": 12,
   "metadata": {},
   "outputs": [
    {
     "name": "stdout",
     "output_type": "stream",
     "text": [
      "По предсказаниям моделей:\n",
      "Средний запас сырья в регионе 0: 92.549 тыс.баррелей   RMSE: 37.648\n",
      "Средний запас сырья в регионе 1: 69.280 тыс.баррелей   RMSE:  0.895\n",
      "Средний запас сырья в регионе 2: 95.099 тыс.баррелей   RMSE: 40.128\n"
     ]
    }
   ],
   "source": [
    "print('По предсказаниям моделей:')\n",
    "print(f'Средний запас сырья в регионе 0: {predict_0.mean():0.3f} тыс.баррелей   RMSE: {rmse_0:0.3f}')\n",
    "print(f'Средний запас сырья в регионе 1: {predict_1.mean():0.3f} тыс.баррелей   RMSE:  {rmse_1:0.3f}')\n",
    "print(f'Средний запас сырья в регионе 2: {predict_2.mean():0.3f} тыс.баррелей   RMSE: {rmse_2:0.3f}')"
   ]
  },
  {
   "cell_type": "markdown",
   "metadata": {},
   "source": [
    "### Вывод :  \n",
    "Наиболее точно модель линейной регрессии работает в регионе 1  \n",
    "но при этом средний запас сырья в этом регионе существенно меньше"
   ]
  },
  {
   "cell_type": "markdown",
   "metadata": {},
   "source": [
    "## Подготовка к расчёту прибыли"
   ]
  },
  {
   "cell_type": "markdown",
   "metadata": {},
   "source": [
    "Константы для дальнейших расчетов:"
   ]
  },
  {
   "cell_type": "code",
   "execution_count": 13,
   "metadata": {},
   "outputs": [],
   "source": [
    "PROFIT = 450_000 # 450 тыс. рублей за 1000 барелей\n",
    "BUDGET = 10_000_000_000   # 10 млрд. рублей"
   ]
  },
  {
   "cell_type": "code",
   "execution_count": 14,
   "metadata": {},
   "outputs": [
    {
     "name": "stdout",
     "output_type": "stream",
     "text": [
      "Регион 0: 92.5\n",
      "Регион 1: 68.825\n",
      "Регион 2: 95.0\n"
     ]
    }
   ],
   "source": [
    "print('Регион 0:', rg_0['product'].mean().round(3))\n",
    "print('Регион 1:', rg_1['product'].mean().round(3))\n",
    "print('Регион 2:', rg_2['product'].mean().round(3))"
   ]
  },
  {
   "cell_type": "code",
   "execution_count": 15,
   "metadata": {
    "scrolled": true
   },
   "outputs": [
    {
     "name": "stdout",
     "output_type": "stream",
     "text": [
      "Минимальный средний запас сырья в скважине для безубыточной работы: 111.111 тыс.баррелей\n"
     ]
    }
   ],
   "source": [
    "print('Минимальный средний запас сырья в скважине для безубыточной работы:', \n",
    "      round(BUDGET / 200 / PROFIT, 3),\n",
    "     'тыс.баррелей')"
   ]
  },
  {
   "cell_type": "markdown",
   "metadata": {},
   "source": [
    "### Вывод:   \n",
    "Средний запас сырья во всех регионах недостаточен для безубыточной работы,  \n",
    "требуется прогноз запасов и выбор лучших скважин"
   ]
  },
  {
   "cell_type": "markdown",
   "metadata": {},
   "source": [
    "## Расчёт прибыли и рисков "
   ]
  },
  {
   "cell_type": "code",
   "execution_count": 16,
   "metadata": {},
   "outputs": [],
   "source": [
    "# Расчет фактической выручки с 200 скважин, лучших по прогнозу:\n",
    "def total_return(target, predict):\n",
    "    predict_sorted = predict.sort_values(ascending=False)\n",
    "    selected = target[predict_sorted.index][:200]\n",
    "    return PROFIT * selected.sum()"
   ]
  },
  {
   "cell_type": "code",
   "execution_count": 17,
   "metadata": {},
   "outputs": [],
   "source": [
    "# Bootstrap на 1000 выборок по 500 скважин\n",
    "state = np.random.RandomState(RS)\n",
    "def profit_risk(target, predict, msg):\n",
    "    print(msg)\n",
    "    target = target.reset_index(drop=True)\n",
    "    predict = predict.reset_index(drop=True)\n",
    "    profits = []\n",
    "    damages = []\n",
    "    for i in range(1000):\n",
    "        target_sample = target.sample(n = 500, replace = True, random_state = state)\n",
    "        predict_sample = predict[target_sample.index]\n",
    "        tot_ret = total_return(target_sample, predict_sample)\n",
    "        profits.append(tot_ret - BUDGET)\n",
    "        damages.append(tot_ret < BUDGET)\n",
    "    \n",
    "    profits = pd.Series(profits)\n",
    "    damages = pd.Series(damages)\n",
    "    \n",
    "    print(f'Средняя прибыль {profits.mean()/1e6:0.1f} млн. рублей')\n",
    "    confidence_interval = [round(profits.quantile(0.025)/1e6, 0), \n",
    "                           round(profits.quantile(0.975)/1e6, 0)] \n",
    "    print('Доверительный интервал 95%: ', confidence_interval, 'млн. рублей')\n",
    "    print(f'Риски {damages.mean()*100:0.2f}%')"
   ]
  },
  {
   "cell_type": "code",
   "execution_count": 18,
   "metadata": {},
   "outputs": [
    {
     "name": "stdout",
     "output_type": "stream",
     "text": [
      "Для региона 0:\n",
      "Средняя прибыль 504.8 млн. рублей\n",
      "Доверительный интервал 95%:  [-52.0, 1030.0] млн. рублей\n",
      "Риски 4.00%\n"
     ]
    }
   ],
   "source": [
    "profit_risk(Y_valid_0, predict_0, 'Для региона 0:')"
   ]
  },
  {
   "cell_type": "code",
   "execution_count": 19,
   "metadata": {},
   "outputs": [
    {
     "name": "stdout",
     "output_type": "stream",
     "text": [
      "Для региона 1:\n",
      "Средняя прибыль 525.9 млн. рублей\n",
      "Доверительный интервал 95%:  [100.0, 945.0] млн. рублей\n",
      "Риски 0.90%\n"
     ]
    }
   ],
   "source": [
    "profit_risk(Y_valid_1, predict_1, 'Для региона 1:')"
   ]
  },
  {
   "cell_type": "code",
   "execution_count": 20,
   "metadata": {},
   "outputs": [
    {
     "name": "stdout",
     "output_type": "stream",
     "text": [
      "Для региона 2:\n",
      "Средняя прибыль 387.0 млн. рублей\n",
      "Доверительный интервал 95%:  [-174.0, 934.0] млн. рублей\n",
      "Риски 7.70%\n"
     ]
    }
   ],
   "source": [
    "profit_risk(Y_valid_2, predict_2, 'Для региона 2:')"
   ]
  },
  {
   "cell_type": "markdown",
   "metadata": {},
   "source": [
    "### Вывод:   \n",
    "Только регион '1' имеет риск убытков менее 2.5%"
   ]
  },
  {
   "cell_type": "markdown",
   "metadata": {},
   "source": [
    "## Общий вывод:   \n",
    "\n",
    "<div class=\"alert alert-block alert-info\">\n",
    "    \n",
    "<b>После оценки рисков регионов, в которых вероятность убытков меньше 2.5%  остается регион '1'  \n",
    "    С вероятностью 95% прибыль в этом регионе составит от 100 до 945 млн. рублей,  \n",
    "    средняя прибыль 526 млн. рублей, а вероятность получить убыток 0.9%  \n",
    "    Кроме того, модель линейная регрессия работает наиболее точно в этом регионе\n",
    "    </b>\n",
    "</div>\n",
    "\n"
   ]
  },
  {
   "cell_type": "code",
   "execution_count": null,
   "metadata": {},
   "outputs": [],
   "source": []
  }
 ],
 "metadata": {
  "ExecuteTimeLog": [
   {
    "duration": 1605,
    "start_time": "2021-10-18T16:00:16.871Z"
   },
   {
    "duration": 269,
    "start_time": "2021-10-18T16:00:18.479Z"
   },
   {
    "duration": 179,
    "start_time": "2021-10-18T16:00:18.757Z"
   },
   {
    "duration": 173,
    "start_time": "2021-10-18T16:00:18.939Z"
   },
   {
    "duration": 5,
    "start_time": "2021-10-18T16:00:19.115Z"
   },
   {
    "duration": 94,
    "start_time": "2021-10-18T16:00:19.123Z"
   },
   {
    "duration": 4,
    "start_time": "2021-10-18T16:00:19.221Z"
   },
   {
    "duration": 146,
    "start_time": "2021-10-18T16:00:19.228Z"
   },
   {
    "duration": 103,
    "start_time": "2021-10-18T16:00:19.377Z"
   },
   {
    "duration": 4,
    "start_time": "2021-10-18T16:00:19.567Z"
   },
   {
    "duration": 25,
    "start_time": "2021-10-18T16:00:19.574Z"
   },
   {
    "duration": 21,
    "start_time": "2021-10-18T16:00:19.602Z"
   },
   {
    "duration": 6,
    "start_time": "2021-10-18T16:00:19.626Z"
   },
   {
    "duration": 37,
    "start_time": "2021-10-18T16:00:19.635Z"
   },
   {
    "duration": 23,
    "start_time": "2021-10-18T16:00:19.674Z"
   },
   {
    "duration": 5578,
    "start_time": "2021-10-18T16:00:19.699Z"
   },
   {
    "duration": 5457,
    "start_time": "2021-10-18T16:00:25.279Z"
   },
   {
    "duration": 5291,
    "start_time": "2021-10-18T16:00:30.738Z"
   },
   {
    "duration": 177,
    "start_time": "2021-10-18T16:02:19.564Z"
   },
   {
    "duration": 168,
    "start_time": "2021-10-18T16:02:28.637Z"
   },
   {
    "duration": 172,
    "start_time": "2021-10-18T16:02:36.292Z"
   },
   {
    "duration": 53,
    "start_time": "2021-10-18T16:02:52.292Z"
   },
   {
    "duration": 71,
    "start_time": "2021-10-18T16:03:48.429Z"
   },
   {
    "duration": 51,
    "start_time": "2021-10-18T16:03:59.447Z"
   },
   {
    "duration": 65,
    "start_time": "2021-10-18T16:04:13.340Z"
   },
   {
    "duration": 50,
    "start_time": "2021-10-18T16:04:39.012Z"
   },
   {
    "duration": 1356,
    "start_time": "2021-10-18T20:11:50.882Z"
   },
   {
    "duration": 714,
    "start_time": "2021-10-18T20:11:52.240Z"
   },
   {
    "duration": 65,
    "start_time": "2021-10-18T20:11:52.957Z"
   },
   {
    "duration": 865,
    "start_time": "2021-10-18T20:11:53.026Z"
   },
   {
    "duration": 49,
    "start_time": "2021-10-18T20:11:53.893Z"
   },
   {
    "duration": 2682,
    "start_time": "2021-10-18T20:11:53.944Z"
   },
   {
    "duration": 51,
    "start_time": "2021-10-18T20:11:56.629Z"
   },
   {
    "duration": 5,
    "start_time": "2021-10-18T20:11:56.702Z"
   },
   {
    "duration": 428,
    "start_time": "2021-10-18T20:11:56.711Z"
   },
   {
    "duration": -153,
    "start_time": "2021-10-18T20:11:57.295Z"
   },
   {
    "duration": -153,
    "start_time": "2021-10-18T20:11:57.297Z"
   },
   {
    "duration": -154,
    "start_time": "2021-10-18T20:11:57.300Z"
   },
   {
    "duration": -154,
    "start_time": "2021-10-18T20:11:57.302Z"
   },
   {
    "duration": -155,
    "start_time": "2021-10-18T20:11:57.305Z"
   },
   {
    "duration": -155,
    "start_time": "2021-10-18T20:11:57.307Z"
   },
   {
    "duration": -210,
    "start_time": "2021-10-18T20:11:57.364Z"
   },
   {
    "duration": -209,
    "start_time": "2021-10-18T20:11:57.366Z"
   },
   {
    "duration": -208,
    "start_time": "2021-10-18T20:11:57.367Z"
   },
   {
    "duration": -208,
    "start_time": "2021-10-18T20:11:57.369Z"
   },
   {
    "duration": -208,
    "start_time": "2021-10-18T20:11:57.371Z"
   },
   {
    "duration": -207,
    "start_time": "2021-10-18T20:11:57.372Z"
   },
   {
    "duration": 53,
    "start_time": "2021-10-18T20:12:54.504Z"
   },
   {
    "duration": 51,
    "start_time": "2021-10-18T20:13:06.242Z"
   },
   {
    "duration": 51,
    "start_time": "2021-10-18T20:13:27.588Z"
   },
   {
    "duration": 53,
    "start_time": "2021-10-18T20:13:41.358Z"
   },
   {
    "duration": 6,
    "start_time": "2021-10-18T20:21:17.834Z"
   },
   {
    "duration": 613,
    "start_time": "2021-10-18T20:21:18.373Z"
   },
   {
    "duration": 4,
    "start_time": "2021-10-18T20:21:32.819Z"
   },
   {
    "duration": 1410,
    "start_time": "2021-10-18T20:21:40.410Z"
   },
   {
    "duration": 176,
    "start_time": "2021-10-18T20:21:41.823Z"
   },
   {
    "duration": 67,
    "start_time": "2021-10-18T20:21:42.003Z"
   },
   {
    "duration": 193,
    "start_time": "2021-10-18T20:21:42.073Z"
   },
   {
    "duration": 72,
    "start_time": "2021-10-18T20:21:42.269Z"
   },
   {
    "duration": 176,
    "start_time": "2021-10-18T20:21:42.344Z"
   },
   {
    "duration": 52,
    "start_time": "2021-10-18T20:21:42.523Z"
   },
   {
    "duration": 6,
    "start_time": "2021-10-18T20:21:42.601Z"
   },
   {
    "duration": 75,
    "start_time": "2021-10-18T20:21:42.609Z"
   },
   {
    "duration": 5,
    "start_time": "2021-10-18T20:21:42.700Z"
   },
   {
    "duration": 454,
    "start_time": "2021-10-18T20:21:42.707Z"
   },
   {
    "duration": -130,
    "start_time": "2021-10-18T20:21:43.293Z"
   },
   {
    "duration": -129,
    "start_time": "2021-10-18T20:21:43.294Z"
   },
   {
    "duration": -129,
    "start_time": "2021-10-18T20:21:43.296Z"
   },
   {
    "duration": -130,
    "start_time": "2021-10-18T20:21:43.298Z"
   },
   {
    "duration": -129,
    "start_time": "2021-10-18T20:21:43.299Z"
   },
   {
    "duration": -227,
    "start_time": "2021-10-18T20:21:43.398Z"
   },
   {
    "duration": -226,
    "start_time": "2021-10-18T20:21:43.399Z"
   },
   {
    "duration": -226,
    "start_time": "2021-10-18T20:21:43.400Z"
   },
   {
    "duration": -225,
    "start_time": "2021-10-18T20:21:43.401Z"
   },
   {
    "duration": -226,
    "start_time": "2021-10-18T20:21:43.403Z"
   },
   {
    "duration": 290,
    "start_time": "2021-10-18T20:26:28.017Z"
   },
   {
    "duration": 9,
    "start_time": "2021-10-18T20:27:22.149Z"
   },
   {
    "duration": 9,
    "start_time": "2021-10-18T20:27:42.444Z"
   },
   {
    "duration": 12,
    "start_time": "2021-10-18T20:28:17.861Z"
   },
   {
    "duration": 342,
    "start_time": "2021-10-18T20:29:04.798Z"
   },
   {
    "duration": 11,
    "start_time": "2021-10-18T20:29:15.778Z"
   },
   {
    "duration": 9,
    "start_time": "2021-10-18T20:30:04.320Z"
   },
   {
    "duration": 11,
    "start_time": "2021-10-18T20:30:22.489Z"
   },
   {
    "duration": 9,
    "start_time": "2021-10-18T20:30:38.641Z"
   },
   {
    "duration": 11,
    "start_time": "2021-10-18T20:31:37.613Z"
   },
   {
    "duration": 10,
    "start_time": "2021-10-18T20:32:18.158Z"
   },
   {
    "duration": 11,
    "start_time": "2021-10-18T20:32:33.039Z"
   },
   {
    "duration": 335,
    "start_time": "2021-10-18T20:33:10.586Z"
   },
   {
    "duration": 10,
    "start_time": "2021-10-18T20:33:19.587Z"
   },
   {
    "duration": 10,
    "start_time": "2021-10-18T20:33:34.993Z"
   },
   {
    "duration": 10,
    "start_time": "2021-10-18T20:33:55.679Z"
   },
   {
    "duration": 8,
    "start_time": "2021-10-18T20:34:31.756Z"
   },
   {
    "duration": 7,
    "start_time": "2021-10-18T20:34:49.036Z"
   },
   {
    "duration": 1322,
    "start_time": "2021-10-18T20:37:03.545Z"
   },
   {
    "duration": 174,
    "start_time": "2021-10-18T20:37:04.869Z"
   },
   {
    "duration": 77,
    "start_time": "2021-10-18T20:37:05.046Z"
   },
   {
    "duration": 176,
    "start_time": "2021-10-18T20:37:05.126Z"
   },
   {
    "duration": 51,
    "start_time": "2021-10-18T20:37:05.304Z"
   },
   {
    "duration": 188,
    "start_time": "2021-10-18T20:37:05.357Z"
   },
   {
    "duration": 63,
    "start_time": "2021-10-18T20:37:05.548Z"
   },
   {
    "duration": 5,
    "start_time": "2021-10-18T20:37:05.614Z"
   },
   {
    "duration": 96,
    "start_time": "2021-10-18T20:37:05.622Z"
   },
   {
    "duration": 5,
    "start_time": "2021-10-18T20:37:05.720Z"
   },
   {
    "duration": 181,
    "start_time": "2021-10-18T20:37:05.727Z"
   },
   {
    "duration": 99,
    "start_time": "2021-10-18T20:37:06.003Z"
   },
   {
    "duration": 4,
    "start_time": "2021-10-18T20:37:06.105Z"
   },
   {
    "duration": 438,
    "start_time": "2021-10-18T20:37:06.111Z"
   },
   {
    "duration": -122,
    "start_time": "2021-10-18T20:37:06.674Z"
   },
   {
    "duration": -123,
    "start_time": "2021-10-18T20:37:06.676Z"
   },
   {
    "duration": -124,
    "start_time": "2021-10-18T20:37:06.678Z"
   },
   {
    "duration": -123,
    "start_time": "2021-10-18T20:37:06.679Z"
   },
   {
    "duration": -124,
    "start_time": "2021-10-18T20:37:06.681Z"
   },
   {
    "duration": -123,
    "start_time": "2021-10-18T20:37:06.682Z"
   },
   {
    "duration": -194,
    "start_time": "2021-10-18T20:37:06.754Z"
   },
   {
    "duration": 5,
    "start_time": "2021-10-18T20:38:39.624Z"
   },
   {
    "duration": 606,
    "start_time": "2021-10-18T20:38:42.218Z"
   },
   {
    "duration": 1356,
    "start_time": "2021-10-18T20:38:59.080Z"
   },
   {
    "duration": 182,
    "start_time": "2021-10-18T20:39:00.439Z"
   },
   {
    "duration": 78,
    "start_time": "2021-10-18T20:39:00.624Z"
   },
   {
    "duration": 182,
    "start_time": "2021-10-18T20:39:00.705Z"
   },
   {
    "duration": 61,
    "start_time": "2021-10-18T20:39:00.889Z"
   },
   {
    "duration": 190,
    "start_time": "2021-10-18T20:39:00.953Z"
   },
   {
    "duration": 66,
    "start_time": "2021-10-18T20:39:01.146Z"
   },
   {
    "duration": 5,
    "start_time": "2021-10-18T20:39:01.216Z"
   },
   {
    "duration": 97,
    "start_time": "2021-10-18T20:39:01.224Z"
   },
   {
    "duration": 5,
    "start_time": "2021-10-18T20:39:01.323Z"
   },
   {
    "duration": 277,
    "start_time": "2021-10-18T20:39:01.331Z"
   },
   {
    "duration": 99,
    "start_time": "2021-10-18T20:39:01.703Z"
   },
   {
    "duration": 13,
    "start_time": "2021-10-18T20:39:01.804Z"
   },
   {
    "duration": 463,
    "start_time": "2021-10-18T20:39:01.820Z"
   },
   {
    "duration": -103,
    "start_time": "2021-10-18T20:39:02.388Z"
   },
   {
    "duration": -104,
    "start_time": "2021-10-18T20:39:02.391Z"
   },
   {
    "duration": -105,
    "start_time": "2021-10-18T20:39:02.393Z"
   },
   {
    "duration": -104,
    "start_time": "2021-10-18T20:39:02.394Z"
   },
   {
    "duration": -105,
    "start_time": "2021-10-18T20:39:02.396Z"
   },
   {
    "duration": -105,
    "start_time": "2021-10-18T20:39:02.397Z"
   },
   {
    "duration": -107,
    "start_time": "2021-10-18T20:39:02.401Z"
   },
   {
    "duration": 1333,
    "start_time": "2021-10-18T20:39:28.236Z"
   },
   {
    "duration": 180,
    "start_time": "2021-10-18T20:39:29.572Z"
   },
   {
    "duration": 82,
    "start_time": "2021-10-18T20:39:29.756Z"
   },
   {
    "duration": 179,
    "start_time": "2021-10-18T20:39:29.842Z"
   },
   {
    "duration": 53,
    "start_time": "2021-10-18T20:39:30.024Z"
   },
   {
    "duration": 198,
    "start_time": "2021-10-18T20:39:30.079Z"
   },
   {
    "duration": 61,
    "start_time": "2021-10-18T20:39:30.279Z"
   },
   {
    "duration": 5,
    "start_time": "2021-10-18T20:39:30.343Z"
   },
   {
    "duration": 92,
    "start_time": "2021-10-18T20:39:30.351Z"
   },
   {
    "duration": 5,
    "start_time": "2021-10-18T20:39:30.445Z"
   },
   {
    "duration": 249,
    "start_time": "2021-10-18T20:39:30.452Z"
   },
   {
    "duration": 99,
    "start_time": "2021-10-18T20:39:30.705Z"
   },
   {
    "duration": 5,
    "start_time": "2021-10-18T20:39:30.807Z"
   },
   {
    "duration": 448,
    "start_time": "2021-10-18T20:39:30.814Z"
   },
   {
    "duration": -89,
    "start_time": "2021-10-18T20:39:31.355Z"
   },
   {
    "duration": -89,
    "start_time": "2021-10-18T20:39:31.356Z"
   },
   {
    "duration": -88,
    "start_time": "2021-10-18T20:39:31.357Z"
   },
   {
    "duration": -87,
    "start_time": "2021-10-18T20:39:31.358Z"
   },
   {
    "duration": -87,
    "start_time": "2021-10-18T20:39:31.360Z"
   },
   {
    "duration": -86,
    "start_time": "2021-10-18T20:39:31.361Z"
   },
   {
    "duration": -86,
    "start_time": "2021-10-18T20:39:31.363Z"
   },
   {
    "duration": 1360,
    "start_time": "2021-10-18T20:42:26.847Z"
   },
   {
    "duration": 180,
    "start_time": "2021-10-18T20:42:28.210Z"
   },
   {
    "duration": 67,
    "start_time": "2021-10-18T20:42:28.393Z"
   },
   {
    "duration": 180,
    "start_time": "2021-10-18T20:42:28.463Z"
   },
   {
    "duration": 62,
    "start_time": "2021-10-18T20:42:28.646Z"
   },
   {
    "duration": 278,
    "start_time": "2021-10-18T20:42:28.711Z"
   },
   {
    "duration": 58,
    "start_time": "2021-10-18T20:42:28.992Z"
   },
   {
    "duration": 5,
    "start_time": "2021-10-18T20:42:29.052Z"
   },
   {
    "duration": 97,
    "start_time": "2021-10-18T20:42:29.062Z"
   },
   {
    "duration": 5,
    "start_time": "2021-10-18T20:42:29.161Z"
   },
   {
    "duration": 235,
    "start_time": "2021-10-18T20:42:29.168Z"
   },
   {
    "duration": 98,
    "start_time": "2021-10-18T20:42:29.407Z"
   },
   {
    "duration": 8,
    "start_time": "2021-10-18T20:42:29.508Z"
   },
   {
    "duration": 482,
    "start_time": "2021-10-18T20:42:29.601Z"
   },
   {
    "duration": -278,
    "start_time": "2021-10-18T20:42:30.364Z"
   },
   {
    "duration": -279,
    "start_time": "2021-10-18T20:42:30.366Z"
   },
   {
    "duration": -278,
    "start_time": "2021-10-18T20:42:30.367Z"
   },
   {
    "duration": -279,
    "start_time": "2021-10-18T20:42:30.369Z"
   },
   {
    "duration": -280,
    "start_time": "2021-10-18T20:42:30.371Z"
   },
   {
    "duration": -279,
    "start_time": "2021-10-18T20:42:30.372Z"
   },
   {
    "duration": -280,
    "start_time": "2021-10-18T20:42:30.374Z"
   },
   {
    "duration": 7,
    "start_time": "2021-10-18T20:43:40.715Z"
   },
   {
    "duration": 6,
    "start_time": "2021-10-18T20:44:37.276Z"
   },
   {
    "duration": 5,
    "start_time": "2021-10-18T20:44:48.331Z"
   },
   {
    "duration": 6,
    "start_time": "2021-10-18T20:44:56.912Z"
   },
   {
    "duration": 7,
    "start_time": "2021-10-18T20:45:07.577Z"
   },
   {
    "duration": 8,
    "start_time": "2021-10-18T20:45:13.503Z"
   },
   {
    "duration": 6,
    "start_time": "2021-10-18T20:45:17.944Z"
   },
   {
    "duration": 376,
    "start_time": "2021-10-18T20:46:40.209Z"
   },
   {
    "duration": 4,
    "start_time": "2021-10-18T20:46:43.057Z"
   },
   {
    "duration": 10,
    "start_time": "2021-10-18T20:46:56.498Z"
   },
   {
    "duration": 10,
    "start_time": "2021-10-18T20:47:34.720Z"
   },
   {
    "duration": 9,
    "start_time": "2021-10-18T20:47:45.972Z"
   },
   {
    "duration": 9,
    "start_time": "2021-10-18T20:47:59.592Z"
   },
   {
    "duration": 5,
    "start_time": "2021-10-18T20:48:02.142Z"
   },
   {
    "duration": 303,
    "start_time": "2021-10-18T20:48:11.622Z"
   },
   {
    "duration": 4,
    "start_time": "2021-10-18T20:48:27.674Z"
   },
   {
    "duration": 3,
    "start_time": "2021-10-18T20:49:03.871Z"
   },
   {
    "duration": 9,
    "start_time": "2021-10-18T20:49:05.234Z"
   },
   {
    "duration": 5,
    "start_time": "2021-10-18T20:49:06.570Z"
   },
   {
    "duration": 4,
    "start_time": "2021-10-18T20:49:19.754Z"
   },
   {
    "duration": 9,
    "start_time": "2021-10-18T20:49:20.804Z"
   },
   {
    "duration": 5,
    "start_time": "2021-10-18T20:49:21.945Z"
   },
   {
    "duration": 3,
    "start_time": "2021-10-18T20:50:07.309Z"
   },
   {
    "duration": 9,
    "start_time": "2021-10-18T20:50:08.118Z"
   },
   {
    "duration": 5,
    "start_time": "2021-10-18T20:50:08.943Z"
   },
   {
    "duration": 4,
    "start_time": "2021-10-18T20:50:40.700Z"
   },
   {
    "duration": 8,
    "start_time": "2021-10-18T20:50:41.166Z"
   },
   {
    "duration": 6,
    "start_time": "2021-10-18T20:50:41.780Z"
   },
   {
    "duration": 1358,
    "start_time": "2021-10-18T20:51:43.066Z"
   },
   {
    "duration": 182,
    "start_time": "2021-10-18T20:51:44.427Z"
   },
   {
    "duration": 64,
    "start_time": "2021-10-18T20:51:44.612Z"
   },
   {
    "duration": 188,
    "start_time": "2021-10-18T20:51:44.679Z"
   },
   {
    "duration": 64,
    "start_time": "2021-10-18T20:51:44.870Z"
   },
   {
    "duration": 180,
    "start_time": "2021-10-18T20:51:44.936Z"
   },
   {
    "duration": 52,
    "start_time": "2021-10-18T20:51:45.119Z"
   },
   {
    "duration": 27,
    "start_time": "2021-10-18T20:51:45.173Z"
   },
   {
    "duration": 96,
    "start_time": "2021-10-18T20:51:45.204Z"
   },
   {
    "duration": 4,
    "start_time": "2021-10-18T20:51:45.303Z"
   },
   {
    "duration": 199,
    "start_time": "2021-10-18T20:51:45.310Z"
   },
   {
    "duration": 99,
    "start_time": "2021-10-18T20:51:45.603Z"
   },
   {
    "duration": 5,
    "start_time": "2021-10-18T20:51:45.704Z"
   },
   {
    "duration": 19,
    "start_time": "2021-10-18T20:51:45.712Z"
   },
   {
    "duration": 5,
    "start_time": "2021-10-18T20:51:45.734Z"
   },
   {
    "duration": 10,
    "start_time": "2021-10-18T20:51:45.741Z"
   },
   {
    "duration": 8,
    "start_time": "2021-10-18T20:51:45.754Z"
   },
   {
    "duration": 35,
    "start_time": "2021-10-18T20:51:45.765Z"
   },
   {
    "duration": 425,
    "start_time": "2021-10-18T20:51:45.803Z"
   },
   {
    "duration": -165,
    "start_time": "2021-10-18T20:51:46.396Z"
   },
   {
    "duration": -165,
    "start_time": "2021-10-18T20:51:46.398Z"
   },
   {
    "duration": 5196,
    "start_time": "2021-10-18T20:54:24.439Z"
   },
   {
    "duration": 1336,
    "start_time": "2021-10-18T20:55:08.893Z"
   },
   {
    "duration": 180,
    "start_time": "2021-10-18T20:55:10.232Z"
   },
   {
    "duration": 63,
    "start_time": "2021-10-18T20:55:10.415Z"
   },
   {
    "duration": 184,
    "start_time": "2021-10-18T20:55:10.481Z"
   },
   {
    "duration": 63,
    "start_time": "2021-10-18T20:55:10.667Z"
   },
   {
    "duration": 176,
    "start_time": "2021-10-18T20:55:10.733Z"
   },
   {
    "duration": 53,
    "start_time": "2021-10-18T20:55:10.911Z"
   },
   {
    "duration": 5,
    "start_time": "2021-10-18T20:55:10.966Z"
   },
   {
    "duration": 100,
    "start_time": "2021-10-18T20:55:10.975Z"
   },
   {
    "duration": 5,
    "start_time": "2021-10-18T20:55:11.077Z"
   },
   {
    "duration": 224,
    "start_time": "2021-10-18T20:55:11.085Z"
   },
   {
    "duration": 98,
    "start_time": "2021-10-18T20:55:11.403Z"
   },
   {
    "duration": 5,
    "start_time": "2021-10-18T20:55:11.504Z"
   },
   {
    "duration": 12,
    "start_time": "2021-10-18T20:55:11.512Z"
   },
   {
    "duration": 5,
    "start_time": "2021-10-18T20:55:11.527Z"
   },
   {
    "duration": 5,
    "start_time": "2021-10-18T20:55:11.534Z"
   },
   {
    "duration": 7,
    "start_time": "2021-10-18T20:55:11.541Z"
   },
   {
    "duration": 10,
    "start_time": "2021-10-18T20:55:11.550Z"
   },
   {
    "duration": 5526,
    "start_time": "2021-10-18T20:55:11.601Z"
   },
   {
    "duration": 5429,
    "start_time": "2021-10-18T20:55:17.129Z"
   },
   {
    "duration": 5533,
    "start_time": "2021-10-18T20:55:22.560Z"
   },
   {
    "duration": 4,
    "start_time": "2021-10-18T21:06:16.978Z"
   },
   {
    "duration": 10,
    "start_time": "2021-10-18T21:06:17.757Z"
   },
   {
    "duration": 5,
    "start_time": "2021-10-18T21:06:18.778Z"
   },
   {
    "duration": 5,
    "start_time": "2021-10-18T21:07:07.230Z"
   },
   {
    "duration": 9,
    "start_time": "2021-10-18T21:07:07.874Z"
   },
   {
    "duration": 5,
    "start_time": "2021-10-18T21:07:08.835Z"
   },
   {
    "duration": 8,
    "start_time": "2021-10-18T21:09:56.575Z"
   },
   {
    "duration": 6346,
    "start_time": "2021-10-18T21:09:58.298Z"
   },
   {
    "duration": 9,
    "start_time": "2021-10-18T21:11:33.511Z"
   },
   {
    "duration": 5411,
    "start_time": "2021-10-18T21:11:34.138Z"
   },
   {
    "duration": 10,
    "start_time": "2021-10-18T21:11:55.979Z"
   },
   {
    "duration": 5425,
    "start_time": "2021-10-18T21:11:56.536Z"
   },
   {
    "duration": 1411,
    "start_time": "2021-10-18T21:12:57.029Z"
   },
   {
    "duration": 198,
    "start_time": "2021-10-18T21:12:58.443Z"
   },
   {
    "duration": 85,
    "start_time": "2021-10-18T21:12:58.645Z"
   },
   {
    "duration": 189,
    "start_time": "2021-10-18T21:12:58.734Z"
   },
   {
    "duration": 76,
    "start_time": "2021-10-18T21:12:58.926Z"
   },
   {
    "duration": 182,
    "start_time": "2021-10-18T21:12:59.005Z"
   },
   {
    "duration": 65,
    "start_time": "2021-10-18T21:12:59.190Z"
   },
   {
    "duration": 6,
    "start_time": "2021-10-18T21:12:59.258Z"
   },
   {
    "duration": 107,
    "start_time": "2021-10-18T21:12:59.270Z"
   },
   {
    "duration": 4,
    "start_time": "2021-10-18T21:12:59.380Z"
   },
   {
    "duration": 221,
    "start_time": "2021-10-18T21:12:59.386Z"
   },
   {
    "duration": 94,
    "start_time": "2021-10-18T21:12:59.611Z"
   },
   {
    "duration": 1460,
    "start_time": "2021-10-18T21:12:59.709Z"
   },
   {
    "duration": -112,
    "start_time": "2021-10-18T21:13:01.284Z"
   },
   {
    "duration": -114,
    "start_time": "2021-10-18T21:13:01.287Z"
   },
   {
    "duration": -115,
    "start_time": "2021-10-18T21:13:01.290Z"
   },
   {
    "duration": -116,
    "start_time": "2021-10-18T21:13:01.292Z"
   },
   {
    "duration": -116,
    "start_time": "2021-10-18T21:13:01.294Z"
   },
   {
    "duration": -184,
    "start_time": "2021-10-18T21:13:01.364Z"
   },
   {
    "duration": -187,
    "start_time": "2021-10-18T21:13:01.368Z"
   },
   {
    "duration": 1404,
    "start_time": "2021-10-18T21:13:42.185Z"
   },
   {
    "duration": 180,
    "start_time": "2021-10-18T21:13:43.592Z"
   },
   {
    "duration": 72,
    "start_time": "2021-10-18T21:13:43.776Z"
   },
   {
    "duration": 175,
    "start_time": "2021-10-18T21:13:43.851Z"
   },
   {
    "duration": 50,
    "start_time": "2021-10-18T21:13:44.029Z"
   },
   {
    "duration": 180,
    "start_time": "2021-10-18T21:13:44.102Z"
   },
   {
    "duration": 57,
    "start_time": "2021-10-18T21:13:44.285Z"
   },
   {
    "duration": 5,
    "start_time": "2021-10-18T21:13:44.346Z"
   },
   {
    "duration": 101,
    "start_time": "2021-10-18T21:13:44.354Z"
   },
   {
    "duration": 5,
    "start_time": "2021-10-18T21:13:44.457Z"
   },
   {
    "duration": 239,
    "start_time": "2021-10-18T21:13:44.464Z"
   },
   {
    "duration": 104,
    "start_time": "2021-10-18T21:13:44.707Z"
   },
   {
    "duration": 6,
    "start_time": "2021-10-18T21:13:44.814Z"
   },
   {
    "duration": 9,
    "start_time": "2021-10-18T21:13:44.901Z"
   },
   {
    "duration": 7,
    "start_time": "2021-10-18T21:13:44.913Z"
   },
   {
    "duration": 10,
    "start_time": "2021-10-18T21:13:44.923Z"
   },
   {
    "duration": 8,
    "start_time": "2021-10-18T21:13:44.935Z"
   },
   {
    "duration": 5506,
    "start_time": "2021-10-18T21:13:44.946Z"
   },
   {
    "duration": 5375,
    "start_time": "2021-10-18T21:13:50.454Z"
   },
   {
    "duration": 5484,
    "start_time": "2021-10-18T21:13:55.831Z"
   },
   {
    "duration": 6,
    "start_time": "2021-10-18T21:19:19.546Z"
   },
   {
    "duration": 4,
    "start_time": "2021-10-18T21:19:56.848Z"
   },
   {
    "duration": 9,
    "start_time": "2021-10-18T21:19:58.085Z"
   },
   {
    "duration": 5,
    "start_time": "2021-10-18T21:19:58.955Z"
   },
   {
    "duration": 1321,
    "start_time": "2021-10-18T21:28:46.899Z"
   },
   {
    "duration": 178,
    "start_time": "2021-10-18T21:28:48.222Z"
   },
   {
    "duration": 63,
    "start_time": "2021-10-18T21:28:48.403Z"
   },
   {
    "duration": 189,
    "start_time": "2021-10-18T21:28:48.469Z"
   },
   {
    "duration": 67,
    "start_time": "2021-10-18T21:28:48.661Z"
   },
   {
    "duration": 183,
    "start_time": "2021-10-18T21:28:48.731Z"
   },
   {
    "duration": 51,
    "start_time": "2021-10-18T21:28:48.917Z"
   },
   {
    "duration": 4,
    "start_time": "2021-10-18T21:28:48.971Z"
   },
   {
    "duration": 70,
    "start_time": "2021-10-18T21:28:48.999Z"
   },
   {
    "duration": 4,
    "start_time": "2021-10-18T21:28:49.072Z"
   },
   {
    "duration": 232,
    "start_time": "2021-10-18T21:28:49.079Z"
   },
   {
    "duration": 98,
    "start_time": "2021-10-18T21:28:49.403Z"
   },
   {
    "duration": 4,
    "start_time": "2021-10-18T21:28:49.504Z"
   },
   {
    "duration": 10,
    "start_time": "2021-10-18T21:28:49.511Z"
   },
   {
    "duration": 12,
    "start_time": "2021-10-18T21:28:49.524Z"
   },
   {
    "duration": 7,
    "start_time": "2021-10-18T21:28:49.538Z"
   },
   {
    "duration": 10,
    "start_time": "2021-10-18T21:28:49.547Z"
   },
   {
    "duration": 809,
    "start_time": "2021-10-18T21:28:49.560Z"
   },
   {
    "duration": -155,
    "start_time": "2021-10-18T21:28:50.526Z"
   },
   {
    "duration": -155,
    "start_time": "2021-10-18T21:28:50.528Z"
   },
   {
    "duration": -155,
    "start_time": "2021-10-18T21:28:50.529Z"
   },
   {
    "duration": 1411,
    "start_time": "2021-10-18T21:30:08.308Z"
   },
   {
    "duration": 179,
    "start_time": "2021-10-18T21:30:09.721Z"
   },
   {
    "duration": 64,
    "start_time": "2021-10-18T21:30:09.903Z"
   },
   {
    "duration": 185,
    "start_time": "2021-10-18T21:30:09.969Z"
   },
   {
    "duration": 66,
    "start_time": "2021-10-18T21:30:10.156Z"
   },
   {
    "duration": 176,
    "start_time": "2021-10-18T21:30:10.224Z"
   },
   {
    "duration": 51,
    "start_time": "2021-10-18T21:30:10.403Z"
   },
   {
    "duration": 5,
    "start_time": "2021-10-18T21:30:10.456Z"
   },
   {
    "duration": 99,
    "start_time": "2021-10-18T21:30:10.465Z"
   },
   {
    "duration": 4,
    "start_time": "2021-10-18T21:30:10.567Z"
   },
   {
    "duration": 229,
    "start_time": "2021-10-18T21:30:10.574Z"
   },
   {
    "duration": 97,
    "start_time": "2021-10-18T21:30:10.807Z"
   },
   {
    "duration": 95,
    "start_time": "2021-10-18T21:30:10.907Z"
   },
   {
    "duration": 14,
    "start_time": "2021-10-18T21:30:11.005Z"
   },
   {
    "duration": 12,
    "start_time": "2021-10-18T21:30:11.022Z"
   },
   {
    "duration": 8,
    "start_time": "2021-10-18T21:30:11.037Z"
   },
   {
    "duration": 21,
    "start_time": "2021-10-18T21:30:11.047Z"
   },
   {
    "duration": 5281,
    "start_time": "2021-10-18T21:30:11.070Z"
   },
   {
    "duration": 5363,
    "start_time": "2021-10-18T21:30:16.354Z"
   },
   {
    "duration": 5416,
    "start_time": "2021-10-18T21:30:21.719Z"
   },
   {
    "duration": 6,
    "start_time": "2021-10-18T21:30:27.138Z"
   },
   {
    "duration": 1420,
    "start_time": "2021-10-18T21:35:30.700Z"
   },
   {
    "duration": 182,
    "start_time": "2021-10-18T21:35:32.123Z"
   },
   {
    "duration": 63,
    "start_time": "2021-10-18T21:35:32.308Z"
   },
   {
    "duration": 187,
    "start_time": "2021-10-18T21:35:32.374Z"
   },
   {
    "duration": 65,
    "start_time": "2021-10-18T21:35:32.564Z"
   },
   {
    "duration": 183,
    "start_time": "2021-10-18T21:35:32.631Z"
   },
   {
    "duration": 52,
    "start_time": "2021-10-18T21:35:32.816Z"
   },
   {
    "duration": 5,
    "start_time": "2021-10-18T21:35:32.879Z"
   },
   {
    "duration": 75,
    "start_time": "2021-10-18T21:35:32.902Z"
   },
   {
    "duration": 21,
    "start_time": "2021-10-18T21:35:32.980Z"
   },
   {
    "duration": 299,
    "start_time": "2021-10-18T21:35:33.004Z"
   },
   {
    "duration": 98,
    "start_time": "2021-10-18T21:35:33.307Z"
   },
   {
    "duration": 10,
    "start_time": "2021-10-18T21:35:33.408Z"
   },
   {
    "duration": 98,
    "start_time": "2021-10-18T21:35:33.420Z"
   },
   {
    "duration": 5,
    "start_time": "2021-10-18T21:35:33.520Z"
   },
   {
    "duration": 6,
    "start_time": "2021-10-18T21:35:33.527Z"
   },
   {
    "duration": 9,
    "start_time": "2021-10-18T21:35:33.535Z"
   },
   {
    "duration": 783,
    "start_time": "2021-10-18T21:35:33.546Z"
   },
   {
    "duration": -182,
    "start_time": "2021-10-18T21:35:34.514Z"
   },
   {
    "duration": -183,
    "start_time": "2021-10-18T21:35:34.516Z"
   },
   {
    "duration": -183,
    "start_time": "2021-10-18T21:35:34.517Z"
   },
   {
    "duration": 7,
    "start_time": "2021-10-18T21:36:09.493Z"
   },
   {
    "duration": 5291,
    "start_time": "2021-10-18T21:36:10.041Z"
   },
   {
    "duration": 1397,
    "start_time": "2021-10-18T21:40:23.020Z"
   },
   {
    "duration": 181,
    "start_time": "2021-10-18T21:40:24.420Z"
   },
   {
    "duration": 65,
    "start_time": "2021-10-18T21:40:24.604Z"
   },
   {
    "duration": 187,
    "start_time": "2021-10-18T21:40:24.671Z"
   },
   {
    "duration": 65,
    "start_time": "2021-10-18T21:40:24.860Z"
   },
   {
    "duration": 178,
    "start_time": "2021-10-18T21:40:24.927Z"
   },
   {
    "duration": 52,
    "start_time": "2021-10-18T21:40:25.108Z"
   },
   {
    "duration": 5,
    "start_time": "2021-10-18T21:40:25.163Z"
   },
   {
    "duration": 96,
    "start_time": "2021-10-18T21:40:25.171Z"
   },
   {
    "duration": 5,
    "start_time": "2021-10-18T21:40:25.269Z"
   },
   {
    "duration": 227,
    "start_time": "2021-10-18T21:40:25.276Z"
   },
   {
    "duration": 99,
    "start_time": "2021-10-18T21:40:25.507Z"
   },
   {
    "duration": 93,
    "start_time": "2021-10-18T21:40:25.609Z"
   },
   {
    "duration": 13,
    "start_time": "2021-10-18T21:40:25.705Z"
   },
   {
    "duration": 6,
    "start_time": "2021-10-18T21:40:25.721Z"
   },
   {
    "duration": 8,
    "start_time": "2021-10-18T21:40:25.729Z"
   },
   {
    "duration": 7,
    "start_time": "2021-10-18T21:40:25.740Z"
   },
   {
    "duration": 743,
    "start_time": "2021-10-18T21:40:25.750Z"
   },
   {
    "duration": -64,
    "start_time": "2021-10-18T21:40:26.560Z"
   },
   {
    "duration": -65,
    "start_time": "2021-10-18T21:40:26.562Z"
   },
   {
    "duration": -143,
    "start_time": "2021-10-18T21:40:26.642Z"
   },
   {
    "duration": 1349,
    "start_time": "2021-10-18T21:40:46.870Z"
   },
   {
    "duration": 179,
    "start_time": "2021-10-18T21:40:48.222Z"
   },
   {
    "duration": 64,
    "start_time": "2021-10-18T21:40:48.404Z"
   },
   {
    "duration": 189,
    "start_time": "2021-10-18T21:40:48.471Z"
   },
   {
    "duration": 63,
    "start_time": "2021-10-18T21:40:48.663Z"
   },
   {
    "duration": 175,
    "start_time": "2021-10-18T21:40:48.728Z"
   },
   {
    "duration": 52,
    "start_time": "2021-10-18T21:40:48.906Z"
   },
   {
    "duration": 5,
    "start_time": "2021-10-18T21:40:48.960Z"
   },
   {
    "duration": 105,
    "start_time": "2021-10-18T21:40:48.969Z"
   },
   {
    "duration": 5,
    "start_time": "2021-10-18T21:40:49.077Z"
   },
   {
    "duration": 122,
    "start_time": "2021-10-18T21:40:49.084Z"
   },
   {
    "duration": 96,
    "start_time": "2021-10-18T21:40:49.209Z"
   },
   {
    "duration": 93,
    "start_time": "2021-10-18T21:40:49.309Z"
   },
   {
    "duration": 12,
    "start_time": "2021-10-18T21:40:49.405Z"
   },
   {
    "duration": 7,
    "start_time": "2021-10-18T21:40:49.420Z"
   },
   {
    "duration": 6,
    "start_time": "2021-10-18T21:40:49.430Z"
   },
   {
    "duration": 11,
    "start_time": "2021-10-18T21:40:49.438Z"
   },
   {
    "duration": 5329,
    "start_time": "2021-10-18T21:40:49.500Z"
   },
   {
    "duration": 5195,
    "start_time": "2021-10-18T21:40:54.832Z"
   },
   {
    "duration": 5331,
    "start_time": "2021-10-18T21:41:00.029Z"
   },
   {
    "duration": 6,
    "start_time": "2021-10-18T21:41:05.362Z"
   },
   {
    "duration": 3197,
    "start_time": "2021-10-18T21:43:56.932Z"
   },
   {
    "duration": 185,
    "start_time": "2021-10-18T21:44:00.131Z"
   },
   {
    "duration": 64,
    "start_time": "2021-10-18T21:44:00.320Z"
   },
   {
    "duration": 189,
    "start_time": "2021-10-18T21:44:00.387Z"
   },
   {
    "duration": 60,
    "start_time": "2021-10-18T21:44:00.579Z"
   },
   {
    "duration": 180,
    "start_time": "2021-10-18T21:44:00.642Z"
   },
   {
    "duration": 52,
    "start_time": "2021-10-18T21:44:00.824Z"
   },
   {
    "duration": 22,
    "start_time": "2021-10-18T21:44:00.880Z"
   },
   {
    "duration": 95,
    "start_time": "2021-10-18T21:44:00.905Z"
   },
   {
    "duration": 5,
    "start_time": "2021-10-18T21:44:01.002Z"
   },
   {
    "duration": 201,
    "start_time": "2021-10-18T21:44:01.009Z"
   },
   {
    "duration": 99,
    "start_time": "2021-10-18T21:44:01.303Z"
   },
   {
    "duration": 14,
    "start_time": "2021-10-18T21:44:01.404Z"
   },
   {
    "duration": 25,
    "start_time": "2021-10-18T21:44:01.420Z"
   },
   {
    "duration": 21,
    "start_time": "2021-10-18T21:44:01.447Z"
   },
   {
    "duration": 9,
    "start_time": "2021-10-18T21:44:01.472Z"
   },
   {
    "duration": 21,
    "start_time": "2021-10-18T21:44:01.483Z"
   },
   {
    "duration": 5352,
    "start_time": "2021-10-18T21:44:01.507Z"
   },
   {
    "duration": 5250,
    "start_time": "2021-10-18T21:44:06.862Z"
   },
   {
    "duration": 5544,
    "start_time": "2021-10-18T21:44:12.114Z"
   },
   {
    "duration": 5,
    "start_time": "2021-10-18T21:44:17.660Z"
   },
   {
    "duration": 8,
    "start_time": "2021-10-18T21:49:55.105Z"
   },
   {
    "duration": 5328,
    "start_time": "2021-10-18T21:49:55.682Z"
   },
   {
    "duration": 1418,
    "start_time": "2021-10-18T21:50:40.909Z"
   },
   {
    "duration": 182,
    "start_time": "2021-10-18T21:50:42.330Z"
   },
   {
    "duration": 64,
    "start_time": "2021-10-18T21:50:42.516Z"
   },
   {
    "duration": 191,
    "start_time": "2021-10-18T21:50:42.583Z"
   },
   {
    "duration": 63,
    "start_time": "2021-10-18T21:50:42.777Z"
   },
   {
    "duration": 182,
    "start_time": "2021-10-18T21:50:42.842Z"
   },
   {
    "duration": 52,
    "start_time": "2021-10-18T21:50:43.027Z"
   },
   {
    "duration": 22,
    "start_time": "2021-10-18T21:50:43.081Z"
   },
   {
    "duration": 73,
    "start_time": "2021-10-18T21:50:43.107Z"
   },
   {
    "duration": 4,
    "start_time": "2021-10-18T21:50:43.200Z"
   },
   {
    "duration": 196,
    "start_time": "2021-10-18T21:50:43.207Z"
   },
   {
    "duration": 100,
    "start_time": "2021-10-18T21:50:43.407Z"
   },
   {
    "duration": 4,
    "start_time": "2021-10-18T21:50:43.600Z"
   },
   {
    "duration": 15,
    "start_time": "2021-10-18T21:50:43.606Z"
   },
   {
    "duration": 5,
    "start_time": "2021-10-18T21:50:43.623Z"
   },
   {
    "duration": 6,
    "start_time": "2021-10-18T21:50:43.631Z"
   },
   {
    "duration": 9,
    "start_time": "2021-10-18T21:50:43.640Z"
   },
   {
    "duration": 5362,
    "start_time": "2021-10-18T21:50:43.651Z"
   },
   {
    "duration": 5335,
    "start_time": "2021-10-18T21:50:49.015Z"
   },
   {
    "duration": 5399,
    "start_time": "2021-10-18T21:50:54.353Z"
   },
   {
    "duration": 5,
    "start_time": "2021-10-18T21:50:59.755Z"
   },
   {
    "duration": 1319,
    "start_time": "2021-10-18T21:56:25.400Z"
   },
   {
    "duration": 185,
    "start_time": "2021-10-18T21:56:26.722Z"
   },
   {
    "duration": 63,
    "start_time": "2021-10-18T21:56:26.910Z"
   },
   {
    "duration": 190,
    "start_time": "2021-10-18T21:56:26.976Z"
   },
   {
    "duration": 63,
    "start_time": "2021-10-18T21:56:27.168Z"
   },
   {
    "duration": 172,
    "start_time": "2021-10-18T21:56:27.234Z"
   },
   {
    "duration": 53,
    "start_time": "2021-10-18T21:56:27.408Z"
   },
   {
    "duration": 4,
    "start_time": "2021-10-18T21:56:27.463Z"
   },
   {
    "duration": 100,
    "start_time": "2021-10-18T21:56:27.471Z"
   },
   {
    "duration": 5,
    "start_time": "2021-10-18T21:56:27.573Z"
   },
   {
    "duration": 224,
    "start_time": "2021-10-18T21:56:27.580Z"
   },
   {
    "duration": 98,
    "start_time": "2021-10-18T21:56:27.808Z"
   },
   {
    "duration": 5,
    "start_time": "2021-10-18T21:56:27.908Z"
   },
   {
    "duration": 9,
    "start_time": "2021-10-18T21:56:28.001Z"
   },
   {
    "duration": 6,
    "start_time": "2021-10-18T21:56:28.012Z"
   },
   {
    "duration": 5,
    "start_time": "2021-10-18T21:56:28.020Z"
   },
   {
    "duration": 11,
    "start_time": "2021-10-18T21:56:28.027Z"
   },
   {
    "duration": 5316,
    "start_time": "2021-10-18T21:56:28.041Z"
   },
   {
    "duration": 5342,
    "start_time": "2021-10-18T21:56:33.359Z"
   },
   {
    "duration": 5254,
    "start_time": "2021-10-18T21:56:38.704Z"
   },
   {
    "duration": 5,
    "start_time": "2021-10-18T21:56:43.960Z"
   },
   {
    "duration": 129,
    "start_time": "2021-10-18T21:57:46.529Z"
   },
   {
    "duration": 5385,
    "start_time": "2021-10-18T21:57:47.076Z"
   },
   {
    "duration": 8,
    "start_time": "2021-10-18T21:57:56.003Z"
   },
   {
    "duration": 5321,
    "start_time": "2021-10-18T21:57:58.132Z"
   },
   {
    "duration": 8,
    "start_time": "2021-10-18T21:58:32.409Z"
   },
   {
    "duration": 5263,
    "start_time": "2021-10-18T21:58:33.024Z"
   },
   {
    "duration": 1342,
    "start_time": "2021-10-18T21:58:47.410Z"
   },
   {
    "duration": 179,
    "start_time": "2021-10-18T21:58:48.755Z"
   },
   {
    "duration": 77,
    "start_time": "2021-10-18T21:58:48.936Z"
   },
   {
    "duration": 181,
    "start_time": "2021-10-18T21:58:49.015Z"
   },
   {
    "duration": 51,
    "start_time": "2021-10-18T21:58:49.201Z"
   },
   {
    "duration": 179,
    "start_time": "2021-10-18T21:58:49.254Z"
   },
   {
    "duration": 67,
    "start_time": "2021-10-18T21:58:49.435Z"
   },
   {
    "duration": 5,
    "start_time": "2021-10-18T21:58:49.504Z"
   },
   {
    "duration": 89,
    "start_time": "2021-10-18T21:58:49.513Z"
   },
   {
    "duration": 5,
    "start_time": "2021-10-18T21:58:49.605Z"
   },
   {
    "duration": 289,
    "start_time": "2021-10-18T21:58:49.612Z"
   },
   {
    "duration": 98,
    "start_time": "2021-10-18T21:58:49.904Z"
   },
   {
    "duration": 7,
    "start_time": "2021-10-18T21:58:50.005Z"
   },
   {
    "duration": 24,
    "start_time": "2021-10-18T21:58:50.015Z"
   },
   {
    "duration": 5,
    "start_time": "2021-10-18T21:58:50.042Z"
   },
   {
    "duration": 20,
    "start_time": "2021-10-18T21:58:50.050Z"
   },
   {
    "duration": 29,
    "start_time": "2021-10-18T21:58:50.073Z"
   },
   {
    "duration": 5300,
    "start_time": "2021-10-18T21:58:50.105Z"
   },
   {
    "duration": 5286,
    "start_time": "2021-10-18T21:58:55.407Z"
   },
   {
    "duration": 5290,
    "start_time": "2021-10-18T21:59:00.700Z"
   },
   {
    "duration": 5,
    "start_time": "2021-10-18T21:59:06.001Z"
   },
   {
    "duration": 1407,
    "start_time": "2021-10-18T22:00:34.309Z"
   },
   {
    "duration": 810,
    "start_time": "2021-10-18T22:00:35.719Z"
   },
   {
    "duration": 77,
    "start_time": "2021-10-18T22:00:36.532Z"
   },
   {
    "duration": 593,
    "start_time": "2021-10-18T22:00:36.611Z"
   },
   {
    "duration": 53,
    "start_time": "2021-10-18T22:00:37.207Z"
   },
   {
    "duration": 185,
    "start_time": "2021-10-18T22:00:37.263Z"
   },
   {
    "duration": 66,
    "start_time": "2021-10-18T22:00:37.450Z"
   },
   {
    "duration": 5,
    "start_time": "2021-10-18T22:00:37.520Z"
   },
   {
    "duration": 93,
    "start_time": "2021-10-18T22:00:37.528Z"
   },
   {
    "duration": 6,
    "start_time": "2021-10-18T22:00:37.624Z"
   },
   {
    "duration": 177,
    "start_time": "2021-10-18T22:00:37.633Z"
   },
   {
    "duration": 88,
    "start_time": "2021-10-18T22:00:37.815Z"
   },
   {
    "duration": 102,
    "start_time": "2021-10-18T22:00:37.907Z"
   },
   {
    "duration": 16,
    "start_time": "2021-10-18T22:00:38.012Z"
   },
   {
    "duration": 12,
    "start_time": "2021-10-18T22:00:38.031Z"
   },
   {
    "duration": 9,
    "start_time": "2021-10-18T22:00:38.046Z"
   },
   {
    "duration": 13,
    "start_time": "2021-10-18T22:00:38.057Z"
   },
   {
    "duration": 5536,
    "start_time": "2021-10-18T22:00:38.073Z"
   },
   {
    "duration": 5272,
    "start_time": "2021-10-18T22:00:43.611Z"
   },
   {
    "duration": 5590,
    "start_time": "2021-10-18T22:00:48.886Z"
   },
   {
    "duration": 8,
    "start_time": "2021-10-18T22:07:20.738Z"
   },
   {
    "duration": 8,
    "start_time": "2021-10-18T22:08:36.028Z"
   },
   {
    "duration": 5,
    "start_time": "2021-10-18T22:08:53.967Z"
   },
   {
    "duration": 1351,
    "start_time": "2021-10-18T22:11:50.161Z"
   },
   {
    "duration": 176,
    "start_time": "2021-10-18T22:11:51.515Z"
   },
   {
    "duration": 62,
    "start_time": "2021-10-18T22:11:51.694Z"
   },
   {
    "duration": 183,
    "start_time": "2021-10-18T22:11:51.759Z"
   },
   {
    "duration": 68,
    "start_time": "2021-10-18T22:11:51.945Z"
   },
   {
    "duration": 172,
    "start_time": "2021-10-18T22:11:52.016Z"
   },
   {
    "duration": 58,
    "start_time": "2021-10-18T22:11:52.191Z"
   },
   {
    "duration": 4,
    "start_time": "2021-10-18T22:11:52.253Z"
   },
   {
    "duration": 100,
    "start_time": "2021-10-18T22:11:52.260Z"
   },
   {
    "duration": 4,
    "start_time": "2021-10-18T22:11:52.363Z"
   },
   {
    "duration": 237,
    "start_time": "2021-10-18T22:11:52.369Z"
   },
   {
    "duration": 99,
    "start_time": "2021-10-18T22:11:52.609Z"
   },
   {
    "duration": 91,
    "start_time": "2021-10-18T22:11:52.710Z"
   },
   {
    "duration": 13,
    "start_time": "2021-10-18T22:11:52.803Z"
   },
   {
    "duration": 6,
    "start_time": "2021-10-18T22:11:52.819Z"
   },
   {
    "duration": 7,
    "start_time": "2021-10-18T22:11:52.827Z"
   },
   {
    "duration": 9,
    "start_time": "2021-10-18T22:11:52.836Z"
   },
   {
    "duration": 5578,
    "start_time": "2021-10-18T22:11:52.847Z"
   },
   {
    "duration": 5403,
    "start_time": "2021-10-18T22:11:58.428Z"
   },
   {
    "duration": 5395,
    "start_time": "2021-10-18T22:12:03.834Z"
   },
   {
    "duration": 1292,
    "start_time": "2021-10-18T22:12:54.352Z"
   },
   {
    "duration": 189,
    "start_time": "2021-10-18T22:12:55.647Z"
   },
   {
    "duration": 78,
    "start_time": "2021-10-18T22:12:55.839Z"
   },
   {
    "duration": 171,
    "start_time": "2021-10-18T22:12:55.920Z"
   },
   {
    "duration": 56,
    "start_time": "2021-10-18T22:12:56.093Z"
   },
   {
    "duration": 177,
    "start_time": "2021-10-18T22:12:56.152Z"
   },
   {
    "duration": 52,
    "start_time": "2021-10-18T22:12:56.331Z"
   },
   {
    "duration": 5,
    "start_time": "2021-10-18T22:12:56.402Z"
   },
   {
    "duration": 77,
    "start_time": "2021-10-18T22:12:56.410Z"
   },
   {
    "duration": 13,
    "start_time": "2021-10-18T22:12:56.490Z"
   },
   {
    "duration": 204,
    "start_time": "2021-10-18T22:12:56.505Z"
   },
   {
    "duration": 98,
    "start_time": "2021-10-18T22:12:56.803Z"
   },
   {
    "duration": 4,
    "start_time": "2021-10-18T22:12:56.904Z"
   },
   {
    "duration": 12,
    "start_time": "2021-10-18T22:12:56.910Z"
   },
   {
    "duration": 7,
    "start_time": "2021-10-18T22:12:56.925Z"
   },
   {
    "duration": 6,
    "start_time": "2021-10-18T22:12:56.936Z"
   },
   {
    "duration": 9,
    "start_time": "2021-10-18T22:12:56.944Z"
   },
   {
    "duration": 5470,
    "start_time": "2021-10-18T22:12:57.001Z"
   },
   {
    "duration": 5390,
    "start_time": "2021-10-18T22:13:02.473Z"
   },
   {
    "duration": 5352,
    "start_time": "2021-10-18T22:13:07.865Z"
   },
   {
    "duration": 3116,
    "start_time": "2021-10-18T22:13:34.603Z"
   },
   {
    "duration": 182,
    "start_time": "2021-10-18T22:13:37.722Z"
   },
   {
    "duration": 64,
    "start_time": "2021-10-18T22:13:37.907Z"
   },
   {
    "duration": 214,
    "start_time": "2021-10-18T22:13:37.973Z"
   },
   {
    "duration": 56,
    "start_time": "2021-10-18T22:13:38.189Z"
   },
   {
    "duration": 186,
    "start_time": "2021-10-18T22:13:38.247Z"
   },
   {
    "duration": 50,
    "start_time": "2021-10-18T22:13:38.436Z"
   },
   {
    "duration": 5,
    "start_time": "2021-10-18T22:13:38.501Z"
   },
   {
    "duration": 100,
    "start_time": "2021-10-18T22:13:38.512Z"
   },
   {
    "duration": 7,
    "start_time": "2021-10-18T22:13:38.615Z"
   },
   {
    "duration": 278,
    "start_time": "2021-10-18T22:13:38.625Z"
   },
   {
    "duration": 98,
    "start_time": "2021-10-18T22:13:38.907Z"
   },
   {
    "duration": 93,
    "start_time": "2021-10-18T22:13:39.008Z"
   },
   {
    "duration": 11,
    "start_time": "2021-10-18T22:13:39.104Z"
   },
   {
    "duration": 5,
    "start_time": "2021-10-18T22:13:39.117Z"
   },
   {
    "duration": 7,
    "start_time": "2021-10-18T22:13:39.124Z"
   },
   {
    "duration": 10,
    "start_time": "2021-10-18T22:13:39.134Z"
   },
   {
    "duration": 5317,
    "start_time": "2021-10-18T22:13:39.146Z"
   },
   {
    "duration": 5571,
    "start_time": "2021-10-18T22:13:44.465Z"
   },
   {
    "duration": 5417,
    "start_time": "2021-10-18T22:13:50.038Z"
   },
   {
    "duration": 1270,
    "start_time": "2021-10-18T22:14:28.050Z"
   },
   {
    "duration": 178,
    "start_time": "2021-10-18T22:14:29.323Z"
   },
   {
    "duration": 63,
    "start_time": "2021-10-18T22:14:29.506Z"
   },
   {
    "duration": 190,
    "start_time": "2021-10-18T22:14:29.572Z"
   },
   {
    "duration": 67,
    "start_time": "2021-10-18T22:14:29.765Z"
   },
   {
    "duration": 186,
    "start_time": "2021-10-18T22:14:29.835Z"
   },
   {
    "duration": 52,
    "start_time": "2021-10-18T22:14:30.024Z"
   },
   {
    "duration": 21,
    "start_time": "2021-10-18T22:14:30.079Z"
   },
   {
    "duration": 96,
    "start_time": "2021-10-18T22:14:30.105Z"
   },
   {
    "duration": 5,
    "start_time": "2021-10-18T22:14:30.203Z"
   },
   {
    "duration": 293,
    "start_time": "2021-10-18T22:14:30.211Z"
   },
   {
    "duration": 97,
    "start_time": "2021-10-18T22:14:30.507Z"
   },
   {
    "duration": 94,
    "start_time": "2021-10-18T22:14:30.607Z"
   },
   {
    "duration": 10,
    "start_time": "2021-10-18T22:14:30.704Z"
   },
   {
    "duration": 9,
    "start_time": "2021-10-18T22:14:30.716Z"
   },
   {
    "duration": 19,
    "start_time": "2021-10-18T22:14:30.727Z"
   },
   {
    "duration": 17,
    "start_time": "2021-10-18T22:14:30.748Z"
   },
   {
    "duration": 5358,
    "start_time": "2021-10-18T22:14:30.767Z"
   },
   {
    "duration": 5393,
    "start_time": "2021-10-18T22:14:36.128Z"
   },
   {
    "duration": 5235,
    "start_time": "2021-10-18T22:14:41.524Z"
   },
   {
    "duration": 1317,
    "start_time": "2021-10-18T22:15:25.505Z"
   },
   {
    "duration": 181,
    "start_time": "2021-10-18T22:15:26.825Z"
   },
   {
    "duration": 62,
    "start_time": "2021-10-18T22:15:27.009Z"
   },
   {
    "duration": 181,
    "start_time": "2021-10-18T22:15:27.074Z"
   },
   {
    "duration": 62,
    "start_time": "2021-10-18T22:15:27.258Z"
   },
   {
    "duration": 176,
    "start_time": "2021-10-18T22:15:27.322Z"
   },
   {
    "duration": 51,
    "start_time": "2021-10-18T22:15:27.501Z"
   },
   {
    "duration": 5,
    "start_time": "2021-10-18T22:15:27.554Z"
   },
   {
    "duration": 98,
    "start_time": "2021-10-18T22:15:27.563Z"
   },
   {
    "duration": 4,
    "start_time": "2021-10-18T22:15:27.664Z"
   },
   {
    "duration": 237,
    "start_time": "2021-10-18T22:15:27.671Z"
   },
   {
    "duration": 100,
    "start_time": "2021-10-18T22:15:28.002Z"
   },
   {
    "duration": 3,
    "start_time": "2021-10-18T22:15:28.105Z"
   },
   {
    "duration": 13,
    "start_time": "2021-10-18T22:15:28.110Z"
   },
   {
    "duration": 4,
    "start_time": "2021-10-18T22:15:28.126Z"
   },
   {
    "duration": 7,
    "start_time": "2021-10-18T22:15:28.132Z"
   },
   {
    "duration": 10,
    "start_time": "2021-10-18T22:15:28.141Z"
   },
   {
    "duration": 5339,
    "start_time": "2021-10-18T22:15:28.154Z"
   },
   {
    "duration": 5268,
    "start_time": "2021-10-18T22:15:33.500Z"
   },
   {
    "duration": 5266,
    "start_time": "2021-10-18T22:15:38.771Z"
   },
   {
    "duration": 1375,
    "start_time": "2021-10-18T22:18:22.144Z"
   },
   {
    "duration": 184,
    "start_time": "2021-10-18T22:18:23.522Z"
   },
   {
    "duration": 63,
    "start_time": "2021-10-18T22:18:23.708Z"
   },
   {
    "duration": 180,
    "start_time": "2021-10-18T22:18:23.773Z"
   },
   {
    "duration": 65,
    "start_time": "2021-10-18T22:18:23.956Z"
   },
   {
    "duration": 177,
    "start_time": "2021-10-18T22:18:24.023Z"
   },
   {
    "duration": 51,
    "start_time": "2021-10-18T22:18:24.202Z"
   },
   {
    "duration": 5,
    "start_time": "2021-10-18T22:18:24.257Z"
   },
   {
    "duration": 99,
    "start_time": "2021-10-18T22:18:24.265Z"
   },
   {
    "duration": 5,
    "start_time": "2021-10-18T22:18:24.366Z"
   },
   {
    "duration": 235,
    "start_time": "2021-10-18T22:18:24.373Z"
   },
   {
    "duration": 99,
    "start_time": "2021-10-18T22:18:24.702Z"
   },
   {
    "duration": 4,
    "start_time": "2021-10-18T22:18:24.804Z"
   },
   {
    "duration": 11,
    "start_time": "2021-10-18T22:18:24.811Z"
   },
   {
    "duration": 7,
    "start_time": "2021-10-18T22:18:24.825Z"
   },
   {
    "duration": 5,
    "start_time": "2021-10-18T22:18:24.835Z"
   },
   {
    "duration": 492,
    "start_time": "2021-10-18T22:18:24.843Z"
   },
   {
    "duration": -146,
    "start_time": "2021-10-18T22:18:25.485Z"
   },
   {
    "duration": -146,
    "start_time": "2021-10-18T22:18:25.487Z"
   },
   {
    "duration": -146,
    "start_time": "2021-10-18T22:18:25.489Z"
   },
   {
    "duration": 1870,
    "start_time": "2021-10-18T22:18:53.787Z"
   },
   {
    "duration": 258,
    "start_time": "2021-10-18T22:18:55.660Z"
   },
   {
    "duration": 109,
    "start_time": "2021-10-18T22:18:55.921Z"
   },
   {
    "duration": 178,
    "start_time": "2021-10-18T22:18:56.033Z"
   },
   {
    "duration": 51,
    "start_time": "2021-10-18T22:18:56.214Z"
   },
   {
    "duration": 191,
    "start_time": "2021-10-18T22:18:56.268Z"
   },
   {
    "duration": 70,
    "start_time": "2021-10-18T22:18:56.462Z"
   },
   {
    "duration": 6,
    "start_time": "2021-10-18T22:18:56.535Z"
   },
   {
    "duration": 96,
    "start_time": "2021-10-18T22:18:56.547Z"
   },
   {
    "duration": 5,
    "start_time": "2021-10-18T22:18:56.647Z"
   },
   {
    "duration": 251,
    "start_time": "2021-10-18T22:18:56.655Z"
   },
   {
    "duration": 94,
    "start_time": "2021-10-18T22:18:56.911Z"
   },
   {
    "duration": 4,
    "start_time": "2021-10-18T22:18:57.009Z"
   },
   {
    "duration": 13,
    "start_time": "2021-10-18T22:18:57.017Z"
   },
   {
    "duration": 7,
    "start_time": "2021-10-18T22:18:57.034Z"
   },
   {
    "duration": 57,
    "start_time": "2021-10-18T22:18:57.044Z"
   },
   {
    "duration": 11,
    "start_time": "2021-10-18T22:18:57.104Z"
   },
   {
    "duration": 5351,
    "start_time": "2021-10-18T22:18:57.118Z"
   },
   {
    "duration": 5424,
    "start_time": "2021-10-18T22:19:02.471Z"
   },
   {
    "duration": 5316,
    "start_time": "2021-10-18T22:19:07.901Z"
   },
   {
    "duration": 1530,
    "start_time": "2021-10-18T22:20:25.095Z"
   },
   {
    "duration": 185,
    "start_time": "2021-10-18T22:20:26.628Z"
   },
   {
    "duration": 85,
    "start_time": "2021-10-18T22:20:26.817Z"
   },
   {
    "duration": 178,
    "start_time": "2021-10-18T22:20:26.906Z"
   },
   {
    "duration": 62,
    "start_time": "2021-10-18T22:20:27.088Z"
   },
   {
    "duration": 183,
    "start_time": "2021-10-18T22:20:27.153Z"
   },
   {
    "duration": 70,
    "start_time": "2021-10-18T22:20:27.339Z"
   },
   {
    "duration": 5,
    "start_time": "2021-10-18T22:20:27.415Z"
   },
   {
    "duration": 99,
    "start_time": "2021-10-18T22:20:27.424Z"
   },
   {
    "duration": 6,
    "start_time": "2021-10-18T22:20:27.526Z"
   },
   {
    "duration": 266,
    "start_time": "2021-10-18T22:20:27.535Z"
   },
   {
    "duration": 9,
    "start_time": "2021-10-18T22:20:27.805Z"
   },
   {
    "duration": 4,
    "start_time": "2021-10-18T22:20:27.902Z"
   },
   {
    "duration": 10,
    "start_time": "2021-10-18T22:20:27.909Z"
   },
   {
    "duration": 7,
    "start_time": "2021-10-18T22:20:27.922Z"
   },
   {
    "duration": 5,
    "start_time": "2021-10-18T22:20:27.932Z"
   },
   {
    "duration": 61,
    "start_time": "2021-10-18T22:20:27.939Z"
   },
   {
    "duration": 5502,
    "start_time": "2021-10-18T22:20:28.003Z"
   },
   {
    "duration": 5749,
    "start_time": "2021-10-18T22:20:33.508Z"
   },
   {
    "duration": 5322,
    "start_time": "2021-10-18T22:20:39.260Z"
   },
   {
    "duration": 1401,
    "start_time": "2021-10-18T22:20:59.428Z"
   },
   {
    "duration": 191,
    "start_time": "2021-10-18T22:21:00.831Z"
   },
   {
    "duration": 84,
    "start_time": "2021-10-18T22:21:01.025Z"
   },
   {
    "duration": 184,
    "start_time": "2021-10-18T22:21:01.112Z"
   },
   {
    "duration": 58,
    "start_time": "2021-10-18T22:21:01.301Z"
   },
   {
    "duration": 216,
    "start_time": "2021-10-18T22:21:01.361Z"
   },
   {
    "duration": 71,
    "start_time": "2021-10-18T22:21:01.579Z"
   },
   {
    "duration": 7,
    "start_time": "2021-10-18T22:21:01.653Z"
   },
   {
    "duration": 111,
    "start_time": "2021-10-18T22:21:01.664Z"
   },
   {
    "duration": 6,
    "start_time": "2021-10-18T22:21:01.779Z"
   },
   {
    "duration": 321,
    "start_time": "2021-10-18T22:21:01.788Z"
   },
   {
    "duration": 92,
    "start_time": "2021-10-18T22:21:02.112Z"
   },
   {
    "duration": 103,
    "start_time": "2021-10-18T22:21:02.208Z"
   },
   {
    "duration": 21,
    "start_time": "2021-10-18T22:21:02.314Z"
   },
   {
    "duration": 12,
    "start_time": "2021-10-18T22:21:02.338Z"
   },
   {
    "duration": 16,
    "start_time": "2021-10-18T22:21:02.352Z"
   },
   {
    "duration": 28,
    "start_time": "2021-10-18T22:21:02.370Z"
   },
   {
    "duration": 5419,
    "start_time": "2021-10-18T22:21:02.400Z"
   },
   {
    "duration": 5253,
    "start_time": "2021-10-18T22:21:07.821Z"
   },
   {
    "duration": 5381,
    "start_time": "2021-10-18T22:21:13.076Z"
   },
   {
    "duration": 1331,
    "start_time": "2021-10-18T22:21:47.695Z"
   },
   {
    "duration": 176,
    "start_time": "2021-10-18T22:21:49.029Z"
   },
   {
    "duration": 64,
    "start_time": "2021-10-18T22:21:49.208Z"
   },
   {
    "duration": 184,
    "start_time": "2021-10-18T22:21:49.275Z"
   },
   {
    "duration": 63,
    "start_time": "2021-10-18T22:21:49.462Z"
   },
   {
    "duration": 172,
    "start_time": "2021-10-18T22:21:49.528Z"
   },
   {
    "duration": 51,
    "start_time": "2021-10-18T22:21:49.702Z"
   },
   {
    "duration": 6,
    "start_time": "2021-10-18T22:21:49.755Z"
   },
   {
    "duration": 103,
    "start_time": "2021-10-18T22:21:49.765Z"
   },
   {
    "duration": 5,
    "start_time": "2021-10-18T22:21:49.870Z"
   },
   {
    "duration": 129,
    "start_time": "2021-10-18T22:21:49.877Z"
   },
   {
    "duration": 95,
    "start_time": "2021-10-18T22:21:50.008Z"
   },
   {
    "duration": 97,
    "start_time": "2021-10-18T22:21:50.107Z"
   },
   {
    "duration": 13,
    "start_time": "2021-10-18T22:21:50.207Z"
   },
   {
    "duration": 8,
    "start_time": "2021-10-18T22:21:50.223Z"
   },
   {
    "duration": 10,
    "start_time": "2021-10-18T22:21:50.234Z"
   },
   {
    "duration": 14,
    "start_time": "2021-10-18T22:21:50.247Z"
   },
   {
    "duration": 5454,
    "start_time": "2021-10-18T22:21:50.264Z"
   },
   {
    "duration": 5261,
    "start_time": "2021-10-18T22:21:55.721Z"
   },
   {
    "duration": 5390,
    "start_time": "2021-10-18T22:22:00.984Z"
   },
   {
    "duration": 307,
    "start_time": "2021-10-19T09:27:26.349Z"
   },
   {
    "duration": 1097,
    "start_time": "2021-10-19T09:27:30.647Z"
   },
   {
    "duration": 170,
    "start_time": "2021-10-19T09:27:32.167Z"
   },
   {
    "duration": 84,
    "start_time": "2021-10-19T09:27:55.279Z"
   },
   {
    "duration": 69,
    "start_time": "2021-10-19T09:28:12.662Z"
   },
   {
    "duration": 67,
    "start_time": "2021-10-19T09:28:46.758Z"
   },
   {
    "duration": 303,
    "start_time": "2021-10-19T09:29:06.791Z"
   },
   {
    "duration": 123,
    "start_time": "2021-10-19T09:29:16.621Z"
   },
   {
    "duration": 69,
    "start_time": "2021-10-19T09:29:17.461Z"
   },
   {
    "duration": 124,
    "start_time": "2021-10-19T09:29:29.101Z"
   },
   {
    "duration": 67,
    "start_time": "2021-10-19T09:29:29.646Z"
   },
   {
    "duration": 71,
    "start_time": "2021-10-19T09:30:04.137Z"
   },
   {
    "duration": 1141,
    "start_time": "2021-10-19T09:30:11.568Z"
   },
   {
    "duration": 141,
    "start_time": "2021-10-19T09:30:12.711Z"
   },
   {
    "duration": 91,
    "start_time": "2021-10-19T09:30:12.854Z"
   },
   {
    "duration": 130,
    "start_time": "2021-10-19T09:30:12.947Z"
   },
   {
    "duration": 80,
    "start_time": "2021-10-19T09:30:13.079Z"
   },
   {
    "duration": 132,
    "start_time": "2021-10-19T09:30:13.161Z"
   },
   {
    "duration": 76,
    "start_time": "2021-10-19T09:30:13.295Z"
   },
   {
    "duration": 4,
    "start_time": "2021-10-19T09:30:13.373Z"
   },
   {
    "duration": 65,
    "start_time": "2021-10-19T09:30:13.379Z"
   },
   {
    "duration": 3,
    "start_time": "2021-10-19T09:30:13.446Z"
   },
   {
    "duration": 305,
    "start_time": "2021-10-19T09:30:13.451Z"
   },
   {
    "duration": 186,
    "start_time": "2021-10-19T09:30:13.759Z"
   },
   {
    "duration": 3,
    "start_time": "2021-10-19T09:30:13.946Z"
   },
   {
    "duration": 10,
    "start_time": "2021-10-19T09:30:13.951Z"
   },
   {
    "duration": 4,
    "start_time": "2021-10-19T09:30:13.962Z"
   },
   {
    "duration": 5,
    "start_time": "2021-10-19T09:30:13.967Z"
   },
   {
    "duration": 8,
    "start_time": "2021-10-19T09:30:13.974Z"
   },
   {
    "duration": 3196,
    "start_time": "2021-10-19T09:30:13.984Z"
   },
   {
    "duration": 3321,
    "start_time": "2021-10-19T09:30:17.181Z"
   },
   {
    "duration": 3100,
    "start_time": "2021-10-19T09:30:20.503Z"
   },
   {
    "duration": 80,
    "start_time": "2021-10-19T09:34:48.999Z"
   },
   {
    "duration": 84,
    "start_time": "2021-10-19T09:35:27.599Z"
   },
   {
    "duration": 92,
    "start_time": "2021-10-19T09:36:14.005Z"
   },
   {
    "duration": 82,
    "start_time": "2021-10-19T09:36:36.517Z"
   },
   {
    "duration": 90,
    "start_time": "2021-10-19T09:36:55.190Z"
   },
   {
    "duration": 84,
    "start_time": "2021-10-19T09:37:07.685Z"
   },
   {
    "duration": 137,
    "start_time": "2021-10-19T09:37:41.389Z"
   },
   {
    "duration": 140,
    "start_time": "2021-10-19T09:38:11.564Z"
   },
   {
    "duration": 1179,
    "start_time": "2021-10-19T09:38:53.320Z"
   },
   {
    "duration": 135,
    "start_time": "2021-10-19T09:38:54.501Z"
   },
   {
    "duration": 101,
    "start_time": "2021-10-19T09:38:54.638Z"
   },
   {
    "duration": 133,
    "start_time": "2021-10-19T09:38:54.745Z"
   },
   {
    "duration": 88,
    "start_time": "2021-10-19T09:38:54.880Z"
   },
   {
    "duration": 134,
    "start_time": "2021-10-19T09:38:54.970Z"
   },
   {
    "duration": 97,
    "start_time": "2021-10-19T09:38:55.106Z"
   },
   {
    "duration": 3,
    "start_time": "2021-10-19T09:38:55.205Z"
   },
   {
    "duration": 69,
    "start_time": "2021-10-19T09:38:55.211Z"
   },
   {
    "duration": 3,
    "start_time": "2021-10-19T09:38:55.282Z"
   },
   {
    "duration": 259,
    "start_time": "2021-10-19T09:38:55.287Z"
   },
   {
    "duration": 99,
    "start_time": "2021-10-19T09:38:55.549Z"
   },
   {
    "duration": 95,
    "start_time": "2021-10-19T09:38:55.650Z"
   },
   {
    "duration": 8,
    "start_time": "2021-10-19T09:38:55.746Z"
   },
   {
    "duration": 18,
    "start_time": "2021-10-19T09:38:55.755Z"
   },
   {
    "duration": 18,
    "start_time": "2021-10-19T09:38:55.775Z"
   },
   {
    "duration": 23,
    "start_time": "2021-10-19T09:38:55.794Z"
   },
   {
    "duration": 3296,
    "start_time": "2021-10-19T09:38:55.819Z"
   },
   {
    "duration": 3371,
    "start_time": "2021-10-19T09:38:59.117Z"
   },
   {
    "duration": 3278,
    "start_time": "2021-10-19T09:39:02.490Z"
   },
   {
    "duration": 6,
    "start_time": "2021-10-19T09:47:39.261Z"
   },
   {
    "duration": 7,
    "start_time": "2021-10-19T09:48:49.719Z"
   },
   {
    "duration": 6,
    "start_time": "2021-10-19T09:48:59.359Z"
   },
   {
    "duration": 4,
    "start_time": "2021-10-19T09:53:56.874Z"
   },
   {
    "duration": 4,
    "start_time": "2021-10-19T09:55:16.058Z"
   },
   {
    "duration": 4,
    "start_time": "2021-10-19T09:55:49.954Z"
   },
   {
    "duration": 4,
    "start_time": "2021-10-19T09:56:11.745Z"
   },
   {
    "duration": 1023,
    "start_time": "2021-10-19T10:24:34.334Z"
   },
   {
    "duration": 130,
    "start_time": "2021-10-19T10:24:35.359Z"
   },
   {
    "duration": 96,
    "start_time": "2021-10-19T10:24:35.491Z"
   },
   {
    "duration": 129,
    "start_time": "2021-10-19T10:24:35.589Z"
   },
   {
    "duration": 88,
    "start_time": "2021-10-19T10:24:35.720Z"
   },
   {
    "duration": 128,
    "start_time": "2021-10-19T10:24:35.810Z"
   },
   {
    "duration": 83,
    "start_time": "2021-10-19T10:24:35.939Z"
   },
   {
    "duration": 3,
    "start_time": "2021-10-19T10:24:36.025Z"
   },
   {
    "duration": 52,
    "start_time": "2021-10-19T10:24:36.045Z"
   },
   {
    "duration": 3,
    "start_time": "2021-10-19T10:24:36.098Z"
   },
   {
    "duration": 144,
    "start_time": "2021-10-19T10:24:36.103Z"
   },
   {
    "duration": 96,
    "start_time": "2021-10-19T10:24:36.249Z"
   },
   {
    "duration": 3,
    "start_time": "2021-10-19T10:24:36.347Z"
   },
   {
    "duration": 13,
    "start_time": "2021-10-19T10:24:36.351Z"
   },
   {
    "duration": 4,
    "start_time": "2021-10-19T10:24:36.444Z"
   },
   {
    "duration": 8,
    "start_time": "2021-10-19T10:24:36.449Z"
   },
   {
    "duration": 10,
    "start_time": "2021-10-19T10:24:36.459Z"
   },
   {
    "duration": 3055,
    "start_time": "2021-10-19T10:24:36.471Z"
   },
   {
    "duration": 2980,
    "start_time": "2021-10-19T10:24:39.528Z"
   },
   {
    "duration": 3022,
    "start_time": "2021-10-19T10:24:42.510Z"
   },
   {
    "duration": 1045,
    "start_time": "2021-10-19T10:29:10.310Z"
   },
   {
    "duration": 124,
    "start_time": "2021-10-19T10:29:11.356Z"
   },
   {
    "duration": 86,
    "start_time": "2021-10-19T10:29:11.481Z"
   },
   {
    "duration": 124,
    "start_time": "2021-10-19T10:29:11.569Z"
   },
   {
    "duration": 80,
    "start_time": "2021-10-19T10:29:11.694Z"
   },
   {
    "duration": 122,
    "start_time": "2021-10-19T10:29:11.775Z"
   },
   {
    "duration": 82,
    "start_time": "2021-10-19T10:29:11.899Z"
   },
   {
    "duration": 4,
    "start_time": "2021-10-19T10:29:11.984Z"
   },
   {
    "duration": 65,
    "start_time": "2021-10-19T10:29:11.990Z"
   },
   {
    "duration": 3,
    "start_time": "2021-10-19T10:29:12.057Z"
   },
   {
    "duration": 186,
    "start_time": "2021-10-19T10:29:12.061Z"
   },
   {
    "duration": 97,
    "start_time": "2021-10-19T10:29:12.249Z"
   },
   {
    "duration": 11,
    "start_time": "2021-10-19T10:29:12.347Z"
   },
   {
    "duration": 13,
    "start_time": "2021-10-19T10:29:12.360Z"
   },
   {
    "duration": 7,
    "start_time": "2021-10-19T10:29:12.374Z"
   },
   {
    "duration": 16,
    "start_time": "2021-10-19T10:29:12.383Z"
   },
   {
    "duration": 20,
    "start_time": "2021-10-19T10:29:12.401Z"
   },
   {
    "duration": 3069,
    "start_time": "2021-10-19T10:29:12.423Z"
   },
   {
    "duration": 3034,
    "start_time": "2021-10-19T10:29:15.493Z"
   },
   {
    "duration": 3230,
    "start_time": "2021-10-19T10:29:18.529Z"
   }
  ],
  "kernelspec": {
   "display_name": "Python 3 (ipykernel)",
   "language": "python",
   "name": "python3"
  },
  "language_info": {
   "codemirror_mode": {
    "name": "ipython",
    "version": 3
   },
   "file_extension": ".py",
   "mimetype": "text/x-python",
   "name": "python",
   "nbconvert_exporter": "python",
   "pygments_lexer": "ipython3",
   "version": "3.10.5"
  },
  "toc": {
   "base_numbering": 1,
   "nav_menu": {},
   "number_sections": true,
   "sideBar": true,
   "skip_h1_title": true,
   "title_cell": "Table of Contents",
   "title_sidebar": "Contents",
   "toc_cell": false,
   "toc_position": {},
   "toc_section_display": true,
   "toc_window_display": true
  }
 },
 "nbformat": 4,
 "nbformat_minor": 2
}
