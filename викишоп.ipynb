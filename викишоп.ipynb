{
 "cells": [
  {
   "cell_type": "markdown",
   "metadata": {
    "toc": true
   },
   "source": [
    "<h1>Содержание<span class=\"tocSkip\"></span></h1>\n",
    "<div class=\"toc\"><ul class=\"toc-item\"><li><ul class=\"toc-item\"><li><span><a href=\"#Общее-впечатление\" data-toc-modified-id=\"Общее-впечатление-0.1\"><span class=\"toc-item-num\">0.1&nbsp;&nbsp;</span><font color=\"orange\">Общее впечатление</font></a></span></li><li><span><a href=\"#Общее-впечатление-(ревью-2)\" data-toc-modified-id=\"Общее-впечатление-(ревью-2)-0.2\"><span class=\"toc-item-num\">0.2&nbsp;&nbsp;</span><font color=\"orange\">Общее впечатление (ревью 2)</font></a></span></li></ul></li><li><span><a href=\"#Подготовка\" data-toc-modified-id=\"Подготовка-1\"><span class=\"toc-item-num\">1&nbsp;&nbsp;</span>Подготовка</a></span><ul class=\"toc-item\"><li><span><a href=\"#Токенизация-и-лемматизация:\" data-toc-modified-id=\"Токенизация-и-лемматизация:-1.1\"><span class=\"toc-item-num\">1.1&nbsp;&nbsp;</span>Токенизация и лемматизация:</a></span></li><li><span><a href=\"#Выделение-тестовой-выборки:\" data-toc-modified-id=\"Выделение-тестовой-выборки:-1.2\"><span class=\"toc-item-num\">1.2&nbsp;&nbsp;</span>Выделение тестовой выборки:</a></span></li></ul></li><li><span><a href=\"#Обучение\" data-toc-modified-id=\"Обучение-2\"><span class=\"toc-item-num\">2&nbsp;&nbsp;</span>Обучение</a></span><ul class=\"toc-item\"><li><span><a href=\"#Мешок-слов\" data-toc-modified-id=\"Мешок-слов-2.1\"><span class=\"toc-item-num\">2.1&nbsp;&nbsp;</span>Мешок слов</a></span></li><li><span><a href=\"#TF-IDF\" data-toc-modified-id=\"TF-IDF-2.2\"><span class=\"toc-item-num\">2.2&nbsp;&nbsp;</span>TF-IDF</a></span></li></ul></li><li><span><a href=\"#Выводы\" data-toc-modified-id=\"Выводы-3\"><span class=\"toc-item-num\">3&nbsp;&nbsp;</span>Выводы</a></span></li></ul></div>"
   ]
  },
  {
   "cell_type": "markdown",
   "metadata": {},
   "source": [
    "# Проект для «Викишоп»\n",
    "\n",
    "Интернет-магазин «Викишоп» запускает новый сервис. Теперь пользователи могут редактировать и дополнять описания товаров, как в вики-сообществах. То есть клиенты предлагают свои правки и комментируют изменения других. Магазину нужен инструмент, который будет искать токсичные комментарии и отправлять их на модерацию. \n",
    "\n",
    "Обучите модель классифицировать комментарии на позитивные и негативные. В вашем распоряжении набор данных с разметкой о токсичности правок.\n",
    "\n",
    "Постройте модель со значением метрики качества *F1* не меньше 0.75. \n",
    "\n",
    "**Инструкция по выполнению проекта**\n",
    "\n",
    "1. Загрузите и подготовьте данные.\n",
    "2. Обучите разные модели. \n",
    "3. Сделайте выводы.\n",
    "\n",
    "Для выполнения проекта применять *BERT* необязательно, но вы можете попробовать.\n",
    "\n",
    "**Описание данных**\n",
    "\n",
    "Данные находятся в файле `toxic_comments.csv`. Столбец *text* в нём содержит текст комментария, а *toxic* — целевой признак."
   ]
  },
  {
   "cell_type": "markdown",
   "metadata": {},
   "source": [
    "## Подготовка"
   ]
  },
  {
   "cell_type": "code",
   "execution_count": 1,
   "metadata": {},
   "outputs": [
    {
     "name": "stderr",
     "output_type": "stream",
     "text": [
      "[nltk_data] Downloading package stopwords to /home/jovyan/nltk_data...\n",
      "[nltk_data]   Package stopwords is already up-to-date!\n"
     ]
    }
   ],
   "source": [
    "import numpy as np\n",
    "import pandas as pd\n",
    "pd.set_option('display.max_colwidth', -1)\n",
    "\n",
    "from sklearn.feature_extraction.text import CountVectorizer, TfidfVectorizer\n",
    "from sklearn.linear_model import LogisticRegression\n",
    "from sklearn.model_selection import train_test_split\n",
    "\n",
    "from sklearn.metrics import f1_score, confusion_matrix, classification_report\n",
    "from sklearn.metrics import roc_auc_score, roc_curve\n",
    "\n",
    "import matplotlib.pyplot as plt\n",
    "from tqdm.notebook import tqdm\n",
    "import re\n",
    "from pymystem3 import Mystem\n",
    "m = Mystem()\n",
    "\n",
    "import nltk\n",
    "from nltk.corpus import stopwords\n",
    "nltk.download('stopwords')\n",
    "stop_words = set(stopwords.words('english'))\n"
   ]
  },
  {
   "cell_type": "code",
   "execution_count": 2,
   "metadata": {},
   "outputs": [
    {
     "data": {
      "text/html": [
       "<div>\n",
       "<style scoped>\n",
       "    .dataframe tbody tr th:only-of-type {\n",
       "        vertical-align: middle;\n",
       "    }\n",
       "\n",
       "    .dataframe tbody tr th {\n",
       "        vertical-align: top;\n",
       "    }\n",
       "\n",
       "    .dataframe thead th {\n",
       "        text-align: right;\n",
       "    }\n",
       "</style>\n",
       "<table border=\"1\" class=\"dataframe\">\n",
       "  <thead>\n",
       "    <tr style=\"text-align: right;\">\n",
       "      <th></th>\n",
       "      <th>text</th>\n",
       "      <th>toxic</th>\n",
       "    </tr>\n",
       "  </thead>\n",
       "  <tbody>\n",
       "    <tr>\n",
       "      <td>0</td>\n",
       "      <td>Explanation\\nWhy the edits made under my username Hardcore Metallica Fan were reverted? They weren't vandalisms, just closure on some GAs after I voted at New York Dolls FAC. And please don't remove the template from the talk page since I'm retired now.89.205.38.27</td>\n",
       "      <td>0</td>\n",
       "    </tr>\n",
       "    <tr>\n",
       "      <td>1</td>\n",
       "      <td>D'aww! He matches this background colour I'm seemingly stuck with. Thanks.  (talk) 21:51, January 11, 2016 (UTC)</td>\n",
       "      <td>0</td>\n",
       "    </tr>\n",
       "    <tr>\n",
       "      <td>2</td>\n",
       "      <td>Hey man, I'm really not trying to edit war. It's just that this guy is constantly removing relevant information and talking to me through edits instead of my talk page. He seems to care more about the formatting than the actual info.</td>\n",
       "      <td>0</td>\n",
       "    </tr>\n",
       "    <tr>\n",
       "      <td>3</td>\n",
       "      <td>\"\\nMore\\nI can't make any real suggestions on improvement - I wondered if the section statistics should be later on, or a subsection of \"\"types of accidents\"\"  -I think the references may need tidying so that they are all in the exact same format ie date format etc. I can do that later on, if no-one else does first - if you have any preferences for formatting style on references or want to do it yourself please let me know.\\n\\nThere appears to be a backlog on articles for review so I guess there may be a delay until a reviewer turns up. It's listed in the relevant form eg Wikipedia:Good_article_nominations#Transport  \"</td>\n",
       "      <td>0</td>\n",
       "    </tr>\n",
       "    <tr>\n",
       "      <td>4</td>\n",
       "      <td>You, sir, are my hero. Any chance you remember what page that's on?</td>\n",
       "      <td>0</td>\n",
       "    </tr>\n",
       "  </tbody>\n",
       "</table>\n",
       "</div>"
      ],
      "text/plain": [
       "                                                                                                                                                                                                                                                                                                                                                                                                                                                                                                                                                                                                                                                 text  \\\n",
       "0  Explanation\\nWhy the edits made under my username Hardcore Metallica Fan were reverted? They weren't vandalisms, just closure on some GAs after I voted at New York Dolls FAC. And please don't remove the template from the talk page since I'm retired now.89.205.38.27                                                                                                                                                                                                                                                                                                                                                                            \n",
       "1  D'aww! He matches this background colour I'm seemingly stuck with. Thanks.  (talk) 21:51, January 11, 2016 (UTC)                                                                                                                                                                                                                                                                                                                                                                                                                                                                                                                                     \n",
       "2  Hey man, I'm really not trying to edit war. It's just that this guy is constantly removing relevant information and talking to me through edits instead of my talk page. He seems to care more about the formatting than the actual info.                                                                                                                                                                                                                                                                                                                                                                                                            \n",
       "3  \"\\nMore\\nI can't make any real suggestions on improvement - I wondered if the section statistics should be later on, or a subsection of \"\"types of accidents\"\"  -I think the references may need tidying so that they are all in the exact same format ie date format etc. I can do that later on, if no-one else does first - if you have any preferences for formatting style on references or want to do it yourself please let me know.\\n\\nThere appears to be a backlog on articles for review so I guess there may be a delay until a reviewer turns up. It's listed in the relevant form eg Wikipedia:Good_article_nominations#Transport  \"   \n",
       "4  You, sir, are my hero. Any chance you remember what page that's on?                                                                                                                                                                                                                                                                                                                                                                                                                                                                                                                                                                                  \n",
       "\n",
       "   toxic  \n",
       "0  0      \n",
       "1  0      \n",
       "2  0      \n",
       "3  0      \n",
       "4  0      "
      ]
     },
     "execution_count": 2,
     "metadata": {},
     "output_type": "execute_result"
    }
   ],
   "source": [
    "data = pd.read_csv(r'/datasets/toxic_comments.csv')\n",
    "corpus = data['text'].str.lower().values.astype('U')\n",
    "data.head()"
   ]
  },
  {
   "cell_type": "markdown",
   "metadata": {},
   "source": [
    "### Токенизация и лемматизация:"
   ]
  },
  {
   "cell_type": "code",
   "execution_count": 3,
   "metadata": {},
   "outputs": [],
   "source": [
    "def lemmatized(text):\n",
    "    cleared_text = re.sub(r'[^a-z]', ' ', text)\n",
    "    lemm_list = m.lemmatize(' '.join(cleared_text.split()))\n",
    "    return ''.join(lemm_list)"
   ]
  },
  {
   "cell_type": "code",
   "execution_count": 4,
   "metadata": {},
   "outputs": [
    {
     "data": {
      "application/vnd.jupyter.widget-view+json": {
       "model_id": "cda80936e3ff49ae8575b15ce7e25b2e",
       "version_major": 2,
       "version_minor": 0
      },
      "text/plain": [
       "HBox(children=(HTML(value=''), FloatProgress(value=0.0, max=159571.0), HTML(value='')))"
      ]
     },
     "metadata": {},
     "output_type": "display_data"
    },
    {
     "name": "stdout",
     "output_type": "stream",
     "text": [
      "\n"
     ]
    }
   ],
   "source": [
    "lem_text = []\n",
    "for text in tqdm(corpus):\n",
    "    lem_text.append(lemmatized(text))"
   ]
  },
  {
   "cell_type": "code",
   "execution_count": 5,
   "metadata": {},
   "outputs": [
    {
     "data": {
      "text/plain": [
       "['explanation why the edits made under my username hardcore metallica fan were reverted they weren t vandalisms just closure on some gas after i voted at new york dolls fac and please don t remove the template from the talk page since i m retired now\\n',\n",
       " 'd aww he matches this background colour i m seemingly stuck with thanks talk january utc\\n',\n",
       " 'hey man i m really not trying to edit war it s just that this guy is constantly removing relevant information and talking to me through edits instead of my talk page he seems to care more about the formatting than the actual info\\n',\n",
       " 'more i can t make any real suggestions on improvement i wondered if the section statistics should be later on or a subsection of types of accidents i think the references may need tidying so that they are all in the exact same format ie date format etc i can do that later on if no one else does first if you have any preferences for formatting style on references or want to do it yourself please let me know there appears to be a backlog on articles for review so i guess there may be a delay until a reviewer turns up it s listed in the relevant form eg wikipedia good article nominations transport\\n',\n",
       " 'you sir are my hero any chance you remember what page that s on\\n']"
      ]
     },
     "execution_count": 5,
     "metadata": {},
     "output_type": "execute_result"
    }
   ],
   "source": [
    "lem_text[:5]"
   ]
  },
  {
   "cell_type": "markdown",
   "metadata": {},
   "source": [
    "### Выделение тестовой выборки:"
   ]
  },
  {
   "cell_type": "code",
   "execution_count": 6,
   "metadata": {},
   "outputs": [],
   "source": [
    "X_train_raw, X_test_raw, y_train, y_test = train_test_split(lem_text, data['toxic'],\n",
    "                                                             stratify=data['toxic'],\n",
    "                                                             test_size=0.3, random_state=12321)"
   ]
  },
  {
   "cell_type": "code",
   "execution_count": 7,
   "metadata": {},
   "outputs": [
    {
     "data": {
      "text/html": [
       "<div>\n",
       "<style scoped>\n",
       "    .dataframe tbody tr th:only-of-type {\n",
       "        vertical-align: middle;\n",
       "    }\n",
       "\n",
       "    .dataframe tbody tr th {\n",
       "        vertical-align: top;\n",
       "    }\n",
       "\n",
       "    .dataframe thead th {\n",
       "        text-align: right;\n",
       "    }\n",
       "</style>\n",
       "<table border=\"1\" class=\"dataframe\">\n",
       "  <thead>\n",
       "    <tr style=\"text-align: right;\">\n",
       "      <th></th>\n",
       "      <th>Размер выборки</th>\n",
       "      <th>Баланс цели</th>\n",
       "    </tr>\n",
       "  </thead>\n",
       "  <tbody>\n",
       "    <tr>\n",
       "      <td>Тренировочная выборка</td>\n",
       "      <td>111699</td>\n",
       "      <td>0.101675</td>\n",
       "    </tr>\n",
       "    <tr>\n",
       "      <td>Тестовая выборка</td>\n",
       "      <td>47872</td>\n",
       "      <td>0.101688</td>\n",
       "    </tr>\n",
       "  </tbody>\n",
       "</table>\n",
       "</div>"
      ],
      "text/plain": [
       "                       Размер выборки  Баланс цели\n",
       "Тренировочная выборка  111699          0.101675   \n",
       "Тестовая выборка       47872           0.101688   "
      ]
     },
     "execution_count": 7,
     "metadata": {},
     "output_type": "execute_result"
    }
   ],
   "source": [
    "pd.DataFrame({'Размер выборки':[y_train.shape[0], y_test.shape[0]], \n",
    "              'Баланс цели':[y_train.mean(), y_test.mean()]},\n",
    "              ['Тренировочная выборка', 'Тестовая выборка'])"
   ]
  },
  {
   "cell_type": "markdown",
   "metadata": {},
   "source": [
    "## Обучение"
   ]
  },
  {
   "cell_type": "markdown",
   "metadata": {},
   "source": [
    "### Мешок слов"
   ]
  },
  {
   "cell_type": "code",
   "execution_count": 8,
   "metadata": {},
   "outputs": [],
   "source": [
    "bow_count_vect = CountVectorizer(stop_words=stop_words)"
   ]
  },
  {
   "cell_type": "code",
   "execution_count": 9,
   "metadata": {},
   "outputs": [
    {
     "name": "stdout",
     "output_type": "stream",
     "text": [
      "CPU times: user 8.74 s, sys: 55.7 ms, total: 8.79 s\n",
      "Wall time: 8.82 s\n"
     ]
    }
   ],
   "source": [
    "%%time\n",
    "X_train_bow = bow_count_vect.fit_transform(X_train_raw)"
   ]
  },
  {
   "cell_type": "code",
   "execution_count": 10,
   "metadata": {},
   "outputs": [
    {
     "data": {
      "text/plain": [
       "(111699, 137795)"
      ]
     },
     "execution_count": 10,
     "metadata": {},
     "output_type": "execute_result"
    }
   ],
   "source": [
    "X_train_bow.shape"
   ]
  },
  {
   "cell_type": "code",
   "execution_count": 11,
   "metadata": {},
   "outputs": [
    {
     "name": "stdout",
     "output_type": "stream",
     "text": [
      "CPU times: user 3.71 s, sys: 0 ns, total: 3.71 s\n",
      "Wall time: 3.75 s\n"
     ]
    }
   ],
   "source": [
    "%%time\n",
    "X_test_bow = bow_count_vect.transform(X_test_raw)"
   ]
  },
  {
   "cell_type": "code",
   "execution_count": 12,
   "metadata": {},
   "outputs": [
    {
     "data": {
      "text/plain": [
       "(47872, 137795)"
      ]
     },
     "execution_count": 12,
     "metadata": {},
     "output_type": "execute_result"
    }
   ],
   "source": [
    "X_test_bow.shape"
   ]
  },
  {
   "cell_type": "code",
   "execution_count": 13,
   "metadata": {},
   "outputs": [],
   "source": [
    "LR_bow = LogisticRegression(max_iter=1000, \n",
    "                            solver='lbfgs',\n",
    "                            class_weight='balanced',\n",
    "                            n_jobs=-1,\n",
    "                            random_state=12321)"
   ]
  },
  {
   "cell_type": "code",
   "execution_count": 14,
   "metadata": {},
   "outputs": [
    {
     "name": "stdout",
     "output_type": "stream",
     "text": [
      "CPU times: user 2min 44s, sys: 3min 14s, total: 5min 59s\n",
      "Wall time: 5min 59s\n"
     ]
    },
    {
     "data": {
      "text/plain": [
       "LogisticRegression(C=1.0, class_weight='balanced', dual=False,\n",
       "                   fit_intercept=True, intercept_scaling=1, l1_ratio=None,\n",
       "                   max_iter=1000, multi_class='warn', n_jobs=-1, penalty='l2',\n",
       "                   random_state=12321, solver='lbfgs', tol=0.0001, verbose=0,\n",
       "                   warm_start=False)"
      ]
     },
     "execution_count": 14,
     "metadata": {},
     "output_type": "execute_result"
    }
   ],
   "source": [
    "%%time\n",
    "LR_bow.fit(X_train_bow, y_train)"
   ]
  },
  {
   "cell_type": "code",
   "execution_count": 15,
   "metadata": {},
   "outputs": [
    {
     "data": {
      "text/html": [
       "<div>\n",
       "<style scoped>\n",
       "    .dataframe tbody tr th:only-of-type {\n",
       "        vertical-align: middle;\n",
       "    }\n",
       "\n",
       "    .dataframe tbody tr th {\n",
       "        vertical-align: top;\n",
       "    }\n",
       "\n",
       "    .dataframe thead th {\n",
       "        text-align: right;\n",
       "    }\n",
       "</style>\n",
       "<table border=\"1\" class=\"dataframe\">\n",
       "  <thead>\n",
       "    <tr style=\"text-align: right;\">\n",
       "      <th></th>\n",
       "      <th>F1 score</th>\n",
       "    </tr>\n",
       "  </thead>\n",
       "  <tbody>\n",
       "    <tr>\n",
       "      <td>Тренировочная выборка</td>\n",
       "      <td>0.919142</td>\n",
       "    </tr>\n",
       "    <tr>\n",
       "      <td>Тестовая выборка</td>\n",
       "      <td>0.763629</td>\n",
       "    </tr>\n",
       "  </tbody>\n",
       "</table>\n",
       "</div>"
      ],
      "text/plain": [
       "                       F1 score\n",
       "Тренировочная выборка  0.919142\n",
       "Тестовая выборка       0.763629"
      ]
     },
     "execution_count": 15,
     "metadata": {},
     "output_type": "execute_result"
    }
   ],
   "source": [
    "pd.DataFrame({'F1 score':\n",
    "              [f1_score(y_train, LR_bow.predict(X_train_bow)), \n",
    "               f1_score(y_test, LR_bow.predict(X_test_bow))]\n",
    "             }, ['Тренировочная выборка', 'Тестовая выборка'])"
   ]
  },
  {
   "cell_type": "markdown",
   "metadata": {},
   "source": [
    "### TF-IDF"
   ]
  },
  {
   "cell_type": "code",
   "execution_count": 16,
   "metadata": {},
   "outputs": [],
   "source": [
    "count_tf_idf = TfidfVectorizer(stop_words=stop_words) "
   ]
  },
  {
   "cell_type": "code",
   "execution_count": 17,
   "metadata": {},
   "outputs": [
    {
     "name": "stdout",
     "output_type": "stream",
     "text": [
      "CPU times: user 10.2 s, sys: 35.6 ms, total: 10.3 s\n",
      "Wall time: 10.6 s\n"
     ]
    },
    {
     "data": {
      "text/plain": [
       "(111699, 137795)"
      ]
     },
     "execution_count": 17,
     "metadata": {},
     "output_type": "execute_result"
    }
   ],
   "source": [
    "%%time\n",
    "X_train_tf_idf = count_tf_idf.fit_transform(X_train_raw)\n",
    "X_train_tf_idf.shape"
   ]
  },
  {
   "cell_type": "code",
   "execution_count": 18,
   "metadata": {},
   "outputs": [
    {
     "name": "stdout",
     "output_type": "stream",
     "text": [
      "CPU times: user 4.29 s, sys: 0 ns, total: 4.29 s\n",
      "Wall time: 4.38 s\n"
     ]
    },
    {
     "data": {
      "text/plain": [
       "(47872, 137795)"
      ]
     },
     "execution_count": 18,
     "metadata": {},
     "output_type": "execute_result"
    }
   ],
   "source": [
    "%%time\n",
    "X_test_tf_idf = count_tf_idf.transform(X_test_raw)\n",
    "X_test_tf_idf.shape"
   ]
  },
  {
   "cell_type": "code",
   "execution_count": 19,
   "metadata": {},
   "outputs": [],
   "source": [
    "LR_tf_idf = LogisticRegression(max_iter=1000, \n",
    "                               solver='lbfgs', \n",
    "                               class_weight='balanced',\n",
    "                               n_jobs=-1,\n",
    "                               random_state=12321)"
   ]
  },
  {
   "cell_type": "code",
   "execution_count": 20,
   "metadata": {},
   "outputs": [
    {
     "name": "stdout",
     "output_type": "stream",
     "text": [
      "CPU times: user 38.7 s, sys: 43.5 s, total: 1min 22s\n",
      "Wall time: 1min 22s\n"
     ]
    },
    {
     "data": {
      "text/plain": [
       "LogisticRegression(C=1.0, class_weight='balanced', dual=False,\n",
       "                   fit_intercept=True, intercept_scaling=1, l1_ratio=None,\n",
       "                   max_iter=1000, multi_class='warn', n_jobs=-1, penalty='l2',\n",
       "                   random_state=12321, solver='lbfgs', tol=0.0001, verbose=0,\n",
       "                   warm_start=False)"
      ]
     },
     "execution_count": 20,
     "metadata": {},
     "output_type": "execute_result"
    }
   ],
   "source": [
    "%%time\n",
    "LR_tf_idf.fit(X_train_tf_idf, y_train)"
   ]
  },
  {
   "cell_type": "code",
   "execution_count": 21,
   "metadata": {},
   "outputs": [
    {
     "data": {
      "text/html": [
       "<div>\n",
       "<style scoped>\n",
       "    .dataframe tbody tr th:only-of-type {\n",
       "        vertical-align: middle;\n",
       "    }\n",
       "\n",
       "    .dataframe tbody tr th {\n",
       "        vertical-align: top;\n",
       "    }\n",
       "\n",
       "    .dataframe thead th {\n",
       "        text-align: right;\n",
       "    }\n",
       "</style>\n",
       "<table border=\"1\" class=\"dataframe\">\n",
       "  <thead>\n",
       "    <tr style=\"text-align: right;\">\n",
       "      <th></th>\n",
       "      <th>F1 score</th>\n",
       "    </tr>\n",
       "  </thead>\n",
       "  <tbody>\n",
       "    <tr>\n",
       "      <td>Тренировочная выборка</td>\n",
       "      <td>0.843555</td>\n",
       "    </tr>\n",
       "    <tr>\n",
       "      <td>Тестовая выборка</td>\n",
       "      <td>0.750639</td>\n",
       "    </tr>\n",
       "  </tbody>\n",
       "</table>\n",
       "</div>"
      ],
      "text/plain": [
       "                       F1 score\n",
       "Тренировочная выборка  0.843555\n",
       "Тестовая выборка       0.750639"
      ]
     },
     "execution_count": 21,
     "metadata": {},
     "output_type": "execute_result"
    }
   ],
   "source": [
    "pd.DataFrame({'F1 score':\n",
    "              [f1_score(y_train, LR_tf_idf.predict(X_train_tf_idf)), \n",
    "               f1_score(y_test, LR_tf_idf.predict(X_test_tf_idf))]\n",
    "             }, ['Тренировочная выборка', 'Тестовая выборка'])"
   ]
  },
  {
   "cell_type": "markdown",
   "metadata": {},
   "source": [
    "---"
   ]
  },
  {
   "cell_type": "markdown",
   "metadata": {},
   "source": [
    "## Выводы"
   ]
  },
  {
   "cell_type": "markdown",
   "metadata": {},
   "source": [
    "Рассмотрены две модели логистической регрессии, обученных на данных, векторизированных двумя способами:\n",
    "1. Мешок слов\n",
    "2. TF-IDF  \n",
    "\n",
    "Обе модели удовлетворяют заданому критерию метрики качества F1 не меньше 0.75.  \n",
    "Первая модель показала чуть лучшее значение метрики F1, но обучается примерно в 4 раза дольше.  \n",
    "Кроме этого, вторая модель менее склонна к переобучению.\n",
    "\n",
    "---  \n",
    "Дополнительные метрики:"
   ]
  },
  {
   "cell_type": "code",
   "execution_count": 22,
   "metadata": {},
   "outputs": [],
   "source": [
    "predict_bow = LR_bow.predict(X_test_bow)\n",
    "probabilities_bow = LR_bow.predict_proba(X_test_bow)[:, 1]\n",
    "fpr_bow, tpr_bow, thresholds_bow = roc_curve(y_test, probabilities_bow)\n",
    "roc_auc_bow = roc_auc_score(y_test, probabilities_bow)\n",
    "\n",
    "predict_tf_idf = LR_tf_idf.predict(X_test_tf_idf)\n",
    "probabilities_tf_idf = LR_tf_idf.predict_proba(X_test_tf_idf)[:, 1]\n",
    "fpr_tf_idf, tpr_tf_idf, thresholds_tf_idf = roc_curve(y_test, probabilities_tf_idf)\n",
    "roc_auc_tf_idf = roc_auc_score(y_test, probabilities_tf_idf)"
   ]
  },
  {
   "cell_type": "code",
   "execution_count": 23,
   "metadata": {},
   "outputs": [
    {
     "name": "stdout",
     "output_type": "stream",
     "text": [
      "--------------------------\n",
      "Логистическая регрессия на BOW:\n"
     ]
    },
    {
     "data": {
      "text/html": [
       "<div>\n",
       "<style scoped>\n",
       "    .dataframe tbody tr th:only-of-type {\n",
       "        vertical-align: middle;\n",
       "    }\n",
       "\n",
       "    .dataframe tbody tr th {\n",
       "        vertical-align: top;\n",
       "    }\n",
       "\n",
       "    .dataframe thead th {\n",
       "        text-align: right;\n",
       "    }\n",
       "</style>\n",
       "<table border=\"1\" class=\"dataframe\">\n",
       "  <thead>\n",
       "    <tr style=\"text-align: right;\">\n",
       "      <th></th>\n",
       "      <th>precision</th>\n",
       "      <th>recall</th>\n",
       "      <th>f1-score</th>\n",
       "      <th>support</th>\n",
       "    </tr>\n",
       "  </thead>\n",
       "  <tbody>\n",
       "    <tr>\n",
       "      <td>0</td>\n",
       "      <td>0.979</td>\n",
       "      <td>0.963</td>\n",
       "      <td>0.971</td>\n",
       "      <td>43004.000</td>\n",
       "    </tr>\n",
       "    <tr>\n",
       "      <td>1</td>\n",
       "      <td>0.716</td>\n",
       "      <td>0.819</td>\n",
       "      <td>0.764</td>\n",
       "      <td>4868.000</td>\n",
       "    </tr>\n",
       "    <tr>\n",
       "      <td>accuracy</td>\n",
       "      <td>0.948</td>\n",
       "      <td>0.948</td>\n",
       "      <td>0.948</td>\n",
       "      <td>0.948</td>\n",
       "    </tr>\n",
       "  </tbody>\n",
       "</table>\n",
       "</div>"
      ],
      "text/plain": [
       "          precision  recall  f1-score    support\n",
       "0         0.979      0.963   0.971     43004.000\n",
       "1         0.716      0.819   0.764     4868.000 \n",
       "accuracy  0.948      0.948   0.948     0.948    "
      ]
     },
     "metadata": {},
     "output_type": "display_data"
    },
    {
     "data": {
      "text/html": [
       "<div>\n",
       "<style scoped>\n",
       "    .dataframe tbody tr th:only-of-type {\n",
       "        vertical-align: middle;\n",
       "    }\n",
       "\n",
       "    .dataframe tbody tr th {\n",
       "        vertical-align: top;\n",
       "    }\n",
       "\n",
       "    .dataframe thead th {\n",
       "        text-align: right;\n",
       "    }\n",
       "</style>\n",
       "<table border=\"1\" class=\"dataframe\">\n",
       "  <thead>\n",
       "    <tr style=\"text-align: right;\">\n",
       "      <th></th>\n",
       "      <th>0</th>\n",
       "      <th>1</th>\n",
       "    </tr>\n",
       "  </thead>\n",
       "  <tbody>\n",
       "    <tr>\n",
       "      <td>0</td>\n",
       "      <td>41420</td>\n",
       "      <td>1584</td>\n",
       "    </tr>\n",
       "    <tr>\n",
       "      <td>1</td>\n",
       "      <td>883</td>\n",
       "      <td>3985</td>\n",
       "    </tr>\n",
       "  </tbody>\n",
       "</table>\n",
       "</div>"
      ],
      "text/plain": [
       "       0     1\n",
       "0  41420  1584\n",
       "1  883    3985"
      ]
     },
     "metadata": {},
     "output_type": "display_data"
    },
    {
     "name": "stdout",
     "output_type": "stream",
     "text": [
      "-----------------------------\n",
      "Логистическая регрессия на TF_IDF:\n"
     ]
    },
    {
     "data": {
      "text/html": [
       "<div>\n",
       "<style scoped>\n",
       "    .dataframe tbody tr th:only-of-type {\n",
       "        vertical-align: middle;\n",
       "    }\n",
       "\n",
       "    .dataframe tbody tr th {\n",
       "        vertical-align: top;\n",
       "    }\n",
       "\n",
       "    .dataframe thead th {\n",
       "        text-align: right;\n",
       "    }\n",
       "</style>\n",
       "<table border=\"1\" class=\"dataframe\">\n",
       "  <thead>\n",
       "    <tr style=\"text-align: right;\">\n",
       "      <th></th>\n",
       "      <th>precision</th>\n",
       "      <th>recall</th>\n",
       "      <th>f1-score</th>\n",
       "      <th>support</th>\n",
       "    </tr>\n",
       "  </thead>\n",
       "  <tbody>\n",
       "    <tr>\n",
       "      <td>0</td>\n",
       "      <td>0.982</td>\n",
       "      <td>0.954</td>\n",
       "      <td>0.968</td>\n",
       "      <td>43004.000</td>\n",
       "    </tr>\n",
       "    <tr>\n",
       "      <td>1</td>\n",
       "      <td>0.675</td>\n",
       "      <td>0.845</td>\n",
       "      <td>0.751</td>\n",
       "      <td>4868.000</td>\n",
       "    </tr>\n",
       "    <tr>\n",
       "      <td>accuracy</td>\n",
       "      <td>0.943</td>\n",
       "      <td>0.943</td>\n",
       "      <td>0.943</td>\n",
       "      <td>0.943</td>\n",
       "    </tr>\n",
       "  </tbody>\n",
       "</table>\n",
       "</div>"
      ],
      "text/plain": [
       "          precision  recall  f1-score    support\n",
       "0         0.982      0.954   0.968     43004.000\n",
       "1         0.675      0.845   0.751     4868.000 \n",
       "accuracy  0.943      0.943   0.943     0.943    "
      ]
     },
     "metadata": {},
     "output_type": "display_data"
    },
    {
     "data": {
      "text/html": [
       "<div>\n",
       "<style scoped>\n",
       "    .dataframe tbody tr th:only-of-type {\n",
       "        vertical-align: middle;\n",
       "    }\n",
       "\n",
       "    .dataframe tbody tr th {\n",
       "        vertical-align: top;\n",
       "    }\n",
       "\n",
       "    .dataframe thead th {\n",
       "        text-align: right;\n",
       "    }\n",
       "</style>\n",
       "<table border=\"1\" class=\"dataframe\">\n",
       "  <thead>\n",
       "    <tr style=\"text-align: right;\">\n",
       "      <th></th>\n",
       "      <th>0</th>\n",
       "      <th>1</th>\n",
       "    </tr>\n",
       "  </thead>\n",
       "  <tbody>\n",
       "    <tr>\n",
       "      <td>0</td>\n",
       "      <td>41028</td>\n",
       "      <td>1976</td>\n",
       "    </tr>\n",
       "    <tr>\n",
       "      <td>1</td>\n",
       "      <td>756</td>\n",
       "      <td>4112</td>\n",
       "    </tr>\n",
       "  </tbody>\n",
       "</table>\n",
       "</div>"
      ],
      "text/plain": [
       "       0     1\n",
       "0  41028  1976\n",
       "1  756    4112"
      ]
     },
     "metadata": {},
     "output_type": "display_data"
    }
   ],
   "source": [
    "print('--------------------------\\nЛогистическая регрессия на BOW:')\n",
    "display(pd.DataFrame(classification_report(y_test, predict_bow, output_dict=True)).round(3).T[:3])\n",
    "display(pd.DataFrame(confusion_matrix(y_test, predict_bow)))\n",
    "print('-----------------------------\\nЛогистическая регрессия на TF_IDF:')\n",
    "display(pd.DataFrame(classification_report(y_test, predict_tf_idf, output_dict=True)).round(3).T[:3])\n",
    "display(pd.DataFrame(confusion_matrix(y_test, predict_tf_idf)))"
   ]
  },
  {
   "cell_type": "code",
   "execution_count": 24,
   "metadata": {},
   "outputs": [
    {
     "data": {
      "image/png": "[encoded data removed]",
      "text/plain": [
       "<Figure size 1152x288 with 1 Axes>"
      ]
     },
     "metadata": {
      "needs_background": "light"
     },
     "output_type": "display_data"
    }
   ],
   "source": [
    "plt.figure(figsize=(16,4))\n",
    "plt.plot(fpr_bow, tpr_bow, 'r-', label= 'ROC_AUC_BOW: %.3f'%roc_auc_bow) \n",
    "plt.plot(fpr_tf_idf, tpr_tf_idf, 'b-', label='ROC_AUC_TF_IDF: %.3f'%roc_auc_tf_idf)\n",
    "plt.plot([0, 1], [0, 1], linestyle='--', label='random')\n",
    "\n",
    "plt.xlim([0.0, 1.0]); plt.ylim([0.75, 1.01])\n",
    "plt.xlabel('False Positive Rate'); plt.ylabel('True Positive Rate'); plt.title('ROC-кривая')\n",
    "\n",
    "plt.legend(); plt.minorticks_on()\n",
    "plt.grid(which='major', linewidth = 1); plt.grid(which='minor', linewidth = 0.3)\n",
    "plt.show() "
   ]
  },
  {
   "cell_type": "markdown",
   "metadata": {},
   "source": [
    "Если рассматривать в качестве критерия полноту выявления \"токсичных\" комментраниев (recall),  \n",
    "то модель построенная на TF-IDF будет более предпочтительна."
   ]
  }
 ],
 "metadata": {
  "ExecuteTimeLog": [
   {
    "duration": 87,
    "start_time": "2022-01-11T10:35:43.343Z"
   },
   {
    "duration": 2375,
    "start_time": "2022-01-11T10:41:20.683Z"
   },
   {
    "duration": 4856,
    "start_time": "2022-01-11T10:41:33.201Z"
   },
   {
    "duration": 5,
    "start_time": "2022-01-11T10:42:29.496Z"
   },
   {
    "duration": 156010,
    "start_time": "2022-01-11T10:42:39.595Z"
   },
   {
    "duration": 6,
    "start_time": "2022-01-11T10:45:15.608Z"
   },
   {
    "duration": 204,
    "start_time": "2022-01-11T10:45:15.616Z"
   },
   {
    "duration": 13,
    "start_time": "2022-01-11T10:45:15.823Z"
   },
   {
    "duration": 3,
    "start_time": "2022-01-11T10:47:21.709Z"
   },
   {
    "duration": 8770,
    "start_time": "2022-01-11T10:47:33.145Z"
   },
   {
    "duration": 5,
    "start_time": "2022-01-11T10:48:01.522Z"
   },
   {
    "duration": 3562,
    "start_time": "2022-01-11T10:48:03.466Z"
   },
   {
    "duration": 6,
    "start_time": "2022-01-11T10:48:16.233Z"
   },
   {
    "duration": 12,
    "start_time": "2022-01-11T10:48:38.882Z"
   },
   {
    "duration": 364415,
    "start_time": "2022-01-11T10:48:50.873Z"
   },
   {
    "duration": 174,
    "start_time": "2022-01-11T10:54:55.299Z"
   },
   {
    "duration": 12,
    "start_time": "2022-01-11T10:54:55.477Z"
   },
   {
    "duration": 9290,
    "start_time": "2022-01-11T10:54:55.497Z"
   },
   {
    "duration": 3820,
    "start_time": "2022-01-11T10:55:04.789Z"
   },
   {
    "duration": 4,
    "start_time": "2022-01-11T10:55:08.613Z"
   },
   {
    "duration": 82162,
    "start_time": "2022-01-11T10:55:08.620Z"
   },
   {
    "duration": 198,
    "start_time": "2022-01-11T10:56:30.806Z"
   },
   {
    "duration": 384,
    "start_time": "2022-01-11T10:56:31.113Z"
   },
   {
    "duration": 693,
    "start_time": "2022-01-11T10:56:31.500Z"
   },
   {
    "duration": 470,
    "start_time": "2022-01-11T10:56:32.199Z"
   },
   {
    "duration": 302,
    "start_time": "2022-01-11T10:57:58.136Z"
   },
   {
    "duration": 107,
    "start_time": "2022-01-11T10:58:21.705Z"
   },
   {
    "duration": 333,
    "start_time": "2022-01-11T10:58:25.855Z"
   },
   {
    "duration": 963,
    "start_time": "2022-01-11T10:58:29.721Z"
   },
   {
    "duration": 2093,
    "start_time": "2022-01-11T11:12:30.447Z"
   },
   {
    "duration": 5045,
    "start_time": "2022-01-11T11:12:32.544Z"
   },
   {
    "duration": 7,
    "start_time": "2022-01-11T11:12:37.599Z"
   },
   {
    "duration": 2301,
    "start_time": "2022-01-11T11:13:01.433Z"
   },
   {
    "duration": 4620,
    "start_time": "2022-01-11T11:13:03.738Z"
   },
   {
    "duration": 5,
    "start_time": "2022-01-11T11:13:08.367Z"
   },
   {
    "duration": 166426,
    "start_time": "2022-01-11T11:13:08.375Z"
   },
   {
    "duration": 8,
    "start_time": "2022-01-11T11:15:54.804Z"
   },
   {
    "duration": 242,
    "start_time": "2022-01-11T11:15:54.815Z"
   },
   {
    "duration": 22,
    "start_time": "2022-01-11T11:15:55.059Z"
   },
   {
    "duration": 13,
    "start_time": "2022-01-11T11:15:55.084Z"
   },
   {
    "duration": 8829,
    "start_time": "2022-01-11T11:15:55.101Z"
   },
   {
    "duration": 6,
    "start_time": "2022-01-11T11:16:03.933Z"
   },
   {
    "duration": 3761,
    "start_time": "2022-01-11T11:16:03.942Z"
   },
   {
    "duration": 4,
    "start_time": "2022-01-11T11:16:07.706Z"
   },
   {
    "duration": 6,
    "start_time": "2022-01-11T11:16:07.713Z"
   },
   {
    "duration": 360082,
    "start_time": "2022-01-11T11:16:07.721Z"
   },
   {
    "duration": 124,
    "start_time": "2022-01-11T11:22:07.807Z"
   },
   {
    "duration": 3,
    "start_time": "2022-01-11T11:22:07.934Z"
   },
   {
    "duration": 10572,
    "start_time": "2022-01-11T11:22:07.940Z"
   },
   {
    "duration": 4400,
    "start_time": "2022-01-11T11:22:18.515Z"
   },
   {
    "duration": 5,
    "start_time": "2022-01-11T11:22:22.918Z"
   },
   {
    "duration": 82464,
    "start_time": "2022-01-11T11:22:22.926Z"
   },
   {
    "duration": 199,
    "start_time": "2022-01-11T11:23:45.407Z"
   },
   {
    "duration": 107,
    "start_time": "2022-01-11T11:23:45.608Z"
   },
   {
    "duration": 388,
    "start_time": "2022-01-11T11:23:45.718Z"
   },
   {
    "duration": 893,
    "start_time": "2022-01-11T11:23:46.108Z"
   }
  ],
  "kernelspec": {
   "display_name": "Python 3 (ipykernel)",
   "language": "python",
   "name": "python3"
  },
  "language_info": {
   "codemirror_mode": {
    "name": "ipython",
    "version": 3
   },
   "file_extension": ".py",
   "mimetype": "text/x-python",
   "name": "python",
   "nbconvert_exporter": "python",
   "pygments_lexer": "ipython3",
   "version": "3.10.5"
  },
  "toc": {
   "base_numbering": 1,
   "nav_menu": {},
   "number_sections": true,
   "sideBar": true,
   "skip_h1_title": true,
   "title_cell": "Содержание",
   "title_sidebar": "Contents",
   "toc_cell": true,
   "toc_position": {
    "height": "calc(100% - 180px)",
    "left": "10px",
    "top": "150px",
    "width": "302.391px"
   },
   "toc_section_display": true,
   "toc_window_display": false
  }
 },
 "nbformat": 4,
 "nbformat_minor": 2
}
