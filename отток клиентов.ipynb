{
 "cells": [
  {
   "cell_type": "markdown",
   "metadata": {
    "toc": true
   },
   "source": [
    "<h1>Содержание<span class=\"tocSkip\"></span></h1>\n",
    "<div class=\"toc\"><ul class=\"toc-item\"><li><span><a href=\"#Подготовка-данных\" data-toc-modified-id=\"Подготовка-данных-1\"><span class=\"toc-item-num\">1&nbsp;&nbsp;</span>Подготовка данных</a></span><ul class=\"toc-item\"><li><span><a href=\"#Проверка-гипотезы:\" data-toc-modified-id=\"Проверка-гипотезы:-1.1\"><span class=\"toc-item-num\">1.1&nbsp;&nbsp;</span>Проверка гипотезы:</a></span></li><li><span><a href=\"#Изучение-данных,-удаление-бесполезных-данных:\" data-toc-modified-id=\"Изучение-данных,-удаление-бесполезных-данных:-1.2\"><span class=\"toc-item-num\">1.2&nbsp;&nbsp;</span>Изучение данных, удаление бесполезных данных:</a></span></li><li><span><a href=\"#Кодирование-категориальных-признаков:\" data-toc-modified-id=\"Кодирование-категориальных-признаков:-1.3\"><span class=\"toc-item-num\">1.3&nbsp;&nbsp;</span>Кодирование категориальных признаков:</a></span></li><li><span><a href=\"#Разделение-на-тренировочную,-валидационную-и-тестовую-выборки---в-пропорции-60%-20%-20%:\" data-toc-modified-id=\"Разделение-на-тренировочную,-валидационную-и-тестовую-выборки---в-пропорции-60%-20%-20%:-1.4\"><span class=\"toc-item-num\">1.4&nbsp;&nbsp;</span>Разделение на тренировочную, валидационную и тестовую выборки   в пропорции 60% 20% 20%:</a></span></li><li><span><a href=\"#Нормирование-числовых-параметров:\" data-toc-modified-id=\"Нормирование-числовых-параметров:-1.5\"><span class=\"toc-item-num\">1.5&nbsp;&nbsp;</span>Нормирование числовых параметров:</a></span></li><li><span><a href=\"#Вывод:\" data-toc-modified-id=\"Вывод:-1.6\"><span class=\"toc-item-num\">1.6&nbsp;&nbsp;</span>Вывод:</a></span></li></ul></li><li><span><a href=\"#Исследование-задачи\" data-toc-modified-id=\"Исследование-задачи-2\"><span class=\"toc-item-num\">2&nbsp;&nbsp;</span>Исследование задачи</a></span><ul class=\"toc-item\"><li><span><a href=\"#Обучение-моделей-на-исходных-данных:\" data-toc-modified-id=\"Обучение-моделей-на-исходных-данных:-2.1\"><span class=\"toc-item-num\">2.1&nbsp;&nbsp;</span>Обучение моделей на исходных данных:</a></span></li><li><span><a href=\"#Получение-метрик:\" data-toc-modified-id=\"Получение-метрик:-2.2\"><span class=\"toc-item-num\">2.2&nbsp;&nbsp;</span>Получение метрик:</a></span></li><li><span><a href=\"#Вывод:\" data-toc-modified-id=\"Вывод:-2.3\"><span class=\"toc-item-num\">2.3&nbsp;&nbsp;</span>Вывод:</a></span></li></ul></li><li><span><a href=\"#Борьба-с-дисбалансом\" data-toc-modified-id=\"Борьба-с-дисбалансом-3\"><span class=\"toc-item-num\">3&nbsp;&nbsp;</span>Борьба с дисбалансом</a></span><ul class=\"toc-item\"><li><span><a href=\"#Взвешивание-классов:\" data-toc-modified-id=\"Взвешивание-классов:-3.1\"><span class=\"toc-item-num\">3.1&nbsp;&nbsp;</span>Взвешивание классов:</a></span></li><li><span><a href=\"#Подготовка-данных-для-увеличения-и-уменьшения-тренировочной-выборки:\" data-toc-modified-id=\"Подготовка-данных-для-увеличения-и-уменьшения-тренировочной-выборки:-3.2\"><span class=\"toc-item-num\">3.2&nbsp;&nbsp;</span>Подготовка данных для увеличения и уменьшения тренировочной выборки:</a></span></li><li><span><a href=\"#Увеличение-выборки-(upsampling):\" data-toc-modified-id=\"Увеличение-выборки-(upsampling):-3.3\"><span class=\"toc-item-num\">3.3&nbsp;&nbsp;</span>Увеличение выборки (upsampling):</a></span></li><li><span><a href=\"#Уменьшение-выборки-(downsampling):\" data-toc-modified-id=\"Уменьшение-выборки-(downsampling):-3.4\"><span class=\"toc-item-num\">3.4&nbsp;&nbsp;</span>Уменьшение выборки (downsampling):</a></span></li><li><span><a href=\"#Вывод:\" data-toc-modified-id=\"Вывод:-3.5\"><span class=\"toc-item-num\">3.5&nbsp;&nbsp;</span>Вывод:</a></span></li></ul></li><li><span><a href=\"#Тестирование-модели\" data-toc-modified-id=\"Тестирование-модели-4\"><span class=\"toc-item-num\">4&nbsp;&nbsp;</span>Тестирование модели</a></span><ul class=\"toc-item\"><li><span><a href=\"#Вывод:\" data-toc-modified-id=\"Вывод:-4.1\"><span class=\"toc-item-num\">4.1&nbsp;&nbsp;</span>Вывод:</a></span></li></ul></li><li><span><a href=\"#Общий-вывод:\" data-toc-modified-id=\"Общий-вывод:-5\"><span class=\"toc-item-num\">5&nbsp;&nbsp;</span>Общий вывод:</a></span></li><li><span><a href=\"#Чек-лист-готовности-проекта\" data-toc-modified-id=\"Чек-лист-готовности-проекта-6\"><span class=\"toc-item-num\">6&nbsp;&nbsp;</span>Чек-лист готовности проекта</a></span></li></ul></div>"
   ]
  },
  {
   "cell_type": "code",
   "execution_count": 1,
   "metadata": {},
   "outputs": [],
   "source": [
    "RND_ST = 12345\n",
    "\n",
    "import pandas as pd\n",
    "import numpy as np\n",
    "import matplotlib.pyplot as plt\n",
    "import time\n",
    "from tqdm import tqdm\n",
    "\n",
    "#подготовка данных\n",
    "from sklearn.preprocessing import StandardScaler\n",
    "from sklearn.model_selection import train_test_split\n",
    "from sklearn.utils import shuffle\n",
    "from scipy import stats as st\n",
    "\n",
    "#модели\n",
    "from sklearn.tree import DecisionTreeClassifier\n",
    "from sklearn.ensemble import RandomForestClassifier\n",
    "from sklearn.linear_model import LogisticRegression\n",
    "from sklearn.dummy import DummyClassifier\n",
    "\n",
    "#метрики\n",
    "from sklearn.metrics import accuracy_score\n",
    "from sklearn.metrics import confusion_matrix\n",
    "from sklearn.metrics import recall_score\n",
    "from sklearn.metrics import precision_score\n",
    "from sklearn.metrics import f1_score\n",
    "from sklearn.metrics import roc_auc_score\n",
    "from sklearn.metrics import roc_curve"
   ]
  },
  {
   "cell_type": "markdown",
   "metadata": {},
   "source": [
    "# Отток клиентов"
   ]
  },
  {
   "cell_type": "markdown",
   "metadata": {},
   "source": [
    "Из «Бета-Банка» стали уходить клиенты. Каждый месяц. Немного, но заметно. Банковские маркетологи посчитали: сохранять текущих клиентов дешевле, чем привлекать новых.\n",
    "\n",
    "Нужно спрогнозировать, уйдёт клиент из банка в ближайшее время или нет. Вам предоставлены исторические данные о поведении клиентов и расторжении договоров с банком. \n",
    "\n",
    "Постройте модель с предельно большим значением *F1*-меры. Чтобы сдать проект успешно, нужно довести метрику до 0.59. Проверьте *F1*-меру на тестовой выборке самостоятельно.\n",
    "\n",
    "Дополнительно измеряйте *AUC-ROC*, сравнивайте её значение с *F1*-мерой.\n",
    "\n",
    "Источник данных: [https://www.kaggle.com/barelydedicated/bank-customer-churn-modeling](https://www.kaggle.com/barelydedicated/bank-customer-churn-modeling)"
   ]
  },
  {
   "cell_type": "markdown",
   "metadata": {},
   "source": [
    "```\n",
    "Описание данных\n",
    "Данные находятся в файле /datasets/Churn.csv (англ. «отток клиентов»)\n",
    "Признаки\n",
    "RowNumber — индекс строки в данных\n",
    "CustomerId — уникальный идентификатор клиента\n",
    "Surname — фамилия\n",
    "CreditScore — кредитный рейтинг\n",
    "Geography — страна проживания\n",
    "Gender — пол\n",
    "Age — возраст\n",
    "Tenure — сколько лет человек является клиентом банка\n",
    "Balance — баланс на счёте\n",
    "NumOfProducts — количество продуктов банка, используемых клиентом\n",
    "HasCrCard — наличие кредитной карты\n",
    "IsActiveMember — активность клиента\n",
    "EstimatedSalary — предполагаемая зарплата\n",
    "Целевой признак\n",
    "Exited — факт ухода клиента\n",
    "```"
   ]
  },
  {
   "cell_type": "markdown",
   "metadata": {},
   "source": [
    "## Подготовка данных"
   ]
  },
  {
   "cell_type": "code",
   "execution_count": 2,
   "metadata": {},
   "outputs": [
    {
     "name": "stdout",
     "output_type": "stream",
     "text": [
      "<class 'pandas.core.frame.DataFrame'>\n",
      "RangeIndex: 10000 entries, 0 to 9999\n",
      "Data columns (total 14 columns):\n",
      "RowNumber          10000 non-null int64\n",
      "CustomerId         10000 non-null int64\n",
      "Surname            10000 non-null object\n",
      "CreditScore        10000 non-null int64\n",
      "Geography          10000 non-null object\n",
      "Gender             10000 non-null object\n",
      "Age                10000 non-null int64\n",
      "Tenure             9091 non-null float64\n",
      "Balance            10000 non-null float64\n",
      "NumOfProducts      10000 non-null int64\n",
      "HasCrCard          10000 non-null int64\n",
      "IsActiveMember     10000 non-null int64\n",
      "EstimatedSalary    10000 non-null float64\n",
      "Exited             10000 non-null int64\n",
      "dtypes: float64(3), int64(8), object(3)\n",
      "memory usage: 1.1+ MB\n"
     ]
    },
    {
     "data": {
      "text/html": [
       "<div>\n",
       "<style scoped>\n",
       "    .dataframe tbody tr th:only-of-type {\n",
       "        vertical-align: middle;\n",
       "    }\n",
       "\n",
       "    .dataframe tbody tr th {\n",
       "        vertical-align: top;\n",
       "    }\n",
       "\n",
       "    .dataframe thead th {\n",
       "        text-align: right;\n",
       "    }\n",
       "</style>\n",
       "<table border=\"1\" class=\"dataframe\">\n",
       "  <thead>\n",
       "    <tr style=\"text-align: right;\">\n",
       "      <th></th>\n",
       "      <th>RowNumber</th>\n",
       "      <th>CustomerId</th>\n",
       "      <th>Surname</th>\n",
       "      <th>CreditScore</th>\n",
       "      <th>Geography</th>\n",
       "      <th>Gender</th>\n",
       "      <th>Age</th>\n",
       "      <th>Tenure</th>\n",
       "      <th>Balance</th>\n",
       "      <th>NumOfProducts</th>\n",
       "      <th>HasCrCard</th>\n",
       "      <th>IsActiveMember</th>\n",
       "      <th>EstimatedSalary</th>\n",
       "      <th>Exited</th>\n",
       "    </tr>\n",
       "  </thead>\n",
       "  <tbody>\n",
       "    <tr>\n",
       "      <td>2102</td>\n",
       "      <td>2103</td>\n",
       "      <td>15802351</td>\n",
       "      <td>Beers</td>\n",
       "      <td>755</td>\n",
       "      <td>Germany</td>\n",
       "      <td>Female</td>\n",
       "      <td>33</td>\n",
       "      <td>6.0</td>\n",
       "      <td>90560.30</td>\n",
       "      <td>2</td>\n",
       "      <td>1</td>\n",
       "      <td>1</td>\n",
       "      <td>42607.69</td>\n",
       "      <td>0</td>\n",
       "    </tr>\n",
       "    <tr>\n",
       "      <td>2946</td>\n",
       "      <td>2947</td>\n",
       "      <td>15727696</td>\n",
       "      <td>Zubareva</td>\n",
       "      <td>592</td>\n",
       "      <td>France</td>\n",
       "      <td>Male</td>\n",
       "      <td>42</td>\n",
       "      <td>1.0</td>\n",
       "      <td>147249.29</td>\n",
       "      <td>2</td>\n",
       "      <td>1</td>\n",
       "      <td>1</td>\n",
       "      <td>63023.02</td>\n",
       "      <td>0</td>\n",
       "    </tr>\n",
       "    <tr>\n",
       "      <td>1931</td>\n",
       "      <td>1932</td>\n",
       "      <td>15652693</td>\n",
       "      <td>Greco</td>\n",
       "      <td>573</td>\n",
       "      <td>France</td>\n",
       "      <td>Female</td>\n",
       "      <td>26</td>\n",
       "      <td>4.0</td>\n",
       "      <td>129109.02</td>\n",
       "      <td>1</td>\n",
       "      <td>0</td>\n",
       "      <td>0</td>\n",
       "      <td>149814.68</td>\n",
       "      <td>1</td>\n",
       "    </tr>\n",
       "    <tr>\n",
       "      <td>6166</td>\n",
       "      <td>6167</td>\n",
       "      <td>15567431</td>\n",
       "      <td>Kodilinyechukwu</td>\n",
       "      <td>773</td>\n",
       "      <td>France</td>\n",
       "      <td>Male</td>\n",
       "      <td>64</td>\n",
       "      <td>2.0</td>\n",
       "      <td>145578.28</td>\n",
       "      <td>1</td>\n",
       "      <td>0</td>\n",
       "      <td>1</td>\n",
       "      <td>186172.85</td>\n",
       "      <td>0</td>\n",
       "    </tr>\n",
       "    <tr>\n",
       "      <td>6130</td>\n",
       "      <td>6131</td>\n",
       "      <td>15651144</td>\n",
       "      <td>Yao</td>\n",
       "      <td>632</td>\n",
       "      <td>Germany</td>\n",
       "      <td>Female</td>\n",
       "      <td>35</td>\n",
       "      <td>2.0</td>\n",
       "      <td>150561.03</td>\n",
       "      <td>2</td>\n",
       "      <td>0</td>\n",
       "      <td>0</td>\n",
       "      <td>64722.61</td>\n",
       "      <td>0</td>\n",
       "    </tr>\n",
       "    <tr>\n",
       "      <td>3414</td>\n",
       "      <td>3415</td>\n",
       "      <td>15734609</td>\n",
       "      <td>Skinner</td>\n",
       "      <td>657</td>\n",
       "      <td>France</td>\n",
       "      <td>Female</td>\n",
       "      <td>37</td>\n",
       "      <td>2.0</td>\n",
       "      <td>0.00</td>\n",
       "      <td>2</td>\n",
       "      <td>1</td>\n",
       "      <td>1</td>\n",
       "      <td>7667.48</td>\n",
       "      <td>0</td>\n",
       "    </tr>\n",
       "    <tr>\n",
       "      <td>1565</td>\n",
       "      <td>1566</td>\n",
       "      <td>15649523</td>\n",
       "      <td>Kennedy</td>\n",
       "      <td>581</td>\n",
       "      <td>France</td>\n",
       "      <td>Male</td>\n",
       "      <td>38</td>\n",
       "      <td>1.0</td>\n",
       "      <td>0.00</td>\n",
       "      <td>2</td>\n",
       "      <td>1</td>\n",
       "      <td>0</td>\n",
       "      <td>46176.22</td>\n",
       "      <td>0</td>\n",
       "    </tr>\n",
       "    <tr>\n",
       "      <td>9133</td>\n",
       "      <td>9134</td>\n",
       "      <td>15726776</td>\n",
       "      <td>Donnelly</td>\n",
       "      <td>705</td>\n",
       "      <td>Spain</td>\n",
       "      <td>Male</td>\n",
       "      <td>36</td>\n",
       "      <td>1.0</td>\n",
       "      <td>111629.29</td>\n",
       "      <td>1</td>\n",
       "      <td>1</td>\n",
       "      <td>1</td>\n",
       "      <td>21807.16</td>\n",
       "      <td>0</td>\n",
       "    </tr>\n",
       "    <tr>\n",
       "      <td>9799</td>\n",
       "      <td>9800</td>\n",
       "      <td>15722731</td>\n",
       "      <td>Manna</td>\n",
       "      <td>653</td>\n",
       "      <td>France</td>\n",
       "      <td>Male</td>\n",
       "      <td>46</td>\n",
       "      <td>0.0</td>\n",
       "      <td>119556.10</td>\n",
       "      <td>1</td>\n",
       "      <td>1</td>\n",
       "      <td>0</td>\n",
       "      <td>78250.13</td>\n",
       "      <td>1</td>\n",
       "    </tr>\n",
       "    <tr>\n",
       "      <td>5565</td>\n",
       "      <td>5566</td>\n",
       "      <td>15636541</td>\n",
       "      <td>Cartwright</td>\n",
       "      <td>683</td>\n",
       "      <td>Germany</td>\n",
       "      <td>Male</td>\n",
       "      <td>35</td>\n",
       "      <td>5.0</td>\n",
       "      <td>144961.97</td>\n",
       "      <td>1</td>\n",
       "      <td>0</td>\n",
       "      <td>1</td>\n",
       "      <td>26796.73</td>\n",
       "      <td>0</td>\n",
       "    </tr>\n",
       "  </tbody>\n",
       "</table>\n",
       "</div>"
      ],
      "text/plain": [
       "      RowNumber  CustomerId          Surname  CreditScore Geography  Gender  \\\n",
       "2102       2103    15802351            Beers          755   Germany  Female   \n",
       "2946       2947    15727696         Zubareva          592    France    Male   \n",
       "1931       1932    15652693            Greco          573    France  Female   \n",
       "6166       6167    15567431  Kodilinyechukwu          773    France    Male   \n",
       "6130       6131    15651144              Yao          632   Germany  Female   \n",
       "3414       3415    15734609          Skinner          657    France  Female   \n",
       "1565       1566    15649523          Kennedy          581    France    Male   \n",
       "9133       9134    15726776         Donnelly          705     Spain    Male   \n",
       "9799       9800    15722731            Manna          653    France    Male   \n",
       "5565       5566    15636541       Cartwright          683   Germany    Male   \n",
       "\n",
       "      Age  Tenure    Balance  NumOfProducts  HasCrCard  IsActiveMember  \\\n",
       "2102   33     6.0   90560.30              2          1               1   \n",
       "2946   42     1.0  147249.29              2          1               1   \n",
       "1931   26     4.0  129109.02              1          0               0   \n",
       "6166   64     2.0  145578.28              1          0               1   \n",
       "6130   35     2.0  150561.03              2          0               0   \n",
       "3414   37     2.0       0.00              2          1               1   \n",
       "1565   38     1.0       0.00              2          1               0   \n",
       "9133   36     1.0  111629.29              1          1               1   \n",
       "9799   46     0.0  119556.10              1          1               0   \n",
       "5565   35     5.0  144961.97              1          0               1   \n",
       "\n",
       "      EstimatedSalary  Exited  \n",
       "2102         42607.69       0  \n",
       "2946         63023.02       0  \n",
       "1931        149814.68       1  \n",
       "6166        186172.85       0  \n",
       "6130         64722.61       0  \n",
       "3414          7667.48       0  \n",
       "1565         46176.22       0  \n",
       "9133         21807.16       0  \n",
       "9799         78250.13       1  \n",
       "5565         26796.73       0  "
      ]
     },
     "execution_count": 2,
     "metadata": {},
     "output_type": "execute_result"
    }
   ],
   "source": [
    "data = pd.read_csv('/datasets/Churn.csv')\n",
    "data.info()\n",
    "data.sample(10)"
   ]
  },
  {
   "cell_type": "markdown",
   "metadata": {},
   "source": [
    "### Проверка гипотезы:"
   ]
  },
  {
   "cell_type": "markdown",
   "metadata": {},
   "source": [
    "Столбец Tenure содержит пропуски данных. Предполагаю, что пропуски имеют случайный характер. Проверим характер распределения CreditScore в строках с пропуском Tenure  и всеми остальными:"
   ]
  },
  {
   "cell_type": "code",
   "execution_count": 3,
   "metadata": {},
   "outputs": [
    {
     "name": "stdout",
     "output_type": "stream",
     "text": [
      "p-значение:  0.506370554589996\n",
      "Не получилось отвергнуть нулевую гипотезу\n"
     ]
    }
   ],
   "source": [
    "alpha = 0.05\n",
    "\n",
    "results = st.ttest_ind(data.query('Tenure.isna()').CreditScore, \n",
    "                       data.query('Tenure.notna()').CreditScore, \n",
    "                       equal_var = False)\n",
    "\n",
    "print('p-значение: ', results.pvalue)\n",
    "if results.pvalue < alpha:\n",
    "    print('Отвергаем нулевую гипотезу')\n",
    "else:\n",
    "    print('Не получилось отвергнуть нулевую гипотезу')"
   ]
  },
  {
   "cell_type": "markdown",
   "metadata": {},
   "source": [
    "Характер распределения в строках с пропусками не отличается от остальных строк, поэтому удалим их из дальнейшего рассмотрения:"
   ]
  },
  {
   "cell_type": "code",
   "execution_count": 4,
   "metadata": {},
   "outputs": [],
   "source": [
    "data = data.dropna().reset_index(drop=True)"
   ]
  },
  {
   "cell_type": "code",
   "execution_count": 5,
   "metadata": {},
   "outputs": [
    {
     "data": {
      "text/plain": [
       "0"
      ]
     },
     "execution_count": 5,
     "metadata": {},
     "output_type": "execute_result"
    }
   ],
   "source": [
    "data.duplicated().sum()"
   ]
  },
  {
   "cell_type": "markdown",
   "metadata": {},
   "source": [
    "### Изучение данных, удаление бесполезных данных:"
   ]
  },
  {
   "cell_type": "code",
   "execution_count": 6,
   "metadata": {},
   "outputs": [],
   "source": [
    "useless = ['RowNumber', 'CustomerId', 'Surname']\n",
    "data = data.drop(useless, axis=1)"
   ]
  },
  {
   "cell_type": "code",
   "execution_count": 7,
   "metadata": {},
   "outputs": [
    {
     "data": {
      "text/html": [
       "<div>\n",
       "<style scoped>\n",
       "    .dataframe tbody tr th:only-of-type {\n",
       "        vertical-align: middle;\n",
       "    }\n",
       "\n",
       "    .dataframe tbody tr th {\n",
       "        vertical-align: top;\n",
       "    }\n",
       "\n",
       "    .dataframe thead th {\n",
       "        text-align: right;\n",
       "    }\n",
       "</style>\n",
       "<table border=\"1\" class=\"dataframe\">\n",
       "  <thead>\n",
       "    <tr style=\"text-align: right;\">\n",
       "      <th></th>\n",
       "      <th>CreditScore</th>\n",
       "      <th>Age</th>\n",
       "      <th>Tenure</th>\n",
       "      <th>Balance</th>\n",
       "      <th>NumOfProducts</th>\n",
       "      <th>EstimatedSalary</th>\n",
       "    </tr>\n",
       "  </thead>\n",
       "  <tbody>\n",
       "    <tr>\n",
       "      <td>count</td>\n",
       "      <td>9091.00</td>\n",
       "      <td>9091.00</td>\n",
       "      <td>9091.00</td>\n",
       "      <td>9091.00</td>\n",
       "      <td>9091.00</td>\n",
       "      <td>9091.00</td>\n",
       "    </tr>\n",
       "    <tr>\n",
       "      <td>mean</td>\n",
       "      <td>650.74</td>\n",
       "      <td>38.95</td>\n",
       "      <td>5.00</td>\n",
       "      <td>76522.74</td>\n",
       "      <td>1.53</td>\n",
       "      <td>100181.21</td>\n",
       "    </tr>\n",
       "    <tr>\n",
       "      <td>std</td>\n",
       "      <td>96.41</td>\n",
       "      <td>10.56</td>\n",
       "      <td>2.89</td>\n",
       "      <td>62329.53</td>\n",
       "      <td>0.58</td>\n",
       "      <td>57624.76</td>\n",
       "    </tr>\n",
       "    <tr>\n",
       "      <td>min</td>\n",
       "      <td>350.00</td>\n",
       "      <td>18.00</td>\n",
       "      <td>0.00</td>\n",
       "      <td>0.00</td>\n",
       "      <td>1.00</td>\n",
       "      <td>11.58</td>\n",
       "    </tr>\n",
       "    <tr>\n",
       "      <td>25%</td>\n",
       "      <td>584.00</td>\n",
       "      <td>32.00</td>\n",
       "      <td>2.00</td>\n",
       "      <td>0.00</td>\n",
       "      <td>1.00</td>\n",
       "      <td>51227.74</td>\n",
       "    </tr>\n",
       "    <tr>\n",
       "      <td>50%</td>\n",
       "      <td>652.00</td>\n",
       "      <td>37.00</td>\n",
       "      <td>5.00</td>\n",
       "      <td>97318.25</td>\n",
       "      <td>1.00</td>\n",
       "      <td>100240.20</td>\n",
       "    </tr>\n",
       "    <tr>\n",
       "      <td>75%</td>\n",
       "      <td>717.00</td>\n",
       "      <td>44.00</td>\n",
       "      <td>7.00</td>\n",
       "      <td>127561.89</td>\n",
       "      <td>2.00</td>\n",
       "      <td>149567.21</td>\n",
       "    </tr>\n",
       "    <tr>\n",
       "      <td>max</td>\n",
       "      <td>850.00</td>\n",
       "      <td>92.00</td>\n",
       "      <td>10.00</td>\n",
       "      <td>250898.09</td>\n",
       "      <td>4.00</td>\n",
       "      <td>199992.48</td>\n",
       "    </tr>\n",
       "  </tbody>\n",
       "</table>\n",
       "</div>"
      ],
      "text/plain": [
       "       CreditScore      Age   Tenure    Balance  NumOfProducts  \\\n",
       "count      9091.00  9091.00  9091.00    9091.00        9091.00   \n",
       "mean        650.74    38.95     5.00   76522.74           1.53   \n",
       "std          96.41    10.56     2.89   62329.53           0.58   \n",
       "min         350.00    18.00     0.00       0.00           1.00   \n",
       "25%         584.00    32.00     2.00       0.00           1.00   \n",
       "50%         652.00    37.00     5.00   97318.25           1.00   \n",
       "75%         717.00    44.00     7.00  127561.89           2.00   \n",
       "max         850.00    92.00    10.00  250898.09           4.00   \n",
       "\n",
       "       EstimatedSalary  \n",
       "count          9091.00  \n",
       "mean         100181.21  \n",
       "std           57624.76  \n",
       "min              11.58  \n",
       "25%           51227.74  \n",
       "50%          100240.20  \n",
       "75%          149567.21  \n",
       "max          199992.48  "
      ]
     },
     "execution_count": 7,
     "metadata": {},
     "output_type": "execute_result"
    }
   ],
   "source": [
    "numeric = ['CreditScore', 'Age', 'Tenure', 'Balance', 'NumOfProducts', 'EstimatedSalary']\n",
    "data[numeric].describe().round(2)"
   ]
  },
  {
   "cell_type": "code",
   "execution_count": 8,
   "metadata": {},
   "outputs": [
    {
     "data": {
      "text/html": [
       "<div>\n",
       "<style scoped>\n",
       "    .dataframe tbody tr th:only-of-type {\n",
       "        vertical-align: middle;\n",
       "    }\n",
       "\n",
       "    .dataframe tbody tr th {\n",
       "        vertical-align: top;\n",
       "    }\n",
       "\n",
       "    .dataframe thead th {\n",
       "        text-align: right;\n",
       "    }\n",
       "</style>\n",
       "<table border=\"1\" class=\"dataframe\">\n",
       "  <thead>\n",
       "    <tr style=\"text-align: right;\">\n",
       "      <th></th>\n",
       "      <th>HasCrCard</th>\n",
       "      <th>IsActiveMember</th>\n",
       "      <th>Exited</th>\n",
       "    </tr>\n",
       "  </thead>\n",
       "  <tbody>\n",
       "    <tr>\n",
       "      <td>count</td>\n",
       "      <td>9091.000000</td>\n",
       "      <td>9091.000000</td>\n",
       "      <td>9091.000000</td>\n",
       "    </tr>\n",
       "    <tr>\n",
       "      <td>mean</td>\n",
       "      <td>0.704983</td>\n",
       "      <td>0.515565</td>\n",
       "      <td>0.203938</td>\n",
       "    </tr>\n",
       "    <tr>\n",
       "      <td>std</td>\n",
       "      <td>0.456076</td>\n",
       "      <td>0.499785</td>\n",
       "      <td>0.402946</td>\n",
       "    </tr>\n",
       "    <tr>\n",
       "      <td>min</td>\n",
       "      <td>0.000000</td>\n",
       "      <td>0.000000</td>\n",
       "      <td>0.000000</td>\n",
       "    </tr>\n",
       "    <tr>\n",
       "      <td>25%</td>\n",
       "      <td>0.000000</td>\n",
       "      <td>0.000000</td>\n",
       "      <td>0.000000</td>\n",
       "    </tr>\n",
       "    <tr>\n",
       "      <td>50%</td>\n",
       "      <td>1.000000</td>\n",
       "      <td>1.000000</td>\n",
       "      <td>0.000000</td>\n",
       "    </tr>\n",
       "    <tr>\n",
       "      <td>75%</td>\n",
       "      <td>1.000000</td>\n",
       "      <td>1.000000</td>\n",
       "      <td>0.000000</td>\n",
       "    </tr>\n",
       "    <tr>\n",
       "      <td>max</td>\n",
       "      <td>1.000000</td>\n",
       "      <td>1.000000</td>\n",
       "      <td>1.000000</td>\n",
       "    </tr>\n",
       "  </tbody>\n",
       "</table>\n",
       "</div>"
      ],
      "text/plain": [
       "         HasCrCard  IsActiveMember       Exited\n",
       "count  9091.000000     9091.000000  9091.000000\n",
       "mean      0.704983        0.515565     0.203938\n",
       "std       0.456076        0.499785     0.402946\n",
       "min       0.000000        0.000000     0.000000\n",
       "25%       0.000000        0.000000     0.000000\n",
       "50%       1.000000        1.000000     0.000000\n",
       "75%       1.000000        1.000000     0.000000\n",
       "max       1.000000        1.000000     1.000000"
      ]
     },
     "execution_count": 8,
     "metadata": {},
     "output_type": "execute_result"
    }
   ],
   "source": [
    "data[['HasCrCard', 'IsActiveMember', 'Exited']].describe()"
   ]
  },
  {
   "cell_type": "code",
   "execution_count": 9,
   "metadata": {},
   "outputs": [
    {
     "data": {
      "text/plain": [
       "France     4550\n",
       "Germany    2293\n",
       "Spain      2248\n",
       "Name: Geography, dtype: int64"
      ]
     },
     "execution_count": 9,
     "metadata": {},
     "output_type": "execute_result"
    }
   ],
   "source": [
    "data.Geography.value_counts()"
   ]
  },
  {
   "cell_type": "code",
   "execution_count": 10,
   "metadata": {},
   "outputs": [
    {
     "data": {
      "text/plain": [
       "Male      4974\n",
       "Female    4117\n",
       "Name: Gender, dtype: int64"
      ]
     },
     "execution_count": 10,
     "metadata": {},
     "output_type": "execute_result"
    }
   ],
   "source": [
    "data.Gender.value_counts()"
   ]
  },
  {
   "cell_type": "markdown",
   "metadata": {},
   "source": [
    "### Кодирование категориальных признаков:"
   ]
  },
  {
   "cell_type": "code",
   "execution_count": 11,
   "metadata": {},
   "outputs": [
    {
     "name": "stdout",
     "output_type": "stream",
     "text": [
      "<class 'pandas.core.frame.DataFrame'>\n",
      "RangeIndex: 9091 entries, 0 to 9090\n",
      "Data columns (total 12 columns):\n",
      "CreditScore          9091 non-null int64\n",
      "Age                  9091 non-null int64\n",
      "Tenure               9091 non-null float64\n",
      "Balance              9091 non-null float64\n",
      "NumOfProducts        9091 non-null int64\n",
      "HasCrCard            9091 non-null int64\n",
      "IsActiveMember       9091 non-null int64\n",
      "EstimatedSalary      9091 non-null float64\n",
      "Exited               9091 non-null int64\n",
      "Geography_Germany    9091 non-null uint8\n",
      "Geography_Spain      9091 non-null uint8\n",
      "Gender_Male          9091 non-null uint8\n",
      "dtypes: float64(3), int64(6), uint8(3)\n",
      "memory usage: 666.0 KB\n"
     ]
    },
    {
     "data": {
      "text/html": [
       "<div>\n",
       "<style scoped>\n",
       "    .dataframe tbody tr th:only-of-type {\n",
       "        vertical-align: middle;\n",
       "    }\n",
       "\n",
       "    .dataframe tbody tr th {\n",
       "        vertical-align: top;\n",
       "    }\n",
       "\n",
       "    .dataframe thead th {\n",
       "        text-align: right;\n",
       "    }\n",
       "</style>\n",
       "<table border=\"1\" class=\"dataframe\">\n",
       "  <thead>\n",
       "    <tr style=\"text-align: right;\">\n",
       "      <th></th>\n",
       "      <th>CreditScore</th>\n",
       "      <th>Age</th>\n",
       "      <th>Tenure</th>\n",
       "      <th>Balance</th>\n",
       "      <th>NumOfProducts</th>\n",
       "      <th>HasCrCard</th>\n",
       "      <th>IsActiveMember</th>\n",
       "      <th>EstimatedSalary</th>\n",
       "      <th>Exited</th>\n",
       "      <th>Geography_Germany</th>\n",
       "      <th>Geography_Spain</th>\n",
       "      <th>Gender_Male</th>\n",
       "    </tr>\n",
       "  </thead>\n",
       "  <tbody>\n",
       "    <tr>\n",
       "      <td>9000</td>\n",
       "      <td>589</td>\n",
       "      <td>38</td>\n",
       "      <td>4.0</td>\n",
       "      <td>0.00</td>\n",
       "      <td>1</td>\n",
       "      <td>1</td>\n",
       "      <td>0</td>\n",
       "      <td>95483.48</td>\n",
       "      <td>1</td>\n",
       "      <td>0</td>\n",
       "      <td>0</td>\n",
       "      <td>1</td>\n",
       "    </tr>\n",
       "    <tr>\n",
       "      <td>46</td>\n",
       "      <td>637</td>\n",
       "      <td>39</td>\n",
       "      <td>9.0</td>\n",
       "      <td>137843.80</td>\n",
       "      <td>1</td>\n",
       "      <td>1</td>\n",
       "      <td>1</td>\n",
       "      <td>117622.80</td>\n",
       "      <td>1</td>\n",
       "      <td>1</td>\n",
       "      <td>0</td>\n",
       "      <td>0</td>\n",
       "    </tr>\n",
       "    <tr>\n",
       "      <td>8401</td>\n",
       "      <td>686</td>\n",
       "      <td>32</td>\n",
       "      <td>6.0</td>\n",
       "      <td>0.00</td>\n",
       "      <td>2</td>\n",
       "      <td>1</td>\n",
       "      <td>1</td>\n",
       "      <td>179093.26</td>\n",
       "      <td>0</td>\n",
       "      <td>0</td>\n",
       "      <td>0</td>\n",
       "      <td>1</td>\n",
       "    </tr>\n",
       "    <tr>\n",
       "      <td>6846</td>\n",
       "      <td>566</td>\n",
       "      <td>34</td>\n",
       "      <td>3.0</td>\n",
       "      <td>0.00</td>\n",
       "      <td>1</td>\n",
       "      <td>0</td>\n",
       "      <td>0</td>\n",
       "      <td>188135.69</td>\n",
       "      <td>0</td>\n",
       "      <td>0</td>\n",
       "      <td>0</td>\n",
       "      <td>1</td>\n",
       "    </tr>\n",
       "    <tr>\n",
       "      <td>6668</td>\n",
       "      <td>596</td>\n",
       "      <td>21</td>\n",
       "      <td>4.0</td>\n",
       "      <td>210433.08</td>\n",
       "      <td>2</td>\n",
       "      <td>0</td>\n",
       "      <td>1</td>\n",
       "      <td>197297.77</td>\n",
       "      <td>1</td>\n",
       "      <td>0</td>\n",
       "      <td>0</td>\n",
       "      <td>1</td>\n",
       "    </tr>\n",
       "    <tr>\n",
       "      <td>2180</td>\n",
       "      <td>580</td>\n",
       "      <td>57</td>\n",
       "      <td>0.0</td>\n",
       "      <td>136820.99</td>\n",
       "      <td>1</td>\n",
       "      <td>0</td>\n",
       "      <td>1</td>\n",
       "      <td>108528.74</td>\n",
       "      <td>0</td>\n",
       "      <td>0</td>\n",
       "      <td>1</td>\n",
       "      <td>0</td>\n",
       "    </tr>\n",
       "    <tr>\n",
       "      <td>5666</td>\n",
       "      <td>613</td>\n",
       "      <td>47</td>\n",
       "      <td>6.0</td>\n",
       "      <td>146034.74</td>\n",
       "      <td>1</td>\n",
       "      <td>1</td>\n",
       "      <td>1</td>\n",
       "      <td>77146.14</td>\n",
       "      <td>0</td>\n",
       "      <td>0</td>\n",
       "      <td>0</td>\n",
       "      <td>1</td>\n",
       "    </tr>\n",
       "    <tr>\n",
       "      <td>4216</td>\n",
       "      <td>652</td>\n",
       "      <td>58</td>\n",
       "      <td>6.0</td>\n",
       "      <td>0.00</td>\n",
       "      <td>2</td>\n",
       "      <td>0</td>\n",
       "      <td>1</td>\n",
       "      <td>170025.43</td>\n",
       "      <td>0</td>\n",
       "      <td>0</td>\n",
       "      <td>1</td>\n",
       "      <td>1</td>\n",
       "    </tr>\n",
       "    <tr>\n",
       "      <td>306</td>\n",
       "      <td>659</td>\n",
       "      <td>32</td>\n",
       "      <td>3.0</td>\n",
       "      <td>150923.74</td>\n",
       "      <td>2</td>\n",
       "      <td>0</td>\n",
       "      <td>1</td>\n",
       "      <td>174652.51</td>\n",
       "      <td>0</td>\n",
       "      <td>1</td>\n",
       "      <td>0</td>\n",
       "      <td>0</td>\n",
       "    </tr>\n",
       "    <tr>\n",
       "      <td>4063</td>\n",
       "      <td>701</td>\n",
       "      <td>42</td>\n",
       "      <td>6.0</td>\n",
       "      <td>86167.82</td>\n",
       "      <td>1</td>\n",
       "      <td>1</td>\n",
       "      <td>0</td>\n",
       "      <td>153342.38</td>\n",
       "      <td>0</td>\n",
       "      <td>0</td>\n",
       "      <td>0</td>\n",
       "      <td>0</td>\n",
       "    </tr>\n",
       "  </tbody>\n",
       "</table>\n",
       "</div>"
      ],
      "text/plain": [
       "      CreditScore  Age  Tenure    Balance  NumOfProducts  HasCrCard  \\\n",
       "9000          589   38     4.0       0.00              1          1   \n",
       "46            637   39     9.0  137843.80              1          1   \n",
       "8401          686   32     6.0       0.00              2          1   \n",
       "6846          566   34     3.0       0.00              1          0   \n",
       "6668          596   21     4.0  210433.08              2          0   \n",
       "2180          580   57     0.0  136820.99              1          0   \n",
       "5666          613   47     6.0  146034.74              1          1   \n",
       "4216          652   58     6.0       0.00              2          0   \n",
       "306           659   32     3.0  150923.74              2          0   \n",
       "4063          701   42     6.0   86167.82              1          1   \n",
       "\n",
       "      IsActiveMember  EstimatedSalary  Exited  Geography_Germany  \\\n",
       "9000               0         95483.48       1                  0   \n",
       "46                 1        117622.80       1                  1   \n",
       "8401               1        179093.26       0                  0   \n",
       "6846               0        188135.69       0                  0   \n",
       "6668               1        197297.77       1                  0   \n",
       "2180               1        108528.74       0                  0   \n",
       "5666               1         77146.14       0                  0   \n",
       "4216               1        170025.43       0                  0   \n",
       "306                1        174652.51       0                  1   \n",
       "4063               0        153342.38       0                  0   \n",
       "\n",
       "      Geography_Spain  Gender_Male  \n",
       "9000                0            1  \n",
       "46                  0            0  \n",
       "8401                0            1  \n",
       "6846                0            1  \n",
       "6668                0            1  \n",
       "2180                1            0  \n",
       "5666                0            1  \n",
       "4216                1            1  \n",
       "306                 0            0  \n",
       "4063                0            0  "
      ]
     },
     "execution_count": 11,
     "metadata": {},
     "output_type": "execute_result"
    }
   ],
   "source": [
    "data = pd.get_dummies(data, drop_first=True)\n",
    "data.info()\n",
    "data.sample(10)"
   ]
  },
  {
   "cell_type": "markdown",
   "metadata": {},
   "source": [
    "### Разделение на тренировочную, валидационную и тестовую выборки   в пропорции 60% 20% 20%:"
   ]
  },
  {
   "cell_type": "code",
   "execution_count": 12,
   "metadata": {},
   "outputs": [],
   "source": [
    "features = data.drop('Exited', axis=1)\n",
    "target = data['Exited']"
   ]
  },
  {
   "cell_type": "code",
   "execution_count": 13,
   "metadata": {},
   "outputs": [],
   "source": [
    "features_train, features_other, target_train, target_other = train_test_split(features, target, \n",
    "                                                                              train_size=0.6, random_state=RND_ST, \n",
    "                                                                              stratify=target)\n",
    "\n",
    "features_valid, features_test, target_valid, target_test = train_test_split(features_other, target_other, \n",
    "                                                                            train_size=0.5, random_state=RND_ST, \n",
    "                                                                            stratify=target_other)"
   ]
  },
  {
   "cell_type": "code",
   "execution_count": 14,
   "metadata": {
    "scrolled": false
   },
   "outputs": [
    {
     "name": "stdout",
     "output_type": "stream",
     "text": [
      "Тренировочная выборка:\t (5454, 11) (5454,) 0.204\n",
      "Валидационная выборка:\t (1818, 11) (1818,) 0.204\n",
      "     Тестовая выборка:\t (1819, 11) (1819,) 0.204\n"
     ]
    }
   ],
   "source": [
    "print('Тренировочная выборка:\\t',features_train.shape, target_train.shape, target_train.mean().round(3))\n",
    "print('Валидационная выборка:\\t',features_valid.shape, target_valid.shape, target_valid.mean().round(3))\n",
    "print('     Тестовая выборка:\\t',features_test.shape, target_test.shape, target_test.mean().round(3))"
   ]
  },
  {
   "cell_type": "markdown",
   "metadata": {},
   "source": [
    "### Нормирование числовых параметров:"
   ]
  },
  {
   "cell_type": "code",
   "execution_count": 15,
   "metadata": {},
   "outputs": [],
   "source": [
    "scaler = StandardScaler()\n",
    "pd.options.mode.chained_assignment = None"
   ]
  },
  {
   "cell_type": "code",
   "execution_count": 16,
   "metadata": {},
   "outputs": [
    {
     "data": {
      "text/html": [
       "<div>\n",
       "<style scoped>\n",
       "    .dataframe tbody tr th:only-of-type {\n",
       "        vertical-align: middle;\n",
       "    }\n",
       "\n",
       "    .dataframe tbody tr th {\n",
       "        vertical-align: top;\n",
       "    }\n",
       "\n",
       "    .dataframe thead th {\n",
       "        text-align: right;\n",
       "    }\n",
       "</style>\n",
       "<table border=\"1\" class=\"dataframe\">\n",
       "  <thead>\n",
       "    <tr style=\"text-align: right;\">\n",
       "      <th></th>\n",
       "      <th>CreditScore</th>\n",
       "      <th>Age</th>\n",
       "      <th>Tenure</th>\n",
       "      <th>Balance</th>\n",
       "      <th>NumOfProducts</th>\n",
       "      <th>HasCrCard</th>\n",
       "      <th>IsActiveMember</th>\n",
       "      <th>EstimatedSalary</th>\n",
       "      <th>Geography_Germany</th>\n",
       "      <th>Geography_Spain</th>\n",
       "      <th>Gender_Male</th>\n",
       "    </tr>\n",
       "  </thead>\n",
       "  <tbody>\n",
       "    <tr>\n",
       "      <td>5515</td>\n",
       "      <td>-1.063746</td>\n",
       "      <td>0.202723</td>\n",
       "      <td>-0.357331</td>\n",
       "      <td>0.099215</td>\n",
       "      <td>-0.910943</td>\n",
       "      <td>0</td>\n",
       "      <td>1</td>\n",
       "      <td>-0.764298</td>\n",
       "      <td>0</td>\n",
       "      <td>0</td>\n",
       "      <td>0</td>\n",
       "    </tr>\n",
       "    <tr>\n",
       "      <td>8357</td>\n",
       "      <td>-0.272131</td>\n",
       "      <td>1.258193</td>\n",
       "      <td>-1.748894</td>\n",
       "      <td>0.917632</td>\n",
       "      <td>-0.910943</td>\n",
       "      <td>0</td>\n",
       "      <td>0</td>\n",
       "      <td>-1.647391</td>\n",
       "      <td>1</td>\n",
       "      <td>0</td>\n",
       "      <td>0</td>\n",
       "    </tr>\n",
       "    <tr>\n",
       "      <td>1361</td>\n",
       "      <td>0.759051</td>\n",
       "      <td>1.258193</td>\n",
       "      <td>-0.009440</td>\n",
       "      <td>0.885161</td>\n",
       "      <td>-0.910943</td>\n",
       "      <td>0</td>\n",
       "      <td>1</td>\n",
       "      <td>-0.117758</td>\n",
       "      <td>1</td>\n",
       "      <td>0</td>\n",
       "      <td>1</td>\n",
       "    </tr>\n",
       "    <tr>\n",
       "      <td>39</td>\n",
       "      <td>-1.855361</td>\n",
       "      <td>0.106771</td>\n",
       "      <td>-0.357331</td>\n",
       "      <td>-1.222967</td>\n",
       "      <td>-0.910943</td>\n",
       "      <td>1</td>\n",
       "      <td>0</td>\n",
       "      <td>-0.512606</td>\n",
       "      <td>0</td>\n",
       "      <td>1</td>\n",
       "      <td>1</td>\n",
       "    </tr>\n",
       "    <tr>\n",
       "      <td>412</td>\n",
       "      <td>0.634059</td>\n",
       "      <td>-0.085132</td>\n",
       "      <td>-0.705222</td>\n",
       "      <td>-1.222967</td>\n",
       "      <td>0.789359</td>\n",
       "      <td>1</td>\n",
       "      <td>0</td>\n",
       "      <td>-0.541573</td>\n",
       "      <td>0</td>\n",
       "      <td>0</td>\n",
       "      <td>1</td>\n",
       "    </tr>\n",
       "    <tr>\n",
       "      <td>4919</td>\n",
       "      <td>1.498586</td>\n",
       "      <td>-0.372988</td>\n",
       "      <td>0.338450</td>\n",
       "      <td>-1.222967</td>\n",
       "      <td>0.789359</td>\n",
       "      <td>1</td>\n",
       "      <td>1</td>\n",
       "      <td>-0.537343</td>\n",
       "      <td>0</td>\n",
       "      <td>0</td>\n",
       "      <td>1</td>\n",
       "    </tr>\n",
       "    <tr>\n",
       "      <td>3070</td>\n",
       "      <td>0.498651</td>\n",
       "      <td>0.010820</td>\n",
       "      <td>1.382122</td>\n",
       "      <td>0.909112</td>\n",
       "      <td>0.789359</td>\n",
       "      <td>0</td>\n",
       "      <td>1</td>\n",
       "      <td>-0.805706</td>\n",
       "      <td>1</td>\n",
       "      <td>0</td>\n",
       "      <td>1</td>\n",
       "    </tr>\n",
       "    <tr>\n",
       "      <td>5018</td>\n",
       "      <td>-0.376291</td>\n",
       "      <td>0.010820</td>\n",
       "      <td>-0.705222</td>\n",
       "      <td>1.208836</td>\n",
       "      <td>-0.910943</td>\n",
       "      <td>0</td>\n",
       "      <td>0</td>\n",
       "      <td>-0.750614</td>\n",
       "      <td>0</td>\n",
       "      <td>1</td>\n",
       "      <td>1</td>\n",
       "    </tr>\n",
       "    <tr>\n",
       "      <td>8780</td>\n",
       "      <td>-1.074162</td>\n",
       "      <td>-0.852747</td>\n",
       "      <td>0.338450</td>\n",
       "      <td>-1.222967</td>\n",
       "      <td>0.789359</td>\n",
       "      <td>1</td>\n",
       "      <td>1</td>\n",
       "      <td>-1.410817</td>\n",
       "      <td>0</td>\n",
       "      <td>0</td>\n",
       "      <td>1</td>\n",
       "    </tr>\n",
       "    <tr>\n",
       "      <td>6411</td>\n",
       "      <td>-1.282482</td>\n",
       "      <td>1.354145</td>\n",
       "      <td>1.034232</td>\n",
       "      <td>-1.222967</td>\n",
       "      <td>-0.910943</td>\n",
       "      <td>1</td>\n",
       "      <td>1</td>\n",
       "      <td>-0.833130</td>\n",
       "      <td>0</td>\n",
       "      <td>1</td>\n",
       "      <td>1</td>\n",
       "    </tr>\n",
       "  </tbody>\n",
       "</table>\n",
       "</div>"
      ],
      "text/plain": [
       "      CreditScore       Age    Tenure   Balance  NumOfProducts  HasCrCard  \\\n",
       "5515    -1.063746  0.202723 -0.357331  0.099215      -0.910943          0   \n",
       "8357    -0.272131  1.258193 -1.748894  0.917632      -0.910943          0   \n",
       "1361     0.759051  1.258193 -0.009440  0.885161      -0.910943          0   \n",
       "39      -1.855361  0.106771 -0.357331 -1.222967      -0.910943          1   \n",
       "412      0.634059 -0.085132 -0.705222 -1.222967       0.789359          1   \n",
       "4919     1.498586 -0.372988  0.338450 -1.222967       0.789359          1   \n",
       "3070     0.498651  0.010820  1.382122  0.909112       0.789359          0   \n",
       "5018    -0.376291  0.010820 -0.705222  1.208836      -0.910943          0   \n",
       "8780    -1.074162 -0.852747  0.338450 -1.222967       0.789359          1   \n",
       "6411    -1.282482  1.354145  1.034232 -1.222967      -0.910943          1   \n",
       "\n",
       "      IsActiveMember  EstimatedSalary  Geography_Germany  Geography_Spain  \\\n",
       "5515               1        -0.764298                  0                0   \n",
       "8357               0        -1.647391                  1                0   \n",
       "1361               1        -0.117758                  1                0   \n",
       "39                 0        -0.512606                  0                1   \n",
       "412                0        -0.541573                  0                0   \n",
       "4919               1        -0.537343                  0                0   \n",
       "3070               1        -0.805706                  1                0   \n",
       "5018               0        -0.750614                  0                1   \n",
       "8780               1        -1.410817                  0                0   \n",
       "6411               1        -0.833130                  0                1   \n",
       "\n",
       "      Gender_Male  \n",
       "5515            0  \n",
       "8357            0  \n",
       "1361            1  \n",
       "39              1  \n",
       "412             1  \n",
       "4919            1  \n",
       "3070            1  \n",
       "5018            1  \n",
       "8780            1  \n",
       "6411            1  "
      ]
     },
     "execution_count": 16,
     "metadata": {},
     "output_type": "execute_result"
    }
   ],
   "source": [
    "scaler.fit(features_train[numeric])\n",
    "\n",
    "features_train[numeric] = scaler.transform(features_train[numeric])\n",
    "features_valid[numeric] = scaler.transform(features_valid[numeric])\n",
    "features_test[numeric] = scaler.transform(features_test[numeric])\n",
    "\n",
    "features_train.sample(10)"
   ]
  },
  {
   "cell_type": "markdown",
   "metadata": {},
   "source": [
    "### Вывод:"
   ]
  },
  {
   "cell_type": "markdown",
   "metadata": {},
   "source": [
    "Данные подготовлены для обучения и тестирования моделей"
   ]
  },
  {
   "cell_type": "markdown",
   "metadata": {},
   "source": [
    "## Исследование задачи"
   ]
  },
  {
   "cell_type": "markdown",
   "metadata": {},
   "source": [
    "### Обучение моделей на исходных данных:"
   ]
  },
  {
   "cell_type": "code",
   "execution_count": 17,
   "metadata": {
    "scrolled": true
   },
   "outputs": [
    {
     "data": {
      "text/plain": [
       "DecisionTreeClassifier(class_weight=None, criterion='gini', max_depth=10,\n",
       "                       max_features=None, max_leaf_nodes=None,\n",
       "                       min_impurity_decrease=0.0, min_impurity_split=None,\n",
       "                       min_samples_leaf=1, min_samples_split=2,\n",
       "                       min_weight_fraction_leaf=0.0, presort=False,\n",
       "                       random_state=12345, splitter='best')"
      ]
     },
     "execution_count": 17,
     "metadata": {},
     "output_type": "execute_result"
    }
   ],
   "source": [
    "model_DTC = DecisionTreeClassifier(random_state=RND_ST, max_depth=10)\n",
    "model_DTC.fit(features_train, target_train)"
   ]
  },
  {
   "cell_type": "code",
   "execution_count": 18,
   "metadata": {
    "scrolled": true
   },
   "outputs": [
    {
     "data": {
      "text/plain": [
       "RandomForestClassifier(bootstrap=True, class_weight=None, criterion='gini',\n",
       "                       max_depth=None, max_features='auto', max_leaf_nodes=None,\n",
       "                       min_impurity_decrease=0.0, min_impurity_split=None,\n",
       "                       min_samples_leaf=1, min_samples_split=2,\n",
       "                       min_weight_fraction_leaf=0.0, n_estimators=100,\n",
       "                       n_jobs=None, oob_score=False, random_state=12345,\n",
       "                       verbose=0, warm_start=False)"
      ]
     },
     "execution_count": 18,
     "metadata": {},
     "output_type": "execute_result"
    }
   ],
   "source": [
    "model_RFC = RandomForestClassifier(random_state=RND_ST, n_estimators=100)\n",
    "model_RFC.fit(features_train, target_train)"
   ]
  },
  {
   "cell_type": "code",
   "execution_count": 19,
   "metadata": {
    "scrolled": true
   },
   "outputs": [
    {
     "data": {
      "text/plain": [
       "LogisticRegression(C=1.0, class_weight=None, dual=False, fit_intercept=True,\n",
       "                   intercept_scaling=1, l1_ratio=None, max_iter=100,\n",
       "                   multi_class='warn', n_jobs=None, penalty='l2',\n",
       "                   random_state=12345, solver='liblinear', tol=0.0001,\n",
       "                   verbose=0, warm_start=False)"
      ]
     },
     "execution_count": 19,
     "metadata": {},
     "output_type": "execute_result"
    }
   ],
   "source": [
    "model_LRG = LogisticRegression(random_state=RND_ST, solver ='liblinear')\n",
    "model_LRG.fit(features_train, target_train)"
   ]
  },
  {
   "cell_type": "code",
   "execution_count": 20,
   "metadata": {},
   "outputs": [
    {
     "data": {
      "text/plain": [
       "DummyClassifier(constant=None, random_state=12345, strategy='stratified')"
      ]
     },
     "execution_count": 20,
     "metadata": {},
     "output_type": "execute_result"
    }
   ],
   "source": [
    "model_DUM = DummyClassifier(random_state=RND_ST)\n",
    "model_DUM.fit(features_train, target_train)"
   ]
  },
  {
   "cell_type": "markdown",
   "metadata": {},
   "source": [
    "### Получение метрик:"
   ]
  },
  {
   "cell_type": "code",
   "execution_count": 21,
   "metadata": {},
   "outputs": [
    {
     "name": "stdout",
     "output_type": "stream",
     "text": [
      "\n",
      "\n",
      " model_DTC roc_auc_score= 0.7561773093475899\n"
     ]
    },
    {
     "data": {
      "image/png": "[encoded data removed]",
      "text/plain": [
       "<Figure size 432x288 with 1 Axes>"
      ]
     },
     "metadata": {
      "needs_background": "light"
     },
     "output_type": "display_data"
    },
    {
     "name": "stdout",
     "output_type": "stream",
     "text": [
      "\n",
      "\n",
      " model_RFC roc_auc_score= 0.8371803845065598\n"
     ]
    },
    {
     "data": {
      "image/png": "[encoded data removed]",
      "text/plain": [
       "<Figure size 432x288 with 1 Axes>"
      ]
     },
     "metadata": {
      "needs_background": "light"
     },
     "output_type": "display_data"
    },
    {
     "name": "stdout",
     "output_type": "stream",
     "text": [
      "\n",
      "\n",
      " model_LRG roc_auc_score= 0.7743592798320205\n"
     ]
    },
    {
     "data": {
      "image/png": "[encoded data removed]",
      "text/plain": [
       "<Figure size 432x288 with 1 Axes>"
      ]
     },
     "metadata": {
      "needs_background": "light"
     },
     "output_type": "display_data"
    },
    {
     "name": "stdout",
     "output_type": "stream",
     "text": [
      "\n",
      "\n",
      " model_DUM roc_auc_score= 0.48052337269735373\n"
     ]
    },
    {
     "data": {
      "image/png": "[encoded data removed]",
      "text/plain": [
       "<Figure size 432x288 with 1 Axes>"
      ]
     },
     "metadata": {
      "needs_background": "light"
     },
     "output_type": "display_data"
    },
    {
     "data": {
      "text/html": [
       "<div>\n",
       "<style scoped>\n",
       "    .dataframe tbody tr th:only-of-type {\n",
       "        vertical-align: middle;\n",
       "    }\n",
       "\n",
       "    .dataframe tbody tr th {\n",
       "        vertical-align: top;\n",
       "    }\n",
       "\n",
       "    .dataframe thead th {\n",
       "        text-align: right;\n",
       "    }\n",
       "</style>\n",
       "<table border=\"1\" class=\"dataframe\">\n",
       "  <thead>\n",
       "    <tr style=\"text-align: right;\">\n",
       "      <th></th>\n",
       "      <th>model_DTC</th>\n",
       "      <th>model_RFC</th>\n",
       "      <th>model_LRG</th>\n",
       "      <th>model_DUM</th>\n",
       "    </tr>\n",
       "  </thead>\n",
       "  <tbody>\n",
       "    <tr>\n",
       "      <td>Accuracy</td>\n",
       "      <td>0.842771</td>\n",
       "      <td>0.854865</td>\n",
       "      <td>0.815833</td>\n",
       "      <td>0.659703</td>\n",
       "    </tr>\n",
       "    <tr>\n",
       "      <td>recall_score</td>\n",
       "      <td>0.450135</td>\n",
       "      <td>0.463612</td>\n",
       "      <td>0.245283</td>\n",
       "      <td>0.177898</td>\n",
       "    </tr>\n",
       "    <tr>\n",
       "      <td>precision_score</td>\n",
       "      <td>0.670683</td>\n",
       "      <td>0.725738</td>\n",
       "      <td>0.623288</td>\n",
       "      <td>0.173684</td>\n",
       "    </tr>\n",
       "    <tr>\n",
       "      <td>f1_score</td>\n",
       "      <td>0.538710</td>\n",
       "      <td>0.565789</td>\n",
       "      <td>0.352031</td>\n",
       "      <td>0.175766</td>\n",
       "    </tr>\n",
       "    <tr>\n",
       "      <td>roc_auc_score</td>\n",
       "      <td>0.756177</td>\n",
       "      <td>0.837180</td>\n",
       "      <td>0.774359</td>\n",
       "      <td>0.480523</td>\n",
       "    </tr>\n",
       "  </tbody>\n",
       "</table>\n",
       "</div>"
      ],
      "text/plain": [
       "                 model_DTC  model_RFC  model_LRG  model_DUM\n",
       "Accuracy          0.842771   0.854865   0.815833   0.659703\n",
       "recall_score      0.450135   0.463612   0.245283   0.177898\n",
       "precision_score   0.670683   0.725738   0.623288   0.173684\n",
       "f1_score          0.538710   0.565789   0.352031   0.175766\n",
       "roc_auc_score     0.756177   0.837180   0.774359   0.480523"
      ]
     },
     "execution_count": 21,
     "metadata": {},
     "output_type": "execute_result"
    }
   ],
   "source": [
    "report = pd.DataFrame(index=['Accuracy', \n",
    "                             'recall_score', \n",
    "                             'precision_score', \n",
    "                             'f1_score',\n",
    "                             'roc_auc_score']\n",
    "                     )\n",
    "def report_metrics(name, model):\n",
    "    predict = model.predict(features_test)\n",
    "    probabilities_one_test = model.predict_proba(features_test)[:, 1]\n",
    "    fpr, tpr, thresholds = roc_curve(target_test, probabilities_one_test)\n",
    "    roc_auc = roc_auc_score(target_test, probabilities_one_test)\n",
    "\n",
    "    report[name] = (model.score(features_test, target_test),\n",
    "                    recall_score(target_test, predict),\n",
    "                    precision_score(target_test, predict),\n",
    "                    f1_score(target_test, predict),\n",
    "                    roc_auc\n",
    "                   )    \n",
    "\n",
    "    print('\\n\\n', name, 'roc_auc_score=', roc_auc)\n",
    "\n",
    "    fig, ax = plt.subplots()\n",
    "    ax.plot(fpr, tpr); ax.grid(True)    \n",
    "    plt.plot([0, 1], [0, 1], linestyle='--')\n",
    "    plt.xlim([0.0, 1.0]); plt.ylim([0.0, 1.0])\n",
    "    plt.xlabel('False Positive Rate')\n",
    "    plt.ylabel('True Positive Rate')\n",
    "    plt.title('ROC-кривая')\n",
    "    plt.show() \n",
    "        \n",
    "report_metrics('model_DTC', model_DTC)\n",
    "report_metrics('model_RFC', model_RFC)\n",
    "report_metrics('model_LRG', model_LRG)\n",
    "report_metrics('model_DUM', model_DUM)\n",
    "report_original_data = report\n",
    "report"
   ]
  },
  {
   "cell_type": "markdown",
   "metadata": {},
   "source": [
    "### Вывод:"
   ]
  },
  {
   "cell_type": "markdown",
   "metadata": {},
   "source": [
    "Все модели с параметрами по умолчанию показали результат лучше, чем случайная модель, но целевое значение f1_score не достигнуто."
   ]
  },
  {
   "cell_type": "markdown",
   "metadata": {},
   "source": [
    "## Борьба с дисбалансом"
   ]
  },
  {
   "cell_type": "code",
   "execution_count": 22,
   "metadata": {
    "scrolled": true
   },
   "outputs": [
    {
     "data": {
      "text/plain": [
       "0    0.796062\n",
       "1    0.203938\n",
       "Name: Exited, dtype: float64"
      ]
     },
     "execution_count": 22,
     "metadata": {},
     "output_type": "execute_result"
    }
   ],
   "source": [
    "data.Exited.value_counts(normalize=True)"
   ]
  },
  {
   "cell_type": "markdown",
   "metadata": {},
   "source": [
    "Целевой класс не сбалансирован. Попробуем применить три различных подхода для борьбы с дисбалансом:"
   ]
  },
  {
   "cell_type": "markdown",
   "metadata": {},
   "source": [
    "### Взвешивание классов:"
   ]
  },
  {
   "cell_type": "code",
   "execution_count": 23,
   "metadata": {},
   "outputs": [
    {
     "data": {
      "text/plain": [
       "DecisionTreeClassifier(class_weight='balanced', criterion='gini', max_depth=10,\n",
       "                       max_features=None, max_leaf_nodes=None,\n",
       "                       min_impurity_decrease=0.0, min_impurity_split=None,\n",
       "                       min_samples_leaf=1, min_samples_split=2,\n",
       "                       min_weight_fraction_leaf=0.0, presort=False,\n",
       "                       random_state=12345, splitter='best')"
      ]
     },
     "execution_count": 23,
     "metadata": {},
     "output_type": "execute_result"
    }
   ],
   "source": [
    "model_DTC = DecisionTreeClassifier(random_state=RND_ST, max_depth=10, \n",
    "                                   class_weight='balanced')\n",
    "model_DTC.fit(features_train, target_train)"
   ]
  },
  {
   "cell_type": "code",
   "execution_count": 24,
   "metadata": {},
   "outputs": [
    {
     "data": {
      "text/plain": [
       "RandomForestClassifier(bootstrap=True, class_weight='balanced',\n",
       "                       criterion='gini', max_depth=None, max_features='auto',\n",
       "                       max_leaf_nodes=None, min_impurity_decrease=0.0,\n",
       "                       min_impurity_split=None, min_samples_leaf=1,\n",
       "                       min_samples_split=2, min_weight_fraction_leaf=0.0,\n",
       "                       n_estimators=100, n_jobs=None, oob_score=False,\n",
       "                       random_state=12345, verbose=0, warm_start=False)"
      ]
     },
     "execution_count": 24,
     "metadata": {},
     "output_type": "execute_result"
    }
   ],
   "source": [
    "model_RFC = RandomForestClassifier(random_state=RND_ST, n_estimators=100, \n",
    "                                   class_weight='balanced')\n",
    "model_RFC.fit(features_train, target_train)"
   ]
  },
  {
   "cell_type": "code",
   "execution_count": 25,
   "metadata": {},
   "outputs": [
    {
     "data": {
      "text/plain": [
       "LogisticRegression(C=1.0, class_weight='balanced', dual=False,\n",
       "                   fit_intercept=True, intercept_scaling=1, l1_ratio=None,\n",
       "                   max_iter=100, multi_class='warn', n_jobs=None, penalty='l2',\n",
       "                   random_state=12345, solver='liblinear', tol=0.0001,\n",
       "                   verbose=0, warm_start=False)"
      ]
     },
     "execution_count": 25,
     "metadata": {},
     "output_type": "execute_result"
    }
   ],
   "source": [
    "model_LRG = LogisticRegression(random_state=RND_ST, solver ='liblinear', \n",
    "                               class_weight='balanced')\n",
    "model_LRG.fit(features_train, target_train)"
   ]
  },
  {
   "cell_type": "code",
   "execution_count": 26,
   "metadata": {},
   "outputs": [
    {
     "data": {
      "text/plain": [
       "DummyClassifier(constant=None, random_state=12345, strategy='stratified')"
      ]
     },
     "execution_count": 26,
     "metadata": {},
     "output_type": "execute_result"
    }
   ],
   "source": [
    "model_DUM = DummyClassifier(random_state=RND_ST)\n",
    "model_DUM.fit(features_train, target_train)"
   ]
  },
  {
   "cell_type": "code",
   "execution_count": 27,
   "metadata": {},
   "outputs": [
    {
     "name": "stdout",
     "output_type": "stream",
     "text": [
      "\n",
      "\n",
      " model_DTC roc_auc_score= 0.7475959032627957\n"
     ]
    },
    {
     "data": {
      "image/png": "[encoded data removed]",
      "text/plain": [
       "<Figure size 432x288 with 1 Axes>"
      ]
     },
     "metadata": {
      "needs_background": "light"
     },
     "output_type": "display_data"
    },
    {
     "name": "stdout",
     "output_type": "stream",
     "text": [
      "\n",
      "\n",
      " model_RFC roc_auc_score= 0.8419076037586931\n"
     ]
    },
    {
     "data": {
      "image/png": "[encoded data removed]",
      "text/plain": [
       "<Figure size 432x288 with 1 Axes>"
      ]
     },
     "metadata": {
      "needs_background": "light"
     },
     "output_type": "display_data"
    },
    {
     "name": "stdout",
     "output_type": "stream",
     "text": [
      "\n",
      "\n",
      " model_LRG roc_auc_score= 0.778158553111644\n"
     ]
    },
    {
     "data": {
      "image/png": "[encoded data removed]",
      "text/plain": [
       "<Figure size 432x288 with 1 Axes>"
      ]
     },
     "metadata": {
      "needs_background": "light"
     },
     "output_type": "display_data"
    },
    {
     "name": "stdout",
     "output_type": "stream",
     "text": [
      "\n",
      "\n",
      " model_DUM roc_auc_score= 0.48052337269735373\n"
     ]
    },
    {
     "data": {
      "image/png": "[encoded data removed]",
      "text/plain": [
       "<Figure size 432x288 with 1 Axes>"
      ]
     },
     "metadata": {
      "needs_background": "light"
     },
     "output_type": "display_data"
    },
    {
     "data": {
      "text/html": [
       "<div>\n",
       "<style scoped>\n",
       "    .dataframe tbody tr th:only-of-type {\n",
       "        vertical-align: middle;\n",
       "    }\n",
       "\n",
       "    .dataframe tbody tr th {\n",
       "        vertical-align: top;\n",
       "    }\n",
       "\n",
       "    .dataframe thead th {\n",
       "        text-align: right;\n",
       "    }\n",
       "</style>\n",
       "<table border=\"1\" class=\"dataframe\">\n",
       "  <thead>\n",
       "    <tr style=\"text-align: right;\">\n",
       "      <th></th>\n",
       "      <th>model_DTC</th>\n",
       "      <th>model_RFC</th>\n",
       "      <th>model_LRG</th>\n",
       "      <th>model_DUM</th>\n",
       "    </tr>\n",
       "  </thead>\n",
       "  <tbody>\n",
       "    <tr>\n",
       "      <td>Accuracy</td>\n",
       "      <td>0.772402</td>\n",
       "      <td>0.857614</td>\n",
       "      <td>0.720726</td>\n",
       "      <td>0.659703</td>\n",
       "    </tr>\n",
       "    <tr>\n",
       "      <td>recall_score</td>\n",
       "      <td>0.654987</td>\n",
       "      <td>0.439353</td>\n",
       "      <td>0.708895</td>\n",
       "      <td>0.177898</td>\n",
       "    </tr>\n",
       "    <tr>\n",
       "      <td>precision_score</td>\n",
       "      <td>0.459357</td>\n",
       "      <td>0.761682</td>\n",
       "      <td>0.396682</td>\n",
       "      <td>0.173684</td>\n",
       "    </tr>\n",
       "    <tr>\n",
       "      <td>f1_score</td>\n",
       "      <td>0.540000</td>\n",
       "      <td>0.557265</td>\n",
       "      <td>0.508704</td>\n",
       "      <td>0.175766</td>\n",
       "    </tr>\n",
       "    <tr>\n",
       "      <td>roc_auc_score</td>\n",
       "      <td>0.747596</td>\n",
       "      <td>0.841908</td>\n",
       "      <td>0.778159</td>\n",
       "      <td>0.480523</td>\n",
       "    </tr>\n",
       "  </tbody>\n",
       "</table>\n",
       "</div>"
      ],
      "text/plain": [
       "                 model_DTC  model_RFC  model_LRG  model_DUM\n",
       "Accuracy          0.772402   0.857614   0.720726   0.659703\n",
       "recall_score      0.654987   0.439353   0.708895   0.177898\n",
       "precision_score   0.459357   0.761682   0.396682   0.173684\n",
       "f1_score          0.540000   0.557265   0.508704   0.175766\n",
       "roc_auc_score     0.747596   0.841908   0.778159   0.480523"
      ]
     },
     "execution_count": 27,
     "metadata": {},
     "output_type": "execute_result"
    }
   ],
   "source": [
    "report = pd.DataFrame(index=['Accuracy', \n",
    "                             'recall_score', \n",
    "                             'precision_score', \n",
    "                             'f1_score',\n",
    "                             'roc_auc_score']\n",
    "                     )\n",
    "def report_metrics(name, model):\n",
    "    predict = model.predict(features_test)\n",
    "    probabilities_one_test = model.predict_proba(features_test)[:, 1]\n",
    "    fpr, tpr, thresholds = roc_curve(target_test, probabilities_one_test)\n",
    "    roc_auc = roc_auc_score(target_test, probabilities_one_test)\n",
    "\n",
    "    report[name] = (model.score(features_test, target_test),\n",
    "                    recall_score(target_test, predict),\n",
    "                    precision_score(target_test, predict),\n",
    "                    f1_score(target_test, predict),\n",
    "                    roc_auc\n",
    "                   )    \n",
    "\n",
    "    print('\\n\\n', name, 'roc_auc_score=', roc_auc)\n",
    "\n",
    "    fig, ax = plt.subplots()\n",
    "    ax.plot(fpr, tpr); ax.grid(True)    \n",
    "    plt.plot([0, 1], [0, 1], linestyle='--')\n",
    "    plt.xlim([0.0, 1.0]); plt.ylim([0.0, 1.0])\n",
    "    plt.xlabel('False Positive Rate')\n",
    "    plt.ylabel('True Positive Rate')\n",
    "    plt.title('ROC-кривая')\n",
    "    plt.show() \n",
    "        \n",
    "report_metrics('model_DTC', model_DTC)\n",
    "report_metrics('model_RFC', model_RFC)\n",
    "report_metrics('model_LRG', model_LRG)\n",
    "report_metrics('model_DUM', model_DUM)\n",
    "report_weighted_data = report\n",
    "report"
   ]
  },
  {
   "cell_type": "markdown",
   "metadata": {},
   "source": [
    "### Подготовка данных для увеличения и уменьшения тренировочной выборки:"
   ]
  },
  {
   "cell_type": "code",
   "execution_count": 28,
   "metadata": {},
   "outputs": [
    {
     "name": "stdout",
     "output_type": "stream",
     "text": [
      "Увеличенная тренировочная выборка:\t (8790, 11) (8790,) 0.506\n"
     ]
    }
   ],
   "source": [
    "def upsample(features, target, repeat):\n",
    "    features_zeros = features[target == 0]\n",
    "    features_ones = features[target == 1]\n",
    "    target_zeros = target[target == 0]\n",
    "    target_ones = target[target == 1]\n",
    "\n",
    "    features_upsampled = pd.concat([features_zeros] + [features_ones] * repeat)\n",
    "    target_upsampled = pd.concat([target_zeros] + [target_ones] * repeat)\n",
    "    \n",
    "    features_upsampled, target_upsampled = shuffle(\n",
    "        features_upsampled, target_upsampled, random_state=RND_ST)\n",
    "    \n",
    "    return features_upsampled, target_upsampled\n",
    "\n",
    "features_upsampled, target_upsampled = upsample(features_train, target_train, 4)\n",
    "\n",
    "print('Увеличенная тренировочная выборка:\\t', \n",
    "      features_upsampled.shape, \n",
    "      target_upsampled.shape, \n",
    "      target_upsampled.mean().round(3))"
   ]
  },
  {
   "cell_type": "code",
   "execution_count": 29,
   "metadata": {},
   "outputs": [
    {
     "name": "stdout",
     "output_type": "stream",
     "text": [
      "Уменьшенная тренировочная выборка:\t (2198, 11) (2198,) 0.506\n"
     ]
    }
   ],
   "source": [
    "def downsample(features, target, fraction):\n",
    "    features_zeros = features[target == 0]\n",
    "    features_ones = features[target == 1]\n",
    "    target_zeros = target[target == 0]\n",
    "    target_ones = target[target == 1]\n",
    "\n",
    "    features_downsampled = pd.concat(\n",
    "        [features_zeros.sample(frac=fraction, random_state=RND_ST)] + [features_ones])\n",
    "    target_downsampled = pd.concat(\n",
    "        [target_zeros.sample(frac=fraction, random_state=RND_ST)] + [target_ones])\n",
    "    \n",
    "    features_downsampled, target_downsampled = shuffle(\n",
    "        features_downsampled, target_downsampled, random_state=RND_ST)\n",
    "    \n",
    "    return features_downsampled, target_downsampled\n",
    "\n",
    "features_downsampled, target_downsampled = downsample(features_train, target_train, 0.25)\n",
    "\n",
    "print('Уменьшенная тренировочная выборка:\\t',\n",
    "      features_downsampled.shape, \n",
    "      target_downsampled.shape, \n",
    "      target_downsampled.mean().round(3))"
   ]
  },
  {
   "cell_type": "markdown",
   "metadata": {},
   "source": [
    "### Увеличение выборки (upsampling):"
   ]
  },
  {
   "cell_type": "code",
   "execution_count": 30,
   "metadata": {},
   "outputs": [
    {
     "data": {
      "text/plain": [
       "DecisionTreeClassifier(class_weight=None, criterion='gini', max_depth=10,\n",
       "                       max_features=None, max_leaf_nodes=None,\n",
       "                       min_impurity_decrease=0.0, min_impurity_split=None,\n",
       "                       min_samples_leaf=1, min_samples_split=2,\n",
       "                       min_weight_fraction_leaf=0.0, presort=False,\n",
       "                       random_state=12345, splitter='best')"
      ]
     },
     "execution_count": 30,
     "metadata": {},
     "output_type": "execute_result"
    }
   ],
   "source": [
    "model_DTC = DecisionTreeClassifier(random_state=RND_ST, max_depth=10)\n",
    "model_DTC.fit(features_upsampled, target_upsampled)"
   ]
  },
  {
   "cell_type": "code",
   "execution_count": 31,
   "metadata": {},
   "outputs": [
    {
     "data": {
      "text/plain": [
       "RandomForestClassifier(bootstrap=True, class_weight=None, criterion='gini',\n",
       "                       max_depth=None, max_features='auto', max_leaf_nodes=None,\n",
       "                       min_impurity_decrease=0.0, min_impurity_split=None,\n",
       "                       min_samples_leaf=1, min_samples_split=2,\n",
       "                       min_weight_fraction_leaf=0.0, n_estimators=100,\n",
       "                       n_jobs=None, oob_score=False, random_state=12345,\n",
       "                       verbose=0, warm_start=False)"
      ]
     },
     "execution_count": 31,
     "metadata": {},
     "output_type": "execute_result"
    }
   ],
   "source": [
    "model_RFC = RandomForestClassifier(random_state=RND_ST, n_estimators=100)\n",
    "model_RFC.fit(features_upsampled, target_upsampled)"
   ]
  },
  {
   "cell_type": "code",
   "execution_count": 32,
   "metadata": {},
   "outputs": [
    {
     "data": {
      "text/plain": [
       "LogisticRegression(C=1.0, class_weight=None, dual=False, fit_intercept=True,\n",
       "                   intercept_scaling=1, l1_ratio=None, max_iter=100,\n",
       "                   multi_class='warn', n_jobs=None, penalty='l2',\n",
       "                   random_state=12345, solver='liblinear', tol=0.0001,\n",
       "                   verbose=0, warm_start=False)"
      ]
     },
     "execution_count": 32,
     "metadata": {},
     "output_type": "execute_result"
    }
   ],
   "source": [
    "model_LRG = LogisticRegression(random_state=RND_ST, solver ='liblinear')\n",
    "model_LRG.fit(features_upsampled, target_upsampled)"
   ]
  },
  {
   "cell_type": "code",
   "execution_count": 33,
   "metadata": {},
   "outputs": [
    {
     "data": {
      "text/plain": [
       "DummyClassifier(constant=None, random_state=12345, strategy='stratified')"
      ]
     },
     "execution_count": 33,
     "metadata": {},
     "output_type": "execute_result"
    }
   ],
   "source": [
    "model_DUM = DummyClassifier(random_state=RND_ST)\n",
    "model_DUM.fit(features_upsampled, target_upsampled)"
   ]
  },
  {
   "cell_type": "code",
   "execution_count": 34,
   "metadata": {},
   "outputs": [
    {
     "name": "stdout",
     "output_type": "stream",
     "text": [
      "\n",
      "\n",
      " model_DTC roc_auc_score= 0.7491893270390612\n"
     ]
    },
    {
     "data": {
      "image/png": "[encoded data removed]",
      "text/plain": [
       "<Figure size 432x288 with 1 Axes>"
      ]
     },
     "metadata": {
      "needs_background": "light"
     },
     "output_type": "display_data"
    },
    {
     "name": "stdout",
     "output_type": "stream",
     "text": [
      "\n",
      "\n",
      " model_RFC roc_auc_score= 0.8392773376420306\n"
     ]
    },
    {
     "data": {
      "image/png": "[encoded data removed]",
      "text/plain": [
       "<Figure size 432x288 with 1 Axes>"
      ]
     },
     "metadata": {
      "needs_background": "light"
     },
     "output_type": "display_data"
    },
    {
     "name": "stdout",
     "output_type": "stream",
     "text": [
      "\n",
      "\n",
      " model_LRG roc_auc_score= 0.7781846137808819\n"
     ]
    },
    {
     "data": {
      "image/png": "[encoded data removed]",
      "text/plain": [
       "<Figure size 432x288 with 1 Axes>"
      ]
     },
     "metadata": {
      "needs_background": "light"
     },
     "output_type": "display_data"
    },
    {
     "name": "stdout",
     "output_type": "stream",
     "text": [
      "\n",
      "\n",
      " model_DUM roc_auc_score= 0.5205106774284821\n"
     ]
    },
    {
     "data": {
      "image/png": "[encoded data removed]",
      "text/plain": [
       "<Figure size 432x288 with 1 Axes>"
      ]
     },
     "metadata": {
      "needs_background": "light"
     },
     "output_type": "display_data"
    },
    {
     "data": {
      "text/html": [
       "<div>\n",
       "<style scoped>\n",
       "    .dataframe tbody tr th:only-of-type {\n",
       "        vertical-align: middle;\n",
       "    }\n",
       "\n",
       "    .dataframe tbody tr th {\n",
       "        vertical-align: top;\n",
       "    }\n",
       "\n",
       "    .dataframe thead th {\n",
       "        text-align: right;\n",
       "    }\n",
       "</style>\n",
       "<table border=\"1\" class=\"dataframe\">\n",
       "  <thead>\n",
       "    <tr style=\"text-align: right;\">\n",
       "      <th></th>\n",
       "      <th>model_DTC</th>\n",
       "      <th>model_RFC</th>\n",
       "      <th>model_LRG</th>\n",
       "      <th>model_DUM</th>\n",
       "    </tr>\n",
       "  </thead>\n",
       "  <tbody>\n",
       "    <tr>\n",
       "      <td>Accuracy</td>\n",
       "      <td>0.774052</td>\n",
       "      <td>0.850467</td>\n",
       "      <td>0.713579</td>\n",
       "      <td>0.506322</td>\n",
       "    </tr>\n",
       "    <tr>\n",
       "      <td>recall_score</td>\n",
       "      <td>0.657682</td>\n",
       "      <td>0.530997</td>\n",
       "      <td>0.714286</td>\n",
       "      <td>0.544474</td>\n",
       "    </tr>\n",
       "    <tr>\n",
       "      <td>precision_score</td>\n",
       "      <td>0.462121</td>\n",
       "      <td>0.667797</td>\n",
       "      <td>0.389706</td>\n",
       "      <td>0.216971</td>\n",
       "    </tr>\n",
       "    <tr>\n",
       "      <td>f1_score</td>\n",
       "      <td>0.542825</td>\n",
       "      <td>0.591592</td>\n",
       "      <td>0.504282</td>\n",
       "      <td>0.310292</td>\n",
       "    </tr>\n",
       "    <tr>\n",
       "      <td>roc_auc_score</td>\n",
       "      <td>0.749189</td>\n",
       "      <td>0.839277</td>\n",
       "      <td>0.778185</td>\n",
       "      <td>0.520511</td>\n",
       "    </tr>\n",
       "  </tbody>\n",
       "</table>\n",
       "</div>"
      ],
      "text/plain": [
       "                 model_DTC  model_RFC  model_LRG  model_DUM\n",
       "Accuracy          0.774052   0.850467   0.713579   0.506322\n",
       "recall_score      0.657682   0.530997   0.714286   0.544474\n",
       "precision_score   0.462121   0.667797   0.389706   0.216971\n",
       "f1_score          0.542825   0.591592   0.504282   0.310292\n",
       "roc_auc_score     0.749189   0.839277   0.778185   0.520511"
      ]
     },
     "execution_count": 34,
     "metadata": {},
     "output_type": "execute_result"
    }
   ],
   "source": [
    "report = pd.DataFrame(index=['Accuracy', \n",
    "                             'recall_score', \n",
    "                             'precision_score', \n",
    "                             'f1_score',\n",
    "                             'roc_auc_score']\n",
    "                     )\n",
    "def report_metrics(name, model):\n",
    "    predict = model.predict(features_test)\n",
    "    probabilities_one_test = model.predict_proba(features_test)[:, 1]\n",
    "    fpr, tpr, thresholds = roc_curve(target_test, probabilities_one_test)\n",
    "    roc_auc = roc_auc_score(target_test, probabilities_one_test)\n",
    "\n",
    "    report[name] = (model.score(features_test, target_test),\n",
    "                    recall_score(target_test, predict),\n",
    "                    precision_score(target_test, predict),\n",
    "                    f1_score(target_test, predict),\n",
    "                    roc_auc\n",
    "                   )    \n",
    "\n",
    "    print('\\n\\n', name, 'roc_auc_score=', roc_auc)\n",
    "\n",
    "    fig, ax = plt.subplots()\n",
    "    ax.plot(fpr, tpr); ax.grid(True)    \n",
    "    plt.plot([0, 1], [0, 1], linestyle='--')\n",
    "    plt.xlim([0.0, 1.0]); plt.ylim([0.0, 1.0])\n",
    "    plt.xlabel('False Positive Rate')\n",
    "    plt.ylabel('True Positive Rate')\n",
    "    plt.title('ROC-кривая')\n",
    "    plt.show() \n",
    "        \n",
    "report_metrics('model_DTC', model_DTC)\n",
    "report_metrics('model_RFC', model_RFC)\n",
    "report_metrics('model_LRG', model_LRG)\n",
    "report_metrics('model_DUM', model_DUM)\n",
    "report_upsampled_data = report\n",
    "report"
   ]
  },
  {
   "cell_type": "markdown",
   "metadata": {},
   "source": [
    "### Уменьшение выборки (downsampling):"
   ]
  },
  {
   "cell_type": "code",
   "execution_count": 35,
   "metadata": {},
   "outputs": [
    {
     "data": {
      "text/plain": [
       "DecisionTreeClassifier(class_weight=None, criterion='gini', max_depth=10,\n",
       "                       max_features=None, max_leaf_nodes=None,\n",
       "                       min_impurity_decrease=0.0, min_impurity_split=None,\n",
       "                       min_samples_leaf=1, min_samples_split=2,\n",
       "                       min_weight_fraction_leaf=0.0, presort=False,\n",
       "                       random_state=12345, splitter='best')"
      ]
     },
     "execution_count": 35,
     "metadata": {},
     "output_type": "execute_result"
    }
   ],
   "source": [
    "model_DTC = DecisionTreeClassifier(random_state=RND_ST, max_depth=10)\n",
    "model_DTC.fit(features_downsampled, target_downsampled)"
   ]
  },
  {
   "cell_type": "code",
   "execution_count": 36,
   "metadata": {},
   "outputs": [
    {
     "data": {
      "text/plain": [
       "RandomForestClassifier(bootstrap=True, class_weight=None, criterion='gini',\n",
       "                       max_depth=None, max_features='auto', max_leaf_nodes=None,\n",
       "                       min_impurity_decrease=0.0, min_impurity_split=None,\n",
       "                       min_samples_leaf=1, min_samples_split=2,\n",
       "                       min_weight_fraction_leaf=0.0, n_estimators=100,\n",
       "                       n_jobs=None, oob_score=False, random_state=12345,\n",
       "                       verbose=0, warm_start=False)"
      ]
     },
     "execution_count": 36,
     "metadata": {},
     "output_type": "execute_result"
    }
   ],
   "source": [
    "model_RFC = RandomForestClassifier(random_state=RND_ST, n_estimators=100)\n",
    "model_RFC.fit(features_downsampled, target_downsampled)"
   ]
  },
  {
   "cell_type": "code",
   "execution_count": 37,
   "metadata": {},
   "outputs": [
    {
     "data": {
      "text/plain": [
       "LogisticRegression(C=1.0, class_weight=None, dual=False, fit_intercept=True,\n",
       "                   intercept_scaling=1, l1_ratio=None, max_iter=100,\n",
       "                   multi_class='warn', n_jobs=None, penalty='l2',\n",
       "                   random_state=12345, solver='liblinear', tol=0.0001,\n",
       "                   verbose=0, warm_start=False)"
      ]
     },
     "execution_count": 37,
     "metadata": {},
     "output_type": "execute_result"
    }
   ],
   "source": [
    "model_LRG = LogisticRegression(random_state=RND_ST, solver ='liblinear')\n",
    "model_LRG.fit(features_downsampled, target_downsampled)"
   ]
  },
  {
   "cell_type": "code",
   "execution_count": 38,
   "metadata": {},
   "outputs": [
    {
     "data": {
      "text/plain": [
       "DummyClassifier(constant=None, random_state=12345, strategy='stratified')"
      ]
     },
     "execution_count": 38,
     "metadata": {},
     "output_type": "execute_result"
    }
   ],
   "source": [
    "model_DUM = DummyClassifier(random_state=RND_ST)\n",
    "model_DUM.fit(features_downsampled, target_downsampled)"
   ]
  },
  {
   "cell_type": "code",
   "execution_count": 39,
   "metadata": {},
   "outputs": [
    {
     "name": "stdout",
     "output_type": "stream",
     "text": [
      "\n",
      "\n",
      " model_DTC roc_auc_score= 0.7319027266905929\n"
     ]
    },
    {
     "data": {
      "image/png": "[encoded data removed]",
      "text/plain": [
       "<Figure size 432x288 with 1 Axes>"
      ]
     },
     "metadata": {
      "needs_background": "light"
     },
     "output_type": "display_data"
    },
    {
     "name": "stdout",
     "output_type": "stream",
     "text": [
      "\n",
      "\n",
      " model_RFC roc_auc_score= 0.8418480365147206\n"
     ]
    },
    {
     "data": {
      "image/png": "[encoded data removed]",
      "text/plain": [
       "<Figure size 432x288 with 1 Axes>"
      ]
     },
     "metadata": {
      "needs_background": "light"
     },
     "output_type": "display_data"
    },
    {
     "name": "stdout",
     "output_type": "stream",
     "text": [
      "\n",
      "\n",
      " model_LRG roc_auc_score= 0.7794988161010261\n"
     ]
    },
    {
     "data": {
      "image/png": "[encoded data removed]",
      "text/plain": [
       "<Figure size 432x288 with 1 Axes>"
      ]
     },
     "metadata": {
      "needs_background": "light"
     },
     "output_type": "display_data"
    },
    {
     "name": "stdout",
     "output_type": "stream",
     "text": [
      "\n",
      "\n",
      " model_DUM roc_auc_score= 0.5205106774284821\n"
     ]
    },
    {
     "data": {
      "image/png": "[encoded data removed]",
      "text/plain": [
       "<Figure size 432x288 with 1 Axes>"
      ]
     },
     "metadata": {
      "needs_background": "light"
     },
     "output_type": "display_data"
    },
    {
     "data": {
      "text/html": [
       "<div>\n",
       "<style scoped>\n",
       "    .dataframe tbody tr th:only-of-type {\n",
       "        vertical-align: middle;\n",
       "    }\n",
       "\n",
       "    .dataframe tbody tr th {\n",
       "        vertical-align: top;\n",
       "    }\n",
       "\n",
       "    .dataframe thead th {\n",
       "        text-align: right;\n",
       "    }\n",
       "</style>\n",
       "<table border=\"1\" class=\"dataframe\">\n",
       "  <thead>\n",
       "    <tr style=\"text-align: right;\">\n",
       "      <th></th>\n",
       "      <th>model_DTC</th>\n",
       "      <th>model_RFC</th>\n",
       "      <th>model_LRG</th>\n",
       "      <th>model_DUM</th>\n",
       "    </tr>\n",
       "  </thead>\n",
       "  <tbody>\n",
       "    <tr>\n",
       "      <td>Accuracy</td>\n",
       "      <td>0.734469</td>\n",
       "      <td>0.773502</td>\n",
       "      <td>0.714129</td>\n",
       "      <td>0.506322</td>\n",
       "    </tr>\n",
       "    <tr>\n",
       "      <td>recall_score</td>\n",
       "      <td>0.692722</td>\n",
       "      <td>0.706199</td>\n",
       "      <td>0.727763</td>\n",
       "      <td>0.544474</td>\n",
       "    </tr>\n",
       "    <tr>\n",
       "      <td>precision_score</td>\n",
       "      <td>0.410543</td>\n",
       "      <td>0.463717</td>\n",
       "      <td>0.391872</td>\n",
       "      <td>0.216971</td>\n",
       "    </tr>\n",
       "    <tr>\n",
       "      <td>f1_score</td>\n",
       "      <td>0.515547</td>\n",
       "      <td>0.559829</td>\n",
       "      <td>0.509434</td>\n",
       "      <td>0.310292</td>\n",
       "    </tr>\n",
       "    <tr>\n",
       "      <td>roc_auc_score</td>\n",
       "      <td>0.731903</td>\n",
       "      <td>0.841848</td>\n",
       "      <td>0.779499</td>\n",
       "      <td>0.520511</td>\n",
       "    </tr>\n",
       "  </tbody>\n",
       "</table>\n",
       "</div>"
      ],
      "text/plain": [
       "                 model_DTC  model_RFC  model_LRG  model_DUM\n",
       "Accuracy          0.734469   0.773502   0.714129   0.506322\n",
       "recall_score      0.692722   0.706199   0.727763   0.544474\n",
       "precision_score   0.410543   0.463717   0.391872   0.216971\n",
       "f1_score          0.515547   0.559829   0.509434   0.310292\n",
       "roc_auc_score     0.731903   0.841848   0.779499   0.520511"
      ]
     },
     "execution_count": 39,
     "metadata": {},
     "output_type": "execute_result"
    }
   ],
   "source": [
    "report = pd.DataFrame(index=['Accuracy', \n",
    "                             'recall_score', \n",
    "                             'precision_score', \n",
    "                             'f1_score',\n",
    "                             'roc_auc_score']\n",
    "                     )\n",
    "def report_metrics(name, model):\n",
    "    predict = model.predict(features_test)\n",
    "    probabilities_one_test = model.predict_proba(features_test)[:, 1]\n",
    "    fpr, tpr, thresholds = roc_curve(target_test, probabilities_one_test)\n",
    "    roc_auc = roc_auc_score(target_test, probabilities_one_test)\n",
    "\n",
    "    report[name] = (model.score(features_test, target_test),\n",
    "                    recall_score(target_test, predict),\n",
    "                    precision_score(target_test, predict),\n",
    "                    f1_score(target_test, predict),\n",
    "                    roc_auc\n",
    "                   )    \n",
    "\n",
    "    print('\\n\\n', name, 'roc_auc_score=', roc_auc)\n",
    "\n",
    "    fig, ax = plt.subplots()\n",
    "    ax.plot(fpr, tpr); ax.grid(True)    \n",
    "    plt.plot([0, 1], [0, 1], linestyle='--')\n",
    "    plt.xlim([0.0, 1.0]); plt.ylim([0.0, 1.0])\n",
    "    plt.xlabel('False Positive Rate')\n",
    "    plt.ylabel('True Positive Rate')\n",
    "    plt.title('ROC-кривая')\n",
    "    plt.show() \n",
    "        \n",
    "report_metrics('model_DTC', model_DTC)\n",
    "report_metrics('model_RFC', model_RFC)\n",
    "report_metrics('model_LRG', model_LRG)\n",
    "report_metrics('model_DUM', model_DUM)\n",
    "report_downsampled_data = report\n",
    "report"
   ]
  },
  {
   "cell_type": "markdown",
   "metadata": {},
   "source": [
    "### Вывод:"
   ]
  },
  {
   "cell_type": "code",
   "execution_count": 40,
   "metadata": {},
   "outputs": [
    {
     "data": {
      "text/html": [
       "<div>\n",
       "<style scoped>\n",
       "    .dataframe tbody tr th:only-of-type {\n",
       "        vertical-align: middle;\n",
       "    }\n",
       "\n",
       "    .dataframe tbody tr th {\n",
       "        vertical-align: top;\n",
       "    }\n",
       "\n",
       "    .dataframe thead th {\n",
       "        text-align: right;\n",
       "    }\n",
       "</style>\n",
       "<table border=\"1\" class=\"dataframe\">\n",
       "  <thead>\n",
       "    <tr style=\"text-align: right;\">\n",
       "      <th></th>\n",
       "      <th>model_DTC</th>\n",
       "      <th>model_RFC</th>\n",
       "      <th>model_LRG</th>\n",
       "      <th>model_DUM</th>\n",
       "    </tr>\n",
       "  </thead>\n",
       "  <tbody>\n",
       "    <tr>\n",
       "      <td>Accuracy</td>\n",
       "      <td>0.842771</td>\n",
       "      <td>0.854865</td>\n",
       "      <td>0.815833</td>\n",
       "      <td>0.659703</td>\n",
       "    </tr>\n",
       "    <tr>\n",
       "      <td>recall_score</td>\n",
       "      <td>0.450135</td>\n",
       "      <td>0.463612</td>\n",
       "      <td>0.245283</td>\n",
       "      <td>0.177898</td>\n",
       "    </tr>\n",
       "    <tr>\n",
       "      <td>precision_score</td>\n",
       "      <td>0.670683</td>\n",
       "      <td>0.725738</td>\n",
       "      <td>0.623288</td>\n",
       "      <td>0.173684</td>\n",
       "    </tr>\n",
       "    <tr>\n",
       "      <td>f1_score</td>\n",
       "      <td>0.538710</td>\n",
       "      <td>0.565789</td>\n",
       "      <td>0.352031</td>\n",
       "      <td>0.175766</td>\n",
       "    </tr>\n",
       "    <tr>\n",
       "      <td>roc_auc_score</td>\n",
       "      <td>0.756177</td>\n",
       "      <td>0.837180</td>\n",
       "      <td>0.774359</td>\n",
       "      <td>0.480523</td>\n",
       "    </tr>\n",
       "  </tbody>\n",
       "</table>\n",
       "</div>"
      ],
      "text/plain": [
       "                 model_DTC  model_RFC  model_LRG  model_DUM\n",
       "Accuracy          0.842771   0.854865   0.815833   0.659703\n",
       "recall_score      0.450135   0.463612   0.245283   0.177898\n",
       "precision_score   0.670683   0.725738   0.623288   0.173684\n",
       "f1_score          0.538710   0.565789   0.352031   0.175766\n",
       "roc_auc_score     0.756177   0.837180   0.774359   0.480523"
      ]
     },
     "execution_count": 40,
     "metadata": {},
     "output_type": "execute_result"
    }
   ],
   "source": [
    "report_original_data # Метрики, полученные на исходных данных "
   ]
  },
  {
   "cell_type": "code",
   "execution_count": 41,
   "metadata": {},
   "outputs": [
    {
     "data": {
      "text/html": [
       "<div>\n",
       "<style scoped>\n",
       "    .dataframe tbody tr th:only-of-type {\n",
       "        vertical-align: middle;\n",
       "    }\n",
       "\n",
       "    .dataframe tbody tr th {\n",
       "        vertical-align: top;\n",
       "    }\n",
       "\n",
       "    .dataframe thead th {\n",
       "        text-align: right;\n",
       "    }\n",
       "</style>\n",
       "<table border=\"1\" class=\"dataframe\">\n",
       "  <thead>\n",
       "    <tr style=\"text-align: right;\">\n",
       "      <th></th>\n",
       "      <th>model_DTC</th>\n",
       "      <th>model_RFC</th>\n",
       "      <th>model_LRG</th>\n",
       "      <th>model_DUM</th>\n",
       "    </tr>\n",
       "  </thead>\n",
       "  <tbody>\n",
       "    <tr>\n",
       "      <td>Accuracy</td>\n",
       "      <td>0.772402</td>\n",
       "      <td>0.857614</td>\n",
       "      <td>0.720726</td>\n",
       "      <td>0.659703</td>\n",
       "    </tr>\n",
       "    <tr>\n",
       "      <td>recall_score</td>\n",
       "      <td>0.654987</td>\n",
       "      <td>0.439353</td>\n",
       "      <td>0.708895</td>\n",
       "      <td>0.177898</td>\n",
       "    </tr>\n",
       "    <tr>\n",
       "      <td>precision_score</td>\n",
       "      <td>0.459357</td>\n",
       "      <td>0.761682</td>\n",
       "      <td>0.396682</td>\n",
       "      <td>0.173684</td>\n",
       "    </tr>\n",
       "    <tr>\n",
       "      <td>f1_score</td>\n",
       "      <td>0.540000</td>\n",
       "      <td>0.557265</td>\n",
       "      <td>0.508704</td>\n",
       "      <td>0.175766</td>\n",
       "    </tr>\n",
       "    <tr>\n",
       "      <td>roc_auc_score</td>\n",
       "      <td>0.747596</td>\n",
       "      <td>0.841908</td>\n",
       "      <td>0.778159</td>\n",
       "      <td>0.480523</td>\n",
       "    </tr>\n",
       "  </tbody>\n",
       "</table>\n",
       "</div>"
      ],
      "text/plain": [
       "                 model_DTC  model_RFC  model_LRG  model_DUM\n",
       "Accuracy          0.772402   0.857614   0.720726   0.659703\n",
       "recall_score      0.654987   0.439353   0.708895   0.177898\n",
       "precision_score   0.459357   0.761682   0.396682   0.173684\n",
       "f1_score          0.540000   0.557265   0.508704   0.175766\n",
       "roc_auc_score     0.747596   0.841908   0.778159   0.480523"
      ]
     },
     "execution_count": 41,
     "metadata": {},
     "output_type": "execute_result"
    }
   ],
   "source": [
    "report_weighted_data # Метрики, полученные на исходных данных с параметром class_weight='balanced'"
   ]
  },
  {
   "cell_type": "code",
   "execution_count": 42,
   "metadata": {},
   "outputs": [
    {
     "data": {
      "text/html": [
       "<div>\n",
       "<style scoped>\n",
       "    .dataframe tbody tr th:only-of-type {\n",
       "        vertical-align: middle;\n",
       "    }\n",
       "\n",
       "    .dataframe tbody tr th {\n",
       "        vertical-align: top;\n",
       "    }\n",
       "\n",
       "    .dataframe thead th {\n",
       "        text-align: right;\n",
       "    }\n",
       "</style>\n",
       "<table border=\"1\" class=\"dataframe\">\n",
       "  <thead>\n",
       "    <tr style=\"text-align: right;\">\n",
       "      <th></th>\n",
       "      <th>model_DTC</th>\n",
       "      <th>model_RFC</th>\n",
       "      <th>model_LRG</th>\n",
       "      <th>model_DUM</th>\n",
       "    </tr>\n",
       "  </thead>\n",
       "  <tbody>\n",
       "    <tr>\n",
       "      <td>Accuracy</td>\n",
       "      <td>0.774052</td>\n",
       "      <td>0.850467</td>\n",
       "      <td>0.713579</td>\n",
       "      <td>0.506322</td>\n",
       "    </tr>\n",
       "    <tr>\n",
       "      <td>recall_score</td>\n",
       "      <td>0.657682</td>\n",
       "      <td>0.530997</td>\n",
       "      <td>0.714286</td>\n",
       "      <td>0.544474</td>\n",
       "    </tr>\n",
       "    <tr>\n",
       "      <td>precision_score</td>\n",
       "      <td>0.462121</td>\n",
       "      <td>0.667797</td>\n",
       "      <td>0.389706</td>\n",
       "      <td>0.216971</td>\n",
       "    </tr>\n",
       "    <tr>\n",
       "      <td>f1_score</td>\n",
       "      <td>0.542825</td>\n",
       "      <td>0.591592</td>\n",
       "      <td>0.504282</td>\n",
       "      <td>0.310292</td>\n",
       "    </tr>\n",
       "    <tr>\n",
       "      <td>roc_auc_score</td>\n",
       "      <td>0.749189</td>\n",
       "      <td>0.839277</td>\n",
       "      <td>0.778185</td>\n",
       "      <td>0.520511</td>\n",
       "    </tr>\n",
       "  </tbody>\n",
       "</table>\n",
       "</div>"
      ],
      "text/plain": [
       "                 model_DTC  model_RFC  model_LRG  model_DUM\n",
       "Accuracy          0.774052   0.850467   0.713579   0.506322\n",
       "recall_score      0.657682   0.530997   0.714286   0.544474\n",
       "precision_score   0.462121   0.667797   0.389706   0.216971\n",
       "f1_score          0.542825   0.591592   0.504282   0.310292\n",
       "roc_auc_score     0.749189   0.839277   0.778185   0.520511"
      ]
     },
     "execution_count": 42,
     "metadata": {},
     "output_type": "execute_result"
    }
   ],
   "source": [
    "report_upsampled_data # Метрики, полученные на увеличенных данных"
   ]
  },
  {
   "cell_type": "code",
   "execution_count": 43,
   "metadata": {},
   "outputs": [
    {
     "data": {
      "text/html": [
       "<div>\n",
       "<style scoped>\n",
       "    .dataframe tbody tr th:only-of-type {\n",
       "        vertical-align: middle;\n",
       "    }\n",
       "\n",
       "    .dataframe tbody tr th {\n",
       "        vertical-align: top;\n",
       "    }\n",
       "\n",
       "    .dataframe thead th {\n",
       "        text-align: right;\n",
       "    }\n",
       "</style>\n",
       "<table border=\"1\" class=\"dataframe\">\n",
       "  <thead>\n",
       "    <tr style=\"text-align: right;\">\n",
       "      <th></th>\n",
       "      <th>model_DTC</th>\n",
       "      <th>model_RFC</th>\n",
       "      <th>model_LRG</th>\n",
       "      <th>model_DUM</th>\n",
       "    </tr>\n",
       "  </thead>\n",
       "  <tbody>\n",
       "    <tr>\n",
       "      <td>Accuracy</td>\n",
       "      <td>0.734469</td>\n",
       "      <td>0.773502</td>\n",
       "      <td>0.714129</td>\n",
       "      <td>0.506322</td>\n",
       "    </tr>\n",
       "    <tr>\n",
       "      <td>recall_score</td>\n",
       "      <td>0.692722</td>\n",
       "      <td>0.706199</td>\n",
       "      <td>0.727763</td>\n",
       "      <td>0.544474</td>\n",
       "    </tr>\n",
       "    <tr>\n",
       "      <td>precision_score</td>\n",
       "      <td>0.410543</td>\n",
       "      <td>0.463717</td>\n",
       "      <td>0.391872</td>\n",
       "      <td>0.216971</td>\n",
       "    </tr>\n",
       "    <tr>\n",
       "      <td>f1_score</td>\n",
       "      <td>0.515547</td>\n",
       "      <td>0.559829</td>\n",
       "      <td>0.509434</td>\n",
       "      <td>0.310292</td>\n",
       "    </tr>\n",
       "    <tr>\n",
       "      <td>roc_auc_score</td>\n",
       "      <td>0.731903</td>\n",
       "      <td>0.841848</td>\n",
       "      <td>0.779499</td>\n",
       "      <td>0.520511</td>\n",
       "    </tr>\n",
       "  </tbody>\n",
       "</table>\n",
       "</div>"
      ],
      "text/plain": [
       "                 model_DTC  model_RFC  model_LRG  model_DUM\n",
       "Accuracy          0.734469   0.773502   0.714129   0.506322\n",
       "recall_score      0.692722   0.706199   0.727763   0.544474\n",
       "precision_score   0.410543   0.463717   0.391872   0.216971\n",
       "f1_score          0.515547   0.559829   0.509434   0.310292\n",
       "roc_auc_score     0.731903   0.841848   0.779499   0.520511"
      ]
     },
     "execution_count": 43,
     "metadata": {},
     "output_type": "execute_result"
    }
   ],
   "source": [
    "report_downsampled_data # Метрики, полученные на уменьшенных данных"
   ]
  },
  {
   "cell_type": "markdown",
   "metadata": {},
   "source": [
    "----\n",
    "\n",
    "___Наилучший результат f1_score удалось получить для модели случайный лес при обучении на увеличенной выборке___    \n",
    "\n",
    "----"
   ]
  },
  {
   "cell_type": "markdown",
   "metadata": {},
   "source": [
    "## Тестирование модели"
   ]
  },
  {
   "cell_type": "markdown",
   "metadata": {},
   "source": [
    "Для модели случайный лес подберем гиперпараметры:"
   ]
  },
  {
   "cell_type": "code",
   "execution_count": 44,
   "metadata": {
    "scrolled": true
   },
   "outputs": [
    {
     "name": "stderr",
     "output_type": "stream",
     "text": [
      "100%|██████████| 9/9 [01:10<00:00,  7.86s/it]"
     ]
    },
    {
     "name": "stdout",
     "output_type": "stream",
     "text": [
      "f1_score наилучшей модели на валидационной выборке: 0.6483660130718955\n",
      "n_estimators= 120\n",
      "max_depth= 14\n",
      "CPU times: user 1min 9s, sys: 151 ms, total: 1min 9s\n",
      "Wall time: 1min 10s\n"
     ]
    },
    {
     "name": "stderr",
     "output_type": "stream",
     "text": [
      "\n"
     ]
    },
    {
     "data": {
      "text/plain": [
       "RandomForestClassifier(bootstrap=True, class_weight=None, criterion='gini',\n",
       "                       max_depth=12, max_features='auto', max_leaf_nodes=None,\n",
       "                       min_impurity_decrease=0.0, min_impurity_split=None,\n",
       "                       min_samples_leaf=1, min_samples_split=2,\n",
       "                       min_weight_fraction_leaf=0.0, n_estimators=120,\n",
       "                       n_jobs=None, oob_score=False, random_state=12345,\n",
       "                       verbose=0, warm_start=False)"
      ]
     },
     "execution_count": 44,
     "metadata": {},
     "output_type": "execute_result"
    }
   ],
   "source": [
    "%%time\n",
    "best_model = None\n",
    "best_result = 0\n",
    "for est in tqdm(range(80, 121, 5)):\n",
    "    for m_depth in range(8, 15, 1):\n",
    "        model = RandomForestClassifier(random_state=RND_ST, \n",
    "                                       n_estimators=est,\n",
    "                                       max_depth=m_depth)\n",
    "        model.fit(features_upsampled, target_upsampled)\n",
    "        result = f1_score(target_valid, model.predict(features_valid))\n",
    "        if result > best_result:\n",
    "            best_model = model\n",
    "            best_result = result\n",
    "\n",
    "print(\"f1_score наилучшей модели на валидационной выборке:\", best_result)\n",
    "print('n_estimators=', est)\n",
    "print('max_depth=', m_depth)\n",
    "best_model"
   ]
  },
  {
   "cell_type": "code",
   "execution_count": 45,
   "metadata": {},
   "outputs": [
    {
     "name": "stdout",
     "output_type": "stream",
     "text": [
      "\n",
      "\n",
      " best_model roc_auc_score= 0.8496690295006775\n"
     ]
    },
    {
     "data": {
      "image/png": "[encoded data removed]",
      "text/plain": [
       "<Figure size 432x288 with 1 Axes>"
      ]
     },
     "metadata": {
      "needs_background": "light"
     },
     "output_type": "display_data"
    },
    {
     "name": "stdout",
     "output_type": "stream",
     "text": [
      "Матрица ошибок:\n",
      "       0    1\n",
      "0  1298  150\n",
      "1   147  224\n"
     ]
    },
    {
     "data": {
      "text/html": [
       "<div>\n",
       "<style scoped>\n",
       "    .dataframe tbody tr th:only-of-type {\n",
       "        vertical-align: middle;\n",
       "    }\n",
       "\n",
       "    .dataframe tbody tr th {\n",
       "        vertical-align: top;\n",
       "    }\n",
       "\n",
       "    .dataframe thead th {\n",
       "        text-align: right;\n",
       "    }\n",
       "</style>\n",
       "<table border=\"1\" class=\"dataframe\">\n",
       "  <thead>\n",
       "    <tr style=\"text-align: right;\">\n",
       "      <th></th>\n",
       "      <th>best_model</th>\n",
       "    </tr>\n",
       "  </thead>\n",
       "  <tbody>\n",
       "    <tr>\n",
       "      <td>Accuracy valid</td>\n",
       "      <td>0.852035</td>\n",
       "    </tr>\n",
       "    <tr>\n",
       "      <td>Accuracy test</td>\n",
       "      <td>0.836723</td>\n",
       "    </tr>\n",
       "    <tr>\n",
       "      <td>recall_score</td>\n",
       "      <td>0.603774</td>\n",
       "    </tr>\n",
       "    <tr>\n",
       "      <td>precision_score</td>\n",
       "      <td>0.598930</td>\n",
       "    </tr>\n",
       "    <tr>\n",
       "      <td>f1_score</td>\n",
       "      <td>0.601342</td>\n",
       "    </tr>\n",
       "    <tr>\n",
       "      <td>roc_auc_score</td>\n",
       "      <td>0.849669</td>\n",
       "    </tr>\n",
       "  </tbody>\n",
       "</table>\n",
       "</div>"
      ],
      "text/plain": [
       "                 best_model\n",
       "Accuracy valid     0.852035\n",
       "Accuracy test      0.836723\n",
       "recall_score       0.603774\n",
       "precision_score    0.598930\n",
       "f1_score           0.601342\n",
       "roc_auc_score      0.849669"
      ]
     },
     "execution_count": 45,
     "metadata": {},
     "output_type": "execute_result"
    }
   ],
   "source": [
    "\n",
    "report = pd.DataFrame(index=['Accuracy valid',\n",
    "                             'Accuracy test',\n",
    "                             'recall_score', \n",
    "                             'precision_score', \n",
    "                             'f1_score',\n",
    "                             'roc_auc_score']\n",
    "                     )\n",
    "def report_metrics(name, model):\n",
    "    predict = model.predict(features_test)\n",
    "    probabilities_one_test = model.predict_proba(features_test)[:, 1]\n",
    "    fpr, tpr, thresholds = roc_curve(target_test, probabilities_one_test)\n",
    "    roc_auc = roc_auc_score(target_test, probabilities_one_test)\n",
    "\n",
    "    report[name] = (model.score(features_valid, target_valid),\n",
    "                    model.score(features_test, target_test),\n",
    "                    recall_score(target_test, predict),\n",
    "                    precision_score(target_test, predict),\n",
    "                    f1_score(target_test, predict),\n",
    "                    roc_auc\n",
    "                   )    \n",
    "\n",
    "    print('\\n\\n', name, 'roc_auc_score=', roc_auc)\n",
    "\n",
    "    fig, ax = plt.subplots()\n",
    "    ax.plot(fpr, tpr); ax.grid(True)    \n",
    "    plt.plot([0, 1], [0, 1], linestyle='--')\n",
    "    plt.xlim([0.0, 1.0]); plt.ylim([0.0, 1.0])\n",
    "    plt.xlabel('False Positive Rate')\n",
    "    plt.ylabel('True Positive Rate')\n",
    "    plt.title('ROC-кривая')\n",
    "    plt.show()\n",
    "    \n",
    "    cm = pd.DataFrame(confusion_matrix(target_test, predict))\n",
    "    print('Матрица ошибок:\\n', cm)\n",
    "        \n",
    "report_metrics('best_model', best_model)\n",
    "report"
   ]
  },
  {
   "cell_type": "markdown",
   "metadata": {},
   "source": [
    "### Вывод:"
   ]
  },
  {
   "cell_type": "markdown",
   "metadata": {},
   "source": [
    "Удалось получить f1_score более 0.6"
   ]
  },
  {
   "cell_type": "markdown",
   "metadata": {},
   "source": [
    "## Общий вывод:\n",
    "\n",
    "<div class=\"alert alert-block alert-info\">\n",
    "\n",
    "Лучший результат f1_score показала модель случайный лес с параметрами\n",
    "```\n",
    "RandomForestClassifier(bootstrap=True, class_weight=None, criterion='gini',\n",
    "                       max_depth=12, max_features='auto', max_leaf_nodes=None,\n",
    "                       min_impurity_decrease=0.0, min_impurity_split=None,\n",
    "                       min_samples_leaf=1, min_samples_split=2,\n",
    "                       min_weight_fraction_leaf=0.0, n_estimators=120,\n",
    "                       n_jobs=None, oob_score=False, random_state=12345,\n",
    "                       verbose=0, warm_start=False)\n",
    "```\n",
    "\n",
    "обученная на увеличенной выборке (класс Exited=\"1\" увеличен в 4 раза)\n",
    "    \n",
    "</div>\n"
   ]
  },
  {
   "cell_type": "markdown",
   "metadata": {},
   "source": [
    "## Чек-лист готовности проекта"
   ]
  },
  {
   "cell_type": "markdown",
   "metadata": {},
   "source": [
    "Поставьте 'x' в выполненных пунктах. Далее нажмите Shift+Enter."
   ]
  },
  {
   "cell_type": "markdown",
   "metadata": {},
   "source": [
    "- [x]  Jupyter Notebook открыт\n",
    "- [x]  Весь код выполняется без ошибок\n",
    "- [x]  Ячейки с кодом расположены в порядке исполнения\n",
    "- [x]  Выполнен шаг 1: данные подготовлены\n",
    "- [x]  Выполнен шаг 2: задача исследована\n",
    "    - [x]  Исследован баланс классов\n",
    "    - [x]  Изучены модели без учёта дисбаланса\n",
    "    - [x]  Написаны выводы по результатам исследования\n",
    "- [x]  Выполнен шаг 3: учтён дисбаланс\n",
    "    - [x]  Применено несколько способов борьбы с дисбалансом\n",
    "    - [x]  Написаны выводы по результатам исследования\n",
    "- [x]  Выполнен шаг 4: проведено тестирование\n",
    "- [x]  Удалось достичь *F1*-меры не менее 0.59\n",
    "- [x]  Исследована метрика *AUC-ROC*"
   ]
  }
 ],
 "metadata": {
  "ExecuteTimeLog": [
   {
    "duration": 698,
    "start_time": "2021-09-29T10:20:41.927Z"
   },
   {
    "duration": 5049,
    "start_time": "2021-09-29T10:21:22.095Z"
   },
   {
    "duration": 5021,
    "start_time": "2021-09-29T10:24:37.597Z"
   },
   {
    "duration": 35,
    "start_time": "2021-09-29T10:26:20.484Z"
   },
   {
    "duration": 72,
    "start_time": "2021-09-29T10:26:41.373Z"
   },
   {
    "duration": 92,
    "start_time": "2021-09-29T10:29:50.092Z"
   },
   {
    "duration": 305,
    "start_time": "2021-09-29T10:31:51.729Z"
   },
   {
    "duration": 281,
    "start_time": "2021-09-29T10:31:59.937Z"
   },
   {
    "duration": 9,
    "start_time": "2021-09-29T10:32:08.794Z"
   },
   {
    "duration": 39,
    "start_time": "2021-09-29T10:36:23.679Z"
   },
   {
    "duration": 5,
    "start_time": "2021-09-29T10:58:29.875Z"
   },
   {
    "duration": 8,
    "start_time": "2021-09-29T10:58:34.260Z"
   },
   {
    "duration": 18,
    "start_time": "2021-09-29T10:59:44.187Z"
   },
   {
    "duration": 685,
    "start_time": "2021-09-29T11:00:19.228Z"
   },
   {
    "duration": 77,
    "start_time": "2021-09-29T11:00:19.916Z"
   },
   {
    "duration": 3,
    "start_time": "2021-09-29T11:00:19.996Z"
   },
   {
    "duration": 26,
    "start_time": "2021-09-29T11:00:20.001Z"
   },
   {
    "duration": 5,
    "start_time": "2021-09-29T11:00:46.550Z"
   },
   {
    "duration": 16,
    "start_time": "2021-09-29T11:00:48.573Z"
   },
   {
    "duration": 7,
    "start_time": "2021-09-29T11:01:34.510Z"
   },
   {
    "duration": 32,
    "start_time": "2021-09-29T11:01:43.892Z"
   },
   {
    "duration": 473,
    "start_time": "2021-09-29T11:02:29.182Z"
   },
   {
    "duration": 784,
    "start_time": "2021-09-29T11:03:08.173Z"
   },
   {
    "duration": 77,
    "start_time": "2021-09-29T11:03:08.960Z"
   },
   {
    "duration": 5,
    "start_time": "2021-09-29T11:03:09.040Z"
   },
   {
    "duration": 36,
    "start_time": "2021-09-29T11:03:09.048Z"
   },
   {
    "duration": 31,
    "start_time": "2021-09-29T11:03:09.087Z"
   },
   {
    "duration": 29,
    "start_time": "2021-09-29T11:03:09.121Z"
   },
   {
    "duration": 10,
    "start_time": "2021-09-29T11:04:25.758Z"
   },
   {
    "duration": 12,
    "start_time": "2021-09-29T11:04:38.270Z"
   },
   {
    "duration": 9,
    "start_time": "2021-09-29T11:05:29.006Z"
   },
   {
    "duration": 11,
    "start_time": "2021-09-29T11:05:50.711Z"
   },
   {
    "duration": 11,
    "start_time": "2021-09-29T11:06:11.253Z"
   },
   {
    "duration": 8,
    "start_time": "2021-09-29T11:07:21.101Z"
   },
   {
    "duration": 10,
    "start_time": "2021-09-29T11:07:48.578Z"
   },
   {
    "duration": 8,
    "start_time": "2021-09-29T11:08:35.034Z"
   },
   {
    "duration": 8,
    "start_time": "2021-09-29T11:10:13.360Z"
   },
   {
    "duration": 9,
    "start_time": "2021-09-29T11:10:39.056Z"
   },
   {
    "duration": 13,
    "start_time": "2021-09-29T11:11:12.392Z"
   },
   {
    "duration": 8,
    "start_time": "2021-09-29T11:11:53.897Z"
   },
   {
    "duration": 14,
    "start_time": "2021-09-29T11:20:18.188Z"
   },
   {
    "duration": 31,
    "start_time": "2021-09-29T12:20:56.237Z"
   },
   {
    "duration": 364,
    "start_time": "2021-09-29T12:21:16.243Z"
   },
   {
    "duration": 30,
    "start_time": "2021-09-29T12:21:25.604Z"
   },
   {
    "duration": 11,
    "start_time": "2021-09-29T12:21:38.412Z"
   },
   {
    "duration": 9,
    "start_time": "2021-09-29T12:21:46.963Z"
   },
   {
    "duration": 11,
    "start_time": "2021-09-29T12:22:09.412Z"
   },
   {
    "duration": 20,
    "start_time": "2021-09-29T12:22:36.933Z"
   },
   {
    "duration": 10,
    "start_time": "2021-09-29T12:23:05.467Z"
   },
   {
    "duration": 14,
    "start_time": "2021-09-29T12:23:37.155Z"
   },
   {
    "duration": 14,
    "start_time": "2021-09-29T12:24:25.778Z"
   },
   {
    "duration": 10,
    "start_time": "2021-09-29T12:25:07.242Z"
   },
   {
    "duration": 14,
    "start_time": "2021-09-29T12:25:28.113Z"
   },
   {
    "duration": 10,
    "start_time": "2021-09-29T12:25:35.811Z"
   },
   {
    "duration": 14,
    "start_time": "2021-09-29T12:26:53.176Z"
   },
   {
    "duration": 14,
    "start_time": "2021-09-29T12:27:07.288Z"
   },
   {
    "duration": 13,
    "start_time": "2021-09-29T12:27:15.056Z"
   },
   {
    "duration": 11,
    "start_time": "2021-09-29T12:30:52.607Z"
   },
   {
    "duration": 7,
    "start_time": "2021-09-29T12:31:04.560Z"
   },
   {
    "duration": 622,
    "start_time": "2021-10-02T20:40:20.627Z"
   },
   {
    "duration": 59,
    "start_time": "2021-10-02T20:40:21.251Z"
   },
   {
    "duration": 4,
    "start_time": "2021-10-02T20:40:21.312Z"
   },
   {
    "duration": 14,
    "start_time": "2021-10-02T20:40:21.318Z"
   },
   {
    "duration": 28,
    "start_time": "2021-10-02T20:40:21.334Z"
   },
   {
    "duration": 7,
    "start_time": "2021-10-02T20:40:21.364Z"
   },
   {
    "duration": 6,
    "start_time": "2021-10-02T20:40:21.373Z"
   },
   {
    "duration": 6,
    "start_time": "2021-10-02T20:40:21.383Z"
   },
   {
    "duration": 10,
    "start_time": "2021-10-02T20:40:21.391Z"
   },
   {
    "duration": 6,
    "start_time": "2021-10-02T20:40:21.403Z"
   },
   {
    "duration": 9,
    "start_time": "2021-10-02T20:40:21.450Z"
   },
   {
    "duration": 6,
    "start_time": "2021-10-02T20:40:21.461Z"
   },
   {
    "duration": 7,
    "start_time": "2021-10-02T20:40:21.468Z"
   },
   {
    "duration": 8,
    "start_time": "2021-10-02T20:40:21.477Z"
   },
   {
    "duration": 9,
    "start_time": "2021-10-02T20:40:21.487Z"
   },
   {
    "duration": 9,
    "start_time": "2021-10-02T20:40:21.498Z"
   },
   {
    "duration": 46,
    "start_time": "2021-10-02T20:40:21.510Z"
   },
   {
    "duration": 7,
    "start_time": "2021-10-02T20:40:21.558Z"
   },
   {
    "duration": 8,
    "start_time": "2021-10-02T20:41:25.841Z"
   },
   {
    "duration": 7,
    "start_time": "2021-10-02T20:42:04.630Z"
   },
   {
    "duration": 10,
    "start_time": "2021-10-02T20:42:06.886Z"
   },
   {
    "duration": 287,
    "start_time": "2021-10-02T20:42:07.479Z"
   },
   {
    "duration": 581,
    "start_time": "2021-10-02T20:42:18.208Z"
   },
   {
    "duration": 57,
    "start_time": "2021-10-02T20:42:18.790Z"
   },
   {
    "duration": 8,
    "start_time": "2021-10-02T20:42:18.849Z"
   },
   {
    "duration": 10,
    "start_time": "2021-10-02T20:42:18.859Z"
   },
   {
    "duration": 17,
    "start_time": "2021-10-02T20:42:18.871Z"
   },
   {
    "duration": 8,
    "start_time": "2021-10-02T20:42:18.889Z"
   },
   {
    "duration": 6,
    "start_time": "2021-10-02T20:42:18.899Z"
   },
   {
    "duration": 7,
    "start_time": "2021-10-02T20:42:18.907Z"
   },
   {
    "duration": 39,
    "start_time": "2021-10-02T20:42:18.916Z"
   },
   {
    "duration": 6,
    "start_time": "2021-10-02T20:42:18.957Z"
   },
   {
    "duration": 7,
    "start_time": "2021-10-02T20:42:18.965Z"
   },
   {
    "duration": 5,
    "start_time": "2021-10-02T20:42:18.974Z"
   },
   {
    "duration": 7,
    "start_time": "2021-10-02T20:42:18.981Z"
   },
   {
    "duration": 10,
    "start_time": "2021-10-02T20:42:18.989Z"
   },
   {
    "duration": 9,
    "start_time": "2021-10-02T20:42:19.001Z"
   },
   {
    "duration": 43,
    "start_time": "2021-10-02T20:42:19.011Z"
   },
   {
    "duration": 8,
    "start_time": "2021-10-02T20:42:19.055Z"
   },
   {
    "duration": 6,
    "start_time": "2021-10-02T20:42:19.064Z"
   },
   {
    "duration": 15,
    "start_time": "2021-10-02T20:48:12.722Z"
   },
   {
    "duration": 28,
    "start_time": "2021-10-02T20:48:21.746Z"
   },
   {
    "duration": 284,
    "start_time": "2021-10-02T20:58:43.145Z"
   },
   {
    "duration": 12,
    "start_time": "2021-10-02T20:59:20.313Z"
   },
   {
    "duration": 18,
    "start_time": "2021-10-02T21:02:04.376Z"
   },
   {
    "duration": 6057,
    "start_time": "2021-10-02T21:08:06.111Z"
   },
   {
    "duration": 19,
    "start_time": "2021-10-02T21:08:47.608Z"
   },
   {
    "duration": 86,
    "start_time": "2021-10-02T21:10:02.025Z"
   },
   {
    "duration": 44,
    "start_time": "2021-10-02T21:10:30.199Z"
   },
   {
    "duration": 45,
    "start_time": "2021-10-02T21:10:38.847Z"
   },
   {
    "duration": 787,
    "start_time": "2021-10-02T21:10:52.474Z"
   },
   {
    "duration": 94,
    "start_time": "2021-10-02T21:10:53.264Z"
   },
   {
    "duration": 7,
    "start_time": "2021-10-02T21:10:53.360Z"
   },
   {
    "duration": 10,
    "start_time": "2021-10-02T21:10:53.369Z"
   },
   {
    "duration": 22,
    "start_time": "2021-10-02T21:10:53.380Z"
   },
   {
    "duration": 66,
    "start_time": "2021-10-02T21:10:53.404Z"
   },
   {
    "duration": 39,
    "start_time": "2021-10-02T21:10:53.473Z"
   },
   {
    "duration": 12,
    "start_time": "2021-10-02T21:10:53.515Z"
   },
   {
    "duration": 12,
    "start_time": "2021-10-02T21:10:53.552Z"
   },
   {
    "duration": 314,
    "start_time": "2021-10-02T21:12:12.684Z"
   },
   {
    "duration": 601,
    "start_time": "2021-10-02T21:12:20.021Z"
   },
   {
    "duration": 61,
    "start_time": "2021-10-02T21:12:20.624Z"
   },
   {
    "duration": 8,
    "start_time": "2021-10-02T21:12:20.687Z"
   },
   {
    "duration": 12,
    "start_time": "2021-10-02T21:12:20.696Z"
   },
   {
    "duration": 14,
    "start_time": "2021-10-02T21:12:20.710Z"
   },
   {
    "duration": 44,
    "start_time": "2021-10-02T21:12:20.726Z"
   },
   {
    "duration": 17,
    "start_time": "2021-10-02T21:12:20.772Z"
   },
   {
    "duration": 6,
    "start_time": "2021-10-02T21:12:20.791Z"
   },
   {
    "duration": 7,
    "start_time": "2021-10-02T21:12:20.799Z"
   },
   {
    "duration": 297,
    "start_time": "2021-10-02T21:14:50.999Z"
   },
   {
    "duration": 603,
    "start_time": "2021-10-02T21:14:56.606Z"
   },
   {
    "duration": 60,
    "start_time": "2021-10-02T21:14:57.211Z"
   },
   {
    "duration": 8,
    "start_time": "2021-10-02T21:14:57.273Z"
   },
   {
    "duration": 10,
    "start_time": "2021-10-02T21:14:57.283Z"
   },
   {
    "duration": 20,
    "start_time": "2021-10-02T21:14:57.294Z"
   },
   {
    "duration": 56,
    "start_time": "2021-10-02T21:14:57.315Z"
   },
   {
    "duration": 21,
    "start_time": "2021-10-02T21:14:57.373Z"
   },
   {
    "duration": 8,
    "start_time": "2021-10-02T21:14:57.396Z"
   },
   {
    "duration": 18,
    "start_time": "2021-10-02T21:14:57.406Z"
   },
   {
    "duration": 27,
    "start_time": "2021-10-02T21:16:11.277Z"
   },
   {
    "duration": 12,
    "start_time": "2021-10-02T21:18:42.085Z"
   },
   {
    "duration": 26,
    "start_time": "2021-10-02T21:19:13.437Z"
   },
   {
    "duration": 996,
    "start_time": "2021-10-02T21:24:48.017Z"
   },
   {
    "duration": 119,
    "start_time": "2021-10-02T21:24:49.015Z"
   },
   {
    "duration": 20,
    "start_time": "2021-10-02T21:24:49.136Z"
   },
   {
    "duration": 12,
    "start_time": "2021-10-02T21:24:49.159Z"
   },
   {
    "duration": 19,
    "start_time": "2021-10-02T21:24:49.173Z"
   },
   {
    "duration": 29,
    "start_time": "2021-10-02T21:24:49.193Z"
   },
   {
    "duration": 45,
    "start_time": "2021-10-02T21:24:49.223Z"
   },
   {
    "duration": 6,
    "start_time": "2021-10-02T21:24:49.270Z"
   },
   {
    "duration": 12,
    "start_time": "2021-10-02T21:24:49.278Z"
   },
   {
    "duration": 28,
    "start_time": "2021-10-02T21:24:49.291Z"
   },
   {
    "duration": 52,
    "start_time": "2021-10-02T21:24:49.321Z"
   },
   {
    "duration": 974,
    "start_time": "2021-10-02T21:32:51.564Z"
   },
   {
    "duration": 116,
    "start_time": "2021-10-02T21:32:52.541Z"
   },
   {
    "duration": 10,
    "start_time": "2021-10-02T21:32:52.660Z"
   },
   {
    "duration": 12,
    "start_time": "2021-10-02T21:32:52.672Z"
   },
   {
    "duration": 20,
    "start_time": "2021-10-02T21:32:52.686Z"
   },
   {
    "duration": 58,
    "start_time": "2021-10-02T21:32:52.708Z"
   },
   {
    "duration": 18,
    "start_time": "2021-10-02T21:32:52.768Z"
   },
   {
    "duration": 8,
    "start_time": "2021-10-02T21:32:52.788Z"
   },
   {
    "duration": 10,
    "start_time": "2021-10-02T21:32:52.799Z"
   },
   {
    "duration": 60,
    "start_time": "2021-10-02T21:32:52.812Z"
   },
   {
    "duration": 3,
    "start_time": "2021-10-02T21:32:52.874Z"
   },
   {
    "duration": 12,
    "start_time": "2021-10-02T21:32:52.879Z"
   },
   {
    "duration": 327,
    "start_time": "2021-10-02T21:32:52.892Z"
   },
   {
    "duration": -50,
    "start_time": "2021-10-02T21:32:53.271Z"
   },
   {
    "duration": -51,
    "start_time": "2021-10-02T21:32:53.274Z"
   },
   {
    "duration": -52,
    "start_time": "2021-10-02T21:32:53.276Z"
   },
   {
    "duration": 989,
    "start_time": "2021-10-02T21:33:47.480Z"
   },
   {
    "duration": 52,
    "start_time": "2021-10-02T21:33:48.471Z"
   },
   {
    "duration": 8,
    "start_time": "2021-10-02T21:33:48.525Z"
   },
   {
    "duration": 16,
    "start_time": "2021-10-02T21:33:48.534Z"
   },
   {
    "duration": 18,
    "start_time": "2021-10-02T21:33:48.552Z"
   },
   {
    "duration": 29,
    "start_time": "2021-10-02T21:33:48.572Z"
   },
   {
    "duration": 17,
    "start_time": "2021-10-02T21:33:48.602Z"
   },
   {
    "duration": 33,
    "start_time": "2021-10-02T21:33:48.622Z"
   },
   {
    "duration": 10,
    "start_time": "2021-10-02T21:33:48.656Z"
   },
   {
    "duration": 27,
    "start_time": "2021-10-02T21:33:48.668Z"
   },
   {
    "duration": 2,
    "start_time": "2021-10-02T21:33:48.696Z"
   },
   {
    "duration": 7,
    "start_time": "2021-10-02T21:33:48.700Z"
   },
   {
    "duration": 11,
    "start_time": "2021-10-02T21:33:48.708Z"
   },
   {
    "duration": 318,
    "start_time": "2021-10-02T21:33:48.720Z"
   },
   {
    "duration": -257,
    "start_time": "2021-10-02T21:33:49.297Z"
   },
   {
    "duration": -259,
    "start_time": "2021-10-02T21:33:49.299Z"
   },
   {
    "duration": 7,
    "start_time": "2021-10-02T21:34:15.100Z"
   },
   {
    "duration": 4,
    "start_time": "2021-10-02T21:34:18.601Z"
   },
   {
    "duration": 4,
    "start_time": "2021-10-02T21:34:39.028Z"
   },
   {
    "duration": 3,
    "start_time": "2021-10-02T21:35:03.659Z"
   },
   {
    "duration": 4,
    "start_time": "2021-10-02T21:36:48.987Z"
   },
   {
    "duration": 4,
    "start_time": "2021-10-02T21:37:02.194Z"
   },
   {
    "duration": 5,
    "start_time": "2021-10-02T21:37:09.976Z"
   },
   {
    "duration": 4,
    "start_time": "2021-10-02T21:39:20.794Z"
   },
   {
    "duration": 4,
    "start_time": "2021-10-02T21:39:24.321Z"
   },
   {
    "duration": 6,
    "start_time": "2021-10-02T21:40:21.184Z"
   },
   {
    "duration": 5,
    "start_time": "2021-10-02T21:40:36.058Z"
   },
   {
    "duration": 6,
    "start_time": "2021-10-02T21:40:43.594Z"
   },
   {
    "duration": 6,
    "start_time": "2021-10-02T21:40:52.161Z"
   },
   {
    "duration": 1145,
    "start_time": "2021-10-02T21:41:12.925Z"
   },
   {
    "duration": 54,
    "start_time": "2021-10-02T21:41:14.072Z"
   },
   {
    "duration": 7,
    "start_time": "2021-10-02T21:41:14.128Z"
   },
   {
    "duration": 17,
    "start_time": "2021-10-02T21:41:14.137Z"
   },
   {
    "duration": 18,
    "start_time": "2021-10-02T21:41:14.155Z"
   },
   {
    "duration": 27,
    "start_time": "2021-10-02T21:41:14.174Z"
   },
   {
    "duration": 16,
    "start_time": "2021-10-02T21:41:14.202Z"
   },
   {
    "duration": 6,
    "start_time": "2021-10-02T21:41:14.249Z"
   },
   {
    "duration": 9,
    "start_time": "2021-10-02T21:41:14.258Z"
   },
   {
    "duration": 27,
    "start_time": "2021-10-02T21:41:14.269Z"
   },
   {
    "duration": 3,
    "start_time": "2021-10-02T21:41:14.298Z"
   },
   {
    "duration": 8,
    "start_time": "2021-10-02T21:41:14.303Z"
   },
   {
    "duration": 40,
    "start_time": "2021-10-02T21:41:14.313Z"
   },
   {
    "duration": 9,
    "start_time": "2021-10-02T21:41:14.354Z"
   },
   {
    "duration": 6,
    "start_time": "2021-10-02T21:41:14.365Z"
   },
   {
    "duration": 31,
    "start_time": "2021-10-02T21:41:14.373Z"
   },
   {
    "duration": 12,
    "start_time": "2021-10-02T21:42:04.750Z"
   },
   {
    "duration": 7,
    "start_time": "2021-10-02T21:42:05.355Z"
   },
   {
    "duration": 1048,
    "start_time": "2021-10-02T21:46:03.522Z"
   },
   {
    "duration": 51,
    "start_time": "2021-10-02T21:46:04.572Z"
   },
   {
    "duration": 8,
    "start_time": "2021-10-02T21:46:04.625Z"
   },
   {
    "duration": 19,
    "start_time": "2021-10-02T21:46:04.635Z"
   },
   {
    "duration": 18,
    "start_time": "2021-10-02T21:46:04.655Z"
   },
   {
    "duration": 27,
    "start_time": "2021-10-02T21:46:04.674Z"
   },
   {
    "duration": 16,
    "start_time": "2021-10-02T21:46:04.703Z"
   },
   {
    "duration": 32,
    "start_time": "2021-10-02T21:46:04.721Z"
   },
   {
    "duration": 14,
    "start_time": "2021-10-02T21:46:04.754Z"
   },
   {
    "duration": 28,
    "start_time": "2021-10-02T21:46:04.769Z"
   },
   {
    "duration": 3,
    "start_time": "2021-10-02T21:46:04.798Z"
   },
   {
    "duration": 7,
    "start_time": "2021-10-02T21:46:04.802Z"
   },
   {
    "duration": 40,
    "start_time": "2021-10-02T21:46:04.811Z"
   },
   {
    "duration": 6,
    "start_time": "2021-10-02T21:46:04.852Z"
   },
   {
    "duration": 29,
    "start_time": "2021-10-02T21:46:04.860Z"
   },
   {
    "duration": 1077,
    "start_time": "2021-10-02T21:49:29.967Z"
   },
   {
    "duration": 53,
    "start_time": "2021-10-02T21:49:31.045Z"
   },
   {
    "duration": 8,
    "start_time": "2021-10-02T21:49:31.100Z"
   },
   {
    "duration": 18,
    "start_time": "2021-10-02T21:49:31.110Z"
   },
   {
    "duration": 31,
    "start_time": "2021-10-02T21:49:31.130Z"
   },
   {
    "duration": 27,
    "start_time": "2021-10-02T21:49:31.163Z"
   },
   {
    "duration": 17,
    "start_time": "2021-10-02T21:49:31.191Z"
   },
   {
    "duration": 5,
    "start_time": "2021-10-02T21:49:31.211Z"
   },
   {
    "duration": 33,
    "start_time": "2021-10-02T21:49:31.218Z"
   },
   {
    "duration": 24,
    "start_time": "2021-10-02T21:49:31.253Z"
   },
   {
    "duration": 2,
    "start_time": "2021-10-02T21:49:31.279Z"
   },
   {
    "duration": 8,
    "start_time": "2021-10-02T21:49:31.282Z"
   },
   {
    "duration": 15,
    "start_time": "2021-10-02T21:49:31.292Z"
   },
   {
    "duration": 6,
    "start_time": "2021-10-02T21:49:31.310Z"
   },
   {
    "duration": 9,
    "start_time": "2021-10-02T21:49:31.317Z"
   },
   {
    "duration": 45,
    "start_time": "2021-10-02T21:49:31.327Z"
   },
   {
    "duration": 79,
    "start_time": "2021-10-02T21:51:47.680Z"
   },
   {
    "duration": 23,
    "start_time": "2021-10-02T21:52:25.296Z"
   },
   {
    "duration": 1315,
    "start_time": "2021-10-02T21:53:51.696Z"
   },
   {
    "duration": 272,
    "start_time": "2021-10-02T21:55:27.096Z"
   },
   {
    "duration": 24,
    "start_time": "2021-10-02T21:55:45.311Z"
   },
   {
    "duration": 17,
    "start_time": "2021-10-02T21:57:18.984Z"
   },
   {
    "duration": 9,
    "start_time": "2021-10-02T21:57:37.728Z"
   },
   {
    "duration": 7,
    "start_time": "2021-10-02T21:58:31.072Z"
   },
   {
    "duration": 5,
    "start_time": "2021-10-02T21:58:41.047Z"
   },
   {
    "duration": 283,
    "start_time": "2021-10-02T21:59:01.735Z"
   },
   {
    "duration": 1066,
    "start_time": "2021-10-02T21:59:29.310Z"
   },
   {
    "duration": 54,
    "start_time": "2021-10-02T21:59:30.378Z"
   },
   {
    "duration": 9,
    "start_time": "2021-10-02T21:59:30.434Z"
   },
   {
    "duration": 11,
    "start_time": "2021-10-02T21:59:30.449Z"
   },
   {
    "duration": 18,
    "start_time": "2021-10-02T21:59:30.462Z"
   },
   {
    "duration": 29,
    "start_time": "2021-10-02T21:59:30.481Z"
   },
   {
    "duration": 43,
    "start_time": "2021-10-02T21:59:30.512Z"
   },
   {
    "duration": 7,
    "start_time": "2021-10-02T21:59:30.559Z"
   },
   {
    "duration": 17,
    "start_time": "2021-10-02T21:59:30.568Z"
   },
   {
    "duration": 52,
    "start_time": "2021-10-02T21:59:30.587Z"
   },
   {
    "duration": 3,
    "start_time": "2021-10-02T21:59:30.650Z"
   },
   {
    "duration": 11,
    "start_time": "2021-10-02T21:59:30.654Z"
   },
   {
    "duration": 16,
    "start_time": "2021-10-02T21:59:30.667Z"
   },
   {
    "duration": 12,
    "start_time": "2021-10-02T21:59:30.685Z"
   },
   {
    "duration": 11,
    "start_time": "2021-10-02T21:59:30.699Z"
   },
   {
    "duration": 22,
    "start_time": "2021-10-02T21:59:30.712Z"
   },
   {
    "duration": 27,
    "start_time": "2021-10-02T21:59:30.736Z"
   },
   {
    "duration": 14,
    "start_time": "2021-10-02T22:00:53.827Z"
   },
   {
    "duration": 16,
    "start_time": "2021-10-02T22:00:58.093Z"
   },
   {
    "duration": 995,
    "start_time": "2021-10-02T22:02:22.274Z"
   },
   {
    "duration": 53,
    "start_time": "2021-10-02T22:02:23.271Z"
   },
   {
    "duration": 8,
    "start_time": "2021-10-02T22:02:23.326Z"
   },
   {
    "duration": 19,
    "start_time": "2021-10-02T22:02:23.336Z"
   },
   {
    "duration": 20,
    "start_time": "2021-10-02T22:02:23.357Z"
   },
   {
    "duration": 28,
    "start_time": "2021-10-02T22:02:23.378Z"
   },
   {
    "duration": 16,
    "start_time": "2021-10-02T22:02:23.407Z"
   },
   {
    "duration": 27,
    "start_time": "2021-10-02T22:02:23.425Z"
   },
   {
    "duration": 14,
    "start_time": "2021-10-02T22:02:23.454Z"
   },
   {
    "duration": 29,
    "start_time": "2021-10-02T22:02:23.469Z"
   },
   {
    "duration": 2,
    "start_time": "2021-10-02T22:02:23.499Z"
   },
   {
    "duration": 6,
    "start_time": "2021-10-02T22:02:23.503Z"
   },
   {
    "duration": 14,
    "start_time": "2021-10-02T22:02:23.510Z"
   },
   {
    "duration": 27,
    "start_time": "2021-10-02T22:02:23.525Z"
   },
   {
    "duration": 4,
    "start_time": "2021-10-02T22:02:23.554Z"
   },
   {
    "duration": 40,
    "start_time": "2021-10-02T22:02:23.560Z"
   },
   {
    "duration": 33,
    "start_time": "2021-10-02T22:04:05.751Z"
   },
   {
    "duration": 998,
    "start_time": "2021-10-02T22:04:33.172Z"
   },
   {
    "duration": 51,
    "start_time": "2021-10-02T22:04:34.173Z"
   },
   {
    "duration": 8,
    "start_time": "2021-10-02T22:04:34.226Z"
   },
   {
    "duration": 19,
    "start_time": "2021-10-02T22:04:34.237Z"
   },
   {
    "duration": 18,
    "start_time": "2021-10-02T22:04:34.257Z"
   },
   {
    "duration": 26,
    "start_time": "2021-10-02T22:04:34.277Z"
   },
   {
    "duration": 17,
    "start_time": "2021-10-02T22:04:34.304Z"
   },
   {
    "duration": 31,
    "start_time": "2021-10-02T22:04:34.322Z"
   },
   {
    "duration": 7,
    "start_time": "2021-10-02T22:04:34.356Z"
   },
   {
    "duration": 31,
    "start_time": "2021-10-02T22:04:34.365Z"
   },
   {
    "duration": 2,
    "start_time": "2021-10-02T22:04:34.398Z"
   },
   {
    "duration": 10,
    "start_time": "2021-10-02T22:04:34.401Z"
   },
   {
    "duration": 14,
    "start_time": "2021-10-02T22:04:34.413Z"
   },
   {
    "duration": 23,
    "start_time": "2021-10-02T22:04:34.429Z"
   },
   {
    "duration": 4,
    "start_time": "2021-10-02T22:04:34.454Z"
   },
   {
    "duration": 36,
    "start_time": "2021-10-02T22:04:34.459Z"
   },
   {
    "duration": 34,
    "start_time": "2021-10-02T22:05:07.485Z"
   },
   {
    "duration": 34,
    "start_time": "2021-10-02T22:05:30.887Z"
   },
   {
    "duration": 1031,
    "start_time": "2021-10-02T22:07:06.138Z"
   },
   {
    "duration": 52,
    "start_time": "2021-10-02T22:07:07.171Z"
   },
   {
    "duration": 8,
    "start_time": "2021-10-02T22:07:07.225Z"
   },
   {
    "duration": 19,
    "start_time": "2021-10-02T22:07:07.235Z"
   },
   {
    "duration": 4,
    "start_time": "2021-10-02T22:07:07.256Z"
   },
   {
    "duration": 31,
    "start_time": "2021-10-02T22:07:07.262Z"
   },
   {
    "duration": 17,
    "start_time": "2021-10-02T22:07:07.295Z"
   },
   {
    "duration": 6,
    "start_time": "2021-10-02T22:07:07.314Z"
   },
   {
    "duration": 32,
    "start_time": "2021-10-02T22:07:07.322Z"
   },
   {
    "duration": 30,
    "start_time": "2021-10-02T22:07:07.356Z"
   },
   {
    "duration": 3,
    "start_time": "2021-10-02T22:07:07.387Z"
   },
   {
    "duration": 6,
    "start_time": "2021-10-02T22:07:07.392Z"
   },
   {
    "duration": 14,
    "start_time": "2021-10-02T22:07:07.400Z"
   },
   {
    "duration": 5,
    "start_time": "2021-10-02T22:07:07.416Z"
   },
   {
    "duration": 28,
    "start_time": "2021-10-02T22:07:07.423Z"
   },
   {
    "duration": 37,
    "start_time": "2021-10-02T22:07:07.452Z"
   },
   {
    "duration": 29,
    "start_time": "2021-10-02T22:14:24.094Z"
   },
   {
    "duration": 1213,
    "start_time": "2021-10-02T22:19:04.984Z"
   },
   {
    "duration": 49,
    "start_time": "2021-10-02T22:19:06.199Z"
   },
   {
    "duration": 8,
    "start_time": "2021-10-02T22:19:06.251Z"
   },
   {
    "duration": 11,
    "start_time": "2021-10-02T22:19:06.261Z"
   },
   {
    "duration": 4,
    "start_time": "2021-10-02T22:19:06.274Z"
   },
   {
    "duration": 30,
    "start_time": "2021-10-02T22:19:06.279Z"
   },
   {
    "duration": 41,
    "start_time": "2021-10-02T22:19:06.311Z"
   },
   {
    "duration": 8,
    "start_time": "2021-10-02T22:19:06.354Z"
   },
   {
    "duration": 7,
    "start_time": "2021-10-02T22:19:06.365Z"
   },
   {
    "duration": 27,
    "start_time": "2021-10-02T22:19:06.373Z"
   },
   {
    "duration": 2,
    "start_time": "2021-10-02T22:19:06.401Z"
   },
   {
    "duration": 7,
    "start_time": "2021-10-02T22:19:06.405Z"
   },
   {
    "duration": 42,
    "start_time": "2021-10-02T22:19:06.413Z"
   },
   {
    "duration": 5,
    "start_time": "2021-10-02T22:19:06.457Z"
   },
   {
    "duration": 6,
    "start_time": "2021-10-02T22:19:06.463Z"
   },
   {
    "duration": 33,
    "start_time": "2021-10-02T22:19:06.471Z"
   },
   {
    "duration": 679,
    "start_time": "2021-10-02T22:22:40.299Z"
   },
   {
    "duration": 642,
    "start_time": "2021-10-02T22:25:43.811Z"
   },
   {
    "duration": 661,
    "start_time": "2021-10-02T22:27:01.690Z"
   },
   {
    "duration": 143,
    "start_time": "2021-10-02T22:27:33.608Z"
   },
   {
    "duration": 125,
    "start_time": "2021-10-02T22:28:06.426Z"
   },
   {
    "duration": 657,
    "start_time": "2021-10-02T22:28:17.592Z"
   },
   {
    "duration": 633,
    "start_time": "2021-10-02T22:28:58.528Z"
   },
   {
    "duration": 76,
    "start_time": "2021-10-02T22:29:24.920Z"
   },
   {
    "duration": 618,
    "start_time": "2021-10-02T22:29:31.680Z"
   },
   {
    "duration": 3,
    "start_time": "2021-10-02T22:31:32.016Z"
   },
   {
    "duration": 637,
    "start_time": "2021-10-02T22:31:53.816Z"
   },
   {
    "duration": 5,
    "start_time": "2021-10-02T22:32:21.304Z"
   },
   {
    "duration": 668,
    "start_time": "2021-10-02T22:35:06.583Z"
   },
   {
    "duration": 651,
    "start_time": "2021-10-02T22:37:13.151Z"
   },
   {
    "duration": 3,
    "start_time": "2021-10-02T22:38:42.319Z"
   },
   {
    "duration": 752,
    "start_time": "2021-10-02T22:38:52.103Z"
   },
   {
    "duration": 3,
    "start_time": "2021-10-02T22:39:25.518Z"
   },
   {
    "duration": 799,
    "start_time": "2021-10-02T22:39:26.054Z"
   },
   {
    "duration": 4,
    "start_time": "2021-10-02T22:41:00.151Z"
   },
   {
    "duration": 795,
    "start_time": "2021-10-02T22:41:01.262Z"
   },
   {
    "duration": 4,
    "start_time": "2021-10-02T22:41:45.557Z"
   },
   {
    "duration": 745,
    "start_time": "2021-10-02T22:41:46.023Z"
   },
   {
    "duration": 3,
    "start_time": "2021-10-02T22:42:31.262Z"
   },
   {
    "duration": 619,
    "start_time": "2021-10-02T22:42:31.847Z"
   },
   {
    "duration": 3,
    "start_time": "2021-10-02T22:43:40.822Z"
   },
   {
    "duration": 806,
    "start_time": "2021-10-02T22:43:41.349Z"
   },
   {
    "duration": 3,
    "start_time": "2021-10-02T22:44:20.791Z"
   },
   {
    "duration": 768,
    "start_time": "2021-10-02T22:44:21.317Z"
   },
   {
    "duration": 4,
    "start_time": "2021-10-02T22:44:33.197Z"
   },
   {
    "duration": 771,
    "start_time": "2021-10-02T22:44:33.686Z"
   },
   {
    "duration": 4,
    "start_time": "2021-10-02T22:45:29.757Z"
   },
   {
    "duration": 763,
    "start_time": "2021-10-02T22:45:30.198Z"
   },
   {
    "duration": 254,
    "start_time": "2021-10-02T22:48:19.549Z"
   },
   {
    "duration": 688,
    "start_time": "2021-10-02T22:48:38.612Z"
   },
   {
    "duration": 267,
    "start_time": "2021-10-02T22:48:39.413Z"
   },
   {
    "duration": 598,
    "start_time": "2021-10-02T22:49:08.790Z"
   },
   {
    "duration": 804,
    "start_time": "2021-10-02T22:49:53.247Z"
   },
   {
    "duration": 3,
    "start_time": "2021-10-02T22:49:56.678Z"
   },
   {
    "duration": 806,
    "start_time": "2021-10-02T22:49:57.549Z"
   },
   {
    "duration": 879,
    "start_time": "2021-10-02T22:50:23.677Z"
   },
   {
    "duration": 893,
    "start_time": "2021-10-02T22:50:37.358Z"
   },
   {
    "duration": 771,
    "start_time": "2021-10-02T22:51:38.285Z"
   },
   {
    "duration": 847,
    "start_time": "2021-10-02T22:51:50.702Z"
   },
   {
    "duration": 870,
    "start_time": "2021-10-02T22:52:57.684Z"
   },
   {
    "duration": 967,
    "start_time": "2021-10-02T22:53:17.189Z"
   },
   {
    "duration": 787,
    "start_time": "2021-10-02T22:53:30.069Z"
   },
   {
    "duration": 4,
    "start_time": "2021-10-02T22:54:17.564Z"
   },
   {
    "duration": 230,
    "start_time": "2021-10-02T22:55:55.493Z"
   },
   {
    "duration": 809,
    "start_time": "2021-10-02T22:56:21.949Z"
   },
   {
    "duration": 1106,
    "start_time": "2021-10-02T22:57:33.388Z"
   },
   {
    "duration": 48,
    "start_time": "2021-10-02T22:57:34.497Z"
   },
   {
    "duration": 8,
    "start_time": "2021-10-02T22:57:34.547Z"
   },
   {
    "duration": 11,
    "start_time": "2021-10-02T22:57:34.557Z"
   },
   {
    "duration": 4,
    "start_time": "2021-10-02T22:57:34.570Z"
   },
   {
    "duration": 31,
    "start_time": "2021-10-02T22:57:34.575Z"
   },
   {
    "duration": 17,
    "start_time": "2021-10-02T22:57:34.607Z"
   },
   {
    "duration": 6,
    "start_time": "2021-10-02T22:57:34.651Z"
   },
   {
    "duration": 7,
    "start_time": "2021-10-02T22:57:34.659Z"
   },
   {
    "duration": 30,
    "start_time": "2021-10-02T22:57:34.668Z"
   },
   {
    "duration": 2,
    "start_time": "2021-10-02T22:57:34.700Z"
   },
   {
    "duration": 7,
    "start_time": "2021-10-02T22:57:34.704Z"
   },
   {
    "duration": 41,
    "start_time": "2021-10-02T22:57:34.713Z"
   },
   {
    "duration": 7,
    "start_time": "2021-10-02T22:57:34.755Z"
   },
   {
    "duration": 6,
    "start_time": "2021-10-02T22:57:34.764Z"
   },
   {
    "duration": 34,
    "start_time": "2021-10-02T22:57:34.771Z"
   },
   {
    "duration": 4,
    "start_time": "2021-10-02T22:57:34.807Z"
   },
   {
    "duration": 939,
    "start_time": "2021-10-02T22:57:34.813Z"
   },
   {
    "duration": 97,
    "start_time": "2021-10-02T22:57:35.754Z"
   },
   {
    "duration": 795,
    "start_time": "2021-10-02T22:58:45.358Z"
   },
   {
    "duration": 768,
    "start_time": "2021-10-02T22:58:58.695Z"
   },
   {
    "duration": 781,
    "start_time": "2021-10-02T22:59:08.672Z"
   },
   {
    "duration": 30,
    "start_time": "2021-10-02T23:01:49.920Z"
   },
   {
    "duration": 1144,
    "start_time": "2021-10-02T23:02:07.560Z"
   },
   {
    "duration": 49,
    "start_time": "2021-10-02T23:02:08.706Z"
   },
   {
    "duration": 9,
    "start_time": "2021-10-02T23:02:08.756Z"
   },
   {
    "duration": 13,
    "start_time": "2021-10-02T23:02:08.766Z"
   },
   {
    "duration": 4,
    "start_time": "2021-10-02T23:02:08.781Z"
   },
   {
    "duration": 33,
    "start_time": "2021-10-02T23:02:08.786Z"
   },
   {
    "duration": 41,
    "start_time": "2021-10-02T23:02:08.820Z"
   },
   {
    "duration": 5,
    "start_time": "2021-10-02T23:02:08.864Z"
   },
   {
    "duration": 12,
    "start_time": "2021-10-02T23:02:08.871Z"
   },
   {
    "duration": 28,
    "start_time": "2021-10-02T23:02:08.885Z"
   },
   {
    "duration": 2,
    "start_time": "2021-10-02T23:02:08.914Z"
   },
   {
    "duration": 6,
    "start_time": "2021-10-02T23:02:08.918Z"
   },
   {
    "duration": 34,
    "start_time": "2021-10-02T23:02:08.926Z"
   },
   {
    "duration": 6,
    "start_time": "2021-10-02T23:02:08.962Z"
   },
   {
    "duration": 7,
    "start_time": "2021-10-02T23:02:08.970Z"
   },
   {
    "duration": 36,
    "start_time": "2021-10-02T23:02:08.978Z"
   },
   {
    "duration": 3,
    "start_time": "2021-10-02T23:02:09.016Z"
   },
   {
    "duration": 835,
    "start_time": "2021-10-02T23:02:09.021Z"
   },
   {
    "duration": 94,
    "start_time": "2021-10-02T23:02:09.859Z"
   },
   {
    "duration": 34,
    "start_time": "2021-10-02T23:03:36.831Z"
   },
   {
    "duration": 1122,
    "start_time": "2021-10-02T23:03:42.479Z"
   },
   {
    "duration": 50,
    "start_time": "2021-10-02T23:03:43.603Z"
   },
   {
    "duration": 9,
    "start_time": "2021-10-02T23:03:43.655Z"
   },
   {
    "duration": 13,
    "start_time": "2021-10-02T23:03:43.666Z"
   },
   {
    "duration": 6,
    "start_time": "2021-10-02T23:03:43.680Z"
   },
   {
    "duration": 31,
    "start_time": "2021-10-02T23:03:43.687Z"
   },
   {
    "duration": 47,
    "start_time": "2021-10-02T23:03:43.719Z"
   },
   {
    "duration": 6,
    "start_time": "2021-10-02T23:03:43.770Z"
   },
   {
    "duration": 9,
    "start_time": "2021-10-02T23:03:43.778Z"
   },
   {
    "duration": 29,
    "start_time": "2021-10-02T23:03:43.789Z"
   },
   {
    "duration": 2,
    "start_time": "2021-10-02T23:03:43.820Z"
   },
   {
    "duration": 5,
    "start_time": "2021-10-02T23:03:43.849Z"
   },
   {
    "duration": 15,
    "start_time": "2021-10-02T23:03:43.855Z"
   },
   {
    "duration": 6,
    "start_time": "2021-10-02T23:03:43.872Z"
   },
   {
    "duration": 9,
    "start_time": "2021-10-02T23:03:43.879Z"
   },
   {
    "duration": 41,
    "start_time": "2021-10-02T23:03:43.890Z"
   },
   {
    "duration": 18,
    "start_time": "2021-10-02T23:03:43.932Z"
   },
   {
    "duration": 806,
    "start_time": "2021-10-02T23:03:43.951Z"
   },
   {
    "duration": 99,
    "start_time": "2021-10-02T23:03:44.850Z"
   },
   {
    "duration": 1103,
    "start_time": "2021-10-02T23:04:52.797Z"
   },
   {
    "duration": 50,
    "start_time": "2021-10-02T23:04:53.901Z"
   },
   {
    "duration": 9,
    "start_time": "2021-10-02T23:04:53.953Z"
   },
   {
    "duration": 11,
    "start_time": "2021-10-02T23:04:53.964Z"
   },
   {
    "duration": 4,
    "start_time": "2021-10-02T23:04:53.977Z"
   },
   {
    "duration": 31,
    "start_time": "2021-10-02T23:04:53.982Z"
   },
   {
    "duration": 42,
    "start_time": "2021-10-02T23:04:54.015Z"
   },
   {
    "duration": 6,
    "start_time": "2021-10-02T23:04:54.059Z"
   },
   {
    "duration": 7,
    "start_time": "2021-10-02T23:04:54.067Z"
   },
   {
    "duration": 27,
    "start_time": "2021-10-02T23:04:54.075Z"
   },
   {
    "duration": 2,
    "start_time": "2021-10-02T23:04:54.104Z"
   },
   {
    "duration": 8,
    "start_time": "2021-10-02T23:04:54.108Z"
   },
   {
    "duration": 42,
    "start_time": "2021-10-02T23:04:54.117Z"
   },
   {
    "duration": 6,
    "start_time": "2021-10-02T23:04:54.161Z"
   },
   {
    "duration": 5,
    "start_time": "2021-10-02T23:04:54.169Z"
   },
   {
    "duration": 35,
    "start_time": "2021-10-02T23:04:54.175Z"
   },
   {
    "duration": 3,
    "start_time": "2021-10-02T23:04:54.212Z"
   },
   {
    "duration": 837,
    "start_time": "2021-10-02T23:04:54.217Z"
   },
   {
    "duration": 96,
    "start_time": "2021-10-02T23:04:55.057Z"
   },
   {
    "duration": 323,
    "start_time": "2021-10-02T23:08:47.104Z"
   },
   {
    "duration": 231,
    "start_time": "2021-10-02T23:08:52.216Z"
   },
   {
    "duration": 78,
    "start_time": "2021-10-02T23:08:58.993Z"
   },
   {
    "duration": 4,
    "start_time": "2021-10-02T23:09:03.560Z"
   },
   {
    "duration": 4,
    "start_time": "2021-10-02T23:10:40.625Z"
   },
   {
    "duration": 844,
    "start_time": "2021-10-02T23:11:21.505Z"
   },
   {
    "duration": 764,
    "start_time": "2021-10-02T23:11:43.792Z"
   },
   {
    "duration": 742,
    "start_time": "2021-10-02T23:15:38.519Z"
   },
   {
    "duration": 742,
    "start_time": "2021-10-02T23:17:17.424Z"
   },
   {
    "duration": 861,
    "start_time": "2021-10-02T23:19:39.495Z"
   },
   {
    "duration": 805,
    "start_time": "2021-10-02T23:20:20.454Z"
   },
   {
    "duration": 892,
    "start_time": "2021-10-02T23:20:38.358Z"
   },
   {
    "duration": 861,
    "start_time": "2021-10-02T23:21:05.592Z"
   },
   {
    "duration": 75,
    "start_time": "2021-10-02T23:21:25.311Z"
   },
   {
    "duration": 868,
    "start_time": "2021-10-02T23:21:30.685Z"
   },
   {
    "duration": 826,
    "start_time": "2021-10-02T23:21:47.230Z"
   },
   {
    "duration": 1156,
    "start_time": "2021-10-02T23:22:15.239Z"
   },
   {
    "duration": 50,
    "start_time": "2021-10-02T23:22:16.397Z"
   },
   {
    "duration": 8,
    "start_time": "2021-10-02T23:22:16.449Z"
   },
   {
    "duration": 12,
    "start_time": "2021-10-02T23:22:16.459Z"
   },
   {
    "duration": 4,
    "start_time": "2021-10-02T23:22:16.473Z"
   },
   {
    "duration": 28,
    "start_time": "2021-10-02T23:22:16.478Z"
   },
   {
    "duration": 42,
    "start_time": "2021-10-02T23:22:16.508Z"
   },
   {
    "duration": 6,
    "start_time": "2021-10-02T23:22:16.553Z"
   },
   {
    "duration": 7,
    "start_time": "2021-10-02T23:22:16.561Z"
   },
   {
    "duration": 25,
    "start_time": "2021-10-02T23:22:16.570Z"
   },
   {
    "duration": 3,
    "start_time": "2021-10-02T23:22:16.596Z"
   },
   {
    "duration": 7,
    "start_time": "2021-10-02T23:22:16.600Z"
   },
   {
    "duration": 43,
    "start_time": "2021-10-02T23:22:16.608Z"
   },
   {
    "duration": 6,
    "start_time": "2021-10-02T23:22:16.653Z"
   },
   {
    "duration": 6,
    "start_time": "2021-10-02T23:22:16.661Z"
   },
   {
    "duration": 35,
    "start_time": "2021-10-02T23:22:16.668Z"
   },
   {
    "duration": 4,
    "start_time": "2021-10-02T23:22:16.705Z"
   },
   {
    "duration": 845,
    "start_time": "2021-10-02T23:22:16.711Z"
   },
   {
    "duration": 95,
    "start_time": "2021-10-02T23:22:17.558Z"
   },
   {
    "duration": 96,
    "start_time": "2021-10-02T23:22:17.656Z"
   },
   {
    "duration": 313,
    "start_time": "2021-10-02T23:23:55.242Z"
   },
   {
    "duration": 7386,
    "start_time": "2021-10-02T23:24:05.169Z"
   },
   {
    "duration": 940,
    "start_time": "2021-10-02T23:24:16.912Z"
   },
   {
    "duration": 805,
    "start_time": "2021-10-02T23:27:35.753Z"
   },
   {
    "duration": 1256,
    "start_time": "2021-10-02T23:28:31.338Z"
   },
   {
    "duration": 50,
    "start_time": "2021-10-02T23:28:32.596Z"
   },
   {
    "duration": 6,
    "start_time": "2021-10-02T23:28:32.648Z"
   },
   {
    "duration": 13,
    "start_time": "2021-10-02T23:28:32.656Z"
   },
   {
    "duration": 5,
    "start_time": "2021-10-02T23:28:32.670Z"
   },
   {
    "duration": 37,
    "start_time": "2021-10-02T23:28:32.676Z"
   },
   {
    "duration": 39,
    "start_time": "2021-10-02T23:28:32.714Z"
   },
   {
    "duration": 7,
    "start_time": "2021-10-02T23:28:32.754Z"
   },
   {
    "duration": 7,
    "start_time": "2021-10-02T23:28:32.763Z"
   },
   {
    "duration": 26,
    "start_time": "2021-10-02T23:28:32.772Z"
   },
   {
    "duration": 2,
    "start_time": "2021-10-02T23:28:32.800Z"
   },
   {
    "duration": 7,
    "start_time": "2021-10-02T23:28:32.804Z"
   },
   {
    "duration": 42,
    "start_time": "2021-10-02T23:28:32.812Z"
   },
   {
    "duration": 5,
    "start_time": "2021-10-02T23:28:32.855Z"
   },
   {
    "duration": 7,
    "start_time": "2021-10-02T23:28:32.862Z"
   },
   {
    "duration": 36,
    "start_time": "2021-10-02T23:28:32.871Z"
   },
   {
    "duration": 3,
    "start_time": "2021-10-02T23:28:32.909Z"
   },
   {
    "duration": 943,
    "start_time": "2021-10-02T23:28:32.913Z"
   },
   {
    "duration": 94,
    "start_time": "2021-10-02T23:28:33.858Z"
   },
   {
    "duration": 98,
    "start_time": "2021-10-02T23:28:33.955Z"
   },
   {
    "duration": 1807,
    "start_time": "2021-10-02T23:29:32.717Z"
   },
   {
    "duration": 52,
    "start_time": "2021-10-02T23:29:34.527Z"
   },
   {
    "duration": 6,
    "start_time": "2021-10-02T23:29:34.580Z"
   },
   {
    "duration": 12,
    "start_time": "2021-10-02T23:29:34.588Z"
   },
   {
    "duration": 4,
    "start_time": "2021-10-02T23:29:34.602Z"
   },
   {
    "duration": 52,
    "start_time": "2021-10-02T23:29:34.607Z"
   },
   {
    "duration": 16,
    "start_time": "2021-10-02T23:29:34.661Z"
   },
   {
    "duration": 6,
    "start_time": "2021-10-02T23:29:34.679Z"
   },
   {
    "duration": 8,
    "start_time": "2021-10-02T23:29:34.686Z"
   },
   {
    "duration": 27,
    "start_time": "2021-10-02T23:29:34.696Z"
   },
   {
    "duration": 24,
    "start_time": "2021-10-02T23:29:34.725Z"
   },
   {
    "duration": 7,
    "start_time": "2021-10-02T23:29:34.751Z"
   },
   {
    "duration": 15,
    "start_time": "2021-10-02T23:29:34.759Z"
   },
   {
    "duration": 5,
    "start_time": "2021-10-02T23:29:34.775Z"
   },
   {
    "duration": 10,
    "start_time": "2021-10-02T23:29:34.782Z"
   },
   {
    "duration": 56,
    "start_time": "2021-10-02T23:29:34.794Z"
   },
   {
    "duration": 3,
    "start_time": "2021-10-02T23:29:34.852Z"
   },
   {
    "duration": 993,
    "start_time": "2021-10-02T23:29:34.856Z"
   },
   {
    "duration": 7,
    "start_time": "2021-10-02T23:29:35.852Z"
   },
   {
    "duration": 4,
    "start_time": "2021-10-02T23:29:35.950Z"
   },
   {
    "duration": 1112,
    "start_time": "2021-10-02T23:29:57.880Z"
   },
   {
    "duration": 51,
    "start_time": "2021-10-02T23:29:58.994Z"
   },
   {
    "duration": 7,
    "start_time": "2021-10-02T23:29:59.047Z"
   },
   {
    "duration": 39,
    "start_time": "2021-10-02T23:29:59.056Z"
   },
   {
    "duration": 14,
    "start_time": "2021-10-02T23:29:59.097Z"
   },
   {
    "duration": 51,
    "start_time": "2021-10-02T23:29:59.113Z"
   },
   {
    "duration": 19,
    "start_time": "2021-10-02T23:29:59.166Z"
   },
   {
    "duration": 7,
    "start_time": "2021-10-02T23:29:59.188Z"
   },
   {
    "duration": 31,
    "start_time": "2021-10-02T23:29:59.197Z"
   },
   {
    "duration": 56,
    "start_time": "2021-10-02T23:29:59.230Z"
   },
   {
    "duration": 14,
    "start_time": "2021-10-02T23:29:59.288Z"
   },
   {
    "duration": 26,
    "start_time": "2021-10-02T23:29:59.304Z"
   },
   {
    "duration": 35,
    "start_time": "2021-10-02T23:29:59.332Z"
   },
   {
    "duration": 6,
    "start_time": "2021-10-02T23:29:59.368Z"
   },
   {
    "duration": 30,
    "start_time": "2021-10-02T23:29:59.376Z"
   },
   {
    "duration": 62,
    "start_time": "2021-10-02T23:29:59.408Z"
   },
   {
    "duration": 3,
    "start_time": "2021-10-02T23:29:59.471Z"
   },
   {
    "duration": 973,
    "start_time": "2021-10-02T23:29:59.476Z"
   },
   {
    "duration": 97,
    "start_time": "2021-10-02T23:30:00.452Z"
   },
   {
    "duration": 4,
    "start_time": "2021-10-02T23:30:00.552Z"
   },
   {
    "duration": 1154,
    "start_time": "2021-10-02T23:30:43.347Z"
   },
   {
    "duration": 49,
    "start_time": "2021-10-02T23:30:44.503Z"
   },
   {
    "duration": 7,
    "start_time": "2021-10-02T23:30:44.553Z"
   },
   {
    "duration": 13,
    "start_time": "2021-10-02T23:30:44.561Z"
   },
   {
    "duration": 4,
    "start_time": "2021-10-02T23:30:44.576Z"
   },
   {
    "duration": 29,
    "start_time": "2021-10-02T23:30:44.582Z"
   },
   {
    "duration": 46,
    "start_time": "2021-10-02T23:30:44.612Z"
   },
   {
    "duration": 7,
    "start_time": "2021-10-02T23:30:44.660Z"
   },
   {
    "duration": 8,
    "start_time": "2021-10-02T23:30:44.668Z"
   },
   {
    "duration": 27,
    "start_time": "2021-10-02T23:30:44.678Z"
   },
   {
    "duration": 2,
    "start_time": "2021-10-02T23:30:44.706Z"
   },
   {
    "duration": 8,
    "start_time": "2021-10-02T23:30:44.710Z"
   },
   {
    "duration": 38,
    "start_time": "2021-10-02T23:30:44.719Z"
   },
   {
    "duration": 5,
    "start_time": "2021-10-02T23:30:44.759Z"
   },
   {
    "duration": 6,
    "start_time": "2021-10-02T23:30:44.766Z"
   },
   {
    "duration": 37,
    "start_time": "2021-10-02T23:30:44.773Z"
   },
   {
    "duration": 3,
    "start_time": "2021-10-02T23:30:44.812Z"
   },
   {
    "duration": 939,
    "start_time": "2021-10-02T23:30:44.817Z"
   },
   {
    "duration": 98,
    "start_time": "2021-10-02T23:30:45.758Z"
   },
   {
    "duration": 100,
    "start_time": "2021-10-02T23:30:45.858Z"
   },
   {
    "duration": 1116,
    "start_time": "2021-10-02T23:32:01.375Z"
   },
   {
    "duration": 52,
    "start_time": "2021-10-02T23:32:02.493Z"
   },
   {
    "duration": 8,
    "start_time": "2021-10-02T23:32:02.547Z"
   },
   {
    "duration": 39,
    "start_time": "2021-10-02T23:32:02.557Z"
   },
   {
    "duration": 18,
    "start_time": "2021-10-02T23:32:02.598Z"
   },
   {
    "duration": 52,
    "start_time": "2021-10-02T23:32:02.618Z"
   },
   {
    "duration": 17,
    "start_time": "2021-10-02T23:32:02.672Z"
   },
   {
    "duration": 17,
    "start_time": "2021-10-02T23:32:02.691Z"
   },
   {
    "duration": 37,
    "start_time": "2021-10-02T23:32:02.710Z"
   },
   {
    "duration": 47,
    "start_time": "2021-10-02T23:32:02.748Z"
   },
   {
    "duration": 6,
    "start_time": "2021-10-02T23:32:02.797Z"
   },
   {
    "duration": 39,
    "start_time": "2021-10-02T23:32:02.804Z"
   },
   {
    "duration": 28,
    "start_time": "2021-10-02T23:32:02.845Z"
   },
   {
    "duration": 23,
    "start_time": "2021-10-02T23:32:02.875Z"
   },
   {
    "duration": 17,
    "start_time": "2021-10-02T23:32:02.899Z"
   },
   {
    "duration": 50,
    "start_time": "2021-10-02T23:32:02.918Z"
   },
   {
    "duration": 3,
    "start_time": "2021-10-02T23:32:02.970Z"
   },
   {
    "duration": 975,
    "start_time": "2021-10-02T23:32:02.974Z"
   },
   {
    "duration": 97,
    "start_time": "2021-10-02T23:32:03.952Z"
   },
   {
    "duration": 5,
    "start_time": "2021-10-02T23:32:04.051Z"
   },
   {
    "duration": 1091,
    "start_time": "2021-10-02T23:32:37.210Z"
   },
   {
    "duration": 49,
    "start_time": "2021-10-02T23:32:38.302Z"
   },
   {
    "duration": 8,
    "start_time": "2021-10-02T23:32:38.353Z"
   },
   {
    "duration": 11,
    "start_time": "2021-10-02T23:32:38.363Z"
   },
   {
    "duration": 4,
    "start_time": "2021-10-02T23:32:38.376Z"
   },
   {
    "duration": 32,
    "start_time": "2021-10-02T23:32:38.381Z"
   },
   {
    "duration": 47,
    "start_time": "2021-10-02T23:32:38.415Z"
   },
   {
    "duration": 6,
    "start_time": "2021-10-02T23:32:38.464Z"
   },
   {
    "duration": 8,
    "start_time": "2021-10-02T23:32:38.472Z"
   },
   {
    "duration": 27,
    "start_time": "2021-10-02T23:32:38.481Z"
   },
   {
    "duration": 2,
    "start_time": "2021-10-02T23:32:38.509Z"
   },
   {
    "duration": 7,
    "start_time": "2021-10-02T23:32:38.513Z"
   },
   {
    "duration": 39,
    "start_time": "2021-10-02T23:32:38.521Z"
   },
   {
    "duration": 5,
    "start_time": "2021-10-02T23:32:38.562Z"
   },
   {
    "duration": 8,
    "start_time": "2021-10-02T23:32:38.568Z"
   },
   {
    "duration": 36,
    "start_time": "2021-10-02T23:32:38.578Z"
   },
   {
    "duration": 3,
    "start_time": "2021-10-02T23:32:38.616Z"
   },
   {
    "duration": 833,
    "start_time": "2021-10-02T23:32:38.621Z"
   },
   {
    "duration": 97,
    "start_time": "2021-10-02T23:32:39.456Z"
   },
   {
    "duration": 95,
    "start_time": "2021-10-02T23:32:39.556Z"
   },
   {
    "duration": 4,
    "start_time": "2021-10-02T23:38:52.395Z"
   },
   {
    "duration": 320,
    "start_time": "2021-10-02T23:40:01.837Z"
   },
   {
    "duration": 5,
    "start_time": "2021-10-02T23:40:17.272Z"
   },
   {
    "duration": 6,
    "start_time": "2021-10-02T23:40:22.515Z"
   },
   {
    "duration": 4,
    "start_time": "2021-10-02T23:40:46.548Z"
   },
   {
    "duration": 6,
    "start_time": "2021-10-02T23:40:51.108Z"
   },
   {
    "duration": 3,
    "start_time": "2021-10-02T23:42:44.148Z"
   },
   {
    "duration": 5,
    "start_time": "2021-10-02T23:42:44.787Z"
   },
   {
    "duration": 1346,
    "start_time": "2021-10-02T23:43:11.780Z"
   },
   {
    "duration": 4,
    "start_time": "2021-10-02T23:43:26.203Z"
   },
   {
    "duration": 4,
    "start_time": "2021-10-02T23:44:05.533Z"
   },
   {
    "duration": 6,
    "start_time": "2021-10-02T23:44:09.804Z"
   },
   {
    "duration": 7,
    "start_time": "2021-10-02T23:44:36.644Z"
   },
   {
    "duration": 6,
    "start_time": "2021-10-02T23:44:47.001Z"
   },
   {
    "duration": 4,
    "start_time": "2021-10-02T23:44:54.651Z"
   },
   {
    "duration": 5,
    "start_time": "2021-10-02T23:44:57.738Z"
   },
   {
    "duration": 4,
    "start_time": "2021-10-02T23:45:17.324Z"
   },
   {
    "duration": 7,
    "start_time": "2021-10-02T23:45:20.450Z"
   },
   {
    "duration": 4,
    "start_time": "2021-10-02T23:46:04.939Z"
   },
   {
    "duration": 4,
    "start_time": "2021-10-02T23:46:05.450Z"
   },
   {
    "duration": 4,
    "start_time": "2021-10-02T23:46:06.338Z"
   },
   {
    "duration": 4,
    "start_time": "2021-10-02T23:46:25.155Z"
   },
   {
    "duration": 7,
    "start_time": "2021-10-02T23:46:27.244Z"
   },
   {
    "duration": 3,
    "start_time": "2021-10-02T23:48:41.555Z"
   },
   {
    "duration": 6,
    "start_time": "2021-10-02T23:48:50.202Z"
   },
   {
    "duration": 3,
    "start_time": "2021-10-02T23:50:18.227Z"
   },
   {
    "duration": 5,
    "start_time": "2021-10-02T23:50:21.226Z"
   },
   {
    "duration": 3,
    "start_time": "2021-10-02T23:50:25.423Z"
   },
   {
    "duration": 5,
    "start_time": "2021-10-02T23:50:27.267Z"
   },
   {
    "duration": 5,
    "start_time": "2021-10-02T23:50:34.370Z"
   },
   {
    "duration": 3,
    "start_time": "2021-10-02T23:53:29.954Z"
   },
   {
    "duration": 5,
    "start_time": "2021-10-02T23:53:31.226Z"
   },
   {
    "duration": 4,
    "start_time": "2021-10-02T23:57:47.802Z"
   },
   {
    "duration": 532,
    "start_time": "2021-10-02T23:58:26.632Z"
   },
   {
    "duration": 4,
    "start_time": "2021-10-02T23:58:54.066Z"
   },
   {
    "duration": 9,
    "start_time": "2021-10-02T23:58:55.936Z"
   },
   {
    "duration": 7,
    "start_time": "2021-10-02T23:59:05.536Z"
   },
   {
    "duration": 5,
    "start_time": "2021-10-03T00:02:16.001Z"
   },
   {
    "duration": 194,
    "start_time": "2021-10-03T00:02:17.256Z"
   },
   {
    "duration": 6,
    "start_time": "2021-10-03T00:02:19.672Z"
   },
   {
    "duration": 1109,
    "start_time": "2021-10-03T00:04:27.593Z"
   },
   {
    "duration": 51,
    "start_time": "2021-10-03T00:04:28.704Z"
   },
   {
    "duration": 9,
    "start_time": "2021-10-03T00:04:28.758Z"
   },
   {
    "duration": 13,
    "start_time": "2021-10-03T00:04:28.769Z"
   },
   {
    "duration": 5,
    "start_time": "2021-10-03T00:04:28.784Z"
   },
   {
    "duration": 29,
    "start_time": "2021-10-03T00:04:28.791Z"
   },
   {
    "duration": 16,
    "start_time": "2021-10-03T00:04:28.850Z"
   },
   {
    "duration": 6,
    "start_time": "2021-10-03T00:04:28.868Z"
   },
   {
    "duration": 6,
    "start_time": "2021-10-03T00:04:28.876Z"
   },
   {
    "duration": 25,
    "start_time": "2021-10-03T00:04:28.884Z"
   },
   {
    "duration": 2,
    "start_time": "2021-10-03T00:04:28.911Z"
   },
   {
    "duration": 36,
    "start_time": "2021-10-03T00:04:28.914Z"
   },
   {
    "duration": 12,
    "start_time": "2021-10-03T00:04:28.952Z"
   },
   {
    "duration": 6,
    "start_time": "2021-10-03T00:04:28.965Z"
   },
   {
    "duration": 6,
    "start_time": "2021-10-03T00:04:28.973Z"
   },
   {
    "duration": 36,
    "start_time": "2021-10-03T00:04:28.981Z"
   },
   {
    "duration": 4,
    "start_time": "2021-10-03T00:04:29.019Z"
   },
   {
    "duration": 827,
    "start_time": "2021-10-03T00:04:29.025Z"
   },
   {
    "duration": 96,
    "start_time": "2021-10-03T00:04:29.854Z"
   },
   {
    "duration": 402,
    "start_time": "2021-10-03T00:04:29.952Z"
   },
   {
    "duration": 99,
    "start_time": "2021-10-03T00:04:30.356Z"
   },
   {
    "duration": 591,
    "start_time": "2021-10-03T00:06:59.695Z"
   },
   {
    "duration": 1179,
    "start_time": "2021-10-03T00:08:14.516Z"
   },
   {
    "duration": 49,
    "start_time": "2021-10-03T00:08:15.697Z"
   },
   {
    "duration": 8,
    "start_time": "2021-10-03T00:08:15.748Z"
   },
   {
    "duration": 12,
    "start_time": "2021-10-03T00:08:15.758Z"
   },
   {
    "duration": 5,
    "start_time": "2021-10-03T00:08:15.771Z"
   },
   {
    "duration": 32,
    "start_time": "2021-10-03T00:08:15.777Z"
   },
   {
    "duration": 42,
    "start_time": "2021-10-03T00:08:15.810Z"
   },
   {
    "duration": 6,
    "start_time": "2021-10-03T00:08:15.855Z"
   },
   {
    "duration": 8,
    "start_time": "2021-10-03T00:08:15.864Z"
   },
   {
    "duration": 27,
    "start_time": "2021-10-03T00:08:15.874Z"
   },
   {
    "duration": 2,
    "start_time": "2021-10-03T00:08:15.903Z"
   },
   {
    "duration": 7,
    "start_time": "2021-10-03T00:08:15.907Z"
   },
   {
    "duration": 43,
    "start_time": "2021-10-03T00:08:15.916Z"
   },
   {
    "duration": 5,
    "start_time": "2021-10-03T00:08:15.961Z"
   },
   {
    "duration": 6,
    "start_time": "2021-10-03T00:08:15.968Z"
   },
   {
    "duration": 39,
    "start_time": "2021-10-03T00:08:15.976Z"
   },
   {
    "duration": 38,
    "start_time": "2021-10-03T00:08:16.016Z"
   },
   {
    "duration": 613,
    "start_time": "2021-10-03T00:08:16.056Z"
   },
   {
    "duration": 20,
    "start_time": "2021-10-03T00:08:16.671Z"
   },
   {
    "duration": 4,
    "start_time": "2021-10-03T00:08:16.693Z"
   },
   {
    "duration": 354,
    "start_time": "2021-10-03T00:08:16.699Z"
   },
   {
    "duration": 99,
    "start_time": "2021-10-03T00:08:17.055Z"
   },
   {
    "duration": 4,
    "start_time": "2021-10-03T00:13:12.856Z"
   },
   {
    "duration": 5,
    "start_time": "2021-10-03T00:16:16.827Z"
   },
   {
    "duration": 559,
    "start_time": "2021-10-03T00:16:19.297Z"
   },
   {
    "duration": 5,
    "start_time": "2021-10-03T00:18:21.386Z"
   },
   {
    "duration": 462,
    "start_time": "2021-10-03T00:18:26.401Z"
   },
   {
    "duration": 5,
    "start_time": "2021-10-03T00:18:40.049Z"
   },
   {
    "duration": 331,
    "start_time": "2021-10-03T00:18:40.624Z"
   },
   {
    "duration": 8,
    "start_time": "2021-10-03T00:18:42.591Z"
   },
   {
    "duration": 421,
    "start_time": "2021-10-03T00:19:59.329Z"
   },
   {
    "duration": 351,
    "start_time": "2021-10-03T00:20:21.801Z"
   },
   {
    "duration": 419,
    "start_time": "2021-10-03T00:20:40.331Z"
   },
   {
    "duration": 5,
    "start_time": "2021-10-03T00:21:17.738Z"
   },
   {
    "duration": 294,
    "start_time": "2021-10-03T00:21:19.161Z"
   },
   {
    "duration": 5,
    "start_time": "2021-10-03T00:22:14.648Z"
   },
   {
    "duration": 371,
    "start_time": "2021-10-03T00:22:15.680Z"
   },
   {
    "duration": 5,
    "start_time": "2021-10-03T00:22:39.353Z"
   },
   {
    "duration": 398,
    "start_time": "2021-10-03T00:22:40.952Z"
   },
   {
    "duration": 5,
    "start_time": "2021-10-03T00:23:13.912Z"
   },
   {
    "duration": 353,
    "start_time": "2021-10-03T00:23:14.504Z"
   },
   {
    "duration": 5,
    "start_time": "2021-10-03T00:25:11.408Z"
   },
   {
    "duration": 414,
    "start_time": "2021-10-03T00:25:11.935Z"
   },
   {
    "duration": 386,
    "start_time": "2021-10-03T00:25:29.864Z"
   },
   {
    "duration": 1113,
    "start_time": "2021-10-03T00:30:05.987Z"
   },
   {
    "duration": 50,
    "start_time": "2021-10-03T00:30:07.102Z"
   },
   {
    "duration": 7,
    "start_time": "2021-10-03T00:30:07.154Z"
   },
   {
    "duration": 18,
    "start_time": "2021-10-03T00:30:07.163Z"
   },
   {
    "duration": 4,
    "start_time": "2021-10-03T00:30:07.183Z"
   },
   {
    "duration": 30,
    "start_time": "2021-10-03T00:30:07.188Z"
   },
   {
    "duration": 34,
    "start_time": "2021-10-03T00:30:07.220Z"
   },
   {
    "duration": 6,
    "start_time": "2021-10-03T00:30:07.256Z"
   },
   {
    "duration": 8,
    "start_time": "2021-10-03T00:30:07.264Z"
   },
   {
    "duration": 28,
    "start_time": "2021-10-03T00:30:07.273Z"
   },
   {
    "duration": 2,
    "start_time": "2021-10-03T00:30:07.302Z"
   },
   {
    "duration": 9,
    "start_time": "2021-10-03T00:30:07.306Z"
   },
   {
    "duration": 38,
    "start_time": "2021-10-03T00:30:07.317Z"
   },
   {
    "duration": 6,
    "start_time": "2021-10-03T00:30:07.357Z"
   },
   {
    "duration": 7,
    "start_time": "2021-10-03T00:30:07.364Z"
   },
   {
    "duration": 37,
    "start_time": "2021-10-03T00:30:07.373Z"
   },
   {
    "duration": 41,
    "start_time": "2021-10-03T00:30:07.412Z"
   },
   {
    "duration": 561,
    "start_time": "2021-10-03T00:30:07.454Z"
   },
   {
    "duration": 15,
    "start_time": "2021-10-03T00:30:08.017Z"
   },
   {
    "duration": 15,
    "start_time": "2021-10-03T00:30:08.034Z"
   },
   {
    "duration": 305,
    "start_time": "2021-10-03T00:30:08.051Z"
   },
   {
    "duration": 332,
    "start_time": "2021-10-03T00:36:35.616Z"
   },
   {
    "duration": 1140,
    "start_time": "2021-10-03T00:36:45.047Z"
   },
   {
    "duration": 49,
    "start_time": "2021-10-03T00:36:46.189Z"
   },
   {
    "duration": 9,
    "start_time": "2021-10-03T00:36:46.240Z"
   },
   {
    "duration": 16,
    "start_time": "2021-10-03T00:36:46.250Z"
   },
   {
    "duration": 4,
    "start_time": "2021-10-03T00:36:46.267Z"
   },
   {
    "duration": 32,
    "start_time": "2021-10-03T00:36:46.273Z"
   },
   {
    "duration": 42,
    "start_time": "2021-10-03T00:36:46.308Z"
   },
   {
    "duration": 7,
    "start_time": "2021-10-03T00:36:46.353Z"
   },
   {
    "duration": 7,
    "start_time": "2021-10-03T00:36:46.362Z"
   },
   {
    "duration": 27,
    "start_time": "2021-10-03T00:36:46.371Z"
   },
   {
    "duration": 3,
    "start_time": "2021-10-03T00:36:46.399Z"
   },
   {
    "duration": 7,
    "start_time": "2021-10-03T00:36:46.403Z"
   },
   {
    "duration": 44,
    "start_time": "2021-10-03T00:36:46.411Z"
   },
   {
    "duration": 7,
    "start_time": "2021-10-03T00:36:46.456Z"
   },
   {
    "duration": 4,
    "start_time": "2021-10-03T00:36:46.464Z"
   },
   {
    "duration": 34,
    "start_time": "2021-10-03T00:36:46.469Z"
   },
   {
    "duration": 46,
    "start_time": "2021-10-03T00:36:46.504Z"
   },
   {
    "duration": 564,
    "start_time": "2021-10-03T00:36:46.552Z"
   },
   {
    "duration": 17,
    "start_time": "2021-10-03T00:36:47.118Z"
   },
   {
    "duration": 16,
    "start_time": "2021-10-03T00:36:47.136Z"
   },
   {
    "duration": 5,
    "start_time": "2021-10-03T00:36:47.153Z"
   },
   {
    "duration": 397,
    "start_time": "2021-10-03T00:36:47.159Z"
   },
   {
    "duration": 457,
    "start_time": "2021-10-03T00:37:29.702Z"
   },
   {
    "duration": 1143,
    "start_time": "2021-10-03T00:38:58.154Z"
   },
   {
    "duration": 48,
    "start_time": "2021-10-03T00:38:59.299Z"
   },
   {
    "duration": 7,
    "start_time": "2021-10-03T00:38:59.349Z"
   },
   {
    "duration": 11,
    "start_time": "2021-10-03T00:38:59.358Z"
   },
   {
    "duration": 4,
    "start_time": "2021-10-03T00:38:59.370Z"
   },
   {
    "duration": 30,
    "start_time": "2021-10-03T00:38:59.376Z"
   },
   {
    "duration": 41,
    "start_time": "2021-10-03T00:38:59.408Z"
   },
   {
    "duration": 6,
    "start_time": "2021-10-03T00:38:59.452Z"
   },
   {
    "duration": 7,
    "start_time": "2021-10-03T00:38:59.460Z"
   },
   {
    "duration": 27,
    "start_time": "2021-10-03T00:38:59.469Z"
   },
   {
    "duration": 2,
    "start_time": "2021-10-03T00:38:59.498Z"
   },
   {
    "duration": 7,
    "start_time": "2021-10-03T00:38:59.502Z"
   },
   {
    "duration": 19,
    "start_time": "2021-10-03T00:38:59.510Z"
   },
   {
    "duration": 6,
    "start_time": "2021-10-03T00:38:59.549Z"
   },
   {
    "duration": 3,
    "start_time": "2021-10-03T00:38:59.557Z"
   },
   {
    "duration": 36,
    "start_time": "2021-10-03T00:38:59.562Z"
   },
   {
    "duration": 23,
    "start_time": "2021-10-03T00:38:59.600Z"
   },
   {
    "duration": 587,
    "start_time": "2021-10-03T00:38:59.625Z"
   },
   {
    "duration": 18,
    "start_time": "2021-10-03T00:39:00.213Z"
   },
   {
    "duration": 18,
    "start_time": "2021-10-03T00:39:00.233Z"
   },
   {
    "duration": 7,
    "start_time": "2021-10-03T00:39:00.252Z"
   },
   {
    "duration": 406,
    "start_time": "2021-10-03T00:39:00.261Z"
   },
   {
    "duration": 1134,
    "start_time": "2021-10-03T00:41:06.159Z"
   },
   {
    "duration": 49,
    "start_time": "2021-10-03T00:41:07.295Z"
   },
   {
    "duration": 8,
    "start_time": "2021-10-03T00:41:07.346Z"
   },
   {
    "duration": 13,
    "start_time": "2021-10-03T00:41:07.355Z"
   },
   {
    "duration": 5,
    "start_time": "2021-10-03T00:41:07.369Z"
   },
   {
    "duration": 33,
    "start_time": "2021-10-03T00:41:07.375Z"
   },
   {
    "duration": 17,
    "start_time": "2021-10-03T00:41:07.409Z"
   },
   {
    "duration": 6,
    "start_time": "2021-10-03T00:41:07.450Z"
   },
   {
    "duration": 10,
    "start_time": "2021-10-03T00:41:07.459Z"
   },
   {
    "duration": 31,
    "start_time": "2021-10-03T00:41:07.471Z"
   },
   {
    "duration": 3,
    "start_time": "2021-10-03T00:41:07.503Z"
   },
   {
    "duration": 8,
    "start_time": "2021-10-03T00:41:07.507Z"
   },
   {
    "duration": 38,
    "start_time": "2021-10-03T00:41:07.516Z"
   },
   {
    "duration": 6,
    "start_time": "2021-10-03T00:41:07.555Z"
   },
   {
    "duration": 4,
    "start_time": "2021-10-03T00:41:07.563Z"
   },
   {
    "duration": 38,
    "start_time": "2021-10-03T00:41:07.569Z"
   },
   {
    "duration": 25,
    "start_time": "2021-10-03T00:41:07.608Z"
   },
   {
    "duration": 570,
    "start_time": "2021-10-03T00:41:07.649Z"
   },
   {
    "duration": 18,
    "start_time": "2021-10-03T00:41:08.221Z"
   },
   {
    "duration": 5,
    "start_time": "2021-10-03T00:41:08.249Z"
   },
   {
    "duration": 5,
    "start_time": "2021-10-03T00:41:08.255Z"
   },
   {
    "duration": 407,
    "start_time": "2021-10-03T00:41:08.262Z"
   },
   {
    "duration": 1135,
    "start_time": "2021-10-03T20:46:32.217Z"
   },
   {
    "duration": 45,
    "start_time": "2021-10-03T20:46:33.354Z"
   },
   {
    "duration": 8,
    "start_time": "2021-10-03T20:46:33.401Z"
   },
   {
    "duration": 13,
    "start_time": "2021-10-03T20:46:33.411Z"
   },
   {
    "duration": 5,
    "start_time": "2021-10-03T20:46:33.425Z"
   },
   {
    "duration": 36,
    "start_time": "2021-10-03T20:46:33.432Z"
   },
   {
    "duration": 16,
    "start_time": "2021-10-03T20:46:33.470Z"
   },
   {
    "duration": 6,
    "start_time": "2021-10-03T20:46:33.489Z"
   },
   {
    "duration": 7,
    "start_time": "2021-10-03T20:46:33.497Z"
   },
   {
    "duration": 57,
    "start_time": "2021-10-03T20:46:33.506Z"
   },
   {
    "duration": 2,
    "start_time": "2021-10-03T20:46:33.565Z"
   },
   {
    "duration": 5,
    "start_time": "2021-10-03T20:46:33.569Z"
   },
   {
    "duration": 13,
    "start_time": "2021-10-03T20:46:33.576Z"
   },
   {
    "duration": 7,
    "start_time": "2021-10-03T20:46:33.590Z"
   },
   {
    "duration": 4,
    "start_time": "2021-10-03T20:46:33.598Z"
   },
   {
    "duration": 59,
    "start_time": "2021-10-03T20:46:33.604Z"
   },
   {
    "duration": 25,
    "start_time": "2021-10-03T20:46:33.665Z"
   },
   {
    "duration": 558,
    "start_time": "2021-10-03T20:46:33.692Z"
   },
   {
    "duration": 17,
    "start_time": "2021-10-03T20:46:34.252Z"
   },
   {
    "duration": 5,
    "start_time": "2021-10-03T20:46:34.270Z"
   },
   {
    "duration": 7,
    "start_time": "2021-10-03T20:46:34.277Z"
   },
   {
    "duration": 478,
    "start_time": "2021-10-03T20:46:34.286Z"
   },
   {
    "duration": 1496,
    "start_time": "2021-10-04T14:03:36.522Z"
   },
   {
    "duration": 48,
    "start_time": "2021-10-04T14:03:38.020Z"
   },
   {
    "duration": 9,
    "start_time": "2021-10-04T14:03:38.071Z"
   },
   {
    "duration": 16,
    "start_time": "2021-10-04T14:03:38.083Z"
   },
   {
    "duration": 12,
    "start_time": "2021-10-04T14:03:38.101Z"
   },
   {
    "duration": 47,
    "start_time": "2021-10-04T14:03:38.115Z"
   },
   {
    "duration": 22,
    "start_time": "2021-10-04T14:03:38.163Z"
   },
   {
    "duration": 6,
    "start_time": "2021-10-04T14:03:38.188Z"
   },
   {
    "duration": 21,
    "start_time": "2021-10-04T14:03:38.196Z"
   },
   {
    "duration": 44,
    "start_time": "2021-10-04T14:03:38.219Z"
   },
   {
    "duration": 2,
    "start_time": "2021-10-04T14:03:38.265Z"
   },
   {
    "duration": 26,
    "start_time": "2021-10-04T14:03:38.269Z"
   },
   {
    "duration": 29,
    "start_time": "2021-10-04T14:03:38.298Z"
   },
   {
    "duration": 21,
    "start_time": "2021-10-04T14:03:38.329Z"
   },
   {
    "duration": 15,
    "start_time": "2021-10-04T14:03:38.352Z"
   },
   {
    "duration": 52,
    "start_time": "2021-10-04T14:03:38.369Z"
   },
   {
    "duration": 28,
    "start_time": "2021-10-04T14:03:38.423Z"
   },
   {
    "duration": 624,
    "start_time": "2021-10-04T14:03:38.453Z"
   },
   {
    "duration": 16,
    "start_time": "2021-10-04T14:03:39.079Z"
   },
   {
    "duration": 6,
    "start_time": "2021-10-04T14:03:39.097Z"
   },
   {
    "duration": 20,
    "start_time": "2021-10-04T14:03:39.105Z"
   },
   {
    "duration": 576,
    "start_time": "2021-10-04T14:03:39.127Z"
   },
   {
    "duration": 540,
    "start_time": "2021-10-04T14:16:02.094Z"
   },
   {
    "duration": 14,
    "start_time": "2021-10-04T14:16:38.660Z"
   },
   {
    "duration": 177,
    "start_time": "2021-10-04T14:16:44.111Z"
   },
   {
    "duration": 238,
    "start_time": "2021-10-04T14:17:19.790Z"
   },
   {
    "duration": 46,
    "start_time": "2021-10-04T14:18:12.957Z"
   },
   {
    "duration": 169,
    "start_time": "2021-10-04T14:18:13.710Z"
   },
   {
    "duration": 63,
    "start_time": "2021-10-04T14:19:42.452Z"
   },
   {
    "duration": 186,
    "start_time": "2021-10-04T14:19:43.044Z"
   },
   {
    "duration": 41,
    "start_time": "2021-10-04T14:19:54.843Z"
   },
   {
    "duration": 169,
    "start_time": "2021-10-04T14:19:55.347Z"
   },
   {
    "duration": 45,
    "start_time": "2021-10-04T14:20:10.293Z"
   },
   {
    "duration": 54,
    "start_time": "2021-10-04T14:20:21.684Z"
   },
   {
    "duration": 5,
    "start_time": "2021-10-04T14:21:39.331Z"
   },
   {
    "duration": 6,
    "start_time": "2021-10-04T14:22:57.500Z"
   },
   {
    "duration": 1264,
    "start_time": "2021-10-04T14:26:49.875Z"
   },
   {
    "duration": 56,
    "start_time": "2021-10-04T14:26:51.141Z"
   },
   {
    "duration": 10,
    "start_time": "2021-10-04T14:26:51.200Z"
   },
   {
    "duration": 11,
    "start_time": "2021-10-04T14:26:51.213Z"
   },
   {
    "duration": 4,
    "start_time": "2021-10-04T14:26:51.226Z"
   },
   {
    "duration": 54,
    "start_time": "2021-10-04T14:26:51.231Z"
   },
   {
    "duration": 27,
    "start_time": "2021-10-04T14:26:51.287Z"
   },
   {
    "duration": 6,
    "start_time": "2021-10-04T14:26:51.316Z"
   },
   {
    "duration": 7,
    "start_time": "2021-10-04T14:26:51.324Z"
   },
   {
    "duration": 58,
    "start_time": "2021-10-04T14:26:51.332Z"
   },
   {
    "duration": 3,
    "start_time": "2021-10-04T14:26:51.392Z"
   },
   {
    "duration": 6,
    "start_time": "2021-10-04T14:26:51.397Z"
   },
   {
    "duration": 14,
    "start_time": "2021-10-04T14:26:51.404Z"
   },
   {
    "duration": 6,
    "start_time": "2021-10-04T14:26:51.420Z"
   },
   {
    "duration": 5,
    "start_time": "2021-10-04T14:26:51.427Z"
   },
   {
    "duration": 82,
    "start_time": "2021-10-04T14:26:51.435Z"
   },
   {
    "duration": 25,
    "start_time": "2021-10-04T14:26:51.518Z"
   },
   {
    "duration": 663,
    "start_time": "2021-10-04T14:26:51.545Z"
   },
   {
    "duration": 17,
    "start_time": "2021-10-04T14:26:52.210Z"
   },
   {
    "duration": 4,
    "start_time": "2021-10-04T14:26:52.228Z"
   },
   {
    "duration": 5,
    "start_time": "2021-10-04T14:26:52.234Z"
   },
   {
    "duration": 455,
    "start_time": "2021-10-04T14:26:52.241Z"
   },
   {
    "duration": 40,
    "start_time": "2021-10-04T14:26:52.701Z"
   },
   {
    "duration": 223,
    "start_time": "2021-10-04T14:26:52.743Z"
   },
   {
    "duration": 10,
    "start_time": "2021-10-04T14:26:52.967Z"
   },
   {
    "duration": 48,
    "start_time": "2021-10-04T14:26:52.979Z"
   },
   {
    "duration": 1380,
    "start_time": "2021-10-04T14:27:59.861Z"
   },
   {
    "duration": 60,
    "start_time": "2021-10-04T14:28:01.244Z"
   },
   {
    "duration": 9,
    "start_time": "2021-10-04T14:28:01.307Z"
   },
   {
    "duration": 14,
    "start_time": "2021-10-04T14:28:01.318Z"
   },
   {
    "duration": 7,
    "start_time": "2021-10-04T14:28:01.334Z"
   },
   {
    "duration": 47,
    "start_time": "2021-10-04T14:28:01.343Z"
   },
   {
    "duration": 18,
    "start_time": "2021-10-04T14:28:01.392Z"
   },
   {
    "duration": 9,
    "start_time": "2021-10-04T14:28:01.413Z"
   },
   {
    "duration": 12,
    "start_time": "2021-10-04T14:28:01.425Z"
   },
   {
    "duration": 61,
    "start_time": "2021-10-04T14:28:01.439Z"
   },
   {
    "duration": 3,
    "start_time": "2021-10-04T14:28:01.502Z"
   },
   {
    "duration": 24,
    "start_time": "2021-10-04T14:28:01.507Z"
   },
   {
    "duration": 26,
    "start_time": "2021-10-04T14:28:01.533Z"
   },
   {
    "duration": 18,
    "start_time": "2021-10-04T14:28:01.561Z"
   },
   {
    "duration": 19,
    "start_time": "2021-10-04T14:28:01.582Z"
   },
   {
    "duration": 55,
    "start_time": "2021-10-04T14:28:01.603Z"
   },
   {
    "duration": 32,
    "start_time": "2021-10-04T14:28:01.660Z"
   },
   {
    "duration": 627,
    "start_time": "2021-10-04T14:28:01.694Z"
   },
   {
    "duration": 19,
    "start_time": "2021-10-04T14:28:02.323Z"
   },
   {
    "duration": 4,
    "start_time": "2021-10-04T14:28:02.344Z"
   },
   {
    "duration": 29,
    "start_time": "2021-10-04T14:28:02.350Z"
   },
   {
    "duration": 302,
    "start_time": "2021-10-04T14:28:02.381Z"
   },
   {
    "duration": 41,
    "start_time": "2021-10-04T14:28:02.692Z"
   },
   {
    "duration": 205,
    "start_time": "2021-10-04T14:28:02.735Z"
   },
   {
    "duration": 4,
    "start_time": "2021-10-04T14:28:02.942Z"
   },
   {
    "duration": 75,
    "start_time": "2021-10-04T14:28:02.948Z"
   },
   {
    "duration": 1206,
    "start_time": "2021-10-04T14:29:42.421Z"
   },
   {
    "duration": 51,
    "start_time": "2021-10-04T14:29:43.629Z"
   },
   {
    "duration": 11,
    "start_time": "2021-10-04T14:29:43.683Z"
   },
   {
    "duration": 20,
    "start_time": "2021-10-04T14:29:43.696Z"
   },
   {
    "duration": 5,
    "start_time": "2021-10-04T14:29:43.717Z"
   },
   {
    "duration": 44,
    "start_time": "2021-10-04T14:29:43.723Z"
   },
   {
    "duration": 22,
    "start_time": "2021-10-04T14:29:43.769Z"
   },
   {
    "duration": 8,
    "start_time": "2021-10-04T14:29:43.795Z"
   },
   {
    "duration": 22,
    "start_time": "2021-10-04T14:29:43.805Z"
   },
   {
    "duration": 44,
    "start_time": "2021-10-04T14:29:43.828Z"
   },
   {
    "duration": 4,
    "start_time": "2021-10-04T14:29:43.877Z"
   },
   {
    "duration": 18,
    "start_time": "2021-10-04T14:29:43.883Z"
   },
   {
    "duration": 29,
    "start_time": "2021-10-04T14:29:43.903Z"
   },
   {
    "duration": 12,
    "start_time": "2021-10-04T14:29:43.934Z"
   },
   {
    "duration": 17,
    "start_time": "2021-10-04T14:29:43.948Z"
   },
   {
    "duration": 58,
    "start_time": "2021-10-04T14:29:43.966Z"
   },
   {
    "duration": 25,
    "start_time": "2021-10-04T14:29:44.026Z"
   },
   {
    "duration": 641,
    "start_time": "2021-10-04T14:29:44.052Z"
   },
   {
    "duration": 17,
    "start_time": "2021-10-04T14:29:44.695Z"
   },
   {
    "duration": 4,
    "start_time": "2021-10-04T14:29:44.714Z"
   },
   {
    "duration": 18,
    "start_time": "2021-10-04T14:29:44.719Z"
   },
   {
    "duration": 473,
    "start_time": "2021-10-04T14:29:44.738Z"
   },
   {
    "duration": -21186,
    "start_time": "2021-10-04T14:30:06.399Z"
   },
   {
    "duration": -21187,
    "start_time": "2021-10-04T14:30:06.401Z"
   },
   {
    "duration": -21188,
    "start_time": "2021-10-04T14:30:06.403Z"
   },
   {
    "duration": -21189,
    "start_time": "2021-10-04T14:30:06.405Z"
   },
   {
    "duration": 1241,
    "start_time": "2021-10-04T14:30:14.692Z"
   },
   {
    "duration": 51,
    "start_time": "2021-10-04T14:30:15.935Z"
   },
   {
    "duration": 11,
    "start_time": "2021-10-04T14:30:15.990Z"
   },
   {
    "duration": 13,
    "start_time": "2021-10-04T14:30:16.003Z"
   },
   {
    "duration": 4,
    "start_time": "2021-10-04T14:30:16.018Z"
   },
   {
    "duration": 57,
    "start_time": "2021-10-04T14:30:16.024Z"
   },
   {
    "duration": 26,
    "start_time": "2021-10-04T14:30:16.083Z"
   },
   {
    "duration": 6,
    "start_time": "2021-10-04T14:30:16.113Z"
   },
   {
    "duration": 8,
    "start_time": "2021-10-04T14:30:16.122Z"
   },
   {
    "duration": 62,
    "start_time": "2021-10-04T14:30:16.132Z"
   },
   {
    "duration": 3,
    "start_time": "2021-10-04T14:30:16.196Z"
   },
   {
    "duration": 6,
    "start_time": "2021-10-04T14:30:16.201Z"
   },
   {
    "duration": 18,
    "start_time": "2021-10-04T14:30:16.209Z"
   },
   {
    "duration": 8,
    "start_time": "2021-10-04T14:30:16.230Z"
   },
   {
    "duration": 6,
    "start_time": "2021-10-04T14:30:16.240Z"
   },
   {
    "duration": 78,
    "start_time": "2021-10-04T14:30:16.247Z"
   },
   {
    "duration": 26,
    "start_time": "2021-10-04T14:30:16.327Z"
   },
   {
    "duration": 670,
    "start_time": "2021-10-04T14:30:16.355Z"
   },
   {
    "duration": 17,
    "start_time": "2021-10-04T14:30:17.027Z"
   },
   {
    "duration": 5,
    "start_time": "2021-10-04T14:30:17.045Z"
   },
   {
    "duration": 26,
    "start_time": "2021-10-04T14:30:17.051Z"
   },
   {
    "duration": 315,
    "start_time": "2021-10-04T14:30:17.080Z"
   },
   {
    "duration": 41,
    "start_time": "2021-10-04T14:30:17.398Z"
   },
   {
    "duration": 210,
    "start_time": "2021-10-04T14:30:17.441Z"
   },
   {
    "duration": 5,
    "start_time": "2021-10-04T14:30:17.653Z"
   },
   {
    "duration": 53,
    "start_time": "2021-10-04T14:30:17.660Z"
   },
   {
    "duration": 51,
    "start_time": "2021-10-04T14:32:32.677Z"
   },
   {
    "duration": 230,
    "start_time": "2021-10-04T14:33:08.870Z"
   },
   {
    "duration": 246,
    "start_time": "2021-10-04T14:33:20.830Z"
   },
   {
    "duration": 255,
    "start_time": "2021-10-04T14:34:33.069Z"
   },
   {
    "duration": 5,
    "start_time": "2021-10-04T14:35:52.123Z"
   },
   {
    "duration": 218,
    "start_time": "2021-10-04T14:36:15.506Z"
   },
   {
    "duration": 472,
    "start_time": "2021-10-04T14:36:35.683Z"
   },
   {
    "duration": 5,
    "start_time": "2021-10-04T14:36:41.516Z"
   },
   {
    "duration": 230,
    "start_time": "2021-10-04T14:36:43.844Z"
   },
   {
    "duration": 5,
    "start_time": "2021-10-04T14:38:50.989Z"
   },
   {
    "duration": 997,
    "start_time": "2021-10-04T14:39:56.569Z"
   },
   {
    "duration": 1374,
    "start_time": "2021-10-04T14:42:07.973Z"
   },
   {
    "duration": 63,
    "start_time": "2021-10-04T14:42:09.348Z"
   },
   {
    "duration": 8,
    "start_time": "2021-10-04T14:42:09.413Z"
   },
   {
    "duration": 14,
    "start_time": "2021-10-04T14:42:09.423Z"
   },
   {
    "duration": 4,
    "start_time": "2021-10-04T14:42:09.438Z"
   },
   {
    "duration": 29,
    "start_time": "2021-10-04T14:42:09.443Z"
   },
   {
    "duration": 25,
    "start_time": "2021-10-04T14:42:09.474Z"
   },
   {
    "duration": 9,
    "start_time": "2021-10-04T14:42:09.502Z"
   },
   {
    "duration": 7,
    "start_time": "2021-10-04T14:42:09.513Z"
   },
   {
    "duration": 28,
    "start_time": "2021-10-04T14:42:09.522Z"
   },
   {
    "duration": 3,
    "start_time": "2021-10-04T14:42:09.551Z"
   },
   {
    "duration": 6,
    "start_time": "2021-10-04T14:42:09.556Z"
   },
   {
    "duration": 18,
    "start_time": "2021-10-04T14:42:09.564Z"
   },
   {
    "duration": 10,
    "start_time": "2021-10-04T14:42:09.585Z"
   },
   {
    "duration": 4,
    "start_time": "2021-10-04T14:42:09.598Z"
   },
   {
    "duration": 40,
    "start_time": "2021-10-04T14:42:09.604Z"
   },
   {
    "duration": 25,
    "start_time": "2021-10-04T14:42:09.646Z"
   },
   {
    "duration": 857,
    "start_time": "2021-10-04T14:42:09.672Z"
   },
   {
    "duration": 18,
    "start_time": "2021-10-04T14:42:10.531Z"
   },
   {
    "duration": 5,
    "start_time": "2021-10-04T14:42:10.551Z"
   },
   {
    "duration": 14,
    "start_time": "2021-10-04T14:42:10.577Z"
   },
   {
    "duration": 404,
    "start_time": "2021-10-04T14:42:10.593Z"
   },
   {
    "duration": 919,
    "start_time": "2021-10-04T14:42:11.004Z"
   },
   {
    "duration": 1132,
    "start_time": "2021-10-04T14:49:18.576Z"
   },
   {
    "duration": 47,
    "start_time": "2021-10-04T14:49:19.710Z"
   },
   {
    "duration": 8,
    "start_time": "2021-10-04T14:49:19.759Z"
   },
   {
    "duration": 16,
    "start_time": "2021-10-04T14:49:19.769Z"
   },
   {
    "duration": 4,
    "start_time": "2021-10-04T14:49:19.787Z"
   },
   {
    "duration": 32,
    "start_time": "2021-10-04T14:49:19.792Z"
   },
   {
    "duration": 17,
    "start_time": "2021-10-04T14:49:19.825Z"
   },
   {
    "duration": 5,
    "start_time": "2021-10-04T14:49:19.845Z"
   },
   {
    "duration": 6,
    "start_time": "2021-10-04T14:49:19.877Z"
   },
   {
    "duration": 29,
    "start_time": "2021-10-04T14:49:19.885Z"
   },
   {
    "duration": 2,
    "start_time": "2021-10-04T14:49:19.915Z"
   },
   {
    "duration": 7,
    "start_time": "2021-10-04T14:49:19.919Z"
   },
   {
    "duration": 18,
    "start_time": "2021-10-04T14:49:19.927Z"
   },
   {
    "duration": 5,
    "start_time": "2021-10-04T14:49:19.946Z"
   },
   {
    "duration": 3,
    "start_time": "2021-10-04T14:49:19.976Z"
   },
   {
    "duration": 33,
    "start_time": "2021-10-04T14:49:19.981Z"
   },
   {
    "duration": 26,
    "start_time": "2021-10-04T14:49:20.016Z"
   },
   {
    "duration": 589,
    "start_time": "2021-10-04T14:49:20.044Z"
   },
   {
    "duration": 16,
    "start_time": "2021-10-04T14:49:20.635Z"
   },
   {
    "duration": 9,
    "start_time": "2021-10-04T14:49:20.653Z"
   },
   {
    "duration": 17,
    "start_time": "2021-10-04T14:49:20.664Z"
   },
   {
    "duration": 1013,
    "start_time": "2021-10-04T14:49:20.683Z"
   },
   {
    "duration": 946,
    "start_time": "2021-10-04T14:49:21.700Z"
   },
   {
    "duration": 1144,
    "start_time": "2021-10-04T14:50:23.076Z"
   },
   {
    "duration": 48,
    "start_time": "2021-10-04T14:50:24.221Z"
   },
   {
    "duration": 7,
    "start_time": "2021-10-04T14:50:24.271Z"
   },
   {
    "duration": 11,
    "start_time": "2021-10-04T14:50:24.280Z"
   },
   {
    "duration": 4,
    "start_time": "2021-10-04T14:50:24.292Z"
   },
   {
    "duration": 33,
    "start_time": "2021-10-04T14:50:24.298Z"
   },
   {
    "duration": 17,
    "start_time": "2021-10-04T14:50:24.333Z"
   },
   {
    "duration": 7,
    "start_time": "2021-10-04T14:50:24.378Z"
   },
   {
    "duration": 7,
    "start_time": "2021-10-04T14:50:24.387Z"
   },
   {
    "duration": 27,
    "start_time": "2021-10-04T14:50:24.395Z"
   },
   {
    "duration": 2,
    "start_time": "2021-10-04T14:50:24.424Z"
   },
   {
    "duration": 7,
    "start_time": "2021-10-04T14:50:24.428Z"
   },
   {
    "duration": 45,
    "start_time": "2021-10-04T14:50:24.437Z"
   },
   {
    "duration": 5,
    "start_time": "2021-10-04T14:50:24.484Z"
   },
   {
    "duration": 4,
    "start_time": "2021-10-04T14:50:24.491Z"
   },
   {
    "duration": 32,
    "start_time": "2021-10-04T14:50:24.497Z"
   },
   {
    "duration": 46,
    "start_time": "2021-10-04T14:50:24.531Z"
   },
   {
    "duration": 583,
    "start_time": "2021-10-04T14:50:24.579Z"
   },
   {
    "duration": 24,
    "start_time": "2021-10-04T14:50:25.164Z"
   },
   {
    "duration": 7,
    "start_time": "2021-10-04T14:50:25.190Z"
   },
   {
    "duration": 12,
    "start_time": "2021-10-04T14:50:25.199Z"
   },
   {
    "duration": 1073,
    "start_time": "2021-10-04T14:50:25.213Z"
   },
   {
    "duration": 865,
    "start_time": "2021-10-04T14:50:26.289Z"
   },
   {
    "duration": 1112,
    "start_time": "2021-10-04T14:51:51.805Z"
   },
   {
    "duration": 48,
    "start_time": "2021-10-04T14:51:52.919Z"
   },
   {
    "duration": 13,
    "start_time": "2021-10-04T14:51:52.970Z"
   },
   {
    "duration": 23,
    "start_time": "2021-10-04T14:51:52.985Z"
   },
   {
    "duration": 11,
    "start_time": "2021-10-04T14:51:53.010Z"
   },
   {
    "duration": 42,
    "start_time": "2021-10-04T14:51:53.023Z"
   },
   {
    "duration": 18,
    "start_time": "2021-10-04T14:51:53.067Z"
   },
   {
    "duration": 6,
    "start_time": "2021-10-04T14:51:53.088Z"
   },
   {
    "duration": 27,
    "start_time": "2021-10-04T14:51:53.096Z"
   },
   {
    "duration": 42,
    "start_time": "2021-10-04T14:51:53.125Z"
   },
   {
    "duration": 3,
    "start_time": "2021-10-04T14:51:53.169Z"
   },
   {
    "duration": 20,
    "start_time": "2021-10-04T14:51:53.174Z"
   },
   {
    "duration": 28,
    "start_time": "2021-10-04T14:51:53.196Z"
   },
   {
    "duration": 20,
    "start_time": "2021-10-04T14:51:53.226Z"
   },
   {
    "duration": 19,
    "start_time": "2021-10-04T14:51:53.247Z"
   },
   {
    "duration": 41,
    "start_time": "2021-10-04T14:51:53.267Z"
   },
   {
    "duration": 25,
    "start_time": "2021-10-04T14:51:53.310Z"
   },
   {
    "duration": 581,
    "start_time": "2021-10-04T14:51:53.337Z"
   },
   {
    "duration": 17,
    "start_time": "2021-10-04T14:51:53.919Z"
   },
   {
    "duration": 4,
    "start_time": "2021-10-04T14:51:53.938Z"
   },
   {
    "duration": 15,
    "start_time": "2021-10-04T14:51:53.944Z"
   },
   {
    "duration": 1119,
    "start_time": "2021-10-04T14:51:53.976Z"
   },
   {
    "duration": 1102,
    "start_time": "2021-10-04T14:52:40.813Z"
   },
   {
    "duration": 48,
    "start_time": "2021-10-04T14:52:41.917Z"
   },
   {
    "duration": 9,
    "start_time": "2021-10-04T14:52:41.967Z"
   },
   {
    "duration": 20,
    "start_time": "2021-10-04T14:52:41.978Z"
   },
   {
    "duration": 18,
    "start_time": "2021-10-04T14:52:42.000Z"
   },
   {
    "duration": 63,
    "start_time": "2021-10-04T14:52:42.020Z"
   },
   {
    "duration": 17,
    "start_time": "2021-10-04T14:52:42.084Z"
   },
   {
    "duration": 6,
    "start_time": "2021-10-04T14:52:42.104Z"
   },
   {
    "duration": 18,
    "start_time": "2021-10-04T14:52:42.112Z"
   },
   {
    "duration": 27,
    "start_time": "2021-10-04T14:52:42.132Z"
   },
   {
    "duration": 15,
    "start_time": "2021-10-04T14:52:42.161Z"
   },
   {
    "duration": 6,
    "start_time": "2021-10-04T14:52:42.178Z"
   },
   {
    "duration": 28,
    "start_time": "2021-10-04T14:52:42.186Z"
   },
   {
    "duration": 6,
    "start_time": "2021-10-04T14:52:42.216Z"
   },
   {
    "duration": 4,
    "start_time": "2021-10-04T14:52:42.224Z"
   },
   {
    "duration": 49,
    "start_time": "2021-10-04T14:52:42.230Z"
   },
   {
    "duration": 26,
    "start_time": "2021-10-04T14:52:42.281Z"
   },
   {
    "duration": 673,
    "start_time": "2021-10-04T14:52:42.309Z"
   },
   {
    "duration": 22,
    "start_time": "2021-10-04T14:52:42.984Z"
   },
   {
    "duration": 5,
    "start_time": "2021-10-04T14:52:43.007Z"
   },
   {
    "duration": 1196,
    "start_time": "2021-10-04T14:52:43.014Z"
   },
   {
    "duration": 1133,
    "start_time": "2021-10-04T14:54:22.984Z"
   },
   {
    "duration": 48,
    "start_time": "2021-10-04T14:54:24.119Z"
   },
   {
    "duration": 8,
    "start_time": "2021-10-04T14:54:24.169Z"
   },
   {
    "duration": 11,
    "start_time": "2021-10-04T14:54:24.179Z"
   },
   {
    "duration": 4,
    "start_time": "2021-10-04T14:54:24.192Z"
   },
   {
    "duration": 30,
    "start_time": "2021-10-04T14:54:24.198Z"
   },
   {
    "duration": 17,
    "start_time": "2021-10-04T14:54:24.229Z"
   },
   {
    "duration": 32,
    "start_time": "2021-10-04T14:54:24.248Z"
   },
   {
    "duration": 7,
    "start_time": "2021-10-04T14:54:24.282Z"
   },
   {
    "duration": 26,
    "start_time": "2021-10-04T14:54:24.290Z"
   },
   {
    "duration": 2,
    "start_time": "2021-10-04T14:54:24.318Z"
   },
   {
    "duration": 7,
    "start_time": "2021-10-04T14:54:24.321Z"
   },
   {
    "duration": 17,
    "start_time": "2021-10-04T14:54:24.330Z"
   },
   {
    "duration": 30,
    "start_time": "2021-10-04T14:54:24.349Z"
   },
   {
    "duration": 8,
    "start_time": "2021-10-04T14:54:24.381Z"
   },
   {
    "duration": 34,
    "start_time": "2021-10-04T14:54:24.391Z"
   },
   {
    "duration": 25,
    "start_time": "2021-10-04T14:54:24.427Z"
   },
   {
    "duration": 582,
    "start_time": "2021-10-04T14:54:24.453Z"
   },
   {
    "duration": 16,
    "start_time": "2021-10-04T14:54:25.037Z"
   },
   {
    "duration": 4,
    "start_time": "2021-10-04T14:54:25.054Z"
   },
   {
    "duration": 1144,
    "start_time": "2021-10-04T14:54:25.060Z"
   },
   {
    "duration": 1191,
    "start_time": "2021-10-04T15:03:32.033Z"
   },
   {
    "duration": 49,
    "start_time": "2021-10-04T15:03:33.226Z"
   },
   {
    "duration": 8,
    "start_time": "2021-10-04T15:03:33.277Z"
   },
   {
    "duration": 15,
    "start_time": "2021-10-04T15:03:33.287Z"
   },
   {
    "duration": 5,
    "start_time": "2021-10-04T15:03:33.304Z"
   },
   {
    "duration": 37,
    "start_time": "2021-10-04T15:03:33.311Z"
   },
   {
    "duration": 33,
    "start_time": "2021-10-04T15:03:33.350Z"
   },
   {
    "duration": 6,
    "start_time": "2021-10-04T15:03:33.386Z"
   },
   {
    "duration": 14,
    "start_time": "2021-10-04T15:03:33.394Z"
   },
   {
    "duration": 32,
    "start_time": "2021-10-04T15:03:33.410Z"
   },
   {
    "duration": 3,
    "start_time": "2021-10-04T15:03:33.443Z"
   },
   {
    "duration": 18,
    "start_time": "2021-10-04T15:03:33.447Z"
   },
   {
    "duration": 21,
    "start_time": "2021-10-04T15:03:33.467Z"
   },
   {
    "duration": 10,
    "start_time": "2021-10-04T15:03:33.490Z"
   },
   {
    "duration": 8,
    "start_time": "2021-10-04T15:03:33.501Z"
   },
   {
    "duration": 36,
    "start_time": "2021-10-04T15:03:33.511Z"
   },
   {
    "duration": 37,
    "start_time": "2021-10-04T15:03:33.548Z"
   },
   {
    "duration": 579,
    "start_time": "2021-10-04T15:03:33.586Z"
   },
   {
    "duration": 20,
    "start_time": "2021-10-04T15:03:34.167Z"
   },
   {
    "duration": 4,
    "start_time": "2021-10-04T15:03:34.189Z"
   },
   {
    "duration": 1185,
    "start_time": "2021-10-04T15:03:34.195Z"
   },
   {
    "duration": 7,
    "start_time": "2021-10-04T15:04:33.250Z"
   },
   {
    "duration": 1186,
    "start_time": "2021-10-04T15:10:19.034Z"
   },
   {
    "duration": 51,
    "start_time": "2021-10-04T15:10:20.222Z"
   },
   {
    "duration": 8,
    "start_time": "2021-10-04T15:10:20.275Z"
   },
   {
    "duration": 12,
    "start_time": "2021-10-04T15:10:20.285Z"
   },
   {
    "duration": 4,
    "start_time": "2021-10-04T15:10:20.299Z"
   },
   {
    "duration": 29,
    "start_time": "2021-10-04T15:10:20.305Z"
   },
   {
    "duration": 42,
    "start_time": "2021-10-04T15:10:20.336Z"
   },
   {
    "duration": 6,
    "start_time": "2021-10-04T15:10:20.380Z"
   },
   {
    "duration": 9,
    "start_time": "2021-10-04T15:10:20.388Z"
   },
   {
    "duration": 28,
    "start_time": "2021-10-04T15:10:20.399Z"
   },
   {
    "duration": 2,
    "start_time": "2021-10-04T15:10:20.429Z"
   },
   {
    "duration": 8,
    "start_time": "2021-10-04T15:10:20.433Z"
   },
   {
    "duration": 43,
    "start_time": "2021-10-04T15:10:20.443Z"
   },
   {
    "duration": 6,
    "start_time": "2021-10-04T15:10:20.488Z"
   },
   {
    "duration": 6,
    "start_time": "2021-10-04T15:10:20.495Z"
   },
   {
    "duration": 36,
    "start_time": "2021-10-04T15:10:20.502Z"
   },
   {
    "duration": 41,
    "start_time": "2021-10-04T15:10:20.540Z"
   },
   {
    "duration": 587,
    "start_time": "2021-10-04T15:10:20.583Z"
   },
   {
    "duration": 19,
    "start_time": "2021-10-04T15:10:21.172Z"
   },
   {
    "duration": 33,
    "start_time": "2021-10-04T15:10:21.193Z"
   },
   {
    "duration": 1069,
    "start_time": "2021-10-04T15:10:21.228Z"
   },
   {
    "duration": 1122,
    "start_time": "2021-10-04T15:10:55.084Z"
   },
   {
    "duration": 46,
    "start_time": "2021-10-04T15:10:56.208Z"
   },
   {
    "duration": 8,
    "start_time": "2021-10-04T15:10:56.256Z"
   },
   {
    "duration": 14,
    "start_time": "2021-10-04T15:10:56.266Z"
   },
   {
    "duration": 4,
    "start_time": "2021-10-04T15:10:56.282Z"
   },
   {
    "duration": 30,
    "start_time": "2021-10-04T15:10:56.287Z"
   },
   {
    "duration": 16,
    "start_time": "2021-10-04T15:10:56.319Z"
   },
   {
    "duration": 6,
    "start_time": "2021-10-04T15:10:56.337Z"
   },
   {
    "duration": 33,
    "start_time": "2021-10-04T15:10:56.345Z"
   },
   {
    "duration": 27,
    "start_time": "2021-10-04T15:10:56.380Z"
   },
   {
    "duration": 2,
    "start_time": "2021-10-04T15:10:56.409Z"
   },
   {
    "duration": 7,
    "start_time": "2021-10-04T15:10:56.412Z"
   },
   {
    "duration": 18,
    "start_time": "2021-10-04T15:10:56.421Z"
   },
   {
    "duration": 5,
    "start_time": "2021-10-04T15:10:56.441Z"
   },
   {
    "duration": 5,
    "start_time": "2021-10-04T15:10:56.448Z"
   },
   {
    "duration": 32,
    "start_time": "2021-10-04T15:10:56.477Z"
   },
   {
    "duration": 25,
    "start_time": "2021-10-04T15:10:56.510Z"
   },
   {
    "duration": 604,
    "start_time": "2021-10-04T15:10:56.537Z"
   },
   {
    "duration": 16,
    "start_time": "2021-10-04T15:10:57.143Z"
   },
   {
    "duration": 18,
    "start_time": "2021-10-04T15:10:57.161Z"
   },
   {
    "duration": 1110,
    "start_time": "2021-10-04T15:10:57.181Z"
   },
   {
    "duration": 1161,
    "start_time": "2021-10-04T15:36:07.648Z"
   },
   {
    "duration": 47,
    "start_time": "2021-10-04T15:36:08.811Z"
   },
   {
    "duration": 8,
    "start_time": "2021-10-04T15:36:08.860Z"
   },
   {
    "duration": 12,
    "start_time": "2021-10-04T15:36:08.870Z"
   },
   {
    "duration": 4,
    "start_time": "2021-10-04T15:36:08.883Z"
   },
   {
    "duration": 32,
    "start_time": "2021-10-04T15:36:08.889Z"
   },
   {
    "duration": 19,
    "start_time": "2021-10-04T15:36:08.923Z"
   },
   {
    "duration": 7,
    "start_time": "2021-10-04T15:36:08.945Z"
   },
   {
    "duration": 9,
    "start_time": "2021-10-04T15:36:08.954Z"
   },
   {
    "duration": 32,
    "start_time": "2021-10-04T15:36:08.965Z"
   },
   {
    "duration": 3,
    "start_time": "2021-10-04T15:36:08.998Z"
   },
   {
    "duration": 7,
    "start_time": "2021-10-04T15:36:09.002Z"
   },
   {
    "duration": 15,
    "start_time": "2021-10-04T15:36:09.011Z"
   },
   {
    "duration": 6,
    "start_time": "2021-10-04T15:36:09.028Z"
   },
   {
    "duration": 3,
    "start_time": "2021-10-04T15:36:09.036Z"
   },
   {
    "duration": 31,
    "start_time": "2021-10-04T15:36:09.041Z"
   },
   {
    "duration": 25,
    "start_time": "2021-10-04T15:36:09.074Z"
   },
   {
    "duration": 686,
    "start_time": "2021-10-04T15:36:09.101Z"
   },
   {
    "duration": 16,
    "start_time": "2021-10-04T15:36:09.788Z"
   },
   {
    "duration": 5,
    "start_time": "2021-10-04T15:36:09.805Z"
   },
   {
    "duration": 968,
    "start_time": "2021-10-04T15:36:09.811Z"
   },
   {
    "duration": 25,
    "start_time": "2021-10-04T15:36:10.781Z"
   },
   {
    "duration": 569,
    "start_time": "2021-10-04T15:36:10.808Z"
   },
   {
    "duration": 15,
    "start_time": "2021-10-04T15:36:11.379Z"
   },
   {
    "duration": 890,
    "start_time": "2021-10-04T15:36:11.396Z"
   },
   {
    "duration": 1140,
    "start_time": "2021-10-04T15:40:53.269Z"
   },
   {
    "duration": 47,
    "start_time": "2021-10-04T15:40:54.411Z"
   },
   {
    "duration": 8,
    "start_time": "2021-10-04T15:40:54.460Z"
   },
   {
    "duration": 11,
    "start_time": "2021-10-04T15:40:54.470Z"
   },
   {
    "duration": 4,
    "start_time": "2021-10-04T15:40:54.483Z"
   },
   {
    "duration": 29,
    "start_time": "2021-10-04T15:40:54.489Z"
   },
   {
    "duration": 16,
    "start_time": "2021-10-04T15:40:54.519Z"
   },
   {
    "duration": 7,
    "start_time": "2021-10-04T15:40:54.537Z"
   },
   {
    "duration": 8,
    "start_time": "2021-10-04T15:40:54.578Z"
   },
   {
    "duration": 27,
    "start_time": "2021-10-04T15:40:54.588Z"
   },
   {
    "duration": 2,
    "start_time": "2021-10-04T15:40:54.617Z"
   },
   {
    "duration": 6,
    "start_time": "2021-10-04T15:40:54.621Z"
   },
   {
    "duration": 17,
    "start_time": "2021-10-04T15:40:54.629Z"
   },
   {
    "duration": 32,
    "start_time": "2021-10-04T15:40:54.648Z"
   },
   {
    "duration": 3,
    "start_time": "2021-10-04T15:40:54.682Z"
   },
   {
    "duration": 36,
    "start_time": "2021-10-04T15:40:54.686Z"
   },
   {
    "duration": 24,
    "start_time": "2021-10-04T15:40:54.724Z"
   },
   {
    "duration": 588,
    "start_time": "2021-10-04T15:40:54.750Z"
   },
   {
    "duration": 17,
    "start_time": "2021-10-04T15:40:55.340Z"
   },
   {
    "duration": 4,
    "start_time": "2021-10-04T15:40:55.359Z"
   },
   {
    "duration": 1023,
    "start_time": "2021-10-04T15:40:55.376Z"
   },
   {
    "duration": 25,
    "start_time": "2021-10-04T15:40:56.401Z"
   },
   {
    "duration": 556,
    "start_time": "2021-10-04T15:40:56.428Z"
   },
   {
    "duration": 18,
    "start_time": "2021-10-04T15:40:56.986Z"
   },
   {
    "duration": 992,
    "start_time": "2021-10-04T15:40:57.006Z"
   },
   {
    "duration": 1123,
    "start_time": "2021-10-04T15:42:16.719Z"
   },
   {
    "duration": 47,
    "start_time": "2021-10-04T15:42:17.844Z"
   },
   {
    "duration": 8,
    "start_time": "2021-10-04T15:42:17.893Z"
   },
   {
    "duration": 12,
    "start_time": "2021-10-04T15:42:17.903Z"
   },
   {
    "duration": 4,
    "start_time": "2021-10-04T15:42:17.917Z"
   },
   {
    "duration": 29,
    "start_time": "2021-10-04T15:42:17.923Z"
   },
   {
    "duration": 36,
    "start_time": "2021-10-04T15:42:17.953Z"
   },
   {
    "duration": 6,
    "start_time": "2021-10-04T15:42:17.992Z"
   },
   {
    "duration": 11,
    "start_time": "2021-10-04T15:42:18.000Z"
   },
   {
    "duration": 28,
    "start_time": "2021-10-04T15:42:18.012Z"
   },
   {
    "duration": 2,
    "start_time": "2021-10-04T15:42:18.042Z"
   },
   {
    "duration": 9,
    "start_time": "2021-10-04T15:42:18.045Z"
   },
   {
    "duration": 14,
    "start_time": "2021-10-04T15:42:18.077Z"
   },
   {
    "duration": 4,
    "start_time": "2021-10-04T15:42:18.093Z"
   },
   {
    "duration": 5,
    "start_time": "2021-10-04T15:42:18.099Z"
   },
   {
    "duration": 34,
    "start_time": "2021-10-04T15:42:18.105Z"
   },
   {
    "duration": 45,
    "start_time": "2021-10-04T15:42:18.141Z"
   },
   {
    "duration": 574,
    "start_time": "2021-10-04T15:42:18.188Z"
   },
   {
    "duration": 21,
    "start_time": "2021-10-04T15:42:18.763Z"
   },
   {
    "duration": 4,
    "start_time": "2021-10-04T15:42:18.785Z"
   },
   {
    "duration": 999,
    "start_time": "2021-10-04T15:42:18.791Z"
   },
   {
    "duration": 25,
    "start_time": "2021-10-04T15:42:19.791Z"
   },
   {
    "duration": 573,
    "start_time": "2021-10-04T15:42:19.819Z"
   },
   {
    "duration": 17,
    "start_time": "2021-10-04T15:42:20.393Z"
   },
   {
    "duration": 989,
    "start_time": "2021-10-04T15:42:20.411Z"
   },
   {
    "duration": 1132,
    "start_time": "2021-10-04T15:44:01.209Z"
   },
   {
    "duration": 49,
    "start_time": "2021-10-04T15:44:02.343Z"
   },
   {
    "duration": 8,
    "start_time": "2021-10-04T15:44:02.397Z"
   },
   {
    "duration": 12,
    "start_time": "2021-10-04T15:44:02.406Z"
   },
   {
    "duration": 7,
    "start_time": "2021-10-04T15:44:02.420Z"
   },
   {
    "duration": 49,
    "start_time": "2021-10-04T15:44:02.429Z"
   },
   {
    "duration": 19,
    "start_time": "2021-10-04T15:44:02.481Z"
   },
   {
    "duration": 6,
    "start_time": "2021-10-04T15:44:02.502Z"
   },
   {
    "duration": 9,
    "start_time": "2021-10-04T15:44:02.509Z"
   },
   {
    "duration": 31,
    "start_time": "2021-10-04T15:44:02.520Z"
   },
   {
    "duration": 24,
    "start_time": "2021-10-04T15:44:02.553Z"
   },
   {
    "duration": 4,
    "start_time": "2021-10-04T15:44:02.579Z"
   },
   {
    "duration": 19,
    "start_time": "2021-10-04T15:44:02.585Z"
   },
   {
    "duration": 6,
    "start_time": "2021-10-04T15:44:02.606Z"
   },
   {
    "duration": 7,
    "start_time": "2021-10-04T15:44:02.613Z"
   },
   {
    "duration": 44,
    "start_time": "2021-10-04T15:44:02.621Z"
   },
   {
    "duration": 33,
    "start_time": "2021-10-04T15:44:02.667Z"
   },
   {
    "duration": 609,
    "start_time": "2021-10-04T15:44:02.702Z"
   },
   {
    "duration": 16,
    "start_time": "2021-10-04T15:44:03.312Z"
   },
   {
    "duration": 4,
    "start_time": "2021-10-04T15:44:03.330Z"
   },
   {
    "duration": 1053,
    "start_time": "2021-10-04T15:44:03.335Z"
   },
   {
    "duration": 25,
    "start_time": "2021-10-04T15:44:04.391Z"
   },
   {
    "duration": 571,
    "start_time": "2021-10-04T15:44:04.418Z"
   },
   {
    "duration": 17,
    "start_time": "2021-10-04T15:44:04.990Z"
   },
   {
    "duration": 9,
    "start_time": "2021-10-04T15:44:05.008Z"
   },
   {
    "duration": 1140,
    "start_time": "2021-10-04T15:44:05.019Z"
   },
   {
    "duration": 2,
    "start_time": "2021-10-04T15:44:48.832Z"
   },
   {
    "duration": 1035,
    "start_time": "2021-10-04T15:49:03.678Z"
   },
   {
    "duration": 707,
    "start_time": "2021-10-04T15:50:01.289Z"
   },
   {
    "duration": 621,
    "start_time": "2021-10-04T15:50:10.180Z"
   },
   {
    "duration": 819,
    "start_time": "2021-10-04T15:51:20.344Z"
   },
   {
    "duration": 1235,
    "start_time": "2021-10-04T15:51:41.664Z"
   },
   {
    "duration": 732,
    "start_time": "2021-10-04T15:52:58.400Z"
   },
   {
    "duration": 859,
    "start_time": "2021-10-04T15:53:26.904Z"
   },
   {
    "duration": 1027,
    "start_time": "2021-10-04T15:58:16.491Z"
   },
   {
    "duration": 793,
    "start_time": "2021-10-04T15:59:12.589Z"
   },
   {
    "duration": 1633,
    "start_time": "2021-10-04T16:00:30.692Z"
   },
   {
    "duration": 1285,
    "start_time": "2021-10-04T16:01:15.404Z"
   },
   {
    "duration": 1506,
    "start_time": "2021-10-04T16:01:48.786Z"
   },
   {
    "duration": 1345,
    "start_time": "2021-10-04T16:02:53.595Z"
   },
   {
    "duration": 67,
    "start_time": "2021-10-04T16:02:54.942Z"
   },
   {
    "duration": 11,
    "start_time": "2021-10-04T16:02:55.012Z"
   },
   {
    "duration": 18,
    "start_time": "2021-10-04T16:02:55.026Z"
   },
   {
    "duration": 6,
    "start_time": "2021-10-04T16:02:55.046Z"
   },
   {
    "duration": 44,
    "start_time": "2021-10-04T16:02:55.077Z"
   },
   {
    "duration": 27,
    "start_time": "2021-10-04T16:02:55.123Z"
   },
   {
    "duration": 31,
    "start_time": "2021-10-04T16:02:55.154Z"
   },
   {
    "duration": 20,
    "start_time": "2021-10-04T16:02:55.187Z"
   },
   {
    "duration": 46,
    "start_time": "2021-10-04T16:02:55.209Z"
   },
   {
    "duration": 20,
    "start_time": "2021-10-04T16:02:55.257Z"
   },
   {
    "duration": 13,
    "start_time": "2021-10-04T16:02:55.279Z"
   },
   {
    "duration": 33,
    "start_time": "2021-10-04T16:02:55.294Z"
   },
   {
    "duration": 12,
    "start_time": "2021-10-04T16:02:55.329Z"
   },
   {
    "duration": 18,
    "start_time": "2021-10-04T16:02:55.343Z"
   },
   {
    "duration": 65,
    "start_time": "2021-10-04T16:02:55.364Z"
   },
   {
    "duration": 35,
    "start_time": "2021-10-04T16:02:55.431Z"
   },
   {
    "duration": 646,
    "start_time": "2021-10-04T16:02:55.468Z"
   },
   {
    "duration": 17,
    "start_time": "2021-10-04T16:02:56.116Z"
   },
   {
    "duration": 5,
    "start_time": "2021-10-04T16:02:56.135Z"
   },
   {
    "duration": 1273,
    "start_time": "2021-10-04T16:02:56.141Z"
   },
   {
    "duration": 26,
    "start_time": "2021-10-04T16:02:57.416Z"
   },
   {
    "duration": 656,
    "start_time": "2021-10-04T16:02:57.445Z"
   },
   {
    "duration": 16,
    "start_time": "2021-10-04T16:02:58.103Z"
   },
   {
    "duration": 5,
    "start_time": "2021-10-04T16:02:58.121Z"
   },
   {
    "duration": 1374,
    "start_time": "2021-10-04T16:02:58.127Z"
   },
   {
    "duration": 1599,
    "start_time": "2021-10-04T16:20:20.156Z"
   },
   {
    "duration": 52,
    "start_time": "2021-10-04T16:20:21.758Z"
   },
   {
    "duration": 8,
    "start_time": "2021-10-04T16:20:21.812Z"
   },
   {
    "duration": 15,
    "start_time": "2021-10-04T16:20:21.822Z"
   },
   {
    "duration": 5,
    "start_time": "2021-10-04T16:20:21.838Z"
   },
   {
    "duration": 59,
    "start_time": "2021-10-04T16:20:21.844Z"
   },
   {
    "duration": 17,
    "start_time": "2021-10-04T16:20:21.906Z"
   },
   {
    "duration": 5,
    "start_time": "2021-10-04T16:20:21.926Z"
   },
   {
    "duration": 14,
    "start_time": "2021-10-04T16:20:21.934Z"
   },
   {
    "duration": 53,
    "start_time": "2021-10-04T16:20:21.950Z"
   },
   {
    "duration": 3,
    "start_time": "2021-10-04T16:20:22.005Z"
   },
   {
    "duration": 7,
    "start_time": "2021-10-04T16:20:22.009Z"
   },
   {
    "duration": 16,
    "start_time": "2021-10-04T16:20:22.018Z"
   },
   {
    "duration": 7,
    "start_time": "2021-10-04T16:20:22.036Z"
   },
   {
    "duration": 32,
    "start_time": "2021-10-04T16:20:22.045Z"
   },
   {
    "duration": 53,
    "start_time": "2021-10-04T16:20:22.080Z"
   },
   {
    "duration": 51,
    "start_time": "2021-10-04T16:20:22.136Z"
   },
   {
    "duration": 776,
    "start_time": "2021-10-04T16:20:22.189Z"
   },
   {
    "duration": 18,
    "start_time": "2021-10-04T16:20:22.967Z"
   },
   {
    "duration": 6,
    "start_time": "2021-10-04T16:20:22.986Z"
   },
   {
    "duration": 1136,
    "start_time": "2021-10-04T16:20:22.993Z"
   },
   {
    "duration": 26,
    "start_time": "2021-10-04T16:20:24.130Z"
   },
   {
    "duration": 611,
    "start_time": "2021-10-04T16:20:24.159Z"
   },
   {
    "duration": 28,
    "start_time": "2021-10-04T16:20:24.772Z"
   },
   {
    "duration": 5,
    "start_time": "2021-10-04T16:20:24.802Z"
   },
   {
    "duration": 1173,
    "start_time": "2021-10-04T16:20:24.809Z"
   },
   {
    "duration": 1100,
    "start_time": "2021-10-04T16:20:25.984Z"
   },
   {
    "duration": -21231,
    "start_time": "2021-10-04T16:20:48.319Z"
   },
   {
    "duration": 1254,
    "start_time": "2021-10-04T16:21:05.810Z"
   },
   {
    "duration": 54,
    "start_time": "2021-10-04T16:21:07.066Z"
   },
   {
    "duration": 9,
    "start_time": "2021-10-04T16:21:07.122Z"
   },
   {
    "duration": 13,
    "start_time": "2021-10-04T16:21:07.133Z"
   },
   {
    "duration": 5,
    "start_time": "2021-10-04T16:21:07.148Z"
   },
   {
    "duration": 55,
    "start_time": "2021-10-04T16:21:07.155Z"
   },
   {
    "duration": 19,
    "start_time": "2021-10-04T16:21:07.213Z"
   },
   {
    "duration": 6,
    "start_time": "2021-10-04T16:21:07.235Z"
   },
   {
    "duration": 40,
    "start_time": "2021-10-04T16:21:07.244Z"
   },
   {
    "duration": 31,
    "start_time": "2021-10-04T16:21:07.286Z"
   },
   {
    "duration": 4,
    "start_time": "2021-10-04T16:21:07.320Z"
   },
   {
    "duration": 10,
    "start_time": "2021-10-04T16:21:07.326Z"
   },
   {
    "duration": 43,
    "start_time": "2021-10-04T16:21:07.338Z"
   },
   {
    "duration": 8,
    "start_time": "2021-10-04T16:21:07.383Z"
   },
   {
    "duration": 8,
    "start_time": "2021-10-04T16:21:07.401Z"
   },
   {
    "duration": 34,
    "start_time": "2021-10-04T16:21:07.411Z"
   },
   {
    "duration": 57,
    "start_time": "2021-10-04T16:21:07.447Z"
   },
   {
    "duration": 649,
    "start_time": "2021-10-04T16:21:07.506Z"
   },
   {
    "duration": 29,
    "start_time": "2021-10-04T16:21:08.157Z"
   },
   {
    "duration": 7,
    "start_time": "2021-10-04T16:21:08.188Z"
   },
   {
    "duration": 1158,
    "start_time": "2021-10-04T16:21:08.199Z"
   },
   {
    "duration": 43,
    "start_time": "2021-10-04T16:21:09.358Z"
   },
   {
    "duration": 623,
    "start_time": "2021-10-04T16:21:09.404Z"
   },
   {
    "duration": 18,
    "start_time": "2021-10-04T16:21:10.029Z"
   },
   {
    "duration": 6,
    "start_time": "2021-10-04T16:21:10.049Z"
   },
   {
    "duration": 1445,
    "start_time": "2021-10-04T16:21:10.056Z"
   },
   {
    "duration": 12,
    "start_time": "2021-10-04T16:21:11.503Z"
   },
   {
    "duration": 20,
    "start_time": "2021-10-04T16:21:11.517Z"
   },
   {
    "duration": 1207,
    "start_time": "2021-10-04T16:23:59.519Z"
   },
   {
    "duration": 48,
    "start_time": "2021-10-04T16:24:00.728Z"
   },
   {
    "duration": 13,
    "start_time": "2021-10-04T16:24:00.779Z"
   },
   {
    "duration": 21,
    "start_time": "2021-10-04T16:24:00.795Z"
   },
   {
    "duration": 20,
    "start_time": "2021-10-04T16:24:00.818Z"
   },
   {
    "duration": 41,
    "start_time": "2021-10-04T16:24:00.840Z"
   },
   {
    "duration": 20,
    "start_time": "2021-10-04T16:24:00.883Z"
   },
   {
    "duration": 6,
    "start_time": "2021-10-04T16:24:00.905Z"
   },
   {
    "duration": 26,
    "start_time": "2021-10-04T16:24:00.914Z"
   },
   {
    "duration": 40,
    "start_time": "2021-10-04T16:24:00.942Z"
   },
   {
    "duration": 2,
    "start_time": "2021-10-04T16:24:00.985Z"
   },
   {
    "duration": 29,
    "start_time": "2021-10-04T16:24:00.989Z"
   },
   {
    "duration": 36,
    "start_time": "2021-10-04T16:24:01.020Z"
   },
   {
    "duration": 44,
    "start_time": "2021-10-04T16:24:01.058Z"
   },
   {
    "duration": 26,
    "start_time": "2021-10-04T16:24:01.104Z"
   },
   {
    "duration": 56,
    "start_time": "2021-10-04T16:24:01.132Z"
   },
   {
    "duration": 35,
    "start_time": "2021-10-04T16:24:01.191Z"
   },
   {
    "duration": 666,
    "start_time": "2021-10-04T16:24:01.228Z"
   },
   {
    "duration": 17,
    "start_time": "2021-10-04T16:24:01.896Z"
   },
   {
    "duration": 11,
    "start_time": "2021-10-04T16:24:01.915Z"
   },
   {
    "duration": 1316,
    "start_time": "2021-10-04T16:24:01.927Z"
   },
   {
    "duration": 43,
    "start_time": "2021-10-04T16:24:03.245Z"
   },
   {
    "duration": 617,
    "start_time": "2021-10-04T16:24:03.291Z"
   },
   {
    "duration": 18,
    "start_time": "2021-10-04T16:24:03.911Z"
   },
   {
    "duration": 17,
    "start_time": "2021-10-04T16:24:03.931Z"
   },
   {
    "duration": 1363,
    "start_time": "2021-10-04T16:24:03.950Z"
   },
   {
    "duration": 20,
    "start_time": "2021-10-04T16:24:05.316Z"
   },
   {
    "duration": 18,
    "start_time": "2021-10-04T16:24:05.337Z"
   },
   {
    "duration": 15,
    "start_time": "2021-10-04T16:24:41.343Z"
   },
   {
    "duration": 15,
    "start_time": "2021-10-04T16:24:52.720Z"
   },
   {
    "duration": 1280,
    "start_time": "2021-10-04T16:27:19.754Z"
   },
   {
    "duration": 61,
    "start_time": "2021-10-04T16:27:21.036Z"
   },
   {
    "duration": 10,
    "start_time": "2021-10-04T16:27:21.099Z"
   },
   {
    "duration": 17,
    "start_time": "2021-10-04T16:27:21.112Z"
   },
   {
    "duration": 6,
    "start_time": "2021-10-04T16:27:21.131Z"
   },
   {
    "duration": 63,
    "start_time": "2021-10-04T16:27:21.139Z"
   },
   {
    "duration": 18,
    "start_time": "2021-10-04T16:27:21.204Z"
   },
   {
    "duration": 8,
    "start_time": "2021-10-04T16:27:21.224Z"
   },
   {
    "duration": 8,
    "start_time": "2021-10-04T16:27:21.234Z"
   },
   {
    "duration": 64,
    "start_time": "2021-10-04T16:27:21.243Z"
   },
   {
    "duration": 2,
    "start_time": "2021-10-04T16:27:21.309Z"
   },
   {
    "duration": 15,
    "start_time": "2021-10-04T16:27:21.312Z"
   },
   {
    "duration": 16,
    "start_time": "2021-10-04T16:27:21.329Z"
   },
   {
    "duration": 6,
    "start_time": "2021-10-04T16:27:21.347Z"
   },
   {
    "duration": 11,
    "start_time": "2021-10-04T16:27:21.354Z"
   },
   {
    "duration": 50,
    "start_time": "2021-10-04T16:27:21.367Z"
   },
   {
    "duration": 35,
    "start_time": "2021-10-04T16:27:21.419Z"
   },
   {
    "duration": 669,
    "start_time": "2021-10-04T16:27:21.456Z"
   },
   {
    "duration": 21,
    "start_time": "2021-10-04T16:27:22.126Z"
   },
   {
    "duration": 4,
    "start_time": "2021-10-04T16:27:22.149Z"
   },
   {
    "duration": 1167,
    "start_time": "2021-10-04T16:27:22.155Z"
   },
   {
    "duration": 25,
    "start_time": "2021-10-04T16:27:23.324Z"
   },
   {
    "duration": 620,
    "start_time": "2021-10-04T16:27:23.352Z"
   },
   {
    "duration": 25,
    "start_time": "2021-10-04T16:27:23.977Z"
   },
   {
    "duration": 6,
    "start_time": "2021-10-04T16:27:24.004Z"
   },
   {
    "duration": 1208,
    "start_time": "2021-10-04T16:27:24.012Z"
   },
   {
    "duration": 15,
    "start_time": "2021-10-04T16:27:25.221Z"
   },
   {
    "duration": 14,
    "start_time": "2021-10-04T16:27:25.237Z"
   },
   {
    "duration": 1504,
    "start_time": "2021-10-04T20:28:52.435Z"
   },
   {
    "duration": 67,
    "start_time": "2021-10-04T20:28:53.942Z"
   },
   {
    "duration": 12,
    "start_time": "2021-10-04T20:28:54.012Z"
   },
   {
    "duration": 20,
    "start_time": "2021-10-04T20:28:54.027Z"
   },
   {
    "duration": 5,
    "start_time": "2021-10-04T20:28:54.050Z"
   },
   {
    "duration": 75,
    "start_time": "2021-10-04T20:28:54.059Z"
   },
   {
    "duration": 27,
    "start_time": "2021-10-04T20:28:54.137Z"
   },
   {
    "duration": 8,
    "start_time": "2021-10-04T20:28:54.168Z"
   },
   {
    "duration": 41,
    "start_time": "2021-10-04T20:28:54.179Z"
   },
   {
    "duration": 42,
    "start_time": "2021-10-04T20:28:54.222Z"
   },
   {
    "duration": 4,
    "start_time": "2021-10-04T20:28:54.267Z"
   },
   {
    "duration": 11,
    "start_time": "2021-10-04T20:28:54.273Z"
   },
   {
    "duration": 48,
    "start_time": "2021-10-04T20:28:54.286Z"
   },
   {
    "duration": 8,
    "start_time": "2021-10-04T20:28:54.336Z"
   },
   {
    "duration": 6,
    "start_time": "2021-10-04T20:28:54.346Z"
   },
   {
    "duration": 77,
    "start_time": "2021-10-04T20:28:54.354Z"
   },
   {
    "duration": 34,
    "start_time": "2021-10-04T20:28:54.434Z"
   },
   {
    "duration": 890,
    "start_time": "2021-10-04T20:28:54.470Z"
   },
   {
    "duration": 28,
    "start_time": "2021-10-04T20:28:55.362Z"
   },
   {
    "duration": 28,
    "start_time": "2021-10-04T20:28:55.392Z"
   },
   {
    "duration": 1694,
    "start_time": "2021-10-04T20:28:55.422Z"
   },
   {
    "duration": 34,
    "start_time": "2021-10-04T20:28:57.119Z"
   },
   {
    "duration": 951,
    "start_time": "2021-10-04T20:28:57.158Z"
   },
   {
    "duration": 29,
    "start_time": "2021-10-04T20:28:58.116Z"
   },
   {
    "duration": 6,
    "start_time": "2021-10-04T20:28:58.147Z"
   },
   {
    "duration": 1695,
    "start_time": "2021-10-04T20:28:58.155Z"
   },
   {
    "duration": 21,
    "start_time": "2021-10-04T20:28:59.852Z"
   },
   {
    "duration": 45,
    "start_time": "2021-10-04T20:28:59.875Z"
   },
   {
    "duration": 44,
    "start_time": "2021-10-04T20:28:59.922Z"
   },
   {
    "duration": 1280,
    "start_time": "2021-10-04T20:28:59.969Z"
   },
   {
    "duration": 36,
    "start_time": "2021-10-04T20:29:01.252Z"
   },
   {
    "duration": 27,
    "start_time": "2021-10-04T20:29:01.290Z"
   },
   {
    "duration": 1669,
    "start_time": "2021-10-04T20:29:01.320Z"
   },
   {
    "duration": 31,
    "start_time": "2021-10-04T20:29:02.992Z"
   },
   {
    "duration": 440,
    "start_time": "2021-10-04T20:29:03.025Z"
   },
   {
    "duration": 15,
    "start_time": "2021-10-04T20:29:03.468Z"
   },
   {
    "duration": 8,
    "start_time": "2021-10-04T20:29:03.486Z"
   },
   {
    "duration": 1581,
    "start_time": "2021-10-04T20:29:03.517Z"
   },
   {
    "duration": 1502,
    "start_time": "2021-10-04T20:31:37.265Z"
   },
   {
    "duration": 66,
    "start_time": "2021-10-04T20:31:38.770Z"
   },
   {
    "duration": 10,
    "start_time": "2021-10-04T20:31:38.839Z"
   },
   {
    "duration": 26,
    "start_time": "2021-10-04T20:31:38.852Z"
   },
   {
    "duration": 6,
    "start_time": "2021-10-04T20:31:38.880Z"
   },
   {
    "duration": 68,
    "start_time": "2021-10-04T20:31:38.889Z"
   },
   {
    "duration": 26,
    "start_time": "2021-10-04T20:31:38.959Z"
   },
   {
    "duration": 29,
    "start_time": "2021-10-04T20:31:38.989Z"
   },
   {
    "duration": 10,
    "start_time": "2021-10-04T20:31:39.021Z"
   },
   {
    "duration": 46,
    "start_time": "2021-10-04T20:31:39.034Z"
   },
   {
    "duration": 4,
    "start_time": "2021-10-04T20:31:39.116Z"
   },
   {
    "duration": 21,
    "start_time": "2021-10-04T20:31:39.123Z"
   },
   {
    "duration": 24,
    "start_time": "2021-10-04T20:31:39.147Z"
   },
   {
    "duration": 9,
    "start_time": "2021-10-04T20:31:39.173Z"
   },
   {
    "duration": 3,
    "start_time": "2021-10-04T20:31:39.185Z"
   },
   {
    "duration": 73,
    "start_time": "2021-10-04T20:31:39.191Z"
   },
   {
    "duration": 55,
    "start_time": "2021-10-04T20:31:39.267Z"
   },
   {
    "duration": 892,
    "start_time": "2021-10-04T20:31:39.325Z"
   },
   {
    "duration": 27,
    "start_time": "2021-10-04T20:31:40.220Z"
   },
   {
    "duration": 6,
    "start_time": "2021-10-04T20:31:40.250Z"
   },
   {
    "duration": 1636,
    "start_time": "2021-10-04T20:31:40.258Z"
   },
   {
    "duration": 49,
    "start_time": "2021-10-04T20:31:41.897Z"
   },
   {
    "duration": 1249,
    "start_time": "2021-10-04T20:31:41.951Z"
   },
   {
    "duration": 37,
    "start_time": "2021-10-04T20:31:43.204Z"
   },
   {
    "duration": 6,
    "start_time": "2021-10-04T20:31:43.243Z"
   },
   {
    "duration": 1576,
    "start_time": "2021-10-04T20:31:43.251Z"
   },
   {
    "duration": 20,
    "start_time": "2021-10-04T20:31:44.829Z"
   },
   {
    "duration": 21,
    "start_time": "2021-10-04T20:31:44.852Z"
   },
   {
    "duration": 78,
    "start_time": "2021-10-04T20:31:44.876Z"
   },
   {
    "duration": 1261,
    "start_time": "2021-10-04T20:31:44.956Z"
   },
   {
    "duration": 39,
    "start_time": "2021-10-04T20:31:46.220Z"
   },
   {
    "duration": 6,
    "start_time": "2021-10-04T20:31:46.262Z"
   },
   {
    "duration": 1604,
    "start_time": "2021-10-04T20:31:46.271Z"
   },
   {
    "duration": 18,
    "start_time": "2021-10-04T20:31:47.877Z"
   },
   {
    "duration": 449,
    "start_time": "2021-10-04T20:31:47.897Z"
   },
   {
    "duration": 15,
    "start_time": "2021-10-04T20:31:48.348Z"
   },
   {
    "duration": 19,
    "start_time": "2021-10-04T20:31:48.365Z"
   },
   {
    "duration": 1574,
    "start_time": "2021-10-04T20:31:48.387Z"
   },
   {
    "duration": 1514,
    "start_time": "2021-10-04T20:35:57.003Z"
   },
   {
    "duration": 68,
    "start_time": "2021-10-04T20:35:58.519Z"
   },
   {
    "duration": 11,
    "start_time": "2021-10-04T20:35:58.590Z"
   },
   {
    "duration": 18,
    "start_time": "2021-10-04T20:35:58.616Z"
   },
   {
    "duration": 5,
    "start_time": "2021-10-04T20:35:58.637Z"
   },
   {
    "duration": 46,
    "start_time": "2021-10-04T20:35:58.645Z"
   },
   {
    "duration": 28,
    "start_time": "2021-10-04T20:35:58.718Z"
   },
   {
    "duration": 9,
    "start_time": "2021-10-04T20:35:58.749Z"
   },
   {
    "duration": 15,
    "start_time": "2021-10-04T20:35:58.761Z"
   },
   {
    "duration": 72,
    "start_time": "2021-10-04T20:35:58.780Z"
   },
   {
    "duration": 3,
    "start_time": "2021-10-04T20:35:58.855Z"
   },
   {
    "duration": 7,
    "start_time": "2021-10-04T20:35:58.862Z"
   },
   {
    "duration": 58,
    "start_time": "2021-10-04T20:35:58.872Z"
   },
   {
    "duration": 9,
    "start_time": "2021-10-04T20:35:58.932Z"
   },
   {
    "duration": 7,
    "start_time": "2021-10-04T20:35:58.943Z"
   },
   {
    "duration": 73,
    "start_time": "2021-10-04T20:35:58.953Z"
   },
   {
    "duration": 34,
    "start_time": "2021-10-04T20:35:59.029Z"
   },
   {
    "duration": 900,
    "start_time": "2021-10-04T20:35:59.065Z"
   },
   {
    "duration": 27,
    "start_time": "2021-10-04T20:35:59.968Z"
   },
   {
    "duration": 6,
    "start_time": "2021-10-04T20:36:00.017Z"
   },
   {
    "duration": 1764,
    "start_time": "2021-10-04T20:36:00.025Z"
   },
   {
    "duration": 48,
    "start_time": "2021-10-04T20:36:01.792Z"
   },
   {
    "duration": 1060,
    "start_time": "2021-10-04T20:36:01.846Z"
   },
   {
    "duration": 27,
    "start_time": "2021-10-04T20:36:02.917Z"
   },
   {
    "duration": 7,
    "start_time": "2021-10-04T20:36:02.947Z"
   },
   {
    "duration": 1713,
    "start_time": "2021-10-04T20:36:02.956Z"
   },
   {
    "duration": 20,
    "start_time": "2021-10-04T20:36:04.672Z"
   },
   {
    "duration": 21,
    "start_time": "2021-10-04T20:36:04.715Z"
   },
   {
    "duration": 45,
    "start_time": "2021-10-04T20:36:04.738Z"
   },
   {
    "duration": 1553,
    "start_time": "2021-10-04T20:36:04.785Z"
   },
   {
    "duration": 47,
    "start_time": "2021-10-04T20:36:06.341Z"
   },
   {
    "duration": 26,
    "start_time": "2021-10-04T20:36:06.391Z"
   },
   {
    "duration": 1644,
    "start_time": "2021-10-04T20:36:06.419Z"
   },
   {
    "duration": 25,
    "start_time": "2021-10-04T20:36:08.066Z"
   },
   {
    "duration": 672,
    "start_time": "2021-10-04T20:36:08.094Z"
   },
   {
    "duration": 19,
    "start_time": "2021-10-04T20:36:08.770Z"
   },
   {
    "duration": 26,
    "start_time": "2021-10-04T20:36:08.792Z"
   },
   {
    "duration": 1952,
    "start_time": "2021-10-04T20:36:08.820Z"
   },
   {
    "duration": 1444,
    "start_time": "2021-10-04T20:42:13.306Z"
   },
   {
    "duration": 65,
    "start_time": "2021-10-04T20:42:14.752Z"
   },
   {
    "duration": 10,
    "start_time": "2021-10-04T20:42:14.821Z"
   },
   {
    "duration": 16,
    "start_time": "2021-10-04T20:42:14.834Z"
   },
   {
    "duration": 6,
    "start_time": "2021-10-04T20:42:14.852Z"
   },
   {
    "duration": 82,
    "start_time": "2021-10-04T20:42:14.861Z"
   },
   {
    "duration": 27,
    "start_time": "2021-10-04T20:42:14.946Z"
   },
   {
    "duration": 9,
    "start_time": "2021-10-04T20:42:14.977Z"
   },
   {
    "duration": 37,
    "start_time": "2021-10-04T20:42:14.989Z"
   },
   {
    "duration": 50,
    "start_time": "2021-10-04T20:42:15.028Z"
   },
   {
    "duration": 3,
    "start_time": "2021-10-04T20:42:15.081Z"
   },
   {
    "duration": 35,
    "start_time": "2021-10-04T20:42:15.086Z"
   },
   {
    "duration": 23,
    "start_time": "2021-10-04T20:42:15.123Z"
   },
   {
    "duration": 8,
    "start_time": "2021-10-04T20:42:15.148Z"
   },
   {
    "duration": 4,
    "start_time": "2021-10-04T20:42:15.158Z"
   },
   {
    "duration": 81,
    "start_time": "2021-10-04T20:42:15.164Z"
   },
   {
    "duration": 33,
    "start_time": "2021-10-04T20:42:15.247Z"
   },
   {
    "duration": 877,
    "start_time": "2021-10-04T20:42:15.282Z"
   },
   {
    "duration": 26,
    "start_time": "2021-10-04T20:42:16.161Z"
   },
   {
    "duration": 27,
    "start_time": "2021-10-04T20:42:16.189Z"
   },
   {
    "duration": 1634,
    "start_time": "2021-10-04T20:42:16.219Z"
   },
   {
    "duration": 36,
    "start_time": "2021-10-04T20:42:17.855Z"
   },
   {
    "duration": 832,
    "start_time": "2021-10-04T20:42:17.916Z"
   },
   {
    "duration": 27,
    "start_time": "2021-10-04T20:42:18.751Z"
   },
   {
    "duration": 6,
    "start_time": "2021-10-04T20:42:18.780Z"
   },
   {
    "duration": 1640,
    "start_time": "2021-10-04T20:42:18.789Z"
   },
   {
    "duration": 21,
    "start_time": "2021-10-04T20:42:20.433Z"
   },
   {
    "duration": 24,
    "start_time": "2021-10-04T20:42:20.457Z"
   },
   {
    "duration": 78,
    "start_time": "2021-10-04T20:42:20.484Z"
   },
   {
    "duration": 1289,
    "start_time": "2021-10-04T20:42:20.565Z"
   },
   {
    "duration": 38,
    "start_time": "2021-10-04T20:42:21.857Z"
   },
   {
    "duration": 8,
    "start_time": "2021-10-04T20:42:21.917Z"
   },
   {
    "duration": 1641,
    "start_time": "2021-10-04T20:42:21.928Z"
   },
   {
    "duration": 43,
    "start_time": "2021-10-04T20:42:23.573Z"
   },
   {
    "duration": 430,
    "start_time": "2021-10-04T20:42:23.618Z"
   },
   {
    "duration": 16,
    "start_time": "2021-10-04T20:42:24.051Z"
   },
   {
    "duration": 7,
    "start_time": "2021-10-04T20:42:24.069Z"
   },
   {
    "duration": 1677,
    "start_time": "2021-10-04T20:42:24.078Z"
   },
   {
    "duration": 11,
    "start_time": "2021-10-04T20:42:25.758Z"
   },
   {
    "duration": 13,
    "start_time": "2021-10-04T20:42:25.772Z"
   },
   {
    "duration": 12,
    "start_time": "2021-10-04T20:42:25.815Z"
   },
   {
    "duration": 26,
    "start_time": "2021-10-04T20:42:25.829Z"
   },
   {
    "duration": 1558,
    "start_time": "2021-10-04T20:45:41.898Z"
   },
   {
    "duration": 68,
    "start_time": "2021-10-04T20:45:43.458Z"
   },
   {
    "duration": 10,
    "start_time": "2021-10-04T20:45:43.529Z"
   },
   {
    "duration": 17,
    "start_time": "2021-10-04T20:45:43.542Z"
   },
   {
    "duration": 5,
    "start_time": "2021-10-04T20:45:43.562Z"
   },
   {
    "duration": 74,
    "start_time": "2021-10-04T20:45:43.570Z"
   },
   {
    "duration": 27,
    "start_time": "2021-10-04T20:45:43.647Z"
   },
   {
    "duration": 8,
    "start_time": "2021-10-04T20:45:43.678Z"
   },
   {
    "duration": 8,
    "start_time": "2021-10-04T20:45:43.718Z"
   },
   {
    "duration": 39,
    "start_time": "2021-10-04T20:45:43.729Z"
   },
   {
    "duration": 3,
    "start_time": "2021-10-04T20:45:43.771Z"
   },
   {
    "duration": 41,
    "start_time": "2021-10-04T20:45:43.776Z"
   },
   {
    "duration": 19,
    "start_time": "2021-10-04T20:45:43.820Z"
   },
   {
    "duration": 9,
    "start_time": "2021-10-04T20:45:43.842Z"
   },
   {
    "duration": 7,
    "start_time": "2021-10-04T20:45:43.854Z"
   },
   {
    "duration": 98,
    "start_time": "2021-10-04T20:45:43.863Z"
   },
   {
    "duration": 56,
    "start_time": "2021-10-04T20:45:43.963Z"
   },
   {
    "duration": 882,
    "start_time": "2021-10-04T20:45:44.022Z"
   },
   {
    "duration": 45,
    "start_time": "2021-10-04T20:45:44.908Z"
   },
   {
    "duration": 8,
    "start_time": "2021-10-04T20:45:44.956Z"
   },
   {
    "duration": 1601,
    "start_time": "2021-10-04T20:45:44.967Z"
   },
   {
    "duration": 47,
    "start_time": "2021-10-04T20:45:46.571Z"
   },
   {
    "duration": 845,
    "start_time": "2021-10-04T20:45:46.624Z"
   },
   {
    "duration": 28,
    "start_time": "2021-10-04T20:45:47.472Z"
   },
   {
    "duration": 20,
    "start_time": "2021-10-04T20:45:47.502Z"
   },
   {
    "duration": 1714,
    "start_time": "2021-10-04T20:45:47.525Z"
   },
   {
    "duration": 21,
    "start_time": "2021-10-04T20:45:49.242Z"
   },
   {
    "duration": 52,
    "start_time": "2021-10-04T20:45:49.265Z"
   },
   {
    "duration": 45,
    "start_time": "2021-10-04T20:45:49.320Z"
   },
   {
    "duration": 1284,
    "start_time": "2021-10-04T20:45:49.368Z"
   },
   {
    "duration": 33,
    "start_time": "2021-10-04T20:45:50.654Z"
   },
   {
    "duration": 27,
    "start_time": "2021-10-04T20:45:50.689Z"
   },
   {
    "duration": 1771,
    "start_time": "2021-10-04T20:45:50.718Z"
   },
   {
    "duration": 35,
    "start_time": "2021-10-04T20:45:52.492Z"
   },
   {
    "duration": 455,
    "start_time": "2021-10-04T20:45:52.530Z"
   },
   {
    "duration": 28,
    "start_time": "2021-10-04T20:45:52.988Z"
   },
   {
    "duration": 7,
    "start_time": "2021-10-04T20:45:53.018Z"
   },
   {
    "duration": 1640,
    "start_time": "2021-10-04T20:45:53.028Z"
   },
   {
    "duration": 16,
    "start_time": "2021-10-04T20:45:54.671Z"
   },
   {
    "duration": 36,
    "start_time": "2021-10-04T20:45:54.689Z"
   },
   {
    "duration": 18,
    "start_time": "2021-10-04T20:45:54.729Z"
   },
   {
    "duration": 18,
    "start_time": "2021-10-04T20:45:54.750Z"
   },
   {
    "duration": 1536,
    "start_time": "2021-10-04T20:48:46.213Z"
   },
   {
    "duration": 79,
    "start_time": "2021-10-04T20:48:47.752Z"
   },
   {
    "duration": 19,
    "start_time": "2021-10-04T20:48:47.835Z"
   },
   {
    "duration": 45,
    "start_time": "2021-10-04T20:48:47.857Z"
   },
   {
    "duration": 14,
    "start_time": "2021-10-04T20:48:47.905Z"
   },
   {
    "duration": 149,
    "start_time": "2021-10-04T20:48:47.922Z"
   },
   {
    "duration": 50,
    "start_time": "2021-10-04T20:48:48.081Z"
   },
   {
    "duration": 42,
    "start_time": "2021-10-04T20:48:48.152Z"
   },
   {
    "duration": 12,
    "start_time": "2021-10-04T20:48:48.198Z"
   },
   {
    "duration": 45,
    "start_time": "2021-10-04T20:48:48.213Z"
   },
   {
    "duration": 4,
    "start_time": "2021-10-04T20:48:48.262Z"
   },
   {
    "duration": 12,
    "start_time": "2021-10-04T20:48:48.269Z"
   },
   {
    "duration": 4052,
    "start_time": "2021-10-04T20:48:48.284Z"
   },
   {
    "duration": -117,
    "start_time": "2021-10-04T20:48:52.458Z"
   },
   {
    "duration": -118,
    "start_time": "2021-10-04T20:48:52.461Z"
   },
   {
    "duration": -119,
    "start_time": "2021-10-04T20:48:52.464Z"
   },
   {
    "duration": -119,
    "start_time": "2021-10-04T20:48:52.467Z"
   },
   {
    "duration": -120,
    "start_time": "2021-10-04T20:48:52.470Z"
   },
   {
    "duration": -121,
    "start_time": "2021-10-04T20:48:52.473Z"
   },
   {
    "duration": -120,
    "start_time": "2021-10-04T20:48:52.475Z"
   },
   {
    "duration": -121,
    "start_time": "2021-10-04T20:48:52.478Z"
   },
   {
    "duration": -121,
    "start_time": "2021-10-04T20:48:52.480Z"
   },
   {
    "duration": -121,
    "start_time": "2021-10-04T20:48:52.482Z"
   },
   {
    "duration": -121,
    "start_time": "2021-10-04T20:48:52.484Z"
   },
   {
    "duration": -123,
    "start_time": "2021-10-04T20:48:52.488Z"
   },
   {
    "duration": -130,
    "start_time": "2021-10-04T20:48:52.498Z"
   },
   {
    "duration": -132,
    "start_time": "2021-10-04T20:48:52.502Z"
   },
   {
    "duration": -163,
    "start_time": "2021-10-04T20:48:52.535Z"
   },
   {
    "duration": -168,
    "start_time": "2021-10-04T20:48:52.542Z"
   },
   {
    "duration": -169,
    "start_time": "2021-10-04T20:48:52.546Z"
   },
   {
    "duration": -170,
    "start_time": "2021-10-04T20:48:52.549Z"
   },
   {
    "duration": -136,
    "start_time": "2021-10-04T20:48:52.553Z"
   },
   {
    "duration": -136,
    "start_time": "2021-10-04T20:48:52.555Z"
   },
   {
    "duration": -137,
    "start_time": "2021-10-04T20:48:52.558Z"
   },
   {
    "duration": -138,
    "start_time": "2021-10-04T20:48:52.561Z"
   },
   {
    "duration": -139,
    "start_time": "2021-10-04T20:48:52.564Z"
   },
   {
    "duration": -139,
    "start_time": "2021-10-04T20:48:52.566Z"
   },
   {
    "duration": -140,
    "start_time": "2021-10-04T20:48:52.569Z"
   },
   {
    "duration": -140,
    "start_time": "2021-10-04T20:48:52.571Z"
   },
   {
    "duration": -140,
    "start_time": "2021-10-04T20:48:52.573Z"
   },
   {
    "duration": -138,
    "start_time": "2021-10-04T20:48:52.574Z"
   },
   {
    "duration": -140,
    "start_time": "2021-10-04T20:48:52.577Z"
   },
   {
    "duration": 1480,
    "start_time": "2021-10-04T20:49:35.377Z"
   },
   {
    "duration": 67,
    "start_time": "2021-10-04T20:49:36.859Z"
   },
   {
    "duration": 10,
    "start_time": "2021-10-04T20:49:36.929Z"
   },
   {
    "duration": 16,
    "start_time": "2021-10-04T20:49:36.942Z"
   },
   {
    "duration": 6,
    "start_time": "2021-10-04T20:49:36.960Z"
   },
   {
    "duration": 74,
    "start_time": "2021-10-04T20:49:36.968Z"
   },
   {
    "duration": 25,
    "start_time": "2021-10-04T20:49:37.044Z"
   },
   {
    "duration": 8,
    "start_time": "2021-10-04T20:49:37.073Z"
   },
   {
    "duration": 34,
    "start_time": "2021-10-04T20:49:37.084Z"
   },
   {
    "duration": 42,
    "start_time": "2021-10-04T20:49:37.120Z"
   },
   {
    "duration": 3,
    "start_time": "2021-10-04T20:49:37.164Z"
   },
   {
    "duration": 11,
    "start_time": "2021-10-04T20:49:37.169Z"
   },
   {
    "duration": 53,
    "start_time": "2021-10-04T20:49:37.183Z"
   },
   {
    "duration": 8,
    "start_time": "2021-10-04T20:49:37.239Z"
   },
   {
    "duration": 4,
    "start_time": "2021-10-04T20:49:37.249Z"
   },
   {
    "duration": 80,
    "start_time": "2021-10-04T20:49:37.255Z"
   },
   {
    "duration": 36,
    "start_time": "2021-10-04T20:49:37.338Z"
   },
   {
    "duration": 883,
    "start_time": "2021-10-04T20:49:37.377Z"
   },
   {
    "duration": 26,
    "start_time": "2021-10-04T20:49:38.263Z"
   },
   {
    "duration": 27,
    "start_time": "2021-10-04T20:49:38.291Z"
   },
   {
    "duration": 1614,
    "start_time": "2021-10-04T20:49:38.321Z"
   },
   {
    "duration": 34,
    "start_time": "2021-10-04T20:49:39.938Z"
   },
   {
    "duration": 844,
    "start_time": "2021-10-04T20:49:39.977Z"
   },
   {
    "duration": 29,
    "start_time": "2021-10-04T20:49:40.823Z"
   },
   {
    "duration": 6,
    "start_time": "2021-10-04T20:49:40.854Z"
   },
   {
    "duration": 1671,
    "start_time": "2021-10-04T20:49:40.863Z"
   },
   {
    "duration": 21,
    "start_time": "2021-10-04T20:49:42.536Z"
   },
   {
    "duration": 37,
    "start_time": "2021-10-04T20:49:42.559Z"
   },
   {
    "duration": 64,
    "start_time": "2021-10-04T20:49:42.615Z"
   },
   {
    "duration": 1283,
    "start_time": "2021-10-04T20:49:42.682Z"
   },
   {
    "duration": 33,
    "start_time": "2021-10-04T20:49:43.968Z"
   },
   {
    "duration": 6,
    "start_time": "2021-10-04T20:49:44.016Z"
   },
   {
    "duration": 1642,
    "start_time": "2021-10-04T20:49:44.024Z"
   },
   {
    "duration": 19,
    "start_time": "2021-10-04T20:49:45.669Z"
   },
   {
    "duration": 431,
    "start_time": "2021-10-04T20:49:45.691Z"
   },
   {
    "duration": 16,
    "start_time": "2021-10-04T20:49:46.125Z"
   },
   {
    "duration": 11,
    "start_time": "2021-10-04T20:49:46.144Z"
   },
   {
    "duration": 1813,
    "start_time": "2021-10-04T20:49:46.157Z"
   },
   {
    "duration": 11,
    "start_time": "2021-10-04T20:49:47.973Z"
   },
   {
    "duration": 31,
    "start_time": "2021-10-04T20:49:47.986Z"
   },
   {
    "duration": 11,
    "start_time": "2021-10-04T20:49:48.019Z"
   },
   {
    "duration": 12,
    "start_time": "2021-10-04T20:49:48.032Z"
   },
   {
    "duration": 1539,
    "start_time": "2021-10-04T20:50:39.408Z"
   },
   {
    "duration": 66,
    "start_time": "2021-10-04T20:50:40.949Z"
   },
   {
    "duration": 11,
    "start_time": "2021-10-04T20:50:41.018Z"
   },
   {
    "duration": 19,
    "start_time": "2021-10-04T20:50:41.032Z"
   },
   {
    "duration": 6,
    "start_time": "2021-10-04T20:50:41.053Z"
   },
   {
    "duration": 76,
    "start_time": "2021-10-04T20:50:41.061Z"
   },
   {
    "duration": 26,
    "start_time": "2021-10-04T20:50:41.140Z"
   },
   {
    "duration": 9,
    "start_time": "2021-10-04T20:50:41.172Z"
   },
   {
    "duration": 41,
    "start_time": "2021-10-04T20:50:41.185Z"
   },
   {
    "duration": 43,
    "start_time": "2021-10-04T20:50:41.229Z"
   },
   {
    "duration": 3,
    "start_time": "2021-10-04T20:50:41.276Z"
   },
   {
    "duration": 7,
    "start_time": "2021-10-04T20:50:41.317Z"
   },
   {
    "duration": 21,
    "start_time": "2021-10-04T20:50:41.327Z"
   },
   {
    "duration": 10,
    "start_time": "2021-10-04T20:50:41.351Z"
   },
   {
    "duration": 5,
    "start_time": "2021-10-04T20:50:41.364Z"
   },
   {
    "duration": 53,
    "start_time": "2021-10-04T20:50:41.417Z"
   },
   {
    "duration": 60,
    "start_time": "2021-10-04T20:50:41.473Z"
   },
   {
    "duration": 851,
    "start_time": "2021-10-04T20:50:41.536Z"
   },
   {
    "duration": 39,
    "start_time": "2021-10-04T20:50:42.389Z"
   },
   {
    "duration": 6,
    "start_time": "2021-10-04T20:50:42.430Z"
   },
   {
    "duration": 1529,
    "start_time": "2021-10-04T20:50:42.438Z"
   },
   {
    "duration": 51,
    "start_time": "2021-10-04T20:50:43.969Z"
   },
   {
    "duration": 851,
    "start_time": "2021-10-04T20:50:44.025Z"
   },
   {
    "duration": 39,
    "start_time": "2021-10-04T20:50:44.879Z"
   },
   {
    "duration": 5,
    "start_time": "2021-10-04T20:50:44.921Z"
   },
   {
    "duration": 1752,
    "start_time": "2021-10-04T20:50:44.929Z"
   },
   {
    "duration": 33,
    "start_time": "2021-10-04T20:50:46.683Z"
   },
   {
    "duration": 21,
    "start_time": "2021-10-04T20:50:46.718Z"
   },
   {
    "duration": 43,
    "start_time": "2021-10-04T20:50:46.742Z"
   },
   {
    "duration": 1280,
    "start_time": "2021-10-04T20:50:46.787Z"
   },
   {
    "duration": 46,
    "start_time": "2021-10-04T20:50:48.070Z"
   },
   {
    "duration": 6,
    "start_time": "2021-10-04T20:50:48.118Z"
   },
   {
    "duration": 1743,
    "start_time": "2021-10-04T20:50:48.126Z"
   },
   {
    "duration": 18,
    "start_time": "2021-10-04T20:50:49.871Z"
   },
   {
    "duration": 446,
    "start_time": "2021-10-04T20:50:49.891Z"
   },
   {
    "duration": 16,
    "start_time": "2021-10-04T20:50:50.339Z"
   },
   {
    "duration": 7,
    "start_time": "2021-10-04T20:50:50.358Z"
   },
   {
    "duration": 1701,
    "start_time": "2021-10-04T20:50:50.367Z"
   },
   {
    "duration": 11,
    "start_time": "2021-10-04T20:50:52.071Z"
   },
   {
    "duration": 34,
    "start_time": "2021-10-04T20:50:52.084Z"
   },
   {
    "duration": 11,
    "start_time": "2021-10-04T20:50:52.120Z"
   },
   {
    "duration": 13,
    "start_time": "2021-10-04T20:50:52.134Z"
   },
   {
    "duration": 782,
    "start_time": "2021-10-04T21:01:29.963Z"
   },
   {
    "duration": 883,
    "start_time": "2021-10-04T21:01:49.019Z"
   },
   {
    "duration": 797,
    "start_time": "2021-10-04T21:03:46.909Z"
   },
   {
    "duration": 311,
    "start_time": "2021-10-04T21:04:18.285Z"
   },
   {
    "duration": 51302,
    "start_time": "2021-10-04T21:05:59.676Z"
   },
   {
    "duration": 555,
    "start_time": "2021-10-04T21:07:15.700Z"
   },
   {
    "duration": 16,
    "start_time": "2021-10-04T21:11:05.698Z"
   },
   {
    "duration": 49722,
    "start_time": "2021-10-04T21:11:58.073Z"
   },
   {
    "duration": 482,
    "start_time": "2021-10-04T21:13:10.114Z"
   },
   {
    "duration": 1117,
    "start_time": "2021-10-04T21:14:22.986Z"
   },
   {
    "duration": 1032,
    "start_time": "2021-10-04T21:15:22.107Z"
   },
   {
    "duration": 49422,
    "start_time": "2021-10-04T21:17:08.641Z"
   },
   {
    "duration": 468,
    "start_time": "2021-10-04T21:18:05.793Z"
   },
   {
    "duration": 39034,
    "start_time": "2021-10-04T21:18:54.113Z"
   },
   {
    "duration": 757,
    "start_time": "2021-10-04T21:19:42.515Z"
   },
   {
    "duration": 24099,
    "start_time": "2021-10-04T21:21:23.337Z"
   },
   {
    "duration": 494,
    "start_time": "2021-10-04T21:21:54.898Z"
   },
   {
    "duration": 138,
    "start_time": "2021-10-04T21:25:01.747Z"
   },
   {
    "duration": 277725,
    "start_time": "2021-10-04T21:25:37.737Z"
   },
   {
    "duration": 528,
    "start_time": "2021-10-04T21:30:32.466Z"
   },
   {
    "duration": 1535,
    "start_time": "2021-10-04T21:31:44.219Z"
   },
   {
    "duration": 66,
    "start_time": "2021-10-04T21:31:45.756Z"
   },
   {
    "duration": 11,
    "start_time": "2021-10-04T21:31:45.826Z"
   },
   {
    "duration": 25,
    "start_time": "2021-10-04T21:31:45.839Z"
   },
   {
    "duration": 5,
    "start_time": "2021-10-04T21:31:45.867Z"
   },
   {
    "duration": 71,
    "start_time": "2021-10-04T21:31:45.875Z"
   },
   {
    "duration": 27,
    "start_time": "2021-10-04T21:31:45.948Z"
   },
   {
    "duration": 8,
    "start_time": "2021-10-04T21:31:45.979Z"
   },
   {
    "duration": 36,
    "start_time": "2021-10-04T21:31:45.990Z"
   },
   {
    "duration": 51,
    "start_time": "2021-10-04T21:31:46.029Z"
   },
   {
    "duration": 4,
    "start_time": "2021-10-04T21:31:46.083Z"
   },
   {
    "duration": 31,
    "start_time": "2021-10-04T21:31:46.089Z"
   },
   {
    "duration": 28,
    "start_time": "2021-10-04T21:31:46.122Z"
   },
   {
    "duration": 8,
    "start_time": "2021-10-04T21:31:46.153Z"
   },
   {
    "duration": 29,
    "start_time": "2021-10-04T21:31:46.163Z"
   },
   {
    "duration": 51,
    "start_time": "2021-10-04T21:31:46.195Z"
   },
   {
    "duration": 36,
    "start_time": "2021-10-04T21:31:46.248Z"
   },
   {
    "duration": 885,
    "start_time": "2021-10-04T21:31:46.286Z"
   },
   {
    "duration": 28,
    "start_time": "2021-10-04T21:31:47.173Z"
   },
   {
    "duration": 7,
    "start_time": "2021-10-04T21:31:47.216Z"
   },
   {
    "duration": 1522,
    "start_time": "2021-10-04T21:31:47.226Z"
   },
   {
    "duration": 35,
    "start_time": "2021-10-04T21:31:48.751Z"
   },
   {
    "duration": 845,
    "start_time": "2021-10-04T21:31:48.791Z"
   },
   {
    "duration": 29,
    "start_time": "2021-10-04T21:31:49.639Z"
   },
   {
    "duration": 7,
    "start_time": "2021-10-04T21:31:49.670Z"
   },
   {
    "duration": 1663,
    "start_time": "2021-10-04T21:31:49.679Z"
   },
   {
    "duration": 22,
    "start_time": "2021-10-04T21:31:51.344Z"
   },
   {
    "duration": 51,
    "start_time": "2021-10-04T21:31:51.369Z"
   },
   {
    "duration": 43,
    "start_time": "2021-10-04T21:31:51.423Z"
   },
   {
    "duration": 1297,
    "start_time": "2021-10-04T21:31:51.469Z"
   },
   {
    "duration": 48,
    "start_time": "2021-10-04T21:31:52.769Z"
   },
   {
    "duration": 6,
    "start_time": "2021-10-04T21:31:52.820Z"
   },
   {
    "duration": 1623,
    "start_time": "2021-10-04T21:31:52.828Z"
   },
   {
    "duration": 17,
    "start_time": "2021-10-04T21:31:54.454Z"
   },
   {
    "duration": 452,
    "start_time": "2021-10-04T21:31:54.473Z"
   },
   {
    "duration": 18,
    "start_time": "2021-10-04T21:31:54.928Z"
   },
   {
    "duration": 6,
    "start_time": "2021-10-04T21:31:54.949Z"
   },
   {
    "duration": 1671,
    "start_time": "2021-10-04T21:31:54.958Z"
   },
   {
    "duration": 11,
    "start_time": "2021-10-04T21:31:56.631Z"
   },
   {
    "duration": 11,
    "start_time": "2021-10-04T21:31:56.645Z"
   },
   {
    "duration": 15,
    "start_time": "2021-10-04T21:31:56.659Z"
   },
   {
    "duration": 48,
    "start_time": "2021-10-04T21:31:56.677Z"
   },
   {
    "duration": 183335,
    "start_time": "2021-10-04T21:31:56.728Z"
   },
   {
    "duration": 737,
    "start_time": "2021-10-04T21:35:00.066Z"
   },
   {
    "duration": 46135,
    "start_time": "2021-10-04T21:35:44.731Z"
   },
   {
    "duration": 592,
    "start_time": "2021-10-04T21:36:48.358Z"
   },
   {
    "duration": 126955,
    "start_time": "2021-10-04T21:37:58.322Z"
   },
   {
    "duration": 703,
    "start_time": "2021-10-04T21:40:44.762Z"
   },
   {
    "duration": 251962,
    "start_time": "2021-10-04T21:41:47.690Z"
   },
   {
    "duration": 599,
    "start_time": "2021-10-04T21:46:33.969Z"
   },
   {
    "duration": 268323,
    "start_time": "2021-10-04T21:47:20.145Z"
   },
   {
    "duration": 79596,
    "start_time": "2021-10-04T21:52:05.520Z"
   },
   {
    "duration": 550,
    "start_time": "2021-10-04T21:53:25.118Z"
   },
   {
    "duration": 540,
    "start_time": "2021-10-04T21:53:40.745Z"
   },
   {
    "duration": 45346,
    "start_time": "2021-10-04T21:54:24.793Z"
   },
   {
    "duration": 484,
    "start_time": "2021-10-04T21:55:22.944Z"
   },
   {
    "duration": 50464,
    "start_time": "2021-10-04T21:56:05.599Z"
   },
   {
    "duration": 498,
    "start_time": "2021-10-04T21:57:06.335Z"
   },
   {
    "duration": 30884,
    "start_time": "2021-10-04T21:57:41.799Z"
   },
   {
    "duration": 489,
    "start_time": "2021-10-04T21:58:26.328Z"
   },
   {
    "duration": 45475,
    "start_time": "2021-10-04T21:59:01.567Z"
   },
   {
    "duration": 529,
    "start_time": "2021-10-04T22:00:00.032Z"
   },
   {
    "duration": 45933,
    "start_time": "2021-10-04T22:01:13.255Z"
   },
   {
    "duration": 483,
    "start_time": "2021-10-04T22:02:10.270Z"
   },
   {
    "duration": 170613,
    "start_time": "2021-10-04T22:02:44.759Z"
   },
   {
    "duration": 583,
    "start_time": "2021-10-04T22:05:51.958Z"
   },
   {
    "duration": 344637,
    "start_time": "2021-10-04T22:06:28.438Z"
   },
   {
    "duration": 793,
    "start_time": "2021-10-04T22:12:24.772Z"
   },
   {
    "duration": 451814,
    "start_time": "2021-10-04T22:12:58.483Z"
   },
   {
    "duration": 1123,
    "start_time": "2021-10-04T22:20:51.300Z"
   },
   {
    "duration": 1076,
    "start_time": "2021-10-04T22:31:49.801Z"
   },
   {
    "duration": 44,
    "start_time": "2021-10-04T22:31:50.879Z"
   },
   {
    "duration": 7,
    "start_time": "2021-10-04T22:31:50.925Z"
   },
   {
    "duration": 16,
    "start_time": "2021-10-04T22:31:50.933Z"
   },
   {
    "duration": 3,
    "start_time": "2021-10-04T22:31:50.950Z"
   },
   {
    "duration": 28,
    "start_time": "2021-10-04T22:31:50.955Z"
   },
   {
    "duration": 15,
    "start_time": "2021-10-04T22:31:50.984Z"
   },
   {
    "duration": 5,
    "start_time": "2021-10-04T22:31:51.001Z"
   },
   {
    "duration": 8,
    "start_time": "2021-10-04T22:31:51.008Z"
   },
   {
    "duration": 49,
    "start_time": "2021-10-04T22:31:51.017Z"
   },
   {
    "duration": 2,
    "start_time": "2021-10-04T22:31:51.068Z"
   },
   {
    "duration": 11,
    "start_time": "2021-10-04T22:31:51.071Z"
   },
   {
    "duration": 19,
    "start_time": "2021-10-04T22:31:51.083Z"
   },
   {
    "duration": 13,
    "start_time": "2021-10-04T22:31:51.104Z"
   },
   {
    "duration": 5,
    "start_time": "2021-10-04T22:31:51.118Z"
   },
   {
    "duration": 36,
    "start_time": "2021-10-04T22:31:51.125Z"
   },
   {
    "duration": 23,
    "start_time": "2021-10-04T22:31:51.162Z"
   },
   {
    "duration": 552,
    "start_time": "2021-10-04T22:31:51.186Z"
   },
   {
    "duration": 20,
    "start_time": "2021-10-04T22:31:51.740Z"
   },
   {
    "duration": 4,
    "start_time": "2021-10-04T22:31:51.761Z"
   },
   {
    "duration": 983,
    "start_time": "2021-10-04T22:31:51.767Z"
   },
   {
    "duration": 22,
    "start_time": "2021-10-04T22:31:52.752Z"
   },
   {
    "duration": 525,
    "start_time": "2021-10-04T22:31:52.777Z"
   },
   {
    "duration": 16,
    "start_time": "2021-10-04T22:31:53.304Z"
   },
   {
    "duration": 4,
    "start_time": "2021-10-04T22:31:53.321Z"
   },
   {
    "duration": 1098,
    "start_time": "2021-10-04T22:31:53.327Z"
   },
   {
    "duration": 26,
    "start_time": "2021-10-04T22:31:54.428Z"
   },
   {
    "duration": 13,
    "start_time": "2021-10-04T22:31:54.457Z"
   },
   {
    "duration": 28,
    "start_time": "2021-10-04T22:31:54.472Z"
   },
   {
    "duration": 782,
    "start_time": "2021-10-04T22:31:54.502Z"
   },
   {
    "duration": 20,
    "start_time": "2021-10-04T22:31:55.286Z"
   },
   {
    "duration": 4,
    "start_time": "2021-10-04T22:31:55.307Z"
   },
   {
    "duration": 1084,
    "start_time": "2021-10-04T22:31:55.312Z"
   },
   {
    "duration": 12,
    "start_time": "2021-10-04T22:31:56.397Z"
   },
   {
    "duration": 263,
    "start_time": "2021-10-04T22:31:56.411Z"
   },
   {
    "duration": 8,
    "start_time": "2021-10-04T22:31:56.676Z"
   },
   {
    "duration": 5,
    "start_time": "2021-10-04T22:31:56.685Z"
   },
   {
    "duration": 1074,
    "start_time": "2021-10-04T22:31:56.691Z"
   },
   {
    "duration": 7,
    "start_time": "2021-10-04T22:31:57.767Z"
   },
   {
    "duration": 9,
    "start_time": "2021-10-04T22:31:57.775Z"
   },
   {
    "duration": 7,
    "start_time": "2021-10-04T22:31:57.785Z"
   },
   {
    "duration": 7,
    "start_time": "2021-10-04T22:31:57.794Z"
   },
   {
    "duration": 95575,
    "start_time": "2021-10-04T22:31:57.803Z"
   },
   {
    "duration": 361,
    "start_time": "2021-10-04T22:33:33.380Z"
   },
   {
    "duration": 417,
    "start_time": "2021-10-04T22:33:44.062Z"
   },
   {
    "duration": 92611,
    "start_time": "2021-10-04T22:34:03.302Z"
   },
   {
    "duration": 274,
    "start_time": "2021-10-04T22:36:08.879Z"
   },
   {
    "duration": 49407,
    "start_time": "2021-10-04T22:36:35.965Z"
   },
   {
    "duration": 301,
    "start_time": "2021-10-04T22:37:41.510Z"
   },
   {
    "duration": 1142,
    "start_time": "2021-10-04T22:38:38.633Z"
   },
   {
    "duration": 48,
    "start_time": "2021-10-04T22:38:39.777Z"
   },
   {
    "duration": 9,
    "start_time": "2021-10-04T22:38:39.828Z"
   },
   {
    "duration": 19,
    "start_time": "2021-10-04T22:38:39.839Z"
   },
   {
    "duration": 5,
    "start_time": "2021-10-04T22:38:39.860Z"
   },
   {
    "duration": 30,
    "start_time": "2021-10-04T22:38:39.867Z"
   },
   {
    "duration": 16,
    "start_time": "2021-10-04T22:38:39.900Z"
   },
   {
    "duration": 34,
    "start_time": "2021-10-04T22:38:39.919Z"
   },
   {
    "duration": 9,
    "start_time": "2021-10-04T22:38:39.955Z"
   },
   {
    "duration": 27,
    "start_time": "2021-10-04T22:38:39.965Z"
   },
   {
    "duration": 2,
    "start_time": "2021-10-04T22:38:39.994Z"
   },
   {
    "duration": 6,
    "start_time": "2021-10-04T22:38:39.997Z"
   },
   {
    "duration": 16,
    "start_time": "2021-10-04T22:38:40.005Z"
   },
   {
    "duration": 5,
    "start_time": "2021-10-04T22:38:40.023Z"
   },
   {
    "duration": 3,
    "start_time": "2021-10-04T22:38:40.048Z"
   },
   {
    "duration": 34,
    "start_time": "2021-10-04T22:38:40.053Z"
   },
   {
    "duration": 26,
    "start_time": "2021-10-04T22:38:40.088Z"
   },
   {
    "duration": 585,
    "start_time": "2021-10-04T22:38:40.116Z"
   },
   {
    "duration": 17,
    "start_time": "2021-10-04T22:38:40.703Z"
   },
   {
    "duration": 4,
    "start_time": "2021-10-04T22:38:40.722Z"
   },
   {
    "duration": 944,
    "start_time": "2021-10-04T22:38:40.728Z"
   },
   {
    "duration": 24,
    "start_time": "2021-10-04T22:38:41.674Z"
   },
   {
    "duration": 534,
    "start_time": "2021-10-04T22:38:41.701Z"
   },
   {
    "duration": 21,
    "start_time": "2021-10-04T22:38:42.237Z"
   },
   {
    "duration": 5,
    "start_time": "2021-10-04T22:38:42.260Z"
   },
   {
    "duration": 1163,
    "start_time": "2021-10-04T22:38:42.266Z"
   },
   {
    "duration": 21,
    "start_time": "2021-10-04T22:38:43.431Z"
   },
   {
    "duration": 13,
    "start_time": "2021-10-04T22:38:43.454Z"
   },
   {
    "duration": 28,
    "start_time": "2021-10-04T22:38:43.468Z"
   },
   {
    "duration": 785,
    "start_time": "2021-10-04T22:38:43.498Z"
   },
   {
    "duration": 20,
    "start_time": "2021-10-04T22:38:44.285Z"
   },
   {
    "duration": 4,
    "start_time": "2021-10-04T22:38:44.307Z"
   },
   {
    "duration": 1047,
    "start_time": "2021-10-04T22:38:44.313Z"
   },
   {
    "duration": 12,
    "start_time": "2021-10-04T22:38:45.361Z"
   },
   {
    "duration": 289,
    "start_time": "2021-10-04T22:38:45.375Z"
   },
   {
    "duration": 8,
    "start_time": "2021-10-04T22:38:45.666Z"
   },
   {
    "duration": 4,
    "start_time": "2021-10-04T22:38:45.676Z"
   },
   {
    "duration": 969,
    "start_time": "2021-10-04T22:38:45.681Z"
   },
   {
    "duration": 7,
    "start_time": "2021-10-04T22:38:46.651Z"
   },
   {
    "duration": 9,
    "start_time": "2021-10-04T22:38:46.659Z"
   },
   {
    "duration": 8,
    "start_time": "2021-10-04T22:38:46.670Z"
   },
   {
    "duration": 7,
    "start_time": "2021-10-04T22:38:46.679Z"
   },
   {
    "duration": 49044,
    "start_time": "2021-10-04T22:38:46.688Z"
   },
   {
    "duration": 322,
    "start_time": "2021-10-04T22:39:35.733Z"
   },
   {
    "duration": 1099,
    "start_time": "2021-10-04T22:40:04.462Z"
   },
   {
    "duration": 60,
    "start_time": "2021-10-04T22:40:05.563Z"
   },
   {
    "duration": 9,
    "start_time": "2021-10-04T22:40:05.626Z"
   },
   {
    "duration": 23,
    "start_time": "2021-10-04T22:40:05.638Z"
   },
   {
    "duration": 13,
    "start_time": "2021-10-04T22:40:05.663Z"
   },
   {
    "duration": 46,
    "start_time": "2021-10-04T22:40:05.677Z"
   },
   {
    "duration": 15,
    "start_time": "2021-10-04T22:40:05.724Z"
   },
   {
    "duration": 5,
    "start_time": "2021-10-04T22:40:05.741Z"
   },
   {
    "duration": 14,
    "start_time": "2021-10-04T22:40:05.748Z"
   },
   {
    "duration": 26,
    "start_time": "2021-10-04T22:40:05.763Z"
   },
   {
    "duration": 2,
    "start_time": "2021-10-04T22:40:05.790Z"
   },
   {
    "duration": 24,
    "start_time": "2021-10-04T22:40:05.794Z"
   },
   {
    "duration": 18,
    "start_time": "2021-10-04T22:40:05.819Z"
   },
   {
    "duration": 10,
    "start_time": "2021-10-04T22:40:05.839Z"
   },
   {
    "duration": 5,
    "start_time": "2021-10-04T22:40:05.850Z"
   },
   {
    "duration": 35,
    "start_time": "2021-10-04T22:40:05.857Z"
   },
   {
    "duration": 22,
    "start_time": "2021-10-04T22:40:05.893Z"
   },
   {
    "duration": 545,
    "start_time": "2021-10-04T22:40:05.917Z"
   },
   {
    "duration": 15,
    "start_time": "2021-10-04T22:40:06.463Z"
   },
   {
    "duration": 4,
    "start_time": "2021-10-04T22:40:06.479Z"
   },
   {
    "duration": 1032,
    "start_time": "2021-10-04T22:40:06.485Z"
   },
   {
    "duration": 22,
    "start_time": "2021-10-04T22:40:07.519Z"
   },
   {
    "duration": 530,
    "start_time": "2021-10-04T22:40:07.550Z"
   },
   {
    "duration": 15,
    "start_time": "2021-10-04T22:40:08.082Z"
   },
   {
    "duration": 5,
    "start_time": "2021-10-04T22:40:08.098Z"
   },
   {
    "duration": 1016,
    "start_time": "2021-10-04T22:40:08.104Z"
   },
   {
    "duration": 13,
    "start_time": "2021-10-04T22:40:09.122Z"
   },
   {
    "duration": 21,
    "start_time": "2021-10-04T22:40:09.137Z"
   },
   {
    "duration": 28,
    "start_time": "2021-10-04T22:40:09.160Z"
   },
   {
    "duration": 769,
    "start_time": "2021-10-04T22:40:09.189Z"
   },
   {
    "duration": 20,
    "start_time": "2021-10-04T22:40:09.959Z"
   },
   {
    "duration": 4,
    "start_time": "2021-10-04T22:40:09.981Z"
   },
   {
    "duration": 975,
    "start_time": "2021-10-04T22:40:09.986Z"
   },
   {
    "duration": 12,
    "start_time": "2021-10-04T22:40:10.962Z"
   },
   {
    "duration": 276,
    "start_time": "2021-10-04T22:40:10.976Z"
   },
   {
    "duration": 8,
    "start_time": "2021-10-04T22:40:11.254Z"
   },
   {
    "duration": 4,
    "start_time": "2021-10-04T22:40:11.264Z"
   },
   {
    "duration": 982,
    "start_time": "2021-10-04T22:40:11.269Z"
   },
   {
    "duration": 7,
    "start_time": "2021-10-04T22:40:12.253Z"
   },
   {
    "duration": 10,
    "start_time": "2021-10-04T22:40:12.262Z"
   },
   {
    "duration": 18,
    "start_time": "2021-10-04T22:40:12.273Z"
   },
   {
    "duration": 16,
    "start_time": "2021-10-04T22:40:12.292Z"
   },
   {
    "duration": 49669,
    "start_time": "2021-10-04T22:40:12.310Z"
   },
   {
    "duration": 351,
    "start_time": "2021-10-04T22:41:01.980Z"
   },
   {
    "duration": 42559,
    "start_time": "2021-10-04T22:42:30.633Z"
   },
   {
    "duration": 287,
    "start_time": "2021-10-04T22:43:37.730Z"
   },
   {
    "duration": 1123,
    "start_time": "2021-10-04T22:43:53.248Z"
   },
   {
    "duration": 47,
    "start_time": "2021-10-04T22:43:54.373Z"
   },
   {
    "duration": 7,
    "start_time": "2021-10-04T22:43:54.422Z"
   },
   {
    "duration": 19,
    "start_time": "2021-10-04T22:43:54.431Z"
   },
   {
    "duration": 5,
    "start_time": "2021-10-04T22:43:54.451Z"
   },
   {
    "duration": 29,
    "start_time": "2021-10-04T22:43:54.457Z"
   },
   {
    "duration": 15,
    "start_time": "2021-10-04T22:43:54.487Z"
   },
   {
    "duration": 5,
    "start_time": "2021-10-04T22:43:54.504Z"
   },
   {
    "duration": 5,
    "start_time": "2021-10-04T22:43:54.511Z"
   },
   {
    "duration": 50,
    "start_time": "2021-10-04T22:43:54.518Z"
   },
   {
    "duration": 2,
    "start_time": "2021-10-04T22:43:54.570Z"
   },
   {
    "duration": 5,
    "start_time": "2021-10-04T22:43:54.574Z"
   },
   {
    "duration": 14,
    "start_time": "2021-10-04T22:43:54.580Z"
   },
   {
    "duration": 6,
    "start_time": "2021-10-04T22:43:54.596Z"
   },
   {
    "duration": 6,
    "start_time": "2021-10-04T22:43:54.603Z"
   },
   {
    "duration": 57,
    "start_time": "2021-10-04T22:43:54.610Z"
   },
   {
    "duration": 22,
    "start_time": "2021-10-04T22:43:54.669Z"
   },
   {
    "duration": 540,
    "start_time": "2021-10-04T22:43:54.692Z"
   },
   {
    "duration": 24,
    "start_time": "2021-10-04T22:43:55.234Z"
   },
   {
    "duration": 4,
    "start_time": "2021-10-04T22:43:55.259Z"
   },
   {
    "duration": 1046,
    "start_time": "2021-10-04T22:43:55.264Z"
   },
   {
    "duration": 22,
    "start_time": "2021-10-04T22:43:56.312Z"
   },
   {
    "duration": 535,
    "start_time": "2021-10-04T22:43:56.337Z"
   },
   {
    "duration": 16,
    "start_time": "2021-10-04T22:43:56.874Z"
   },
   {
    "duration": 5,
    "start_time": "2021-10-04T22:43:56.891Z"
   },
   {
    "duration": 1242,
    "start_time": "2021-10-04T22:43:56.898Z"
   },
   {
    "duration": 14,
    "start_time": "2021-10-04T22:43:58.149Z"
   },
   {
    "duration": 14,
    "start_time": "2021-10-04T22:43:58.165Z"
   },
   {
    "duration": 35,
    "start_time": "2021-10-04T22:43:58.181Z"
   },
   {
    "duration": 771,
    "start_time": "2021-10-04T22:43:58.217Z"
   },
   {
    "duration": 21,
    "start_time": "2021-10-04T22:43:58.991Z"
   },
   {
    "duration": 9,
    "start_time": "2021-10-04T22:43:59.013Z"
   },
   {
    "duration": 1043,
    "start_time": "2021-10-04T22:43:59.024Z"
   },
   {
    "duration": 13,
    "start_time": "2021-10-04T22:44:00.068Z"
   },
   {
    "duration": 282,
    "start_time": "2021-10-04T22:44:00.082Z"
   },
   {
    "duration": 8,
    "start_time": "2021-10-04T22:44:00.366Z"
   },
   {
    "duration": 8,
    "start_time": "2021-10-04T22:44:00.376Z"
   },
   {
    "duration": 973,
    "start_time": "2021-10-04T22:44:00.385Z"
   },
   {
    "duration": 8,
    "start_time": "2021-10-04T22:44:01.360Z"
   },
   {
    "duration": 17,
    "start_time": "2021-10-04T22:44:01.369Z"
   },
   {
    "duration": 24,
    "start_time": "2021-10-04T22:44:01.387Z"
   },
   {
    "duration": 28,
    "start_time": "2021-10-04T22:44:01.412Z"
   },
   {
    "duration": 43220,
    "start_time": "2021-10-04T22:44:01.442Z"
   },
   {
    "duration": 304,
    "start_time": "2021-10-04T22:44:44.664Z"
   },
   {
    "duration": 1794,
    "start_time": "2021-10-04T22:45:03.895Z"
   },
   {
    "duration": 49,
    "start_time": "2021-10-04T22:45:05.691Z"
   },
   {
    "duration": 11,
    "start_time": "2021-10-04T22:45:05.742Z"
   },
   {
    "duration": 12,
    "start_time": "2021-10-04T22:45:05.755Z"
   },
   {
    "duration": 5,
    "start_time": "2021-10-04T22:45:05.768Z"
   },
   {
    "duration": 30,
    "start_time": "2021-10-04T22:45:05.775Z"
   },
   {
    "duration": 43,
    "start_time": "2021-10-04T22:45:05.807Z"
   },
   {
    "duration": 6,
    "start_time": "2021-10-04T22:45:05.853Z"
   },
   {
    "duration": 12,
    "start_time": "2021-10-04T22:45:05.862Z"
   },
   {
    "duration": 25,
    "start_time": "2021-10-04T22:45:05.876Z"
   },
   {
    "duration": 3,
    "start_time": "2021-10-04T22:45:05.902Z"
   },
   {
    "duration": 9,
    "start_time": "2021-10-04T22:45:05.907Z"
   },
   {
    "duration": 39,
    "start_time": "2021-10-04T22:45:05.917Z"
   },
   {
    "duration": 5,
    "start_time": "2021-10-04T22:45:05.958Z"
   },
   {
    "duration": 12,
    "start_time": "2021-10-04T22:45:05.964Z"
   },
   {
    "duration": 35,
    "start_time": "2021-10-04T22:45:05.977Z"
   },
   {
    "duration": 22,
    "start_time": "2021-10-04T22:45:06.014Z"
   },
   {
    "duration": 550,
    "start_time": "2021-10-04T22:45:06.038Z"
   },
   {
    "duration": 16,
    "start_time": "2021-10-04T22:45:06.590Z"
   },
   {
    "duration": 4,
    "start_time": "2021-10-04T22:45:06.607Z"
   },
   {
    "duration": 1042,
    "start_time": "2021-10-04T22:45:06.612Z"
   },
   {
    "duration": 23,
    "start_time": "2021-10-04T22:45:07.656Z"
   },
   {
    "duration": 554,
    "start_time": "2021-10-04T22:45:07.681Z"
   },
   {
    "duration": 20,
    "start_time": "2021-10-04T22:45:08.237Z"
   },
   {
    "duration": 4,
    "start_time": "2021-10-04T22:45:08.259Z"
   },
   {
    "duration": 1065,
    "start_time": "2021-10-04T22:45:08.264Z"
   },
   {
    "duration": 21,
    "start_time": "2021-10-04T22:45:09.330Z"
   },
   {
    "duration": 17,
    "start_time": "2021-10-04T22:45:09.353Z"
   },
   {
    "duration": 36,
    "start_time": "2021-10-04T22:45:09.372Z"
   },
   {
    "duration": 774,
    "start_time": "2021-10-04T22:45:09.410Z"
   },
   {
    "duration": 19,
    "start_time": "2021-10-04T22:45:10.186Z"
   },
   {
    "duration": 4,
    "start_time": "2021-10-04T22:45:10.207Z"
   },
   {
    "duration": 1051,
    "start_time": "2021-10-04T22:45:10.212Z"
   },
   {
    "duration": 12,
    "start_time": "2021-10-04T22:45:11.264Z"
   },
   {
    "duration": 283,
    "start_time": "2021-10-04T22:45:11.278Z"
   },
   {
    "duration": 8,
    "start_time": "2021-10-04T22:45:11.563Z"
   },
   {
    "duration": 14,
    "start_time": "2021-10-04T22:45:11.573Z"
   },
   {
    "duration": 975,
    "start_time": "2021-10-04T22:45:11.588Z"
   },
   {
    "duration": 7,
    "start_time": "2021-10-04T22:45:12.565Z"
   },
   {
    "duration": 16,
    "start_time": "2021-10-04T22:45:12.573Z"
   },
   {
    "duration": 16,
    "start_time": "2021-10-04T22:45:12.591Z"
   },
   {
    "duration": 18,
    "start_time": "2021-10-04T22:45:12.608Z"
   },
   {
    "duration": 42721,
    "start_time": "2021-10-04T22:45:12.628Z"
   },
   {
    "duration": 313,
    "start_time": "2021-10-04T22:45:55.350Z"
   },
   {
    "duration": 50585,
    "start_time": "2021-10-04T22:49:30.389Z"
   },
   {
    "duration": 373,
    "start_time": "2021-10-04T22:50:38.077Z"
   },
   {
    "duration": 42956,
    "start_time": "2021-10-04T22:50:57.477Z"
   },
   {
    "duration": 311,
    "start_time": "2021-10-04T22:51:47.590Z"
   },
   {
    "duration": 1158,
    "start_time": "2021-10-04T22:57:01.617Z"
   },
   {
    "duration": 49,
    "start_time": "2021-10-04T22:57:02.777Z"
   },
   {
    "duration": 9,
    "start_time": "2021-10-04T22:57:02.828Z"
   },
   {
    "duration": 19,
    "start_time": "2021-10-04T22:57:02.839Z"
   },
   {
    "duration": 7,
    "start_time": "2021-10-04T22:57:02.860Z"
   },
   {
    "duration": 35,
    "start_time": "2021-10-04T22:57:02.868Z"
   },
   {
    "duration": 17,
    "start_time": "2021-10-04T22:57:02.905Z"
   },
   {
    "duration": 25,
    "start_time": "2021-10-04T22:57:02.925Z"
   },
   {
    "duration": 7,
    "start_time": "2021-10-04T22:57:02.952Z"
   },
   {
    "duration": 26,
    "start_time": "2021-10-04T22:57:02.961Z"
   },
   {
    "duration": 3,
    "start_time": "2021-10-04T22:57:02.989Z"
   },
   {
    "duration": 10,
    "start_time": "2021-10-04T22:57:02.993Z"
   },
   {
    "duration": 16,
    "start_time": "2021-10-04T22:57:03.005Z"
   },
   {
    "duration": 5,
    "start_time": "2021-10-04T22:57:03.048Z"
   },
   {
    "duration": 15,
    "start_time": "2021-10-04T22:57:03.055Z"
   },
   {
    "duration": 33,
    "start_time": "2021-10-04T22:57:03.072Z"
   },
   {
    "duration": 23,
    "start_time": "2021-10-04T22:57:03.106Z"
   },
   {
    "duration": 550,
    "start_time": "2021-10-04T22:57:03.131Z"
   },
   {
    "duration": 17,
    "start_time": "2021-10-04T22:57:03.683Z"
   },
   {
    "duration": 4,
    "start_time": "2021-10-04T22:57:03.701Z"
   },
   {
    "duration": 1050,
    "start_time": "2021-10-04T22:57:03.707Z"
   },
   {
    "duration": 23,
    "start_time": "2021-10-04T22:57:04.758Z"
   },
   {
    "duration": 535,
    "start_time": "2021-10-04T22:57:04.783Z"
   },
   {
    "duration": 16,
    "start_time": "2021-10-04T22:57:05.320Z"
   },
   {
    "duration": 14,
    "start_time": "2021-10-04T22:57:05.337Z"
   },
   {
    "duration": 1072,
    "start_time": "2021-10-04T22:57:05.353Z"
   },
   {
    "duration": 25,
    "start_time": "2021-10-04T22:57:06.427Z"
   },
   {
    "duration": 12,
    "start_time": "2021-10-04T22:57:06.454Z"
   },
   {
    "duration": 28,
    "start_time": "2021-10-04T22:57:06.467Z"
   },
   {
    "duration": 774,
    "start_time": "2021-10-04T22:57:06.497Z"
   },
   {
    "duration": 19,
    "start_time": "2021-10-04T22:57:07.273Z"
   },
   {
    "duration": 4,
    "start_time": "2021-10-04T22:57:07.294Z"
   },
   {
    "duration": 1057,
    "start_time": "2021-10-04T22:57:07.299Z"
   },
   {
    "duration": 11,
    "start_time": "2021-10-04T22:57:08.358Z"
   },
   {
    "duration": 278,
    "start_time": "2021-10-04T22:57:08.370Z"
   },
   {
    "duration": 10,
    "start_time": "2021-10-04T22:57:08.649Z"
   },
   {
    "duration": 13,
    "start_time": "2021-10-04T22:57:08.660Z"
   },
   {
    "duration": 1084,
    "start_time": "2021-10-04T22:57:08.675Z"
   },
   {
    "duration": 6,
    "start_time": "2021-10-04T22:57:09.761Z"
   },
   {
    "duration": 14,
    "start_time": "2021-10-04T22:57:09.769Z"
   },
   {
    "duration": 14,
    "start_time": "2021-10-04T22:57:09.784Z"
   },
   {
    "duration": 11,
    "start_time": "2021-10-04T22:57:09.800Z"
   },
   {
    "duration": 42770,
    "start_time": "2021-10-04T22:57:09.813Z"
   },
   {
    "duration": 322,
    "start_time": "2021-10-04T22:57:52.584Z"
   },
   {
    "duration": 1135,
    "start_time": "2021-10-04T22:58:35.008Z"
   },
   {
    "duration": 48,
    "start_time": "2021-10-04T22:58:36.145Z"
   },
   {
    "duration": 8,
    "start_time": "2021-10-04T22:58:36.195Z"
   },
   {
    "duration": 11,
    "start_time": "2021-10-04T22:58:36.205Z"
   },
   {
    "duration": 5,
    "start_time": "2021-10-04T22:58:36.218Z"
   },
   {
    "duration": 44,
    "start_time": "2021-10-04T22:58:36.224Z"
   },
   {
    "duration": 18,
    "start_time": "2021-10-04T22:58:36.269Z"
   },
   {
    "duration": 6,
    "start_time": "2021-10-04T22:58:36.289Z"
   },
   {
    "duration": 9,
    "start_time": "2021-10-04T22:58:36.297Z"
   },
   {
    "duration": 53,
    "start_time": "2021-10-04T22:58:36.308Z"
   },
   {
    "duration": 2,
    "start_time": "2021-10-04T22:58:36.363Z"
   },
   {
    "duration": 7,
    "start_time": "2021-10-04T22:58:36.367Z"
   },
   {
    "duration": 17,
    "start_time": "2021-10-04T22:58:36.376Z"
   },
   {
    "duration": 6,
    "start_time": "2021-10-04T22:58:36.394Z"
   },
   {
    "duration": 5,
    "start_time": "2021-10-04T22:58:36.402Z"
   },
   {
    "duration": 58,
    "start_time": "2021-10-04T22:58:36.408Z"
   },
   {
    "duration": 25,
    "start_time": "2021-10-04T22:58:36.468Z"
   },
   {
    "duration": 575,
    "start_time": "2021-10-04T22:58:36.495Z"
   },
   {
    "duration": 16,
    "start_time": "2021-10-04T22:58:37.072Z"
   },
   {
    "duration": 4,
    "start_time": "2021-10-04T22:58:37.090Z"
   },
   {
    "duration": 1081,
    "start_time": "2021-10-04T22:58:37.096Z"
   },
   {
    "duration": 27,
    "start_time": "2021-10-04T22:58:38.179Z"
   },
   {
    "duration": 580,
    "start_time": "2021-10-04T22:58:38.211Z"
   },
   {
    "duration": 18,
    "start_time": "2021-10-04T22:58:38.793Z"
   },
   {
    "duration": 5,
    "start_time": "2021-10-04T22:58:38.813Z"
   },
   {
    "duration": 1020,
    "start_time": "2021-10-04T22:58:38.820Z"
   },
   {
    "duration": 16,
    "start_time": "2021-10-04T22:58:39.849Z"
   },
   {
    "duration": 14,
    "start_time": "2021-10-04T22:58:39.867Z"
   },
   {
    "duration": 29,
    "start_time": "2021-10-04T22:58:39.883Z"
   },
   {
    "duration": 803,
    "start_time": "2021-10-04T22:58:39.914Z"
   },
   {
    "duration": 31,
    "start_time": "2021-10-04T22:58:40.719Z"
   },
   {
    "duration": 5,
    "start_time": "2021-10-04T22:58:40.751Z"
   },
   {
    "duration": 996,
    "start_time": "2021-10-04T22:58:40.757Z"
   },
   {
    "duration": 12,
    "start_time": "2021-10-04T22:58:41.754Z"
   },
   {
    "duration": 283,
    "start_time": "2021-10-04T22:58:41.768Z"
   },
   {
    "duration": 9,
    "start_time": "2021-10-04T22:58:42.053Z"
   },
   {
    "duration": 7,
    "start_time": "2021-10-04T22:58:42.063Z"
   },
   {
    "duration": 993,
    "start_time": "2021-10-04T22:58:42.072Z"
   },
   {
    "duration": 10,
    "start_time": "2021-10-04T22:58:43.067Z"
   },
   {
    "duration": 11,
    "start_time": "2021-10-04T22:58:43.079Z"
   },
   {
    "duration": 9,
    "start_time": "2021-10-04T22:58:43.092Z"
   },
   {
    "duration": 11,
    "start_time": "2021-10-04T22:58:43.103Z"
   },
   {
    "duration": 42351,
    "start_time": "2021-10-04T22:58:43.121Z"
   },
   {
    "duration": 326,
    "start_time": "2021-10-04T22:59:25.474Z"
   },
   {
    "duration": 1211,
    "start_time": "2021-10-04T23:00:54.484Z"
   },
   {
    "duration": 47,
    "start_time": "2021-10-04T23:00:55.697Z"
   },
   {
    "duration": 9,
    "start_time": "2021-10-04T23:00:55.747Z"
   },
   {
    "duration": 11,
    "start_time": "2021-10-04T23:00:55.758Z"
   },
   {
    "duration": 4,
    "start_time": "2021-10-04T23:00:55.771Z"
   },
   {
    "duration": 28,
    "start_time": "2021-10-04T23:00:55.777Z"
   },
   {
    "duration": 50,
    "start_time": "2021-10-04T23:00:55.807Z"
   },
   {
    "duration": 6,
    "start_time": "2021-10-04T23:00:55.860Z"
   },
   {
    "duration": 7,
    "start_time": "2021-10-04T23:00:55.869Z"
   },
   {
    "duration": 25,
    "start_time": "2021-10-04T23:00:55.878Z"
   },
   {
    "duration": 3,
    "start_time": "2021-10-04T23:00:55.905Z"
   },
   {
    "duration": 6,
    "start_time": "2021-10-04T23:00:55.909Z"
   },
   {
    "duration": 46,
    "start_time": "2021-10-04T23:00:55.916Z"
   },
   {
    "duration": 6,
    "start_time": "2021-10-04T23:00:55.964Z"
   },
   {
    "duration": 4,
    "start_time": "2021-10-04T23:00:55.972Z"
   },
   {
    "duration": 34,
    "start_time": "2021-10-04T23:00:55.978Z"
   },
   {
    "duration": 48,
    "start_time": "2021-10-04T23:00:56.014Z"
   },
   {
    "duration": 556,
    "start_time": "2021-10-04T23:00:56.064Z"
   },
   {
    "duration": 15,
    "start_time": "2021-10-04T23:00:56.622Z"
   },
   {
    "duration": 4,
    "start_time": "2021-10-04T23:00:56.649Z"
   },
   {
    "duration": 1003,
    "start_time": "2021-10-04T23:00:56.655Z"
   },
   {
    "duration": 25,
    "start_time": "2021-10-04T23:00:57.660Z"
   },
   {
    "duration": 556,
    "start_time": "2021-10-04T23:00:57.689Z"
   },
   {
    "duration": 17,
    "start_time": "2021-10-04T23:00:58.250Z"
   },
   {
    "duration": 5,
    "start_time": "2021-10-04T23:00:58.269Z"
   },
   {
    "duration": 1054,
    "start_time": "2021-10-04T23:00:58.275Z"
   },
   {
    "duration": 22,
    "start_time": "2021-10-04T23:00:59.331Z"
   },
   {
    "duration": 14,
    "start_time": "2021-10-04T23:00:59.355Z"
   },
   {
    "duration": 30,
    "start_time": "2021-10-04T23:00:59.370Z"
   },
   {
    "duration": 788,
    "start_time": "2021-10-04T23:00:59.402Z"
   },
   {
    "duration": 21,
    "start_time": "2021-10-04T23:01:00.192Z"
   },
   {
    "duration": 6,
    "start_time": "2021-10-04T23:01:00.215Z"
   },
   {
    "duration": 1047,
    "start_time": "2021-10-04T23:01:00.223Z"
   },
   {
    "duration": 14,
    "start_time": "2021-10-04T23:01:01.272Z"
   },
   {
    "duration": 286,
    "start_time": "2021-10-04T23:01:01.288Z"
   },
   {
    "duration": 9,
    "start_time": "2021-10-04T23:01:01.576Z"
   },
   {
    "duration": 42,
    "start_time": "2021-10-04T23:01:01.587Z"
   },
   {
    "duration": 1010,
    "start_time": "2021-10-04T23:01:01.631Z"
   },
   {
    "duration": 7,
    "start_time": "2021-10-04T23:01:02.649Z"
   },
   {
    "duration": 10,
    "start_time": "2021-10-04T23:01:02.658Z"
   },
   {
    "duration": 12,
    "start_time": "2021-10-04T23:01:02.670Z"
   },
   {
    "duration": 14,
    "start_time": "2021-10-04T23:01:02.684Z"
   },
   {
    "duration": 42078,
    "start_time": "2021-10-04T23:01:02.699Z"
   },
   {
    "duration": 323,
    "start_time": "2021-10-04T23:01:44.778Z"
   },
   {
    "duration": 1103,
    "start_time": "2021-10-04T23:02:08.189Z"
   },
   {
    "duration": 54,
    "start_time": "2021-10-04T23:02:09.293Z"
   },
   {
    "duration": 10,
    "start_time": "2021-10-04T23:02:09.350Z"
   },
   {
    "duration": 14,
    "start_time": "2021-10-04T23:02:09.363Z"
   },
   {
    "duration": 17,
    "start_time": "2021-10-04T23:02:09.379Z"
   },
   {
    "duration": 53,
    "start_time": "2021-10-04T23:02:09.399Z"
   },
   {
    "duration": 23,
    "start_time": "2021-10-04T23:02:09.455Z"
   },
   {
    "duration": 6,
    "start_time": "2021-10-04T23:02:09.481Z"
   },
   {
    "duration": 11,
    "start_time": "2021-10-04T23:02:09.489Z"
   },
   {
    "duration": 25,
    "start_time": "2021-10-04T23:02:09.501Z"
   },
   {
    "duration": 3,
    "start_time": "2021-10-04T23:02:09.548Z"
   },
   {
    "duration": 8,
    "start_time": "2021-10-04T23:02:09.552Z"
   },
   {
    "duration": 13,
    "start_time": "2021-10-04T23:02:09.561Z"
   },
   {
    "duration": 5,
    "start_time": "2021-10-04T23:02:09.576Z"
   },
   {
    "duration": 4,
    "start_time": "2021-10-04T23:02:09.582Z"
   },
   {
    "duration": 33,
    "start_time": "2021-10-04T23:02:09.587Z"
   },
   {
    "duration": 43,
    "start_time": "2021-10-04T23:02:09.622Z"
   },
   {
    "duration": 558,
    "start_time": "2021-10-04T23:02:09.666Z"
   },
   {
    "duration": 24,
    "start_time": "2021-10-04T23:02:10.226Z"
   },
   {
    "duration": 4,
    "start_time": "2021-10-04T23:02:10.251Z"
   },
   {
    "duration": 997,
    "start_time": "2021-10-04T23:02:10.257Z"
   },
   {
    "duration": 24,
    "start_time": "2021-10-04T23:02:11.256Z"
   },
   {
    "duration": 538,
    "start_time": "2021-10-04T23:02:11.283Z"
   },
   {
    "duration": 27,
    "start_time": "2021-10-04T23:02:11.823Z"
   },
   {
    "duration": 5,
    "start_time": "2021-10-04T23:02:11.851Z"
   },
   {
    "duration": 1068,
    "start_time": "2021-10-04T23:02:11.857Z"
   },
   {
    "duration": 23,
    "start_time": "2021-10-04T23:02:12.926Z"
   },
   {
    "duration": 13,
    "start_time": "2021-10-04T23:02:12.950Z"
   },
   {
    "duration": 28,
    "start_time": "2021-10-04T23:02:12.964Z"
   },
   {
    "duration": 774,
    "start_time": "2021-10-04T23:02:12.994Z"
   },
   {
    "duration": 19,
    "start_time": "2021-10-04T23:02:13.770Z"
   },
   {
    "duration": 4,
    "start_time": "2021-10-04T23:02:13.791Z"
   },
   {
    "duration": 1056,
    "start_time": "2021-10-04T23:02:13.796Z"
   },
   {
    "duration": 12,
    "start_time": "2021-10-04T23:02:14.854Z"
   },
   {
    "duration": 283,
    "start_time": "2021-10-04T23:02:14.868Z"
   },
   {
    "duration": 8,
    "start_time": "2021-10-04T23:02:15.153Z"
   },
   {
    "duration": 5,
    "start_time": "2021-10-04T23:02:15.163Z"
   },
   {
    "duration": 1000,
    "start_time": "2021-10-04T23:02:15.169Z"
   },
   {
    "duration": 7,
    "start_time": "2021-10-04T23:02:16.171Z"
   },
   {
    "duration": 10,
    "start_time": "2021-10-04T23:02:16.180Z"
   },
   {
    "duration": 7,
    "start_time": "2021-10-04T23:02:16.191Z"
   },
   {
    "duration": 8,
    "start_time": "2021-10-04T23:02:16.200Z"
   },
   {
    "duration": 42851,
    "start_time": "2021-10-04T23:02:16.210Z"
   },
   {
    "duration": 323,
    "start_time": "2021-10-04T23:02:59.063Z"
   },
   {
    "duration": 303,
    "start_time": "2021-10-04T23:09:08.486Z"
   },
   {
    "duration": 389,
    "start_time": "2021-10-04T23:10:50.583Z"
   },
   {
    "duration": 583,
    "start_time": "2021-10-04T23:11:19.688Z"
   },
   {
    "duration": 314,
    "start_time": "2021-10-04T23:11:51.936Z"
   },
   {
    "duration": 314,
    "start_time": "2021-10-04T23:12:39.767Z"
   },
   {
    "duration": 1102,
    "start_time": "2021-10-04T23:15:38.878Z"
   },
   {
    "duration": 51,
    "start_time": "2021-10-04T23:15:39.982Z"
   },
   {
    "duration": 17,
    "start_time": "2021-10-04T23:15:40.035Z"
   },
   {
    "duration": 21,
    "start_time": "2021-10-04T23:15:40.054Z"
   },
   {
    "duration": 5,
    "start_time": "2021-10-04T23:15:40.077Z"
   },
   {
    "duration": 30,
    "start_time": "2021-10-04T23:15:40.084Z"
   },
   {
    "duration": 35,
    "start_time": "2021-10-04T23:15:40.117Z"
   },
   {
    "duration": 7,
    "start_time": "2021-10-04T23:15:40.155Z"
   },
   {
    "duration": 8,
    "start_time": "2021-10-04T23:15:40.165Z"
   },
   {
    "duration": 27,
    "start_time": "2021-10-04T23:15:40.175Z"
   },
   {
    "duration": 3,
    "start_time": "2021-10-04T23:15:40.204Z"
   },
   {
    "duration": 41,
    "start_time": "2021-10-04T23:15:40.209Z"
   },
   {
    "duration": 15,
    "start_time": "2021-10-04T23:15:40.253Z"
   },
   {
    "duration": 7,
    "start_time": "2021-10-04T23:15:40.270Z"
   },
   {
    "duration": 4,
    "start_time": "2021-10-04T23:15:40.279Z"
   },
   {
    "duration": 36,
    "start_time": "2021-10-04T23:15:40.284Z"
   },
   {
    "duration": 52,
    "start_time": "2021-10-04T23:15:40.322Z"
   },
   {
    "duration": 616,
    "start_time": "2021-10-04T23:15:40.377Z"
   },
   {
    "duration": 17,
    "start_time": "2021-10-04T23:15:40.995Z"
   },
   {
    "duration": 5,
    "start_time": "2021-10-04T23:15:41.013Z"
   },
   {
    "duration": 1032,
    "start_time": "2021-10-04T23:15:41.020Z"
   },
   {
    "duration": 26,
    "start_time": "2021-10-04T23:15:42.053Z"
   },
   {
    "duration": 682,
    "start_time": "2021-10-04T23:15:42.082Z"
   },
   {
    "duration": 17,
    "start_time": "2021-10-04T23:15:42.766Z"
   },
   {
    "duration": 4,
    "start_time": "2021-10-04T23:15:42.785Z"
   },
   {
    "duration": 1015,
    "start_time": "2021-10-04T23:15:42.790Z"
   },
   {
    "duration": 12,
    "start_time": "2021-10-04T23:15:43.807Z"
   },
   {
    "duration": 29,
    "start_time": "2021-10-04T23:15:43.821Z"
   },
   {
    "duration": 30,
    "start_time": "2021-10-04T23:15:43.852Z"
   },
   {
    "duration": 830,
    "start_time": "2021-10-04T23:15:43.884Z"
   },
   {
    "duration": 21,
    "start_time": "2021-10-04T23:15:44.715Z"
   },
   {
    "duration": 14,
    "start_time": "2021-10-04T23:15:44.737Z"
   },
   {
    "duration": 988,
    "start_time": "2021-10-04T23:15:44.752Z"
   },
   {
    "duration": 12,
    "start_time": "2021-10-04T23:15:45.750Z"
   },
   {
    "duration": 291,
    "start_time": "2021-10-04T23:15:45.764Z"
   },
   {
    "duration": 9,
    "start_time": "2021-10-04T23:15:46.057Z"
   },
   {
    "duration": 6,
    "start_time": "2021-10-04T23:15:46.067Z"
   },
   {
    "duration": 989,
    "start_time": "2021-10-04T23:15:46.075Z"
   },
   {
    "duration": 7,
    "start_time": "2021-10-04T23:15:47.066Z"
   },
   {
    "duration": 12,
    "start_time": "2021-10-04T23:15:47.075Z"
   },
   {
    "duration": 10,
    "start_time": "2021-10-04T23:15:47.089Z"
   },
   {
    "duration": 12,
    "start_time": "2021-10-04T23:15:47.100Z"
   },
   {
    "duration": 45993,
    "start_time": "2021-10-04T23:15:47.114Z"
   },
   {
    "duration": 304,
    "start_time": "2021-10-04T23:16:33.109Z"
   },
   {
    "duration": 1120,
    "start_time": "2021-10-04T23:17:31.956Z"
   },
   {
    "duration": 48,
    "start_time": "2021-10-04T23:17:33.077Z"
   },
   {
    "duration": 5,
    "start_time": "2021-10-04T23:17:33.127Z"
   },
   {
    "duration": 18,
    "start_time": "2021-10-04T23:17:33.134Z"
   },
   {
    "duration": 4,
    "start_time": "2021-10-04T23:17:33.153Z"
   },
   {
    "duration": 29,
    "start_time": "2021-10-04T23:17:33.158Z"
   },
   {
    "duration": 16,
    "start_time": "2021-10-04T23:17:33.188Z"
   },
   {
    "duration": 6,
    "start_time": "2021-10-04T23:17:33.206Z"
   },
   {
    "duration": 7,
    "start_time": "2021-10-04T23:17:33.213Z"
   },
   {
    "duration": 46,
    "start_time": "2021-10-04T23:17:33.221Z"
   },
   {
    "duration": 1,
    "start_time": "2021-10-04T23:17:33.269Z"
   },
   {
    "duration": 6,
    "start_time": "2021-10-04T23:17:33.272Z"
   },
   {
    "duration": 29,
    "start_time": "2021-10-04T23:17:33.279Z"
   },
   {
    "duration": 5,
    "start_time": "2021-10-04T23:17:33.310Z"
   },
   {
    "duration": 10,
    "start_time": "2021-10-04T23:17:33.316Z"
   },
   {
    "duration": 40,
    "start_time": "2021-10-04T23:17:33.327Z"
   },
   {
    "duration": 25,
    "start_time": "2021-10-04T23:17:33.369Z"
   },
   {
    "duration": 599,
    "start_time": "2021-10-04T23:17:33.395Z"
   },
   {
    "duration": 16,
    "start_time": "2021-10-04T23:17:33.995Z"
   },
   {
    "duration": 4,
    "start_time": "2021-10-04T23:17:34.012Z"
   },
   {
    "duration": 1020,
    "start_time": "2021-10-04T23:17:34.018Z"
   },
   {
    "duration": 32,
    "start_time": "2021-10-04T23:17:35.040Z"
   },
   {
    "duration": 583,
    "start_time": "2021-10-04T23:17:35.075Z"
   },
   {
    "duration": 17,
    "start_time": "2021-10-04T23:17:35.660Z"
   },
   {
    "duration": 5,
    "start_time": "2021-10-04T23:17:35.678Z"
   },
   {
    "duration": 1038,
    "start_time": "2021-10-04T23:17:35.684Z"
   },
   {
    "duration": 12,
    "start_time": "2021-10-04T23:17:36.724Z"
   },
   {
    "duration": 11,
    "start_time": "2021-10-04T23:17:36.749Z"
   },
   {
    "duration": 30,
    "start_time": "2021-10-04T23:17:36.762Z"
   },
   {
    "duration": 840,
    "start_time": "2021-10-04T23:17:36.794Z"
   },
   {
    "duration": 26,
    "start_time": "2021-10-04T23:17:37.635Z"
   },
   {
    "duration": 4,
    "start_time": "2021-10-04T23:17:37.663Z"
   },
   {
    "duration": 989,
    "start_time": "2021-10-04T23:17:37.668Z"
   },
   {
    "duration": 13,
    "start_time": "2021-10-04T23:17:38.659Z"
   },
   {
    "duration": 291,
    "start_time": "2021-10-04T23:17:38.673Z"
   },
   {
    "duration": 9,
    "start_time": "2021-10-04T23:17:38.966Z"
   },
   {
    "duration": 4,
    "start_time": "2021-10-04T23:17:38.976Z"
   },
   {
    "duration": 1082,
    "start_time": "2021-10-04T23:17:38.981Z"
   },
   {
    "duration": 7,
    "start_time": "2021-10-04T23:17:40.064Z"
   },
   {
    "duration": 11,
    "start_time": "2021-10-04T23:17:40.073Z"
   },
   {
    "duration": 10,
    "start_time": "2021-10-04T23:17:40.086Z"
   },
   {
    "duration": 11,
    "start_time": "2021-10-04T23:17:40.098Z"
   },
   {
    "duration": 46038,
    "start_time": "2021-10-04T23:17:40.111Z"
   },
   {
    "duration": 273,
    "start_time": "2021-10-04T23:18:26.151Z"
   },
   {
    "duration": 1072,
    "start_time": "2021-10-04T23:20:38.011Z"
   },
   {
    "duration": 48,
    "start_time": "2021-10-04T23:20:39.085Z"
   },
   {
    "duration": 7,
    "start_time": "2021-10-04T23:20:39.135Z"
   },
   {
    "duration": 13,
    "start_time": "2021-10-04T23:20:39.144Z"
   },
   {
    "duration": 3,
    "start_time": "2021-10-04T23:20:39.158Z"
   },
   {
    "duration": 30,
    "start_time": "2021-10-04T23:20:39.163Z"
   },
   {
    "duration": 15,
    "start_time": "2021-10-04T23:20:39.194Z"
   },
   {
    "duration": 6,
    "start_time": "2021-10-04T23:20:39.211Z"
   },
   {
    "duration": 34,
    "start_time": "2021-10-04T23:20:39.218Z"
   },
   {
    "duration": 24,
    "start_time": "2021-10-04T23:20:39.253Z"
   },
   {
    "duration": 2,
    "start_time": "2021-10-04T23:20:39.279Z"
   },
   {
    "duration": 9,
    "start_time": "2021-10-04T23:20:39.282Z"
   },
   {
    "duration": 16,
    "start_time": "2021-10-04T23:20:39.292Z"
   },
   {
    "duration": 7,
    "start_time": "2021-10-04T23:20:39.309Z"
   },
   {
    "duration": 7,
    "start_time": "2021-10-04T23:20:39.318Z"
   },
   {
    "duration": 48,
    "start_time": "2021-10-04T23:20:39.327Z"
   },
   {
    "duration": 23,
    "start_time": "2021-10-04T23:20:39.377Z"
   },
   {
    "duration": 546,
    "start_time": "2021-10-04T23:20:39.402Z"
   },
   {
    "duration": 17,
    "start_time": "2021-10-04T23:20:39.950Z"
   },
   {
    "duration": 4,
    "start_time": "2021-10-04T23:20:39.968Z"
   },
   {
    "duration": 990,
    "start_time": "2021-10-04T23:20:39.974Z"
   },
   {
    "duration": 24,
    "start_time": "2021-10-04T23:20:40.965Z"
   },
   {
    "duration": 540,
    "start_time": "2021-10-04T23:20:40.991Z"
   },
   {
    "duration": 25,
    "start_time": "2021-10-04T23:20:41.533Z"
   },
   {
    "duration": 4,
    "start_time": "2021-10-04T23:20:41.560Z"
   },
   {
    "duration": 1058,
    "start_time": "2021-10-04T23:20:41.566Z"
   },
   {
    "duration": 24,
    "start_time": "2021-10-04T23:20:42.626Z"
   },
   {
    "duration": 12,
    "start_time": "2021-10-04T23:20:42.651Z"
   },
   {
    "duration": 27,
    "start_time": "2021-10-04T23:20:42.665Z"
   },
   {
    "duration": 777,
    "start_time": "2021-10-04T23:20:42.694Z"
   },
   {
    "duration": 21,
    "start_time": "2021-10-04T23:20:43.472Z"
   },
   {
    "duration": 4,
    "start_time": "2021-10-04T23:20:43.494Z"
   },
   {
    "duration": 1052,
    "start_time": "2021-10-04T23:20:43.500Z"
   },
   {
    "duration": 12,
    "start_time": "2021-10-04T23:20:44.554Z"
   },
   {
    "duration": 277,
    "start_time": "2021-10-04T23:20:44.568Z"
   },
   {
    "duration": 9,
    "start_time": "2021-10-04T23:20:44.847Z"
   },
   {
    "duration": 4,
    "start_time": "2021-10-04T23:20:44.858Z"
   },
   {
    "duration": 1000,
    "start_time": "2021-10-04T23:20:44.863Z"
   },
   {
    "duration": 7,
    "start_time": "2021-10-04T23:20:45.865Z"
   },
   {
    "duration": 9,
    "start_time": "2021-10-04T23:20:45.874Z"
   },
   {
    "duration": 10,
    "start_time": "2021-10-04T23:20:45.884Z"
   },
   {
    "duration": 10,
    "start_time": "2021-10-04T23:20:45.895Z"
   },
   {
    "duration": 42523,
    "start_time": "2021-10-04T23:20:45.906Z"
   },
   {
    "duration": 339,
    "start_time": "2021-10-04T23:21:28.430Z"
   },
   {
    "duration": 1646,
    "start_time": "2021-10-06T08:54:04.972Z"
   },
   {
    "duration": 65,
    "start_time": "2021-10-06T08:54:06.621Z"
   },
   {
    "duration": 13,
    "start_time": "2021-10-06T08:54:06.689Z"
   },
   {
    "duration": 522,
    "start_time": "2021-10-06T08:54:06.705Z"
   },
   {
    "duration": -22131,
    "start_time": "2021-10-06T08:54:29.362Z"
   },
   {
    "duration": -22132,
    "start_time": "2021-10-06T08:54:29.365Z"
   },
   {
    "duration": -22133,
    "start_time": "2021-10-06T08:54:29.367Z"
   },
   {
    "duration": -22135,
    "start_time": "2021-10-06T08:54:29.370Z"
   },
   {
    "duration": -22136,
    "start_time": "2021-10-06T08:54:29.372Z"
   },
   {
    "duration": -22183,
    "start_time": "2021-10-06T08:54:29.421Z"
   },
   {
    "duration": -22186,
    "start_time": "2021-10-06T08:54:29.425Z"
   },
   {
    "duration": -22186,
    "start_time": "2021-10-06T08:54:29.427Z"
   },
   {
    "duration": -22188,
    "start_time": "2021-10-06T08:54:29.430Z"
   },
   {
    "duration": -22189,
    "start_time": "2021-10-06T08:54:29.432Z"
   },
   {
    "duration": -22191,
    "start_time": "2021-10-06T08:54:29.436Z"
   },
   {
    "duration": -22192,
    "start_time": "2021-10-06T08:54:29.438Z"
   },
   {
    "duration": -22194,
    "start_time": "2021-10-06T08:54:29.441Z"
   },
   {
    "duration": -22201,
    "start_time": "2021-10-06T08:54:29.449Z"
   },
   {
    "duration": -22202,
    "start_time": "2021-10-06T08:54:29.452Z"
   },
   {
    "duration": -22203,
    "start_time": "2021-10-06T08:54:29.454Z"
   },
   {
    "duration": -22204,
    "start_time": "2021-10-06T08:54:29.457Z"
   },
   {
    "duration": -22205,
    "start_time": "2021-10-06T08:54:29.459Z"
   },
   {
    "duration": -22207,
    "start_time": "2021-10-06T08:54:29.462Z"
   },
   {
    "duration": -22208,
    "start_time": "2021-10-06T08:54:29.465Z"
   },
   {
    "duration": -22209,
    "start_time": "2021-10-06T08:54:29.467Z"
   },
   {
    "duration": -22211,
    "start_time": "2021-10-06T08:54:29.470Z"
   },
   {
    "duration": -22211,
    "start_time": "2021-10-06T08:54:29.472Z"
   },
   {
    "duration": -22212,
    "start_time": "2021-10-06T08:54:29.474Z"
   },
   {
    "duration": -22214,
    "start_time": "2021-10-06T08:54:29.477Z"
   },
   {
    "duration": -22214,
    "start_time": "2021-10-06T08:54:29.479Z"
   },
   {
    "duration": -22215,
    "start_time": "2021-10-06T08:54:29.481Z"
   },
   {
    "duration": -22216,
    "start_time": "2021-10-06T08:54:29.483Z"
   },
   {
    "duration": -22217,
    "start_time": "2021-10-06T08:54:29.486Z"
   },
   {
    "duration": -22218,
    "start_time": "2021-10-06T08:54:29.488Z"
   },
   {
    "duration": -22220,
    "start_time": "2021-10-06T08:54:29.491Z"
   },
   {
    "duration": -22220,
    "start_time": "2021-10-06T08:54:29.493Z"
   },
   {
    "duration": -22256,
    "start_time": "2021-10-06T08:54:29.530Z"
   },
   {
    "duration": -22274,
    "start_time": "2021-10-06T08:54:29.549Z"
   },
   {
    "duration": -22274,
    "start_time": "2021-10-06T08:54:29.551Z"
   },
   {
    "duration": -22275,
    "start_time": "2021-10-06T08:54:29.553Z"
   },
   {
    "duration": -22276,
    "start_time": "2021-10-06T08:54:29.555Z"
   },
   {
    "duration": -22276,
    "start_time": "2021-10-06T08:54:29.557Z"
   },
   {
    "duration": -22277,
    "start_time": "2021-10-06T08:54:29.559Z"
   },
   {
    "duration": -22278,
    "start_time": "2021-10-06T08:54:29.561Z"
   },
   {
    "duration": -22278,
    "start_time": "2021-10-06T08:54:29.563Z"
   },
   {
    "duration": -22279,
    "start_time": "2021-10-06T08:54:29.565Z"
   },
   {
    "duration": 17,
    "start_time": "2021-10-06T08:54:30.209Z"
   },
   {
    "duration": 16,
    "start_time": "2021-10-06T08:54:38.905Z"
   },
   {
    "duration": 8,
    "start_time": "2021-10-06T08:55:12.874Z"
   },
   {
    "duration": 16,
    "start_time": "2021-10-06T08:56:34.284Z"
   },
   {
    "duration": 17,
    "start_time": "2021-10-06T08:56:42.224Z"
   },
   {
    "duration": 17,
    "start_time": "2021-10-06T08:56:49.160Z"
   },
   {
    "duration": 16,
    "start_time": "2021-10-06T08:59:13.416Z"
   },
   {
    "duration": 18,
    "start_time": "2021-10-06T08:59:29.487Z"
   },
   {
    "duration": 17,
    "start_time": "2021-10-06T08:59:48.864Z"
   },
   {
    "duration": 19,
    "start_time": "2021-10-06T09:00:10.399Z"
   },
   {
    "duration": 16,
    "start_time": "2021-10-06T09:00:45.377Z"
   },
   {
    "duration": 1465,
    "start_time": "2021-10-06T09:02:14.630Z"
   },
   {
    "duration": 65,
    "start_time": "2021-10-06T09:02:16.097Z"
   },
   {
    "duration": 16,
    "start_time": "2021-10-06T09:02:16.166Z"
   },
   {
    "duration": 11,
    "start_time": "2021-10-06T09:02:16.184Z"
   },
   {
    "duration": 28,
    "start_time": "2021-10-06T09:02:16.197Z"
   },
   {
    "duration": 32,
    "start_time": "2021-10-06T09:02:16.227Z"
   },
   {
    "duration": 64,
    "start_time": "2021-10-06T09:02:16.262Z"
   },
   {
    "duration": 28,
    "start_time": "2021-10-06T09:02:16.330Z"
   },
   {
    "duration": 9,
    "start_time": "2021-10-06T09:02:16.361Z"
   },
   {
    "duration": 10,
    "start_time": "2021-10-06T09:02:16.373Z"
   },
   {
    "duration": 43,
    "start_time": "2021-10-06T09:02:16.385Z"
   },
   {
    "duration": 3,
    "start_time": "2021-10-06T09:02:16.457Z"
   },
   {
    "duration": 13,
    "start_time": "2021-10-06T09:02:16.462Z"
   },
   {
    "duration": 24,
    "start_time": "2021-10-06T09:02:16.477Z"
   },
   {
    "duration": 8,
    "start_time": "2021-10-06T09:02:16.503Z"
   },
   {
    "duration": 9,
    "start_time": "2021-10-06T09:02:16.514Z"
   },
   {
    "duration": 74,
    "start_time": "2021-10-06T09:02:16.525Z"
   },
   {
    "duration": 34,
    "start_time": "2021-10-06T09:02:16.601Z"
   },
   {
    "duration": 886,
    "start_time": "2021-10-06T09:02:16.637Z"
   },
   {
    "duration": 36,
    "start_time": "2021-10-06T09:02:17.525Z"
   },
   {
    "duration": 6,
    "start_time": "2021-10-06T09:02:17.563Z"
   },
   {
    "duration": 1533,
    "start_time": "2021-10-06T09:02:17.572Z"
   },
   {
    "duration": 49,
    "start_time": "2021-10-06T09:02:19.110Z"
   },
   {
    "duration": 923,
    "start_time": "2021-10-06T09:02:19.161Z"
   },
   {
    "duration": 27,
    "start_time": "2021-10-06T09:02:20.086Z"
   },
   {
    "duration": 6,
    "start_time": "2021-10-06T09:02:20.116Z"
   },
   {
    "duration": 1705,
    "start_time": "2021-10-06T09:02:20.124Z"
   },
   {
    "duration": 39,
    "start_time": "2021-10-06T09:02:21.832Z"
   },
   {
    "duration": 19,
    "start_time": "2021-10-06T09:02:21.874Z"
   },
   {
    "duration": 69,
    "start_time": "2021-10-06T09:02:21.895Z"
   },
   {
    "duration": 1244,
    "start_time": "2021-10-06T09:02:21.966Z"
   },
   {
    "duration": 46,
    "start_time": "2021-10-06T09:02:23.213Z"
   },
   {
    "duration": 6,
    "start_time": "2021-10-06T09:02:23.261Z"
   },
   {
    "duration": 1671,
    "start_time": "2021-10-06T09:02:23.269Z"
   },
   {
    "duration": 31,
    "start_time": "2021-10-06T09:02:24.942Z"
   },
   {
    "duration": 445,
    "start_time": "2021-10-06T09:02:24.975Z"
   },
   {
    "duration": 16,
    "start_time": "2021-10-06T09:02:25.423Z"
   },
   {
    "duration": 21,
    "start_time": "2021-10-06T09:02:25.441Z"
   },
   {
    "duration": 1646,
    "start_time": "2021-10-06T09:02:25.464Z"
   },
   {
    "duration": 11,
    "start_time": "2021-10-06T09:02:27.112Z"
   },
   {
    "duration": 23,
    "start_time": "2021-10-06T09:02:27.125Z"
   },
   {
    "duration": 13,
    "start_time": "2021-10-06T09:02:27.157Z"
   },
   {
    "duration": 42,
    "start_time": "2021-10-06T09:02:27.172Z"
   },
   {
    "duration": 73155,
    "start_time": "2021-10-06T09:02:27.216Z"
   },
   {
    "duration": 552,
    "start_time": "2021-10-06T09:03:40.374Z"
   },
   {
    "duration": 8,
    "start_time": "2021-10-06T09:57:20.708Z"
   },
   {
    "duration": 10,
    "start_time": "2021-10-06T09:57:32.572Z"
   },
   {
    "duration": 11,
    "start_time": "2021-10-06T10:04:54.595Z"
   },
   {
    "duration": 1580,
    "start_time": "2021-10-06T10:14:44.613Z"
   },
   {
    "duration": 1480,
    "start_time": "2021-10-06T10:15:24.206Z"
   },
   {
    "duration": 1447,
    "start_time": "2021-10-06T10:16:16.448Z"
   },
   {
    "duration": 1613,
    "start_time": "2021-10-06T10:16:47.568Z"
   },
   {
    "duration": 468,
    "start_time": "2021-10-06T10:17:20.492Z"
   },
   {
    "duration": 689,
    "start_time": "2021-10-06T10:28:32.599Z"
   },
   {
    "duration": 1473,
    "start_time": "2021-10-06T10:28:57.907Z"
   },
   {
    "duration": 65,
    "start_time": "2021-10-06T10:28:59.382Z"
   },
   {
    "duration": 18,
    "start_time": "2021-10-06T10:28:59.457Z"
   },
   {
    "duration": 11,
    "start_time": "2021-10-06T10:28:59.478Z"
   },
   {
    "duration": 25,
    "start_time": "2021-10-06T10:28:59.492Z"
   },
   {
    "duration": 5,
    "start_time": "2021-10-06T10:28:59.520Z"
   },
   {
    "duration": 69,
    "start_time": "2021-10-06T10:28:59.527Z"
   },
   {
    "duration": 26,
    "start_time": "2021-10-06T10:28:59.600Z"
   },
   {
    "duration": 34,
    "start_time": "2021-10-06T10:28:59.629Z"
   },
   {
    "duration": 13,
    "start_time": "2021-10-06T10:28:59.666Z"
   },
   {
    "duration": 55,
    "start_time": "2021-10-06T10:28:59.681Z"
   },
   {
    "duration": 19,
    "start_time": "2021-10-06T10:28:59.739Z"
   },
   {
    "duration": 19,
    "start_time": "2021-10-06T10:28:59.761Z"
   },
   {
    "duration": 8,
    "start_time": "2021-10-06T10:28:59.783Z"
   },
   {
    "duration": 6,
    "start_time": "2021-10-06T10:28:59.794Z"
   },
   {
    "duration": 82,
    "start_time": "2021-10-06T10:28:59.802Z"
   },
   {
    "duration": 36,
    "start_time": "2021-10-06T10:28:59.886Z"
   },
   {
    "duration": 898,
    "start_time": "2021-10-06T10:28:59.924Z"
   },
   {
    "duration": 42,
    "start_time": "2021-10-06T10:29:00.825Z"
   },
   {
    "duration": 8,
    "start_time": "2021-10-06T10:29:00.871Z"
   },
   {
    "duration": 1517,
    "start_time": "2021-10-06T10:29:00.883Z"
   },
   {
    "duration": 8,
    "start_time": "2021-10-06T10:29:02.402Z"
   },
   {
    "duration": 59,
    "start_time": "2021-10-06T10:29:02.415Z"
   },
   {
    "duration": 839,
    "start_time": "2021-10-06T10:29:02.477Z"
   },
   {
    "duration": 40,
    "start_time": "2021-10-06T10:29:03.318Z"
   },
   {
    "duration": 6,
    "start_time": "2021-10-06T10:29:03.361Z"
   },
   {
    "duration": 1740,
    "start_time": "2021-10-06T10:29:03.369Z"
   },
   {
    "duration": 19,
    "start_time": "2021-10-06T10:29:05.111Z"
   },
   {
    "duration": 36,
    "start_time": "2021-10-06T10:29:05.133Z"
   },
   {
    "duration": 43,
    "start_time": "2021-10-06T10:29:05.172Z"
   },
   {
    "duration": 1363,
    "start_time": "2021-10-06T10:29:05.218Z"
   },
   {
    "duration": 33,
    "start_time": "2021-10-06T10:29:06.584Z"
   },
   {
    "duration": 6,
    "start_time": "2021-10-06T10:29:06.620Z"
   },
   {
    "duration": 1576,
    "start_time": "2021-10-06T10:29:06.629Z"
   },
   {
    "duration": 17,
    "start_time": "2021-10-06T10:29:08.208Z"
   },
   {
    "duration": 445,
    "start_time": "2021-10-06T10:29:08.228Z"
   },
   {
    "duration": 19,
    "start_time": "2021-10-06T10:29:08.676Z"
   },
   {
    "duration": 7,
    "start_time": "2021-10-06T10:29:08.698Z"
   },
   {
    "duration": 1697,
    "start_time": "2021-10-06T10:29:08.707Z"
   },
   {
    "duration": 11,
    "start_time": "2021-10-06T10:29:10.406Z"
   },
   {
    "duration": 33,
    "start_time": "2021-10-06T10:29:10.420Z"
   },
   {
    "duration": 25,
    "start_time": "2021-10-06T10:29:10.458Z"
   },
   {
    "duration": 26,
    "start_time": "2021-10-06T10:29:10.486Z"
   },
   {
    "duration": 70716,
    "start_time": "2021-10-06T10:29:10.514Z"
   },
   {
    "duration": 548,
    "start_time": "2021-10-06T10:30:21.232Z"
   }
  ],
  "kernelspec": {
   "display_name": "Python 3 (ipykernel)",
   "language": "python",
   "name": "python3"
  },
  "language_info": {
   "codemirror_mode": {
    "name": "ipython",
    "version": 3
   },
   "file_extension": ".py",
   "mimetype": "text/x-python",
   "name": "python",
   "nbconvert_exporter": "python",
   "pygments_lexer": "ipython3",
   "version": "3.10.5"
  },
  "toc": {
   "base_numbering": 1,
   "nav_menu": {},
   "number_sections": true,
   "sideBar": true,
   "skip_h1_title": true,
   "title_cell": "Содержание",
   "title_sidebar": "Contents",
   "toc_cell": true,
   "toc_position": {
    "height": "calc(100% - 180px)",
    "left": "10px",
    "top": "150px",
    "width": "184.797px"
   },
   "toc_section_display": true,
   "toc_window_display": true
  }
 },
 "nbformat": 4,
 "nbformat_minor": 2
}
