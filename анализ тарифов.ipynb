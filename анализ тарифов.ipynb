{
 "cells": [
  {
   "cell_type": "markdown",
   "metadata": {},
   "source": [
    "```\n",
    "Описание проекта\n",
    "Вы аналитик компании «Мегалайн» — федерального оператора сотовой связи. Клиентам предлагают два тарифных плана: «Смарт» и «Ультра». Чтобы скорректировать рекламный бюджет, коммерческий департамент хочет понять, какой тариф приносит больше денег.\n",
    "Вам предстоит сделать предварительный анализ тарифов на небольшой выборке клиентов. В вашем распоряжении данные 500 пользователей «Мегалайна»: кто они, откуда, каким тарифом пользуются, сколько звонков и сообщений каждый отправил за 2018 год. Нужно проанализировать поведение клиентов и сделать вывод — какой тариф лучше.\n",
    "```"
   ]
  },
  {
   "cell_type": "code",
   "execution_count": 1,
   "metadata": {},
   "outputs": [],
   "source": [
    "import pandas as pd\n",
    "import numpy as np\n",
    "import seaborn as sns\n",
    "import matplotlib.pyplot as plt\n",
    "from scipy import stats as st"
   ]
  },
  {
   "cell_type": "markdown",
   "metadata": {},
   "source": [
    "## Чтение и подготовка данных"
   ]
  },
  {
   "cell_type": "code",
   "execution_count": 2,
   "metadata": {},
   "outputs": [],
   "source": [
    "calls = pd.read_csv('/datasets/calls.csv')\n",
    "internet = pd.read_csv('/datasets/internet.csv', index_col=0)\n",
    "messages = pd.read_csv('/datasets/messages.csv')\n",
    "tariffs = pd.read_csv('/datasets/tariffs.csv')\n",
    "users = pd.read_csv('/datasets/users.csv')"
   ]
  },
  {
   "cell_type": "markdown",
   "metadata": {},
   "source": [
    "### Тарифы"
   ]
  },
  {
   "cell_type": "markdown",
   "metadata": {},
   "source": [
    "---\n",
    "```\n",
    "Описание тарифов\n",
    "\n",
    "Тариф «Смарт»\n",
    "Ежемесячная плата: 550 рублей\n",
    "Включено 500 минут разговора, 50 сообщений и 15 Гб интернет-трафика\n",
    "Стоимость услуг сверх тарифного пакета:\n",
    "1. минута разговора: 3 рубля («Мегалайн» всегда округляет вверх значения минут и мегабайтов. \n",
    "   Если пользователь проговорил всего 1 секунду, в тарифе засчитывается целая минута); \n",
    "2. сообщение: 3 рубля; \n",
    "3. 1 Гб интернет-трафика: 200 рублей.\n",
    "\n",
    "Тариф «Ультра»\n",
    "Ежемесячная плата: 1950 рублей\n",
    "Включено 3000 минут разговора, 1000 сообщений и 30 Гб интернет-трафика\n",
    "Стоимость услуг сверх тарифного пакета: \n",
    "1. минута разговора: 1 рубль; \n",
    "2. сообщение: 1 рубль; \n",
    "3. 1 Гб интернет-трафика: 150 рублей.\n",
    "\n",
    "Примечание:\n",
    "«Мегалайн» всегда округляет секунды до минут, а мегабайты — до гигабайт. \n",
    "Каждый звонок округляется отдельно: даже если он длился всего 1 секунду, будет засчитан как 1 минута.\n",
    "Для веб-трафика отдельные сессии не считаются. Вместо этого общая сумма за месяц округляется в бо́льшую сторону. \n",
    "Если абонент использует 1025 мегабайт в этом месяце, с него возьмут плату за 2 гигабайта.\n",
    "```"
   ]
  },
  {
   "cell_type": "markdown",
   "metadata": {},
   "source": [
    "```\n",
    "Таблица tariffs (информация о тарифах):\n",
    "tariff_name — название тарифа\n",
    "rub_monthly_fee — ежемесячная абонентская плата в рублях\n",
    "minutes_included — количество минут разговора в месяц, включённых в абонентскую плату\n",
    "messages_included — количество сообщений в месяц, включённых в абонентскую плату\n",
    "mb_per_month_included — объём интернет-трафика, включённого в абонентскую плату (в мегабайтах)\n",
    "rub_per_minute — стоимость минуты разговора сверх тарифного пакета (например, если в тарифе 100 минут разговора в месяц, то со 101 минуты будет взиматься плата)\n",
    "rub_per_message — стоимость отправки сообщения сверх тарифного пакета\n",
    "rub_per_gb — стоимость дополнительного гигабайта интернет-трафика сверх тарифного пакета (1 гигабайт = 1024 мегабайта)\n",
    "```"
   ]
  },
  {
   "cell_type": "code",
   "execution_count": 3,
   "metadata": {},
   "outputs": [
    {
     "name": "stdout",
     "output_type": "stream",
     "text": [
      "<class 'pandas.core.frame.DataFrame'>\n",
      "RangeIndex: 2 entries, 0 to 1\n",
      "Data columns (total 8 columns):\n",
      "messages_included        2 non-null int64\n",
      "mb_per_month_included    2 non-null int64\n",
      "minutes_included         2 non-null int64\n",
      "rub_monthly_fee          2 non-null int64\n",
      "rub_per_gb               2 non-null int64\n",
      "rub_per_message          2 non-null int64\n",
      "rub_per_minute           2 non-null int64\n",
      "tariff_name              2 non-null object\n",
      "dtypes: int64(7), object(1)\n",
      "memory usage: 256.0+ bytes\n",
      "------------------------------------------------------------------\n",
      "<class 'pandas.core.frame.DataFrame'>\n",
      "RangeIndex: 2 entries, 0 to 1\n",
      "Data columns (total 8 columns):\n",
      "messages_included        2 non-null uint16\n",
      "mb_per_month_included    2 non-null uint32\n",
      "minutes_included         2 non-null uint16\n",
      "rub_monthly_fee          2 non-null uint16\n",
      "rub_per_gb               2 non-null uint16\n",
      "rub_per_message          2 non-null uint8\n",
      "rub_per_minute           2 non-null uint8\n",
      "tariff_name              2 non-null object\n",
      "dtypes: object(1), uint16(4), uint32(1), uint8(2)\n",
      "memory usage: 172.0+ bytes\n",
      "------------------------------------------------------------------\n"
     ]
    },
    {
     "data": {
      "text/html": [
       "<div>\n",
       "<style scoped>\n",
       "    .dataframe tbody tr th:only-of-type {\n",
       "        vertical-align: middle;\n",
       "    }\n",
       "\n",
       "    .dataframe tbody tr th {\n",
       "        vertical-align: top;\n",
       "    }\n",
       "\n",
       "    .dataframe thead th {\n",
       "        text-align: right;\n",
       "    }\n",
       "</style>\n",
       "<table border=\"1\" class=\"dataframe\">\n",
       "  <thead>\n",
       "    <tr style=\"text-align: right;\">\n",
       "      <th></th>\n",
       "      <th>0</th>\n",
       "      <th>1</th>\n",
       "    </tr>\n",
       "  </thead>\n",
       "  <tbody>\n",
       "    <tr>\n",
       "      <td>messages_included</td>\n",
       "      <td>50</td>\n",
       "      <td>1000</td>\n",
       "    </tr>\n",
       "    <tr>\n",
       "      <td>mb_per_month_included</td>\n",
       "      <td>15360</td>\n",
       "      <td>30720</td>\n",
       "    </tr>\n",
       "    <tr>\n",
       "      <td>minutes_included</td>\n",
       "      <td>500</td>\n",
       "      <td>3000</td>\n",
       "    </tr>\n",
       "    <tr>\n",
       "      <td>rub_monthly_fee</td>\n",
       "      <td>550</td>\n",
       "      <td>1950</td>\n",
       "    </tr>\n",
       "    <tr>\n",
       "      <td>rub_per_gb</td>\n",
       "      <td>200</td>\n",
       "      <td>150</td>\n",
       "    </tr>\n",
       "    <tr>\n",
       "      <td>rub_per_message</td>\n",
       "      <td>3</td>\n",
       "      <td>1</td>\n",
       "    </tr>\n",
       "    <tr>\n",
       "      <td>rub_per_minute</td>\n",
       "      <td>3</td>\n",
       "      <td>1</td>\n",
       "    </tr>\n",
       "    <tr>\n",
       "      <td>tariff_name</td>\n",
       "      <td>smart</td>\n",
       "      <td>ultra</td>\n",
       "    </tr>\n",
       "  </tbody>\n",
       "</table>\n",
       "</div>"
      ],
      "text/plain": [
       "                           0      1\n",
       "messages_included         50   1000\n",
       "mb_per_month_included  15360  30720\n",
       "minutes_included         500   3000\n",
       "rub_monthly_fee          550   1950\n",
       "rub_per_gb               200    150\n",
       "rub_per_message            3      1\n",
       "rub_per_minute             3      1\n",
       "tariff_name            smart  ultra"
      ]
     },
     "execution_count": 3,
     "metadata": {},
     "output_type": "execute_result"
    }
   ],
   "source": [
    "tariffs.info()\n",
    "print('------------------------------------------------------------------')\n",
    "tariffs.messages_included = tariffs.messages_included.astype('uint16')\n",
    "tariffs.mb_per_month_included = tariffs.mb_per_month_included.astype('uint32')\n",
    "tariffs.minutes_included = tariffs.minutes_included.astype('uint16')\n",
    "tariffs.rub_monthly_fee = tariffs.rub_monthly_fee.astype('uint16')\n",
    "tariffs.rub_per_gb = tariffs.rub_per_gb.astype('uint16')\n",
    "tariffs.rub_per_message = tariffs.rub_per_message.astype('uint8')\n",
    "tariffs.rub_per_minute = tariffs.rub_per_minute.astype('uint8')\n",
    "tariffs.info()\n",
    "print('------------------------------------------------------------------')\n",
    "tariffs.T"
   ]
  },
  {
   "cell_type": "markdown",
   "metadata": {},
   "source": [
    "### Пользователи"
   ]
  },
  {
   "cell_type": "markdown",
   "metadata": {},
   "source": [
    "```\n",
    "Таблица users (информация о пользователях):\n",
    "user_id — уникальный идентификатор пользователя\n",
    "first_name — имя пользователя\n",
    "last_name — фамилия пользователя\n",
    "age — возраст пользователя (годы)\n",
    "reg_date — дата подключения тарифа (день, месяц, год)\n",
    "churn_date — дата прекращения пользования тарифом (если значение пропущено, \n",
    "то тариф ещё действовал на момент выгрузки данных)\n",
    "city — город проживания пользователя\n",
    "tarif — название тарифного плана\n",
    "\n",
    "```"
   ]
  },
  {
   "cell_type": "code",
   "execution_count": 4,
   "metadata": {
    "scrolled": false
   },
   "outputs": [
    {
     "name": "stdout",
     "output_type": "stream",
     "text": [
      "<class 'pandas.core.frame.DataFrame'>\n",
      "RangeIndex: 500 entries, 0 to 499\n",
      "Data columns (total 8 columns):\n",
      "user_id       500 non-null int64\n",
      "age           500 non-null int64\n",
      "churn_date    38 non-null object\n",
      "city          500 non-null object\n",
      "first_name    500 non-null object\n",
      "last_name     500 non-null object\n",
      "reg_date      500 non-null object\n",
      "tariff        500 non-null object\n",
      "dtypes: int64(2), object(6)\n",
      "memory usage: 31.4+ KB\n",
      "------------------------------------------------------------------\n",
      "<class 'pandas.core.frame.DataFrame'>\n",
      "RangeIndex: 500 entries, 0 to 499\n",
      "Data columns (total 9 columns):\n",
      "user_id       500 non-null uint16\n",
      "age           500 non-null uint8\n",
      "churn_date    38 non-null datetime64[ns]\n",
      "city          500 non-null object\n",
      "first_name    500 non-null object\n",
      "last_name     500 non-null object\n",
      "reg_date      500 non-null datetime64[ns]\n",
      "tariff        500 non-null object\n",
      "tariff_id     500 non-null uint8\n",
      "dtypes: datetime64[ns](2), object(4), uint16(1), uint8(2)\n",
      "memory usage: 25.5+ KB\n",
      "------------------------------------------------------------------\n",
      "Дубликатов строк: 0\n"
     ]
    },
    {
     "data": {
      "text/html": [
       "<div>\n",
       "<style scoped>\n",
       "    .dataframe tbody tr th:only-of-type {\n",
       "        vertical-align: middle;\n",
       "    }\n",
       "\n",
       "    .dataframe tbody tr th {\n",
       "        vertical-align: top;\n",
       "    }\n",
       "\n",
       "    .dataframe thead th {\n",
       "        text-align: right;\n",
       "    }\n",
       "</style>\n",
       "<table border=\"1\" class=\"dataframe\">\n",
       "  <thead>\n",
       "    <tr style=\"text-align: right;\">\n",
       "      <th></th>\n",
       "      <th>user_id</th>\n",
       "      <th>age</th>\n",
       "      <th>churn_date</th>\n",
       "      <th>city</th>\n",
       "      <th>first_name</th>\n",
       "      <th>last_name</th>\n",
       "      <th>reg_date</th>\n",
       "      <th>tariff</th>\n",
       "      <th>tariff_id</th>\n",
       "    </tr>\n",
       "  </thead>\n",
       "  <tbody>\n",
       "    <tr>\n",
       "      <td>0</td>\n",
       "      <td>1000</td>\n",
       "      <td>52</td>\n",
       "      <td>NaT</td>\n",
       "      <td>Краснодар</td>\n",
       "      <td>Рафаил</td>\n",
       "      <td>Верещагин</td>\n",
       "      <td>2018-05-25</td>\n",
       "      <td>ultra</td>\n",
       "      <td>1</td>\n",
       "    </tr>\n",
       "    <tr>\n",
       "      <td>1</td>\n",
       "      <td>1001</td>\n",
       "      <td>41</td>\n",
       "      <td>NaT</td>\n",
       "      <td>Москва</td>\n",
       "      <td>Иван</td>\n",
       "      <td>Ежов</td>\n",
       "      <td>2018-11-01</td>\n",
       "      <td>smart</td>\n",
       "      <td>0</td>\n",
       "    </tr>\n",
       "    <tr>\n",
       "      <td>2</td>\n",
       "      <td>1002</td>\n",
       "      <td>59</td>\n",
       "      <td>NaT</td>\n",
       "      <td>Стерлитамак</td>\n",
       "      <td>Евгений</td>\n",
       "      <td>Абрамович</td>\n",
       "      <td>2018-06-17</td>\n",
       "      <td>smart</td>\n",
       "      <td>0</td>\n",
       "    </tr>\n",
       "    <tr>\n",
       "      <td>3</td>\n",
       "      <td>1003</td>\n",
       "      <td>23</td>\n",
       "      <td>NaT</td>\n",
       "      <td>Москва</td>\n",
       "      <td>Белла</td>\n",
       "      <td>Белякова</td>\n",
       "      <td>2018-08-17</td>\n",
       "      <td>ultra</td>\n",
       "      <td>1</td>\n",
       "    </tr>\n",
       "    <tr>\n",
       "      <td>4</td>\n",
       "      <td>1004</td>\n",
       "      <td>68</td>\n",
       "      <td>NaT</td>\n",
       "      <td>Новокузнецк</td>\n",
       "      <td>Татьяна</td>\n",
       "      <td>Авдеенко</td>\n",
       "      <td>2018-05-14</td>\n",
       "      <td>ultra</td>\n",
       "      <td>1</td>\n",
       "    </tr>\n",
       "    <tr>\n",
       "      <td>...</td>\n",
       "      <td>...</td>\n",
       "      <td>...</td>\n",
       "      <td>...</td>\n",
       "      <td>...</td>\n",
       "      <td>...</td>\n",
       "      <td>...</td>\n",
       "      <td>...</td>\n",
       "      <td>...</td>\n",
       "      <td>...</td>\n",
       "    </tr>\n",
       "    <tr>\n",
       "      <td>495</td>\n",
       "      <td>1495</td>\n",
       "      <td>65</td>\n",
       "      <td>NaT</td>\n",
       "      <td>Иркутск</td>\n",
       "      <td>Авксентий</td>\n",
       "      <td>Фокин</td>\n",
       "      <td>2018-08-28</td>\n",
       "      <td>ultra</td>\n",
       "      <td>1</td>\n",
       "    </tr>\n",
       "    <tr>\n",
       "      <td>496</td>\n",
       "      <td>1496</td>\n",
       "      <td>36</td>\n",
       "      <td>NaT</td>\n",
       "      <td>Вологда</td>\n",
       "      <td>Трифон</td>\n",
       "      <td>Блохин</td>\n",
       "      <td>2018-01-27</td>\n",
       "      <td>smart</td>\n",
       "      <td>0</td>\n",
       "    </tr>\n",
       "    <tr>\n",
       "      <td>497</td>\n",
       "      <td>1497</td>\n",
       "      <td>32</td>\n",
       "      <td>NaT</td>\n",
       "      <td>Челябинск</td>\n",
       "      <td>Каролина</td>\n",
       "      <td>Агеева</td>\n",
       "      <td>2018-10-09</td>\n",
       "      <td>smart</td>\n",
       "      <td>0</td>\n",
       "    </tr>\n",
       "    <tr>\n",
       "      <td>498</td>\n",
       "      <td>1498</td>\n",
       "      <td>68</td>\n",
       "      <td>2018-10-25</td>\n",
       "      <td>Владикавказ</td>\n",
       "      <td>Всеволод</td>\n",
       "      <td>Акимчин</td>\n",
       "      <td>2018-07-19</td>\n",
       "      <td>smart</td>\n",
       "      <td>0</td>\n",
       "    </tr>\n",
       "    <tr>\n",
       "      <td>499</td>\n",
       "      <td>1499</td>\n",
       "      <td>35</td>\n",
       "      <td>NaT</td>\n",
       "      <td>Пермь</td>\n",
       "      <td>Гектор</td>\n",
       "      <td>Корнилов</td>\n",
       "      <td>2018-09-27</td>\n",
       "      <td>smart</td>\n",
       "      <td>0</td>\n",
       "    </tr>\n",
       "  </tbody>\n",
       "</table>\n",
       "<p>500 rows × 9 columns</p>\n",
       "</div>"
      ],
      "text/plain": [
       "     user_id  age churn_date         city first_name  last_name   reg_date  \\\n",
       "0       1000   52        NaT    Краснодар     Рафаил  Верещагин 2018-05-25   \n",
       "1       1001   41        NaT       Москва       Иван       Ежов 2018-11-01   \n",
       "2       1002   59        NaT  Стерлитамак    Евгений  Абрамович 2018-06-17   \n",
       "3       1003   23        NaT       Москва      Белла   Белякова 2018-08-17   \n",
       "4       1004   68        NaT  Новокузнецк    Татьяна   Авдеенко 2018-05-14   \n",
       "..       ...  ...        ...          ...        ...        ...        ...   \n",
       "495     1495   65        NaT      Иркутск  Авксентий      Фокин 2018-08-28   \n",
       "496     1496   36        NaT      Вологда     Трифон     Блохин 2018-01-27   \n",
       "497     1497   32        NaT    Челябинск   Каролина     Агеева 2018-10-09   \n",
       "498     1498   68 2018-10-25  Владикавказ   Всеволод    Акимчин 2018-07-19   \n",
       "499     1499   35        NaT        Пермь     Гектор   Корнилов 2018-09-27   \n",
       "\n",
       "    tariff  tariff_id  \n",
       "0    ultra          1  \n",
       "1    smart          0  \n",
       "2    smart          0  \n",
       "3    ultra          1  \n",
       "4    ultra          1  \n",
       "..     ...        ...  \n",
       "495  ultra          1  \n",
       "496  smart          0  \n",
       "497  smart          0  \n",
       "498  smart          0  \n",
       "499  smart          0  \n",
       "\n",
       "[500 rows x 9 columns]"
      ]
     },
     "execution_count": 4,
     "metadata": {},
     "output_type": "execute_result"
    }
   ],
   "source": [
    "users.info()\n",
    "print('------------------------------------------------------------------')\n",
    "users.user_id = users.user_id.astype('uint16')\n",
    "users.age = users.age.astype('uint8')\n",
    "users.churn_date = pd.to_datetime(users.churn_date, format='%Y-%m-%d')\n",
    "users.reg_date = pd.to_datetime(users.reg_date, format='%Y-%m-%d')\n",
    "users['tariff_id'] = 0\n",
    "users.tariff_id = (users.tariff_id.where(users.tariff=='smart', 1)).astype('uint8')\n",
    "users.info()\n",
    "print('------------------------------------------------------------------')\n",
    "print('Дубликатов строк:', users.duplicated().sum())\n",
    "users"
   ]
  },
  {
   "cell_type": "markdown",
   "metadata": {},
   "source": [
    "### Звонки"
   ]
  },
  {
   "cell_type": "markdown",
   "metadata": {},
   "source": [
    "```\n",
    "Таблица calls (информация о звонках):\n",
    "id — уникальный номер звонка\n",
    "call_date — дата звонка\n",
    "duration — длительность звонка в минутах\n",
    "user_id — идентификатор пользователя, сделавшего звонок\n",
    "```"
   ]
  },
  {
   "cell_type": "code",
   "execution_count": 5,
   "metadata": {},
   "outputs": [
    {
     "name": "stdout",
     "output_type": "stream",
     "text": [
      "<class 'pandas.core.frame.DataFrame'>\n",
      "RangeIndex: 202607 entries, 0 to 202606\n",
      "Data columns (total 4 columns):\n",
      "id           202607 non-null object\n",
      "call_date    202607 non-null object\n",
      "duration     202607 non-null float64\n",
      "user_id      202607 non-null int64\n",
      "dtypes: float64(1), int64(1), object(2)\n",
      "memory usage: 6.2+ MB\n",
      "------------------------------------------------------------------\n",
      "<class 'pandas.core.frame.DataFrame'>\n",
      "RangeIndex: 202607 entries, 0 to 202606\n",
      "Data columns (total 5 columns):\n",
      "id           202607 non-null object\n",
      "call_date    202607 non-null datetime64[ns]\n",
      "duration     202607 non-null uint16\n",
      "user_id      202607 non-null uint16\n",
      "month        202607 non-null datetime64[ns]\n",
      "dtypes: datetime64[ns](2), object(1), uint16(2)\n",
      "memory usage: 5.4+ MB\n",
      "------------------------------------------------------------------\n",
      "Дубликатов строк: 0\n"
     ]
    },
    {
     "data": {
      "text/html": [
       "<div>\n",
       "<style scoped>\n",
       "    .dataframe tbody tr th:only-of-type {\n",
       "        vertical-align: middle;\n",
       "    }\n",
       "\n",
       "    .dataframe tbody tr th {\n",
       "        vertical-align: top;\n",
       "    }\n",
       "\n",
       "    .dataframe thead th {\n",
       "        text-align: right;\n",
       "    }\n",
       "</style>\n",
       "<table border=\"1\" class=\"dataframe\">\n",
       "  <thead>\n",
       "    <tr style=\"text-align: right;\">\n",
       "      <th></th>\n",
       "      <th>id</th>\n",
       "      <th>call_date</th>\n",
       "      <th>duration</th>\n",
       "      <th>user_id</th>\n",
       "      <th>month</th>\n",
       "    </tr>\n",
       "  </thead>\n",
       "  <tbody>\n",
       "    <tr>\n",
       "      <td>0</td>\n",
       "      <td>1000_0</td>\n",
       "      <td>2018-07-25</td>\n",
       "      <td>0</td>\n",
       "      <td>1000</td>\n",
       "      <td>2018-07-01</td>\n",
       "    </tr>\n",
       "    <tr>\n",
       "      <td>1</td>\n",
       "      <td>1000_1</td>\n",
       "      <td>2018-08-17</td>\n",
       "      <td>0</td>\n",
       "      <td>1000</td>\n",
       "      <td>2018-08-01</td>\n",
       "    </tr>\n",
       "    <tr>\n",
       "      <td>2</td>\n",
       "      <td>1000_2</td>\n",
       "      <td>2018-06-11</td>\n",
       "      <td>3</td>\n",
       "      <td>1000</td>\n",
       "      <td>2018-06-01</td>\n",
       "    </tr>\n",
       "    <tr>\n",
       "      <td>3</td>\n",
       "      <td>1000_3</td>\n",
       "      <td>2018-09-21</td>\n",
       "      <td>14</td>\n",
       "      <td>1000</td>\n",
       "      <td>2018-09-01</td>\n",
       "    </tr>\n",
       "    <tr>\n",
       "      <td>4</td>\n",
       "      <td>1000_4</td>\n",
       "      <td>2018-12-15</td>\n",
       "      <td>6</td>\n",
       "      <td>1000</td>\n",
       "      <td>2018-12-01</td>\n",
       "    </tr>\n",
       "    <tr>\n",
       "      <td>...</td>\n",
       "      <td>...</td>\n",
       "      <td>...</td>\n",
       "      <td>...</td>\n",
       "      <td>...</td>\n",
       "      <td>...</td>\n",
       "    </tr>\n",
       "    <tr>\n",
       "      <td>202602</td>\n",
       "      <td>1499_215</td>\n",
       "      <td>2018-12-26</td>\n",
       "      <td>1</td>\n",
       "      <td>1499</td>\n",
       "      <td>2018-12-01</td>\n",
       "    </tr>\n",
       "    <tr>\n",
       "      <td>202603</td>\n",
       "      <td>1499_216</td>\n",
       "      <td>2018-10-18</td>\n",
       "      <td>19</td>\n",
       "      <td>1499</td>\n",
       "      <td>2018-10-01</td>\n",
       "    </tr>\n",
       "    <tr>\n",
       "      <td>202604</td>\n",
       "      <td>1499_217</td>\n",
       "      <td>2018-11-10</td>\n",
       "      <td>11</td>\n",
       "      <td>1499</td>\n",
       "      <td>2018-11-01</td>\n",
       "    </tr>\n",
       "    <tr>\n",
       "      <td>202605</td>\n",
       "      <td>1499_218</td>\n",
       "      <td>2018-10-06</td>\n",
       "      <td>5</td>\n",
       "      <td>1499</td>\n",
       "      <td>2018-10-01</td>\n",
       "    </tr>\n",
       "    <tr>\n",
       "      <td>202606</td>\n",
       "      <td>1499_219</td>\n",
       "      <td>2018-12-14</td>\n",
       "      <td>20</td>\n",
       "      <td>1499</td>\n",
       "      <td>2018-12-01</td>\n",
       "    </tr>\n",
       "  </tbody>\n",
       "</table>\n",
       "<p>202607 rows × 5 columns</p>\n",
       "</div>"
      ],
      "text/plain": [
       "              id  call_date  duration  user_id      month\n",
       "0         1000_0 2018-07-25         0     1000 2018-07-01\n",
       "1         1000_1 2018-08-17         0     1000 2018-08-01\n",
       "2         1000_2 2018-06-11         3     1000 2018-06-01\n",
       "3         1000_3 2018-09-21        14     1000 2018-09-01\n",
       "4         1000_4 2018-12-15         6     1000 2018-12-01\n",
       "...          ...        ...       ...      ...        ...\n",
       "202602  1499_215 2018-12-26         1     1499 2018-12-01\n",
       "202603  1499_216 2018-10-18        19     1499 2018-10-01\n",
       "202604  1499_217 2018-11-10        11     1499 2018-11-01\n",
       "202605  1499_218 2018-10-06         5     1499 2018-10-01\n",
       "202606  1499_219 2018-12-14        20     1499 2018-12-01\n",
       "\n",
       "[202607 rows x 5 columns]"
      ]
     },
     "execution_count": 5,
     "metadata": {},
     "output_type": "execute_result"
    }
   ],
   "source": [
    "calls.info()\n",
    "print('------------------------------------------------------------------')\n",
    "calls.call_date = pd.to_datetime(calls.call_date, format='%Y-%m-%d')\n",
    "calls['month'] = calls.call_date.astype('datetime64[M]') #(calls.call_date.dt.month).astype('uint8')\n",
    "calls.user_id = calls.user_id.astype('uint16')\n",
    "calls.duration = (calls.duration.apply(np.ceil)).astype('uint16')\n",
    "calls.info()\n",
    "print('------------------------------------------------------------------')\n",
    "print('Дубликатов строк:', calls.duplicated().sum())\n",
    "calls"
   ]
  },
  {
   "cell_type": "markdown",
   "metadata": {},
   "source": [
    "### Интернет"
   ]
  },
  {
   "cell_type": "markdown",
   "metadata": {},
   "source": [
    "```\n",
    "Таблица internet (информация об интернет-сессиях):\n",
    "id — уникальный номер сессии\n",
    "mb_used — объём потраченного за сессию интернет-трафика (в мегабайтах)\n",
    "session_date — дата интернет-сессии\n",
    "user_id — идентификатор пользователя\n",
    "```"
   ]
  },
  {
   "cell_type": "code",
   "execution_count": 6,
   "metadata": {},
   "outputs": [
    {
     "name": "stdout",
     "output_type": "stream",
     "text": [
      "<class 'pandas.core.frame.DataFrame'>\n",
      "Int64Index: 149396 entries, 0 to 149395\n",
      "Data columns (total 4 columns):\n",
      "id              149396 non-null object\n",
      "mb_used         149396 non-null float64\n",
      "session_date    149396 non-null object\n",
      "user_id         149396 non-null int64\n",
      "dtypes: float64(1), int64(1), object(2)\n",
      "memory usage: 5.7+ MB\n",
      "------------------------------------------------------------------\n",
      "<class 'pandas.core.frame.DataFrame'>\n",
      "Int64Index: 149396 entries, 0 to 149395\n",
      "Data columns (total 5 columns):\n",
      "id              149396 non-null object\n",
      "mb_used         149396 non-null float64\n",
      "session_date    149396 non-null datetime64[ns]\n",
      "user_id         149396 non-null uint16\n",
      "month           149396 non-null datetime64[ns]\n",
      "dtypes: datetime64[ns](2), float64(1), object(1), uint16(1)\n",
      "memory usage: 6.0+ MB\n",
      "------------------------------------------------------------------\n",
      "Дубликатов строк: 0\n"
     ]
    },
    {
     "data": {
      "text/html": [
       "<div>\n",
       "<style scoped>\n",
       "    .dataframe tbody tr th:only-of-type {\n",
       "        vertical-align: middle;\n",
       "    }\n",
       "\n",
       "    .dataframe tbody tr th {\n",
       "        vertical-align: top;\n",
       "    }\n",
       "\n",
       "    .dataframe thead th {\n",
       "        text-align: right;\n",
       "    }\n",
       "</style>\n",
       "<table border=\"1\" class=\"dataframe\">\n",
       "  <thead>\n",
       "    <tr style=\"text-align: right;\">\n",
       "      <th></th>\n",
       "      <th>id</th>\n",
       "      <th>mb_used</th>\n",
       "      <th>session_date</th>\n",
       "      <th>user_id</th>\n",
       "      <th>month</th>\n",
       "    </tr>\n",
       "  </thead>\n",
       "  <tbody>\n",
       "    <tr>\n",
       "      <td>0</td>\n",
       "      <td>1000_0</td>\n",
       "      <td>112.95</td>\n",
       "      <td>2018-11-25</td>\n",
       "      <td>1000</td>\n",
       "      <td>2018-11-01</td>\n",
       "    </tr>\n",
       "    <tr>\n",
       "      <td>1</td>\n",
       "      <td>1000_1</td>\n",
       "      <td>1052.81</td>\n",
       "      <td>2018-09-07</td>\n",
       "      <td>1000</td>\n",
       "      <td>2018-09-01</td>\n",
       "    </tr>\n",
       "    <tr>\n",
       "      <td>2</td>\n",
       "      <td>1000_2</td>\n",
       "      <td>1197.26</td>\n",
       "      <td>2018-06-25</td>\n",
       "      <td>1000</td>\n",
       "      <td>2018-06-01</td>\n",
       "    </tr>\n",
       "    <tr>\n",
       "      <td>3</td>\n",
       "      <td>1000_3</td>\n",
       "      <td>550.27</td>\n",
       "      <td>2018-08-22</td>\n",
       "      <td>1000</td>\n",
       "      <td>2018-08-01</td>\n",
       "    </tr>\n",
       "    <tr>\n",
       "      <td>4</td>\n",
       "      <td>1000_4</td>\n",
       "      <td>302.56</td>\n",
       "      <td>2018-09-24</td>\n",
       "      <td>1000</td>\n",
       "      <td>2018-09-01</td>\n",
       "    </tr>\n",
       "    <tr>\n",
       "      <td>...</td>\n",
       "      <td>...</td>\n",
       "      <td>...</td>\n",
       "      <td>...</td>\n",
       "      <td>...</td>\n",
       "      <td>...</td>\n",
       "    </tr>\n",
       "    <tr>\n",
       "      <td>149391</td>\n",
       "      <td>1499_152</td>\n",
       "      <td>318.90</td>\n",
       "      <td>2018-10-03</td>\n",
       "      <td>1499</td>\n",
       "      <td>2018-10-01</td>\n",
       "    </tr>\n",
       "    <tr>\n",
       "      <td>149392</td>\n",
       "      <td>1499_153</td>\n",
       "      <td>490.13</td>\n",
       "      <td>2018-12-14</td>\n",
       "      <td>1499</td>\n",
       "      <td>2018-12-01</td>\n",
       "    </tr>\n",
       "    <tr>\n",
       "      <td>149393</td>\n",
       "      <td>1499_154</td>\n",
       "      <td>0.00</td>\n",
       "      <td>2018-10-27</td>\n",
       "      <td>1499</td>\n",
       "      <td>2018-10-01</td>\n",
       "    </tr>\n",
       "    <tr>\n",
       "      <td>149394</td>\n",
       "      <td>1499_155</td>\n",
       "      <td>1246.32</td>\n",
       "      <td>2018-11-26</td>\n",
       "      <td>1499</td>\n",
       "      <td>2018-11-01</td>\n",
       "    </tr>\n",
       "    <tr>\n",
       "      <td>149395</td>\n",
       "      <td>1499_156</td>\n",
       "      <td>544.37</td>\n",
       "      <td>2018-10-26</td>\n",
       "      <td>1499</td>\n",
       "      <td>2018-10-01</td>\n",
       "    </tr>\n",
       "  </tbody>\n",
       "</table>\n",
       "<p>149396 rows × 5 columns</p>\n",
       "</div>"
      ],
      "text/plain": [
       "              id  mb_used session_date  user_id      month\n",
       "0         1000_0   112.95   2018-11-25     1000 2018-11-01\n",
       "1         1000_1  1052.81   2018-09-07     1000 2018-09-01\n",
       "2         1000_2  1197.26   2018-06-25     1000 2018-06-01\n",
       "3         1000_3   550.27   2018-08-22     1000 2018-08-01\n",
       "4         1000_4   302.56   2018-09-24     1000 2018-09-01\n",
       "...          ...      ...          ...      ...        ...\n",
       "149391  1499_152   318.90   2018-10-03     1499 2018-10-01\n",
       "149392  1499_153   490.13   2018-12-14     1499 2018-12-01\n",
       "149393  1499_154     0.00   2018-10-27     1499 2018-10-01\n",
       "149394  1499_155  1246.32   2018-11-26     1499 2018-11-01\n",
       "149395  1499_156   544.37   2018-10-26     1499 2018-10-01\n",
       "\n",
       "[149396 rows x 5 columns]"
      ]
     },
     "execution_count": 6,
     "metadata": {},
     "output_type": "execute_result"
    }
   ],
   "source": [
    "internet.info()\n",
    "print('------------------------------------------------------------------')\n",
    "internet.session_date = pd.to_datetime(internet.session_date, format='%Y-%m-%d')\n",
    "internet['month'] = internet.session_date.astype('datetime64[M]') #(internet.session_date.dt.month).astype('uint8')\n",
    "internet.user_id = internet.user_id.astype('uint16')\n",
    "internet.info()\n",
    "print('------------------------------------------------------------------')\n",
    "print('Дубликатов строк:', internet.duplicated().sum())\n",
    "internet"
   ]
  },
  {
   "cell_type": "markdown",
   "metadata": {},
   "source": [
    "### Сообщения"
   ]
  },
  {
   "cell_type": "markdown",
   "metadata": {},
   "source": [
    "```\n",
    "Таблица messages (информация о сообщениях):\n",
    "id — уникальный номер сообщения\n",
    "message_date — дата сообщения\n",
    "user_id — идентификатор пользователя, отправившего сообщение\n",
    "```"
   ]
  },
  {
   "cell_type": "code",
   "execution_count": 7,
   "metadata": {},
   "outputs": [
    {
     "name": "stdout",
     "output_type": "stream",
     "text": [
      "<class 'pandas.core.frame.DataFrame'>\n",
      "RangeIndex: 123036 entries, 0 to 123035\n",
      "Data columns (total 3 columns):\n",
      "id              123036 non-null object\n",
      "message_date    123036 non-null object\n",
      "user_id         123036 non-null int64\n",
      "dtypes: int64(1), object(2)\n",
      "memory usage: 2.8+ MB\n",
      "------------------------------------------------------------------\n",
      "<class 'pandas.core.frame.DataFrame'>\n",
      "RangeIndex: 123036 entries, 0 to 123035\n",
      "Data columns (total 4 columns):\n",
      "id              123036 non-null object\n",
      "message_date    123036 non-null datetime64[ns]\n",
      "user_id         123036 non-null uint16\n",
      "month           123036 non-null datetime64[ns]\n",
      "dtypes: datetime64[ns](2), object(1), uint16(1)\n",
      "memory usage: 3.1+ MB\n",
      "------------------------------------------------------------------\n",
      "Дубликатов строк: 0\n"
     ]
    },
    {
     "data": {
      "text/html": [
       "<div>\n",
       "<style scoped>\n",
       "    .dataframe tbody tr th:only-of-type {\n",
       "        vertical-align: middle;\n",
       "    }\n",
       "\n",
       "    .dataframe tbody tr th {\n",
       "        vertical-align: top;\n",
       "    }\n",
       "\n",
       "    .dataframe thead th {\n",
       "        text-align: right;\n",
       "    }\n",
       "</style>\n",
       "<table border=\"1\" class=\"dataframe\">\n",
       "  <thead>\n",
       "    <tr style=\"text-align: right;\">\n",
       "      <th></th>\n",
       "      <th>id</th>\n",
       "      <th>message_date</th>\n",
       "      <th>user_id</th>\n",
       "      <th>month</th>\n",
       "    </tr>\n",
       "  </thead>\n",
       "  <tbody>\n",
       "    <tr>\n",
       "      <td>0</td>\n",
       "      <td>1000_0</td>\n",
       "      <td>2018-06-27</td>\n",
       "      <td>1000</td>\n",
       "      <td>2018-06-01</td>\n",
       "    </tr>\n",
       "    <tr>\n",
       "      <td>1</td>\n",
       "      <td>1000_1</td>\n",
       "      <td>2018-10-08</td>\n",
       "      <td>1000</td>\n",
       "      <td>2018-10-01</td>\n",
       "    </tr>\n",
       "    <tr>\n",
       "      <td>2</td>\n",
       "      <td>1000_2</td>\n",
       "      <td>2018-08-04</td>\n",
       "      <td>1000</td>\n",
       "      <td>2018-08-01</td>\n",
       "    </tr>\n",
       "    <tr>\n",
       "      <td>3</td>\n",
       "      <td>1000_3</td>\n",
       "      <td>2018-06-16</td>\n",
       "      <td>1000</td>\n",
       "      <td>2018-06-01</td>\n",
       "    </tr>\n",
       "    <tr>\n",
       "      <td>4</td>\n",
       "      <td>1000_4</td>\n",
       "      <td>2018-12-05</td>\n",
       "      <td>1000</td>\n",
       "      <td>2018-12-01</td>\n",
       "    </tr>\n",
       "    <tr>\n",
       "      <td>...</td>\n",
       "      <td>...</td>\n",
       "      <td>...</td>\n",
       "      <td>...</td>\n",
       "      <td>...</td>\n",
       "    </tr>\n",
       "    <tr>\n",
       "      <td>123031</td>\n",
       "      <td>1499_179</td>\n",
       "      <td>2018-12-12</td>\n",
       "      <td>1499</td>\n",
       "      <td>2018-12-01</td>\n",
       "    </tr>\n",
       "    <tr>\n",
       "      <td>123032</td>\n",
       "      <td>1499_180</td>\n",
       "      <td>2018-09-28</td>\n",
       "      <td>1499</td>\n",
       "      <td>2018-09-01</td>\n",
       "    </tr>\n",
       "    <tr>\n",
       "      <td>123033</td>\n",
       "      <td>1499_181</td>\n",
       "      <td>2018-09-27</td>\n",
       "      <td>1499</td>\n",
       "      <td>2018-09-01</td>\n",
       "    </tr>\n",
       "    <tr>\n",
       "      <td>123034</td>\n",
       "      <td>1499_182</td>\n",
       "      <td>2018-11-15</td>\n",
       "      <td>1499</td>\n",
       "      <td>2018-11-01</td>\n",
       "    </tr>\n",
       "    <tr>\n",
       "      <td>123035</td>\n",
       "      <td>1499_183</td>\n",
       "      <td>2018-11-16</td>\n",
       "      <td>1499</td>\n",
       "      <td>2018-11-01</td>\n",
       "    </tr>\n",
       "  </tbody>\n",
       "</table>\n",
       "<p>123036 rows × 4 columns</p>\n",
       "</div>"
      ],
      "text/plain": [
       "              id message_date  user_id      month\n",
       "0         1000_0   2018-06-27     1000 2018-06-01\n",
       "1         1000_1   2018-10-08     1000 2018-10-01\n",
       "2         1000_2   2018-08-04     1000 2018-08-01\n",
       "3         1000_3   2018-06-16     1000 2018-06-01\n",
       "4         1000_4   2018-12-05     1000 2018-12-01\n",
       "...          ...          ...      ...        ...\n",
       "123031  1499_179   2018-12-12     1499 2018-12-01\n",
       "123032  1499_180   2018-09-28     1499 2018-09-01\n",
       "123033  1499_181   2018-09-27     1499 2018-09-01\n",
       "123034  1499_182   2018-11-15     1499 2018-11-01\n",
       "123035  1499_183   2018-11-16     1499 2018-11-01\n",
       "\n",
       "[123036 rows x 4 columns]"
      ]
     },
     "execution_count": 7,
     "metadata": {},
     "output_type": "execute_result"
    }
   ],
   "source": [
    "messages.info()\n",
    "print('------------------------------------------------------------------')\n",
    "messages.message_date = pd.to_datetime(messages.message_date, format='%Y-%m-%d')\n",
    "messages['month'] =  messages.message_date.astype('datetime64[M]') #(messages.message_date.dt.month).astype('uint8')\n",
    "messages.user_id = messages.user_id.astype('uint16')\n",
    "messages.info()\n",
    "print('------------------------------------------------------------------')\n",
    "print('Дубликатов строк:', messages.duplicated().sum())\n",
    "messages"
   ]
  },
  {
   "cell_type": "markdown",
   "metadata": {},
   "source": [
    "### Вывод"
   ]
  },
  {
   "cell_type": "markdown",
   "metadata": {},
   "source": [
    "```\n",
    "Исходные данные хорошего качества, пропусков нет, дубликатов строк нет.\n",
    "Типы данных были приведены в соответствие с содержимым столбцов.\n",
    "Время разговоров округлено до минут вверх согласно политикой ОПСОС\n",
    "В таблицы calls, internet, messages  добавлены столбцы month для \n",
    "дальнейшей группировки и объединения таблиц.\n",
    "Также в таблицу users добавлен столбец tariff_id как числовой идентификатор тарифа\n",
    "```"
   ]
  },
  {
   "cell_type": "markdown",
   "metadata": {},
   "source": [
    "## Расчет потребления  услуг пользователями по месяцам:"
   ]
  },
  {
   "cell_type": "markdown",
   "metadata": {},
   "source": [
    "### Количество и суммарная продолжительность звонков:"
   ]
  },
  {
   "cell_type": "code",
   "execution_count": 8,
   "metadata": {},
   "outputs": [
    {
     "data": {
      "text/html": [
       "<div>\n",
       "<style scoped>\n",
       "    .dataframe tbody tr th:only-of-type {\n",
       "        vertical-align: middle;\n",
       "    }\n",
       "\n",
       "    .dataframe tbody tr th {\n",
       "        vertical-align: top;\n",
       "    }\n",
       "\n",
       "    .dataframe thead th {\n",
       "        text-align: right;\n",
       "    }\n",
       "</style>\n",
       "<table border=\"1\" class=\"dataframe\">\n",
       "  <thead>\n",
       "    <tr style=\"text-align: right;\">\n",
       "      <th></th>\n",
       "      <th></th>\n",
       "      <th>calls_qnt</th>\n",
       "      <th>calls_duration</th>\n",
       "    </tr>\n",
       "    <tr>\n",
       "      <th>user_id</th>\n",
       "      <th>month</th>\n",
       "      <th></th>\n",
       "      <th></th>\n",
       "    </tr>\n",
       "  </thead>\n",
       "  <tbody>\n",
       "    <tr>\n",
       "      <td rowspan=\"5\" valign=\"top\">1000</td>\n",
       "      <td>2018-05-01</td>\n",
       "      <td>22</td>\n",
       "      <td>159</td>\n",
       "    </tr>\n",
       "    <tr>\n",
       "      <td>2018-06-01</td>\n",
       "      <td>43</td>\n",
       "      <td>172</td>\n",
       "    </tr>\n",
       "    <tr>\n",
       "      <td>2018-07-01</td>\n",
       "      <td>47</td>\n",
       "      <td>340</td>\n",
       "    </tr>\n",
       "    <tr>\n",
       "      <td>2018-08-01</td>\n",
       "      <td>52</td>\n",
       "      <td>408</td>\n",
       "    </tr>\n",
       "    <tr>\n",
       "      <td>2018-09-01</td>\n",
       "      <td>58</td>\n",
       "      <td>466</td>\n",
       "    </tr>\n",
       "    <tr>\n",
       "      <td>...</td>\n",
       "      <td>...</td>\n",
       "      <td>...</td>\n",
       "      <td>...</td>\n",
       "    </tr>\n",
       "    <tr>\n",
       "      <td>1498</td>\n",
       "      <td>2018-10-01</td>\n",
       "      <td>41</td>\n",
       "      <td>247</td>\n",
       "    </tr>\n",
       "    <tr>\n",
       "      <td rowspan=\"4\" valign=\"top\">1499</td>\n",
       "      <td>2018-09-01</td>\n",
       "      <td>9</td>\n",
       "      <td>70</td>\n",
       "    </tr>\n",
       "    <tr>\n",
       "      <td>2018-10-01</td>\n",
       "      <td>68</td>\n",
       "      <td>449</td>\n",
       "    </tr>\n",
       "    <tr>\n",
       "      <td>2018-11-01</td>\n",
       "      <td>74</td>\n",
       "      <td>612</td>\n",
       "    </tr>\n",
       "    <tr>\n",
       "      <td>2018-12-01</td>\n",
       "      <td>69</td>\n",
       "      <td>492</td>\n",
       "    </tr>\n",
       "  </tbody>\n",
       "</table>\n",
       "<p>3174 rows × 2 columns</p>\n",
       "</div>"
      ],
      "text/plain": [
       "                    calls_qnt  calls_duration\n",
       "user_id month                                \n",
       "1000    2018-05-01         22             159\n",
       "        2018-06-01         43             172\n",
       "        2018-07-01         47             340\n",
       "        2018-08-01         52             408\n",
       "        2018-09-01         58             466\n",
       "...                       ...             ...\n",
       "1498    2018-10-01         41             247\n",
       "1499    2018-09-01          9              70\n",
       "        2018-10-01         68             449\n",
       "        2018-11-01         74             612\n",
       "        2018-12-01         69             492\n",
       "\n",
       "[3174 rows x 2 columns]"
      ]
     },
     "execution_count": 8,
     "metadata": {},
     "output_type": "execute_result"
    }
   ],
   "source": [
    "calls_pvt = calls.pivot_table(index=['user_id', 'month'], values='duration', aggfunc = ['count', 'sum'])\n",
    "calls_pvt.columns = ['calls_qnt', 'calls_duration']\n",
    "calls_pvt"
   ]
  },
  {
   "cell_type": "markdown",
   "metadata": {},
   "source": [
    "### Интернет-трафик:"
   ]
  },
  {
   "cell_type": "code",
   "execution_count": 9,
   "metadata": {},
   "outputs": [
    {
     "data": {
      "text/html": [
       "<div>\n",
       "<style scoped>\n",
       "    .dataframe tbody tr th:only-of-type {\n",
       "        vertical-align: middle;\n",
       "    }\n",
       "\n",
       "    .dataframe tbody tr th {\n",
       "        vertical-align: top;\n",
       "    }\n",
       "\n",
       "    .dataframe thead th {\n",
       "        text-align: right;\n",
       "    }\n",
       "</style>\n",
       "<table border=\"1\" class=\"dataframe\">\n",
       "  <thead>\n",
       "    <tr style=\"text-align: right;\">\n",
       "      <th></th>\n",
       "      <th></th>\n",
       "      <th>mb_used</th>\n",
       "      <th>gb_used</th>\n",
       "    </tr>\n",
       "    <tr>\n",
       "      <th>user_id</th>\n",
       "      <th>month</th>\n",
       "      <th></th>\n",
       "      <th></th>\n",
       "    </tr>\n",
       "  </thead>\n",
       "  <tbody>\n",
       "    <tr>\n",
       "      <td rowspan=\"5\" valign=\"top\">1000</td>\n",
       "      <td>2018-05-01</td>\n",
       "      <td>2253.49</td>\n",
       "      <td>3</td>\n",
       "    </tr>\n",
       "    <tr>\n",
       "      <td>2018-06-01</td>\n",
       "      <td>23233.77</td>\n",
       "      <td>23</td>\n",
       "    </tr>\n",
       "    <tr>\n",
       "      <td>2018-07-01</td>\n",
       "      <td>14003.64</td>\n",
       "      <td>14</td>\n",
       "    </tr>\n",
       "    <tr>\n",
       "      <td>2018-08-01</td>\n",
       "      <td>14055.93</td>\n",
       "      <td>14</td>\n",
       "    </tr>\n",
       "    <tr>\n",
       "      <td>2018-09-01</td>\n",
       "      <td>14568.91</td>\n",
       "      <td>15</td>\n",
       "    </tr>\n",
       "    <tr>\n",
       "      <td>...</td>\n",
       "      <td>...</td>\n",
       "      <td>...</td>\n",
       "      <td>...</td>\n",
       "    </tr>\n",
       "    <tr>\n",
       "      <td>1498</td>\n",
       "      <td>2018-10-01</td>\n",
       "      <td>20579.36</td>\n",
       "      <td>21</td>\n",
       "    </tr>\n",
       "    <tr>\n",
       "      <td rowspan=\"4\" valign=\"top\">1499</td>\n",
       "      <td>2018-09-01</td>\n",
       "      <td>1845.75</td>\n",
       "      <td>2</td>\n",
       "    </tr>\n",
       "    <tr>\n",
       "      <td>2018-10-01</td>\n",
       "      <td>17788.51</td>\n",
       "      <td>18</td>\n",
       "    </tr>\n",
       "    <tr>\n",
       "      <td>2018-11-01</td>\n",
       "      <td>17963.31</td>\n",
       "      <td>18</td>\n",
       "    </tr>\n",
       "    <tr>\n",
       "      <td>2018-12-01</td>\n",
       "      <td>13055.58</td>\n",
       "      <td>13</td>\n",
       "    </tr>\n",
       "  </tbody>\n",
       "</table>\n",
       "<p>3203 rows × 2 columns</p>\n",
       "</div>"
      ],
      "text/plain": [
       "                     mb_used  gb_used\n",
       "user_id month                        \n",
       "1000    2018-05-01   2253.49        3\n",
       "        2018-06-01  23233.77       23\n",
       "        2018-07-01  14003.64       14\n",
       "        2018-08-01  14055.93       14\n",
       "        2018-09-01  14568.91       15\n",
       "...                      ...      ...\n",
       "1498    2018-10-01  20579.36       21\n",
       "1499    2018-09-01   1845.75        2\n",
       "        2018-10-01  17788.51       18\n",
       "        2018-11-01  17963.31       18\n",
       "        2018-12-01  13055.58       13\n",
       "\n",
       "[3203 rows x 2 columns]"
      ]
     },
     "execution_count": 9,
     "metadata": {},
     "output_type": "execute_result"
    }
   ],
   "source": [
    "internet_pvt = internet.pivot_table(index=['user_id', 'month'], aggfunc = 'sum')\n",
    "internet_pvt['gb_used'] = internet_pvt['mb_used'] / 1024\n",
    "internet_pvt.gb_used = (internet_pvt.gb_used.apply(np.ceil)).astype('uint16')\n",
    "internet_pvt"
   ]
  },
  {
   "cell_type": "markdown",
   "metadata": {},
   "source": [
    "### СМС:"
   ]
  },
  {
   "cell_type": "code",
   "execution_count": 10,
   "metadata": {
    "scrolled": false
   },
   "outputs": [
    {
     "data": {
      "text/html": [
       "<div>\n",
       "<style scoped>\n",
       "    .dataframe tbody tr th:only-of-type {\n",
       "        vertical-align: middle;\n",
       "    }\n",
       "\n",
       "    .dataframe tbody tr th {\n",
       "        vertical-align: top;\n",
       "    }\n",
       "\n",
       "    .dataframe thead th {\n",
       "        text-align: right;\n",
       "    }\n",
       "</style>\n",
       "<table border=\"1\" class=\"dataframe\">\n",
       "  <thead>\n",
       "    <tr style=\"text-align: right;\">\n",
       "      <th></th>\n",
       "      <th></th>\n",
       "      <th>messages</th>\n",
       "    </tr>\n",
       "    <tr>\n",
       "      <th>user_id</th>\n",
       "      <th>month</th>\n",
       "      <th></th>\n",
       "    </tr>\n",
       "  </thead>\n",
       "  <tbody>\n",
       "    <tr>\n",
       "      <td rowspan=\"5\" valign=\"top\">1000</td>\n",
       "      <td>2018-05-01</td>\n",
       "      <td>22</td>\n",
       "    </tr>\n",
       "    <tr>\n",
       "      <td>2018-06-01</td>\n",
       "      <td>60</td>\n",
       "    </tr>\n",
       "    <tr>\n",
       "      <td>2018-07-01</td>\n",
       "      <td>75</td>\n",
       "    </tr>\n",
       "    <tr>\n",
       "      <td>2018-08-01</td>\n",
       "      <td>81</td>\n",
       "    </tr>\n",
       "    <tr>\n",
       "      <td>2018-09-01</td>\n",
       "      <td>57</td>\n",
       "    </tr>\n",
       "    <tr>\n",
       "      <td>...</td>\n",
       "      <td>...</td>\n",
       "      <td>...</td>\n",
       "    </tr>\n",
       "    <tr>\n",
       "      <td>1498</td>\n",
       "      <td>2018-10-01</td>\n",
       "      <td>42</td>\n",
       "    </tr>\n",
       "    <tr>\n",
       "      <td rowspan=\"4\" valign=\"top\">1499</td>\n",
       "      <td>2018-09-01</td>\n",
       "      <td>11</td>\n",
       "    </tr>\n",
       "    <tr>\n",
       "      <td>2018-10-01</td>\n",
       "      <td>48</td>\n",
       "    </tr>\n",
       "    <tr>\n",
       "      <td>2018-11-01</td>\n",
       "      <td>59</td>\n",
       "    </tr>\n",
       "    <tr>\n",
       "      <td>2018-12-01</td>\n",
       "      <td>66</td>\n",
       "    </tr>\n",
       "  </tbody>\n",
       "</table>\n",
       "<p>2717 rows × 1 columns</p>\n",
       "</div>"
      ],
      "text/plain": [
       "                    messages\n",
       "user_id month               \n",
       "1000    2018-05-01        22\n",
       "        2018-06-01        60\n",
       "        2018-07-01        75\n",
       "        2018-08-01        81\n",
       "        2018-09-01        57\n",
       "...                      ...\n",
       "1498    2018-10-01        42\n",
       "1499    2018-09-01        11\n",
       "        2018-10-01        48\n",
       "        2018-11-01        59\n",
       "        2018-12-01        66\n",
       "\n",
       "[2717 rows x 1 columns]"
      ]
     },
     "execution_count": 10,
     "metadata": {},
     "output_type": "execute_result"
    }
   ],
   "source": [
    "messages_pvt = messages.pivot_table(index=['user_id', 'month'], values='id', aggfunc='count')\n",
    "messages_pvt.columns = ['messages']\n",
    "messages_pvt"
   ]
  },
  {
   "cell_type": "markdown",
   "metadata": {},
   "source": [
    "### Сводная таблица по всем услугам:"
   ]
  },
  {
   "cell_type": "code",
   "execution_count": 11,
   "metadata": {
    "scrolled": false
   },
   "outputs": [
    {
     "name": "stdout",
     "output_type": "stream",
     "text": [
      "<class 'pandas.core.frame.DataFrame'>\n",
      "MultiIndex: 3214 entries, (1000, 2018-05-01 00:00:00) to (1499, 2018-12-01 00:00:00)\n",
      "Data columns (total 14 columns):\n",
      "calls_qnt                3214 non-null uint16\n",
      "calls_duration           3214 non-null uint16\n",
      "gb_used                  3214 non-null uint16\n",
      "messages                 3214 non-null uint16\n",
      "city                     3214 non-null object\n",
      "tariff_id                3214 non-null uint8\n",
      "messages_included        3214 non-null uint16\n",
      "mb_per_month_included    3214 non-null uint32\n",
      "minutes_included         3214 non-null uint16\n",
      "rub_monthly_fee          3214 non-null uint16\n",
      "rub_per_gb               3214 non-null uint16\n",
      "rub_per_message          3214 non-null uint8\n",
      "rub_per_minute           3214 non-null uint8\n",
      "tariff_name              3214 non-null object\n",
      "dtypes: object(2), uint16(8), uint32(1), uint8(3)\n",
      "memory usage: 135.9+ KB\n"
     ]
    },
    {
     "data": {
      "text/html": [
       "<div>\n",
       "<style scoped>\n",
       "    .dataframe tbody tr th:only-of-type {\n",
       "        vertical-align: middle;\n",
       "    }\n",
       "\n",
       "    .dataframe tbody tr th {\n",
       "        vertical-align: top;\n",
       "    }\n",
       "\n",
       "    .dataframe thead th {\n",
       "        text-align: right;\n",
       "    }\n",
       "</style>\n",
       "<table border=\"1\" class=\"dataframe\">\n",
       "  <thead>\n",
       "    <tr style=\"text-align: right;\">\n",
       "      <th></th>\n",
       "      <th></th>\n",
       "      <th>calls_qnt</th>\n",
       "      <th>calls_duration</th>\n",
       "      <th>gb_used</th>\n",
       "      <th>messages</th>\n",
       "      <th>city</th>\n",
       "      <th>tariff_id</th>\n",
       "      <th>messages_included</th>\n",
       "      <th>mb_per_month_included</th>\n",
       "      <th>minutes_included</th>\n",
       "      <th>rub_monthly_fee</th>\n",
       "      <th>rub_per_gb</th>\n",
       "      <th>rub_per_message</th>\n",
       "      <th>rub_per_minute</th>\n",
       "      <th>tariff_name</th>\n",
       "    </tr>\n",
       "    <tr>\n",
       "      <th>user_id</th>\n",
       "      <th>month</th>\n",
       "      <th></th>\n",
       "      <th></th>\n",
       "      <th></th>\n",
       "      <th></th>\n",
       "      <th></th>\n",
       "      <th></th>\n",
       "      <th></th>\n",
       "      <th></th>\n",
       "      <th></th>\n",
       "      <th></th>\n",
       "      <th></th>\n",
       "      <th></th>\n",
       "      <th></th>\n",
       "      <th></th>\n",
       "    </tr>\n",
       "  </thead>\n",
       "  <tbody>\n",
       "    <tr>\n",
       "      <td rowspan=\"5\" valign=\"top\">1000</td>\n",
       "      <td>2018-05-01</td>\n",
       "      <td>22</td>\n",
       "      <td>159</td>\n",
       "      <td>3</td>\n",
       "      <td>22</td>\n",
       "      <td>Краснодар</td>\n",
       "      <td>1</td>\n",
       "      <td>1000</td>\n",
       "      <td>30720</td>\n",
       "      <td>3000</td>\n",
       "      <td>1950</td>\n",
       "      <td>150</td>\n",
       "      <td>1</td>\n",
       "      <td>1</td>\n",
       "      <td>ultra</td>\n",
       "    </tr>\n",
       "    <tr>\n",
       "      <td>2018-06-01</td>\n",
       "      <td>43</td>\n",
       "      <td>172</td>\n",
       "      <td>23</td>\n",
       "      <td>60</td>\n",
       "      <td>Краснодар</td>\n",
       "      <td>1</td>\n",
       "      <td>1000</td>\n",
       "      <td>30720</td>\n",
       "      <td>3000</td>\n",
       "      <td>1950</td>\n",
       "      <td>150</td>\n",
       "      <td>1</td>\n",
       "      <td>1</td>\n",
       "      <td>ultra</td>\n",
       "    </tr>\n",
       "    <tr>\n",
       "      <td>2018-07-01</td>\n",
       "      <td>47</td>\n",
       "      <td>340</td>\n",
       "      <td>14</td>\n",
       "      <td>75</td>\n",
       "      <td>Краснодар</td>\n",
       "      <td>1</td>\n",
       "      <td>1000</td>\n",
       "      <td>30720</td>\n",
       "      <td>3000</td>\n",
       "      <td>1950</td>\n",
       "      <td>150</td>\n",
       "      <td>1</td>\n",
       "      <td>1</td>\n",
       "      <td>ultra</td>\n",
       "    </tr>\n",
       "    <tr>\n",
       "      <td>2018-08-01</td>\n",
       "      <td>52</td>\n",
       "      <td>408</td>\n",
       "      <td>14</td>\n",
       "      <td>81</td>\n",
       "      <td>Краснодар</td>\n",
       "      <td>1</td>\n",
       "      <td>1000</td>\n",
       "      <td>30720</td>\n",
       "      <td>3000</td>\n",
       "      <td>1950</td>\n",
       "      <td>150</td>\n",
       "      <td>1</td>\n",
       "      <td>1</td>\n",
       "      <td>ultra</td>\n",
       "    </tr>\n",
       "    <tr>\n",
       "      <td>2018-09-01</td>\n",
       "      <td>58</td>\n",
       "      <td>466</td>\n",
       "      <td>15</td>\n",
       "      <td>57</td>\n",
       "      <td>Краснодар</td>\n",
       "      <td>1</td>\n",
       "      <td>1000</td>\n",
       "      <td>30720</td>\n",
       "      <td>3000</td>\n",
       "      <td>1950</td>\n",
       "      <td>150</td>\n",
       "      <td>1</td>\n",
       "      <td>1</td>\n",
       "      <td>ultra</td>\n",
       "    </tr>\n",
       "    <tr>\n",
       "      <td>...</td>\n",
       "      <td>...</td>\n",
       "      <td>...</td>\n",
       "      <td>...</td>\n",
       "      <td>...</td>\n",
       "      <td>...</td>\n",
       "      <td>...</td>\n",
       "      <td>...</td>\n",
       "      <td>...</td>\n",
       "      <td>...</td>\n",
       "      <td>...</td>\n",
       "      <td>...</td>\n",
       "      <td>...</td>\n",
       "      <td>...</td>\n",
       "      <td>...</td>\n",
       "      <td>...</td>\n",
       "    </tr>\n",
       "    <tr>\n",
       "      <td>1498</td>\n",
       "      <td>2018-10-01</td>\n",
       "      <td>41</td>\n",
       "      <td>247</td>\n",
       "      <td>21</td>\n",
       "      <td>42</td>\n",
       "      <td>Владикавказ</td>\n",
       "      <td>0</td>\n",
       "      <td>50</td>\n",
       "      <td>15360</td>\n",
       "      <td>500</td>\n",
       "      <td>550</td>\n",
       "      <td>200</td>\n",
       "      <td>3</td>\n",
       "      <td>3</td>\n",
       "      <td>smart</td>\n",
       "    </tr>\n",
       "    <tr>\n",
       "      <td rowspan=\"4\" valign=\"top\">1499</td>\n",
       "      <td>2018-09-01</td>\n",
       "      <td>9</td>\n",
       "      <td>70</td>\n",
       "      <td>2</td>\n",
       "      <td>11</td>\n",
       "      <td>Пермь</td>\n",
       "      <td>0</td>\n",
       "      <td>50</td>\n",
       "      <td>15360</td>\n",
       "      <td>500</td>\n",
       "      <td>550</td>\n",
       "      <td>200</td>\n",
       "      <td>3</td>\n",
       "      <td>3</td>\n",
       "      <td>smart</td>\n",
       "    </tr>\n",
       "    <tr>\n",
       "      <td>2018-10-01</td>\n",
       "      <td>68</td>\n",
       "      <td>449</td>\n",
       "      <td>18</td>\n",
       "      <td>48</td>\n",
       "      <td>Пермь</td>\n",
       "      <td>0</td>\n",
       "      <td>50</td>\n",
       "      <td>15360</td>\n",
       "      <td>500</td>\n",
       "      <td>550</td>\n",
       "      <td>200</td>\n",
       "      <td>3</td>\n",
       "      <td>3</td>\n",
       "      <td>smart</td>\n",
       "    </tr>\n",
       "    <tr>\n",
       "      <td>2018-11-01</td>\n",
       "      <td>74</td>\n",
       "      <td>612</td>\n",
       "      <td>18</td>\n",
       "      <td>59</td>\n",
       "      <td>Пермь</td>\n",
       "      <td>0</td>\n",
       "      <td>50</td>\n",
       "      <td>15360</td>\n",
       "      <td>500</td>\n",
       "      <td>550</td>\n",
       "      <td>200</td>\n",
       "      <td>3</td>\n",
       "      <td>3</td>\n",
       "      <td>smart</td>\n",
       "    </tr>\n",
       "    <tr>\n",
       "      <td>2018-12-01</td>\n",
       "      <td>69</td>\n",
       "      <td>492</td>\n",
       "      <td>13</td>\n",
       "      <td>66</td>\n",
       "      <td>Пермь</td>\n",
       "      <td>0</td>\n",
       "      <td>50</td>\n",
       "      <td>15360</td>\n",
       "      <td>500</td>\n",
       "      <td>550</td>\n",
       "      <td>200</td>\n",
       "      <td>3</td>\n",
       "      <td>3</td>\n",
       "      <td>smart</td>\n",
       "    </tr>\n",
       "  </tbody>\n",
       "</table>\n",
       "<p>3214 rows × 14 columns</p>\n",
       "</div>"
      ],
      "text/plain": [
       "                    calls_qnt  calls_duration  gb_used  messages         city  \\\n",
       "user_id month                                                                   \n",
       "1000    2018-05-01         22             159        3        22    Краснодар   \n",
       "        2018-06-01         43             172       23        60    Краснодар   \n",
       "        2018-07-01         47             340       14        75    Краснодар   \n",
       "        2018-08-01         52             408       14        81    Краснодар   \n",
       "        2018-09-01         58             466       15        57    Краснодар   \n",
       "...                       ...             ...      ...       ...          ...   \n",
       "1498    2018-10-01         41             247       21        42  Владикавказ   \n",
       "1499    2018-09-01          9              70        2        11        Пермь   \n",
       "        2018-10-01         68             449       18        48        Пермь   \n",
       "        2018-11-01         74             612       18        59        Пермь   \n",
       "        2018-12-01         69             492       13        66        Пермь   \n",
       "\n",
       "                    tariff_id  messages_included  mb_per_month_included  \\\n",
       "user_id month                                                             \n",
       "1000    2018-05-01          1               1000                  30720   \n",
       "        2018-06-01          1               1000                  30720   \n",
       "        2018-07-01          1               1000                  30720   \n",
       "        2018-08-01          1               1000                  30720   \n",
       "        2018-09-01          1               1000                  30720   \n",
       "...                       ...                ...                    ...   \n",
       "1498    2018-10-01          0                 50                  15360   \n",
       "1499    2018-09-01          0                 50                  15360   \n",
       "        2018-10-01          0                 50                  15360   \n",
       "        2018-11-01          0                 50                  15360   \n",
       "        2018-12-01          0                 50                  15360   \n",
       "\n",
       "                    minutes_included  rub_monthly_fee  rub_per_gb  \\\n",
       "user_id month                                                       \n",
       "1000    2018-05-01              3000             1950         150   \n",
       "        2018-06-01              3000             1950         150   \n",
       "        2018-07-01              3000             1950         150   \n",
       "        2018-08-01              3000             1950         150   \n",
       "        2018-09-01              3000             1950         150   \n",
       "...                              ...              ...         ...   \n",
       "1498    2018-10-01               500              550         200   \n",
       "1499    2018-09-01               500              550         200   \n",
       "        2018-10-01               500              550         200   \n",
       "        2018-11-01               500              550         200   \n",
       "        2018-12-01               500              550         200   \n",
       "\n",
       "                    rub_per_message  rub_per_minute tariff_name  \n",
       "user_id month                                                    \n",
       "1000    2018-05-01                1               1       ultra  \n",
       "        2018-06-01                1               1       ultra  \n",
       "        2018-07-01                1               1       ultra  \n",
       "        2018-08-01                1               1       ultra  \n",
       "        2018-09-01                1               1       ultra  \n",
       "...                             ...             ...         ...  \n",
       "1498    2018-10-01                3               3       smart  \n",
       "1499    2018-09-01                3               3       smart  \n",
       "        2018-10-01                3               3       smart  \n",
       "        2018-11-01                3               3       smart  \n",
       "        2018-12-01                3               3       smart  \n",
       "\n",
       "[3214 rows x 14 columns]"
      ]
     },
     "execution_count": 11,
     "metadata": {},
     "output_type": "execute_result"
    }
   ],
   "source": [
    "pvt = calls_pvt.join([internet_pvt.gb_used, messages_pvt], \n",
    "                     how='outer').fillna(0)\n",
    "\n",
    "pvt.calls_qnt = pvt.calls_qnt.astype('uint16')\n",
    "pvt.calls_duration = pvt.calls_duration.astype('uint16')\n",
    "pvt.gb_used = pvt.gb_used.astype('uint16')\n",
    "pvt.messages = pvt.messages.astype('uint16')\n",
    "\n",
    "users_tariff = users.pivot_table(index = 'user_id', \n",
    "                                 values=['tariff_id', 'city'],\n",
    "                                 aggfunc='first')\n",
    "pvt = pvt.join(users_tariff)\n",
    "pvt = pvt.join(tariffs, on='tariff_id')\n",
    "\n",
    "pvt.info()\n",
    "pvt"
   ]
  },
  {
   "cell_type": "markdown",
   "metadata": {},
   "source": [
    "### Удаление неполных месяцев:"
   ]
  },
  {
   "cell_type": "markdown",
   "metadata": {},
   "source": [
    "Удалим из таблицы месяцы регистрации пользователей, если регистрация была после 10 числа,  \n",
    "и месяцы прекращения договора, если это произошло до 20 числа соответствующего месяца.   \n",
    "Таким образом исключим из расчетов месяцы, использованные менее чем на $2/3$"
   ]
  },
  {
   "cell_type": "code",
   "execution_count": 13,
   "metadata": {},
   "outputs": [],
   "source": [
    "len_before = len(pvt)"
   ]
  },
  {
   "cell_type": "code",
   "execution_count": 14,
   "metadata": {},
   "outputs": [],
   "source": [
    "incomplete_reg_months = (users.reg_date.dt.day > 10) \n",
    "incomplete_churn_months = (users.churn_date.dt.day < 20)\n",
    "\n",
    "user_id = list(users[incomplete_reg_months].user_id)\n",
    "month = list(users[incomplete_reg_months].reg_date.dt.month)\n",
    "drop_list = [ (i, m) for i, m in zip(user_id, month) ]\n",
    "pvt.drop(drop_list, errors='ignore', inplace=True)\n",
    "\n",
    "user_id = list(users[incomplete_churn_months].user_id)\n",
    "month = list(users[incomplete_churn_months].reg_date.dt.month)\n",
    "drop_list = [ (i, m) for i, m in zip(user_id, month) ]\n",
    "pvt.drop(drop_list, errors='ignore', inplace=True)"
   ]
  },
  {
   "cell_type": "code",
   "execution_count": 15,
   "metadata": {},
   "outputs": [
    {
     "name": "stdout",
     "output_type": "stream",
     "text": [
      "Размер таблицы до удаления: 3214\n",
      "Размер таблицы после удаления: 3214\n"
     ]
    }
   ],
   "source": [
    "print('Размер таблицы до удаления:', len_before)\n",
    "print('Размер таблицы после удаления:', len(pvt))"
   ]
  },
  {
   "cell_type": "markdown",
   "metadata": {},
   "source": [
    "### Расчет расходов пользователей на услуги связи:"
   ]
  },
  {
   "cell_type": "markdown",
   "metadata": {},
   "source": [
    "согласно действующим тарифам"
   ]
  },
  {
   "cell_type": "code",
   "execution_count": 16,
   "metadata": {},
   "outputs": [],
   "source": [
    "pvt['expences'] = pvt.rub_monthly_fee\n",
    "\n",
    "pvt.expences = pvt.expences.where(pvt.calls_duration<=pvt.minutes_included, pvt.expences +\n",
    "                   (pvt.calls_duration-pvt.minutes_included)*pvt.rub_per_minute\n",
    "                  )\n",
    "\n",
    "pvt.expences = pvt.expences.where(pvt.gb_used<=pvt.mb_per_month_included//1024, pvt.expences +\n",
    "                   (pvt.gb_used-pvt.mb_per_month_included//1024)*pvt.rub_per_gb\n",
    "                  )\n",
    "\n",
    "pvt.expences = pvt.expences.where(pvt.messages<=pvt.messages_included, pvt.expences +\n",
    "                   (pvt.messages-pvt.messages_included)*pvt.rub_per_message\n",
    "                  )"
   ]
  },
  {
   "cell_type": "markdown",
   "metadata": {},
   "source": [
    "### Вывод"
   ]
  },
  {
   "cell_type": "markdown",
   "metadata": {},
   "source": [
    "Таблица pvt содержит все данные, необходимые для дальнейшей работы  \n",
    "сгруппированные по пользователям и месяцам."
   ]
  },
  {
   "cell_type": "markdown",
   "metadata": {},
   "source": [
    "## Анализ данных"
   ]
  },
  {
   "cell_type": "markdown",
   "metadata": {},
   "source": [
    "### Сравнение тарифов:"
   ]
  },
  {
   "cell_type": "markdown",
   "metadata": {},
   "source": [
    "сделаем случайную выборку одинакового количества записей для каждого тарифа"
   ]
  },
  {
   "cell_type": "code",
   "execution_count": 17,
   "metadata": {},
   "outputs": [],
   "source": [
    "tariff_smart_smp = pvt.query('tariff_name==\"smart\"').sample(n=500)\n",
    "tariff_ultra_smp = pvt.query('tariff_name==\"ultra\"').sample(n=500)"
   ]
  },
  {
   "cell_type": "markdown",
   "metadata": {},
   "source": [
    "и рассмотрим интересующие значения"
   ]
  },
  {
   "cell_type": "code",
   "execution_count": 18,
   "metadata": {},
   "outputs": [
    {
     "data": {
      "text/html": [
       "<div>\n",
       "<style scoped>\n",
       "    .dataframe tbody tr th:only-of-type {\n",
       "        vertical-align: middle;\n",
       "    }\n",
       "\n",
       "    .dataframe tbody tr th {\n",
       "        vertical-align: top;\n",
       "    }\n",
       "\n",
       "    .dataframe thead th {\n",
       "        text-align: right;\n",
       "    }\n",
       "</style>\n",
       "<table border=\"1\" class=\"dataframe\">\n",
       "  <thead>\n",
       "    <tr style=\"text-align: right;\">\n",
       "      <th></th>\n",
       "      <th></th>\n",
       "      <th>count</th>\n",
       "      <th>mean</th>\n",
       "      <th>std</th>\n",
       "      <th>min</th>\n",
       "      <th>25%</th>\n",
       "      <th>50%</th>\n",
       "      <th>75%</th>\n",
       "      <th>max</th>\n",
       "    </tr>\n",
       "  </thead>\n",
       "  <tbody>\n",
       "    <tr>\n",
       "      <td rowspan=\"4\" valign=\"top\">smart</td>\n",
       "      <td>calls_duration</td>\n",
       "      <td>500.0</td>\n",
       "      <td>437.86</td>\n",
       "      <td>193.28</td>\n",
       "      <td>7.0</td>\n",
       "      <td>305.50</td>\n",
       "      <td>440.5</td>\n",
       "      <td>567.75</td>\n",
       "      <td>1022.0</td>\n",
       "    </tr>\n",
       "    <tr>\n",
       "      <td>gb_used</td>\n",
       "      <td>500.0</td>\n",
       "      <td>16.66</td>\n",
       "      <td>5.65</td>\n",
       "      <td>1.0</td>\n",
       "      <td>13.00</td>\n",
       "      <td>17.0</td>\n",
       "      <td>20.00</td>\n",
       "      <td>38.0</td>\n",
       "    </tr>\n",
       "    <tr>\n",
       "      <td>messages</td>\n",
       "      <td>500.0</td>\n",
       "      <td>35.31</td>\n",
       "      <td>28.51</td>\n",
       "      <td>0.0</td>\n",
       "      <td>12.00</td>\n",
       "      <td>31.0</td>\n",
       "      <td>55.00</td>\n",
       "      <td>143.0</td>\n",
       "    </tr>\n",
       "    <tr>\n",
       "      <td>expences</td>\n",
       "      <td>500.0</td>\n",
       "      <td>1345.48</td>\n",
       "      <td>860.62</td>\n",
       "      <td>550.0</td>\n",
       "      <td>583.00</td>\n",
       "      <td>1148.0</td>\n",
       "      <td>1818.25</td>\n",
       "      <td>6770.0</td>\n",
       "    </tr>\n",
       "    <tr>\n",
       "      <td rowspan=\"4\" valign=\"top\">ultra</td>\n",
       "      <td>calls_duration</td>\n",
       "      <td>500.0</td>\n",
       "      <td>540.96</td>\n",
       "      <td>319.52</td>\n",
       "      <td>0.0</td>\n",
       "      <td>293.25</td>\n",
       "      <td>535.0</td>\n",
       "      <td>779.25</td>\n",
       "      <td>1609.0</td>\n",
       "    </tr>\n",
       "    <tr>\n",
       "      <td>gb_used</td>\n",
       "      <td>500.0</td>\n",
       "      <td>19.73</td>\n",
       "      <td>10.24</td>\n",
       "      <td>0.0</td>\n",
       "      <td>12.00</td>\n",
       "      <td>20.0</td>\n",
       "      <td>27.00</td>\n",
       "      <td>49.0</td>\n",
       "    </tr>\n",
       "    <tr>\n",
       "      <td>messages</td>\n",
       "      <td>500.0</td>\n",
       "      <td>49.69</td>\n",
       "      <td>47.77</td>\n",
       "      <td>0.0</td>\n",
       "      <td>5.00</td>\n",
       "      <td>40.0</td>\n",
       "      <td>79.00</td>\n",
       "      <td>223.0</td>\n",
       "    </tr>\n",
       "    <tr>\n",
       "      <td>expences</td>\n",
       "      <td>500.0</td>\n",
       "      <td>2094.90</td>\n",
       "      <td>432.91</td>\n",
       "      <td>1950.0</td>\n",
       "      <td>1950.00</td>\n",
       "      <td>1950.0</td>\n",
       "      <td>1950.00</td>\n",
       "      <td>4800.0</td>\n",
       "    </tr>\n",
       "  </tbody>\n",
       "</table>\n",
       "</div>"
      ],
      "text/plain": [
       "                      count     mean     std     min      25%     50%  \\\n",
       "smart calls_duration  500.0   437.86  193.28     7.0   305.50   440.5   \n",
       "      gb_used         500.0    16.66    5.65     1.0    13.00    17.0   \n",
       "      messages        500.0    35.31   28.51     0.0    12.00    31.0   \n",
       "      expences        500.0  1345.48  860.62   550.0   583.00  1148.0   \n",
       "ultra calls_duration  500.0   540.96  319.52     0.0   293.25   535.0   \n",
       "      gb_used         500.0    19.73   10.24     0.0    12.00    20.0   \n",
       "      messages        500.0    49.69   47.77     0.0     5.00    40.0   \n",
       "      expences        500.0  2094.90  432.91  1950.0  1950.00  1950.0   \n",
       "\n",
       "                          75%     max  \n",
       "smart calls_duration   567.75  1022.0  \n",
       "      gb_used           20.00    38.0  \n",
       "      messages          55.00   143.0  \n",
       "      expences        1818.25  6770.0  \n",
       "ultra calls_duration   779.25  1609.0  \n",
       "      gb_used           27.00    49.0  \n",
       "      messages          79.00   223.0  \n",
       "      expences        1950.00  4800.0  "
      ]
     },
     "execution_count": 18,
     "metadata": {},
     "output_type": "execute_result"
    }
   ],
   "source": [
    "cols = ['calls_duration', 'gb_used', 'messages', 'expences']\n",
    "smart_des = tariff_smart_smp[cols].describe()\n",
    "ultra_des = tariff_ultra_smp[cols].describe()\n",
    "smart_des.columns = pd.MultiIndex.from_tuples( [(x, y) for x, y in zip(['smart']*10, cols)] )\n",
    "ultra_des.columns = pd.MultiIndex.from_tuples( [(x, y) for x, y in zip(['ultra']*10, cols)] )\n",
    "smart_des.join(ultra_des).T.round(2)"
   ]
  },
  {
   "cell_type": "code",
   "execution_count": 19,
   "metadata": {},
   "outputs": [
    {
     "data": {
      "image/png": "[encoded data removed]",
      "text/plain": [
       "<Figure size 864x360 with 1 Axes>"
      ]
     },
     "metadata": {
      "needs_background": "light"
     },
     "output_type": "display_data"
    }
   ],
   "source": [
    "plt.figure(figsize=(12, 5))\n",
    "ax = sns.distplot( a=tariff_smart_smp.calls_duration, hist=True, kde=True, rug=False, label='Тариф smart', bins=60)\n",
    "ax = sns.distplot( a=tariff_ultra_smp.calls_duration, hist=True, kde=True, rug=False, label='Тариф ultra', bins=60)\n",
    "ax.legend(); plt.grid()\n",
    "plt.title('Суммарная длительность телефонных разговоров за месяц:', fontdict={'size':18})\n",
    "plt.xlabel('минут'); plt.ylabel('плотность вероятности')\n",
    "plt.xlim(0, 1500) \n",
    "plt.show()"
   ]
  },
  {
   "cell_type": "code",
   "execution_count": 20,
   "metadata": {},
   "outputs": [
    {
     "data": {
      "image/png": "[encoded data removed]",
      "text/plain": [
       "<Figure size 864x360 with 1 Axes>"
      ]
     },
     "metadata": {
      "needs_background": "light"
     },
     "output_type": "display_data"
    }
   ],
   "source": [
    "plt.figure(figsize=(12, 5))\n",
    "ax = sns.distplot( a=tariff_smart_smp.gb_used, hist=True, kde=True, rug=False, label='Тариф smart', bins=30)\n",
    "ax = sns.distplot( a=tariff_ultra_smp.gb_used, hist=True, kde=True, rug=False, label='Тариф ultra', bins=30)\n",
    "ax.legend(); plt.grid()\n",
    "plt.title('Интернет-трафик за месяц:', fontdict={'size':18}) \n",
    "plt.xlabel('Гигабайт'); plt.ylabel('плотность вероятности')\n",
    "plt.xlim(0, 50)\n",
    "plt.show()"
   ]
  },
  {
   "cell_type": "code",
   "execution_count": 21,
   "metadata": {},
   "outputs": [
    {
     "data": {
      "image/png": "[encoded data removed]",
      "text/plain": [
       "<Figure size 864x360 with 1 Axes>"
      ]
     },
     "metadata": {
      "needs_background": "light"
     },
     "output_type": "display_data"
    }
   ],
   "source": [
    "plt.figure(figsize=(12, 5))\n",
    "ax = sns.distplot( a=tariff_smart_smp.messages, hist=True, kde=True, rug=False, label='Тариф smart', bins=50 )\n",
    "ax = sns.distplot( a=tariff_ultra_smp.messages, hist=True, kde=True, rug=False, label='Тариф ultra', bins=50 )\n",
    "ax.legend(); plt.grid()\n",
    "plt.title('Сообщений за месяц:', fontdict={'size':18}) \n",
    "plt.xlabel('штук'); plt.ylabel('плотность вероятности')\n",
    "plt.xlim(0, 200); plt.ylim(0, 0.025)\n",
    "plt.show()"
   ]
  },
  {
   "cell_type": "markdown",
   "metadata": {},
   "source": [
    "### Вывод"
   ]
  },
  {
   "cell_type": "markdown",
   "metadata": {},
   "source": [
    "- Тариф \"Ультра\" имеет почти вдвое большее стандартное отклонение по всем параметрам за исключением стоимости услуг - по этому показателю ситуация обратная.  \n",
    "- На тарифе \"Ультра\" средняя продолжительность разговоров больше примерно на 25%, интернет-трафик - на 18%,  количество СМС на 50% по сравнению с тарифом \"Смарт\"\n",
    "- Оба тарифа имеют симметричное распределение длительности звонков и интернет-трафика (медиана близка к среднему значению)\n",
    "- Оба тарифа имеют небольшое смещение вправо количества СМС и стоимости услуг\n",
    "- На тарифе \"Ультра\" почти всем пользователям хватает включенных услуг; на тарифе \"Смарт\" ситуация противоположная.\n",
    "- Средняя стоимость услуг на тарифе \"Ультра\" более чем на 50% превышает стоимость услуг на тарифе \"Смарт\"  \n",
    "\n",
    "__Для компании выгоднее рекламировать тариф \"Ультра\", поскольку он приносит больше денег с меньшими отклонениями при незначительном (непропорциональном) увеличении среднего потребления услуг по сравнению с тарифом \"Смарт\".__\n"
   ]
  },
  {
   "cell_type": "markdown",
   "metadata": {},
   "source": [
    "---"
   ]
  },
  {
   "cell_type": "markdown",
   "metadata": {},
   "source": [
    "## Проверка гипотез"
   ]
  },
  {
   "cell_type": "markdown",
   "metadata": {},
   "source": [
    "Зададим критический уровень статистической значимости $\\alpha$ :"
   ]
  },
  {
   "cell_type": "code",
   "execution_count": 22,
   "metadata": {},
   "outputs": [],
   "source": [
    "alpha = 0.01"
   ]
  },
  {
   "cell_type": "markdown",
   "metadata": {},
   "source": [
    "если p-value окажется меньше него - отвергнем гипотезу"
   ]
  },
  {
   "cell_type": "markdown",
   "metadata": {},
   "source": [
    "### Средняя выручка пользователей тарифов «Ультра» и «Смарт» различаются;"
   ]
  },
  {
   "cell_type": "markdown",
   "metadata": {},
   "source": [
    "__Нулевая гипотеза H₀__:  _Средняя выручка пользователей тарифов «Ультра» и «Смарт» не различается_\n",
    "\n",
    "__Альтернативная гипотеза H₁__:  _Средняя выручка пользователей тарифов «Ультра» и «Смарт» различается_\n",
    "\n",
    "___\n"
   ]
  },
  {
   "cell_type": "code",
   "execution_count": 23,
   "metadata": {},
   "outputs": [
    {
     "data": {
      "text/plain": [
       "user_id  month     \n",
       "1001     2018-11-01    1150\n",
       "         2018-12-01     550\n",
       "1002     2018-06-01     550\n",
       "         2018-07-01    1150\n",
       "         2018-08-01    1550\n",
       "                       ... \n",
       "1498     2018-10-01    1750\n",
       "1499     2018-09-01     550\n",
       "         2018-10-01    1150\n",
       "         2018-11-01    1513\n",
       "         2018-12-01     598\n",
       "Name: expences, Length: 2229, dtype: int64"
      ]
     },
     "execution_count": 23,
     "metadata": {},
     "output_type": "execute_result"
    }
   ],
   "source": [
    "mean_expences_smart = pvt.query('tariff_name==\"smart\"').expences #.mean(level=0)\n",
    "mean_expences_smart.round(2)"
   ]
  },
  {
   "cell_type": "code",
   "execution_count": 24,
   "metadata": {},
   "outputs": [
    {
     "data": {
      "text/plain": [
       "user_id  month     \n",
       "1000     2018-05-01    1950\n",
       "         2018-06-01    1950\n",
       "         2018-07-01    1950\n",
       "         2018-08-01    1950\n",
       "         2018-09-01    1950\n",
       "                       ... \n",
       "1495     2018-08-01    1950\n",
       "         2018-09-01    2400\n",
       "         2018-10-01    1950\n",
       "         2018-11-01    3300\n",
       "         2018-12-01    1950\n",
       "Name: expences, Length: 985, dtype: int64"
      ]
     },
     "execution_count": 24,
     "metadata": {},
     "output_type": "execute_result"
    }
   ],
   "source": [
    "mean_expences_ultra = pvt.query('tariff_name==\"ultra\"').expences #.mean(level=0)\n",
    "mean_expences_ultra.round(2)"
   ]
  },
  {
   "cell_type": "code",
   "execution_count": 25,
   "metadata": {},
   "outputs": [
    {
     "name": "stdout",
     "output_type": "stream",
     "text": [
      "p-значение:  4.2606313931076085e-250\n",
      "Отвергаем нулевую гипотезу\n"
     ]
    }
   ],
   "source": [
    "results = st.ttest_ind(mean_expences_smart, \n",
    "                       mean_expences_ultra, \n",
    "                       equal_var = False)\n",
    "\n",
    "print('p-значение: ', results.pvalue)\n",
    "if results.pvalue < alpha:\n",
    "    print('Отвергаем нулевую гипотезу')\n",
    "else:\n",
    "    print('Не получилось отвергнуть нулевую гипотезу') "
   ]
  },
  {
   "cell_type": "markdown",
   "metadata": {},
   "source": [
    "__Вывод:__   \n",
    "___Исходное предположение не опровергнуто: выручка пользователей тарифов «Ультра» и «Смарт» различаются___\n",
    "\n",
    "---"
   ]
  },
  {
   "cell_type": "markdown",
   "metadata": {},
   "source": [
    "### Средняя выручка пользователи из Москвы <br>   отличается от выручки пользователей из других регионов;"
   ]
  },
  {
   "cell_type": "markdown",
   "metadata": {},
   "source": [
    "__Нулевая гипотеза H₀__:  _Средняя выручка пользователей из Москвы не отличается от выручки пользователей из других регионов_\n",
    "\n",
    "__Альтернативная гипотеза H₁__:  _Средняя выручка пользователей из Москвы отличается от выручки пользователей из других регионов_\n",
    "\n",
    "___"
   ]
  },
  {
   "cell_type": "code",
   "execution_count": 26,
   "metadata": {},
   "outputs": [
    {
     "data": {
      "text/plain": [
       "user_id  month     \n",
       "1001     2018-11-01    1150\n",
       "         2018-12-01     550\n",
       "1003     2018-08-01    1950\n",
       "         2018-09-01    1950\n",
       "         2018-10-01    1950\n",
       "                       ... \n",
       "1490     2018-08-01     950\n",
       "         2018-09-01     550\n",
       "         2018-10-01    1750\n",
       "         2018-11-01    1350\n",
       "         2018-12-01     750\n",
       "Name: expences, Length: 611, dtype: int64"
      ]
     },
     "execution_count": 26,
     "metadata": {},
     "output_type": "execute_result"
    }
   ],
   "source": [
    "mean_expences_Moscow = pvt.query('city==\"Москва\"').expences #.mean(level=0)\n",
    "mean_expences_Moscow.round(2)"
   ]
  },
  {
   "cell_type": "code",
   "execution_count": 27,
   "metadata": {},
   "outputs": [
    {
     "data": {
      "text/plain": [
       "user_id  month     \n",
       "1000     2018-05-01    1950\n",
       "         2018-06-01    1950\n",
       "         2018-07-01    1950\n",
       "         2018-08-01    1950\n",
       "         2018-09-01    1950\n",
       "                       ... \n",
       "1498     2018-10-01    1750\n",
       "1499     2018-09-01     550\n",
       "         2018-10-01    1150\n",
       "         2018-11-01    1513\n",
       "         2018-12-01     598\n",
       "Name: expences, Length: 2603, dtype: int64"
      ]
     },
     "execution_count": 27,
     "metadata": {},
     "output_type": "execute_result"
    }
   ],
   "source": [
    "mean_expences_not_Moscow = pvt.query('city!=\"Москва\"').expences #.mean(level=0)\n",
    "mean_expences_not_Moscow.round(2)"
   ]
  },
  {
   "cell_type": "code",
   "execution_count": 28,
   "metadata": {},
   "outputs": [
    {
     "name": "stdout",
     "output_type": "stream",
     "text": [
      "p-значение:  0.5257376663729298\n",
      "Не получилось отвергнуть нулевую гипотезу\n"
     ]
    }
   ],
   "source": [
    "results = st.ttest_ind(mean_expences_Moscow, \n",
    "                       mean_expences_not_Moscow, \n",
    "                       equal_var = False)\n",
    "print('p-значение: ', results.pvalue)\n",
    "if results.pvalue < alpha:\n",
    "    print('Отвергаем нулевую гипотезу')\n",
    "else:\n",
    "    print('Не получилось отвергнуть нулевую гипотезу') "
   ]
  },
  {
   "cell_type": "markdown",
   "metadata": {},
   "source": [
    "__Вывод:__  \n",
    "___Исходное предположение опровергнуто: выручка пользователи из Москвы\n",
    "не отличается от выручки пользователей из других регионов___\n",
    "\n",
    "---"
   ]
  },
  {
   "cell_type": "markdown",
   "metadata": {},
   "source": [
    "## Общий вывод\n",
    "<div class=\"alert alert-block alert-info\">\n",
    "    \n",
    "- На тарифе \"Ультра\" средняя продолжительность разговоров больше примерно на 25%,  \n",
    "    интернет-трафик - на 18%, количество СМС на 50% по сравнению с тарифом \"Смарт\"\n",
    "<br> <br>       \n",
    "- При этом средняя стоимость услуг на тарифе \"Ультра\"  \n",
    "    более чем на 50% превышает стоимость услуг на тарифе \"Смарт\"\n",
    "<br> <br>   \n",
    "- Кроме того, стоимость услуг на тарифе \"Ультра\" менее подвержена колебаниям,  \n",
    "    поскольку большинству пользователей хватает включенных услуг\n",
    "<br> <br>     \n",
    "<b>\n",
    "Таким образом, для компании выгоднее рекламировать тариф \"Ультра\", поскольку он приносит больше денег с меньшими отклонениями при незначительном (непропорциональном) увеличении среднего потребления услуг по сравнению с тарифом \"Смарт\".\n",
    "</b>\n",
    "</div>"
   ]
  }
 ],
 "metadata": {
  "ExecuteTimeLog": [
   {
    "duration": 1343,
    "start_time": "2021-08-17T15:21:35.146Z"
   },
   {
    "duration": 26,
    "start_time": "2021-08-17T15:21:46.539Z"
   },
   {
    "duration": 28,
    "start_time": "2021-08-17T15:22:14.387Z"
   },
   {
    "duration": 25,
    "start_time": "2021-08-17T15:22:47.779Z"
   },
   {
    "duration": 40,
    "start_time": "2021-08-17T15:22:59.284Z"
   },
   {
    "duration": 323,
    "start_time": "2021-08-17T15:24:28.979Z"
   },
   {
    "duration": 550,
    "start_time": "2021-08-17T15:24:38.004Z"
   },
   {
    "duration": 47,
    "start_time": "2021-08-17T15:24:42.113Z"
   },
   {
    "duration": 24,
    "start_time": "2021-08-17T15:26:14.674Z"
   },
   {
    "duration": 26,
    "start_time": "2021-08-17T15:27:03.265Z"
   },
   {
    "duration": 1249,
    "start_time": "2021-08-18T04:02:32.216Z"
   },
   {
    "duration": 35,
    "start_time": "2021-08-18T04:02:33.468Z"
   },
   {
    "duration": 27,
    "start_time": "2021-08-18T04:02:33.506Z"
   },
   {
    "duration": 23,
    "start_time": "2021-08-18T04:02:59.162Z"
   },
   {
    "duration": 20,
    "start_time": "2021-08-18T04:03:11.223Z"
   },
   {
    "duration": 37,
    "start_time": "2021-08-18T04:04:19.769Z"
   },
   {
    "duration": 48,
    "start_time": "2021-08-18T04:04:59.404Z"
   },
   {
    "duration": 44,
    "start_time": "2021-08-18T04:05:13.894Z"
   },
   {
    "duration": 39,
    "start_time": "2021-08-18T04:07:05.193Z"
   },
   {
    "duration": 66,
    "start_time": "2021-08-18T04:07:24.497Z"
   },
   {
    "duration": 37,
    "start_time": "2021-08-18T04:07:45.592Z"
   },
   {
    "duration": 13,
    "start_time": "2021-08-18T04:09:01.295Z"
   },
   {
    "duration": 13,
    "start_time": "2021-08-18T04:09:39.804Z"
   },
   {
    "duration": 25,
    "start_time": "2021-08-18T04:10:46.247Z"
   },
   {
    "duration": 527,
    "start_time": "2021-08-18T04:16:12.874Z"
   },
   {
    "duration": 25,
    "start_time": "2021-08-18T04:16:27.320Z"
   },
   {
    "duration": 397,
    "start_time": "2021-08-18T04:16:58.426Z"
   },
   {
    "duration": 505,
    "start_time": "2021-08-18T04:17:16.537Z"
   },
   {
    "duration": 775,
    "start_time": "2021-08-18T04:17:44.845Z"
   },
   {
    "duration": 36,
    "start_time": "2021-08-18T04:17:54.339Z"
   },
   {
    "duration": 25,
    "start_time": "2021-08-18T04:18:08.818Z"
   },
   {
    "duration": 24,
    "start_time": "2021-08-18T04:18:37.067Z"
   },
   {
    "duration": 26,
    "start_time": "2021-08-18T04:18:50.624Z"
   },
   {
    "duration": 21,
    "start_time": "2021-08-18T04:19:05.060Z"
   },
   {
    "duration": 419,
    "start_time": "2021-08-18T04:19:17.907Z"
   },
   {
    "duration": 22,
    "start_time": "2021-08-18T04:19:22.979Z"
   },
   {
    "duration": 429,
    "start_time": "2021-08-18T04:19:41.161Z"
   },
   {
    "duration": 36,
    "start_time": "2021-08-18T04:20:00.015Z"
   },
   {
    "duration": 12522,
    "start_time": "2021-08-18T04:20:16.171Z"
   },
   {
    "duration": 36,
    "start_time": "2021-08-18T04:21:16.686Z"
   },
   {
    "duration": 428,
    "start_time": "2021-08-18T04:21:30.310Z"
   },
   {
    "duration": 37,
    "start_time": "2021-08-18T04:21:51.686Z"
   },
   {
    "duration": 636,
    "start_time": "2021-08-18T04:23:11.594Z"
   },
   {
    "duration": 558,
    "start_time": "2021-08-18T04:24:00.038Z"
   },
   {
    "duration": 35,
    "start_time": "2021-08-18T04:24:07.013Z"
   },
   {
    "duration": 1299,
    "start_time": "2021-08-18T04:25:48.162Z"
   },
   {
    "duration": 36,
    "start_time": "2021-08-18T04:25:49.464Z"
   },
   {
    "duration": 40,
    "start_time": "2021-08-18T04:25:49.504Z"
   },
   {
    "duration": 65,
    "start_time": "2021-08-18T04:25:49.548Z"
   },
   {
    "duration": 19,
    "start_time": "2021-08-18T04:25:49.615Z"
   },
   {
    "duration": 1266,
    "start_time": "2021-08-18T05:13:12.803Z"
   },
   {
    "duration": 33,
    "start_time": "2021-08-18T05:13:14.071Z"
   },
   {
    "duration": 41,
    "start_time": "2021-08-18T05:13:14.107Z"
   },
   {
    "duration": 54,
    "start_time": "2021-08-18T05:13:14.151Z"
   },
   {
    "duration": 19,
    "start_time": "2021-08-18T05:13:14.207Z"
   },
   {
    "duration": 8,
    "start_time": "2021-08-18T05:13:56.093Z"
   },
   {
    "duration": 8,
    "start_time": "2021-08-18T05:14:02.976Z"
   },
   {
    "duration": 292,
    "start_time": "2021-08-18T08:54:04.075Z"
   },
   {
    "duration": 1387,
    "start_time": "2021-08-18T08:54:10.462Z"
   },
   {
    "duration": 27,
    "start_time": "2021-08-18T08:54:16.702Z"
   },
   {
    "duration": 16,
    "start_time": "2021-08-18T08:54:28.164Z"
   },
   {
    "duration": 66,
    "start_time": "2021-08-18T08:55:25.445Z"
   },
   {
    "duration": 23,
    "start_time": "2021-08-18T08:56:11.476Z"
   },
   {
    "duration": 5,
    "start_time": "2021-08-18T09:26:32.523Z"
   },
   {
    "duration": 1180,
    "start_time": "2021-08-18T09:27:27.078Z"
   },
   {
    "duration": 77,
    "start_time": "2021-08-18T09:28:18.000Z"
   },
   {
    "duration": 255,
    "start_time": "2021-08-18T09:28:32.911Z"
   },
   {
    "duration": 268,
    "start_time": "2021-08-18T09:28:36.761Z"
   },
   {
    "duration": 5,
    "start_time": "2021-08-18T09:28:45.253Z"
   },
   {
    "duration": 4,
    "start_time": "2021-08-18T09:29:28.945Z"
   },
   {
    "duration": 9,
    "start_time": "2021-08-18T09:29:42.615Z"
   },
   {
    "duration": 323,
    "start_time": "2021-08-18T09:32:55.072Z"
   },
   {
    "duration": 61,
    "start_time": "2021-08-18T09:33:00.342Z"
   },
   {
    "duration": 1826,
    "start_time": "2021-08-18T09:34:34.590Z"
   },
   {
    "duration": 6,
    "start_time": "2021-08-18T09:35:46.143Z"
   },
   {
    "duration": 8,
    "start_time": "2021-08-18T09:36:19.246Z"
   },
   {
    "duration": 14,
    "start_time": "2021-08-18T09:36:29.340Z"
   },
   {
    "duration": 34,
    "start_time": "2021-08-18T09:36:40.069Z"
   },
   {
    "duration": 35,
    "start_time": "2021-08-18T09:38:47.518Z"
   },
   {
    "duration": 70,
    "start_time": "2021-08-18T09:43:51.298Z"
   },
   {
    "duration": 79,
    "start_time": "2021-08-18T09:46:08.426Z"
   },
   {
    "duration": 69,
    "start_time": "2021-08-18T09:48:23.529Z"
   },
   {
    "duration": 31,
    "start_time": "2021-08-18T09:49:16.953Z"
   },
   {
    "duration": 29,
    "start_time": "2021-08-18T09:49:57.705Z"
   },
   {
    "duration": 1163,
    "start_time": "2021-08-18T09:50:32.335Z"
   },
   {
    "duration": 25,
    "start_time": "2021-08-18T09:50:33.502Z"
   },
   {
    "duration": 37,
    "start_time": "2021-08-18T09:50:33.530Z"
   },
   {
    "duration": 43,
    "start_time": "2021-08-18T09:50:33.571Z"
   },
   {
    "duration": 68,
    "start_time": "2021-08-18T09:50:33.617Z"
   },
   {
    "duration": 70,
    "start_time": "2021-08-18T09:50:33.688Z"
   },
   {
    "duration": 70,
    "start_time": "2021-08-18T09:50:33.760Z"
   },
   {
    "duration": 102,
    "start_time": "2021-08-18T09:50:33.833Z"
   },
   {
    "duration": 53,
    "start_time": "2021-08-18T09:50:33.939Z"
   },
   {
    "duration": 67,
    "start_time": "2021-08-18T09:50:33.995Z"
   },
   {
    "duration": 83,
    "start_time": "2021-08-18T09:51:34.493Z"
   },
   {
    "duration": 64,
    "start_time": "2021-08-18T09:51:59.795Z"
   },
   {
    "duration": 106,
    "start_time": "2021-08-18T09:52:09.940Z"
   },
   {
    "duration": 74,
    "start_time": "2021-08-18T09:52:16.163Z"
   },
   {
    "duration": 24,
    "start_time": "2021-08-18T09:52:38.611Z"
   },
   {
    "duration": 14,
    "start_time": "2021-08-18T09:52:59.939Z"
   },
   {
    "duration": 73,
    "start_time": "2021-08-18T09:53:18.587Z"
   },
   {
    "duration": 69,
    "start_time": "2021-08-18T09:53:45.907Z"
   },
   {
    "duration": 70,
    "start_time": "2021-08-18T09:53:58.450Z"
   },
   {
    "duration": 347,
    "start_time": "2021-08-18T09:56:26.994Z"
   },
   {
    "duration": 19,
    "start_time": "2021-08-18T09:56:37.282Z"
   },
   {
    "duration": 19,
    "start_time": "2021-08-18T09:56:46.113Z"
   },
   {
    "duration": 39,
    "start_time": "2021-08-18T09:57:26.809Z"
   },
   {
    "duration": 83,
    "start_time": "2021-08-18T09:58:23.321Z"
   },
   {
    "duration": 704,
    "start_time": "2021-08-18T09:58:58.377Z"
   },
   {
    "duration": 471,
    "start_time": "2021-08-18T09:58:59.083Z"
   },
   {
    "duration": 24,
    "start_time": "2021-08-18T09:58:59.558Z"
   },
   {
    "duration": 20,
    "start_time": "2021-08-18T09:58:59.584Z"
   },
   {
    "duration": 101,
    "start_time": "2021-08-18T09:58:59.606Z"
   },
   {
    "duration": 111,
    "start_time": "2021-08-18T09:58:59.709Z"
   },
   {
    "duration": 104,
    "start_time": "2021-08-18T09:58:59.822Z"
   },
   {
    "duration": 68,
    "start_time": "2021-08-18T10:00:23.389Z"
   },
   {
    "duration": 68,
    "start_time": "2021-08-18T10:01:34.052Z"
   },
   {
    "duration": 73,
    "start_time": "2021-08-18T10:01:47.518Z"
   },
   {
    "duration": 83,
    "start_time": "2021-08-18T10:02:40.325Z"
   },
   {
    "duration": 151,
    "start_time": "2021-08-18T10:03:21.356Z"
   },
   {
    "duration": 21,
    "start_time": "2021-08-18T10:03:37.619Z"
   },
   {
    "duration": 24,
    "start_time": "2021-08-18T10:04:26.077Z"
   },
   {
    "duration": 1083,
    "start_time": "2021-08-18T10:04:40.625Z"
   },
   {
    "duration": 513,
    "start_time": "2021-08-18T10:04:41.711Z"
   },
   {
    "duration": 25,
    "start_time": "2021-08-18T10:04:42.227Z"
   },
   {
    "duration": 28,
    "start_time": "2021-08-18T10:04:42.254Z"
   },
   {
    "duration": 210,
    "start_time": "2021-08-18T10:04:42.285Z"
   },
   {
    "duration": 127,
    "start_time": "2021-08-18T10:04:42.497Z"
   },
   {
    "duration": 116,
    "start_time": "2021-08-18T10:04:42.626Z"
   },
   {
    "duration": 27,
    "start_time": "2021-08-18T10:16:38.267Z"
   },
   {
    "duration": 36,
    "start_time": "2021-08-18T10:16:47.872Z"
   },
   {
    "duration": 17,
    "start_time": "2021-08-18T10:17:13.658Z"
   },
   {
    "duration": 75,
    "start_time": "2021-08-18T10:19:25.889Z"
   },
   {
    "duration": 406,
    "start_time": "2021-08-18T10:26:08.906Z"
   },
   {
    "duration": 11,
    "start_time": "2021-08-18T10:27:01.285Z"
   },
   {
    "duration": 9,
    "start_time": "2021-08-18T10:27:11.870Z"
   },
   {
    "duration": 356,
    "start_time": "2021-08-18T10:27:35.703Z"
   },
   {
    "duration": 229,
    "start_time": "2021-08-18T10:27:41.518Z"
   },
   {
    "duration": 52,
    "start_time": "2021-08-18T10:28:07.015Z"
   },
   {
    "duration": 34,
    "start_time": "2021-08-18T10:32:22.493Z"
   },
   {
    "duration": 342,
    "start_time": "2021-08-18T10:33:19.435Z"
   },
   {
    "duration": 58,
    "start_time": "2021-08-18T10:33:42.907Z"
   },
   {
    "duration": 39,
    "start_time": "2021-08-18T10:34:01.835Z"
   },
   {
    "duration": 427,
    "start_time": "2021-08-18T10:34:18.811Z"
   },
   {
    "duration": 38,
    "start_time": "2021-08-18T10:34:23.611Z"
   },
   {
    "duration": 42,
    "start_time": "2021-08-18T10:34:29.411Z"
   },
   {
    "duration": 39,
    "start_time": "2021-08-18T10:34:41.788Z"
   },
   {
    "duration": 39,
    "start_time": "2021-08-18T10:34:46.419Z"
   },
   {
    "duration": 39,
    "start_time": "2021-08-18T10:34:51.164Z"
   },
   {
    "duration": 40,
    "start_time": "2021-08-18T10:35:02.460Z"
   },
   {
    "duration": 35,
    "start_time": "2021-08-18T10:36:03.419Z"
   },
   {
    "duration": 6,
    "start_time": "2021-08-18T10:36:27.739Z"
   },
   {
    "duration": 6,
    "start_time": "2021-08-18T10:36:46.875Z"
   },
   {
    "duration": 684,
    "start_time": "2021-08-18T10:38:07.130Z"
   },
   {
    "duration": 486,
    "start_time": "2021-08-18T10:38:07.817Z"
   },
   {
    "duration": 25,
    "start_time": "2021-08-18T10:38:08.306Z"
   },
   {
    "duration": 31,
    "start_time": "2021-08-18T10:38:08.333Z"
   },
   {
    "duration": 128,
    "start_time": "2021-08-18T10:38:08.367Z"
   },
   {
    "duration": 121,
    "start_time": "2021-08-18T10:38:08.498Z"
   },
   {
    "duration": 15,
    "start_time": "2021-08-18T10:38:08.622Z"
   },
   {
    "duration": 444,
    "start_time": "2021-08-18T10:38:08.639Z"
   },
   {
    "duration": 108,
    "start_time": "2021-08-18T10:42:28.614Z"
   },
   {
    "duration": 117,
    "start_time": "2021-08-18T10:43:27.926Z"
   },
   {
    "duration": 109,
    "start_time": "2021-08-18T10:44:11.996Z"
   },
   {
    "duration": 741,
    "start_time": "2021-08-18T10:44:32.513Z"
   },
   {
    "duration": 514,
    "start_time": "2021-08-18T10:44:33.257Z"
   },
   {
    "duration": 26,
    "start_time": "2021-08-18T10:44:33.773Z"
   },
   {
    "duration": 27,
    "start_time": "2021-08-18T10:44:33.802Z"
   },
   {
    "duration": 175,
    "start_time": "2021-08-18T10:44:33.831Z"
   },
   {
    "duration": 122,
    "start_time": "2021-08-18T10:44:34.008Z"
   },
   {
    "duration": 16,
    "start_time": "2021-08-18T10:44:34.132Z"
   },
   {
    "duration": 106,
    "start_time": "2021-08-18T10:45:05.516Z"
   },
   {
    "duration": 707,
    "start_time": "2021-08-18T10:45:19.999Z"
   },
   {
    "duration": 494,
    "start_time": "2021-08-18T10:45:20.708Z"
   },
   {
    "duration": 27,
    "start_time": "2021-08-18T10:45:21.206Z"
   },
   {
    "duration": 35,
    "start_time": "2021-08-18T10:45:21.235Z"
   },
   {
    "duration": 143,
    "start_time": "2021-08-18T10:45:21.273Z"
   },
   {
    "duration": 114,
    "start_time": "2021-08-18T10:45:21.418Z"
   },
   {
    "duration": 15,
    "start_time": "2021-08-18T10:45:21.535Z"
   },
   {
    "duration": 138,
    "start_time": "2021-08-18T10:46:36.179Z"
   },
   {
    "duration": 226,
    "start_time": "2021-08-18T10:50:00.257Z"
   },
   {
    "duration": 688,
    "start_time": "2021-08-18T10:54:37.686Z"
   },
   {
    "duration": 484,
    "start_time": "2021-08-18T10:54:38.377Z"
   },
   {
    "duration": 25,
    "start_time": "2021-08-18T10:54:38.864Z"
   },
   {
    "duration": 29,
    "start_time": "2021-08-18T10:54:38.892Z"
   },
   {
    "duration": 234,
    "start_time": "2021-08-18T10:54:38.923Z"
   },
   {
    "duration": 151,
    "start_time": "2021-08-18T10:54:39.159Z"
   },
   {
    "duration": 152,
    "start_time": "2021-08-18T10:54:39.312Z"
   },
   {
    "duration": 56,
    "start_time": "2021-08-18T10:56:20.089Z"
   },
   {
    "duration": 244,
    "start_time": "2021-08-18T10:56:30.768Z"
   },
   {
    "duration": 160,
    "start_time": "2021-08-18T10:56:41.112Z"
   },
   {
    "duration": 114,
    "start_time": "2021-08-18T10:57:16.678Z"
   },
   {
    "duration": 35,
    "start_time": "2021-08-18T10:58:44.174Z"
   },
   {
    "duration": 51,
    "start_time": "2021-08-18T10:58:49.677Z"
   },
   {
    "duration": 53,
    "start_time": "2021-08-18T10:59:21.820Z"
   },
   {
    "duration": 340,
    "start_time": "2021-08-18T11:10:31.984Z"
   },
   {
    "duration": 4,
    "start_time": "2021-08-18T11:10:53.463Z"
   },
   {
    "duration": 6,
    "start_time": "2021-08-18T11:10:58.326Z"
   },
   {
    "duration": 5,
    "start_time": "2021-08-18T11:11:05.449Z"
   },
   {
    "duration": 338,
    "start_time": "2021-08-18T11:11:28.704Z"
   },
   {
    "duration": 342,
    "start_time": "2021-08-18T11:12:13.794Z"
   },
   {
    "duration": 190,
    "start_time": "2021-08-18T11:14:24.737Z"
   },
   {
    "duration": 3,
    "start_time": "2021-08-18T11:15:23.191Z"
   },
   {
    "duration": 763,
    "start_time": "2021-08-18T11:15:29.279Z"
   },
   {
    "duration": 510,
    "start_time": "2021-08-18T11:15:30.045Z"
   },
   {
    "duration": 25,
    "start_time": "2021-08-18T11:15:30.558Z"
   },
   {
    "duration": 57,
    "start_time": "2021-08-18T11:15:30.585Z"
   },
   {
    "duration": 255,
    "start_time": "2021-08-18T11:15:30.645Z"
   },
   {
    "duration": 167,
    "start_time": "2021-08-18T11:15:30.903Z"
   },
   {
    "duration": 155,
    "start_time": "2021-08-18T11:15:31.072Z"
   },
   {
    "duration": 63,
    "start_time": "2021-08-18T11:15:31.229Z"
   },
   {
    "duration": 872,
    "start_time": "2021-08-18T11:16:10.401Z"
   },
   {
    "duration": 680,
    "start_time": "2021-08-18T11:16:11.276Z"
   },
   {
    "duration": 33,
    "start_time": "2021-08-18T11:16:11.960Z"
   },
   {
    "duration": 85,
    "start_time": "2021-08-18T11:16:11.997Z"
   },
   {
    "duration": 333,
    "start_time": "2021-08-18T11:16:12.085Z"
   },
   {
    "duration": 180,
    "start_time": "2021-08-18T11:16:12.421Z"
   },
   {
    "duration": 143,
    "start_time": "2021-08-18T11:16:12.604Z"
   },
   {
    "duration": 69,
    "start_time": "2021-08-18T11:16:12.749Z"
   },
   {
    "duration": 927,
    "start_time": "2021-08-18T11:25:40.931Z"
   },
   {
    "duration": 677,
    "start_time": "2021-08-18T11:25:41.862Z"
   },
   {
    "duration": 25,
    "start_time": "2021-08-18T11:25:42.541Z"
   },
   {
    "duration": 47,
    "start_time": "2021-08-18T11:25:42.569Z"
   },
   {
    "duration": 256,
    "start_time": "2021-08-18T11:25:42.619Z"
   },
   {
    "duration": 159,
    "start_time": "2021-08-18T11:25:42.877Z"
   },
   {
    "duration": 143,
    "start_time": "2021-08-18T11:25:43.039Z"
   },
   {
    "duration": 46,
    "start_time": "2021-08-18T11:25:43.186Z"
   },
   {
    "duration": 54,
    "start_time": "2021-08-18T11:26:15.005Z"
   },
   {
    "duration": 54,
    "start_time": "2021-08-18T11:28:08.476Z"
   },
   {
    "duration": 50,
    "start_time": "2021-08-18T11:29:09.788Z"
   },
   {
    "duration": 34,
    "start_time": "2021-08-18T11:30:10.836Z"
   },
   {
    "duration": 45,
    "start_time": "2021-08-18T11:30:20.923Z"
   },
   {
    "duration": 55,
    "start_time": "2021-08-18T11:34:56.945Z"
   },
   {
    "duration": 337,
    "start_time": "2021-08-18T11:39:17.375Z"
   },
   {
    "duration": 33,
    "start_time": "2021-08-18T11:39:39.713Z"
   },
   {
    "duration": 62,
    "start_time": "2021-08-18T11:39:51.783Z"
   },
   {
    "duration": 45,
    "start_time": "2021-08-18T11:41:10.838Z"
   },
   {
    "duration": 34,
    "start_time": "2021-08-18T11:41:56.919Z"
   },
   {
    "duration": 291,
    "start_time": "2021-08-18T11:42:02.655Z"
   },
   {
    "duration": 30,
    "start_time": "2021-08-18T11:42:07.262Z"
   },
   {
    "duration": 309,
    "start_time": "2021-08-18T11:43:35.318Z"
   },
   {
    "duration": 45,
    "start_time": "2021-08-18T11:44:43.982Z"
   },
   {
    "duration": 41,
    "start_time": "2021-08-18T11:45:20.950Z"
   },
   {
    "duration": 48,
    "start_time": "2021-08-18T11:45:44.533Z"
   },
   {
    "duration": 51,
    "start_time": "2021-08-18T11:47:02.694Z"
   },
   {
    "duration": 67,
    "start_time": "2021-08-18T11:47:14.508Z"
   },
   {
    "duration": 65,
    "start_time": "2021-08-18T11:48:21.886Z"
   },
   {
    "duration": 47,
    "start_time": "2021-08-18T11:49:18.027Z"
   },
   {
    "duration": 193,
    "start_time": "2021-08-18T11:55:38.820Z"
   },
   {
    "duration": 729,
    "start_time": "2021-08-18T11:56:46.170Z"
   },
   {
    "duration": 488,
    "start_time": "2021-08-18T11:56:46.902Z"
   },
   {
    "duration": 25,
    "start_time": "2021-08-18T11:56:47.393Z"
   },
   {
    "duration": 65,
    "start_time": "2021-08-18T11:56:47.421Z"
   },
   {
    "duration": 309,
    "start_time": "2021-08-18T11:56:47.488Z"
   },
   {
    "duration": 209,
    "start_time": "2021-08-18T11:56:47.800Z"
   },
   {
    "duration": 187,
    "start_time": "2021-08-18T11:56:48.012Z"
   },
   {
    "duration": 60,
    "start_time": "2021-08-18T11:56:48.202Z"
   },
   {
    "duration": 72,
    "start_time": "2021-08-18T11:56:48.283Z"
   },
   {
    "duration": 76,
    "start_time": "2021-08-18T11:56:48.358Z"
   },
   {
    "duration": 434,
    "start_time": "2021-08-18T12:11:43.634Z"
   },
   {
    "duration": 52,
    "start_time": "2021-08-18T12:12:35.353Z"
   },
   {
    "duration": 51,
    "start_time": "2021-08-18T12:14:08.031Z"
   },
   {
    "duration": 80,
    "start_time": "2021-08-18T12:15:13.920Z"
   },
   {
    "duration": 48,
    "start_time": "2021-08-18T12:17:12.239Z"
   },
   {
    "duration": 35,
    "start_time": "2021-08-18T12:19:00.768Z"
   },
   {
    "duration": 50,
    "start_time": "2021-08-18T12:20:00.261Z"
   },
   {
    "duration": 1251,
    "start_time": "2021-08-18T12:25:32.836Z"
   },
   {
    "duration": 55,
    "start_time": "2021-08-18T12:25:51.500Z"
   },
   {
    "duration": 275,
    "start_time": "2021-08-18T12:26:35.818Z"
   },
   {
    "duration": 287,
    "start_time": "2021-08-18T12:27:24.732Z"
   },
   {
    "duration": 36,
    "start_time": "2021-08-18T12:33:03.802Z"
   },
   {
    "duration": 271,
    "start_time": "2021-08-18T12:33:22.848Z"
   },
   {
    "duration": 36,
    "start_time": "2021-08-18T12:33:29.433Z"
   },
   {
    "duration": 37,
    "start_time": "2021-08-18T12:34:22.499Z"
   },
   {
    "duration": 39,
    "start_time": "2021-08-18T12:35:35.315Z"
   },
   {
    "duration": 36,
    "start_time": "2021-08-18T12:35:42.697Z"
   },
   {
    "duration": 40,
    "start_time": "2021-08-18T12:36:00.208Z"
   },
   {
    "duration": 18,
    "start_time": "2021-08-18T12:36:11.921Z"
   },
   {
    "duration": 38,
    "start_time": "2021-08-18T12:36:36.735Z"
   },
   {
    "duration": 33,
    "start_time": "2021-08-18T12:38:27.775Z"
   },
   {
    "duration": 6941,
    "start_time": "2021-08-18T12:46:03.756Z"
   },
   {
    "duration": 6571,
    "start_time": "2021-08-18T12:46:37.604Z"
   },
   {
    "duration": 6725,
    "start_time": "2021-08-18T12:47:12.980Z"
   },
   {
    "duration": 6275,
    "start_time": "2021-08-18T12:48:45.043Z"
   },
   {
    "duration": 11,
    "start_time": "2021-08-18T12:48:58.380Z"
   },
   {
    "duration": 15,
    "start_time": "2021-08-18T12:49:52.674Z"
   },
   {
    "duration": 21,
    "start_time": "2021-08-18T12:50:13.434Z"
   },
   {
    "duration": 28,
    "start_time": "2021-08-18T12:50:44.793Z"
   },
   {
    "duration": 35,
    "start_time": "2021-08-18T12:51:27.001Z"
   },
   {
    "duration": 682,
    "start_time": "2021-08-18T12:55:17.837Z"
   },
   {
    "duration": 484,
    "start_time": "2021-08-18T12:55:18.523Z"
   },
   {
    "duration": 24,
    "start_time": "2021-08-18T12:55:19.010Z"
   },
   {
    "duration": 51,
    "start_time": "2021-08-18T12:55:19.037Z"
   },
   {
    "duration": 241,
    "start_time": "2021-08-18T12:55:19.090Z"
   },
   {
    "duration": 161,
    "start_time": "2021-08-18T12:55:19.333Z"
   },
   {
    "duration": 134,
    "start_time": "2021-08-18T12:55:19.497Z"
   },
   {
    "duration": 61,
    "start_time": "2021-08-18T12:55:19.634Z"
   },
   {
    "duration": 51,
    "start_time": "2021-08-18T12:55:19.698Z"
   },
   {
    "duration": 64,
    "start_time": "2021-08-18T12:55:19.751Z"
   },
   {
    "duration": 31,
    "start_time": "2021-08-18T12:55:19.818Z"
   },
   {
    "duration": 30,
    "start_time": "2021-08-18T12:55:19.852Z"
   },
   {
    "duration": 29,
    "start_time": "2021-08-18T12:55:19.885Z"
   },
   {
    "duration": 19,
    "start_time": "2021-08-18T12:56:20.477Z"
   },
   {
    "duration": 19,
    "start_time": "2021-08-18T12:56:31.381Z"
   },
   {
    "duration": 335,
    "start_time": "2021-08-18T12:56:38.268Z"
   },
   {
    "duration": 17,
    "start_time": "2021-08-18T12:56:42.694Z"
   },
   {
    "duration": 20,
    "start_time": "2021-08-18T12:56:46.172Z"
   },
   {
    "duration": 22,
    "start_time": "2021-08-18T12:56:59.077Z"
   },
   {
    "duration": 692,
    "start_time": "2021-08-18T12:57:14.098Z"
   },
   {
    "duration": 518,
    "start_time": "2021-08-18T12:57:14.793Z"
   },
   {
    "duration": 24,
    "start_time": "2021-08-18T12:57:15.315Z"
   },
   {
    "duration": 44,
    "start_time": "2021-08-18T12:57:15.342Z"
   },
   {
    "duration": 255,
    "start_time": "2021-08-18T12:57:15.389Z"
   },
   {
    "duration": 163,
    "start_time": "2021-08-18T12:57:15.646Z"
   },
   {
    "duration": 137,
    "start_time": "2021-08-18T12:57:15.811Z"
   },
   {
    "duration": 65,
    "start_time": "2021-08-18T12:57:15.952Z"
   },
   {
    "duration": 68,
    "start_time": "2021-08-18T12:57:16.019Z"
   },
   {
    "duration": 45,
    "start_time": "2021-08-18T12:57:16.090Z"
   },
   {
    "duration": 61,
    "start_time": "2021-08-18T12:57:16.137Z"
   },
   {
    "duration": 13,
    "start_time": "2021-08-18T12:57:16.200Z"
   },
   {
    "duration": 28,
    "start_time": "2021-08-18T12:57:16.216Z"
   },
   {
    "duration": 392,
    "start_time": "2021-08-18T12:58:56.310Z"
   },
   {
    "duration": 278,
    "start_time": "2021-08-18T13:00:53.918Z"
   },
   {
    "duration": 765,
    "start_time": "2021-08-18T13:01:22.516Z"
   },
   {
    "duration": 684,
    "start_time": "2021-08-18T13:01:23.299Z"
   },
   {
    "duration": 26,
    "start_time": "2021-08-18T13:01:23.987Z"
   },
   {
    "duration": 78,
    "start_time": "2021-08-18T13:01:24.017Z"
   },
   {
    "duration": 264,
    "start_time": "2021-08-18T13:01:24.098Z"
   },
   {
    "duration": 177,
    "start_time": "2021-08-18T13:01:24.365Z"
   },
   {
    "duration": 139,
    "start_time": "2021-08-18T13:01:24.544Z"
   },
   {
    "duration": 49,
    "start_time": "2021-08-18T13:01:24.686Z"
   },
   {
    "duration": 79,
    "start_time": "2021-08-18T13:01:24.738Z"
   },
   {
    "duration": 45,
    "start_time": "2021-08-18T13:01:24.820Z"
   },
   {
    "duration": 49,
    "start_time": "2021-08-18T13:01:24.883Z"
   },
   {
    "duration": 16,
    "start_time": "2021-08-18T13:01:24.935Z"
   },
   {
    "duration": 61,
    "start_time": "2021-08-18T13:01:24.954Z"
   },
   {
    "duration": 428,
    "start_time": "2021-08-18T13:01:25.018Z"
   },
   {
    "duration": 725,
    "start_time": "2021-08-18T13:05:10.167Z"
   },
   {
    "duration": 504,
    "start_time": "2021-08-18T13:05:10.895Z"
   },
   {
    "duration": 25,
    "start_time": "2021-08-18T13:05:11.402Z"
   },
   {
    "duration": 67,
    "start_time": "2021-08-18T13:05:11.430Z"
   },
   {
    "duration": 260,
    "start_time": "2021-08-18T13:05:11.500Z"
   },
   {
    "duration": 163,
    "start_time": "2021-08-18T13:05:11.762Z"
   },
   {
    "duration": 146,
    "start_time": "2021-08-18T13:05:11.927Z"
   },
   {
    "duration": 47,
    "start_time": "2021-08-18T13:05:12.083Z"
   },
   {
    "duration": 79,
    "start_time": "2021-08-18T13:05:12.134Z"
   },
   {
    "duration": 46,
    "start_time": "2021-08-18T13:05:12.216Z"
   },
   {
    "duration": 49,
    "start_time": "2021-08-18T13:05:12.265Z"
   },
   {
    "duration": 23,
    "start_time": "2021-08-18T13:05:27.309Z"
   },
   {
    "duration": 42,
    "start_time": "2021-08-18T13:05:58.294Z"
   },
   {
    "duration": 428,
    "start_time": "2021-08-18T13:07:00.422Z"
   },
   {
    "duration": 48,
    "start_time": "2021-08-18T13:07:30.693Z"
   },
   {
    "duration": 290,
    "start_time": "2021-08-18T13:07:54.357Z"
   },
   {
    "duration": 39,
    "start_time": "2021-08-18T13:08:07.150Z"
   },
   {
    "duration": 39,
    "start_time": "2021-08-18T13:08:58.174Z"
   },
   {
    "duration": 760,
    "start_time": "2021-08-18T13:09:39.868Z"
   },
   {
    "duration": 504,
    "start_time": "2021-08-18T13:09:40.631Z"
   },
   {
    "duration": 25,
    "start_time": "2021-08-18T13:09:41.138Z"
   },
   {
    "duration": 46,
    "start_time": "2021-08-18T13:09:41.166Z"
   },
   {
    "duration": 249,
    "start_time": "2021-08-18T13:09:41.216Z"
   },
   {
    "duration": 161,
    "start_time": "2021-08-18T13:09:41.468Z"
   },
   {
    "duration": 154,
    "start_time": "2021-08-18T13:09:41.632Z"
   },
   {
    "duration": 49,
    "start_time": "2021-08-18T13:09:41.790Z"
   },
   {
    "duration": 80,
    "start_time": "2021-08-18T13:09:41.842Z"
   },
   {
    "duration": 58,
    "start_time": "2021-08-18T13:09:41.924Z"
   },
   {
    "duration": 48,
    "start_time": "2021-08-18T13:09:41.984Z"
   },
   {
    "duration": 13,
    "start_time": "2021-08-18T13:09:42.034Z"
   },
   {
    "duration": 54,
    "start_time": "2021-08-18T13:09:42.049Z"
   },
   {
    "duration": 7019,
    "start_time": "2021-08-18T13:13:27.625Z"
   },
   {
    "duration": 6,
    "start_time": "2021-08-18T13:13:48.258Z"
   },
   {
    "duration": 271,
    "start_time": "2021-08-18T13:15:28.321Z"
   },
   {
    "duration": 24,
    "start_time": "2021-08-18T13:15:34.056Z"
   },
   {
    "duration": 24,
    "start_time": "2021-08-18T13:15:58.753Z"
   },
   {
    "duration": 230,
    "start_time": "2021-08-18T13:20:20.384Z"
   },
   {
    "duration": 49,
    "start_time": "2021-08-18T13:20:30.527Z"
   },
   {
    "duration": 55,
    "start_time": "2021-08-18T13:22:41.815Z"
   },
   {
    "duration": 941,
    "start_time": "2021-08-18T13:23:34.389Z"
   },
   {
    "duration": 572,
    "start_time": "2021-08-18T13:23:35.334Z"
   },
   {
    "duration": 31,
    "start_time": "2021-08-18T13:23:35.909Z"
   },
   {
    "duration": 8,
    "start_time": "2021-08-18T13:23:35.943Z"
   },
   {
    "duration": 86,
    "start_time": "2021-08-18T13:23:35.954Z"
   },
   {
    "duration": 295,
    "start_time": "2021-08-18T13:23:36.043Z"
   },
   {
    "duration": 215,
    "start_time": "2021-08-18T13:23:36.341Z"
   },
   {
    "duration": 155,
    "start_time": "2021-08-18T13:23:36.561Z"
   },
   {
    "duration": 79,
    "start_time": "2021-08-18T13:23:36.720Z"
   },
   {
    "duration": 80,
    "start_time": "2021-08-18T13:23:36.802Z"
   },
   {
    "duration": 66,
    "start_time": "2021-08-18T13:23:36.885Z"
   },
   {
    "duration": 71,
    "start_time": "2021-08-18T13:23:36.954Z"
   },
   {
    "duration": 427,
    "start_time": "2021-08-18T13:23:37.028Z"
   },
   {
    "duration": -6904,
    "start_time": "2021-08-18T13:23:44.362Z"
   },
   {
    "duration": 14,
    "start_time": "2021-08-18T13:24:25.961Z"
   },
   {
    "duration": 28,
    "start_time": "2021-08-18T13:24:35.817Z"
   },
   {
    "duration": 18,
    "start_time": "2021-08-18T13:24:55.841Z"
   },
   {
    "duration": 34,
    "start_time": "2021-08-18T13:25:08.937Z"
   },
   {
    "duration": 758,
    "start_time": "2021-08-18T13:26:31.894Z"
   },
   {
    "duration": 582,
    "start_time": "2021-08-18T13:26:32.655Z"
   },
   {
    "duration": 25,
    "start_time": "2021-08-18T13:26:33.241Z"
   },
   {
    "duration": 65,
    "start_time": "2021-08-18T13:26:33.269Z"
   },
   {
    "duration": 290,
    "start_time": "2021-08-18T13:26:33.337Z"
   },
   {
    "duration": 215,
    "start_time": "2021-08-18T13:26:33.630Z"
   },
   {
    "duration": 161,
    "start_time": "2021-08-18T13:26:33.848Z"
   },
   {
    "duration": 79,
    "start_time": "2021-08-18T13:26:34.013Z"
   },
   {
    "duration": 69,
    "start_time": "2021-08-18T13:26:34.095Z"
   },
   {
    "duration": 65,
    "start_time": "2021-08-18T13:26:34.183Z"
   },
   {
    "duration": 101,
    "start_time": "2021-08-18T13:26:34.250Z"
   },
   {
    "duration": 15,
    "start_time": "2021-08-18T13:26:34.354Z"
   },
   {
    "duration": 50,
    "start_time": "2021-08-18T13:26:34.371Z"
   },
   {
    "duration": 42,
    "start_time": "2021-08-18T13:30:27.042Z"
   },
   {
    "duration": 14,
    "start_time": "2021-08-18T13:30:38.387Z"
   },
   {
    "duration": 32,
    "start_time": "2021-08-18T13:30:40.211Z"
   },
   {
    "duration": 318,
    "start_time": "2021-08-18T13:36:33.409Z"
   },
   {
    "duration": 6,
    "start_time": "2021-08-18T13:37:02.136Z"
   },
   {
    "duration": 296,
    "start_time": "2021-08-18T13:37:13.793Z"
   },
   {
    "duration": 5,
    "start_time": "2021-08-18T13:37:35.216Z"
   },
   {
    "duration": 284,
    "start_time": "2021-08-18T13:37:52.424Z"
   },
   {
    "duration": 273,
    "start_time": "2021-08-18T13:38:10.312Z"
   },
   {
    "duration": 25,
    "start_time": "2021-08-18T13:38:26.503Z"
   },
   {
    "duration": 305,
    "start_time": "2021-08-18T13:39:15.384Z"
   },
   {
    "duration": 599,
    "start_time": "2021-08-18T13:39:32.048Z"
   },
   {
    "duration": 292,
    "start_time": "2021-08-18T13:40:16.552Z"
   },
   {
    "duration": 90,
    "start_time": "2021-08-18T13:40:48.871Z"
   },
   {
    "duration": 232,
    "start_time": "2021-08-18T13:40:57.318Z"
   },
   {
    "duration": 694,
    "start_time": "2021-08-18T13:41:17.016Z"
   },
   {
    "duration": 609,
    "start_time": "2021-08-18T13:41:38.231Z"
   },
   {
    "duration": 259,
    "start_time": "2021-08-18T13:41:52.647Z"
   },
   {
    "duration": 564,
    "start_time": "2021-08-18T13:42:06.862Z"
   },
   {
    "duration": 303,
    "start_time": "2021-08-18T13:48:12.323Z"
   },
   {
    "duration": 276,
    "start_time": "2021-08-18T13:49:14.276Z"
   },
   {
    "duration": 4,
    "start_time": "2021-08-18T13:52:52.403Z"
   },
   {
    "duration": 252,
    "start_time": "2021-08-18T13:53:24.466Z"
   },
   {
    "duration": 347,
    "start_time": "2021-08-18T13:53:35.618Z"
   },
   {
    "duration": 4,
    "start_time": "2021-08-18T13:54:16.114Z"
   },
   {
    "duration": 4247,
    "start_time": "2021-08-18T13:54:20.425Z"
   },
   {
    "duration": 4,
    "start_time": "2021-08-18T13:56:07.536Z"
   },
   {
    "duration": 319,
    "start_time": "2021-08-18T13:56:28.880Z"
   },
   {
    "duration": 9,
    "start_time": "2021-08-18T13:56:39.705Z"
   },
   {
    "duration": 1081,
    "start_time": "2021-08-18T13:58:32.920Z"
   },
   {
    "duration": 9,
    "start_time": "2021-08-18T13:58:35.711Z"
   },
   {
    "duration": 930,
    "start_time": "2021-08-18T13:58:44.992Z"
   },
   {
    "duration": 92,
    "start_time": "2021-08-18T13:58:49.945Z"
   },
   {
    "duration": 17,
    "start_time": "2021-08-18T13:58:50.496Z"
   },
   {
    "duration": 37,
    "start_time": "2021-08-18T13:58:51.328Z"
   },
   {
    "duration": 4,
    "start_time": "2021-08-18T13:59:01.697Z"
   },
   {
    "duration": 1506,
    "start_time": "2021-08-18T13:59:03.863Z"
   },
   {
    "duration": 10,
    "start_time": "2021-08-18T13:59:06.223Z"
   },
   {
    "duration": 21,
    "start_time": "2021-08-18T14:01:19.462Z"
   },
   {
    "duration": 942,
    "start_time": "2021-08-18T14:01:27.246Z"
   },
   {
    "duration": 542,
    "start_time": "2021-08-18T14:01:28.192Z"
   },
   {
    "duration": 26,
    "start_time": "2021-08-18T14:01:28.737Z"
   },
   {
    "duration": 52,
    "start_time": "2021-08-18T14:01:28.766Z"
   },
   {
    "duration": 261,
    "start_time": "2021-08-18T14:01:28.821Z"
   },
   {
    "duration": 172,
    "start_time": "2021-08-18T14:01:29.085Z"
   },
   {
    "duration": 165,
    "start_time": "2021-08-18T14:01:29.260Z"
   },
   {
    "duration": 67,
    "start_time": "2021-08-18T14:01:29.428Z"
   },
   {
    "duration": 52,
    "start_time": "2021-08-18T14:01:29.497Z"
   },
   {
    "duration": 64,
    "start_time": "2021-08-18T14:01:29.551Z"
   },
   {
    "duration": 34,
    "start_time": "2021-08-18T14:01:29.618Z"
   },
   {
    "duration": 31,
    "start_time": "2021-08-18T14:01:29.654Z"
   },
   {
    "duration": 34,
    "start_time": "2021-08-18T14:01:29.687Z"
   },
   {
    "duration": 4,
    "start_time": "2021-08-18T14:01:29.723Z"
   },
   {
    "duration": 422,
    "start_time": "2021-08-18T14:01:29.729Z"
   },
   {
    "duration": 8,
    "start_time": "2021-08-18T14:01:30.154Z"
   },
   {
    "duration": 29,
    "start_time": "2021-08-18T14:04:03.748Z"
   },
   {
    "duration": 812,
    "start_time": "2021-08-18T14:05:56.604Z"
   },
   {
    "duration": 499,
    "start_time": "2021-08-18T14:05:57.419Z"
   },
   {
    "duration": 26,
    "start_time": "2021-08-18T14:05:57.921Z"
   },
   {
    "duration": 57,
    "start_time": "2021-08-18T14:05:57.950Z"
   },
   {
    "duration": 249,
    "start_time": "2021-08-18T14:05:58.010Z"
   },
   {
    "duration": 172,
    "start_time": "2021-08-18T14:05:58.262Z"
   },
   {
    "duration": 138,
    "start_time": "2021-08-18T14:05:58.436Z"
   },
   {
    "duration": 48,
    "start_time": "2021-08-18T14:05:58.586Z"
   },
   {
    "duration": 80,
    "start_time": "2021-08-18T14:05:58.638Z"
   },
   {
    "duration": 46,
    "start_time": "2021-08-18T14:05:58.721Z"
   },
   {
    "duration": 33,
    "start_time": "2021-08-18T14:05:58.783Z"
   },
   {
    "duration": 13,
    "start_time": "2021-08-18T14:05:58.818Z"
   },
   {
    "duration": 56,
    "start_time": "2021-08-18T14:05:58.834Z"
   },
   {
    "duration": 4,
    "start_time": "2021-08-18T14:05:58.892Z"
   },
   {
    "duration": 25,
    "start_time": "2021-08-18T14:05:58.898Z"
   },
   {
    "duration": 9,
    "start_time": "2021-08-18T14:05:58.926Z"
   },
   {
    "duration": 31,
    "start_time": "2021-08-18T14:06:36.605Z"
   },
   {
    "duration": 783,
    "start_time": "2021-08-18T14:06:47.850Z"
   },
   {
    "duration": 559,
    "start_time": "2021-08-18T14:06:48.636Z"
   },
   {
    "duration": 26,
    "start_time": "2021-08-18T14:06:49.198Z"
   },
   {
    "duration": 71,
    "start_time": "2021-08-18T14:06:49.228Z"
   },
   {
    "duration": 251,
    "start_time": "2021-08-18T14:06:49.301Z"
   },
   {
    "duration": 155,
    "start_time": "2021-08-18T14:06:49.555Z"
   },
   {
    "duration": 143,
    "start_time": "2021-08-18T14:06:49.712Z"
   },
   {
    "duration": 58,
    "start_time": "2021-08-18T14:06:49.859Z"
   },
   {
    "duration": 66,
    "start_time": "2021-08-18T14:06:49.919Z"
   },
   {
    "duration": 47,
    "start_time": "2021-08-18T14:06:49.988Z"
   },
   {
    "duration": 54,
    "start_time": "2021-08-18T14:06:50.037Z"
   },
   {
    "duration": 13,
    "start_time": "2021-08-18T14:06:50.094Z"
   },
   {
    "duration": 31,
    "start_time": "2021-08-18T14:06:50.110Z"
   },
   {
    "duration": 4,
    "start_time": "2021-08-18T14:06:50.143Z"
   },
   {
    "duration": 51,
    "start_time": "2021-08-18T14:06:50.149Z"
   },
   {
    "duration": 15,
    "start_time": "2021-08-18T14:06:50.203Z"
   },
   {
    "duration": 849,
    "start_time": "2021-08-18T14:08:59.367Z"
   },
   {
    "duration": 517,
    "start_time": "2021-08-18T14:09:00.218Z"
   },
   {
    "duration": 25,
    "start_time": "2021-08-18T14:09:00.738Z"
   },
   {
    "duration": 68,
    "start_time": "2021-08-18T14:09:00.765Z"
   },
   {
    "duration": 253,
    "start_time": "2021-08-18T14:09:00.836Z"
   },
   {
    "duration": 163,
    "start_time": "2021-08-18T14:09:01.091Z"
   },
   {
    "duration": 142,
    "start_time": "2021-08-18T14:09:01.257Z"
   },
   {
    "duration": 47,
    "start_time": "2021-08-18T14:09:01.403Z"
   },
   {
    "duration": 68,
    "start_time": "2021-08-18T14:09:01.453Z"
   },
   {
    "duration": 65,
    "start_time": "2021-08-18T14:09:01.523Z"
   },
   {
    "duration": 44,
    "start_time": "2021-08-18T14:09:01.592Z"
   },
   {
    "duration": 8,
    "start_time": "2021-08-18T14:09:01.639Z"
   },
   {
    "duration": 44,
    "start_time": "2021-08-18T14:09:01.650Z"
   },
   {
    "duration": 42,
    "start_time": "2021-08-18T14:09:01.697Z"
   },
   {
    "duration": 3,
    "start_time": "2021-08-18T14:09:01.741Z"
   },
   {
    "duration": 49,
    "start_time": "2021-08-18T14:09:01.747Z"
   },
   {
    "duration": 9,
    "start_time": "2021-08-18T14:09:01.798Z"
   },
   {
    "duration": 712,
    "start_time": "2021-08-18T14:11:54.047Z"
   },
   {
    "duration": 474,
    "start_time": "2021-08-18T14:11:54.762Z"
   },
   {
    "duration": 25,
    "start_time": "2021-08-18T14:11:55.239Z"
   },
   {
    "duration": 60,
    "start_time": "2021-08-18T14:11:55.267Z"
   },
   {
    "duration": 242,
    "start_time": "2021-08-18T14:11:55.329Z"
   },
   {
    "duration": 160,
    "start_time": "2021-08-18T14:11:55.581Z"
   },
   {
    "duration": 153,
    "start_time": "2021-08-18T14:11:55.744Z"
   },
   {
    "duration": 49,
    "start_time": "2021-08-18T14:11:55.902Z"
   },
   {
    "duration": 75,
    "start_time": "2021-08-18T14:11:55.955Z"
   },
   {
    "duration": 69,
    "start_time": "2021-08-18T14:11:56.033Z"
   },
   {
    "duration": 35,
    "start_time": "2021-08-18T14:11:56.105Z"
   },
   {
    "duration": 365,
    "start_time": "2021-08-18T14:11:56.143Z"
   },
   {
    "duration": -7006,
    "start_time": "2021-08-18T14:12:03.518Z"
   },
   {
    "duration": -7006,
    "start_time": "2021-08-18T14:12:03.520Z"
   },
   {
    "duration": -7005,
    "start_time": "2021-08-18T14:12:03.521Z"
   },
   {
    "duration": -7005,
    "start_time": "2021-08-18T14:12:03.523Z"
   },
   {
    "duration": -7010,
    "start_time": "2021-08-18T14:12:03.529Z"
   },
   {
    "duration": 293,
    "start_time": "2021-08-18T14:12:13.537Z"
   },
   {
    "duration": 7,
    "start_time": "2021-08-18T14:12:30.986Z"
   },
   {
    "duration": 14,
    "start_time": "2021-08-18T14:12:34.609Z"
   },
   {
    "duration": 27,
    "start_time": "2021-08-18T14:12:37.202Z"
   },
   {
    "duration": 3,
    "start_time": "2021-08-18T14:13:11.353Z"
   },
   {
    "duration": 467,
    "start_time": "2021-08-18T14:13:16.865Z"
   },
   {
    "duration": 9,
    "start_time": "2021-08-18T14:13:29.265Z"
   },
   {
    "duration": 730,
    "start_time": "2021-08-18T14:14:23.548Z"
   },
   {
    "duration": 496,
    "start_time": "2021-08-18T14:14:24.283Z"
   },
   {
    "duration": 27,
    "start_time": "2021-08-18T14:14:24.782Z"
   },
   {
    "duration": 81,
    "start_time": "2021-08-18T14:14:24.813Z"
   },
   {
    "duration": 251,
    "start_time": "2021-08-18T14:14:24.897Z"
   },
   {
    "duration": 161,
    "start_time": "2021-08-18T14:14:25.151Z"
   },
   {
    "duration": 137,
    "start_time": "2021-08-18T14:14:25.315Z"
   },
   {
    "duration": 61,
    "start_time": "2021-08-18T14:14:25.455Z"
   },
   {
    "duration": 83,
    "start_time": "2021-08-18T14:14:25.519Z"
   },
   {
    "duration": 78,
    "start_time": "2021-08-18T14:14:25.604Z"
   },
   {
    "duration": 52,
    "start_time": "2021-08-18T14:14:25.685Z"
   },
   {
    "duration": 9,
    "start_time": "2021-08-18T14:14:25.740Z"
   },
   {
    "duration": 39,
    "start_time": "2021-08-18T14:14:25.751Z"
   },
   {
    "duration": 37,
    "start_time": "2021-08-18T14:14:25.792Z"
   },
   {
    "duration": 4,
    "start_time": "2021-08-18T14:14:25.832Z"
   },
   {
    "duration": 495,
    "start_time": "2021-08-18T14:14:25.838Z"
   },
   {
    "duration": 9,
    "start_time": "2021-08-18T14:14:26.335Z"
   },
   {
    "duration": 697,
    "start_time": "2021-08-18T14:15:21.098Z"
   },
   {
    "duration": 523,
    "start_time": "2021-08-18T14:15:21.797Z"
   },
   {
    "duration": 27,
    "start_time": "2021-08-18T14:15:22.324Z"
   },
   {
    "duration": 61,
    "start_time": "2021-08-18T14:15:22.355Z"
   },
   {
    "duration": 274,
    "start_time": "2021-08-18T14:15:22.419Z"
   },
   {
    "duration": 167,
    "start_time": "2021-08-18T14:15:22.695Z"
   },
   {
    "duration": 159,
    "start_time": "2021-08-18T14:15:22.865Z"
   },
   {
    "duration": 68,
    "start_time": "2021-08-18T14:15:23.030Z"
   },
   {
    "duration": 50,
    "start_time": "2021-08-18T14:15:23.102Z"
   },
   {
    "duration": 73,
    "start_time": "2021-08-18T14:15:23.155Z"
   },
   {
    "duration": 59,
    "start_time": "2021-08-18T14:15:23.231Z"
   },
   {
    "duration": 7,
    "start_time": "2021-08-18T14:15:23.292Z"
   },
   {
    "duration": 18,
    "start_time": "2021-08-18T14:15:23.303Z"
   },
   {
    "duration": 30,
    "start_time": "2021-08-18T14:15:23.323Z"
   },
   {
    "duration": 4,
    "start_time": "2021-08-18T14:15:23.383Z"
   },
   {
    "duration": 470,
    "start_time": "2021-08-18T14:15:23.389Z"
   },
   {
    "duration": 8,
    "start_time": "2021-08-18T14:15:23.861Z"
   },
   {
    "duration": 684,
    "start_time": "2021-08-18T14:15:57.518Z"
   },
   {
    "duration": 488,
    "start_time": "2021-08-18T14:15:58.205Z"
   },
   {
    "duration": 25,
    "start_time": "2021-08-18T14:15:58.695Z"
   },
   {
    "duration": 66,
    "start_time": "2021-08-18T14:15:58.723Z"
   },
   {
    "duration": 248,
    "start_time": "2021-08-18T14:15:58.792Z"
   },
   {
    "duration": 161,
    "start_time": "2021-08-18T14:15:59.042Z"
   },
   {
    "duration": 141,
    "start_time": "2021-08-18T14:15:59.205Z"
   },
   {
    "duration": 63,
    "start_time": "2021-08-18T14:15:59.349Z"
   },
   {
    "duration": 47,
    "start_time": "2021-08-18T14:15:59.415Z"
   },
   {
    "duration": 62,
    "start_time": "2021-08-18T14:15:59.465Z"
   },
   {
    "duration": 53,
    "start_time": "2021-08-18T14:15:59.529Z"
   },
   {
    "duration": 7,
    "start_time": "2021-08-18T14:15:59.584Z"
   },
   {
    "duration": 17,
    "start_time": "2021-08-18T14:15:59.594Z"
   },
   {
    "duration": 27,
    "start_time": "2021-08-18T14:15:59.613Z"
   },
   {
    "duration": 3,
    "start_time": "2021-08-18T14:15:59.643Z"
   },
   {
    "duration": 763,
    "start_time": "2021-08-18T14:15:59.648Z"
   },
   {
    "duration": 10,
    "start_time": "2021-08-18T14:16:00.414Z"
   },
   {
    "duration": 732,
    "start_time": "2021-08-18T14:16:28.872Z"
   },
   {
    "duration": 497,
    "start_time": "2021-08-18T14:16:29.607Z"
   },
   {
    "duration": 25,
    "start_time": "2021-08-18T14:16:30.107Z"
   },
   {
    "duration": 65,
    "start_time": "2021-08-18T14:16:30.135Z"
   },
   {
    "duration": 260,
    "start_time": "2021-08-18T14:16:30.203Z"
   },
   {
    "duration": 165,
    "start_time": "2021-08-18T14:16:30.466Z"
   },
   {
    "duration": 155,
    "start_time": "2021-08-18T14:16:30.633Z"
   },
   {
    "duration": 50,
    "start_time": "2021-08-18T14:16:30.791Z"
   },
   {
    "duration": 86,
    "start_time": "2021-08-18T14:16:30.845Z"
   },
   {
    "duration": 78,
    "start_time": "2021-08-18T14:16:30.934Z"
   },
   {
    "duration": 53,
    "start_time": "2021-08-18T14:16:31.015Z"
   },
   {
    "duration": 9,
    "start_time": "2021-08-18T14:16:31.083Z"
   },
   {
    "duration": 96,
    "start_time": "2021-08-18T14:16:31.094Z"
   },
   {
    "duration": 37,
    "start_time": "2021-08-18T14:16:31.193Z"
   },
   {
    "duration": 3,
    "start_time": "2021-08-18T14:16:31.233Z"
   },
   {
    "duration": 1118,
    "start_time": "2021-08-18T14:16:31.238Z"
   },
   {
    "duration": 8,
    "start_time": "2021-08-18T14:16:32.358Z"
   },
   {
    "duration": 356,
    "start_time": "2021-08-18T14:19:46.083Z"
   },
   {
    "duration": 739,
    "start_time": "2021-08-18T14:19:53.269Z"
   },
   {
    "duration": 489,
    "start_time": "2021-08-18T14:19:54.010Z"
   },
   {
    "duration": 28,
    "start_time": "2021-08-18T14:19:54.507Z"
   },
   {
    "duration": 72,
    "start_time": "2021-08-18T14:19:54.538Z"
   },
   {
    "duration": 260,
    "start_time": "2021-08-18T14:19:54.613Z"
   },
   {
    "duration": 161,
    "start_time": "2021-08-18T14:19:54.883Z"
   },
   {
    "duration": 141,
    "start_time": "2021-08-18T14:19:55.048Z"
   },
   {
    "duration": 46,
    "start_time": "2021-08-18T14:19:55.192Z"
   },
   {
    "duration": 73,
    "start_time": "2021-08-18T14:19:55.241Z"
   },
   {
    "duration": 46,
    "start_time": "2021-08-18T14:19:55.317Z"
   },
   {
    "duration": 51,
    "start_time": "2021-08-18T14:19:55.365Z"
   },
   {
    "duration": 10,
    "start_time": "2021-08-18T14:19:55.418Z"
   },
   {
    "duration": 17,
    "start_time": "2021-08-18T14:19:55.430Z"
   },
   {
    "duration": 56,
    "start_time": "2021-08-18T14:19:55.450Z"
   },
   {
    "duration": 3,
    "start_time": "2021-08-18T14:19:55.509Z"
   },
   {
    "duration": 733,
    "start_time": "2021-08-18T14:19:55.515Z"
   },
   {
    "duration": 10,
    "start_time": "2021-08-18T14:19:56.251Z"
   },
   {
    "duration": 797,
    "start_time": "2021-08-18T14:23:00.398Z"
   },
   {
    "duration": 593,
    "start_time": "2021-08-18T14:23:01.198Z"
   },
   {
    "duration": 34,
    "start_time": "2021-08-18T14:23:01.795Z"
   },
   {
    "duration": 82,
    "start_time": "2021-08-18T14:23:01.833Z"
   },
   {
    "duration": 315,
    "start_time": "2021-08-18T14:23:01.918Z"
   },
   {
    "duration": 210,
    "start_time": "2021-08-18T14:23:02.236Z"
   },
   {
    "duration": 205,
    "start_time": "2021-08-18T14:23:02.449Z"
   },
   {
    "duration": 72,
    "start_time": "2021-08-18T14:23:02.659Z"
   },
   {
    "duration": 91,
    "start_time": "2021-08-18T14:23:02.734Z"
   },
   {
    "duration": 77,
    "start_time": "2021-08-18T14:23:02.828Z"
   },
   {
    "duration": 55,
    "start_time": "2021-08-18T14:23:02.908Z"
   },
   {
    "duration": 21,
    "start_time": "2021-08-18T14:23:02.967Z"
   },
   {
    "duration": 28,
    "start_time": "2021-08-18T14:23:02.991Z"
   },
   {
    "duration": 63,
    "start_time": "2021-08-18T14:23:03.021Z"
   },
   {
    "duration": 4,
    "start_time": "2021-08-18T14:23:03.087Z"
   },
   {
    "duration": 180,
    "start_time": "2021-08-18T14:23:03.094Z"
   },
   {
    "duration": -6919,
    "start_time": "2021-08-18T14:23:10.196Z"
   },
   {
    "duration": 367,
    "start_time": "2021-08-18T14:27:59.074Z"
   },
   {
    "duration": 32,
    "start_time": "2021-08-18T14:29:15.561Z"
   },
   {
    "duration": 736,
    "start_time": "2021-08-18T14:31:58.575Z"
   },
   {
    "duration": 485,
    "start_time": "2021-08-18T14:31:59.314Z"
   },
   {
    "duration": 24,
    "start_time": "2021-08-18T14:31:59.802Z"
   },
   {
    "duration": 61,
    "start_time": "2021-08-18T14:31:59.829Z"
   },
   {
    "duration": 260,
    "start_time": "2021-08-18T14:31:59.892Z"
   },
   {
    "duration": 161,
    "start_time": "2021-08-18T14:32:00.154Z"
   },
   {
    "duration": 142,
    "start_time": "2021-08-18T14:32:00.317Z"
   },
   {
    "duration": 65,
    "start_time": "2021-08-18T14:32:00.462Z"
   },
   {
    "duration": 68,
    "start_time": "2021-08-18T14:32:00.530Z"
   },
   {
    "duration": 49,
    "start_time": "2021-08-18T14:32:00.600Z"
   },
   {
    "duration": 55,
    "start_time": "2021-08-18T14:32:00.652Z"
   },
   {
    "duration": 15,
    "start_time": "2021-08-18T14:32:00.709Z"
   },
   {
    "duration": 17,
    "start_time": "2021-08-18T14:32:00.726Z"
   },
   {
    "duration": 64,
    "start_time": "2021-08-18T14:32:00.745Z"
   },
   {
    "duration": 8,
    "start_time": "2021-08-18T14:39:06.941Z"
   },
   {
    "duration": 12,
    "start_time": "2021-08-18T14:39:10.055Z"
   },
   {
    "duration": 17,
    "start_time": "2021-08-18T14:39:37.286Z"
   },
   {
    "duration": 801,
    "start_time": "2021-08-18T14:40:01.590Z"
   },
   {
    "duration": 510,
    "start_time": "2021-08-18T14:40:02.394Z"
   },
   {
    "duration": 9,
    "start_time": "2021-08-18T14:40:02.907Z"
   },
   {
    "duration": 16,
    "start_time": "2021-08-18T14:40:02.919Z"
   },
   {
    "duration": 39,
    "start_time": "2021-08-18T14:40:02.937Z"
   },
   {
    "duration": 56,
    "start_time": "2021-08-18T14:40:02.979Z"
   },
   {
    "duration": 263,
    "start_time": "2021-08-18T14:40:03.038Z"
   },
   {
    "duration": 170,
    "start_time": "2021-08-18T14:40:03.304Z"
   },
   {
    "duration": 152,
    "start_time": "2021-08-18T14:40:03.485Z"
   },
   {
    "duration": 65,
    "start_time": "2021-08-18T14:40:03.640Z"
   },
   {
    "duration": 76,
    "start_time": "2021-08-18T14:40:03.708Z"
   },
   {
    "duration": 47,
    "start_time": "2021-08-18T14:40:03.786Z"
   },
   {
    "duration": 56,
    "start_time": "2021-08-18T14:40:03.835Z"
   },
   {
    "duration": 13,
    "start_time": "2021-08-18T14:40:03.894Z"
   },
   {
    "duration": 8,
    "start_time": "2021-08-18T14:40:03.909Z"
   },
   {
    "duration": 44,
    "start_time": "2021-08-18T14:40:03.919Z"
   },
   {
    "duration": 101,
    "start_time": "2021-08-18T14:45:12.843Z"
   },
   {
    "duration": 77,
    "start_time": "2021-08-18T14:46:22.019Z"
   },
   {
    "duration": 79,
    "start_time": "2021-08-18T14:47:15.042Z"
   },
   {
    "duration": 862,
    "start_time": "2021-08-18T14:47:42.006Z"
   },
   {
    "duration": 701,
    "start_time": "2021-08-18T14:47:42.871Z"
   },
   {
    "duration": 10,
    "start_time": "2021-08-18T14:47:43.575Z"
   },
   {
    "duration": 15,
    "start_time": "2021-08-18T14:47:43.588Z"
   },
   {
    "duration": 30,
    "start_time": "2021-08-18T14:47:43.606Z"
   },
   {
    "duration": 111,
    "start_time": "2021-08-18T14:47:43.640Z"
   },
   {
    "duration": 355,
    "start_time": "2021-08-18T14:47:43.754Z"
   },
   {
    "duration": 207,
    "start_time": "2021-08-18T14:47:44.113Z"
   },
   {
    "duration": 148,
    "start_time": "2021-08-18T14:47:44.323Z"
   },
   {
    "duration": 72,
    "start_time": "2021-08-18T14:47:44.474Z"
   },
   {
    "duration": 91,
    "start_time": "2021-08-18T14:47:44.549Z"
   },
   {
    "duration": 67,
    "start_time": "2021-08-18T14:47:44.643Z"
   },
   {
    "duration": 43,
    "start_time": "2021-08-18T14:47:44.713Z"
   },
   {
    "duration": 29,
    "start_time": "2021-08-18T14:47:44.758Z"
   },
   {
    "duration": 8,
    "start_time": "2021-08-18T14:47:44.790Z"
   },
   {
    "duration": 47,
    "start_time": "2021-08-18T14:47:44.800Z"
   },
   {
    "duration": 858,
    "start_time": "2021-08-18T14:48:38.768Z"
   },
   {
    "duration": 680,
    "start_time": "2021-08-18T14:48:39.630Z"
   },
   {
    "duration": 12,
    "start_time": "2021-08-18T14:48:40.314Z"
   },
   {
    "duration": 14,
    "start_time": "2021-08-18T14:48:40.330Z"
   },
   {
    "duration": 40,
    "start_time": "2021-08-18T14:48:40.347Z"
   },
   {
    "duration": 59,
    "start_time": "2021-08-18T14:48:40.390Z"
   },
   {
    "duration": 280,
    "start_time": "2021-08-18T14:48:40.451Z"
   },
   {
    "duration": 171,
    "start_time": "2021-08-18T14:48:40.734Z"
   },
   {
    "duration": 143,
    "start_time": "2021-08-18T14:48:40.909Z"
   },
   {
    "duration": 84,
    "start_time": "2021-08-18T14:48:41.054Z"
   },
   {
    "duration": 65,
    "start_time": "2021-08-18T14:48:41.140Z"
   },
   {
    "duration": 47,
    "start_time": "2021-08-18T14:48:41.207Z"
   },
   {
    "duration": 61,
    "start_time": "2021-08-18T14:48:41.257Z"
   },
   {
    "duration": 14,
    "start_time": "2021-08-18T14:48:41.320Z"
   },
   {
    "duration": 11,
    "start_time": "2021-08-18T14:48:41.337Z"
   },
   {
    "duration": 64,
    "start_time": "2021-08-18T14:48:41.350Z"
   },
   {
    "duration": 871,
    "start_time": "2021-08-18T15:21:05.138Z"
   },
   {
    "duration": 537,
    "start_time": "2021-08-18T15:21:06.012Z"
   },
   {
    "duration": 56,
    "start_time": "2021-08-18T15:21:06.553Z"
   },
   {
    "duration": 70,
    "start_time": "2021-08-18T15:21:06.612Z"
   },
   {
    "duration": 244,
    "start_time": "2021-08-18T15:21:06.685Z"
   },
   {
    "duration": 168,
    "start_time": "2021-08-18T15:21:06.931Z"
   },
   {
    "duration": 143,
    "start_time": "2021-08-18T15:21:07.101Z"
   },
   {
    "duration": 85,
    "start_time": "2021-08-18T15:21:07.246Z"
   },
   {
    "duration": 62,
    "start_time": "2021-08-18T15:21:07.335Z"
   },
   {
    "duration": 50,
    "start_time": "2021-08-18T15:21:07.399Z"
   },
   {
    "duration": 58,
    "start_time": "2021-08-18T15:21:07.451Z"
   },
   {
    "duration": 14,
    "start_time": "2021-08-18T15:21:07.511Z"
   },
   {
    "duration": 9,
    "start_time": "2021-08-18T15:21:07.527Z"
   },
   {
    "duration": 68,
    "start_time": "2021-08-18T15:21:07.538Z"
   },
   {
    "duration": 706,
    "start_time": "2021-08-18T15:29:59.248Z"
   },
   {
    "duration": 519,
    "start_time": "2021-08-18T15:29:59.957Z"
   },
   {
    "duration": 40,
    "start_time": "2021-08-18T15:30:00.479Z"
   },
   {
    "duration": 75,
    "start_time": "2021-08-18T15:30:00.523Z"
   },
   {
    "duration": 267,
    "start_time": "2021-08-18T15:30:00.601Z"
   },
   {
    "duration": 166,
    "start_time": "2021-08-18T15:30:00.871Z"
   },
   {
    "duration": 152,
    "start_time": "2021-08-18T15:30:01.039Z"
   },
   {
    "duration": 91,
    "start_time": "2021-08-18T15:30:01.193Z"
   },
   {
    "duration": 55,
    "start_time": "2021-08-18T15:30:01.288Z"
   },
   {
    "duration": 80,
    "start_time": "2021-08-18T15:30:01.346Z"
   },
   {
    "duration": 103,
    "start_time": "2021-08-18T15:30:01.428Z"
   },
   {
    "duration": 881,
    "start_time": "2021-08-18T15:40:47.616Z"
   },
   {
    "duration": 506,
    "start_time": "2021-08-18T15:40:48.501Z"
   },
   {
    "duration": 38,
    "start_time": "2021-08-18T15:40:49.010Z"
   },
   {
    "duration": 59,
    "start_time": "2021-08-18T15:40:49.051Z"
   },
   {
    "duration": 251,
    "start_time": "2021-08-18T15:40:49.113Z"
   },
   {
    "duration": 232,
    "start_time": "2021-08-18T15:40:49.367Z"
   },
   {
    "duration": 192,
    "start_time": "2021-08-18T15:40:49.602Z"
   },
   {
    "duration": 113,
    "start_time": "2021-08-18T15:40:49.797Z"
   },
   {
    "duration": 50,
    "start_time": "2021-08-18T15:40:49.914Z"
   },
   {
    "duration": 60,
    "start_time": "2021-08-18T15:40:49.967Z"
   },
   {
    "duration": 458,
    "start_time": "2021-08-18T15:40:50.029Z"
   },
   {
    "duration": 729,
    "start_time": "2021-08-18T15:41:26.215Z"
   },
   {
    "duration": 534,
    "start_time": "2021-08-18T15:41:26.948Z"
   },
   {
    "duration": 44,
    "start_time": "2021-08-18T15:41:27.486Z"
   },
   {
    "duration": 81,
    "start_time": "2021-08-18T15:41:27.533Z"
   },
   {
    "duration": 326,
    "start_time": "2021-08-18T15:41:27.617Z"
   },
   {
    "duration": 181,
    "start_time": "2021-08-18T15:41:27.946Z"
   },
   {
    "duration": 160,
    "start_time": "2021-08-18T15:41:28.129Z"
   },
   {
    "duration": 90,
    "start_time": "2021-08-18T15:41:28.292Z"
   },
   {
    "duration": 52,
    "start_time": "2021-08-18T15:41:28.385Z"
   },
   {
    "duration": 73,
    "start_time": "2021-08-18T15:41:28.439Z"
   },
   {
    "duration": 103,
    "start_time": "2021-08-18T15:41:28.515Z"
   },
   {
    "duration": 350,
    "start_time": "2021-08-18T15:51:50.263Z"
   },
   {
    "duration": 324,
    "start_time": "2021-08-18T15:53:19.002Z"
   },
   {
    "duration": 275,
    "start_time": "2021-08-18T15:55:04.361Z"
   },
   {
    "duration": 6,
    "start_time": "2021-08-18T15:58:31.289Z"
   },
   {
    "duration": 36,
    "start_time": "2021-08-18T15:58:36.591Z"
   },
   {
    "duration": 5,
    "start_time": "2021-08-18T15:59:29.471Z"
   },
   {
    "duration": 49,
    "start_time": "2021-08-18T15:59:30.351Z"
   },
   {
    "duration": 243,
    "start_time": "2021-08-18T16:04:08.142Z"
   },
   {
    "duration": 17,
    "start_time": "2021-08-18T16:04:29.037Z"
   },
   {
    "duration": 17,
    "start_time": "2021-08-18T16:05:18.614Z"
   },
   {
    "duration": 250,
    "start_time": "2021-08-18T16:12:35.866Z"
   },
   {
    "duration": 29,
    "start_time": "2021-08-18T16:13:11.704Z"
   },
   {
    "duration": 23,
    "start_time": "2021-08-18T16:14:27.779Z"
   },
   {
    "duration": 31,
    "start_time": "2021-08-18T16:14:37.436Z"
   },
   {
    "duration": 11,
    "start_time": "2021-08-18T16:14:46.242Z"
   },
   {
    "duration": 35,
    "start_time": "2021-08-18T16:14:53.440Z"
   },
   {
    "duration": 35,
    "start_time": "2021-08-18T16:15:38.188Z"
   },
   {
    "duration": 728,
    "start_time": "2021-08-18T16:17:25.169Z"
   },
   {
    "duration": 513,
    "start_time": "2021-08-18T16:17:25.900Z"
   },
   {
    "duration": 38,
    "start_time": "2021-08-18T16:17:26.416Z"
   },
   {
    "duration": 61,
    "start_time": "2021-08-18T16:17:26.457Z"
   },
   {
    "duration": 302,
    "start_time": "2021-08-18T16:17:26.521Z"
   },
   {
    "duration": 231,
    "start_time": "2021-08-18T16:17:26.826Z"
   },
   {
    "duration": 193,
    "start_time": "2021-08-18T16:17:27.060Z"
   },
   {
    "duration": 106,
    "start_time": "2021-08-18T16:17:27.257Z"
   },
   {
    "duration": 79,
    "start_time": "2021-08-18T16:17:27.366Z"
   },
   {
    "duration": 90,
    "start_time": "2021-08-18T16:17:27.448Z"
   },
   {
    "duration": 151,
    "start_time": "2021-08-18T16:17:27.542Z"
   },
   {
    "duration": 23,
    "start_time": "2021-08-18T16:17:27.696Z"
   },
   {
    "duration": 74,
    "start_time": "2021-08-18T16:17:27.721Z"
   },
   {
    "duration": 498,
    "start_time": "2021-08-19T09:29:33.692Z"
   },
   {
    "duration": 774,
    "start_time": "2021-08-19T09:29:37.861Z"
   },
   {
    "duration": 527,
    "start_time": "2021-08-19T09:29:39.352Z"
   },
   {
    "duration": 453,
    "start_time": "2021-08-19T09:38:26.796Z"
   },
   {
    "duration": 737,
    "start_time": "2021-08-19T09:38:53.416Z"
   },
   {
    "duration": 520,
    "start_time": "2021-08-19T09:38:54.156Z"
   },
   {
    "duration": 38,
    "start_time": "2021-08-19T09:38:54.679Z"
   },
   {
    "duration": 56,
    "start_time": "2021-08-19T09:38:54.720Z"
   },
   {
    "duration": 257,
    "start_time": "2021-08-19T09:38:54.801Z"
   },
   {
    "duration": 171,
    "start_time": "2021-08-19T09:38:55.060Z"
   },
   {
    "duration": 134,
    "start_time": "2021-08-19T09:38:55.233Z"
   },
   {
    "duration": 89,
    "start_time": "2021-08-19T09:38:55.370Z"
   },
   {
    "duration": 68,
    "start_time": "2021-08-19T09:38:55.462Z"
   },
   {
    "duration": 46,
    "start_time": "2021-08-19T09:38:55.533Z"
   },
   {
    "duration": 105,
    "start_time": "2021-08-19T09:38:55.581Z"
   },
   {
    "duration": 26,
    "start_time": "2021-08-19T09:38:55.699Z"
   },
   {
    "duration": 3,
    "start_time": "2021-08-19T09:38:55.727Z"
   },
   {
    "duration": 37,
    "start_time": "2021-08-19T09:39:37.351Z"
   },
   {
    "duration": 28,
    "start_time": "2021-08-19T09:41:24.008Z"
   },
   {
    "duration": 40,
    "start_time": "2021-08-19T09:41:37.769Z"
   },
   {
    "duration": 40,
    "start_time": "2021-08-19T09:42:05.369Z"
   },
   {
    "duration": 43,
    "start_time": "2021-08-19T09:42:41.496Z"
   },
   {
    "duration": 33,
    "start_time": "2021-08-19T09:42:56.753Z"
   },
   {
    "duration": 33,
    "start_time": "2021-08-19T09:44:21.081Z"
   },
   {
    "duration": 38,
    "start_time": "2021-08-19T09:46:08.766Z"
   },
   {
    "duration": 40,
    "start_time": "2021-08-19T09:46:15.317Z"
   },
   {
    "duration": 4,
    "start_time": "2021-08-19T09:46:31.708Z"
   },
   {
    "duration": 37,
    "start_time": "2021-08-19T09:54:59.950Z"
   },
   {
    "duration": 12,
    "start_time": "2021-08-19T09:55:27.443Z"
   },
   {
    "duration": 761,
    "start_time": "2021-08-19T09:58:13.480Z"
   },
   {
    "duration": 511,
    "start_time": "2021-08-19T09:58:14.243Z"
   },
   {
    "duration": 39,
    "start_time": "2021-08-19T09:58:14.757Z"
   },
   {
    "duration": 55,
    "start_time": "2021-08-19T09:58:14.799Z"
   },
   {
    "duration": 244,
    "start_time": "2021-08-19T09:58:14.856Z"
   },
   {
    "duration": 170,
    "start_time": "2021-08-19T09:58:15.103Z"
   },
   {
    "duration": 141,
    "start_time": "2021-08-19T09:58:15.275Z"
   },
   {
    "duration": 91,
    "start_time": "2021-08-19T09:58:15.420Z"
   },
   {
    "duration": 51,
    "start_time": "2021-08-19T09:58:15.514Z"
   },
   {
    "duration": 68,
    "start_time": "2021-08-19T09:58:15.567Z"
   },
   {
    "duration": 97,
    "start_time": "2021-08-19T09:58:15.637Z"
   },
   {
    "duration": 23,
    "start_time": "2021-08-19T09:58:15.736Z"
   },
   {
    "duration": 56,
    "start_time": "2021-08-19T09:58:15.762Z"
   },
   {
    "duration": 10,
    "start_time": "2021-08-19T10:04:47.492Z"
   },
   {
    "duration": 464,
    "start_time": "2021-08-19T10:05:29.741Z"
   },
   {
    "duration": 7,
    "start_time": "2021-08-19T10:05:36.771Z"
   },
   {
    "duration": 9,
    "start_time": "2021-08-19T10:05:49.810Z"
   },
   {
    "duration": 8,
    "start_time": "2021-08-19T10:06:28.468Z"
   },
   {
    "duration": 10,
    "start_time": "2021-08-19T10:06:53.012Z"
   },
   {
    "duration": 12,
    "start_time": "2021-08-19T10:07:33.818Z"
   },
   {
    "duration": 8,
    "start_time": "2021-08-19T10:07:43.674Z"
   },
   {
    "duration": 384,
    "start_time": "2021-08-19T10:08:23.265Z"
   },
   {
    "duration": 24,
    "start_time": "2021-08-19T10:08:31.730Z"
   },
   {
    "duration": 8,
    "start_time": "2021-08-19T10:08:57.194Z"
   },
   {
    "duration": 371,
    "start_time": "2021-08-19T10:09:09.178Z"
   },
   {
    "duration": 7,
    "start_time": "2021-08-19T10:09:13.457Z"
   },
   {
    "duration": 7,
    "start_time": "2021-08-19T10:09:38.738Z"
   },
   {
    "duration": 27,
    "start_time": "2021-08-19T10:09:58.266Z"
   },
   {
    "duration": 11,
    "start_time": "2021-08-19T10:11:05.217Z"
   },
   {
    "duration": 10,
    "start_time": "2021-08-19T10:11:57.306Z"
   },
   {
    "duration": 22,
    "start_time": "2021-08-19T10:14:57.615Z"
   },
   {
    "duration": 2722,
    "start_time": "2021-08-19T10:15:25.792Z"
   },
   {
    "duration": 2794,
    "start_time": "2021-08-19T10:15:52.456Z"
   },
   {
    "duration": 33,
    "start_time": "2021-08-19T10:16:33.472Z"
   },
   {
    "duration": 32,
    "start_time": "2021-08-19T10:17:07.048Z"
   },
   {
    "duration": 412,
    "start_time": "2021-08-19T10:20:48.831Z"
   },
   {
    "duration": 41,
    "start_time": "2021-08-19T10:21:42.110Z"
   },
   {
    "duration": 26,
    "start_time": "2021-08-19T10:22:29.615Z"
   },
   {
    "duration": 28,
    "start_time": "2021-08-19T10:23:09.141Z"
   },
   {
    "duration": 27,
    "start_time": "2021-08-19T10:23:26.357Z"
   },
   {
    "duration": 442,
    "start_time": "2021-08-19T10:28:52.867Z"
   },
   {
    "duration": 8,
    "start_time": "2021-08-19T10:28:58.179Z"
   },
   {
    "duration": 20,
    "start_time": "2021-08-19T10:32:03.789Z"
   },
   {
    "duration": 32,
    "start_time": "2021-08-19T10:32:11.762Z"
   },
   {
    "duration": 21,
    "start_time": "2021-08-19T10:32:19.325Z"
   },
   {
    "duration": 37,
    "start_time": "2021-08-19T10:32:33.874Z"
   },
   {
    "duration": 40,
    "start_time": "2021-08-19T10:32:58.306Z"
   },
   {
    "duration": 35,
    "start_time": "2021-08-19T10:33:53.315Z"
   },
   {
    "duration": 11808,
    "start_time": "2021-08-19T10:34:05.538Z"
   },
   {
    "duration": 42,
    "start_time": "2021-08-19T10:34:28.563Z"
   },
   {
    "duration": 27,
    "start_time": "2021-08-19T10:39:07.944Z"
   },
   {
    "duration": 31,
    "start_time": "2021-08-19T10:40:26.641Z"
   },
   {
    "duration": 29,
    "start_time": "2021-08-19T10:41:03.624Z"
   },
   {
    "duration": 10,
    "start_time": "2021-08-19T10:41:30.919Z"
   },
   {
    "duration": 29,
    "start_time": "2021-08-19T10:41:46.679Z"
   },
   {
    "duration": 10,
    "start_time": "2021-08-19T10:42:24.432Z"
   },
   {
    "duration": 17,
    "start_time": "2021-08-19T10:43:55.718Z"
   },
   {
    "duration": 10,
    "start_time": "2021-08-19T10:45:06.070Z"
   },
   {
    "duration": 18,
    "start_time": "2021-08-19T10:45:26.606Z"
   },
   {
    "duration": 6,
    "start_time": "2021-08-19T10:47:26.038Z"
   },
   {
    "duration": 7,
    "start_time": "2021-08-19T10:47:39.452Z"
   },
   {
    "duration": 5,
    "start_time": "2021-08-19T10:48:06.005Z"
   },
   {
    "duration": 6,
    "start_time": "2021-08-19T10:48:27.308Z"
   },
   {
    "duration": 7,
    "start_time": "2021-08-19T10:48:36.012Z"
   },
   {
    "duration": 27,
    "start_time": "2021-08-19T10:49:06.837Z"
   },
   {
    "duration": 9,
    "start_time": "2021-08-19T10:50:16.907Z"
   },
   {
    "duration": 6,
    "start_time": "2021-08-19T10:50:40.605Z"
   },
   {
    "duration": 8,
    "start_time": "2021-08-19T10:50:46.476Z"
   },
   {
    "duration": 5,
    "start_time": "2021-08-19T10:50:56.164Z"
   },
   {
    "duration": 6,
    "start_time": "2021-08-19T10:51:24.235Z"
   },
   {
    "duration": 369,
    "start_time": "2021-08-19T10:51:43.101Z"
   },
   {
    "duration": 4,
    "start_time": "2021-08-19T10:51:54.395Z"
   },
   {
    "duration": 13,
    "start_time": "2021-08-19T10:51:58.675Z"
   },
   {
    "duration": 6,
    "start_time": "2021-08-19T10:52:58.626Z"
   },
   {
    "duration": 455,
    "start_time": "2021-08-19T10:53:09.010Z"
   },
   {
    "duration": 9,
    "start_time": "2021-08-19T10:53:40.228Z"
   },
   {
    "duration": 422,
    "start_time": "2021-08-19T10:56:49.137Z"
   },
   {
    "duration": 389,
    "start_time": "2021-08-19T10:57:01.562Z"
   },
   {
    "duration": 7,
    "start_time": "2021-08-19T10:57:20.249Z"
   },
   {
    "duration": 361,
    "start_time": "2021-08-19T10:58:05.702Z"
   },
   {
    "duration": 28,
    "start_time": "2021-08-19T10:58:22.834Z"
   },
   {
    "duration": 6,
    "start_time": "2021-08-19T11:01:34.258Z"
   },
   {
    "duration": 28,
    "start_time": "2021-08-19T11:01:40.151Z"
   },
   {
    "duration": 23,
    "start_time": "2021-08-19T11:01:49.362Z"
   },
   {
    "duration": 11,
    "start_time": "2021-08-19T11:08:53.349Z"
   },
   {
    "duration": 9,
    "start_time": "2021-08-19T11:09:32.685Z"
   },
   {
    "duration": 7,
    "start_time": "2021-08-19T11:11:13.133Z"
   },
   {
    "duration": 26,
    "start_time": "2021-08-19T11:11:24.383Z"
   },
   {
    "duration": 8,
    "start_time": "2021-08-19T11:11:39.853Z"
   },
   {
    "duration": 8,
    "start_time": "2021-08-19T11:11:41.421Z"
   },
   {
    "duration": 419,
    "start_time": "2021-08-19T11:12:37.436Z"
   },
   {
    "duration": 13,
    "start_time": "2021-08-19T11:12:47.037Z"
   },
   {
    "duration": 13,
    "start_time": "2021-08-19T11:12:59.627Z"
   },
   {
    "duration": 13,
    "start_time": "2021-08-19T11:13:23.572Z"
   },
   {
    "duration": 12,
    "start_time": "2021-08-19T11:13:26.572Z"
   },
   {
    "duration": 17,
    "start_time": "2021-08-19T11:13:43.420Z"
   },
   {
    "duration": 9,
    "start_time": "2021-08-19T11:13:45.835Z"
   },
   {
    "duration": 14,
    "start_time": "2021-08-19T11:14:02.171Z"
   },
   {
    "duration": 11,
    "start_time": "2021-08-19T11:14:03.733Z"
   },
   {
    "duration": 4,
    "start_time": "2021-08-19T11:15:46.515Z"
   },
   {
    "duration": 74,
    "start_time": "2021-08-19T11:15:53.051Z"
   },
   {
    "duration": 127,
    "start_time": "2021-08-19T11:17:57.738Z"
   },
   {
    "duration": 13,
    "start_time": "2021-08-19T11:18:01.530Z"
   },
   {
    "duration": 7,
    "start_time": "2021-08-19T11:18:05.431Z"
   },
   {
    "duration": 6,
    "start_time": "2021-08-19T11:18:18.026Z"
   },
   {
    "duration": 8,
    "start_time": "2021-08-19T11:18:35.930Z"
   },
   {
    "duration": 5,
    "start_time": "2021-08-19T11:18:38.747Z"
   },
   {
    "duration": 13,
    "start_time": "2021-08-19T11:18:42.481Z"
   },
   {
    "duration": 11,
    "start_time": "2021-08-19T11:19:34.898Z"
   },
   {
    "duration": 13,
    "start_time": "2021-08-19T11:19:42.860Z"
   },
   {
    "duration": 986,
    "start_time": "2021-08-19T11:20:08.415Z"
   },
   {
    "duration": 595,
    "start_time": "2021-08-19T11:23:18.481Z"
   },
   {
    "duration": 684,
    "start_time": "2021-08-19T11:24:16.833Z"
   },
   {
    "duration": 116,
    "start_time": "2021-08-19T11:26:15.583Z"
   },
   {
    "duration": 137,
    "start_time": "2021-08-19T11:26:24.055Z"
   },
   {
    "duration": 4,
    "start_time": "2021-08-19T11:26:50.600Z"
   },
   {
    "duration": 26,
    "start_time": "2021-08-19T11:26:54.479Z"
   },
   {
    "duration": 11666,
    "start_time": "2021-08-19T11:29:37.007Z"
   },
   {
    "duration": 771,
    "start_time": "2021-08-19T11:31:00.433Z"
   },
   {
    "duration": 565,
    "start_time": "2021-08-19T11:31:01.207Z"
   },
   {
    "duration": 44,
    "start_time": "2021-08-19T11:31:01.776Z"
   },
   {
    "duration": 79,
    "start_time": "2021-08-19T11:31:01.823Z"
   },
   {
    "duration": 301,
    "start_time": "2021-08-19T11:31:01.904Z"
   },
   {
    "duration": 188,
    "start_time": "2021-08-19T11:31:02.208Z"
   },
   {
    "duration": 161,
    "start_time": "2021-08-19T11:31:02.401Z"
   },
   {
    "duration": 91,
    "start_time": "2021-08-19T11:31:02.566Z"
   },
   {
    "duration": 62,
    "start_time": "2021-08-19T11:31:02.660Z"
   },
   {
    "duration": 48,
    "start_time": "2021-08-19T11:31:02.724Z"
   },
   {
    "duration": 110,
    "start_time": "2021-08-19T11:31:02.774Z"
   },
   {
    "duration": 23,
    "start_time": "2021-08-19T11:31:02.901Z"
   },
   {
    "duration": 26,
    "start_time": "2021-08-19T11:31:02.927Z"
   },
   {
    "duration": 55,
    "start_time": "2021-08-19T11:31:02.955Z"
   },
   {
    "duration": 11621,
    "start_time": "2021-08-19T11:31:03.013Z"
   },
   {
    "duration": -6981,
    "start_time": "2021-08-19T11:31:21.617Z"
   },
   {
    "duration": 35,
    "start_time": "2021-08-19T11:31:37.775Z"
   },
   {
    "duration": 8628,
    "start_time": "2021-08-19T11:31:56.577Z"
   },
   {
    "duration": 408,
    "start_time": "2021-08-19T11:32:32.560Z"
   },
   {
    "duration": 14,
    "start_time": "2021-08-19T11:32:42.856Z"
   },
   {
    "duration": 35,
    "start_time": "2021-08-19T11:33:05.400Z"
   },
   {
    "duration": 38,
    "start_time": "2021-08-19T11:33:20.503Z"
   },
   {
    "duration": 27,
    "start_time": "2021-08-19T11:33:35.753Z"
   },
   {
    "duration": 26,
    "start_time": "2021-08-19T11:33:45.889Z"
   },
   {
    "duration": 27,
    "start_time": "2021-08-19T11:33:51.440Z"
   },
   {
    "duration": 27,
    "start_time": "2021-08-19T11:34:11.106Z"
   },
   {
    "duration": 52,
    "start_time": "2021-08-19T11:35:17.319Z"
   },
   {
    "duration": 34,
    "start_time": "2021-08-19T11:35:58.486Z"
   },
   {
    "duration": 786,
    "start_time": "2021-08-19T11:37:36.276Z"
   },
   {
    "duration": 530,
    "start_time": "2021-08-19T11:37:37.065Z"
   },
   {
    "duration": 40,
    "start_time": "2021-08-19T11:37:37.599Z"
   },
   {
    "duration": 72,
    "start_time": "2021-08-19T11:37:37.642Z"
   },
   {
    "duration": 270,
    "start_time": "2021-08-19T11:37:37.717Z"
   },
   {
    "duration": 176,
    "start_time": "2021-08-19T11:37:37.990Z"
   },
   {
    "duration": 152,
    "start_time": "2021-08-19T11:37:38.168Z"
   },
   {
    "duration": 87,
    "start_time": "2021-08-19T11:37:38.323Z"
   },
   {
    "duration": 55,
    "start_time": "2021-08-19T11:37:38.414Z"
   },
   {
    "duration": 71,
    "start_time": "2021-08-19T11:37:38.472Z"
   },
   {
    "duration": 114,
    "start_time": "2021-08-19T11:37:38.546Z"
   },
   {
    "duration": 50,
    "start_time": "2021-08-19T11:37:38.663Z"
   },
   {
    "duration": 28,
    "start_time": "2021-08-19T11:37:38.716Z"
   },
   {
    "duration": 63,
    "start_time": "2021-08-19T11:37:38.746Z"
   },
   {
    "duration": 58,
    "start_time": "2021-08-19T11:37:38.812Z"
   },
   {
    "duration": 802,
    "start_time": "2021-08-19T11:41:26.465Z"
   },
   {
    "duration": 521,
    "start_time": "2021-08-19T11:41:27.269Z"
   },
   {
    "duration": 41,
    "start_time": "2021-08-19T11:41:27.794Z"
   },
   {
    "duration": 67,
    "start_time": "2021-08-19T11:41:27.838Z"
   },
   {
    "duration": 265,
    "start_time": "2021-08-19T11:41:27.907Z"
   },
   {
    "duration": 165,
    "start_time": "2021-08-19T11:41:28.174Z"
   },
   {
    "duration": 135,
    "start_time": "2021-08-19T11:41:28.341Z"
   },
   {
    "duration": 86,
    "start_time": "2021-08-19T11:41:28.480Z"
   },
   {
    "duration": 64,
    "start_time": "2021-08-19T11:41:28.568Z"
   },
   {
    "duration": 45,
    "start_time": "2021-08-19T11:41:28.635Z"
   },
   {
    "duration": 102,
    "start_time": "2021-08-19T11:41:28.683Z"
   },
   {
    "duration": 42,
    "start_time": "2021-08-19T11:41:28.788Z"
   },
   {
    "duration": 38,
    "start_time": "2021-08-19T11:41:28.833Z"
   },
   {
    "duration": 55,
    "start_time": "2021-08-19T11:41:28.873Z"
   },
   {
    "duration": 27,
    "start_time": "2021-08-19T11:41:28.931Z"
   },
   {
    "duration": 49,
    "start_time": "2021-08-19T11:41:28.960Z"
   },
   {
    "duration": 33,
    "start_time": "2021-08-19T11:41:29.012Z"
   },
   {
    "duration": 78,
    "start_time": "2021-08-19T11:41:29.047Z"
   },
   {
    "duration": 36,
    "start_time": "2021-08-19T11:42:14.786Z"
   },
   {
    "duration": 527,
    "start_time": "2021-08-19T11:45:20.680Z"
   },
   {
    "duration": 744,
    "start_time": "2021-08-19T11:45:32.651Z"
   },
   {
    "duration": 541,
    "start_time": "2021-08-19T11:45:33.398Z"
   },
   {
    "duration": 39,
    "start_time": "2021-08-19T11:45:33.942Z"
   },
   {
    "duration": 48,
    "start_time": "2021-08-19T11:45:33.984Z"
   },
   {
    "duration": 249,
    "start_time": "2021-08-19T11:45:34.034Z"
   },
   {
    "duration": 186,
    "start_time": "2021-08-19T11:45:34.286Z"
   },
   {
    "duration": 247,
    "start_time": "2021-08-19T11:45:34.476Z"
   },
   {
    "duration": 128,
    "start_time": "2021-08-19T11:45:34.728Z"
   },
   {
    "duration": 61,
    "start_time": "2021-08-19T11:45:34.860Z"
   },
   {
    "duration": 47,
    "start_time": "2021-08-19T11:45:34.924Z"
   },
   {
    "duration": 107,
    "start_time": "2021-08-19T11:45:34.974Z"
   },
   {
    "duration": 4,
    "start_time": "2021-08-19T11:45:35.083Z"
   },
   {
    "duration": 51,
    "start_time": "2021-08-19T11:45:35.101Z"
   },
   {
    "duration": 5,
    "start_time": "2021-08-19T11:45:35.154Z"
   },
   {
    "duration": 45,
    "start_time": "2021-08-19T11:45:35.162Z"
   },
   {
    "duration": 40,
    "start_time": "2021-08-19T11:45:35.210Z"
   },
   {
    "duration": 759,
    "start_time": "2021-08-19T11:46:23.544Z"
   },
   {
    "duration": 538,
    "start_time": "2021-08-19T11:46:24.305Z"
   },
   {
    "duration": 39,
    "start_time": "2021-08-19T11:46:24.846Z"
   },
   {
    "duration": 74,
    "start_time": "2021-08-19T11:46:24.888Z"
   },
   {
    "duration": 255,
    "start_time": "2021-08-19T11:46:24.964Z"
   },
   {
    "duration": 164,
    "start_time": "2021-08-19T11:46:25.221Z"
   },
   {
    "duration": 144,
    "start_time": "2021-08-19T11:46:25.387Z"
   },
   {
    "duration": 82,
    "start_time": "2021-08-19T11:46:25.535Z"
   },
   {
    "duration": 52,
    "start_time": "2021-08-19T11:46:25.620Z"
   },
   {
    "duration": 67,
    "start_time": "2021-08-19T11:46:25.674Z"
   },
   {
    "duration": 103,
    "start_time": "2021-08-19T11:46:25.743Z"
   },
   {
    "duration": 3,
    "start_time": "2021-08-19T11:46:25.848Z"
   },
   {
    "duration": 58,
    "start_time": "2021-08-19T11:46:25.853Z"
   },
   {
    "duration": 5,
    "start_time": "2021-08-19T11:46:25.913Z"
   },
   {
    "duration": 28,
    "start_time": "2021-08-19T11:46:25.920Z"
   },
   {
    "duration": 56,
    "start_time": "2021-08-19T11:46:25.951Z"
   },
   {
    "duration": 776,
    "start_time": "2021-08-19T11:47:20.585Z"
   },
   {
    "duration": 534,
    "start_time": "2021-08-19T11:47:21.364Z"
   },
   {
    "duration": 41,
    "start_time": "2021-08-19T11:47:21.902Z"
   },
   {
    "duration": 80,
    "start_time": "2021-08-19T11:47:21.946Z"
   },
   {
    "duration": 271,
    "start_time": "2021-08-19T11:47:22.029Z"
   },
   {
    "duration": 173,
    "start_time": "2021-08-19T11:47:22.303Z"
   },
   {
    "duration": 157,
    "start_time": "2021-08-19T11:47:22.479Z"
   },
   {
    "duration": 93,
    "start_time": "2021-08-19T11:47:22.640Z"
   },
   {
    "duration": 66,
    "start_time": "2021-08-19T11:47:22.736Z"
   },
   {
    "duration": 48,
    "start_time": "2021-08-19T11:47:22.805Z"
   },
   {
    "duration": 105,
    "start_time": "2021-08-19T11:47:22.856Z"
   },
   {
    "duration": 3,
    "start_time": "2021-08-19T11:47:22.964Z"
   },
   {
    "duration": 59,
    "start_time": "2021-08-19T11:47:22.970Z"
   },
   {
    "duration": 4,
    "start_time": "2021-08-19T11:47:23.032Z"
   },
   {
    "duration": 24,
    "start_time": "2021-08-19T11:47:23.039Z"
   },
   {
    "duration": 60,
    "start_time": "2021-08-19T11:47:23.066Z"
   },
   {
    "duration": 765,
    "start_time": "2021-08-19T11:50:05.837Z"
   },
   {
    "duration": 540,
    "start_time": "2021-08-19T11:50:06.605Z"
   },
   {
    "duration": 43,
    "start_time": "2021-08-19T11:50:07.149Z"
   },
   {
    "duration": 57,
    "start_time": "2021-08-19T11:50:07.196Z"
   },
   {
    "duration": 263,
    "start_time": "2021-08-19T11:50:07.255Z"
   },
   {
    "duration": 167,
    "start_time": "2021-08-19T11:50:07.520Z"
   },
   {
    "duration": 145,
    "start_time": "2021-08-19T11:50:07.689Z"
   },
   {
    "duration": 90,
    "start_time": "2021-08-19T11:50:07.836Z"
   },
   {
    "duration": 70,
    "start_time": "2021-08-19T11:50:07.930Z"
   },
   {
    "duration": 52,
    "start_time": "2021-08-19T11:50:08.003Z"
   },
   {
    "duration": 116,
    "start_time": "2021-08-19T11:50:08.058Z"
   },
   {
    "duration": 3,
    "start_time": "2021-08-19T11:50:08.176Z"
   },
   {
    "duration": 52,
    "start_time": "2021-08-19T11:50:08.182Z"
   },
   {
    "duration": 7,
    "start_time": "2021-08-19T11:50:08.236Z"
   },
   {
    "duration": 47,
    "start_time": "2021-08-19T11:50:08.246Z"
   },
   {
    "duration": 43,
    "start_time": "2021-08-19T11:50:08.295Z"
   },
   {
    "duration": 31,
    "start_time": "2021-08-19T11:58:03.739Z"
   },
   {
    "duration": 31,
    "start_time": "2021-08-19T11:58:10.910Z"
   },
   {
    "duration": 22,
    "start_time": "2021-08-19T11:58:58.998Z"
   },
   {
    "duration": 32,
    "start_time": "2021-08-19T11:59:18.853Z"
   },
   {
    "duration": 30,
    "start_time": "2021-08-19T11:59:28.439Z"
   },
   {
    "duration": 13,
    "start_time": "2021-08-19T12:10:00.738Z"
   },
   {
    "duration": 36,
    "start_time": "2021-08-19T12:10:13.826Z"
   },
   {
    "duration": 34,
    "start_time": "2021-08-19T12:10:22.153Z"
   },
   {
    "duration": 36,
    "start_time": "2021-08-19T12:12:02.584Z"
   },
   {
    "duration": 441,
    "start_time": "2021-08-19T12:15:42.537Z"
   },
   {
    "duration": 527,
    "start_time": "2021-08-19T12:16:08.744Z"
   },
   {
    "duration": 12,
    "start_time": "2021-08-19T12:18:36.881Z"
   },
   {
    "duration": 570,
    "start_time": "2021-08-19T12:18:56.087Z"
   },
   {
    "duration": 579,
    "start_time": "2021-08-19T12:19:43.630Z"
   },
   {
    "duration": 617,
    "start_time": "2021-08-19T12:19:50.704Z"
   },
   {
    "duration": 621,
    "start_time": "2021-08-19T12:24:21.076Z"
   },
   {
    "duration": 645,
    "start_time": "2021-08-19T12:24:32.460Z"
   },
   {
    "duration": 603,
    "start_time": "2021-08-19T12:25:11.519Z"
   },
   {
    "duration": 609,
    "start_time": "2021-08-19T12:25:25.932Z"
   },
   {
    "duration": 581,
    "start_time": "2021-08-19T12:31:11.625Z"
   },
   {
    "duration": 570,
    "start_time": "2021-08-19T12:31:20.970Z"
   },
   {
    "duration": 818,
    "start_time": "2021-08-19T12:36:29.820Z"
   },
   {
    "duration": 565,
    "start_time": "2021-08-19T12:36:30.641Z"
   },
   {
    "duration": 44,
    "start_time": "2021-08-19T12:36:31.208Z"
   },
   {
    "duration": 89,
    "start_time": "2021-08-19T12:36:31.255Z"
   },
   {
    "duration": 302,
    "start_time": "2021-08-19T12:36:31.346Z"
   },
   {
    "duration": 184,
    "start_time": "2021-08-19T12:36:31.651Z"
   },
   {
    "duration": 152,
    "start_time": "2021-08-19T12:36:31.838Z"
   },
   {
    "duration": 77,
    "start_time": "2021-08-19T12:36:32.001Z"
   },
   {
    "duration": 75,
    "start_time": "2021-08-19T12:36:32.081Z"
   },
   {
    "duration": 75,
    "start_time": "2021-08-19T12:36:32.158Z"
   },
   {
    "duration": 105,
    "start_time": "2021-08-19T12:36:32.236Z"
   },
   {
    "duration": 3,
    "start_time": "2021-08-19T12:36:32.344Z"
   },
   {
    "duration": 63,
    "start_time": "2021-08-19T12:36:32.350Z"
   },
   {
    "duration": 6,
    "start_time": "2021-08-19T12:36:32.416Z"
   },
   {
    "duration": 55,
    "start_time": "2021-08-19T12:36:32.425Z"
   },
   {
    "duration": 13,
    "start_time": "2021-08-19T12:36:32.482Z"
   },
   {
    "duration": 742,
    "start_time": "2021-08-19T12:36:32.497Z"
   },
   {
    "duration": 607,
    "start_time": "2021-08-19T12:36:33.241Z"
   },
   {
    "duration": 36,
    "start_time": "2021-08-19T13:11:21.096Z"
   },
   {
    "duration": 5,
    "start_time": "2021-08-19T13:12:09.872Z"
   },
   {
    "duration": 33,
    "start_time": "2021-08-19T13:12:34.506Z"
   },
   {
    "duration": 35,
    "start_time": "2021-08-19T13:12:44.612Z"
   },
   {
    "duration": 41,
    "start_time": "2021-08-19T13:13:32.056Z"
   },
   {
    "duration": 4,
    "start_time": "2021-08-19T13:14:38.744Z"
   },
   {
    "duration": 39,
    "start_time": "2021-08-19T13:14:40.777Z"
   },
   {
    "duration": 56,
    "start_time": "2021-08-19T13:14:41.503Z"
   },
   {
    "duration": 48,
    "start_time": "2021-08-19T13:18:04.607Z"
   },
   {
    "duration": 25,
    "start_time": "2021-08-19T13:18:07.671Z"
   },
   {
    "duration": 6,
    "start_time": "2021-08-19T13:18:14.447Z"
   },
   {
    "duration": 488,
    "start_time": "2021-08-19T13:18:39.823Z"
   },
   {
    "duration": 500,
    "start_time": "2021-08-19T13:18:47.259Z"
   },
   {
    "duration": 378,
    "start_time": "2021-08-19T13:18:59.255Z"
   },
   {
    "duration": 6,
    "start_time": "2021-08-19T13:19:21.950Z"
   },
   {
    "duration": 22,
    "start_time": "2021-08-19T13:19:57.446Z"
   },
   {
    "duration": 18,
    "start_time": "2021-08-19T13:20:13.159Z"
   },
   {
    "duration": 21,
    "start_time": "2021-08-19T13:20:57.846Z"
   },
   {
    "duration": 42,
    "start_time": "2021-08-19T13:21:37.054Z"
   },
   {
    "duration": 42,
    "start_time": "2021-08-19T13:21:49.381Z"
   },
   {
    "duration": 34,
    "start_time": "2021-08-19T13:25:24.845Z"
   },
   {
    "duration": 25,
    "start_time": "2021-08-19T13:27:39.532Z"
   },
   {
    "duration": 16,
    "start_time": "2021-08-19T13:27:42.763Z"
   },
   {
    "duration": 371,
    "start_time": "2021-08-19T13:28:21.558Z"
   },
   {
    "duration": 389,
    "start_time": "2021-08-19T13:28:32.994Z"
   },
   {
    "duration": 383,
    "start_time": "2021-08-19T13:28:47.867Z"
   },
   {
    "duration": 4,
    "start_time": "2021-08-19T13:28:57.779Z"
   },
   {
    "duration": 2189,
    "start_time": "2021-08-19T13:29:01.651Z"
   },
   {
    "duration": 4,
    "start_time": "2021-08-19T13:29:29.202Z"
   },
   {
    "duration": 19,
    "start_time": "2021-08-19T13:29:32.365Z"
   },
   {
    "duration": 382,
    "start_time": "2021-08-19T13:30:07.651Z"
   },
   {
    "duration": 377,
    "start_time": "2021-08-19T13:30:35.899Z"
   },
   {
    "duration": 376,
    "start_time": "2021-08-19T13:30:54.562Z"
   },
   {
    "duration": 349,
    "start_time": "2021-08-19T13:31:51.770Z"
   },
   {
    "duration": 363,
    "start_time": "2021-08-19T13:32:09.593Z"
   },
   {
    "duration": 602,
    "start_time": "2021-08-19T13:42:38.706Z"
   },
   {
    "duration": 872,
    "start_time": "2021-08-19T13:42:43.630Z"
   },
   {
    "duration": 714,
    "start_time": "2021-08-19T13:44:07.820Z"
   },
   {
    "duration": 4,
    "start_time": "2021-08-19T13:45:04.932Z"
   },
   {
    "duration": 505,
    "start_time": "2021-08-19T13:47:51.116Z"
   },
   {
    "duration": 593,
    "start_time": "2021-08-19T13:48:03.180Z"
   },
   {
    "duration": 593,
    "start_time": "2021-08-19T13:48:31.610Z"
   },
   {
    "duration": 550,
    "start_time": "2021-08-19T13:49:52.538Z"
   },
   {
    "duration": 146,
    "start_time": "2021-08-19T13:50:31.162Z"
   },
   {
    "duration": 366,
    "start_time": "2021-08-19T13:50:46.666Z"
   },
   {
    "duration": 547,
    "start_time": "2021-08-19T13:50:54.987Z"
   },
   {
    "duration": 577,
    "start_time": "2021-08-19T13:51:39.826Z"
   },
   {
    "duration": 528,
    "start_time": "2021-08-19T13:52:36.538Z"
   },
   {
    "duration": 601,
    "start_time": "2021-08-19T13:53:40.226Z"
   },
   {
    "duration": 595,
    "start_time": "2021-08-19T13:54:25.858Z"
   },
   {
    "duration": 4,
    "start_time": "2021-08-19T13:55:34.880Z"
   },
   {
    "duration": 37,
    "start_time": "2021-08-19T13:55:35.696Z"
   },
   {
    "duration": 37,
    "start_time": "2021-08-19T13:55:37.080Z"
   },
   {
    "duration": 1495,
    "start_time": "2021-08-19T13:57:04.776Z"
   },
   {
    "duration": 530,
    "start_time": "2021-08-19T13:57:06.274Z"
   },
   {
    "duration": 32,
    "start_time": "2021-08-19T13:57:06.807Z"
   },
   {
    "duration": 77,
    "start_time": "2021-08-19T13:57:06.843Z"
   },
   {
    "duration": 256,
    "start_time": "2021-08-19T13:57:06.922Z"
   },
   {
    "duration": 175,
    "start_time": "2021-08-19T13:57:07.180Z"
   },
   {
    "duration": 146,
    "start_time": "2021-08-19T13:57:07.357Z"
   },
   {
    "duration": 70,
    "start_time": "2021-08-19T13:57:07.507Z"
   },
   {
    "duration": 67,
    "start_time": "2021-08-19T13:57:07.580Z"
   },
   {
    "duration": 65,
    "start_time": "2021-08-19T13:57:07.649Z"
   },
   {
    "duration": 103,
    "start_time": "2021-08-19T13:57:07.717Z"
   },
   {
    "duration": 4,
    "start_time": "2021-08-19T13:57:07.823Z"
   },
   {
    "duration": 39,
    "start_time": "2021-08-19T13:57:07.830Z"
   },
   {
    "duration": 30,
    "start_time": "2021-08-19T13:57:07.872Z"
   },
   {
    "duration": 25,
    "start_time": "2021-08-19T13:57:07.905Z"
   },
   {
    "duration": 14,
    "start_time": "2021-08-19T13:57:07.932Z"
   },
   {
    "duration": 131,
    "start_time": "2021-08-19T13:57:07.949Z"
   },
   {
    "duration": -6937,
    "start_time": "2021-08-19T13:57:15.020Z"
   },
   {
    "duration": -6938,
    "start_time": "2021-08-19T13:57:15.022Z"
   },
   {
    "duration": -6938,
    "start_time": "2021-08-19T13:57:15.024Z"
   },
   {
    "duration": -6937,
    "start_time": "2021-08-19T13:57:15.025Z"
   },
   {
    "duration": -6938,
    "start_time": "2021-08-19T13:57:15.027Z"
   },
   {
    "duration": 1478,
    "start_time": "2021-08-19T13:57:30.028Z"
   },
   {
    "duration": 565,
    "start_time": "2021-08-19T13:57:31.509Z"
   },
   {
    "duration": 36,
    "start_time": "2021-08-19T13:57:32.077Z"
   },
   {
    "duration": 83,
    "start_time": "2021-08-19T13:57:32.117Z"
   },
   {
    "duration": 273,
    "start_time": "2021-08-19T13:57:32.203Z"
   },
   {
    "duration": 177,
    "start_time": "2021-08-19T13:57:32.478Z"
   },
   {
    "duration": 151,
    "start_time": "2021-08-19T13:57:32.657Z"
   },
   {
    "duration": 95,
    "start_time": "2021-08-19T13:57:32.811Z"
   },
   {
    "duration": 56,
    "start_time": "2021-08-19T13:57:32.910Z"
   },
   {
    "duration": 74,
    "start_time": "2021-08-19T13:57:32.969Z"
   },
   {
    "duration": 106,
    "start_time": "2021-08-19T13:57:33.045Z"
   },
   {
    "duration": 4,
    "start_time": "2021-08-19T13:57:33.154Z"
   },
   {
    "duration": 65,
    "start_time": "2021-08-19T13:57:33.160Z"
   },
   {
    "duration": 5,
    "start_time": "2021-08-19T13:57:33.227Z"
   },
   {
    "duration": 29,
    "start_time": "2021-08-19T13:57:33.234Z"
   },
   {
    "duration": 32,
    "start_time": "2021-08-19T13:57:33.265Z"
   },
   {
    "duration": 11,
    "start_time": "2021-08-19T13:57:33.302Z"
   },
   {
    "duration": 49,
    "start_time": "2021-08-19T13:57:33.316Z"
   },
   {
    "duration": 43,
    "start_time": "2021-08-19T13:57:33.368Z"
   },
   {
    "duration": 449,
    "start_time": "2021-08-19T13:57:33.414Z"
   },
   {
    "duration": 522,
    "start_time": "2021-08-19T13:57:33.865Z"
   },
   {
    "duration": 428,
    "start_time": "2021-08-19T13:57:34.390Z"
   },
   {
    "duration": 426,
    "start_time": "2021-08-19T13:58:46.149Z"
   },
   {
    "duration": 408,
    "start_time": "2021-08-19T13:59:04.124Z"
   },
   {
    "duration": 351,
    "start_time": "2021-08-19T13:59:15.509Z"
   },
   {
    "duration": 605,
    "start_time": "2021-08-19T14:00:34.236Z"
   },
   {
    "duration": 462,
    "start_time": "2021-08-19T14:00:45.796Z"
   },
   {
    "duration": 449,
    "start_time": "2021-08-19T14:00:50.939Z"
   },
   {
    "duration": 385,
    "start_time": "2021-08-19T14:00:56.707Z"
   },
   {
    "duration": 539,
    "start_time": "2021-08-19T14:01:06.371Z"
   },
   {
    "duration": 529,
    "start_time": "2021-08-19T14:01:19.493Z"
   },
   {
    "duration": 15,
    "start_time": "2021-08-19T14:07:28.202Z"
   },
   {
    "duration": 16,
    "start_time": "2021-08-19T14:07:38.731Z"
   },
   {
    "duration": 3,
    "start_time": "2021-08-19T14:07:41.842Z"
   },
   {
    "duration": 36,
    "start_time": "2021-08-19T14:07:43.592Z"
   },
   {
    "duration": 34,
    "start_time": "2021-08-19T14:07:53.306Z"
   },
   {
    "duration": 417,
    "start_time": "2021-08-19T14:07:56.889Z"
   },
   {
    "duration": 522,
    "start_time": "2021-08-19T14:07:59.625Z"
   },
   {
    "duration": 313,
    "start_time": "2021-08-19T14:08:02.545Z"
   },
   {
    "duration": 442,
    "start_time": "2021-08-19T14:08:21.593Z"
   },
   {
    "duration": 1591,
    "start_time": "2021-08-19T14:08:51.761Z"
   },
   {
    "duration": 16,
    "start_time": "2021-08-19T14:09:05.528Z"
   },
   {
    "duration": 3,
    "start_time": "2021-08-19T14:09:06.963Z"
   },
   {
    "duration": 34,
    "start_time": "2021-08-19T14:09:07.872Z"
   },
   {
    "duration": 34,
    "start_time": "2021-08-19T14:09:13.025Z"
   },
   {
    "duration": 406,
    "start_time": "2021-08-19T14:09:17.201Z"
   },
   {
    "duration": 286,
    "start_time": "2021-08-19T14:09:19.217Z"
   },
   {
    "duration": 291,
    "start_time": "2021-08-19T14:09:20.265Z"
   },
   {
    "duration": 15,
    "start_time": "2021-08-19T14:09:53.714Z"
   },
   {
    "duration": 4,
    "start_time": "2021-08-19T14:09:54.168Z"
   },
   {
    "duration": 34,
    "start_time": "2021-08-19T14:09:54.521Z"
   },
   {
    "duration": 35,
    "start_time": "2021-08-19T14:09:54.872Z"
   },
   {
    "duration": 374,
    "start_time": "2021-08-19T14:09:55.464Z"
   },
   {
    "duration": 354,
    "start_time": "2021-08-19T14:09:58.793Z"
   },
   {
    "duration": 343,
    "start_time": "2021-08-19T14:10:01.857Z"
   },
   {
    "duration": 379,
    "start_time": "2021-08-19T14:12:51.153Z"
   },
   {
    "duration": 347,
    "start_time": "2021-08-19T14:12:59.295Z"
   },
   {
    "duration": 247,
    "start_time": "2021-08-19T14:13:40.087Z"
   },
   {
    "duration": 364,
    "start_time": "2021-08-19T14:14:04.128Z"
   },
   {
    "duration": 357,
    "start_time": "2021-08-19T14:14:21.400Z"
   },
   {
    "duration": 743,
    "start_time": "2021-08-19T14:14:34.431Z"
   },
   {
    "duration": 388,
    "start_time": "2021-08-19T14:14:58.103Z"
   },
   {
    "duration": 487,
    "start_time": "2021-08-19T14:15:04.407Z"
   },
   {
    "duration": 519,
    "start_time": "2021-08-19T14:15:18.631Z"
   },
   {
    "duration": 378,
    "start_time": "2021-08-19T14:15:27.622Z"
   },
   {
    "duration": 342,
    "start_time": "2021-08-19T14:15:47.016Z"
   },
   {
    "duration": 1932,
    "start_time": "2021-08-19T14:17:14.274Z"
   },
   {
    "duration": 554,
    "start_time": "2021-08-19T14:17:16.210Z"
   },
   {
    "duration": 35,
    "start_time": "2021-08-19T14:17:16.767Z"
   },
   {
    "duration": 60,
    "start_time": "2021-08-19T14:17:16.806Z"
   },
   {
    "duration": 282,
    "start_time": "2021-08-19T14:17:16.869Z"
   },
   {
    "duration": 163,
    "start_time": "2021-08-19T14:17:17.154Z"
   },
   {
    "duration": 148,
    "start_time": "2021-08-19T14:17:17.319Z"
   },
   {
    "duration": 79,
    "start_time": "2021-08-19T14:17:17.470Z"
   },
   {
    "duration": 53,
    "start_time": "2021-08-19T14:17:17.554Z"
   },
   {
    "duration": 44,
    "start_time": "2021-08-19T14:17:17.610Z"
   },
   {
    "duration": 108,
    "start_time": "2021-08-19T14:17:17.657Z"
   },
   {
    "duration": 3,
    "start_time": "2021-08-19T14:17:17.768Z"
   },
   {
    "duration": 54,
    "start_time": "2021-08-19T14:17:17.774Z"
   },
   {
    "duration": 5,
    "start_time": "2021-08-19T14:17:17.830Z"
   },
   {
    "duration": 24,
    "start_time": "2021-08-19T14:17:17.838Z"
   },
   {
    "duration": 40,
    "start_time": "2021-08-19T14:17:17.864Z"
   },
   {
    "duration": 5,
    "start_time": "2021-08-19T14:17:17.906Z"
   },
   {
    "duration": 40,
    "start_time": "2021-08-19T14:17:17.913Z"
   },
   {
    "duration": 54,
    "start_time": "2021-08-19T14:17:17.955Z"
   },
   {
    "duration": 405,
    "start_time": "2021-08-19T14:17:18.011Z"
   },
   {
    "duration": 721,
    "start_time": "2021-08-19T14:17:18.418Z"
   },
   {
    "duration": 425,
    "start_time": "2021-08-19T14:17:19.141Z"
   },
   {
    "duration": 514,
    "start_time": "2021-08-19T14:19:37.222Z"
   },
   {
    "duration": 517,
    "start_time": "2021-08-19T14:19:46.901Z"
   },
   {
    "duration": 557,
    "start_time": "2021-08-19T14:19:57.860Z"
   },
   {
    "duration": 325,
    "start_time": "2021-08-19T14:20:08.931Z"
   },
   {
    "duration": 391,
    "start_time": "2021-08-19T14:20:14.852Z"
   },
   {
    "duration": 358,
    "start_time": "2021-08-19T14:20:36.651Z"
   },
   {
    "duration": 33,
    "start_time": "2021-08-19T14:27:19.240Z"
   },
   {
    "duration": 34,
    "start_time": "2021-08-19T14:27:26.232Z"
   },
   {
    "duration": 34,
    "start_time": "2021-08-19T14:27:43.218Z"
   },
   {
    "duration": 14,
    "start_time": "2021-08-19T14:28:35.897Z"
   },
   {
    "duration": 7,
    "start_time": "2021-08-19T14:28:36.920Z"
   },
   {
    "duration": 34,
    "start_time": "2021-08-19T14:28:37.472Z"
   },
   {
    "duration": 35,
    "start_time": "2021-08-19T14:28:38.592Z"
   },
   {
    "duration": 383,
    "start_time": "2021-08-19T14:28:41.560Z"
   },
   {
    "duration": 513,
    "start_time": "2021-08-19T14:28:48.229Z"
   },
   {
    "duration": 352,
    "start_time": "2021-08-19T14:28:50.801Z"
   },
   {
    "duration": 1498,
    "start_time": "2021-08-19T14:29:18.984Z"
   },
   {
    "duration": 583,
    "start_time": "2021-08-19T14:29:20.485Z"
   },
   {
    "duration": 35,
    "start_time": "2021-08-19T14:29:21.070Z"
   },
   {
    "duration": 63,
    "start_time": "2021-08-19T14:29:21.108Z"
   },
   {
    "duration": 283,
    "start_time": "2021-08-19T14:29:21.173Z"
   },
   {
    "duration": 170,
    "start_time": "2021-08-19T14:29:21.458Z"
   },
   {
    "duration": 146,
    "start_time": "2021-08-19T14:29:21.631Z"
   },
   {
    "duration": 93,
    "start_time": "2021-08-19T14:29:21.782Z"
   },
   {
    "duration": 65,
    "start_time": "2021-08-19T14:29:21.879Z"
   },
   {
    "duration": 70,
    "start_time": "2021-08-19T14:29:21.947Z"
   },
   {
    "duration": 108,
    "start_time": "2021-08-19T14:29:22.020Z"
   },
   {
    "duration": 4,
    "start_time": "2021-08-19T14:29:22.130Z"
   },
   {
    "duration": 42,
    "start_time": "2021-08-19T14:29:22.137Z"
   },
   {
    "duration": 22,
    "start_time": "2021-08-19T14:29:22.182Z"
   },
   {
    "duration": 24,
    "start_time": "2021-08-19T14:29:22.206Z"
   },
   {
    "duration": 15,
    "start_time": "2021-08-19T14:29:22.232Z"
   },
   {
    "duration": 3,
    "start_time": "2021-08-19T14:29:22.249Z"
   },
   {
    "duration": 69,
    "start_time": "2021-08-19T14:29:22.254Z"
   },
   {
    "duration": 34,
    "start_time": "2021-08-19T14:29:22.325Z"
   },
   {
    "duration": 390,
    "start_time": "2021-08-19T14:29:22.362Z"
   },
   {
    "duration": 388,
    "start_time": "2021-08-19T14:29:22.755Z"
   },
   {
    "duration": 405,
    "start_time": "2021-08-19T14:29:23.146Z"
   },
   {
    "duration": 338,
    "start_time": "2021-08-19T14:51:43.732Z"
   },
   {
    "duration": 343,
    "start_time": "2021-08-19T14:51:56.771Z"
   },
   {
    "duration": 348,
    "start_time": "2021-08-19T14:52:12.539Z"
   },
   {
    "duration": 348,
    "start_time": "2021-08-19T14:52:31.940Z"
   },
   {
    "duration": 352,
    "start_time": "2021-08-19T14:53:04.187Z"
   },
   {
    "duration": 367,
    "start_time": "2021-08-19T14:53:23.682Z"
   },
   {
    "duration": 606,
    "start_time": "2021-08-19T14:54:22.810Z"
   },
   {
    "duration": 372,
    "start_time": "2021-08-19T14:58:00.137Z"
   },
   {
    "duration": 825,
    "start_time": "2021-08-19T15:00:10.896Z"
   },
   {
    "duration": 370,
    "start_time": "2021-08-19T15:02:40.872Z"
   },
   {
    "duration": 535,
    "start_time": "2021-08-19T15:02:54.550Z"
   },
   {
    "duration": 405,
    "start_time": "2021-08-19T15:03:06.255Z"
   },
   {
    "duration": 361,
    "start_time": "2021-08-19T15:03:12.839Z"
   },
   {
    "duration": 402,
    "start_time": "2021-08-19T15:03:52.270Z"
   },
   {
    "duration": 408,
    "start_time": "2021-08-19T15:04:02.798Z"
   },
   {
    "duration": 416,
    "start_time": "2021-08-19T15:04:56.213Z"
   },
   {
    "duration": 381,
    "start_time": "2021-08-19T15:05:56.453Z"
   },
   {
    "duration": 405,
    "start_time": "2021-08-19T15:06:21.221Z"
   },
   {
    "duration": 375,
    "start_time": "2021-08-19T15:06:32.797Z"
   },
   {
    "duration": 416,
    "start_time": "2021-08-19T15:09:18.276Z"
   },
   {
    "duration": 655,
    "start_time": "2021-08-19T15:10:58.835Z"
   },
   {
    "duration": 468,
    "start_time": "2021-08-19T15:11:15.427Z"
   },
   {
    "duration": 578,
    "start_time": "2021-08-19T15:11:28.683Z"
   },
   {
    "duration": 414,
    "start_time": "2021-08-19T15:11:36.364Z"
   },
   {
    "duration": 490,
    "start_time": "2021-08-19T15:11:48.267Z"
   },
   {
    "duration": 441,
    "start_time": "2021-08-19T15:11:55.516Z"
   },
   {
    "duration": 445,
    "start_time": "2021-08-19T15:12:01.228Z"
   },
   {
    "duration": 524,
    "start_time": "2021-08-19T15:13:44.307Z"
   },
   {
    "duration": 512,
    "start_time": "2021-08-19T15:14:22.698Z"
   },
   {
    "duration": 803,
    "start_time": "2021-08-19T15:14:36.170Z"
   },
   {
    "duration": 475,
    "start_time": "2021-08-19T15:16:49.433Z"
   },
   {
    "duration": 483,
    "start_time": "2021-08-19T15:16:59.378Z"
   },
   {
    "duration": 531,
    "start_time": "2021-08-19T15:17:09.618Z"
   },
   {
    "duration": 526,
    "start_time": "2021-08-19T15:18:08.216Z"
   },
   {
    "duration": 476,
    "start_time": "2021-08-19T15:18:16.848Z"
   },
   {
    "duration": 523,
    "start_time": "2021-08-19T15:18:50.378Z"
   },
   {
    "duration": 504,
    "start_time": "2021-08-19T15:20:26.904Z"
   },
   {
    "duration": 490,
    "start_time": "2021-08-19T15:20:30.192Z"
   },
   {
    "duration": 528,
    "start_time": "2021-08-19T15:21:18.257Z"
   },
   {
    "duration": 541,
    "start_time": "2021-08-19T15:21:53.840Z"
   },
   {
    "duration": 542,
    "start_time": "2021-08-19T15:22:23.295Z"
   },
   {
    "duration": 533,
    "start_time": "2021-08-19T15:22:34.271Z"
   },
   {
    "duration": 677,
    "start_time": "2021-08-19T15:23:39.319Z"
   },
   {
    "duration": 504,
    "start_time": "2021-08-19T15:23:53.792Z"
   },
   {
    "duration": 549,
    "start_time": "2021-08-19T15:24:41.351Z"
   },
   {
    "duration": 510,
    "start_time": "2021-08-19T15:24:56.222Z"
   },
   {
    "duration": 507,
    "start_time": "2021-08-19T15:25:49.053Z"
   },
   {
    "duration": 562,
    "start_time": "2021-08-19T15:26:24.102Z"
   },
   {
    "duration": 554,
    "start_time": "2021-08-19T15:26:31.703Z"
   },
   {
    "duration": 510,
    "start_time": "2021-08-19T15:26:39.055Z"
   },
   {
    "duration": 515,
    "start_time": "2021-08-19T15:26:46.558Z"
   },
   {
    "duration": 530,
    "start_time": "2021-08-19T15:26:51.974Z"
   },
   {
    "duration": 755,
    "start_time": "2021-08-19T15:27:55.325Z"
   },
   {
    "duration": 947,
    "start_time": "2021-08-19T15:28:22.893Z"
   },
   {
    "duration": 804,
    "start_time": "2021-08-19T15:28:33.540Z"
   },
   {
    "duration": 799,
    "start_time": "2021-08-19T15:28:53.229Z"
   },
   {
    "duration": 734,
    "start_time": "2021-08-19T15:28:57.726Z"
   },
   {
    "duration": 742,
    "start_time": "2021-08-19T15:29:06.613Z"
   },
   {
    "duration": 741,
    "start_time": "2021-08-19T15:29:20.685Z"
   },
   {
    "duration": 974,
    "start_time": "2021-08-19T15:29:40.492Z"
   },
   {
    "duration": 1237,
    "start_time": "2021-08-19T15:29:54.341Z"
   },
   {
    "duration": 1441,
    "start_time": "2021-08-19T15:30:09.133Z"
   },
   {
    "duration": 619,
    "start_time": "2021-08-19T15:30:20.734Z"
   },
   {
    "duration": 829,
    "start_time": "2021-08-19T15:30:29.348Z"
   },
   {
    "duration": 955,
    "start_time": "2021-08-19T15:30:59.540Z"
   },
   {
    "duration": 547,
    "start_time": "2021-08-19T15:31:11.500Z"
   },
   {
    "duration": 604,
    "start_time": "2021-08-19T15:31:18.079Z"
   },
   {
    "duration": 883,
    "start_time": "2021-08-19T15:31:31.803Z"
   },
   {
    "duration": 716,
    "start_time": "2021-08-19T15:31:45.005Z"
   },
   {
    "duration": 675,
    "start_time": "2021-08-19T15:31:51.988Z"
   },
   {
    "duration": 629,
    "start_time": "2021-08-19T15:32:05.092Z"
   },
   {
    "duration": 1645,
    "start_time": "2021-08-19T15:32:23.419Z"
   },
   {
    "duration": 1119,
    "start_time": "2021-08-19T15:32:31.828Z"
   },
   {
    "duration": 845,
    "start_time": "2021-08-19T15:32:43.301Z"
   },
   {
    "duration": 776,
    "start_time": "2021-08-19T15:33:10.059Z"
   },
   {
    "duration": 1113,
    "start_time": "2021-08-19T15:33:18.931Z"
   },
   {
    "duration": 591,
    "start_time": "2021-08-19T15:33:25.204Z"
   },
   {
    "duration": 794,
    "start_time": "2021-08-19T15:33:32.709Z"
   },
   {
    "duration": 783,
    "start_time": "2021-08-19T15:34:23.731Z"
   },
   {
    "duration": 815,
    "start_time": "2021-08-19T15:34:37.596Z"
   },
   {
    "duration": 987,
    "start_time": "2021-08-19T15:34:52.778Z"
   },
   {
    "duration": 723,
    "start_time": "2021-08-19T15:35:07.083Z"
   },
   {
    "duration": 734,
    "start_time": "2021-08-19T15:35:18.917Z"
   },
   {
    "duration": 578,
    "start_time": "2021-08-19T15:35:57.786Z"
   },
   {
    "duration": 592,
    "start_time": "2021-08-19T15:36:09.378Z"
   },
   {
    "duration": 791,
    "start_time": "2021-08-19T15:36:36.619Z"
   },
   {
    "duration": 1685,
    "start_time": "2021-08-19T15:39:35.986Z"
   },
   {
    "duration": 549,
    "start_time": "2021-08-19T15:39:37.674Z"
   },
   {
    "duration": 36,
    "start_time": "2021-08-19T15:39:38.227Z"
   },
   {
    "duration": 62,
    "start_time": "2021-08-19T15:39:38.268Z"
   },
   {
    "duration": 269,
    "start_time": "2021-08-19T15:39:38.333Z"
   },
   {
    "duration": 168,
    "start_time": "2021-08-19T15:39:38.605Z"
   },
   {
    "duration": 156,
    "start_time": "2021-08-19T15:39:38.777Z"
   },
   {
    "duration": 97,
    "start_time": "2021-08-19T15:39:38.936Z"
   },
   {
    "duration": 68,
    "start_time": "2021-08-19T15:39:39.038Z"
   },
   {
    "duration": 47,
    "start_time": "2021-08-19T15:39:39.109Z"
   },
   {
    "duration": 107,
    "start_time": "2021-08-19T15:39:39.159Z"
   },
   {
    "duration": 3,
    "start_time": "2021-08-19T15:39:39.269Z"
   },
   {
    "duration": 56,
    "start_time": "2021-08-19T15:39:39.274Z"
   },
   {
    "duration": 5,
    "start_time": "2021-08-19T15:39:39.332Z"
   },
   {
    "duration": 24,
    "start_time": "2021-08-19T15:39:39.339Z"
   },
   {
    "duration": 39,
    "start_time": "2021-08-19T15:39:39.365Z"
   },
   {
    "duration": 33,
    "start_time": "2021-08-19T15:39:39.407Z"
   },
   {
    "duration": 33,
    "start_time": "2021-08-19T15:39:39.442Z"
   },
   {
    "duration": 808,
    "start_time": "2021-08-19T15:39:39.501Z"
   },
   {
    "duration": 643,
    "start_time": "2021-08-19T15:39:40.312Z"
   },
   {
    "duration": 743,
    "start_time": "2021-08-19T15:39:40.958Z"
   },
   {
    "duration": 1457,
    "start_time": "2021-08-20T08:58:33.452Z"
   },
   {
    "duration": 536,
    "start_time": "2021-08-20T08:58:34.912Z"
   },
   {
    "duration": 38,
    "start_time": "2021-08-20T08:58:35.452Z"
   },
   {
    "duration": 83,
    "start_time": "2021-08-20T08:58:35.493Z"
   },
   {
    "duration": 269,
    "start_time": "2021-08-20T08:58:35.578Z"
   },
   {
    "duration": 170,
    "start_time": "2021-08-20T08:58:35.856Z"
   },
   {
    "duration": 147,
    "start_time": "2021-08-20T08:58:36.029Z"
   },
   {
    "duration": 80,
    "start_time": "2021-08-20T08:58:36.180Z"
   },
   {
    "duration": 47,
    "start_time": "2021-08-20T08:58:36.263Z"
   },
   {
    "duration": 75,
    "start_time": "2021-08-20T08:58:36.313Z"
   },
   {
    "duration": 100,
    "start_time": "2021-08-20T08:58:36.390Z"
   },
   {
    "duration": 3,
    "start_time": "2021-08-20T08:58:36.493Z"
   },
   {
    "duration": 57,
    "start_time": "2021-08-20T08:58:36.499Z"
   },
   {
    "duration": 5,
    "start_time": "2021-08-20T08:58:36.558Z"
   },
   {
    "duration": 23,
    "start_time": "2021-08-20T08:58:36.566Z"
   },
   {
    "duration": 15,
    "start_time": "2021-08-20T08:58:36.592Z"
   },
   {
    "duration": 68,
    "start_time": "2021-08-20T08:58:36.609Z"
   },
   {
    "duration": 33,
    "start_time": "2021-08-20T08:58:36.680Z"
   },
   {
    "duration": 805,
    "start_time": "2021-08-20T08:58:36.716Z"
   },
   {
    "duration": 632,
    "start_time": "2021-08-20T08:58:37.523Z"
   },
   {
    "duration": 735,
    "start_time": "2021-08-20T08:58:38.158Z"
   },
   {
    "duration": 893,
    "start_time": "2021-08-20T09:12:36.789Z"
   },
   {
    "duration": 567,
    "start_time": "2021-08-20T09:13:17.430Z"
   },
   {
    "duration": 800,
    "start_time": "2021-08-20T09:13:23.775Z"
   },
   {
    "duration": 905,
    "start_time": "2021-08-20T09:13:30.742Z"
   },
   {
    "duration": 565,
    "start_time": "2021-08-20T09:13:41.012Z"
   },
   {
    "duration": 811,
    "start_time": "2021-08-20T09:13:53.845Z"
   },
   {
    "duration": 696,
    "start_time": "2021-08-20T09:13:58.622Z"
   },
   {
    "duration": 1444,
    "start_time": "2021-08-20T09:18:30.808Z"
   },
   {
    "duration": 719,
    "start_time": "2021-08-20T09:18:32.256Z"
   },
   {
    "duration": 62,
    "start_time": "2021-08-20T09:18:32.989Z"
   },
   {
    "duration": 60,
    "start_time": "2021-08-20T09:18:33.054Z"
   },
   {
    "duration": 275,
    "start_time": "2021-08-20T09:18:33.117Z"
   },
   {
    "duration": 178,
    "start_time": "2021-08-20T09:18:33.395Z"
   },
   {
    "duration": 160,
    "start_time": "2021-08-20T09:18:33.576Z"
   },
   {
    "duration": 81,
    "start_time": "2021-08-20T09:18:33.740Z"
   },
   {
    "duration": 62,
    "start_time": "2021-08-20T09:18:33.824Z"
   },
   {
    "duration": 45,
    "start_time": "2021-08-20T09:18:33.889Z"
   },
   {
    "duration": 101,
    "start_time": "2021-08-20T09:18:33.936Z"
   },
   {
    "duration": 16,
    "start_time": "2021-08-20T09:18:34.040Z"
   },
   {
    "duration": 42,
    "start_time": "2021-08-20T09:18:34.059Z"
   },
   {
    "duration": 5,
    "start_time": "2021-08-20T09:18:34.103Z"
   },
   {
    "duration": 46,
    "start_time": "2021-08-20T09:18:34.110Z"
   },
   {
    "duration": 19,
    "start_time": "2021-08-20T09:18:34.159Z"
   },
   {
    "duration": 33,
    "start_time": "2021-08-20T09:18:34.181Z"
   },
   {
    "duration": 53,
    "start_time": "2021-08-20T09:18:34.217Z"
   },
   {
    "duration": 847,
    "start_time": "2021-08-20T09:18:34.273Z"
   },
   {
    "duration": 663,
    "start_time": "2021-08-20T09:18:35.123Z"
   },
   {
    "duration": 768,
    "start_time": "2021-08-20T09:18:35.788Z"
   },
   {
    "duration": 1421,
    "start_time": "2021-08-20T09:37:43.299Z"
   },
   {
    "duration": 536,
    "start_time": "2021-08-20T09:37:44.723Z"
   },
   {
    "duration": 34,
    "start_time": "2021-08-20T09:37:45.262Z"
   },
   {
    "duration": 77,
    "start_time": "2021-08-20T09:37:45.299Z"
   },
   {
    "duration": 266,
    "start_time": "2021-08-20T09:37:45.378Z"
   },
   {
    "duration": 177,
    "start_time": "2021-08-20T09:37:45.646Z"
   },
   {
    "duration": 142,
    "start_time": "2021-08-20T09:37:45.825Z"
   },
   {
    "duration": 68,
    "start_time": "2021-08-20T09:37:45.970Z"
   },
   {
    "duration": 51,
    "start_time": "2021-08-20T09:37:46.057Z"
   },
   {
    "duration": 63,
    "start_time": "2021-08-20T09:37:46.110Z"
   },
   {
    "duration": 106,
    "start_time": "2021-08-20T09:37:46.175Z"
   },
   {
    "duration": 4,
    "start_time": "2021-08-20T09:37:46.283Z"
   },
   {
    "duration": 56,
    "start_time": "2021-08-20T09:37:46.289Z"
   },
   {
    "duration": 8,
    "start_time": "2021-08-20T09:37:46.348Z"
   },
   {
    "duration": 33,
    "start_time": "2021-08-20T09:37:46.358Z"
   },
   {
    "duration": 22,
    "start_time": "2021-08-20T09:37:46.393Z"
   },
   {
    "duration": 59,
    "start_time": "2021-08-20T09:37:46.417Z"
   },
   {
    "duration": 32,
    "start_time": "2021-08-20T09:37:46.478Z"
   },
   {
    "duration": 805,
    "start_time": "2021-08-20T09:37:46.513Z"
   },
   {
    "duration": 681,
    "start_time": "2021-08-20T09:37:47.320Z"
   },
   {
    "duration": 731,
    "start_time": "2021-08-20T09:37:48.004Z"
   },
   {
    "duration": 4,
    "start_time": "2021-08-20T09:50:54.249Z"
   },
   {
    "duration": 764,
    "start_time": "2021-08-20T09:55:27.039Z"
   },
   {
    "duration": 7,
    "start_time": "2021-08-20T09:56:00.670Z"
   },
   {
    "duration": 7,
    "start_time": "2021-08-20T09:56:38.672Z"
   },
   {
    "duration": 6,
    "start_time": "2021-08-20T09:56:45.798Z"
   },
   {
    "duration": 17,
    "start_time": "2021-08-20T09:58:15.199Z"
   },
   {
    "duration": 18,
    "start_time": "2021-08-20T09:58:22.374Z"
   },
   {
    "duration": 15,
    "start_time": "2021-08-20T09:58:36.141Z"
   },
   {
    "duration": 15,
    "start_time": "2021-08-20T09:59:01.831Z"
   },
   {
    "duration": 17,
    "start_time": "2021-08-20T09:59:17.791Z"
   },
   {
    "duration": 16,
    "start_time": "2021-08-20T10:01:08.899Z"
   },
   {
    "duration": 16,
    "start_time": "2021-08-20T10:01:10.805Z"
   },
   {
    "duration": 15,
    "start_time": "2021-08-20T10:01:12.604Z"
   },
   {
    "duration": 16,
    "start_time": "2021-08-20T10:01:14.300Z"
   },
   {
    "duration": 18,
    "start_time": "2021-08-20T10:01:16.004Z"
   },
   {
    "duration": 18,
    "start_time": "2021-08-20T10:01:21.853Z"
   },
   {
    "duration": 17,
    "start_time": "2021-08-20T10:01:27.140Z"
   },
   {
    "duration": 17,
    "start_time": "2021-08-20T10:01:29.517Z"
   },
   {
    "duration": 17,
    "start_time": "2021-08-20T10:01:31.060Z"
   },
   {
    "duration": 15,
    "start_time": "2021-08-20T10:01:32.461Z"
   },
   {
    "duration": 15,
    "start_time": "2021-08-20T10:01:35.060Z"
   },
   {
    "duration": 15,
    "start_time": "2021-08-20T10:01:36.604Z"
   },
   {
    "duration": 15,
    "start_time": "2021-08-20T10:01:38.212Z"
   },
   {
    "duration": 15,
    "start_time": "2021-08-20T10:01:39.563Z"
   },
   {
    "duration": 17,
    "start_time": "2021-08-20T10:01:45.380Z"
   },
   {
    "duration": 16,
    "start_time": "2021-08-20T10:01:48.787Z"
   },
   {
    "duration": 16,
    "start_time": "2021-08-20T10:01:55.892Z"
   },
   {
    "duration": 16,
    "start_time": "2021-08-20T10:01:59.837Z"
   },
   {
    "duration": 15,
    "start_time": "2021-08-20T10:02:02.268Z"
   },
   {
    "duration": 16,
    "start_time": "2021-08-20T10:02:03.973Z"
   },
   {
    "duration": 16,
    "start_time": "2021-08-20T10:02:05.645Z"
   },
   {
    "duration": 16,
    "start_time": "2021-08-20T10:02:08.692Z"
   },
   {
    "duration": 16,
    "start_time": "2021-08-20T10:02:10.861Z"
   },
   {
    "duration": 16,
    "start_time": "2021-08-20T10:02:12.948Z"
   },
   {
    "duration": 16,
    "start_time": "2021-08-20T10:02:50.268Z"
   },
   {
    "duration": 16,
    "start_time": "2021-08-20T10:02:56.147Z"
   },
   {
    "duration": 16,
    "start_time": "2021-08-20T10:02:59.060Z"
   },
   {
    "duration": 15,
    "start_time": "2021-08-20T10:03:01.491Z"
   },
   {
    "duration": 16,
    "start_time": "2021-08-20T10:03:05.991Z"
   },
   {
    "duration": 16,
    "start_time": "2021-08-20T10:03:09.565Z"
   },
   {
    "duration": 15,
    "start_time": "2021-08-20T10:03:11.765Z"
   },
   {
    "duration": 16,
    "start_time": "2021-08-20T10:03:13.589Z"
   },
   {
    "duration": 15,
    "start_time": "2021-08-20T10:03:19.540Z"
   },
   {
    "duration": 15,
    "start_time": "2021-08-20T10:03:22.052Z"
   },
   {
    "duration": 16,
    "start_time": "2021-08-20T10:03:59.981Z"
   },
   {
    "duration": 16,
    "start_time": "2021-08-20T10:04:05.381Z"
   },
   {
    "duration": 16,
    "start_time": "2021-08-20T10:04:07.810Z"
   },
   {
    "duration": 16,
    "start_time": "2021-08-20T10:04:27.675Z"
   },
   {
    "duration": 15,
    "start_time": "2021-08-20T10:04:53.131Z"
   },
   {
    "duration": 16,
    "start_time": "2021-08-20T10:05:12.859Z"
   },
   {
    "duration": 16,
    "start_time": "2021-08-20T10:05:25.109Z"
   },
   {
    "duration": 16,
    "start_time": "2021-08-20T10:05:42.043Z"
   },
   {
    "duration": 15,
    "start_time": "2021-08-20T10:05:45.340Z"
   },
   {
    "duration": 16,
    "start_time": "2021-08-20T10:05:50.133Z"
   },
   {
    "duration": 16,
    "start_time": "2021-08-20T10:05:55.852Z"
   },
   {
    "duration": 15,
    "start_time": "2021-08-20T10:06:29.204Z"
   },
   {
    "duration": 16,
    "start_time": "2021-08-20T10:09:13.737Z"
   },
   {
    "duration": 16,
    "start_time": "2021-08-20T10:12:21.903Z"
   },
   {
    "duration": 17,
    "start_time": "2021-08-20T10:12:29.705Z"
   },
   {
    "duration": 15,
    "start_time": "2021-08-20T10:12:31.985Z"
   },
   {
    "duration": 17,
    "start_time": "2021-08-20T10:12:34.624Z"
   },
   {
    "duration": 15,
    "start_time": "2021-08-20T10:12:41.025Z"
   },
   {
    "duration": 16,
    "start_time": "2021-08-20T10:12:44.001Z"
   },
   {
    "duration": 15,
    "start_time": "2021-08-20T10:12:49.520Z"
   },
   {
    "duration": 15,
    "start_time": "2021-08-20T10:13:09.697Z"
   },
   {
    "duration": 15,
    "start_time": "2021-08-20T10:13:13.847Z"
   },
   {
    "duration": 16,
    "start_time": "2021-08-20T10:13:15.000Z"
   },
   {
    "duration": 16,
    "start_time": "2021-08-20T10:13:16.289Z"
   },
   {
    "duration": 15,
    "start_time": "2021-08-20T10:13:17.576Z"
   },
   {
    "duration": 15,
    "start_time": "2021-08-20T10:13:18.984Z"
   },
   {
    "duration": 16,
    "start_time": "2021-08-20T10:13:20.543Z"
   },
   {
    "duration": 17,
    "start_time": "2021-08-20T10:13:21.598Z"
   },
   {
    "duration": 19,
    "start_time": "2021-08-20T10:13:22.720Z"
   },
   {
    "duration": 17,
    "start_time": "2021-08-20T10:13:24.063Z"
   },
   {
    "duration": 17,
    "start_time": "2021-08-20T10:13:25.742Z"
   },
   {
    "duration": 17,
    "start_time": "2021-08-20T10:13:33.216Z"
   },
   {
    "duration": 17,
    "start_time": "2021-08-20T10:13:34.647Z"
   },
   {
    "duration": 17,
    "start_time": "2021-08-20T10:13:35.694Z"
   },
   {
    "duration": 17,
    "start_time": "2021-08-20T10:13:36.783Z"
   },
   {
    "duration": 17,
    "start_time": "2021-08-20T10:13:37.830Z"
   },
   {
    "duration": 17,
    "start_time": "2021-08-20T10:13:38.785Z"
   },
   {
    "duration": 16,
    "start_time": "2021-08-20T10:13:39.774Z"
   },
   {
    "duration": 16,
    "start_time": "2021-08-20T10:13:40.782Z"
   },
   {
    "duration": 15,
    "start_time": "2021-08-20T10:13:53.536Z"
   },
   {
    "duration": 15,
    "start_time": "2021-08-20T10:13:56.215Z"
   },
   {
    "duration": 15,
    "start_time": "2021-08-20T10:13:57.985Z"
   },
   {
    "duration": 15,
    "start_time": "2021-08-20T10:15:38.487Z"
   },
   {
    "duration": 10,
    "start_time": "2021-08-20T10:16:29.935Z"
   },
   {
    "duration": 14,
    "start_time": "2021-08-20T10:16:39.870Z"
   },
   {
    "duration": 388,
    "start_time": "2021-08-20T10:16:44.957Z"
   },
   {
    "duration": 14,
    "start_time": "2021-08-20T10:16:57.179Z"
   },
   {
    "duration": 8,
    "start_time": "2021-08-20T10:18:28.157Z"
   },
   {
    "duration": 11,
    "start_time": "2021-08-20T10:18:38.486Z"
   },
   {
    "duration": 14,
    "start_time": "2021-08-20T10:19:41.974Z"
   },
   {
    "duration": 15,
    "start_time": "2021-08-20T10:19:54.582Z"
   },
   {
    "duration": 17,
    "start_time": "2021-08-20T10:20:20.286Z"
   },
   {
    "duration": 375,
    "start_time": "2021-08-20T10:21:53.494Z"
   },
   {
    "duration": 7,
    "start_time": "2021-08-20T10:22:06.652Z"
   },
   {
    "duration": 8,
    "start_time": "2021-08-20T10:22:21.316Z"
   },
   {
    "duration": 7,
    "start_time": "2021-08-20T10:22:24.924Z"
   },
   {
    "duration": 8,
    "start_time": "2021-08-20T10:22:27.069Z"
   },
   {
    "duration": 7,
    "start_time": "2021-08-20T10:22:30.454Z"
   },
   {
    "duration": 7,
    "start_time": "2021-08-20T10:22:35.080Z"
   },
   {
    "duration": 8,
    "start_time": "2021-08-20T10:22:52.212Z"
   },
   {
    "duration": 7,
    "start_time": "2021-08-20T10:23:05.361Z"
   },
   {
    "duration": 7,
    "start_time": "2021-08-20T10:23:07.861Z"
   },
   {
    "duration": 7,
    "start_time": "2021-08-20T10:23:10.341Z"
   },
   {
    "duration": 8,
    "start_time": "2021-08-20T10:23:12.901Z"
   },
   {
    "duration": 7,
    "start_time": "2021-08-20T10:23:15.532Z"
   },
   {
    "duration": 7,
    "start_time": "2021-08-20T10:23:20.324Z"
   },
   {
    "duration": 7,
    "start_time": "2021-08-20T10:23:22.171Z"
   },
   {
    "duration": 8,
    "start_time": "2021-08-20T10:23:25.188Z"
   },
   {
    "duration": 8,
    "start_time": "2021-08-20T10:23:28.012Z"
   },
   {
    "duration": 7,
    "start_time": "2021-08-20T10:23:34.340Z"
   },
   {
    "duration": 7,
    "start_time": "2021-08-20T10:23:36.645Z"
   },
   {
    "duration": 7,
    "start_time": "2021-08-20T10:23:38.644Z"
   },
   {
    "duration": 7,
    "start_time": "2021-08-20T10:23:40.268Z"
   },
   {
    "duration": 7,
    "start_time": "2021-08-20T10:23:42.006Z"
   },
   {
    "duration": 8,
    "start_time": "2021-08-20T10:23:43.741Z"
   },
   {
    "duration": 7,
    "start_time": "2021-08-20T10:23:45.515Z"
   },
   {
    "duration": 7,
    "start_time": "2021-08-20T10:23:47.292Z"
   },
   {
    "duration": 7,
    "start_time": "2021-08-20T10:23:48.813Z"
   },
   {
    "duration": 7,
    "start_time": "2021-08-20T10:23:50.277Z"
   },
   {
    "duration": 8,
    "start_time": "2021-08-20T10:23:51.795Z"
   },
   {
    "duration": 8,
    "start_time": "2021-08-20T10:23:53.259Z"
   },
   {
    "duration": 8,
    "start_time": "2021-08-20T10:23:54.755Z"
   },
   {
    "duration": 16,
    "start_time": "2021-08-20T10:25:35.724Z"
   },
   {
    "duration": 15,
    "start_time": "2021-08-20T10:25:44.203Z"
   },
   {
    "duration": 7,
    "start_time": "2021-08-20T10:26:06.707Z"
   },
   {
    "duration": 7,
    "start_time": "2021-08-20T10:26:09.930Z"
   },
   {
    "duration": 7,
    "start_time": "2021-08-20T10:26:11.266Z"
   },
   {
    "duration": 7,
    "start_time": "2021-08-20T10:26:13.418Z"
   },
   {
    "duration": 7,
    "start_time": "2021-08-20T10:26:15.514Z"
   },
   {
    "duration": 7,
    "start_time": "2021-08-20T10:26:18.522Z"
   },
   {
    "duration": 8,
    "start_time": "2021-08-20T10:26:21.154Z"
   },
   {
    "duration": 7,
    "start_time": "2021-08-20T10:26:22.490Z"
   },
   {
    "duration": 8,
    "start_time": "2021-08-20T10:26:23.650Z"
   },
   {
    "duration": 8,
    "start_time": "2021-08-20T10:26:30.578Z"
   },
   {
    "duration": 7,
    "start_time": "2021-08-20T10:26:32.243Z"
   },
   {
    "duration": 120,
    "start_time": "2021-08-20T10:29:49.250Z"
   },
   {
    "duration": 93,
    "start_time": "2021-08-20T10:30:00.028Z"
   },
   {
    "duration": 1431,
    "start_time": "2021-08-20T10:30:29.302Z"
   },
   {
    "duration": 561,
    "start_time": "2021-08-20T10:30:30.735Z"
   },
   {
    "duration": 34,
    "start_time": "2021-08-20T10:30:31.299Z"
   },
   {
    "duration": 73,
    "start_time": "2021-08-20T10:30:31.335Z"
   },
   {
    "duration": 258,
    "start_time": "2021-08-20T10:30:31.411Z"
   },
   {
    "duration": 167,
    "start_time": "2021-08-20T10:30:31.672Z"
   },
   {
    "duration": 148,
    "start_time": "2021-08-20T10:30:31.841Z"
   },
   {
    "duration": 95,
    "start_time": "2021-08-20T10:30:31.992Z"
   },
   {
    "duration": 68,
    "start_time": "2021-08-20T10:30:32.090Z"
   },
   {
    "duration": 52,
    "start_time": "2021-08-20T10:30:32.161Z"
   },
   {
    "duration": 118,
    "start_time": "2021-08-20T10:30:32.215Z"
   },
   {
    "duration": 4,
    "start_time": "2021-08-20T10:30:32.336Z"
   },
   {
    "duration": 52,
    "start_time": "2021-08-20T10:30:32.342Z"
   },
   {
    "duration": 5,
    "start_time": "2021-08-20T10:30:32.396Z"
   },
   {
    "duration": 52,
    "start_time": "2021-08-20T10:30:32.404Z"
   },
   {
    "duration": 16,
    "start_time": "2021-08-20T10:30:32.459Z"
   },
   {
    "duration": 35,
    "start_time": "2021-08-20T10:30:32.478Z"
   },
   {
    "duration": 61,
    "start_time": "2021-08-20T10:30:32.516Z"
   },
   {
    "duration": 820,
    "start_time": "2021-08-20T10:30:32.579Z"
   },
   {
    "duration": 670,
    "start_time": "2021-08-20T10:30:33.401Z"
   },
   {
    "duration": 739,
    "start_time": "2021-08-20T10:30:34.073Z"
   },
   {
    "duration": 15,
    "start_time": "2021-08-20T10:30:34.815Z"
   },
   {
    "duration": 34,
    "start_time": "2021-08-20T10:30:34.832Z"
   },
   {
    "duration": 7,
    "start_time": "2021-08-20T10:30:34.869Z"
   },
   {
    "duration": 17,
    "start_time": "2021-08-20T10:30:34.879Z"
   },
   {
    "duration": 15,
    "start_time": "2021-08-20T10:33:00.767Z"
   },
   {
    "duration": 15,
    "start_time": "2021-08-20T10:33:53.005Z"
   },
   {
    "duration": 8,
    "start_time": "2021-08-20T10:34:45.708Z"
   },
   {
    "duration": 17,
    "start_time": "2021-08-20T10:35:33.293Z"
   },
   {
    "duration": 16,
    "start_time": "2021-08-20T10:35:36.212Z"
   },
   {
    "duration": 7,
    "start_time": "2021-08-20T10:36:16.805Z"
   },
   {
    "duration": 6,
    "start_time": "2021-08-20T10:36:32.716Z"
   },
   {
    "duration": 7,
    "start_time": "2021-08-20T10:36:35.325Z"
   },
   {
    "duration": 7,
    "start_time": "2021-08-20T10:36:37.444Z"
   },
   {
    "duration": 7,
    "start_time": "2021-08-20T10:36:39.493Z"
   },
   {
    "duration": 8,
    "start_time": "2021-08-20T10:36:41.430Z"
   },
   {
    "duration": 8,
    "start_time": "2021-08-20T10:36:43.310Z"
   },
   {
    "duration": 7,
    "start_time": "2021-08-20T10:36:46.327Z"
   },
   {
    "duration": 9,
    "start_time": "2021-08-20T10:37:34.653Z"
   },
   {
    "duration": 10,
    "start_time": "2021-08-20T10:37:36.710Z"
   },
   {
    "duration": 10,
    "start_time": "2021-08-20T10:37:38.836Z"
   },
   {
    "duration": 7,
    "start_time": "2021-08-20T10:37:40.813Z"
   },
   {
    "duration": 7,
    "start_time": "2021-08-20T10:37:56.093Z"
   },
   {
    "duration": 10,
    "start_time": "2021-08-20T10:37:59.037Z"
   },
   {
    "duration": 8,
    "start_time": "2021-08-20T10:38:01.630Z"
   },
   {
    "duration": 7,
    "start_time": "2021-08-20T10:38:11.260Z"
   },
   {
    "duration": 8,
    "start_time": "2021-08-20T10:38:15.244Z"
   },
   {
    "duration": 7,
    "start_time": "2021-08-20T10:39:51.467Z"
   },
   {
    "duration": 7,
    "start_time": "2021-08-20T10:39:54.261Z"
   },
   {
    "duration": 7,
    "start_time": "2021-08-20T10:39:56.244Z"
   },
   {
    "duration": 8,
    "start_time": "2021-08-20T10:39:58.083Z"
   },
   {
    "duration": 8,
    "start_time": "2021-08-20T10:39:59.917Z"
   },
   {
    "duration": 7,
    "start_time": "2021-08-20T10:46:25.353Z"
   },
   {
    "duration": 978,
    "start_time": "2021-08-20T10:48:50.295Z"
   },
   {
    "duration": 129,
    "start_time": "2021-08-20T10:49:14.295Z"
   },
   {
    "duration": 136,
    "start_time": "2021-08-20T10:49:42.063Z"
   },
   {
    "duration": 134,
    "start_time": "2021-08-20T10:50:00.862Z"
   },
   {
    "duration": 131,
    "start_time": "2021-08-20T10:50:03.967Z"
   },
   {
    "duration": 1145,
    "start_time": "2021-08-20T10:50:09.080Z"
   },
   {
    "duration": 1113,
    "start_time": "2021-08-20T10:50:29.263Z"
   },
   {
    "duration": 1076,
    "start_time": "2021-08-20T10:50:51.943Z"
   },
   {
    "duration": 1174,
    "start_time": "2021-08-20T10:51:29.464Z"
   },
   {
    "duration": 1075,
    "start_time": "2021-08-20T10:51:42.135Z"
   },
   {
    "duration": 1122,
    "start_time": "2021-08-20T10:52:59.358Z"
   },
   {
    "duration": 1202,
    "start_time": "2021-08-20T10:53:08.937Z"
   },
   {
    "duration": 21,
    "start_time": "2021-08-20T10:53:56.655Z"
   },
   {
    "duration": 688,
    "start_time": "2021-08-20T11:03:05.817Z"
   },
   {
    "duration": 15,
    "start_time": "2021-08-20T11:03:57.436Z"
   },
   {
    "duration": 694,
    "start_time": "2021-08-20T11:04:06.619Z"
   },
   {
    "duration": 7,
    "start_time": "2021-08-20T11:06:55.874Z"
   },
   {
    "duration": 5,
    "start_time": "2021-08-20T11:07:37.041Z"
   },
   {
    "duration": 6,
    "start_time": "2021-08-20T11:07:44.306Z"
   },
   {
    "duration": 7,
    "start_time": "2021-08-20T11:07:52.756Z"
   },
   {
    "duration": 5,
    "start_time": "2021-08-20T11:07:58.506Z"
   },
   {
    "duration": 6,
    "start_time": "2021-08-20T11:08:03.880Z"
   },
   {
    "duration": 6,
    "start_time": "2021-08-20T11:08:09.369Z"
   },
   {
    "duration": 5,
    "start_time": "2021-08-20T11:08:14.331Z"
   },
   {
    "duration": 6,
    "start_time": "2021-08-20T11:08:24.297Z"
   },
   {
    "duration": 5,
    "start_time": "2021-08-20T11:09:35.592Z"
   },
   {
    "duration": 6,
    "start_time": "2021-08-20T11:09:49.976Z"
   },
   {
    "duration": 7,
    "start_time": "2021-08-20T11:09:59.264Z"
   },
   {
    "duration": 6,
    "start_time": "2021-08-20T11:10:16.441Z"
   },
   {
    "duration": 1427,
    "start_time": "2021-08-20T11:11:54.202Z"
   },
   {
    "duration": 600,
    "start_time": "2021-08-20T11:11:55.632Z"
   },
   {
    "duration": 36,
    "start_time": "2021-08-20T11:11:56.235Z"
   },
   {
    "duration": 60,
    "start_time": "2021-08-20T11:11:56.274Z"
   },
   {
    "duration": 251,
    "start_time": "2021-08-20T11:11:56.356Z"
   },
   {
    "duration": 171,
    "start_time": "2021-08-20T11:11:56.609Z"
   },
   {
    "duration": 143,
    "start_time": "2021-08-20T11:11:56.783Z"
   },
   {
    "duration": 74,
    "start_time": "2021-08-20T11:11:56.930Z"
   },
   {
    "duration": 65,
    "start_time": "2021-08-20T11:11:57.007Z"
   },
   {
    "duration": 50,
    "start_time": "2021-08-20T11:11:57.075Z"
   },
   {
    "duration": 119,
    "start_time": "2021-08-20T11:11:57.128Z"
   },
   {
    "duration": 4,
    "start_time": "2021-08-20T11:11:57.256Z"
   },
   {
    "duration": 57,
    "start_time": "2021-08-20T11:11:57.262Z"
   },
   {
    "duration": 5,
    "start_time": "2021-08-20T11:11:57.322Z"
   },
   {
    "duration": 45,
    "start_time": "2021-08-20T11:11:57.330Z"
   },
   {
    "duration": 33,
    "start_time": "2021-08-20T11:11:57.377Z"
   },
   {
    "duration": 41,
    "start_time": "2021-08-20T11:11:57.412Z"
   },
   {
    "duration": 34,
    "start_time": "2021-08-20T11:11:57.455Z"
   },
   {
    "duration": 834,
    "start_time": "2021-08-20T11:11:57.491Z"
   },
   {
    "duration": 677,
    "start_time": "2021-08-20T11:11:58.328Z"
   },
   {
    "duration": 763,
    "start_time": "2021-08-20T11:11:59.008Z"
   },
   {
    "duration": 15,
    "start_time": "2021-08-20T11:11:59.774Z"
   },
   {
    "duration": 24,
    "start_time": "2021-08-20T11:11:59.793Z"
   },
   {
    "duration": 501,
    "start_time": "2021-08-20T11:11:59.820Z"
   },
   {
    "duration": -7765,
    "start_time": "2021-08-20T11:12:08.089Z"
   },
   {
    "duration": -7765,
    "start_time": "2021-08-20T11:12:08.091Z"
   },
   {
    "duration": -7775,
    "start_time": "2021-08-20T11:12:08.103Z"
   },
   {
    "duration": 1438,
    "start_time": "2021-08-20T11:12:43.187Z"
   },
   {
    "duration": 550,
    "start_time": "2021-08-20T11:12:44.628Z"
   },
   {
    "duration": 35,
    "start_time": "2021-08-20T11:12:45.182Z"
   },
   {
    "duration": 80,
    "start_time": "2021-08-20T11:12:45.220Z"
   },
   {
    "duration": 273,
    "start_time": "2021-08-20T11:12:45.303Z"
   },
   {
    "duration": 166,
    "start_time": "2021-08-20T11:12:45.579Z"
   },
   {
    "duration": 153,
    "start_time": "2021-08-20T11:12:45.755Z"
   },
   {
    "duration": 97,
    "start_time": "2021-08-20T11:12:45.911Z"
   },
   {
    "duration": 65,
    "start_time": "2021-08-20T11:12:46.014Z"
   },
   {
    "duration": 50,
    "start_time": "2021-08-20T11:12:46.082Z"
   },
   {
    "duration": 128,
    "start_time": "2021-08-20T11:12:46.135Z"
   },
   {
    "duration": 4,
    "start_time": "2021-08-20T11:12:46.265Z"
   },
   {
    "duration": 84,
    "start_time": "2021-08-20T11:12:46.272Z"
   },
   {
    "duration": 7,
    "start_time": "2021-08-20T11:12:46.359Z"
   },
   {
    "duration": 36,
    "start_time": "2021-08-20T11:12:46.369Z"
   },
   {
    "duration": 51,
    "start_time": "2021-08-20T11:12:46.408Z"
   },
   {
    "duration": 35,
    "start_time": "2021-08-20T11:12:46.462Z"
   },
   {
    "duration": 59,
    "start_time": "2021-08-20T11:12:46.499Z"
   },
   {
    "duration": 930,
    "start_time": "2021-08-20T11:12:46.560Z"
   },
   {
    "duration": 913,
    "start_time": "2021-08-20T11:12:47.493Z"
   },
   {
    "duration": 1046,
    "start_time": "2021-08-20T11:12:48.409Z"
   },
   {
    "duration": 4,
    "start_time": "2021-08-20T11:12:49.458Z"
   },
   {
    "duration": 22,
    "start_time": "2021-08-20T11:12:49.465Z"
   },
   {
    "duration": 18,
    "start_time": "2021-08-20T11:12:49.490Z"
   },
   {
    "duration": 47,
    "start_time": "2021-08-20T11:12:49.511Z"
   },
   {
    "duration": 21,
    "start_time": "2021-08-20T11:12:49.561Z"
   },
   {
    "duration": 22,
    "start_time": "2021-08-20T11:12:49.589Z"
   },
   {
    "duration": 10,
    "start_time": "2021-08-20T11:12:49.614Z"
   },
   {
    "duration": 4,
    "start_time": "2021-08-20T11:19:10.476Z"
   },
   {
    "duration": 7,
    "start_time": "2021-08-20T11:44:35.651Z"
   },
   {
    "duration": 6,
    "start_time": "2021-08-20T11:44:49.010Z"
   },
   {
    "duration": 1598,
    "start_time": "2021-08-20T12:07:06.289Z"
   },
   {
    "duration": 542,
    "start_time": "2021-08-20T12:07:07.891Z"
   },
   {
    "duration": 34,
    "start_time": "2021-08-20T12:07:08.436Z"
   },
   {
    "duration": 59,
    "start_time": "2021-08-20T12:07:08.473Z"
   },
   {
    "duration": 274,
    "start_time": "2021-08-20T12:07:08.535Z"
   },
   {
    "duration": 168,
    "start_time": "2021-08-20T12:07:08.811Z"
   },
   {
    "duration": 141,
    "start_time": "2021-08-20T12:07:08.982Z"
   },
   {
    "duration": 83,
    "start_time": "2021-08-20T12:07:09.126Z"
   },
   {
    "duration": 62,
    "start_time": "2021-08-20T12:07:09.212Z"
   },
   {
    "duration": 45,
    "start_time": "2021-08-20T12:07:09.277Z"
   },
   {
    "duration": 116,
    "start_time": "2021-08-20T12:07:09.325Z"
   },
   {
    "duration": 12,
    "start_time": "2021-08-20T12:07:09.444Z"
   },
   {
    "duration": 51,
    "start_time": "2021-08-20T12:07:09.459Z"
   },
   {
    "duration": 5,
    "start_time": "2021-08-20T12:07:09.512Z"
   },
   {
    "duration": 50,
    "start_time": "2021-08-20T12:07:09.519Z"
   },
   {
    "duration": 14,
    "start_time": "2021-08-20T12:07:09.572Z"
   },
   {
    "duration": 35,
    "start_time": "2021-08-20T12:07:09.588Z"
   },
   {
    "duration": 58,
    "start_time": "2021-08-20T12:07:09.625Z"
   },
   {
    "duration": 823,
    "start_time": "2021-08-20T12:07:09.685Z"
   },
   {
    "duration": 736,
    "start_time": "2021-08-20T12:07:10.511Z"
   },
   {
    "duration": 753,
    "start_time": "2021-08-20T12:07:11.250Z"
   },
   {
    "duration": 3,
    "start_time": "2021-08-20T12:07:12.005Z"
   },
   {
    "duration": 19,
    "start_time": "2021-08-20T12:07:12.013Z"
   },
   {
    "duration": 15,
    "start_time": "2021-08-20T12:07:12.056Z"
   },
   {
    "duration": 7,
    "start_time": "2021-08-20T12:07:12.073Z"
   },
   {
    "duration": 24,
    "start_time": "2021-08-20T12:07:12.083Z"
   },
   {
    "duration": 46,
    "start_time": "2021-08-20T12:07:12.110Z"
   },
   {
    "duration": 7,
    "start_time": "2021-08-20T12:07:12.159Z"
   },
   {
    "duration": 15,
    "start_time": "2021-08-20T12:14:33.385Z"
   },
   {
    "duration": 38,
    "start_time": "2021-08-20T12:14:34.321Z"
   },
   {
    "duration": 38,
    "start_time": "2021-08-20T12:14:35.216Z"
   },
   {
    "duration": 120,
    "start_time": "2021-08-20T12:30:14.938Z"
   },
   {
    "duration": 119,
    "start_time": "2021-08-20T12:31:19.977Z"
   },
   {
    "duration": 3,
    "start_time": "2021-08-20T12:34:45.505Z"
   },
   {
    "duration": 3,
    "start_time": "2021-08-20T12:51:22.537Z"
   },
   {
    "duration": 1497,
    "start_time": "2021-08-20T12:55:45.328Z"
   },
   {
    "duration": 567,
    "start_time": "2021-08-20T12:55:46.828Z"
   },
   {
    "duration": 37,
    "start_time": "2021-08-20T12:55:47.399Z"
   },
   {
    "duration": 68,
    "start_time": "2021-08-20T12:55:47.439Z"
   },
   {
    "duration": 268,
    "start_time": "2021-08-20T12:55:47.509Z"
   },
   {
    "duration": 178,
    "start_time": "2021-08-20T12:55:47.780Z"
   },
   {
    "duration": 160,
    "start_time": "2021-08-20T12:55:47.961Z"
   },
   {
    "duration": 100,
    "start_time": "2021-08-20T12:55:48.126Z"
   },
   {
    "duration": 63,
    "start_time": "2021-08-20T12:55:48.229Z"
   },
   {
    "duration": 62,
    "start_time": "2021-08-20T12:55:48.295Z"
   },
   {
    "duration": 104,
    "start_time": "2021-08-20T12:55:48.359Z"
   },
   {
    "duration": 5,
    "start_time": "2021-08-20T12:55:48.465Z"
   },
   {
    "duration": 49,
    "start_time": "2021-08-20T12:55:48.472Z"
   },
   {
    "duration": 5,
    "start_time": "2021-08-20T12:55:48.524Z"
   },
   {
    "duration": 63,
    "start_time": "2021-08-20T12:55:48.531Z"
   },
   {
    "duration": 19,
    "start_time": "2021-08-20T12:55:48.597Z"
   },
   {
    "duration": 25,
    "start_time": "2021-08-20T12:55:48.618Z"
   },
   {
    "duration": 50,
    "start_time": "2021-08-20T12:55:48.645Z"
   },
   {
    "duration": 38,
    "start_time": "2021-08-20T12:55:48.697Z"
   },
   {
    "duration": 830,
    "start_time": "2021-08-20T12:55:48.738Z"
   },
   {
    "duration": 652,
    "start_time": "2021-08-20T12:55:49.570Z"
   },
   {
    "duration": 773,
    "start_time": "2021-08-20T12:55:50.225Z"
   },
   {
    "duration": 3,
    "start_time": "2021-08-20T12:55:51.003Z"
   },
   {
    "duration": 29,
    "start_time": "2021-08-20T12:55:51.008Z"
   },
   {
    "duration": 26,
    "start_time": "2021-08-20T12:55:51.039Z"
   },
   {
    "duration": 7,
    "start_time": "2021-08-20T12:55:51.067Z"
   },
   {
    "duration": 23,
    "start_time": "2021-08-20T12:55:51.077Z"
   },
   {
    "duration": 15,
    "start_time": "2021-08-20T12:55:51.103Z"
   },
   {
    "duration": 40,
    "start_time": "2021-08-20T12:55:51.120Z"
   },
   {
    "duration": 1517,
    "start_time": "2021-08-20T12:57:53.162Z"
   },
   {
    "duration": 556,
    "start_time": "2021-08-20T12:57:54.681Z"
   },
   {
    "duration": 36,
    "start_time": "2021-08-20T12:57:55.241Z"
   },
   {
    "duration": 58,
    "start_time": "2021-08-20T12:57:55.280Z"
   },
   {
    "duration": 262,
    "start_time": "2021-08-20T12:57:55.356Z"
   },
   {
    "duration": 181,
    "start_time": "2021-08-20T12:57:55.621Z"
   },
   {
    "duration": 157,
    "start_time": "2021-08-20T12:57:55.805Z"
   },
   {
    "duration": 90,
    "start_time": "2021-08-20T12:57:55.967Z"
   },
   {
    "duration": 50,
    "start_time": "2021-08-20T12:57:56.061Z"
   },
   {
    "duration": 70,
    "start_time": "2021-08-20T12:57:56.113Z"
   },
   {
    "duration": 106,
    "start_time": "2021-08-20T12:57:56.185Z"
   },
   {
    "duration": 4,
    "start_time": "2021-08-20T12:57:56.293Z"
   },
   {
    "duration": 58,
    "start_time": "2021-08-20T12:57:56.299Z"
   },
   {
    "duration": 5,
    "start_time": "2021-08-20T12:57:56.360Z"
   },
   {
    "duration": 25,
    "start_time": "2021-08-20T12:57:56.367Z"
   },
   {
    "duration": 16,
    "start_time": "2021-08-20T12:57:56.394Z"
   },
   {
    "duration": 3,
    "start_time": "2021-08-20T12:57:56.413Z"
   },
   {
    "duration": 72,
    "start_time": "2021-08-20T12:57:56.418Z"
   },
   {
    "duration": 40,
    "start_time": "2021-08-20T12:57:56.492Z"
   },
   {
    "duration": 1239,
    "start_time": "2021-08-20T12:57:56.534Z"
   },
   {
    "duration": 1000,
    "start_time": "2021-08-20T12:57:57.775Z"
   },
   {
    "duration": 718,
    "start_time": "2021-08-20T12:57:58.778Z"
   },
   {
    "duration": 4,
    "start_time": "2021-08-20T12:57:59.502Z"
   },
   {
    "duration": 17,
    "start_time": "2021-08-20T12:57:59.509Z"
   },
   {
    "duration": 16,
    "start_time": "2021-08-20T12:57:59.557Z"
   },
   {
    "duration": 11,
    "start_time": "2021-08-20T12:57:59.575Z"
   },
   {
    "duration": 28,
    "start_time": "2021-08-20T12:57:59.588Z"
   },
   {
    "duration": 47,
    "start_time": "2021-08-20T12:57:59.618Z"
   },
   {
    "duration": 8,
    "start_time": "2021-08-20T12:57:59.668Z"
   },
   {
    "duration": 869,
    "start_time": "2021-08-20T13:04:10.765Z"
   },
   {
    "duration": 677,
    "start_time": "2021-08-20T13:04:42.365Z"
   },
   {
    "duration": 51,
    "start_time": "2021-08-20T13:05:18.470Z"
   },
   {
    "duration": 40,
    "start_time": "2021-08-20T13:06:39.157Z"
   },
   {
    "duration": 6,
    "start_time": "2021-08-20T13:06:59.468Z"
   },
   {
    "duration": 5,
    "start_time": "2021-08-20T13:08:17.792Z"
   },
   {
    "duration": 6,
    "start_time": "2021-08-20T13:09:23.613Z"
   },
   {
    "duration": 36,
    "start_time": "2021-08-20T13:09:58.757Z"
   },
   {
    "duration": 38,
    "start_time": "2021-08-20T13:10:41.435Z"
   },
   {
    "duration": 12,
    "start_time": "2021-08-20T13:11:00.091Z"
   },
   {
    "duration": 8,
    "start_time": "2021-08-20T13:11:30.491Z"
   },
   {
    "duration": 8,
    "start_time": "2021-08-20T13:12:32.857Z"
   },
   {
    "duration": 13,
    "start_time": "2021-08-20T13:12:47.954Z"
   },
   {
    "duration": 6,
    "start_time": "2021-08-20T13:15:50.324Z"
   },
   {
    "duration": 14,
    "start_time": "2021-08-20T13:16:01.545Z"
   },
   {
    "duration": 40,
    "start_time": "2021-08-20T13:16:49.481Z"
   },
   {
    "duration": 1409,
    "start_time": "2021-08-20T13:16:50.393Z"
   },
   {
    "duration": 7,
    "start_time": "2021-08-20T13:17:18.578Z"
   },
   {
    "duration": 6,
    "start_time": "2021-08-20T13:18:42.561Z"
   },
   {
    "duration": 6,
    "start_time": "2021-08-20T13:18:45.993Z"
   },
   {
    "duration": 13,
    "start_time": "2021-08-20T13:18:48.888Z"
   },
   {
    "duration": 4,
    "start_time": "2021-08-20T13:20:04.296Z"
   },
   {
    "duration": 6,
    "start_time": "2021-08-20T13:20:06.679Z"
   },
   {
    "duration": 14,
    "start_time": "2021-08-20T13:20:07.248Z"
   },
   {
    "duration": 39,
    "start_time": "2021-08-20T13:21:27.607Z"
   },
   {
    "duration": 6,
    "start_time": "2021-08-20T13:21:28.231Z"
   },
   {
    "duration": 9,
    "start_time": "2021-08-20T13:21:30.415Z"
   },
   {
    "duration": 19,
    "start_time": "2021-08-20T13:21:32.760Z"
   },
   {
    "duration": 15,
    "start_time": "2021-08-20T13:21:39.823Z"
   },
   {
    "duration": 23,
    "start_time": "2021-08-20T13:21:59.850Z"
   },
   {
    "duration": 50,
    "start_time": "2021-08-20T13:24:43.951Z"
   },
   {
    "duration": 6,
    "start_time": "2021-08-20T13:24:45.958Z"
   },
   {
    "duration": 8,
    "start_time": "2021-08-20T13:24:47.999Z"
   },
   {
    "duration": 23,
    "start_time": "2021-08-20T13:24:50.430Z"
   },
   {
    "duration": 9,
    "start_time": "2021-08-20T13:25:48.637Z"
   },
   {
    "duration": 23,
    "start_time": "2021-08-20T13:25:49.101Z"
   },
   {
    "duration": 27,
    "start_time": "2021-08-20T13:26:00.086Z"
   },
   {
    "duration": 31,
    "start_time": "2021-08-20T13:26:17.184Z"
   },
   {
    "duration": 39,
    "start_time": "2021-08-20T13:27:11.605Z"
   },
   {
    "duration": 4,
    "start_time": "2021-08-20T13:27:12.940Z"
   },
   {
    "duration": 7,
    "start_time": "2021-08-20T13:27:13.397Z"
   },
   {
    "duration": 30,
    "start_time": "2021-08-20T13:27:13.999Z"
   },
   {
    "duration": 26,
    "start_time": "2021-08-20T13:27:20.526Z"
   },
   {
    "duration": 27,
    "start_time": "2021-08-20T13:27:48.365Z"
   },
   {
    "duration": 28,
    "start_time": "2021-08-20T13:28:01.037Z"
   },
   {
    "duration": 386,
    "start_time": "2021-08-20T13:28:10.805Z"
   },
   {
    "duration": 585,
    "start_time": "2021-08-20T13:28:15.084Z"
   },
   {
    "duration": 28,
    "start_time": "2021-08-20T13:28:23.901Z"
   },
   {
    "duration": 1538,
    "start_time": "2021-08-20T13:31:39.609Z"
   },
   {
    "duration": 605,
    "start_time": "2021-08-20T13:31:41.151Z"
   },
   {
    "duration": 37,
    "start_time": "2021-08-20T13:31:41.759Z"
   },
   {
    "duration": 80,
    "start_time": "2021-08-20T13:31:41.798Z"
   },
   {
    "duration": 284,
    "start_time": "2021-08-20T13:31:41.880Z"
   },
   {
    "duration": 180,
    "start_time": "2021-08-20T13:31:42.167Z"
   },
   {
    "duration": 153,
    "start_time": "2021-08-20T13:31:42.356Z"
   },
   {
    "duration": 105,
    "start_time": "2021-08-20T13:31:42.512Z"
   },
   {
    "duration": 59,
    "start_time": "2021-08-20T13:31:42.620Z"
   },
   {
    "duration": 51,
    "start_time": "2021-08-20T13:31:42.681Z"
   },
   {
    "duration": 125,
    "start_time": "2021-08-20T13:31:42.734Z"
   },
   {
    "duration": 5,
    "start_time": "2021-08-20T13:31:42.862Z"
   },
   {
    "duration": 42,
    "start_time": "2021-08-20T13:31:42.870Z"
   },
   {
    "duration": 6,
    "start_time": "2021-08-20T13:31:42.914Z"
   },
   {
    "duration": 60,
    "start_time": "2021-08-20T13:31:42.923Z"
   },
   {
    "duration": 15,
    "start_time": "2021-08-20T13:31:42.986Z"
   },
   {
    "duration": 79,
    "start_time": "2021-08-20T13:31:43.004Z"
   },
   {
    "duration": 27,
    "start_time": "2021-08-20T13:31:43.085Z"
   },
   {
    "duration": 841,
    "start_time": "2021-08-20T13:31:43.115Z"
   },
   {
    "duration": 662,
    "start_time": "2021-08-20T13:31:43.959Z"
   },
   {
    "duration": 851,
    "start_time": "2021-08-20T13:31:44.624Z"
   },
   {
    "duration": 4,
    "start_time": "2021-08-20T13:31:45.477Z"
   },
   {
    "duration": 21,
    "start_time": "2021-08-20T13:31:45.485Z"
   },
   {
    "duration": 14,
    "start_time": "2021-08-20T13:31:45.509Z"
   },
   {
    "duration": 32,
    "start_time": "2021-08-20T13:31:45.525Z"
   },
   {
    "duration": 21,
    "start_time": "2021-08-20T13:31:45.560Z"
   },
   {
    "duration": 14,
    "start_time": "2021-08-20T13:31:45.584Z"
   },
   {
    "duration": 7,
    "start_time": "2021-08-20T13:31:45.601Z"
   },
   {
    "duration": 21,
    "start_time": "2021-08-20T13:36:22.178Z"
   },
   {
    "duration": 49,
    "start_time": "2021-08-20T13:36:24.284Z"
   },
   {
    "duration": 27,
    "start_time": "2021-08-20T13:36:26.236Z"
   },
   {
    "duration": 45,
    "start_time": "2021-08-20T13:39:16.641Z"
   },
   {
    "duration": 28,
    "start_time": "2021-08-20T13:39:17.161Z"
   },
   {
    "duration": 46,
    "start_time": "2021-08-20T13:39:33.292Z"
   },
   {
    "duration": 28,
    "start_time": "2021-08-20T13:39:33.824Z"
   },
   {
    "duration": 61,
    "start_time": "2021-08-20T13:39:48.305Z"
   },
   {
    "duration": 27,
    "start_time": "2021-08-20T13:39:49.770Z"
   },
   {
    "duration": 49,
    "start_time": "2021-08-20T13:39:55.842Z"
   },
   {
    "duration": 28,
    "start_time": "2021-08-20T13:39:56.680Z"
   },
   {
    "duration": 46,
    "start_time": "2021-08-20T13:40:22.056Z"
   },
   {
    "duration": 26,
    "start_time": "2021-08-20T13:40:22.696Z"
   },
   {
    "duration": 20,
    "start_time": "2021-08-20T13:40:37.144Z"
   },
   {
    "duration": 45,
    "start_time": "2021-08-20T13:40:38.128Z"
   },
   {
    "duration": 28,
    "start_time": "2021-08-20T13:40:38.777Z"
   },
   {
    "duration": 1655,
    "start_time": "2021-08-20T13:41:58.371Z"
   },
   {
    "duration": 667,
    "start_time": "2021-08-20T13:42:00.029Z"
   },
   {
    "duration": 38,
    "start_time": "2021-08-20T13:42:00.700Z"
   },
   {
    "duration": 71,
    "start_time": "2021-08-20T13:42:00.741Z"
   },
   {
    "duration": 288,
    "start_time": "2021-08-20T13:42:00.814Z"
   },
   {
    "duration": 193,
    "start_time": "2021-08-20T13:42:01.106Z"
   },
   {
    "duration": 165,
    "start_time": "2021-08-20T13:42:01.302Z"
   },
   {
    "duration": 95,
    "start_time": "2021-08-20T13:42:01.469Z"
   },
   {
    "duration": 54,
    "start_time": "2021-08-20T13:42:01.569Z"
   },
   {
    "duration": 75,
    "start_time": "2021-08-20T13:42:01.626Z"
   },
   {
    "duration": 119,
    "start_time": "2021-08-20T13:42:01.704Z"
   },
   {
    "duration": 4,
    "start_time": "2021-08-20T13:42:01.825Z"
   },
   {
    "duration": 65,
    "start_time": "2021-08-20T13:42:01.831Z"
   },
   {
    "duration": 14,
    "start_time": "2021-08-20T13:42:01.898Z"
   },
   {
    "duration": 57,
    "start_time": "2021-08-20T13:42:01.915Z"
   },
   {
    "duration": 55,
    "start_time": "2021-08-20T13:42:01.975Z"
   },
   {
    "duration": 50,
    "start_time": "2021-08-20T13:42:02.032Z"
   },
   {
    "duration": 26,
    "start_time": "2021-08-20T13:42:02.085Z"
   },
   {
    "duration": 1187,
    "start_time": "2021-08-20T13:42:02.114Z"
   },
   {
    "duration": 653,
    "start_time": "2021-08-20T13:42:03.303Z"
   },
   {
    "duration": 745,
    "start_time": "2021-08-20T13:42:03.958Z"
   },
   {
    "duration": 4,
    "start_time": "2021-08-20T13:42:04.705Z"
   },
   {
    "duration": 33,
    "start_time": "2021-08-20T13:42:04.711Z"
   },
   {
    "duration": 22,
    "start_time": "2021-08-20T13:42:04.747Z"
   },
   {
    "duration": 13,
    "start_time": "2021-08-20T13:42:04.771Z"
   },
   {
    "duration": 24,
    "start_time": "2021-08-20T13:42:04.786Z"
   },
   {
    "duration": 19,
    "start_time": "2021-08-20T13:42:04.815Z"
   },
   {
    "duration": 23,
    "start_time": "2021-08-20T13:42:04.836Z"
   },
   {
    "duration": 540,
    "start_time": "2021-08-20T13:44:02.734Z"
   },
   {
    "duration": 27,
    "start_time": "2021-08-20T13:44:09.791Z"
   },
   {
    "duration": 7,
    "start_time": "2021-08-20T13:47:52.509Z"
   },
   {
    "duration": 7,
    "start_time": "2021-08-20T13:50:15.802Z"
   },
   {
    "duration": 6,
    "start_time": "2021-08-20T13:50:21.893Z"
   },
   {
    "duration": 6,
    "start_time": "2021-08-20T13:50:56.165Z"
   },
   {
    "duration": 3,
    "start_time": "2021-08-20T13:52:08.196Z"
   },
   {
    "duration": 5,
    "start_time": "2021-08-20T13:52:12.115Z"
   },
   {
    "duration": 6,
    "start_time": "2021-08-20T13:52:42.819Z"
   },
   {
    "duration": 134,
    "start_time": "2021-08-20T13:52:54.788Z"
   },
   {
    "duration": 5,
    "start_time": "2021-08-20T13:52:59.076Z"
   },
   {
    "duration": 46,
    "start_time": "2021-08-20T13:55:19.564Z"
   },
   {
    "duration": 30,
    "start_time": "2021-08-20T13:55:20.133Z"
   },
   {
    "duration": 1485,
    "start_time": "2021-08-20T13:56:52.437Z"
   },
   {
    "duration": 550,
    "start_time": "2021-08-20T13:56:53.925Z"
   },
   {
    "duration": 34,
    "start_time": "2021-08-20T13:56:54.478Z"
   },
   {
    "duration": 63,
    "start_time": "2021-08-20T13:56:54.515Z"
   },
   {
    "duration": 250,
    "start_time": "2021-08-20T13:56:54.580Z"
   },
   {
    "duration": 173,
    "start_time": "2021-08-20T13:56:54.833Z"
   },
   {
    "duration": 159,
    "start_time": "2021-08-20T13:56:55.009Z"
   },
   {
    "duration": 85,
    "start_time": "2021-08-20T13:56:55.172Z"
   },
   {
    "duration": 48,
    "start_time": "2021-08-20T13:56:55.261Z"
   },
   {
    "duration": 71,
    "start_time": "2021-08-20T13:56:55.311Z"
   },
   {
    "duration": 118,
    "start_time": "2021-08-20T13:56:55.385Z"
   },
   {
    "duration": 4,
    "start_time": "2021-08-20T13:56:55.505Z"
   },
   {
    "duration": 58,
    "start_time": "2021-08-20T13:56:55.511Z"
   },
   {
    "duration": 5,
    "start_time": "2021-08-20T13:56:55.571Z"
   },
   {
    "duration": 34,
    "start_time": "2021-08-20T13:56:55.578Z"
   },
   {
    "duration": 18,
    "start_time": "2021-08-20T13:56:55.614Z"
   },
   {
    "duration": 69,
    "start_time": "2021-08-20T13:56:55.634Z"
   },
   {
    "duration": 42,
    "start_time": "2021-08-20T13:56:55.706Z"
   },
   {
    "duration": 1027,
    "start_time": "2021-08-20T13:56:55.757Z"
   },
   {
    "duration": 641,
    "start_time": "2021-08-20T13:56:56.787Z"
   },
   {
    "duration": 720,
    "start_time": "2021-08-20T13:56:57.430Z"
   },
   {
    "duration": 3,
    "start_time": "2021-08-20T13:56:58.155Z"
   },
   {
    "duration": 30,
    "start_time": "2021-08-20T13:56:58.162Z"
   },
   {
    "duration": 20,
    "start_time": "2021-08-20T13:56:58.195Z"
   },
   {
    "duration": 14,
    "start_time": "2021-08-20T13:56:58.217Z"
   },
   {
    "duration": 30,
    "start_time": "2021-08-20T13:56:58.234Z"
   },
   {
    "duration": 23,
    "start_time": "2021-08-20T13:56:58.267Z"
   },
   {
    "duration": 7,
    "start_time": "2021-08-20T13:56:58.293Z"
   },
   {
    "duration": 68,
    "start_time": "2021-08-20T13:57:44.075Z"
   },
   {
    "duration": 59,
    "start_time": "2021-08-20T14:02:13.713Z"
   },
   {
    "duration": 17,
    "start_time": "2021-08-20T14:17:59.377Z"
   },
   {
    "duration": 64,
    "start_time": "2021-08-20T14:18:00.547Z"
   },
   {
    "duration": 16,
    "start_time": "2021-08-20T14:18:13.408Z"
   },
   {
    "duration": 59,
    "start_time": "2021-08-20T14:18:14.209Z"
   },
   {
    "duration": 70,
    "start_time": "2021-08-20T14:26:21.243Z"
   },
   {
    "duration": 21,
    "start_time": "2021-08-20T14:36:17.369Z"
   },
   {
    "duration": 69,
    "start_time": "2021-08-20T14:36:18.353Z"
   },
   {
    "duration": 15,
    "start_time": "2021-08-20T14:38:08.864Z"
   },
   {
    "duration": 67,
    "start_time": "2021-08-20T14:38:09.801Z"
   },
   {
    "duration": 1459,
    "start_time": "2021-08-20T15:23:21.951Z"
   },
   {
    "duration": 536,
    "start_time": "2021-08-20T15:23:23.413Z"
   },
   {
    "duration": 33,
    "start_time": "2021-08-20T15:23:23.952Z"
   },
   {
    "duration": 84,
    "start_time": "2021-08-20T15:23:23.988Z"
   },
   {
    "duration": 288,
    "start_time": "2021-08-20T15:23:24.075Z"
   },
   {
    "duration": 177,
    "start_time": "2021-08-20T15:23:24.365Z"
   },
   {
    "duration": 157,
    "start_time": "2021-08-20T15:23:24.544Z"
   },
   {
    "duration": 97,
    "start_time": "2021-08-20T15:23:24.705Z"
   },
   {
    "duration": 61,
    "start_time": "2021-08-20T15:23:24.806Z"
   },
   {
    "duration": 44,
    "start_time": "2021-08-20T15:23:24.869Z"
   },
   {
    "duration": 120,
    "start_time": "2021-08-20T15:23:24.915Z"
   },
   {
    "duration": 3,
    "start_time": "2021-08-20T15:23:25.038Z"
   },
   {
    "duration": 36,
    "start_time": "2021-08-20T15:23:25.055Z"
   },
   {
    "duration": 10,
    "start_time": "2021-08-20T15:23:25.093Z"
   },
   {
    "duration": 56,
    "start_time": "2021-08-20T15:23:25.106Z"
   },
   {
    "duration": 18,
    "start_time": "2021-08-20T15:23:25.164Z"
   },
   {
    "duration": 93,
    "start_time": "2021-08-20T15:23:25.185Z"
   },
   {
    "duration": 831,
    "start_time": "2021-08-20T15:23:25.281Z"
   },
   {
    "duration": 667,
    "start_time": "2021-08-20T15:23:26.114Z"
   },
   {
    "duration": 744,
    "start_time": "2021-08-20T15:23:26.783Z"
   },
   {
    "duration": 3,
    "start_time": "2021-08-20T15:23:27.529Z"
   },
   {
    "duration": 33,
    "start_time": "2021-08-20T15:23:27.535Z"
   },
   {
    "duration": 17,
    "start_time": "2021-08-20T15:23:27.573Z"
   },
   {
    "duration": 11,
    "start_time": "2021-08-20T15:23:27.593Z"
   },
   {
    "duration": 54,
    "start_time": "2021-08-20T15:23:27.606Z"
   },
   {
    "duration": 16,
    "start_time": "2021-08-20T15:23:27.663Z"
   },
   {
    "duration": 24,
    "start_time": "2021-08-20T15:23:27.681Z"
   },
   {
    "duration": 203,
    "start_time": "2021-08-20T18:57:41.547Z"
   },
   {
    "duration": 1073,
    "start_time": "2021-08-20T18:57:44.440Z"
   },
   {
    "duration": 462,
    "start_time": "2021-08-20T18:57:45.515Z"
   },
   {
    "duration": 23,
    "start_time": "2021-08-20T18:57:45.979Z"
   },
   {
    "duration": 34,
    "start_time": "2021-08-20T18:57:46.004Z"
   },
   {
    "duration": 210,
    "start_time": "2021-08-20T18:57:46.040Z"
   },
   {
    "duration": 122,
    "start_time": "2021-08-20T18:57:46.252Z"
   },
   {
    "duration": 109,
    "start_time": "2021-08-20T18:57:46.376Z"
   },
   {
    "duration": 52,
    "start_time": "2021-08-20T18:57:46.487Z"
   },
   {
    "duration": 50,
    "start_time": "2021-08-20T18:57:46.542Z"
   },
   {
    "duration": 34,
    "start_time": "2021-08-20T18:57:46.594Z"
   },
   {
    "duration": 79,
    "start_time": "2021-08-20T18:57:46.630Z"
   },
   {
    "duration": 5,
    "start_time": "2021-08-20T18:57:46.711Z"
   },
   {
    "duration": 4,
    "start_time": "2021-08-20T18:57:46.718Z"
   },
   {
    "duration": 25,
    "start_time": "2021-08-20T18:57:46.724Z"
   },
   {
    "duration": 4,
    "start_time": "2021-08-20T18:57:46.751Z"
   },
   {
    "duration": 40,
    "start_time": "2021-08-20T18:57:46.756Z"
   },
   {
    "duration": 9,
    "start_time": "2021-08-20T18:57:46.798Z"
   },
   {
    "duration": 40,
    "start_time": "2021-08-20T18:57:46.809Z"
   },
   {
    "duration": 554,
    "start_time": "2021-08-20T18:57:46.850Z"
   },
   {
    "duration": 440,
    "start_time": "2021-08-20T18:57:47.406Z"
   },
   {
    "duration": 524,
    "start_time": "2021-08-20T18:57:47.847Z"
   },
   {
    "duration": 3,
    "start_time": "2021-08-20T18:57:48.373Z"
   },
   {
    "duration": 11,
    "start_time": "2021-08-20T18:57:48.386Z"
   },
   {
    "duration": 11,
    "start_time": "2021-08-20T18:57:48.399Z"
   },
   {
    "duration": 4,
    "start_time": "2021-08-20T18:57:48.412Z"
   },
   {
    "duration": 12,
    "start_time": "2021-08-20T18:57:48.418Z"
   },
   {
    "duration": 11,
    "start_time": "2021-08-20T18:57:48.432Z"
   },
   {
    "duration": 41,
    "start_time": "2021-08-20T18:57:48.445Z"
   },
   {
    "duration": 7,
    "start_time": "2021-08-20T18:58:25.564Z"
   },
   {
    "duration": 6,
    "start_time": "2021-08-20T18:58:39.791Z"
   },
   {
    "duration": 330,
    "start_time": "2021-08-21T13:41:14.787Z"
   },
   {
    "duration": 1485,
    "start_time": "2021-08-21T13:41:27.768Z"
   },
   {
    "duration": 10,
    "start_time": "2021-08-21T13:41:55.377Z"
   },
   {
    "duration": 14,
    "start_time": "2021-08-21T13:42:13.881Z"
   },
   {
    "duration": 8,
    "start_time": "2021-08-21T13:42:30.800Z"
   },
   {
    "duration": 8,
    "start_time": "2021-08-21T13:42:55.353Z"
   },
   {
    "duration": 6,
    "start_time": "2021-08-21T13:43:12.480Z"
   },
   {
    "duration": 321,
    "start_time": "2021-08-21T13:43:57.657Z"
   },
   {
    "duration": 5,
    "start_time": "2021-08-21T13:44:10.551Z"
   },
   {
    "duration": 6,
    "start_time": "2021-08-21T13:44:14.911Z"
   },
   {
    "duration": 6,
    "start_time": "2021-08-21T13:44:31.150Z"
   },
   {
    "duration": 7,
    "start_time": "2021-08-21T13:44:41.968Z"
   },
   {
    "duration": 6,
    "start_time": "2021-08-21T13:44:48.127Z"
   },
   {
    "duration": 7,
    "start_time": "2021-08-21T13:45:12.256Z"
   },
   {
    "duration": 7,
    "start_time": "2021-08-21T13:45:28.615Z"
   },
   {
    "duration": 6,
    "start_time": "2021-08-21T13:45:41.215Z"
   },
   {
    "duration": 7,
    "start_time": "2021-08-21T13:45:48.799Z"
   },
   {
    "duration": 7,
    "start_time": "2021-08-21T13:45:53.854Z"
   },
   {
    "duration": 7,
    "start_time": "2021-08-21T13:46:04.052Z"
   },
   {
    "duration": 7,
    "start_time": "2021-08-21T13:46:07.672Z"
   },
   {
    "duration": 7,
    "start_time": "2021-08-21T13:46:12.775Z"
   },
   {
    "duration": 7,
    "start_time": "2021-08-21T13:46:18.815Z"
   },
   {
    "duration": 7,
    "start_time": "2021-08-21T13:46:24.198Z"
   },
   {
    "duration": 8,
    "start_time": "2021-08-21T13:46:34.422Z"
   },
   {
    "duration": 1505,
    "start_time": "2021-08-21T13:48:54.938Z"
   },
   {
    "duration": 542,
    "start_time": "2021-08-21T13:48:56.446Z"
   },
   {
    "duration": 39,
    "start_time": "2021-08-21T13:48:56.990Z"
   },
   {
    "duration": 61,
    "start_time": "2021-08-21T13:48:57.032Z"
   },
   {
    "duration": 284,
    "start_time": "2021-08-21T13:48:57.095Z"
   },
   {
    "duration": 175,
    "start_time": "2021-08-21T13:48:57.382Z"
   },
   {
    "duration": 145,
    "start_time": "2021-08-21T13:48:57.567Z"
   },
   {
    "duration": 88,
    "start_time": "2021-08-21T13:48:57.716Z"
   },
   {
    "duration": 67,
    "start_time": "2021-08-21T13:48:57.808Z"
   },
   {
    "duration": 49,
    "start_time": "2021-08-21T13:48:57.877Z"
   },
   {
    "duration": 117,
    "start_time": "2021-08-21T13:48:57.929Z"
   },
   {
    "duration": 18,
    "start_time": "2021-08-21T13:48:58.048Z"
   },
   {
    "duration": 9,
    "start_time": "2021-08-21T13:48:58.069Z"
   },
   {
    "duration": 41,
    "start_time": "2021-08-21T13:48:58.080Z"
   },
   {
    "duration": 5,
    "start_time": "2021-08-21T13:48:58.123Z"
   },
   {
    "duration": 54,
    "start_time": "2021-08-21T13:48:58.130Z"
   },
   {
    "duration": 16,
    "start_time": "2021-08-21T13:48:58.186Z"
   },
   {
    "duration": 94,
    "start_time": "2021-08-21T13:48:58.205Z"
   },
   {
    "duration": 860,
    "start_time": "2021-08-21T13:48:58.302Z"
   },
   {
    "duration": 659,
    "start_time": "2021-08-21T13:48:59.167Z"
   },
   {
    "duration": 780,
    "start_time": "2021-08-21T13:48:59.829Z"
   },
   {
    "duration": 3,
    "start_time": "2021-08-21T13:49:00.611Z"
   },
   {
    "duration": 20,
    "start_time": "2021-08-21T13:49:00.619Z"
   },
   {
    "duration": 34,
    "start_time": "2021-08-21T13:49:00.642Z"
   },
   {
    "duration": 8,
    "start_time": "2021-08-21T13:49:00.678Z"
   },
   {
    "duration": 22,
    "start_time": "2021-08-21T13:49:00.688Z"
   },
   {
    "duration": 18,
    "start_time": "2021-08-21T13:49:00.712Z"
   },
   {
    "duration": 38,
    "start_time": "2021-08-21T13:49:00.732Z"
   },
   {
    "duration": 1499,
    "start_time": "2021-08-21T13:49:59.749Z"
   },
   {
    "duration": 563,
    "start_time": "2021-08-21T13:50:01.250Z"
   },
   {
    "duration": 36,
    "start_time": "2021-08-21T13:50:01.816Z"
   },
   {
    "duration": 90,
    "start_time": "2021-08-21T13:50:01.855Z"
   },
   {
    "duration": 263,
    "start_time": "2021-08-21T13:50:01.947Z"
   },
   {
    "duration": 175,
    "start_time": "2021-08-21T13:50:02.212Z"
   },
   {
    "duration": 153,
    "start_time": "2021-08-21T13:50:02.391Z"
   },
   {
    "duration": 89,
    "start_time": "2021-08-21T13:50:02.548Z"
   },
   {
    "duration": 64,
    "start_time": "2021-08-21T13:50:02.641Z"
   },
   {
    "duration": 63,
    "start_time": "2021-08-21T13:50:02.707Z"
   },
   {
    "duration": 103,
    "start_time": "2021-08-21T13:50:02.772Z"
   },
   {
    "duration": 7,
    "start_time": "2021-08-21T13:50:02.878Z"
   },
   {
    "duration": 30,
    "start_time": "2021-08-21T13:50:02.888Z"
   },
   {
    "duration": 47,
    "start_time": "2021-08-21T13:50:02.921Z"
   },
   {
    "duration": 5,
    "start_time": "2021-08-21T13:50:02.970Z"
   },
   {
    "duration": 29,
    "start_time": "2021-08-21T13:50:02.978Z"
   },
   {
    "duration": 18,
    "start_time": "2021-08-21T13:50:03.010Z"
   },
   {
    "duration": 102,
    "start_time": "2021-08-21T13:50:03.030Z"
   },
   {
    "duration": 847,
    "start_time": "2021-08-21T13:50:03.135Z"
   },
   {
    "duration": 673,
    "start_time": "2021-08-21T13:50:03.984Z"
   },
   {
    "duration": 782,
    "start_time": "2021-08-21T13:50:04.667Z"
   },
   {
    "duration": 3,
    "start_time": "2021-08-21T13:50:05.451Z"
   },
   {
    "duration": 15,
    "start_time": "2021-08-21T13:50:05.470Z"
   },
   {
    "duration": 15,
    "start_time": "2021-08-21T13:50:05.488Z"
   },
   {
    "duration": 10,
    "start_time": "2021-08-21T13:50:05.506Z"
   },
   {
    "duration": 58,
    "start_time": "2021-08-21T13:50:05.519Z"
   },
   {
    "duration": 18,
    "start_time": "2021-08-21T13:50:05.580Z"
   },
   {
    "duration": 10,
    "start_time": "2021-08-21T13:50:05.601Z"
   },
   {
    "duration": 1429,
    "start_time": "2021-08-21T13:59:27.919Z"
   },
   {
    "duration": 554,
    "start_time": "2021-08-21T13:59:29.351Z"
   },
   {
    "duration": 36,
    "start_time": "2021-08-21T13:59:29.908Z"
   },
   {
    "duration": 66,
    "start_time": "2021-08-21T13:59:29.947Z"
   },
   {
    "duration": 288,
    "start_time": "2021-08-21T13:59:30.015Z"
   },
   {
    "duration": 175,
    "start_time": "2021-08-21T13:59:30.305Z"
   },
   {
    "duration": 153,
    "start_time": "2021-08-21T13:59:30.483Z"
   },
   {
    "duration": 96,
    "start_time": "2021-08-21T13:59:30.640Z"
   },
   {
    "duration": 64,
    "start_time": "2021-08-21T13:59:30.739Z"
   },
   {
    "duration": 64,
    "start_time": "2021-08-21T13:59:30.806Z"
   },
   {
    "duration": 104,
    "start_time": "2021-08-21T13:59:30.872Z"
   },
   {
    "duration": 8,
    "start_time": "2021-08-21T13:59:30.978Z"
   },
   {
    "duration": 11,
    "start_time": "2021-08-21T13:59:30.988Z"
   },
   {
    "duration": 43,
    "start_time": "2021-08-21T13:59:31.002Z"
   },
   {
    "duration": 6,
    "start_time": "2021-08-21T13:59:31.067Z"
   },
   {
    "duration": 36,
    "start_time": "2021-08-21T13:59:31.076Z"
   },
   {
    "duration": 18,
    "start_time": "2021-08-21T13:59:31.115Z"
   },
   {
    "duration": 98,
    "start_time": "2021-08-21T13:59:31.136Z"
   },
   {
    "duration": 1051,
    "start_time": "2021-08-21T13:59:31.237Z"
   },
   {
    "duration": 699,
    "start_time": "2021-08-21T13:59:32.291Z"
   },
   {
    "duration": 763,
    "start_time": "2021-08-21T13:59:32.992Z"
   },
   {
    "duration": 9,
    "start_time": "2021-08-21T13:59:33.758Z"
   },
   {
    "duration": 15,
    "start_time": "2021-08-21T13:59:33.772Z"
   },
   {
    "duration": 15,
    "start_time": "2021-08-21T13:59:33.790Z"
   },
   {
    "duration": 7,
    "start_time": "2021-08-21T13:59:33.807Z"
   },
   {
    "duration": 60,
    "start_time": "2021-08-21T13:59:33.816Z"
   },
   {
    "duration": 16,
    "start_time": "2021-08-21T13:59:33.879Z"
   },
   {
    "duration": 6,
    "start_time": "2021-08-21T13:59:33.898Z"
   },
   {
    "duration": 18,
    "start_time": "2021-08-21T13:59:51.723Z"
   },
   {
    "duration": 33,
    "start_time": "2021-08-21T14:00:10.451Z"
   },
   {
    "duration": 368,
    "start_time": "2021-08-21T14:00:43.994Z"
   },
   {
    "duration": 35,
    "start_time": "2021-08-21T14:00:52.761Z"
   },
   {
    "duration": 29,
    "start_time": "2021-08-21T14:02:41.872Z"
   },
   {
    "duration": 26,
    "start_time": "2021-08-21T14:02:51.008Z"
   },
   {
    "duration": 35,
    "start_time": "2021-08-21T14:02:56.880Z"
   },
   {
    "duration": 1441,
    "start_time": "2021-08-21T14:06:11.716Z"
   },
   {
    "duration": 559,
    "start_time": "2021-08-21T14:06:13.159Z"
   },
   {
    "duration": 33,
    "start_time": "2021-08-21T14:06:13.721Z"
   },
   {
    "duration": 58,
    "start_time": "2021-08-21T14:06:13.757Z"
   },
   {
    "duration": 284,
    "start_time": "2021-08-21T14:06:13.818Z"
   },
   {
    "duration": 173,
    "start_time": "2021-08-21T14:06:14.105Z"
   },
   {
    "duration": 157,
    "start_time": "2021-08-21T14:06:14.281Z"
   },
   {
    "duration": 102,
    "start_time": "2021-08-21T14:06:14.443Z"
   },
   {
    "duration": 67,
    "start_time": "2021-08-21T14:06:14.548Z"
   },
   {
    "duration": 68,
    "start_time": "2021-08-21T14:06:14.617Z"
   },
   {
    "duration": 185,
    "start_time": "2021-08-21T14:06:14.687Z"
   },
   {
    "duration": 8,
    "start_time": "2021-08-21T14:06:14.874Z"
   },
   {
    "duration": 8,
    "start_time": "2021-08-21T14:06:14.885Z"
   },
   {
    "duration": 75,
    "start_time": "2021-08-21T14:06:14.896Z"
   },
   {
    "duration": 5,
    "start_time": "2021-08-21T14:06:14.973Z"
   },
   {
    "duration": 30,
    "start_time": "2021-08-21T14:06:14.981Z"
   },
   {
    "duration": 18,
    "start_time": "2021-08-21T14:06:15.013Z"
   },
   {
    "duration": 89,
    "start_time": "2021-08-21T14:06:15.034Z"
   },
   {
    "duration": 918,
    "start_time": "2021-08-21T14:06:15.126Z"
   },
   {
    "duration": 645,
    "start_time": "2021-08-21T14:06:16.047Z"
   },
   {
    "duration": 768,
    "start_time": "2021-08-21T14:06:16.694Z"
   },
   {
    "duration": 3,
    "start_time": "2021-08-21T14:06:17.468Z"
   },
   {
    "duration": 37,
    "start_time": "2021-08-21T14:06:17.475Z"
   },
   {
    "duration": 23,
    "start_time": "2021-08-21T14:06:17.515Z"
   },
   {
    "duration": 6,
    "start_time": "2021-08-21T14:06:17.541Z"
   },
   {
    "duration": 28,
    "start_time": "2021-08-21T14:06:17.550Z"
   },
   {
    "duration": 15,
    "start_time": "2021-08-21T14:06:17.581Z"
   },
   {
    "duration": 7,
    "start_time": "2021-08-21T14:06:17.598Z"
   },
   {
    "duration": 1480,
    "start_time": "2021-08-21T14:21:47.971Z"
   },
   {
    "duration": 555,
    "start_time": "2021-08-21T14:21:49.454Z"
   },
   {
    "duration": 37,
    "start_time": "2021-08-21T14:21:50.013Z"
   },
   {
    "duration": 60,
    "start_time": "2021-08-21T14:21:50.054Z"
   },
   {
    "duration": 297,
    "start_time": "2021-08-21T14:21:50.117Z"
   },
   {
    "duration": 176,
    "start_time": "2021-08-21T14:21:50.416Z"
   },
   {
    "duration": 156,
    "start_time": "2021-08-21T14:21:50.594Z"
   },
   {
    "duration": 87,
    "start_time": "2021-08-21T14:21:50.766Z"
   },
   {
    "duration": 54,
    "start_time": "2021-08-21T14:21:50.867Z"
   },
   {
    "duration": 67,
    "start_time": "2021-08-21T14:21:50.923Z"
   },
   {
    "duration": 178,
    "start_time": "2021-08-21T14:21:50.992Z"
   },
   {
    "duration": 8,
    "start_time": "2021-08-21T14:21:51.172Z"
   },
   {
    "duration": 10,
    "start_time": "2021-08-21T14:21:51.182Z"
   },
   {
    "duration": 72,
    "start_time": "2021-08-21T14:21:51.195Z"
   },
   {
    "duration": 4,
    "start_time": "2021-08-21T14:21:51.270Z"
   },
   {
    "duration": 34,
    "start_time": "2021-08-21T14:21:51.277Z"
   },
   {
    "duration": 16,
    "start_time": "2021-08-21T14:21:51.314Z"
   },
   {
    "duration": 89,
    "start_time": "2021-08-21T14:21:51.332Z"
   },
   {
    "duration": 931,
    "start_time": "2021-08-21T14:21:51.423Z"
   },
   {
    "duration": 613,
    "start_time": "2021-08-21T14:21:52.356Z"
   },
   {
    "duration": 764,
    "start_time": "2021-08-21T14:21:52.972Z"
   },
   {
    "duration": 4,
    "start_time": "2021-08-21T14:21:53.739Z"
   },
   {
    "duration": 17,
    "start_time": "2021-08-21T14:21:53.766Z"
   },
   {
    "duration": 18,
    "start_time": "2021-08-21T14:21:53.786Z"
   },
   {
    "duration": 7,
    "start_time": "2021-08-21T14:21:53.807Z"
   },
   {
    "duration": 59,
    "start_time": "2021-08-21T14:21:53.817Z"
   },
   {
    "duration": 17,
    "start_time": "2021-08-21T14:21:53.880Z"
   },
   {
    "duration": 7,
    "start_time": "2021-08-21T14:21:53.899Z"
   },
   {
    "duration": 1622,
    "start_time": "2021-08-21T14:29:21.480Z"
   },
   {
    "duration": 577,
    "start_time": "2021-08-21T14:29:23.105Z"
   },
   {
    "duration": 37,
    "start_time": "2021-08-21T14:29:23.685Z"
   },
   {
    "duration": 66,
    "start_time": "2021-08-21T14:29:23.726Z"
   },
   {
    "duration": 283,
    "start_time": "2021-08-21T14:29:23.795Z"
   },
   {
    "duration": 268,
    "start_time": "2021-08-21T14:29:24.082Z"
   },
   {
    "duration": 161,
    "start_time": "2021-08-21T14:29:24.369Z"
   },
   {
    "duration": 106,
    "start_time": "2021-08-21T14:29:24.532Z"
   },
   {
    "duration": 65,
    "start_time": "2021-08-21T14:29:24.642Z"
   },
   {
    "duration": 74,
    "start_time": "2021-08-21T14:29:24.710Z"
   },
   {
    "duration": 199,
    "start_time": "2021-08-21T14:29:24.787Z"
   },
   {
    "duration": 9,
    "start_time": "2021-08-21T14:29:24.990Z"
   },
   {
    "duration": 5,
    "start_time": "2021-08-21T14:29:25.002Z"
   },
   {
    "duration": 89,
    "start_time": "2021-08-21T14:29:25.010Z"
   },
   {
    "duration": 6,
    "start_time": "2021-08-21T14:29:25.102Z"
   },
   {
    "duration": 27,
    "start_time": "2021-08-21T14:29:25.111Z"
   },
   {
    "duration": 36,
    "start_time": "2021-08-21T14:29:25.142Z"
   },
   {
    "duration": 86,
    "start_time": "2021-08-21T14:29:25.181Z"
   },
   {
    "duration": 926,
    "start_time": "2021-08-21T14:29:25.269Z"
   },
   {
    "duration": 647,
    "start_time": "2021-08-21T14:29:26.198Z"
   },
   {
    "duration": 788,
    "start_time": "2021-08-21T14:29:26.847Z"
   },
   {
    "duration": 3,
    "start_time": "2021-08-21T14:29:27.638Z"
   },
   {
    "duration": 33,
    "start_time": "2021-08-21T14:29:27.644Z"
   },
   {
    "duration": 15,
    "start_time": "2021-08-21T14:29:27.680Z"
   },
   {
    "duration": 8,
    "start_time": "2021-08-21T14:29:27.698Z"
   },
   {
    "duration": 20,
    "start_time": "2021-08-21T14:29:27.709Z"
   },
   {
    "duration": 16,
    "start_time": "2021-08-21T14:29:27.770Z"
   },
   {
    "duration": 6,
    "start_time": "2021-08-21T14:29:27.789Z"
   }
  ],
  "kernelspec": {
   "display_name": "Python 3 (ipykernel)",
   "language": "python",
   "name": "python3"
  },
  "language_info": {
   "codemirror_mode": {
    "name": "ipython",
    "version": 3
   },
   "file_extension": ".py",
   "mimetype": "text/x-python",
   "name": "python",
   "nbconvert_exporter": "python",
   "pygments_lexer": "ipython3",
   "version": "3.10.5"
  },
  "toc": {
   "base_numbering": 1,
   "nav_menu": {},
   "number_sections": true,
   "sideBar": true,
   "skip_h1_title": true,
   "title_cell": "Table of Contents",
   "title_sidebar": "Contents",
   "toc_cell": false,
   "toc_position": {
    "height": "calc(100% - 180px)",
    "left": "10px",
    "top": "150px",
    "width": "408.391px"
   },
   "toc_section_display": true,
   "toc_window_display": true
  }
 },
 "nbformat": 4,
 "nbformat_minor": 2
}
