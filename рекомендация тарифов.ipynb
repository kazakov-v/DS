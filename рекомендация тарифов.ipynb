{
 "cells": [
  {
   "cell_type": "code",
   "execution_count": 1,
   "metadata": {},
   "outputs": [],
   "source": [
    "import pandas as pd\n",
    "import numpy as np\n",
    "from sklearn.model_selection import train_test_split\n",
    "from sklearn.tree import DecisionTreeClassifier\n",
    "from sklearn.ensemble import RandomForestClassifier \n",
    "from sklearn.linear_model import LogisticRegression\n",
    "RND_ST = 16383\n",
    "from sklearn.metrics import accuracy_score\n",
    "from sklearn.metrics import balanced_accuracy_score\n",
    "from sklearn.metrics import f1_score\n",
    "from sklearn.metrics import confusion_matrix\n",
    "from sklearn.metrics import classification_report"
   ]
  },
  {
   "cell_type": "markdown",
   "metadata": {},
   "source": [
    "# Рекомендация тарифов"
   ]
  },
  {
   "cell_type": "markdown",
   "metadata": {},
   "source": [
    "В вашем распоряжении данные о поведении клиентов, которые уже перешли на эти тарифы (из проекта курса «Статистический анализ данных»). Нужно построить модель для задачи классификации, которая выберет подходящий тариф. Предобработка данных не понадобится — вы её уже сделали.\n",
    "\n",
    "Постройте модель с максимально большим значением *accuracy*. Чтобы сдать проект успешно, нужно довести долю правильных ответов по крайней мере до 0.75. Проверьте *accuracy* на тестовой выборке самостоятельно."
   ]
  },
  {
   "cell_type": "markdown",
   "metadata": {},
   "source": [
    "## Откройте и изучите файл"
   ]
  },
  {
   "cell_type": "code",
   "execution_count": 2,
   "metadata": {},
   "outputs": [
    {
     "name": "stdout",
     "output_type": "stream",
     "text": [
      "<class 'pandas.core.frame.DataFrame'>\n",
      "RangeIndex: 3214 entries, 0 to 3213\n",
      "Data columns (total 5 columns):\n",
      "calls       3214 non-null float64\n",
      "minutes     3214 non-null float64\n",
      "messages    3214 non-null float64\n",
      "mb_used     3214 non-null float64\n",
      "is_ultra    3214 non-null int64\n",
      "dtypes: float64(4), int64(1)\n",
      "memory usage: 125.7 KB\n"
     ]
    },
    {
     "data": {
      "text/html": [
       "<div>\n",
       "<style scoped>\n",
       "    .dataframe tbody tr th:only-of-type {\n",
       "        vertical-align: middle;\n",
       "    }\n",
       "\n",
       "    .dataframe tbody tr th {\n",
       "        vertical-align: top;\n",
       "    }\n",
       "\n",
       "    .dataframe thead th {\n",
       "        text-align: right;\n",
       "    }\n",
       "</style>\n",
       "<table border=\"1\" class=\"dataframe\">\n",
       "  <thead>\n",
       "    <tr style=\"text-align: right;\">\n",
       "      <th></th>\n",
       "      <th>calls</th>\n",
       "      <th>minutes</th>\n",
       "      <th>messages</th>\n",
       "      <th>mb_used</th>\n",
       "      <th>is_ultra</th>\n",
       "    </tr>\n",
       "  </thead>\n",
       "  <tbody>\n",
       "    <tr>\n",
       "      <td>0</td>\n",
       "      <td>40.0</td>\n",
       "      <td>311.90</td>\n",
       "      <td>83.0</td>\n",
       "      <td>19915.42</td>\n",
       "      <td>0</td>\n",
       "    </tr>\n",
       "    <tr>\n",
       "      <td>1</td>\n",
       "      <td>85.0</td>\n",
       "      <td>516.75</td>\n",
       "      <td>56.0</td>\n",
       "      <td>22696.96</td>\n",
       "      <td>0</td>\n",
       "    </tr>\n",
       "    <tr>\n",
       "      <td>2</td>\n",
       "      <td>77.0</td>\n",
       "      <td>467.66</td>\n",
       "      <td>86.0</td>\n",
       "      <td>21060.45</td>\n",
       "      <td>0</td>\n",
       "    </tr>\n",
       "    <tr>\n",
       "      <td>3</td>\n",
       "      <td>106.0</td>\n",
       "      <td>745.53</td>\n",
       "      <td>81.0</td>\n",
       "      <td>8437.39</td>\n",
       "      <td>1</td>\n",
       "    </tr>\n",
       "    <tr>\n",
       "      <td>4</td>\n",
       "      <td>66.0</td>\n",
       "      <td>418.74</td>\n",
       "      <td>1.0</td>\n",
       "      <td>14502.75</td>\n",
       "      <td>0</td>\n",
       "    </tr>\n",
       "    <tr>\n",
       "      <td>...</td>\n",
       "      <td>...</td>\n",
       "      <td>...</td>\n",
       "      <td>...</td>\n",
       "      <td>...</td>\n",
       "      <td>...</td>\n",
       "    </tr>\n",
       "    <tr>\n",
       "      <td>3209</td>\n",
       "      <td>122.0</td>\n",
       "      <td>910.98</td>\n",
       "      <td>20.0</td>\n",
       "      <td>35124.90</td>\n",
       "      <td>1</td>\n",
       "    </tr>\n",
       "    <tr>\n",
       "      <td>3210</td>\n",
       "      <td>25.0</td>\n",
       "      <td>190.36</td>\n",
       "      <td>0.0</td>\n",
       "      <td>3275.61</td>\n",
       "      <td>0</td>\n",
       "    </tr>\n",
       "    <tr>\n",
       "      <td>3211</td>\n",
       "      <td>97.0</td>\n",
       "      <td>634.44</td>\n",
       "      <td>70.0</td>\n",
       "      <td>13974.06</td>\n",
       "      <td>0</td>\n",
       "    </tr>\n",
       "    <tr>\n",
       "      <td>3212</td>\n",
       "      <td>64.0</td>\n",
       "      <td>462.32</td>\n",
       "      <td>90.0</td>\n",
       "      <td>31239.78</td>\n",
       "      <td>0</td>\n",
       "    </tr>\n",
       "    <tr>\n",
       "      <td>3213</td>\n",
       "      <td>80.0</td>\n",
       "      <td>566.09</td>\n",
       "      <td>6.0</td>\n",
       "      <td>29480.52</td>\n",
       "      <td>1</td>\n",
       "    </tr>\n",
       "  </tbody>\n",
       "</table>\n",
       "<p>3214 rows × 5 columns</p>\n",
       "</div>"
      ],
      "text/plain": [
       "      calls  minutes  messages   mb_used  is_ultra\n",
       "0      40.0   311.90      83.0  19915.42         0\n",
       "1      85.0   516.75      56.0  22696.96         0\n",
       "2      77.0   467.66      86.0  21060.45         0\n",
       "3     106.0   745.53      81.0   8437.39         1\n",
       "4      66.0   418.74       1.0  14502.75         0\n",
       "...     ...      ...       ...       ...       ...\n",
       "3209  122.0   910.98      20.0  35124.90         1\n",
       "3210   25.0   190.36       0.0   3275.61         0\n",
       "3211   97.0   634.44      70.0  13974.06         0\n",
       "3212   64.0   462.32      90.0  31239.78         0\n",
       "3213   80.0   566.09       6.0  29480.52         1\n",
       "\n",
       "[3214 rows x 5 columns]"
      ]
     },
     "execution_count": 2,
     "metadata": {},
     "output_type": "execute_result"
    }
   ],
   "source": [
    "df = pd.read_csv('/datasets/users_behavior.csv')\n",
    "df.info()\n",
    "df"
   ]
  },
  {
   "cell_type": "code",
   "execution_count": 3,
   "metadata": {},
   "outputs": [
    {
     "data": {
      "text/plain": [
       "0"
      ]
     },
     "execution_count": 3,
     "metadata": {},
     "output_type": "execute_result"
    }
   ],
   "source": [
    "df.duplicated().sum()"
   ]
  },
  {
   "cell_type": "code",
   "execution_count": 4,
   "metadata": {},
   "outputs": [
    {
     "data": {
      "text/plain": [
       "0    2229\n",
       "1     985\n",
       "Name: is_ultra, dtype: int64"
      ]
     },
     "execution_count": 4,
     "metadata": {},
     "output_type": "execute_result"
    }
   ],
   "source": [
    "df.is_ultra.value_counts()"
   ]
  },
  {
   "cell_type": "code",
   "execution_count": 5,
   "metadata": {},
   "outputs": [
    {
     "data": {
      "text/plain": [
       "0.30647168637212197"
      ]
     },
     "execution_count": 5,
     "metadata": {},
     "output_type": "execute_result"
    }
   ],
   "source": [
    "df.is_ultra.mean()"
   ]
  },
  {
   "cell_type": "markdown",
   "metadata": {},
   "source": [
    "### Вывод:"
   ]
  },
  {
   "cell_type": "markdown",
   "metadata": {},
   "source": [
    "Данные готовы для дальнейшей работы.  \n",
    "Столбец 'is_ultra' содержит несбалансированные данные: около 30% имеют значение 1, остальные - 0\n",
    "----"
   ]
  },
  {
   "cell_type": "markdown",
   "metadata": {},
   "source": [
    "## Разбейте данные на выборки"
   ]
  },
  {
   "cell_type": "code",
   "execution_count": 6,
   "metadata": {},
   "outputs": [],
   "source": [
    "features = df.drop('is_ultra', axis=1)\n",
    "target = df.is_ultra\n",
    "\n",
    "train_features, other_features, train_target, other_target = \\\n",
    "    train_test_split(features, target, \n",
    "                     test_size=0.40, \n",
    "                     random_state=RND_ST, \n",
    "                     stratify=target)\n",
    "\n",
    "valid_features, test_features, valid_target, test_target = \\\n",
    "    train_test_split(other_features, other_target, \n",
    "                     test_size=0.50, \n",
    "                     random_state=RND_ST, \n",
    "                     stratify=other_target)\n"
   ]
  },
  {
   "cell_type": "code",
   "execution_count": 7,
   "metadata": {},
   "outputs": [
    {
     "name": "stdout",
     "output_type": "stream",
     "text": [
      "train_target: 1928 0.3065352697095436\n",
      "valid_target: 643 0.30637636080870917\n",
      " test_target: 643 0.30637636080870917\n"
     ]
    }
   ],
   "source": [
    "print('train_target:',train_target.count(), train_target.mean())\n",
    "print('valid_target:',valid_target.count(), valid_target.mean())\n",
    "print(' test_target:',test_target.count(), test_target.mean())"
   ]
  },
  {
   "cell_type": "markdown",
   "metadata": {},
   "source": [
    "### Вывод:"
   ]
  },
  {
   "cell_type": "markdown",
   "metadata": {},
   "source": [
    "Исходные данные разбиты на 3 части:  \n",
    "- 60% выборка для обучения моделей\n",
    "- 20% выборка для валидации\n",
    "- 20% выборка для окончательного тестирования моделей  \n",
    "\n",
    "Разделение выполнено так, чтобы баланс целевого параметра ('is_ultra') сохранился во всех выборках  \n",
    "\n",
    "---\n"
   ]
  },
  {
   "cell_type": "markdown",
   "metadata": {},
   "source": [
    "## Исследуйте модели"
   ]
  },
  {
   "cell_type": "markdown",
   "metadata": {},
   "source": [
    "### Дерево решений:"
   ]
  },
  {
   "cell_type": "code",
   "execution_count": 8,
   "metadata": {},
   "outputs": [
    {
     "name": "stdout",
     "output_type": "stream",
     "text": [
      "Accuracy наилучшей модели на валидационной выборке: 0.7993779160186625\n",
      "Accuracy наихудшей модели на валидационной выборке: 0.7371695178849145\n",
      "Лучшая модель:\n",
      "DecisionTreeClassifier(class_weight='balanced', criterion='gini', max_depth=3,\n",
      "                       max_features=None, max_leaf_nodes=None,\n",
      "                       min_impurity_decrease=0.0, min_impurity_split=None,\n",
      "                       min_samples_leaf=1, min_samples_split=2,\n",
      "                       min_weight_fraction_leaf=0.0, presort=False,\n",
      "                       random_state=16383, splitter='best')\n"
     ]
    }
   ],
   "source": [
    "best_model = None\n",
    "best_result = 0\n",
    "worst_result = 1\n",
    "for depth in range(2, 9):\n",
    "    for prm in range(1,5):\n",
    "        model = DecisionTreeClassifier(random_state=RND_ST,\n",
    "                                       class_weight='balanced',\n",
    "                                       min_samples_leaf=prm,\n",
    "                                       max_depth=depth)\n",
    "        model.fit(train_features, train_target) \n",
    "        result = model.score(valid_features, valid_target)\n",
    "        if result > best_result:\n",
    "            best_model = model \n",
    "            best_result = result \n",
    "        if result < worst_result: worst_result=result\n",
    "\n",
    "print(\"Accuracy наилучшей модели на валидационной выборке:\", best_result)\n",
    "print(\"Accuracy наихудшей модели на валидационной выборке:\", worst_result)\n",
    "print(\"Лучшая модель:\")\n",
    "print(best_model)\n",
    "model_DT = best_model"
   ]
  },
  {
   "cell_type": "markdown",
   "metadata": {},
   "source": [
    "### Случайный лес:"
   ]
  },
  {
   "cell_type": "code",
   "execution_count": 9,
   "metadata": {},
   "outputs": [
    {
     "name": "stdout",
     "output_type": "stream",
     "text": [
      "Accuracy наилучшей модели на валидационной выборке: 0.8227060653188181\n",
      "Accuracy наихудшей модели на валидационной выборке: 0.7091757387247278\n",
      "Лучшая модель:\n",
      "RandomForestClassifier(bootstrap=True, class_weight='balanced',\n",
      "                       criterion='gini', max_depth=6, max_features='auto',\n",
      "                       max_leaf_nodes=None, min_impurity_decrease=0.0,\n",
      "                       min_impurity_split=None, min_samples_leaf=1,\n",
      "                       min_samples_split=3, min_weight_fraction_leaf=0.0,\n",
      "                       n_estimators=8, n_jobs=None, oob_score=False,\n",
      "                       random_state=16383, verbose=0, warm_start=False)\n"
     ]
    }
   ],
   "source": [
    "best_model = None\n",
    "best_result = 0\n",
    "worst_result = 1\n",
    "for est in range(1, 15):\n",
    "    for depth in range(2, 11):\n",
    "        for prm in range(2,5):\n",
    "            model = RandomForestClassifier(random_state=RND_ST,\n",
    "                                           class_weight='balanced',\n",
    "                                           max_depth=depth,\n",
    "                                           min_samples_split=prm,\n",
    "                                           n_estimators=est)     \n",
    "            model.fit(train_features, train_target) \n",
    "            result = model.score(valid_features, valid_target) \n",
    "            if result > best_result:\n",
    "                best_model = model \n",
    "                best_result = result \n",
    "            if result < worst_result: worst_result=result\n",
    "\n",
    "print(\"Accuracy наилучшей модели на валидационной выборке:\", best_result)\n",
    "print(\"Accuracy наихудшей модели на валидационной выборке:\", worst_result)\n",
    "print(\"Лучшая модель:\")\n",
    "print(best_model)\n",
    "model_RF = best_model"
   ]
  },
  {
   "cell_type": "markdown",
   "metadata": {},
   "source": [
    "### Логистическая регрессия:"
   ]
  },
  {
   "cell_type": "code",
   "execution_count": 10,
   "metadata": {},
   "outputs": [
    {
     "name": "stdout",
     "output_type": "stream",
     "text": [
      "Accuracy наилучшей модели на валидационной выборке: 0.7371695178849145\n",
      "Accuracy наихудшей модели на валидационной выборке: 0.6951788491446346\n",
      "Лучшая модель:\n",
      "LogisticRegression(C=1.2, class_weight=None, dual=False, fit_intercept=True,\n",
      "                   intercept_scaling=1.06, l1_ratio=None, max_iter=100,\n",
      "                   multi_class='warn', n_jobs=None, penalty='l2',\n",
      "                   random_state=16383, solver='liblinear', tol=0.0001,\n",
      "                   verbose=0, warm_start=False)\n"
     ]
    }
   ],
   "source": [
    "best_model = None\n",
    "best_result = 0\n",
    "worst_result = 1\n",
    "for prm_C in range(10, 150, 5):\n",
    "    for prm_is in range(90, 110):\n",
    "        model = LogisticRegression(random_state=RND_ST,\n",
    "                                   #class_weight='balanced',\n",
    "                                   solver='liblinear', \n",
    "                                   intercept_scaling=prm_is/100,\n",
    "                                   fit_intercept=True,\n",
    "                                   C=prm_C/100,\n",
    "                                   penalty='l2')     \n",
    "        model.fit(train_features, train_target) \n",
    "        result = model.score(valid_features, valid_target) \n",
    "        if result > best_result:\n",
    "            best_model = model \n",
    "            best_result = result\n",
    "        if result < worst_result: worst_result=result\n",
    "\n",
    "print(\"Accuracy наилучшей модели на валидационной выборке:\", best_result)\n",
    "print(\"Accuracy наихудшей модели на валидационной выборке:\", worst_result)\n",
    "print(\"Лучшая модель:\")\n",
    "print(best_model)\n",
    "model_LR = best_model"
   ]
  },
  {
   "cell_type": "markdown",
   "metadata": {},
   "source": [
    "### Вывод:"
   ]
  },
  {
   "cell_type": "markdown",
   "metadata": {},
   "source": [
    "Рассмотрены 3 модели:\n",
    "- Дерево решений\n",
    "- Случайный лес\n",
    "- Логистическая регрессия  \n",
    "\n",
    "Выполнен подбор гиперпараметров для всех моделей так,  \n",
    "чтобы на валидационной выборке получить максимальную точность.\n",
    "\n",
    "---"
   ]
  },
  {
   "cell_type": "markdown",
   "metadata": {},
   "source": [
    "## Проверьте модель на тестовой выборке"
   ]
  },
  {
   "cell_type": "code",
   "execution_count": 11,
   "metadata": {
    "scrolled": true
   },
   "outputs": [
    {
     "name": "stdout",
     "output_type": "stream",
     "text": [
      "DecisionTreeClassifier(class_weight='balanced', criterion='gini', max_depth=3,\n",
      "                       max_features=None, max_leaf_nodes=None,\n",
      "                       min_impurity_decrease=0.0, min_impurity_split=None,\n",
      "                       min_samples_leaf=1, min_samples_split=2,\n",
      "                       min_weight_fraction_leaf=0.0, presort=False,\n",
      "                       random_state=16383, splitter='best')\n"
     ]
    },
    {
     "data": {
      "text/plain": [
       "0.7900466562986003"
      ]
     },
     "execution_count": 11,
     "metadata": {},
     "output_type": "execute_result"
    }
   ],
   "source": [
    "# дерево решений:\n",
    "print(model_DT)\n",
    "model_DT.score(test_features, test_target)"
   ]
  },
  {
   "cell_type": "code",
   "execution_count": 12,
   "metadata": {
    "scrolled": true
   },
   "outputs": [
    {
     "name": "stdout",
     "output_type": "stream",
     "text": [
      "RandomForestClassifier(bootstrap=True, class_weight='balanced',\n",
      "                       criterion='gini', max_depth=6, max_features='auto',\n",
      "                       max_leaf_nodes=None, min_impurity_decrease=0.0,\n",
      "                       min_impurity_split=None, min_samples_leaf=1,\n",
      "                       min_samples_split=3, min_weight_fraction_leaf=0.0,\n",
      "                       n_estimators=8, n_jobs=None, oob_score=False,\n",
      "                       random_state=16383, verbose=0, warm_start=False)\n"
     ]
    },
    {
     "data": {
      "text/plain": [
       "0.7869362363919129"
      ]
     },
     "execution_count": 12,
     "metadata": {},
     "output_type": "execute_result"
    }
   ],
   "source": [
    "# случайный лес:\n",
    "print(model_RF)\n",
    "model_RF.score(test_features, test_target)"
   ]
  },
  {
   "cell_type": "code",
   "execution_count": 13,
   "metadata": {},
   "outputs": [
    {
     "name": "stdout",
     "output_type": "stream",
     "text": [
      "LogisticRegression(C=1.2, class_weight=None, dual=False, fit_intercept=True,\n",
      "                   intercept_scaling=1.06, l1_ratio=None, max_iter=100,\n",
      "                   multi_class='warn', n_jobs=None, penalty='l2',\n",
      "                   random_state=16383, solver='liblinear', tol=0.0001,\n",
      "                   verbose=0, warm_start=False)\n"
     ]
    },
    {
     "data": {
      "text/plain": [
       "0.7402799377916018"
      ]
     },
     "execution_count": 13,
     "metadata": {},
     "output_type": "execute_result"
    }
   ],
   "source": [
    "# логистическая регрессия:\n",
    "print(model_LR)\n",
    "model_LR.score(test_features, test_target)"
   ]
  },
  {
   "cell_type": "markdown",
   "metadata": {},
   "source": [
    "### Вывод:"
   ]
  },
  {
   "cell_type": "markdown",
   "metadata": {},
   "source": [
    "На тестовой выборке две модели (дерево решений и случайный лес)  \n",
    "показали точность предсказаний около 79%.  \n",
    "Модель логистическая регрессия показала только 74% точность.   \n",
    "\n",
    "---\n"
   ]
  },
  {
   "cell_type": "markdown",
   "metadata": {},
   "source": [
    "## (бонус) Проверьте модели на адекватность"
   ]
  },
  {
   "cell_type": "markdown",
   "metadata": {},
   "source": [
    "Целевой параметр не сбалансирован и содержит около 70% нулевых значений,  \n",
    "и, например, если модель всегда будет предсказывать значение 0,  \n",
    "то она будет иметь точность около 70%.  \n",
    "\n",
    "Рассмотрим другие метрики:"
   ]
  },
  {
   "cell_type": "code",
   "execution_count": 14,
   "metadata": {},
   "outputs": [],
   "source": [
    "def calc_metrics(model):\n",
    "    trg = test_target; prd = model.predict(test_features)\n",
    "    print('\\nconfusion_matrix:\\n\\n', confusion_matrix(trg, prd))\n",
    "    print('\\nclassification_report:\\n\\n', classification_report(trg, prd))\n",
    "    print('\\nbalanced_accuracy:', round(balanced_accuracy_score(trg, prd),2))\n",
    "    print('-------------------------------------------------------\\n')"
   ]
  },
  {
   "cell_type": "code",
   "execution_count": 15,
   "metadata": {},
   "outputs": [
    {
     "name": "stdout",
     "output_type": "stream",
     "text": [
      "Дерево решений:\n",
      "\n",
      "confusion_matrix:\n",
      "\n",
      " [[412  34]\n",
      " [101  96]]\n",
      "\n",
      "classification_report:\n",
      "\n",
      "               precision    recall  f1-score   support\n",
      "\n",
      "           0       0.80      0.92      0.86       446\n",
      "           1       0.74      0.49      0.59       197\n",
      "\n",
      "    accuracy                           0.79       643\n",
      "   macro avg       0.77      0.71      0.72       643\n",
      "weighted avg       0.78      0.79      0.78       643\n",
      "\n",
      "\n",
      "balanced_accuracy: 0.71\n",
      "-------------------------------------------------------\n",
      "\n",
      "Случайный лес:\n",
      "\n",
      "confusion_matrix:\n",
      "\n",
      " [[388  58]\n",
      " [ 79 118]]\n",
      "\n",
      "classification_report:\n",
      "\n",
      "               precision    recall  f1-score   support\n",
      "\n",
      "           0       0.83      0.87      0.85       446\n",
      "           1       0.67      0.60      0.63       197\n",
      "\n",
      "    accuracy                           0.79       643\n",
      "   macro avg       0.75      0.73      0.74       643\n",
      "weighted avg       0.78      0.79      0.78       643\n",
      "\n",
      "\n",
      "balanced_accuracy: 0.73\n",
      "-------------------------------------------------------\n",
      "\n",
      "Логистическая регрессия:\n",
      "\n",
      "confusion_matrix:\n",
      "\n",
      " [[441   5]\n",
      " [162  35]]\n",
      "\n",
      "classification_report:\n",
      "\n",
      "               precision    recall  f1-score   support\n",
      "\n",
      "           0       0.73      0.99      0.84       446\n",
      "           1       0.88      0.18      0.30       197\n",
      "\n",
      "    accuracy                           0.74       643\n",
      "   macro avg       0.80      0.58      0.57       643\n",
      "weighted avg       0.78      0.74      0.67       643\n",
      "\n",
      "\n",
      "balanced_accuracy: 0.58\n",
      "-------------------------------------------------------\n",
      "\n"
     ]
    }
   ],
   "source": [
    "print('Дерево решений:'); calc_metrics(model_DT)\n",
    "print('Случайный лес:'); calc_metrics(model_RF)\n",
    "print('Логистическая регрессия:'); calc_metrics(model_LR)"
   ]
  },
  {
   "cell_type": "markdown",
   "metadata": {},
   "source": [
    "### Вывод:"
   ]
  },
  {
   "cell_type": "markdown",
   "metadata": {},
   "source": [
    "Все три модели неплохо классифицируют значение 0,  \n",
    "но значение 1 удовлетворительно предсказывают только случайный лес и дерево решений.  \n",
    "Кроме того, логистическая регрессия не достигает требуемой (0.75) точности.\n",
    "\n",
    "---"
   ]
  },
  {
   "cell_type": "markdown",
   "metadata": {},
   "source": [
    "## Общий вывод:"
   ]
  },
  {
   "cell_type": "markdown",
   "metadata": {},
   "source": [
    "__Наиболее подходящей моделью для прогнозироввания тарифа является случайный лес с параметрами:__ \n",
    "```\n",
    "RandomForestClassifier(bootstrap=True, class_weight='balanced',\n",
    "                       criterion='gini', max_depth=6, max_features='auto',\n",
    "                       max_leaf_nodes=None, min_impurity_decrease=0.0,\n",
    "                       min_impurity_split=None, min_samples_leaf=1,\n",
    "                       min_samples_split=3, min_weight_fraction_leaf=0.0,\n",
    "                       n_estimators=8, n_jobs=None, oob_score=False,\n",
    "                       random_state=16383, verbose=0, warm_start=False)\n",
    "```"
   ]
  },
  {
   "cell_type": "markdown",
   "metadata": {},
   "source": [
    "## Чек-лист готовности проекта"
   ]
  },
  {
   "cell_type": "markdown",
   "metadata": {},
   "source": [
    "Поставьте 'x' в выполненных пунктах. Далее нажмите Shift+Enter."
   ]
  },
  {
   "cell_type": "markdown",
   "metadata": {},
   "source": [
    "- [x] Jupyter Notebook открыт\n",
    "- [x] Весь код исполняется без ошибок\n",
    "- [x] Ячейки с кодом расположены в порядке исполнения\n",
    "- [x] Выполнено задание 1: данные загружены и изучены\n",
    "- [x] Выполнено задание 2: данные разбиты на три выборки\n",
    "- [x] Выполнено задание 3: проведено исследование моделей\n",
    "    - [x] Рассмотрено больше одной модели\n",
    "    - [x] Рассмотрено хотя бы 3 значения гипепараметров для какой-нибудь модели\n",
    "    - [x] Написаны выводы по результатам исследования\n",
    "- [x] Выполнено задание 3: Проведено тестирование\n",
    "- [x] Удалось достичь accuracy не меньше 0.75\n"
   ]
  },
  {
   "cell_type": "code",
   "execution_count": null,
   "metadata": {},
   "outputs": [],
   "source": []
  }
 ],
 "metadata": {
  "ExecuteTimeLog": [
   {
    "duration": 703,
    "start_time": "2021-09-14T09:39:48.104Z"
   },
   {
    "duration": 23,
    "start_time": "2021-09-14T09:39:50.802Z"
   },
   {
    "duration": 42,
    "start_time": "2021-09-14T09:39:54.473Z"
   },
   {
    "duration": 3175,
    "start_time": "2021-09-14T09:40:58.099Z"
   },
   {
    "duration": 645,
    "start_time": "2021-09-14T09:42:35.856Z"
   },
   {
    "duration": 358,
    "start_time": "2021-09-14T09:42:44.801Z"
   },
   {
    "duration": 8,
    "start_time": "2021-09-14T09:42:57.232Z"
   },
   {
    "duration": 453,
    "start_time": "2021-09-14T09:43:12.503Z"
   },
   {
    "duration": 9,
    "start_time": "2021-09-14T09:43:19.248Z"
   },
   {
    "duration": 599,
    "start_time": "2021-09-14T09:50:14.972Z"
   },
   {
    "duration": 12,
    "start_time": "2021-09-14T10:02:45.473Z"
   },
   {
    "duration": 16,
    "start_time": "2021-09-14T10:03:09.607Z"
   },
   {
    "duration": 14,
    "start_time": "2021-09-14T10:03:21.630Z"
   },
   {
    "duration": 7,
    "start_time": "2021-09-14T10:03:33.719Z"
   },
   {
    "duration": 7,
    "start_time": "2021-09-14T10:03:42.166Z"
   },
   {
    "duration": 5,
    "start_time": "2021-09-14T10:03:51.430Z"
   },
   {
    "duration": 6,
    "start_time": "2021-09-14T10:04:00.102Z"
   },
   {
    "duration": 9,
    "start_time": "2021-09-14T10:04:42.278Z"
   },
   {
    "duration": 6,
    "start_time": "2021-09-14T10:04:43.501Z"
   },
   {
    "duration": 6,
    "start_time": "2021-09-14T10:04:46.933Z"
   },
   {
    "duration": 6,
    "start_time": "2021-09-14T10:04:56.206Z"
   },
   {
    "duration": 6,
    "start_time": "2021-09-14T10:04:59.070Z"
   },
   {
    "duration": 11,
    "start_time": "2021-09-14T10:05:05.821Z"
   },
   {
    "duration": 7,
    "start_time": "2021-09-14T10:05:06.637Z"
   },
   {
    "duration": 8,
    "start_time": "2021-09-14T10:05:15.158Z"
   },
   {
    "duration": 399,
    "start_time": "2021-09-14T10:07:02.775Z"
   },
   {
    "duration": 14,
    "start_time": "2021-09-14T10:07:31.799Z"
   },
   {
    "duration": 6,
    "start_time": "2021-09-14T10:07:52.713Z"
   },
   {
    "duration": 6,
    "start_time": "2021-09-14T10:08:04.307Z"
   },
   {
    "duration": 7,
    "start_time": "2021-09-14T10:08:18.876Z"
   },
   {
    "duration": 11,
    "start_time": "2021-09-14T10:08:25.828Z"
   },
   {
    "duration": 6,
    "start_time": "2021-09-14T10:11:00.674Z"
   },
   {
    "duration": 6,
    "start_time": "2021-09-14T10:11:53.819Z"
   },
   {
    "duration": 9,
    "start_time": "2021-09-14T10:12:46.691Z"
   },
   {
    "duration": 11,
    "start_time": "2021-09-14T10:12:57.458Z"
   },
   {
    "duration": 47,
    "start_time": "2021-09-14T10:22:35.028Z"
   },
   {
    "duration": 4,
    "start_time": "2021-09-14T10:28:31.610Z"
   },
   {
    "duration": 6,
    "start_time": "2021-09-14T10:35:31.351Z"
   },
   {
    "duration": 7,
    "start_time": "2021-09-14T10:35:37.663Z"
   },
   {
    "duration": 18,
    "start_time": "2021-09-14T11:05:32.343Z"
   },
   {
    "duration": 7,
    "start_time": "2021-09-14T11:07:41.480Z"
   },
   {
    "duration": 10,
    "start_time": "2021-09-14T11:08:10.845Z"
   },
   {
    "duration": 9,
    "start_time": "2021-09-14T11:08:30.151Z"
   },
   {
    "duration": 8,
    "start_time": "2021-09-14T11:08:51.951Z"
   },
   {
    "duration": 18,
    "start_time": "2021-09-14T11:10:42.746Z"
   },
   {
    "duration": 7,
    "start_time": "2021-09-14T11:11:14.837Z"
   },
   {
    "duration": 58,
    "start_time": "2021-09-14T11:11:45.382Z"
   },
   {
    "duration": 56,
    "start_time": "2021-09-14T11:12:21.925Z"
   },
   {
    "duration": 11,
    "start_time": "2021-09-14T11:12:26.293Z"
   },
   {
    "duration": 16,
    "start_time": "2021-09-14T11:13:50.414Z"
   },
   {
    "duration": 15,
    "start_time": "2021-09-14T11:14:33.836Z"
   },
   {
    "duration": 44,
    "start_time": "2021-09-14T11:15:18.012Z"
   },
   {
    "duration": 8,
    "start_time": "2021-09-14T11:15:43.210Z"
   },
   {
    "duration": 1371,
    "start_time": "2021-09-14T11:17:28.217Z"
   },
   {
    "duration": 51,
    "start_time": "2021-09-14T11:17:29.591Z"
   },
   {
    "duration": 18,
    "start_time": "2021-09-14T11:17:29.646Z"
   },
   {
    "duration": 17,
    "start_time": "2021-09-14T11:17:29.667Z"
   },
   {
    "duration": 8,
    "start_time": "2021-09-14T11:17:29.687Z"
   },
   {
    "duration": 63,
    "start_time": "2021-09-14T11:17:29.697Z"
   },
   {
    "duration": 9,
    "start_time": "2021-09-14T11:17:29.764Z"
   },
   {
    "duration": 88,
    "start_time": "2021-09-14T11:17:29.778Z"
   },
   {
    "duration": 13,
    "start_time": "2021-09-14T11:17:29.869Z"
   },
   {
    "duration": 70,
    "start_time": "2021-09-14T11:17:29.885Z"
   },
   {
    "duration": 10,
    "start_time": "2021-09-14T11:17:29.957Z"
   },
   {
    "duration": 1277,
    "start_time": "2021-09-14T11:18:48.199Z"
   },
   {
    "duration": 48,
    "start_time": "2021-09-14T11:18:49.479Z"
   },
   {
    "duration": 8,
    "start_time": "2021-09-14T11:18:49.530Z"
   },
   {
    "duration": 14,
    "start_time": "2021-09-14T11:18:49.556Z"
   },
   {
    "duration": 7,
    "start_time": "2021-09-14T11:18:49.573Z"
   },
   {
    "duration": 24,
    "start_time": "2021-09-14T11:18:49.583Z"
   },
   {
    "duration": 7,
    "start_time": "2021-09-14T11:18:49.610Z"
   },
   {
    "duration": 96,
    "start_time": "2021-09-14T11:18:49.620Z"
   },
   {
    "duration": 11,
    "start_time": "2021-09-14T11:18:49.719Z"
   },
   {
    "duration": 56,
    "start_time": "2021-09-14T11:18:49.733Z"
   },
   {
    "duration": 8,
    "start_time": "2021-09-14T11:18:49.791Z"
   },
   {
    "duration": 1423,
    "start_time": "2021-09-14T11:24:22.369Z"
   },
   {
    "duration": 53,
    "start_time": "2021-09-14T11:24:23.794Z"
   },
   {
    "duration": 11,
    "start_time": "2021-09-14T11:24:23.850Z"
   },
   {
    "duration": 45,
    "start_time": "2021-09-14T11:24:23.864Z"
   },
   {
    "duration": 22,
    "start_time": "2021-09-14T11:24:23.911Z"
   },
   {
    "duration": 29,
    "start_time": "2021-09-14T11:24:23.935Z"
   },
   {
    "duration": 8,
    "start_time": "2021-09-14T11:24:23.967Z"
   },
   {
    "duration": 80,
    "start_time": "2021-09-14T11:24:23.978Z"
   },
   {
    "duration": 13,
    "start_time": "2021-09-14T11:24:24.061Z"
   },
   {
    "duration": 24,
    "start_time": "2021-09-14T11:24:24.077Z"
   },
   {
    "duration": 7,
    "start_time": "2021-09-14T11:24:24.103Z"
   },
   {
    "duration": 697,
    "start_time": "2021-09-14T11:36:35.074Z"
   },
   {
    "duration": 332,
    "start_time": "2021-09-14T11:36:49.138Z"
   },
   {
    "duration": 445,
    "start_time": "2021-09-14T11:39:41.265Z"
   },
   {
    "duration": 75,
    "start_time": "2021-09-14T11:39:50.881Z"
   },
   {
    "duration": 84,
    "start_time": "2021-09-14T11:40:24.016Z"
   },
   {
    "duration": 357,
    "start_time": "2021-09-14T11:40:52.688Z"
   },
   {
    "duration": 1481,
    "start_time": "2021-09-14T11:41:15.321Z"
   },
   {
    "duration": 3289,
    "start_time": "2021-09-14T11:46:41.462Z"
   },
   {
    "duration": 3313,
    "start_time": "2021-09-14T11:47:15.404Z"
   },
   {
    "duration": 1586,
    "start_time": "2021-09-14T11:47:53.988Z"
   },
   {
    "duration": 1555,
    "start_time": "2021-09-14T11:49:03.163Z"
   },
   {
    "duration": 2212,
    "start_time": "2021-09-14T11:49:30.701Z"
   },
   {
    "duration": 2304,
    "start_time": "2021-09-14T11:49:46.314Z"
   },
   {
    "duration": 2095,
    "start_time": "2021-09-14T11:49:55.394Z"
   },
   {
    "duration": 1967,
    "start_time": "2021-09-14T11:50:13.171Z"
   },
   {
    "duration": 1967,
    "start_time": "2021-09-14T11:50:26.475Z"
   },
   {
    "duration": 7,
    "start_time": "2021-09-14T11:51:10.602Z"
   },
   {
    "duration": 8,
    "start_time": "2021-09-14T11:51:30.033Z"
   },
   {
    "duration": 8,
    "start_time": "2021-09-14T11:51:39.498Z"
   },
   {
    "duration": 1418,
    "start_time": "2021-09-14T11:51:49.219Z"
   },
   {
    "duration": 57,
    "start_time": "2021-09-14T11:51:50.639Z"
   },
   {
    "duration": 9,
    "start_time": "2021-09-14T11:51:50.699Z"
   },
   {
    "duration": 19,
    "start_time": "2021-09-14T11:51:50.711Z"
   },
   {
    "duration": 31,
    "start_time": "2021-09-14T11:51:50.733Z"
   },
   {
    "duration": 108,
    "start_time": "2021-09-14T11:51:50.767Z"
   },
   {
    "duration": 7,
    "start_time": "2021-09-14T11:51:50.877Z"
   },
   {
    "duration": 1410,
    "start_time": "2021-09-14T11:51:50.888Z"
   },
   {
    "duration": 13,
    "start_time": "2021-09-14T11:51:52.301Z"
   },
   {
    "duration": 2113,
    "start_time": "2021-09-14T11:51:52.317Z"
   },
   {
    "duration": 23,
    "start_time": "2021-09-14T11:51:54.433Z"
   },
   {
    "duration": 1740,
    "start_time": "2021-09-14T11:55:28.662Z"
   },
   {
    "duration": 9,
    "start_time": "2021-09-14T11:55:38.268Z"
   },
   {
    "duration": 1893,
    "start_time": "2021-09-14T11:55:53.040Z"
   },
   {
    "duration": 2019,
    "start_time": "2021-09-14T11:56:18.886Z"
   },
   {
    "duration": 1140,
    "start_time": "2021-09-14T11:56:33.277Z"
   },
   {
    "duration": 1138,
    "start_time": "2021-09-14T11:56:43.021Z"
   },
   {
    "duration": 8,
    "start_time": "2021-09-14T11:56:46.219Z"
   },
   {
    "duration": 673,
    "start_time": "2021-09-14T12:01:34.164Z"
   },
   {
    "duration": 8,
    "start_time": "2021-09-14T12:01:40.649Z"
   },
   {
    "duration": 1518,
    "start_time": "2021-09-14T12:02:05.523Z"
   },
   {
    "duration": 709,
    "start_time": "2021-09-14T12:02:26.522Z"
   },
   {
    "duration": 10,
    "start_time": "2021-09-14T12:02:28.689Z"
   },
   {
    "duration": 1171,
    "start_time": "2021-09-14T12:02:39.161Z"
   },
   {
    "duration": 9,
    "start_time": "2021-09-14T12:02:40.360Z"
   },
   {
    "duration": 2370,
    "start_time": "2021-09-14T12:03:38.978Z"
   },
   {
    "duration": 7,
    "start_time": "2021-09-14T12:03:46.322Z"
   },
   {
    "duration": 1915,
    "start_time": "2021-09-14T12:05:15.377Z"
   },
   {
    "duration": 8,
    "start_time": "2021-09-14T12:05:21.903Z"
   },
   {
    "duration": 1368,
    "start_time": "2021-09-14T12:06:44.129Z"
   },
   {
    "duration": 11,
    "start_time": "2021-09-14T12:06:49.359Z"
   },
   {
    "duration": 1944,
    "start_time": "2021-09-14T12:06:54.920Z"
   },
   {
    "duration": 8,
    "start_time": "2021-09-14T12:06:58.486Z"
   },
   {
    "duration": 1297,
    "start_time": "2021-09-14T12:14:22.334Z"
   },
   {
    "duration": 153,
    "start_time": "2021-09-14T12:16:29.515Z"
   },
   {
    "duration": 1711,
    "start_time": "2021-09-14T12:16:36.366Z"
   },
   {
    "duration": 8,
    "start_time": "2021-09-14T12:16:55.641Z"
   },
   {
    "duration": 2380,
    "start_time": "2021-09-14T12:18:01.019Z"
   },
   {
    "duration": 2571,
    "start_time": "2021-09-14T12:18:11.938Z"
   },
   {
    "duration": 1948,
    "start_time": "2021-09-14T12:18:21.697Z"
   },
   {
    "duration": 2037,
    "start_time": "2021-09-14T12:18:40.145Z"
   },
   {
    "duration": 8,
    "start_time": "2021-09-14T12:18:49.048Z"
   },
   {
    "duration": 1940,
    "start_time": "2021-09-14T12:18:59.441Z"
   },
   {
    "duration": 1874,
    "start_time": "2021-09-14T12:19:09.825Z"
   },
   {
    "duration": 8,
    "start_time": "2021-09-14T12:19:20.584Z"
   },
   {
    "duration": 1333,
    "start_time": "2021-09-14T12:19:45.825Z"
   },
   {
    "duration": 8,
    "start_time": "2021-09-14T12:19:55.264Z"
   },
   {
    "duration": 1551,
    "start_time": "2021-09-14T12:20:22.072Z"
   },
   {
    "duration": 11,
    "start_time": "2021-09-14T12:20:34.160Z"
   },
   {
    "duration": 1297,
    "start_time": "2021-09-14T12:20:43.040Z"
   },
   {
    "duration": 8,
    "start_time": "2021-09-14T12:20:54.239Z"
   },
   {
    "duration": 1610,
    "start_time": "2021-09-14T12:21:01.753Z"
   },
   {
    "duration": 1261,
    "start_time": "2021-09-14T12:21:10.704Z"
   },
   {
    "duration": 8,
    "start_time": "2021-09-14T12:21:16.903Z"
   },
   {
    "duration": 1518,
    "start_time": "2021-09-14T12:21:24.288Z"
   },
   {
    "duration": 2236,
    "start_time": "2021-09-14T12:21:28.655Z"
   },
   {
    "duration": 7,
    "start_time": "2021-09-14T12:21:38.631Z"
   },
   {
    "duration": 2204,
    "start_time": "2021-09-14T12:21:51.408Z"
   },
   {
    "duration": 1800,
    "start_time": "2021-09-14T12:22:08.176Z"
   },
   {
    "duration": 9,
    "start_time": "2021-09-14T12:23:01.951Z"
   },
   {
    "duration": 8,
    "start_time": "2021-09-14T12:23:34.950Z"
   },
   {
    "duration": 1993,
    "start_time": "2021-09-14T12:25:02.703Z"
   },
   {
    "duration": 5,
    "start_time": "2021-09-14T12:26:01.367Z"
   },
   {
    "duration": 1883,
    "start_time": "2021-09-14T12:26:40.374Z"
   },
   {
    "duration": 1974,
    "start_time": "2021-09-14T12:26:57.904Z"
   },
   {
    "duration": 2039,
    "start_time": "2021-09-14T12:27:33.903Z"
   },
   {
    "duration": 72886,
    "start_time": "2021-09-14T12:30:35.260Z"
   },
   {
    "duration": 38246,
    "start_time": "2021-09-14T12:32:03.980Z"
   },
   {
    "duration": 7733,
    "start_time": "2021-09-14T12:32:53.323Z"
   },
   {
    "duration": 14,
    "start_time": "2021-09-14T12:34:28.603Z"
   },
   {
    "duration": 8152,
    "start_time": "2021-09-14T12:34:53.298Z"
   },
   {
    "duration": 1321,
    "start_time": "2021-09-14T12:40:50.580Z"
   },
   {
    "duration": 47,
    "start_time": "2021-09-14T12:40:51.903Z"
   },
   {
    "duration": 7,
    "start_time": "2021-09-14T12:40:51.956Z"
   },
   {
    "duration": 18,
    "start_time": "2021-09-14T12:40:51.965Z"
   },
   {
    "duration": 8,
    "start_time": "2021-09-14T12:40:51.985Z"
   },
   {
    "duration": 108,
    "start_time": "2021-09-14T12:40:51.995Z"
   },
   {
    "duration": 8,
    "start_time": "2021-09-14T12:40:52.105Z"
   },
   {
    "duration": 1208,
    "start_time": "2021-09-14T12:40:52.115Z"
   },
   {
    "duration": 29,
    "start_time": "2021-09-14T12:40:53.328Z"
   },
   {
    "duration": 7040,
    "start_time": "2021-09-14T12:40:53.359Z"
   },
   {
    "duration": 58,
    "start_time": "2021-09-14T12:45:11.823Z"
   },
   {
    "duration": 5178,
    "start_time": "2021-09-14T12:52:33.999Z"
   },
   {
    "duration": 10217,
    "start_time": "2021-09-14T12:54:24.624Z"
   },
   {
    "duration": 624,
    "start_time": "2021-09-14T12:55:24.991Z"
   },
   {
    "duration": 15343,
    "start_time": "2021-09-14T12:55:56.599Z"
   },
   {
    "duration": 35154,
    "start_time": "2021-09-14T12:57:35.806Z"
   },
   {
    "duration": 11773,
    "start_time": "2021-09-14T12:59:13.349Z"
   },
   {
    "duration": 1439,
    "start_time": "2021-09-14T13:03:34.128Z"
   },
   {
    "duration": 48,
    "start_time": "2021-09-14T13:03:35.570Z"
   },
   {
    "duration": 7,
    "start_time": "2021-09-14T13:03:35.622Z"
   },
   {
    "duration": 35,
    "start_time": "2021-09-14T13:03:35.631Z"
   },
   {
    "duration": 16,
    "start_time": "2021-09-14T13:03:35.669Z"
   },
   {
    "duration": 75,
    "start_time": "2021-09-14T13:03:35.687Z"
   },
   {
    "duration": 11838,
    "start_time": "2021-09-14T13:03:35.765Z"
   },
   {
    "duration": 7772,
    "start_time": "2021-09-14T13:03:47.607Z"
   },
   {
    "duration": 7,
    "start_time": "2021-09-14T13:03:55.382Z"
   },
   {
    "duration": 11,
    "start_time": "2021-09-14T13:03:55.391Z"
   },
   {
    "duration": 12,
    "start_time": "2021-09-14T13:03:55.405Z"
   },
   {
    "duration": 9,
    "start_time": "2021-09-14T13:04:57.868Z"
   },
   {
    "duration": 11,
    "start_time": "2021-09-14T13:05:11.330Z"
   },
   {
    "duration": 11,
    "start_time": "2021-09-14T13:05:27.698Z"
   },
   {
    "duration": 1432,
    "start_time": "2021-09-14T13:07:44.439Z"
   },
   {
    "duration": 49,
    "start_time": "2021-09-14T13:07:45.874Z"
   },
   {
    "duration": 8,
    "start_time": "2021-09-14T13:07:45.925Z"
   },
   {
    "duration": 38,
    "start_time": "2021-09-14T13:07:45.936Z"
   },
   {
    "duration": 17,
    "start_time": "2021-09-14T13:07:45.976Z"
   },
   {
    "duration": 65,
    "start_time": "2021-09-14T13:07:45.996Z"
   },
   {
    "duration": 11777,
    "start_time": "2021-09-14T13:07:46.065Z"
   },
   {
    "duration": 7679,
    "start_time": "2021-09-14T13:07:57.856Z"
   },
   {
    "duration": 23,
    "start_time": "2021-09-14T13:08:05.538Z"
   },
   {
    "duration": 11,
    "start_time": "2021-09-14T13:08:05.564Z"
   },
   {
    "duration": 10,
    "start_time": "2021-09-14T13:08:05.578Z"
   },
   {
    "duration": 1560,
    "start_time": "2021-09-14T13:08:33.973Z"
   },
   {
    "duration": 53,
    "start_time": "2021-09-14T13:08:35.535Z"
   },
   {
    "duration": 10,
    "start_time": "2021-09-14T13:08:35.592Z"
   },
   {
    "duration": 33,
    "start_time": "2021-09-14T13:08:35.604Z"
   },
   {
    "duration": 18,
    "start_time": "2021-09-14T13:08:35.639Z"
   },
   {
    "duration": 100,
    "start_time": "2021-09-14T13:08:35.660Z"
   },
   {
    "duration": 14340,
    "start_time": "2021-09-14T13:08:35.763Z"
   },
   {
    "duration": 8363,
    "start_time": "2021-09-14T13:08:50.106Z"
   },
   {
    "duration": 8,
    "start_time": "2021-09-14T13:08:58.472Z"
   },
   {
    "duration": 25,
    "start_time": "2021-09-14T13:08:58.482Z"
   },
   {
    "duration": 13,
    "start_time": "2021-09-14T13:08:58.509Z"
   },
   {
    "duration": 1402,
    "start_time": "2021-09-14T13:09:49.475Z"
   },
   {
    "duration": 49,
    "start_time": "2021-09-14T13:09:50.879Z"
   },
   {
    "duration": 8,
    "start_time": "2021-09-14T13:09:50.931Z"
   },
   {
    "duration": 38,
    "start_time": "2021-09-14T13:09:50.941Z"
   },
   {
    "duration": 14,
    "start_time": "2021-09-14T13:09:50.982Z"
   },
   {
    "duration": 86,
    "start_time": "2021-09-14T13:09:50.998Z"
   },
   {
    "duration": 12923,
    "start_time": "2021-09-14T13:09:51.087Z"
   },
   {
    "duration": 8331,
    "start_time": "2021-09-14T13:10:04.014Z"
   },
   {
    "duration": 13,
    "start_time": "2021-09-14T13:10:12.348Z"
   },
   {
    "duration": 21,
    "start_time": "2021-09-14T13:10:12.366Z"
   },
   {
    "duration": 12,
    "start_time": "2021-09-14T13:10:12.389Z"
   },
   {
    "duration": 1445,
    "start_time": "2021-09-14T13:10:55.806Z"
   },
   {
    "duration": 58,
    "start_time": "2021-09-14T13:10:57.254Z"
   },
   {
    "duration": 11,
    "start_time": "2021-09-14T13:10:57.316Z"
   },
   {
    "duration": 41,
    "start_time": "2021-09-14T13:10:57.331Z"
   },
   {
    "duration": 10,
    "start_time": "2021-09-14T13:10:57.376Z"
   },
   {
    "duration": 103,
    "start_time": "2021-09-14T13:10:57.389Z"
   },
   {
    "duration": 12046,
    "start_time": "2021-09-14T13:10:57.494Z"
   },
   {
    "duration": 8362,
    "start_time": "2021-09-14T13:11:09.544Z"
   },
   {
    "duration": 10,
    "start_time": "2021-09-14T13:11:17.909Z"
   },
   {
    "duration": 40,
    "start_time": "2021-09-14T13:11:17.921Z"
   },
   {
    "duration": 9,
    "start_time": "2021-09-14T13:11:17.965Z"
   },
   {
    "duration": 1431,
    "start_time": "2021-09-14T13:12:28.665Z"
   },
   {
    "duration": 57,
    "start_time": "2021-09-14T13:12:30.099Z"
   },
   {
    "duration": 10,
    "start_time": "2021-09-14T13:12:30.160Z"
   },
   {
    "duration": 37,
    "start_time": "2021-09-14T13:12:30.174Z"
   },
   {
    "duration": 29,
    "start_time": "2021-09-14T13:12:30.214Z"
   },
   {
    "duration": 78,
    "start_time": "2021-09-14T13:12:30.246Z"
   },
   {
    "duration": 11099,
    "start_time": "2021-09-14T13:12:30.327Z"
   },
   {
    "duration": 5354,
    "start_time": "2021-09-14T13:12:41.429Z"
   },
   {
    "duration": 9,
    "start_time": "2021-09-14T13:12:46.786Z"
   },
   {
    "duration": 14,
    "start_time": "2021-09-14T13:12:46.799Z"
   },
   {
    "duration": 43,
    "start_time": "2021-09-14T13:12:46.816Z"
   },
   {
    "duration": 8,
    "start_time": "2021-09-14T13:13:21.350Z"
   },
   {
    "duration": 10,
    "start_time": "2021-09-14T13:13:49.598Z"
   },
   {
    "duration": 1305,
    "start_time": "2021-09-14T13:14:39.291Z"
   },
   {
    "duration": 47,
    "start_time": "2021-09-14T13:14:40.599Z"
   },
   {
    "duration": 12,
    "start_time": "2021-09-14T13:14:40.649Z"
   },
   {
    "duration": 18,
    "start_time": "2021-09-14T13:14:40.664Z"
   },
   {
    "duration": 9,
    "start_time": "2021-09-14T13:14:40.684Z"
   },
   {
    "duration": 108,
    "start_time": "2021-09-14T13:14:40.696Z"
   },
   {
    "duration": 10790,
    "start_time": "2021-09-14T13:14:40.807Z"
   },
   {
    "duration": 4325,
    "start_time": "2021-09-14T13:14:51.600Z"
   },
   {
    "duration": 28,
    "start_time": "2021-09-14T13:14:55.928Z"
   },
   {
    "duration": 14,
    "start_time": "2021-09-14T13:14:55.958Z"
   },
   {
    "duration": 10,
    "start_time": "2021-09-14T13:14:55.974Z"
   },
   {
    "duration": 1402,
    "start_time": "2021-09-14T13:16:59.173Z"
   },
   {
    "duration": 48,
    "start_time": "2021-09-14T13:17:00.578Z"
   },
   {
    "duration": 8,
    "start_time": "2021-09-14T13:17:00.629Z"
   },
   {
    "duration": 18,
    "start_time": "2021-09-14T13:17:00.655Z"
   },
   {
    "duration": 38,
    "start_time": "2021-09-14T13:17:00.675Z"
   },
   {
    "duration": 86,
    "start_time": "2021-09-14T13:17:00.716Z"
   },
   {
    "duration": 11005,
    "start_time": "2021-09-14T13:17:00.804Z"
   },
   {
    "duration": 5170,
    "start_time": "2021-09-14T13:17:11.812Z"
   },
   {
    "duration": 9,
    "start_time": "2021-09-14T13:17:16.984Z"
   },
   {
    "duration": 23,
    "start_time": "2021-09-14T13:17:16.996Z"
   },
   {
    "duration": 35,
    "start_time": "2021-09-14T13:17:17.021Z"
   },
   {
    "duration": 205,
    "start_time": "2021-09-14T13:25:40.920Z"
   },
   {
    "duration": 1507,
    "start_time": "2021-09-14T13:26:51.010Z"
   },
   {
    "duration": 52,
    "start_time": "2021-09-14T13:26:52.519Z"
   },
   {
    "duration": 9,
    "start_time": "2021-09-14T13:26:52.575Z"
   },
   {
    "duration": 16,
    "start_time": "2021-09-14T13:26:52.586Z"
   },
   {
    "duration": 8,
    "start_time": "2021-09-14T13:26:52.605Z"
   },
   {
    "duration": 259,
    "start_time": "2021-09-14T13:26:52.616Z"
   },
   {
    "duration": 12510,
    "start_time": "2021-09-14T13:26:52.877Z"
   },
   {
    "duration": 5510,
    "start_time": "2021-09-14T13:27:05.392Z"
   },
   {
    "duration": 11,
    "start_time": "2021-09-14T13:27:10.905Z"
   },
   {
    "duration": 293,
    "start_time": "2021-09-14T13:27:10.919Z"
   },
   {
    "duration": 11,
    "start_time": "2021-09-14T13:27:11.215Z"
   },
   {
    "duration": 10,
    "start_time": "2021-09-14T13:30:18.640Z"
   },
   {
    "duration": 1420,
    "start_time": "2021-09-14T13:30:48.076Z"
   },
   {
    "duration": 49,
    "start_time": "2021-09-14T13:30:49.499Z"
   },
   {
    "duration": 10,
    "start_time": "2021-09-14T13:30:49.551Z"
   },
   {
    "duration": 15,
    "start_time": "2021-09-14T13:30:49.564Z"
   },
   {
    "duration": 7,
    "start_time": "2021-09-14T13:30:49.582Z"
   },
   {
    "duration": 237,
    "start_time": "2021-09-14T13:30:49.591Z"
   },
   {
    "duration": 11234,
    "start_time": "2021-09-14T13:30:49.831Z"
   },
   {
    "duration": 5001,
    "start_time": "2021-09-14T13:31:01.069Z"
   },
   {
    "duration": 8,
    "start_time": "2021-09-14T13:31:06.073Z"
   },
   {
    "duration": 16,
    "start_time": "2021-09-14T13:31:06.084Z"
   },
   {
    "duration": 14,
    "start_time": "2021-09-14T13:31:06.103Z"
   },
   {
    "duration": 1927,
    "start_time": "2021-09-14T13:33:11.246Z"
   },
   {
    "duration": 70,
    "start_time": "2021-09-14T13:33:13.176Z"
   },
   {
    "duration": 16,
    "start_time": "2021-09-14T13:33:13.249Z"
   },
   {
    "duration": 29,
    "start_time": "2021-09-14T13:33:13.268Z"
   },
   {
    "duration": 22,
    "start_time": "2021-09-14T13:33:13.300Z"
   },
   {
    "duration": 339,
    "start_time": "2021-09-14T13:33:13.326Z"
   },
   {
    "duration": 11950,
    "start_time": "2021-09-14T13:33:13.667Z"
   },
   {
    "duration": 6512,
    "start_time": "2021-09-14T13:33:25.620Z"
   },
   {
    "duration": 22,
    "start_time": "2021-09-14T13:33:32.135Z"
   },
   {
    "duration": 16,
    "start_time": "2021-09-14T13:33:32.160Z"
   },
   {
    "duration": 11,
    "start_time": "2021-09-14T13:33:32.179Z"
   },
   {
    "duration": 1056,
    "start_time": "2021-09-14T18:52:38.872Z"
   },
   {
    "duration": 37,
    "start_time": "2021-09-14T18:52:39.930Z"
   },
   {
    "duration": 5,
    "start_time": "2021-09-14T18:52:39.969Z"
   },
   {
    "duration": 22,
    "start_time": "2021-09-14T18:52:39.975Z"
   },
   {
    "duration": 4,
    "start_time": "2021-09-14T18:52:39.999Z"
   },
   {
    "duration": 139,
    "start_time": "2021-09-14T18:52:40.005Z"
   },
   {
    "duration": 6957,
    "start_time": "2021-09-14T18:52:40.146Z"
   },
   {
    "duration": 2793,
    "start_time": "2021-09-14T18:52:47.106Z"
   },
   {
    "duration": 6,
    "start_time": "2021-09-14T18:52:49.901Z"
   },
   {
    "duration": 9,
    "start_time": "2021-09-14T18:52:49.908Z"
   },
   {
    "duration": 7,
    "start_time": "2021-09-14T18:52:49.918Z"
   },
   {
    "duration": 6,
    "start_time": "2021-09-14T18:54:06.840Z"
   },
   {
    "duration": 6,
    "start_time": "2021-09-14T18:54:15.008Z"
   },
   {
    "duration": 7,
    "start_time": "2021-09-14T18:54:54.610Z"
   },
   {
    "duration": 5,
    "start_time": "2021-09-14T18:54:56.903Z"
   },
   {
    "duration": 5,
    "start_time": "2021-09-14T18:55:28.158Z"
   },
   {
    "duration": 4,
    "start_time": "2021-09-14T18:55:44.334Z"
   },
   {
    "duration": 4,
    "start_time": "2021-09-14T18:56:26.881Z"
   },
   {
    "duration": 5,
    "start_time": "2021-09-14T18:56:37.401Z"
   },
   {
    "duration": 8,
    "start_time": "2021-09-14T18:56:41.758Z"
   },
   {
    "duration": 7,
    "start_time": "2021-09-14T18:56:46.299Z"
   },
   {
    "duration": 5,
    "start_time": "2021-09-14T18:57:12.918Z"
   },
   {
    "duration": 6,
    "start_time": "2021-09-14T18:58:11.757Z"
   },
   {
    "duration": 8,
    "start_time": "2021-09-14T18:58:26.697Z"
   },
   {
    "duration": 6,
    "start_time": "2021-09-14T18:58:35.721Z"
   },
   {
    "duration": 5,
    "start_time": "2021-09-14T18:58:56.645Z"
   },
   {
    "duration": 1154,
    "start_time": "2021-09-14T19:00:07.085Z"
   },
   {
    "duration": 26,
    "start_time": "2021-09-14T19:00:08.241Z"
   },
   {
    "duration": 6,
    "start_time": "2021-09-14T19:00:08.269Z"
   },
   {
    "duration": 8,
    "start_time": "2021-09-14T19:00:08.292Z"
   },
   {
    "duration": 17,
    "start_time": "2021-09-14T19:00:08.302Z"
   },
   {
    "duration": 156,
    "start_time": "2021-09-14T19:00:08.320Z"
   },
   {
    "duration": 6762,
    "start_time": "2021-09-14T19:00:08.478Z"
   },
   {
    "duration": 2707,
    "start_time": "2021-09-14T19:00:15.242Z"
   },
   {
    "duration": 5,
    "start_time": "2021-09-14T19:00:17.951Z"
   },
   {
    "duration": 9,
    "start_time": "2021-09-14T19:00:17.958Z"
   },
   {
    "duration": 5,
    "start_time": "2021-09-14T19:00:17.968Z"
   },
   {
    "duration": 3,
    "start_time": "2021-09-14T19:00:17.975Z"
   },
   {
    "duration": 10,
    "start_time": "2021-09-14T19:00:17.980Z"
   },
   {
    "duration": 5,
    "start_time": "2021-09-14T19:00:17.992Z"
   },
   {
    "duration": 16,
    "start_time": "2021-09-14T19:00:17.998Z"
   },
   {
    "duration": 9,
    "start_time": "2021-09-14T19:00:18.016Z"
   },
   {
    "duration": 7,
    "start_time": "2021-09-14T19:00:18.027Z"
   },
   {
    "duration": 60,
    "start_time": "2021-09-14T19:00:18.037Z"
   },
   {
    "duration": 11,
    "start_time": "2021-09-14T19:03:03.544Z"
   },
   {
    "duration": 11,
    "start_time": "2021-09-14T19:05:17.310Z"
   },
   {
    "duration": 6,
    "start_time": "2021-09-14T19:05:19.200Z"
   },
   {
    "duration": 13,
    "start_time": "2021-09-14T19:06:11.298Z"
   },
   {
    "duration": 5,
    "start_time": "2021-09-14T19:06:12.085Z"
   },
   {
    "duration": 1061,
    "start_time": "2021-09-14T19:10:06.569Z"
   },
   {
    "duration": 36,
    "start_time": "2021-09-14T19:10:07.632Z"
   },
   {
    "duration": 5,
    "start_time": "2021-09-14T19:10:07.670Z"
   },
   {
    "duration": 14,
    "start_time": "2021-09-14T19:10:07.677Z"
   },
   {
    "duration": 9,
    "start_time": "2021-09-14T19:10:07.692Z"
   },
   {
    "duration": 128,
    "start_time": "2021-09-14T19:10:07.702Z"
   },
   {
    "duration": 6762,
    "start_time": "2021-09-14T19:10:07.832Z"
   },
   {
    "duration": 2798,
    "start_time": "2021-09-14T19:10:14.596Z"
   },
   {
    "duration": 6,
    "start_time": "2021-09-14T19:10:17.396Z"
   },
   {
    "duration": 11,
    "start_time": "2021-09-14T19:10:17.404Z"
   },
   {
    "duration": 9,
    "start_time": "2021-09-14T19:10:17.417Z"
   },
   {
    "duration": 5,
    "start_time": "2021-09-14T19:10:17.427Z"
   },
   {
    "duration": 10,
    "start_time": "2021-09-14T19:10:17.433Z"
   },
   {
    "duration": 7,
    "start_time": "2021-09-14T19:10:17.445Z"
   },
   {
    "duration": 39,
    "start_time": "2021-09-14T19:10:17.453Z"
   },
   {
    "duration": 7,
    "start_time": "2021-09-14T19:10:17.494Z"
   },
   {
    "duration": 10,
    "start_time": "2021-09-14T19:10:17.502Z"
   },
   {
    "duration": 80,
    "start_time": "2021-09-14T19:10:17.514Z"
   },
   {
    "duration": 1987,
    "start_time": "2021-09-14T19:27:33.313Z"
   },
   {
    "duration": 141,
    "start_time": "2021-09-14T19:27:40.858Z"
   },
   {
    "duration": 131,
    "start_time": "2021-09-14T19:27:58.881Z"
   },
   {
    "duration": 146,
    "start_time": "2021-09-14T19:28:40.595Z"
   },
   {
    "duration": 1015,
    "start_time": "2021-09-14T19:28:50.518Z"
   },
   {
    "duration": 35,
    "start_time": "2021-09-14T19:28:51.535Z"
   },
   {
    "duration": 4,
    "start_time": "2021-09-14T19:28:51.572Z"
   },
   {
    "duration": 15,
    "start_time": "2021-09-14T19:28:51.578Z"
   },
   {
    "duration": 4,
    "start_time": "2021-09-14T19:28:51.595Z"
   },
   {
    "duration": 148,
    "start_time": "2021-09-14T19:28:51.601Z"
   },
   {
    "duration": 6835,
    "start_time": "2021-09-14T19:28:51.751Z"
   },
   {
    "duration": 2781,
    "start_time": "2021-09-14T19:28:58.592Z"
   },
   {
    "duration": 17,
    "start_time": "2021-09-14T19:29:01.375Z"
   },
   {
    "duration": 9,
    "start_time": "2021-09-14T19:29:01.393Z"
   },
   {
    "duration": 14,
    "start_time": "2021-09-14T19:29:01.404Z"
   },
   {
    "duration": 12,
    "start_time": "2021-09-14T19:29:01.420Z"
   },
   {
    "duration": 15,
    "start_time": "2021-09-14T19:29:01.433Z"
   },
   {
    "duration": 10,
    "start_time": "2021-09-14T19:29:01.450Z"
   },
   {
    "duration": 27,
    "start_time": "2021-09-14T19:29:01.462Z"
   },
   {
    "duration": 28,
    "start_time": "2021-09-14T19:29:01.491Z"
   },
   {
    "duration": 11,
    "start_time": "2021-09-14T19:29:01.521Z"
   },
   {
    "duration": 60,
    "start_time": "2021-09-14T19:29:01.534Z"
   },
   {
    "duration": 7014,
    "start_time": "2021-09-14T19:30:06.567Z"
   },
   {
    "duration": 3606,
    "start_time": "2021-09-14T19:30:28.999Z"
   },
   {
    "duration": 1043,
    "start_time": "2021-09-14T19:30:58.401Z"
   },
   {
    "duration": 36,
    "start_time": "2021-09-14T19:30:59.446Z"
   },
   {
    "duration": 5,
    "start_time": "2021-09-14T19:30:59.484Z"
   },
   {
    "duration": 9,
    "start_time": "2021-09-14T19:30:59.491Z"
   },
   {
    "duration": 4,
    "start_time": "2021-09-14T19:30:59.502Z"
   },
   {
    "duration": 155,
    "start_time": "2021-09-14T19:30:59.508Z"
   },
   {
    "duration": 7332,
    "start_time": "2021-09-14T19:30:59.665Z"
   },
   {
    "duration": 3692,
    "start_time": "2021-09-14T19:31:06.999Z"
   },
   {
    "duration": 5,
    "start_time": "2021-09-14T19:31:10.693Z"
   },
   {
    "duration": 9,
    "start_time": "2021-09-14T19:31:10.700Z"
   },
   {
    "duration": 18,
    "start_time": "2021-09-14T19:31:10.710Z"
   },
   {
    "duration": 8,
    "start_time": "2021-09-14T19:31:10.730Z"
   },
   {
    "duration": 7,
    "start_time": "2021-09-14T19:31:10.740Z"
   },
   {
    "duration": 9,
    "start_time": "2021-09-14T19:31:10.749Z"
   },
   {
    "duration": 14,
    "start_time": "2021-09-14T19:31:10.760Z"
   },
   {
    "duration": 19,
    "start_time": "2021-09-14T19:31:10.776Z"
   },
   {
    "duration": 13,
    "start_time": "2021-09-14T19:31:10.796Z"
   },
   {
    "duration": 88,
    "start_time": "2021-09-14T19:31:10.811Z"
   },
   {
    "duration": 1053,
    "start_time": "2021-09-14T19:35:46.284Z"
   },
   {
    "duration": 36,
    "start_time": "2021-09-14T19:35:47.339Z"
   },
   {
    "duration": 6,
    "start_time": "2021-09-14T19:35:47.377Z"
   },
   {
    "duration": 15,
    "start_time": "2021-09-14T19:35:47.384Z"
   },
   {
    "duration": 4,
    "start_time": "2021-09-14T19:35:47.401Z"
   },
   {
    "duration": 154,
    "start_time": "2021-09-14T19:35:47.407Z"
   },
   {
    "duration": 6949,
    "start_time": "2021-09-14T19:35:47.562Z"
   },
   {
    "duration": 2975,
    "start_time": "2021-09-14T19:35:54.513Z"
   },
   {
    "duration": 5,
    "start_time": "2021-09-14T19:35:57.492Z"
   },
   {
    "duration": 9,
    "start_time": "2021-09-14T19:35:57.499Z"
   },
   {
    "duration": 7,
    "start_time": "2021-09-14T19:35:57.510Z"
   },
   {
    "duration": 5,
    "start_time": "2021-09-14T19:35:57.518Z"
   },
   {
    "duration": 6,
    "start_time": "2021-09-14T19:35:57.525Z"
   },
   {
    "duration": 6,
    "start_time": "2021-09-14T19:35:57.532Z"
   },
   {
    "duration": 53,
    "start_time": "2021-09-14T19:35:57.540Z"
   },
   {
    "duration": 8,
    "start_time": "2021-09-14T19:35:57.595Z"
   },
   {
    "duration": 9,
    "start_time": "2021-09-14T19:35:57.604Z"
   },
   {
    "duration": 178,
    "start_time": "2021-09-14T19:35:57.615Z"
   },
   {
    "duration": 1003,
    "start_time": "2021-09-14T19:36:56.225Z"
   },
   {
    "duration": 36,
    "start_time": "2021-09-14T19:36:57.230Z"
   },
   {
    "duration": 6,
    "start_time": "2021-09-14T19:36:57.268Z"
   },
   {
    "duration": 18,
    "start_time": "2021-09-14T19:36:57.275Z"
   },
   {
    "duration": 5,
    "start_time": "2021-09-14T19:36:57.295Z"
   },
   {
    "duration": 151,
    "start_time": "2021-09-14T19:36:57.302Z"
   },
   {
    "duration": 7106,
    "start_time": "2021-09-14T19:36:57.455Z"
   },
   {
    "duration": 3675,
    "start_time": "2021-09-14T19:37:04.564Z"
   },
   {
    "duration": 7,
    "start_time": "2021-09-14T19:37:08.241Z"
   },
   {
    "duration": 11,
    "start_time": "2021-09-14T19:37:08.249Z"
   },
   {
    "duration": 9,
    "start_time": "2021-09-14T19:37:08.261Z"
   },
   {
    "duration": 4,
    "start_time": "2021-09-14T19:37:08.291Z"
   },
   {
    "duration": 8,
    "start_time": "2021-09-14T19:37:08.297Z"
   },
   {
    "duration": 7,
    "start_time": "2021-09-14T19:37:08.307Z"
   },
   {
    "duration": 9,
    "start_time": "2021-09-14T19:37:08.315Z"
   },
   {
    "duration": 6,
    "start_time": "2021-09-14T19:37:08.325Z"
   },
   {
    "duration": 8,
    "start_time": "2021-09-14T19:37:08.333Z"
   },
   {
    "duration": 151,
    "start_time": "2021-09-14T19:37:08.343Z"
   },
   {
    "duration": 560,
    "start_time": "2021-09-14T19:41:42.231Z"
   },
   {
    "duration": 3625,
    "start_time": "2021-09-14T19:42:13.138Z"
   },
   {
    "duration": 255,
    "start_time": "2021-09-14T19:44:42.618Z"
   },
   {
    "duration": 3517,
    "start_time": "2021-09-14T19:44:56.535Z"
   },
   {
    "duration": 6855,
    "start_time": "2021-09-14T19:45:20.791Z"
   },
   {
    "duration": 7,
    "start_time": "2021-09-14T19:45:40.186Z"
   },
   {
    "duration": 5,
    "start_time": "2021-09-14T19:45:43.439Z"
   },
   {
    "duration": 4032,
    "start_time": "2021-09-14T19:46:05.085Z"
   },
   {
    "duration": 8,
    "start_time": "2021-09-14T19:46:34.019Z"
   },
   {
    "duration": 5,
    "start_time": "2021-09-14T19:46:36.484Z"
   },
   {
    "duration": 3527,
    "start_time": "2021-09-14T19:46:46.250Z"
   },
   {
    "duration": 87,
    "start_time": "2021-09-14T19:51:32.081Z"
   },
   {
    "duration": 4708,
    "start_time": "2021-09-14T19:52:25.025Z"
   },
   {
    "duration": 9919,
    "start_time": "2021-09-14T19:53:14.928Z"
   },
   {
    "duration": 49097,
    "start_time": "2021-09-14T19:53:46.815Z"
   },
   {
    "duration": 6,
    "start_time": "2021-09-14T19:54:35.914Z"
   },
   {
    "duration": 5,
    "start_time": "2021-09-14T19:54:47.048Z"
   },
   {
    "duration": 5,
    "start_time": "2021-09-14T19:54:49.647Z"
   },
   {
    "duration": 3700,
    "start_time": "2021-09-14T19:54:59.821Z"
   },
   {
    "duration": 6615,
    "start_time": "2021-09-14T19:56:35.106Z"
   },
   {
    "duration": 6,
    "start_time": "2021-09-14T19:56:51.273Z"
   },
   {
    "duration": 5,
    "start_time": "2021-09-14T19:56:53.499Z"
   },
   {
    "duration": 2480,
    "start_time": "2021-09-14T20:00:41.048Z"
   },
   {
    "duration": 3635,
    "start_time": "2021-09-14T20:01:06.530Z"
   },
   {
    "duration": 996,
    "start_time": "2021-09-14T20:01:53.635Z"
   },
   {
    "duration": 35,
    "start_time": "2021-09-14T20:01:54.633Z"
   },
   {
    "duration": 5,
    "start_time": "2021-09-14T20:01:54.670Z"
   },
   {
    "duration": 15,
    "start_time": "2021-09-14T20:01:54.676Z"
   },
   {
    "duration": 5,
    "start_time": "2021-09-14T20:01:54.693Z"
   },
   {
    "duration": 148,
    "start_time": "2021-09-14T20:01:54.700Z"
   },
   {
    "duration": 7214,
    "start_time": "2021-09-14T20:01:54.850Z"
   },
   {
    "duration": 3520,
    "start_time": "2021-09-14T20:02:02.066Z"
   },
   {
    "duration": 6,
    "start_time": "2021-09-14T20:02:05.591Z"
   },
   {
    "duration": 16,
    "start_time": "2021-09-14T20:02:05.599Z"
   },
   {
    "duration": 6,
    "start_time": "2021-09-14T20:02:05.617Z"
   },
   {
    "duration": 6,
    "start_time": "2021-09-14T20:02:05.624Z"
   },
   {
    "duration": 6,
    "start_time": "2021-09-14T20:02:05.631Z"
   },
   {
    "duration": 7,
    "start_time": "2021-09-14T20:02:05.639Z"
   },
   {
    "duration": 12,
    "start_time": "2021-09-14T20:02:05.647Z"
   },
   {
    "duration": 32,
    "start_time": "2021-09-14T20:02:05.661Z"
   },
   {
    "duration": 16,
    "start_time": "2021-09-14T20:02:05.695Z"
   },
   {
    "duration": 99,
    "start_time": "2021-09-14T20:02:05.793Z"
   },
   {
    "duration": 1061,
    "start_time": "2021-09-14T20:10:14.077Z"
   },
   {
    "duration": 37,
    "start_time": "2021-09-14T20:10:15.140Z"
   },
   {
    "duration": 5,
    "start_time": "2021-09-14T20:10:15.179Z"
   },
   {
    "duration": 14,
    "start_time": "2021-09-14T20:10:15.185Z"
   },
   {
    "duration": 5,
    "start_time": "2021-09-14T20:10:15.200Z"
   },
   {
    "duration": 156,
    "start_time": "2021-09-14T20:10:15.206Z"
   },
   {
    "duration": 6997,
    "start_time": "2021-09-14T20:10:15.364Z"
   },
   {
    "duration": 2354,
    "start_time": "2021-09-14T20:10:22.364Z"
   },
   {
    "duration": 5,
    "start_time": "2021-09-14T20:10:24.720Z"
   },
   {
    "duration": 11,
    "start_time": "2021-09-14T20:10:24.727Z"
   },
   {
    "duration": 6,
    "start_time": "2021-09-14T20:10:24.739Z"
   },
   {
    "duration": 4,
    "start_time": "2021-09-14T20:10:24.747Z"
   },
   {
    "duration": 8,
    "start_time": "2021-09-14T20:10:24.752Z"
   },
   {
    "duration": 32,
    "start_time": "2021-09-14T20:10:24.761Z"
   },
   {
    "duration": 17,
    "start_time": "2021-09-14T20:10:24.795Z"
   },
   {
    "duration": 13,
    "start_time": "2021-09-14T20:10:24.814Z"
   },
   {
    "duration": 10,
    "start_time": "2021-09-14T20:10:24.828Z"
   },
   {
    "duration": 60,
    "start_time": "2021-09-14T20:10:24.840Z"
   },
   {
    "duration": 3,
    "start_time": "2021-09-14T20:26:08.889Z"
   },
   {
    "duration": 6,
    "start_time": "2021-09-14T20:27:49.794Z"
   },
   {
    "duration": 7,
    "start_time": "2021-09-14T20:28:31.218Z"
   },
   {
    "duration": 6,
    "start_time": "2021-09-14T20:28:43.659Z"
   },
   {
    "duration": 981,
    "start_time": "2021-09-14T20:29:32.047Z"
   },
   {
    "duration": 36,
    "start_time": "2021-09-14T20:29:33.030Z"
   },
   {
    "duration": 5,
    "start_time": "2021-09-14T20:29:33.068Z"
   },
   {
    "duration": 23,
    "start_time": "2021-09-14T20:29:33.074Z"
   },
   {
    "duration": 9,
    "start_time": "2021-09-14T20:29:33.099Z"
   },
   {
    "duration": 153,
    "start_time": "2021-09-14T20:29:33.110Z"
   },
   {
    "duration": 6804,
    "start_time": "2021-09-14T20:29:33.265Z"
   },
   {
    "duration": 3484,
    "start_time": "2021-09-14T20:29:40.071Z"
   },
   {
    "duration": 6,
    "start_time": "2021-09-14T20:29:43.558Z"
   },
   {
    "duration": 8,
    "start_time": "2021-09-14T20:29:43.565Z"
   },
   {
    "duration": 7,
    "start_time": "2021-09-14T20:29:43.591Z"
   },
   {
    "duration": 8,
    "start_time": "2021-09-14T20:29:43.599Z"
   },
   {
    "duration": 8,
    "start_time": "2021-09-14T20:29:43.608Z"
   },
   {
    "duration": 5,
    "start_time": "2021-09-14T20:29:43.617Z"
   },
   {
    "duration": 8,
    "start_time": "2021-09-14T20:29:43.624Z"
   },
   {
    "duration": 6,
    "start_time": "2021-09-14T20:29:43.634Z"
   },
   {
    "duration": 49,
    "start_time": "2021-09-14T20:29:43.642Z"
   },
   {
    "duration": 104,
    "start_time": "2021-09-14T20:29:43.693Z"
   },
   {
    "duration": 9,
    "start_time": "2021-09-14T20:29:43.799Z"
   },
   {
    "duration": 9,
    "start_time": "2021-09-14T20:29:43.809Z"
   },
   {
    "duration": 6,
    "start_time": "2021-09-14T20:29:43.819Z"
   },
   {
    "duration": 159,
    "start_time": "2021-09-14T20:32:20.657Z"
   },
   {
    "duration": 7,
    "start_time": "2021-09-14T20:33:34.210Z"
   },
   {
    "duration": 5,
    "start_time": "2021-09-14T20:33:41.477Z"
   },
   {
    "duration": 5,
    "start_time": "2021-09-14T20:33:54.427Z"
   },
   {
    "duration": 160,
    "start_time": "2021-09-14T20:34:23.046Z"
   },
   {
    "duration": 139,
    "start_time": "2021-09-14T20:35:10.365Z"
   },
   {
    "duration": 1597,
    "start_time": "2021-09-14T20:35:34.218Z"
   },
   {
    "duration": 35,
    "start_time": "2021-09-14T20:35:35.817Z"
   },
   {
    "duration": 5,
    "start_time": "2021-09-14T20:35:35.854Z"
   },
   {
    "duration": 11,
    "start_time": "2021-09-14T20:35:35.861Z"
   },
   {
    "duration": 19,
    "start_time": "2021-09-14T20:35:35.874Z"
   },
   {
    "duration": 146,
    "start_time": "2021-09-14T20:35:35.895Z"
   },
   {
    "duration": 6837,
    "start_time": "2021-09-14T20:35:36.043Z"
   },
   {
    "duration": 2424,
    "start_time": "2021-09-14T20:35:42.883Z"
   },
   {
    "duration": 6,
    "start_time": "2021-09-14T20:35:45.310Z"
   },
   {
    "duration": 9,
    "start_time": "2021-09-14T20:35:45.318Z"
   },
   {
    "duration": 7,
    "start_time": "2021-09-14T20:35:45.329Z"
   },
   {
    "duration": 5,
    "start_time": "2021-09-14T20:35:45.338Z"
   },
   {
    "duration": 50,
    "start_time": "2021-09-14T20:35:45.344Z"
   },
   {
    "duration": 5,
    "start_time": "2021-09-14T20:35:45.396Z"
   },
   {
    "duration": 9,
    "start_time": "2021-09-14T20:35:45.403Z"
   },
   {
    "duration": 6,
    "start_time": "2021-09-14T20:35:45.414Z"
   },
   {
    "duration": 6,
    "start_time": "2021-09-14T20:35:45.421Z"
   },
   {
    "duration": 67,
    "start_time": "2021-09-14T20:35:45.429Z"
   },
   {
    "duration": 98,
    "start_time": "2021-09-14T20:35:45.498Z"
   },
   {
    "duration": 9,
    "start_time": "2021-09-14T20:35:45.598Z"
   },
   {
    "duration": 5,
    "start_time": "2021-09-14T20:35:45.609Z"
   },
   {
    "duration": 4,
    "start_time": "2021-09-14T20:37:13.009Z"
   },
   {
    "duration": 7,
    "start_time": "2021-09-14T20:37:55.454Z"
   },
   {
    "duration": 8,
    "start_time": "2021-09-14T20:38:51.819Z"
   },
   {
    "duration": 7,
    "start_time": "2021-09-14T20:39:03.417Z"
   },
   {
    "duration": 997,
    "start_time": "2021-09-14T20:39:29.434Z"
   },
   {
    "duration": 36,
    "start_time": "2021-09-14T20:39:30.433Z"
   },
   {
    "duration": 6,
    "start_time": "2021-09-14T20:39:30.471Z"
   },
   {
    "duration": 15,
    "start_time": "2021-09-14T20:39:30.478Z"
   },
   {
    "duration": 21,
    "start_time": "2021-09-14T20:39:30.494Z"
   },
   {
    "duration": 158,
    "start_time": "2021-09-14T20:39:30.517Z"
   },
   {
    "duration": 7174,
    "start_time": "2021-09-14T20:39:30.677Z"
   },
   {
    "duration": 3502,
    "start_time": "2021-09-14T20:39:37.854Z"
   },
   {
    "duration": 6,
    "start_time": "2021-09-14T20:39:41.358Z"
   },
   {
    "duration": 25,
    "start_time": "2021-09-14T20:39:41.366Z"
   },
   {
    "duration": 6,
    "start_time": "2021-09-14T20:39:41.393Z"
   },
   {
    "duration": 7,
    "start_time": "2021-09-14T20:39:41.400Z"
   },
   {
    "duration": 7,
    "start_time": "2021-09-14T20:39:41.408Z"
   },
   {
    "duration": 7,
    "start_time": "2021-09-14T20:39:41.417Z"
   },
   {
    "duration": 9,
    "start_time": "2021-09-14T20:39:41.426Z"
   },
   {
    "duration": 6,
    "start_time": "2021-09-14T20:39:41.437Z"
   },
   {
    "duration": 57,
    "start_time": "2021-09-14T20:39:41.444Z"
   },
   {
    "duration": 5,
    "start_time": "2021-09-14T20:39:41.593Z"
   },
   {
    "duration": 12,
    "start_time": "2021-09-14T20:39:41.599Z"
   },
   {
    "duration": 8,
    "start_time": "2021-09-14T20:39:41.613Z"
   },
   {
    "duration": 8,
    "start_time": "2021-09-14T20:39:41.622Z"
   },
   {
    "duration": 12,
    "start_time": "2021-09-14T20:39:41.632Z"
   },
   {
    "duration": 10,
    "start_time": "2021-09-14T20:39:41.647Z"
   },
   {
    "duration": 34,
    "start_time": "2021-09-14T20:39:41.659Z"
   },
   {
    "duration": 3,
    "start_time": "2021-09-14T20:44:43.465Z"
   },
   {
    "duration": 6,
    "start_time": "2021-09-14T20:45:13.985Z"
   },
   {
    "duration": 7,
    "start_time": "2021-09-14T20:45:52.777Z"
   },
   {
    "duration": 6,
    "start_time": "2021-09-14T20:46:05.615Z"
   },
   {
    "duration": 338,
    "start_time": "2021-09-14T20:48:16.872Z"
   },
   {
    "duration": 1063,
    "start_time": "2021-09-14T20:48:31.771Z"
   },
   {
    "duration": 35,
    "start_time": "2021-09-14T20:48:32.836Z"
   },
   {
    "duration": 5,
    "start_time": "2021-09-14T20:48:32.872Z"
   },
   {
    "duration": 17,
    "start_time": "2021-09-14T20:48:32.879Z"
   },
   {
    "duration": 5,
    "start_time": "2021-09-14T20:48:32.897Z"
   },
   {
    "duration": 147,
    "start_time": "2021-09-14T20:48:32.904Z"
   },
   {
    "duration": 7021,
    "start_time": "2021-09-14T20:48:33.053Z"
   },
   {
    "duration": 3479,
    "start_time": "2021-09-14T20:48:40.077Z"
   },
   {
    "duration": 6,
    "start_time": "2021-09-14T20:48:43.559Z"
   },
   {
    "duration": 8,
    "start_time": "2021-09-14T20:48:43.567Z"
   },
   {
    "duration": 5,
    "start_time": "2021-09-14T20:48:43.592Z"
   },
   {
    "duration": 6,
    "start_time": "2021-09-14T20:48:43.599Z"
   },
   {
    "duration": 6,
    "start_time": "2021-09-14T20:48:43.606Z"
   },
   {
    "duration": 4,
    "start_time": "2021-09-14T20:48:43.614Z"
   },
   {
    "duration": 9,
    "start_time": "2021-09-14T20:48:43.620Z"
   },
   {
    "duration": 7,
    "start_time": "2021-09-14T20:48:43.630Z"
   },
   {
    "duration": 55,
    "start_time": "2021-09-14T20:48:43.638Z"
   },
   {
    "duration": 7,
    "start_time": "2021-09-14T20:48:43.696Z"
   },
   {
    "duration": 94,
    "start_time": "2021-09-14T20:48:43.705Z"
   },
   {
    "duration": 6,
    "start_time": "2021-09-14T20:48:43.801Z"
   },
   {
    "duration": 322,
    "start_time": "2021-09-14T20:48:43.809Z"
   },
   {
    "duration": 51,
    "start_time": "2021-09-14T20:48:44.082Z"
   },
   {
    "duration": 50,
    "start_time": "2021-09-14T20:48:44.084Z"
   },
   {
    "duration": 49,
    "start_time": "2021-09-14T20:48:44.086Z"
   },
   {
    "duration": 48,
    "start_time": "2021-09-14T20:48:44.088Z"
   },
   {
    "duration": 47,
    "start_time": "2021-09-14T20:48:44.090Z"
   },
   {
    "duration": 46,
    "start_time": "2021-09-14T20:48:44.092Z"
   },
   {
    "duration": 243,
    "start_time": "2021-09-14T20:49:22.345Z"
   },
   {
    "duration": 257,
    "start_time": "2021-09-14T20:49:54.560Z"
   },
   {
    "duration": 7,
    "start_time": "2021-09-14T20:50:01.739Z"
   },
   {
    "duration": 242,
    "start_time": "2021-09-14T20:51:22.908Z"
   },
   {
    "duration": 6,
    "start_time": "2021-09-14T20:52:33.707Z"
   },
   {
    "duration": 9,
    "start_time": "2021-09-14T20:52:35.573Z"
   },
   {
    "duration": 8,
    "start_time": "2021-09-14T20:52:36.384Z"
   },
   {
    "duration": 7,
    "start_time": "2021-09-14T20:52:37.396Z"
   },
   {
    "duration": 7,
    "start_time": "2021-09-14T20:52:38.262Z"
   },
   {
    "duration": 7,
    "start_time": "2021-09-14T20:52:39.027Z"
   },
   {
    "duration": 7,
    "start_time": "2021-09-14T20:52:39.724Z"
   },
   {
    "duration": 261,
    "start_time": "2021-09-14T21:01:01.503Z"
   },
   {
    "duration": 5,
    "start_time": "2021-09-14T21:01:05.343Z"
   },
   {
    "duration": 257,
    "start_time": "2021-09-14T21:01:20.059Z"
   },
   {
    "duration": 6,
    "start_time": "2021-09-14T21:01:44.955Z"
   },
   {
    "duration": 312,
    "start_time": "2021-09-14T21:02:15.816Z"
   },
   {
    "duration": 237,
    "start_time": "2021-09-14T21:02:38.663Z"
   },
   {
    "duration": 232,
    "start_time": "2021-09-14T21:02:42.175Z"
   },
   {
    "duration": 239,
    "start_time": "2021-09-14T21:03:43.488Z"
   },
   {
    "duration": 6,
    "start_time": "2021-09-14T21:03:53.185Z"
   },
   {
    "duration": 5,
    "start_time": "2021-09-14T21:04:01.401Z"
   },
   {
    "duration": 5,
    "start_time": "2021-09-14T21:04:13.986Z"
   },
   {
    "duration": 6,
    "start_time": "2021-09-14T21:04:53.723Z"
   },
   {
    "duration": 4,
    "start_time": "2021-09-14T21:05:08.405Z"
   },
   {
    "duration": 1396,
    "start_time": "2021-09-15T09:36:44.353Z"
   },
   {
    "duration": 53,
    "start_time": "2021-09-15T09:36:45.752Z"
   },
   {
    "duration": 12,
    "start_time": "2021-09-15T09:36:45.809Z"
   },
   {
    "duration": 18,
    "start_time": "2021-09-15T09:36:45.825Z"
   },
   {
    "duration": 9,
    "start_time": "2021-09-15T09:36:45.845Z"
   },
   {
    "duration": 264,
    "start_time": "2021-09-15T09:36:45.857Z"
   },
   {
    "duration": 11096,
    "start_time": "2021-09-15T09:36:46.124Z"
   },
   {
    "duration": 8136,
    "start_time": "2021-09-15T09:36:57.224Z"
   },
   {
    "duration": 8,
    "start_time": "2021-09-15T09:37:05.363Z"
   },
   {
    "duration": 14,
    "start_time": "2021-09-15T09:37:05.373Z"
   },
   {
    "duration": 8,
    "start_time": "2021-09-15T09:37:05.417Z"
   },
   {
    "duration": 12,
    "start_time": "2021-09-15T09:37:05.427Z"
   },
   {
    "duration": 8,
    "start_time": "2021-09-15T09:37:05.442Z"
   },
   {
    "duration": 9,
    "start_time": "2021-09-15T09:37:05.453Z"
   },
   {
    "duration": 11,
    "start_time": "2021-09-15T09:37:05.465Z"
   },
   {
    "duration": 44,
    "start_time": "2021-09-15T09:37:05.478Z"
   },
   {
    "duration": 15,
    "start_time": "2021-09-15T09:37:05.524Z"
   },
   {
    "duration": 9,
    "start_time": "2021-09-15T09:37:05.542Z"
   },
   {
    "duration": 12,
    "start_time": "2021-09-15T09:37:05.553Z"
   },
   {
    "duration": 9,
    "start_time": "2021-09-15T09:37:05.568Z"
   },
   {
    "duration": 45,
    "start_time": "2021-09-15T09:37:05.579Z"
   },
   {
    "duration": 32,
    "start_time": "2021-09-15T09:37:05.627Z"
   },
   {
    "duration": 9,
    "start_time": "2021-09-15T09:37:05.663Z"
   },
   {
    "duration": 14,
    "start_time": "2021-09-15T09:37:05.674Z"
   },
   {
    "duration": 11,
    "start_time": "2021-09-15T09:37:05.690Z"
   },
   {
    "duration": 5179,
    "start_time": "2021-09-15T09:37:20.846Z"
   },
   {
    "duration": 10,
    "start_time": "2021-09-15T09:37:41.317Z"
   },
   {
    "duration": 7,
    "start_time": "2021-09-15T09:37:55.189Z"
   },
   {
    "duration": 9,
    "start_time": "2021-09-15T09:37:55.805Z"
   },
   {
    "duration": 10,
    "start_time": "2021-09-15T09:37:56.413Z"
   },
   {
    "duration": 9,
    "start_time": "2021-09-15T09:37:56.965Z"
   },
   {
    "duration": 7,
    "start_time": "2021-09-15T09:58:23.907Z"
   },
   {
    "duration": 6,
    "start_time": "2021-09-15T09:58:37.338Z"
   },
   {
    "duration": 552,
    "start_time": "2021-09-15T10:10:04.020Z"
   },
   {
    "duration": 499,
    "start_time": "2021-09-15T10:10:19.221Z"
   },
   {
    "duration": 10,
    "start_time": "2021-09-15T10:10:36.083Z"
   },
   {
    "duration": 9,
    "start_time": "2021-09-15T10:11:20.468Z"
   },
   {
    "duration": 11,
    "start_time": "2021-09-15T10:11:44.957Z"
   },
   {
    "duration": 9,
    "start_time": "2021-09-15T10:13:28.987Z"
   },
   {
    "duration": 5,
    "start_time": "2021-09-15T10:20:09.928Z"
   },
   {
    "duration": 18,
    "start_time": "2021-09-15T10:20:58.951Z"
   },
   {
    "duration": 448,
    "start_time": "2021-09-15T10:21:45.829Z"
   },
   {
    "duration": 42,
    "start_time": "2021-09-15T10:22:12.000Z"
   },
   {
    "duration": 124,
    "start_time": "2021-09-15T10:24:07.014Z"
   },
   {
    "duration": 8,
    "start_time": "2021-09-15T10:24:12.413Z"
   },
   {
    "duration": 9,
    "start_time": "2021-09-15T10:24:18.557Z"
   },
   {
    "duration": 6,
    "start_time": "2021-09-15T10:25:12.117Z"
   },
   {
    "duration": 12,
    "start_time": "2021-09-15T10:26:11.937Z"
   },
   {
    "duration": 11,
    "start_time": "2021-09-15T10:26:36.437Z"
   },
   {
    "duration": 5,
    "start_time": "2021-09-15T10:27:46.349Z"
   },
   {
    "duration": 60,
    "start_time": "2021-09-15T10:27:48.259Z"
   },
   {
    "duration": 5,
    "start_time": "2021-09-15T10:30:54.578Z"
   },
   {
    "duration": 57,
    "start_time": "2021-09-15T10:30:55.258Z"
   },
   {
    "duration": 4,
    "start_time": "2021-09-15T10:32:45.865Z"
   },
   {
    "duration": 48,
    "start_time": "2021-09-15T10:32:46.592Z"
   },
   {
    "duration": 4,
    "start_time": "2021-09-15T10:33:21.128Z"
   },
   {
    "duration": 48,
    "start_time": "2021-09-15T10:33:21.688Z"
   },
   {
    "duration": 5,
    "start_time": "2021-09-15T10:34:12.037Z"
   },
   {
    "duration": 49,
    "start_time": "2021-09-15T10:34:13.753Z"
   },
   {
    "duration": 6,
    "start_time": "2021-09-15T10:35:07.393Z"
   },
   {
    "duration": 47,
    "start_time": "2021-09-15T10:35:08.480Z"
   },
   {
    "duration": 5,
    "start_time": "2021-09-15T10:35:18.281Z"
   },
   {
    "duration": 47,
    "start_time": "2021-09-15T10:35:18.849Z"
   },
   {
    "duration": 5,
    "start_time": "2021-09-15T10:35:26.672Z"
   },
   {
    "duration": 51,
    "start_time": "2021-09-15T10:35:28.223Z"
   },
   {
    "duration": 5,
    "start_time": "2021-09-15T10:35:52.616Z"
   },
   {
    "duration": 49,
    "start_time": "2021-09-15T10:35:53.480Z"
   },
   {
    "duration": 4,
    "start_time": "2021-09-15T10:36:27.448Z"
   },
   {
    "duration": 53,
    "start_time": "2021-09-15T10:36:41.519Z"
   },
   {
    "duration": 5,
    "start_time": "2021-09-15T10:37:18.088Z"
   },
   {
    "duration": 51,
    "start_time": "2021-09-15T10:37:18.401Z"
   },
   {
    "duration": 5,
    "start_time": "2021-09-15T10:37:28.609Z"
   },
   {
    "duration": 51,
    "start_time": "2021-09-15T10:37:28.999Z"
   },
   {
    "duration": 50,
    "start_time": "2021-09-15T10:38:58.350Z"
   },
   {
    "duration": 49,
    "start_time": "2021-09-15T10:39:16.637Z"
   },
   {
    "duration": 4,
    "start_time": "2021-09-15T10:39:30.583Z"
   },
   {
    "duration": 51,
    "start_time": "2021-09-15T10:39:31.702Z"
   },
   {
    "duration": 5,
    "start_time": "2021-09-15T10:42:26.741Z"
   },
   {
    "duration": 50,
    "start_time": "2021-09-15T10:42:27.316Z"
   },
   {
    "duration": 5,
    "start_time": "2021-09-15T10:42:35.308Z"
   },
   {
    "duration": 51,
    "start_time": "2021-09-15T10:42:35.788Z"
   },
   {
    "duration": 5,
    "start_time": "2021-09-15T10:43:24.381Z"
   },
   {
    "duration": 49,
    "start_time": "2021-09-15T10:43:24.612Z"
   },
   {
    "duration": 5,
    "start_time": "2021-09-15T10:48:45.978Z"
   },
   {
    "duration": 51,
    "start_time": "2021-09-15T10:48:47.624Z"
   },
   {
    "duration": 5,
    "start_time": "2021-09-15T10:49:38.354Z"
   },
   {
    "duration": 41,
    "start_time": "2021-09-15T10:49:39.121Z"
   },
   {
    "duration": 5,
    "start_time": "2021-09-15T10:50:18.953Z"
   },
   {
    "duration": 40,
    "start_time": "2021-09-15T10:50:19.536Z"
   },
   {
    "duration": 5,
    "start_time": "2021-09-15T10:51:01.855Z"
   },
   {
    "duration": 41,
    "start_time": "2021-09-15T10:51:02.368Z"
   },
   {
    "duration": 4,
    "start_time": "2021-09-15T10:51:25.424Z"
   },
   {
    "duration": 39,
    "start_time": "2021-09-15T10:51:26.016Z"
   },
   {
    "duration": 5,
    "start_time": "2021-09-15T10:53:18.478Z"
   },
   {
    "duration": 6168,
    "start_time": "2021-09-15T10:53:19.687Z"
   },
   {
    "duration": 5,
    "start_time": "2021-09-15T10:54:12.287Z"
   },
   {
    "duration": 1409,
    "start_time": "2021-09-15T10:54:24.211Z"
   },
   {
    "duration": 51,
    "start_time": "2021-09-15T10:54:25.622Z"
   },
   {
    "duration": 7,
    "start_time": "2021-09-15T10:54:25.676Z"
   },
   {
    "duration": 31,
    "start_time": "2021-09-15T10:54:25.685Z"
   },
   {
    "duration": 8,
    "start_time": "2021-09-15T10:54:25.719Z"
   },
   {
    "duration": 236,
    "start_time": "2021-09-15T10:54:25.729Z"
   },
   {
    "duration": 11031,
    "start_time": "2021-09-15T10:54:25.968Z"
   },
   {
    "duration": 5258,
    "start_time": "2021-09-15T10:54:37.003Z"
   },
   {
    "duration": 8,
    "start_time": "2021-09-15T10:54:42.264Z"
   },
   {
    "duration": 12,
    "start_time": "2021-09-15T10:54:42.274Z"
   },
   {
    "duration": 9,
    "start_time": "2021-09-15T10:54:42.316Z"
   },
   {
    "duration": 7,
    "start_time": "2021-09-15T10:54:42.328Z"
   },
   {
    "duration": 43,
    "start_time": "2021-09-15T10:54:42.337Z"
   },
   {
    "duration": 5,
    "start_time": "2021-09-15T10:58:39.128Z"
   },
   {
    "duration": 41,
    "start_time": "2021-09-15T10:58:39.619Z"
   },
   {
    "duration": 5,
    "start_time": "2021-09-15T10:59:04.839Z"
   },
   {
    "duration": 41,
    "start_time": "2021-09-15T10:59:05.472Z"
   },
   {
    "duration": 1520,
    "start_time": "2021-09-15T11:02:17.541Z"
   },
   {
    "duration": 1531,
    "start_time": "2021-09-15T11:02:19.063Z"
   },
   {
    "duration": 8,
    "start_time": "2021-09-15T11:02:20.597Z"
   },
   {
    "duration": 18,
    "start_time": "2021-09-15T11:02:20.607Z"
   },
   {
    "duration": 13,
    "start_time": "2021-09-15T11:02:20.627Z"
   },
   {
    "duration": 240,
    "start_time": "2021-09-15T11:02:20.642Z"
   },
   {
    "duration": 11268,
    "start_time": "2021-09-15T11:02:20.884Z"
   },
   {
    "duration": 8094,
    "start_time": "2021-09-15T11:02:32.157Z"
   },
   {
    "duration": 10,
    "start_time": "2021-09-15T11:02:40.255Z"
   },
   {
    "duration": 13,
    "start_time": "2021-09-15T11:02:40.269Z"
   },
   {
    "duration": 42,
    "start_time": "2021-09-15T11:02:40.284Z"
   },
   {
    "duration": 7,
    "start_time": "2021-09-15T11:02:40.329Z"
   },
   {
    "duration": 78,
    "start_time": "2021-09-15T11:02:40.339Z"
   },
   {
    "duration": 1464,
    "start_time": "2021-09-15T11:04:33.605Z"
   },
   {
    "duration": 51,
    "start_time": "2021-09-15T11:04:35.071Z"
   },
   {
    "duration": 7,
    "start_time": "2021-09-15T11:04:35.125Z"
   },
   {
    "duration": 17,
    "start_time": "2021-09-15T11:04:35.135Z"
   },
   {
    "duration": 7,
    "start_time": "2021-09-15T11:04:35.155Z"
   },
   {
    "duration": 255,
    "start_time": "2021-09-15T11:04:35.164Z"
   },
   {
    "duration": 11411,
    "start_time": "2021-09-15T11:04:35.421Z"
   },
   {
    "duration": 5161,
    "start_time": "2021-09-15T11:04:46.835Z"
   },
   {
    "duration": 22,
    "start_time": "2021-09-15T11:04:51.999Z"
   },
   {
    "duration": 12,
    "start_time": "2021-09-15T11:04:52.024Z"
   },
   {
    "duration": 10,
    "start_time": "2021-09-15T11:04:52.038Z"
   },
   {
    "duration": 4,
    "start_time": "2021-09-15T11:04:52.050Z"
   },
   {
    "duration": 82,
    "start_time": "2021-09-15T11:04:52.057Z"
   },
   {
    "duration": 522,
    "start_time": "2021-09-15T11:16:20.986Z"
   },
   {
    "duration": 7,
    "start_time": "2021-09-15T11:16:27.370Z"
   },
   {
    "duration": 11,
    "start_time": "2021-09-15T11:20:33.721Z"
   },
   {
    "duration": 1365,
    "start_time": "2021-09-15T11:40:37.882Z"
   },
   {
    "duration": 51,
    "start_time": "2021-09-15T11:40:39.250Z"
   },
   {
    "duration": 14,
    "start_time": "2021-09-15T11:40:39.303Z"
   },
   {
    "duration": 7,
    "start_time": "2021-09-15T11:40:39.319Z"
   },
   {
    "duration": 7,
    "start_time": "2021-09-15T11:40:39.329Z"
   },
   {
    "duration": 14,
    "start_time": "2021-09-15T11:40:39.338Z"
   },
   {
    "duration": 7,
    "start_time": "2021-09-15T11:40:39.354Z"
   },
   {
    "duration": 302,
    "start_time": "2021-09-15T11:40:39.364Z"
   },
   {
    "duration": 11376,
    "start_time": "2021-09-15T11:40:39.670Z"
   },
   {
    "duration": 5358,
    "start_time": "2021-09-15T11:40:51.049Z"
   },
   {
    "duration": 10,
    "start_time": "2021-09-15T11:40:56.416Z"
   },
   {
    "duration": 16,
    "start_time": "2021-09-15T11:40:56.428Z"
   },
   {
    "duration": 9,
    "start_time": "2021-09-15T11:40:56.447Z"
   },
   {
    "duration": 9,
    "start_time": "2021-09-15T11:40:56.459Z"
   },
   {
    "duration": 79,
    "start_time": "2021-09-15T11:40:56.471Z"
   },
   {
    "duration": 1606,
    "start_time": "2021-09-15T12:11:30.546Z"
   },
   {
    "duration": 1558,
    "start_time": "2021-09-15T12:11:32.155Z"
   },
   {
    "duration": 8,
    "start_time": "2021-09-15T12:11:33.717Z"
   },
   {
    "duration": 7,
    "start_time": "2021-09-15T12:11:33.728Z"
   },
   {
    "duration": 7,
    "start_time": "2021-09-15T12:11:33.738Z"
   },
   {
    "duration": 14,
    "start_time": "2021-09-15T12:11:33.747Z"
   },
   {
    "duration": 8,
    "start_time": "2021-09-15T12:11:33.764Z"
   },
   {
    "duration": 229,
    "start_time": "2021-09-15T12:11:33.818Z"
   },
   {
    "duration": 11203,
    "start_time": "2021-09-15T12:11:34.050Z"
   },
   {
    "duration": 5409,
    "start_time": "2021-09-15T12:11:45.256Z"
   },
   {
    "duration": 10,
    "start_time": "2021-09-15T12:11:50.668Z"
   },
   {
    "duration": 38,
    "start_time": "2021-09-15T12:11:50.680Z"
   },
   {
    "duration": 10,
    "start_time": "2021-09-15T12:11:50.720Z"
   },
   {
    "duration": 5,
    "start_time": "2021-09-15T12:11:50.733Z"
   },
   {
    "duration": 43,
    "start_time": "2021-09-15T12:11:50.740Z"
   }
  ],
  "kernelspec": {
   "display_name": "Python 3 (ipykernel)",
   "language": "python",
   "name": "python3"
  },
  "language_info": {
   "codemirror_mode": {
    "name": "ipython",
    "version": 3
   },
   "file_extension": ".py",
   "mimetype": "text/x-python",
   "name": "python",
   "nbconvert_exporter": "python",
   "pygments_lexer": "ipython3",
   "version": "3.10.5"
  },
  "toc": {
   "base_numbering": 1,
   "nav_menu": {},
   "number_sections": true,
   "sideBar": true,
   "skip_h1_title": true,
   "title_cell": "Table of Contents",
   "title_sidebar": "Contents",
   "toc_cell": false,
   "toc_position": {
    "height": "calc(100% - 180px)",
    "left": "10px",
    "top": "150px",
    "width": "287.188px"
   },
   "toc_section_display": true,
   "toc_window_display": true
  }
 },
 "nbformat": 4,
 "nbformat_minor": 2
}
