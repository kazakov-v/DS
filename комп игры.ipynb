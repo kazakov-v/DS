{
 "cells": [
  {
   "cell_type": "code",
   "execution_count": 1,
   "metadata": {
    "_cell_guid": "79c7e3d0-c299-4dcb-8224-4455121ee9b0",
    "_uuid": "d629ff2d2480ee46fbb7e2d37f6b5fab8052498a"
   },
   "outputs": [],
   "source": [
    "import pandas as pd\n",
    "import matplotlib.pyplot as plt\n",
    "%matplotlib inline\n",
    "import seaborn as sns\n",
    "import numpy as np\n",
    "from scipy import stats as st\n",
    "import re"
   ]
  },
  {
   "cell_type": "markdown",
   "metadata": {},
   "source": [
    "<div class=\"alert alert-block alert-info\">\n",
    "<b> Описание проекта:</b><br><br>\n",
    "Интернет-магазин «Стримчик», который продаёт по всему миру компьютерные игры. Из открытых источников доступны исторические данные о продажах игр, оценки пользователей и экспертов, жанры и платформы (например, Xbox или PlayStation). Нам нужно выявить определяющие успешность игры закономерности. Это позволит сделать ставку на потенциально популярный продукт и спланировать рекламные кампании.<br><br>\n",
    "Перед нами данные до 2016 года. Представим, что сейчас декабрь 2016 г., и мы планируем кампанию на 2017-й. Нужно отработать принцип работы с данными. Не важно, прогнозируем ли мы продажи на 2017 год по данным 2016-го или же 2027-й — по данным 2026 года.<br><br>\n",
    "В наборе данных попадается аббревиатура ESRB (Entertainment Software Rating Board) — это ассоциация, определяющая возрастной рейтинг компьютерных игр. ESRB оценивает игровой контент и присваивает ему подходящую возрастную категорию, например, «Для взрослых», «Для детей младшего возраста» или «Для подростков».\n",
    "\n",
    "<br><br>\n",
    "<b>Описание данных:</b><br><br>\n",
    "<b>Name</b> — название игры<br>\n",
    "<b>Platform</b> — платформа<br>\n",
    "<b>Year_of_Release</b> — год выпуска<br>\n",
    "<b>Genre</b> — жанр игры<br>\n",
    "<b>NA_sales</b> — продажи в Северной Америке (миллионы долларов)<br>\n",
    "<b>EU_sales</b> — продажи в Европе (миллионы долларов)<br>\n",
    "<b>JP_sales</b> — продажи в Японии (миллионы долларов)<br>\n",
    "<b>Other_sales</b> — продажи в других странах (миллионы долларов)<br>\n",
    "<b>Critic_Score</b> — оценка критиков (максимум 100)<br>\n",
    "<b>User_Score</b> — оценка пользователей (максимум 10)<br>\n",
    "<b>Rating</b> — рейтинг от организации ESRB (англ. Entertainment Software Rating Board). Эта ассоциация определяет рейтинг компьютерных игр и присваивает им подходящую возрастную категорию.<br><br>\n",
    "    <i>* Данные за 2016 год могут быть неполными.</i><br>\n",
    "\n",
    "</div>\n",
    "\n"
   ]
  },
  {
   "cell_type": "markdown",
   "metadata": {},
   "source": [
    "## Шаг 1: Изучим общую информацию из имеющихся данных "
   ]
  },
  {
   "cell_type": "code",
   "execution_count": 2,
   "metadata": {},
   "outputs": [
    {
     "name": "stdout",
     "output_type": "stream",
     "text": [
      "<class 'pandas.core.frame.DataFrame'>\n",
      "RangeIndex: 16715 entries, 0 to 16714\n",
      "Data columns (total 11 columns):\n",
      "Name               16713 non-null object\n",
      "Platform           16715 non-null object\n",
      "Year_of_Release    16446 non-null float64\n",
      "Genre              16713 non-null object\n",
      "NA_sales           16715 non-null float64\n",
      "EU_sales           16715 non-null float64\n",
      "JP_sales           16715 non-null float64\n",
      "Other_sales        16715 non-null float64\n",
      "Critic_Score       8137 non-null float64\n",
      "User_Score         10014 non-null object\n",
      "Rating             9949 non-null object\n",
      "dtypes: float64(6), object(5)\n",
      "memory usage: 1.4+ MB\n"
     ]
    },
    {
     "data": {
      "text/html": [
       "<div>\n",
       "<style scoped>\n",
       "    .dataframe tbody tr th:only-of-type {\n",
       "        vertical-align: middle;\n",
       "    }\n",
       "\n",
       "    .dataframe tbody tr th {\n",
       "        vertical-align: top;\n",
       "    }\n",
       "\n",
       "    .dataframe thead th {\n",
       "        text-align: right;\n",
       "    }\n",
       "</style>\n",
       "<table border=\"1\" class=\"dataframe\">\n",
       "  <thead>\n",
       "    <tr style=\"text-align: right;\">\n",
       "      <th></th>\n",
       "      <th>Name</th>\n",
       "      <th>Platform</th>\n",
       "      <th>Year_of_Release</th>\n",
       "      <th>Genre</th>\n",
       "      <th>NA_sales</th>\n",
       "      <th>EU_sales</th>\n",
       "      <th>JP_sales</th>\n",
       "      <th>Other_sales</th>\n",
       "      <th>Critic_Score</th>\n",
       "      <th>User_Score</th>\n",
       "      <th>Rating</th>\n",
       "    </tr>\n",
       "  </thead>\n",
       "  <tbody>\n",
       "    <tr>\n",
       "      <td>0</td>\n",
       "      <td>Wii Sports</td>\n",
       "      <td>Wii</td>\n",
       "      <td>2006.0</td>\n",
       "      <td>Sports</td>\n",
       "      <td>41.36</td>\n",
       "      <td>28.96</td>\n",
       "      <td>3.77</td>\n",
       "      <td>8.45</td>\n",
       "      <td>76.0</td>\n",
       "      <td>8</td>\n",
       "      <td>E</td>\n",
       "    </tr>\n",
       "    <tr>\n",
       "      <td>1</td>\n",
       "      <td>Super Mario Bros.</td>\n",
       "      <td>NES</td>\n",
       "      <td>1985.0</td>\n",
       "      <td>Platform</td>\n",
       "      <td>29.08</td>\n",
       "      <td>3.58</td>\n",
       "      <td>6.81</td>\n",
       "      <td>0.77</td>\n",
       "      <td>NaN</td>\n",
       "      <td>NaN</td>\n",
       "      <td>NaN</td>\n",
       "    </tr>\n",
       "    <tr>\n",
       "      <td>2</td>\n",
       "      <td>Mario Kart Wii</td>\n",
       "      <td>Wii</td>\n",
       "      <td>2008.0</td>\n",
       "      <td>Racing</td>\n",
       "      <td>15.68</td>\n",
       "      <td>12.76</td>\n",
       "      <td>3.79</td>\n",
       "      <td>3.29</td>\n",
       "      <td>82.0</td>\n",
       "      <td>8.3</td>\n",
       "      <td>E</td>\n",
       "    </tr>\n",
       "    <tr>\n",
       "      <td>3</td>\n",
       "      <td>Wii Sports Resort</td>\n",
       "      <td>Wii</td>\n",
       "      <td>2009.0</td>\n",
       "      <td>Sports</td>\n",
       "      <td>15.61</td>\n",
       "      <td>10.93</td>\n",
       "      <td>3.28</td>\n",
       "      <td>2.95</td>\n",
       "      <td>80.0</td>\n",
       "      <td>8</td>\n",
       "      <td>E</td>\n",
       "    </tr>\n",
       "    <tr>\n",
       "      <td>4</td>\n",
       "      <td>Pokemon Red/Pokemon Blue</td>\n",
       "      <td>GB</td>\n",
       "      <td>1996.0</td>\n",
       "      <td>Role-Playing</td>\n",
       "      <td>11.27</td>\n",
       "      <td>8.89</td>\n",
       "      <td>10.22</td>\n",
       "      <td>1.00</td>\n",
       "      <td>NaN</td>\n",
       "      <td>NaN</td>\n",
       "      <td>NaN</td>\n",
       "    </tr>\n",
       "    <tr>\n",
       "      <td>...</td>\n",
       "      <td>...</td>\n",
       "      <td>...</td>\n",
       "      <td>...</td>\n",
       "      <td>...</td>\n",
       "      <td>...</td>\n",
       "      <td>...</td>\n",
       "      <td>...</td>\n",
       "      <td>...</td>\n",
       "      <td>...</td>\n",
       "      <td>...</td>\n",
       "      <td>...</td>\n",
       "    </tr>\n",
       "    <tr>\n",
       "      <td>16710</td>\n",
       "      <td>Samurai Warriors: Sanada Maru</td>\n",
       "      <td>PS3</td>\n",
       "      <td>2016.0</td>\n",
       "      <td>Action</td>\n",
       "      <td>0.00</td>\n",
       "      <td>0.00</td>\n",
       "      <td>0.01</td>\n",
       "      <td>0.00</td>\n",
       "      <td>NaN</td>\n",
       "      <td>NaN</td>\n",
       "      <td>NaN</td>\n",
       "    </tr>\n",
       "    <tr>\n",
       "      <td>16711</td>\n",
       "      <td>LMA Manager 2007</td>\n",
       "      <td>X360</td>\n",
       "      <td>2006.0</td>\n",
       "      <td>Sports</td>\n",
       "      <td>0.00</td>\n",
       "      <td>0.01</td>\n",
       "      <td>0.00</td>\n",
       "      <td>0.00</td>\n",
       "      <td>NaN</td>\n",
       "      <td>NaN</td>\n",
       "      <td>NaN</td>\n",
       "    </tr>\n",
       "    <tr>\n",
       "      <td>16712</td>\n",
       "      <td>Haitaka no Psychedelica</td>\n",
       "      <td>PSV</td>\n",
       "      <td>2016.0</td>\n",
       "      <td>Adventure</td>\n",
       "      <td>0.00</td>\n",
       "      <td>0.00</td>\n",
       "      <td>0.01</td>\n",
       "      <td>0.00</td>\n",
       "      <td>NaN</td>\n",
       "      <td>NaN</td>\n",
       "      <td>NaN</td>\n",
       "    </tr>\n",
       "    <tr>\n",
       "      <td>16713</td>\n",
       "      <td>Spirits &amp; Spells</td>\n",
       "      <td>GBA</td>\n",
       "      <td>2003.0</td>\n",
       "      <td>Platform</td>\n",
       "      <td>0.01</td>\n",
       "      <td>0.00</td>\n",
       "      <td>0.00</td>\n",
       "      <td>0.00</td>\n",
       "      <td>NaN</td>\n",
       "      <td>NaN</td>\n",
       "      <td>NaN</td>\n",
       "    </tr>\n",
       "    <tr>\n",
       "      <td>16714</td>\n",
       "      <td>Winning Post 8 2016</td>\n",
       "      <td>PSV</td>\n",
       "      <td>2016.0</td>\n",
       "      <td>Simulation</td>\n",
       "      <td>0.00</td>\n",
       "      <td>0.00</td>\n",
       "      <td>0.01</td>\n",
       "      <td>0.00</td>\n",
       "      <td>NaN</td>\n",
       "      <td>NaN</td>\n",
       "      <td>NaN</td>\n",
       "    </tr>\n",
       "  </tbody>\n",
       "</table>\n",
       "<p>16715 rows × 11 columns</p>\n",
       "</div>"
      ],
      "text/plain": [
       "                                Name Platform  Year_of_Release         Genre  \\\n",
       "0                         Wii Sports      Wii           2006.0        Sports   \n",
       "1                  Super Mario Bros.      NES           1985.0      Platform   \n",
       "2                     Mario Kart Wii      Wii           2008.0        Racing   \n",
       "3                  Wii Sports Resort      Wii           2009.0        Sports   \n",
       "4           Pokemon Red/Pokemon Blue       GB           1996.0  Role-Playing   \n",
       "...                              ...      ...              ...           ...   \n",
       "16710  Samurai Warriors: Sanada Maru      PS3           2016.0        Action   \n",
       "16711               LMA Manager 2007     X360           2006.0        Sports   \n",
       "16712        Haitaka no Psychedelica      PSV           2016.0     Adventure   \n",
       "16713               Spirits & Spells      GBA           2003.0      Platform   \n",
       "16714            Winning Post 8 2016      PSV           2016.0    Simulation   \n",
       "\n",
       "       NA_sales  EU_sales  JP_sales  Other_sales  Critic_Score User_Score  \\\n",
       "0         41.36     28.96      3.77         8.45          76.0          8   \n",
       "1         29.08      3.58      6.81         0.77           NaN        NaN   \n",
       "2         15.68     12.76      3.79         3.29          82.0        8.3   \n",
       "3         15.61     10.93      3.28         2.95          80.0          8   \n",
       "4         11.27      8.89     10.22         1.00           NaN        NaN   \n",
       "...         ...       ...       ...          ...           ...        ...   \n",
       "16710      0.00      0.00      0.01         0.00           NaN        NaN   \n",
       "16711      0.00      0.01      0.00         0.00           NaN        NaN   \n",
       "16712      0.00      0.00      0.01         0.00           NaN        NaN   \n",
       "16713      0.01      0.00      0.00         0.00           NaN        NaN   \n",
       "16714      0.00      0.00      0.01         0.00           NaN        NaN   \n",
       "\n",
       "      Rating  \n",
       "0          E  \n",
       "1        NaN  \n",
       "2          E  \n",
       "3          E  \n",
       "4        NaN  \n",
       "...      ...  \n",
       "16710    NaN  \n",
       "16711    NaN  \n",
       "16712    NaN  \n",
       "16713    NaN  \n",
       "16714    NaN  \n",
       "\n",
       "[16715 rows x 11 columns]"
      ]
     },
     "execution_count": 2,
     "metadata": {},
     "output_type": "execute_result"
    }
   ],
   "source": [
    "df = pd.read_csv('/datasets/games.csv')\n",
    "df.info()\n",
    "df"
   ]
  },
  {
   "cell_type": "code",
   "execution_count": 3,
   "metadata": {},
   "outputs": [
    {
     "data": {
      "text/plain": [
       "Name                  2\n",
       "Platform              0\n",
       "Year_of_Release     269\n",
       "Genre                 2\n",
       "NA_sales              0\n",
       "EU_sales              0\n",
       "JP_sales              0\n",
       "Other_sales           0\n",
       "Critic_Score       8578\n",
       "User_Score         6701\n",
       "Rating             6766\n",
       "dtype: int64"
      ]
     },
     "execution_count": 3,
     "metadata": {},
     "output_type": "execute_result"
    }
   ],
   "source": [
    "# отсутствуют данные:\n",
    "df.isna().sum()"
   ]
  },
  {
   "cell_type": "code",
   "execution_count": 4,
   "metadata": {},
   "outputs": [
    {
     "data": {
      "text/html": [
       "<div>\n",
       "<style scoped>\n",
       "    .dataframe tbody tr th:only-of-type {\n",
       "        vertical-align: middle;\n",
       "    }\n",
       "\n",
       "    .dataframe tbody tr th {\n",
       "        vertical-align: top;\n",
       "    }\n",
       "\n",
       "    .dataframe thead th {\n",
       "        text-align: right;\n",
       "    }\n",
       "</style>\n",
       "<table border=\"1\" class=\"dataframe\">\n",
       "  <thead>\n",
       "    <tr style=\"text-align: right;\">\n",
       "      <th></th>\n",
       "      <th>Name</th>\n",
       "      <th>Platform</th>\n",
       "      <th>Year_of_Release</th>\n",
       "      <th>Genre</th>\n",
       "      <th>NA_sales</th>\n",
       "      <th>EU_sales</th>\n",
       "      <th>JP_sales</th>\n",
       "      <th>Other_sales</th>\n",
       "      <th>Critic_Score</th>\n",
       "      <th>User_Score</th>\n",
       "      <th>Rating</th>\n",
       "    </tr>\n",
       "  </thead>\n",
       "  <tbody>\n",
       "    <tr>\n",
       "      <td>659</td>\n",
       "      <td>NaN</td>\n",
       "      <td>GEN</td>\n",
       "      <td>1993.0</td>\n",
       "      <td>NaN</td>\n",
       "      <td>1.78</td>\n",
       "      <td>0.53</td>\n",
       "      <td>0.00</td>\n",
       "      <td>0.08</td>\n",
       "      <td>NaN</td>\n",
       "      <td>NaN</td>\n",
       "      <td>NaN</td>\n",
       "    </tr>\n",
       "    <tr>\n",
       "      <td>14244</td>\n",
       "      <td>NaN</td>\n",
       "      <td>GEN</td>\n",
       "      <td>1993.0</td>\n",
       "      <td>NaN</td>\n",
       "      <td>0.00</td>\n",
       "      <td>0.00</td>\n",
       "      <td>0.03</td>\n",
       "      <td>0.00</td>\n",
       "      <td>NaN</td>\n",
       "      <td>NaN</td>\n",
       "      <td>NaN</td>\n",
       "    </tr>\n",
       "  </tbody>\n",
       "</table>\n",
       "</div>"
      ],
      "text/plain": [
       "      Name Platform  Year_of_Release Genre  NA_sales  EU_sales  JP_sales  \\\n",
       "659    NaN      GEN           1993.0   NaN      1.78      0.53      0.00   \n",
       "14244  NaN      GEN           1993.0   NaN      0.00      0.00      0.03   \n",
       "\n",
       "       Other_sales  Critic_Score User_Score Rating  \n",
       "659           0.08           NaN        NaN    NaN  \n",
       "14244         0.00           NaN        NaN    NaN  "
      ]
     },
     "execution_count": 4,
     "metadata": {},
     "output_type": "execute_result"
    }
   ],
   "source": [
    "# нужно будет удалить эти две строки т.к. полезной информации очень мало\n",
    "df.query('Name.isna()')"
   ]
  },
  {
   "cell_type": "code",
   "execution_count": 5,
   "metadata": {},
   "outputs": [
    {
     "data": {
      "text/plain": [
       "PS2     2161\n",
       "DS      2151\n",
       "PS3     1331\n",
       "Wii     1320\n",
       "X360    1262\n",
       "PSP     1209\n",
       "PS      1197\n",
       "PC       974\n",
       "XB       824\n",
       "GBA      822\n",
       "GC       556\n",
       "3DS      520\n",
       "PSV      430\n",
       "PS4      392\n",
       "N64      319\n",
       "XOne     247\n",
       "SNES     239\n",
       "SAT      173\n",
       "WiiU     147\n",
       "2600     133\n",
       "GB        98\n",
       "NES       98\n",
       "DC        52\n",
       "GEN       29\n",
       "NG        12\n",
       "SCD        6\n",
       "WS         6\n",
       "3DO        3\n",
       "TG16       2\n",
       "PCFX       1\n",
       "GG         1\n",
       "Name: Platform, dtype: int64"
      ]
     },
     "execution_count": 5,
     "metadata": {},
     "output_type": "execute_result"
    }
   ],
   "source": [
    "df['Platform'].value_counts()"
   ]
  },
  {
   "cell_type": "code",
   "execution_count": 6,
   "metadata": {},
   "outputs": [
    {
     "data": {
      "text/plain": [
       "Action          3369\n",
       "Sports          2348\n",
       "Misc            1750\n",
       "Role-Playing    1498\n",
       "Shooter         1323\n",
       "Adventure       1303\n",
       "Racing          1249\n",
       "Platform         888\n",
       "Simulation       873\n",
       "Fighting         849\n",
       "Strategy         683\n",
       "Puzzle           580\n",
       "Name: Genre, dtype: int64"
      ]
     },
     "execution_count": 6,
     "metadata": {},
     "output_type": "execute_result"
    }
   ],
   "source": [
    "df['Genre'].value_counts()"
   ]
  },
  {
   "cell_type": "code",
   "execution_count": 7,
   "metadata": {},
   "outputs": [
    {
     "data": {
      "text/plain": [
       "E       3990\n",
       "T       2961\n",
       "M       1563\n",
       "E10+    1420\n",
       "EC         8\n",
       "RP         3\n",
       "K-A        3\n",
       "AO         1\n",
       "Name: Rating, dtype: int64"
      ]
     },
     "execution_count": 7,
     "metadata": {},
     "output_type": "execute_result"
    }
   ],
   "source": [
    "df['Rating'].value_counts()"
   ]
  },
  {
   "cell_type": "code",
   "execution_count": 8,
   "metadata": {},
   "outputs": [
    {
     "data": {
      "text/plain": [
       "tbd    2424\n",
       "7.8     324\n",
       "8       290\n",
       "8.2     282\n",
       "8.3     254\n",
       "       ... \n",
       "1.1       2\n",
       "0.5       2\n",
       "1.9       2\n",
       "9.7       1\n",
       "0         1\n",
       "Name: User_Score, Length: 96, dtype: int64"
      ]
     },
     "execution_count": 8,
     "metadata": {},
     "output_type": "execute_result"
    }
   ],
   "source": [
    "# очень много значений 'tbd' - to be defined (не определена) заменить на NaN и привести столбец к float\n",
    "df['User_Score'].value_counts()"
   ]
  },
  {
   "cell_type": "code",
   "execution_count": 9,
   "metadata": {},
   "outputs": [
    {
     "data": {
      "text/plain": [
       "0"
      ]
     },
     "execution_count": 9,
     "metadata": {},
     "output_type": "execute_result"
    }
   ],
   "source": [
    "# Дубликаты строк отсутствуют:\n",
    "df.duplicated().sum()"
   ]
  },
  {
   "cell_type": "markdown",
   "metadata": {},
   "source": [
    "### Вывод:"
   ]
  },
  {
   "cell_type": "markdown",
   "metadata": {},
   "source": [
    "```\n",
    "- преревести названия столбцов в нижний регистр\n",
    "- удалить 2 строки с неуказанным названимем игры\n",
    "- заменить 'tbd' в пользовательских оценках на NaN и преобразовать столбец в float\n",
    "- заменить неуказанный год выпуска на 0 и привести столбец к int\n",
    "- заменить пропуски возрастного рейтинга на строку 'unknown'\n",
    "```"
   ]
  },
  {
   "cell_type": "markdown",
   "metadata": {},
   "source": [
    "## Шаг 2. Подготовим данные"
   ]
  },
  {
   "cell_type": "code",
   "execution_count": 10,
   "metadata": {},
   "outputs": [],
   "source": [
    "# преведем названия столбцов в нижний регистр\n",
    "df.columns = df.columns.str.lower()\n",
    "\n",
    "# неуказанный год выпуска заполним 0 и приведем к целочисленному типу\n",
    "df.year_of_release = df.year_of_release.fillna(0).astype('int')\n",
    "\n",
    "# удалим две строки с неуказанным названием игры (и жанром)\n",
    "df = df.dropna(subset=['name']).reset_index(drop=True)\n",
    "\n",
    "# еще неопределенные пользовательские оценки (tbd)\n",
    "# заменим на NaN и приведем к типу с плавающей точкой\n",
    "df.user_score = df.user_score.replace('tbd', np.nan).astype('float')\n",
    "\n",
    "# неуказанный рейтинг заполним 'unknown'\n",
    "df.rating = df.rating.fillna('unknown') \n",
    "\n",
    "# создадим новый столбец и посчитаем суммарные продажи\n",
    "df['total_sales'] = df.na_sales + df.eu_sales + df.jp_sales + df.other_sales\n"
   ]
  },
  {
   "cell_type": "code",
   "execution_count": 11,
   "metadata": {},
   "outputs": [
    {
     "name": "stdout",
     "output_type": "stream",
     "text": [
      "<class 'pandas.core.frame.DataFrame'>\n",
      "RangeIndex: 16713 entries, 0 to 16712\n",
      "Data columns (total 12 columns):\n",
      "name               16713 non-null object\n",
      "platform           16713 non-null object\n",
      "year_of_release    16713 non-null int64\n",
      "genre              16713 non-null object\n",
      "na_sales           16713 non-null float64\n",
      "eu_sales           16713 non-null float64\n",
      "jp_sales           16713 non-null float64\n",
      "other_sales        16713 non-null float64\n",
      "critic_score       8137 non-null float64\n",
      "user_score         7590 non-null float64\n",
      "rating             16713 non-null object\n",
      "total_sales        16713 non-null float64\n",
      "dtypes: float64(7), int64(1), object(4)\n",
      "memory usage: 1.5+ MB\n"
     ]
    }
   ],
   "source": [
    "df.info()"
   ]
  },
  {
   "cell_type": "code",
   "execution_count": 12,
   "metadata": {},
   "outputs": [
    {
     "name": "stdout",
     "output_type": "stream",
     "text": [
      "Не указан год релиза: 269\n",
      "Не указан рейтинг: 6764\n",
      "Не указана оценка критиков: 8576\n",
      "Не указана оценка пользователей: 9123\n"
     ]
    }
   ],
   "source": [
    "# посчитаем количество неполных строк\n",
    "def check_na():\n",
    "    print('Не указан год релиза:', len(df.query('year_of_release==0')))\n",
    "    print('Не указан рейтинг:', len(df.query('rating==\"unknown\"')))\n",
    "    print('Не указана оценка критиков:', df.critic_score.isna().sum())\n",
    "    print('Не указана оценка пользователей:', df.user_score.isna().sum())\n",
    "check_na()"
   ]
  },
  {
   "cell_type": "markdown",
   "metadata": {},
   "source": [
    "Сгруппируем известную информацию с разных платформ для заполнения пропусков:"
   ]
  },
  {
   "cell_type": "code",
   "execution_count": 13,
   "metadata": {},
   "outputs": [],
   "source": [
    "known_year = df.query('year_of_release != 0'\n",
    "                     ).pivot_table(index = 'name',                                \n",
    "                                   values = 'year_of_release',\n",
    "                                   aggfunc = 'max')\n",
    "\n",
    "known_rating = df.query('rating != \"unknown\"'\n",
    "                       ).pivot_table(index = 'name',                                \n",
    "                                     values = 'rating',\n",
    "                                     aggfunc = 'first')\n",
    "\n",
    "# known_c_score = df.query('critic_score.notna()'\n",
    "#                         ).pivot_table(index = 'name',                                \n",
    "#                                       values = 'critic_score',\n",
    "#                                       aggfunc = 'mean')\n",
    "\n",
    "# known_u_score = df.query('user_score.notna()'\n",
    "#                         ).pivot_table(index = 'name',                                \n",
    "#                                       values = 'user_score',\n",
    "#                                       aggfunc = 'mean')\n"
   ]
  },
  {
   "cell_type": "markdown",
   "metadata": {},
   "source": [
    "и заполним пропуски:"
   ]
  },
  {
   "cell_type": "code",
   "execution_count": 14,
   "metadata": {},
   "outputs": [],
   "source": [
    "def fill_na_with_known_values(row):\n",
    "    \n",
    "    name = row['name']\n",
    "    year = row['year_of_release']\n",
    "    rating = row['rating']\n",
    "    c_score = row['critic_score']\n",
    "    u_score = row['user_score']\n",
    "    \n",
    "    if year == 0 and name in known_year.index:\n",
    "        row['year_of_release'] = known_year.loc[name, 'year_of_release']\n",
    "    \n",
    "    if rating == \"unknown\" and name in known_rating.index:\n",
    "        row['rating'] = known_rating.loc[name, 'rating']\n",
    "        \n",
    "#     if np.isnan(c_score) and name in known_c_score.index:\n",
    "#         row['critic_score'] = known_c_score.loc[name, 'critic_score']\n",
    "    \n",
    "#     if np.isnan(u_score) and name in known_u_score.index:\n",
    "#         row['user_score'] = known_u_score.loc[name, 'user_score']        \n",
    "        \n",
    "    return row\n",
    "######\n",
    "df = df.apply(fill_na_with_known_values, axis=1)"
   ]
  },
  {
   "cell_type": "markdown",
   "metadata": {},
   "source": [
    "Еще попробуем извлечь год релиза из названия игры:"
   ]
  },
  {
   "cell_type": "code",
   "execution_count": 15,
   "metadata": {},
   "outputs": [
    {
     "data": {
      "text/plain": [
       "{'wwe Smackdown vs. Raw 2006': 2005,\n",
       " 'Triple Play 99': 1998,\n",
       " 'NFL GameDay 2003': 2002,\n",
       " 'All-Star Baseball 2005': 2004,\n",
       " 'Drake of the 99 Dragons': 1998,\n",
       " 'Tour de France 2011': 2010,\n",
       " 'Sega Rally 2006': 2005,\n",
       " 'Football Manager 2007': 2006}"
      ]
     },
     "execution_count": 15,
     "metadata": {},
     "output_type": "execute_result"
    }
   ],
   "source": [
    "guess_year = {}\n",
    "for s in df.query('year_of_release == 0').name:\n",
    "    res = re.search(r'(19|20| )\\d{2}\\b', s)\n",
    "    if res is not None:\n",
    "        year = int(res.group())\n",
    "        if year <= 99: year +=1900\n",
    "        if year <= 22: year +=2000\n",
    "        if year < 1980: continue\n",
    "        guess_year[s] = year-1\n",
    "guess_year"
   ]
  },
  {
   "cell_type": "markdown",
   "metadata": {},
   "source": [
    "и занесем данные в таблицу:"
   ]
  },
  {
   "cell_type": "code",
   "execution_count": 16,
   "metadata": {},
   "outputs": [
    {
     "name": "stdout",
     "output_type": "stream",
     "text": [
      "Не указан год релиза: 137\n",
      "Не указан рейтинг: 6327\n",
      "Не указана оценка критиков: 8576\n",
      "Не указана оценка пользователей: 9123\n",
      "===========================================\n",
      "<class 'pandas.core.frame.DataFrame'>\n",
      "RangeIndex: 16713 entries, 0 to 16712\n",
      "Data columns (total 12 columns):\n",
      "name               16713 non-null object\n",
      "platform           16713 non-null object\n",
      "year_of_release    16713 non-null int64\n",
      "genre              16713 non-null object\n",
      "na_sales           16713 non-null float64\n",
      "eu_sales           16713 non-null float64\n",
      "jp_sales           16713 non-null float64\n",
      "other_sales        16713 non-null float64\n",
      "critic_score       8137 non-null float64\n",
      "user_score         7590 non-null float64\n",
      "rating             16713 non-null object\n",
      "total_sales        16713 non-null float64\n",
      "dtypes: float64(7), int64(1), object(4)\n",
      "memory usage: 1.5+ MB\n"
     ]
    }
   ],
   "source": [
    "def enroll_guess_year(row):\n",
    "    name = row['name']\n",
    "    if row['year_of_release'] == 0 and name in guess_year.keys():\n",
    "        row['year_of_release'] = guess_year[name]\n",
    "    return row\n",
    "df = df.apply(enroll_guess_year, axis=1)\n",
    "check_na()\n",
    "print('===========================================')\n",
    "df.info()"
   ]
  },
  {
   "cell_type": "markdown",
   "metadata": {},
   "source": [
    "### Вывод:"
   ]
  },
  {
   "cell_type": "markdown",
   "metadata": {},
   "source": [
    "```\n",
    "Данные подготовлены для анализа.\n",
    "Не все пропуски удалось заполнить:\n",
    "- год выпуска - пропуски заполнены 0\n",
    "- оценки пользователей и экспертов приведены к float, пропуски обозначены NaN\n",
    "- пропуски рейтинга обозначены строкой 'unknown'\n",
    "```"
   ]
  },
  {
   "cell_type": "markdown",
   "metadata": {},
   "source": [
    "## Шаг 3. Исследовательский анализ данных"
   ]
  },
  {
   "cell_type": "markdown",
   "metadata": {},
   "source": [
    "### Сколько игр выпускалось в разные годы:"
   ]
  },
  {
   "cell_type": "code",
   "execution_count": 17,
   "metadata": {
    "scrolled": false
   },
   "outputs": [
    {
     "data": {
      "image/png": "[encoded data removed]",
      "text/plain": [
       "<Figure size 1152x360 with 1 Axes>"
      ]
     },
     "metadata": {
      "needs_background": "light"
     },
     "output_type": "display_data"
    }
   ],
   "source": [
    "games_on_period = df.query('year_of_release!=0').pivot_table(\n",
    "    index='year_of_release',\n",
    "    values='name', \n",
    "    aggfunc='count')\n",
    "plt.figure(figsize=(16,5))\n",
    "sns.lineplot(data=games_on_period)\n",
    "plt.title(\"Количество игр, выпущенных в разные годы\")\n",
    "plt.xlabel(\"Год выпуска\")\n",
    "plt.ylabel(\"Количество выпущенных игр\")\n",
    "plt.grid()\n",
    "_ = plt.legend('')\n"
   ]
  },
  {
   "cell_type": "markdown",
   "metadata": {},
   "source": [
    "__Пик количества игр был в 2008 и 2009 годах, далее следует резкий спад.  \n",
    "Начиная с 2012 года спад замедлился__ "
   ]
  },
  {
   "cell_type": "markdown",
   "metadata": {},
   "source": [
    "### Суммарные продажи по годам:"
   ]
  },
  {
   "cell_type": "code",
   "execution_count": 18,
   "metadata": {},
   "outputs": [
    {
     "data": {
      "image/png": "[encoded data removed]",
      "text/plain": [
       "<Figure size 1152x360 with 1 Axes>"
      ]
     },
     "metadata": {
      "needs_background": "light"
     },
     "output_type": "display_data"
    }
   ],
   "source": [
    "sales_on_period = df.query('year_of_release!=0').pivot_table(\n",
    "    index='year_of_release',\n",
    "    values='total_sales', \n",
    "    aggfunc='sum')\n",
    "plt.figure(figsize=(16,5))\n",
    "sns.lineplot(data=sales_on_period)\n",
    "plt.title(\"Суммарные продажи в разные годы\")\n",
    "plt.xlabel(\"Год выпуска\")\n",
    "plt.ylabel(\"Сумма продаж млн копий\")\n",
    "plt.grid()\n",
    "_ = plt.legend('')\n"
   ]
  },
  {
   "cell_type": "markdown",
   "metadata": {},
   "source": [
    "__В отличие от количества игр, суммарная продажа в 2015 и 2016 годах продолжила падение__"
   ]
  },
  {
   "cell_type": "markdown",
   "metadata": {},
   "source": [
    "### Продажи по платформам за весь период:"
   ]
  },
  {
   "cell_type": "code",
   "execution_count": 19,
   "metadata": {},
   "outputs": [
    {
     "data": {
      "image/png": "[encoded data removed]",
      "text/plain": [
       "<Figure size 1152x360 with 1 Axes>"
      ]
     },
     "metadata": {
      "needs_background": "light"
     },
     "output_type": "display_data"
    }
   ],
   "source": [
    "platform_total_sales = df.pivot_table(\n",
    "    index='platform', \n",
    "    values='total_sales', \n",
    "    aggfunc='sum').sort_values('total_sales', ascending=False)\n",
    "\n",
    "plt.figure(figsize=(16,5))\n",
    "sns.barplot(x=platform_total_sales.index,y=platform_total_sales.total_sales)\n",
    "plt.title(\"Продажи по платформам за весь период\")\n",
    "plt.xlabel(\"Название платформы\")\n",
    "plt.grid()\n",
    "_ = plt.ylabel(\"Количество продаж млн копий\")"
   ]
  },
  {
   "cell_type": "markdown",
   "metadata": {},
   "source": [
    "__Самые популярные игровые платформы за весь период это PS2, X360, PS3, Wii, DS, PS__"
   ]
  },
  {
   "cell_type": "code",
   "execution_count": 20,
   "metadata": {
    "scrolled": false
   },
   "outputs": [
    {
     "data": {
      "image/png": "[encoded data removed]",
      "text/plain": [
       "<Figure size 1152x720 with 1 Axes>"
      ]
     },
     "metadata": {
      "needs_background": "light"
     },
     "output_type": "display_data"
    }
   ],
   "source": [
    "def data(platform):\n",
    "    res = df.query('@platform==platform and year_of_release > 2003'\n",
    "                  ).pivot_table(index='year_of_release', \n",
    "                                values='total_sales', \n",
    "                                aggfunc='sum')\n",
    "    return res.total_sales.round(0)\n",
    "\n",
    "plt.figure(figsize=(16,10))\n",
    "plt.title('Количество продаж популярных игровых платформ')\n",
    "plt.xlabel('Годы игровых релизов')\n",
    "plt.ylabel('Продажи млн копий')\n",
    "plt.grid()\n",
    "\n",
    "sns.lineplot(data=data(\"PS2\"), label=\"PS2\")\n",
    "sns.lineplot(data=data(\"X360\"), label=\"X360\")\n",
    "sns.lineplot(data=data(\"PS3\"), label=\"PS3\")\n",
    "sns.lineplot(data=data(\"Wii\"), label=\"Wii\")\n",
    "sns.lineplot(data=data(\"DS\"), label=\"DS\")\n",
    "sns.lineplot(data=data(\"PSV\"), label=\"PSV\")\n",
    "sns.lineplot(data=data(\"GBA\"), label=\"GBA\")\n",
    "sns.lineplot(data=data(\"WiiU\"), label=\"WiiU\")\n",
    "sns.lineplot(data=data(\"PS4\"), label=\"PS4\")\n",
    "sns.lineplot(data=data(\"3DS\"), label=\"3DS\")\n",
    "sns.lineplot(data=data(\"XOne\"), label=\"XOne\")\n",
    "_ = plt.legend()\n",
    "\n",
    "\n"
   ]
  },
  {
   "cell_type": "markdown",
   "metadata": {},
   "source": [
    "__Срок жизни платформы составляет 5...10 лет,  \n",
    "и наблюдается тенденция к его сокращению__"
   ]
  },
  {
   "cell_type": "markdown",
   "metadata": {},
   "source": [
    "### Продажи по платформам c 2012 года:"
   ]
  },
  {
   "cell_type": "code",
   "execution_count": 21,
   "metadata": {},
   "outputs": [
    {
     "data": {
      "image/png": "[encoded data removed]",
      "text/plain": [
       "<Figure size 1152x360 with 1 Axes>"
      ]
     },
     "metadata": {
      "needs_background": "light"
     },
     "output_type": "display_data"
    }
   ],
   "source": [
    "platform_total_sales_from_2012 = df.query('year_of_release>=2012').pivot_table(\n",
    "    index='platform', \n",
    "    values='total_sales', \n",
    "    aggfunc='sum').sort_values('total_sales', ascending=False)\n",
    "\n",
    "plt.figure(figsize=(16,5))\n",
    "sns.barplot(x=platform_total_sales_from_2012.index,y=platform_total_sales_from_2012.total_sales)\n",
    "plt.title(\"Продажи по платформам c 2012\")\n",
    "plt.xlabel(\"Название платформы\")\n",
    "plt.grid()\n",
    "_ = plt.ylabel(\"Количество продаж млн копий\")"
   ]
  },
  {
   "cell_type": "markdown",
   "metadata": {},
   "source": [
    "__Самые популярные игровые платформы за период 2012...2016 гг PS4, PS3, X360, 3DS, XOne__"
   ]
  },
  {
   "cell_type": "markdown",
   "metadata": {},
   "source": [
    "### Продажи по платформам c 2015 года:"
   ]
  },
  {
   "cell_type": "code",
   "execution_count": 22,
   "metadata": {},
   "outputs": [
    {
     "data": {
      "image/png": "[encoded data removed]",
      "text/plain": [
       "<Figure size 1152x360 with 1 Axes>"
      ]
     },
     "metadata": {
      "needs_background": "light"
     },
     "output_type": "display_data"
    }
   ],
   "source": [
    "platform_total_sales_from_2015 = df.query('year_of_release>=2015').pivot_table(\n",
    "    index='platform', \n",
    "    values='total_sales', \n",
    "    aggfunc='sum').sort_values('total_sales', ascending=False)\n",
    "\n",
    "plt.figure(figsize=(16,5))\n",
    "sns.barplot(x=platform_total_sales_from_2015.index,y=platform_total_sales_from_2015.total_sales)\n",
    "plt.title(\"Продажи по платформам c 2015\")\n",
    "plt.xlabel(\"Название платформы\")\n",
    "plt.grid()\n",
    "_ = plt.ylabel(\"Количество продаж млн копий\")"
   ]
  },
  {
   "cell_type": "markdown",
   "metadata": {},
   "source": [
    "__Наиболее перспективные платформы PS4, XOne, 3DS, WiiU и PS3__"
   ]
  },
  {
   "cell_type": "code",
   "execution_count": 23,
   "metadata": {},
   "outputs": [],
   "source": [
    "df_actual = df.query('year_of_release>=2012')"
   ]
  },
  {
   "cell_type": "markdown",
   "metadata": {},
   "source": [
    "### График «ящик с усами» по глобальным продажам игр в разбивке по платформам:"
   ]
  },
  {
   "cell_type": "code",
   "execution_count": 24,
   "metadata": {},
   "outputs": [
    {
     "data": {
      "text/html": [
       "<div>\n",
       "<style scoped>\n",
       "    .dataframe tbody tr th:only-of-type {\n",
       "        vertical-align: middle;\n",
       "    }\n",
       "\n",
       "    .dataframe tbody tr th {\n",
       "        vertical-align: top;\n",
       "    }\n",
       "\n",
       "    .dataframe thead th {\n",
       "        text-align: right;\n",
       "    }\n",
       "</style>\n",
       "<table border=\"1\" class=\"dataframe\">\n",
       "  <thead>\n",
       "    <tr style=\"text-align: right;\">\n",
       "      <th></th>\n",
       "      <th>total_sales</th>\n",
       "    </tr>\n",
       "    <tr>\n",
       "      <th>platform</th>\n",
       "      <th></th>\n",
       "    </tr>\n",
       "  </thead>\n",
       "  <tbody>\n",
       "    <tr>\n",
       "      <td>PS4</td>\n",
       "      <td>314.14</td>\n",
       "    </tr>\n",
       "    <tr>\n",
       "      <td>PS3</td>\n",
       "      <td>289.71</td>\n",
       "    </tr>\n",
       "    <tr>\n",
       "      <td>X360</td>\n",
       "      <td>237.52</td>\n",
       "    </tr>\n",
       "    <tr>\n",
       "      <td>3DS</td>\n",
       "      <td>195.01</td>\n",
       "    </tr>\n",
       "    <tr>\n",
       "      <td>XOne</td>\n",
       "      <td>159.32</td>\n",
       "    </tr>\n",
       "  </tbody>\n",
       "</table>\n",
       "</div>"
      ],
      "text/plain": [
       "          total_sales\n",
       "platform             \n",
       "PS4            314.14\n",
       "PS3            289.71\n",
       "X360           237.52\n",
       "3DS            195.01\n",
       "XOne           159.32"
      ]
     },
     "execution_count": 24,
     "metadata": {},
     "output_type": "execute_result"
    }
   ],
   "source": [
    "df_actual.pivot_table(\n",
    "    index='platform', \n",
    "    values='total_sales', \n",
    "    aggfunc='sum').sort_values('total_sales', ascending=False).head()"
   ]
  },
  {
   "cell_type": "code",
   "execution_count": 25,
   "metadata": {},
   "outputs": [],
   "source": [
    "list_top5 = ['PS4', 'XOne', '3DS', 'WiiU', 'PS3']\n",
    "df_top5 = df_actual.query('platform in @list_top5 and total_sales<1.5')"
   ]
  },
  {
   "cell_type": "code",
   "execution_count": 26,
   "metadata": {},
   "outputs": [
    {
     "data": {
      "image/png": "[encoded data removed]",
      "text/plain": [
       "<Figure size 576x864 with 1 Axes>"
      ]
     },
     "metadata": {
      "needs_background": "light"
     },
     "output_type": "display_data"
    }
   ],
   "source": [
    "plt.figure(figsize=(8,12))\n",
    "sns.boxplot(data=df_top5, x='platform', y='total_sales')\n",
    "plt.title('Ящик с усами')\n",
    "plt.xlabel('Платформа')\n",
    "_ = plt.ylabel('Глобальные продажи')"
   ]
  },
  {
   "cell_type": "markdown",
   "metadata": {},
   "source": [
    "__Распределение продаж имеет смещение вправо, т.е. небольшое количество \"хитов\" повышает среднее количество продаж__"
   ]
  },
  {
   "cell_type": "markdown",
   "metadata": {},
   "source": [
    "### Влияние на продажи внутри одной платформы отзывов пользователей и критиков. <br>  Диаграмма рассеяния и корреляция между отзывами и продажами."
   ]
  },
  {
   "cell_type": "code",
   "execution_count": 27,
   "metadata": {},
   "outputs": [
    {
     "data": {
      "image/png": "[encoded data removed]",
      "text/plain": [
       "<Figure size 864x432 with 1 Axes>"
      ]
     },
     "metadata": {
      "needs_background": "light"
     },
     "output_type": "display_data"
    }
   ],
   "source": [
    "df_PS4 = df_actual.query('platform==\"PS4\"')\n",
    "plt.figure(figsize=(12,6))\n",
    "sns.scatterplot(x='user_score', y='total_sales', data=df_PS4)\n",
    "plt.title(\"Диаграмма рассеяния для платформы PS4\")\n",
    "plt.xlabel(\"Оценки пользователей\")\n",
    "plt.grid()\n",
    "_ = plt.ylabel(\"Общие продажи\")"
   ]
  },
  {
   "cell_type": "code",
   "execution_count": 28,
   "metadata": {},
   "outputs": [
    {
     "data": {
      "image/png": "[encoded data removed]",
      "text/plain": [
       "<Figure size 864x432 with 1 Axes>"
      ]
     },
     "metadata": {
      "needs_background": "light"
     },
     "output_type": "display_data"
    }
   ],
   "source": [
    "plt.figure(figsize=(12,6))\n",
    "sns.scatterplot(x='critic_score', y='total_sales', data=df_PS4)\n",
    "plt.title(\"Диаграмма рассеяния для платформы PS4\")\n",
    "plt.xlabel(\"Оценки критиков\")\n",
    "plt.grid()\n",
    "_ = plt.ylabel(\"Общие продажи\")"
   ]
  },
  {
   "cell_type": "code",
   "execution_count": 29,
   "metadata": {},
   "outputs": [
    {
     "data": {
      "text/html": [
       "<div>\n",
       "<style scoped>\n",
       "    .dataframe tbody tr th:only-of-type {\n",
       "        vertical-align: middle;\n",
       "    }\n",
       "\n",
       "    .dataframe tbody tr th {\n",
       "        vertical-align: top;\n",
       "    }\n",
       "\n",
       "    .dataframe thead th {\n",
       "        text-align: right;\n",
       "    }\n",
       "</style>\n",
       "<table border=\"1\" class=\"dataframe\">\n",
       "  <thead>\n",
       "    <tr style=\"text-align: right;\">\n",
       "      <th></th>\n",
       "      <th>user_score</th>\n",
       "      <th>critic_score</th>\n",
       "      <th>total_sales</th>\n",
       "    </tr>\n",
       "  </thead>\n",
       "  <tbody>\n",
       "    <tr>\n",
       "      <td>user_score</td>\n",
       "      <td>1.000</td>\n",
       "      <td>0.558</td>\n",
       "      <td>-0.032</td>\n",
       "    </tr>\n",
       "    <tr>\n",
       "      <td>critic_score</td>\n",
       "      <td>0.558</td>\n",
       "      <td>1.000</td>\n",
       "      <td>0.407</td>\n",
       "    </tr>\n",
       "    <tr>\n",
       "      <td>total_sales</td>\n",
       "      <td>-0.032</td>\n",
       "      <td>0.407</td>\n",
       "      <td>1.000</td>\n",
       "    </tr>\n",
       "  </tbody>\n",
       "</table>\n",
       "</div>"
      ],
      "text/plain": [
       "              user_score  critic_score  total_sales\n",
       "user_score         1.000         0.558       -0.032\n",
       "critic_score       0.558         1.000        0.407\n",
       "total_sales       -0.032         0.407        1.000"
      ]
     },
     "execution_count": 29,
     "metadata": {},
     "output_type": "execute_result"
    }
   ],
   "source": [
    "df_PS4[['user_score', 'critic_score', 'total_sales']].corr().round(3)"
   ]
  },
  {
   "cell_type": "markdown",
   "metadata": {},
   "source": [
    "__Существует небольшая положительная корреляция между оценками критиков с общими продажами.  \n",
    "Корреляция между продажами и оценками пользователей ~~еще меньше~~ отсутствует.__"
   ]
  },
  {
   "cell_type": "code",
   "execution_count": 30,
   "metadata": {},
   "outputs": [
    {
     "data": {
      "text/html": [
       "<div>\n",
       "<style scoped>\n",
       "    .dataframe tbody tr th:only-of-type {\n",
       "        vertical-align: middle;\n",
       "    }\n",
       "\n",
       "    .dataframe tbody tr th {\n",
       "        vertical-align: top;\n",
       "    }\n",
       "\n",
       "    .dataframe thead th {\n",
       "        text-align: right;\n",
       "    }\n",
       "</style>\n",
       "<table border=\"1\" class=\"dataframe\">\n",
       "  <thead>\n",
       "    <tr style=\"text-align: right;\">\n",
       "      <th></th>\n",
       "      <th>user_score</th>\n",
       "      <th>critic_score</th>\n",
       "      <th>total_sales</th>\n",
       "    </tr>\n",
       "  </thead>\n",
       "  <tbody>\n",
       "    <tr>\n",
       "      <td>user_score</td>\n",
       "      <td>1.000</td>\n",
       "      <td>0.518</td>\n",
       "      <td>0.005</td>\n",
       "    </tr>\n",
       "    <tr>\n",
       "      <td>critic_score</td>\n",
       "      <td>0.518</td>\n",
       "      <td>1.000</td>\n",
       "      <td>0.308</td>\n",
       "    </tr>\n",
       "    <tr>\n",
       "      <td>total_sales</td>\n",
       "      <td>0.005</td>\n",
       "      <td>0.308</td>\n",
       "      <td>1.000</td>\n",
       "    </tr>\n",
       "  </tbody>\n",
       "</table>\n",
       "</div>"
      ],
      "text/plain": [
       "              user_score  critic_score  total_sales\n",
       "user_score         1.000         0.518        0.005\n",
       "critic_score       0.518         1.000        0.308\n",
       "total_sales        0.005         0.308        1.000"
      ]
     },
     "execution_count": 30,
     "metadata": {},
     "output_type": "execute_result"
    }
   ],
   "source": [
    "df_actual[['user_score', 'critic_score', 'total_sales']].corr().round(3)"
   ]
  },
  {
   "cell_type": "markdown",
   "metadata": {},
   "source": [
    "### Распределение игр по жанрам:"
   ]
  },
  {
   "cell_type": "code",
   "execution_count": 31,
   "metadata": {},
   "outputs": [],
   "source": [
    "genres = df.pivot_table(\n",
    "    index='genre', \n",
    "    values='total_sales', \n",
    "    aggfunc='sum').sort_values(by='total_sales', ascending=False)"
   ]
  },
  {
   "cell_type": "code",
   "execution_count": 32,
   "metadata": {},
   "outputs": [
    {
     "data": {
      "image/png": "[encoded data removed]",
      "text/plain": [
       "<Figure size 1152x360 with 1 Axes>"
      ]
     },
     "metadata": {
      "needs_background": "light"
     },
     "output_type": "display_data"
    }
   ],
   "source": [
    "plt.figure(figsize=(16,5))\n",
    "plt.title('Распределение игр по жанрам за все время')\n",
    "sns.barplot(data=genres, \n",
    "            x=genres.index,\n",
    "            y='total_sales')\n",
    "plt.xlabel('Жанры игр')\n",
    "_ = plt.ylabel('Продажи')"
   ]
  },
  {
   "cell_type": "markdown",
   "metadata": {},
   "source": [
    "### Распределение игр по жанрам за последние 2 года:"
   ]
  },
  {
   "cell_type": "code",
   "execution_count": 33,
   "metadata": {},
   "outputs": [],
   "source": [
    "genres = df.query('year_of_release>=2015').pivot_table(\n",
    "    index='genre', \n",
    "    values='total_sales', \n",
    "    aggfunc='sum').sort_values(by='total_sales', ascending=False)"
   ]
  },
  {
   "cell_type": "code",
   "execution_count": 34,
   "metadata": {},
   "outputs": [
    {
     "data": {
      "image/png": "[encoded data removed]",
      "text/plain": [
       "<Figure size 1152x360 with 1 Axes>"
      ]
     },
     "metadata": {
      "needs_background": "light"
     },
     "output_type": "display_data"
    }
   ],
   "source": [
    "plt.figure(figsize=(16,5))\n",
    "plt.title('Распределение игр по жанрам за последние 2 года')\n",
    "sns.barplot(data=genres, \n",
    "            x=genres.index,\n",
    "            y='total_sales')\n",
    "plt.xlabel('Жанры игр')\n",
    "_ = plt.ylabel('Продажи')"
   ]
  },
  {
   "cell_type": "code",
   "execution_count": 35,
   "metadata": {},
   "outputs": [
    {
     "name": "stdout",
     "output_type": "stream",
     "text": [
      "\n",
      "Сводная таблица жанров в порядке убывания количества продаж:\n"
     ]
    },
    {
     "data": {
      "text/html": [
       "<div>\n",
       "<style scoped>\n",
       "    .dataframe tbody tr th:only-of-type {\n",
       "        vertical-align: middle;\n",
       "    }\n",
       "\n",
       "    .dataframe tbody tr th {\n",
       "        vertical-align: top;\n",
       "    }\n",
       "\n",
       "    .dataframe thead th {\n",
       "        text-align: right;\n",
       "    }\n",
       "</style>\n",
       "<table border=\"1\" class=\"dataframe\">\n",
       "  <thead>\n",
       "    <tr style=\"text-align: right;\">\n",
       "      <th></th>\n",
       "      <th>Количество игр</th>\n",
       "      <th>Общие продажи (млн. копий)</th>\n",
       "      <th>Средние продажи</th>\n",
       "      <th>Медиана продаж</th>\n",
       "    </tr>\n",
       "    <tr>\n",
       "      <th>genre</th>\n",
       "      <th></th>\n",
       "      <th></th>\n",
       "      <th></th>\n",
       "      <th></th>\n",
       "    </tr>\n",
       "  </thead>\n",
       "  <tbody>\n",
       "    <tr>\n",
       "      <td>Shooter</td>\n",
       "      <td>81</td>\n",
       "      <td>105.73</td>\n",
       "      <td>1.305</td>\n",
       "      <td>0.380</td>\n",
       "    </tr>\n",
       "    <tr>\n",
       "      <td>Action</td>\n",
       "      <td>431</td>\n",
       "      <td>102.13</td>\n",
       "      <td>0.237</td>\n",
       "      <td>0.060</td>\n",
       "    </tr>\n",
       "    <tr>\n",
       "      <td>Sports</td>\n",
       "      <td>107</td>\n",
       "      <td>64.33</td>\n",
       "      <td>0.601</td>\n",
       "      <td>0.120</td>\n",
       "    </tr>\n",
       "    <tr>\n",
       "      <td>Role-Playing</td>\n",
       "      <td>132</td>\n",
       "      <td>55.82</td>\n",
       "      <td>0.423</td>\n",
       "      <td>0.115</td>\n",
       "    </tr>\n",
       "    <tr>\n",
       "      <td>Misc</td>\n",
       "      <td>71</td>\n",
       "      <td>14.17</td>\n",
       "      <td>0.200</td>\n",
       "      <td>0.060</td>\n",
       "    </tr>\n",
       "    <tr>\n",
       "      <td>Fighting</td>\n",
       "      <td>37</td>\n",
       "      <td>12.37</td>\n",
       "      <td>0.334</td>\n",
       "      <td>0.090</td>\n",
       "    </tr>\n",
       "    <tr>\n",
       "      <td>Adventure</td>\n",
       "      <td>110</td>\n",
       "      <td>11.98</td>\n",
       "      <td>0.109</td>\n",
       "      <td>0.030</td>\n",
       "    </tr>\n",
       "    <tr>\n",
       "      <td>Racing</td>\n",
       "      <td>42</td>\n",
       "      <td>10.86</td>\n",
       "      <td>0.259</td>\n",
       "      <td>0.055</td>\n",
       "    </tr>\n",
       "    <tr>\n",
       "      <td>Platform</td>\n",
       "      <td>28</td>\n",
       "      <td>9.28</td>\n",
       "      <td>0.331</td>\n",
       "      <td>0.100</td>\n",
       "    </tr>\n",
       "    <tr>\n",
       "      <td>Simulation</td>\n",
       "      <td>33</td>\n",
       "      <td>7.55</td>\n",
       "      <td>0.229</td>\n",
       "      <td>0.100</td>\n",
       "    </tr>\n",
       "    <tr>\n",
       "      <td>Strategy</td>\n",
       "      <td>29</td>\n",
       "      <td>2.98</td>\n",
       "      <td>0.103</td>\n",
       "      <td>0.050</td>\n",
       "    </tr>\n",
       "    <tr>\n",
       "      <td>Puzzle</td>\n",
       "      <td>7</td>\n",
       "      <td>0.72</td>\n",
       "      <td>0.103</td>\n",
       "      <td>0.030</td>\n",
       "    </tr>\n",
       "  </tbody>\n",
       "</table>\n",
       "</div>"
      ],
      "text/plain": [
       "              Количество игр  Общие продажи (млн. копий)  Средние продажи  \\\n",
       "genre                                                                       \n",
       "Shooter                   81                      105.73            1.305   \n",
       "Action                   431                      102.13            0.237   \n",
       "Sports                   107                       64.33            0.601   \n",
       "Role-Playing             132                       55.82            0.423   \n",
       "Misc                      71                       14.17            0.200   \n",
       "Fighting                  37                       12.37            0.334   \n",
       "Adventure                110                       11.98            0.109   \n",
       "Racing                    42                       10.86            0.259   \n",
       "Platform                  28                        9.28            0.331   \n",
       "Simulation                33                        7.55            0.229   \n",
       "Strategy                  29                        2.98            0.103   \n",
       "Puzzle                     7                        0.72            0.103   \n",
       "\n",
       "              Медиана продаж  \n",
       "genre                         \n",
       "Shooter                0.380  \n",
       "Action                 0.060  \n",
       "Sports                 0.120  \n",
       "Role-Playing           0.115  \n",
       "Misc                   0.060  \n",
       "Fighting               0.090  \n",
       "Adventure              0.030  \n",
       "Racing                 0.055  \n",
       "Platform               0.100  \n",
       "Simulation             0.100  \n",
       "Strategy               0.050  \n",
       "Puzzle                 0.030  "
      ]
     },
     "execution_count": 35,
     "metadata": {},
     "output_type": "execute_result"
    }
   ],
   "source": [
    "genres_since_2015_pvt = df.query('year_of_release>=2015').pivot_table(\n",
    "    index='genre', \n",
    "    values='total_sales', \n",
    "    aggfunc=['count', 'sum', 'mean', 'median'])\n",
    "genres_since_2015_pvt.columns = ['Количество игр', 'Общие продажи (млн. копий)', 'Средние продажи', 'Медиана продаж']\n",
    "print('\\nСводная таблица жанров в порядке убывания количества продаж:')\n",
    "genres_since_2015_pvt.round(3).sort_values('Общие продажи (млн. копий)', ascending=False)"
   ]
  },
  {
   "cell_type": "markdown",
   "metadata": {},
   "source": [
    "### Вывод:"
   ]
  },
  {
   "cell_type": "markdown",
   "metadata": {},
   "source": [
    "```\n",
    "Наиболее перспективные платформы PS4, XOne, 3DS, WiiU и PS3:\n",
    "PS4 растет глобально, XOne - рост в основном с Северной Америке, 3DS - рост в Японии\n",
    "PS3 вытесняется PS4, а X360 вытесняет XOne\n",
    "Наиболее популярные жанры за все время: Action, Sports, Shooter, Role-PLaying\n",
    "За последние 2 года наиболее популярны: Shooter, Action, Sports, Role-Playing\n",
    "- те же категории, но изменился порядок: Shooter вышел на 1 место, сместив Action и Sports\n",
    "```"
   ]
  },
  {
   "cell_type": "markdown",
   "metadata": {},
   "source": [
    "## Шаг 4.Портрет пользователя каждого региона:"
   ]
  },
  {
   "cell_type": "code",
   "execution_count": 36,
   "metadata": {},
   "outputs": [],
   "source": [
    "#Функция для создания сводных таблиц\n",
    "def pivot_draw(row, title, year=0, specific=False):\n",
    "    tmp = df.query('year_of_release>=@year')# and rating!=\"unknown\"')\n",
    "    fig, axes = plt.subplots(1, 3, figsize=(20, 4))\n",
    "    for pvt, ax in zip(list(['platform','genre','rating']), axes.flatten()[:3]):\n",
    "        ppivot = tmp.pivot_table(\n",
    "            index=pvt, \n",
    "            values=row, \n",
    "            aggfunc='sum').sort_values(by=row, ascending=False).reset_index().rename_axis(None, axis=1).head(5)\n",
    "        if specific: print(ppivot, '\\n')\n",
    "        if year:sns.set_palette(\"Blues\")\n",
    "        else:   sns.set_palette(\"Greens\")\n",
    "        sns.barplot(data=ppivot, x=pvt, y=row, ax=ax)\n",
    "        fig.suptitle(title, fontsize=15)        "
   ]
  },
  {
   "cell_type": "markdown",
   "metadata": {},
   "source": [
    "\n",
    "### Портрет пользователя из Северной Америки"
   ]
  },
  {
   "cell_type": "code",
   "execution_count": 37,
   "metadata": {
    "scrolled": false
   },
   "outputs": [
    {
     "data": {
      "image/png": "[encoded data removed]",
      "text/plain": [
       "<Figure size 1440x288 with 3 Axes>"
      ]
     },
     "metadata": {
      "needs_background": "light"
     },
     "output_type": "display_data"
    }
   ],
   "source": [
    "pivot_draw('na_sales', 'Топ 5 платформ, жанров и рейтингов за весь период')"
   ]
  },
  {
   "cell_type": "code",
   "execution_count": 38,
   "metadata": {
    "scrolled": false
   },
   "outputs": [
    {
     "data": {
      "image/png": "[encoded data removed]",
      "text/plain": [
       "<Figure size 1440x288 with 3 Axes>"
      ]
     },
     "metadata": {
      "needs_background": "light"
     },
     "output_type": "display_data"
    }
   ],
   "source": [
    "pivot_draw('na_sales','Топ 5 платформ, жанров и рейтингов с 2015 года', 2015)"
   ]
  },
  {
   "cell_type": "markdown",
   "metadata": {},
   "source": [
    "### Портрет пользователя из Евросоюза"
   ]
  },
  {
   "cell_type": "code",
   "execution_count": 39,
   "metadata": {},
   "outputs": [
    {
     "data": {
      "image/png": "[encoded data removed]",
      "text/plain": [
       "<Figure size 1440x288 with 3 Axes>"
      ]
     },
     "metadata": {
      "needs_background": "light"
     },
     "output_type": "display_data"
    }
   ],
   "source": [
    "pivot_draw('eu_sales','Топ 5 платформ, жанров и рейтингов за весь период')"
   ]
  },
  {
   "cell_type": "code",
   "execution_count": 40,
   "metadata": {},
   "outputs": [
    {
     "data": {
      "image/png": "[encoded data removed]",
      "text/plain": [
       "<Figure size 1440x288 with 3 Axes>"
      ]
     },
     "metadata": {
      "needs_background": "light"
     },
     "output_type": "display_data"
    }
   ],
   "source": [
    "pivot_draw('eu_sales', 'Топ 5 платформ, жанров и рейтингов с 2015 года', 2015)"
   ]
  },
  {
   "cell_type": "markdown",
   "metadata": {},
   "source": [
    "### Портрет пользователя из Японии "
   ]
  },
  {
   "cell_type": "code",
   "execution_count": 41,
   "metadata": {},
   "outputs": [
    {
     "data": {
      "image/png": "[encoded data removed]",
      "text/plain": [
       "<Figure size 1440x288 with 3 Axes>"
      ]
     },
     "metadata": {
      "needs_background": "light"
     },
     "output_type": "display_data"
    }
   ],
   "source": [
    "pivot_draw('jp_sales','Топ 5 платформ, жанров и рейтингов за весь период')"
   ]
  },
  {
   "cell_type": "code",
   "execution_count": 42,
   "metadata": {},
   "outputs": [
    {
     "data": {
      "image/png": "[encoded data removed]",
      "text/plain": [
       "<Figure size 1440x288 with 3 Axes>"
      ]
     },
     "metadata": {
      "needs_background": "light"
     },
     "output_type": "display_data"
    }
   ],
   "source": [
    "pivot_draw('jp_sales','Топ 5 платформ, жанров и рейтингов с 2015', 2015)"
   ]
  },
  {
   "cell_type": "markdown",
   "metadata": {},
   "source": [
    "### Вывод:"
   ]
  },
  {
   "cell_type": "markdown",
   "metadata": {},
   "source": [
    "```\n",
    "Пользователи из Северной Америки и Евросоюза очень близки по выбору жанров: Shooter, Action, Sports\n",
    "У пользователи из Японии за последние два года стали популярны Action и Role-Playing.\n",
    "Пользователи из Японии предпочитают платформы японских производителей: 3DS, PS4, PSV, PS3, WiiU\n",
    "\n",
    "```"
   ]
  },
  {
   "cell_type": "markdown",
   "metadata": {},
   "source": [
    "## Шаг 5. Проверим гипотезы"
   ]
  },
  {
   "cell_type": "markdown",
   "metadata": {},
   "source": [
    "### Средние пользовательские рейтинги платформ Xbox One и PC одинаковые"
   ]
  },
  {
   "cell_type": "markdown",
   "metadata": {},
   "source": [
    "- Нулевая гипотеза H₀: Средние пользовательские рейтинги платформ Xbox One и PC одинаковые;\n",
    "- Альтернативная гипотеза H₁: Средние пользовательские рейтинги платформ Xbox One и PC различаются"
   ]
  },
  {
   "cell_type": "code",
   "execution_count": 43,
   "metadata": {},
   "outputs": [
    {
     "data": {
      "text/plain": [
       "count    182.000000\n",
       "mean       6.521429\n",
       "std        1.380941\n",
       "min        1.600000\n",
       "25%        5.800000\n",
       "50%        6.800000\n",
       "75%        7.500000\n",
       "max        9.200000\n",
       "Name: user_score, dtype: float64"
      ]
     },
     "execution_count": 43,
     "metadata": {},
     "output_type": "execute_result"
    }
   ],
   "source": [
    "XOne = df.query('year_of_release>=2013 and platform==\"XOne\" and user_score.notna()').user_score\n",
    "XOne.describe()"
   ]
  },
  {
   "cell_type": "code",
   "execution_count": 44,
   "metadata": {},
   "outputs": [
    {
     "data": {
      "text/plain": [
       "count    158.000000\n",
       "mean       6.280380\n",
       "std        1.735044\n",
       "min        1.400000\n",
       "25%        5.325000\n",
       "50%        6.800000\n",
       "75%        7.600000\n",
       "max        9.300000\n",
       "Name: user_score, dtype: float64"
      ]
     },
     "execution_count": 44,
     "metadata": {},
     "output_type": "execute_result"
    }
   ],
   "source": [
    "# ограничим данные с 2013 года, поскольку XOne вышла в этом году\n",
    "PC = df.query('year_of_release>=2013 and platform==\"PC\" and user_score.notna()').user_score\n",
    "PC.describe()"
   ]
  },
  {
   "cell_type": "code",
   "execution_count": 45,
   "metadata": {},
   "outputs": [
    {
     "name": "stdout",
     "output_type": "stream",
     "text": [
      "p-значение: 0.16174359801784308\n",
      "Не получилось отвергнуть нулевую гипотезу\n"
     ]
    }
   ],
   "source": [
    "alpha = 0.01\n",
    "\n",
    "results = st.ttest_ind(XOne, PC, equal_var=False)\n",
    "\n",
    "print('p-значение:', results.pvalue)\n",
    "\n",
    "\n",
    "if (results.pvalue < alpha):\n",
    "    print(\"Отвергаем нулевую гипотезу\")\n",
    "else:\n",
    "    print(\"Не получилось отвергнуть нулевую гипотезу\")"
   ]
  },
  {
   "cell_type": "markdown",
   "metadata": {},
   "source": [
    "### Средние пользовательские рейтинги жанров Action (англ. «действие», экшен-игры) и Sports (англ. «спортивные соревнования») разные"
   ]
  },
  {
   "cell_type": "markdown",
   "metadata": {},
   "source": [
    "- Нулевая гипотеза H₀: Средние пользовательские рейтинги жанров Action и Sports одинаковые\n",
    "- Альтернативная гипотеза H₁: Средние пользовательские рейтинги жанров Action и Sports различаются"
   ]
  },
  {
   "cell_type": "code",
   "execution_count": 46,
   "metadata": {},
   "outputs": [
    {
     "data": {
      "text/plain": [
       "count    531.000000\n",
       "mean       6.834275\n",
       "std        1.371830\n",
       "min        1.600000\n",
       "25%        6.250000\n",
       "50%        7.200000\n",
       "75%        7.800000\n",
       "max        9.100000\n",
       "Name: user_score, dtype: float64"
      ]
     },
     "execution_count": 46,
     "metadata": {},
     "output_type": "execute_result"
    }
   ],
   "source": [
    "Action = df_actual.query('genre==\"Action\" and user_score.notna()').user_score\n",
    "Action.describe()"
   ]
  },
  {
   "cell_type": "code",
   "execution_count": 47,
   "metadata": {},
   "outputs": [
    {
     "data": {
      "text/plain": [
       "count    195.000000\n",
       "mean       5.455897\n",
       "std        1.738646\n",
       "min        0.200000\n",
       "25%        4.300000\n",
       "50%        5.700000\n",
       "75%        6.800000\n",
       "max        8.800000\n",
       "Name: user_score, dtype: float64"
      ]
     },
     "execution_count": 47,
     "metadata": {},
     "output_type": "execute_result"
    }
   ],
   "source": [
    "Sports = df_actual.query(' genre==\"Sports\" and user_score.notna()').user_score\n",
    "Sports.describe()"
   ]
  },
  {
   "cell_type": "code",
   "execution_count": 48,
   "metadata": {},
   "outputs": [
    {
     "name": "stdout",
     "output_type": "stream",
     "text": [
      "p-значение: 2.337200239591976e-20\n",
      "Отвергаем нулевую гипотезу\n"
     ]
    }
   ],
   "source": [
    "alpha = 0.01\n",
    "\n",
    "results = st.ttest_ind(Action, Sports, equal_var=False)\n",
    "\n",
    "print('p-значение:', results.pvalue)\n",
    "\n",
    "\n",
    "if (results.pvalue < alpha):\n",
    "    print(\"Отвергаем нулевую гипотезу\")\n",
    "else:\n",
    "    print(\"Не получилось отвергнуть нулевую гипотезу\")"
   ]
  },
  {
   "cell_type": "markdown",
   "metadata": {},
   "source": [
    "### Вывод:"
   ]
  },
  {
   "cell_type": "markdown",
   "metadata": {},
   "source": [
    "```\n",
    "(нулевую) гипотезу \"Средние пользовательские рейтинги платформ Xbox One и PC одинаковые\" \n",
    "отвергнуть не удалось\n",
    "\n",
    "(альтернативную) гипотезу \"Средние пользовательские рейтинги жанров Action (англ. «действие», экшен-игры) и Sports (англ. «спортивные соревнования») разные\"\n",
    "```\n",
    "\n",
    ">~~отвергаем~~  \n",
    "отвергнуть не удалось\n"
   ]
  },
  {
   "cell_type": "markdown",
   "metadata": {},
   "source": [
    "<div class=\"alert alert-block alert-info\">\n",
    "<h2>Общий вывод</h2><br>\n",
    "<b> Важные параметры для планирования рекламной кампании:</b>\n",
    "<br><br>    \n",
    "    \n",
    "<li> Оценка критиков имеет небольшую положительную корреляцию (около 0.5) с количеством продаж </li>\n",
    "<li> Пользователи из Северной Америки и Евросоюза предпочитают жанры: Shooter, Action, Sports </li>\n",
    "<li> У пользователей из Японии наиболее популярны жанры: Action и Role-Playing </li>\n",
    "<li> Пользователи из Северной Америки и Евросоюза чаще всего используют платформы: PS4 и XOne </li>\n",
    "<li> Пользователи из Японии предпочитают платформы: 3DS, PS4, PSV </li>\n",
    "<li> Возрастные рейтинги: наиболее распространенные: \"E\" и \"отсутствует\" (можно объединить в одну категорию) </li>\n",
    "<li> Оставшиеся возрастные категории для Северной Америки и Европы: \"M\", \"T\", \"E10+\" </li>\n",
    "<li> для Японии: \"T\", \"M\", \"E10+\" </li>\n",
    "     \n",
    "</div>\n"
   ]
  }
 ],
 "metadata": {
  "ExecuteTimeLog": [
   {
    "duration": 309,
    "start_time": "2021-08-30T08:42:06.128Z"
   },
   {
    "duration": 629,
    "start_time": "2021-08-30T08:42:08.911Z"
   },
   {
    "duration": 39,
    "start_time": "2021-08-30T08:42:09.542Z"
   },
   {
    "duration": 25,
    "start_time": "2021-08-30T08:42:13.174Z"
   },
   {
    "duration": 313,
    "start_time": "2021-08-30T08:43:08.429Z"
   },
   {
    "duration": 4,
    "start_time": "2021-08-30T08:43:27.720Z"
   },
   {
    "duration": 279,
    "start_time": "2021-08-30T08:44:02.190Z"
   },
   {
    "duration": 4,
    "start_time": "2021-08-30T08:46:43.149Z"
   },
   {
    "duration": 4,
    "start_time": "2021-08-30T08:46:48.836Z"
   },
   {
    "duration": 20,
    "start_time": "2021-08-30T08:47:02.677Z"
   },
   {
    "duration": 5,
    "start_time": "2021-08-30T08:51:17.672Z"
   },
   {
    "duration": 300,
    "start_time": "2021-08-30T08:52:20.242Z"
   },
   {
    "duration": 6,
    "start_time": "2021-08-30T08:53:04.035Z"
   },
   {
    "duration": 21,
    "start_time": "2021-08-30T08:53:39.961Z"
   },
   {
    "duration": 23,
    "start_time": "2021-08-30T08:55:11.355Z"
   },
   {
    "duration": 265,
    "start_time": "2021-08-30T08:56:10.553Z"
   },
   {
    "duration": 4,
    "start_time": "2021-08-30T08:56:17.594Z"
   },
   {
    "duration": 5,
    "start_time": "2021-08-30T08:56:35.303Z"
   },
   {
    "duration": 19,
    "start_time": "2021-08-30T08:56:40.752Z"
   },
   {
    "duration": 3,
    "start_time": "2021-08-30T08:57:27.807Z"
   },
   {
    "duration": 29,
    "start_time": "2021-08-30T08:58:31.592Z"
   },
   {
    "duration": 8,
    "start_time": "2021-08-30T09:15:02.000Z"
   },
   {
    "duration": 25,
    "start_time": "2021-08-30T09:15:32.992Z"
   },
   {
    "duration": 327,
    "start_time": "2021-08-30T09:16:22.199Z"
   },
   {
    "duration": 36,
    "start_time": "2021-08-30T09:16:40.398Z"
   },
   {
    "duration": 8,
    "start_time": "2021-08-30T09:17:20.263Z"
   },
   {
    "duration": 8,
    "start_time": "2021-08-30T09:17:31.286Z"
   },
   {
    "duration": 7,
    "start_time": "2021-08-30T09:17:39.030Z"
   },
   {
    "duration": 35,
    "start_time": "2021-08-30T09:17:48.030Z"
   },
   {
    "duration": 285,
    "start_time": "2021-08-30T09:21:05.770Z"
   },
   {
    "duration": 327,
    "start_time": "2021-08-30T09:21:28.653Z"
   },
   {
    "duration": 400,
    "start_time": "2021-08-30T09:22:08.884Z"
   },
   {
    "duration": 93,
    "start_time": "2021-08-30T09:22:57.220Z"
   },
   {
    "duration": 281,
    "start_time": "2021-08-30T09:23:04.787Z"
   },
   {
    "duration": 11,
    "start_time": "2021-08-30T09:23:37.483Z"
   },
   {
    "duration": 11,
    "start_time": "2021-08-30T09:24:05.074Z"
   },
   {
    "duration": 12,
    "start_time": "2021-08-30T09:24:27.658Z"
   },
   {
    "duration": 14,
    "start_time": "2021-08-30T09:24:49.994Z"
   },
   {
    "duration": 13,
    "start_time": "2021-08-30T09:25:57.017Z"
   },
   {
    "duration": 13,
    "start_time": "2021-08-30T09:41:56.514Z"
   },
   {
    "duration": 63,
    "start_time": "2021-08-30T09:43:32.336Z"
   },
   {
    "duration": 12,
    "start_time": "2021-08-30T09:52:33.165Z"
   },
   {
    "duration": 13,
    "start_time": "2021-08-30T09:53:27.853Z"
   },
   {
    "duration": 14,
    "start_time": "2021-08-30T09:54:47.565Z"
   },
   {
    "duration": 13,
    "start_time": "2021-08-30T09:55:04.940Z"
   },
   {
    "duration": 5,
    "start_time": "2021-08-30T10:00:04.761Z"
   },
   {
    "duration": 5,
    "start_time": "2021-08-30T10:06:30.821Z"
   },
   {
    "duration": 5,
    "start_time": "2021-08-30T10:07:15.599Z"
   },
   {
    "duration": 21,
    "start_time": "2021-08-30T10:07:57.102Z"
   },
   {
    "duration": 5,
    "start_time": "2021-08-30T10:11:10.917Z"
   },
   {
    "duration": 6,
    "start_time": "2021-08-30T10:11:43.964Z"
   },
   {
    "duration": 11,
    "start_time": "2021-08-30T10:13:21.892Z"
   },
   {
    "duration": 14,
    "start_time": "2021-08-30T10:14:45.203Z"
   },
   {
    "duration": 281,
    "start_time": "2021-08-30T10:16:42.834Z"
   },
   {
    "duration": 283,
    "start_time": "2021-08-30T10:17:02.987Z"
   },
   {
    "duration": 283,
    "start_time": "2021-08-30T10:18:07.442Z"
   },
   {
    "duration": 331,
    "start_time": "2021-08-30T10:18:34.506Z"
   },
   {
    "duration": 29,
    "start_time": "2021-08-30T10:18:46.962Z"
   },
   {
    "duration": 24,
    "start_time": "2021-08-30T10:19:03.281Z"
   },
   {
    "duration": 9,
    "start_time": "2021-08-30T10:19:18.145Z"
   },
   {
    "duration": 44,
    "start_time": "2021-08-30T10:19:41.152Z"
   },
   {
    "duration": 9,
    "start_time": "2021-08-30T10:19:51.439Z"
   },
   {
    "duration": 6,
    "start_time": "2021-08-30T10:20:55.752Z"
   },
   {
    "duration": 279,
    "start_time": "2021-08-30T10:21:13.855Z"
   },
   {
    "duration": 293,
    "start_time": "2021-08-30T10:21:52.831Z"
   },
   {
    "duration": 632,
    "start_time": "2021-08-30T10:22:01.223Z"
   },
   {
    "duration": 50,
    "start_time": "2021-08-30T10:22:01.858Z"
   },
   {
    "duration": 7,
    "start_time": "2021-08-30T10:22:01.910Z"
   },
   {
    "duration": 347,
    "start_time": "2021-08-30T10:22:01.918Z"
   },
   {
    "duration": -9893,
    "start_time": "2021-08-30T10:22:12.160Z"
   },
   {
    "duration": -9896,
    "start_time": "2021-08-30T10:22:12.164Z"
   },
   {
    "duration": -9896,
    "start_time": "2021-08-30T10:22:12.165Z"
   },
   {
    "duration": 280,
    "start_time": "2021-08-30T10:22:16.815Z"
   },
   {
    "duration": 275,
    "start_time": "2021-08-30T10:22:31.247Z"
   },
   {
    "duration": 583,
    "start_time": "2021-08-30T10:22:38.192Z"
   },
   {
    "duration": 47,
    "start_time": "2021-08-30T10:22:38.777Z"
   },
   {
    "duration": 14,
    "start_time": "2021-08-30T10:22:38.827Z"
   },
   {
    "duration": 17,
    "start_time": "2021-08-30T10:22:38.843Z"
   },
   {
    "duration": 44,
    "start_time": "2021-08-30T10:22:38.862Z"
   },
   {
    "duration": 6,
    "start_time": "2021-08-30T10:22:38.908Z"
   },
   {
    "duration": 17,
    "start_time": "2021-08-30T10:22:38.915Z"
   },
   {
    "duration": 21,
    "start_time": "2021-08-30T10:22:38.934Z"
   },
   {
    "duration": 8,
    "start_time": "2021-08-30T10:23:35.814Z"
   },
   {
    "duration": 11,
    "start_time": "2021-08-30T10:23:39.038Z"
   },
   {
    "duration": 26,
    "start_time": "2021-08-30T10:24:14.150Z"
   },
   {
    "duration": 24,
    "start_time": "2021-08-30T10:24:58.431Z"
   },
   {
    "duration": 11,
    "start_time": "2021-08-30T10:25:19.279Z"
   },
   {
    "duration": 10,
    "start_time": "2021-08-30T10:25:22.774Z"
   },
   {
    "duration": 18,
    "start_time": "2021-08-30T10:25:35.357Z"
   },
   {
    "duration": 586,
    "start_time": "2021-08-30T10:26:08.867Z"
   },
   {
    "duration": 49,
    "start_time": "2021-08-30T10:26:09.455Z"
   },
   {
    "duration": 9,
    "start_time": "2021-08-30T10:26:09.506Z"
   },
   {
    "duration": 30,
    "start_time": "2021-08-30T10:26:09.517Z"
   },
   {
    "duration": 26,
    "start_time": "2021-08-30T10:26:09.549Z"
   },
   {
    "duration": 5,
    "start_time": "2021-08-30T10:26:09.577Z"
   },
   {
    "duration": 13,
    "start_time": "2021-08-30T10:26:09.583Z"
   },
   {
    "duration": 9,
    "start_time": "2021-08-30T10:26:09.598Z"
   },
   {
    "duration": 10,
    "start_time": "2021-08-30T10:26:33.549Z"
   },
   {
    "duration": 12,
    "start_time": "2021-08-30T10:26:56.756Z"
   },
   {
    "duration": 11,
    "start_time": "2021-08-30T10:26:58.605Z"
   },
   {
    "duration": 18,
    "start_time": "2021-08-30T10:27:08.132Z"
   },
   {
    "duration": 6,
    "start_time": "2021-08-30T10:50:54.146Z"
   },
   {
    "duration": 338,
    "start_time": "2021-08-30T10:51:05.753Z"
   },
   {
    "duration": 7,
    "start_time": "2021-08-30T10:51:15.458Z"
   },
   {
    "duration": 4,
    "start_time": "2021-08-30T11:41:08.154Z"
   },
   {
    "duration": 3,
    "start_time": "2021-08-30T11:42:14.379Z"
   },
   {
    "duration": 9,
    "start_time": "2021-08-30T11:42:38.185Z"
   },
   {
    "duration": 11,
    "start_time": "2021-08-30T11:43:18.233Z"
   },
   {
    "duration": 730,
    "start_time": "2021-09-01T12:49:11.949Z"
   },
   {
    "duration": 49,
    "start_time": "2021-09-01T12:49:12.681Z"
   },
   {
    "duration": 19,
    "start_time": "2021-09-01T12:49:12.733Z"
   },
   {
    "duration": 41,
    "start_time": "2021-09-01T12:49:12.755Z"
   },
   {
    "duration": 24,
    "start_time": "2021-09-01T12:49:12.798Z"
   },
   {
    "duration": 9,
    "start_time": "2021-09-01T12:49:12.824Z"
   },
   {
    "duration": 11,
    "start_time": "2021-09-01T12:49:12.835Z"
   },
   {
    "duration": 9,
    "start_time": "2021-09-01T12:49:12.877Z"
   },
   {
    "duration": 14,
    "start_time": "2021-09-01T12:49:32.923Z"
   },
   {
    "duration": 47,
    "start_time": "2021-09-01T12:52:04.640Z"
   },
   {
    "duration": 58,
    "start_time": "2021-09-01T12:52:22.135Z"
   },
   {
    "duration": 13,
    "start_time": "2021-09-01T12:53:13.919Z"
   },
   {
    "duration": 28,
    "start_time": "2021-09-01T12:53:16.535Z"
   },
   {
    "duration": 26,
    "start_time": "2021-09-01T12:54:06.039Z"
   },
   {
    "duration": 733,
    "start_time": "2021-09-01T12:54:30.110Z"
   },
   {
    "duration": 23,
    "start_time": "2021-09-01T12:54:30.910Z"
   },
   {
    "duration": 14,
    "start_time": "2021-09-01T12:54:43.743Z"
   },
   {
    "duration": 24,
    "start_time": "2021-09-01T12:54:46.102Z"
   },
   {
    "duration": 24,
    "start_time": "2021-09-01T12:55:00.214Z"
   },
   {
    "duration": 23,
    "start_time": "2021-09-01T12:55:43.358Z"
   },
   {
    "duration": 7,
    "start_time": "2021-09-01T12:56:46.855Z"
   },
   {
    "duration": 6,
    "start_time": "2021-09-01T12:57:01.717Z"
   },
   {
    "duration": 491,
    "start_time": "2021-09-01T12:57:30.030Z"
   },
   {
    "duration": 4,
    "start_time": "2021-09-01T12:57:39.093Z"
   },
   {
    "duration": 11,
    "start_time": "2021-09-01T12:57:45.468Z"
   },
   {
    "duration": 12,
    "start_time": "2021-09-01T12:57:56.269Z"
   },
   {
    "duration": 12,
    "start_time": "2021-09-01T12:58:08.772Z"
   },
   {
    "duration": 19,
    "start_time": "2021-09-01T12:58:42.244Z"
   },
   {
    "duration": 18,
    "start_time": "2021-09-01T12:58:48.748Z"
   },
   {
    "duration": 41,
    "start_time": "2021-09-01T12:59:51.907Z"
   },
   {
    "duration": 28,
    "start_time": "2021-09-01T13:00:51.028Z"
   },
   {
    "duration": 129,
    "start_time": "2021-09-01T13:01:49.723Z"
   },
   {
    "duration": 136,
    "start_time": "2021-09-01T13:02:06.859Z"
   },
   {
    "duration": 123,
    "start_time": "2021-09-01T13:02:21.050Z"
   },
   {
    "duration": 12,
    "start_time": "2021-09-01T13:02:37.002Z"
   },
   {
    "duration": 25,
    "start_time": "2021-09-01T13:02:55.187Z"
   },
   {
    "duration": 11,
    "start_time": "2021-09-01T13:03:38.803Z"
   },
   {
    "duration": 24,
    "start_time": "2021-09-01T13:03:52.450Z"
   },
   {
    "duration": 11,
    "start_time": "2021-09-01T13:04:05.947Z"
   },
   {
    "duration": 9288,
    "start_time": "2021-09-01T13:04:48.994Z"
   },
   {
    "duration": 10621,
    "start_time": "2021-09-01T13:05:22.443Z"
   },
   {
    "duration": 11,
    "start_time": "2021-09-01T13:06:07.602Z"
   },
   {
    "duration": 11,
    "start_time": "2021-09-01T13:07:29.169Z"
   },
   {
    "duration": 15,
    "start_time": "2021-09-01T13:07:52.418Z"
   },
   {
    "duration": 24,
    "start_time": "2021-09-01T13:08:23.776Z"
   },
   {
    "duration": 9,
    "start_time": "2021-09-01T13:08:42.912Z"
   },
   {
    "duration": 13,
    "start_time": "2021-09-01T13:09:04.678Z"
   },
   {
    "duration": 16,
    "start_time": "2021-09-01T13:09:52.999Z"
   },
   {
    "duration": 13,
    "start_time": "2021-09-01T13:11:46.298Z"
   },
   {
    "duration": 18,
    "start_time": "2021-09-01T13:12:06.167Z"
   },
   {
    "duration": 17,
    "start_time": "2021-09-01T13:12:35.759Z"
   },
   {
    "duration": 5,
    "start_time": "2021-09-01T13:16:42.963Z"
   },
   {
    "duration": 6,
    "start_time": "2021-09-01T13:17:06.996Z"
   },
   {
    "duration": 358,
    "start_time": "2021-09-01T13:17:19.088Z"
   },
   {
    "duration": 3,
    "start_time": "2021-09-01T13:17:25.252Z"
   },
   {
    "duration": 4,
    "start_time": "2021-09-01T13:17:32.011Z"
   },
   {
    "duration": 5,
    "start_time": "2021-09-01T13:17:43.499Z"
   },
   {
    "duration": 24,
    "start_time": "2021-09-01T13:19:01.587Z"
   },
   {
    "duration": 997,
    "start_time": "2021-09-01T13:19:26.723Z"
   },
   {
    "duration": 24,
    "start_time": "2021-09-01T13:19:35.955Z"
   },
   {
    "duration": 16,
    "start_time": "2021-09-01T13:20:29.268Z"
   },
   {
    "duration": 16,
    "start_time": "2021-09-01T13:20:55.058Z"
   },
   {
    "duration": 15,
    "start_time": "2021-09-01T13:21:18.313Z"
   },
   {
    "duration": 16,
    "start_time": "2021-09-01T13:25:00.889Z"
   },
   {
    "duration": 372,
    "start_time": "2021-09-01T13:25:55.191Z"
   },
   {
    "duration": 26,
    "start_time": "2021-09-01T13:26:29.734Z"
   },
   {
    "duration": 25,
    "start_time": "2021-09-01T13:26:58.271Z"
   },
   {
    "duration": 6,
    "start_time": "2021-09-01T13:30:49.990Z"
   },
   {
    "duration": 6,
    "start_time": "2021-09-01T13:31:06.732Z"
   },
   {
    "duration": 419,
    "start_time": "2021-09-01T13:31:29.637Z"
   },
   {
    "duration": 397,
    "start_time": "2021-09-01T13:31:33.908Z"
   },
   {
    "duration": 8,
    "start_time": "2021-09-01T13:31:40.677Z"
   },
   {
    "duration": 1003,
    "start_time": "2021-09-02T09:42:52.593Z"
   },
   {
    "duration": 782,
    "start_time": "2021-09-02T09:43:13.060Z"
   },
   {
    "duration": 45,
    "start_time": "2021-09-02T09:43:13.844Z"
   },
   {
    "duration": 16,
    "start_time": "2021-09-02T09:43:13.892Z"
   },
   {
    "duration": 28,
    "start_time": "2021-09-02T09:43:13.910Z"
   },
   {
    "duration": 22,
    "start_time": "2021-09-02T09:43:13.939Z"
   },
   {
    "duration": 8,
    "start_time": "2021-09-02T09:43:13.962Z"
   },
   {
    "duration": 11,
    "start_time": "2021-09-02T09:43:13.992Z"
   },
   {
    "duration": 15,
    "start_time": "2021-09-02T09:43:14.007Z"
   },
   {
    "duration": 11,
    "start_time": "2021-09-02T09:43:14.024Z"
   },
   {
    "duration": 19,
    "start_time": "2021-09-02T09:43:14.037Z"
   },
   {
    "duration": 36,
    "start_time": "2021-09-02T09:43:14.058Z"
   },
   {
    "duration": 25,
    "start_time": "2021-09-02T09:43:14.095Z"
   },
   {
    "duration": 6,
    "start_time": "2021-09-02T09:43:14.121Z"
   },
   {
    "duration": 530,
    "start_time": "2021-09-02T09:43:14.129Z"
   },
   {
    "duration": 32,
    "start_time": "2021-09-02T09:43:14.660Z"
   },
   {
    "duration": 17,
    "start_time": "2021-09-02T09:43:14.694Z"
   },
   {
    "duration": 12,
    "start_time": "2021-09-02T09:43:14.712Z"
   },
   {
    "duration": 10,
    "start_time": "2021-09-02T09:43:14.726Z"
   },
   {
    "duration": 22,
    "start_time": "2021-09-02T09:43:14.738Z"
   },
   {
    "duration": 37,
    "start_time": "2021-09-02T09:43:14.762Z"
   },
   {
    "duration": 20,
    "start_time": "2021-09-02T09:43:14.801Z"
   },
   {
    "duration": 17,
    "start_time": "2021-09-02T09:43:14.823Z"
   },
   {
    "duration": 20,
    "start_time": "2021-09-02T09:43:14.844Z"
   },
   {
    "duration": 6,
    "start_time": "2021-09-02T09:43:14.867Z"
   },
   {
    "duration": 6,
    "start_time": "2021-09-02T09:43:14.892Z"
   },
   {
    "duration": 24,
    "start_time": "2021-09-02T09:43:14.900Z"
   },
   {
    "duration": 5,
    "start_time": "2021-09-02T09:43:14.926Z"
   },
   {
    "duration": 27,
    "start_time": "2021-09-02T09:43:14.932Z"
   },
   {
    "duration": 5,
    "start_time": "2021-09-02T09:43:14.960Z"
   },
   {
    "duration": 35,
    "start_time": "2021-09-02T09:43:14.966Z"
   },
   {
    "duration": 19,
    "start_time": "2021-09-02T09:43:15.003Z"
   },
   {
    "duration": 346,
    "start_time": "2021-09-02T09:43:15.024Z"
   },
   {
    "duration": 5,
    "start_time": "2021-09-02T09:43:15.372Z"
   },
   {
    "duration": 19,
    "start_time": "2021-09-02T09:43:15.379Z"
   },
   {
    "duration": 12,
    "start_time": "2021-09-02T09:43:15.400Z"
   },
   {
    "duration": 5,
    "start_time": "2021-09-02T09:43:15.414Z"
   },
   {
    "duration": 21,
    "start_time": "2021-09-02T09:43:15.421Z"
   },
   {
    "duration": 353,
    "start_time": "2021-09-02T09:43:15.443Z"
   },
   {
    "duration": 440,
    "start_time": "2021-09-02T09:43:15.798Z"
   },
   {
    "duration": 3,
    "start_time": "2021-09-02T09:43:16.240Z"
   },
   {
    "duration": 16,
    "start_time": "2021-09-02T09:43:16.245Z"
   },
   {
    "duration": 5,
    "start_time": "2021-09-02T09:43:16.263Z"
   },
   {
    "duration": 456,
    "start_time": "2021-09-02T09:43:16.270Z"
   },
   {
    "duration": 9,
    "start_time": "2021-09-02T09:43:16.728Z"
   },
   {
    "duration": 11,
    "start_time": "2021-09-02T09:43:16.738Z"
   },
   {
    "duration": 292,
    "start_time": "2021-09-02T09:43:16.751Z"
   },
   {
    "duration": 8,
    "start_time": "2021-09-02T09:43:17.045Z"
   },
   {
    "duration": 503,
    "start_time": "2021-09-02T09:43:17.054Z"
   },
   {
    "duration": 448,
    "start_time": "2021-09-02T09:43:17.559Z"
   },
   {
    "duration": 6,
    "start_time": "2021-09-02T09:43:18.008Z"
   },
   {
    "duration": 11,
    "start_time": "2021-09-02T09:43:18.015Z"
   },
   {
    "duration": 3466,
    "start_time": "2021-09-02T09:43:18.027Z"
   },
   {
    "duration": 58,
    "start_time": "2021-09-02T09:43:21.495Z"
   },
   {
    "duration": 85,
    "start_time": "2021-09-02T09:43:21.555Z"
   },
   {
    "duration": 17,
    "start_time": "2021-09-02T09:43:21.642Z"
   },
   {
    "duration": 306,
    "start_time": "2021-09-02T09:43:21.661Z"
   },
   {
    "duration": 102,
    "start_time": "2021-09-02T09:43:21.969Z"
   },
   {
    "duration": 513,
    "start_time": "2021-09-02T09:43:22.073Z"
   },
   {
    "duration": 497,
    "start_time": "2021-09-02T09:43:22.587Z"
   },
   {
    "duration": 613,
    "start_time": "2021-09-02T09:43:23.085Z"
   },
   {
    "duration": 506,
    "start_time": "2021-09-02T09:43:23.700Z"
   },
   {
    "duration": 548,
    "start_time": "2021-09-02T09:43:24.208Z"
   },
   {
    "duration": 588,
    "start_time": "2021-09-02T09:43:24.758Z"
   },
   {
    "duration": 12,
    "start_time": "2021-09-02T09:43:25.348Z"
   },
   {
    "duration": 6,
    "start_time": "2021-09-02T09:43:25.361Z"
   },
   {
    "duration": 24,
    "start_time": "2021-09-02T09:43:25.369Z"
   },
   {
    "duration": 12,
    "start_time": "2021-09-02T09:43:25.394Z"
   },
   {
    "duration": 4,
    "start_time": "2021-09-02T09:43:25.411Z"
   },
   {
    "duration": 8,
    "start_time": "2021-09-02T09:43:25.416Z"
   },
   {
    "duration": 3,
    "start_time": "2021-09-02T09:54:10.001Z"
   },
   {
    "duration": 758,
    "start_time": "2021-09-02T09:54:51.580Z"
   },
   {
    "duration": 45,
    "start_time": "2021-09-02T09:54:52.339Z"
   },
   {
    "duration": 13,
    "start_time": "2021-09-02T09:54:52.386Z"
   },
   {
    "duration": 32,
    "start_time": "2021-09-02T09:54:52.400Z"
   },
   {
    "duration": 21,
    "start_time": "2021-09-02T09:54:52.434Z"
   },
   {
    "duration": 7,
    "start_time": "2021-09-02T09:54:52.456Z"
   },
   {
    "duration": 28,
    "start_time": "2021-09-02T09:54:52.465Z"
   },
   {
    "duration": 21,
    "start_time": "2021-09-02T09:54:52.495Z"
   },
   {
    "duration": 18,
    "start_time": "2021-09-02T09:54:52.518Z"
   },
   {
    "duration": 20,
    "start_time": "2021-09-02T09:54:52.538Z"
   },
   {
    "duration": 6,
    "start_time": "2021-09-02T09:54:52.560Z"
   },
   {
    "duration": 43,
    "start_time": "2021-09-02T09:54:52.568Z"
   },
   {
    "duration": 7,
    "start_time": "2021-09-02T09:54:52.612Z"
   },
   {
    "duration": 9,
    "start_time": "2021-09-02T09:54:52.620Z"
   },
   {
    "duration": 547,
    "start_time": "2021-09-02T09:54:52.630Z"
   },
   {
    "duration": 26,
    "start_time": "2021-09-02T09:54:53.179Z"
   },
   {
    "duration": 16,
    "start_time": "2021-09-02T09:54:53.207Z"
   },
   {
    "duration": 11,
    "start_time": "2021-09-02T09:54:53.225Z"
   },
   {
    "duration": 4,
    "start_time": "2021-09-02T09:54:53.238Z"
   },
   {
    "duration": 9,
    "start_time": "2021-09-02T09:54:53.244Z"
   },
   {
    "duration": 43,
    "start_time": "2021-09-02T09:54:53.254Z"
   },
   {
    "duration": 17,
    "start_time": "2021-09-02T09:54:53.299Z"
   },
   {
    "duration": 18,
    "start_time": "2021-09-02T09:54:53.320Z"
   },
   {
    "duration": 16,
    "start_time": "2021-09-02T09:54:53.340Z"
   },
   {
    "duration": 35,
    "start_time": "2021-09-02T09:54:53.357Z"
   },
   {
    "duration": 6,
    "start_time": "2021-09-02T09:54:53.394Z"
   },
   {
    "duration": 18,
    "start_time": "2021-09-02T09:54:53.402Z"
   },
   {
    "duration": 4,
    "start_time": "2021-09-02T09:54:53.422Z"
   },
   {
    "duration": 29,
    "start_time": "2021-09-02T09:54:53.428Z"
   },
   {
    "duration": 4,
    "start_time": "2021-09-02T09:54:53.459Z"
   },
   {
    "duration": 40,
    "start_time": "2021-09-02T09:54:53.464Z"
   },
   {
    "duration": 5,
    "start_time": "2021-09-02T09:54:53.506Z"
   },
   {
    "duration": 351,
    "start_time": "2021-09-02T09:54:53.512Z"
   },
   {
    "duration": 5,
    "start_time": "2021-09-02T09:54:53.865Z"
   },
   {
    "duration": 22,
    "start_time": "2021-09-02T09:54:53.871Z"
   },
   {
    "duration": 6,
    "start_time": "2021-09-02T09:54:53.894Z"
   },
   {
    "duration": 4,
    "start_time": "2021-09-02T09:54:53.901Z"
   },
   {
    "duration": 20,
    "start_time": "2021-09-02T09:54:53.906Z"
   },
   {
    "duration": 272,
    "start_time": "2021-09-02T09:54:53.928Z"
   },
   {
    "duration": 373,
    "start_time": "2021-09-02T09:54:54.202Z"
   },
   {
    "duration": 3,
    "start_time": "2021-09-02T09:54:54.577Z"
   },
   {
    "duration": 23,
    "start_time": "2021-09-02T09:54:54.582Z"
   },
   {
    "duration": 7,
    "start_time": "2021-09-02T09:54:54.606Z"
   },
   {
    "duration": 368,
    "start_time": "2021-09-02T09:54:54.615Z"
   },
   {
    "duration": 9,
    "start_time": "2021-09-02T09:54:54.985Z"
   },
   {
    "duration": 8,
    "start_time": "2021-09-02T09:54:54.996Z"
   },
   {
    "duration": 269,
    "start_time": "2021-09-02T09:54:55.005Z"
   },
   {
    "duration": 17,
    "start_time": "2021-09-02T09:54:55.275Z"
   },
   {
    "duration": 449,
    "start_time": "2021-09-02T09:54:55.293Z"
   },
   {
    "duration": 339,
    "start_time": "2021-09-02T09:54:55.744Z"
   },
   {
    "duration": 9,
    "start_time": "2021-09-02T09:54:56.085Z"
   },
   {
    "duration": 10,
    "start_time": "2021-09-02T09:54:56.096Z"
   },
   {
    "duration": 2539,
    "start_time": "2021-09-02T09:54:56.107Z"
   },
   {
    "duration": 73,
    "start_time": "2021-09-02T09:54:58.648Z"
   },
   {
    "duration": 54,
    "start_time": "2021-09-02T09:54:58.723Z"
   },
   {
    "duration": 16,
    "start_time": "2021-09-02T09:54:58.792Z"
   },
   {
    "duration": 265,
    "start_time": "2021-09-02T09:54:58.810Z"
   },
   {
    "duration": 16,
    "start_time": "2021-09-02T09:54:59.077Z"
   },
   {
    "duration": 523,
    "start_time": "2021-09-02T09:54:59.094Z"
   },
   {
    "duration": 578,
    "start_time": "2021-09-02T09:54:59.618Z"
   },
   {
    "duration": 501,
    "start_time": "2021-09-02T09:55:00.197Z"
   },
   {
    "duration": 507,
    "start_time": "2021-09-02T09:55:00.699Z"
   },
   {
    "duration": 522,
    "start_time": "2021-09-02T09:55:01.208Z"
   },
   {
    "duration": 485,
    "start_time": "2021-09-02T09:55:01.732Z"
   },
   {
    "duration": 12,
    "start_time": "2021-09-02T09:55:02.219Z"
   },
   {
    "duration": 8,
    "start_time": "2021-09-02T09:55:02.232Z"
   },
   {
    "duration": 19,
    "start_time": "2021-09-02T09:55:02.241Z"
   },
   {
    "duration": 27,
    "start_time": "2021-09-02T09:55:02.264Z"
   },
   {
    "duration": 5,
    "start_time": "2021-09-02T09:55:02.293Z"
   },
   {
    "duration": 17,
    "start_time": "2021-09-02T09:55:02.299Z"
   },
   {
    "duration": 50,
    "start_time": "2021-09-02T09:59:38.159Z"
   },
   {
    "duration": 44,
    "start_time": "2021-09-02T10:00:06.916Z"
   },
   {
    "duration": 59,
    "start_time": "2021-09-02T10:00:14.244Z"
   },
   {
    "duration": 9,
    "start_time": "2021-09-02T10:14:47.883Z"
   },
   {
    "duration": 18,
    "start_time": "2021-09-02T10:15:52.380Z"
   },
   {
    "duration": 250,
    "start_time": "2021-09-02T10:27:59.750Z"
   },
   {
    "duration": 1155,
    "start_time": "2021-09-02T10:28:06.854Z"
   },
   {
    "duration": 13,
    "start_time": "2021-09-02T10:28:41.013Z"
   },
   {
    "duration": 9,
    "start_time": "2021-09-02T10:28:42.313Z"
   },
   {
    "duration": 9,
    "start_time": "2021-09-02T10:29:02.949Z"
   },
   {
    "duration": 7,
    "start_time": "2021-09-02T10:29:20.109Z"
   },
   {
    "duration": 826,
    "start_time": "2021-09-02T10:29:40.423Z"
   },
   {
    "duration": 51,
    "start_time": "2021-09-02T10:29:41.251Z"
   },
   {
    "duration": 23,
    "start_time": "2021-09-02T10:29:41.305Z"
   },
   {
    "duration": 46,
    "start_time": "2021-09-02T10:29:41.330Z"
   },
   {
    "duration": 19,
    "start_time": "2021-09-02T10:29:41.378Z"
   },
   {
    "duration": 39,
    "start_time": "2021-09-02T10:29:41.399Z"
   },
   {
    "duration": 9,
    "start_time": "2021-09-02T10:29:41.440Z"
   },
   {
    "duration": 577,
    "start_time": "2021-09-02T10:29:41.452Z"
   },
   {
    "duration": 49,
    "start_time": "2021-09-02T10:29:42.032Z"
   },
   {
    "duration": 9,
    "start_time": "2021-09-02T10:29:42.091Z"
   },
   {
    "duration": 18,
    "start_time": "2021-09-02T10:29:42.102Z"
   },
   {
    "duration": 25,
    "start_time": "2021-09-02T10:29:42.121Z"
   },
   {
    "duration": 23,
    "start_time": "2021-09-02T10:29:42.148Z"
   },
   {
    "duration": 18,
    "start_time": "2021-09-02T10:29:42.173Z"
   },
   {
    "duration": 16,
    "start_time": "2021-09-02T10:29:42.193Z"
   },
   {
    "duration": 353,
    "start_time": "2021-09-02T10:29:42.210Z"
   },
   {
    "duration": 5,
    "start_time": "2021-09-02T10:29:42.564Z"
   },
   {
    "duration": 27,
    "start_time": "2021-09-02T10:29:42.571Z"
   },
   {
    "duration": 26,
    "start_time": "2021-09-02T10:29:42.599Z"
   },
   {
    "duration": 22,
    "start_time": "2021-09-02T10:29:42.627Z"
   },
   {
    "duration": 29,
    "start_time": "2021-09-02T10:29:42.651Z"
   },
   {
    "duration": 247,
    "start_time": "2021-09-02T10:29:42.682Z"
   },
   {
    "duration": 367,
    "start_time": "2021-09-02T10:29:42.934Z"
   },
   {
    "duration": 4,
    "start_time": "2021-09-02T10:29:43.303Z"
   },
   {
    "duration": 16,
    "start_time": "2021-09-02T10:29:43.309Z"
   },
   {
    "duration": 6,
    "start_time": "2021-09-02T10:29:43.327Z"
   },
   {
    "duration": 380,
    "start_time": "2021-09-02T10:29:43.335Z"
   },
   {
    "duration": 6,
    "start_time": "2021-09-02T10:29:43.717Z"
   },
   {
    "duration": 12,
    "start_time": "2021-09-02T10:29:43.725Z"
   },
   {
    "duration": 1123,
    "start_time": "2021-09-02T10:29:43.739Z"
   },
   {
    "duration": -10170,
    "start_time": "2021-09-02T10:29:55.033Z"
   },
   {
    "duration": -10172,
    "start_time": "2021-09-02T10:29:55.036Z"
   },
   {
    "duration": -10174,
    "start_time": "2021-09-02T10:29:55.039Z"
   },
   {
    "duration": -10177,
    "start_time": "2021-09-02T10:29:55.043Z"
   },
   {
    "duration": -10179,
    "start_time": "2021-09-02T10:29:55.046Z"
   },
   {
    "duration": -10181,
    "start_time": "2021-09-02T10:29:55.049Z"
   },
   {
    "duration": -10183,
    "start_time": "2021-09-02T10:29:55.052Z"
   },
   {
    "duration": -10185,
    "start_time": "2021-09-02T10:29:55.055Z"
   },
   {
    "duration": -10187,
    "start_time": "2021-09-02T10:29:55.058Z"
   },
   {
    "duration": -10189,
    "start_time": "2021-09-02T10:29:55.061Z"
   },
   {
    "duration": -10192,
    "start_time": "2021-09-02T10:29:55.064Z"
   },
   {
    "duration": -10194,
    "start_time": "2021-09-02T10:29:55.067Z"
   },
   {
    "duration": -10196,
    "start_time": "2021-09-02T10:29:55.070Z"
   },
   {
    "duration": -10198,
    "start_time": "2021-09-02T10:29:55.073Z"
   },
   {
    "duration": -10200,
    "start_time": "2021-09-02T10:29:55.075Z"
   },
   {
    "duration": -10202,
    "start_time": "2021-09-02T10:29:55.078Z"
   },
   {
    "duration": -10205,
    "start_time": "2021-09-02T10:29:55.082Z"
   },
   {
    "duration": -10207,
    "start_time": "2021-09-02T10:29:55.085Z"
   },
   {
    "duration": -10209,
    "start_time": "2021-09-02T10:29:55.088Z"
   },
   {
    "duration": -10214,
    "start_time": "2021-09-02T10:29:55.094Z"
   },
   {
    "duration": -10218,
    "start_time": "2021-09-02T10:29:55.098Z"
   },
   {
    "duration": -10231,
    "start_time": "2021-09-02T10:29:55.112Z"
   },
   {
    "duration": -10233,
    "start_time": "2021-09-02T10:29:55.115Z"
   },
   {
    "duration": 14,
    "start_time": "2021-09-02T10:30:44.775Z"
   },
   {
    "duration": 8,
    "start_time": "2021-09-02T10:30:45.703Z"
   },
   {
    "duration": 744,
    "start_time": "2021-09-02T10:31:30.080Z"
   },
   {
    "duration": 50,
    "start_time": "2021-09-02T10:31:30.826Z"
   },
   {
    "duration": 30,
    "start_time": "2021-09-02T10:31:30.878Z"
   },
   {
    "duration": 29,
    "start_time": "2021-09-02T10:31:30.910Z"
   },
   {
    "duration": 12,
    "start_time": "2021-09-02T10:31:30.941Z"
   },
   {
    "duration": 44,
    "start_time": "2021-09-02T10:31:30.955Z"
   },
   {
    "duration": 3,
    "start_time": "2021-09-02T10:31:31.001Z"
   },
   {
    "duration": 546,
    "start_time": "2021-09-02T10:31:31.008Z"
   },
   {
    "duration": 57,
    "start_time": "2021-09-02T10:31:31.556Z"
   },
   {
    "duration": 10,
    "start_time": "2021-09-02T10:31:31.615Z"
   },
   {
    "duration": 14,
    "start_time": "2021-09-02T10:31:31.627Z"
   },
   {
    "duration": 17,
    "start_time": "2021-09-02T10:31:31.643Z"
   },
   {
    "duration": 30,
    "start_time": "2021-09-02T10:31:31.662Z"
   },
   {
    "duration": 13,
    "start_time": "2021-09-02T10:31:31.694Z"
   },
   {
    "duration": 20,
    "start_time": "2021-09-02T10:31:31.709Z"
   },
   {
    "duration": 13,
    "start_time": "2021-09-02T10:31:31.731Z"
   },
   {
    "duration": 12,
    "start_time": "2021-09-02T10:31:31.746Z"
   },
   {
    "duration": 16,
    "start_time": "2021-09-02T10:31:31.760Z"
   },
   {
    "duration": 26,
    "start_time": "2021-09-02T10:31:31.778Z"
   },
   {
    "duration": 14,
    "start_time": "2021-09-02T10:31:31.806Z"
   },
   {
    "duration": 35,
    "start_time": "2021-09-02T10:31:31.822Z"
   },
   {
    "duration": 256,
    "start_time": "2021-09-02T10:31:31.859Z"
   },
   {
    "duration": 390,
    "start_time": "2021-09-02T10:31:32.120Z"
   },
   {
    "duration": 4,
    "start_time": "2021-09-02T10:31:32.513Z"
   },
   {
    "duration": 15,
    "start_time": "2021-09-02T10:31:32.519Z"
   },
   {
    "duration": 7,
    "start_time": "2021-09-02T10:31:32.535Z"
   },
   {
    "duration": 395,
    "start_time": "2021-09-02T10:31:32.544Z"
   },
   {
    "duration": 8,
    "start_time": "2021-09-02T10:31:32.941Z"
   },
   {
    "duration": 16,
    "start_time": "2021-09-02T10:31:32.951Z"
   },
   {
    "duration": 1132,
    "start_time": "2021-09-02T10:31:32.969Z"
   },
   {
    "duration": -10170,
    "start_time": "2021-09-02T10:31:44.273Z"
   },
   {
    "duration": -10172,
    "start_time": "2021-09-02T10:31:44.277Z"
   },
   {
    "duration": -10174,
    "start_time": "2021-09-02T10:31:44.280Z"
   },
   {
    "duration": -10175,
    "start_time": "2021-09-02T10:31:44.283Z"
   },
   {
    "duration": -10177,
    "start_time": "2021-09-02T10:31:44.286Z"
   },
   {
    "duration": -10178,
    "start_time": "2021-09-02T10:31:44.289Z"
   },
   {
    "duration": -10179,
    "start_time": "2021-09-02T10:31:44.291Z"
   },
   {
    "duration": -10181,
    "start_time": "2021-09-02T10:31:44.295Z"
   },
   {
    "duration": -10184,
    "start_time": "2021-09-02T10:31:44.299Z"
   },
   {
    "duration": -10186,
    "start_time": "2021-09-02T10:31:44.303Z"
   },
   {
    "duration": -10189,
    "start_time": "2021-09-02T10:31:44.307Z"
   },
   {
    "duration": -10191,
    "start_time": "2021-09-02T10:31:44.311Z"
   },
   {
    "duration": -10192,
    "start_time": "2021-09-02T10:31:44.313Z"
   },
   {
    "duration": -10193,
    "start_time": "2021-09-02T10:31:44.316Z"
   },
   {
    "duration": -10195,
    "start_time": "2021-09-02T10:31:44.319Z"
   },
   {
    "duration": -10196,
    "start_time": "2021-09-02T10:31:44.322Z"
   },
   {
    "duration": -10198,
    "start_time": "2021-09-02T10:31:44.325Z"
   },
   {
    "duration": -10199,
    "start_time": "2021-09-02T10:31:44.328Z"
   },
   {
    "duration": -10201,
    "start_time": "2021-09-02T10:31:44.331Z"
   },
   {
    "duration": -10202,
    "start_time": "2021-09-02T10:31:44.334Z"
   },
   {
    "duration": -10204,
    "start_time": "2021-09-02T10:31:44.337Z"
   },
   {
    "duration": -10205,
    "start_time": "2021-09-02T10:31:44.340Z"
   },
   {
    "duration": -10206,
    "start_time": "2021-09-02T10:31:44.342Z"
   },
   {
    "duration": 431,
    "start_time": "2021-09-02T10:32:32.280Z"
   },
   {
    "duration": 8,
    "start_time": "2021-09-02T10:32:46.442Z"
   },
   {
    "duration": 719,
    "start_time": "2021-09-02T10:33:02.547Z"
   },
   {
    "duration": 48,
    "start_time": "2021-09-02T10:33:03.268Z"
   },
   {
    "duration": 17,
    "start_time": "2021-09-02T10:33:03.319Z"
   },
   {
    "duration": 53,
    "start_time": "2021-09-02T10:33:03.338Z"
   },
   {
    "duration": 12,
    "start_time": "2021-09-02T10:33:03.393Z"
   },
   {
    "duration": 44,
    "start_time": "2021-09-02T10:33:03.407Z"
   },
   {
    "duration": 16,
    "start_time": "2021-09-02T10:33:03.452Z"
   },
   {
    "duration": 702,
    "start_time": "2021-09-02T10:33:03.471Z"
   },
   {
    "duration": 56,
    "start_time": "2021-09-02T10:33:04.175Z"
   },
   {
    "duration": 9,
    "start_time": "2021-09-02T10:33:04.232Z"
   },
   {
    "duration": 9,
    "start_time": "2021-09-02T10:33:04.243Z"
   },
   {
    "duration": 26,
    "start_time": "2021-09-02T10:33:04.254Z"
   },
   {
    "duration": 32,
    "start_time": "2021-09-02T10:33:04.282Z"
   },
   {
    "duration": 13,
    "start_time": "2021-09-02T10:33:04.315Z"
   },
   {
    "duration": 8,
    "start_time": "2021-09-02T10:33:04.329Z"
   },
   {
    "duration": 364,
    "start_time": "2021-09-02T10:33:04.339Z"
   },
   {
    "duration": 6,
    "start_time": "2021-09-02T10:33:04.706Z"
   },
   {
    "duration": 22,
    "start_time": "2021-09-02T10:33:04.714Z"
   },
   {
    "duration": 45,
    "start_time": "2021-09-02T10:33:04.738Z"
   },
   {
    "duration": 23,
    "start_time": "2021-09-02T10:33:04.785Z"
   },
   {
    "duration": 41,
    "start_time": "2021-09-02T10:33:04.809Z"
   },
   {
    "duration": 297,
    "start_time": "2021-09-02T10:33:04.852Z"
   },
   {
    "duration": 405,
    "start_time": "2021-09-02T10:33:05.153Z"
   },
   {
    "duration": 4,
    "start_time": "2021-09-02T10:33:05.560Z"
   },
   {
    "duration": 42,
    "start_time": "2021-09-02T10:33:05.565Z"
   },
   {
    "duration": 30,
    "start_time": "2021-09-02T10:33:05.609Z"
   },
   {
    "duration": 394,
    "start_time": "2021-09-02T10:33:05.641Z"
   },
   {
    "duration": 7,
    "start_time": "2021-09-02T10:33:06.037Z"
   },
   {
    "duration": 26,
    "start_time": "2021-09-02T10:33:06.046Z"
   },
   {
    "duration": 955,
    "start_time": "2021-09-02T10:33:06.074Z"
   },
   {
    "duration": -10154,
    "start_time": "2021-09-02T10:33:17.185Z"
   },
   {
    "duration": -10157,
    "start_time": "2021-09-02T10:33:17.189Z"
   },
   {
    "duration": -10159,
    "start_time": "2021-09-02T10:33:17.192Z"
   },
   {
    "duration": -10160,
    "start_time": "2021-09-02T10:33:17.195Z"
   },
   {
    "duration": -10162,
    "start_time": "2021-09-02T10:33:17.197Z"
   },
   {
    "duration": -10165,
    "start_time": "2021-09-02T10:33:17.201Z"
   },
   {
    "duration": -10166,
    "start_time": "2021-09-02T10:33:17.203Z"
   },
   {
    "duration": -10168,
    "start_time": "2021-09-02T10:33:17.206Z"
   },
   {
    "duration": -10169,
    "start_time": "2021-09-02T10:33:17.208Z"
   },
   {
    "duration": -10172,
    "start_time": "2021-09-02T10:33:17.212Z"
   },
   {
    "duration": -10173,
    "start_time": "2021-09-02T10:33:17.214Z"
   },
   {
    "duration": -10223,
    "start_time": "2021-09-02T10:33:17.265Z"
   },
   {
    "duration": -10225,
    "start_time": "2021-09-02T10:33:17.268Z"
   },
   {
    "duration": -10227,
    "start_time": "2021-09-02T10:33:17.271Z"
   },
   {
    "duration": -10230,
    "start_time": "2021-09-02T10:33:17.274Z"
   },
   {
    "duration": -10232,
    "start_time": "2021-09-02T10:33:17.277Z"
   },
   {
    "duration": -10233,
    "start_time": "2021-09-02T10:33:17.279Z"
   },
   {
    "duration": -10235,
    "start_time": "2021-09-02T10:33:17.282Z"
   },
   {
    "duration": -10237,
    "start_time": "2021-09-02T10:33:17.285Z"
   },
   {
    "duration": -10239,
    "start_time": "2021-09-02T10:33:17.288Z"
   },
   {
    "duration": -10243,
    "start_time": "2021-09-02T10:33:17.292Z"
   },
   {
    "duration": -10246,
    "start_time": "2021-09-02T10:33:17.296Z"
   },
   {
    "duration": -10248,
    "start_time": "2021-09-02T10:33:17.299Z"
   },
   {
    "duration": 47,
    "start_time": "2021-09-02T10:39:01.607Z"
   },
   {
    "duration": 242,
    "start_time": "2021-09-02T10:40:54.736Z"
   },
   {
    "duration": 46,
    "start_time": "2021-09-02T10:41:09.399Z"
   },
   {
    "duration": 40,
    "start_time": "2021-09-02T10:41:17.086Z"
   },
   {
    "duration": 3458,
    "start_time": "2021-09-02T10:41:45.374Z"
   },
   {
    "duration": 272,
    "start_time": "2021-09-02T10:42:00.342Z"
   },
   {
    "duration": 301,
    "start_time": "2021-09-02T10:42:14.407Z"
   },
   {
    "duration": 40,
    "start_time": "2021-09-02T10:42:25.750Z"
   },
   {
    "duration": 46,
    "start_time": "2021-09-02T10:42:30.374Z"
   },
   {
    "duration": 51,
    "start_time": "2021-09-02T10:42:43.445Z"
   },
   {
    "duration": 47,
    "start_time": "2021-09-02T10:43:06.079Z"
   },
   {
    "duration": 887,
    "start_time": "2021-09-02T10:43:29.057Z"
   },
   {
    "duration": 47,
    "start_time": "2021-09-02T10:43:29.946Z"
   },
   {
    "duration": 14,
    "start_time": "2021-09-02T10:43:29.995Z"
   },
   {
    "duration": 35,
    "start_time": "2021-09-02T10:43:30.012Z"
   },
   {
    "duration": 13,
    "start_time": "2021-09-02T10:43:30.050Z"
   },
   {
    "duration": 43,
    "start_time": "2021-09-02T10:43:30.065Z"
   },
   {
    "duration": 2,
    "start_time": "2021-09-02T10:43:30.110Z"
   },
   {
    "duration": 542,
    "start_time": "2021-09-02T10:43:30.114Z"
   },
   {
    "duration": 59,
    "start_time": "2021-09-02T10:43:30.658Z"
   },
   {
    "duration": 8,
    "start_time": "2021-09-02T10:43:30.719Z"
   },
   {
    "duration": 21,
    "start_time": "2021-09-02T10:43:30.729Z"
   },
   {
    "duration": 12,
    "start_time": "2021-09-02T10:43:30.752Z"
   },
   {
    "duration": 28,
    "start_time": "2021-09-02T10:43:30.765Z"
   },
   {
    "duration": 12,
    "start_time": "2021-09-02T10:43:30.795Z"
   },
   {
    "duration": 15,
    "start_time": "2021-09-02T10:43:30.809Z"
   },
   {
    "duration": 69,
    "start_time": "2021-09-02T10:43:30.826Z"
   },
   {
    "duration": 371,
    "start_time": "2021-09-02T10:43:30.897Z"
   },
   {
    "duration": 7,
    "start_time": "2021-09-02T10:43:31.269Z"
   },
   {
    "duration": 11,
    "start_time": "2021-09-02T10:43:31.291Z"
   },
   {
    "duration": 12,
    "start_time": "2021-09-02T10:43:31.304Z"
   },
   {
    "duration": 7,
    "start_time": "2021-09-02T10:43:31.318Z"
   },
   {
    "duration": 29,
    "start_time": "2021-09-02T10:43:31.327Z"
   },
   {
    "duration": 277,
    "start_time": "2021-09-02T10:43:31.358Z"
   },
   {
    "duration": 398,
    "start_time": "2021-09-02T10:43:31.637Z"
   },
   {
    "duration": 3,
    "start_time": "2021-09-02T10:43:32.036Z"
   },
   {
    "duration": 18,
    "start_time": "2021-09-02T10:43:32.041Z"
   },
   {
    "duration": 6,
    "start_time": "2021-09-02T10:43:32.063Z"
   },
   {
    "duration": 396,
    "start_time": "2021-09-02T10:43:32.071Z"
   },
   {
    "duration": 6,
    "start_time": "2021-09-02T10:43:32.469Z"
   },
   {
    "duration": 20,
    "start_time": "2021-09-02T10:43:32.477Z"
   },
   {
    "duration": 912,
    "start_time": "2021-09-02T10:43:32.499Z"
   },
   {
    "duration": -10184,
    "start_time": "2021-09-02T10:43:43.596Z"
   },
   {
    "duration": -10187,
    "start_time": "2021-09-02T10:43:43.600Z"
   },
   {
    "duration": -10190,
    "start_time": "2021-09-02T10:43:43.604Z"
   },
   {
    "duration": -10191,
    "start_time": "2021-09-02T10:43:43.606Z"
   },
   {
    "duration": -10194,
    "start_time": "2021-09-02T10:43:43.610Z"
   },
   {
    "duration": -10196,
    "start_time": "2021-09-02T10:43:43.613Z"
   },
   {
    "duration": -10199,
    "start_time": "2021-09-02T10:43:43.617Z"
   },
   {
    "duration": -10220,
    "start_time": "2021-09-02T10:43:43.639Z"
   },
   {
    "duration": -10222,
    "start_time": "2021-09-02T10:43:43.642Z"
   },
   {
    "duration": -10223,
    "start_time": "2021-09-02T10:43:43.644Z"
   },
   {
    "duration": -10224,
    "start_time": "2021-09-02T10:43:43.647Z"
   },
   {
    "duration": -10257,
    "start_time": "2021-09-02T10:43:43.681Z"
   },
   {
    "duration": -10266,
    "start_time": "2021-09-02T10:43:43.690Z"
   },
   {
    "duration": -10267,
    "start_time": "2021-09-02T10:43:43.692Z"
   },
   {
    "duration": -10269,
    "start_time": "2021-09-02T10:43:43.695Z"
   },
   {
    "duration": -10270,
    "start_time": "2021-09-02T10:43:43.697Z"
   },
   {
    "duration": -10272,
    "start_time": "2021-09-02T10:43:43.700Z"
   },
   {
    "duration": -10273,
    "start_time": "2021-09-02T10:43:43.703Z"
   },
   {
    "duration": -10275,
    "start_time": "2021-09-02T10:43:43.706Z"
   },
   {
    "duration": -10276,
    "start_time": "2021-09-02T10:43:43.708Z"
   },
   {
    "duration": -10278,
    "start_time": "2021-09-02T10:43:43.711Z"
   },
   {
    "duration": -10279,
    "start_time": "2021-09-02T10:43:43.713Z"
   },
   {
    "duration": -10281,
    "start_time": "2021-09-02T10:43:43.716Z"
   },
   {
    "duration": 739,
    "start_time": "2021-09-02T10:44:28.586Z"
   },
   {
    "duration": 45,
    "start_time": "2021-09-02T10:44:29.326Z"
   },
   {
    "duration": 16,
    "start_time": "2021-09-02T10:44:29.373Z"
   },
   {
    "duration": 27,
    "start_time": "2021-09-02T10:44:29.391Z"
   },
   {
    "duration": 11,
    "start_time": "2021-09-02T10:44:29.420Z"
   },
   {
    "duration": 20,
    "start_time": "2021-09-02T10:44:29.432Z"
   },
   {
    "duration": 2,
    "start_time": "2021-09-02T10:44:29.453Z"
   },
   {
    "duration": 581,
    "start_time": "2021-09-02T10:44:29.458Z"
   },
   {
    "duration": 50,
    "start_time": "2021-09-02T10:44:30.042Z"
   },
   {
    "duration": 8,
    "start_time": "2021-09-02T10:44:30.094Z"
   },
   {
    "duration": 13,
    "start_time": "2021-09-02T10:44:30.104Z"
   },
   {
    "duration": 10,
    "start_time": "2021-09-02T10:44:30.118Z"
   },
   {
    "duration": 36,
    "start_time": "2021-09-02T10:44:30.130Z"
   },
   {
    "duration": 10,
    "start_time": "2021-09-02T10:44:30.168Z"
   },
   {
    "duration": 12,
    "start_time": "2021-09-02T10:44:30.180Z"
   },
   {
    "duration": 52,
    "start_time": "2021-09-02T10:44:30.194Z"
   },
   {
    "duration": 356,
    "start_time": "2021-09-02T10:44:30.248Z"
   },
   {
    "duration": 7,
    "start_time": "2021-09-02T10:44:30.606Z"
   },
   {
    "duration": 16,
    "start_time": "2021-09-02T10:44:30.615Z"
   },
   {
    "duration": 8,
    "start_time": "2021-09-02T10:44:30.633Z"
   },
   {
    "duration": 16,
    "start_time": "2021-09-02T10:44:30.643Z"
   },
   {
    "duration": 38,
    "start_time": "2021-09-02T10:44:30.661Z"
   },
   {
    "duration": 262,
    "start_time": "2021-09-02T10:44:30.703Z"
   },
   {
    "duration": 379,
    "start_time": "2021-09-02T10:44:30.967Z"
   },
   {
    "duration": 3,
    "start_time": "2021-09-02T10:44:31.348Z"
   },
   {
    "duration": 18,
    "start_time": "2021-09-02T10:44:31.353Z"
   },
   {
    "duration": 9,
    "start_time": "2021-09-02T10:44:31.372Z"
   },
   {
    "duration": 362,
    "start_time": "2021-09-02T10:44:31.383Z"
   },
   {
    "duration": 5,
    "start_time": "2021-09-02T10:44:31.747Z"
   },
   {
    "duration": 26,
    "start_time": "2021-09-02T10:44:31.753Z"
   },
   {
    "duration": 901,
    "start_time": "2021-09-02T10:44:31.781Z"
   },
   {
    "duration": -10077,
    "start_time": "2021-09-02T10:44:42.761Z"
   },
   {
    "duration": -10084,
    "start_time": "2021-09-02T10:44:42.770Z"
   },
   {
    "duration": -10087,
    "start_time": "2021-09-02T10:44:42.774Z"
   },
   {
    "duration": -10103,
    "start_time": "2021-09-02T10:44:42.791Z"
   },
   {
    "duration": -10104,
    "start_time": "2021-09-02T10:44:42.794Z"
   },
   {
    "duration": -10160,
    "start_time": "2021-09-02T10:44:42.851Z"
   },
   {
    "duration": -10161,
    "start_time": "2021-09-02T10:44:42.854Z"
   },
   {
    "duration": -10163,
    "start_time": "2021-09-02T10:44:42.857Z"
   },
   {
    "duration": -10164,
    "start_time": "2021-09-02T10:44:42.860Z"
   },
   {
    "duration": -10166,
    "start_time": "2021-09-02T10:44:42.863Z"
   },
   {
    "duration": -10168,
    "start_time": "2021-09-02T10:44:42.866Z"
   },
   {
    "duration": -10168,
    "start_time": "2021-09-02T10:44:42.868Z"
   },
   {
    "duration": -10170,
    "start_time": "2021-09-02T10:44:42.871Z"
   },
   {
    "duration": -10172,
    "start_time": "2021-09-02T10:44:42.874Z"
   },
   {
    "duration": -10173,
    "start_time": "2021-09-02T10:44:42.876Z"
   },
   {
    "duration": -10176,
    "start_time": "2021-09-02T10:44:42.880Z"
   },
   {
    "duration": -10177,
    "start_time": "2021-09-02T10:44:42.882Z"
   },
   {
    "duration": -10179,
    "start_time": "2021-09-02T10:44:42.885Z"
   },
   {
    "duration": -10183,
    "start_time": "2021-09-02T10:44:42.890Z"
   },
   {
    "duration": -10185,
    "start_time": "2021-09-02T10:44:42.893Z"
   },
   {
    "duration": -10188,
    "start_time": "2021-09-02T10:44:42.897Z"
   },
   {
    "duration": -10191,
    "start_time": "2021-09-02T10:44:42.901Z"
   },
   {
    "duration": -10202,
    "start_time": "2021-09-02T10:44:42.913Z"
   },
   {
    "duration": 45,
    "start_time": "2021-09-02T10:45:11.823Z"
   },
   {
    "duration": 47,
    "start_time": "2021-09-02T10:45:17.487Z"
   },
   {
    "duration": 801,
    "start_time": "2021-09-02T10:45:48.987Z"
   },
   {
    "duration": 46,
    "start_time": "2021-09-02T10:45:49.790Z"
   },
   {
    "duration": 16,
    "start_time": "2021-09-02T10:45:49.838Z"
   },
   {
    "duration": 37,
    "start_time": "2021-09-02T10:45:49.856Z"
   },
   {
    "duration": 11,
    "start_time": "2021-09-02T10:45:49.894Z"
   },
   {
    "duration": 24,
    "start_time": "2021-09-02T10:45:49.907Z"
   },
   {
    "duration": 2,
    "start_time": "2021-09-02T10:45:49.932Z"
   },
   {
    "duration": 583,
    "start_time": "2021-09-02T10:45:49.936Z"
   },
   {
    "duration": 46,
    "start_time": "2021-09-02T10:45:50.521Z"
   },
   {
    "duration": 23,
    "start_time": "2021-09-02T10:45:50.568Z"
   },
   {
    "duration": 7,
    "start_time": "2021-09-02T10:45:50.593Z"
   },
   {
    "duration": 30,
    "start_time": "2021-09-02T10:45:50.601Z"
   },
   {
    "duration": 18,
    "start_time": "2021-09-02T10:45:50.633Z"
   },
   {
    "duration": 18,
    "start_time": "2021-09-02T10:45:50.653Z"
   },
   {
    "duration": 21,
    "start_time": "2021-09-02T10:45:50.674Z"
   },
   {
    "duration": 48,
    "start_time": "2021-09-02T10:45:50.697Z"
   },
   {
    "duration": 13,
    "start_time": "2021-09-02T10:45:50.747Z"
   },
   {
    "duration": 371,
    "start_time": "2021-09-02T10:45:50.762Z"
   },
   {
    "duration": 7,
    "start_time": "2021-09-02T10:45:51.135Z"
   },
   {
    "duration": 30,
    "start_time": "2021-09-02T10:45:51.144Z"
   },
   {
    "duration": 33,
    "start_time": "2021-09-02T10:45:51.176Z"
   },
   {
    "duration": 47,
    "start_time": "2021-09-02T10:45:51.210Z"
   },
   {
    "duration": 48,
    "start_time": "2021-09-02T10:45:51.260Z"
   },
   {
    "duration": 299,
    "start_time": "2021-09-02T10:45:51.310Z"
   },
   {
    "duration": 405,
    "start_time": "2021-09-02T10:45:51.610Z"
   },
   {
    "duration": 4,
    "start_time": "2021-09-02T10:45:52.016Z"
   },
   {
    "duration": 38,
    "start_time": "2021-09-02T10:45:52.021Z"
   },
   {
    "duration": 40,
    "start_time": "2021-09-02T10:45:52.060Z"
   },
   {
    "duration": 384,
    "start_time": "2021-09-02T10:45:52.102Z"
   },
   {
    "duration": 9,
    "start_time": "2021-09-02T10:45:52.493Z"
   },
   {
    "duration": 10,
    "start_time": "2021-09-02T10:45:52.506Z"
   },
   {
    "duration": 1187,
    "start_time": "2021-09-02T10:45:52.517Z"
   },
   {
    "duration": -10173,
    "start_time": "2021-09-02T10:46:03.879Z"
   },
   {
    "duration": -10175,
    "start_time": "2021-09-02T10:46:03.883Z"
   },
   {
    "duration": -10176,
    "start_time": "2021-09-02T10:46:03.885Z"
   },
   {
    "duration": -10178,
    "start_time": "2021-09-02T10:46:03.888Z"
   },
   {
    "duration": -10180,
    "start_time": "2021-09-02T10:46:03.891Z"
   },
   {
    "duration": -10182,
    "start_time": "2021-09-02T10:46:03.894Z"
   },
   {
    "duration": -10182,
    "start_time": "2021-09-02T10:46:03.896Z"
   },
   {
    "duration": -10184,
    "start_time": "2021-09-02T10:46:03.899Z"
   },
   {
    "duration": -10187,
    "start_time": "2021-09-02T10:46:03.903Z"
   },
   {
    "duration": -10190,
    "start_time": "2021-09-02T10:46:03.907Z"
   },
   {
    "duration": -10192,
    "start_time": "2021-09-02T10:46:03.910Z"
   },
   {
    "duration": -10194,
    "start_time": "2021-09-02T10:46:03.913Z"
   },
   {
    "duration": -10196,
    "start_time": "2021-09-02T10:46:03.916Z"
   },
   {
    "duration": -10197,
    "start_time": "2021-09-02T10:46:03.919Z"
   },
   {
    "duration": -10199,
    "start_time": "2021-09-02T10:46:03.922Z"
   },
   {
    "duration": -10202,
    "start_time": "2021-09-02T10:46:03.926Z"
   },
   {
    "duration": -10203,
    "start_time": "2021-09-02T10:46:03.928Z"
   },
   {
    "duration": -10205,
    "start_time": "2021-09-02T10:46:03.931Z"
   },
   {
    "duration": -10206,
    "start_time": "2021-09-02T10:46:03.933Z"
   },
   {
    "duration": -10207,
    "start_time": "2021-09-02T10:46:03.936Z"
   },
   {
    "duration": -10218,
    "start_time": "2021-09-02T10:46:03.948Z"
   },
   {
    "duration": -10221,
    "start_time": "2021-09-02T10:46:03.952Z"
   },
   {
    "duration": -10231,
    "start_time": "2021-09-02T10:46:03.963Z"
   },
   {
    "duration": 18,
    "start_time": "2021-09-02T10:46:05.416Z"
   },
   {
    "duration": 1075,
    "start_time": "2021-09-02T10:52:04.460Z"
   },
   {
    "duration": 22,
    "start_time": "2021-09-02T10:52:18.334Z"
   },
   {
    "duration": 7,
    "start_time": "2021-09-02T10:52:28.172Z"
   },
   {
    "duration": 24,
    "start_time": "2021-09-02T10:52:53.956Z"
   },
   {
    "duration": 8,
    "start_time": "2021-09-02T10:52:56.596Z"
   },
   {
    "duration": 758,
    "start_time": "2021-09-02T11:02:51.072Z"
   },
   {
    "duration": 80,
    "start_time": "2021-09-02T11:03:18.120Z"
   },
   {
    "duration": 841,
    "start_time": "2021-09-02T11:04:17.779Z"
   },
   {
    "duration": 45,
    "start_time": "2021-09-02T11:04:18.622Z"
   },
   {
    "duration": 12,
    "start_time": "2021-09-02T11:04:18.669Z"
   },
   {
    "duration": 29,
    "start_time": "2021-09-02T11:04:18.683Z"
   },
   {
    "duration": 10,
    "start_time": "2021-09-02T11:04:18.713Z"
   },
   {
    "duration": 19,
    "start_time": "2021-09-02T11:04:18.725Z"
   },
   {
    "duration": 3,
    "start_time": "2021-09-02T11:04:18.746Z"
   },
   {
    "duration": 584,
    "start_time": "2021-09-02T11:04:18.751Z"
   },
   {
    "duration": 45,
    "start_time": "2021-09-02T11:04:19.338Z"
   },
   {
    "duration": 8,
    "start_time": "2021-09-02T11:04:19.392Z"
   },
   {
    "duration": 11,
    "start_time": "2021-09-02T11:04:19.401Z"
   },
   {
    "duration": 9,
    "start_time": "2021-09-02T11:04:19.413Z"
   },
   {
    "duration": 21,
    "start_time": "2021-09-02T11:04:19.424Z"
   },
   {
    "duration": 11,
    "start_time": "2021-09-02T11:04:19.446Z"
   },
   {
    "duration": 7,
    "start_time": "2021-09-02T11:04:19.458Z"
   },
   {
    "duration": 46,
    "start_time": "2021-09-02T11:04:19.467Z"
   },
   {
    "duration": 7,
    "start_time": "2021-09-02T11:04:19.514Z"
   },
   {
    "duration": 10,
    "start_time": "2021-09-02T11:04:19.522Z"
   },
   {
    "duration": 9,
    "start_time": "2021-09-02T11:04:19.534Z"
   },
   {
    "duration": 14,
    "start_time": "2021-09-02T11:04:19.544Z"
   },
   {
    "duration": 12,
    "start_time": "2021-09-02T11:04:19.560Z"
   },
   {
    "duration": 17,
    "start_time": "2021-09-02T11:04:19.574Z"
   },
   {
    "duration": 18,
    "start_time": "2021-09-02T11:04:19.593Z"
   },
   {
    "duration": 259,
    "start_time": "2021-09-02T11:04:19.613Z"
   },
   {
    "duration": 370,
    "start_time": "2021-09-02T11:04:19.873Z"
   },
   {
    "duration": 3,
    "start_time": "2021-09-02T11:04:20.245Z"
   },
   {
    "duration": 13,
    "start_time": "2021-09-02T11:04:20.251Z"
   },
   {
    "duration": 6,
    "start_time": "2021-09-02T11:04:20.266Z"
   },
   {
    "duration": 373,
    "start_time": "2021-09-02T11:04:20.274Z"
   },
   {
    "duration": 6,
    "start_time": "2021-09-02T11:04:20.648Z"
   },
   {
    "duration": 15,
    "start_time": "2021-09-02T11:04:20.656Z"
   },
   {
    "duration": 1370,
    "start_time": "2021-09-02T11:04:20.672Z"
   },
   {
    "duration": -10219,
    "start_time": "2021-09-02T11:04:32.262Z"
   },
   {
    "duration": -10221,
    "start_time": "2021-09-02T11:04:32.265Z"
   },
   {
    "duration": -10223,
    "start_time": "2021-09-02T11:04:32.268Z"
   },
   {
    "duration": -10224,
    "start_time": "2021-09-02T11:04:32.270Z"
   },
   {
    "duration": -10226,
    "start_time": "2021-09-02T11:04:32.273Z"
   },
   {
    "duration": -10227,
    "start_time": "2021-09-02T11:04:32.275Z"
   },
   {
    "duration": -10229,
    "start_time": "2021-09-02T11:04:32.278Z"
   },
   {
    "duration": -10230,
    "start_time": "2021-09-02T11:04:32.280Z"
   },
   {
    "duration": -10232,
    "start_time": "2021-09-02T11:04:32.283Z"
   },
   {
    "duration": -10234,
    "start_time": "2021-09-02T11:04:32.286Z"
   },
   {
    "duration": -10235,
    "start_time": "2021-09-02T11:04:32.288Z"
   },
   {
    "duration": -10237,
    "start_time": "2021-09-02T11:04:32.291Z"
   },
   {
    "duration": -10239,
    "start_time": "2021-09-02T11:04:32.294Z"
   },
   {
    "duration": -10241,
    "start_time": "2021-09-02T11:04:32.297Z"
   },
   {
    "duration": -10311,
    "start_time": "2021-09-02T11:04:32.367Z"
   },
   {
    "duration": -10324,
    "start_time": "2021-09-02T11:04:32.381Z"
   },
   {
    "duration": -10326,
    "start_time": "2021-09-02T11:04:32.384Z"
   },
   {
    "duration": -10329,
    "start_time": "2021-09-02T11:04:32.388Z"
   },
   {
    "duration": -10330,
    "start_time": "2021-09-02T11:04:32.390Z"
   },
   {
    "duration": -10332,
    "start_time": "2021-09-02T11:04:32.393Z"
   },
   {
    "duration": -10334,
    "start_time": "2021-09-02T11:04:32.396Z"
   },
   {
    "duration": -10336,
    "start_time": "2021-09-02T11:04:32.398Z"
   },
   {
    "duration": -10338,
    "start_time": "2021-09-02T11:04:32.401Z"
   },
   {
    "duration": 17,
    "start_time": "2021-09-02T11:04:46.760Z"
   },
   {
    "duration": 10,
    "start_time": "2021-09-02T11:04:59.886Z"
   },
   {
    "duration": 6,
    "start_time": "2021-09-02T11:05:20.046Z"
   },
   {
    "duration": 7,
    "start_time": "2021-09-02T11:05:34.463Z"
   },
   {
    "duration": 605,
    "start_time": "2021-09-02T11:07:36.853Z"
   },
   {
    "duration": 9,
    "start_time": "2021-09-02T11:07:44.564Z"
   },
   {
    "duration": 903,
    "start_time": "2021-09-02T11:08:50.936Z"
   },
   {
    "duration": 7,
    "start_time": "2021-09-02T11:09:19.180Z"
   },
   {
    "duration": 1118,
    "start_time": "2021-09-02T11:10:35.531Z"
   },
   {
    "duration": 7,
    "start_time": "2021-09-02T11:10:57.814Z"
   },
   {
    "duration": 22989,
    "start_time": "2021-09-02T11:11:42.747Z"
   },
   {
    "duration": 82,
    "start_time": "2021-09-02T11:12:56.619Z"
   },
   {
    "duration": 3,
    "start_time": "2021-09-02T11:13:10.132Z"
   },
   {
    "duration": 5,
    "start_time": "2021-09-02T11:13:13.451Z"
   },
   {
    "duration": 23,
    "start_time": "2021-09-02T11:16:26.449Z"
   },
   {
    "duration": 13,
    "start_time": "2021-09-02T11:17:14.241Z"
   },
   {
    "duration": 26,
    "start_time": "2021-09-02T11:17:23.128Z"
   },
   {
    "duration": 11,
    "start_time": "2021-09-02T11:17:26.672Z"
   },
   {
    "duration": 32,
    "start_time": "2021-09-02T11:17:33.536Z"
   },
   {
    "duration": 1249,
    "start_time": "2021-09-02T11:19:19.808Z"
   },
   {
    "duration": 25,
    "start_time": "2021-09-02T11:19:25.570Z"
   },
   {
    "duration": 31,
    "start_time": "2021-09-02T11:21:26.062Z"
   },
   {
    "duration": 80,
    "start_time": "2021-09-02T11:23:05.816Z"
   },
   {
    "duration": 42,
    "start_time": "2021-09-02T11:23:59.606Z"
   },
   {
    "duration": 764,
    "start_time": "2021-09-02T11:24:13.085Z"
   },
   {
    "duration": 851,
    "start_time": "2021-09-02T11:24:20.094Z"
   },
   {
    "duration": 852,
    "start_time": "2021-09-02T11:24:32.342Z"
   },
   {
    "duration": 35,
    "start_time": "2021-09-02T11:24:44.957Z"
   },
   {
    "duration": 1824,
    "start_time": "2021-09-02T11:25:08.221Z"
   },
   {
    "duration": 39,
    "start_time": "2021-09-02T11:25:15.598Z"
   },
   {
    "duration": 24,
    "start_time": "2021-09-02T11:25:25.429Z"
   },
   {
    "duration": 822,
    "start_time": "2021-09-02T11:26:21.183Z"
   },
   {
    "duration": 45,
    "start_time": "2021-09-02T11:26:22.007Z"
   },
   {
    "duration": 15,
    "start_time": "2021-09-02T11:26:22.054Z"
   },
   {
    "duration": 29,
    "start_time": "2021-09-02T11:26:22.071Z"
   },
   {
    "duration": 12,
    "start_time": "2021-09-02T11:26:22.102Z"
   },
   {
    "duration": 20,
    "start_time": "2021-09-02T11:26:22.115Z"
   },
   {
    "duration": 2,
    "start_time": "2021-09-02T11:26:22.137Z"
   },
   {
    "duration": 580,
    "start_time": "2021-09-02T11:26:22.142Z"
   },
   {
    "duration": 45,
    "start_time": "2021-09-02T11:26:22.724Z"
   },
   {
    "duration": 21,
    "start_time": "2021-09-02T11:26:22.771Z"
   },
   {
    "duration": 7,
    "start_time": "2021-09-02T11:26:22.794Z"
   },
   {
    "duration": 14,
    "start_time": "2021-09-02T11:26:22.803Z"
   },
   {
    "duration": 15,
    "start_time": "2021-09-02T11:26:22.819Z"
   },
   {
    "duration": 19,
    "start_time": "2021-09-02T11:26:22.836Z"
   },
   {
    "duration": 11,
    "start_time": "2021-09-02T11:26:22.857Z"
   },
   {
    "duration": 25,
    "start_time": "2021-09-02T11:26:22.870Z"
   },
   {
    "duration": 6,
    "start_time": "2021-09-02T11:26:22.896Z"
   },
   {
    "duration": 33,
    "start_time": "2021-09-02T11:26:22.903Z"
   },
   {
    "duration": 24,
    "start_time": "2021-09-02T11:26:22.938Z"
   },
   {
    "duration": 43,
    "start_time": "2021-09-02T11:26:22.964Z"
   },
   {
    "duration": 2,
    "start_time": "2021-09-02T11:26:23.008Z"
   },
   {
    "duration": 16,
    "start_time": "2021-09-02T11:26:23.012Z"
   },
   {
    "duration": 15,
    "start_time": "2021-09-02T11:26:23.033Z"
   },
   {
    "duration": 21,
    "start_time": "2021-09-02T11:26:23.050Z"
   },
   {
    "duration": 8,
    "start_time": "2021-09-02T11:26:23.072Z"
   },
   {
    "duration": 34,
    "start_time": "2021-09-02T11:26:23.082Z"
   },
   {
    "duration": 252,
    "start_time": "2021-09-02T11:26:23.118Z"
   },
   {
    "duration": 366,
    "start_time": "2021-09-02T11:26:23.371Z"
   },
   {
    "duration": 3,
    "start_time": "2021-09-02T11:26:23.739Z"
   },
   {
    "duration": 23,
    "start_time": "2021-09-02T11:26:23.744Z"
   },
   {
    "duration": 20,
    "start_time": "2021-09-02T11:26:23.769Z"
   },
   {
    "duration": 357,
    "start_time": "2021-09-02T11:26:23.790Z"
   },
   {
    "duration": 8,
    "start_time": "2021-09-02T11:26:24.149Z"
   },
   {
    "duration": 18,
    "start_time": "2021-09-02T11:26:24.158Z"
   },
   {
    "duration": 1044,
    "start_time": "2021-09-02T11:26:24.178Z"
   },
   {
    "duration": -10193,
    "start_time": "2021-09-02T11:26:35.417Z"
   },
   {
    "duration": -10196,
    "start_time": "2021-09-02T11:26:35.420Z"
   },
   {
    "duration": -10197,
    "start_time": "2021-09-02T11:26:35.422Z"
   },
   {
    "duration": -10199,
    "start_time": "2021-09-02T11:26:35.425Z"
   },
   {
    "duration": -10201,
    "start_time": "2021-09-02T11:26:35.428Z"
   },
   {
    "duration": -10203,
    "start_time": "2021-09-02T11:26:35.431Z"
   },
   {
    "duration": -10205,
    "start_time": "2021-09-02T11:26:35.433Z"
   },
   {
    "duration": -10207,
    "start_time": "2021-09-02T11:26:35.436Z"
   },
   {
    "duration": -10209,
    "start_time": "2021-09-02T11:26:35.439Z"
   },
   {
    "duration": -10211,
    "start_time": "2021-09-02T11:26:35.442Z"
   },
   {
    "duration": -10214,
    "start_time": "2021-09-02T11:26:35.445Z"
   },
   {
    "duration": -10216,
    "start_time": "2021-09-02T11:26:35.448Z"
   },
   {
    "duration": -10218,
    "start_time": "2021-09-02T11:26:35.451Z"
   },
   {
    "duration": -10220,
    "start_time": "2021-09-02T11:26:35.454Z"
   },
   {
    "duration": -10222,
    "start_time": "2021-09-02T11:26:35.457Z"
   },
   {
    "duration": -10224,
    "start_time": "2021-09-02T11:26:35.460Z"
   },
   {
    "duration": -10227,
    "start_time": "2021-09-02T11:26:35.463Z"
   },
   {
    "duration": -10229,
    "start_time": "2021-09-02T11:26:35.466Z"
   },
   {
    "duration": -10230,
    "start_time": "2021-09-02T11:26:35.468Z"
   },
   {
    "duration": -10232,
    "start_time": "2021-09-02T11:26:35.471Z"
   },
   {
    "duration": -10234,
    "start_time": "2021-09-02T11:26:35.473Z"
   },
   {
    "duration": -10246,
    "start_time": "2021-09-02T11:26:35.486Z"
   },
   {
    "duration": -10248,
    "start_time": "2021-09-02T11:26:35.489Z"
   },
   {
    "duration": 29,
    "start_time": "2021-09-02T11:27:48.831Z"
   },
   {
    "duration": 10,
    "start_time": "2021-09-02T11:28:42.839Z"
   },
   {
    "duration": 28,
    "start_time": "2021-09-02T11:28:58.631Z"
   },
   {
    "duration": 11,
    "start_time": "2021-09-02T11:29:08.951Z"
   },
   {
    "duration": 10,
    "start_time": "2021-09-02T11:29:37.430Z"
   },
   {
    "duration": 11,
    "start_time": "2021-09-02T11:29:48.847Z"
   },
   {
    "duration": 12,
    "start_time": "2021-09-02T11:30:50.983Z"
   },
   {
    "duration": 98,
    "start_time": "2021-09-02T11:31:03.383Z"
   },
   {
    "duration": 24,
    "start_time": "2021-09-02T11:31:28.975Z"
   },
   {
    "duration": 23,
    "start_time": "2021-09-02T11:32:17.758Z"
   },
   {
    "duration": 349,
    "start_time": "2021-09-02T11:32:45.998Z"
   },
   {
    "duration": 25,
    "start_time": "2021-09-02T11:32:50.844Z"
   },
   {
    "duration": 7,
    "start_time": "2021-09-02T11:45:19.367Z"
   },
   {
    "duration": 1188,
    "start_time": "2021-09-02T11:50:06.737Z"
   },
   {
    "duration": 46,
    "start_time": "2021-09-02T11:50:07.927Z"
   },
   {
    "duration": 17,
    "start_time": "2021-09-02T11:50:07.976Z"
   },
   {
    "duration": 32,
    "start_time": "2021-09-02T11:50:07.994Z"
   },
   {
    "duration": 12,
    "start_time": "2021-09-02T11:50:08.028Z"
   },
   {
    "duration": 39,
    "start_time": "2021-09-02T11:50:08.042Z"
   },
   {
    "duration": 8,
    "start_time": "2021-09-02T11:50:08.083Z"
   },
   {
    "duration": 563,
    "start_time": "2021-09-02T11:50:08.093Z"
   },
   {
    "duration": 54,
    "start_time": "2021-09-02T11:50:08.658Z"
   },
   {
    "duration": 9,
    "start_time": "2021-09-02T11:50:08.714Z"
   },
   {
    "duration": 8,
    "start_time": "2021-09-02T11:50:08.724Z"
   },
   {
    "duration": 12,
    "start_time": "2021-09-02T11:50:08.734Z"
   },
   {
    "duration": 10,
    "start_time": "2021-09-02T11:50:08.747Z"
   },
   {
    "duration": 45,
    "start_time": "2021-09-02T11:50:08.759Z"
   },
   {
    "duration": 14,
    "start_time": "2021-09-02T11:50:08.806Z"
   },
   {
    "duration": 10,
    "start_time": "2021-09-02T11:50:08.822Z"
   },
   {
    "duration": 7,
    "start_time": "2021-09-02T11:50:08.833Z"
   },
   {
    "duration": 64,
    "start_time": "2021-09-02T11:50:08.842Z"
   },
   {
    "duration": 26,
    "start_time": "2021-09-02T11:50:08.908Z"
   },
   {
    "duration": 21,
    "start_time": "2021-09-02T11:50:08.935Z"
   },
   {
    "duration": 49,
    "start_time": "2021-09-02T11:50:08.958Z"
   },
   {
    "duration": 25,
    "start_time": "2021-09-02T11:50:09.008Z"
   },
   {
    "duration": 10,
    "start_time": "2021-09-02T11:50:09.037Z"
   },
   {
    "duration": 10,
    "start_time": "2021-09-02T11:50:09.049Z"
   },
   {
    "duration": 21,
    "start_time": "2021-09-02T11:50:09.061Z"
   },
   {
    "duration": 275,
    "start_time": "2021-09-02T11:50:09.084Z"
   },
   {
    "duration": 482,
    "start_time": "2021-09-02T11:50:09.361Z"
   },
   {
    "duration": 4,
    "start_time": "2021-09-02T11:50:09.845Z"
   },
   {
    "duration": 26,
    "start_time": "2021-09-02T11:50:09.851Z"
   },
   {
    "duration": 13,
    "start_time": "2021-09-02T11:50:09.879Z"
   },
   {
    "duration": 397,
    "start_time": "2021-09-02T11:50:09.894Z"
   },
   {
    "duration": 7,
    "start_time": "2021-09-02T11:50:10.293Z"
   },
   {
    "duration": 14,
    "start_time": "2021-09-02T11:50:10.302Z"
   },
   {
    "duration": 1288,
    "start_time": "2021-09-02T11:50:10.317Z"
   },
   {
    "duration": -10197,
    "start_time": "2021-09-02T11:50:21.803Z"
   },
   {
    "duration": -10201,
    "start_time": "2021-09-02T11:50:21.808Z"
   },
   {
    "duration": -10203,
    "start_time": "2021-09-02T11:50:21.811Z"
   },
   {
    "duration": -10206,
    "start_time": "2021-09-02T11:50:21.815Z"
   },
   {
    "duration": -10208,
    "start_time": "2021-09-02T11:50:21.818Z"
   },
   {
    "duration": -10210,
    "start_time": "2021-09-02T11:50:21.821Z"
   },
   {
    "duration": -10212,
    "start_time": "2021-09-02T11:50:21.824Z"
   },
   {
    "duration": -10216,
    "start_time": "2021-09-02T11:50:21.829Z"
   },
   {
    "duration": -10219,
    "start_time": "2021-09-02T11:50:21.832Z"
   },
   {
    "duration": -10221,
    "start_time": "2021-09-02T11:50:21.835Z"
   },
   {
    "duration": -10223,
    "start_time": "2021-09-02T11:50:21.838Z"
   },
   {
    "duration": -10274,
    "start_time": "2021-09-02T11:50:21.890Z"
   },
   {
    "duration": -10276,
    "start_time": "2021-09-02T11:50:21.893Z"
   },
   {
    "duration": -10278,
    "start_time": "2021-09-02T11:50:21.896Z"
   },
   {
    "duration": -10280,
    "start_time": "2021-09-02T11:50:21.899Z"
   },
   {
    "duration": -10282,
    "start_time": "2021-09-02T11:50:21.902Z"
   },
   {
    "duration": -10284,
    "start_time": "2021-09-02T11:50:21.905Z"
   },
   {
    "duration": -10285,
    "start_time": "2021-09-02T11:50:21.907Z"
   },
   {
    "duration": -10287,
    "start_time": "2021-09-02T11:50:21.910Z"
   },
   {
    "duration": -10290,
    "start_time": "2021-09-02T11:50:21.913Z"
   },
   {
    "duration": -10292,
    "start_time": "2021-09-02T11:50:21.916Z"
   },
   {
    "duration": -10294,
    "start_time": "2021-09-02T11:50:21.919Z"
   },
   {
    "duration": -10295,
    "start_time": "2021-09-02T11:50:21.921Z"
   },
   {
    "duration": 17,
    "start_time": "2021-09-02T12:07:40.631Z"
   },
   {
    "duration": 9,
    "start_time": "2021-09-02T12:07:45.510Z"
   },
   {
    "duration": 899,
    "start_time": "2021-09-02T12:17:56.058Z"
   },
   {
    "duration": 25,
    "start_time": "2021-09-02T12:18:06.797Z"
   },
   {
    "duration": 8,
    "start_time": "2021-09-02T12:18:14.577Z"
   },
   {
    "duration": 26175,
    "start_time": "2021-09-02T12:18:59.955Z"
   },
   {
    "duration": 345,
    "start_time": "2021-09-02T12:19:29.618Z"
   },
   {
    "duration": 1130,
    "start_time": "2021-09-02T12:20:24.555Z"
   },
   {
    "duration": 58,
    "start_time": "2021-09-02T12:20:25.687Z"
   },
   {
    "duration": 17,
    "start_time": "2021-09-02T12:20:25.748Z"
   },
   {
    "duration": 38,
    "start_time": "2021-09-02T12:20:25.767Z"
   },
   {
    "duration": 13,
    "start_time": "2021-09-02T12:20:25.807Z"
   },
   {
    "duration": 20,
    "start_time": "2021-09-02T12:20:25.822Z"
   },
   {
    "duration": 3,
    "start_time": "2021-09-02T12:20:25.844Z"
   },
   {
    "duration": 647,
    "start_time": "2021-09-02T12:20:25.848Z"
   },
   {
    "duration": 47,
    "start_time": "2021-09-02T12:20:26.499Z"
   },
   {
    "duration": 11,
    "start_time": "2021-09-02T12:20:26.549Z"
   },
   {
    "duration": 33,
    "start_time": "2021-09-02T12:20:26.562Z"
   },
   {
    "duration": 11,
    "start_time": "2021-09-02T12:20:26.596Z"
   },
   {
    "duration": 12,
    "start_time": "2021-09-02T12:20:26.609Z"
   },
   {
    "duration": 17,
    "start_time": "2021-09-02T12:20:26.623Z"
   },
   {
    "duration": 14,
    "start_time": "2021-09-02T12:20:26.642Z"
   },
   {
    "duration": 33,
    "start_time": "2021-09-02T12:20:26.658Z"
   },
   {
    "duration": 25,
    "start_time": "2021-09-02T12:20:26.693Z"
   },
   {
    "duration": 8,
    "start_time": "2021-09-02T12:20:26.719Z"
   },
   {
    "duration": 9,
    "start_time": "2021-09-02T12:20:26.729Z"
   },
   {
    "duration": 29,
    "start_time": "2021-09-02T12:20:26.739Z"
   },
   {
    "duration": 27,
    "start_time": "2021-09-02T12:20:26.792Z"
   },
   {
    "duration": 24,
    "start_time": "2021-09-02T12:20:26.821Z"
   },
   {
    "duration": 46,
    "start_time": "2021-09-02T12:20:26.847Z"
   },
   {
    "duration": 2,
    "start_time": "2021-09-02T12:20:26.895Z"
   },
   {
    "duration": 15,
    "start_time": "2021-09-02T12:20:26.899Z"
   },
   {
    "duration": 4,
    "start_time": "2021-09-02T12:20:26.916Z"
   },
   {
    "duration": 20,
    "start_time": "2021-09-02T12:20:26.924Z"
   },
   {
    "duration": 386,
    "start_time": "2021-09-02T12:20:26.946Z"
   },
   {
    "duration": 563,
    "start_time": "2021-09-02T12:20:27.334Z"
   },
   {
    "duration": 4,
    "start_time": "2021-09-02T12:20:27.899Z"
   },
   {
    "duration": 22,
    "start_time": "2021-09-02T12:20:27.905Z"
   },
   {
    "duration": 6,
    "start_time": "2021-09-02T12:20:27.929Z"
   },
   {
    "duration": 554,
    "start_time": "2021-09-02T12:20:27.936Z"
   },
   {
    "duration": 6,
    "start_time": "2021-09-02T12:20:28.492Z"
   },
   {
    "duration": 11,
    "start_time": "2021-09-02T12:20:28.500Z"
   },
   {
    "duration": 3924,
    "start_time": "2021-09-02T12:20:28.512Z"
   },
   {
    "duration": -10236,
    "start_time": "2021-09-02T12:20:42.674Z"
   },
   {
    "duration": -10239,
    "start_time": "2021-09-02T12:20:42.678Z"
   },
   {
    "duration": -10242,
    "start_time": "2021-09-02T12:20:42.681Z"
   },
   {
    "duration": -10244,
    "start_time": "2021-09-02T12:20:42.684Z"
   },
   {
    "duration": -10246,
    "start_time": "2021-09-02T12:20:42.687Z"
   },
   {
    "duration": -10248,
    "start_time": "2021-09-02T12:20:42.690Z"
   },
   {
    "duration": -10250,
    "start_time": "2021-09-02T12:20:42.693Z"
   },
   {
    "duration": -10252,
    "start_time": "2021-09-02T12:20:42.695Z"
   },
   {
    "duration": -10254,
    "start_time": "2021-09-02T12:20:42.698Z"
   },
   {
    "duration": -10256,
    "start_time": "2021-09-02T12:20:42.701Z"
   },
   {
    "duration": -10257,
    "start_time": "2021-09-02T12:20:42.703Z"
   },
   {
    "duration": -10258,
    "start_time": "2021-09-02T12:20:42.706Z"
   },
   {
    "duration": -10261,
    "start_time": "2021-09-02T12:20:42.709Z"
   },
   {
    "duration": -10263,
    "start_time": "2021-09-02T12:20:42.712Z"
   },
   {
    "duration": -10265,
    "start_time": "2021-09-02T12:20:42.715Z"
   },
   {
    "duration": -10266,
    "start_time": "2021-09-02T12:20:42.717Z"
   },
   {
    "duration": -10308,
    "start_time": "2021-09-02T12:20:42.760Z"
   },
   {
    "duration": -10311,
    "start_time": "2021-09-02T12:20:42.764Z"
   },
   {
    "duration": -10313,
    "start_time": "2021-09-02T12:20:42.767Z"
   },
   {
    "duration": -10314,
    "start_time": "2021-09-02T12:20:42.769Z"
   },
   {
    "duration": -10316,
    "start_time": "2021-09-02T12:20:42.772Z"
   },
   {
    "duration": -10318,
    "start_time": "2021-09-02T12:20:42.775Z"
   },
   {
    "duration": -10320,
    "start_time": "2021-09-02T12:20:42.778Z"
   },
   {
    "duration": 3,
    "start_time": "2021-09-02T12:20:54.097Z"
   },
   {
    "duration": 6,
    "start_time": "2021-09-02T12:20:58.554Z"
   },
   {
    "duration": 1148,
    "start_time": "2021-09-02T12:21:22.163Z"
   },
   {
    "duration": 5,
    "start_time": "2021-09-02T12:21:43.938Z"
   },
   {
    "duration": 4,
    "start_time": "2021-09-02T12:22:04.457Z"
   },
   {
    "duration": 10,
    "start_time": "2021-09-02T12:22:56.281Z"
   },
   {
    "duration": 23,
    "start_time": "2021-09-02T12:22:59.588Z"
   },
   {
    "duration": 1007,
    "start_time": "2021-09-02T12:23:36.425Z"
   },
   {
    "duration": 24,
    "start_time": "2021-09-02T12:23:47.208Z"
   },
   {
    "duration": 8901,
    "start_time": "2021-09-02T12:24:07.537Z"
   },
   {
    "duration": 27,
    "start_time": "2021-09-02T12:24:20.464Z"
   },
   {
    "duration": 23,
    "start_time": "2021-09-02T12:24:40.335Z"
   },
   {
    "duration": 7,
    "start_time": "2021-09-02T12:24:41.577Z"
   },
   {
    "duration": 262,
    "start_time": "2021-09-02T12:25:04.081Z"
   },
   {
    "duration": 841,
    "start_time": "2021-09-02T12:25:10.536Z"
   },
   {
    "duration": 6,
    "start_time": "2021-09-02T12:25:38.008Z"
   },
   {
    "duration": 996,
    "start_time": "2021-09-02T12:26:13.271Z"
   },
   {
    "duration": 5,
    "start_time": "2021-09-02T12:26:23.879Z"
   },
   {
    "duration": 8,
    "start_time": "2021-09-02T12:26:34.984Z"
   },
   {
    "duration": 796,
    "start_time": "2021-09-02T12:27:02.912Z"
   },
   {
    "duration": 1227,
    "start_time": "2021-09-02T12:27:19.424Z"
   },
   {
    "duration": 1153,
    "start_time": "2021-09-02T12:27:25.574Z"
   },
   {
    "duration": 8,
    "start_time": "2021-09-02T12:27:46.071Z"
   },
   {
    "duration": 25377,
    "start_time": "2021-09-02T12:28:31.516Z"
   },
   {
    "duration": 783,
    "start_time": "2021-09-02T12:29:29.603Z"
   },
   {
    "duration": 52,
    "start_time": "2021-09-02T12:29:30.388Z"
   },
   {
    "duration": 16,
    "start_time": "2021-09-02T12:29:30.443Z"
   },
   {
    "duration": 38,
    "start_time": "2021-09-02T12:29:30.461Z"
   },
   {
    "duration": 12,
    "start_time": "2021-09-02T12:29:30.502Z"
   },
   {
    "duration": 31,
    "start_time": "2021-09-02T12:29:30.515Z"
   },
   {
    "duration": 10,
    "start_time": "2021-09-02T12:29:30.548Z"
   },
   {
    "duration": 602,
    "start_time": "2021-09-02T12:29:30.560Z"
   },
   {
    "duration": 57,
    "start_time": "2021-09-02T12:29:31.164Z"
   },
   {
    "duration": 8,
    "start_time": "2021-09-02T12:29:31.222Z"
   },
   {
    "duration": 16,
    "start_time": "2021-09-02T12:29:31.232Z"
   },
   {
    "duration": 29,
    "start_time": "2021-09-02T12:29:31.249Z"
   },
   {
    "duration": 28,
    "start_time": "2021-09-02T12:29:31.280Z"
   },
   {
    "duration": 36,
    "start_time": "2021-09-02T12:29:31.309Z"
   },
   {
    "duration": 23,
    "start_time": "2021-09-02T12:29:31.347Z"
   },
   {
    "duration": 19,
    "start_time": "2021-09-02T12:29:31.372Z"
   },
   {
    "duration": 34,
    "start_time": "2021-09-02T12:29:31.394Z"
   },
   {
    "duration": 944,
    "start_time": "2021-09-02T12:29:31.430Z"
   },
   {
    "duration": -10251,
    "start_time": "2021-09-02T12:29:42.629Z"
   },
   {
    "duration": -10253,
    "start_time": "2021-09-02T12:29:42.632Z"
   },
   {
    "duration": -10255,
    "start_time": "2021-09-02T12:29:42.635Z"
   },
   {
    "duration": -10257,
    "start_time": "2021-09-02T12:29:42.638Z"
   },
   {
    "duration": -10259,
    "start_time": "2021-09-02T12:29:42.641Z"
   },
   {
    "duration": -10318,
    "start_time": "2021-09-02T12:29:42.701Z"
   },
   {
    "duration": -10320,
    "start_time": "2021-09-02T12:29:42.704Z"
   },
   {
    "duration": -10324,
    "start_time": "2021-09-02T12:29:42.709Z"
   },
   {
    "duration": -10325,
    "start_time": "2021-09-02T12:29:42.711Z"
   },
   {
    "duration": -10328,
    "start_time": "2021-09-02T12:29:42.714Z"
   },
   {
    "duration": -10330,
    "start_time": "2021-09-02T12:29:42.717Z"
   },
   {
    "duration": -10332,
    "start_time": "2021-09-02T12:29:42.720Z"
   },
   {
    "duration": -10334,
    "start_time": "2021-09-02T12:29:42.723Z"
   },
   {
    "duration": -10335,
    "start_time": "2021-09-02T12:29:42.726Z"
   },
   {
    "duration": -10337,
    "start_time": "2021-09-02T12:29:42.729Z"
   },
   {
    "duration": -10338,
    "start_time": "2021-09-02T12:29:42.732Z"
   },
   {
    "duration": -10340,
    "start_time": "2021-09-02T12:29:42.735Z"
   },
   {
    "duration": -10350,
    "start_time": "2021-09-02T12:29:42.746Z"
   },
   {
    "duration": -10352,
    "start_time": "2021-09-02T12:29:42.750Z"
   },
   {
    "duration": -10355,
    "start_time": "2021-09-02T12:29:42.754Z"
   },
   {
    "duration": -10355,
    "start_time": "2021-09-02T12:29:42.756Z"
   },
   {
    "duration": -10357,
    "start_time": "2021-09-02T12:29:42.759Z"
   },
   {
    "duration": -10359,
    "start_time": "2021-09-02T12:29:42.763Z"
   },
   {
    "duration": -10361,
    "start_time": "2021-09-02T12:29:42.766Z"
   },
   {
    "duration": -10362,
    "start_time": "2021-09-02T12:29:42.768Z"
   },
   {
    "duration": -10363,
    "start_time": "2021-09-02T12:29:42.771Z"
   },
   {
    "duration": -10365,
    "start_time": "2021-09-02T12:29:42.774Z"
   },
   {
    "duration": -10366,
    "start_time": "2021-09-02T12:29:42.777Z"
   },
   {
    "duration": -10368,
    "start_time": "2021-09-02T12:29:42.780Z"
   },
   {
    "duration": -10369,
    "start_time": "2021-09-02T12:29:42.783Z"
   },
   {
    "duration": -10371,
    "start_time": "2021-09-02T12:29:42.786Z"
   },
   {
    "duration": -10373,
    "start_time": "2021-09-02T12:29:42.789Z"
   },
   {
    "duration": -10374,
    "start_time": "2021-09-02T12:29:42.792Z"
   },
   {
    "duration": -10377,
    "start_time": "2021-09-02T12:29:42.796Z"
   },
   {
    "duration": -10378,
    "start_time": "2021-09-02T12:29:42.798Z"
   },
   {
    "duration": -10380,
    "start_time": "2021-09-02T12:29:42.802Z"
   },
   {
    "duration": -10381,
    "start_time": "2021-09-02T12:29:42.804Z"
   },
   {
    "duration": -10384,
    "start_time": "2021-09-02T12:29:42.808Z"
   },
   {
    "duration": -10385,
    "start_time": "2021-09-02T12:29:42.811Z"
   },
   {
    "duration": -10387,
    "start_time": "2021-09-02T12:29:42.814Z"
   },
   {
    "duration": -10389,
    "start_time": "2021-09-02T12:29:42.817Z"
   },
   {
    "duration": -10390,
    "start_time": "2021-09-02T12:29:42.820Z"
   },
   {
    "duration": -10391,
    "start_time": "2021-09-02T12:29:42.822Z"
   },
   {
    "duration": -10392,
    "start_time": "2021-09-02T12:29:42.825Z"
   },
   {
    "duration": 9,
    "start_time": "2021-09-02T12:30:01.942Z"
   },
   {
    "duration": 26960,
    "start_time": "2021-09-02T12:33:49.844Z"
   },
   {
    "duration": 7,
    "start_time": "2021-09-02T12:34:18.580Z"
   },
   {
    "duration": 4,
    "start_time": "2021-09-02T12:36:27.604Z"
   },
   {
    "duration": 5,
    "start_time": "2021-09-02T12:36:47.754Z"
   },
   {
    "duration": 26788,
    "start_time": "2021-09-02T12:37:17.105Z"
   },
   {
    "duration": 4,
    "start_time": "2021-09-02T12:38:34.826Z"
   },
   {
    "duration": 4,
    "start_time": "2021-09-02T12:38:58.484Z"
   },
   {
    "duration": 44,
    "start_time": "2021-09-02T12:59:13.192Z"
   },
   {
    "duration": 8,
    "start_time": "2021-09-02T12:59:20.239Z"
   },
   {
    "duration": 8,
    "start_time": "2021-09-02T12:59:36.928Z"
   },
   {
    "duration": 20,
    "start_time": "2021-09-02T13:00:40.278Z"
   },
   {
    "duration": 24,
    "start_time": "2021-09-02T13:01:16.270Z"
   },
   {
    "duration": 61,
    "start_time": "2021-09-02T13:05:58.053Z"
   },
   {
    "duration": 9,
    "start_time": "2021-09-02T13:06:07.956Z"
   },
   {
    "duration": 9,
    "start_time": "2021-09-02T13:06:18.109Z"
   },
   {
    "duration": 1565,
    "start_time": "2021-09-02T13:24:37.249Z"
   },
   {
    "duration": 16,
    "start_time": "2021-09-02T13:24:56.544Z"
   },
   {
    "duration": 9,
    "start_time": "2021-09-02T13:25:02.487Z"
   },
   {
    "duration": 64,
    "start_time": "2021-09-02T13:25:38.057Z"
   },
   {
    "duration": 60,
    "start_time": "2021-09-02T13:29:37.104Z"
   },
   {
    "duration": 5,
    "start_time": "2021-09-02T13:31:29.412Z"
   },
   {
    "duration": 2081,
    "start_time": "2021-09-02T13:33:15.525Z"
   },
   {
    "duration": 4509,
    "start_time": "2021-09-02T13:33:55.085Z"
   },
   {
    "duration": 1021,
    "start_time": "2021-09-02T13:34:59.764Z"
   },
   {
    "duration": 47,
    "start_time": "2021-09-02T13:35:00.787Z"
   },
   {
    "duration": 13,
    "start_time": "2021-09-02T13:35:00.836Z"
   },
   {
    "duration": 37,
    "start_time": "2021-09-02T13:35:00.852Z"
   },
   {
    "duration": 12,
    "start_time": "2021-09-02T13:35:00.890Z"
   },
   {
    "duration": 33,
    "start_time": "2021-09-02T13:35:00.904Z"
   },
   {
    "duration": 14,
    "start_time": "2021-09-02T13:35:00.939Z"
   },
   {
    "duration": 597,
    "start_time": "2021-09-02T13:35:00.956Z"
   },
   {
    "duration": 52,
    "start_time": "2021-09-02T13:35:01.555Z"
   },
   {
    "duration": 8,
    "start_time": "2021-09-02T13:35:01.608Z"
   },
   {
    "duration": 26,
    "start_time": "2021-09-02T13:35:01.618Z"
   },
   {
    "duration": 20,
    "start_time": "2021-09-02T13:35:01.646Z"
   },
   {
    "duration": 24,
    "start_time": "2021-09-02T13:35:01.669Z"
   },
   {
    "duration": 28,
    "start_time": "2021-09-02T13:35:01.694Z"
   },
   {
    "duration": 45,
    "start_time": "2021-09-02T13:35:01.724Z"
   },
   {
    "duration": 23,
    "start_time": "2021-09-02T13:35:01.771Z"
   },
   {
    "duration": 80,
    "start_time": "2021-09-02T13:35:01.796Z"
   },
   {
    "duration": 2127,
    "start_time": "2021-09-02T13:35:01.878Z"
   },
   {
    "duration": 6548,
    "start_time": "2021-09-02T13:35:04.007Z"
   },
   {
    "duration": -10174,
    "start_time": "2021-09-02T13:35:20.732Z"
   },
   {
    "duration": -10177,
    "start_time": "2021-09-02T13:35:20.736Z"
   },
   {
    "duration": -10251,
    "start_time": "2021-09-02T13:35:20.811Z"
   },
   {
    "duration": -10260,
    "start_time": "2021-09-02T13:35:20.821Z"
   },
   {
    "duration": -10263,
    "start_time": "2021-09-02T13:35:20.825Z"
   },
   {
    "duration": -10265,
    "start_time": "2021-09-02T13:35:20.828Z"
   },
   {
    "duration": -10268,
    "start_time": "2021-09-02T13:35:20.832Z"
   },
   {
    "duration": -10270,
    "start_time": "2021-09-02T13:35:20.835Z"
   },
   {
    "duration": -10272,
    "start_time": "2021-09-02T13:35:20.838Z"
   },
   {
    "duration": -10274,
    "start_time": "2021-09-02T13:35:20.841Z"
   },
   {
    "duration": -10278,
    "start_time": "2021-09-02T13:35:20.846Z"
   },
   {
    "duration": -10281,
    "start_time": "2021-09-02T13:35:20.850Z"
   },
   {
    "duration": -10283,
    "start_time": "2021-09-02T13:35:20.853Z"
   },
   {
    "duration": -10286,
    "start_time": "2021-09-02T13:35:20.857Z"
   },
   {
    "duration": -10288,
    "start_time": "2021-09-02T13:35:20.860Z"
   },
   {
    "duration": -10290,
    "start_time": "2021-09-02T13:35:20.863Z"
   },
   {
    "duration": -10293,
    "start_time": "2021-09-02T13:35:20.866Z"
   },
   {
    "duration": -10295,
    "start_time": "2021-09-02T13:35:20.869Z"
   },
   {
    "duration": -10298,
    "start_time": "2021-09-02T13:35:20.873Z"
   },
   {
    "duration": -10300,
    "start_time": "2021-09-02T13:35:20.876Z"
   },
   {
    "duration": -10301,
    "start_time": "2021-09-02T13:35:20.878Z"
   },
   {
    "duration": -10303,
    "start_time": "2021-09-02T13:35:20.881Z"
   },
   {
    "duration": -10359,
    "start_time": "2021-09-02T13:35:20.938Z"
   },
   {
    "duration": -10458,
    "start_time": "2021-09-02T13:35:21.037Z"
   },
   {
    "duration": -10460,
    "start_time": "2021-09-02T13:35:21.040Z"
   },
   {
    "duration": -10461,
    "start_time": "2021-09-02T13:35:21.043Z"
   },
   {
    "duration": -10463,
    "start_time": "2021-09-02T13:35:21.046Z"
   },
   {
    "duration": -10473,
    "start_time": "2021-09-02T13:35:21.057Z"
   },
   {
    "duration": -10476,
    "start_time": "2021-09-02T13:35:21.060Z"
   },
   {
    "duration": -10478,
    "start_time": "2021-09-02T13:35:21.063Z"
   },
   {
    "duration": -10479,
    "start_time": "2021-09-02T13:35:21.066Z"
   },
   {
    "duration": -10482,
    "start_time": "2021-09-02T13:35:21.070Z"
   },
   {
    "duration": -10484,
    "start_time": "2021-09-02T13:35:21.073Z"
   },
   {
    "duration": -10487,
    "start_time": "2021-09-02T13:35:21.077Z"
   },
   {
    "duration": -10489,
    "start_time": "2021-09-02T13:35:21.080Z"
   },
   {
    "duration": -10491,
    "start_time": "2021-09-02T13:35:21.083Z"
   },
   {
    "duration": -10493,
    "start_time": "2021-09-02T13:35:21.086Z"
   },
   {
    "duration": -10495,
    "start_time": "2021-09-02T13:35:21.089Z"
   },
   {
    "duration": -10498,
    "start_time": "2021-09-02T13:35:21.093Z"
   },
   {
    "duration": -10500,
    "start_time": "2021-09-02T13:35:21.096Z"
   },
   {
    "duration": -10502,
    "start_time": "2021-09-02T13:35:21.099Z"
   },
   {
    "duration": -10504,
    "start_time": "2021-09-02T13:35:21.102Z"
   },
   {
    "duration": -10506,
    "start_time": "2021-09-02T13:35:21.105Z"
   },
   {
    "duration": -10508,
    "start_time": "2021-09-02T13:35:21.108Z"
   },
   {
    "duration": -10510,
    "start_time": "2021-09-02T13:35:21.111Z"
   },
   {
    "duration": 22,
    "start_time": "2021-09-02T13:36:29.271Z"
   },
   {
    "duration": 2284,
    "start_time": "2021-09-02T13:37:45.207Z"
   },
   {
    "duration": 2240,
    "start_time": "2021-09-02T13:39:36.895Z"
   },
   {
    "duration": 738,
    "start_time": "2021-09-02T13:39:53.352Z"
   },
   {
    "duration": 46,
    "start_time": "2021-09-02T13:39:54.092Z"
   },
   {
    "duration": 14,
    "start_time": "2021-09-02T13:39:54.140Z"
   },
   {
    "duration": 34,
    "start_time": "2021-09-02T13:39:54.155Z"
   },
   {
    "duration": 10,
    "start_time": "2021-09-02T13:39:54.191Z"
   },
   {
    "duration": 19,
    "start_time": "2021-09-02T13:39:54.203Z"
   },
   {
    "duration": 2,
    "start_time": "2021-09-02T13:39:54.223Z"
   },
   {
    "duration": 520,
    "start_time": "2021-09-02T13:39:54.227Z"
   },
   {
    "duration": 50,
    "start_time": "2021-09-02T13:39:54.748Z"
   },
   {
    "duration": 8,
    "start_time": "2021-09-02T13:39:54.800Z"
   },
   {
    "duration": 10,
    "start_time": "2021-09-02T13:39:54.809Z"
   },
   {
    "duration": 15,
    "start_time": "2021-09-02T13:39:54.821Z"
   },
   {
    "duration": 11,
    "start_time": "2021-09-02T13:39:54.837Z"
   },
   {
    "duration": 19,
    "start_time": "2021-09-02T13:39:54.850Z"
   },
   {
    "duration": 31,
    "start_time": "2021-09-02T13:39:54.870Z"
   },
   {
    "duration": 9,
    "start_time": "2021-09-02T13:39:54.903Z"
   },
   {
    "duration": 85,
    "start_time": "2021-09-02T13:39:54.914Z"
   },
   {
    "duration": 2157,
    "start_time": "2021-09-02T13:39:55.001Z"
   },
   {
    "duration": 35,
    "start_time": "2021-09-02T13:39:57.160Z"
   },
   {
    "duration": 7,
    "start_time": "2021-09-02T13:39:57.197Z"
   },
   {
    "duration": 915,
    "start_time": "2021-09-02T13:39:57.206Z"
   },
   {
    "duration": -10186,
    "start_time": "2021-09-02T13:40:08.311Z"
   },
   {
    "duration": -10199,
    "start_time": "2021-09-02T13:40:08.325Z"
   },
   {
    "duration": -10200,
    "start_time": "2021-09-02T13:40:08.328Z"
   },
   {
    "duration": -10252,
    "start_time": "2021-09-02T13:40:08.381Z"
   },
   {
    "duration": -10264,
    "start_time": "2021-09-02T13:40:08.394Z"
   },
   {
    "duration": -10267,
    "start_time": "2021-09-02T13:40:08.398Z"
   },
   {
    "duration": -10278,
    "start_time": "2021-09-02T13:40:08.411Z"
   },
   {
    "duration": -10280,
    "start_time": "2021-09-02T13:40:08.414Z"
   },
   {
    "duration": -10290,
    "start_time": "2021-09-02T13:40:08.426Z"
   },
   {
    "duration": -10293,
    "start_time": "2021-09-02T13:40:08.430Z"
   },
   {
    "duration": -10314,
    "start_time": "2021-09-02T13:40:08.452Z"
   },
   {
    "duration": -10316,
    "start_time": "2021-09-02T13:40:08.456Z"
   },
   {
    "duration": -10318,
    "start_time": "2021-09-02T13:40:08.459Z"
   },
   {
    "duration": -10319,
    "start_time": "2021-09-02T13:40:08.462Z"
   },
   {
    "duration": -10321,
    "start_time": "2021-09-02T13:40:08.465Z"
   },
   {
    "duration": -10323,
    "start_time": "2021-09-02T13:40:08.468Z"
   },
   {
    "duration": -10324,
    "start_time": "2021-09-02T13:40:08.471Z"
   },
   {
    "duration": -10326,
    "start_time": "2021-09-02T13:40:08.474Z"
   },
   {
    "duration": -10326,
    "start_time": "2021-09-02T13:40:08.476Z"
   },
   {
    "duration": -10328,
    "start_time": "2021-09-02T13:40:08.479Z"
   },
   {
    "duration": -10330,
    "start_time": "2021-09-02T13:40:08.482Z"
   },
   {
    "duration": -10331,
    "start_time": "2021-09-02T13:40:08.485Z"
   },
   {
    "duration": -10401,
    "start_time": "2021-09-02T13:40:08.556Z"
   },
   {
    "duration": -10553,
    "start_time": "2021-09-02T13:40:08.709Z"
   },
   {
    "duration": -10555,
    "start_time": "2021-09-02T13:40:08.713Z"
   },
   {
    "duration": -10566,
    "start_time": "2021-09-02T13:40:08.725Z"
   },
   {
    "duration": -10570,
    "start_time": "2021-09-02T13:40:08.731Z"
   },
   {
    "duration": -10581,
    "start_time": "2021-09-02T13:40:08.743Z"
   },
   {
    "duration": -10556,
    "start_time": "2021-09-02T13:40:08.746Z"
   },
   {
    "duration": -10567,
    "start_time": "2021-09-02T13:40:08.759Z"
   },
   {
    "duration": -10569,
    "start_time": "2021-09-02T13:40:08.763Z"
   },
   {
    "duration": -10580,
    "start_time": "2021-09-02T13:40:08.775Z"
   },
   {
    "duration": -10582,
    "start_time": "2021-09-02T13:40:08.778Z"
   },
   {
    "duration": -10583,
    "start_time": "2021-09-02T13:40:08.781Z"
   },
   {
    "duration": -10593,
    "start_time": "2021-09-02T13:40:08.792Z"
   },
   {
    "duration": -10595,
    "start_time": "2021-09-02T13:40:08.796Z"
   },
   {
    "duration": -10608,
    "start_time": "2021-09-02T13:40:08.810Z"
   },
   {
    "duration": -10610,
    "start_time": "2021-09-02T13:40:08.813Z"
   },
   {
    "duration": -10620,
    "start_time": "2021-09-02T13:40:08.824Z"
   },
   {
    "duration": -10622,
    "start_time": "2021-09-02T13:40:08.827Z"
   },
   {
    "duration": -10624,
    "start_time": "2021-09-02T13:40:08.830Z"
   },
   {
    "duration": -10628,
    "start_time": "2021-09-02T13:40:08.834Z"
   },
   {
    "duration": 5031,
    "start_time": "2021-09-02T13:41:07.158Z"
   },
   {
    "duration": 2092,
    "start_time": "2021-09-02T13:42:05.216Z"
   },
   {
    "duration": 8,
    "start_time": "2021-09-02T13:42:38.260Z"
   },
   {
    "duration": 3,
    "start_time": "2021-09-02T13:43:09.108Z"
   },
   {
    "duration": 4,
    "start_time": "2021-09-02T13:43:15.164Z"
   },
   {
    "duration": 4,
    "start_time": "2021-09-02T13:43:20.803Z"
   },
   {
    "duration": 4,
    "start_time": "2021-09-02T13:43:25.914Z"
   },
   {
    "duration": 4,
    "start_time": "2021-09-02T13:43:30.618Z"
   },
   {
    "duration": 2141,
    "start_time": "2021-09-02T13:43:49.797Z"
   },
   {
    "duration": 2148,
    "start_time": "2021-09-02T13:44:28.947Z"
   },
   {
    "duration": 4974,
    "start_time": "2021-09-02T13:45:01.252Z"
   },
   {
    "duration": 5519,
    "start_time": "2021-09-02T13:46:10.369Z"
   },
   {
    "duration": 2238,
    "start_time": "2021-09-02T13:46:37.116Z"
   },
   {
    "duration": 2087,
    "start_time": "2021-09-02T13:48:16.426Z"
   },
   {
    "duration": 20,
    "start_time": "2021-09-02T13:48:58.200Z"
   },
   {
    "duration": 9,
    "start_time": "2021-09-02T13:49:23.456Z"
   },
   {
    "duration": 10,
    "start_time": "2021-09-02T13:49:31.071Z"
   },
   {
    "duration": 5887,
    "start_time": "2021-09-02T13:50:14.185Z"
   },
   {
    "duration": 2728,
    "start_time": "2021-09-02T13:50:31.039Z"
   },
   {
    "duration": 5609,
    "start_time": "2021-09-02T13:50:38.755Z"
   },
   {
    "duration": 5533,
    "start_time": "2021-09-02T13:50:56.559Z"
   },
   {
    "duration": 22,
    "start_time": "2021-09-02T13:51:42.855Z"
   },
   {
    "duration": 9,
    "start_time": "2021-09-02T13:51:58.359Z"
   },
   {
    "duration": 7,
    "start_time": "2021-09-02T13:52:28.464Z"
   },
   {
    "duration": 752,
    "start_time": "2021-09-02T13:52:51.232Z"
   },
   {
    "duration": 50,
    "start_time": "2021-09-02T13:52:51.986Z"
   },
   {
    "duration": 13,
    "start_time": "2021-09-02T13:52:52.038Z"
   },
   {
    "duration": 39,
    "start_time": "2021-09-02T13:52:52.052Z"
   },
   {
    "duration": 14,
    "start_time": "2021-09-02T13:52:52.092Z"
   },
   {
    "duration": 30,
    "start_time": "2021-09-02T13:52:52.109Z"
   },
   {
    "duration": 2,
    "start_time": "2021-09-02T13:52:52.141Z"
   },
   {
    "duration": 564,
    "start_time": "2021-09-02T13:52:52.145Z"
   },
   {
    "duration": 46,
    "start_time": "2021-09-02T13:52:52.716Z"
   },
   {
    "duration": 8,
    "start_time": "2021-09-02T13:52:52.764Z"
   },
   {
    "duration": 19,
    "start_time": "2021-09-02T13:52:52.774Z"
   },
   {
    "duration": 18,
    "start_time": "2021-09-02T13:52:52.796Z"
   },
   {
    "duration": 17,
    "start_time": "2021-09-02T13:52:52.815Z"
   },
   {
    "duration": 48,
    "start_time": "2021-09-02T13:52:52.834Z"
   },
   {
    "duration": 21,
    "start_time": "2021-09-02T13:52:52.884Z"
   },
   {
    "duration": 10,
    "start_time": "2021-09-02T13:52:52.907Z"
   },
   {
    "duration": 72,
    "start_time": "2021-09-02T13:52:52.919Z"
   },
   {
    "duration": 7,
    "start_time": "2021-09-02T13:52:52.992Z"
   },
   {
    "duration": 5225,
    "start_time": "2021-09-02T13:52:53.001Z"
   },
   {
    "duration": 7,
    "start_time": "2021-09-02T13:52:58.228Z"
   },
   {
    "duration": 22,
    "start_time": "2021-09-02T13:52:58.236Z"
   },
   {
    "duration": 26,
    "start_time": "2021-09-02T13:52:58.260Z"
   },
   {
    "duration": 26,
    "start_time": "2021-09-02T13:52:58.288Z"
   },
   {
    "duration": 1114,
    "start_time": "2021-09-02T13:52:58.316Z"
   },
   {
    "duration": -10183,
    "start_time": "2021-09-02T13:53:09.617Z"
   },
   {
    "duration": -10186,
    "start_time": "2021-09-02T13:53:09.621Z"
   },
   {
    "duration": -10197,
    "start_time": "2021-09-02T13:53:09.632Z"
   },
   {
    "duration": -10265,
    "start_time": "2021-09-02T13:53:09.701Z"
   },
   {
    "duration": -10273,
    "start_time": "2021-09-02T13:53:09.710Z"
   },
   {
    "duration": -10275,
    "start_time": "2021-09-02T13:53:09.713Z"
   },
   {
    "duration": -10278,
    "start_time": "2021-09-02T13:53:09.717Z"
   },
   {
    "duration": -10280,
    "start_time": "2021-09-02T13:53:09.720Z"
   },
   {
    "duration": -10282,
    "start_time": "2021-09-02T13:53:09.723Z"
   },
   {
    "duration": -10284,
    "start_time": "2021-09-02T13:53:09.726Z"
   },
   {
    "duration": -10287,
    "start_time": "2021-09-02T13:53:09.729Z"
   },
   {
    "duration": -10289,
    "start_time": "2021-09-02T13:53:09.732Z"
   },
   {
    "duration": -10293,
    "start_time": "2021-09-02T13:53:09.737Z"
   },
   {
    "duration": -10295,
    "start_time": "2021-09-02T13:53:09.740Z"
   },
   {
    "duration": -10297,
    "start_time": "2021-09-02T13:53:09.743Z"
   },
   {
    "duration": -10299,
    "start_time": "2021-09-02T13:53:09.746Z"
   },
   {
    "duration": -10301,
    "start_time": "2021-09-02T13:53:09.749Z"
   },
   {
    "duration": -10304,
    "start_time": "2021-09-02T13:53:09.753Z"
   },
   {
    "duration": -10307,
    "start_time": "2021-09-02T13:53:09.756Z"
   },
   {
    "duration": -10308,
    "start_time": "2021-09-02T13:53:09.759Z"
   },
   {
    "duration": -10310,
    "start_time": "2021-09-02T13:53:09.762Z"
   },
   {
    "duration": -10313,
    "start_time": "2021-09-02T13:53:09.765Z"
   },
   {
    "duration": -10502,
    "start_time": "2021-09-02T13:53:09.955Z"
   },
   {
    "duration": -10526,
    "start_time": "2021-09-02T13:53:09.980Z"
   },
   {
    "duration": -10528,
    "start_time": "2021-09-02T13:53:09.983Z"
   },
   {
    "duration": -10531,
    "start_time": "2021-09-02T13:53:09.987Z"
   },
   {
    "duration": -10533,
    "start_time": "2021-09-02T13:53:09.990Z"
   },
   {
    "duration": -10534,
    "start_time": "2021-09-02T13:53:09.992Z"
   },
   {
    "duration": -10536,
    "start_time": "2021-09-02T13:53:09.995Z"
   },
   {
    "duration": -10538,
    "start_time": "2021-09-02T13:53:09.998Z"
   },
   {
    "duration": -10550,
    "start_time": "2021-09-02T13:53:10.011Z"
   },
   {
    "duration": -10552,
    "start_time": "2021-09-02T13:53:10.014Z"
   },
   {
    "duration": -10555,
    "start_time": "2021-09-02T13:53:10.018Z"
   },
   {
    "duration": -10557,
    "start_time": "2021-09-02T13:53:10.021Z"
   },
   {
    "duration": -10559,
    "start_time": "2021-09-02T13:53:10.024Z"
   },
   {
    "duration": -10560,
    "start_time": "2021-09-02T13:53:10.026Z"
   },
   {
    "duration": -10563,
    "start_time": "2021-09-02T13:53:10.030Z"
   },
   {
    "duration": -10565,
    "start_time": "2021-09-02T13:53:10.033Z"
   },
   {
    "duration": -10567,
    "start_time": "2021-09-02T13:53:10.036Z"
   },
   {
    "duration": -10569,
    "start_time": "2021-09-02T13:53:10.039Z"
   },
   {
    "duration": -10571,
    "start_time": "2021-09-02T13:53:10.042Z"
   },
   {
    "duration": 7404,
    "start_time": "2021-09-02T13:57:15.637Z"
   },
   {
    "duration": 2261,
    "start_time": "2021-09-02T13:57:53.388Z"
   },
   {
    "duration": 2181,
    "start_time": "2021-09-02T13:58:11.367Z"
   },
   {
    "duration": 1536,
    "start_time": "2021-09-02T13:58:24.686Z"
   },
   {
    "duration": 6307,
    "start_time": "2021-09-02T13:59:12.935Z"
   },
   {
    "duration": 2153,
    "start_time": "2021-09-02T13:59:29.446Z"
   },
   {
    "duration": 4675,
    "start_time": "2021-09-02T14:01:05.804Z"
   },
   {
    "duration": 2761,
    "start_time": "2021-09-02T14:02:42.143Z"
   },
   {
    "duration": 14,
    "start_time": "2021-09-02T14:08:26.304Z"
   },
   {
    "duration": 874,
    "start_time": "2021-09-02T14:09:20.640Z"
   },
   {
    "duration": 45,
    "start_time": "2021-09-02T14:09:21.517Z"
   },
   {
    "duration": 14,
    "start_time": "2021-09-02T14:09:21.564Z"
   },
   {
    "duration": 37,
    "start_time": "2021-09-02T14:09:21.580Z"
   },
   {
    "duration": 10,
    "start_time": "2021-09-02T14:09:21.619Z"
   },
   {
    "duration": 23,
    "start_time": "2021-09-02T14:09:21.633Z"
   },
   {
    "duration": 3,
    "start_time": "2021-09-02T14:09:21.658Z"
   },
   {
    "duration": 583,
    "start_time": "2021-09-02T14:09:21.663Z"
   },
   {
    "duration": 54,
    "start_time": "2021-09-02T14:09:22.248Z"
   },
   {
    "duration": 9,
    "start_time": "2021-09-02T14:09:22.303Z"
   },
   {
    "duration": 7,
    "start_time": "2021-09-02T14:09:22.314Z"
   },
   {
    "duration": 8,
    "start_time": "2021-09-02T14:09:22.322Z"
   },
   {
    "duration": 8,
    "start_time": "2021-09-02T14:09:22.332Z"
   },
   {
    "duration": 21,
    "start_time": "2021-09-02T14:09:22.341Z"
   },
   {
    "duration": 17,
    "start_time": "2021-09-02T14:09:22.392Z"
   },
   {
    "duration": 9,
    "start_time": "2021-09-02T14:09:22.410Z"
   },
   {
    "duration": 12,
    "start_time": "2021-09-02T14:09:22.421Z"
   },
   {
    "duration": 135,
    "start_time": "2021-09-02T14:09:22.435Z"
   },
   {
    "duration": 4275,
    "start_time": "2021-09-02T14:09:22.573Z"
   },
   {
    "duration": 7,
    "start_time": "2021-09-02T14:09:26.850Z"
   },
   {
    "duration": 60,
    "start_time": "2021-09-02T14:09:26.859Z"
   },
   {
    "duration": 41,
    "start_time": "2021-09-02T14:09:26.921Z"
   },
   {
    "duration": 32,
    "start_time": "2021-09-02T14:09:26.967Z"
   },
   {
    "duration": 17,
    "start_time": "2021-09-02T14:09:27.003Z"
   },
   {
    "duration": 3,
    "start_time": "2021-09-02T14:09:27.023Z"
   },
   {
    "duration": 20,
    "start_time": "2021-09-02T14:09:27.028Z"
   },
   {
    "duration": 6,
    "start_time": "2021-09-02T14:09:27.051Z"
   },
   {
    "duration": 52,
    "start_time": "2021-09-02T14:09:27.059Z"
   },
   {
    "duration": 444,
    "start_time": "2021-09-02T14:09:27.113Z"
   },
   {
    "duration": 661,
    "start_time": "2021-09-02T14:09:27.559Z"
   },
   {
    "duration": 5,
    "start_time": "2021-09-02T14:09:28.222Z"
   },
   {
    "duration": 24,
    "start_time": "2021-09-02T14:09:28.229Z"
   },
   {
    "duration": 10,
    "start_time": "2021-09-02T14:09:28.256Z"
   },
   {
    "duration": 655,
    "start_time": "2021-09-02T14:09:28.268Z"
   },
   {
    "duration": 7,
    "start_time": "2021-09-02T14:09:28.925Z"
   },
   {
    "duration": 17,
    "start_time": "2021-09-02T14:09:28.934Z"
   },
   {
    "duration": 1177,
    "start_time": "2021-09-02T14:09:28.954Z"
   },
   {
    "duration": -10251,
    "start_time": "2021-09-02T14:09:40.384Z"
   },
   {
    "duration": -10255,
    "start_time": "2021-09-02T14:09:40.390Z"
   },
   {
    "duration": -10261,
    "start_time": "2021-09-02T14:09:40.397Z"
   },
   {
    "duration": -10267,
    "start_time": "2021-09-02T14:09:40.405Z"
   },
   {
    "duration": -10273,
    "start_time": "2021-09-02T14:09:40.412Z"
   },
   {
    "duration": -10276,
    "start_time": "2021-09-02T14:09:40.417Z"
   },
   {
    "duration": -10279,
    "start_time": "2021-09-02T14:09:40.421Z"
   },
   {
    "duration": -10282,
    "start_time": "2021-09-02T14:09:40.425Z"
   },
   {
    "duration": -10283,
    "start_time": "2021-09-02T14:09:40.428Z"
   },
   {
    "duration": -10286,
    "start_time": "2021-09-02T14:09:40.432Z"
   },
   {
    "duration": -10288,
    "start_time": "2021-09-02T14:09:40.436Z"
   },
   {
    "duration": -10290,
    "start_time": "2021-09-02T14:09:40.439Z"
   },
   {
    "duration": -10292,
    "start_time": "2021-09-02T14:09:40.442Z"
   },
   {
    "duration": -10314,
    "start_time": "2021-09-02T14:09:40.465Z"
   },
   {
    "duration": -10319,
    "start_time": "2021-09-02T14:09:40.470Z"
   },
   {
    "duration": -10322,
    "start_time": "2021-09-02T14:09:40.474Z"
   },
   {
    "duration": -10325,
    "start_time": "2021-09-02T14:09:40.478Z"
   },
   {
    "duration": -10326,
    "start_time": "2021-09-02T14:09:40.482Z"
   },
   {
    "duration": -10328,
    "start_time": "2021-09-02T14:09:40.486Z"
   },
   {
    "duration": -10331,
    "start_time": "2021-09-02T14:09:40.490Z"
   },
   {
    "duration": -10333,
    "start_time": "2021-09-02T14:09:40.493Z"
   },
   {
    "duration": -10336,
    "start_time": "2021-09-02T14:09:40.498Z"
   },
   {
    "duration": -10339,
    "start_time": "2021-09-02T14:09:40.502Z"
   },
   {
    "duration": 4589,
    "start_time": "2021-09-02T14:11:02.334Z"
   },
   {
    "duration": 2356,
    "start_time": "2021-09-02T14:11:31.940Z"
   },
   {
    "duration": 23,
    "start_time": "2021-09-02T14:13:14.331Z"
   },
   {
    "duration": 9,
    "start_time": "2021-09-02T14:13:27.581Z"
   },
   {
    "duration": 9,
    "start_time": "2021-09-02T14:15:13.626Z"
   },
   {
    "duration": 10,
    "start_time": "2021-09-02T14:16:04.009Z"
   },
   {
    "duration": 6,
    "start_time": "2021-09-02T14:19:22.408Z"
   },
   {
    "duration": 7,
    "start_time": "2021-09-02T14:19:32.784Z"
   },
   {
    "duration": 8,
    "start_time": "2021-09-02T14:22:21.695Z"
   },
   {
    "duration": 5,
    "start_time": "2021-09-02T14:22:39.213Z"
   },
   {
    "duration": 6,
    "start_time": "2021-09-02T14:24:10.406Z"
   },
   {
    "duration": 4,
    "start_time": "2021-09-02T14:24:11.301Z"
   },
   {
    "duration": 8,
    "start_time": "2021-09-02T14:25:39.105Z"
   },
   {
    "duration": 930,
    "start_time": "2021-09-02T14:29:25.211Z"
   },
   {
    "duration": 1402,
    "start_time": "2021-09-02T14:30:08.867Z"
   },
   {
    "duration": 902,
    "start_time": "2021-09-02T14:30:30.883Z"
   },
   {
    "duration": 7,
    "start_time": "2021-09-02T14:31:30.642Z"
   },
   {
    "duration": 6,
    "start_time": "2021-09-02T14:31:38.761Z"
   },
   {
    "duration": 846,
    "start_time": "2021-09-02T14:32:02.546Z"
   },
   {
    "duration": 1790,
    "start_time": "2021-09-02T14:32:14.866Z"
   },
   {
    "duration": 24,
    "start_time": "2021-09-02T14:32:48.088Z"
   },
   {
    "duration": 24,
    "start_time": "2021-09-02T14:33:08.713Z"
   },
   {
    "duration": 23,
    "start_time": "2021-09-02T14:33:21.362Z"
   },
   {
    "duration": 736,
    "start_time": "2021-09-02T14:33:49.034Z"
   },
   {
    "duration": 794,
    "start_time": "2021-09-02T14:34:02.810Z"
   },
   {
    "duration": 1056,
    "start_time": "2021-09-02T14:39:16.681Z"
   },
   {
    "duration": 9,
    "start_time": "2021-09-02T14:40:11.709Z"
   },
   {
    "duration": 1075,
    "start_time": "2021-09-02T14:40:17.414Z"
   },
   {
    "duration": 1886,
    "start_time": "2021-09-02T14:40:30.173Z"
   },
   {
    "duration": 1796,
    "start_time": "2021-09-02T14:40:48.604Z"
   },
   {
    "duration": 2708,
    "start_time": "2021-09-02T14:41:11.357Z"
   },
   {
    "duration": 3001,
    "start_time": "2021-09-02T14:42:04.890Z"
   },
   {
    "duration": 1139,
    "start_time": "2021-09-02T14:43:04.168Z"
   },
   {
    "duration": 47,
    "start_time": "2021-09-02T14:43:05.310Z"
   },
   {
    "duration": 15,
    "start_time": "2021-09-02T14:43:05.359Z"
   },
   {
    "duration": 51,
    "start_time": "2021-09-02T14:43:05.377Z"
   },
   {
    "duration": 15,
    "start_time": "2021-09-02T14:43:05.430Z"
   },
   {
    "duration": 49,
    "start_time": "2021-09-02T14:43:05.447Z"
   },
   {
    "duration": 3,
    "start_time": "2021-09-02T14:43:05.498Z"
   },
   {
    "duration": 751,
    "start_time": "2021-09-02T14:43:05.504Z"
   },
   {
    "duration": 80,
    "start_time": "2021-09-02T14:43:06.258Z"
   },
   {
    "duration": 13,
    "start_time": "2021-09-02T14:43:06.341Z"
   },
   {
    "duration": 8,
    "start_time": "2021-09-02T14:43:06.356Z"
   },
   {
    "duration": 33,
    "start_time": "2021-09-02T14:43:06.366Z"
   },
   {
    "duration": 15,
    "start_time": "2021-09-02T14:43:06.402Z"
   },
   {
    "duration": 22,
    "start_time": "2021-09-02T14:43:06.420Z"
   },
   {
    "duration": 19,
    "start_time": "2021-09-02T14:43:06.444Z"
   },
   {
    "duration": 34,
    "start_time": "2021-09-02T14:43:06.465Z"
   },
   {
    "duration": 19,
    "start_time": "2021-09-02T14:43:06.501Z"
   },
   {
    "duration": 123,
    "start_time": "2021-09-02T14:43:06.522Z"
   },
   {
    "duration": 2589,
    "start_time": "2021-09-02T14:43:06.647Z"
   },
   {
    "duration": 12,
    "start_time": "2021-09-02T14:43:09.238Z"
   },
   {
    "duration": 2012,
    "start_time": "2021-09-02T14:43:09.252Z"
   },
   {
    "duration": 4,
    "start_time": "2021-09-02T14:43:11.265Z"
   },
   {
    "duration": 46,
    "start_time": "2021-09-02T14:43:11.273Z"
   },
   {
    "duration": 302,
    "start_time": "2021-09-02T14:43:11.322Z"
   },
   {
    "duration": 406,
    "start_time": "2021-09-02T14:43:11.626Z"
   },
   {
    "duration": 3,
    "start_time": "2021-09-02T14:43:12.034Z"
   },
   {
    "duration": 38,
    "start_time": "2021-09-02T14:43:12.039Z"
   },
   {
    "duration": 30,
    "start_time": "2021-09-02T14:43:12.079Z"
   },
   {
    "duration": 409,
    "start_time": "2021-09-02T14:43:12.111Z"
   },
   {
    "duration": 7,
    "start_time": "2021-09-02T14:43:12.522Z"
   },
   {
    "duration": 11,
    "start_time": "2021-09-02T14:43:12.531Z"
   },
   {
    "duration": 1133,
    "start_time": "2021-09-02T14:43:12.544Z"
   },
   {
    "duration": -11847,
    "start_time": "2021-09-02T14:43:25.526Z"
   },
   {
    "duration": -11849,
    "start_time": "2021-09-02T14:43:25.529Z"
   },
   {
    "duration": -11851,
    "start_time": "2021-09-02T14:43:25.532Z"
   },
   {
    "duration": -11853,
    "start_time": "2021-09-02T14:43:25.535Z"
   },
   {
    "duration": -11855,
    "start_time": "2021-09-02T14:43:25.538Z"
   },
   {
    "duration": -11857,
    "start_time": "2021-09-02T14:43:25.541Z"
   },
   {
    "duration": -11860,
    "start_time": "2021-09-02T14:43:25.544Z"
   },
   {
    "duration": -11863,
    "start_time": "2021-09-02T14:43:25.548Z"
   },
   {
    "duration": -11865,
    "start_time": "2021-09-02T14:43:25.551Z"
   },
   {
    "duration": -11867,
    "start_time": "2021-09-02T14:43:25.554Z"
   },
   {
    "duration": -11869,
    "start_time": "2021-09-02T14:43:25.557Z"
   },
   {
    "duration": -11972,
    "start_time": "2021-09-02T14:43:25.660Z"
   },
   {
    "duration": -11974,
    "start_time": "2021-09-02T14:43:25.663Z"
   },
   {
    "duration": -11976,
    "start_time": "2021-09-02T14:43:25.666Z"
   },
   {
    "duration": -11973,
    "start_time": "2021-09-02T14:43:25.668Z"
   },
   {
    "duration": -11975,
    "start_time": "2021-09-02T14:43:25.671Z"
   },
   {
    "duration": -11977,
    "start_time": "2021-09-02T14:43:25.674Z"
   },
   {
    "duration": -11979,
    "start_time": "2021-09-02T14:43:25.677Z"
   },
   {
    "duration": -11981,
    "start_time": "2021-09-02T14:43:25.680Z"
   },
   {
    "duration": -11984,
    "start_time": "2021-09-02T14:43:25.684Z"
   },
   {
    "duration": -11986,
    "start_time": "2021-09-02T14:43:25.687Z"
   },
   {
    "duration": -11987,
    "start_time": "2021-09-02T14:43:25.690Z"
   },
   {
    "duration": -11991,
    "start_time": "2021-09-02T14:43:25.695Z"
   },
   {
    "duration": 3,
    "start_time": "2021-09-02T14:52:09.249Z"
   },
   {
    "duration": 1385,
    "start_time": "2021-09-02T14:52:09.255Z"
   },
   {
    "duration": 60,
    "start_time": "2021-09-02T14:52:10.642Z"
   },
   {
    "duration": 8,
    "start_time": "2021-09-02T14:52:10.704Z"
   },
   {
    "duration": 22,
    "start_time": "2021-09-02T14:52:10.714Z"
   },
   {
    "duration": 20,
    "start_time": "2021-09-02T14:52:10.737Z"
   },
   {
    "duration": 31,
    "start_time": "2021-09-02T14:52:10.758Z"
   },
   {
    "duration": 30,
    "start_time": "2021-09-02T14:52:10.790Z"
   },
   {
    "duration": 17,
    "start_time": "2021-09-02T14:52:10.822Z"
   },
   {
    "duration": 26,
    "start_time": "2021-09-02T14:52:10.841Z"
   },
   {
    "duration": 16,
    "start_time": "2021-09-02T14:52:10.868Z"
   },
   {
    "duration": 71,
    "start_time": "2021-09-02T14:52:10.886Z"
   },
   {
    "duration": 2303,
    "start_time": "2021-09-02T14:52:10.959Z"
   },
   {
    "duration": 1168,
    "start_time": "2021-09-02T14:52:13.264Z"
   },
   {
    "duration": -10217,
    "start_time": "2021-09-02T14:52:24.651Z"
   },
   {
    "duration": -10219,
    "start_time": "2021-09-02T14:52:24.654Z"
   },
   {
    "duration": -10263,
    "start_time": "2021-09-02T14:52:24.699Z"
   },
   {
    "duration": -10264,
    "start_time": "2021-09-02T14:52:24.701Z"
   },
   {
    "duration": -10265,
    "start_time": "2021-09-02T14:52:24.704Z"
   },
   {
    "duration": -10267,
    "start_time": "2021-09-02T14:52:24.707Z"
   },
   {
    "duration": -10268,
    "start_time": "2021-09-02T14:52:24.709Z"
   },
   {
    "duration": -10270,
    "start_time": "2021-09-02T14:52:24.712Z"
   },
   {
    "duration": -10272,
    "start_time": "2021-09-02T14:52:24.715Z"
   },
   {
    "duration": -10273,
    "start_time": "2021-09-02T14:52:24.717Z"
   },
   {
    "duration": -10275,
    "start_time": "2021-09-02T14:52:24.720Z"
   },
   {
    "duration": -10277,
    "start_time": "2021-09-02T14:52:24.722Z"
   },
   {
    "duration": -10280,
    "start_time": "2021-09-02T14:52:24.726Z"
   },
   {
    "duration": -10282,
    "start_time": "2021-09-02T14:52:24.729Z"
   },
   {
    "duration": -10285,
    "start_time": "2021-09-02T14:52:24.733Z"
   },
   {
    "duration": -10287,
    "start_time": "2021-09-02T14:52:24.736Z"
   },
   {
    "duration": -10289,
    "start_time": "2021-09-02T14:52:24.739Z"
   },
   {
    "duration": -10291,
    "start_time": "2021-09-02T14:52:24.742Z"
   },
   {
    "duration": -10293,
    "start_time": "2021-09-02T14:52:24.745Z"
   },
   {
    "duration": -10295,
    "start_time": "2021-09-02T14:52:24.748Z"
   },
   {
    "duration": -10297,
    "start_time": "2021-09-02T14:52:24.751Z"
   },
   {
    "duration": -10346,
    "start_time": "2021-09-02T14:52:24.801Z"
   },
   {
    "duration": -10361,
    "start_time": "2021-09-02T14:52:24.817Z"
   },
   {
    "duration": -10364,
    "start_time": "2021-09-02T14:52:24.821Z"
   },
   {
    "duration": -10366,
    "start_time": "2021-09-02T14:52:24.824Z"
   },
   {
    "duration": -10369,
    "start_time": "2021-09-02T14:52:24.827Z"
   },
   {
    "duration": -10371,
    "start_time": "2021-09-02T14:52:24.830Z"
   },
   {
    "duration": -10373,
    "start_time": "2021-09-02T14:52:24.833Z"
   },
   {
    "duration": -10375,
    "start_time": "2021-09-02T14:52:24.836Z"
   },
   {
    "duration": -10377,
    "start_time": "2021-09-02T14:52:24.839Z"
   },
   {
    "duration": -10380,
    "start_time": "2021-09-02T14:52:24.842Z"
   },
   {
    "duration": -10382,
    "start_time": "2021-09-02T14:52:24.845Z"
   },
   {
    "duration": -10384,
    "start_time": "2021-09-02T14:52:24.848Z"
   },
   {
    "duration": 5,
    "start_time": "2021-09-02T14:52:38.126Z"
   },
   {
    "duration": 3,
    "start_time": "2021-09-02T14:52:48.609Z"
   },
   {
    "duration": 1580,
    "start_time": "2021-09-02T14:52:48.614Z"
   },
   {
    "duration": 67,
    "start_time": "2021-09-02T14:52:50.196Z"
   },
   {
    "duration": 12,
    "start_time": "2021-09-02T14:52:50.265Z"
   },
   {
    "duration": 18,
    "start_time": "2021-09-02T14:52:50.278Z"
   },
   {
    "duration": 18,
    "start_time": "2021-09-02T14:52:50.298Z"
   },
   {
    "duration": 15,
    "start_time": "2021-09-02T14:52:50.318Z"
   },
   {
    "duration": 23,
    "start_time": "2021-09-02T14:52:50.335Z"
   },
   {
    "duration": 17,
    "start_time": "2021-09-02T14:52:50.359Z"
   },
   {
    "duration": 19,
    "start_time": "2021-09-02T14:52:50.377Z"
   },
   {
    "duration": 12,
    "start_time": "2021-09-02T14:52:50.398Z"
   },
   {
    "duration": 92,
    "start_time": "2021-09-02T14:52:50.412Z"
   },
   {
    "duration": 2192,
    "start_time": "2021-09-02T14:52:50.505Z"
   },
   {
    "duration": 7,
    "start_time": "2021-09-02T14:52:52.699Z"
   },
   {
    "duration": 1725,
    "start_time": "2021-09-02T14:52:52.708Z"
   },
   {
    "duration": 288,
    "start_time": "2021-09-02T14:52:54.435Z"
   },
   {
    "duration": 415,
    "start_time": "2021-09-02T14:52:54.724Z"
   },
   {
    "duration": 2,
    "start_time": "2021-09-02T14:52:55.141Z"
   },
   {
    "duration": 25,
    "start_time": "2021-09-02T14:52:55.146Z"
   },
   {
    "duration": 6,
    "start_time": "2021-09-02T14:52:55.173Z"
   },
   {
    "duration": 388,
    "start_time": "2021-09-02T14:52:55.181Z"
   },
   {
    "duration": 6,
    "start_time": "2021-09-02T14:52:55.571Z"
   },
   {
    "duration": 18,
    "start_time": "2021-09-02T14:52:55.579Z"
   },
   {
    "duration": 2036,
    "start_time": "2021-09-02T14:52:55.598Z"
   },
   {
    "duration": -10271,
    "start_time": "2021-09-02T14:53:07.906Z"
   },
   {
    "duration": -10273,
    "start_time": "2021-09-02T14:53:07.909Z"
   },
   {
    "duration": -10282,
    "start_time": "2021-09-02T14:53:07.919Z"
   },
   {
    "duration": -10284,
    "start_time": "2021-09-02T14:53:07.922Z"
   },
   {
    "duration": -10286,
    "start_time": "2021-09-02T14:53:07.925Z"
   },
   {
    "duration": -10297,
    "start_time": "2021-09-02T14:53:07.937Z"
   },
   {
    "duration": -10299,
    "start_time": "2021-09-02T14:53:07.940Z"
   },
   {
    "duration": -10301,
    "start_time": "2021-09-02T14:53:07.943Z"
   },
   {
    "duration": -10303,
    "start_time": "2021-09-02T14:53:07.945Z"
   },
   {
    "duration": -10305,
    "start_time": "2021-09-02T14:53:07.948Z"
   },
   {
    "duration": -10307,
    "start_time": "2021-09-02T14:53:07.951Z"
   },
   {
    "duration": -10308,
    "start_time": "2021-09-02T14:53:07.953Z"
   },
   {
    "duration": -10310,
    "start_time": "2021-09-02T14:53:07.956Z"
   },
   {
    "duration": -10313,
    "start_time": "2021-09-02T14:53:07.959Z"
   },
   {
    "duration": -10351,
    "start_time": "2021-09-02T14:53:07.998Z"
   },
   {
    "duration": -10354,
    "start_time": "2021-09-02T14:53:08.002Z"
   },
   {
    "duration": -10356,
    "start_time": "2021-09-02T14:53:08.005Z"
   },
   {
    "duration": -10357,
    "start_time": "2021-09-02T14:53:08.007Z"
   },
   {
    "duration": -10359,
    "start_time": "2021-09-02T14:53:08.010Z"
   },
   {
    "duration": -10361,
    "start_time": "2021-09-02T14:53:08.013Z"
   },
   {
    "duration": -10363,
    "start_time": "2021-09-02T14:53:08.016Z"
   },
   {
    "duration": -10366,
    "start_time": "2021-09-02T14:53:08.019Z"
   },
   {
    "duration": -10368,
    "start_time": "2021-09-02T14:53:08.022Z"
   },
   {
    "duration": 272,
    "start_time": "2021-09-02T14:54:15.407Z"
   },
   {
    "duration": 277,
    "start_time": "2021-09-02T14:54:58.496Z"
   },
   {
    "duration": 291,
    "start_time": "2021-09-02T14:55:30.623Z"
   },
   {
    "duration": 268,
    "start_time": "2021-09-02T14:55:56.405Z"
   },
   {
    "duration": 355,
    "start_time": "2021-09-02T14:56:14.895Z"
   },
   {
    "duration": 277,
    "start_time": "2021-09-02T14:56:28.790Z"
   },
   {
    "duration": 280,
    "start_time": "2021-09-02T14:58:12.766Z"
   },
   {
    "duration": 287,
    "start_time": "2021-09-02T14:58:19.997Z"
   },
   {
    "duration": 292,
    "start_time": "2021-09-02T14:58:34.733Z"
   },
   {
    "duration": 281,
    "start_time": "2021-09-02T14:59:01.156Z"
   },
   {
    "duration": 21,
    "start_time": "2021-09-02T15:02:21.674Z"
   },
   {
    "duration": 27,
    "start_time": "2021-09-02T15:03:17.778Z"
   },
   {
    "duration": 27,
    "start_time": "2021-09-02T15:03:49.930Z"
   },
   {
    "duration": 26,
    "start_time": "2021-09-02T15:04:06.937Z"
   },
   {
    "duration": 14,
    "start_time": "2021-09-02T15:04:36.416Z"
   },
   {
    "duration": 9,
    "start_time": "2021-09-02T15:05:37.848Z"
   },
   {
    "duration": 9,
    "start_time": "2021-09-02T15:05:40.680Z"
   },
   {
    "duration": 263,
    "start_time": "2021-09-02T15:05:52.649Z"
   },
   {
    "duration": 3,
    "start_time": "2021-09-02T15:06:59.616Z"
   },
   {
    "duration": 1332,
    "start_time": "2021-09-02T15:06:59.621Z"
   },
   {
    "duration": 64,
    "start_time": "2021-09-02T15:07:00.955Z"
   },
   {
    "duration": 8,
    "start_time": "2021-09-02T15:07:01.021Z"
   },
   {
    "duration": 22,
    "start_time": "2021-09-02T15:07:01.031Z"
   },
   {
    "duration": 16,
    "start_time": "2021-09-02T15:07:01.055Z"
   },
   {
    "duration": 15,
    "start_time": "2021-09-02T15:07:01.073Z"
   },
   {
    "duration": 26,
    "start_time": "2021-09-02T15:07:01.092Z"
   },
   {
    "duration": 17,
    "start_time": "2021-09-02T15:07:01.120Z"
   },
   {
    "duration": 14,
    "start_time": "2021-09-02T15:07:01.139Z"
   },
   {
    "duration": 28,
    "start_time": "2021-09-02T15:07:01.154Z"
   },
   {
    "duration": 66,
    "start_time": "2021-09-02T15:07:01.184Z"
   },
   {
    "duration": 2203,
    "start_time": "2021-09-02T15:07:01.252Z"
   },
   {
    "duration": 9,
    "start_time": "2021-09-02T15:07:03.457Z"
   },
   {
    "duration": 1740,
    "start_time": "2021-09-02T15:07:03.468Z"
   },
   {
    "duration": 305,
    "start_time": "2021-09-02T15:07:05.209Z"
   },
   {
    "duration": 416,
    "start_time": "2021-09-02T15:07:05.515Z"
   },
   {
    "duration": 4,
    "start_time": "2021-09-02T15:07:05.933Z"
   },
   {
    "duration": 16,
    "start_time": "2021-09-02T15:07:05.939Z"
   },
   {
    "duration": 8,
    "start_time": "2021-09-02T15:07:05.957Z"
   },
   {
    "duration": 418,
    "start_time": "2021-09-02T15:07:05.967Z"
   },
   {
    "duration": 16,
    "start_time": "2021-09-02T15:07:06.391Z"
   },
   {
    "duration": 9,
    "start_time": "2021-09-02T15:07:06.411Z"
   },
   {
    "duration": 24,
    "start_time": "2021-09-02T15:07:06.422Z"
   },
   {
    "duration": 283,
    "start_time": "2021-09-02T15:07:06.448Z"
   },
   {
    "duration": 8,
    "start_time": "2021-09-02T15:07:06.733Z"
   },
   {
    "duration": 232,
    "start_time": "2021-09-02T15:07:06.742Z"
   },
   {
    "duration": 224,
    "start_time": "2021-09-02T15:07:06.976Z"
   },
   {
    "duration": 5,
    "start_time": "2021-09-02T15:07:07.202Z"
   },
   {
    "duration": 10,
    "start_time": "2021-09-02T15:07:07.209Z"
   },
   {
    "duration": 2615,
    "start_time": "2021-09-02T15:07:07.221Z"
   },
   {
    "duration": 73,
    "start_time": "2021-09-02T15:07:09.837Z"
   },
   {
    "duration": 52,
    "start_time": "2021-09-02T15:07:09.912Z"
   },
   {
    "duration": 33,
    "start_time": "2021-09-02T15:07:09.966Z"
   },
   {
    "duration": 293,
    "start_time": "2021-09-02T15:07:10.001Z"
   },
   {
    "duration": 9,
    "start_time": "2021-09-02T15:07:10.296Z"
   },
   {
    "duration": 565,
    "start_time": "2021-09-02T15:07:10.307Z"
   },
   {
    "duration": 610,
    "start_time": "2021-09-02T15:07:10.874Z"
   },
   {
    "duration": 589,
    "start_time": "2021-09-02T15:07:11.486Z"
   },
   {
    "duration": 687,
    "start_time": "2021-09-02T15:07:12.077Z"
   },
   {
    "duration": 619,
    "start_time": "2021-09-02T15:07:12.766Z"
   },
   {
    "duration": 571,
    "start_time": "2021-09-02T15:07:13.387Z"
   },
   {
    "duration": 11,
    "start_time": "2021-09-02T15:07:13.959Z"
   },
   {
    "duration": 9,
    "start_time": "2021-09-02T15:07:13.971Z"
   },
   {
    "duration": 7,
    "start_time": "2021-09-02T15:07:13.982Z"
   },
   {
    "duration": 16,
    "start_time": "2021-09-02T15:07:13.992Z"
   },
   {
    "duration": 7,
    "start_time": "2021-09-02T15:07:14.010Z"
   },
   {
    "duration": 8,
    "start_time": "2021-09-02T15:07:14.018Z"
   },
   {
    "duration": 8,
    "start_time": "2021-09-02T15:17:54.148Z"
   },
   {
    "duration": 479,
    "start_time": "2021-09-02T15:18:05.396Z"
   },
   {
    "duration": 491,
    "start_time": "2021-09-02T15:18:11.884Z"
   },
   {
    "duration": 5,
    "start_time": "2021-09-02T15:18:17.235Z"
   },
   {
    "duration": 631,
    "start_time": "2021-09-02T15:28:27.544Z"
   },
   {
    "duration": 385,
    "start_time": "2021-09-02T15:28:49.287Z"
   },
   {
    "duration": 510,
    "start_time": "2021-09-02T15:29:11.049Z"
   },
   {
    "duration": 589,
    "start_time": "2021-09-02T15:29:36.584Z"
   },
   {
    "duration": 380,
    "start_time": "2021-09-02T15:29:43.848Z"
   },
   {
    "duration": 394,
    "start_time": "2021-09-02T15:30:56.245Z"
   },
   {
    "duration": 352,
    "start_time": "2021-09-02T15:35:37.045Z"
   },
   {
    "duration": 352,
    "start_time": "2021-09-02T15:35:44.835Z"
   },
   {
    "duration": 358,
    "start_time": "2021-09-02T15:36:11.501Z"
   },
   {
    "duration": 348,
    "start_time": "2021-09-02T15:36:24.573Z"
   },
   {
    "duration": 365,
    "start_time": "2021-09-02T15:36:33.307Z"
   },
   {
    "duration": 373,
    "start_time": "2021-09-02T15:38:26.754Z"
   },
   {
    "duration": 1589,
    "start_time": "2021-09-02T15:38:32.778Z"
   },
   {
    "duration": 349,
    "start_time": "2021-09-02T15:39:15.500Z"
   },
   {
    "duration": 574,
    "start_time": "2021-09-02T15:42:52.666Z"
   },
   {
    "duration": 2,
    "start_time": "2021-09-02T15:43:23.299Z"
   },
   {
    "duration": 1267,
    "start_time": "2021-09-02T15:43:23.303Z"
   },
   {
    "duration": 62,
    "start_time": "2021-09-02T15:43:24.573Z"
   },
   {
    "duration": 8,
    "start_time": "2021-09-02T15:43:24.636Z"
   },
   {
    "duration": 7,
    "start_time": "2021-09-02T15:43:24.645Z"
   },
   {
    "duration": 9,
    "start_time": "2021-09-02T15:43:24.653Z"
   },
   {
    "duration": 7,
    "start_time": "2021-09-02T15:43:24.663Z"
   },
   {
    "duration": 30,
    "start_time": "2021-09-02T15:43:24.672Z"
   },
   {
    "duration": 14,
    "start_time": "2021-09-02T15:43:24.704Z"
   },
   {
    "duration": 8,
    "start_time": "2021-09-02T15:43:24.719Z"
   },
   {
    "duration": 10,
    "start_time": "2021-09-02T15:43:24.729Z"
   },
   {
    "duration": 82,
    "start_time": "2021-09-02T15:43:24.741Z"
   },
   {
    "duration": 2121,
    "start_time": "2021-09-02T15:43:24.825Z"
   },
   {
    "duration": 9,
    "start_time": "2021-09-02T15:43:26.947Z"
   },
   {
    "duration": 1664,
    "start_time": "2021-09-02T15:43:26.957Z"
   },
   {
    "duration": 241,
    "start_time": "2021-09-02T15:43:28.622Z"
   },
   {
    "duration": 350,
    "start_time": "2021-09-02T15:43:28.865Z"
   },
   {
    "duration": 3,
    "start_time": "2021-09-02T15:43:29.217Z"
   },
   {
    "duration": 14,
    "start_time": "2021-09-02T15:43:29.221Z"
   },
   {
    "duration": 6,
    "start_time": "2021-09-02T15:43:29.237Z"
   },
   {
    "duration": 359,
    "start_time": "2021-09-02T15:43:29.245Z"
   },
   {
    "duration": 12,
    "start_time": "2021-09-02T15:43:29.606Z"
   },
   {
    "duration": 6,
    "start_time": "2021-09-02T15:43:29.621Z"
   },
   {
    "duration": 6,
    "start_time": "2021-09-02T15:43:29.629Z"
   },
   {
    "duration": 364,
    "start_time": "2021-09-02T15:43:29.637Z"
   },
   {
    "duration": 8,
    "start_time": "2021-09-02T15:43:30.002Z"
   },
   {
    "duration": 322,
    "start_time": "2021-09-02T15:43:30.011Z"
   },
   {
    "duration": 316,
    "start_time": "2021-09-02T15:43:30.334Z"
   },
   {
    "duration": 5,
    "start_time": "2021-09-02T15:43:30.651Z"
   },
   {
    "duration": 18,
    "start_time": "2021-09-02T15:43:30.657Z"
   },
   {
    "duration": 2551,
    "start_time": "2021-09-02T15:43:30.676Z"
   },
   {
    "duration": 65,
    "start_time": "2021-09-02T15:43:33.228Z"
   },
   {
    "duration": 58,
    "start_time": "2021-09-02T15:43:33.294Z"
   },
   {
    "duration": 15,
    "start_time": "2021-09-02T15:43:33.354Z"
   },
   {
    "duration": 247,
    "start_time": "2021-09-02T15:43:33.391Z"
   },
   {
    "duration": 8,
    "start_time": "2021-09-02T15:43:33.639Z"
   },
   {
    "duration": 499,
    "start_time": "2021-09-02T15:43:33.649Z"
   },
   {
    "duration": 482,
    "start_time": "2021-09-02T15:43:34.150Z"
   },
   {
    "duration": 493,
    "start_time": "2021-09-02T15:43:34.633Z"
   },
   {
    "duration": 521,
    "start_time": "2021-09-02T15:43:35.127Z"
   },
   {
    "duration": 615,
    "start_time": "2021-09-02T15:43:35.650Z"
   },
   {
    "duration": 512,
    "start_time": "2021-09-02T15:43:36.266Z"
   },
   {
    "duration": 15,
    "start_time": "2021-09-02T15:43:36.779Z"
   },
   {
    "duration": 9,
    "start_time": "2021-09-02T15:43:36.795Z"
   },
   {
    "duration": 9,
    "start_time": "2021-09-02T15:43:36.806Z"
   },
   {
    "duration": 13,
    "start_time": "2021-09-02T15:43:36.817Z"
   },
   {
    "duration": 5,
    "start_time": "2021-09-02T15:43:36.832Z"
   },
   {
    "duration": 9,
    "start_time": "2021-09-02T15:43:36.839Z"
   },
   {
    "duration": 322,
    "start_time": "2021-09-02T15:43:38.342Z"
   },
   {
    "duration": 328,
    "start_time": "2021-09-02T15:43:45.245Z"
   },
   {
    "duration": 432,
    "start_time": "2021-09-02T15:43:55.902Z"
   },
   {
    "duration": 416,
    "start_time": "2021-09-02T15:44:28.813Z"
   },
   {
    "duration": 534,
    "start_time": "2021-09-02T15:51:15.598Z"
   },
   {
    "duration": 291,
    "start_time": "2021-09-03T00:04:14.954Z"
   },
   {
    "duration": 5,
    "start_time": "2021-09-03T00:04:26.142Z"
   },
   {
    "duration": 1483,
    "start_time": "2021-09-03T00:04:26.150Z"
   },
   {
    "duration": 82,
    "start_time": "2021-09-03T00:04:27.636Z"
   },
   {
    "duration": 10,
    "start_time": "2021-09-03T00:04:27.721Z"
   },
   {
    "duration": 30,
    "start_time": "2021-09-03T00:04:27.734Z"
   },
   {
    "duration": 12,
    "start_time": "2021-09-03T00:04:27.766Z"
   },
   {
    "duration": 11,
    "start_time": "2021-09-03T00:04:27.780Z"
   },
   {
    "duration": 26,
    "start_time": "2021-09-03T00:04:27.793Z"
   },
   {
    "duration": 59,
    "start_time": "2021-09-03T00:04:27.824Z"
   },
   {
    "duration": 15,
    "start_time": "2021-09-03T00:04:27.888Z"
   },
   {
    "duration": 18,
    "start_time": "2021-09-03T00:04:27.906Z"
   },
   {
    "duration": 100,
    "start_time": "2021-09-03T00:04:27.962Z"
   },
   {
    "duration": 4138,
    "start_time": "2021-09-03T00:04:28.064Z"
   },
   {
    "duration": 12,
    "start_time": "2021-09-03T00:04:32.204Z"
   },
   {
    "duration": 3264,
    "start_time": "2021-09-03T00:04:32.218Z"
   },
   {
    "duration": 406,
    "start_time": "2021-09-03T00:04:35.485Z"
   },
   {
    "duration": 642,
    "start_time": "2021-09-03T00:04:35.894Z"
   },
   {
    "duration": 459,
    "start_time": "2021-09-03T00:04:36.539Z"
   },
   {
    "duration": 6,
    "start_time": "2021-09-03T00:04:37.001Z"
   },
   {
    "duration": 49,
    "start_time": "2021-09-03T00:04:37.010Z"
   },
   {
    "duration": 22,
    "start_time": "2021-09-03T00:04:37.062Z"
   },
   {
    "duration": 603,
    "start_time": "2021-09-03T00:04:37.087Z"
   },
   {
    "duration": 23,
    "start_time": "2021-09-03T00:04:37.693Z"
   },
   {
    "duration": 12,
    "start_time": "2021-09-03T00:04:37.719Z"
   },
   {
    "duration": 14,
    "start_time": "2021-09-03T00:04:37.762Z"
   },
   {
    "duration": 445,
    "start_time": "2021-09-03T00:04:37.779Z"
   },
   {
    "duration": 32,
    "start_time": "2021-09-03T00:04:38.232Z"
   },
   {
    "duration": 501,
    "start_time": "2021-09-03T00:04:38.268Z"
   },
   {
    "duration": 496,
    "start_time": "2021-09-03T00:04:38.772Z"
   },
   {
    "duration": 6,
    "start_time": "2021-09-03T00:04:39.270Z"
   },
   {
    "duration": 23,
    "start_time": "2021-09-03T00:04:39.279Z"
   },
   {
    "duration": 4537,
    "start_time": "2021-09-03T00:04:39.305Z"
   },
   {
    "duration": 90,
    "start_time": "2021-09-03T00:04:43.844Z"
   },
   {
    "duration": 96,
    "start_time": "2021-09-03T00:04:43.936Z"
   },
   {
    "duration": 44,
    "start_time": "2021-09-03T00:04:44.035Z"
   },
   {
    "duration": 442,
    "start_time": "2021-09-03T00:04:44.082Z"
   },
   {
    "duration": 12,
    "start_time": "2021-09-03T00:04:44.527Z"
   },
   {
    "duration": 854,
    "start_time": "2021-09-03T00:04:44.542Z"
   },
   {
    "duration": 869,
    "start_time": "2021-09-03T00:04:45.398Z"
   },
   {
    "duration": 856,
    "start_time": "2021-09-03T00:04:46.270Z"
   },
   {
    "duration": 974,
    "start_time": "2021-09-03T00:04:47.128Z"
   },
   {
    "duration": 900,
    "start_time": "2021-09-03T00:04:48.104Z"
   },
   {
    "duration": 883,
    "start_time": "2021-09-03T00:04:49.007Z"
   },
   {
    "duration": 15,
    "start_time": "2021-09-03T00:04:49.892Z"
   },
   {
    "duration": 7,
    "start_time": "2021-09-03T00:04:49.910Z"
   },
   {
    "duration": 8,
    "start_time": "2021-09-03T00:04:49.920Z"
   },
   {
    "duration": 19,
    "start_time": "2021-09-03T00:04:49.963Z"
   },
   {
    "duration": 8,
    "start_time": "2021-09-03T00:04:49.985Z"
   },
   {
    "duration": 9,
    "start_time": "2021-09-03T00:04:49.996Z"
   },
   {
    "duration": 499,
    "start_time": "2021-09-03T00:05:19.763Z"
   },
   {
    "duration": 426,
    "start_time": "2021-09-03T00:05:41.319Z"
   },
   {
    "duration": 492,
    "start_time": "2021-09-03T00:05:47.599Z"
   },
   {
    "duration": 488,
    "start_time": "2021-09-03T00:06:11.358Z"
   },
   {
    "duration": 468,
    "start_time": "2021-09-03T00:06:22.911Z"
   },
   {
    "duration": 470,
    "start_time": "2021-09-03T00:06:38.740Z"
   },
   {
    "duration": 284,
    "start_time": "2021-09-03T00:07:25.429Z"
   },
   {
    "duration": 633,
    "start_time": "2021-09-03T00:08:48.826Z"
   },
   {
    "duration": 537,
    "start_time": "2021-09-03T00:09:24.871Z"
   },
   {
    "duration": 956,
    "start_time": "2021-09-03T00:09:41.770Z"
   },
   {
    "duration": 470,
    "start_time": "2021-09-03T00:10:38.111Z"
   },
   {
    "duration": 923,
    "start_time": "2021-09-03T00:12:04.468Z"
   },
   {
    "duration": 530,
    "start_time": "2021-09-03T00:12:13.467Z"
   },
   {
    "duration": 4,
    "start_time": "2021-09-03T00:13:07.882Z"
   },
   {
    "duration": 1341,
    "start_time": "2021-09-03T00:13:07.889Z"
   },
   {
    "duration": 83,
    "start_time": "2021-09-03T00:13:09.233Z"
   },
   {
    "duration": 10,
    "start_time": "2021-09-03T00:13:09.319Z"
   },
   {
    "duration": 31,
    "start_time": "2021-09-03T00:13:09.332Z"
   },
   {
    "duration": 23,
    "start_time": "2021-09-03T00:13:09.365Z"
   },
   {
    "duration": 18,
    "start_time": "2021-09-03T00:13:09.390Z"
   },
   {
    "duration": 44,
    "start_time": "2021-09-03T00:13:09.410Z"
   },
   {
    "duration": 26,
    "start_time": "2021-09-03T00:13:09.458Z"
   },
   {
    "duration": 17,
    "start_time": "2021-09-03T00:13:09.488Z"
   },
   {
    "duration": 17,
    "start_time": "2021-09-03T00:13:09.508Z"
   },
   {
    "duration": 128,
    "start_time": "2021-09-03T00:13:09.527Z"
   },
   {
    "duration": 4069,
    "start_time": "2021-09-03T00:13:09.662Z"
   },
   {
    "duration": 28,
    "start_time": "2021-09-03T00:13:13.733Z"
   },
   {
    "duration": 3202,
    "start_time": "2021-09-03T00:13:13.764Z"
   },
   {
    "duration": 431,
    "start_time": "2021-09-03T00:13:16.969Z"
   },
   {
    "duration": 684,
    "start_time": "2021-09-03T00:13:17.403Z"
   },
   {
    "duration": 448,
    "start_time": "2021-09-03T00:13:18.090Z"
   },
   {
    "duration": 4,
    "start_time": "2021-09-03T00:13:18.541Z"
   },
   {
    "duration": 17,
    "start_time": "2021-09-03T00:13:18.561Z"
   },
   {
    "duration": 8,
    "start_time": "2021-09-03T00:13:18.580Z"
   },
   {
    "duration": 636,
    "start_time": "2021-09-03T00:13:18.590Z"
   },
   {
    "duration": 40,
    "start_time": "2021-09-03T00:13:19.229Z"
   },
   {
    "duration": 11,
    "start_time": "2021-09-03T00:13:19.273Z"
   },
   {
    "duration": 11,
    "start_time": "2021-09-03T00:13:19.286Z"
   },
   {
    "duration": 479,
    "start_time": "2021-09-03T00:13:19.299Z"
   },
   {
    "duration": 10,
    "start_time": "2021-09-03T00:13:19.783Z"
   },
   {
    "duration": 537,
    "start_time": "2021-09-03T00:13:19.797Z"
   },
   {
    "duration": 647,
    "start_time": "2021-09-03T00:13:20.337Z"
   },
   {
    "duration": 7,
    "start_time": "2021-09-03T00:13:20.986Z"
   },
   {
    "duration": 14,
    "start_time": "2021-09-03T00:13:20.996Z"
   },
   {
    "duration": 3908,
    "start_time": "2021-09-03T00:13:21.012Z"
   },
   {
    "duration": 100,
    "start_time": "2021-09-03T00:13:24.922Z"
   },
   {
    "duration": 99,
    "start_time": "2021-09-03T00:13:25.024Z"
   },
   {
    "duration": 40,
    "start_time": "2021-09-03T00:13:25.125Z"
   },
   {
    "duration": 481,
    "start_time": "2021-09-03T00:13:25.167Z"
   },
   {
    "duration": 20,
    "start_time": "2021-09-03T00:13:25.651Z"
   },
   {
    "duration": 914,
    "start_time": "2021-09-03T00:13:25.674Z"
   },
   {
    "duration": 1050,
    "start_time": "2021-09-03T00:13:26.590Z"
   },
   {
    "duration": 963,
    "start_time": "2021-09-03T00:13:27.643Z"
   },
   {
    "duration": 956,
    "start_time": "2021-09-03T00:13:28.608Z"
   },
   {
    "duration": 1008,
    "start_time": "2021-09-03T00:13:29.567Z"
   },
   {
    "duration": 993,
    "start_time": "2021-09-03T00:13:30.577Z"
   },
   {
    "duration": 15,
    "start_time": "2021-09-03T00:13:31.573Z"
   },
   {
    "duration": 11,
    "start_time": "2021-09-03T00:13:31.590Z"
   },
   {
    "duration": 11,
    "start_time": "2021-09-03T00:13:31.603Z"
   },
   {
    "duration": 48,
    "start_time": "2021-09-03T00:13:31.616Z"
   },
   {
    "duration": 25,
    "start_time": "2021-09-03T00:13:31.667Z"
   },
   {
    "duration": 14,
    "start_time": "2021-09-03T00:13:31.695Z"
   },
   {
    "duration": 637,
    "start_time": "2021-09-03T00:15:15.916Z"
   },
   {
    "duration": 4,
    "start_time": "2021-09-03T00:16:01.947Z"
   },
   {
    "duration": 1480,
    "start_time": "2021-09-03T00:16:01.954Z"
   },
   {
    "duration": 84,
    "start_time": "2021-09-03T00:16:03.437Z"
   },
   {
    "duration": 12,
    "start_time": "2021-09-03T00:16:03.524Z"
   },
   {
    "duration": 29,
    "start_time": "2021-09-03T00:16:03.539Z"
   },
   {
    "duration": 14,
    "start_time": "2021-09-03T00:16:03.570Z"
   },
   {
    "duration": 13,
    "start_time": "2021-09-03T00:16:03.587Z"
   },
   {
    "duration": 37,
    "start_time": "2021-09-03T00:16:03.602Z"
   },
   {
    "duration": 41,
    "start_time": "2021-09-03T00:16:03.643Z"
   },
   {
    "duration": 13,
    "start_time": "2021-09-03T00:16:03.688Z"
   },
   {
    "duration": 18,
    "start_time": "2021-09-03T00:16:03.704Z"
   },
   {
    "duration": 122,
    "start_time": "2021-09-03T00:16:03.725Z"
   },
   {
    "duration": 4115,
    "start_time": "2021-09-03T00:16:03.849Z"
   },
   {
    "duration": 12,
    "start_time": "2021-09-03T00:16:07.967Z"
   },
   {
    "duration": 3327,
    "start_time": "2021-09-03T00:16:07.982Z"
   },
   {
    "duration": 754,
    "start_time": "2021-09-03T00:16:11.311Z"
   },
   {
    "duration": 733,
    "start_time": "2021-09-03T00:16:12.067Z"
   },
   {
    "duration": 468,
    "start_time": "2021-09-03T00:16:12.802Z"
   },
   {
    "duration": 5,
    "start_time": "2021-09-03T00:16:13.272Z"
   },
   {
    "duration": 31,
    "start_time": "2021-09-03T00:16:13.279Z"
   },
   {
    "duration": 9,
    "start_time": "2021-09-03T00:16:13.313Z"
   },
   {
    "duration": 658,
    "start_time": "2021-09-03T00:16:13.324Z"
   },
   {
    "duration": 22,
    "start_time": "2021-09-03T00:16:13.984Z"
   },
   {
    "duration": 10,
    "start_time": "2021-09-03T00:16:14.009Z"
   },
   {
    "duration": 42,
    "start_time": "2021-09-03T00:16:14.022Z"
   },
   {
    "duration": 490,
    "start_time": "2021-09-03T00:16:14.067Z"
   },
   {
    "duration": 11,
    "start_time": "2021-09-03T00:16:14.566Z"
   },
   {
    "duration": 505,
    "start_time": "2021-09-03T00:16:14.580Z"
   },
   {
    "duration": 705,
    "start_time": "2021-09-03T00:16:15.087Z"
   },
   {
    "duration": 7,
    "start_time": "2021-09-03T00:16:15.795Z"
   },
   {
    "duration": 65,
    "start_time": "2021-09-03T00:16:15.805Z"
   },
   {
    "duration": 3944,
    "start_time": "2021-09-03T00:16:15.873Z"
   },
   {
    "duration": 100,
    "start_time": "2021-09-03T00:16:19.819Z"
   },
   {
    "duration": 97,
    "start_time": "2021-09-03T00:16:19.922Z"
   },
   {
    "duration": 46,
    "start_time": "2021-09-03T00:16:20.021Z"
   },
   {
    "duration": 493,
    "start_time": "2021-09-03T00:16:20.069Z"
   },
   {
    "duration": 13,
    "start_time": "2021-09-03T00:16:20.564Z"
   },
   {
    "duration": 946,
    "start_time": "2021-09-03T00:16:20.580Z"
   },
   {
    "duration": 1067,
    "start_time": "2021-09-03T00:16:21.529Z"
   },
   {
    "duration": 989,
    "start_time": "2021-09-03T00:16:22.598Z"
   },
   {
    "duration": 976,
    "start_time": "2021-09-03T00:16:23.590Z"
   },
   {
    "duration": 989,
    "start_time": "2021-09-03T00:16:24.569Z"
   },
   {
    "duration": 973,
    "start_time": "2021-09-03T00:16:25.562Z"
   },
   {
    "duration": 25,
    "start_time": "2021-09-03T00:16:26.538Z"
   },
   {
    "duration": 11,
    "start_time": "2021-09-03T00:16:26.566Z"
   },
   {
    "duration": 9,
    "start_time": "2021-09-03T00:16:26.579Z"
   },
   {
    "duration": 18,
    "start_time": "2021-09-03T00:16:26.591Z"
   },
   {
    "duration": 4,
    "start_time": "2021-09-03T00:16:26.612Z"
   },
   {
    "duration": 45,
    "start_time": "2021-09-03T00:16:26.619Z"
   },
   {
    "duration": 661,
    "start_time": "2021-09-03T00:16:35.841Z"
   },
   {
    "duration": 4,
    "start_time": "2021-09-03T00:16:51.407Z"
   },
   {
    "duration": 1399,
    "start_time": "2021-09-03T00:16:51.415Z"
   },
   {
    "duration": 82,
    "start_time": "2021-09-03T00:16:52.817Z"
   },
   {
    "duration": 12,
    "start_time": "2021-09-03T00:16:52.902Z"
   },
   {
    "duration": 13,
    "start_time": "2021-09-03T00:16:52.917Z"
   },
   {
    "duration": 33,
    "start_time": "2021-09-03T00:16:52.932Z"
   },
   {
    "duration": 10,
    "start_time": "2021-09-03T00:16:52.968Z"
   },
   {
    "duration": 25,
    "start_time": "2021-09-03T00:16:52.981Z"
   },
   {
    "duration": 52,
    "start_time": "2021-09-03T00:16:53.010Z"
   },
   {
    "duration": 14,
    "start_time": "2021-09-03T00:16:53.065Z"
   },
   {
    "duration": 17,
    "start_time": "2021-09-03T00:16:53.081Z"
   },
   {
    "duration": 127,
    "start_time": "2021-09-03T00:16:53.100Z"
   },
   {
    "duration": 4122,
    "start_time": "2021-09-03T00:16:53.229Z"
   },
   {
    "duration": 16,
    "start_time": "2021-09-03T00:16:57.353Z"
   },
   {
    "duration": 3321,
    "start_time": "2021-09-03T00:16:57.372Z"
   },
   {
    "duration": 518,
    "start_time": "2021-09-03T00:17:00.696Z"
   },
   {
    "duration": 712,
    "start_time": "2021-09-03T00:17:01.217Z"
   },
   {
    "duration": 449,
    "start_time": "2021-09-03T00:17:01.931Z"
   },
   {
    "duration": 5,
    "start_time": "2021-09-03T00:17:02.383Z"
   },
   {
    "duration": 57,
    "start_time": "2021-09-03T00:17:02.391Z"
   },
   {
    "duration": 22,
    "start_time": "2021-09-03T00:17:02.450Z"
   },
   {
    "duration": 642,
    "start_time": "2021-09-03T00:17:02.475Z"
   },
   {
    "duration": 20,
    "start_time": "2021-09-03T00:17:03.120Z"
   },
   {
    "duration": 27,
    "start_time": "2021-09-03T00:17:03.142Z"
   },
   {
    "duration": 15,
    "start_time": "2021-09-03T00:17:03.171Z"
   },
   {
    "duration": 474,
    "start_time": "2021-09-03T00:17:03.188Z"
   },
   {
    "duration": 11,
    "start_time": "2021-09-03T00:17:03.669Z"
   },
   {
    "duration": 504,
    "start_time": "2021-09-03T00:17:03.683Z"
   },
   {
    "duration": 593,
    "start_time": "2021-09-03T00:17:04.189Z"
   },
   {
    "duration": 7,
    "start_time": "2021-09-03T00:17:04.784Z"
   },
   {
    "duration": 13,
    "start_time": "2021-09-03T00:17:04.794Z"
   },
   {
    "duration": 4413,
    "start_time": "2021-09-03T00:17:04.811Z"
   },
   {
    "duration": 98,
    "start_time": "2021-09-03T00:17:09.227Z"
   },
   {
    "duration": 95,
    "start_time": "2021-09-03T00:17:09.327Z"
   },
   {
    "duration": 44,
    "start_time": "2021-09-03T00:17:09.424Z"
   },
   {
    "duration": 486,
    "start_time": "2021-09-03T00:17:09.471Z"
   },
   {
    "duration": 13,
    "start_time": "2021-09-03T00:17:09.962Z"
   },
   {
    "duration": 935,
    "start_time": "2021-09-03T00:17:09.977Z"
   },
   {
    "duration": 1082,
    "start_time": "2021-09-03T00:17:10.914Z"
   },
   {
    "duration": 955,
    "start_time": "2021-09-03T00:17:11.999Z"
   },
   {
    "duration": 963,
    "start_time": "2021-09-03T00:17:12.956Z"
   },
   {
    "duration": 968,
    "start_time": "2021-09-03T00:17:13.921Z"
   },
   {
    "duration": 971,
    "start_time": "2021-09-03T00:17:14.891Z"
   },
   {
    "duration": 14,
    "start_time": "2021-09-03T00:17:15.864Z"
   },
   {
    "duration": 8,
    "start_time": "2021-09-03T00:17:15.881Z"
   },
   {
    "duration": 12,
    "start_time": "2021-09-03T00:17:15.892Z"
   },
   {
    "duration": 21,
    "start_time": "2021-09-03T00:17:15.907Z"
   },
   {
    "duration": 33,
    "start_time": "2021-09-03T00:17:15.930Z"
   },
   {
    "duration": 7,
    "start_time": "2021-09-03T00:17:15.965Z"
   },
   {
    "duration": 900,
    "start_time": "2021-09-03T00:17:59.374Z"
   },
   {
    "duration": 641,
    "start_time": "2021-09-03T00:18:09.207Z"
   },
   {
    "duration": 801,
    "start_time": "2021-09-03T00:18:24.631Z"
   },
   {
    "duration": 4,
    "start_time": "2021-09-03T00:18:38.315Z"
   },
   {
    "duration": 1394,
    "start_time": "2021-09-03T00:18:38.322Z"
   },
   {
    "duration": 85,
    "start_time": "2021-09-03T00:18:39.719Z"
   },
   {
    "duration": 12,
    "start_time": "2021-09-03T00:18:39.807Z"
   },
   {
    "duration": 10,
    "start_time": "2021-09-03T00:18:39.822Z"
   },
   {
    "duration": 32,
    "start_time": "2021-09-03T00:18:39.835Z"
   },
   {
    "duration": 13,
    "start_time": "2021-09-03T00:18:39.870Z"
   },
   {
    "duration": 23,
    "start_time": "2021-09-03T00:18:39.887Z"
   },
   {
    "duration": 57,
    "start_time": "2021-09-03T00:18:39.913Z"
   },
   {
    "duration": 13,
    "start_time": "2021-09-03T00:18:39.972Z"
   },
   {
    "duration": 17,
    "start_time": "2021-09-03T00:18:39.987Z"
   },
   {
    "duration": 127,
    "start_time": "2021-09-03T00:18:40.006Z"
   },
   {
    "duration": 4079,
    "start_time": "2021-09-03T00:18:40.135Z"
   },
   {
    "duration": 12,
    "start_time": "2021-09-03T00:18:44.216Z"
   },
   {
    "duration": 3862,
    "start_time": "2021-09-03T00:18:44.230Z"
   },
   {
    "duration": 493,
    "start_time": "2021-09-03T00:18:48.096Z"
   },
   {
    "duration": 723,
    "start_time": "2021-09-03T00:18:48.592Z"
   },
   {
    "duration": 464,
    "start_time": "2021-09-03T00:18:49.318Z"
   },
   {
    "duration": 6,
    "start_time": "2021-09-03T00:18:49.785Z"
   },
   {
    "duration": 31,
    "start_time": "2021-09-03T00:18:49.794Z"
   },
   {
    "duration": 10,
    "start_time": "2021-09-03T00:18:49.828Z"
   },
   {
    "duration": 658,
    "start_time": "2021-09-03T00:18:49.863Z"
   },
   {
    "duration": 39,
    "start_time": "2021-09-03T00:18:50.529Z"
   },
   {
    "duration": 13,
    "start_time": "2021-09-03T00:18:50.572Z"
   },
   {
    "duration": 13,
    "start_time": "2021-09-03T00:18:50.588Z"
   },
   {
    "duration": 571,
    "start_time": "2021-09-03T00:18:50.603Z"
   },
   {
    "duration": 10,
    "start_time": "2021-09-03T00:18:51.177Z"
   },
   {
    "duration": 525,
    "start_time": "2021-09-03T00:18:51.189Z"
   },
   {
    "duration": 780,
    "start_time": "2021-09-03T00:18:51.716Z"
   },
   {
    "duration": 7,
    "start_time": "2021-09-03T00:18:52.498Z"
   },
   {
    "duration": 58,
    "start_time": "2021-09-03T00:18:52.507Z"
   },
   {
    "duration": 3767,
    "start_time": "2021-09-03T00:18:52.567Z"
   },
   {
    "duration": 92,
    "start_time": "2021-09-03T00:18:56.337Z"
   },
   {
    "duration": 98,
    "start_time": "2021-09-03T00:18:56.431Z"
   },
   {
    "duration": 39,
    "start_time": "2021-09-03T00:18:56.531Z"
   },
   {
    "duration": 479,
    "start_time": "2021-09-03T00:18:56.572Z"
   },
   {
    "duration": 12,
    "start_time": "2021-09-03T00:18:57.054Z"
   },
   {
    "duration": 945,
    "start_time": "2021-09-03T00:18:57.068Z"
   },
   {
    "duration": 1003,
    "start_time": "2021-09-03T00:18:58.015Z"
   },
   {
    "duration": 949,
    "start_time": "2021-09-03T00:18:59.020Z"
   },
   {
    "duration": 957,
    "start_time": "2021-09-03T00:18:59.971Z"
   },
   {
    "duration": 961,
    "start_time": "2021-09-03T00:19:00.930Z"
   },
   {
    "duration": 946,
    "start_time": "2021-09-03T00:19:01.893Z"
   },
   {
    "duration": 25,
    "start_time": "2021-09-03T00:19:02.841Z"
   },
   {
    "duration": 6,
    "start_time": "2021-09-03T00:19:02.869Z"
   },
   {
    "duration": 17,
    "start_time": "2021-09-03T00:19:02.877Z"
   },
   {
    "duration": 30,
    "start_time": "2021-09-03T00:19:02.897Z"
   },
   {
    "duration": 6,
    "start_time": "2021-09-03T00:19:02.929Z"
   },
   {
    "duration": 9,
    "start_time": "2021-09-03T00:19:02.962Z"
   },
   {
    "duration": 338,
    "start_time": "2021-09-03T09:32:39.548Z"
   },
   {
    "duration": 4,
    "start_time": "2021-09-03T09:33:01.866Z"
   },
   {
    "duration": 1437,
    "start_time": "2021-09-03T09:33:01.874Z"
   },
   {
    "duration": 88,
    "start_time": "2021-09-03T09:33:03.314Z"
   },
   {
    "duration": 14,
    "start_time": "2021-09-03T09:33:03.405Z"
   },
   {
    "duration": 37,
    "start_time": "2021-09-03T09:33:03.422Z"
   },
   {
    "duration": 13,
    "start_time": "2021-09-03T09:33:03.462Z"
   },
   {
    "duration": 13,
    "start_time": "2021-09-03T09:33:03.479Z"
   },
   {
    "duration": 26,
    "start_time": "2021-09-03T09:33:03.497Z"
   },
   {
    "duration": 26,
    "start_time": "2021-09-03T09:33:03.557Z"
   },
   {
    "duration": 16,
    "start_time": "2021-09-03T09:33:03.586Z"
   },
   {
    "duration": 56,
    "start_time": "2021-09-03T09:33:03.605Z"
   },
   {
    "duration": 109,
    "start_time": "2021-09-03T09:33:03.663Z"
   },
   {
    "duration": 4253,
    "start_time": "2021-09-03T09:33:03.774Z"
   },
   {
    "duration": 16,
    "start_time": "2021-09-03T09:33:08.030Z"
   },
   {
    "duration": 3428,
    "start_time": "2021-09-03T09:33:08.055Z"
   },
   {
    "duration": 526,
    "start_time": "2021-09-03T09:33:11.485Z"
   },
   {
    "duration": 408,
    "start_time": "2021-09-03T09:33:12.014Z"
   },
   {
    "duration": -10311,
    "start_time": "2021-09-03T09:33:22.736Z"
   },
   {
    "duration": -10312,
    "start_time": "2021-09-03T09:33:22.739Z"
   },
   {
    "duration": -10314,
    "start_time": "2021-09-03T09:33:22.742Z"
   },
   {
    "duration": -10315,
    "start_time": "2021-09-03T09:33:22.745Z"
   },
   {
    "duration": -10316,
    "start_time": "2021-09-03T09:33:22.747Z"
   },
   {
    "duration": -10324,
    "start_time": "2021-09-03T09:33:22.756Z"
   },
   {
    "duration": -10325,
    "start_time": "2021-09-03T09:33:22.758Z"
   },
   {
    "duration": -10327,
    "start_time": "2021-09-03T09:33:22.762Z"
   },
   {
    "duration": -10328,
    "start_time": "2021-09-03T09:33:22.764Z"
   },
   {
    "duration": -10330,
    "start_time": "2021-09-03T09:33:22.767Z"
   },
   {
    "duration": -10334,
    "start_time": "2021-09-03T09:33:22.772Z"
   },
   {
    "duration": -10334,
    "start_time": "2021-09-03T09:33:22.774Z"
   },
   {
    "duration": -10336,
    "start_time": "2021-09-03T09:33:22.777Z"
   },
   {
    "duration": -10337,
    "start_time": "2021-09-03T09:33:22.779Z"
   },
   {
    "duration": -10338,
    "start_time": "2021-09-03T09:33:22.782Z"
   },
   {
    "duration": -10340,
    "start_time": "2021-09-03T09:33:22.785Z"
   },
   {
    "duration": -10359,
    "start_time": "2021-09-03T09:33:22.805Z"
   },
   {
    "duration": -10365,
    "start_time": "2021-09-03T09:33:22.812Z"
   },
   {
    "duration": -10367,
    "start_time": "2021-09-03T09:33:22.815Z"
   },
   {
    "duration": -10368,
    "start_time": "2021-09-03T09:33:22.818Z"
   },
   {
    "duration": -10370,
    "start_time": "2021-09-03T09:33:22.821Z"
   },
   {
    "duration": -10371,
    "start_time": "2021-09-03T09:33:22.823Z"
   },
   {
    "duration": -10372,
    "start_time": "2021-09-03T09:33:22.825Z"
   },
   {
    "duration": -10373,
    "start_time": "2021-09-03T09:33:22.828Z"
   },
   {
    "duration": -10375,
    "start_time": "2021-09-03T09:33:22.831Z"
   },
   {
    "duration": -10376,
    "start_time": "2021-09-03T09:33:22.833Z"
   },
   {
    "duration": -10377,
    "start_time": "2021-09-03T09:33:22.835Z"
   },
   {
    "duration": -10378,
    "start_time": "2021-09-03T09:33:22.838Z"
   },
   {
    "duration": -10379,
    "start_time": "2021-09-03T09:33:22.840Z"
   },
   {
    "duration": -10380,
    "start_time": "2021-09-03T09:33:22.842Z"
   },
   {
    "duration": -10382,
    "start_time": "2021-09-03T09:33:22.845Z"
   },
   {
    "duration": -10382,
    "start_time": "2021-09-03T09:33:22.847Z"
   },
   {
    "duration": 829,
    "start_time": "2021-09-03T09:33:28.649Z"
   },
   {
    "duration": 747,
    "start_time": "2021-09-03T09:34:57.895Z"
   },
   {
    "duration": 697,
    "start_time": "2021-09-03T09:35:05.367Z"
   },
   {
    "duration": 4,
    "start_time": "2021-09-03T09:35:43.920Z"
   },
   {
    "duration": 1484,
    "start_time": "2021-09-03T09:35:43.927Z"
   },
   {
    "duration": 83,
    "start_time": "2021-09-03T09:35:45.414Z"
   },
   {
    "duration": 12,
    "start_time": "2021-09-03T09:35:45.500Z"
   },
   {
    "duration": 21,
    "start_time": "2021-09-03T09:35:45.514Z"
   },
   {
    "duration": 22,
    "start_time": "2021-09-03T09:35:45.538Z"
   },
   {
    "duration": 35,
    "start_time": "2021-09-03T09:35:45.562Z"
   },
   {
    "duration": 40,
    "start_time": "2021-09-03T09:35:45.601Z"
   },
   {
    "duration": 25,
    "start_time": "2021-09-03T09:35:45.644Z"
   },
   {
    "duration": 18,
    "start_time": "2021-09-03T09:35:45.672Z"
   },
   {
    "duration": 28,
    "start_time": "2021-09-03T09:35:45.693Z"
   },
   {
    "duration": 105,
    "start_time": "2021-09-03T09:35:45.723Z"
   },
   {
    "duration": 4217,
    "start_time": "2021-09-03T09:35:45.830Z"
   },
   {
    "duration": 13,
    "start_time": "2021-09-03T09:35:50.050Z"
   },
   {
    "duration": 3567,
    "start_time": "2021-09-03T09:35:50.065Z"
   },
   {
    "duration": 509,
    "start_time": "2021-09-03T09:35:53.635Z"
   },
   {
    "duration": 788,
    "start_time": "2021-09-03T09:35:54.154Z"
   },
   {
    "duration": 481,
    "start_time": "2021-09-03T09:35:54.944Z"
   },
   {
    "duration": 5,
    "start_time": "2021-09-03T09:35:55.428Z"
   },
   {
    "duration": 59,
    "start_time": "2021-09-03T09:35:55.435Z"
   },
   {
    "duration": 25,
    "start_time": "2021-09-03T09:35:55.497Z"
   },
   {
    "duration": 776,
    "start_time": "2021-09-03T09:35:55.524Z"
   },
   {
    "duration": 22,
    "start_time": "2021-09-03T09:35:56.308Z"
   },
   {
    "duration": 11,
    "start_time": "2021-09-03T09:35:56.353Z"
   },
   {
    "duration": 29,
    "start_time": "2021-09-03T09:35:56.366Z"
   },
   {
    "duration": 460,
    "start_time": "2021-09-03T09:35:56.398Z"
   },
   {
    "duration": 13,
    "start_time": "2021-09-03T09:35:56.862Z"
   },
   {
    "duration": 507,
    "start_time": "2021-09-03T09:35:56.878Z"
   },
   {
    "duration": 592,
    "start_time": "2021-09-03T09:35:57.388Z"
   },
   {
    "duration": 6,
    "start_time": "2021-09-03T09:35:57.982Z"
   },
   {
    "duration": 29,
    "start_time": "2021-09-03T09:35:57.991Z"
   },
   {
    "duration": 4317,
    "start_time": "2021-09-03T09:35:58.023Z"
   },
   {
    "duration": 85,
    "start_time": "2021-09-03T09:36:02.342Z"
   },
   {
    "duration": 100,
    "start_time": "2021-09-03T09:36:02.430Z"
   },
   {
    "duration": 39,
    "start_time": "2021-09-03T09:36:02.533Z"
   },
   {
    "duration": 484,
    "start_time": "2021-09-03T09:36:02.574Z"
   },
   {
    "duration": 11,
    "start_time": "2021-09-03T09:36:03.060Z"
   },
   {
    "duration": 949,
    "start_time": "2021-09-03T09:36:03.073Z"
   },
   {
    "duration": 1063,
    "start_time": "2021-09-03T09:36:04.025Z"
   },
   {
    "duration": 936,
    "start_time": "2021-09-03T09:36:05.090Z"
   },
   {
    "duration": 1052,
    "start_time": "2021-09-03T09:36:06.029Z"
   },
   {
    "duration": 960,
    "start_time": "2021-09-03T09:36:07.083Z"
   },
   {
    "duration": 942,
    "start_time": "2021-09-03T09:36:08.046Z"
   },
   {
    "duration": 16,
    "start_time": "2021-09-03T09:36:08.991Z"
   },
   {
    "duration": 29,
    "start_time": "2021-09-03T09:36:09.009Z"
   },
   {
    "duration": 30,
    "start_time": "2021-09-03T09:36:09.040Z"
   },
   {
    "duration": 50,
    "start_time": "2021-09-03T09:36:09.072Z"
   },
   {
    "duration": 30,
    "start_time": "2021-09-03T09:36:09.125Z"
   },
   {
    "duration": 34,
    "start_time": "2021-09-03T09:36:09.158Z"
   },
   {
    "duration": 387,
    "start_time": "2021-09-03T09:59:21.311Z"
   },
   {
    "duration": 374,
    "start_time": "2021-09-03T09:59:37.574Z"
   },
   {
    "duration": 490,
    "start_time": "2021-09-03T09:59:48.022Z"
   },
   {
    "duration": 642,
    "start_time": "2021-09-03T10:01:22.679Z"
   },
   {
    "duration": 633,
    "start_time": "2021-09-03T10:01:52.582Z"
   },
   {
    "duration": 4,
    "start_time": "2021-09-03T10:02:17.743Z"
   },
   {
    "duration": 1469,
    "start_time": "2021-09-03T10:02:17.749Z"
   },
   {
    "duration": 94,
    "start_time": "2021-09-03T10:02:19.222Z"
   },
   {
    "duration": 15,
    "start_time": "2021-09-03T10:02:19.320Z"
   },
   {
    "duration": 16,
    "start_time": "2021-09-03T10:02:19.356Z"
   },
   {
    "duration": 10,
    "start_time": "2021-09-03T10:02:19.374Z"
   },
   {
    "duration": 13,
    "start_time": "2021-09-03T10:02:19.387Z"
   },
   {
    "duration": 74,
    "start_time": "2021-09-03T10:02:19.406Z"
   },
   {
    "duration": 25,
    "start_time": "2021-09-03T10:02:19.483Z"
   },
   {
    "duration": 15,
    "start_time": "2021-09-03T10:02:19.510Z"
   },
   {
    "duration": 43,
    "start_time": "2021-09-03T10:02:19.527Z"
   },
   {
    "duration": 124,
    "start_time": "2021-09-03T10:02:19.574Z"
   },
   {
    "duration": 4520,
    "start_time": "2021-09-03T10:02:19.701Z"
   },
   {
    "duration": 14,
    "start_time": "2021-09-03T10:02:24.224Z"
   },
   {
    "duration": 3656,
    "start_time": "2021-09-03T10:02:24.259Z"
   },
   {
    "duration": 540,
    "start_time": "2021-09-03T10:02:27.918Z"
   },
   {
    "duration": 772,
    "start_time": "2021-09-03T10:02:28.461Z"
   },
   {
    "duration": 627,
    "start_time": "2021-09-03T10:02:29.235Z"
   },
   {
    "duration": 499,
    "start_time": "2021-09-03T10:02:29.865Z"
   },
   {
    "duration": 5,
    "start_time": "2021-09-03T10:02:30.366Z"
   },
   {
    "duration": 45,
    "start_time": "2021-09-03T10:02:30.374Z"
   },
   {
    "duration": 47,
    "start_time": "2021-09-03T10:02:30.422Z"
   },
   {
    "duration": 707,
    "start_time": "2021-09-03T10:02:30.477Z"
   },
   {
    "duration": 23,
    "start_time": "2021-09-03T10:02:31.188Z"
   },
   {
    "duration": 51,
    "start_time": "2021-09-03T10:02:31.214Z"
   },
   {
    "duration": 12,
    "start_time": "2021-09-03T10:02:31.267Z"
   },
   {
    "duration": 488,
    "start_time": "2021-09-03T10:02:31.282Z"
   },
   {
    "duration": 10,
    "start_time": "2021-09-03T10:02:31.773Z"
   },
   {
    "duration": 609,
    "start_time": "2021-09-03T10:02:31.785Z"
   },
   {
    "duration": 554,
    "start_time": "2021-09-03T10:02:32.396Z"
   },
   {
    "duration": 8,
    "start_time": "2021-09-03T10:02:32.957Z"
   },
   {
    "duration": 18,
    "start_time": "2021-09-03T10:02:32.967Z"
   },
   {
    "duration": 3977,
    "start_time": "2021-09-03T10:02:32.988Z"
   },
   {
    "duration": 113,
    "start_time": "2021-09-03T10:02:36.968Z"
   },
   {
    "duration": 104,
    "start_time": "2021-09-03T10:02:37.083Z"
   },
   {
    "duration": 24,
    "start_time": "2021-09-03T10:02:37.189Z"
   },
   {
    "duration": 521,
    "start_time": "2021-09-03T10:02:37.216Z"
   },
   {
    "duration": 17,
    "start_time": "2021-09-03T10:02:37.740Z"
   },
   {
    "duration": 986,
    "start_time": "2021-09-03T10:02:37.761Z"
   },
   {
    "duration": 1112,
    "start_time": "2021-09-03T10:02:38.753Z"
   },
   {
    "duration": 1033,
    "start_time": "2021-09-03T10:02:39.868Z"
   },
   {
    "duration": 1001,
    "start_time": "2021-09-03T10:02:40.904Z"
   },
   {
    "duration": 1077,
    "start_time": "2021-09-03T10:02:41.907Z"
   },
   {
    "duration": 986,
    "start_time": "2021-09-03T10:02:42.986Z"
   },
   {
    "duration": 15,
    "start_time": "2021-09-03T10:02:43.975Z"
   },
   {
    "duration": 10,
    "start_time": "2021-09-03T10:02:43.992Z"
   },
   {
    "duration": 8,
    "start_time": "2021-09-03T10:02:44.005Z"
   },
   {
    "duration": 53,
    "start_time": "2021-09-03T10:02:44.015Z"
   },
   {
    "duration": 8,
    "start_time": "2021-09-03T10:02:44.071Z"
   },
   {
    "duration": 9,
    "start_time": "2021-09-03T10:02:44.082Z"
   },
   {
    "duration": 603,
    "start_time": "2021-09-03T10:06:45.468Z"
   },
   {
    "duration": 712,
    "start_time": "2021-09-03T10:07:02.142Z"
   },
   {
    "duration": 639,
    "start_time": "2021-09-03T10:07:26.972Z"
   },
   {
    "duration": 4,
    "start_time": "2021-09-03T10:08:21.910Z"
   },
   {
    "duration": 1601,
    "start_time": "2021-09-03T10:08:21.917Z"
   },
   {
    "duration": 88,
    "start_time": "2021-09-03T10:08:23.521Z"
   },
   {
    "duration": 14,
    "start_time": "2021-09-03T10:08:23.612Z"
   },
   {
    "duration": 46,
    "start_time": "2021-09-03T10:08:23.629Z"
   },
   {
    "duration": 10,
    "start_time": "2021-09-03T10:08:23.678Z"
   },
   {
    "duration": 13,
    "start_time": "2021-09-03T10:08:23.691Z"
   },
   {
    "duration": 52,
    "start_time": "2021-09-03T10:08:23.707Z"
   },
   {
    "duration": 23,
    "start_time": "2021-09-03T10:08:23.762Z"
   },
   {
    "duration": 13,
    "start_time": "2021-09-03T10:08:23.787Z"
   },
   {
    "duration": 15,
    "start_time": "2021-09-03T10:08:23.803Z"
   },
   {
    "duration": 139,
    "start_time": "2021-09-03T10:08:23.821Z"
   },
   {
    "duration": 4377,
    "start_time": "2021-09-03T10:08:23.962Z"
   },
   {
    "duration": 18,
    "start_time": "2021-09-03T10:08:28.341Z"
   },
   {
    "duration": 3464,
    "start_time": "2021-09-03T10:08:28.362Z"
   },
   {
    "duration": 505,
    "start_time": "2021-09-03T10:08:31.829Z"
   },
   {
    "duration": 731,
    "start_time": "2021-09-03T10:08:32.338Z"
   },
   {
    "duration": 576,
    "start_time": "2021-09-03T10:08:33.071Z"
   },
   {
    "duration": 468,
    "start_time": "2021-09-03T10:08:33.652Z"
   },
   {
    "duration": 4,
    "start_time": "2021-09-03T10:08:34.123Z"
   },
   {
    "duration": 36,
    "start_time": "2021-09-03T10:08:34.130Z"
   },
   {
    "duration": 24,
    "start_time": "2021-09-03T10:08:34.169Z"
   },
   {
    "duration": 662,
    "start_time": "2021-09-03T10:08:34.195Z"
   },
   {
    "duration": 19,
    "start_time": "2021-09-03T10:08:34.860Z"
   },
   {
    "duration": 19,
    "start_time": "2021-09-03T10:08:34.882Z"
   },
   {
    "duration": 27,
    "start_time": "2021-09-03T10:08:34.903Z"
   },
   {
    "duration": 451,
    "start_time": "2021-09-03T10:08:34.933Z"
   },
   {
    "duration": 13,
    "start_time": "2021-09-03T10:08:35.387Z"
   },
   {
    "duration": 621,
    "start_time": "2021-09-03T10:08:35.402Z"
   },
   {
    "duration": 536,
    "start_time": "2021-09-03T10:08:36.025Z"
   },
   {
    "duration": 6,
    "start_time": "2021-09-03T10:08:36.564Z"
   },
   {
    "duration": 13,
    "start_time": "2021-09-03T10:08:36.573Z"
   },
   {
    "duration": 3719,
    "start_time": "2021-09-03T10:08:36.588Z"
   },
   {
    "duration": 105,
    "start_time": "2021-09-03T10:08:40.309Z"
   },
   {
    "duration": 99,
    "start_time": "2021-09-03T10:08:40.416Z"
   },
   {
    "duration": 45,
    "start_time": "2021-09-03T10:08:40.517Z"
   },
   {
    "duration": 472,
    "start_time": "2021-09-03T10:08:40.564Z"
   },
   {
    "duration": 21,
    "start_time": "2021-09-03T10:08:41.038Z"
   },
   {
    "duration": 951,
    "start_time": "2021-09-03T10:08:41.061Z"
   },
   {
    "duration": 1084,
    "start_time": "2021-09-03T10:08:42.014Z"
   },
   {
    "duration": 1077,
    "start_time": "2021-09-03T10:08:43.101Z"
   },
   {
    "duration": 955,
    "start_time": "2021-09-03T10:08:44.181Z"
   },
   {
    "duration": 966,
    "start_time": "2021-09-03T10:08:45.139Z"
   },
   {
    "duration": 946,
    "start_time": "2021-09-03T10:08:46.108Z"
   },
   {
    "duration": 14,
    "start_time": "2021-09-03T10:08:47.057Z"
   },
   {
    "duration": 19,
    "start_time": "2021-09-03T10:08:47.074Z"
   },
   {
    "duration": 29,
    "start_time": "2021-09-03T10:08:47.095Z"
   },
   {
    "duration": 23,
    "start_time": "2021-09-03T10:08:47.127Z"
   },
   {
    "duration": 14,
    "start_time": "2021-09-03T10:08:47.152Z"
   },
   {
    "duration": 20,
    "start_time": "2021-09-03T10:08:47.168Z"
   },
   {
    "duration": 1188,
    "start_time": "2021-09-03T10:10:54.885Z"
   },
   {
    "duration": 611,
    "start_time": "2021-09-03T10:15:30.868Z"
   },
   {
    "duration": 1153,
    "start_time": "2021-09-03T10:16:15.852Z"
   },
   {
    "duration": 7355,
    "start_time": "2021-09-03T10:16:37.555Z"
   },
   {
    "duration": 712,
    "start_time": "2021-09-03T10:17:11.955Z"
   },
   {
    "duration": 20,
    "start_time": "2021-09-03T10:17:42.217Z"
   },
   {
    "duration": 8,
    "start_time": "2021-09-03T10:18:43.394Z"
   },
   {
    "duration": 14,
    "start_time": "2021-09-03T10:18:56.617Z"
   },
   {
    "duration": 7,
    "start_time": "2021-09-03T10:19:11.867Z"
   },
   {
    "duration": 16,
    "start_time": "2021-09-03T10:19:14.680Z"
   },
   {
    "duration": 6,
    "start_time": "2021-09-03T10:19:19.378Z"
   },
   {
    "duration": 15,
    "start_time": "2021-09-03T10:19:21.873Z"
   },
   {
    "duration": 7,
    "start_time": "2021-09-03T10:19:32.458Z"
   },
   {
    "duration": 16,
    "start_time": "2021-09-03T10:19:36.826Z"
   },
   {
    "duration": 6,
    "start_time": "2021-09-03T10:19:51.450Z"
   },
   {
    "duration": 31,
    "start_time": "2021-09-03T10:19:53.993Z"
   },
   {
    "duration": 6,
    "start_time": "2021-09-03T10:20:16.913Z"
   },
   {
    "duration": 15,
    "start_time": "2021-09-03T10:20:19.873Z"
   },
   {
    "duration": 7,
    "start_time": "2021-09-03T10:20:49.088Z"
   },
   {
    "duration": 35,
    "start_time": "2021-09-03T10:20:51.920Z"
   },
   {
    "duration": 6,
    "start_time": "2021-09-03T10:21:02.808Z"
   },
   {
    "duration": 22,
    "start_time": "2021-09-03T10:21:07.313Z"
   },
   {
    "duration": 651,
    "start_time": "2021-09-03T10:21:24.608Z"
   },
   {
    "duration": 96,
    "start_time": "2021-09-03T10:22:24.417Z"
   },
   {
    "duration": 779,
    "start_time": "2021-09-03T10:22:38.575Z"
   },
   {
    "duration": 607,
    "start_time": "2021-09-03T10:23:04.577Z"
   },
   {
    "duration": 1015,
    "start_time": "2021-09-03T10:24:08.887Z"
   },
   {
    "duration": 1053,
    "start_time": "2021-09-03T10:24:35.584Z"
   },
   {
    "duration": 1014,
    "start_time": "2021-09-03T10:24:45.846Z"
   },
   {
    "duration": 4,
    "start_time": "2021-09-03T10:24:58.181Z"
   },
   {
    "duration": 1431,
    "start_time": "2021-09-03T10:24:58.188Z"
   },
   {
    "duration": 87,
    "start_time": "2021-09-03T10:24:59.622Z"
   },
   {
    "duration": 12,
    "start_time": "2021-09-03T10:24:59.712Z"
   },
   {
    "duration": 33,
    "start_time": "2021-09-03T10:24:59.727Z"
   },
   {
    "duration": 18,
    "start_time": "2021-09-03T10:24:59.763Z"
   },
   {
    "duration": 27,
    "start_time": "2021-09-03T10:24:59.785Z"
   },
   {
    "duration": 43,
    "start_time": "2021-09-03T10:24:59.815Z"
   },
   {
    "duration": 24,
    "start_time": "2021-09-03T10:24:59.861Z"
   },
   {
    "duration": 28,
    "start_time": "2021-09-03T10:24:59.887Z"
   },
   {
    "duration": 30,
    "start_time": "2021-09-03T10:24:59.918Z"
   },
   {
    "duration": 107,
    "start_time": "2021-09-03T10:24:59.956Z"
   },
   {
    "duration": 4157,
    "start_time": "2021-09-03T10:25:00.066Z"
   },
   {
    "duration": 13,
    "start_time": "2021-09-03T10:25:04.225Z"
   },
   {
    "duration": 3309,
    "start_time": "2021-09-03T10:25:04.240Z"
   },
   {
    "duration": 507,
    "start_time": "2021-09-03T10:25:07.555Z"
   },
   {
    "duration": 771,
    "start_time": "2021-09-03T10:25:08.065Z"
   },
   {
    "duration": 1021,
    "start_time": "2021-09-03T10:25:08.839Z"
   },
   {
    "duration": 34,
    "start_time": "2021-09-03T10:25:09.869Z"
   },
   {
    "duration": 556,
    "start_time": "2021-09-03T10:25:09.908Z"
   },
   {
    "duration": 5,
    "start_time": "2021-09-03T10:25:10.466Z"
   },
   {
    "duration": 41,
    "start_time": "2021-09-03T10:25:10.473Z"
   },
   {
    "duration": 24,
    "start_time": "2021-09-03T10:25:10.516Z"
   },
   {
    "duration": 741,
    "start_time": "2021-09-03T10:25:10.542Z"
   },
   {
    "duration": 20,
    "start_time": "2021-09-03T10:25:11.285Z"
   },
   {
    "duration": 20,
    "start_time": "2021-09-03T10:25:11.308Z"
   },
   {
    "duration": 30,
    "start_time": "2021-09-03T10:25:11.331Z"
   },
   {
    "duration": 456,
    "start_time": "2021-09-03T10:25:11.363Z"
   },
   {
    "duration": 10,
    "start_time": "2021-09-03T10:25:11.822Z"
   },
   {
    "duration": 541,
    "start_time": "2021-09-03T10:25:11.835Z"
   },
   {
    "duration": 508,
    "start_time": "2021-09-03T10:25:12.378Z"
   },
   {
    "duration": 7,
    "start_time": "2021-09-03T10:25:12.888Z"
   },
   {
    "duration": 21,
    "start_time": "2021-09-03T10:25:12.898Z"
   },
   {
    "duration": 3821,
    "start_time": "2021-09-03T10:25:12.921Z"
   },
   {
    "duration": 124,
    "start_time": "2021-09-03T10:25:16.744Z"
   },
   {
    "duration": 188,
    "start_time": "2021-09-03T10:25:16.871Z"
   },
   {
    "duration": 22,
    "start_time": "2021-09-03T10:25:17.061Z"
   },
   {
    "duration": 757,
    "start_time": "2021-09-03T10:25:17.086Z"
   },
   {
    "duration": 113,
    "start_time": "2021-09-03T10:25:17.846Z"
   },
   {
    "duration": 976,
    "start_time": "2021-09-03T10:25:17.961Z"
   },
   {
    "duration": 1276,
    "start_time": "2021-09-03T10:25:18.939Z"
   },
   {
    "duration": 986,
    "start_time": "2021-09-03T10:25:20.217Z"
   },
   {
    "duration": 978,
    "start_time": "2021-09-03T10:25:21.205Z"
   },
   {
    "duration": 1001,
    "start_time": "2021-09-03T10:25:22.186Z"
   },
   {
    "duration": 1084,
    "start_time": "2021-09-03T10:25:23.189Z"
   },
   {
    "duration": 15,
    "start_time": "2021-09-03T10:25:24.277Z"
   },
   {
    "duration": 31,
    "start_time": "2021-09-03T10:25:24.294Z"
   },
   {
    "duration": 25,
    "start_time": "2021-09-03T10:25:24.327Z"
   },
   {
    "duration": 29,
    "start_time": "2021-09-03T10:25:24.355Z"
   },
   {
    "duration": 12,
    "start_time": "2021-09-03T10:25:24.386Z"
   },
   {
    "duration": 13,
    "start_time": "2021-09-03T10:25:24.401Z"
   },
   {
    "duration": 1036,
    "start_time": "2021-09-03T10:25:59.022Z"
   },
   {
    "duration": 892,
    "start_time": "2021-09-03T10:26:50.975Z"
   },
   {
    "duration": 993,
    "start_time": "2021-09-03T10:28:06.213Z"
   },
   {
    "duration": 896,
    "start_time": "2021-09-03T10:28:28.004Z"
   },
   {
    "duration": 914,
    "start_time": "2021-09-03T10:28:50.123Z"
   },
   {
    "duration": 883,
    "start_time": "2021-09-03T10:29:10.324Z"
   },
   {
    "duration": 905,
    "start_time": "2021-09-03T10:29:20.323Z"
   },
   {
    "duration": 984,
    "start_time": "2021-09-03T10:29:35.301Z"
   },
   {
    "duration": 934,
    "start_time": "2021-09-03T10:29:44.467Z"
   },
   {
    "duration": 903,
    "start_time": "2021-09-03T10:29:54.427Z"
   },
   {
    "duration": 4,
    "start_time": "2021-09-03T10:30:22.100Z"
   },
   {
    "duration": 1559,
    "start_time": "2021-09-03T10:30:22.107Z"
   },
   {
    "duration": 86,
    "start_time": "2021-09-03T10:30:23.669Z"
   },
   {
    "duration": 11,
    "start_time": "2021-09-03T10:30:23.757Z"
   },
   {
    "duration": 24,
    "start_time": "2021-09-03T10:30:23.771Z"
   },
   {
    "duration": 33,
    "start_time": "2021-09-03T10:30:23.797Z"
   },
   {
    "duration": 27,
    "start_time": "2021-09-03T10:30:23.832Z"
   },
   {
    "duration": 37,
    "start_time": "2021-09-03T10:30:23.863Z"
   },
   {
    "duration": 24,
    "start_time": "2021-09-03T10:30:23.904Z"
   },
   {
    "duration": 17,
    "start_time": "2021-09-03T10:30:23.930Z"
   },
   {
    "duration": 17,
    "start_time": "2021-09-03T10:30:23.955Z"
   },
   {
    "duration": 122,
    "start_time": "2021-09-03T10:30:23.975Z"
   },
   {
    "duration": 4292,
    "start_time": "2021-09-03T10:30:24.099Z"
   },
   {
    "duration": 14,
    "start_time": "2021-09-03T10:30:28.394Z"
   },
   {
    "duration": 3468,
    "start_time": "2021-09-03T10:30:28.411Z"
   },
   {
    "duration": 518,
    "start_time": "2021-09-03T10:30:31.883Z"
   },
   {
    "duration": 760,
    "start_time": "2021-09-03T10:30:32.404Z"
   },
   {
    "duration": 846,
    "start_time": "2021-09-03T10:30:33.167Z"
   },
   {
    "duration": 39,
    "start_time": "2021-09-03T10:30:34.016Z"
   },
   {
    "duration": 472,
    "start_time": "2021-09-03T10:30:34.057Z"
   },
   {
    "duration": 4,
    "start_time": "2021-09-03T10:30:34.532Z"
   },
   {
    "duration": 53,
    "start_time": "2021-09-03T10:30:34.539Z"
   },
   {
    "duration": 37,
    "start_time": "2021-09-03T10:30:34.597Z"
   },
   {
    "duration": 673,
    "start_time": "2021-09-03T10:30:34.639Z"
   },
   {
    "duration": 40,
    "start_time": "2021-09-03T10:30:35.316Z"
   },
   {
    "duration": 12,
    "start_time": "2021-09-03T10:30:35.359Z"
   },
   {
    "duration": 38,
    "start_time": "2021-09-03T10:30:35.373Z"
   },
   {
    "duration": 473,
    "start_time": "2021-09-03T10:30:35.414Z"
   },
   {
    "duration": 13,
    "start_time": "2021-09-03T10:30:35.890Z"
   },
   {
    "duration": 648,
    "start_time": "2021-09-03T10:30:35.906Z"
   },
   {
    "duration": 514,
    "start_time": "2021-09-03T10:30:36.557Z"
   },
   {
    "duration": 8,
    "start_time": "2021-09-03T10:30:37.075Z"
   },
   {
    "duration": 19,
    "start_time": "2021-09-03T10:30:37.086Z"
   },
   {
    "duration": 4033,
    "start_time": "2021-09-03T10:30:37.107Z"
   },
   {
    "duration": 87,
    "start_time": "2021-09-03T10:30:41.143Z"
   },
   {
    "duration": 105,
    "start_time": "2021-09-03T10:30:41.232Z"
   },
   {
    "duration": 24,
    "start_time": "2021-09-03T10:30:41.355Z"
   },
   {
    "duration": 530,
    "start_time": "2021-09-03T10:30:41.381Z"
   },
   {
    "duration": 12,
    "start_time": "2021-09-03T10:30:41.913Z"
   },
   {
    "duration": 919,
    "start_time": "2021-09-03T10:30:41.927Z"
   },
   {
    "duration": 1038,
    "start_time": "2021-09-03T10:30:42.848Z"
   },
   {
    "duration": 958,
    "start_time": "2021-09-03T10:30:43.889Z"
   },
   {
    "duration": 1009,
    "start_time": "2021-09-03T10:30:44.850Z"
   },
   {
    "duration": 1003,
    "start_time": "2021-09-03T10:30:45.861Z"
   },
   {
    "duration": 995,
    "start_time": "2021-09-03T10:30:46.867Z"
   },
   {
    "duration": 15,
    "start_time": "2021-09-03T10:30:47.865Z"
   },
   {
    "duration": 13,
    "start_time": "2021-09-03T10:30:47.883Z"
   },
   {
    "duration": 9,
    "start_time": "2021-09-03T10:30:47.899Z"
   },
   {
    "duration": 54,
    "start_time": "2021-09-03T10:30:47.910Z"
   },
   {
    "duration": 5,
    "start_time": "2021-09-03T10:30:47.967Z"
   },
   {
    "duration": 8,
    "start_time": "2021-09-03T10:30:47.975Z"
   },
   {
    "duration": 1011,
    "start_time": "2021-09-03T10:31:52.564Z"
   },
   {
    "duration": 944,
    "start_time": "2021-09-03T10:32:27.851Z"
   },
   {
    "duration": 4,
    "start_time": "2021-09-03T10:32:43.088Z"
   },
   {
    "duration": 1459,
    "start_time": "2021-09-03T10:32:43.095Z"
   },
   {
    "duration": 87,
    "start_time": "2021-09-03T10:32:44.557Z"
   },
   {
    "duration": 16,
    "start_time": "2021-09-03T10:32:44.647Z"
   },
   {
    "duration": 24,
    "start_time": "2021-09-03T10:32:44.665Z"
   },
   {
    "duration": 27,
    "start_time": "2021-09-03T10:32:44.692Z"
   },
   {
    "duration": 31,
    "start_time": "2021-09-03T10:32:44.721Z"
   },
   {
    "duration": 49,
    "start_time": "2021-09-03T10:32:44.754Z"
   },
   {
    "duration": 26,
    "start_time": "2021-09-03T10:32:44.807Z"
   },
   {
    "duration": 30,
    "start_time": "2021-09-03T10:32:44.837Z"
   },
   {
    "duration": 25,
    "start_time": "2021-09-03T10:32:44.869Z"
   },
   {
    "duration": 115,
    "start_time": "2021-09-03T10:32:44.896Z"
   },
   {
    "duration": 4323,
    "start_time": "2021-09-03T10:32:45.014Z"
   },
   {
    "duration": 21,
    "start_time": "2021-09-03T10:32:49.339Z"
   },
   {
    "duration": 3495,
    "start_time": "2021-09-03T10:32:49.362Z"
   },
   {
    "duration": 560,
    "start_time": "2021-09-03T10:32:52.860Z"
   },
   {
    "duration": 840,
    "start_time": "2021-09-03T10:32:53.422Z"
   },
   {
    "duration": 929,
    "start_time": "2021-09-03T10:32:54.265Z"
   },
   {
    "duration": 479,
    "start_time": "2021-09-03T10:32:55.196Z"
   },
   {
    "duration": 5,
    "start_time": "2021-09-03T10:32:55.677Z"
   },
   {
    "duration": 40,
    "start_time": "2021-09-03T10:32:55.684Z"
   },
   {
    "duration": 24,
    "start_time": "2021-09-03T10:32:55.727Z"
   },
   {
    "duration": 931,
    "start_time": "2021-09-03T10:32:55.753Z"
   },
   {
    "duration": 78,
    "start_time": "2021-09-03T10:32:56.686Z"
   },
   {
    "duration": 14,
    "start_time": "2021-09-03T10:32:56.766Z"
   },
   {
    "duration": 25,
    "start_time": "2021-09-03T10:32:56.783Z"
   },
   {
    "duration": 482,
    "start_time": "2021-09-03T10:32:56.857Z"
   },
   {
    "duration": 18,
    "start_time": "2021-09-03T10:32:57.342Z"
   },
   {
    "duration": 624,
    "start_time": "2021-09-03T10:32:57.363Z"
   },
   {
    "duration": 549,
    "start_time": "2021-09-03T10:32:57.990Z"
   },
   {
    "duration": 14,
    "start_time": "2021-09-03T10:32:58.541Z"
   },
   {
    "duration": 19,
    "start_time": "2021-09-03T10:32:58.558Z"
   },
   {
    "duration": 4183,
    "start_time": "2021-09-03T10:32:58.579Z"
   },
   {
    "duration": 101,
    "start_time": "2021-09-03T10:33:02.764Z"
   },
   {
    "duration": 105,
    "start_time": "2021-09-03T10:33:02.868Z"
   },
   {
    "duration": 25,
    "start_time": "2021-09-03T10:33:02.976Z"
   },
   {
    "duration": 499,
    "start_time": "2021-09-03T10:33:03.003Z"
   },
   {
    "duration": 13,
    "start_time": "2021-09-03T10:33:03.505Z"
   },
   {
    "duration": 1036,
    "start_time": "2021-09-03T10:33:03.521Z"
   },
   {
    "duration": 1198,
    "start_time": "2021-09-03T10:33:04.559Z"
   },
   {
    "duration": 976,
    "start_time": "2021-09-03T10:33:05.759Z"
   },
   {
    "duration": 982,
    "start_time": "2021-09-03T10:33:06.737Z"
   },
   {
    "duration": 992,
    "start_time": "2021-09-03T10:33:07.721Z"
   },
   {
    "duration": 994,
    "start_time": "2021-09-03T10:33:08.715Z"
   },
   {
    "duration": 14,
    "start_time": "2021-09-03T10:33:09.712Z"
   },
   {
    "duration": 42,
    "start_time": "2021-09-03T10:33:09.729Z"
   },
   {
    "duration": 32,
    "start_time": "2021-09-03T10:33:09.773Z"
   },
   {
    "duration": 36,
    "start_time": "2021-09-03T10:33:09.807Z"
   },
   {
    "duration": 18,
    "start_time": "2021-09-03T10:33:09.846Z"
   },
   {
    "duration": 28,
    "start_time": "2021-09-03T10:33:09.866Z"
   },
   {
    "duration": 1159,
    "start_time": "2021-09-03T10:35:52.977Z"
   },
   {
    "duration": 1051,
    "start_time": "2021-09-03T10:36:30.121Z"
   },
   {
    "duration": 4,
    "start_time": "2021-09-03T10:36:58.510Z"
   },
   {
    "duration": 1537,
    "start_time": "2021-09-03T10:36:58.517Z"
   },
   {
    "duration": 89,
    "start_time": "2021-09-03T10:37:00.057Z"
   },
   {
    "duration": 15,
    "start_time": "2021-09-03T10:37:00.148Z"
   },
   {
    "duration": 28,
    "start_time": "2021-09-03T10:37:00.165Z"
   },
   {
    "duration": 18,
    "start_time": "2021-09-03T10:37:00.197Z"
   },
   {
    "duration": 22,
    "start_time": "2021-09-03T10:37:00.218Z"
   },
   {
    "duration": 39,
    "start_time": "2021-09-03T10:37:00.243Z"
   },
   {
    "duration": 24,
    "start_time": "2021-09-03T10:37:00.285Z"
   },
   {
    "duration": 22,
    "start_time": "2021-09-03T10:37:00.312Z"
   },
   {
    "duration": 29,
    "start_time": "2021-09-03T10:37:00.336Z"
   },
   {
    "duration": 133,
    "start_time": "2021-09-03T10:37:00.367Z"
   },
   {
    "duration": 4095,
    "start_time": "2021-09-03T10:37:00.502Z"
   },
   {
    "duration": 12,
    "start_time": "2021-09-03T10:37:04.600Z"
   },
   {
    "duration": 3271,
    "start_time": "2021-09-03T10:37:04.614Z"
   },
   {
    "duration": 493,
    "start_time": "2021-09-03T10:37:07.888Z"
   },
   {
    "duration": 733,
    "start_time": "2021-09-03T10:37:08.384Z"
   },
   {
    "duration": 972,
    "start_time": "2021-09-03T10:37:09.120Z"
   },
   {
    "duration": 754,
    "start_time": "2021-09-03T10:37:10.095Z"
   },
   {
    "duration": 4,
    "start_time": "2021-09-03T10:37:10.855Z"
   },
   {
    "duration": 25,
    "start_time": "2021-09-03T10:37:10.861Z"
   },
   {
    "duration": 27,
    "start_time": "2021-09-03T10:37:10.888Z"
   },
   {
    "duration": 734,
    "start_time": "2021-09-03T10:37:10.920Z"
   },
   {
    "duration": 20,
    "start_time": "2021-09-03T10:37:11.657Z"
   },
   {
    "duration": 9,
    "start_time": "2021-09-03T10:37:11.680Z"
   },
   {
    "duration": 20,
    "start_time": "2021-09-03T10:37:11.691Z"
   },
   {
    "duration": 473,
    "start_time": "2021-09-03T10:37:11.713Z"
   },
   {
    "duration": 10,
    "start_time": "2021-09-03T10:37:12.188Z"
   },
   {
    "duration": 543,
    "start_time": "2021-09-03T10:37:12.200Z"
   },
   {
    "duration": 521,
    "start_time": "2021-09-03T10:37:12.745Z"
   },
   {
    "duration": 7,
    "start_time": "2021-09-03T10:37:13.269Z"
   },
   {
    "duration": 14,
    "start_time": "2021-09-03T10:37:13.278Z"
   },
   {
    "duration": 3912,
    "start_time": "2021-09-03T10:37:13.294Z"
   },
   {
    "duration": 103,
    "start_time": "2021-09-03T10:37:17.209Z"
   },
   {
    "duration": 103,
    "start_time": "2021-09-03T10:37:17.314Z"
   },
   {
    "duration": 47,
    "start_time": "2021-09-03T10:37:17.420Z"
   },
   {
    "duration": 476,
    "start_time": "2021-09-03T10:37:17.470Z"
   },
   {
    "duration": 107,
    "start_time": "2021-09-03T10:37:17.949Z"
   },
   {
    "duration": 934,
    "start_time": "2021-09-03T10:37:18.059Z"
   },
   {
    "duration": 937,
    "start_time": "2021-09-03T10:37:18.996Z"
   },
   {
    "duration": 955,
    "start_time": "2021-09-03T10:37:19.937Z"
   },
   {
    "duration": 982,
    "start_time": "2021-09-03T10:37:20.895Z"
   },
   {
    "duration": 976,
    "start_time": "2021-09-03T10:37:21.880Z"
   },
   {
    "duration": 1069,
    "start_time": "2021-09-03T10:37:22.859Z"
   },
   {
    "duration": 25,
    "start_time": "2021-09-03T10:37:23.931Z"
   },
   {
    "duration": 43,
    "start_time": "2021-09-03T10:37:23.960Z"
   },
   {
    "duration": 26,
    "start_time": "2021-09-03T10:37:24.006Z"
   },
   {
    "duration": 32,
    "start_time": "2021-09-03T10:37:24.034Z"
   },
   {
    "duration": 31,
    "start_time": "2021-09-03T10:37:24.069Z"
   },
   {
    "duration": 22,
    "start_time": "2021-09-03T10:37:24.103Z"
   },
   {
    "duration": 1074,
    "start_time": "2021-09-03T10:41:40.639Z"
   },
   {
    "duration": 1169,
    "start_time": "2021-09-03T10:42:14.273Z"
   },
   {
    "duration": 4,
    "start_time": "2021-09-03T10:42:32.205Z"
   },
   {
    "duration": 1511,
    "start_time": "2021-09-03T10:42:32.212Z"
   },
   {
    "duration": 89,
    "start_time": "2021-09-03T10:42:33.725Z"
   },
   {
    "duration": 11,
    "start_time": "2021-09-03T10:42:33.817Z"
   },
   {
    "duration": 30,
    "start_time": "2021-09-03T10:42:33.831Z"
   },
   {
    "duration": 14,
    "start_time": "2021-09-03T10:42:33.863Z"
   },
   {
    "duration": 13,
    "start_time": "2021-09-03T10:42:33.880Z"
   },
   {
    "duration": 67,
    "start_time": "2021-09-03T10:42:33.898Z"
   },
   {
    "duration": 28,
    "start_time": "2021-09-03T10:42:33.969Z"
   },
   {
    "duration": 17,
    "start_time": "2021-09-03T10:42:33.999Z"
   },
   {
    "duration": 52,
    "start_time": "2021-09-03T10:42:34.019Z"
   },
   {
    "duration": 117,
    "start_time": "2021-09-03T10:42:34.074Z"
   },
   {
    "duration": 4448,
    "start_time": "2021-09-03T10:42:34.194Z"
   },
   {
    "duration": 20,
    "start_time": "2021-09-03T10:42:38.644Z"
   },
   {
    "duration": 6205,
    "start_time": "2021-09-03T10:42:38.666Z"
   },
   {
    "duration": 563,
    "start_time": "2021-09-03T10:42:44.874Z"
   },
   {
    "duration": 753,
    "start_time": "2021-09-03T10:42:45.439Z"
   },
   {
    "duration": 1386,
    "start_time": "2021-09-03T10:42:46.194Z"
   },
   {
    "duration": 498,
    "start_time": "2021-09-03T10:42:47.583Z"
   },
   {
    "duration": 5,
    "start_time": "2021-09-03T10:42:48.084Z"
   },
   {
    "duration": 20,
    "start_time": "2021-09-03T10:42:48.092Z"
   },
   {
    "duration": 10,
    "start_time": "2021-09-03T10:42:48.115Z"
   },
   {
    "duration": 794,
    "start_time": "2021-09-03T10:42:48.155Z"
   },
   {
    "duration": 22,
    "start_time": "2021-09-03T10:42:48.953Z"
   },
   {
    "duration": 10,
    "start_time": "2021-09-03T10:42:48.977Z"
   },
   {
    "duration": 14,
    "start_time": "2021-09-03T10:42:48.990Z"
   },
   {
    "duration": 608,
    "start_time": "2021-09-03T10:42:49.006Z"
   },
   {
    "duration": 10,
    "start_time": "2021-09-03T10:42:49.617Z"
   },
   {
    "duration": 583,
    "start_time": "2021-09-03T10:42:49.629Z"
   },
   {
    "duration": 743,
    "start_time": "2021-09-03T10:42:50.215Z"
   },
   {
    "duration": 8,
    "start_time": "2021-09-03T10:42:50.962Z"
   },
   {
    "duration": 22,
    "start_time": "2021-09-03T10:42:50.974Z"
   },
   {
    "duration": 4712,
    "start_time": "2021-09-03T10:42:50.999Z"
   },
   {
    "duration": 99,
    "start_time": "2021-09-03T10:42:55.713Z"
   },
   {
    "duration": 106,
    "start_time": "2021-09-03T10:42:55.815Z"
   },
   {
    "duration": 44,
    "start_time": "2021-09-03T10:42:55.923Z"
   },
   {
    "duration": 496,
    "start_time": "2021-09-03T10:42:55.970Z"
   },
   {
    "duration": 105,
    "start_time": "2021-09-03T10:42:56.469Z"
   },
   {
    "duration": 955,
    "start_time": "2021-09-03T10:42:56.576Z"
   },
   {
    "duration": 963,
    "start_time": "2021-09-03T10:42:57.534Z"
   },
   {
    "duration": 981,
    "start_time": "2021-09-03T10:42:58.500Z"
   },
   {
    "duration": 1140,
    "start_time": "2021-09-03T10:42:59.485Z"
   },
   {
    "duration": 1030,
    "start_time": "2021-09-03T10:43:00.627Z"
   },
   {
    "duration": 1088,
    "start_time": "2021-09-03T10:43:01.660Z"
   },
   {
    "duration": 15,
    "start_time": "2021-09-03T10:43:02.750Z"
   },
   {
    "duration": 41,
    "start_time": "2021-09-03T10:43:02.767Z"
   },
   {
    "duration": 30,
    "start_time": "2021-09-03T10:43:02.810Z"
   },
   {
    "duration": 42,
    "start_time": "2021-09-03T10:43:02.843Z"
   },
   {
    "duration": 25,
    "start_time": "2021-09-03T10:43:02.888Z"
   },
   {
    "duration": 28,
    "start_time": "2021-09-03T10:43:02.916Z"
   },
   {
    "duration": 1229,
    "start_time": "2021-09-03T10:43:57.545Z"
   },
   {
    "duration": 4,
    "start_time": "2021-09-03T10:44:13.326Z"
   },
   {
    "duration": 1522,
    "start_time": "2021-09-03T10:44:13.333Z"
   },
   {
    "duration": 88,
    "start_time": "2021-09-03T10:44:14.858Z"
   },
   {
    "duration": 14,
    "start_time": "2021-09-03T10:44:14.949Z"
   },
   {
    "duration": 29,
    "start_time": "2021-09-03T10:44:14.965Z"
   },
   {
    "duration": 36,
    "start_time": "2021-09-03T10:44:14.996Z"
   },
   {
    "duration": 25,
    "start_time": "2021-09-03T10:44:15.034Z"
   },
   {
    "duration": 39,
    "start_time": "2021-09-03T10:44:15.062Z"
   },
   {
    "duration": 32,
    "start_time": "2021-09-03T10:44:15.105Z"
   },
   {
    "duration": 14,
    "start_time": "2021-09-03T10:44:15.140Z"
   },
   {
    "duration": 18,
    "start_time": "2021-09-03T10:44:15.156Z"
   },
   {
    "duration": 112,
    "start_time": "2021-09-03T10:44:15.177Z"
   },
   {
    "duration": 4692,
    "start_time": "2021-09-03T10:44:15.291Z"
   },
   {
    "duration": 12,
    "start_time": "2021-09-03T10:44:19.985Z"
   },
   {
    "duration": 3318,
    "start_time": "2021-09-03T10:44:20.000Z"
   },
   {
    "duration": 494,
    "start_time": "2021-09-03T10:44:23.320Z"
   },
   {
    "duration": 922,
    "start_time": "2021-09-03T10:44:23.817Z"
   },
   {
    "duration": 1053,
    "start_time": "2021-09-03T10:44:24.743Z"
   },
   {
    "duration": 478,
    "start_time": "2021-09-03T10:44:25.799Z"
   },
   {
    "duration": 5,
    "start_time": "2021-09-03T10:44:26.279Z"
   },
   {
    "duration": 46,
    "start_time": "2021-09-03T10:44:26.287Z"
   },
   {
    "duration": 51,
    "start_time": "2021-09-03T10:44:26.335Z"
   },
   {
    "duration": 745,
    "start_time": "2021-09-03T10:44:26.389Z"
   },
   {
    "duration": 33,
    "start_time": "2021-09-03T10:44:27.136Z"
   },
   {
    "duration": 29,
    "start_time": "2021-09-03T10:44:27.171Z"
   },
   {
    "duration": 39,
    "start_time": "2021-09-03T10:44:27.202Z"
   },
   {
    "duration": 468,
    "start_time": "2021-09-03T10:44:27.247Z"
   },
   {
    "duration": 11,
    "start_time": "2021-09-03T10:44:27.718Z"
   },
   {
    "duration": 525,
    "start_time": "2021-09-03T10:44:27.732Z"
   },
   {
    "duration": 515,
    "start_time": "2021-09-03T10:44:28.260Z"
   },
   {
    "duration": 6,
    "start_time": "2021-09-03T10:44:28.777Z"
   },
   {
    "duration": 33,
    "start_time": "2021-09-03T10:44:28.786Z"
   },
   {
    "duration": 3696,
    "start_time": "2021-09-03T10:44:28.821Z"
   },
   {
    "duration": 104,
    "start_time": "2021-09-03T10:44:32.519Z"
   },
   {
    "duration": 96,
    "start_time": "2021-09-03T10:44:32.625Z"
   },
   {
    "duration": 44,
    "start_time": "2021-09-03T10:44:32.723Z"
   },
   {
    "duration": 467,
    "start_time": "2021-09-03T10:44:32.770Z"
   },
   {
    "duration": 96,
    "start_time": "2021-09-03T10:44:33.240Z"
   },
   {
    "duration": 944,
    "start_time": "2021-09-03T10:44:33.339Z"
   },
   {
    "duration": 968,
    "start_time": "2021-09-03T10:44:34.286Z"
   },
   {
    "duration": 955,
    "start_time": "2021-09-03T10:44:35.256Z"
   },
   {
    "duration": 949,
    "start_time": "2021-09-03T10:44:36.213Z"
   },
   {
    "duration": 966,
    "start_time": "2021-09-03T10:44:37.164Z"
   },
   {
    "duration": 1062,
    "start_time": "2021-09-03T10:44:38.132Z"
   },
   {
    "duration": 16,
    "start_time": "2021-09-03T10:44:39.197Z"
   },
   {
    "duration": 32,
    "start_time": "2021-09-03T10:44:39.216Z"
   },
   {
    "duration": 16,
    "start_time": "2021-09-03T10:44:39.251Z"
   },
   {
    "duration": 42,
    "start_time": "2021-09-03T10:44:39.270Z"
   },
   {
    "duration": 18,
    "start_time": "2021-09-03T10:44:39.315Z"
   },
   {
    "duration": 22,
    "start_time": "2021-09-03T10:44:39.336Z"
   },
   {
    "duration": 4,
    "start_time": "2021-09-03T10:47:18.501Z"
   },
   {
    "duration": 1502,
    "start_time": "2021-09-03T10:47:18.508Z"
   },
   {
    "duration": 88,
    "start_time": "2021-09-03T10:47:20.012Z"
   },
   {
    "duration": 18,
    "start_time": "2021-09-03T10:47:20.104Z"
   },
   {
    "duration": 34,
    "start_time": "2021-09-03T10:47:20.125Z"
   },
   {
    "duration": 20,
    "start_time": "2021-09-03T10:47:20.161Z"
   },
   {
    "duration": 23,
    "start_time": "2021-09-03T10:47:20.184Z"
   },
   {
    "duration": 37,
    "start_time": "2021-09-03T10:47:20.210Z"
   },
   {
    "duration": 27,
    "start_time": "2021-09-03T10:47:20.254Z"
   },
   {
    "duration": 17,
    "start_time": "2021-09-03T10:47:20.283Z"
   },
   {
    "duration": 19,
    "start_time": "2021-09-03T10:47:20.303Z"
   },
   {
    "duration": 118,
    "start_time": "2021-09-03T10:47:20.324Z"
   },
   {
    "duration": 4994,
    "start_time": "2021-09-03T10:47:20.444Z"
   },
   {
    "duration": 20,
    "start_time": "2021-09-03T10:47:25.440Z"
   },
   {
    "duration": 3373,
    "start_time": "2021-09-03T10:47:25.462Z"
   },
   {
    "duration": 523,
    "start_time": "2021-09-03T10:47:28.838Z"
   },
   {
    "duration": 750,
    "start_time": "2021-09-03T10:47:29.364Z"
   },
   {
    "duration": 1090,
    "start_time": "2021-09-03T10:47:30.117Z"
   },
   {
    "duration": 486,
    "start_time": "2021-09-03T10:47:31.212Z"
   },
   {
    "duration": 5,
    "start_time": "2021-09-03T10:47:31.701Z"
   },
   {
    "duration": 45,
    "start_time": "2021-09-03T10:47:31.708Z"
   },
   {
    "duration": 51,
    "start_time": "2021-09-03T10:47:31.755Z"
   },
   {
    "duration": 763,
    "start_time": "2021-09-03T10:47:31.808Z"
   },
   {
    "duration": 20,
    "start_time": "2021-09-03T10:47:32.574Z"
   },
   {
    "duration": 19,
    "start_time": "2021-09-03T10:47:32.597Z"
   },
   {
    "duration": 31,
    "start_time": "2021-09-03T10:47:32.619Z"
   },
   {
    "duration": 476,
    "start_time": "2021-09-03T10:47:32.652Z"
   },
   {
    "duration": 23,
    "start_time": "2021-09-03T10:47:33.131Z"
   },
   {
    "duration": 548,
    "start_time": "2021-09-03T10:47:33.156Z"
   },
   {
    "duration": 576,
    "start_time": "2021-09-03T10:47:33.706Z"
   },
   {
    "duration": 6,
    "start_time": "2021-09-03T10:47:34.285Z"
   },
   {
    "duration": 30,
    "start_time": "2021-09-03T10:47:34.293Z"
   },
   {
    "duration": 3970,
    "start_time": "2021-09-03T10:47:34.325Z"
   },
   {
    "duration": 101,
    "start_time": "2021-09-03T10:47:38.297Z"
   },
   {
    "duration": 107,
    "start_time": "2021-09-03T10:47:38.400Z"
   },
   {
    "duration": 23,
    "start_time": "2021-09-03T10:47:38.510Z"
   },
   {
    "duration": 499,
    "start_time": "2021-09-03T10:47:38.555Z"
   },
   {
    "duration": 104,
    "start_time": "2021-09-03T10:47:39.057Z"
   },
   {
    "duration": 1076,
    "start_time": "2021-09-03T10:47:39.164Z"
   },
   {
    "duration": 963,
    "start_time": "2021-09-03T10:47:40.242Z"
   },
   {
    "duration": 1067,
    "start_time": "2021-09-03T10:47:41.207Z"
   },
   {
    "duration": 995,
    "start_time": "2021-09-03T10:47:42.277Z"
   },
   {
    "duration": 974,
    "start_time": "2021-09-03T10:47:43.274Z"
   },
   {
    "duration": 1151,
    "start_time": "2021-09-03T10:47:44.255Z"
   },
   {
    "duration": 14,
    "start_time": "2021-09-03T10:47:45.409Z"
   },
   {
    "duration": 57,
    "start_time": "2021-09-03T10:47:45.425Z"
   },
   {
    "duration": 26,
    "start_time": "2021-09-03T10:47:45.485Z"
   },
   {
    "duration": 39,
    "start_time": "2021-09-03T10:47:45.513Z"
   },
   {
    "duration": 34,
    "start_time": "2021-09-03T10:47:45.555Z"
   },
   {
    "duration": 25,
    "start_time": "2021-09-03T10:47:45.592Z"
   },
   {
    "duration": 4,
    "start_time": "2021-09-03T10:49:04.075Z"
   },
   {
    "duration": 1438,
    "start_time": "2021-09-03T10:49:04.081Z"
   },
   {
    "duration": 87,
    "start_time": "2021-09-03T10:49:05.522Z"
   },
   {
    "duration": 11,
    "start_time": "2021-09-03T10:49:05.612Z"
   },
   {
    "duration": 62,
    "start_time": "2021-09-03T10:49:05.626Z"
   },
   {
    "duration": 39,
    "start_time": "2021-09-03T10:49:05.691Z"
   },
   {
    "duration": 34,
    "start_time": "2021-09-03T10:49:05.734Z"
   },
   {
    "duration": 48,
    "start_time": "2021-09-03T10:49:05.771Z"
   },
   {
    "duration": 36,
    "start_time": "2021-09-03T10:49:05.822Z"
   },
   {
    "duration": 40,
    "start_time": "2021-09-03T10:49:05.860Z"
   },
   {
    "duration": 35,
    "start_time": "2021-09-03T10:49:05.903Z"
   },
   {
    "duration": 117,
    "start_time": "2021-09-03T10:49:05.941Z"
   },
   {
    "duration": 4652,
    "start_time": "2021-09-03T10:49:06.060Z"
   },
   {
    "duration": 12,
    "start_time": "2021-09-03T10:49:10.714Z"
   },
   {
    "duration": 3318,
    "start_time": "2021-09-03T10:49:10.729Z"
   },
   {
    "duration": 500,
    "start_time": "2021-09-03T10:49:14.054Z"
   },
   {
    "duration": 742,
    "start_time": "2021-09-03T10:49:14.556Z"
   },
   {
    "duration": 1046,
    "start_time": "2021-09-03T10:49:15.300Z"
   },
   {
    "duration": 470,
    "start_time": "2021-09-03T10:49:16.355Z"
   },
   {
    "duration": 5,
    "start_time": "2021-09-03T10:49:16.828Z"
   },
   {
    "duration": 34,
    "start_time": "2021-09-03T10:49:16.835Z"
   },
   {
    "duration": 34,
    "start_time": "2021-09-03T10:49:16.871Z"
   },
   {
    "duration": 742,
    "start_time": "2021-09-03T10:49:16.908Z"
   },
   {
    "duration": 21,
    "start_time": "2021-09-03T10:49:17.655Z"
   },
   {
    "duration": 13,
    "start_time": "2021-09-03T10:49:17.678Z"
   },
   {
    "duration": 15,
    "start_time": "2021-09-03T10:49:17.694Z"
   },
   {
    "duration": 483,
    "start_time": "2021-09-03T10:49:17.712Z"
   },
   {
    "duration": 11,
    "start_time": "2021-09-03T10:49:18.197Z"
   },
   {
    "duration": 554,
    "start_time": "2021-09-03T10:49:18.210Z"
   },
   {
    "duration": 515,
    "start_time": "2021-09-03T10:49:18.767Z"
   },
   {
    "duration": 7,
    "start_time": "2021-09-03T10:49:19.284Z"
   },
   {
    "duration": 35,
    "start_time": "2021-09-03T10:49:19.293Z"
   },
   {
    "duration": 4105,
    "start_time": "2021-09-03T10:49:19.331Z"
   },
   {
    "duration": 88,
    "start_time": "2021-09-03T10:49:23.439Z"
   },
   {
    "duration": 97,
    "start_time": "2021-09-03T10:49:23.529Z"
   },
   {
    "duration": 45,
    "start_time": "2021-09-03T10:49:23.629Z"
   },
   {
    "duration": 522,
    "start_time": "2021-09-03T10:49:23.677Z"
   },
   {
    "duration": 111,
    "start_time": "2021-09-03T10:49:24.202Z"
   },
   {
    "duration": 950,
    "start_time": "2021-09-03T10:49:24.315Z"
   },
   {
    "duration": 957,
    "start_time": "2021-09-03T10:49:25.267Z"
   },
   {
    "duration": 935,
    "start_time": "2021-09-03T10:49:26.226Z"
   },
   {
    "duration": 996,
    "start_time": "2021-09-03T10:49:27.163Z"
   },
   {
    "duration": 976,
    "start_time": "2021-09-03T10:49:28.163Z"
   },
   {
    "duration": 1179,
    "start_time": "2021-09-03T10:49:29.142Z"
   },
   {
    "duration": 14,
    "start_time": "2021-09-03T10:49:30.323Z"
   },
   {
    "duration": 54,
    "start_time": "2021-09-03T10:49:30.354Z"
   },
   {
    "duration": 40,
    "start_time": "2021-09-03T10:49:30.411Z"
   },
   {
    "duration": 67,
    "start_time": "2021-09-03T10:49:30.453Z"
   },
   {
    "duration": 41,
    "start_time": "2021-09-03T10:49:30.522Z"
   },
   {
    "duration": 54,
    "start_time": "2021-09-03T10:49:30.566Z"
   },
   {
    "duration": 5,
    "start_time": "2021-09-03T11:01:49.253Z"
   },
   {
    "duration": 1452,
    "start_time": "2021-09-03T11:01:49.260Z"
   },
   {
    "duration": 84,
    "start_time": "2021-09-03T11:01:50.715Z"
   },
   {
    "duration": 11,
    "start_time": "2021-09-03T11:01:50.802Z"
   },
   {
    "duration": 26,
    "start_time": "2021-09-03T11:01:50.816Z"
   },
   {
    "duration": 26,
    "start_time": "2021-09-03T11:01:50.845Z"
   },
   {
    "duration": 23,
    "start_time": "2021-09-03T11:01:50.873Z"
   },
   {
    "duration": 41,
    "start_time": "2021-09-03T11:01:50.899Z"
   },
   {
    "duration": 23,
    "start_time": "2021-09-03T11:01:50.945Z"
   },
   {
    "duration": 30,
    "start_time": "2021-09-03T11:01:50.971Z"
   },
   {
    "duration": 42,
    "start_time": "2021-09-03T11:01:51.003Z"
   },
   {
    "duration": 114,
    "start_time": "2021-09-03T11:01:51.048Z"
   },
   {
    "duration": 4295,
    "start_time": "2021-09-03T11:01:51.164Z"
   },
   {
    "duration": 13,
    "start_time": "2021-09-03T11:01:55.461Z"
   },
   {
    "duration": 4111,
    "start_time": "2021-09-03T11:01:55.477Z"
   },
   {
    "duration": 515,
    "start_time": "2021-09-03T11:01:59.591Z"
   },
   {
    "duration": 750,
    "start_time": "2021-09-03T11:02:00.109Z"
   },
   {
    "duration": 1067,
    "start_time": "2021-09-03T11:02:00.861Z"
   },
   {
    "duration": 486,
    "start_time": "2021-09-03T11:02:01.930Z"
   },
   {
    "duration": 19,
    "start_time": "2021-09-03T11:02:02.418Z"
   },
   {
    "duration": 39,
    "start_time": "2021-09-03T11:02:02.440Z"
   },
   {
    "duration": 24,
    "start_time": "2021-09-03T11:02:02.482Z"
   },
   {
    "duration": 470,
    "start_time": "2021-09-03T11:02:02.509Z"
   },
   {
    "duration": 10,
    "start_time": "2021-09-03T11:02:02.981Z"
   },
   {
    "duration": 595,
    "start_time": "2021-09-03T11:02:02.993Z"
   },
   {
    "duration": 538,
    "start_time": "2021-09-03T11:02:03.590Z"
   },
   {
    "duration": 7,
    "start_time": "2021-09-03T11:02:04.134Z"
   },
   {
    "duration": 12,
    "start_time": "2021-09-03T11:02:04.156Z"
   },
   {
    "duration": 3944,
    "start_time": "2021-09-03T11:02:04.171Z"
   },
   {
    "duration": 102,
    "start_time": "2021-09-03T11:02:08.117Z"
   },
   {
    "duration": 100,
    "start_time": "2021-09-03T11:02:08.221Z"
   },
   {
    "duration": 43,
    "start_time": "2021-09-03T11:02:08.324Z"
   },
   {
    "duration": 490,
    "start_time": "2021-09-03T11:02:08.369Z"
   },
   {
    "duration": 12,
    "start_time": "2021-09-03T11:02:08.862Z"
   },
   {
    "duration": 1123,
    "start_time": "2021-09-03T11:02:08.876Z"
   },
   {
    "duration": 1031,
    "start_time": "2021-09-03T11:02:10.002Z"
   },
   {
    "duration": 986,
    "start_time": "2021-09-03T11:02:11.036Z"
   },
   {
    "duration": 1119,
    "start_time": "2021-09-03T11:02:12.025Z"
   },
   {
    "duration": 987,
    "start_time": "2021-09-03T11:02:13.146Z"
   },
   {
    "duration": 978,
    "start_time": "2021-09-03T11:02:14.136Z"
   },
   {
    "duration": 15,
    "start_time": "2021-09-03T11:02:15.118Z"
   },
   {
    "duration": 7,
    "start_time": "2021-09-03T11:02:15.155Z"
   },
   {
    "duration": 12,
    "start_time": "2021-09-03T11:02:15.164Z"
   },
   {
    "duration": 31,
    "start_time": "2021-09-03T11:02:15.179Z"
   },
   {
    "duration": 14,
    "start_time": "2021-09-03T11:02:15.213Z"
   },
   {
    "duration": 17,
    "start_time": "2021-09-03T11:02:15.229Z"
   },
   {
    "duration": 1291,
    "start_time": "2021-09-03T11:02:41.191Z"
   },
   {
    "duration": 5,
    "start_time": "2021-09-03T11:03:06.239Z"
   },
   {
    "duration": 1467,
    "start_time": "2021-09-03T11:03:06.248Z"
   },
   {
    "duration": 85,
    "start_time": "2021-09-03T11:03:07.718Z"
   },
   {
    "duration": 12,
    "start_time": "2021-09-03T11:03:07.806Z"
   },
   {
    "duration": 45,
    "start_time": "2021-09-03T11:03:07.821Z"
   },
   {
    "duration": 40,
    "start_time": "2021-09-03T11:03:07.868Z"
   },
   {
    "duration": 32,
    "start_time": "2021-09-03T11:03:07.911Z"
   },
   {
    "duration": 50,
    "start_time": "2021-09-03T11:03:07.947Z"
   },
   {
    "duration": 32,
    "start_time": "2021-09-03T11:03:08.000Z"
   },
   {
    "duration": 31,
    "start_time": "2021-09-03T11:03:08.035Z"
   },
   {
    "duration": 30,
    "start_time": "2021-09-03T11:03:08.068Z"
   },
   {
    "duration": 113,
    "start_time": "2021-09-03T11:03:08.101Z"
   },
   {
    "duration": 4638,
    "start_time": "2021-09-03T11:03:08.217Z"
   },
   {
    "duration": 12,
    "start_time": "2021-09-03T11:03:12.857Z"
   },
   {
    "duration": 3326,
    "start_time": "2021-09-03T11:03:12.872Z"
   },
   {
    "duration": 501,
    "start_time": "2021-09-03T11:03:16.201Z"
   },
   {
    "duration": 750,
    "start_time": "2021-09-03T11:03:16.704Z"
   },
   {
    "duration": 1067,
    "start_time": "2021-09-03T11:03:17.457Z"
   },
   {
    "duration": 475,
    "start_time": "2021-09-03T11:03:18.526Z"
   },
   {
    "duration": 24,
    "start_time": "2021-09-03T11:03:19.004Z"
   },
   {
    "duration": 33,
    "start_time": "2021-09-03T11:03:19.031Z"
   },
   {
    "duration": 40,
    "start_time": "2021-09-03T11:03:19.067Z"
   },
   {
    "duration": 457,
    "start_time": "2021-09-03T11:03:19.114Z"
   },
   {
    "duration": 11,
    "start_time": "2021-09-03T11:03:19.574Z"
   },
   {
    "duration": 599,
    "start_time": "2021-09-03T11:03:19.588Z"
   },
   {
    "duration": 501,
    "start_time": "2021-09-03T11:03:20.190Z"
   },
   {
    "duration": 7,
    "start_time": "2021-09-03T11:03:20.693Z"
   },
   {
    "duration": 12,
    "start_time": "2021-09-03T11:03:20.702Z"
   },
   {
    "duration": 3908,
    "start_time": "2021-09-03T11:03:20.717Z"
   },
   {
    "duration": 96,
    "start_time": "2021-09-03T11:03:24.627Z"
   },
   {
    "duration": 104,
    "start_time": "2021-09-03T11:03:24.725Z"
   },
   {
    "duration": 40,
    "start_time": "2021-09-03T11:03:24.832Z"
   },
   {
    "duration": 494,
    "start_time": "2021-09-03T11:03:24.875Z"
   },
   {
    "duration": 13,
    "start_time": "2021-09-03T11:03:25.371Z"
   },
   {
    "duration": 944,
    "start_time": "2021-09-03T11:03:25.386Z"
   },
   {
    "duration": 1052,
    "start_time": "2021-09-03T11:03:26.332Z"
   },
   {
    "duration": 962,
    "start_time": "2021-09-03T11:03:27.386Z"
   },
   {
    "duration": 953,
    "start_time": "2021-09-03T11:03:28.351Z"
   },
   {
    "duration": 1093,
    "start_time": "2021-09-03T11:03:29.307Z"
   },
   {
    "duration": 966,
    "start_time": "2021-09-03T11:03:30.402Z"
   },
   {
    "duration": 14,
    "start_time": "2021-09-03T11:03:31.371Z"
   },
   {
    "duration": 60,
    "start_time": "2021-09-03T11:03:31.388Z"
   },
   {
    "duration": 48,
    "start_time": "2021-09-03T11:03:31.451Z"
   },
   {
    "duration": 63,
    "start_time": "2021-09-03T11:03:31.502Z"
   },
   {
    "duration": 33,
    "start_time": "2021-09-03T11:03:31.568Z"
   },
   {
    "duration": 36,
    "start_time": "2021-09-03T11:03:31.603Z"
   },
   {
    "duration": 16,
    "start_time": "2021-09-03T11:17:26.631Z"
   },
   {
    "duration": 31,
    "start_time": "2021-09-03T11:17:37.287Z"
   },
   {
    "duration": 11,
    "start_time": "2021-09-03T11:18:18.518Z"
   },
   {
    "duration": 582,
    "start_time": "2021-09-03T11:19:24.046Z"
   },
   {
    "duration": 17,
    "start_time": "2021-09-03T11:20:09.143Z"
   },
   {
    "duration": 592,
    "start_time": "2021-09-03T11:20:10.788Z"
   },
   {
    "duration": 17,
    "start_time": "2021-09-03T11:20:21.926Z"
   },
   {
    "duration": 3,
    "start_time": "2021-09-03T11:20:23.021Z"
   },
   {
    "duration": 534,
    "start_time": "2021-09-03T11:20:23.494Z"
   },
   {
    "duration": 17,
    "start_time": "2021-09-03T11:20:37.646Z"
   },
   {
    "duration": 3,
    "start_time": "2021-09-03T11:20:38.486Z"
   },
   {
    "duration": 498,
    "start_time": "2021-09-03T11:20:38.934Z"
   },
   {
    "duration": 478,
    "start_time": "2021-09-03T11:21:16.006Z"
   },
   {
    "duration": 542,
    "start_time": "2021-09-03T11:21:34.190Z"
   },
   {
    "duration": 17,
    "start_time": "2021-09-03T11:21:47.325Z"
   },
   {
    "duration": 535,
    "start_time": "2021-09-03T11:21:48.364Z"
   },
   {
    "duration": 18,
    "start_time": "2021-09-03T11:22:12.236Z"
   },
   {
    "duration": 18,
    "start_time": "2021-09-03T11:22:29.493Z"
   },
   {
    "duration": 566,
    "start_time": "2021-09-03T11:22:32.901Z"
   },
   {
    "duration": 17,
    "start_time": "2021-09-03T11:22:43.150Z"
   },
   {
    "duration": 522,
    "start_time": "2021-09-03T11:22:44.014Z"
   },
   {
    "duration": 17,
    "start_time": "2021-09-03T11:22:55.972Z"
   },
   {
    "duration": 595,
    "start_time": "2021-09-03T11:22:56.580Z"
   },
   {
    "duration": 19,
    "start_time": "2021-09-03T11:23:06.245Z"
   },
   {
    "duration": 506,
    "start_time": "2021-09-03T11:23:07.236Z"
   },
   {
    "duration": 18,
    "start_time": "2021-09-03T11:23:16.940Z"
   },
   {
    "duration": 543,
    "start_time": "2021-09-03T11:23:17.596Z"
   },
   {
    "duration": 690,
    "start_time": "2021-09-03T11:24:13.348Z"
   },
   {
    "duration": 530,
    "start_time": "2021-09-03T11:24:50.245Z"
   },
   {
    "duration": 5,
    "start_time": "2021-09-03T11:25:18.185Z"
   },
   {
    "duration": 1544,
    "start_time": "2021-09-03T11:25:18.194Z"
   },
   {
    "duration": 87,
    "start_time": "2021-09-03T11:25:19.742Z"
   },
   {
    "duration": 22,
    "start_time": "2021-09-03T11:25:19.832Z"
   },
   {
    "duration": 11,
    "start_time": "2021-09-03T11:25:19.857Z"
   },
   {
    "duration": 17,
    "start_time": "2021-09-03T11:25:19.871Z"
   },
   {
    "duration": 19,
    "start_time": "2021-09-03T11:25:19.891Z"
   },
   {
    "duration": 53,
    "start_time": "2021-09-03T11:25:19.913Z"
   },
   {
    "duration": 30,
    "start_time": "2021-09-03T11:25:19.972Z"
   },
   {
    "duration": 17,
    "start_time": "2021-09-03T11:25:20.005Z"
   },
   {
    "duration": 24,
    "start_time": "2021-09-03T11:25:20.055Z"
   },
   {
    "duration": 128,
    "start_time": "2021-09-03T11:25:20.082Z"
   },
   {
    "duration": 4669,
    "start_time": "2021-09-03T11:25:20.213Z"
   },
   {
    "duration": 13,
    "start_time": "2021-09-03T11:25:24.885Z"
   },
   {
    "duration": 3532,
    "start_time": "2021-09-03T11:25:24.900Z"
   },
   {
    "duration": 523,
    "start_time": "2021-09-03T11:25:28.434Z"
   },
   {
    "duration": 875,
    "start_time": "2021-09-03T11:25:28.959Z"
   },
   {
    "duration": 1085,
    "start_time": "2021-09-03T11:25:29.837Z"
   },
   {
    "duration": 493,
    "start_time": "2021-09-03T11:25:30.924Z"
   },
   {
    "duration": 19,
    "start_time": "2021-09-03T11:25:31.420Z"
   },
   {
    "duration": 448,
    "start_time": "2021-09-03T11:25:31.455Z"
   },
   {
    "duration": -10480,
    "start_time": "2021-09-03T11:25:42.386Z"
   },
   {
    "duration": -10482,
    "start_time": "2021-09-03T11:25:42.389Z"
   },
   {
    "duration": -10484,
    "start_time": "2021-09-03T11:25:42.392Z"
   },
   {
    "duration": -10484,
    "start_time": "2021-09-03T11:25:42.394Z"
   },
   {
    "duration": -10486,
    "start_time": "2021-09-03T11:25:42.397Z"
   },
   {
    "duration": -10492,
    "start_time": "2021-09-03T11:25:42.404Z"
   },
   {
    "duration": -10493,
    "start_time": "2021-09-03T11:25:42.407Z"
   },
   {
    "duration": -10498,
    "start_time": "2021-09-03T11:25:42.414Z"
   },
   {
    "duration": -10501,
    "start_time": "2021-09-03T11:25:42.418Z"
   },
   {
    "duration": -10512,
    "start_time": "2021-09-03T11:25:42.430Z"
   },
   {
    "duration": -10519,
    "start_time": "2021-09-03T11:25:42.439Z"
   },
   {
    "duration": -10525,
    "start_time": "2021-09-03T11:25:42.446Z"
   },
   {
    "duration": -10532,
    "start_time": "2021-09-03T11:25:42.455Z"
   },
   {
    "duration": -10541,
    "start_time": "2021-09-03T11:25:42.465Z"
   },
   {
    "duration": -10545,
    "start_time": "2021-09-03T11:25:42.470Z"
   },
   {
    "duration": -10547,
    "start_time": "2021-09-03T11:25:42.474Z"
   },
   {
    "duration": -10551,
    "start_time": "2021-09-03T11:25:42.479Z"
   },
   {
    "duration": -10554,
    "start_time": "2021-09-03T11:25:42.484Z"
   },
   {
    "duration": -10559,
    "start_time": "2021-09-03T11:25:42.490Z"
   },
   {
    "duration": -10564,
    "start_time": "2021-09-03T11:25:42.496Z"
   },
   {
    "duration": -10566,
    "start_time": "2021-09-03T11:25:42.500Z"
   },
   {
    "duration": -10568,
    "start_time": "2021-09-03T11:25:42.503Z"
   },
   {
    "duration": -10572,
    "start_time": "2021-09-03T11:25:42.508Z"
   },
   {
    "duration": 11,
    "start_time": "2021-09-03T11:28:41.006Z"
   },
   {
    "duration": 603,
    "start_time": "2021-09-03T11:28:41.630Z"
   },
   {
    "duration": 10,
    "start_time": "2021-09-03T11:28:51.104Z"
   },
   {
    "duration": 509,
    "start_time": "2021-09-03T11:28:51.560Z"
   },
   {
    "duration": 12,
    "start_time": "2021-09-03T11:29:41.662Z"
   },
   {
    "duration": 552,
    "start_time": "2021-09-03T11:29:42.167Z"
   },
   {
    "duration": 4,
    "start_time": "2021-09-03T11:31:04.578Z"
   },
   {
    "duration": 1445,
    "start_time": "2021-09-03T11:31:04.585Z"
   },
   {
    "duration": 87,
    "start_time": "2021-09-03T11:31:06.033Z"
   },
   {
    "duration": 11,
    "start_time": "2021-09-03T11:31:06.123Z"
   },
   {
    "duration": 38,
    "start_time": "2021-09-03T11:31:06.136Z"
   },
   {
    "duration": 20,
    "start_time": "2021-09-03T11:31:06.177Z"
   },
   {
    "duration": 27,
    "start_time": "2021-09-03T11:31:06.201Z"
   },
   {
    "duration": 33,
    "start_time": "2021-09-03T11:31:06.234Z"
   },
   {
    "duration": 27,
    "start_time": "2021-09-03T11:31:06.271Z"
   },
   {
    "duration": 14,
    "start_time": "2021-09-03T11:31:06.300Z"
   },
   {
    "duration": 43,
    "start_time": "2021-09-03T11:31:06.317Z"
   },
   {
    "duration": 112,
    "start_time": "2021-09-03T11:31:06.363Z"
   },
   {
    "duration": 4226,
    "start_time": "2021-09-03T11:31:06.477Z"
   },
   {
    "duration": 12,
    "start_time": "2021-09-03T11:31:10.705Z"
   },
   {
    "duration": 3359,
    "start_time": "2021-09-03T11:31:10.719Z"
   },
   {
    "duration": 685,
    "start_time": "2021-09-03T11:31:14.081Z"
   },
   {
    "duration": 768,
    "start_time": "2021-09-03T11:31:14.768Z"
   },
   {
    "duration": 1071,
    "start_time": "2021-09-03T11:31:15.540Z"
   },
   {
    "duration": 482,
    "start_time": "2021-09-03T11:31:16.614Z"
   },
   {
    "duration": 21,
    "start_time": "2021-09-03T11:31:17.098Z"
   },
   {
    "duration": 32,
    "start_time": "2021-09-03T11:31:17.122Z"
   },
   {
    "duration": 553,
    "start_time": "2021-09-03T11:31:17.157Z"
   },
   {
    "duration": 12,
    "start_time": "2021-09-03T11:31:17.717Z"
   },
   {
    "duration": 638,
    "start_time": "2021-09-03T11:31:17.733Z"
   },
   {
    "duration": 531,
    "start_time": "2021-09-03T11:31:18.374Z"
   },
   {
    "duration": 7,
    "start_time": "2021-09-03T11:31:18.908Z"
   },
   {
    "duration": 13,
    "start_time": "2021-09-03T11:31:18.917Z"
   },
   {
    "duration": 1153,
    "start_time": "2021-09-03T11:31:18.954Z"
   },
   {
    "duration": -10364,
    "start_time": "2021-09-03T11:31:30.473Z"
   },
   {
    "duration": -10365,
    "start_time": "2021-09-03T11:31:30.476Z"
   },
   {
    "duration": -10434,
    "start_time": "2021-09-03T11:31:30.546Z"
   },
   {
    "duration": -10444,
    "start_time": "2021-09-03T11:31:30.558Z"
   },
   {
    "duration": -10447,
    "start_time": "2021-09-03T11:31:30.563Z"
   },
   {
    "duration": -10449,
    "start_time": "2021-09-03T11:31:30.566Z"
   },
   {
    "duration": -10451,
    "start_time": "2021-09-03T11:31:30.569Z"
   },
   {
    "duration": -10454,
    "start_time": "2021-09-03T11:31:30.573Z"
   },
   {
    "duration": -10455,
    "start_time": "2021-09-03T11:31:30.576Z"
   },
   {
    "duration": -10456,
    "start_time": "2021-09-03T11:31:30.579Z"
   },
   {
    "duration": -10457,
    "start_time": "2021-09-03T11:31:30.581Z"
   },
   {
    "duration": -10459,
    "start_time": "2021-09-03T11:31:30.584Z"
   },
   {
    "duration": -10459,
    "start_time": "2021-09-03T11:31:30.586Z"
   },
   {
    "duration": -10461,
    "start_time": "2021-09-03T11:31:30.589Z"
   },
   {
    "duration": -10461,
    "start_time": "2021-09-03T11:31:30.591Z"
   },
   {
    "duration": -10499,
    "start_time": "2021-09-03T11:31:30.630Z"
   },
   {
    "duration": -10504,
    "start_time": "2021-09-03T11:31:30.636Z"
   },
   {
    "duration": 583,
    "start_time": "2021-09-03T11:44:54.217Z"
   },
   {
    "duration": 580,
    "start_time": "2021-09-03T11:45:59.035Z"
   },
   {
    "duration": 576,
    "start_time": "2021-09-03T11:48:24.728Z"
   },
   {
    "duration": 12,
    "start_time": "2021-09-03T11:49:01.584Z"
   },
   {
    "duration": 279,
    "start_time": "2021-09-03T11:50:37.943Z"
   },
   {
    "duration": 12,
    "start_time": "2021-09-03T11:50:45.585Z"
   },
   {
    "duration": 12,
    "start_time": "2021-09-03T11:51:18.679Z"
   },
   {
    "duration": 17,
    "start_time": "2021-09-03T11:51:35.695Z"
   },
   {
    "duration": 16,
    "start_time": "2021-09-03T11:52:34.214Z"
   },
   {
    "duration": 4,
    "start_time": "2021-09-03T11:54:07.472Z"
   },
   {
    "duration": 1442,
    "start_time": "2021-09-03T11:54:07.479Z"
   },
   {
    "duration": 92,
    "start_time": "2021-09-03T11:54:08.924Z"
   },
   {
    "duration": 11,
    "start_time": "2021-09-03T11:54:09.019Z"
   },
   {
    "duration": 30,
    "start_time": "2021-09-03T11:54:09.033Z"
   },
   {
    "duration": 13,
    "start_time": "2021-09-03T11:54:09.066Z"
   },
   {
    "duration": 13,
    "start_time": "2021-09-03T11:54:09.082Z"
   },
   {
    "duration": 32,
    "start_time": "2021-09-03T11:54:09.098Z"
   },
   {
    "duration": 33,
    "start_time": "2021-09-03T11:54:09.154Z"
   },
   {
    "duration": 16,
    "start_time": "2021-09-03T11:54:09.190Z"
   },
   {
    "duration": 58,
    "start_time": "2021-09-03T11:54:09.209Z"
   },
   {
    "duration": 102,
    "start_time": "2021-09-03T11:54:09.269Z"
   },
   {
    "duration": 4343,
    "start_time": "2021-09-03T11:54:09.374Z"
   },
   {
    "duration": 12,
    "start_time": "2021-09-03T11:54:13.720Z"
   },
   {
    "duration": 3583,
    "start_time": "2021-09-03T11:54:13.735Z"
   },
   {
    "duration": 520,
    "start_time": "2021-09-03T11:54:17.322Z"
   },
   {
    "duration": 773,
    "start_time": "2021-09-03T11:54:17.845Z"
   },
   {
    "duration": 1170,
    "start_time": "2021-09-03T11:54:18.620Z"
   },
   {
    "duration": 503,
    "start_time": "2021-09-03T11:54:19.795Z"
   },
   {
    "duration": 20,
    "start_time": "2021-09-03T11:54:20.301Z"
   },
   {
    "duration": 33,
    "start_time": "2021-09-03T11:54:20.324Z"
   },
   {
    "duration": 609,
    "start_time": "2021-09-03T11:54:20.359Z"
   },
   {
    "duration": 633,
    "start_time": "2021-09-03T11:54:20.970Z"
   },
   {
    "duration": 86,
    "start_time": "2021-09-03T11:54:21.606Z"
   },
   {
    "duration": -10396,
    "start_time": "2021-09-03T11:54:32.090Z"
   },
   {
    "duration": -10400,
    "start_time": "2021-09-03T11:54:32.096Z"
   },
   {
    "duration": -10405,
    "start_time": "2021-09-03T11:54:32.102Z"
   },
   {
    "duration": -10410,
    "start_time": "2021-09-03T11:54:32.108Z"
   },
   {
    "duration": -10414,
    "start_time": "2021-09-03T11:54:32.114Z"
   },
   {
    "duration": -10420,
    "start_time": "2021-09-03T11:54:32.122Z"
   },
   {
    "duration": -10424,
    "start_time": "2021-09-03T11:54:32.127Z"
   },
   {
    "duration": -10427,
    "start_time": "2021-09-03T11:54:32.132Z"
   },
   {
    "duration": -10429,
    "start_time": "2021-09-03T11:54:32.135Z"
   },
   {
    "duration": -10431,
    "start_time": "2021-09-03T11:54:32.138Z"
   },
   {
    "duration": -10436,
    "start_time": "2021-09-03T11:54:32.145Z"
   },
   {
    "duration": -10439,
    "start_time": "2021-09-03T11:54:32.149Z"
   },
   {
    "duration": -10442,
    "start_time": "2021-09-03T11:54:32.153Z"
   },
   {
    "duration": -10445,
    "start_time": "2021-09-03T11:54:32.157Z"
   },
   {
    "duration": -10450,
    "start_time": "2021-09-03T11:54:32.164Z"
   },
   {
    "duration": -10452,
    "start_time": "2021-09-03T11:54:32.167Z"
   },
   {
    "duration": -10453,
    "start_time": "2021-09-03T11:54:32.169Z"
   },
   {
    "duration": -10454,
    "start_time": "2021-09-03T11:54:32.171Z"
   },
   {
    "duration": -10456,
    "start_time": "2021-09-03T11:54:32.175Z"
   },
   {
    "duration": -10458,
    "start_time": "2021-09-03T11:54:32.178Z"
   },
   {
    "duration": 545,
    "start_time": "2021-09-03T11:55:29.855Z"
   },
   {
    "duration": 7,
    "start_time": "2021-09-03T11:55:40.751Z"
   },
   {
    "duration": 1544,
    "start_time": "2021-09-03T11:55:40.761Z"
   },
   {
    "duration": 94,
    "start_time": "2021-09-03T11:55:42.308Z"
   },
   {
    "duration": 13,
    "start_time": "2021-09-03T11:55:42.405Z"
   },
   {
    "duration": 9,
    "start_time": "2021-09-03T11:55:42.421Z"
   },
   {
    "duration": 41,
    "start_time": "2021-09-03T11:55:42.432Z"
   },
   {
    "duration": 21,
    "start_time": "2021-09-03T11:55:42.476Z"
   },
   {
    "duration": 27,
    "start_time": "2021-09-03T11:55:42.502Z"
   },
   {
    "duration": 52,
    "start_time": "2021-09-03T11:55:42.532Z"
   },
   {
    "duration": 16,
    "start_time": "2021-09-03T11:55:42.588Z"
   },
   {
    "duration": 18,
    "start_time": "2021-09-03T11:55:42.607Z"
   },
   {
    "duration": 112,
    "start_time": "2021-09-03T11:55:42.655Z"
   },
   {
    "duration": 4348,
    "start_time": "2021-09-03T11:55:42.770Z"
   },
   {
    "duration": 14,
    "start_time": "2021-09-03T11:55:47.120Z"
   },
   {
    "duration": 3498,
    "start_time": "2021-09-03T11:55:47.137Z"
   },
   {
    "duration": 514,
    "start_time": "2021-09-03T11:55:50.637Z"
   },
   {
    "duration": 749,
    "start_time": "2021-09-03T11:55:51.156Z"
   },
   {
    "duration": 1060,
    "start_time": "2021-09-03T11:55:51.908Z"
   },
   {
    "duration": 494,
    "start_time": "2021-09-03T11:55:52.971Z"
   },
   {
    "duration": 21,
    "start_time": "2021-09-03T11:55:53.468Z"
   },
   {
    "duration": 10,
    "start_time": "2021-09-03T11:55:53.491Z"
   },
   {
    "duration": 528,
    "start_time": "2021-09-03T11:55:53.503Z"
   },
   {
    "duration": 678,
    "start_time": "2021-09-03T11:55:54.036Z"
   },
   {
    "duration": 580,
    "start_time": "2021-09-03T11:55:54.717Z"
   },
   {
    "duration": 15,
    "start_time": "2021-09-03T11:55:55.299Z"
   },
   {
    "duration": 13,
    "start_time": "2021-09-03T11:55:55.317Z"
   },
   {
    "duration": 419,
    "start_time": "2021-09-03T11:55:55.355Z"
   },
   {
    "duration": -10377,
    "start_time": "2021-09-03T11:56:06.154Z"
   },
   {
    "duration": -10379,
    "start_time": "2021-09-03T11:56:06.157Z"
   },
   {
    "duration": -10380,
    "start_time": "2021-09-03T11:56:06.160Z"
   },
   {
    "duration": -10386,
    "start_time": "2021-09-03T11:56:06.168Z"
   },
   {
    "duration": -10388,
    "start_time": "2021-09-03T11:56:06.171Z"
   },
   {
    "duration": -10390,
    "start_time": "2021-09-03T11:56:06.174Z"
   },
   {
    "duration": -10391,
    "start_time": "2021-09-03T11:56:06.176Z"
   },
   {
    "duration": -10392,
    "start_time": "2021-09-03T11:56:06.179Z"
   },
   {
    "duration": -10394,
    "start_time": "2021-09-03T11:56:06.182Z"
   },
   {
    "duration": -10394,
    "start_time": "2021-09-03T11:56:06.184Z"
   },
   {
    "duration": -10401,
    "start_time": "2021-09-03T11:56:06.192Z"
   },
   {
    "duration": -10403,
    "start_time": "2021-09-03T11:56:06.195Z"
   },
   {
    "duration": -10403,
    "start_time": "2021-09-03T11:56:06.197Z"
   },
   {
    "duration": -10405,
    "start_time": "2021-09-03T11:56:06.200Z"
   },
   {
    "duration": -10406,
    "start_time": "2021-09-03T11:56:06.202Z"
   },
   {
    "duration": -10451,
    "start_time": "2021-09-03T11:56:06.248Z"
   },
   {
    "duration": -10452,
    "start_time": "2021-09-03T11:56:06.251Z"
   },
   {
    "duration": 3984,
    "start_time": "2021-09-03T11:57:20.752Z"
   },
   {
    "duration": 91,
    "start_time": "2021-09-03T11:58:07.719Z"
   },
   {
    "duration": 89,
    "start_time": "2021-09-03T11:58:10.734Z"
   },
   {
    "duration": 24,
    "start_time": "2021-09-03T12:03:03.830Z"
   },
   {
    "duration": 496,
    "start_time": "2021-09-03T12:03:07.436Z"
   },
   {
    "duration": 473,
    "start_time": "2021-09-03T12:04:15.310Z"
   },
   {
    "duration": 494,
    "start_time": "2021-09-03T12:04:23.651Z"
   },
   {
    "duration": 20,
    "start_time": "2021-09-03T12:05:10.948Z"
   },
   {
    "duration": 698,
    "start_time": "2021-09-03T12:05:15.395Z"
   },
   {
    "duration": 315,
    "start_time": "2021-09-03T12:05:32.707Z"
   },
   {
    "duration": 453,
    "start_time": "2021-09-03T12:06:25.850Z"
   },
   {
    "duration": 16,
    "start_time": "2021-09-03T12:06:58.994Z"
   },
   {
    "duration": 791,
    "start_time": "2021-09-03T12:07:09.666Z"
   },
   {
    "duration": 445,
    "start_time": "2021-09-03T12:07:22.754Z"
   },
   {
    "duration": 476,
    "start_time": "2021-09-03T12:07:37.441Z"
   },
   {
    "duration": 465,
    "start_time": "2021-09-03T12:07:41.969Z"
   },
   {
    "duration": 4,
    "start_time": "2021-09-03T12:08:12.890Z"
   },
   {
    "duration": 1408,
    "start_time": "2021-09-03T12:08:12.897Z"
   },
   {
    "duration": 86,
    "start_time": "2021-09-03T12:08:14.307Z"
   },
   {
    "duration": 15,
    "start_time": "2021-09-03T12:08:14.397Z"
   },
   {
    "duration": 34,
    "start_time": "2021-09-03T12:08:14.415Z"
   },
   {
    "duration": 45,
    "start_time": "2021-09-03T12:08:14.455Z"
   },
   {
    "duration": 13,
    "start_time": "2021-09-03T12:08:14.503Z"
   },
   {
    "duration": 23,
    "start_time": "2021-09-03T12:08:14.519Z"
   },
   {
    "duration": 25,
    "start_time": "2021-09-03T12:08:14.545Z"
   },
   {
    "duration": 17,
    "start_time": "2021-09-03T12:08:14.573Z"
   },
   {
    "duration": 21,
    "start_time": "2021-09-03T12:08:14.594Z"
   },
   {
    "duration": 126,
    "start_time": "2021-09-03T12:08:14.617Z"
   },
   {
    "duration": 4110,
    "start_time": "2021-09-03T12:08:14.754Z"
   },
   {
    "duration": 13,
    "start_time": "2021-09-03T12:08:18.866Z"
   },
   {
    "duration": 3376,
    "start_time": "2021-09-03T12:08:18.881Z"
   },
   {
    "duration": 604,
    "start_time": "2021-09-03T12:08:22.260Z"
   },
   {
    "duration": 743,
    "start_time": "2021-09-03T12:08:22.866Z"
   },
   {
    "duration": 1093,
    "start_time": "2021-09-03T12:08:23.612Z"
   },
   {
    "duration": 478,
    "start_time": "2021-09-03T12:08:24.707Z"
   },
   {
    "duration": 19,
    "start_time": "2021-09-03T12:08:25.188Z"
   },
   {
    "duration": 41,
    "start_time": "2021-09-03T12:08:25.209Z"
   },
   {
    "duration": 505,
    "start_time": "2021-09-03T12:08:25.252Z"
   },
   {
    "duration": 619,
    "start_time": "2021-09-03T12:08:25.762Z"
   },
   {
    "duration": 532,
    "start_time": "2021-09-03T12:08:26.384Z"
   },
   {
    "duration": 16,
    "start_time": "2021-09-03T12:08:26.918Z"
   },
   {
    "duration": 32,
    "start_time": "2021-09-03T12:08:26.937Z"
   },
   {
    "duration": 638,
    "start_time": "2021-09-03T12:08:26.971Z"
   },
   {
    "duration": 18,
    "start_time": "2021-09-03T12:08:27.613Z"
   },
   {
    "duration": 972,
    "start_time": "2021-09-03T12:08:27.634Z"
   },
   {
    "duration": 953,
    "start_time": "2021-09-03T12:08:28.610Z"
   },
   {
    "duration": 988,
    "start_time": "2021-09-03T12:08:29.566Z"
   },
   {
    "duration": 1007,
    "start_time": "2021-09-03T12:08:30.557Z"
   },
   {
    "duration": 1040,
    "start_time": "2021-09-03T12:08:31.567Z"
   },
   {
    "duration": 950,
    "start_time": "2021-09-03T12:08:32.610Z"
   },
   {
    "duration": 13,
    "start_time": "2021-09-03T12:08:33.562Z"
   },
   {
    "duration": 25,
    "start_time": "2021-09-03T12:08:33.578Z"
   },
   {
    "duration": 28,
    "start_time": "2021-09-03T12:08:33.605Z"
   },
   {
    "duration": 37,
    "start_time": "2021-09-03T12:08:33.636Z"
   },
   {
    "duration": 24,
    "start_time": "2021-09-03T12:08:33.675Z"
   },
   {
    "duration": 19,
    "start_time": "2021-09-03T12:08:33.702Z"
   },
   {
    "duration": 627,
    "start_time": "2021-09-03T12:16:02.427Z"
   },
   {
    "duration": 625,
    "start_time": "2021-09-03T12:16:42.763Z"
   },
   {
    "duration": 5,
    "start_time": "2021-09-03T12:17:17.947Z"
   },
   {
    "duration": 1448,
    "start_time": "2021-09-03T12:17:17.955Z"
   },
   {
    "duration": 90,
    "start_time": "2021-09-03T12:17:19.406Z"
   },
   {
    "duration": 11,
    "start_time": "2021-09-03T12:17:19.499Z"
   },
   {
    "duration": 34,
    "start_time": "2021-09-03T12:17:19.512Z"
   },
   {
    "duration": 21,
    "start_time": "2021-09-03T12:17:19.548Z"
   },
   {
    "duration": 27,
    "start_time": "2021-09-03T12:17:19.572Z"
   },
   {
    "duration": 43,
    "start_time": "2021-09-03T12:17:19.603Z"
   },
   {
    "duration": 25,
    "start_time": "2021-09-03T12:17:19.649Z"
   },
   {
    "duration": 13,
    "start_time": "2021-09-03T12:17:19.677Z"
   },
   {
    "duration": 17,
    "start_time": "2021-09-03T12:17:19.692Z"
   },
   {
    "duration": 122,
    "start_time": "2021-09-03T12:17:19.712Z"
   },
   {
    "duration": 4596,
    "start_time": "2021-09-03T12:17:19.837Z"
   },
   {
    "duration": 21,
    "start_time": "2021-09-03T12:17:24.435Z"
   },
   {
    "duration": 3335,
    "start_time": "2021-09-03T12:17:24.458Z"
   },
   {
    "duration": 516,
    "start_time": "2021-09-03T12:17:27.795Z"
   },
   {
    "duration": 501,
    "start_time": "2021-09-03T12:17:28.314Z"
   },
   {
    "duration": 829,
    "start_time": "2021-09-03T12:17:28.817Z"
   },
   {
    "duration": 1058,
    "start_time": "2021-09-03T12:17:29.648Z"
   },
   {
    "duration": 474,
    "start_time": "2021-09-03T12:17:30.709Z"
   },
   {
    "duration": 21,
    "start_time": "2021-09-03T12:17:31.186Z"
   },
   {
    "duration": 30,
    "start_time": "2021-09-03T12:17:31.209Z"
   },
   {
    "duration": 511,
    "start_time": "2021-09-03T12:17:31.243Z"
   },
   {
    "duration": 621,
    "start_time": "2021-09-03T12:17:31.757Z"
   },
   {
    "duration": 523,
    "start_time": "2021-09-03T12:17:32.381Z"
   },
   {
    "duration": 16,
    "start_time": "2021-09-03T12:17:32.906Z"
   },
   {
    "duration": 33,
    "start_time": "2021-09-03T12:17:32.925Z"
   },
   {
    "duration": 470,
    "start_time": "2021-09-03T12:17:32.960Z"
   },
   {
    "duration": 21,
    "start_time": "2021-09-03T12:17:33.433Z"
   },
   {
    "duration": 919,
    "start_time": "2021-09-03T12:17:33.457Z"
   },
   {
    "duration": 945,
    "start_time": "2021-09-03T12:17:34.379Z"
   },
   {
    "duration": 954,
    "start_time": "2021-09-03T12:17:35.326Z"
   },
   {
    "duration": 1065,
    "start_time": "2021-09-03T12:17:36.282Z"
   },
   {
    "duration": 1066,
    "start_time": "2021-09-03T12:17:37.349Z"
   },
   {
    "duration": 1019,
    "start_time": "2021-09-03T12:17:38.417Z"
   },
   {
    "duration": 28,
    "start_time": "2021-09-03T12:17:39.440Z"
   },
   {
    "duration": 39,
    "start_time": "2021-09-03T12:17:39.471Z"
   },
   {
    "duration": 30,
    "start_time": "2021-09-03T12:17:39.513Z"
   },
   {
    "duration": 47,
    "start_time": "2021-09-03T12:17:39.547Z"
   },
   {
    "duration": 36,
    "start_time": "2021-09-03T12:17:39.597Z"
   },
   {
    "duration": 43,
    "start_time": "2021-09-03T12:17:39.636Z"
   },
   {
    "duration": 12,
    "start_time": "2021-09-03T12:24:51.062Z"
   },
   {
    "duration": 7,
    "start_time": "2021-09-03T12:34:52.026Z"
   },
   {
    "duration": 2829,
    "start_time": "2021-09-03T12:35:07.210Z"
   },
   {
    "duration": 2448,
    "start_time": "2021-09-03T12:35:49.924Z"
   },
   {
    "duration": 8,
    "start_time": "2021-09-03T12:36:21.450Z"
   },
   {
    "duration": 2473,
    "start_time": "2021-09-03T12:36:28.010Z"
   },
   {
    "duration": 7,
    "start_time": "2021-09-03T12:37:36.954Z"
   },
   {
    "duration": 2034,
    "start_time": "2021-09-03T12:37:39.793Z"
   },
   {
    "duration": 8,
    "start_time": "2021-09-03T12:40:21.857Z"
   },
   {
    "duration": 1722,
    "start_time": "2021-09-03T12:40:25.912Z"
   },
   {
    "duration": 1726,
    "start_time": "2021-09-03T12:40:50.008Z"
   },
   {
    "duration": 7,
    "start_time": "2021-09-03T12:41:33.408Z"
   },
   {
    "duration": 2015,
    "start_time": "2021-09-03T12:41:36.153Z"
   },
   {
    "duration": 8,
    "start_time": "2021-09-03T12:42:21.191Z"
   },
   {
    "duration": 1094,
    "start_time": "2021-09-03T12:42:23.999Z"
   },
   {
    "duration": 11,
    "start_time": "2021-09-03T12:42:46.159Z"
   },
   {
    "duration": 1021,
    "start_time": "2021-09-03T12:42:48.703Z"
   },
   {
    "duration": 1067,
    "start_time": "2021-09-03T12:43:01.302Z"
   },
   {
    "duration": 8,
    "start_time": "2021-09-03T12:43:19.374Z"
   },
   {
    "duration": 938,
    "start_time": "2021-09-03T12:43:21.285Z"
   },
   {
    "duration": 7,
    "start_time": "2021-09-03T12:43:32.640Z"
   },
   {
    "duration": 7,
    "start_time": "2021-09-03T12:43:39.246Z"
   },
   {
    "duration": 935,
    "start_time": "2021-09-03T12:43:40.238Z"
   },
   {
    "duration": 8,
    "start_time": "2021-09-03T12:44:02.590Z"
   },
   {
    "duration": 931,
    "start_time": "2021-09-03T12:44:04.948Z"
   },
   {
    "duration": 8,
    "start_time": "2021-09-03T12:44:36.580Z"
   },
   {
    "duration": 1534,
    "start_time": "2021-09-03T12:44:37.892Z"
   },
   {
    "duration": 1026,
    "start_time": "2021-09-03T12:44:56.712Z"
   },
   {
    "duration": 956,
    "start_time": "2021-09-03T12:45:17.774Z"
   },
   {
    "duration": 908,
    "start_time": "2021-09-03T12:47:17.243Z"
   },
   {
    "duration": 1251,
    "start_time": "2021-09-03T12:47:27.684Z"
   },
   {
    "duration": 8,
    "start_time": "2021-09-03T12:49:08.059Z"
   },
   {
    "duration": 878,
    "start_time": "2021-09-03T12:49:10.204Z"
   },
   {
    "duration": 880,
    "start_time": "2021-09-03T12:49:16.778Z"
   },
   {
    "duration": 1014,
    "start_time": "2021-09-03T12:49:44.035Z"
   },
   {
    "duration": 920,
    "start_time": "2021-09-03T12:50:09.818Z"
   },
   {
    "duration": 929,
    "start_time": "2021-09-03T12:51:02.586Z"
   },
   {
    "duration": 942,
    "start_time": "2021-09-03T12:51:24.345Z"
   },
   {
    "duration": 5,
    "start_time": "2021-09-03T12:53:07.242Z"
   },
   {
    "duration": 1940,
    "start_time": "2021-09-03T12:53:07.250Z"
   },
   {
    "duration": 125,
    "start_time": "2021-09-03T12:53:09.194Z"
   },
   {
    "duration": 31,
    "start_time": "2021-09-03T12:53:09.323Z"
   },
   {
    "duration": 13,
    "start_time": "2021-09-03T12:53:09.357Z"
   },
   {
    "duration": 19,
    "start_time": "2021-09-03T12:53:09.373Z"
   },
   {
    "duration": 20,
    "start_time": "2021-09-03T12:53:09.395Z"
   },
   {
    "duration": 53,
    "start_time": "2021-09-03T12:53:09.417Z"
   },
   {
    "duration": 30,
    "start_time": "2021-09-03T12:53:09.475Z"
   },
   {
    "duration": 16,
    "start_time": "2021-09-03T12:53:09.509Z"
   },
   {
    "duration": 46,
    "start_time": "2021-09-03T12:53:09.528Z"
   },
   {
    "duration": 124,
    "start_time": "2021-09-03T12:53:09.577Z"
   },
   {
    "duration": 4243,
    "start_time": "2021-09-03T12:53:09.704Z"
   },
   {
    "duration": 16,
    "start_time": "2021-09-03T12:53:13.950Z"
   },
   {
    "duration": 3379,
    "start_time": "2021-09-03T12:53:13.969Z"
   },
   {
    "duration": 729,
    "start_time": "2021-09-03T12:53:17.354Z"
   },
   {
    "duration": 718,
    "start_time": "2021-09-03T12:53:18.086Z"
   },
   {
    "duration": 1098,
    "start_time": "2021-09-03T12:53:18.807Z"
   },
   {
    "duration": 1059,
    "start_time": "2021-09-03T12:53:19.908Z"
   },
   {
    "duration": 497,
    "start_time": "2021-09-03T12:53:20.970Z"
   },
   {
    "duration": 21,
    "start_time": "2021-09-03T12:53:21.470Z"
   },
   {
    "duration": 10,
    "start_time": "2021-09-03T12:53:21.494Z"
   },
   {
    "duration": 530,
    "start_time": "2021-09-03T12:53:21.507Z"
   },
   {
    "duration": 664,
    "start_time": "2021-09-03T12:53:22.040Z"
   },
   {
    "duration": 603,
    "start_time": "2021-09-03T12:53:22.706Z"
   },
   {
    "duration": 19,
    "start_time": "2021-09-03T12:53:23.312Z"
   },
   {
    "duration": 31,
    "start_time": "2021-09-03T12:53:23.336Z"
   },
   {
    "duration": 611,
    "start_time": "2021-09-03T12:53:23.370Z"
   },
   {
    "duration": 8,
    "start_time": "2021-09-03T12:53:23.983Z"
   },
   {
    "duration": 905,
    "start_time": "2021-09-03T12:53:23.993Z"
   },
   {
    "duration": 830,
    "start_time": "2021-09-03T12:53:24.901Z"
   },
   {
    "duration": 823,
    "start_time": "2021-09-03T12:53:25.733Z"
   },
   {
    "duration": 857,
    "start_time": "2021-09-03T12:53:26.559Z"
   },
   {
    "duration": 928,
    "start_time": "2021-09-03T12:53:27.419Z"
   },
   {
    "duration": 853,
    "start_time": "2021-09-03T12:53:28.350Z"
   },
   {
    "duration": 16,
    "start_time": "2021-09-03T12:53:29.206Z"
   },
   {
    "duration": 36,
    "start_time": "2021-09-03T12:53:29.225Z"
   },
   {
    "duration": 24,
    "start_time": "2021-09-03T12:53:29.264Z"
   },
   {
    "duration": 32,
    "start_time": "2021-09-03T12:53:29.291Z"
   },
   {
    "duration": 44,
    "start_time": "2021-09-03T12:53:29.325Z"
   },
   {
    "duration": 34,
    "start_time": "2021-09-03T12:53:29.371Z"
   },
   {
    "duration": 8,
    "start_time": "2021-09-03T12:55:31.619Z"
   },
   {
    "duration": 864,
    "start_time": "2021-09-03T12:55:39.994Z"
   },
   {
    "duration": 5,
    "start_time": "2021-09-03T12:55:57.316Z"
   },
   {
    "duration": 1871,
    "start_time": "2021-09-03T12:55:57.324Z"
   },
   {
    "duration": 120,
    "start_time": "2021-09-03T12:55:59.199Z"
   },
   {
    "duration": 16,
    "start_time": "2021-09-03T12:55:59.323Z"
   },
   {
    "duration": 18,
    "start_time": "2021-09-03T12:55:59.355Z"
   },
   {
    "duration": 20,
    "start_time": "2021-09-03T12:55:59.376Z"
   },
   {
    "duration": 15,
    "start_time": "2021-09-03T12:55:59.399Z"
   },
   {
    "duration": 48,
    "start_time": "2021-09-03T12:55:59.418Z"
   },
   {
    "duration": 29,
    "start_time": "2021-09-03T12:55:59.469Z"
   },
   {
    "duration": 15,
    "start_time": "2021-09-03T12:55:59.500Z"
   },
   {
    "duration": 45,
    "start_time": "2021-09-03T12:55:59.518Z"
   },
   {
    "duration": 162,
    "start_time": "2021-09-03T12:55:59.566Z"
   },
   {
    "duration": 6680,
    "start_time": "2021-09-03T12:55:59.731Z"
   },
   {
    "duration": 16,
    "start_time": "2021-09-03T12:56:06.414Z"
   },
   {
    "duration": 3344,
    "start_time": "2021-09-03T12:56:06.432Z"
   },
   {
    "duration": 512,
    "start_time": "2021-09-03T12:56:09.778Z"
   },
   {
    "duration": 504,
    "start_time": "2021-09-03T12:56:10.293Z"
   },
   {
    "duration": 752,
    "start_time": "2021-09-03T12:56:10.799Z"
   },
   {
    "duration": 1043,
    "start_time": "2021-09-03T12:56:11.555Z"
   },
   {
    "duration": 490,
    "start_time": "2021-09-03T12:56:12.601Z"
   },
   {
    "duration": 21,
    "start_time": "2021-09-03T12:56:13.094Z"
   },
   {
    "duration": 11,
    "start_time": "2021-09-03T12:56:13.117Z"
   },
   {
    "duration": 516,
    "start_time": "2021-09-03T12:56:13.158Z"
   },
   {
    "duration": 613,
    "start_time": "2021-09-03T12:56:13.678Z"
   },
   {
    "duration": 580,
    "start_time": "2021-09-03T12:56:14.294Z"
   },
   {
    "duration": 15,
    "start_time": "2021-09-03T12:56:14.877Z"
   },
   {
    "duration": 17,
    "start_time": "2021-09-03T12:56:14.895Z"
   },
   {
    "duration": 517,
    "start_time": "2021-09-03T12:56:14.915Z"
   },
   {
    "duration": 7,
    "start_time": "2021-09-03T12:56:15.435Z"
   },
   {
    "duration": 827,
    "start_time": "2021-09-03T12:56:15.444Z"
   },
   {
    "duration": 841,
    "start_time": "2021-09-03T12:56:16.275Z"
   },
   {
    "duration": 810,
    "start_time": "2021-09-03T12:56:17.119Z"
   },
   {
    "duration": 825,
    "start_time": "2021-09-03T12:56:17.932Z"
   },
   {
    "duration": 1015,
    "start_time": "2021-09-03T12:56:18.760Z"
   },
   {
    "duration": 827,
    "start_time": "2021-09-03T12:56:19.778Z"
   },
   {
    "duration": 15,
    "start_time": "2021-09-03T12:56:20.608Z"
   },
   {
    "duration": 28,
    "start_time": "2021-09-03T12:56:20.626Z"
   },
   {
    "duration": 7,
    "start_time": "2021-09-03T12:56:20.657Z"
   },
   {
    "duration": 26,
    "start_time": "2021-09-03T12:56:20.667Z"
   },
   {
    "duration": 19,
    "start_time": "2021-09-03T12:56:20.696Z"
   },
   {
    "duration": 14,
    "start_time": "2021-09-03T12:56:20.718Z"
   },
   {
    "duration": 14,
    "start_time": "2021-09-03T13:09:33.763Z"
   },
   {
    "duration": 6,
    "start_time": "2021-09-03T13:09:42.175Z"
   },
   {
    "duration": 10,
    "start_time": "2021-09-03T13:09:51.295Z"
   },
   {
    "duration": 15,
    "start_time": "2021-09-03T13:11:16.462Z"
   },
   {
    "duration": 16,
    "start_time": "2021-09-03T13:11:35.766Z"
   },
   {
    "duration": 6,
    "start_time": "2021-09-03T13:11:39.014Z"
   },
   {
    "duration": 9,
    "start_time": "2021-09-03T13:11:46.310Z"
   },
   {
    "duration": 499,
    "start_time": "2021-09-03T13:15:06.061Z"
   },
   {
    "duration": 5,
    "start_time": "2021-09-03T13:15:21.942Z"
   },
   {
    "duration": 1491,
    "start_time": "2021-09-03T13:15:21.949Z"
   },
   {
    "duration": 92,
    "start_time": "2021-09-03T13:15:23.442Z"
   },
   {
    "duration": 26,
    "start_time": "2021-09-03T13:15:23.537Z"
   },
   {
    "duration": 16,
    "start_time": "2021-09-03T13:15:23.566Z"
   },
   {
    "duration": 16,
    "start_time": "2021-09-03T13:15:23.585Z"
   },
   {
    "duration": 12,
    "start_time": "2021-09-03T13:15:23.603Z"
   },
   {
    "duration": 69,
    "start_time": "2021-09-03T13:15:23.618Z"
   },
   {
    "duration": 28,
    "start_time": "2021-09-03T13:15:23.692Z"
   },
   {
    "duration": 46,
    "start_time": "2021-09-03T13:15:23.724Z"
   },
   {
    "duration": 23,
    "start_time": "2021-09-03T13:15:23.773Z"
   },
   {
    "duration": 125,
    "start_time": "2021-09-03T13:15:23.799Z"
   },
   {
    "duration": 4403,
    "start_time": "2021-09-03T13:15:23.927Z"
   },
   {
    "duration": 24,
    "start_time": "2021-09-03T13:15:28.332Z"
   },
   {
    "duration": 3621,
    "start_time": "2021-09-03T13:15:28.359Z"
   },
   {
    "duration": 514,
    "start_time": "2021-09-03T13:15:31.982Z"
   },
   {
    "duration": 513,
    "start_time": "2021-09-03T13:15:32.499Z"
   },
   {
    "duration": 749,
    "start_time": "2021-09-03T13:15:33.014Z"
   },
   {
    "duration": 1083,
    "start_time": "2021-09-03T13:15:33.765Z"
   },
   {
    "duration": 487,
    "start_time": "2021-09-03T13:15:34.855Z"
   },
   {
    "duration": 26,
    "start_time": "2021-09-03T13:15:35.344Z"
   },
   {
    "duration": 10,
    "start_time": "2021-09-03T13:15:35.373Z"
   },
   {
    "duration": 523,
    "start_time": "2021-09-03T13:15:35.386Z"
   },
   {
    "duration": 673,
    "start_time": "2021-09-03T13:15:35.912Z"
   },
   {
    "duration": 548,
    "start_time": "2021-09-03T13:15:36.588Z"
   },
   {
    "duration": 24,
    "start_time": "2021-09-03T13:15:37.139Z"
   },
   {
    "duration": 19,
    "start_time": "2021-09-03T13:15:37.168Z"
   },
   {
    "duration": 587,
    "start_time": "2021-09-03T13:15:37.191Z"
   },
   {
    "duration": 10,
    "start_time": "2021-09-03T13:15:37.782Z"
   },
   {
    "duration": 860,
    "start_time": "2021-09-03T13:15:37.795Z"
   },
   {
    "duration": 958,
    "start_time": "2021-09-03T13:15:38.658Z"
   },
   {
    "duration": 942,
    "start_time": "2021-09-03T13:15:39.619Z"
   },
   {
    "duration": 873,
    "start_time": "2021-09-03T13:15:40.563Z"
   },
   {
    "duration": 1084,
    "start_time": "2021-09-03T13:15:41.439Z"
   },
   {
    "duration": 1149,
    "start_time": "2021-09-03T13:15:42.526Z"
   },
   {
    "duration": 16,
    "start_time": "2021-09-03T13:15:43.678Z"
   },
   {
    "duration": 51,
    "start_time": "2021-09-03T13:15:43.696Z"
   },
   {
    "duration": 33,
    "start_time": "2021-09-03T13:15:43.749Z"
   },
   {
    "duration": 50,
    "start_time": "2021-09-03T13:15:43.786Z"
   },
   {
    "duration": 17,
    "start_time": "2021-09-03T13:15:43.838Z"
   },
   {
    "duration": 32,
    "start_time": "2021-09-03T13:15:43.857Z"
   },
   {
    "duration": 16,
    "start_time": "2021-09-03T13:36:07.757Z"
   },
   {
    "duration": 19,
    "start_time": "2021-09-03T13:36:22.526Z"
   },
   {
    "duration": 15,
    "start_time": "2021-09-03T13:37:10.327Z"
   },
   {
    "duration": 430,
    "start_time": "2021-09-03T13:39:17.310Z"
   },
   {
    "duration": 21,
    "start_time": "2021-09-03T13:39:26.457Z"
   },
   {
    "duration": 20,
    "start_time": "2021-09-03T13:39:30.244Z"
   },
   {
    "duration": 9,
    "start_time": "2021-09-03T13:40:31.022Z"
   },
   {
    "duration": 16,
    "start_time": "2021-09-03T13:42:11.195Z"
   },
   {
    "duration": 16,
    "start_time": "2021-09-03T13:42:18.787Z"
   },
   {
    "duration": 16,
    "start_time": "2021-09-03T13:42:56.267Z"
   },
   {
    "duration": 15,
    "start_time": "2021-09-03T13:43:14.043Z"
   },
   {
    "duration": 16,
    "start_time": "2021-09-03T13:43:14.779Z"
   },
   {
    "duration": 15,
    "start_time": "2021-09-03T13:43:39.710Z"
   },
   {
    "duration": 15,
    "start_time": "2021-09-03T13:43:40.611Z"
   },
   {
    "duration": 7,
    "start_time": "2021-09-03T13:44:42.004Z"
   },
   {
    "duration": 15,
    "start_time": "2021-09-03T13:45:25.298Z"
   },
   {
    "duration": 15,
    "start_time": "2021-09-03T13:45:28.234Z"
   },
   {
    "duration": 7,
    "start_time": "2021-09-03T13:45:30.105Z"
   },
   {
    "duration": 17,
    "start_time": "2021-09-03T13:45:46.888Z"
   },
   {
    "duration": 17,
    "start_time": "2021-09-03T13:45:49.080Z"
   },
   {
    "duration": 8,
    "start_time": "2021-09-03T13:45:51.425Z"
   },
   {
    "duration": 15,
    "start_time": "2021-09-03T13:47:19.471Z"
   },
   {
    "duration": 16,
    "start_time": "2021-09-03T13:47:21.842Z"
   },
   {
    "duration": 9,
    "start_time": "2021-09-03T13:47:24.186Z"
   },
   {
    "duration": 14,
    "start_time": "2021-09-03T13:47:41.488Z"
   },
   {
    "duration": 14,
    "start_time": "2021-09-03T13:47:43.441Z"
   },
   {
    "duration": 20,
    "start_time": "2021-09-03T13:48:36.721Z"
   },
   {
    "duration": 19,
    "start_time": "2021-09-03T13:48:37.327Z"
   },
   {
    "duration": 7,
    "start_time": "2021-09-03T13:48:37.935Z"
   },
   {
    "duration": 1578,
    "start_time": "2021-09-03T13:50:17.144Z"
   },
   {
    "duration": 87,
    "start_time": "2021-09-03T13:50:18.724Z"
   },
   {
    "duration": 11,
    "start_time": "2021-09-03T13:50:18.814Z"
   },
   {
    "duration": 30,
    "start_time": "2021-09-03T13:50:18.828Z"
   },
   {
    "duration": 22,
    "start_time": "2021-09-03T13:50:18.861Z"
   },
   {
    "duration": 19,
    "start_time": "2021-09-03T13:50:18.885Z"
   },
   {
    "duration": 39,
    "start_time": "2021-09-03T13:50:18.906Z"
   },
   {
    "duration": 37,
    "start_time": "2021-09-03T13:50:18.951Z"
   },
   {
    "duration": 15,
    "start_time": "2021-09-03T13:50:18.992Z"
   },
   {
    "duration": 29,
    "start_time": "2021-09-03T13:50:19.009Z"
   },
   {
    "duration": 108,
    "start_time": "2021-09-03T13:50:19.040Z"
   },
   {
    "duration": 4379,
    "start_time": "2021-09-03T13:50:19.150Z"
   },
   {
    "duration": 12,
    "start_time": "2021-09-03T13:50:23.532Z"
   },
   {
    "duration": 3503,
    "start_time": "2021-09-03T13:50:23.555Z"
   },
   {
    "duration": 518,
    "start_time": "2021-09-03T13:50:27.061Z"
   },
   {
    "duration": 550,
    "start_time": "2021-09-03T13:50:27.583Z"
   },
   {
    "duration": 776,
    "start_time": "2021-09-03T13:50:28.137Z"
   },
   {
    "duration": 1078,
    "start_time": "2021-09-03T13:50:28.916Z"
   },
   {
    "duration": 496,
    "start_time": "2021-09-03T13:50:29.996Z"
   },
   {
    "duration": 21,
    "start_time": "2021-09-03T13:50:30.494Z"
   },
   {
    "duration": 24,
    "start_time": "2021-09-03T13:50:30.517Z"
   },
   {
    "duration": 537,
    "start_time": "2021-09-03T13:50:30.555Z"
   },
   {
    "duration": 651,
    "start_time": "2021-09-03T13:50:31.097Z"
   },
   {
    "duration": 563,
    "start_time": "2021-09-03T13:50:31.754Z"
   },
   {
    "duration": 15,
    "start_time": "2021-09-03T13:50:32.319Z"
   },
   {
    "duration": 36,
    "start_time": "2021-09-03T13:50:32.336Z"
   },
   {
    "duration": 482,
    "start_time": "2021-09-03T13:50:32.375Z"
   },
   {
    "duration": 7,
    "start_time": "2021-09-03T13:50:32.859Z"
   },
   {
    "duration": 820,
    "start_time": "2021-09-03T13:50:32.870Z"
   },
   {
    "duration": 840,
    "start_time": "2021-09-03T13:50:33.693Z"
   },
   {
    "duration": 950,
    "start_time": "2021-09-03T13:50:34.536Z"
   },
   {
    "duration": 847,
    "start_time": "2021-09-03T13:50:35.490Z"
   },
   {
    "duration": 962,
    "start_time": "2021-09-03T13:50:36.340Z"
   },
   {
    "duration": 825,
    "start_time": "2021-09-03T13:50:37.305Z"
   },
   {
    "duration": 27,
    "start_time": "2021-09-03T13:50:38.132Z"
   },
   {
    "duration": 34,
    "start_time": "2021-09-03T13:50:38.162Z"
   },
   {
    "duration": 26,
    "start_time": "2021-09-03T13:50:38.198Z"
   },
   {
    "duration": 34,
    "start_time": "2021-09-03T13:50:38.226Z"
   },
   {
    "duration": 22,
    "start_time": "2021-09-03T13:50:38.263Z"
   },
   {
    "duration": 25,
    "start_time": "2021-09-03T13:50:38.288Z"
   },
   {
    "duration": 790,
    "start_time": "2021-09-03T13:56:26.366Z"
   },
   {
    "duration": 832,
    "start_time": "2021-09-03T13:56:57.825Z"
   },
   {
    "duration": 1477,
    "start_time": "2021-09-03T13:59:04.347Z"
   },
   {
    "duration": 90,
    "start_time": "2021-09-03T13:59:05.826Z"
   },
   {
    "duration": 11,
    "start_time": "2021-09-03T13:59:05.919Z"
   },
   {
    "duration": 29,
    "start_time": "2021-09-03T13:59:05.933Z"
   },
   {
    "duration": 31,
    "start_time": "2021-09-03T13:59:05.964Z"
   },
   {
    "duration": 34,
    "start_time": "2021-09-03T13:59:05.998Z"
   },
   {
    "duration": 37,
    "start_time": "2021-09-03T13:59:06.035Z"
   },
   {
    "duration": 24,
    "start_time": "2021-09-03T13:59:06.076Z"
   },
   {
    "duration": 13,
    "start_time": "2021-09-03T13:59:06.102Z"
   },
   {
    "duration": 49,
    "start_time": "2021-09-03T13:59:06.118Z"
   },
   {
    "duration": 116,
    "start_time": "2021-09-03T13:59:06.169Z"
   },
   {
    "duration": 4231,
    "start_time": "2021-09-03T13:59:06.287Z"
   },
   {
    "duration": 12,
    "start_time": "2021-09-03T13:59:10.521Z"
   },
   {
    "duration": 5789,
    "start_time": "2021-09-03T13:59:10.536Z"
   },
   {
    "duration": 712,
    "start_time": "2021-09-03T13:59:16.328Z"
   },
   {
    "duration": 705,
    "start_time": "2021-09-03T13:59:17.043Z"
   },
   {
    "duration": 1074,
    "start_time": "2021-09-03T13:59:17.755Z"
   },
   {
    "duration": 1497,
    "start_time": "2021-09-03T13:59:18.832Z"
   },
   {
    "duration": 697,
    "start_time": "2021-09-03T13:59:20.332Z"
   },
   {
    "duration": 39,
    "start_time": "2021-09-03T13:59:21.033Z"
   },
   {
    "duration": 13,
    "start_time": "2021-09-03T13:59:21.076Z"
   },
   {
    "duration": 518,
    "start_time": "2021-09-03T13:59:21.091Z"
   },
   {
    "duration": 621,
    "start_time": "2021-09-03T13:59:21.614Z"
   },
   {
    "duration": 547,
    "start_time": "2021-09-03T13:59:22.238Z"
   },
   {
    "duration": 16,
    "start_time": "2021-09-03T13:59:22.788Z"
   },
   {
    "duration": 22,
    "start_time": "2021-09-03T13:59:22.807Z"
   },
   {
    "duration": 480,
    "start_time": "2021-09-03T13:59:22.854Z"
   },
   {
    "duration": 7,
    "start_time": "2021-09-03T13:59:23.337Z"
   },
   {
    "duration": 946,
    "start_time": "2021-09-03T13:59:23.356Z"
   },
   {
    "duration": 808,
    "start_time": "2021-09-03T13:59:24.305Z"
   },
   {
    "duration": 816,
    "start_time": "2021-09-03T13:59:25.115Z"
   },
   {
    "duration": 812,
    "start_time": "2021-09-03T13:59:25.933Z"
   },
   {
    "duration": 901,
    "start_time": "2021-09-03T13:59:26.755Z"
   },
   {
    "duration": 817,
    "start_time": "2021-09-03T13:59:27.659Z"
   },
   {
    "duration": 14,
    "start_time": "2021-09-03T13:59:28.478Z"
   },
   {
    "duration": 28,
    "start_time": "2021-09-03T13:59:28.494Z"
   },
   {
    "duration": 31,
    "start_time": "2021-09-03T13:59:28.524Z"
   },
   {
    "duration": 19,
    "start_time": "2021-09-03T13:59:28.558Z"
   },
   {
    "duration": 14,
    "start_time": "2021-09-03T13:59:28.580Z"
   },
   {
    "duration": 13,
    "start_time": "2021-09-03T13:59:28.596Z"
   },
   {
    "duration": 1438,
    "start_time": "2021-09-03T14:54:06.966Z"
   },
   {
    "duration": 85,
    "start_time": "2021-09-03T14:54:08.407Z"
   },
   {
    "duration": 11,
    "start_time": "2021-09-03T14:54:08.495Z"
   },
   {
    "duration": 19,
    "start_time": "2021-09-03T14:54:08.509Z"
   },
   {
    "duration": 29,
    "start_time": "2021-09-03T14:54:08.530Z"
   },
   {
    "duration": 25,
    "start_time": "2021-09-03T14:54:08.562Z"
   },
   {
    "duration": 32,
    "start_time": "2021-09-03T14:54:08.589Z"
   },
   {
    "duration": 29,
    "start_time": "2021-09-03T14:54:08.625Z"
   },
   {
    "duration": 13,
    "start_time": "2021-09-03T14:54:08.657Z"
   },
   {
    "duration": 33,
    "start_time": "2021-09-03T14:54:08.672Z"
   },
   {
    "duration": 106,
    "start_time": "2021-09-03T14:54:08.707Z"
   },
   {
    "duration": 4228,
    "start_time": "2021-09-03T14:54:08.815Z"
   },
   {
    "duration": 17,
    "start_time": "2021-09-03T14:54:13.046Z"
   },
   {
    "duration": 3331,
    "start_time": "2021-09-03T14:54:13.065Z"
   },
   {
    "duration": 499,
    "start_time": "2021-09-03T14:54:16.399Z"
   },
   {
    "duration": 502,
    "start_time": "2021-09-03T14:54:16.901Z"
   },
   {
    "duration": 740,
    "start_time": "2021-09-03T14:54:17.407Z"
   },
   {
    "duration": 1134,
    "start_time": "2021-09-03T14:54:18.150Z"
   },
   {
    "duration": 490,
    "start_time": "2021-09-03T14:54:19.287Z"
   },
   {
    "duration": 22,
    "start_time": "2021-09-03T14:54:19.781Z"
   },
   {
    "duration": 11,
    "start_time": "2021-09-03T14:54:19.805Z"
   },
   {
    "duration": 618,
    "start_time": "2021-09-03T14:54:19.819Z"
   },
   {
    "duration": 644,
    "start_time": "2021-09-03T14:54:20.443Z"
   },
   {
    "duration": 532,
    "start_time": "2021-09-03T14:54:21.090Z"
   },
   {
    "duration": 29,
    "start_time": "2021-09-03T14:54:21.625Z"
   },
   {
    "duration": 17,
    "start_time": "2021-09-03T14:54:21.656Z"
   },
   {
    "duration": 472,
    "start_time": "2021-09-03T14:54:21.675Z"
   },
   {
    "duration": 7,
    "start_time": "2021-09-03T14:54:22.153Z"
   },
   {
    "duration": 803,
    "start_time": "2021-09-03T14:54:22.162Z"
   },
   {
    "duration": 775,
    "start_time": "2021-09-03T14:54:22.968Z"
   },
   {
    "duration": 843,
    "start_time": "2021-09-03T14:54:23.745Z"
   },
   {
    "duration": 792,
    "start_time": "2021-09-03T14:54:24.590Z"
   },
   {
    "duration": 892,
    "start_time": "2021-09-03T14:54:25.385Z"
   },
   {
    "duration": 796,
    "start_time": "2021-09-03T14:54:26.280Z"
   },
   {
    "duration": 15,
    "start_time": "2021-09-03T14:54:27.079Z"
   },
   {
    "duration": 24,
    "start_time": "2021-09-03T14:54:27.096Z"
   },
   {
    "duration": 31,
    "start_time": "2021-09-03T14:54:27.122Z"
   },
   {
    "duration": 16,
    "start_time": "2021-09-03T14:54:27.157Z"
   },
   {
    "duration": 19,
    "start_time": "2021-09-03T14:54:27.175Z"
   },
   {
    "duration": 14,
    "start_time": "2021-09-03T14:54:27.197Z"
   },
   {
    "duration": 15,
    "start_time": "2021-09-03T14:54:39.078Z"
   },
   {
    "duration": 14,
    "start_time": "2021-09-03T14:54:52.186Z"
   },
   {
    "duration": 20,
    "start_time": "2021-09-03T14:55:15.579Z"
   },
   {
    "duration": 18,
    "start_time": "2021-09-03T14:55:49.547Z"
   },
   {
    "duration": 20,
    "start_time": "2021-09-03T14:56:19.980Z"
   },
   {
    "duration": 19,
    "start_time": "2021-09-03T14:56:28.826Z"
   },
   {
    "duration": 786,
    "start_time": "2021-09-03T15:01:57.789Z"
   },
   {
    "duration": 1459,
    "start_time": "2021-09-03T15:02:12.165Z"
   },
   {
    "duration": 88,
    "start_time": "2021-09-03T15:02:13.627Z"
   },
   {
    "duration": 12,
    "start_time": "2021-09-03T15:02:13.718Z"
   },
   {
    "duration": 31,
    "start_time": "2021-09-03T15:02:13.733Z"
   },
   {
    "duration": 36,
    "start_time": "2021-09-03T15:02:13.767Z"
   },
   {
    "duration": 33,
    "start_time": "2021-09-03T15:02:13.806Z"
   },
   {
    "duration": 50,
    "start_time": "2021-09-03T15:02:13.841Z"
   },
   {
    "duration": 38,
    "start_time": "2021-09-03T15:02:13.895Z"
   },
   {
    "duration": 16,
    "start_time": "2021-09-03T15:02:13.935Z"
   },
   {
    "duration": 31,
    "start_time": "2021-09-03T15:02:13.953Z"
   },
   {
    "duration": 120,
    "start_time": "2021-09-03T15:02:13.987Z"
   },
   {
    "duration": 4390,
    "start_time": "2021-09-03T15:02:14.109Z"
   },
   {
    "duration": 12,
    "start_time": "2021-09-03T15:02:18.502Z"
   },
   {
    "duration": 3326,
    "start_time": "2021-09-03T15:02:18.516Z"
   },
   {
    "duration": 510,
    "start_time": "2021-09-03T15:02:21.845Z"
   },
   {
    "duration": 509,
    "start_time": "2021-09-03T15:02:22.358Z"
   },
   {
    "duration": 767,
    "start_time": "2021-09-03T15:02:22.869Z"
   },
   {
    "duration": 1092,
    "start_time": "2021-09-03T15:02:23.638Z"
   },
   {
    "duration": 488,
    "start_time": "2021-09-03T15:02:24.733Z"
   },
   {
    "duration": 34,
    "start_time": "2021-09-03T15:02:25.223Z"
   },
   {
    "duration": 10,
    "start_time": "2021-09-03T15:02:25.259Z"
   },
   {
    "duration": 514,
    "start_time": "2021-09-03T15:02:25.272Z"
   },
   {
    "duration": 655,
    "start_time": "2021-09-03T15:02:25.791Z"
   },
   {
    "duration": 562,
    "start_time": "2021-09-03T15:02:26.449Z"
   },
   {
    "duration": 16,
    "start_time": "2021-09-03T15:02:27.013Z"
   },
   {
    "duration": 33,
    "start_time": "2021-09-03T15:02:27.032Z"
   },
   {
    "duration": 496,
    "start_time": "2021-09-03T15:02:27.067Z"
   },
   {
    "duration": 7,
    "start_time": "2021-09-03T15:02:27.566Z"
   },
   {
    "duration": 870,
    "start_time": "2021-09-03T15:02:27.576Z"
   },
   {
    "duration": 805,
    "start_time": "2021-09-03T15:02:28.449Z"
   },
   {
    "duration": 821,
    "start_time": "2021-09-03T15:02:29.257Z"
   },
   {
    "duration": 1025,
    "start_time": "2021-09-03T15:02:30.080Z"
   },
   {
    "duration": 915,
    "start_time": "2021-09-03T15:02:31.108Z"
   },
   {
    "duration": 829,
    "start_time": "2021-09-03T15:02:32.025Z"
   },
   {
    "duration": 18,
    "start_time": "2021-09-03T15:02:32.856Z"
   },
   {
    "duration": 30,
    "start_time": "2021-09-03T15:02:32.876Z"
   },
   {
    "duration": 23,
    "start_time": "2021-09-03T15:02:32.908Z"
   },
   {
    "duration": 43,
    "start_time": "2021-09-03T15:02:32.933Z"
   },
   {
    "duration": 32,
    "start_time": "2021-09-03T15:02:32.978Z"
   },
   {
    "duration": 20,
    "start_time": "2021-09-03T15:02:33.012Z"
   },
   {
    "duration": 7,
    "start_time": "2021-09-03T15:08:33.229Z"
   },
   {
    "duration": 770,
    "start_time": "2021-09-03T15:08:35.522Z"
   },
   {
    "duration": 760,
    "start_time": "2021-09-03T15:08:37.459Z"
   },
   {
    "duration": 789,
    "start_time": "2021-09-03T15:08:42.412Z"
   },
   {
    "duration": 914,
    "start_time": "2021-09-03T15:08:43.852Z"
   },
   {
    "duration": 809,
    "start_time": "2021-09-03T15:08:53.234Z"
   },
   {
    "duration": 755,
    "start_time": "2021-09-03T15:08:54.946Z"
   },
   {
    "duration": 1422,
    "start_time": "2021-09-03T15:11:11.792Z"
   },
   {
    "duration": 89,
    "start_time": "2021-09-03T15:11:13.217Z"
   },
   {
    "duration": 14,
    "start_time": "2021-09-03T15:11:13.310Z"
   },
   {
    "duration": 34,
    "start_time": "2021-09-03T15:11:13.327Z"
   },
   {
    "duration": 12,
    "start_time": "2021-09-03T15:11:13.364Z"
   },
   {
    "duration": 12,
    "start_time": "2021-09-03T15:11:13.378Z"
   },
   {
    "duration": 63,
    "start_time": "2021-09-03T15:11:13.393Z"
   },
   {
    "duration": 24,
    "start_time": "2021-09-03T15:11:13.459Z"
   },
   {
    "duration": 13,
    "start_time": "2021-09-03T15:11:13.486Z"
   },
   {
    "duration": 16,
    "start_time": "2021-09-03T15:11:13.501Z"
   },
   {
    "duration": 125,
    "start_time": "2021-09-03T15:11:13.519Z"
   },
   {
    "duration": 4199,
    "start_time": "2021-09-03T15:11:13.655Z"
   },
   {
    "duration": 13,
    "start_time": "2021-09-03T15:11:17.857Z"
   },
   {
    "duration": 3352,
    "start_time": "2021-09-03T15:11:17.872Z"
   },
   {
    "duration": 494,
    "start_time": "2021-09-03T15:11:21.227Z"
   },
   {
    "duration": 481,
    "start_time": "2021-09-03T15:11:21.724Z"
   },
   {
    "duration": 721,
    "start_time": "2021-09-03T15:11:22.207Z"
   },
   {
    "duration": 1030,
    "start_time": "2021-09-03T15:11:22.931Z"
   },
   {
    "duration": 491,
    "start_time": "2021-09-03T15:11:23.963Z"
   },
   {
    "duration": 22,
    "start_time": "2021-09-03T15:11:24.456Z"
   },
   {
    "duration": 15,
    "start_time": "2021-09-03T15:11:24.480Z"
   },
   {
    "duration": 535,
    "start_time": "2021-09-03T15:11:24.499Z"
   },
   {
    "duration": 640,
    "start_time": "2021-09-03T15:11:25.038Z"
   },
   {
    "duration": 518,
    "start_time": "2021-09-03T15:11:25.681Z"
   },
   {
    "duration": 16,
    "start_time": "2021-09-03T15:11:26.202Z"
   },
   {
    "duration": 43,
    "start_time": "2021-09-03T15:11:26.221Z"
   },
   {
    "duration": 491,
    "start_time": "2021-09-03T15:11:26.266Z"
   },
   {
    "duration": 7,
    "start_time": "2021-09-03T15:11:26.760Z"
   },
   {
    "duration": 790,
    "start_time": "2021-09-03T15:11:26.769Z"
   },
   {
    "duration": 782,
    "start_time": "2021-09-03T15:11:27.561Z"
   },
   {
    "duration": 813,
    "start_time": "2021-09-03T15:11:28.346Z"
   },
   {
    "duration": 864,
    "start_time": "2021-09-03T15:11:29.161Z"
   },
   {
    "duration": 951,
    "start_time": "2021-09-03T15:11:30.028Z"
   },
   {
    "duration": 788,
    "start_time": "2021-09-03T15:11:30.982Z"
   },
   {
    "duration": 19,
    "start_time": "2021-09-03T15:11:31.772Z"
   },
   {
    "duration": 26,
    "start_time": "2021-09-03T15:11:31.794Z"
   },
   {
    "duration": 34,
    "start_time": "2021-09-03T15:11:31.823Z"
   },
   {
    "duration": 36,
    "start_time": "2021-09-03T15:11:31.860Z"
   },
   {
    "duration": 18,
    "start_time": "2021-09-03T15:11:31.899Z"
   },
   {
    "duration": 19,
    "start_time": "2021-09-03T15:11:31.919Z"
   },
   {
    "duration": 1609,
    "start_time": "2021-09-05T19:10:07.607Z"
   },
   {
    "duration": 126,
    "start_time": "2021-09-05T19:10:09.220Z"
   },
   {
    "duration": 15,
    "start_time": "2021-09-05T19:10:09.355Z"
   },
   {
    "duration": 36,
    "start_time": "2021-09-05T19:10:09.373Z"
   },
   {
    "duration": 29,
    "start_time": "2021-09-05T19:10:09.412Z"
   },
   {
    "duration": 28,
    "start_time": "2021-09-05T19:10:09.444Z"
   },
   {
    "duration": 47,
    "start_time": "2021-09-05T19:10:09.476Z"
   },
   {
    "duration": 39,
    "start_time": "2021-09-05T19:10:09.529Z"
   },
   {
    "duration": 25,
    "start_time": "2021-09-05T19:10:09.576Z"
   },
   {
    "duration": 25,
    "start_time": "2021-09-05T19:10:09.604Z"
   },
   {
    "duration": 136,
    "start_time": "2021-09-05T19:10:09.631Z"
   },
   {
    "duration": 4617,
    "start_time": "2021-09-05T19:10:09.771Z"
   },
   {
    "duration": 17,
    "start_time": "2021-09-05T19:10:14.390Z"
   },
   {
    "duration": 3654,
    "start_time": "2021-09-05T19:10:14.409Z"
   },
   {
    "duration": 663,
    "start_time": "2021-09-05T19:10:18.065Z"
   },
   {
    "duration": 558,
    "start_time": "2021-09-05T19:10:18.731Z"
   },
   {
    "duration": 841,
    "start_time": "2021-09-05T19:10:19.292Z"
   },
   {
    "duration": 1168,
    "start_time": "2021-09-05T19:10:20.135Z"
   },
   {
    "duration": 548,
    "start_time": "2021-09-05T19:10:21.306Z"
   },
   {
    "duration": 28,
    "start_time": "2021-09-05T19:10:21.857Z"
   },
   {
    "duration": 12,
    "start_time": "2021-09-05T19:10:21.888Z"
   },
   {
    "duration": 575,
    "start_time": "2021-09-05T19:10:21.903Z"
   },
   {
    "duration": 712,
    "start_time": "2021-09-05T19:10:22.483Z"
   },
   {
    "duration": 672,
    "start_time": "2021-09-05T19:10:23.199Z"
   },
   {
    "duration": 17,
    "start_time": "2021-09-05T19:10:23.878Z"
   },
   {
    "duration": 26,
    "start_time": "2021-09-05T19:10:23.898Z"
   },
   {
    "duration": 793,
    "start_time": "2021-09-05T19:10:23.927Z"
   },
   {
    "duration": 11,
    "start_time": "2021-09-05T19:10:24.724Z"
   },
   {
    "duration": 1362,
    "start_time": "2021-09-05T19:10:24.738Z"
   },
   {
    "duration": 1358,
    "start_time": "2021-09-05T19:10:26.104Z"
   },
   {
    "duration": 1085,
    "start_time": "2021-09-05T19:10:27.465Z"
   },
   {
    "duration": 991,
    "start_time": "2021-09-05T19:10:28.556Z"
   },
   {
    "duration": 1232,
    "start_time": "2021-09-05T19:10:29.549Z"
   },
   {
    "duration": 939,
    "start_time": "2021-09-05T19:10:30.784Z"
   },
   {
    "duration": 35,
    "start_time": "2021-09-05T19:10:31.726Z"
   },
   {
    "duration": 47,
    "start_time": "2021-09-05T19:10:31.764Z"
   },
   {
    "duration": 11,
    "start_time": "2021-09-05T19:10:31.815Z"
   },
   {
    "duration": 53,
    "start_time": "2021-09-05T19:10:31.829Z"
   },
   {
    "duration": 22,
    "start_time": "2021-09-05T19:10:31.886Z"
   },
   {
    "duration": 9,
    "start_time": "2021-09-05T19:10:31.911Z"
   },
   {
    "duration": 1556,
    "start_time": "2021-09-05T19:14:38.155Z"
   },
   {
    "duration": 98,
    "start_time": "2021-09-05T19:14:39.714Z"
   },
   {
    "duration": 12,
    "start_time": "2021-09-05T19:14:39.815Z"
   },
   {
    "duration": 34,
    "start_time": "2021-09-05T19:14:39.830Z"
   },
   {
    "duration": 28,
    "start_time": "2021-09-05T19:14:39.868Z"
   },
   {
    "duration": 22,
    "start_time": "2021-09-05T19:14:39.899Z"
   },
   {
    "duration": 57,
    "start_time": "2021-09-05T19:14:39.924Z"
   },
   {
    "duration": 29,
    "start_time": "2021-09-05T19:14:39.985Z"
   },
   {
    "duration": 15,
    "start_time": "2021-09-05T19:14:40.017Z"
   },
   {
    "duration": 43,
    "start_time": "2021-09-05T19:14:40.035Z"
   },
   {
    "duration": 131,
    "start_time": "2021-09-05T19:14:40.080Z"
   },
   {
    "duration": 4548,
    "start_time": "2021-09-05T19:14:40.213Z"
   },
   {
    "duration": 16,
    "start_time": "2021-09-05T19:14:44.764Z"
   },
   {
    "duration": 3587,
    "start_time": "2021-09-05T19:14:44.783Z"
   },
   {
    "duration": 545,
    "start_time": "2021-09-05T19:14:48.372Z"
   },
   {
    "duration": 567,
    "start_time": "2021-09-05T19:14:48.920Z"
   },
   {
    "duration": 820,
    "start_time": "2021-09-05T19:14:49.489Z"
   },
   {
    "duration": 1152,
    "start_time": "2021-09-05T19:14:50.311Z"
   },
   {
    "duration": 540,
    "start_time": "2021-09-05T19:14:51.468Z"
   },
   {
    "duration": 21,
    "start_time": "2021-09-05T19:14:52.010Z"
   },
   {
    "duration": 31,
    "start_time": "2021-09-05T19:14:52.034Z"
   },
   {
    "duration": 543,
    "start_time": "2021-09-05T19:14:52.068Z"
   },
   {
    "duration": 724,
    "start_time": "2021-09-05T19:14:52.616Z"
   },
   {
    "duration": 585,
    "start_time": "2021-09-05T19:14:53.354Z"
   },
   {
    "duration": 30,
    "start_time": "2021-09-05T19:14:53.942Z"
   },
   {
    "duration": 25,
    "start_time": "2021-09-05T19:14:53.976Z"
   },
   {
    "duration": 820,
    "start_time": "2021-09-05T19:14:54.005Z"
   },
   {
    "duration": 11,
    "start_time": "2021-09-05T19:14:54.828Z"
   },
   {
    "duration": 877,
    "start_time": "2021-09-05T19:14:54.854Z"
   },
   {
    "duration": 975,
    "start_time": "2021-09-05T19:14:55.734Z"
   },
   {
    "duration": 884,
    "start_time": "2021-09-05T19:14:56.711Z"
   },
   {
    "duration": 875,
    "start_time": "2021-09-05T19:14:57.598Z"
   },
   {
    "duration": 1056,
    "start_time": "2021-09-05T19:14:58.476Z"
   },
   {
    "duration": 915,
    "start_time": "2021-09-05T19:14:59.536Z"
   },
   {
    "duration": 26,
    "start_time": "2021-09-05T19:15:00.454Z"
   },
   {
    "duration": 35,
    "start_time": "2021-09-05T19:15:00.484Z"
   },
   {
    "duration": 7,
    "start_time": "2021-09-05T19:15:00.522Z"
   },
   {
    "duration": 28,
    "start_time": "2021-09-05T19:15:00.555Z"
   },
   {
    "duration": 20,
    "start_time": "2021-09-05T19:15:00.585Z"
   },
   {
    "duration": 13,
    "start_time": "2021-09-05T19:15:00.607Z"
   },
   {
    "duration": 1411,
    "start_time": "2021-09-06T10:51:02.348Z"
   },
   {
    "duration": 1796,
    "start_time": "2021-09-06T10:51:09.865Z"
   },
   {
    "duration": 97,
    "start_time": "2021-09-06T10:51:11.664Z"
   },
   {
    "duration": 13,
    "start_time": "2021-09-06T10:51:11.765Z"
   },
   {
    "duration": 45,
    "start_time": "2021-09-06T10:51:11.780Z"
   },
   {
    "duration": 14,
    "start_time": "2021-09-06T10:51:11.828Z"
   },
   {
    "duration": 24,
    "start_time": "2021-09-06T10:51:11.844Z"
   },
   {
    "duration": 21,
    "start_time": "2021-09-06T10:51:11.871Z"
   },
   {
    "duration": 42,
    "start_time": "2021-09-06T10:51:11.896Z"
   },
   {
    "duration": 27,
    "start_time": "2021-09-06T10:51:11.940Z"
   },
   {
    "duration": 15,
    "start_time": "2021-09-06T10:51:11.969Z"
   },
   {
    "duration": 44,
    "start_time": "2021-09-06T10:51:11.987Z"
   },
   {
    "duration": 120,
    "start_time": "2021-09-06T10:51:12.034Z"
   },
   {
    "duration": 4607,
    "start_time": "2021-09-06T10:51:12.157Z"
   },
   {
    "duration": 17,
    "start_time": "2021-09-06T10:51:16.768Z"
   },
   {
    "duration": 3585,
    "start_time": "2021-09-06T10:51:16.788Z"
   },
   {
    "duration": 629,
    "start_time": "2021-09-06T10:51:20.375Z"
   },
   {
    "duration": 526,
    "start_time": "2021-09-06T10:51:21.006Z"
   },
   {
    "duration": 798,
    "start_time": "2021-09-06T10:51:21.534Z"
   },
   {
    "duration": 1191,
    "start_time": "2021-09-06T10:51:22.334Z"
   },
   {
    "duration": 513,
    "start_time": "2021-09-06T10:51:23.528Z"
   },
   {
    "duration": 22,
    "start_time": "2021-09-06T10:51:24.044Z"
   },
   {
    "duration": 10,
    "start_time": "2021-09-06T10:51:24.068Z"
   },
   {
    "duration": 539,
    "start_time": "2021-09-06T10:51:24.083Z"
   },
   {
    "duration": 687,
    "start_time": "2021-09-06T10:51:24.625Z"
   },
   {
    "duration": 581,
    "start_time": "2021-09-06T10:51:25.315Z"
   },
   {
    "duration": 18,
    "start_time": "2021-09-06T10:51:25.899Z"
   },
   {
    "duration": 17,
    "start_time": "2021-09-06T10:51:25.920Z"
   },
   {
    "duration": 502,
    "start_time": "2021-09-06T10:51:25.940Z"
   },
   {
    "duration": 8,
    "start_time": "2021-09-06T10:51:26.444Z"
   },
   {
    "duration": 838,
    "start_time": "2021-09-06T10:51:26.455Z"
   },
   {
    "duration": 854,
    "start_time": "2021-09-06T10:51:27.296Z"
   },
   {
    "duration": 850,
    "start_time": "2021-09-06T10:51:28.153Z"
   },
   {
    "duration": 847,
    "start_time": "2021-09-06T10:51:29.006Z"
   },
   {
    "duration": 1073,
    "start_time": "2021-09-06T10:51:29.857Z"
   },
   {
    "duration": 948,
    "start_time": "2021-09-06T10:51:30.933Z"
   },
   {
    "duration": 38,
    "start_time": "2021-09-06T10:51:31.885Z"
   },
   {
    "duration": 20,
    "start_time": "2021-09-06T10:51:31.926Z"
   },
   {
    "duration": 9,
    "start_time": "2021-09-06T10:51:31.948Z"
   },
   {
    "duration": 23,
    "start_time": "2021-09-06T10:51:31.959Z"
   },
   {
    "duration": 19,
    "start_time": "2021-09-06T10:51:32.016Z"
   },
   {
    "duration": 10,
    "start_time": "2021-09-06T10:51:32.038Z"
   },
   {
    "duration": 1624,
    "start_time": "2021-09-06T10:56:56.992Z"
   },
   {
    "duration": 94,
    "start_time": "2021-09-06T10:56:58.619Z"
   },
   {
    "duration": 11,
    "start_time": "2021-09-06T10:56:58.717Z"
   },
   {
    "duration": 23,
    "start_time": "2021-09-06T10:56:58.731Z"
   },
   {
    "duration": 9,
    "start_time": "2021-09-06T10:56:58.757Z"
   },
   {
    "duration": 51,
    "start_time": "2021-09-06T10:56:58.769Z"
   },
   {
    "duration": 11,
    "start_time": "2021-09-06T10:56:58.823Z"
   },
   {
    "duration": 11,
    "start_time": "2021-09-06T10:56:58.837Z"
   },
   {
    "duration": 23,
    "start_time": "2021-09-06T10:56:58.851Z"
   },
   {
    "duration": 52,
    "start_time": "2021-09-06T10:56:58.877Z"
   },
   {
    "duration": 12,
    "start_time": "2021-09-06T10:56:58.931Z"
   },
   {
    "duration": 16,
    "start_time": "2021-09-06T10:56:58.946Z"
   },
   {
    "duration": 128,
    "start_time": "2021-09-06T10:56:58.965Z"
   },
   {
    "duration": 4578,
    "start_time": "2021-09-06T10:56:59.095Z"
   },
   {
    "duration": 11,
    "start_time": "2021-09-06T10:57:03.676Z"
   },
   {
    "duration": 3587,
    "start_time": "2021-09-06T10:57:03.689Z"
   },
   {
    "duration": 910,
    "start_time": "2021-09-06T10:57:07.279Z"
   },
   {
    "duration": 573,
    "start_time": "2021-09-06T10:57:08.191Z"
   },
   {
    "duration": 846,
    "start_time": "2021-09-06T10:57:08.767Z"
   },
   {
    "duration": 1185,
    "start_time": "2021-09-06T10:57:09.617Z"
   },
   {
    "duration": 563,
    "start_time": "2021-09-06T10:57:10.804Z"
   },
   {
    "duration": 25,
    "start_time": "2021-09-06T10:57:11.370Z"
   },
   {
    "duration": 11,
    "start_time": "2021-09-06T10:57:11.416Z"
   },
   {
    "duration": 539,
    "start_time": "2021-09-06T10:57:11.429Z"
   },
   {
    "duration": 698,
    "start_time": "2021-09-06T10:57:11.970Z"
   },
   {
    "duration": 603,
    "start_time": "2021-09-06T10:57:12.670Z"
   },
   {
    "duration": 15,
    "start_time": "2021-09-06T10:57:13.277Z"
   },
   {
    "duration": 32,
    "start_time": "2021-09-06T10:57:13.294Z"
   },
   {
    "duration": 513,
    "start_time": "2021-09-06T10:57:13.329Z"
   },
   {
    "duration": 8,
    "start_time": "2021-09-06T10:57:13.844Z"
   },
   {
    "duration": 953,
    "start_time": "2021-09-06T10:57:13.854Z"
   },
   {
    "duration": 835,
    "start_time": "2021-09-06T10:57:14.809Z"
   },
   {
    "duration": 842,
    "start_time": "2021-09-06T10:57:15.647Z"
   },
   {
    "duration": 848,
    "start_time": "2021-09-06T10:57:16.492Z"
   },
   {
    "duration": 974,
    "start_time": "2021-09-06T10:57:17.343Z"
   },
   {
    "duration": 940,
    "start_time": "2021-09-06T10:57:18.319Z"
   },
   {
    "duration": 20,
    "start_time": "2021-09-06T10:57:19.261Z"
   },
   {
    "duration": 39,
    "start_time": "2021-09-06T10:57:19.283Z"
   },
   {
    "duration": 7,
    "start_time": "2021-09-06T10:57:19.324Z"
   },
   {
    "duration": 22,
    "start_time": "2021-09-06T10:57:19.333Z"
   },
   {
    "duration": 19,
    "start_time": "2021-09-06T10:57:19.357Z"
   },
   {
    "duration": 40,
    "start_time": "2021-09-06T10:57:19.378Z"
   },
   {
    "duration": 510,
    "start_time": "2021-09-06T11:51:19.121Z"
   },
   {
    "duration": 1647,
    "start_time": "2021-09-06T12:09:12.550Z"
   },
   {
    "duration": 98,
    "start_time": "2021-09-06T12:09:14.200Z"
   },
   {
    "duration": 25,
    "start_time": "2021-09-06T12:09:14.302Z"
   },
   {
    "duration": 22,
    "start_time": "2021-09-06T12:09:14.330Z"
   },
   {
    "duration": 9,
    "start_time": "2021-09-06T12:09:14.355Z"
   },
   {
    "duration": 52,
    "start_time": "2021-09-06T12:09:14.367Z"
   },
   {
    "duration": 13,
    "start_time": "2021-09-06T12:09:14.425Z"
   },
   {
    "duration": 11,
    "start_time": "2021-09-06T12:09:14.445Z"
   },
   {
    "duration": 66,
    "start_time": "2021-09-06T12:09:14.459Z"
   },
   {
    "duration": 28,
    "start_time": "2021-09-06T12:09:14.527Z"
   },
   {
    "duration": 15,
    "start_time": "2021-09-06T12:09:14.557Z"
   },
   {
    "duration": 64,
    "start_time": "2021-09-06T12:09:14.574Z"
   },
   {
    "duration": 121,
    "start_time": "2021-09-06T12:09:14.640Z"
   },
   {
    "duration": 4570,
    "start_time": "2021-09-06T12:09:14.764Z"
   },
   {
    "duration": 15,
    "start_time": "2021-09-06T12:09:19.336Z"
   },
   {
    "duration": 3535,
    "start_time": "2021-09-06T12:09:19.354Z"
   },
   {
    "duration": 543,
    "start_time": "2021-09-06T12:09:22.892Z"
   },
   {
    "duration": 542,
    "start_time": "2021-09-06T12:09:23.437Z"
   },
   {
    "duration": 806,
    "start_time": "2021-09-06T12:09:23.981Z"
   },
   {
    "duration": 1197,
    "start_time": "2021-09-06T12:09:24.791Z"
   },
   {
    "duration": 516,
    "start_time": "2021-09-06T12:09:25.991Z"
   },
   {
    "duration": 592,
    "start_time": "2021-09-06T12:09:26.517Z"
   },
   {
    "duration": 24,
    "start_time": "2021-09-06T12:09:27.114Z"
   },
   {
    "duration": 10,
    "start_time": "2021-09-06T12:09:27.141Z"
   },
   {
    "duration": 653,
    "start_time": "2021-09-06T12:09:27.154Z"
   },
   {
    "duration": 588,
    "start_time": "2021-09-06T12:09:27.810Z"
   },
   {
    "duration": 592,
    "start_time": "2021-09-06T12:09:28.401Z"
   },
   {
    "duration": 29,
    "start_time": "2021-09-06T12:09:28.995Z"
   },
   {
    "duration": 15,
    "start_time": "2021-09-06T12:09:29.032Z"
   },
   {
    "duration": 534,
    "start_time": "2021-09-06T12:09:29.049Z"
   },
   {
    "duration": 8,
    "start_time": "2021-09-06T12:09:29.585Z"
   },
   {
    "duration": 1001,
    "start_time": "2021-09-06T12:09:29.595Z"
   },
   {
    "duration": 878,
    "start_time": "2021-09-06T12:09:30.599Z"
   },
   {
    "duration": 875,
    "start_time": "2021-09-06T12:09:31.480Z"
   },
   {
    "duration": 976,
    "start_time": "2021-09-06T12:09:32.358Z"
   },
   {
    "duration": 899,
    "start_time": "2021-09-06T12:09:33.337Z"
   },
   {
    "duration": 859,
    "start_time": "2021-09-06T12:09:34.239Z"
   },
   {
    "duration": 31,
    "start_time": "2021-09-06T12:09:35.100Z"
   },
   {
    "duration": 19,
    "start_time": "2021-09-06T12:09:35.134Z"
   },
   {
    "duration": 13,
    "start_time": "2021-09-06T12:09:35.156Z"
   },
   {
    "duration": 59,
    "start_time": "2021-09-06T12:09:35.172Z"
   },
   {
    "duration": 20,
    "start_time": "2021-09-06T12:09:35.234Z"
   },
   {
    "duration": 8,
    "start_time": "2021-09-06T12:09:35.256Z"
   },
   {
    "duration": 18,
    "start_time": "2021-09-06T12:13:03.288Z"
   },
   {
    "duration": 494,
    "start_time": "2021-09-06T12:13:04.649Z"
   },
   {
    "duration": 36,
    "start_time": "2021-09-06T13:00:46.149Z"
   },
   {
    "duration": 37,
    "start_time": "2021-09-06T13:01:28.929Z"
   },
   {
    "duration": 30,
    "start_time": "2021-09-06T13:02:58.569Z"
   },
   {
    "duration": 31,
    "start_time": "2021-09-06T13:05:16.030Z"
   },
   {
    "duration": 39,
    "start_time": "2021-09-06T13:05:20.696Z"
   },
   {
    "duration": 1620,
    "start_time": "2021-09-06T13:44:04.975Z"
   },
   {
    "duration": 97,
    "start_time": "2021-09-06T13:44:06.598Z"
   },
   {
    "duration": 24,
    "start_time": "2021-09-06T13:44:06.701Z"
   },
   {
    "duration": 25,
    "start_time": "2021-09-06T13:44:06.727Z"
   },
   {
    "duration": 9,
    "start_time": "2021-09-06T13:44:06.754Z"
   },
   {
    "duration": 54,
    "start_time": "2021-09-06T13:44:06.766Z"
   },
   {
    "duration": 22,
    "start_time": "2021-09-06T13:44:06.823Z"
   },
   {
    "duration": 14,
    "start_time": "2021-09-06T13:44:06.849Z"
   },
   {
    "duration": 54,
    "start_time": "2021-09-06T13:44:06.866Z"
   },
   {
    "duration": 25,
    "start_time": "2021-09-06T13:44:06.922Z"
   },
   {
    "duration": 14,
    "start_time": "2021-09-06T13:44:06.949Z"
   },
   {
    "duration": 52,
    "start_time": "2021-09-06T13:44:06.965Z"
   },
   {
    "duration": 114,
    "start_time": "2021-09-06T13:44:07.020Z"
   },
   {
    "duration": 4586,
    "start_time": "2021-09-06T13:44:07.137Z"
   },
   {
    "duration": 12,
    "start_time": "2021-09-06T13:44:11.726Z"
   },
   {
    "duration": 4094,
    "start_time": "2021-09-06T13:44:11.740Z"
   },
   {
    "duration": 525,
    "start_time": "2021-09-06T13:44:15.836Z"
   },
   {
    "duration": 518,
    "start_time": "2021-09-06T13:44:16.363Z"
   },
   {
    "duration": 758,
    "start_time": "2021-09-06T13:44:16.884Z"
   },
   {
    "duration": 1201,
    "start_time": "2021-09-06T13:44:17.644Z"
   },
   {
    "duration": 499,
    "start_time": "2021-09-06T13:44:18.848Z"
   },
   {
    "duration": 485,
    "start_time": "2021-09-06T13:44:19.349Z"
   },
   {
    "duration": 20,
    "start_time": "2021-09-06T13:44:19.837Z"
   },
   {
    "duration": 9,
    "start_time": "2021-09-06T13:44:19.859Z"
   },
   {
    "duration": 615,
    "start_time": "2021-09-06T13:44:19.871Z"
   },
   {
    "duration": 587,
    "start_time": "2021-09-06T13:44:20.492Z"
   },
   {
    "duration": 563,
    "start_time": "2021-09-06T13:44:21.082Z"
   },
   {
    "duration": 15,
    "start_time": "2021-09-06T13:44:21.647Z"
   },
   {
    "duration": 24,
    "start_time": "2021-09-06T13:44:21.665Z"
   },
   {
    "duration": 527,
    "start_time": "2021-09-06T13:44:21.692Z"
   },
   {
    "duration": 18,
    "start_time": "2021-09-06T13:44:22.222Z"
   },
   {
    "duration": 486,
    "start_time": "2021-09-06T13:44:22.242Z"
   },
   {
    "duration": 8,
    "start_time": "2021-09-06T13:44:22.730Z"
   },
   {
    "duration": 933,
    "start_time": "2021-09-06T13:44:22.740Z"
   },
   {
    "duration": 811,
    "start_time": "2021-09-06T13:44:23.675Z"
   },
   {
    "duration": 880,
    "start_time": "2021-09-06T13:44:24.488Z"
   },
   {
    "duration": 946,
    "start_time": "2021-09-06T13:44:25.370Z"
   },
   {
    "duration": 955,
    "start_time": "2021-09-06T13:44:26.318Z"
   },
   {
    "duration": 806,
    "start_time": "2021-09-06T13:44:27.276Z"
   },
   {
    "duration": 38,
    "start_time": "2021-09-06T13:44:28.085Z"
   },
   {
    "duration": 19,
    "start_time": "2021-09-06T13:44:28.125Z"
   },
   {
    "duration": 7,
    "start_time": "2021-09-06T13:44:28.147Z"
   },
   {
    "duration": 64,
    "start_time": "2021-09-06T13:44:28.157Z"
   },
   {
    "duration": 19,
    "start_time": "2021-09-06T13:44:28.224Z"
   },
   {
    "duration": 14,
    "start_time": "2021-09-06T13:44:28.246Z"
   },
   {
    "duration": 1595,
    "start_time": "2021-09-06T13:47:25.825Z"
   },
   {
    "duration": 93,
    "start_time": "2021-09-06T13:47:27.423Z"
   },
   {
    "duration": 12,
    "start_time": "2021-09-06T13:47:27.519Z"
   },
   {
    "duration": 37,
    "start_time": "2021-09-06T13:47:27.534Z"
   },
   {
    "duration": 11,
    "start_time": "2021-09-06T13:47:27.573Z"
   },
   {
    "duration": 10,
    "start_time": "2021-09-06T13:47:27.617Z"
   },
   {
    "duration": 13,
    "start_time": "2021-09-06T13:47:27.629Z"
   },
   {
    "duration": 17,
    "start_time": "2021-09-06T13:47:27.646Z"
   },
   {
    "duration": 69,
    "start_time": "2021-09-06T13:47:27.666Z"
   },
   {
    "duration": 26,
    "start_time": "2021-09-06T13:47:27.738Z"
   },
   {
    "duration": 14,
    "start_time": "2021-09-06T13:47:27.766Z"
   },
   {
    "duration": 50,
    "start_time": "2021-09-06T13:47:27.782Z"
   },
   {
    "duration": 122,
    "start_time": "2021-09-06T13:47:27.835Z"
   },
   {
    "duration": 5221,
    "start_time": "2021-09-06T13:47:27.960Z"
   },
   {
    "duration": 14,
    "start_time": "2021-09-06T13:47:33.184Z"
   },
   {
    "duration": 3876,
    "start_time": "2021-09-06T13:47:33.218Z"
   },
   {
    "duration": 530,
    "start_time": "2021-09-06T13:47:37.096Z"
   },
   {
    "duration": 517,
    "start_time": "2021-09-06T13:47:37.629Z"
   },
   {
    "duration": 769,
    "start_time": "2021-09-06T13:47:38.149Z"
   },
   {
    "duration": 1234,
    "start_time": "2021-09-06T13:47:38.921Z"
   },
   {
    "duration": 504,
    "start_time": "2021-09-06T13:47:40.158Z"
   },
   {
    "duration": 498,
    "start_time": "2021-09-06T13:47:40.665Z"
   },
   {
    "duration": 20,
    "start_time": "2021-09-06T13:47:41.169Z"
   },
   {
    "duration": 32,
    "start_time": "2021-09-06T13:47:41.192Z"
   },
   {
    "duration": 596,
    "start_time": "2021-09-06T13:47:41.227Z"
   },
   {
    "duration": 560,
    "start_time": "2021-09-06T13:47:41.826Z"
   },
   {
    "duration": 700,
    "start_time": "2021-09-06T13:47:42.389Z"
   },
   {
    "duration": 25,
    "start_time": "2021-09-06T13:47:43.092Z"
   },
   {
    "duration": 15,
    "start_time": "2021-09-06T13:47:43.120Z"
   },
   {
    "duration": 508,
    "start_time": "2021-09-06T13:47:43.138Z"
   },
   {
    "duration": 17,
    "start_time": "2021-09-06T13:47:43.648Z"
   },
   {
    "duration": 491,
    "start_time": "2021-09-06T13:47:43.667Z"
   },
   {
    "duration": 7,
    "start_time": "2021-09-06T13:47:44.161Z"
   },
   {
    "duration": 887,
    "start_time": "2021-09-06T13:47:44.170Z"
   },
   {
    "duration": 813,
    "start_time": "2021-09-06T13:47:45.059Z"
   },
   {
    "duration": 836,
    "start_time": "2021-09-06T13:47:45.875Z"
   },
   {
    "duration": 939,
    "start_time": "2021-09-06T13:47:46.716Z"
   },
   {
    "duration": 867,
    "start_time": "2021-09-06T13:47:47.658Z"
   },
   {
    "duration": 904,
    "start_time": "2021-09-06T13:47:48.529Z"
   },
   {
    "duration": 19,
    "start_time": "2021-09-06T13:47:49.435Z"
   },
   {
    "duration": 29,
    "start_time": "2021-09-06T13:47:49.456Z"
   },
   {
    "duration": 32,
    "start_time": "2021-09-06T13:47:49.488Z"
   },
   {
    "duration": 28,
    "start_time": "2021-09-06T13:47:49.522Z"
   },
   {
    "duration": 19,
    "start_time": "2021-09-06T13:47:49.553Z"
   },
   {
    "duration": 41,
    "start_time": "2021-09-06T13:47:49.575Z"
   },
   {
    "duration": 525,
    "start_time": "2021-09-06T13:50:48.405Z"
   },
   {
    "duration": 488,
    "start_time": "2021-09-06T13:52:34.749Z"
   },
   {
    "duration": 15,
    "start_time": "2021-09-06T13:52:42.636Z"
   },
   {
    "duration": 16,
    "start_time": "2021-09-06T13:52:49.812Z"
   },
   {
    "duration": 1650,
    "start_time": "2021-09-06T13:53:19.037Z"
   },
   {
    "duration": 94,
    "start_time": "2021-09-06T13:53:20.690Z"
   },
   {
    "duration": 37,
    "start_time": "2021-09-06T13:53:20.788Z"
   },
   {
    "duration": 27,
    "start_time": "2021-09-06T13:53:20.828Z"
   },
   {
    "duration": 11,
    "start_time": "2021-09-06T13:53:20.858Z"
   },
   {
    "duration": 12,
    "start_time": "2021-09-06T13:53:20.916Z"
   },
   {
    "duration": 15,
    "start_time": "2021-09-06T13:53:20.931Z"
   },
   {
    "duration": 15,
    "start_time": "2021-09-06T13:53:20.952Z"
   },
   {
    "duration": 28,
    "start_time": "2021-09-06T13:53:21.018Z"
   },
   {
    "duration": 66,
    "start_time": "2021-09-06T13:53:21.050Z"
   },
   {
    "duration": 18,
    "start_time": "2021-09-06T13:53:21.119Z"
   },
   {
    "duration": 21,
    "start_time": "2021-09-06T13:53:21.140Z"
   },
   {
    "duration": 143,
    "start_time": "2021-09-06T13:53:21.163Z"
   },
   {
    "duration": 4321,
    "start_time": "2021-09-06T13:53:21.308Z"
   },
   {
    "duration": 12,
    "start_time": "2021-09-06T13:53:25.631Z"
   },
   {
    "duration": 3371,
    "start_time": "2021-09-06T13:53:25.645Z"
   },
   {
    "duration": 519,
    "start_time": "2021-09-06T13:53:29.018Z"
   },
   {
    "duration": 513,
    "start_time": "2021-09-06T13:53:29.539Z"
   },
   {
    "duration": 798,
    "start_time": "2021-09-06T13:53:30.056Z"
   },
   {
    "duration": 1224,
    "start_time": "2021-09-06T13:53:30.857Z"
   },
   {
    "duration": 527,
    "start_time": "2021-09-06T13:53:32.084Z"
   },
   {
    "duration": 510,
    "start_time": "2021-09-06T13:53:32.617Z"
   },
   {
    "duration": 20,
    "start_time": "2021-09-06T13:53:33.136Z"
   },
   {
    "duration": 22,
    "start_time": "2021-09-06T13:53:33.159Z"
   },
   {
    "duration": 597,
    "start_time": "2021-09-06T13:53:33.184Z"
   },
   {
    "duration": 538,
    "start_time": "2021-09-06T13:53:33.784Z"
   },
   {
    "duration": 524,
    "start_time": "2021-09-06T13:53:34.324Z"
   },
   {
    "duration": 16,
    "start_time": "2021-09-06T13:53:34.850Z"
   },
   {
    "duration": 50,
    "start_time": "2021-09-06T13:53:34.869Z"
   },
   {
    "duration": 507,
    "start_time": "2021-09-06T13:53:34.921Z"
   },
   {
    "duration": 19,
    "start_time": "2021-09-06T13:53:35.431Z"
   },
   {
    "duration": 497,
    "start_time": "2021-09-06T13:53:35.452Z"
   },
   {
    "duration": 8,
    "start_time": "2021-09-06T13:53:35.951Z"
   },
   {
    "duration": 840,
    "start_time": "2021-09-06T13:53:35.961Z"
   },
   {
    "duration": 805,
    "start_time": "2021-09-06T13:53:36.803Z"
   },
   {
    "duration": 856,
    "start_time": "2021-09-06T13:53:37.611Z"
   },
   {
    "duration": 948,
    "start_time": "2021-09-06T13:53:38.470Z"
   },
   {
    "duration": 1013,
    "start_time": "2021-09-06T13:53:39.422Z"
   },
   {
    "duration": 804,
    "start_time": "2021-09-06T13:53:40.437Z"
   },
   {
    "duration": 18,
    "start_time": "2021-09-06T13:53:41.244Z"
   },
   {
    "duration": 28,
    "start_time": "2021-09-06T13:53:41.265Z"
   },
   {
    "duration": 7,
    "start_time": "2021-09-06T13:53:41.316Z"
   },
   {
    "duration": 28,
    "start_time": "2021-09-06T13:53:41.326Z"
   },
   {
    "duration": 18,
    "start_time": "2021-09-06T13:53:41.357Z"
   },
   {
    "duration": 43,
    "start_time": "2021-09-06T13:53:41.378Z"
   },
   {
    "duration": 61,
    "start_time": "2021-09-06T17:31:36.806Z"
   },
   {
    "duration": 1810,
    "start_time": "2021-09-07T08:35:31.666Z"
   },
   {
    "duration": 85,
    "start_time": "2021-09-07T08:35:33.479Z"
   },
   {
    "duration": 14,
    "start_time": "2021-09-07T08:35:33.567Z"
   },
   {
    "duration": 23,
    "start_time": "2021-09-07T08:35:33.584Z"
   },
   {
    "duration": 49,
    "start_time": "2021-09-07T08:35:33.609Z"
   },
   {
    "duration": 13,
    "start_time": "2021-09-07T08:35:33.660Z"
   },
   {
    "duration": 9,
    "start_time": "2021-09-07T08:35:33.676Z"
   },
   {
    "duration": 11,
    "start_time": "2021-09-07T08:35:33.687Z"
   },
   {
    "duration": 61,
    "start_time": "2021-09-07T08:35:33.702Z"
   },
   {
    "duration": 25,
    "start_time": "2021-09-07T08:35:33.766Z"
   },
   {
    "duration": 13,
    "start_time": "2021-09-07T08:35:33.794Z"
   },
   {
    "duration": 51,
    "start_time": "2021-09-07T08:35:33.809Z"
   },
   {
    "duration": 60,
    "start_time": "2021-09-07T08:35:33.862Z"
   },
   {
    "duration": 523,
    "start_time": "2021-09-07T08:35:33.924Z"
   },
   {
    "duration": -12315,
    "start_time": "2021-09-07T08:35:46.765Z"
   },
   {
    "duration": -12318,
    "start_time": "2021-09-07T08:35:46.770Z"
   },
   {
    "duration": -12320,
    "start_time": "2021-09-07T08:35:46.773Z"
   },
   {
    "duration": -12320,
    "start_time": "2021-09-07T08:35:46.775Z"
   },
   {
    "duration": -12322,
    "start_time": "2021-09-07T08:35:46.778Z"
   },
   {
    "duration": -12324,
    "start_time": "2021-09-07T08:35:46.781Z"
   },
   {
    "duration": -12326,
    "start_time": "2021-09-07T08:35:46.784Z"
   },
   {
    "duration": -12327,
    "start_time": "2021-09-07T08:35:46.787Z"
   },
   {
    "duration": -12334,
    "start_time": "2021-09-07T08:35:46.795Z"
   },
   {
    "duration": -12336,
    "start_time": "2021-09-07T08:35:46.798Z"
   },
   {
    "duration": -12338,
    "start_time": "2021-09-07T08:35:46.801Z"
   },
   {
    "duration": -12370,
    "start_time": "2021-09-07T08:35:46.834Z"
   },
   {
    "duration": -12375,
    "start_time": "2021-09-07T08:35:46.841Z"
   },
   {
    "duration": -12381,
    "start_time": "2021-09-07T08:35:46.848Z"
   },
   {
    "duration": -12383,
    "start_time": "2021-09-07T08:35:46.851Z"
   },
   {
    "duration": -12387,
    "start_time": "2021-09-07T08:35:46.856Z"
   },
   {
    "duration": -12402,
    "start_time": "2021-09-07T08:35:46.872Z"
   },
   {
    "duration": -12417,
    "start_time": "2021-09-07T08:35:46.889Z"
   },
   {
    "duration": -12418,
    "start_time": "2021-09-07T08:35:46.891Z"
   },
   {
    "duration": -12420,
    "start_time": "2021-09-07T08:35:46.894Z"
   },
   {
    "duration": -12420,
    "start_time": "2021-09-07T08:35:46.896Z"
   },
   {
    "duration": -12452,
    "start_time": "2021-09-07T08:35:46.929Z"
   },
   {
    "duration": -12458,
    "start_time": "2021-09-07T08:35:46.936Z"
   },
   {
    "duration": -12459,
    "start_time": "2021-09-07T08:35:46.938Z"
   },
   {
    "duration": -12460,
    "start_time": "2021-09-07T08:35:46.941Z"
   },
   {
    "duration": -12461,
    "start_time": "2021-09-07T08:35:46.943Z"
   },
   {
    "duration": -12463,
    "start_time": "2021-09-07T08:35:46.946Z"
   },
   {
    "duration": -12467,
    "start_time": "2021-09-07T08:35:46.951Z"
   },
   {
    "duration": -12479,
    "start_time": "2021-09-07T08:35:46.964Z"
   },
   {
    "duration": -12479,
    "start_time": "2021-09-07T08:35:46.966Z"
   },
   {
    "duration": -12481,
    "start_time": "2021-09-07T08:35:46.969Z"
   },
   {
    "duration": 1625,
    "start_time": "2021-09-07T08:40:35.937Z"
   },
   {
    "duration": 85,
    "start_time": "2021-09-07T08:40:37.565Z"
   },
   {
    "duration": 12,
    "start_time": "2021-09-07T08:40:37.653Z"
   },
   {
    "duration": 25,
    "start_time": "2021-09-07T08:40:37.668Z"
   },
   {
    "duration": 10,
    "start_time": "2021-09-07T08:40:37.696Z"
   },
   {
    "duration": 26,
    "start_time": "2021-09-07T08:40:37.708Z"
   },
   {
    "duration": 33,
    "start_time": "2021-09-07T08:40:37.737Z"
   },
   {
    "duration": 21,
    "start_time": "2021-09-07T08:40:37.774Z"
   },
   {
    "duration": 38,
    "start_time": "2021-09-07T08:40:37.798Z"
   },
   {
    "duration": 24,
    "start_time": "2021-09-07T08:40:37.838Z"
   },
   {
    "duration": 24,
    "start_time": "2021-09-07T08:40:37.865Z"
   },
   {
    "duration": 17,
    "start_time": "2021-09-07T08:40:37.892Z"
   },
   {
    "duration": 61,
    "start_time": "2021-09-07T08:40:37.912Z"
   },
   {
    "duration": 4374,
    "start_time": "2021-09-07T08:40:37.975Z"
   },
   {
    "duration": 12,
    "start_time": "2021-09-07T08:40:42.352Z"
   },
   {
    "duration": 3224,
    "start_time": "2021-09-07T08:40:42.366Z"
   },
   {
    "duration": 764,
    "start_time": "2021-09-07T08:40:45.592Z"
   },
   {
    "duration": 582,
    "start_time": "2021-09-07T08:40:46.358Z"
   },
   {
    "duration": 757,
    "start_time": "2021-09-07T08:40:46.943Z"
   },
   {
    "duration": 1200,
    "start_time": "2021-09-07T08:40:47.702Z"
   },
   {
    "duration": 475,
    "start_time": "2021-09-07T08:40:48.905Z"
   },
   {
    "duration": 476,
    "start_time": "2021-09-07T08:40:49.383Z"
   },
   {
    "duration": 21,
    "start_time": "2021-09-07T08:40:49.864Z"
   },
   {
    "duration": 12,
    "start_time": "2021-09-07T08:40:49.888Z"
   },
   {
    "duration": 598,
    "start_time": "2021-09-07T08:40:49.903Z"
   },
   {
    "duration": 540,
    "start_time": "2021-09-07T08:40:50.504Z"
   },
   {
    "duration": 515,
    "start_time": "2021-09-07T08:40:51.048Z"
   },
   {
    "duration": 17,
    "start_time": "2021-09-07T08:40:51.566Z"
   },
   {
    "duration": 18,
    "start_time": "2021-09-07T08:40:51.586Z"
   },
   {
    "duration": 514,
    "start_time": "2021-09-07T08:40:51.606Z"
   },
   {
    "duration": 41,
    "start_time": "2021-09-07T08:40:52.123Z"
   },
   {
    "duration": 516,
    "start_time": "2021-09-07T08:40:52.167Z"
   },
   {
    "duration": 8,
    "start_time": "2021-09-07T08:40:52.685Z"
   },
   {
    "duration": 797,
    "start_time": "2021-09-07T08:40:52.695Z"
   },
   {
    "duration": 786,
    "start_time": "2021-09-07T08:40:53.494Z"
   },
   {
    "duration": 802,
    "start_time": "2021-09-07T08:40:54.283Z"
   },
   {
    "duration": 975,
    "start_time": "2021-09-07T08:40:55.088Z"
   },
   {
    "duration": 830,
    "start_time": "2021-09-07T08:40:56.065Z"
   },
   {
    "duration": 759,
    "start_time": "2021-09-07T08:40:56.897Z"
   },
   {
    "duration": 19,
    "start_time": "2021-09-07T08:40:57.658Z"
   },
   {
    "duration": 21,
    "start_time": "2021-09-07T08:40:57.680Z"
   },
   {
    "duration": 7,
    "start_time": "2021-09-07T08:40:57.703Z"
   },
   {
    "duration": 54,
    "start_time": "2021-09-07T08:40:57.713Z"
   },
   {
    "duration": 17,
    "start_time": "2021-09-07T08:40:57.770Z"
   },
   {
    "duration": 6,
    "start_time": "2021-09-07T08:40:57.790Z"
   },
   {
    "duration": 1465,
    "start_time": "2021-09-07T08:51:37.957Z"
   },
   {
    "duration": 82,
    "start_time": "2021-09-07T08:51:39.425Z"
   },
   {
    "duration": 11,
    "start_time": "2021-09-07T08:51:39.510Z"
   },
   {
    "duration": 45,
    "start_time": "2021-09-07T08:51:39.524Z"
   },
   {
    "duration": 10,
    "start_time": "2021-09-07T08:51:39.571Z"
   },
   {
    "duration": 13,
    "start_time": "2021-09-07T08:51:39.584Z"
   },
   {
    "duration": 16,
    "start_time": "2021-09-07T08:51:39.600Z"
   },
   {
    "duration": 45,
    "start_time": "2021-09-07T08:51:39.622Z"
   },
   {
    "duration": 36,
    "start_time": "2021-09-07T08:51:39.669Z"
   },
   {
    "duration": 26,
    "start_time": "2021-09-07T08:51:39.707Z"
   },
   {
    "duration": 14,
    "start_time": "2021-09-07T08:51:39.757Z"
   },
   {
    "duration": 17,
    "start_time": "2021-09-07T08:51:39.773Z"
   },
   {
    "duration": 82,
    "start_time": "2021-09-07T08:51:39.792Z"
   },
   {
    "duration": 3922,
    "start_time": "2021-09-07T08:51:39.876Z"
   },
   {
    "duration": 12,
    "start_time": "2021-09-07T08:51:43.800Z"
   },
   {
    "duration": 3304,
    "start_time": "2021-09-07T08:51:43.815Z"
   },
   {
    "duration": 514,
    "start_time": "2021-09-07T08:51:47.121Z"
   },
   {
    "duration": 497,
    "start_time": "2021-09-07T08:51:47.638Z"
   },
   {
    "duration": 750,
    "start_time": "2021-09-07T08:51:48.137Z"
   },
   {
    "duration": 1164,
    "start_time": "2021-09-07T08:51:48.889Z"
   },
   {
    "duration": 471,
    "start_time": "2021-09-07T08:51:50.056Z"
   },
   {
    "duration": 465,
    "start_time": "2021-09-07T08:51:50.530Z"
   },
   {
    "duration": 23,
    "start_time": "2021-09-07T08:51:51.000Z"
   },
   {
    "duration": 32,
    "start_time": "2021-09-07T08:51:51.026Z"
   },
   {
    "duration": 581,
    "start_time": "2021-09-07T08:51:51.060Z"
   },
   {
    "duration": 528,
    "start_time": "2021-09-07T08:51:51.643Z"
   },
   {
    "duration": 504,
    "start_time": "2021-09-07T08:51:52.174Z"
   },
   {
    "duration": 16,
    "start_time": "2021-09-07T08:51:52.682Z"
   },
   {
    "duration": 17,
    "start_time": "2021-09-07T08:51:52.701Z"
   },
   {
    "duration": 513,
    "start_time": "2021-09-07T08:51:52.720Z"
   },
   {
    "duration": 27,
    "start_time": "2021-09-07T08:51:53.236Z"
   },
   {
    "duration": 479,
    "start_time": "2021-09-07T08:51:53.266Z"
   },
   {
    "duration": 7,
    "start_time": "2021-09-07T08:51:53.755Z"
   },
   {
    "duration": 805,
    "start_time": "2021-09-07T08:51:53.765Z"
   },
   {
    "duration": 1006,
    "start_time": "2021-09-07T08:51:54.573Z"
   },
   {
    "duration": 1078,
    "start_time": "2021-09-07T08:51:55.582Z"
   },
   {
    "duration": 1009,
    "start_time": "2021-09-07T08:51:56.663Z"
   },
   {
    "duration": 830,
    "start_time": "2021-09-07T08:51:57.675Z"
   },
   {
    "duration": 786,
    "start_time": "2021-09-07T08:51:58.508Z"
   },
   {
    "duration": 18,
    "start_time": "2021-09-07T08:51:59.296Z"
   },
   {
    "duration": 42,
    "start_time": "2021-09-07T08:51:59.316Z"
   },
   {
    "duration": 7,
    "start_time": "2021-09-07T08:51:59.360Z"
   },
   {
    "duration": 40,
    "start_time": "2021-09-07T08:51:59.369Z"
   },
   {
    "duration": 20,
    "start_time": "2021-09-07T08:51:59.411Z"
   },
   {
    "duration": 18,
    "start_time": "2021-09-07T08:51:59.434Z"
   },
   {
    "duration": 22,
    "start_time": "2021-09-07T08:52:29.424Z"
   },
   {
    "duration": 22,
    "start_time": "2021-09-07T08:52:49.233Z"
   },
   {
    "duration": 25,
    "start_time": "2021-09-07T08:53:00.127Z"
   },
   {
    "duration": 28,
    "start_time": "2021-09-07T08:53:06.135Z"
   },
   {
    "duration": 23,
    "start_time": "2021-09-07T08:53:18.216Z"
   },
   {
    "duration": 23,
    "start_time": "2021-09-07T08:53:39.239Z"
   },
   {
    "duration": 11,
    "start_time": "2021-09-07T08:54:32.798Z"
   },
   {
    "duration": 465,
    "start_time": "2021-09-07T08:54:34.230Z"
   },
   {
    "duration": 11,
    "start_time": "2021-09-07T08:54:50.021Z"
   },
   {
    "duration": 486,
    "start_time": "2021-09-07T08:54:50.734Z"
   },
   {
    "duration": 11,
    "start_time": "2021-09-07T08:55:00.598Z"
   },
   {
    "duration": 484,
    "start_time": "2021-09-07T08:55:01.070Z"
   },
   {
    "duration": 1484,
    "start_time": "2021-09-07T08:55:55.050Z"
   },
   {
    "duration": 84,
    "start_time": "2021-09-07T08:55:56.537Z"
   },
   {
    "duration": 11,
    "start_time": "2021-09-07T08:55:56.623Z"
   },
   {
    "duration": 23,
    "start_time": "2021-09-07T08:55:56.657Z"
   },
   {
    "duration": 10,
    "start_time": "2021-09-07T08:55:56.682Z"
   },
   {
    "duration": 27,
    "start_time": "2021-09-07T08:55:56.694Z"
   },
   {
    "duration": 10,
    "start_time": "2021-09-07T08:55:56.723Z"
   },
   {
    "duration": 10,
    "start_time": "2021-09-07T08:55:56.757Z"
   },
   {
    "duration": 26,
    "start_time": "2021-09-07T08:55:56.770Z"
   },
   {
    "duration": 23,
    "start_time": "2021-09-07T08:55:56.799Z"
   },
   {
    "duration": 38,
    "start_time": "2021-09-07T08:55:56.825Z"
   },
   {
    "duration": 18,
    "start_time": "2021-09-07T08:55:56.865Z"
   },
   {
    "duration": 87,
    "start_time": "2021-09-07T08:55:56.885Z"
   },
   {
    "duration": 3836,
    "start_time": "2021-09-07T08:55:56.975Z"
   },
   {
    "duration": 12,
    "start_time": "2021-09-07T08:56:00.814Z"
   },
   {
    "duration": 3400,
    "start_time": "2021-09-07T08:56:00.829Z"
   },
   {
    "duration": 525,
    "start_time": "2021-09-07T08:56:04.231Z"
   },
   {
    "duration": 519,
    "start_time": "2021-09-07T08:56:04.758Z"
   },
   {
    "duration": 786,
    "start_time": "2021-09-07T08:56:05.280Z"
   },
   {
    "duration": 1197,
    "start_time": "2021-09-07T08:56:06.068Z"
   },
   {
    "duration": 480,
    "start_time": "2021-09-07T08:56:07.268Z"
   },
   {
    "duration": 485,
    "start_time": "2021-09-07T08:56:07.751Z"
   },
   {
    "duration": 32,
    "start_time": "2021-09-07T08:56:08.241Z"
   },
   {
    "duration": 9,
    "start_time": "2021-09-07T08:56:08.276Z"
   },
   {
    "duration": 578,
    "start_time": "2021-09-07T08:56:08.288Z"
   },
   {
    "duration": 506,
    "start_time": "2021-09-07T08:56:08.868Z"
   },
   {
    "duration": 519,
    "start_time": "2021-09-07T08:56:09.377Z"
   },
   {
    "duration": 17,
    "start_time": "2021-09-07T08:56:09.900Z"
   },
   {
    "duration": 38,
    "start_time": "2021-09-07T08:56:09.921Z"
   },
   {
    "duration": 497,
    "start_time": "2021-09-07T08:56:09.962Z"
   },
   {
    "duration": 19,
    "start_time": "2021-09-07T08:56:10.461Z"
   },
   {
    "duration": 542,
    "start_time": "2021-09-07T08:56:10.482Z"
   },
   {
    "duration": 7,
    "start_time": "2021-09-07T08:56:11.027Z"
   },
   {
    "duration": 819,
    "start_time": "2021-09-07T08:56:11.036Z"
   },
   {
    "duration": 810,
    "start_time": "2021-09-07T08:56:11.858Z"
   },
   {
    "duration": 823,
    "start_time": "2021-09-07T08:56:12.670Z"
   },
   {
    "duration": 922,
    "start_time": "2021-09-07T08:56:13.496Z"
   },
   {
    "duration": 845,
    "start_time": "2021-09-07T08:56:14.421Z"
   },
   {
    "duration": 772,
    "start_time": "2021-09-07T08:56:15.269Z"
   },
   {
    "duration": 27,
    "start_time": "2021-09-07T08:56:16.044Z"
   },
   {
    "duration": 18,
    "start_time": "2021-09-07T08:56:16.074Z"
   },
   {
    "duration": 9,
    "start_time": "2021-09-07T08:56:16.095Z"
   },
   {
    "duration": 59,
    "start_time": "2021-09-07T08:56:16.107Z"
   },
   {
    "duration": 20,
    "start_time": "2021-09-07T08:56:16.169Z"
   },
   {
    "duration": 8,
    "start_time": "2021-09-07T08:56:16.193Z"
   },
   {
    "duration": 10,
    "start_time": "2021-09-07T09:02:59.176Z"
   },
   {
    "duration": 504,
    "start_time": "2021-09-07T09:03:00.138Z"
   },
   {
    "duration": 1470,
    "start_time": "2021-09-07T09:04:15.749Z"
   },
   {
    "duration": 90,
    "start_time": "2021-09-07T09:04:17.222Z"
   },
   {
    "duration": 14,
    "start_time": "2021-09-07T09:04:17.316Z"
   },
   {
    "duration": 24,
    "start_time": "2021-09-07T09:04:17.356Z"
   },
   {
    "duration": 11,
    "start_time": "2021-09-07T09:04:17.383Z"
   },
   {
    "duration": 14,
    "start_time": "2021-09-07T09:04:17.397Z"
   },
   {
    "duration": 46,
    "start_time": "2021-09-07T09:04:17.413Z"
   },
   {
    "duration": 26,
    "start_time": "2021-09-07T09:04:17.463Z"
   },
   {
    "duration": 35,
    "start_time": "2021-09-07T09:04:17.494Z"
   },
   {
    "duration": 42,
    "start_time": "2021-09-07T09:04:17.531Z"
   },
   {
    "duration": 13,
    "start_time": "2021-09-07T09:04:17.576Z"
   },
   {
    "duration": 20,
    "start_time": "2021-09-07T09:04:17.592Z"
   },
   {
    "duration": 88,
    "start_time": "2021-09-07T09:04:17.614Z"
   },
   {
    "duration": 3897,
    "start_time": "2021-09-07T09:04:17.704Z"
   },
   {
    "duration": 12,
    "start_time": "2021-09-07T09:04:21.603Z"
   },
   {
    "duration": 3296,
    "start_time": "2021-09-07T09:04:21.617Z"
   },
   {
    "duration": 511,
    "start_time": "2021-09-07T09:04:24.915Z"
   },
   {
    "duration": 499,
    "start_time": "2021-09-07T09:04:25.429Z"
   },
   {
    "duration": 728,
    "start_time": "2021-09-07T09:04:25.930Z"
   },
   {
    "duration": 1192,
    "start_time": "2021-09-07T09:04:26.660Z"
   },
   {
    "duration": 486,
    "start_time": "2021-09-07T09:04:27.857Z"
   },
   {
    "duration": 480,
    "start_time": "2021-09-07T09:04:28.346Z"
   },
   {
    "duration": 32,
    "start_time": "2021-09-07T09:04:28.833Z"
   },
   {
    "duration": 10,
    "start_time": "2021-09-07T09:04:28.868Z"
   },
   {
    "duration": 589,
    "start_time": "2021-09-07T09:04:28.880Z"
   },
   {
    "duration": 525,
    "start_time": "2021-09-07T09:04:29.472Z"
   },
   {
    "duration": 577,
    "start_time": "2021-09-07T09:04:30.000Z"
   },
   {
    "duration": 15,
    "start_time": "2021-09-07T09:04:30.579Z"
   },
   {
    "duration": 26,
    "start_time": "2021-09-07T09:04:30.596Z"
   },
   {
    "duration": 491,
    "start_time": "2021-09-07T09:04:30.625Z"
   },
   {
    "duration": 37,
    "start_time": "2021-09-07T09:04:31.119Z"
   },
   {
    "duration": 466,
    "start_time": "2021-09-07T09:04:31.158Z"
   },
   {
    "duration": 7,
    "start_time": "2021-09-07T09:04:31.627Z"
   },
   {
    "duration": 812,
    "start_time": "2021-09-07T09:04:31.636Z"
   },
   {
    "duration": 768,
    "start_time": "2021-09-07T09:04:32.451Z"
   },
   {
    "duration": 790,
    "start_time": "2021-09-07T09:04:33.222Z"
   },
   {
    "duration": 894,
    "start_time": "2021-09-07T09:04:34.014Z"
   },
   {
    "duration": 822,
    "start_time": "2021-09-07T09:04:34.911Z"
   },
   {
    "duration": 788,
    "start_time": "2021-09-07T09:04:35.735Z"
   },
   {
    "duration": 35,
    "start_time": "2021-09-07T09:04:36.525Z"
   },
   {
    "duration": 38,
    "start_time": "2021-09-07T09:04:36.563Z"
   },
   {
    "duration": 12,
    "start_time": "2021-09-07T09:04:36.605Z"
   },
   {
    "duration": 26,
    "start_time": "2021-09-07T09:04:36.620Z"
   },
   {
    "duration": 21,
    "start_time": "2021-09-07T09:04:36.657Z"
   },
   {
    "duration": 24,
    "start_time": "2021-09-07T09:04:36.681Z"
   },
   {
    "duration": 486,
    "start_time": "2021-09-07T09:13:59.081Z"
   },
   {
    "duration": 1496,
    "start_time": "2021-09-07T09:14:09.812Z"
   },
   {
    "duration": 86,
    "start_time": "2021-09-07T09:14:11.310Z"
   },
   {
    "duration": 12,
    "start_time": "2021-09-07T09:14:11.399Z"
   },
   {
    "duration": 44,
    "start_time": "2021-09-07T09:14:11.413Z"
   },
   {
    "duration": 9,
    "start_time": "2021-09-07T09:14:11.460Z"
   },
   {
    "duration": 20,
    "start_time": "2021-09-07T09:14:11.471Z"
   },
   {
    "duration": 13,
    "start_time": "2021-09-07T09:14:11.493Z"
   },
   {
    "duration": 12,
    "start_time": "2021-09-07T09:14:11.510Z"
   },
   {
    "duration": 48,
    "start_time": "2021-09-07T09:14:11.525Z"
   },
   {
    "duration": 26,
    "start_time": "2021-09-07T09:14:11.575Z"
   },
   {
    "duration": 15,
    "start_time": "2021-09-07T09:14:11.603Z"
   },
   {
    "duration": 48,
    "start_time": "2021-09-07T09:14:11.621Z"
   },
   {
    "duration": 65,
    "start_time": "2021-09-07T09:14:11.671Z"
   },
   {
    "duration": 3911,
    "start_time": "2021-09-07T09:14:11.738Z"
   },
   {
    "duration": 12,
    "start_time": "2021-09-07T09:14:15.651Z"
   },
   {
    "duration": 3385,
    "start_time": "2021-09-07T09:14:15.665Z"
   },
   {
    "duration": 500,
    "start_time": "2021-09-07T09:14:19.056Z"
   },
   {
    "duration": 504,
    "start_time": "2021-09-07T09:14:19.559Z"
   },
   {
    "duration": 752,
    "start_time": "2021-09-07T09:14:20.065Z"
   },
   {
    "duration": 1196,
    "start_time": "2021-09-07T09:14:20.820Z"
   },
   {
    "duration": 542,
    "start_time": "2021-09-07T09:14:22.018Z"
   },
   {
    "duration": 770,
    "start_time": "2021-09-07T09:14:22.562Z"
   },
   {
    "duration": 7,
    "start_time": "2021-09-07T09:14:23.337Z"
   },
   {
    "duration": 22,
    "start_time": "2021-09-07T09:14:23.356Z"
   },
   {
    "duration": 10,
    "start_time": "2021-09-07T09:14:23.381Z"
   },
   {
    "duration": 582,
    "start_time": "2021-09-07T09:14:23.393Z"
   },
   {
    "duration": 496,
    "start_time": "2021-09-07T09:14:23.978Z"
   },
   {
    "duration": 496,
    "start_time": "2021-09-07T09:14:24.477Z"
   },
   {
    "duration": 16,
    "start_time": "2021-09-07T09:14:24.975Z"
   },
   {
    "duration": 19,
    "start_time": "2021-09-07T09:14:24.993Z"
   },
   {
    "duration": 504,
    "start_time": "2021-09-07T09:14:25.015Z"
   },
   {
    "duration": 18,
    "start_time": "2021-09-07T09:14:25.521Z"
   },
   {
    "duration": 525,
    "start_time": "2021-09-07T09:14:25.541Z"
   },
   {
    "duration": 7,
    "start_time": "2021-09-07T09:14:26.068Z"
   },
   {
    "duration": 783,
    "start_time": "2021-09-07T09:14:26.077Z"
   },
   {
    "duration": 803,
    "start_time": "2021-09-07T09:14:26.863Z"
   },
   {
    "duration": 826,
    "start_time": "2021-09-07T09:14:27.669Z"
   },
   {
    "duration": 1090,
    "start_time": "2021-09-07T09:14:28.498Z"
   },
   {
    "duration": 843,
    "start_time": "2021-09-07T09:14:29.591Z"
   },
   {
    "duration": 792,
    "start_time": "2021-09-07T09:14:30.437Z"
   },
   {
    "duration": 29,
    "start_time": "2021-09-07T09:14:31.232Z"
   },
   {
    "duration": 34,
    "start_time": "2021-09-07T09:14:31.264Z"
   },
   {
    "duration": 15,
    "start_time": "2021-09-07T09:14:31.300Z"
   },
   {
    "duration": 52,
    "start_time": "2021-09-07T09:14:31.317Z"
   },
   {
    "duration": 39,
    "start_time": "2021-09-07T09:14:31.371Z"
   },
   {
    "duration": 13,
    "start_time": "2021-09-07T09:14:31.412Z"
   },
   {
    "duration": 10,
    "start_time": "2021-09-07T09:15:19.430Z"
   },
   {
    "duration": 473,
    "start_time": "2021-09-07T09:15:20.166Z"
   },
   {
    "duration": 9,
    "start_time": "2021-09-07T09:15:28.413Z"
   },
   {
    "duration": 471,
    "start_time": "2021-09-07T09:15:28.956Z"
   },
   {
    "duration": 9,
    "start_time": "2021-09-07T09:15:41.133Z"
   },
   {
    "duration": 587,
    "start_time": "2021-09-07T09:15:41.635Z"
   },
   {
    "duration": 9,
    "start_time": "2021-09-07T09:15:53.229Z"
   },
   {
    "duration": 465,
    "start_time": "2021-09-07T09:15:53.677Z"
   },
   {
    "duration": 1508,
    "start_time": "2021-09-07T09:16:24.226Z"
   },
   {
    "duration": 92,
    "start_time": "2021-09-07T09:16:25.737Z"
   },
   {
    "duration": 25,
    "start_time": "2021-09-07T09:16:25.831Z"
   },
   {
    "duration": 27,
    "start_time": "2021-09-07T09:16:25.859Z"
   },
   {
    "duration": 11,
    "start_time": "2021-09-07T09:16:25.889Z"
   },
   {
    "duration": 29,
    "start_time": "2021-09-07T09:16:25.902Z"
   },
   {
    "duration": 21,
    "start_time": "2021-09-07T09:16:25.934Z"
   },
   {
    "duration": 20,
    "start_time": "2021-09-07T09:16:25.961Z"
   },
   {
    "duration": 40,
    "start_time": "2021-09-07T09:16:25.985Z"
   },
   {
    "duration": 33,
    "start_time": "2021-09-07T09:16:26.028Z"
   },
   {
    "duration": 15,
    "start_time": "2021-09-07T09:16:26.064Z"
   },
   {
    "duration": 18,
    "start_time": "2021-09-07T09:16:26.082Z"
   },
   {
    "duration": 92,
    "start_time": "2021-09-07T09:16:26.103Z"
   },
   {
    "duration": 3772,
    "start_time": "2021-09-07T09:16:26.197Z"
   },
   {
    "duration": 11,
    "start_time": "2021-09-07T09:16:29.972Z"
   },
   {
    "duration": 3279,
    "start_time": "2021-09-07T09:16:29.985Z"
   },
   {
    "duration": 500,
    "start_time": "2021-09-07T09:16:33.266Z"
   },
   {
    "duration": 499,
    "start_time": "2021-09-07T09:16:33.768Z"
   },
   {
    "duration": 764,
    "start_time": "2021-09-07T09:16:34.270Z"
   },
   {
    "duration": 1176,
    "start_time": "2021-09-07T09:16:35.037Z"
   },
   {
    "duration": 509,
    "start_time": "2021-09-07T09:16:36.216Z"
   },
   {
    "duration": 491,
    "start_time": "2021-09-07T09:16:36.729Z"
   },
   {
    "duration": 31,
    "start_time": "2021-09-07T09:16:37.225Z"
   },
   {
    "duration": 19,
    "start_time": "2021-09-07T09:16:37.259Z"
   },
   {
    "duration": 17,
    "start_time": "2021-09-07T09:16:37.281Z"
   },
   {
    "duration": 623,
    "start_time": "2021-09-07T09:16:37.301Z"
   },
   {
    "duration": 540,
    "start_time": "2021-09-07T09:16:37.926Z"
   },
   {
    "duration": 706,
    "start_time": "2021-09-07T09:16:38.468Z"
   },
   {
    "duration": 15,
    "start_time": "2021-09-07T09:16:39.176Z"
   },
   {
    "duration": 62,
    "start_time": "2021-09-07T09:16:39.194Z"
   },
   {
    "duration": 551,
    "start_time": "2021-09-07T09:16:39.258Z"
   },
   {
    "duration": 17,
    "start_time": "2021-09-07T09:16:39.811Z"
   },
   {
    "duration": 480,
    "start_time": "2021-09-07T09:16:39.830Z"
   },
   {
    "duration": 8,
    "start_time": "2021-09-07T09:16:40.312Z"
   },
   {
    "duration": 824,
    "start_time": "2021-09-07T09:16:40.322Z"
   },
   {
    "duration": 875,
    "start_time": "2021-09-07T09:16:41.156Z"
   },
   {
    "duration": 1249,
    "start_time": "2021-09-07T09:16:42.034Z"
   },
   {
    "duration": 924,
    "start_time": "2021-09-07T09:16:43.286Z"
   },
   {
    "duration": 846,
    "start_time": "2021-09-07T09:16:44.212Z"
   },
   {
    "duration": 788,
    "start_time": "2021-09-07T09:16:45.060Z"
   },
   {
    "duration": 17,
    "start_time": "2021-09-07T09:16:45.851Z"
   },
   {
    "duration": 26,
    "start_time": "2021-09-07T09:16:45.870Z"
   },
   {
    "duration": 11,
    "start_time": "2021-09-07T09:16:45.898Z"
   },
   {
    "duration": 46,
    "start_time": "2021-09-07T09:16:45.912Z"
   },
   {
    "duration": 18,
    "start_time": "2021-09-07T09:16:45.961Z"
   },
   {
    "duration": 21,
    "start_time": "2021-09-07T09:16:45.982Z"
   },
   {
    "duration": 34,
    "start_time": "2021-09-07T09:26:59.188Z"
   },
   {
    "duration": 8,
    "start_time": "2021-09-07T09:27:48.311Z"
   },
   {
    "duration": 1498,
    "start_time": "2021-09-07T09:28:45.117Z"
   },
   {
    "duration": 85,
    "start_time": "2021-09-07T09:28:46.617Z"
   },
   {
    "duration": 12,
    "start_time": "2021-09-07T09:28:46.705Z"
   },
   {
    "duration": 42,
    "start_time": "2021-09-07T09:28:46.720Z"
   },
   {
    "duration": 10,
    "start_time": "2021-09-07T09:28:46.764Z"
   },
   {
    "duration": 10,
    "start_time": "2021-09-07T09:28:46.776Z"
   },
   {
    "duration": 14,
    "start_time": "2021-09-07T09:28:46.788Z"
   },
   {
    "duration": 19,
    "start_time": "2021-09-07T09:28:46.805Z"
   },
   {
    "duration": 24,
    "start_time": "2021-09-07T09:28:46.856Z"
   },
   {
    "duration": 26,
    "start_time": "2021-09-07T09:28:46.883Z"
   },
   {
    "duration": 45,
    "start_time": "2021-09-07T09:28:46.912Z"
   },
   {
    "duration": 20,
    "start_time": "2021-09-07T09:28:46.960Z"
   },
   {
    "duration": 95,
    "start_time": "2021-09-07T09:28:46.982Z"
   },
   {
    "duration": 3833,
    "start_time": "2021-09-07T09:28:47.080Z"
   },
   {
    "duration": 14,
    "start_time": "2021-09-07T09:28:50.915Z"
   },
   {
    "duration": 3315,
    "start_time": "2021-09-07T09:28:50.932Z"
   },
   {
    "duration": 504,
    "start_time": "2021-09-07T09:28:54.255Z"
   },
   {
    "duration": 500,
    "start_time": "2021-09-07T09:28:54.762Z"
   },
   {
    "duration": 749,
    "start_time": "2021-09-07T09:28:55.265Z"
   },
   {
    "duration": 1151,
    "start_time": "2021-09-07T09:28:56.017Z"
   },
   {
    "duration": 515,
    "start_time": "2021-09-07T09:28:57.171Z"
   },
   {
    "duration": 476,
    "start_time": "2021-09-07T09:28:57.688Z"
   },
   {
    "duration": 8,
    "start_time": "2021-09-07T09:28:58.170Z"
   },
   {
    "duration": 22,
    "start_time": "2021-09-07T09:28:58.181Z"
   },
   {
    "duration": 10,
    "start_time": "2021-09-07T09:28:58.205Z"
   },
   {
    "duration": 584,
    "start_time": "2021-09-07T09:28:58.217Z"
   },
   {
    "duration": 537,
    "start_time": "2021-09-07T09:28:58.804Z"
   },
   {
    "duration": 514,
    "start_time": "2021-09-07T09:28:59.344Z"
   },
   {
    "duration": 16,
    "start_time": "2021-09-07T09:28:59.860Z"
   },
   {
    "duration": 26,
    "start_time": "2021-09-07T09:28:59.879Z"
   },
   {
    "duration": 500,
    "start_time": "2021-09-07T09:28:59.907Z"
   },
   {
    "duration": 17,
    "start_time": "2021-09-07T09:29:00.409Z"
   },
   {
    "duration": 468,
    "start_time": "2021-09-07T09:29:00.428Z"
   },
   {
    "duration": 7,
    "start_time": "2021-09-07T09:29:00.898Z"
   },
   {
    "duration": 822,
    "start_time": "2021-09-07T09:29:00.908Z"
   },
   {
    "duration": 793,
    "start_time": "2021-09-07T09:29:01.732Z"
   },
   {
    "duration": 1161,
    "start_time": "2021-09-07T09:29:02.527Z"
   },
   {
    "duration": 907,
    "start_time": "2021-09-07T09:29:03.690Z"
   },
   {
    "duration": 914,
    "start_time": "2021-09-07T09:29:04.600Z"
   },
   {
    "duration": 775,
    "start_time": "2021-09-07T09:29:05.516Z"
   },
   {
    "duration": 18,
    "start_time": "2021-09-07T09:29:06.294Z"
   },
   {
    "duration": 42,
    "start_time": "2021-09-07T09:29:06.314Z"
   },
   {
    "duration": 7,
    "start_time": "2021-09-07T09:29:06.358Z"
   },
   {
    "duration": 24,
    "start_time": "2021-09-07T09:29:06.367Z"
   },
   {
    "duration": 20,
    "start_time": "2021-09-07T09:29:06.393Z"
   },
   {
    "duration": 42,
    "start_time": "2021-09-07T09:29:06.415Z"
   },
   {
    "duration": 558,
    "start_time": "2021-09-07T09:31:33.037Z"
   },
   {
    "duration": 518,
    "start_time": "2021-09-07T09:31:53.097Z"
   },
   {
    "duration": 15,
    "start_time": "2021-09-07T09:32:06.125Z"
   },
   {
    "duration": 556,
    "start_time": "2021-09-07T09:32:34.849Z"
   },
   {
    "duration": 567,
    "start_time": "2021-09-07T09:32:39.818Z"
   },
   {
    "duration": 15,
    "start_time": "2021-09-07T09:32:43.390Z"
   },
   {
    "duration": 1526,
    "start_time": "2021-09-07T09:33:08.840Z"
   },
   {
    "duration": 89,
    "start_time": "2021-09-07T09:33:10.369Z"
   },
   {
    "duration": 12,
    "start_time": "2021-09-07T09:33:10.462Z"
   },
   {
    "duration": 33,
    "start_time": "2021-09-07T09:33:10.476Z"
   },
   {
    "duration": 10,
    "start_time": "2021-09-07T09:33:10.511Z"
   },
   {
    "duration": 38,
    "start_time": "2021-09-07T09:33:10.524Z"
   },
   {
    "duration": 34,
    "start_time": "2021-09-07T09:33:10.565Z"
   },
   {
    "duration": 21,
    "start_time": "2021-09-07T09:33:10.603Z"
   },
   {
    "duration": 45,
    "start_time": "2021-09-07T09:33:10.627Z"
   },
   {
    "duration": 39,
    "start_time": "2021-09-07T09:33:10.675Z"
   },
   {
    "duration": 45,
    "start_time": "2021-09-07T09:33:10.717Z"
   },
   {
    "duration": 26,
    "start_time": "2021-09-07T09:33:10.765Z"
   },
   {
    "duration": 84,
    "start_time": "2021-09-07T09:33:10.794Z"
   },
   {
    "duration": 3906,
    "start_time": "2021-09-07T09:33:10.880Z"
   },
   {
    "duration": 13,
    "start_time": "2021-09-07T09:33:14.789Z"
   },
   {
    "duration": 3334,
    "start_time": "2021-09-07T09:33:14.804Z"
   },
   {
    "duration": 520,
    "start_time": "2021-09-07T09:33:18.140Z"
   },
   {
    "duration": 501,
    "start_time": "2021-09-07T09:33:18.663Z"
   },
   {
    "duration": 755,
    "start_time": "2021-09-07T09:33:19.167Z"
   },
   {
    "duration": 1188,
    "start_time": "2021-09-07T09:33:19.925Z"
   },
   {
    "duration": 480,
    "start_time": "2021-09-07T09:33:21.116Z"
   },
   {
    "duration": 590,
    "start_time": "2021-09-07T09:33:21.598Z"
   },
   {
    "duration": 8,
    "start_time": "2021-09-07T09:33:22.193Z"
   },
   {
    "duration": 28,
    "start_time": "2021-09-07T09:33:22.203Z"
   },
   {
    "duration": 30,
    "start_time": "2021-09-07T09:33:22.233Z"
   },
   {
    "duration": 581,
    "start_time": "2021-09-07T09:33:22.266Z"
   },
   {
    "duration": 566,
    "start_time": "2021-09-07T09:33:22.850Z"
   },
   {
    "duration": 600,
    "start_time": "2021-09-07T09:33:23.419Z"
   },
   {
    "duration": 16,
    "start_time": "2021-09-07T09:33:24.022Z"
   },
   {
    "duration": 28,
    "start_time": "2021-09-07T09:33:24.040Z"
   },
   {
    "duration": 490,
    "start_time": "2021-09-07T09:33:24.071Z"
   },
   {
    "duration": 17,
    "start_time": "2021-09-07T09:33:24.563Z"
   },
   {
    "duration": 482,
    "start_time": "2021-09-07T09:33:24.583Z"
   },
   {
    "duration": 8,
    "start_time": "2021-09-07T09:33:25.068Z"
   },
   {
    "duration": 972,
    "start_time": "2021-09-07T09:33:25.079Z"
   },
   {
    "duration": 1339,
    "start_time": "2021-09-07T09:33:26.056Z"
   },
   {
    "duration": 826,
    "start_time": "2021-09-07T09:33:27.397Z"
   },
   {
    "duration": 920,
    "start_time": "2021-09-07T09:33:28.225Z"
   },
   {
    "duration": 864,
    "start_time": "2021-09-07T09:33:29.147Z"
   },
   {
    "duration": 795,
    "start_time": "2021-09-07T09:33:30.013Z"
   },
   {
    "duration": 20,
    "start_time": "2021-09-07T09:33:30.811Z"
   },
   {
    "duration": 59,
    "start_time": "2021-09-07T09:33:30.834Z"
   },
   {
    "duration": 8,
    "start_time": "2021-09-07T09:33:30.896Z"
   },
   {
    "duration": 36,
    "start_time": "2021-09-07T09:33:30.906Z"
   },
   {
    "duration": 24,
    "start_time": "2021-09-07T09:33:30.945Z"
   },
   {
    "duration": 11,
    "start_time": "2021-09-07T09:33:30.971Z"
   },
   {
    "duration": 15,
    "start_time": "2021-09-07T09:36:51.943Z"
   },
   {
    "duration": 44,
    "start_time": "2021-09-07T09:46:30.874Z"
   },
   {
    "duration": 41,
    "start_time": "2021-09-07T09:50:45.024Z"
   },
   {
    "duration": 580,
    "start_time": "2021-09-07T09:51:16.121Z"
   },
   {
    "duration": 41,
    "start_time": "2021-09-07T09:51:24.729Z"
   },
   {
    "duration": 42,
    "start_time": "2021-09-07T09:51:51.057Z"
   },
   {
    "duration": 42,
    "start_time": "2021-09-07T09:52:31.264Z"
   },
   {
    "duration": 57,
    "start_time": "2021-09-07T09:52:55.824Z"
   },
   {
    "duration": 1668,
    "start_time": "2021-09-07T09:55:16.032Z"
   },
   {
    "duration": 45,
    "start_time": "2021-09-07T09:55:49.663Z"
   },
   {
    "duration": 45,
    "start_time": "2021-09-07T09:57:13.207Z"
   },
   {
    "duration": 55,
    "start_time": "2021-09-07T10:00:26.979Z"
   },
   {
    "duration": 55,
    "start_time": "2021-09-07T10:01:02.020Z"
   },
   {
    "duration": 18,
    "start_time": "2021-09-07T10:06:06.423Z"
   },
   {
    "duration": 19,
    "start_time": "2021-09-07T10:06:09.288Z"
   },
   {
    "duration": 6,
    "start_time": "2021-09-07T10:06:16.414Z"
   },
   {
    "duration": 128,
    "start_time": "2021-09-07T10:07:56.373Z"
   },
   {
    "duration": 18,
    "start_time": "2021-09-07T10:08:23.388Z"
   },
   {
    "duration": 18,
    "start_time": "2021-09-07T10:08:38.350Z"
   },
   {
    "duration": 7,
    "start_time": "2021-09-07T10:08:40.830Z"
   },
   {
    "duration": 1478,
    "start_time": "2021-09-07T11:42:37.497Z"
   },
   {
    "duration": 86,
    "start_time": "2021-09-07T11:42:38.978Z"
   },
   {
    "duration": 14,
    "start_time": "2021-09-07T11:42:39.068Z"
   },
   {
    "duration": 30,
    "start_time": "2021-09-07T11:42:39.085Z"
   },
   {
    "duration": 43,
    "start_time": "2021-09-07T11:42:39.118Z"
   },
   {
    "duration": 27,
    "start_time": "2021-09-07T11:42:39.164Z"
   },
   {
    "duration": 33,
    "start_time": "2021-09-07T11:42:39.194Z"
   },
   {
    "duration": 20,
    "start_time": "2021-09-07T11:42:39.233Z"
   },
   {
    "duration": 38,
    "start_time": "2021-09-07T11:42:39.257Z"
   },
   {
    "duration": 25,
    "start_time": "2021-09-07T11:42:39.297Z"
   },
   {
    "duration": 24,
    "start_time": "2021-09-07T11:42:39.325Z"
   },
   {
    "duration": 27,
    "start_time": "2021-09-07T11:42:39.351Z"
   },
   {
    "duration": 61,
    "start_time": "2021-09-07T11:42:39.380Z"
   },
   {
    "duration": 4161,
    "start_time": "2021-09-07T11:42:39.444Z"
   },
   {
    "duration": 13,
    "start_time": "2021-09-07T11:42:43.608Z"
   },
   {
    "duration": 3323,
    "start_time": "2021-09-07T11:42:43.623Z"
   },
   {
    "duration": 514,
    "start_time": "2021-09-07T11:42:46.956Z"
   },
   {
    "duration": 498,
    "start_time": "2021-09-07T11:42:47.473Z"
   },
   {
    "duration": 748,
    "start_time": "2021-09-07T11:42:47.974Z"
   },
   {
    "duration": 1170,
    "start_time": "2021-09-07T11:42:48.724Z"
   },
   {
    "duration": 697,
    "start_time": "2021-09-07T11:42:49.897Z"
   },
   {
    "duration": 632,
    "start_time": "2021-09-07T11:42:50.597Z"
   },
   {
    "duration": 22,
    "start_time": "2021-09-07T11:42:51.234Z"
   },
   {
    "duration": 21,
    "start_time": "2021-09-07T11:42:51.259Z"
   },
   {
    "duration": 19,
    "start_time": "2021-09-07T11:42:51.283Z"
   },
   {
    "duration": 569,
    "start_time": "2021-09-07T11:42:51.304Z"
   },
   {
    "duration": 527,
    "start_time": "2021-09-07T11:42:51.876Z"
   },
   {
    "duration": 579,
    "start_time": "2021-09-07T11:42:52.405Z"
   },
   {
    "duration": 14,
    "start_time": "2021-09-07T11:42:52.986Z"
   },
   {
    "duration": 18,
    "start_time": "2021-09-07T11:42:53.003Z"
   },
   {
    "duration": 34,
    "start_time": "2021-09-07T11:42:53.024Z"
   },
   {
    "duration": 488,
    "start_time": "2021-09-07T11:42:53.060Z"
   },
   {
    "duration": 17,
    "start_time": "2021-09-07T11:42:53.551Z"
   },
   {
    "duration": 492,
    "start_time": "2021-09-07T11:42:53.571Z"
   },
   {
    "duration": 55,
    "start_time": "2021-09-07T11:42:54.066Z"
   },
   {
    "duration": 34,
    "start_time": "2021-09-07T11:42:54.123Z"
   },
   {
    "duration": 794,
    "start_time": "2021-09-07T11:42:54.159Z"
   },
   {
    "duration": 805,
    "start_time": "2021-09-07T11:42:54.956Z"
   },
   {
    "duration": 855,
    "start_time": "2021-09-07T11:42:55.763Z"
   },
   {
    "duration": 977,
    "start_time": "2021-09-07T11:42:56.620Z"
   },
   {
    "duration": 1034,
    "start_time": "2021-09-07T11:42:57.599Z"
   },
   {
    "duration": 776,
    "start_time": "2021-09-07T11:42:58.635Z"
   },
   {
    "duration": 20,
    "start_time": "2021-09-07T11:42:59.413Z"
   },
   {
    "duration": 35,
    "start_time": "2021-09-07T11:42:59.436Z"
   },
   {
    "duration": 7,
    "start_time": "2021-09-07T11:42:59.473Z"
   },
   {
    "duration": 27,
    "start_time": "2021-09-07T11:42:59.483Z"
   },
   {
    "duration": 48,
    "start_time": "2021-09-07T11:42:59.513Z"
   },
   {
    "duration": 7,
    "start_time": "2021-09-07T11:42:59.563Z"
   },
   {
    "duration": 1497,
    "start_time": "2021-09-07T11:54:30.014Z"
   },
   {
    "duration": 85,
    "start_time": "2021-09-07T11:54:31.514Z"
   },
   {
    "duration": 12,
    "start_time": "2021-09-07T11:54:31.603Z"
   },
   {
    "duration": 47,
    "start_time": "2021-09-07T11:54:31.618Z"
   },
   {
    "duration": 9,
    "start_time": "2021-09-07T11:54:31.668Z"
   },
   {
    "duration": 21,
    "start_time": "2021-09-07T11:54:31.679Z"
   },
   {
    "duration": 17,
    "start_time": "2021-09-07T11:54:31.702Z"
   },
   {
    "duration": 15,
    "start_time": "2021-09-07T11:54:31.722Z"
   },
   {
    "duration": 39,
    "start_time": "2021-09-07T11:54:31.740Z"
   },
   {
    "duration": 25,
    "start_time": "2021-09-07T11:54:31.781Z"
   },
   {
    "duration": 14,
    "start_time": "2021-09-07T11:54:31.809Z"
   },
   {
    "duration": 44,
    "start_time": "2021-09-07T11:54:31.825Z"
   },
   {
    "duration": 63,
    "start_time": "2021-09-07T11:54:31.871Z"
   },
   {
    "duration": 3870,
    "start_time": "2021-09-07T11:54:31.936Z"
   },
   {
    "duration": 12,
    "start_time": "2021-09-07T11:54:35.809Z"
   },
   {
    "duration": 3549,
    "start_time": "2021-09-07T11:54:35.823Z"
   },
   {
    "duration": 507,
    "start_time": "2021-09-07T11:54:39.374Z"
   },
   {
    "duration": 614,
    "start_time": "2021-09-07T11:54:39.884Z"
   },
   {
    "duration": 776,
    "start_time": "2021-09-07T11:54:40.500Z"
   },
   {
    "duration": 1168,
    "start_time": "2021-09-07T11:54:41.279Z"
   },
   {
    "duration": 483,
    "start_time": "2021-09-07T11:54:42.450Z"
   },
   {
    "duration": 478,
    "start_time": "2021-09-07T11:54:42.935Z"
   },
   {
    "duration": 7,
    "start_time": "2021-09-07T11:54:43.418Z"
   },
   {
    "duration": 43,
    "start_time": "2021-09-07T11:54:43.429Z"
   },
   {
    "duration": 19,
    "start_time": "2021-09-07T11:54:43.475Z"
   },
   {
    "duration": 562,
    "start_time": "2021-09-07T11:54:43.496Z"
   },
   {
    "duration": 529,
    "start_time": "2021-09-07T11:54:44.061Z"
   },
   {
    "duration": 530,
    "start_time": "2021-09-07T11:54:44.594Z"
   },
   {
    "duration": 30,
    "start_time": "2021-09-07T11:54:45.127Z"
   },
   {
    "duration": 17,
    "start_time": "2021-09-07T11:54:45.160Z"
   },
   {
    "duration": 14,
    "start_time": "2021-09-07T11:54:45.179Z"
   },
   {
    "duration": 494,
    "start_time": "2021-09-07T11:54:45.196Z"
   },
   {
    "duration": 17,
    "start_time": "2021-09-07T11:54:45.692Z"
   },
   {
    "duration": 475,
    "start_time": "2021-09-07T11:54:45.712Z"
   },
   {
    "duration": 72,
    "start_time": "2021-09-07T11:54:46.190Z"
   },
   {
    "duration": 7,
    "start_time": "2021-09-07T11:54:46.265Z"
   },
   {
    "duration": 800,
    "start_time": "2021-09-07T11:54:46.274Z"
   },
   {
    "duration": 789,
    "start_time": "2021-09-07T11:54:47.076Z"
   },
   {
    "duration": 798,
    "start_time": "2021-09-07T11:54:47.867Z"
   },
   {
    "duration": 1026,
    "start_time": "2021-09-07T11:54:48.667Z"
   },
   {
    "duration": 950,
    "start_time": "2021-09-07T11:54:49.695Z"
   },
   {
    "duration": 957,
    "start_time": "2021-09-07T11:54:50.647Z"
   },
   {
    "duration": 17,
    "start_time": "2021-09-07T11:54:51.607Z"
   },
   {
    "duration": 18,
    "start_time": "2021-09-07T11:54:51.627Z"
   },
   {
    "duration": 6,
    "start_time": "2021-09-07T11:54:51.656Z"
   },
   {
    "duration": 22,
    "start_time": "2021-09-07T11:54:51.664Z"
   },
   {
    "duration": 16,
    "start_time": "2021-09-07T11:54:51.689Z"
   },
   {
    "duration": 11,
    "start_time": "2021-09-07T11:54:51.707Z"
   }
  ],
  "kernelspec": {
   "display_name": "Python 3 (ipykernel)",
   "language": "python",
   "name": "python3"
  },
  "language_info": {
   "codemirror_mode": {
    "name": "ipython",
    "version": 3
   },
   "file_extension": ".py",
   "mimetype": "text/x-python",
   "name": "python",
   "nbconvert_exporter": "python",
   "pygments_lexer": "ipython3",
   "version": "3.10.5"
  },
  "toc": {
   "base_numbering": 1,
   "nav_menu": {},
   "number_sections": true,
   "sideBar": true,
   "skip_h1_title": true,
   "title_cell": "Table of Contents",
   "title_sidebar": "Contents",
   "toc_cell": false,
   "toc_position": {
    "height": "calc(100% - 180px)",
    "left": "10px",
    "top": "150px",
    "width": "195.391px"
   },
   "toc_section_display": true,
   "toc_window_display": true
  }
 },
 "nbformat": 4,
 "nbformat_minor": 2
}
