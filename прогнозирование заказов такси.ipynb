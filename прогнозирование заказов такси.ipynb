{
 "cells": [
  {
   "cell_type": "markdown",
   "metadata": {
    "toc": true
   },
   "source": [
    "<h1>Содержание<span class=\"tocSkip\"></span></h1>\n",
    "<div class=\"toc\"><ul class=\"toc-item\"><li><span><a href=\"#Подготовка\" data-toc-modified-id=\"Подготовка-1\"><span class=\"toc-item-num\">1&nbsp;&nbsp;</span>Подготовка</a></span></li><li><span><a href=\"#Анализ\" data-toc-modified-id=\"Анализ-2\"><span class=\"toc-item-num\">2&nbsp;&nbsp;</span>Анализ</a></span></li><li><span><a href=\"#Обучение\" data-toc-modified-id=\"Обучение-3\"><span class=\"toc-item-num\">3&nbsp;&nbsp;</span>Обучение</a></span><ul class=\"toc-item\"><li><span><a href=\"#LinearRegression:\" data-toc-modified-id=\"LinearRegression:-3.1\"><span class=\"toc-item-num\">3.1&nbsp;&nbsp;</span>LinearRegression:</a></span></li><li><span><a href=\"#RandomForestRegressor:\" data-toc-modified-id=\"RandomForestRegressor:-3.2\"><span class=\"toc-item-num\">3.2&nbsp;&nbsp;</span>RandomForestRegressor:</a></span></li><li><span><a href=\"#CatBoostRegressor:\" data-toc-modified-id=\"CatBoostRegressor:-3.3\"><span class=\"toc-item-num\">3.3&nbsp;&nbsp;</span>CatBoostRegressor:</a></span></li></ul></li><li><span><a href=\"#Тестирование\" data-toc-modified-id=\"Тестирование-4\"><span class=\"toc-item-num\">4&nbsp;&nbsp;</span>Тестирование</a></span></li><li><span><a href=\"#Общий-вывод:\" data-toc-modified-id=\"Общий-вывод:-5\"><span class=\"toc-item-num\">5&nbsp;&nbsp;</span>Общий вывод:</a></span></li></ul></div>"
   ]
  },
  {
   "cell_type": "markdown",
   "metadata": {},
   "source": [
    "#  Прогнозирование заказов такси"
   ]
  },
  {
   "cell_type": "markdown",
   "metadata": {},
   "source": [
    "Компания «Чётенькое такси» собрала исторические данные о заказах такси в аэропортах. Чтобы привлекать больше водителей в период пиковой нагрузки, нужно спрогнозировать количество заказов такси на следующий час. Постройте модель для такого предсказания.\n",
    "\n",
    "Значение метрики *RMSE* на тестовой выборке должно быть не больше 48.\n",
    "\n",
    "Вам нужно:\n",
    "\n",
    "1. Загрузить данные и выполнить их ресемплирование по одному часу.\n",
    "2. Проанализировать данные.\n",
    "3. Обучить разные модели с различными гиперпараметрами. Сделать тестовую выборку размером 10% от исходных данных.\n",
    "4. Проверить данные на тестовой выборке и сделать выводы.\n",
    "\n",
    "\n",
    "Данные лежат в файле `taxi.csv`. Количество заказов находится в столбце `num_orders` (от англ. *number of orders*, «число заказов»)."
   ]
  },
  {
   "cell_type": "code",
   "execution_count": 1,
   "metadata": {},
   "outputs": [],
   "source": [
    "import pandas as pd\n",
    "import numpy as np\n",
    "\n",
    "from sklearn.model_selection import train_test_split\n",
    "from sklearn.metrics import mean_squared_error\n",
    "from sklearn.linear_model import LinearRegression\n",
    "from sklearn.ensemble import RandomForestRegressor\n",
    "from catboost import CatBoostRegressor, Pool\n",
    "\n",
    "from statsmodels.tsa.stattools import adfuller\n",
    "from statsmodels.graphics.tsaplots import plot_acf\n",
    "from statsmodels.tsa.seasonal import seasonal_decompose\n",
    "\n",
    "import matplotlib.pyplot as plt"
   ]
  },
  {
   "cell_type": "markdown",
   "metadata": {},
   "source": [
    "## Подготовка"
   ]
  },
  {
   "cell_type": "code",
   "execution_count": 2,
   "metadata": {},
   "outputs": [
    {
     "data": {
      "text/html": [
       "<div>\n",
       "<style scoped>\n",
       "    .dataframe tbody tr th:only-of-type {\n",
       "        vertical-align: middle;\n",
       "    }\n",
       "\n",
       "    .dataframe tbody tr th {\n",
       "        vertical-align: top;\n",
       "    }\n",
       "\n",
       "    .dataframe thead th {\n",
       "        text-align: right;\n",
       "    }\n",
       "</style>\n",
       "<table border=\"1\" class=\"dataframe\">\n",
       "  <thead>\n",
       "    <tr style=\"text-align: right;\">\n",
       "      <th></th>\n",
       "      <th>num_orders</th>\n",
       "    </tr>\n",
       "    <tr>\n",
       "      <th>datetime</th>\n",
       "      <th></th>\n",
       "    </tr>\n",
       "  </thead>\n",
       "  <tbody>\n",
       "    <tr>\n",
       "      <td>2018-03-01 00:00:00</td>\n",
       "      <td>9</td>\n",
       "    </tr>\n",
       "    <tr>\n",
       "      <td>2018-03-01 00:10:00</td>\n",
       "      <td>14</td>\n",
       "    </tr>\n",
       "    <tr>\n",
       "      <td>2018-03-01 00:20:00</td>\n",
       "      <td>28</td>\n",
       "    </tr>\n",
       "    <tr>\n",
       "      <td>2018-03-01 00:30:00</td>\n",
       "      <td>20</td>\n",
       "    </tr>\n",
       "    <tr>\n",
       "      <td>2018-03-01 00:40:00</td>\n",
       "      <td>32</td>\n",
       "    </tr>\n",
       "    <tr>\n",
       "      <td>...</td>\n",
       "      <td>...</td>\n",
       "    </tr>\n",
       "    <tr>\n",
       "      <td>2018-08-31 23:10:00</td>\n",
       "      <td>32</td>\n",
       "    </tr>\n",
       "    <tr>\n",
       "      <td>2018-08-31 23:20:00</td>\n",
       "      <td>24</td>\n",
       "    </tr>\n",
       "    <tr>\n",
       "      <td>2018-08-31 23:30:00</td>\n",
       "      <td>27</td>\n",
       "    </tr>\n",
       "    <tr>\n",
       "      <td>2018-08-31 23:40:00</td>\n",
       "      <td>39</td>\n",
       "    </tr>\n",
       "    <tr>\n",
       "      <td>2018-08-31 23:50:00</td>\n",
       "      <td>53</td>\n",
       "    </tr>\n",
       "  </tbody>\n",
       "</table>\n",
       "<p>26496 rows × 1 columns</p>\n",
       "</div>"
      ],
      "text/plain": [
       "                     num_orders\n",
       "datetime                       \n",
       "2018-03-01 00:00:00           9\n",
       "2018-03-01 00:10:00          14\n",
       "2018-03-01 00:20:00          28\n",
       "2018-03-01 00:30:00          20\n",
       "2018-03-01 00:40:00          32\n",
       "...                         ...\n",
       "2018-08-31 23:10:00          32\n",
       "2018-08-31 23:20:00          24\n",
       "2018-08-31 23:30:00          27\n",
       "2018-08-31 23:40:00          39\n",
       "2018-08-31 23:50:00          53\n",
       "\n",
       "[26496 rows x 1 columns]"
      ]
     },
     "execution_count": 2,
     "metadata": {},
     "output_type": "execute_result"
    }
   ],
   "source": [
    "data = pd.read_csv('/datasets/taxi.csv', index_col=[0], parse_dates=[0])\n",
    "data.sort_index(inplace=True)\n",
    "data"
   ]
  },
  {
   "cell_type": "code",
   "execution_count": 3,
   "metadata": {},
   "outputs": [
    {
     "data": {
      "text/html": [
       "<div>\n",
       "<style scoped>\n",
       "    .dataframe tbody tr th:only-of-type {\n",
       "        vertical-align: middle;\n",
       "    }\n",
       "\n",
       "    .dataframe tbody tr th {\n",
       "        vertical-align: top;\n",
       "    }\n",
       "\n",
       "    .dataframe thead th {\n",
       "        text-align: right;\n",
       "    }\n",
       "</style>\n",
       "<table border=\"1\" class=\"dataframe\">\n",
       "  <thead>\n",
       "    <tr style=\"text-align: right;\">\n",
       "      <th></th>\n",
       "      <th>num_orders</th>\n",
       "    </tr>\n",
       "    <tr>\n",
       "      <th>datetime</th>\n",
       "      <th></th>\n",
       "    </tr>\n",
       "  </thead>\n",
       "  <tbody>\n",
       "    <tr>\n",
       "      <td>2018-03-01 00:00:00</td>\n",
       "      <td>124</td>\n",
       "    </tr>\n",
       "    <tr>\n",
       "      <td>2018-03-01 01:00:00</td>\n",
       "      <td>85</td>\n",
       "    </tr>\n",
       "    <tr>\n",
       "      <td>2018-03-01 02:00:00</td>\n",
       "      <td>71</td>\n",
       "    </tr>\n",
       "    <tr>\n",
       "      <td>2018-03-01 03:00:00</td>\n",
       "      <td>66</td>\n",
       "    </tr>\n",
       "    <tr>\n",
       "      <td>2018-03-01 04:00:00</td>\n",
       "      <td>43</td>\n",
       "    </tr>\n",
       "    <tr>\n",
       "      <td>...</td>\n",
       "      <td>...</td>\n",
       "    </tr>\n",
       "    <tr>\n",
       "      <td>2018-08-31 19:00:00</td>\n",
       "      <td>136</td>\n",
       "    </tr>\n",
       "    <tr>\n",
       "      <td>2018-08-31 20:00:00</td>\n",
       "      <td>154</td>\n",
       "    </tr>\n",
       "    <tr>\n",
       "      <td>2018-08-31 21:00:00</td>\n",
       "      <td>159</td>\n",
       "    </tr>\n",
       "    <tr>\n",
       "      <td>2018-08-31 22:00:00</td>\n",
       "      <td>223</td>\n",
       "    </tr>\n",
       "    <tr>\n",
       "      <td>2018-08-31 23:00:00</td>\n",
       "      <td>205</td>\n",
       "    </tr>\n",
       "  </tbody>\n",
       "</table>\n",
       "<p>4416 rows × 1 columns</p>\n",
       "</div>"
      ],
      "text/plain": [
       "                     num_orders\n",
       "datetime                       \n",
       "2018-03-01 00:00:00         124\n",
       "2018-03-01 01:00:00          85\n",
       "2018-03-01 02:00:00          71\n",
       "2018-03-01 03:00:00          66\n",
       "2018-03-01 04:00:00          43\n",
       "...                         ...\n",
       "2018-08-31 19:00:00         136\n",
       "2018-08-31 20:00:00         154\n",
       "2018-08-31 21:00:00         159\n",
       "2018-08-31 22:00:00         223\n",
       "2018-08-31 23:00:00         205\n",
       "\n",
       "[4416 rows x 1 columns]"
      ]
     },
     "execution_count": 3,
     "metadata": {},
     "output_type": "execute_result"
    }
   ],
   "source": [
    "data = data.resample('1H').sum()\n",
    "data"
   ]
  },
  {
   "cell_type": "markdown",
   "metadata": {},
   "source": [
    "## Анализ"
   ]
  },
  {
   "cell_type": "code",
   "execution_count": 4,
   "metadata": {},
   "outputs": [
    {
     "data": {
      "image/png": "[encoded data removed]",
      "text/plain": [
       "<Figure size 1152x360 with 1 Axes>"
      ]
     },
     "metadata": {
      "needs_background": "light"
     },
     "output_type": "display_data"
    }
   ],
   "source": [
    "ax = data['num_orders'].plot(figsize=(16,5), grid=True)"
   ]
  },
  {
   "cell_type": "markdown",
   "metadata": {},
   "source": [
    "Наблюдается довольно сильная автокорреляция с периодами 24 часа (суточная) и 168 часов (недельная):"
   ]
  },
  {
   "cell_type": "code",
   "execution_count": 5,
   "metadata": {},
   "outputs": [
    {
     "data": {
      "image/png": "[encoded data removed]",
      "text/plain": [
       "<Figure size 1152x360 with 1 Axes>"
      ]
     },
     "metadata": {
      "needs_background": "light"
     },
     "output_type": "display_data"
    }
   ],
   "source": [
    "fig = plt.figure(figsize=(16,5))\n",
    "ax = fig.add_subplot()\n",
    "fig = plot_acf(data['num_orders'], lags=350, ax=ax)\n"
   ]
  },
  {
   "cell_type": "code",
   "execution_count": 6,
   "metadata": {},
   "outputs": [
    {
     "name": "stdout",
     "output_type": "stream",
     "text": [
      "adf:  -3.068924289027949\n",
      "p-value:  0.02894005140261345\n",
      "Critical values:  {'1%': -3.431842162413052, '5%': -2.8621993540813637, '10%': -2.567120978470452}\n",
      "единичных корней нет, ряд стационарен\n"
     ]
    }
   ],
   "source": [
    "test = adfuller(data['num_orders'])\n",
    "print('adf: ', test[0])\n",
    "print('p-value: ', test[1])\n",
    "print('Critical values: ', test[4])\n",
    "if test[0]> test[4]['5%']: \n",
    "    print('есть единичные корни, ряд не стационарен')\n",
    "else:\n",
    "    print('единичных корней нет, ряд стационарен')"
   ]
  },
  {
   "cell_type": "code",
   "execution_count": 7,
   "metadata": {},
   "outputs": [
    {
     "data": {
      "image/png": "[encoded data removed]",
      "text/plain": [
       "<Figure size 1152x864 with 3 Axes>"
      ]
     },
     "metadata": {
      "needs_background": "light"
     },
     "output_type": "display_data"
    }
   ],
   "source": [
    "decomposed = seasonal_decompose(data['num_orders'])\n",
    "\n",
    "fig, axs = plt.subplots(3, figsize=(16,12), sharex=False)\n",
    "axs[0].plot(decomposed.trend)\n",
    "axs[0].set_title(\"Trend\")\n",
    "\n",
    "axs[1].plot(decomposed.seasonal)\n",
    "axs[1].set_title(\"Seasonal, hours\")\n",
    "# Fixed:\n",
    "axs[1].set_xlim(left = pd.to_datetime('2018-07-20 00:00'),\n",
    "               right = pd.to_datetime('2018-07-23 00:00'))\n",
    "\n",
    "\n",
    "axs[2].plot(decomposed.resid)\n",
    "axs[2].set_title(\"Residual\")\n",
    "\n",
    "plt.show()"
   ]
  },
  {
   "cell_type": "code",
   "execution_count": null,
   "metadata": {},
   "outputs": [],
   "source": []
  },
  {
   "cell_type": "markdown",
   "metadata": {},
   "source": [
    "## Обучение"
   ]
  },
  {
   "cell_type": "markdown",
   "metadata": {},
   "source": [
    "Подготовим признаки:"
   ]
  },
  {
   "cell_type": "code",
   "execution_count": 8,
   "metadata": {},
   "outputs": [
    {
     "data": {
      "text/html": [
       "<div>\n",
       "<style scoped>\n",
       "    .dataframe tbody tr th:only-of-type {\n",
       "        vertical-align: middle;\n",
       "    }\n",
       "\n",
       "    .dataframe tbody tr th {\n",
       "        vertical-align: top;\n",
       "    }\n",
       "\n",
       "    .dataframe thead th {\n",
       "        text-align: right;\n",
       "    }\n",
       "</style>\n",
       "<table border=\"1\" class=\"dataframe\">\n",
       "  <thead>\n",
       "    <tr style=\"text-align: right;\">\n",
       "      <th></th>\n",
       "      <th>num_orders</th>\n",
       "      <th>an_hour_ago</th>\n",
       "      <th>a_day_ago</th>\n",
       "      <th>a_week_ago</th>\n",
       "      <th>a_fortnight_ago</th>\n",
       "      <th>moving_average</th>\n",
       "      <th>day</th>\n",
       "    </tr>\n",
       "    <tr>\n",
       "      <th>datetime</th>\n",
       "      <th></th>\n",
       "      <th></th>\n",
       "      <th></th>\n",
       "      <th></th>\n",
       "      <th></th>\n",
       "      <th></th>\n",
       "      <th></th>\n",
       "    </tr>\n",
       "  </thead>\n",
       "  <tbody>\n",
       "    <tr>\n",
       "      <td>2018-03-15 00:00:00</td>\n",
       "      <td>123</td>\n",
       "      <td>65.0</td>\n",
       "      <td>84.0</td>\n",
       "      <td>143.0</td>\n",
       "      <td>124.0</td>\n",
       "      <td>59.466667</td>\n",
       "      <td>15</td>\n",
       "    </tr>\n",
       "    <tr>\n",
       "      <td>2018-03-15 01:00:00</td>\n",
       "      <td>85</td>\n",
       "      <td>123.0</td>\n",
       "      <td>72.0</td>\n",
       "      <td>78.0</td>\n",
       "      <td>85.0</td>\n",
       "      <td>59.516667</td>\n",
       "      <td>15</td>\n",
       "    </tr>\n",
       "    <tr>\n",
       "      <td>2018-03-15 02:00:00</td>\n",
       "      <td>55</td>\n",
       "      <td>85.0</td>\n",
       "      <td>39.0</td>\n",
       "      <td>65.0</td>\n",
       "      <td>71.0</td>\n",
       "      <td>59.575000</td>\n",
       "      <td>15</td>\n",
       "    </tr>\n",
       "    <tr>\n",
       "      <td>2018-03-15 03:00:00</td>\n",
       "      <td>42</td>\n",
       "      <td>55.0</td>\n",
       "      <td>57.0</td>\n",
       "      <td>68.0</td>\n",
       "      <td>66.0</td>\n",
       "      <td>59.833333</td>\n",
       "      <td>15</td>\n",
       "    </tr>\n",
       "    <tr>\n",
       "      <td>2018-03-15 04:00:00</td>\n",
       "      <td>15</td>\n",
       "      <td>42.0</td>\n",
       "      <td>21.0</td>\n",
       "      <td>60.0</td>\n",
       "      <td>43.0</td>\n",
       "      <td>59.816667</td>\n",
       "      <td>15</td>\n",
       "    </tr>\n",
       "    <tr>\n",
       "      <td>...</td>\n",
       "      <td>...</td>\n",
       "      <td>...</td>\n",
       "      <td>...</td>\n",
       "      <td>...</td>\n",
       "      <td>...</td>\n",
       "      <td>...</td>\n",
       "      <td>...</td>\n",
       "    </tr>\n",
       "    <tr>\n",
       "      <td>2018-08-31 19:00:00</td>\n",
       "      <td>136</td>\n",
       "      <td>207.0</td>\n",
       "      <td>72.0</td>\n",
       "      <td>113.0</td>\n",
       "      <td>84.0</td>\n",
       "      <td>158.533333</td>\n",
       "      <td>31</td>\n",
       "    </tr>\n",
       "    <tr>\n",
       "      <td>2018-08-31 20:00:00</td>\n",
       "      <td>154</td>\n",
       "      <td>136.0</td>\n",
       "      <td>142.0</td>\n",
       "      <td>179.0</td>\n",
       "      <td>126.0</td>\n",
       "      <td>158.616667</td>\n",
       "      <td>31</td>\n",
       "    </tr>\n",
       "    <tr>\n",
       "      <td>2018-08-31 21:00:00</td>\n",
       "      <td>159</td>\n",
       "      <td>154.0</td>\n",
       "      <td>198.0</td>\n",
       "      <td>166.0</td>\n",
       "      <td>144.0</td>\n",
       "      <td>158.883333</td>\n",
       "      <td>31</td>\n",
       "    </tr>\n",
       "    <tr>\n",
       "      <td>2018-08-31 22:00:00</td>\n",
       "      <td>223</td>\n",
       "      <td>159.0</td>\n",
       "      <td>158.0</td>\n",
       "      <td>242.0</td>\n",
       "      <td>167.0</td>\n",
       "      <td>159.316667</td>\n",
       "      <td>31</td>\n",
       "    </tr>\n",
       "    <tr>\n",
       "      <td>2018-08-31 23:00:00</td>\n",
       "      <td>205</td>\n",
       "      <td>223.0</td>\n",
       "      <td>246.0</td>\n",
       "      <td>173.0</td>\n",
       "      <td>155.0</td>\n",
       "      <td>159.966667</td>\n",
       "      <td>31</td>\n",
       "    </tr>\n",
       "  </tbody>\n",
       "</table>\n",
       "<p>4080 rows × 7 columns</p>\n",
       "</div>"
      ],
      "text/plain": [
       "                     num_orders  an_hour_ago  a_day_ago  a_week_ago  \\\n",
       "datetime                                                              \n",
       "2018-03-15 00:00:00         123         65.0       84.0       143.0   \n",
       "2018-03-15 01:00:00          85        123.0       72.0        78.0   \n",
       "2018-03-15 02:00:00          55         85.0       39.0        65.0   \n",
       "2018-03-15 03:00:00          42         55.0       57.0        68.0   \n",
       "2018-03-15 04:00:00          15         42.0       21.0        60.0   \n",
       "...                         ...          ...        ...         ...   \n",
       "2018-08-31 19:00:00         136        207.0       72.0       113.0   \n",
       "2018-08-31 20:00:00         154        136.0      142.0       179.0   \n",
       "2018-08-31 21:00:00         159        154.0      198.0       166.0   \n",
       "2018-08-31 22:00:00         223        159.0      158.0       242.0   \n",
       "2018-08-31 23:00:00         205        223.0      246.0       173.0   \n",
       "\n",
       "                     a_fortnight_ago  moving_average  day  \n",
       "datetime                                                   \n",
       "2018-03-15 00:00:00            124.0       59.466667   15  \n",
       "2018-03-15 01:00:00             85.0       59.516667   15  \n",
       "2018-03-15 02:00:00             71.0       59.575000   15  \n",
       "2018-03-15 03:00:00             66.0       59.833333   15  \n",
       "2018-03-15 04:00:00             43.0       59.816667   15  \n",
       "...                              ...             ...  ...  \n",
       "2018-08-31 19:00:00             84.0      158.533333   31  \n",
       "2018-08-31 20:00:00            126.0      158.616667   31  \n",
       "2018-08-31 21:00:00            144.0      158.883333   31  \n",
       "2018-08-31 22:00:00            167.0      159.316667   31  \n",
       "2018-08-31 23:00:00            155.0      159.966667   31  \n",
       "\n",
       "[4080 rows x 7 columns]"
      ]
     },
     "execution_count": 8,
     "metadata": {},
     "output_type": "execute_result"
    }
   ],
   "source": [
    "data['an_hour_ago'] = data['num_orders'].shift()\n",
    "data['a_day_ago'] = data['num_orders'].shift(24)\n",
    "data['a_week_ago'] = data['num_orders'].shift(24*7)\n",
    "data['a_fortnight_ago'] = data['num_orders'].shift(24*14)\n",
    "data['moving_average'] = data['num_orders'].shift().rolling(24*5).mean()\n",
    "data['day'] = data.index.day\n",
    "data = data.dropna()\n",
    "data"
   ]
  },
  {
   "cell_type": "markdown",
   "metadata": {},
   "source": [
    "Выделим тестовую выборку 10% и разделим признаки и цель:"
   ]
  },
  {
   "cell_type": "code",
   "execution_count": 9,
   "metadata": {},
   "outputs": [],
   "source": [
    "train, test = train_test_split(data, shuffle=False, test_size=0.1)\n",
    "\n",
    "trainX = train.drop('num_orders', axis=1)\n",
    "trainY = train['num_orders']\n",
    "\n",
    "testX = test.drop('num_orders', axis=1)\n",
    "testY = test['num_orders']"
   ]
  },
  {
   "cell_type": "markdown",
   "metadata": {},
   "source": [
    "### LinearRegression:"
   ]
  },
  {
   "cell_type": "code",
   "execution_count": 10,
   "metadata": {},
   "outputs": [
    {
     "name": "stdout",
     "output_type": "stream",
     "text": [
      "RMSE обучающей выборки: 21.876732900557002\n",
      "RMSE тестовой выборки:  33.81487972808937\n",
      "CPU times: user 39.8 ms, sys: 57.1 ms, total: 96.8 ms\n",
      "Wall time: 124 ms\n"
     ]
    }
   ],
   "source": [
    "%%time\n",
    "lr = LinearRegression()\n",
    "lr.fit(trainX, trainY)\n",
    "\n",
    "print(\"RMSE обучающей выборки:\", mean_squared_error(trainY, lr.predict(trainX))**0.5)\n",
    "print(\"RMSE тестовой выборки: \", mean_squared_error(testY, lr.predict(testX))**0.5)"
   ]
  },
  {
   "cell_type": "markdown",
   "metadata": {},
   "source": [
    "### RandomForestRegressor:"
   ]
  },
  {
   "cell_type": "code",
   "execution_count": 11,
   "metadata": {},
   "outputs": [
    {
     "name": "stdout",
     "output_type": "stream",
     "text": [
      "RMSE обучающей выборки: 9.12145676873371\n",
      "RMSE тестовой выборки:  38.82346475317699\n",
      "CPU times: user 242 ms, sys: 1.23 ms, total: 243 ms\n",
      "Wall time: 242 ms\n"
     ]
    }
   ],
   "source": [
    "%%time\n",
    "rf = RandomForestRegressor(n_estimators=20, random_state=123)\n",
    "rf.fit(trainX, trainY)\n",
    "\n",
    "print(\"RMSE обучающей выборки:\", mean_squared_error(trainY, rf.predict(trainX))**0.5)\n",
    "print(\"RMSE тестовой выборки: \", mean_squared_error(testY, rf.predict(testX))**0.5)"
   ]
  },
  {
   "cell_type": "code",
   "execution_count": 12,
   "metadata": {},
   "outputs": [
    {
     "data": {
      "image/png": "[encoded data removed]",
      "text/plain": [
       "<Figure size 1080x216 with 1 Axes>"
      ]
     },
     "metadata": {
      "needs_background": "light"
     },
     "output_type": "display_data"
    }
   ],
   "source": [
    "ax = pd.DataFrame(rf.feature_importances_, \n",
    "                  columns=['Значимость признаков'], \n",
    "                  index=trainX.columns).plot(kind='barh', grid=True, figsize=(15,3))"
   ]
  },
  {
   "cell_type": "markdown",
   "metadata": {},
   "source": [
    "### CatBoostRegressor:"
   ]
  },
  {
   "cell_type": "code",
   "execution_count": 13,
   "metadata": {},
   "outputs": [
    {
     "name": "stdout",
     "output_type": "stream",
     "text": [
      "0:\tlearn: 29.5511852\ttotal: 48.2ms\tremaining: 917ms\n",
      "5:\tlearn: 22.2154271\ttotal: 52.6ms\tremaining: 123ms\n",
      "10:\tlearn: 21.5999811\ttotal: 58ms\tremaining: 47.4ms\n",
      "15:\tlearn: 21.3329113\ttotal: 137ms\tremaining: 34.1ms\n",
      "19:\tlearn: 21.0017672\ttotal: 222ms\tremaining: 0us\n",
      "\n",
      "RMSE обучающей выборки: 21.001767196571976\n",
      "RMSE тестовой выборки:  37.59015808960824\n",
      "\n",
      "CPU times: user 207 ms, sys: 63.5 ms, total: 271 ms\n",
      "Wall time: 1.24 s\n"
     ]
    }
   ],
   "source": [
    "%%time \n",
    "cb = CatBoostRegressor(loss_function='RMSE', iterations=20, depth=4, learning_rate=0.5) \n",
    "cb.fit(trainX, trainY, verbose=5)\n",
    "print()\n",
    "print(\"RMSE обучающей выборки:\", mean_squared_error(trainY, cb.predict(trainX))**0.5)\n",
    "print(\"RMSE тестовой выборки: \", mean_squared_error(testY, cb.predict(testX))**0.5)\n",
    "print()"
   ]
  },
  {
   "cell_type": "code",
   "execution_count": 14,
   "metadata": {},
   "outputs": [
    {
     "data": {
      "image/png": "[encoded data removed]",
      "text/plain": [
       "<Figure size 1080x216 with 1 Axes>"
      ]
     },
     "metadata": {
      "needs_background": "light"
     },
     "output_type": "display_data"
    }
   ],
   "source": [
    "ax = pd.DataFrame(cb.feature_importances_, \n",
    "                  columns=['Значимость признаков'], \n",
    "                  index=trainX.columns).plot(kind='barh', grid=True, figsize=(15,3))"
   ]
  },
  {
   "cell_type": "markdown",
   "metadata": {},
   "source": [
    "## Тестирование"
   ]
  },
  {
   "cell_type": "markdown",
   "metadata": {},
   "source": [
    "__Визуализируем предсказания различными моделями в течении одной произвольной недели:__"
   ]
  },
  {
   "cell_type": "code",
   "execution_count": 15,
   "metadata": {},
   "outputs": [
    {
     "data": {
      "image/png": "[encoded data removed]",
      "text/plain": [
       "<Figure size 1152x432 with 1 Axes>"
      ]
     },
     "metadata": {
      "needs_background": "light"
     },
     "output_type": "display_data"
    }
   ],
   "source": [
    "test_week = pd.DataFrame()\n",
    "test_week['target'] = data['2018-08-15':'2018-08-22']['num_orders']\n",
    "test_week['prediction'] = lr.predict(data['2018-08-15':'2018-08-22'].iloc[:,1:])\n",
    "ax = test_week.plot(figsize=(16,6), grid=True, title='Предсказание моделью LinearRegression')"
   ]
  },
  {
   "cell_type": "code",
   "execution_count": 16,
   "metadata": {},
   "outputs": [
    {
     "data": {
      "image/png": "[encoded data removed]",
      "text/plain": [
       "<Figure size 1152x432 with 1 Axes>"
      ]
     },
     "metadata": {
      "needs_background": "light"
     },
     "output_type": "display_data"
    }
   ],
   "source": [
    "test_week = pd.DataFrame()\n",
    "test_week['target'] = data['2018-08-15':'2018-08-22']['num_orders']\n",
    "test_week['prediction'] = rf.predict(data['2018-08-15':'2018-08-22'].iloc[:,1:])\n",
    "ax = test_week.plot(figsize=(16,6), grid=True, title='Предсказание моделью RandomForestRegressor')"
   ]
  },
  {
   "cell_type": "code",
   "execution_count": 17,
   "metadata": {},
   "outputs": [
    {
     "data": {
      "image/png": "[encoded data removed]",
      "text/plain": [
       "<Figure size 1152x432 with 1 Axes>"
      ]
     },
     "metadata": {
      "needs_background": "light"
     },
     "output_type": "display_data"
    }
   ],
   "source": [
    "test_week = pd.DataFrame()\n",
    "test_week['target'] = data['2018-08-15':'2018-08-22']['num_orders']\n",
    "test_week['prediction'] = cb.predict(data['2018-08-15':'2018-08-22'].iloc[:,1:])\n",
    "ax = test_week.plot(figsize=(16,6), grid=True, title='Предсказание моделью CatBoostRegressor')"
   ]
  },
  {
   "cell_type": "code",
   "execution_count": null,
   "metadata": {},
   "outputs": [],
   "source": []
  },
  {
   "cell_type": "code",
   "execution_count": null,
   "metadata": {},
   "outputs": [],
   "source": []
  },
  {
   "cell_type": "markdown",
   "metadata": {},
   "source": [
    "## Общий вывод:"
   ]
  },
  {
   "cell_type": "markdown",
   "metadata": {},
   "source": [
    "- В данном проекте наилучший результат продемонстрировала модель LinearRegression  \n",
    "показав результат RMSE=33.81  на тестовой выборке (требовалось не более 48). \n",
    "- Кроме того, эта модель наименее ресурсоемкая.  \n",
    "- Для предсказания количества заказов на следующий час   \n",
    "требуется информация за предыдущие 2 недели, ресэмплированная с периодом 1 час.\n"
   ]
  },
  {
   "cell_type": "code",
   "execution_count": null,
   "metadata": {},
   "outputs": [],
   "source": []
  }
 ],
 "metadata": {
  "ExecuteTimeLog": [
   {
    "duration": 639,
    "start_time": "2021-12-28T08:47:58.042Z"
   },
   {
    "duration": 2079,
    "start_time": "2021-12-28T08:48:00.353Z"
   },
   {
    "duration": 79,
    "start_time": "2021-12-28T08:48:14.355Z"
   },
   {
    "duration": 17,
    "start_time": "2021-12-28T08:48:21.969Z"
   },
   {
    "duration": 300,
    "start_time": "2021-12-28T08:49:05.154Z"
   },
   {
    "duration": 34,
    "start_time": "2021-12-28T08:49:36.895Z"
   },
   {
    "duration": 7,
    "start_time": "2021-12-28T08:49:40.893Z"
   },
   {
    "duration": 281,
    "start_time": "2021-12-28T08:49:52.435Z"
   },
   {
    "duration": 261,
    "start_time": "2021-12-28T08:50:03.101Z"
   },
   {
    "duration": 11,
    "start_time": "2021-12-28T08:50:22.570Z"
   },
   {
    "duration": 7,
    "start_time": "2021-12-28T08:51:36.656Z"
   },
   {
    "duration": 271,
    "start_time": "2021-12-28T08:51:59.096Z"
   },
   {
    "duration": 297,
    "start_time": "2021-12-28T08:52:15.145Z"
   },
   {
    "duration": 37,
    "start_time": "2021-12-28T08:52:30.327Z"
   },
   {
    "duration": 6,
    "start_time": "2021-12-28T08:52:32.487Z"
   },
   {
    "duration": 13,
    "start_time": "2021-12-28T08:52:37.286Z"
   },
   {
    "duration": 38,
    "start_time": "2021-12-28T08:53:08.727Z"
   },
   {
    "duration": 9,
    "start_time": "2021-12-28T08:53:11.218Z"
   },
   {
    "duration": 4,
    "start_time": "2021-12-28T08:53:46.260Z"
   },
   {
    "duration": 4,
    "start_time": "2021-12-28T08:53:49.694Z"
   },
   {
    "duration": 262,
    "start_time": "2021-12-28T08:53:56.638Z"
   },
   {
    "duration": 261,
    "start_time": "2021-12-28T08:54:29.294Z"
   },
   {
    "duration": 311,
    "start_time": "2021-12-28T08:54:40.410Z"
   },
   {
    "duration": 327,
    "start_time": "2021-12-28T08:55:02.175Z"
   },
   {
    "duration": 40,
    "start_time": "2021-12-28T08:56:13.127Z"
   },
   {
    "duration": 9,
    "start_time": "2021-12-28T08:56:16.711Z"
   },
   {
    "duration": 254,
    "start_time": "2021-12-28T08:56:26.881Z"
   },
   {
    "duration": 7,
    "start_time": "2021-12-28T08:56:46.173Z"
   },
   {
    "duration": 259,
    "start_time": "2021-12-28T08:56:59.702Z"
   },
   {
    "duration": 9,
    "start_time": "2021-12-28T08:57:07.397Z"
   },
   {
    "duration": 10,
    "start_time": "2021-12-28T08:57:19.293Z"
   },
   {
    "duration": 259,
    "start_time": "2021-12-28T08:57:31.219Z"
   },
   {
    "duration": 345,
    "start_time": "2021-12-28T08:58:07.234Z"
   },
   {
    "duration": 37,
    "start_time": "2021-12-28T08:58:18.407Z"
   },
   {
    "duration": 9,
    "start_time": "2021-12-28T08:58:19.609Z"
   },
   {
    "duration": 667,
    "start_time": "2021-12-28T08:58:22.852Z"
   },
   {
    "duration": 4,
    "start_time": "2021-12-28T08:58:40.474Z"
   },
   {
    "duration": 18,
    "start_time": "2021-12-28T08:58:52.279Z"
   },
   {
    "duration": 18,
    "start_time": "2021-12-28T08:58:58.938Z"
   },
   {
    "duration": 11,
    "start_time": "2021-12-28T08:59:14.840Z"
   },
   {
    "duration": 12,
    "start_time": "2021-12-28T08:59:22.554Z"
   },
   {
    "duration": 428,
    "start_time": "2021-12-28T08:59:32.780Z"
   },
   {
    "duration": 703,
    "start_time": "2021-12-28T09:09:20.254Z"
   },
   {
    "duration": 657,
    "start_time": "2021-12-28T09:10:12.641Z"
   },
   {
    "duration": 41,
    "start_time": "2021-12-28T09:10:13.301Z"
   },
   {
    "duration": 14,
    "start_time": "2021-12-28T09:10:13.345Z"
   },
   {
    "duration": 14,
    "start_time": "2021-12-28T09:10:13.361Z"
   },
   {
    "duration": 213,
    "start_time": "2021-12-28T09:10:13.377Z"
   },
   {
    "duration": 9,
    "start_time": "2021-12-28T09:10:33.270Z"
   },
   {
    "duration": 130,
    "start_time": "2021-12-28T09:10:36.600Z"
   },
   {
    "duration": 342,
    "start_time": "2021-12-28T09:10:42.974Z"
   },
   {
    "duration": 364,
    "start_time": "2021-12-28T09:10:52.276Z"
   },
   {
    "duration": 17,
    "start_time": "2021-12-28T09:10:57.976Z"
   },
   {
    "duration": 257,
    "start_time": "2021-12-28T09:11:44.506Z"
   },
   {
    "duration": 16,
    "start_time": "2021-12-28T09:11:50.416Z"
   },
   {
    "duration": 15,
    "start_time": "2021-12-28T09:12:00.947Z"
   },
   {
    "duration": 9,
    "start_time": "2021-12-28T09:12:18.736Z"
   },
   {
    "duration": 9,
    "start_time": "2021-12-28T09:13:24.786Z"
   },
   {
    "duration": 5,
    "start_time": "2021-12-28T09:16:24.774Z"
   },
   {
    "duration": 277,
    "start_time": "2021-12-28T09:16:38.217Z"
   },
   {
    "duration": 5,
    "start_time": "2021-12-28T09:16:46.060Z"
   },
   {
    "duration": 5,
    "start_time": "2021-12-28T09:17:17.080Z"
   },
   {
    "duration": 5,
    "start_time": "2021-12-28T09:17:55.047Z"
   },
   {
    "duration": 6,
    "start_time": "2021-12-28T09:18:29.353Z"
   },
   {
    "duration": 24,
    "start_time": "2021-12-28T09:18:33.521Z"
   },
   {
    "duration": 4,
    "start_time": "2021-12-28T09:18:41.982Z"
   },
   {
    "duration": 14,
    "start_time": "2021-12-28T09:18:44.006Z"
   },
   {
    "duration": 4,
    "start_time": "2021-12-28T09:19:01.482Z"
   },
   {
    "duration": 11,
    "start_time": "2021-12-28T09:19:03.942Z"
   },
   {
    "duration": 257,
    "start_time": "2021-12-28T09:19:55.948Z"
   },
   {
    "duration": 4,
    "start_time": "2021-12-28T09:20:19.123Z"
   },
   {
    "duration": 7,
    "start_time": "2021-12-28T09:21:58.065Z"
   },
   {
    "duration": 281,
    "start_time": "2021-12-28T09:22:13.830Z"
   },
   {
    "duration": 11,
    "start_time": "2021-12-28T09:22:25.968Z"
   },
   {
    "duration": 6,
    "start_time": "2021-12-28T09:22:32.415Z"
   },
   {
    "duration": 11,
    "start_time": "2021-12-28T09:22:34.741Z"
   },
   {
    "duration": 17,
    "start_time": "2021-12-28T09:26:32.259Z"
   },
   {
    "duration": 269,
    "start_time": "2021-12-28T09:27:08.630Z"
   },
   {
    "duration": 17,
    "start_time": "2021-12-28T09:27:20.961Z"
   },
   {
    "duration": 1125,
    "start_time": "2021-12-28T09:27:48.342Z"
   },
   {
    "duration": 37,
    "start_time": "2021-12-28T09:27:49.469Z"
   },
   {
    "duration": 14,
    "start_time": "2021-12-28T09:27:49.509Z"
   },
   {
    "duration": 23,
    "start_time": "2021-12-28T09:27:49.524Z"
   },
   {
    "duration": 15,
    "start_time": "2021-12-28T09:27:49.549Z"
   },
   {
    "duration": 25,
    "start_time": "2021-12-28T09:27:49.566Z"
   },
   {
    "duration": 42,
    "start_time": "2021-12-28T09:27:49.593Z"
   },
   {
    "duration": 6590,
    "start_time": "2021-12-28T09:29:44.552Z"
   },
   {
    "duration": 5,
    "start_time": "2021-12-28T09:30:46.007Z"
   },
   {
    "duration": 14,
    "start_time": "2021-12-28T09:30:55.968Z"
   },
   {
    "duration": 5,
    "start_time": "2021-12-28T09:31:59.390Z"
   },
   {
    "duration": 4,
    "start_time": "2021-12-28T09:32:45.980Z"
   },
   {
    "duration": 14,
    "start_time": "2021-12-28T09:32:49.070Z"
   },
   {
    "duration": 16,
    "start_time": "2021-12-28T09:32:57.934Z"
   },
   {
    "duration": 4,
    "start_time": "2021-12-28T09:34:10.031Z"
   },
   {
    "duration": 4,
    "start_time": "2021-12-28T09:34:11.667Z"
   },
   {
    "duration": 15,
    "start_time": "2021-12-28T09:34:13.992Z"
   },
   {
    "duration": 1126,
    "start_time": "2021-12-28T09:35:07.653Z"
   },
   {
    "duration": 39,
    "start_time": "2021-12-28T09:35:08.781Z"
   },
   {
    "duration": 18,
    "start_time": "2021-12-28T09:35:08.823Z"
   },
   {
    "duration": 21,
    "start_time": "2021-12-28T09:35:08.844Z"
   },
   {
    "duration": 6,
    "start_time": "2021-12-28T09:35:08.867Z"
   },
   {
    "duration": 8,
    "start_time": "2021-12-28T09:35:08.875Z"
   },
   {
    "duration": 7,
    "start_time": "2021-12-28T09:35:08.885Z"
   },
   {
    "duration": 31,
    "start_time": "2021-12-28T09:35:08.895Z"
   },
   {
    "duration": 13,
    "start_time": "2021-12-28T09:35:08.928Z"
   },
   {
    "duration": 37,
    "start_time": "2021-12-28T09:35:08.944Z"
   },
   {
    "duration": 15,
    "start_time": "2021-12-28T09:35:40.167Z"
   },
   {
    "duration": 16,
    "start_time": "2021-12-28T09:37:25.679Z"
   },
   {
    "duration": 1135,
    "start_time": "2021-12-28T09:37:53.759Z"
   },
   {
    "duration": 39,
    "start_time": "2021-12-28T09:37:54.896Z"
   },
   {
    "duration": 14,
    "start_time": "2021-12-28T09:37:54.937Z"
   },
   {
    "duration": 10,
    "start_time": "2021-12-28T09:37:54.953Z"
   },
   {
    "duration": 6,
    "start_time": "2021-12-28T09:37:54.965Z"
   },
   {
    "duration": 5,
    "start_time": "2021-12-28T09:37:54.973Z"
   },
   {
    "duration": 6,
    "start_time": "2021-12-28T09:37:54.980Z"
   },
   {
    "duration": 17,
    "start_time": "2021-12-28T09:37:54.987Z"
   },
   {
    "duration": 9,
    "start_time": "2021-12-28T09:37:55.007Z"
   },
   {
    "duration": 59,
    "start_time": "2021-12-28T09:37:55.018Z"
   },
   {
    "duration": 7,
    "start_time": "2021-12-28T09:40:02.688Z"
   },
   {
    "duration": 13,
    "start_time": "2021-12-28T09:40:10.607Z"
   },
   {
    "duration": 12,
    "start_time": "2021-12-28T09:41:25.685Z"
   },
   {
    "duration": 1074,
    "start_time": "2021-12-28T09:41:31.857Z"
   },
   {
    "duration": 39,
    "start_time": "2021-12-28T09:41:32.934Z"
   },
   {
    "duration": 15,
    "start_time": "2021-12-28T09:41:32.975Z"
   },
   {
    "duration": 22,
    "start_time": "2021-12-28T09:41:32.992Z"
   },
   {
    "duration": 24,
    "start_time": "2021-12-28T09:41:33.017Z"
   },
   {
    "duration": 20,
    "start_time": "2021-12-28T09:41:33.043Z"
   },
   {
    "duration": 22,
    "start_time": "2021-12-28T09:41:33.065Z"
   },
   {
    "duration": 29,
    "start_time": "2021-12-28T09:41:33.089Z"
   },
   {
    "duration": 17,
    "start_time": "2021-12-28T09:41:33.121Z"
   },
   {
    "duration": 30,
    "start_time": "2021-12-28T09:41:33.140Z"
   },
   {
    "duration": 23,
    "start_time": "2021-12-28T09:41:33.172Z"
   },
   {
    "duration": 3,
    "start_time": "2021-12-28T09:45:00.417Z"
   },
   {
    "duration": 15,
    "start_time": "2021-12-28T09:45:53.802Z"
   },
   {
    "duration": 1117,
    "start_time": "2021-12-28T09:47:58.777Z"
   },
   {
    "duration": 38,
    "start_time": "2021-12-28T09:47:59.896Z"
   },
   {
    "duration": 15,
    "start_time": "2021-12-28T09:47:59.936Z"
   },
   {
    "duration": 14,
    "start_time": "2021-12-28T09:47:59.953Z"
   },
   {
    "duration": 6,
    "start_time": "2021-12-28T09:47:59.969Z"
   },
   {
    "duration": 6,
    "start_time": "2021-12-28T09:47:59.977Z"
   },
   {
    "duration": 13,
    "start_time": "2021-12-28T09:47:59.985Z"
   },
   {
    "duration": 29,
    "start_time": "2021-12-28T09:48:00.000Z"
   },
   {
    "duration": 13,
    "start_time": "2021-12-28T09:48:00.032Z"
   },
   {
    "duration": 15,
    "start_time": "2021-12-28T09:48:00.047Z"
   },
   {
    "duration": 20,
    "start_time": "2021-12-28T09:48:00.064Z"
   },
   {
    "duration": 21,
    "start_time": "2021-12-28T09:48:00.086Z"
   },
   {
    "duration": 504,
    "start_time": "2021-12-28T09:48:00.109Z"
   },
   {
    "duration": 1231,
    "start_time": "2021-12-28T09:48:14.648Z"
   },
   {
    "duration": 37,
    "start_time": "2021-12-28T09:48:15.881Z"
   },
   {
    "duration": 14,
    "start_time": "2021-12-28T09:48:15.920Z"
   },
   {
    "duration": 11,
    "start_time": "2021-12-28T09:48:15.936Z"
   },
   {
    "duration": 5,
    "start_time": "2021-12-28T09:48:15.949Z"
   },
   {
    "duration": 4,
    "start_time": "2021-12-28T09:48:15.960Z"
   },
   {
    "duration": 10,
    "start_time": "2021-12-28T09:48:15.966Z"
   },
   {
    "duration": 8,
    "start_time": "2021-12-28T09:48:15.977Z"
   },
   {
    "duration": 7,
    "start_time": "2021-12-28T09:48:15.987Z"
   },
   {
    "duration": 19,
    "start_time": "2021-12-28T09:48:15.997Z"
   },
   {
    "duration": 18,
    "start_time": "2021-12-28T09:48:16.018Z"
   },
   {
    "duration": 13,
    "start_time": "2021-12-28T09:48:16.038Z"
   },
   {
    "duration": 204,
    "start_time": "2021-12-28T09:48:16.069Z"
   },
   {
    "duration": 1159,
    "start_time": "2021-12-28T09:50:22.319Z"
   },
   {
    "duration": 37,
    "start_time": "2021-12-28T09:50:23.480Z"
   },
   {
    "duration": 15,
    "start_time": "2021-12-28T09:50:23.519Z"
   },
   {
    "duration": 16,
    "start_time": "2021-12-28T09:50:23.537Z"
   },
   {
    "duration": 6,
    "start_time": "2021-12-28T09:50:23.555Z"
   },
   {
    "duration": 5,
    "start_time": "2021-12-28T09:50:23.563Z"
   },
   {
    "duration": 12,
    "start_time": "2021-12-28T09:50:23.569Z"
   },
   {
    "duration": 9,
    "start_time": "2021-12-28T09:50:23.583Z"
   },
   {
    "duration": 11,
    "start_time": "2021-12-28T09:50:23.593Z"
   },
   {
    "duration": 15,
    "start_time": "2021-12-28T09:50:23.605Z"
   },
   {
    "duration": 16,
    "start_time": "2021-12-28T09:50:23.621Z"
   },
   {
    "duration": 21,
    "start_time": "2021-12-28T09:50:23.639Z"
   },
   {
    "duration": 22,
    "start_time": "2021-12-28T09:50:23.662Z"
   },
   {
    "duration": 1025,
    "start_time": "2021-12-28T09:51:12.004Z"
   },
   {
    "duration": 50,
    "start_time": "2021-12-28T09:51:13.031Z"
   },
   {
    "duration": 21,
    "start_time": "2021-12-28T09:51:13.084Z"
   },
   {
    "duration": 15,
    "start_time": "2021-12-28T09:51:13.107Z"
   },
   {
    "duration": 7,
    "start_time": "2021-12-28T09:51:13.124Z"
   },
   {
    "duration": 27,
    "start_time": "2021-12-28T09:51:13.133Z"
   },
   {
    "duration": 5,
    "start_time": "2021-12-28T09:51:13.163Z"
   },
   {
    "duration": 10,
    "start_time": "2021-12-28T09:51:13.170Z"
   },
   {
    "duration": 7,
    "start_time": "2021-12-28T09:51:13.183Z"
   },
   {
    "duration": 19,
    "start_time": "2021-12-28T09:51:13.192Z"
   },
   {
    "duration": 23,
    "start_time": "2021-12-28T09:51:13.215Z"
   },
   {
    "duration": 26,
    "start_time": "2021-12-28T09:51:13.240Z"
   },
   {
    "duration": 97,
    "start_time": "2021-12-28T09:51:13.268Z"
   },
   {
    "duration": 1133,
    "start_time": "2021-12-28T09:53:01.879Z"
   },
   {
    "duration": 39,
    "start_time": "2021-12-28T09:53:03.015Z"
   },
   {
    "duration": 15,
    "start_time": "2021-12-28T09:53:03.056Z"
   },
   {
    "duration": 15,
    "start_time": "2021-12-28T09:53:03.073Z"
   },
   {
    "duration": 5,
    "start_time": "2021-12-28T09:53:03.090Z"
   },
   {
    "duration": 12,
    "start_time": "2021-12-28T09:53:03.097Z"
   },
   {
    "duration": 7,
    "start_time": "2021-12-28T09:53:03.111Z"
   },
   {
    "duration": 8,
    "start_time": "2021-12-28T09:53:03.120Z"
   },
   {
    "duration": 7,
    "start_time": "2021-12-28T09:53:03.131Z"
   },
   {
    "duration": 28,
    "start_time": "2021-12-28T09:53:03.140Z"
   },
   {
    "duration": 23,
    "start_time": "2021-12-28T09:53:03.170Z"
   },
   {
    "duration": 21,
    "start_time": "2021-12-28T09:53:03.195Z"
   },
   {
    "duration": 143,
    "start_time": "2021-12-28T09:53:03.218Z"
   },
   {
    "duration": 15,
    "start_time": "2021-12-28T09:53:03.364Z"
   },
   {
    "duration": 179,
    "start_time": "2021-12-28T09:53:03.381Z"
   },
   {
    "duration": 1516,
    "start_time": "2021-12-28T09:53:31.911Z"
   },
   {
    "duration": 39,
    "start_time": "2021-12-28T09:53:33.430Z"
   },
   {
    "duration": 15,
    "start_time": "2021-12-28T09:53:33.471Z"
   },
   {
    "duration": 12,
    "start_time": "2021-12-28T09:53:33.488Z"
   },
   {
    "duration": 4,
    "start_time": "2021-12-28T09:53:33.502Z"
   },
   {
    "duration": 11,
    "start_time": "2021-12-28T09:53:33.508Z"
   },
   {
    "duration": 8,
    "start_time": "2021-12-28T09:53:33.521Z"
   },
   {
    "duration": 7,
    "start_time": "2021-12-28T09:53:33.532Z"
   },
   {
    "duration": 21,
    "start_time": "2021-12-28T09:53:33.541Z"
   },
   {
    "duration": 10,
    "start_time": "2021-12-28T09:53:33.564Z"
   },
   {
    "duration": 20,
    "start_time": "2021-12-28T09:53:33.575Z"
   },
   {
    "duration": 5,
    "start_time": "2021-12-28T09:53:33.597Z"
   },
   {
    "duration": 65,
    "start_time": "2021-12-28T09:53:33.603Z"
   },
   {
    "duration": 4,
    "start_time": "2021-12-28T09:53:33.670Z"
   },
   {
    "duration": 212,
    "start_time": "2021-12-28T09:53:33.676Z"
   },
   {
    "duration": 6,
    "start_time": "2021-12-28T09:53:57.740Z"
   },
   {
    "duration": 3,
    "start_time": "2021-12-28T09:54:21.634Z"
   },
   {
    "duration": 116,
    "start_time": "2021-12-28T09:54:22.429Z"
   },
   {
    "duration": 4,
    "start_time": "2021-12-28T09:54:28.536Z"
   },
   {
    "duration": 3,
    "start_time": "2021-12-28T09:54:49.670Z"
   },
   {
    "duration": 539,
    "start_time": "2021-12-28T09:54:50.405Z"
   },
   {
    "duration": 5,
    "start_time": "2021-12-28T09:55:21.756Z"
   },
   {
    "duration": 1219,
    "start_time": "2021-12-28T09:56:48.903Z"
   },
   {
    "duration": 53,
    "start_time": "2021-12-28T09:56:50.124Z"
   },
   {
    "duration": 23,
    "start_time": "2021-12-28T09:56:50.180Z"
   },
   {
    "duration": 17,
    "start_time": "2021-12-28T09:56:50.205Z"
   },
   {
    "duration": 6,
    "start_time": "2021-12-28T09:56:50.225Z"
   },
   {
    "duration": 27,
    "start_time": "2021-12-28T09:56:50.234Z"
   },
   {
    "duration": 6,
    "start_time": "2021-12-28T09:56:50.263Z"
   },
   {
    "duration": 18,
    "start_time": "2021-12-28T09:56:50.273Z"
   },
   {
    "duration": 8,
    "start_time": "2021-12-28T09:56:50.294Z"
   },
   {
    "duration": 38,
    "start_time": "2021-12-28T09:56:50.304Z"
   },
   {
    "duration": 18,
    "start_time": "2021-12-28T09:56:50.344Z"
   },
   {
    "duration": 23,
    "start_time": "2021-12-28T09:56:50.364Z"
   },
   {
    "duration": 88,
    "start_time": "2021-12-28T09:56:50.389Z"
   },
   {
    "duration": 4,
    "start_time": "2021-12-28T09:56:50.561Z"
   },
   {
    "duration": 538,
    "start_time": "2021-12-28T09:56:50.566Z"
   },
   {
    "duration": 5,
    "start_time": "2021-12-28T09:56:51.106Z"
   },
   {
    "duration": 1141,
    "start_time": "2021-12-28T09:57:11.936Z"
   },
   {
    "duration": 54,
    "start_time": "2021-12-28T09:57:13.079Z"
   },
   {
    "duration": 22,
    "start_time": "2021-12-28T09:57:13.136Z"
   },
   {
    "duration": 13,
    "start_time": "2021-12-28T09:57:13.161Z"
   },
   {
    "duration": 4,
    "start_time": "2021-12-28T09:57:13.176Z"
   },
   {
    "duration": 7,
    "start_time": "2021-12-28T09:57:13.182Z"
   },
   {
    "duration": 7,
    "start_time": "2021-12-28T09:57:13.191Z"
   },
   {
    "duration": 7,
    "start_time": "2021-12-28T09:57:13.200Z"
   },
   {
    "duration": 8,
    "start_time": "2021-12-28T09:57:13.209Z"
   },
   {
    "duration": 11,
    "start_time": "2021-12-28T09:57:13.218Z"
   },
   {
    "duration": 40,
    "start_time": "2021-12-28T09:57:13.230Z"
   },
   {
    "duration": 4,
    "start_time": "2021-12-28T09:57:13.272Z"
   },
   {
    "duration": 88,
    "start_time": "2021-12-28T09:57:13.278Z"
   },
   {
    "duration": 93,
    "start_time": "2021-12-28T09:57:13.369Z"
   },
   {
    "duration": 68,
    "start_time": "2021-12-28T09:57:13.464Z"
   },
   {
    "duration": 6,
    "start_time": "2021-12-28T09:57:13.534Z"
   },
   {
    "duration": 1479,
    "start_time": "2021-12-28T09:57:51.057Z"
   },
   {
    "duration": 52,
    "start_time": "2021-12-28T09:57:52.539Z"
   },
   {
    "duration": 21,
    "start_time": "2021-12-28T09:57:52.594Z"
   },
   {
    "duration": 24,
    "start_time": "2021-12-28T09:57:52.618Z"
   },
   {
    "duration": 15,
    "start_time": "2021-12-28T09:57:52.645Z"
   },
   {
    "duration": 20,
    "start_time": "2021-12-28T09:57:52.662Z"
   },
   {
    "duration": 13,
    "start_time": "2021-12-28T09:57:52.684Z"
   },
   {
    "duration": 17,
    "start_time": "2021-12-28T09:57:52.699Z"
   },
   {
    "duration": 7,
    "start_time": "2021-12-28T09:57:52.719Z"
   },
   {
    "duration": 15,
    "start_time": "2021-12-28T09:57:52.728Z"
   },
   {
    "duration": 26,
    "start_time": "2021-12-28T09:57:52.745Z"
   },
   {
    "duration": 12,
    "start_time": "2021-12-28T09:57:52.773Z"
   },
   {
    "duration": 74,
    "start_time": "2021-12-28T09:57:52.787Z"
   },
   {
    "duration": 7,
    "start_time": "2021-12-28T09:57:52.864Z"
   },
   {
    "duration": 57,
    "start_time": "2021-12-28T09:57:52.960Z"
   },
   {
    "duration": 4,
    "start_time": "2021-12-28T09:57:53.019Z"
   },
   {
    "duration": 1127,
    "start_time": "2021-12-28T09:58:26.689Z"
   },
   {
    "duration": 39,
    "start_time": "2021-12-28T09:58:27.818Z"
   },
   {
    "duration": 15,
    "start_time": "2021-12-28T09:58:27.859Z"
   },
   {
    "duration": 16,
    "start_time": "2021-12-28T09:58:27.876Z"
   },
   {
    "duration": 9,
    "start_time": "2021-12-28T09:58:27.894Z"
   },
   {
    "duration": 20,
    "start_time": "2021-12-28T09:58:27.905Z"
   },
   {
    "duration": 16,
    "start_time": "2021-12-28T09:58:27.927Z"
   },
   {
    "duration": 32,
    "start_time": "2021-12-28T09:58:27.946Z"
   },
   {
    "duration": 25,
    "start_time": "2021-12-28T09:58:27.980Z"
   },
   {
    "duration": 35,
    "start_time": "2021-12-28T09:58:28.007Z"
   },
   {
    "duration": 29,
    "start_time": "2021-12-28T09:58:28.044Z"
   },
   {
    "duration": 26,
    "start_time": "2021-12-28T09:58:28.075Z"
   },
   {
    "duration": 24,
    "start_time": "2021-12-28T09:58:28.102Z"
   },
   {
    "duration": 14,
    "start_time": "2021-12-28T09:58:28.128Z"
   },
   {
    "duration": 36,
    "start_time": "2021-12-28T09:58:28.144Z"
   },
   {
    "duration": 17,
    "start_time": "2021-12-28T09:58:28.181Z"
   },
   {
    "duration": 1189,
    "start_time": "2021-12-28T09:58:53.727Z"
   },
   {
    "duration": 39,
    "start_time": "2021-12-28T09:58:54.918Z"
   },
   {
    "duration": 14,
    "start_time": "2021-12-28T09:58:54.959Z"
   },
   {
    "duration": 12,
    "start_time": "2021-12-28T09:58:54.975Z"
   },
   {
    "duration": 10,
    "start_time": "2021-12-28T09:58:54.989Z"
   },
   {
    "duration": 10,
    "start_time": "2021-12-28T09:58:55.001Z"
   },
   {
    "duration": 12,
    "start_time": "2021-12-28T09:58:55.013Z"
   },
   {
    "duration": 11,
    "start_time": "2021-12-28T09:58:55.028Z"
   },
   {
    "duration": 5,
    "start_time": "2021-12-28T09:58:55.041Z"
   },
   {
    "duration": 12,
    "start_time": "2021-12-28T09:58:55.048Z"
   },
   {
    "duration": 19,
    "start_time": "2021-12-28T09:58:55.061Z"
   },
   {
    "duration": 13,
    "start_time": "2021-12-28T09:58:55.082Z"
   },
   {
    "duration": 17,
    "start_time": "2021-12-28T09:58:55.097Z"
   },
   {
    "duration": 7,
    "start_time": "2021-12-28T09:58:55.116Z"
   },
   {
    "duration": 45,
    "start_time": "2021-12-28T09:58:55.125Z"
   },
   {
    "duration": 5,
    "start_time": "2021-12-28T09:58:55.172Z"
   },
   {
    "duration": 1203,
    "start_time": "2021-12-28T09:59:18.013Z"
   },
   {
    "duration": 37,
    "start_time": "2021-12-28T09:59:19.218Z"
   },
   {
    "duration": 14,
    "start_time": "2021-12-28T09:59:19.257Z"
   },
   {
    "duration": 23,
    "start_time": "2021-12-28T09:59:19.273Z"
   },
   {
    "duration": 37,
    "start_time": "2021-12-28T09:59:19.297Z"
   },
   {
    "duration": 38,
    "start_time": "2021-12-28T09:59:19.336Z"
   },
   {
    "duration": 23,
    "start_time": "2021-12-28T09:59:19.376Z"
   },
   {
    "duration": 29,
    "start_time": "2021-12-28T09:59:19.402Z"
   },
   {
    "duration": 42,
    "start_time": "2021-12-28T09:59:19.433Z"
   },
   {
    "duration": 29,
    "start_time": "2021-12-28T09:59:19.477Z"
   },
   {
    "duration": 41,
    "start_time": "2021-12-28T09:59:19.508Z"
   },
   {
    "duration": 33,
    "start_time": "2021-12-28T09:59:19.551Z"
   },
   {
    "duration": 29,
    "start_time": "2021-12-28T09:59:19.587Z"
   },
   {
    "duration": 16,
    "start_time": "2021-12-28T09:59:19.618Z"
   },
   {
    "duration": 69,
    "start_time": "2021-12-28T09:59:19.636Z"
   },
   {
    "duration": 6,
    "start_time": "2021-12-28T09:59:19.707Z"
   },
   {
    "duration": 1192,
    "start_time": "2021-12-28T09:59:38.123Z"
   },
   {
    "duration": 38,
    "start_time": "2021-12-28T09:59:39.317Z"
   },
   {
    "duration": 16,
    "start_time": "2021-12-28T09:59:39.357Z"
   },
   {
    "duration": 46,
    "start_time": "2021-12-28T09:59:39.375Z"
   },
   {
    "duration": 11,
    "start_time": "2021-12-28T09:59:39.423Z"
   },
   {
    "duration": 25,
    "start_time": "2021-12-28T09:59:39.436Z"
   },
   {
    "duration": 22,
    "start_time": "2021-12-28T09:59:39.463Z"
   },
   {
    "duration": 20,
    "start_time": "2021-12-28T09:59:39.487Z"
   },
   {
    "duration": 60,
    "start_time": "2021-12-28T09:59:39.510Z"
   },
   {
    "duration": 34,
    "start_time": "2021-12-28T09:59:39.572Z"
   },
   {
    "duration": 34,
    "start_time": "2021-12-28T09:59:39.608Z"
   },
   {
    "duration": 52,
    "start_time": "2021-12-28T09:59:39.644Z"
   },
   {
    "duration": 35,
    "start_time": "2021-12-28T09:59:39.698Z"
   },
   {
    "duration": 36,
    "start_time": "2021-12-28T09:59:39.735Z"
   },
   {
    "duration": 59,
    "start_time": "2021-12-28T09:59:39.772Z"
   },
   {
    "duration": 5,
    "start_time": "2021-12-28T09:59:39.833Z"
   },
   {
    "duration": 1141,
    "start_time": "2021-12-28T09:59:55.471Z"
   },
   {
    "duration": 47,
    "start_time": "2021-12-28T09:59:56.614Z"
   },
   {
    "duration": 21,
    "start_time": "2021-12-28T09:59:56.664Z"
   },
   {
    "duration": 13,
    "start_time": "2021-12-28T09:59:56.687Z"
   },
   {
    "duration": 7,
    "start_time": "2021-12-28T09:59:56.702Z"
   },
   {
    "duration": 10,
    "start_time": "2021-12-28T09:59:56.710Z"
   },
   {
    "duration": 6,
    "start_time": "2021-12-28T09:59:56.722Z"
   },
   {
    "duration": 36,
    "start_time": "2021-12-28T09:59:56.731Z"
   },
   {
    "duration": 16,
    "start_time": "2021-12-28T09:59:56.770Z"
   },
   {
    "duration": 13,
    "start_time": "2021-12-28T09:59:56.789Z"
   },
   {
    "duration": 18,
    "start_time": "2021-12-28T09:59:56.805Z"
   },
   {
    "duration": 6,
    "start_time": "2021-12-28T09:59:56.825Z"
   },
   {
    "duration": 29,
    "start_time": "2021-12-28T09:59:56.833Z"
   },
   {
    "duration": 4,
    "start_time": "2021-12-28T09:59:56.864Z"
   },
   {
    "duration": 48,
    "start_time": "2021-12-28T09:59:56.870Z"
   },
   {
    "duration": 4,
    "start_time": "2021-12-28T09:59:56.920Z"
   },
   {
    "duration": 1118,
    "start_time": "2021-12-28T10:00:09.909Z"
   },
   {
    "duration": 39,
    "start_time": "2021-12-28T10:00:11.029Z"
   },
   {
    "duration": 17,
    "start_time": "2021-12-28T10:00:11.071Z"
   },
   {
    "duration": 10,
    "start_time": "2021-12-28T10:00:11.090Z"
   },
   {
    "duration": 6,
    "start_time": "2021-12-28T10:00:11.102Z"
   },
   {
    "duration": 7,
    "start_time": "2021-12-28T10:00:11.110Z"
   },
   {
    "duration": 9,
    "start_time": "2021-12-28T10:00:11.119Z"
   },
   {
    "duration": 8,
    "start_time": "2021-12-28T10:00:11.130Z"
   },
   {
    "duration": 20,
    "start_time": "2021-12-28T10:00:11.140Z"
   },
   {
    "duration": 5,
    "start_time": "2021-12-28T10:00:11.162Z"
   },
   {
    "duration": 17,
    "start_time": "2021-12-28T10:00:11.168Z"
   },
   {
    "duration": 11,
    "start_time": "2021-12-28T10:00:11.186Z"
   },
   {
    "duration": 13,
    "start_time": "2021-12-28T10:00:11.199Z"
   },
   {
    "duration": 6,
    "start_time": "2021-12-28T10:00:11.213Z"
   },
   {
    "duration": 60,
    "start_time": "2021-12-28T10:00:11.221Z"
   },
   {
    "duration": 5,
    "start_time": "2021-12-28T10:00:11.283Z"
   },
   {
    "duration": 1159,
    "start_time": "2021-12-28T10:00:28.956Z"
   },
   {
    "duration": 39,
    "start_time": "2021-12-28T10:00:30.117Z"
   },
   {
    "duration": 15,
    "start_time": "2021-12-28T10:00:30.158Z"
   },
   {
    "duration": 18,
    "start_time": "2021-12-28T10:00:30.175Z"
   },
   {
    "duration": 30,
    "start_time": "2021-12-28T10:00:30.195Z"
   },
   {
    "duration": 35,
    "start_time": "2021-12-28T10:00:30.226Z"
   },
   {
    "duration": 15,
    "start_time": "2021-12-28T10:00:30.263Z"
   },
   {
    "duration": 27,
    "start_time": "2021-12-28T10:00:30.280Z"
   },
   {
    "duration": 10,
    "start_time": "2021-12-28T10:00:30.309Z"
   },
   {
    "duration": 8,
    "start_time": "2021-12-28T10:00:30.321Z"
   },
   {
    "duration": 22,
    "start_time": "2021-12-28T10:00:30.331Z"
   },
   {
    "duration": 17,
    "start_time": "2021-12-28T10:00:30.355Z"
   },
   {
    "duration": 22,
    "start_time": "2021-12-28T10:00:30.374Z"
   },
   {
    "duration": 6,
    "start_time": "2021-12-28T10:00:30.397Z"
   },
   {
    "duration": 45,
    "start_time": "2021-12-28T10:00:30.405Z"
   },
   {
    "duration": 5,
    "start_time": "2021-12-28T10:00:30.452Z"
   },
   {
    "duration": 1144,
    "start_time": "2021-12-28T10:00:44.933Z"
   },
   {
    "duration": 38,
    "start_time": "2021-12-28T10:00:46.079Z"
   },
   {
    "duration": 15,
    "start_time": "2021-12-28T10:00:46.119Z"
   },
   {
    "duration": 14,
    "start_time": "2021-12-28T10:00:46.136Z"
   },
   {
    "duration": 5,
    "start_time": "2021-12-28T10:00:46.160Z"
   },
   {
    "duration": 15,
    "start_time": "2021-12-28T10:00:46.167Z"
   },
   {
    "duration": 19,
    "start_time": "2021-12-28T10:00:46.183Z"
   },
   {
    "duration": 12,
    "start_time": "2021-12-28T10:00:46.204Z"
   },
   {
    "duration": 4,
    "start_time": "2021-12-28T10:00:46.219Z"
   },
   {
    "duration": 5,
    "start_time": "2021-12-28T10:00:46.224Z"
   },
   {
    "duration": 17,
    "start_time": "2021-12-28T10:00:46.231Z"
   },
   {
    "duration": 13,
    "start_time": "2021-12-28T10:00:46.249Z"
   },
   {
    "duration": 18,
    "start_time": "2021-12-28T10:00:46.264Z"
   },
   {
    "duration": 77,
    "start_time": "2021-12-28T10:00:46.284Z"
   },
   {
    "duration": 144,
    "start_time": "2021-12-28T10:00:46.364Z"
   },
   {
    "duration": 5,
    "start_time": "2021-12-28T10:00:46.510Z"
   },
   {
    "duration": 1454,
    "start_time": "2021-12-28T10:01:00.625Z"
   },
   {
    "duration": 39,
    "start_time": "2021-12-28T10:01:02.082Z"
   },
   {
    "duration": 24,
    "start_time": "2021-12-28T10:01:02.123Z"
   },
   {
    "duration": 36,
    "start_time": "2021-12-28T10:01:02.149Z"
   },
   {
    "duration": 41,
    "start_time": "2021-12-28T10:01:02.187Z"
   },
   {
    "duration": 30,
    "start_time": "2021-12-28T10:01:02.229Z"
   },
   {
    "duration": 44,
    "start_time": "2021-12-28T10:01:02.261Z"
   },
   {
    "duration": 21,
    "start_time": "2021-12-28T10:01:02.307Z"
   },
   {
    "duration": 21,
    "start_time": "2021-12-28T10:01:02.331Z"
   },
   {
    "duration": 31,
    "start_time": "2021-12-28T10:01:02.353Z"
   },
   {
    "duration": 35,
    "start_time": "2021-12-28T10:01:02.386Z"
   },
   {
    "duration": 28,
    "start_time": "2021-12-28T10:01:02.423Z"
   },
   {
    "duration": 107,
    "start_time": "2021-12-28T10:01:02.453Z"
   },
   {
    "duration": 100,
    "start_time": "2021-12-28T10:01:02.562Z"
   },
   {
    "duration": 86,
    "start_time": "2021-12-28T10:01:02.664Z"
   },
   {
    "duration": 6,
    "start_time": "2021-12-28T10:01:02.752Z"
   },
   {
    "duration": 1431,
    "start_time": "2021-12-28T10:01:19.677Z"
   },
   {
    "duration": 50,
    "start_time": "2021-12-28T10:01:21.110Z"
   },
   {
    "duration": 20,
    "start_time": "2021-12-28T10:01:21.163Z"
   },
   {
    "duration": 15,
    "start_time": "2021-12-28T10:01:21.185Z"
   },
   {
    "duration": 6,
    "start_time": "2021-12-28T10:01:21.202Z"
   },
   {
    "duration": 10,
    "start_time": "2021-12-28T10:01:21.210Z"
   },
   {
    "duration": 9,
    "start_time": "2021-12-28T10:01:21.222Z"
   },
   {
    "duration": 9,
    "start_time": "2021-12-28T10:01:21.233Z"
   },
   {
    "duration": 3,
    "start_time": "2021-12-28T10:01:21.261Z"
   },
   {
    "duration": 5,
    "start_time": "2021-12-28T10:01:21.266Z"
   },
   {
    "duration": 20,
    "start_time": "2021-12-28T10:01:21.273Z"
   },
   {
    "duration": 11,
    "start_time": "2021-12-28T10:01:21.295Z"
   },
   {
    "duration": 153,
    "start_time": "2021-12-28T10:01:21.307Z"
   },
   {
    "duration": 11,
    "start_time": "2021-12-28T10:01:21.462Z"
   },
   {
    "duration": 74,
    "start_time": "2021-12-28T10:01:21.476Z"
   },
   {
    "duration": 6,
    "start_time": "2021-12-28T10:01:21.561Z"
   },
   {
    "duration": 1092,
    "start_time": "2021-12-28T10:01:35.314Z"
   },
   {
    "duration": 38,
    "start_time": "2021-12-28T10:01:36.408Z"
   },
   {
    "duration": 14,
    "start_time": "2021-12-28T10:01:36.449Z"
   },
   {
    "duration": 14,
    "start_time": "2021-12-28T10:01:36.465Z"
   },
   {
    "duration": 5,
    "start_time": "2021-12-28T10:01:36.481Z"
   },
   {
    "duration": 9,
    "start_time": "2021-12-28T10:01:36.487Z"
   },
   {
    "duration": 9,
    "start_time": "2021-12-28T10:01:36.497Z"
   },
   {
    "duration": 8,
    "start_time": "2021-12-28T10:01:36.508Z"
   },
   {
    "duration": 3,
    "start_time": "2021-12-28T10:01:36.518Z"
   },
   {
    "duration": 5,
    "start_time": "2021-12-28T10:01:36.523Z"
   },
   {
    "duration": 32,
    "start_time": "2021-12-28T10:01:36.530Z"
   },
   {
    "duration": 10,
    "start_time": "2021-12-28T10:01:36.563Z"
   },
   {
    "duration": 93,
    "start_time": "2021-12-28T10:01:36.575Z"
   },
   {
    "duration": 100,
    "start_time": "2021-12-28T10:01:36.670Z"
   },
   {
    "duration": 69,
    "start_time": "2021-12-28T10:01:36.772Z"
   },
   {
    "duration": 6,
    "start_time": "2021-12-28T10:01:36.844Z"
   },
   {
    "duration": 1166,
    "start_time": "2021-12-28T10:02:52.445Z"
   },
   {
    "duration": 38,
    "start_time": "2021-12-28T10:02:53.614Z"
   },
   {
    "duration": 15,
    "start_time": "2021-12-28T10:02:53.654Z"
   },
   {
    "duration": 12,
    "start_time": "2021-12-28T10:02:53.671Z"
   },
   {
    "duration": 7,
    "start_time": "2021-12-28T10:02:53.684Z"
   },
   {
    "duration": 9,
    "start_time": "2021-12-28T10:02:53.693Z"
   },
   {
    "duration": 7,
    "start_time": "2021-12-28T10:02:53.703Z"
   },
   {
    "duration": 8,
    "start_time": "2021-12-28T10:02:53.711Z"
   },
   {
    "duration": 8,
    "start_time": "2021-12-28T10:02:53.722Z"
   },
   {
    "duration": 12,
    "start_time": "2021-12-28T10:02:53.731Z"
   },
   {
    "duration": 36,
    "start_time": "2021-12-28T10:02:53.744Z"
   },
   {
    "duration": 8,
    "start_time": "2021-12-28T10:02:53.782Z"
   },
   {
    "duration": 69,
    "start_time": "2021-12-28T10:02:53.791Z"
   },
   {
    "duration": 10,
    "start_time": "2021-12-28T10:02:53.863Z"
   },
   {
    "duration": 66,
    "start_time": "2021-12-28T10:02:53.960Z"
   },
   {
    "duration": 5,
    "start_time": "2021-12-28T10:02:54.028Z"
   },
   {
    "duration": 1133,
    "start_time": "2021-12-28T10:03:17.199Z"
   },
   {
    "duration": 39,
    "start_time": "2021-12-28T10:03:18.334Z"
   },
   {
    "duration": 15,
    "start_time": "2021-12-28T10:03:18.376Z"
   },
   {
    "duration": 19,
    "start_time": "2021-12-28T10:03:18.393Z"
   },
   {
    "duration": 5,
    "start_time": "2021-12-28T10:03:18.414Z"
   },
   {
    "duration": 7,
    "start_time": "2021-12-28T10:03:18.421Z"
   },
   {
    "duration": 6,
    "start_time": "2021-12-28T10:03:18.430Z"
   },
   {
    "duration": 26,
    "start_time": "2021-12-28T10:03:18.437Z"
   },
   {
    "duration": 7,
    "start_time": "2021-12-28T10:03:18.467Z"
   },
   {
    "duration": 11,
    "start_time": "2021-12-28T10:03:18.477Z"
   },
   {
    "duration": 15,
    "start_time": "2021-12-28T10:03:18.490Z"
   },
   {
    "duration": 12,
    "start_time": "2021-12-28T10:03:18.508Z"
   },
   {
    "duration": 48,
    "start_time": "2021-12-28T10:03:18.522Z"
   },
   {
    "duration": 102,
    "start_time": "2021-12-28T10:03:18.572Z"
   },
   {
    "duration": 151,
    "start_time": "2021-12-28T10:03:18.676Z"
   },
   {
    "duration": 5,
    "start_time": "2021-12-28T10:03:18.828Z"
   },
   {
    "duration": 1102,
    "start_time": "2021-12-28T10:04:29.805Z"
   },
   {
    "duration": 37,
    "start_time": "2021-12-28T10:04:30.909Z"
   },
   {
    "duration": 16,
    "start_time": "2021-12-28T10:04:30.949Z"
   },
   {
    "duration": 34,
    "start_time": "2021-12-28T10:04:30.967Z"
   },
   {
    "duration": 7,
    "start_time": "2021-12-28T10:04:31.004Z"
   },
   {
    "duration": 14,
    "start_time": "2021-12-28T10:04:31.013Z"
   },
   {
    "duration": 13,
    "start_time": "2021-12-28T10:04:31.029Z"
   },
   {
    "duration": 14,
    "start_time": "2021-12-28T10:04:31.044Z"
   },
   {
    "duration": 15,
    "start_time": "2021-12-28T10:04:31.061Z"
   },
   {
    "duration": 9,
    "start_time": "2021-12-28T10:04:31.079Z"
   },
   {
    "duration": 29,
    "start_time": "2021-12-28T10:04:31.089Z"
   },
   {
    "duration": 12,
    "start_time": "2021-12-28T10:04:31.120Z"
   },
   {
    "duration": 36,
    "start_time": "2021-12-28T10:04:31.134Z"
   },
   {
    "duration": 189,
    "start_time": "2021-12-28T10:04:31.173Z"
   },
   {
    "duration": 71,
    "start_time": "2021-12-28T10:04:31.364Z"
   },
   {
    "duration": 6,
    "start_time": "2021-12-28T10:04:31.437Z"
   },
   {
    "duration": 1226,
    "start_time": "2021-12-28T10:04:50.691Z"
   },
   {
    "duration": 48,
    "start_time": "2021-12-28T10:04:51.920Z"
   },
   {
    "duration": 15,
    "start_time": "2021-12-28T10:04:51.971Z"
   },
   {
    "duration": 16,
    "start_time": "2021-12-28T10:04:51.988Z"
   },
   {
    "duration": 5,
    "start_time": "2021-12-28T10:04:52.006Z"
   },
   {
    "duration": 8,
    "start_time": "2021-12-28T10:04:52.014Z"
   },
   {
    "duration": 8,
    "start_time": "2021-12-28T10:04:52.023Z"
   },
   {
    "duration": 27,
    "start_time": "2021-12-28T10:04:52.034Z"
   },
   {
    "duration": 6,
    "start_time": "2021-12-28T10:04:52.063Z"
   },
   {
    "duration": 13,
    "start_time": "2021-12-28T10:04:52.071Z"
   },
   {
    "duration": 17,
    "start_time": "2021-12-28T10:04:52.086Z"
   },
   {
    "duration": 7,
    "start_time": "2021-12-28T10:04:52.104Z"
   },
   {
    "duration": 54,
    "start_time": "2021-12-28T10:04:52.113Z"
   },
   {
    "duration": 97,
    "start_time": "2021-12-28T10:04:52.169Z"
   },
   {
    "duration": 85,
    "start_time": "2021-12-28T10:04:52.268Z"
   },
   {
    "duration": 6,
    "start_time": "2021-12-28T10:04:52.355Z"
   },
   {
    "duration": 1104,
    "start_time": "2021-12-28T10:07:24.600Z"
   },
   {
    "duration": 37,
    "start_time": "2021-12-28T10:07:25.706Z"
   },
   {
    "duration": 16,
    "start_time": "2021-12-28T10:07:25.745Z"
   },
   {
    "duration": 17,
    "start_time": "2021-12-28T10:07:25.764Z"
   },
   {
    "duration": 6,
    "start_time": "2021-12-28T10:07:25.782Z"
   },
   {
    "duration": 8,
    "start_time": "2021-12-28T10:07:25.790Z"
   },
   {
    "duration": 10,
    "start_time": "2021-12-28T10:07:25.800Z"
   },
   {
    "duration": 8385,
    "start_time": "2021-12-28T10:07:25.812Z"
   },
   {
    "duration": -270,
    "start_time": "2021-12-28T10:07:34.469Z"
   },
   {
    "duration": -271,
    "start_time": "2021-12-28T10:07:34.471Z"
   },
   {
    "duration": -277,
    "start_time": "2021-12-28T10:07:34.478Z"
   },
   {
    "duration": -278,
    "start_time": "2021-12-28T10:07:34.480Z"
   },
   {
    "duration": -279,
    "start_time": "2021-12-28T10:07:34.482Z"
   },
   {
    "duration": -279,
    "start_time": "2021-12-28T10:07:34.483Z"
   },
   {
    "duration": -280,
    "start_time": "2021-12-28T10:07:34.485Z"
   },
   {
    "duration": -281,
    "start_time": "2021-12-28T10:07:34.486Z"
   },
   {
    "duration": -282,
    "start_time": "2021-12-28T10:07:34.488Z"
   },
   {
    "duration": 1166,
    "start_time": "2021-12-28T10:07:47.555Z"
   },
   {
    "duration": 41,
    "start_time": "2021-12-28T10:07:48.723Z"
   },
   {
    "duration": 28,
    "start_time": "2021-12-28T10:07:48.767Z"
   },
   {
    "duration": 14,
    "start_time": "2021-12-28T10:07:48.797Z"
   },
   {
    "duration": 16,
    "start_time": "2021-12-28T10:07:48.813Z"
   },
   {
    "duration": 15,
    "start_time": "2021-12-28T10:07:48.830Z"
   },
   {
    "duration": 21,
    "start_time": "2021-12-28T10:07:48.847Z"
   },
   {
    "duration": 18,
    "start_time": "2021-12-28T10:07:48.869Z"
   },
   {
    "duration": 21,
    "start_time": "2021-12-28T10:07:48.889Z"
   },
   {
    "duration": 24,
    "start_time": "2021-12-28T10:07:48.912Z"
   },
   {
    "duration": 19,
    "start_time": "2021-12-28T10:07:48.938Z"
   },
   {
    "duration": 31,
    "start_time": "2021-12-28T10:07:48.959Z"
   },
   {
    "duration": 28,
    "start_time": "2021-12-28T10:07:48.992Z"
   },
   {
    "duration": 48,
    "start_time": "2021-12-28T10:07:49.022Z"
   },
   {
    "duration": 203,
    "start_time": "2021-12-28T10:07:49.073Z"
   },
   {
    "duration": 78,
    "start_time": "2021-12-28T10:07:49.278Z"
   },
   {
    "duration": 5,
    "start_time": "2021-12-28T10:07:49.358Z"
   },
   {
    "duration": 1311,
    "start_time": "2021-12-28T10:08:16.515Z"
   },
   {
    "duration": 39,
    "start_time": "2021-12-28T10:08:17.829Z"
   },
   {
    "duration": 16,
    "start_time": "2021-12-28T10:08:17.870Z"
   },
   {
    "duration": 18,
    "start_time": "2021-12-28T10:08:17.888Z"
   },
   {
    "duration": 5,
    "start_time": "2021-12-28T10:08:17.907Z"
   },
   {
    "duration": 7,
    "start_time": "2021-12-28T10:08:17.914Z"
   },
   {
    "duration": 9,
    "start_time": "2021-12-28T10:08:17.923Z"
   },
   {
    "duration": 11,
    "start_time": "2021-12-28T10:08:17.934Z"
   },
   {
    "duration": 15,
    "start_time": "2021-12-28T10:08:17.948Z"
   },
   {
    "duration": 3,
    "start_time": "2021-12-28T10:08:17.965Z"
   },
   {
    "duration": 5,
    "start_time": "2021-12-28T10:08:17.969Z"
   },
   {
    "duration": 16,
    "start_time": "2021-12-28T10:08:17.975Z"
   },
   {
    "duration": 6,
    "start_time": "2021-12-28T10:08:17.992Z"
   },
   {
    "duration": 65,
    "start_time": "2021-12-28T10:08:18.000Z"
   },
   {
    "duration": 97,
    "start_time": "2021-12-28T10:08:18.068Z"
   },
   {
    "duration": 63,
    "start_time": "2021-12-28T10:08:18.167Z"
   },
   {
    "duration": 5,
    "start_time": "2021-12-28T10:08:18.232Z"
   },
   {
    "duration": 1165,
    "start_time": "2021-12-28T10:08:39.256Z"
   },
   {
    "duration": 39,
    "start_time": "2021-12-28T10:08:40.423Z"
   },
   {
    "duration": 15,
    "start_time": "2021-12-28T10:08:40.465Z"
   },
   {
    "duration": 34,
    "start_time": "2021-12-28T10:08:40.481Z"
   },
   {
    "duration": 21,
    "start_time": "2021-12-28T10:08:40.517Z"
   },
   {
    "duration": 26,
    "start_time": "2021-12-28T10:08:40.541Z"
   },
   {
    "duration": 24,
    "start_time": "2021-12-28T10:08:40.569Z"
   },
   {
    "duration": 30,
    "start_time": "2021-12-28T10:08:40.596Z"
   },
   {
    "duration": 34,
    "start_time": "2021-12-28T10:08:40.629Z"
   },
   {
    "duration": 34,
    "start_time": "2021-12-28T10:08:40.665Z"
   },
   {
    "duration": 28,
    "start_time": "2021-12-28T10:08:40.701Z"
   },
   {
    "duration": 46,
    "start_time": "2021-12-28T10:08:40.731Z"
   },
   {
    "duration": 31,
    "start_time": "2021-12-28T10:08:40.780Z"
   },
   {
    "duration": 52,
    "start_time": "2021-12-28T10:08:40.812Z"
   },
   {
    "duration": 98,
    "start_time": "2021-12-28T10:08:40.869Z"
   },
   {
    "duration": 149,
    "start_time": "2021-12-28T10:08:40.970Z"
   },
   {
    "duration": 4,
    "start_time": "2021-12-28T10:08:41.121Z"
   },
   {
    "duration": 1534,
    "start_time": "2021-12-28T10:09:08.722Z"
   },
   {
    "duration": 39,
    "start_time": "2021-12-28T10:09:10.258Z"
   },
   {
    "duration": 17,
    "start_time": "2021-12-28T10:09:10.300Z"
   },
   {
    "duration": 16,
    "start_time": "2021-12-28T10:09:10.319Z"
   },
   {
    "duration": 9,
    "start_time": "2021-12-28T10:09:10.336Z"
   },
   {
    "duration": 16,
    "start_time": "2021-12-28T10:09:10.347Z"
   },
   {
    "duration": 7,
    "start_time": "2021-12-28T10:09:10.365Z"
   },
   {
    "duration": 21,
    "start_time": "2021-12-28T10:09:10.374Z"
   },
   {
    "duration": 5,
    "start_time": "2021-12-28T10:09:10.398Z"
   },
   {
    "duration": 4,
    "start_time": "2021-12-28T10:09:10.405Z"
   },
   {
    "duration": 7,
    "start_time": "2021-12-28T10:09:10.411Z"
   },
   {
    "duration": 17,
    "start_time": "2021-12-28T10:09:10.420Z"
   },
   {
    "duration": 22,
    "start_time": "2021-12-28T10:09:10.439Z"
   },
   {
    "duration": 102,
    "start_time": "2021-12-28T10:09:10.463Z"
   },
   {
    "duration": 3,
    "start_time": "2021-12-28T10:09:10.568Z"
   },
   {
    "duration": 88,
    "start_time": "2021-12-28T10:09:10.662Z"
   },
   {
    "duration": 6,
    "start_time": "2021-12-28T10:09:10.760Z"
   },
   {
    "duration": 1159,
    "start_time": "2021-12-28T10:09:31.469Z"
   },
   {
    "duration": 39,
    "start_time": "2021-12-28T10:09:32.630Z"
   },
   {
    "duration": 16,
    "start_time": "2021-12-28T10:09:32.672Z"
   },
   {
    "duration": 19,
    "start_time": "2021-12-28T10:09:32.690Z"
   },
   {
    "duration": 31,
    "start_time": "2021-12-28T10:09:32.711Z"
   },
   {
    "duration": 23,
    "start_time": "2021-12-28T10:09:32.744Z"
   },
   {
    "duration": 25,
    "start_time": "2021-12-28T10:09:32.769Z"
   },
   {
    "duration": 18,
    "start_time": "2021-12-28T10:09:32.796Z"
   },
   {
    "duration": 27,
    "start_time": "2021-12-28T10:09:32.817Z"
   },
   {
    "duration": 23,
    "start_time": "2021-12-28T10:09:32.847Z"
   },
   {
    "duration": 24,
    "start_time": "2021-12-28T10:09:32.873Z"
   },
   {
    "duration": 47,
    "start_time": "2021-12-28T10:09:32.899Z"
   },
   {
    "duration": 13,
    "start_time": "2021-12-28T10:09:32.949Z"
   },
   {
    "duration": 41,
    "start_time": "2021-12-28T10:09:32.964Z"
   },
   {
    "duration": 5,
    "start_time": "2021-12-28T10:09:33.062Z"
   },
   {
    "duration": 163,
    "start_time": "2021-12-28T10:09:33.070Z"
   },
   {
    "duration": 5,
    "start_time": "2021-12-28T10:09:33.235Z"
   },
   {
    "duration": 1208,
    "start_time": "2021-12-28T10:10:21.551Z"
   },
   {
    "duration": 38,
    "start_time": "2021-12-28T10:10:22.761Z"
   },
   {
    "duration": 15,
    "start_time": "2021-12-28T10:10:22.801Z"
   },
   {
    "duration": 13,
    "start_time": "2021-12-28T10:10:22.818Z"
   },
   {
    "duration": 7,
    "start_time": "2021-12-28T10:10:22.832Z"
   },
   {
    "duration": 10,
    "start_time": "2021-12-28T10:10:22.840Z"
   },
   {
    "duration": 11,
    "start_time": "2021-12-28T10:10:22.851Z"
   },
   {
    "duration": 11,
    "start_time": "2021-12-28T10:10:22.864Z"
   },
   {
    "duration": 9,
    "start_time": "2021-12-28T10:10:22.877Z"
   },
   {
    "duration": 5,
    "start_time": "2021-12-28T10:10:22.888Z"
   },
   {
    "duration": 5,
    "start_time": "2021-12-28T10:10:22.895Z"
   },
   {
    "duration": 45,
    "start_time": "2021-12-28T10:10:22.902Z"
   },
   {
    "duration": 15,
    "start_time": "2021-12-28T10:10:22.957Z"
   },
   {
    "duration": 81,
    "start_time": "2021-12-28T10:10:22.985Z"
   },
   {
    "duration": 149,
    "start_time": "2021-12-28T10:10:23.069Z"
   },
   {
    "duration": 294,
    "start_time": "2021-12-28T10:10:23.221Z"
   },
   {
    "duration": 18,
    "start_time": "2021-12-28T10:10:23.533Z"
   },
   {
    "duration": 1132,
    "start_time": "2021-12-28T10:10:54.836Z"
   },
   {
    "duration": 40,
    "start_time": "2021-12-28T10:10:55.970Z"
   },
   {
    "duration": 16,
    "start_time": "2021-12-28T10:10:56.012Z"
   },
   {
    "duration": 10,
    "start_time": "2021-12-28T10:10:56.030Z"
   },
   {
    "duration": 6,
    "start_time": "2021-12-28T10:10:56.041Z"
   },
   {
    "duration": 5,
    "start_time": "2021-12-28T10:10:56.061Z"
   },
   {
    "duration": 7,
    "start_time": "2021-12-28T10:10:56.067Z"
   },
   {
    "duration": 7,
    "start_time": "2021-12-28T10:10:56.075Z"
   },
   {
    "duration": 7,
    "start_time": "2021-12-28T10:10:56.085Z"
   },
   {
    "duration": 3,
    "start_time": "2021-12-28T10:10:56.094Z"
   },
   {
    "duration": 6,
    "start_time": "2021-12-28T10:10:56.098Z"
   },
   {
    "duration": 17,
    "start_time": "2021-12-28T10:10:56.105Z"
   },
   {
    "duration": 8,
    "start_time": "2021-12-28T10:10:56.124Z"
   },
   {
    "duration": 143,
    "start_time": "2021-12-28T10:10:56.134Z"
   },
   {
    "duration": 82,
    "start_time": "2021-12-28T10:10:56.279Z"
   },
   {
    "duration": 62,
    "start_time": "2021-12-28T10:10:56.363Z"
   },
   {
    "duration": 5,
    "start_time": "2021-12-28T10:10:56.427Z"
   },
   {
    "duration": 1163,
    "start_time": "2021-12-28T10:11:21.465Z"
   },
   {
    "duration": 39,
    "start_time": "2021-12-28T10:11:22.630Z"
   },
   {
    "duration": 15,
    "start_time": "2021-12-28T10:11:22.671Z"
   },
   {
    "duration": 16,
    "start_time": "2021-12-28T10:11:22.688Z"
   },
   {
    "duration": 13,
    "start_time": "2021-12-28T10:11:22.705Z"
   },
   {
    "duration": 8,
    "start_time": "2021-12-28T10:11:22.719Z"
   },
   {
    "duration": 11,
    "start_time": "2021-12-28T10:11:22.729Z"
   },
   {
    "duration": 21,
    "start_time": "2021-12-28T10:11:22.741Z"
   },
   {
    "duration": 7,
    "start_time": "2021-12-28T10:11:22.765Z"
   },
   {
    "duration": 5,
    "start_time": "2021-12-28T10:11:22.773Z"
   },
   {
    "duration": 12,
    "start_time": "2021-12-28T10:11:22.779Z"
   },
   {
    "duration": 20,
    "start_time": "2021-12-28T10:11:22.793Z"
   },
   {
    "duration": 8,
    "start_time": "2021-12-28T10:11:22.815Z"
   },
   {
    "duration": 45,
    "start_time": "2021-12-28T10:11:22.825Z"
   },
   {
    "duration": 103,
    "start_time": "2021-12-28T10:11:22.873Z"
   },
   {
    "duration": 144,
    "start_time": "2021-12-28T10:11:22.979Z"
   },
   {
    "duration": 5,
    "start_time": "2021-12-28T10:11:23.125Z"
   },
   {
    "duration": 1180,
    "start_time": "2021-12-28T10:11:54.943Z"
   },
   {
    "duration": 39,
    "start_time": "2021-12-28T10:11:56.125Z"
   },
   {
    "duration": 15,
    "start_time": "2021-12-28T10:11:56.167Z"
   },
   {
    "duration": 29,
    "start_time": "2021-12-28T10:11:56.184Z"
   },
   {
    "duration": 8,
    "start_time": "2021-12-28T10:11:56.215Z"
   },
   {
    "duration": 27,
    "start_time": "2021-12-28T10:11:56.225Z"
   },
   {
    "duration": 25,
    "start_time": "2021-12-28T10:11:56.254Z"
   },
   {
    "duration": 19,
    "start_time": "2021-12-28T10:11:56.280Z"
   },
   {
    "duration": 19,
    "start_time": "2021-12-28T10:11:56.302Z"
   },
   {
    "duration": 26,
    "start_time": "2021-12-28T10:11:56.323Z"
   },
   {
    "duration": 16,
    "start_time": "2021-12-28T10:11:56.350Z"
   },
   {
    "duration": 93,
    "start_time": "2021-12-28T10:11:56.367Z"
   },
   {
    "duration": 98,
    "start_time": "2021-12-28T10:11:56.463Z"
   },
   {
    "duration": 86,
    "start_time": "2021-12-28T10:11:56.563Z"
   },
   {
    "duration": 6,
    "start_time": "2021-12-28T10:11:56.652Z"
   },
   {
    "duration": 1126,
    "start_time": "2021-12-28T10:12:18.906Z"
   },
   {
    "duration": 40,
    "start_time": "2021-12-28T10:12:20.034Z"
   },
   {
    "duration": 15,
    "start_time": "2021-12-28T10:12:20.076Z"
   },
   {
    "duration": 25,
    "start_time": "2021-12-28T10:12:20.093Z"
   },
   {
    "duration": 16,
    "start_time": "2021-12-28T10:12:20.119Z"
   },
   {
    "duration": 15,
    "start_time": "2021-12-28T10:12:20.137Z"
   },
   {
    "duration": 8,
    "start_time": "2021-12-28T10:12:20.154Z"
   },
   {
    "duration": 20,
    "start_time": "2021-12-28T10:12:20.164Z"
   },
   {
    "duration": 18,
    "start_time": "2021-12-28T10:12:20.187Z"
   },
   {
    "duration": 33,
    "start_time": "2021-12-28T10:12:20.207Z"
   },
   {
    "duration": 28,
    "start_time": "2021-12-28T10:12:20.242Z"
   },
   {
    "duration": 32,
    "start_time": "2021-12-28T10:12:20.272Z"
   },
   {
    "duration": 5,
    "start_time": "2021-12-28T10:12:20.307Z"
   },
   {
    "duration": 41,
    "start_time": "2021-12-28T10:12:20.314Z"
   },
   {
    "duration": 5,
    "start_time": "2021-12-28T10:12:20.357Z"
   },
   {
    "duration": 1101,
    "start_time": "2021-12-28T10:12:32.118Z"
   },
   {
    "duration": 39,
    "start_time": "2021-12-28T10:12:33.221Z"
   },
   {
    "duration": 16,
    "start_time": "2021-12-28T10:12:33.263Z"
   },
   {
    "duration": 19,
    "start_time": "2021-12-28T10:12:33.282Z"
   },
   {
    "duration": 14,
    "start_time": "2021-12-28T10:12:33.303Z"
   },
   {
    "duration": 10,
    "start_time": "2021-12-28T10:12:33.319Z"
   },
   {
    "duration": 15,
    "start_time": "2021-12-28T10:12:33.331Z"
   },
   {
    "duration": 12,
    "start_time": "2021-12-28T10:12:33.348Z"
   },
   {
    "duration": 37,
    "start_time": "2021-12-28T10:12:33.363Z"
   },
   {
    "duration": 36,
    "start_time": "2021-12-28T10:12:33.402Z"
   },
   {
    "duration": 23,
    "start_time": "2021-12-28T10:12:33.440Z"
   },
   {
    "duration": 44,
    "start_time": "2021-12-28T10:12:33.465Z"
   },
   {
    "duration": 7,
    "start_time": "2021-12-28T10:12:33.561Z"
   },
   {
    "duration": 175,
    "start_time": "2021-12-28T10:12:33.569Z"
   },
   {
    "duration": 18,
    "start_time": "2021-12-28T10:12:33.746Z"
   },
   {
    "duration": 1110,
    "start_time": "2021-12-28T10:17:06.291Z"
   },
   {
    "duration": 38,
    "start_time": "2021-12-28T10:17:07.403Z"
   },
   {
    "duration": 18,
    "start_time": "2021-12-28T10:17:07.443Z"
   },
   {
    "duration": 10,
    "start_time": "2021-12-28T10:17:07.463Z"
   },
   {
    "duration": 6,
    "start_time": "2021-12-28T10:17:07.475Z"
   },
   {
    "duration": 13,
    "start_time": "2021-12-28T10:17:07.483Z"
   },
   {
    "duration": 8,
    "start_time": "2021-12-28T10:17:07.497Z"
   },
   {
    "duration": 8,
    "start_time": "2021-12-28T10:17:07.507Z"
   },
   {
    "duration": 6,
    "start_time": "2021-12-28T10:17:07.518Z"
   },
   {
    "duration": 6,
    "start_time": "2021-12-28T10:17:07.526Z"
   },
   {
    "duration": 33,
    "start_time": "2021-12-28T10:17:07.534Z"
   },
   {
    "duration": 6,
    "start_time": "2021-12-28T10:17:07.569Z"
   },
   {
    "duration": 89,
    "start_time": "2021-12-28T10:17:07.577Z"
   },
   {
    "duration": 94,
    "start_time": "2021-12-28T10:17:07.668Z"
   },
   {
    "duration": 66,
    "start_time": "2021-12-28T10:17:07.764Z"
   },
   {
    "duration": 5,
    "start_time": "2021-12-28T10:17:07.832Z"
   },
   {
    "duration": 1117,
    "start_time": "2021-12-28T10:17:47.307Z"
   },
   {
    "duration": 37,
    "start_time": "2021-12-28T10:17:48.426Z"
   },
   {
    "duration": 15,
    "start_time": "2021-12-28T10:17:48.465Z"
   },
   {
    "duration": 20,
    "start_time": "2021-12-28T10:17:48.482Z"
   },
   {
    "duration": 27,
    "start_time": "2021-12-28T10:17:48.504Z"
   },
   {
    "duration": 22,
    "start_time": "2021-12-28T10:17:48.533Z"
   },
   {
    "duration": 31,
    "start_time": "2021-12-28T10:17:48.556Z"
   },
   {
    "duration": 29,
    "start_time": "2021-12-28T10:17:48.589Z"
   },
   {
    "duration": 13,
    "start_time": "2021-12-28T10:17:48.620Z"
   },
   {
    "duration": 20,
    "start_time": "2021-12-28T10:17:48.635Z"
   },
   {
    "duration": 30,
    "start_time": "2021-12-28T10:17:48.656Z"
   },
   {
    "duration": 23,
    "start_time": "2021-12-28T10:17:48.687Z"
   },
   {
    "duration": 51,
    "start_time": "2021-12-28T10:17:48.712Z"
   },
   {
    "duration": 198,
    "start_time": "2021-12-28T10:17:48.768Z"
   },
   {
    "duration": 82,
    "start_time": "2021-12-28T10:17:48.968Z"
   },
   {
    "duration": 15,
    "start_time": "2021-12-28T10:17:49.052Z"
   },
   {
    "duration": 1124,
    "start_time": "2021-12-28T10:18:07.274Z"
   },
   {
    "duration": 39,
    "start_time": "2021-12-28T10:18:08.400Z"
   },
   {
    "duration": 20,
    "start_time": "2021-12-28T10:18:08.441Z"
   },
   {
    "duration": 10,
    "start_time": "2021-12-28T10:18:08.464Z"
   },
   {
    "duration": 6,
    "start_time": "2021-12-28T10:18:08.475Z"
   },
   {
    "duration": 10,
    "start_time": "2021-12-28T10:18:08.482Z"
   },
   {
    "duration": 4,
    "start_time": "2021-12-28T10:18:08.494Z"
   },
   {
    "duration": 8,
    "start_time": "2021-12-28T10:18:08.501Z"
   },
   {
    "duration": 8,
    "start_time": "2021-12-28T10:18:08.511Z"
   },
   {
    "duration": 8,
    "start_time": "2021-12-28T10:18:08.520Z"
   },
   {
    "duration": 34,
    "start_time": "2021-12-28T10:18:08.530Z"
   },
   {
    "duration": 11,
    "start_time": "2021-12-28T10:18:08.566Z"
   },
   {
    "duration": 87,
    "start_time": "2021-12-28T10:18:08.579Z"
   },
   {
    "duration": 97,
    "start_time": "2021-12-28T10:18:08.668Z"
   },
   {
    "duration": 82,
    "start_time": "2021-12-28T10:18:08.767Z"
   },
   {
    "duration": 11,
    "start_time": "2021-12-28T10:18:08.851Z"
   },
   {
    "duration": 1121,
    "start_time": "2021-12-28T10:18:22.835Z"
   },
   {
    "duration": 40,
    "start_time": "2021-12-28T10:18:23.958Z"
   },
   {
    "duration": 15,
    "start_time": "2021-12-28T10:18:24.000Z"
   },
   {
    "duration": 14,
    "start_time": "2021-12-28T10:18:24.017Z"
   },
   {
    "duration": 11,
    "start_time": "2021-12-28T10:18:24.033Z"
   },
   {
    "duration": 13,
    "start_time": "2021-12-28T10:18:24.046Z"
   },
   {
    "duration": 9,
    "start_time": "2021-12-28T10:18:24.061Z"
   },
   {
    "duration": 10,
    "start_time": "2021-12-28T10:18:24.072Z"
   },
   {
    "duration": 14,
    "start_time": "2021-12-28T10:18:24.084Z"
   },
   {
    "duration": 8,
    "start_time": "2021-12-28T10:18:24.100Z"
   },
   {
    "duration": 16,
    "start_time": "2021-12-28T10:18:24.109Z"
   },
   {
    "duration": 10,
    "start_time": "2021-12-28T10:18:24.127Z"
   },
   {
    "duration": 31,
    "start_time": "2021-12-28T10:18:24.139Z"
   },
   {
    "duration": 191,
    "start_time": "2021-12-28T10:18:24.172Z"
   },
   {
    "duration": 115,
    "start_time": "2021-12-28T10:18:24.366Z"
   },
   {
    "duration": 6,
    "start_time": "2021-12-28T10:18:24.483Z"
   },
   {
    "duration": 1095,
    "start_time": "2021-12-28T10:18:34.921Z"
   },
   {
    "duration": 38,
    "start_time": "2021-12-28T10:18:36.018Z"
   },
   {
    "duration": 16,
    "start_time": "2021-12-28T10:18:36.058Z"
   },
   {
    "duration": 10,
    "start_time": "2021-12-28T10:18:36.077Z"
   },
   {
    "duration": 6,
    "start_time": "2021-12-28T10:18:36.089Z"
   },
   {
    "duration": 10,
    "start_time": "2021-12-28T10:18:36.097Z"
   },
   {
    "duration": 18,
    "start_time": "2021-12-28T10:18:36.109Z"
   },
   {
    "duration": 23,
    "start_time": "2021-12-28T10:18:36.128Z"
   },
   {
    "duration": 19,
    "start_time": "2021-12-28T10:18:36.153Z"
   },
   {
    "duration": 13,
    "start_time": "2021-12-28T10:18:36.174Z"
   },
   {
    "duration": 25,
    "start_time": "2021-12-28T10:18:36.189Z"
   },
   {
    "duration": 8,
    "start_time": "2021-12-28T10:18:36.217Z"
   },
   {
    "duration": 40,
    "start_time": "2021-12-28T10:18:36.227Z"
   },
   {
    "duration": 4,
    "start_time": "2021-12-28T10:18:36.269Z"
   },
   {
    "duration": 217,
    "start_time": "2021-12-28T10:18:36.275Z"
   },
   {
    "duration": 5,
    "start_time": "2021-12-28T10:18:36.493Z"
   },
   {
    "duration": 1141,
    "start_time": "2021-12-28T10:18:59.492Z"
   },
   {
    "duration": 47,
    "start_time": "2021-12-28T10:19:00.636Z"
   },
   {
    "duration": 17,
    "start_time": "2021-12-28T10:19:00.685Z"
   },
   {
    "duration": 29,
    "start_time": "2021-12-28T10:19:00.704Z"
   },
   {
    "duration": 5,
    "start_time": "2021-12-28T10:19:00.735Z"
   },
   {
    "duration": 27,
    "start_time": "2021-12-28T10:19:00.742Z"
   },
   {
    "duration": 32,
    "start_time": "2021-12-28T10:19:00.771Z"
   },
   {
    "duration": 21,
    "start_time": "2021-12-28T10:19:00.805Z"
   },
   {
    "duration": 23,
    "start_time": "2021-12-28T10:19:00.829Z"
   },
   {
    "duration": 16,
    "start_time": "2021-12-28T10:19:00.854Z"
   },
   {
    "duration": 22,
    "start_time": "2021-12-28T10:19:00.872Z"
   },
   {
    "duration": 30,
    "start_time": "2021-12-28T10:19:00.896Z"
   },
   {
    "duration": 94,
    "start_time": "2021-12-28T10:19:00.928Z"
   },
   {
    "duration": 137,
    "start_time": "2021-12-28T10:19:01.025Z"
   },
   {
    "duration": 287,
    "start_time": "2021-12-28T10:19:01.164Z"
   },
   {
    "duration": 10,
    "start_time": "2021-12-28T10:19:01.453Z"
   },
   {
    "duration": 5,
    "start_time": "2021-12-28T10:20:50.174Z"
   },
   {
    "duration": 19,
    "start_time": "2021-12-28T10:20:53.487Z"
   },
   {
    "duration": 1436,
    "start_time": "2021-12-28T10:21:10.665Z"
   },
   {
    "duration": 41,
    "start_time": "2021-12-28T10:21:12.104Z"
   },
   {
    "duration": 16,
    "start_time": "2021-12-28T10:21:12.147Z"
   },
   {
    "duration": 10,
    "start_time": "2021-12-28T10:21:12.165Z"
   },
   {
    "duration": 4,
    "start_time": "2021-12-28T10:21:12.177Z"
   },
   {
    "duration": 7,
    "start_time": "2021-12-28T10:21:12.184Z"
   },
   {
    "duration": 11,
    "start_time": "2021-12-28T10:21:12.193Z"
   },
   {
    "duration": 8,
    "start_time": "2021-12-28T10:21:12.207Z"
   },
   {
    "duration": 9,
    "start_time": "2021-12-28T10:21:12.217Z"
   },
   {
    "duration": 8,
    "start_time": "2021-12-28T10:21:12.228Z"
   },
   {
    "duration": 31,
    "start_time": "2021-12-28T10:21:12.238Z"
   },
   {
    "duration": 14,
    "start_time": "2021-12-28T10:21:12.271Z"
   },
   {
    "duration": 7,
    "start_time": "2021-12-28T10:21:12.287Z"
   },
   {
    "duration": 165,
    "start_time": "2021-12-28T10:21:12.296Z"
   },
   {
    "duration": 3,
    "start_time": "2021-12-28T10:21:12.463Z"
   },
   {
    "duration": 405,
    "start_time": "2021-12-28T10:21:12.468Z"
   },
   {
    "duration": 6,
    "start_time": "2021-12-28T10:21:12.875Z"
   },
   {
    "duration": 1342,
    "start_time": "2021-12-28T10:21:48.455Z"
   },
   {
    "duration": 49,
    "start_time": "2021-12-28T10:21:49.800Z"
   },
   {
    "duration": 33,
    "start_time": "2021-12-28T10:21:49.852Z"
   },
   {
    "duration": 13,
    "start_time": "2021-12-28T10:21:49.889Z"
   },
   {
    "duration": 6,
    "start_time": "2021-12-28T10:21:49.904Z"
   },
   {
    "duration": 17,
    "start_time": "2021-12-28T10:21:49.912Z"
   },
   {
    "duration": 7,
    "start_time": "2021-12-28T10:21:49.931Z"
   },
   {
    "duration": 10,
    "start_time": "2021-12-28T10:21:49.940Z"
   },
   {
    "duration": 14,
    "start_time": "2021-12-28T10:21:49.953Z"
   },
   {
    "duration": 11,
    "start_time": "2021-12-28T10:21:49.970Z"
   },
   {
    "duration": 12,
    "start_time": "2021-12-28T10:21:49.983Z"
   },
   {
    "duration": 27,
    "start_time": "2021-12-28T10:21:49.998Z"
   },
   {
    "duration": 8,
    "start_time": "2021-12-28T10:21:50.027Z"
   },
   {
    "duration": 37,
    "start_time": "2021-12-28T10:21:50.037Z"
   },
   {
    "duration": 195,
    "start_time": "2021-12-28T10:21:50.076Z"
   },
   {
    "duration": 408,
    "start_time": "2021-12-28T10:21:50.273Z"
   },
   {
    "duration": 5,
    "start_time": "2021-12-28T10:21:50.683Z"
   },
   {
    "duration": 1091,
    "start_time": "2021-12-28T10:23:11.706Z"
   },
   {
    "duration": 38,
    "start_time": "2021-12-28T10:23:12.800Z"
   },
   {
    "duration": 24,
    "start_time": "2021-12-28T10:23:12.840Z"
   },
   {
    "duration": 13,
    "start_time": "2021-12-28T10:23:12.867Z"
   },
   {
    "duration": 7,
    "start_time": "2021-12-28T10:23:12.882Z"
   },
   {
    "duration": 9,
    "start_time": "2021-12-28T10:23:12.891Z"
   },
   {
    "duration": 6,
    "start_time": "2021-12-28T10:23:12.902Z"
   },
   {
    "duration": 7,
    "start_time": "2021-12-28T10:23:12.910Z"
   },
   {
    "duration": 5,
    "start_time": "2021-12-28T10:23:12.920Z"
   },
   {
    "duration": 36,
    "start_time": "2021-12-28T10:23:12.927Z"
   },
   {
    "duration": 12,
    "start_time": "2021-12-28T10:23:12.965Z"
   },
   {
    "duration": 26,
    "start_time": "2021-12-28T10:23:12.979Z"
   },
   {
    "duration": 5,
    "start_time": "2021-12-28T10:23:13.007Z"
   },
   {
    "duration": 148,
    "start_time": "2021-12-28T10:23:13.014Z"
   },
   {
    "duration": 3,
    "start_time": "2021-12-28T10:23:13.164Z"
   },
   {
    "duration": 297,
    "start_time": "2021-12-28T10:23:13.168Z"
   },
   {
    "duration": 5,
    "start_time": "2021-12-28T10:23:13.466Z"
   },
   {
    "duration": 1147,
    "start_time": "2021-12-28T10:23:33.168Z"
   },
   {
    "duration": 39,
    "start_time": "2021-12-28T10:23:34.317Z"
   },
   {
    "duration": 16,
    "start_time": "2021-12-28T10:23:34.358Z"
   },
   {
    "duration": 29,
    "start_time": "2021-12-28T10:23:34.376Z"
   },
   {
    "duration": 11,
    "start_time": "2021-12-28T10:23:34.407Z"
   },
   {
    "duration": 19,
    "start_time": "2021-12-28T10:23:34.419Z"
   },
   {
    "duration": 12,
    "start_time": "2021-12-28T10:23:34.440Z"
   },
   {
    "duration": 21,
    "start_time": "2021-12-28T10:23:34.454Z"
   },
   {
    "duration": 21,
    "start_time": "2021-12-28T10:23:34.477Z"
   },
   {
    "duration": 19,
    "start_time": "2021-12-28T10:23:34.500Z"
   },
   {
    "duration": 26,
    "start_time": "2021-12-28T10:23:34.520Z"
   },
   {
    "duration": 22,
    "start_time": "2021-12-28T10:23:34.548Z"
   },
   {
    "duration": 36,
    "start_time": "2021-12-28T10:23:34.572Z"
   },
   {
    "duration": 69,
    "start_time": "2021-12-28T10:23:34.610Z"
   },
   {
    "duration": 4,
    "start_time": "2021-12-28T10:23:34.762Z"
   },
   {
    "duration": 264,
    "start_time": "2021-12-28T10:23:34.768Z"
   },
   {
    "duration": 6,
    "start_time": "2021-12-28T10:23:35.035Z"
   },
   {
    "duration": 1122,
    "start_time": "2021-12-28T10:23:50.430Z"
   },
   {
    "duration": 38,
    "start_time": "2021-12-28T10:23:51.554Z"
   },
   {
    "duration": 18,
    "start_time": "2021-12-28T10:23:51.594Z"
   },
   {
    "duration": 13,
    "start_time": "2021-12-28T10:23:51.614Z"
   },
   {
    "duration": 8,
    "start_time": "2021-12-28T10:23:51.628Z"
   },
   {
    "duration": 7,
    "start_time": "2021-12-28T10:23:51.638Z"
   },
   {
    "duration": 14,
    "start_time": "2021-12-28T10:23:51.647Z"
   },
   {
    "duration": 4,
    "start_time": "2021-12-28T10:23:51.663Z"
   },
   {
    "duration": 11,
    "start_time": "2021-12-28T10:23:51.670Z"
   },
   {
    "duration": 7,
    "start_time": "2021-12-28T10:23:51.683Z"
   },
   {
    "duration": 14,
    "start_time": "2021-12-28T10:23:51.692Z"
   },
   {
    "duration": 22,
    "start_time": "2021-12-28T10:23:51.708Z"
   },
   {
    "duration": 14,
    "start_time": "2021-12-28T10:23:51.732Z"
   },
   {
    "duration": 123,
    "start_time": "2021-12-28T10:23:51.747Z"
   },
   {
    "duration": 4,
    "start_time": "2021-12-28T10:23:51.873Z"
   },
   {
    "duration": 363,
    "start_time": "2021-12-28T10:23:51.879Z"
   },
   {
    "duration": 4,
    "start_time": "2021-12-28T10:23:52.244Z"
   },
   {
    "duration": 56,
    "start_time": "2021-12-28T10:29:24.264Z"
   },
   {
    "duration": 261,
    "start_time": "2021-12-28T10:30:54.431Z"
   },
   {
    "duration": 28261,
    "start_time": "2021-12-28T10:31:04.992Z"
   },
   {
    "duration": 35,
    "start_time": "2021-12-28T10:32:37.573Z"
   },
   {
    "duration": 1446,
    "start_time": "2021-12-28T10:38:12.417Z"
   },
   {
    "duration": 53,
    "start_time": "2021-12-28T10:38:13.865Z"
   },
   {
    "duration": 22,
    "start_time": "2021-12-28T10:38:13.921Z"
   },
   {
    "duration": 31,
    "start_time": "2021-12-28T10:38:13.945Z"
   },
   {
    "duration": 15,
    "start_time": "2021-12-28T10:38:13.978Z"
   },
   {
    "duration": 12,
    "start_time": "2021-12-28T10:38:13.995Z"
   },
   {
    "duration": 31,
    "start_time": "2021-12-28T10:38:14.009Z"
   },
   {
    "duration": 18,
    "start_time": "2021-12-28T10:38:14.043Z"
   },
   {
    "duration": 18,
    "start_time": "2021-12-28T10:38:14.064Z"
   },
   {
    "duration": 22,
    "start_time": "2021-12-28T10:38:14.084Z"
   },
   {
    "duration": 16,
    "start_time": "2021-12-28T10:38:14.108Z"
   },
   {
    "duration": 26,
    "start_time": "2021-12-28T10:38:14.126Z"
   },
   {
    "duration": 16,
    "start_time": "2021-12-28T10:38:14.154Z"
   },
   {
    "duration": 90,
    "start_time": "2021-12-28T10:38:14.172Z"
   },
   {
    "duration": 111,
    "start_time": "2021-12-28T10:38:14.264Z"
   },
   {
    "duration": 300,
    "start_time": "2021-12-28T10:38:14.376Z"
   },
   {
    "duration": 5,
    "start_time": "2021-12-28T10:38:14.677Z"
   },
   {
    "duration": 33038,
    "start_time": "2021-12-28T10:38:14.683Z"
   },
   {
    "duration": 32,
    "start_time": "2021-12-28T10:38:47.723Z"
   },
   {
    "duration": 14,
    "start_time": "2021-12-28T10:38:47.757Z"
   },
   {
    "duration": 330,
    "start_time": "2021-12-28T10:38:47.772Z"
   },
   {
    "duration": 1535,
    "start_time": "2021-12-28T13:06:36.051Z"
   },
   {
    "duration": 51,
    "start_time": "2021-12-28T13:06:37.589Z"
   },
   {
    "duration": 22,
    "start_time": "2021-12-28T13:06:37.643Z"
   },
   {
    "duration": 24,
    "start_time": "2021-12-28T13:06:37.668Z"
   },
   {
    "duration": 27,
    "start_time": "2021-12-28T13:06:37.696Z"
   },
   {
    "duration": 23,
    "start_time": "2021-12-28T13:06:37.726Z"
   },
   {
    "duration": 21,
    "start_time": "2021-12-28T13:06:37.751Z"
   },
   {
    "duration": 26,
    "start_time": "2021-12-28T13:06:37.777Z"
   },
   {
    "duration": 14,
    "start_time": "2021-12-28T13:06:37.807Z"
   },
   {
    "duration": 32,
    "start_time": "2021-12-28T13:06:37.823Z"
   },
   {
    "duration": 28,
    "start_time": "2021-12-28T13:06:37.857Z"
   },
   {
    "duration": 33,
    "start_time": "2021-12-28T13:06:37.888Z"
   },
   {
    "duration": 40,
    "start_time": "2021-12-28T13:06:37.923Z"
   },
   {
    "duration": 17,
    "start_time": "2021-12-28T13:06:37.965Z"
   },
   {
    "duration": 44,
    "start_time": "2021-12-28T13:06:37.985Z"
   },
   {
    "duration": 5,
    "start_time": "2021-12-28T13:06:38.032Z"
   },
   {
    "duration": 489,
    "start_time": "2021-12-28T13:06:38.125Z"
   },
   {
    "duration": 11,
    "start_time": "2021-12-28T13:06:38.617Z"
   },
   {
    "duration": 29910,
    "start_time": "2021-12-28T13:06:38.630Z"
   },
   {
    "duration": 10,
    "start_time": "2021-12-28T13:07:08.543Z"
   },
   {
    "duration": 5,
    "start_time": "2021-12-28T13:07:08.556Z"
   },
   {
    "duration": 510,
    "start_time": "2021-12-28T13:07:08.563Z"
   },
   {
    "duration": 1471,
    "start_time": "2021-12-28T13:08:06.070Z"
   },
   {
    "duration": 45,
    "start_time": "2021-12-28T13:08:07.544Z"
   },
   {
    "duration": 31,
    "start_time": "2021-12-28T13:08:07.592Z"
   },
   {
    "duration": 15,
    "start_time": "2021-12-28T13:08:07.626Z"
   },
   {
    "duration": 9,
    "start_time": "2021-12-28T13:08:07.643Z"
   },
   {
    "duration": 14,
    "start_time": "2021-12-28T13:08:07.654Z"
   },
   {
    "duration": 13,
    "start_time": "2021-12-28T13:08:07.670Z"
   },
   {
    "duration": 20,
    "start_time": "2021-12-28T13:08:07.687Z"
   },
   {
    "duration": 5,
    "start_time": "2021-12-28T13:08:07.724Z"
   },
   {
    "duration": 17,
    "start_time": "2021-12-28T13:08:07.731Z"
   },
   {
    "duration": 20,
    "start_time": "2021-12-28T13:08:07.750Z"
   },
   {
    "duration": 13,
    "start_time": "2021-12-28T13:08:07.773Z"
   },
   {
    "duration": 30,
    "start_time": "2021-12-28T13:08:07.788Z"
   },
   {
    "duration": 8,
    "start_time": "2021-12-28T13:08:07.821Z"
   },
   {
    "duration": 99,
    "start_time": "2021-12-28T13:08:07.832Z"
   },
   {
    "duration": 97,
    "start_time": "2021-12-28T13:08:07.933Z"
   },
   {
    "duration": 390,
    "start_time": "2021-12-28T13:08:08.033Z"
   },
   {
    "duration": 7,
    "start_time": "2021-12-28T13:08:08.425Z"
   },
   {
    "duration": 1345,
    "start_time": "2021-12-28T13:08:40.158Z"
   },
   {
    "duration": 44,
    "start_time": "2021-12-28T13:08:41.506Z"
   },
   {
    "duration": 21,
    "start_time": "2021-12-28T13:08:41.553Z"
   },
   {
    "duration": 15,
    "start_time": "2021-12-28T13:08:41.576Z"
   },
   {
    "duration": 31,
    "start_time": "2021-12-28T13:08:41.593Z"
   },
   {
    "duration": 9,
    "start_time": "2021-12-28T13:08:41.626Z"
   },
   {
    "duration": 8,
    "start_time": "2021-12-28T13:08:41.637Z"
   },
   {
    "duration": 15,
    "start_time": "2021-12-28T13:08:41.647Z"
   },
   {
    "duration": 5,
    "start_time": "2021-12-28T13:08:41.666Z"
   },
   {
    "duration": 11,
    "start_time": "2021-12-28T13:08:41.673Z"
   },
   {
    "duration": 7,
    "start_time": "2021-12-28T13:08:41.686Z"
   },
   {
    "duration": 30,
    "start_time": "2021-12-28T13:08:41.695Z"
   },
   {
    "duration": 20,
    "start_time": "2021-12-28T13:08:41.727Z"
   },
   {
    "duration": 9,
    "start_time": "2021-12-28T13:08:41.749Z"
   },
   {
    "duration": 68,
    "start_time": "2021-12-28T13:08:41.760Z"
   },
   {
    "duration": 95,
    "start_time": "2021-12-28T13:08:41.831Z"
   },
   {
    "duration": 361,
    "start_time": "2021-12-28T13:08:41.929Z"
   },
   {
    "duration": 9,
    "start_time": "2021-12-28T13:08:42.293Z"
   },
   {
    "duration": 1386,
    "start_time": "2021-12-28T13:09:03.816Z"
   },
   {
    "duration": 50,
    "start_time": "2021-12-28T13:09:05.205Z"
   },
   {
    "duration": 20,
    "start_time": "2021-12-28T13:09:05.258Z"
   },
   {
    "duration": 30,
    "start_time": "2021-12-28T13:09:05.281Z"
   },
   {
    "duration": 18,
    "start_time": "2021-12-28T13:09:05.313Z"
   },
   {
    "duration": 31,
    "start_time": "2021-12-28T13:09:05.333Z"
   },
   {
    "duration": 23,
    "start_time": "2021-12-28T13:09:05.367Z"
   },
   {
    "duration": 10,
    "start_time": "2021-12-28T13:09:05.394Z"
   },
   {
    "duration": 14,
    "start_time": "2021-12-28T13:09:05.407Z"
   },
   {
    "duration": 10,
    "start_time": "2021-12-28T13:09:05.423Z"
   },
   {
    "duration": 6,
    "start_time": "2021-12-28T13:09:05.435Z"
   },
   {
    "duration": 7,
    "start_time": "2021-12-28T13:09:05.443Z"
   },
   {
    "duration": 23,
    "start_time": "2021-12-28T13:09:05.452Z"
   },
   {
    "duration": 6,
    "start_time": "2021-12-28T13:09:05.478Z"
   },
   {
    "duration": 51,
    "start_time": "2021-12-28T13:09:05.486Z"
   },
   {
    "duration": 98,
    "start_time": "2021-12-28T13:09:05.625Z"
   },
   {
    "duration": 399,
    "start_time": "2021-12-28T13:09:05.726Z"
   },
   {
    "duration": 7,
    "start_time": "2021-12-28T13:09:06.127Z"
   },
   {
    "duration": 28849,
    "start_time": "2021-12-28T13:09:06.136Z"
   },
   {
    "duration": 14,
    "start_time": "2021-12-28T13:09:34.987Z"
   },
   {
    "duration": 5,
    "start_time": "2021-12-28T13:09:35.003Z"
   },
   {
    "duration": 457,
    "start_time": "2021-12-28T13:09:35.010Z"
   },
   {
    "duration": 1387,
    "start_time": "2021-12-28T13:10:46.886Z"
   },
   {
    "duration": 45,
    "start_time": "2021-12-28T13:10:48.277Z"
   },
   {
    "duration": 20,
    "start_time": "2021-12-28T13:10:48.325Z"
   },
   {
    "duration": 14,
    "start_time": "2021-12-28T13:10:48.349Z"
   },
   {
    "duration": 7,
    "start_time": "2021-12-28T13:10:48.366Z"
   },
   {
    "duration": 6,
    "start_time": "2021-12-28T13:10:48.376Z"
   },
   {
    "duration": 4,
    "start_time": "2021-12-28T13:10:48.424Z"
   },
   {
    "duration": 8,
    "start_time": "2021-12-28T13:10:48.433Z"
   },
   {
    "duration": 7,
    "start_time": "2021-12-28T13:10:48.444Z"
   },
   {
    "duration": 8,
    "start_time": "2021-12-28T13:10:48.453Z"
   },
   {
    "duration": 8,
    "start_time": "2021-12-28T13:10:48.464Z"
   },
   {
    "duration": 52,
    "start_time": "2021-12-28T13:10:48.474Z"
   },
   {
    "duration": 21,
    "start_time": "2021-12-28T13:10:48.529Z"
   },
   {
    "duration": 10,
    "start_time": "2021-12-28T13:10:48.553Z"
   },
   {
    "duration": 68,
    "start_time": "2021-12-28T13:10:48.566Z"
   },
   {
    "duration": 5,
    "start_time": "2021-12-28T13:10:48.725Z"
   },
   {
    "duration": 354,
    "start_time": "2021-12-28T13:10:48.733Z"
   },
   {
    "duration": 8,
    "start_time": "2021-12-28T13:10:49.090Z"
   },
   {
    "duration": 26779,
    "start_time": "2021-12-28T13:10:49.101Z"
   },
   {
    "duration": 15,
    "start_time": "2021-12-28T13:11:15.882Z"
   },
   {
    "duration": 5,
    "start_time": "2021-12-28T13:11:15.899Z"
   },
   {
    "duration": 521,
    "start_time": "2021-12-28T13:11:15.906Z"
   },
   {
    "duration": 1349,
    "start_time": "2021-12-28T13:11:55.537Z"
   },
   {
    "duration": 53,
    "start_time": "2021-12-28T13:11:56.889Z"
   },
   {
    "duration": 25,
    "start_time": "2021-12-28T13:11:56.945Z"
   },
   {
    "duration": 11,
    "start_time": "2021-12-28T13:11:56.974Z"
   },
   {
    "duration": 7,
    "start_time": "2021-12-28T13:11:56.988Z"
   },
   {
    "duration": 4,
    "start_time": "2021-12-28T13:11:57.024Z"
   },
   {
    "duration": 19,
    "start_time": "2021-12-28T13:11:57.030Z"
   },
   {
    "duration": 8,
    "start_time": "2021-12-28T13:11:57.051Z"
   },
   {
    "duration": 10,
    "start_time": "2021-12-28T13:11:57.062Z"
   },
   {
    "duration": 9,
    "start_time": "2021-12-28T13:11:57.075Z"
   },
   {
    "duration": 9,
    "start_time": "2021-12-28T13:11:57.087Z"
   },
   {
    "duration": 21,
    "start_time": "2021-12-28T13:11:57.123Z"
   },
   {
    "duration": 8,
    "start_time": "2021-12-28T13:11:57.147Z"
   },
   {
    "duration": 78,
    "start_time": "2021-12-28T13:11:57.158Z"
   },
   {
    "duration": 84,
    "start_time": "2021-12-28T13:11:57.240Z"
   },
   {
    "duration": 343,
    "start_time": "2021-12-28T13:11:57.326Z"
   },
   {
    "duration": 8,
    "start_time": "2021-12-28T13:11:57.671Z"
   },
   {
    "duration": 25191,
    "start_time": "2021-12-28T13:11:57.682Z"
   },
   {
    "duration": 13,
    "start_time": "2021-12-28T13:12:22.876Z"
   },
   {
    "duration": 7,
    "start_time": "2021-12-28T13:12:22.891Z"
   },
   {
    "duration": 466,
    "start_time": "2021-12-28T13:12:22.901Z"
   },
   {
    "duration": 1893,
    "start_time": "2021-12-28T13:18:05.711Z"
   },
   {
    "duration": 64,
    "start_time": "2021-12-28T13:18:07.608Z"
   },
   {
    "duration": 28,
    "start_time": "2021-12-28T13:18:07.677Z"
   },
   {
    "duration": 13,
    "start_time": "2021-12-28T13:18:07.723Z"
   },
   {
    "duration": 3,
    "start_time": "2021-12-28T13:18:07.739Z"
   },
   {
    "duration": 20,
    "start_time": "2021-12-28T13:18:07.744Z"
   },
   {
    "duration": 16,
    "start_time": "2021-12-28T13:18:07.766Z"
   },
   {
    "duration": 7,
    "start_time": "2021-12-28T13:18:07.785Z"
   },
   {
    "duration": 6,
    "start_time": "2021-12-28T13:18:07.824Z"
   },
   {
    "duration": 27,
    "start_time": "2021-12-28T13:18:07.833Z"
   },
   {
    "duration": 36,
    "start_time": "2021-12-28T13:18:07.863Z"
   },
   {
    "duration": 37,
    "start_time": "2021-12-28T13:18:07.901Z"
   },
   {
    "duration": 15,
    "start_time": "2021-12-28T13:18:07.941Z"
   },
   {
    "duration": 81,
    "start_time": "2021-12-28T13:18:07.958Z"
   },
   {
    "duration": 4,
    "start_time": "2021-12-28T13:18:08.132Z"
   },
   {
    "duration": 311,
    "start_time": "2021-12-28T13:18:08.139Z"
   },
   {
    "duration": 6,
    "start_time": "2021-12-28T13:18:08.452Z"
   },
   {
    "duration": 1460,
    "start_time": "2021-12-28T13:18:47.101Z"
   },
   {
    "duration": 48,
    "start_time": "2021-12-28T13:18:48.564Z"
   },
   {
    "duration": 24,
    "start_time": "2021-12-28T13:18:48.616Z"
   },
   {
    "duration": 18,
    "start_time": "2021-12-28T13:18:48.643Z"
   },
   {
    "duration": 13,
    "start_time": "2021-12-28T13:18:48.663Z"
   },
   {
    "duration": 27,
    "start_time": "2021-12-28T13:18:48.679Z"
   },
   {
    "duration": 40,
    "start_time": "2021-12-28T13:18:48.709Z"
   },
   {
    "duration": 41,
    "start_time": "2021-12-28T13:18:48.751Z"
   },
   {
    "duration": 36,
    "start_time": "2021-12-28T13:18:48.796Z"
   },
   {
    "duration": 23,
    "start_time": "2021-12-28T13:18:48.836Z"
   },
   {
    "duration": 18,
    "start_time": "2021-12-28T13:18:48.862Z"
   },
   {
    "duration": 30,
    "start_time": "2021-12-28T13:18:48.882Z"
   },
   {
    "duration": 32,
    "start_time": "2021-12-28T13:18:48.914Z"
   },
   {
    "duration": 175,
    "start_time": "2021-12-28T13:18:48.949Z"
   },
   {
    "duration": 8,
    "start_time": "2021-12-28T13:18:49.127Z"
   },
   {
    "duration": 360,
    "start_time": "2021-12-28T13:18:49.137Z"
   },
   {
    "duration": 7,
    "start_time": "2021-12-28T13:18:49.499Z"
   },
   {
    "duration": 1412,
    "start_time": "2021-12-28T13:19:13.723Z"
   },
   {
    "duration": 45,
    "start_time": "2021-12-28T13:19:15.137Z"
   },
   {
    "duration": 21,
    "start_time": "2021-12-28T13:19:15.185Z"
   },
   {
    "duration": 25,
    "start_time": "2021-12-28T13:19:15.208Z"
   },
   {
    "duration": 7,
    "start_time": "2021-12-28T13:19:15.235Z"
   },
   {
    "duration": 6,
    "start_time": "2021-12-28T13:19:15.245Z"
   },
   {
    "duration": 12,
    "start_time": "2021-12-28T13:19:15.253Z"
   },
   {
    "duration": 8,
    "start_time": "2021-12-28T13:19:15.268Z"
   },
   {
    "duration": 6,
    "start_time": "2021-12-28T13:19:15.280Z"
   },
   {
    "duration": 37,
    "start_time": "2021-12-28T13:19:15.289Z"
   },
   {
    "duration": 8,
    "start_time": "2021-12-28T13:19:15.329Z"
   },
   {
    "duration": 23,
    "start_time": "2021-12-28T13:19:15.339Z"
   },
   {
    "duration": 7,
    "start_time": "2021-12-28T13:19:15.364Z"
   },
   {
    "duration": 65,
    "start_time": "2021-12-28T13:19:15.373Z"
   },
   {
    "duration": 6,
    "start_time": "2021-12-28T13:19:15.625Z"
   },
   {
    "duration": 359,
    "start_time": "2021-12-28T13:19:15.633Z"
   },
   {
    "duration": 7,
    "start_time": "2021-12-28T13:19:15.994Z"
   },
   {
    "duration": 1845,
    "start_time": "2021-12-28T13:19:37.674Z"
   },
   {
    "duration": 63,
    "start_time": "2021-12-28T13:19:39.525Z"
   },
   {
    "duration": 33,
    "start_time": "2021-12-28T13:19:39.592Z"
   },
   {
    "duration": 13,
    "start_time": "2021-12-28T13:19:39.627Z"
   },
   {
    "duration": 7,
    "start_time": "2021-12-28T13:19:39.642Z"
   },
   {
    "duration": 9,
    "start_time": "2021-12-28T13:19:39.651Z"
   },
   {
    "duration": 11,
    "start_time": "2021-12-28T13:19:39.662Z"
   },
   {
    "duration": 48,
    "start_time": "2021-12-28T13:19:39.675Z"
   },
   {
    "duration": 7,
    "start_time": "2021-12-28T13:19:39.728Z"
   },
   {
    "duration": 6,
    "start_time": "2021-12-28T13:19:39.737Z"
   },
   {
    "duration": 9,
    "start_time": "2021-12-28T13:19:39.745Z"
   },
   {
    "duration": 19,
    "start_time": "2021-12-28T13:19:39.756Z"
   },
   {
    "duration": 49,
    "start_time": "2021-12-28T13:19:39.778Z"
   },
   {
    "duration": 103,
    "start_time": "2021-12-28T13:19:39.829Z"
   },
   {
    "duration": 97,
    "start_time": "2021-12-28T13:19:39.935Z"
   },
   {
    "duration": 350,
    "start_time": "2021-12-28T13:19:40.034Z"
   },
   {
    "duration": 6,
    "start_time": "2021-12-28T13:19:40.386Z"
   },
   {
    "duration": 1380,
    "start_time": "2021-12-28T13:19:59.743Z"
   },
   {
    "duration": 48,
    "start_time": "2021-12-28T13:20:01.126Z"
   },
   {
    "duration": 23,
    "start_time": "2021-12-28T13:20:01.177Z"
   },
   {
    "duration": 27,
    "start_time": "2021-12-28T13:20:01.203Z"
   },
   {
    "duration": 12,
    "start_time": "2021-12-28T13:20:01.233Z"
   },
   {
    "duration": 8,
    "start_time": "2021-12-28T13:20:01.248Z"
   },
   {
    "duration": 11,
    "start_time": "2021-12-28T13:20:01.259Z"
   },
   {
    "duration": 14,
    "start_time": "2021-12-28T13:20:01.272Z"
   },
   {
    "duration": 17,
    "start_time": "2021-12-28T13:20:01.290Z"
   },
   {
    "duration": 5,
    "start_time": "2021-12-28T13:20:01.322Z"
   },
   {
    "duration": 19,
    "start_time": "2021-12-28T13:20:01.330Z"
   },
   {
    "duration": 26,
    "start_time": "2021-12-28T13:20:01.352Z"
   },
   {
    "duration": 15,
    "start_time": "2021-12-28T13:20:01.380Z"
   },
   {
    "duration": 138,
    "start_time": "2021-12-28T13:20:01.398Z"
   },
   {
    "duration": 4,
    "start_time": "2021-12-28T13:20:01.624Z"
   },
   {
    "duration": 373,
    "start_time": "2021-12-28T13:20:01.631Z"
   },
   {
    "duration": 6,
    "start_time": "2021-12-28T13:20:02.007Z"
   },
   {
    "duration": 1534,
    "start_time": "2021-12-28T13:20:26.719Z"
   },
   {
    "duration": 59,
    "start_time": "2021-12-28T13:20:28.256Z"
   },
   {
    "duration": 31,
    "start_time": "2021-12-28T13:20:28.319Z"
   },
   {
    "duration": 20,
    "start_time": "2021-12-28T13:20:28.354Z"
   },
   {
    "duration": 9,
    "start_time": "2021-12-28T13:20:28.377Z"
   },
   {
    "duration": 45,
    "start_time": "2021-12-28T13:20:28.389Z"
   },
   {
    "duration": 8,
    "start_time": "2021-12-28T13:20:28.438Z"
   },
   {
    "duration": 12,
    "start_time": "2021-12-28T13:20:28.450Z"
   },
   {
    "duration": 14,
    "start_time": "2021-12-28T13:20:28.467Z"
   },
   {
    "duration": 11,
    "start_time": "2021-12-28T13:20:28.484Z"
   },
   {
    "duration": 9,
    "start_time": "2021-12-28T13:20:28.524Z"
   },
   {
    "duration": 24,
    "start_time": "2021-12-28T13:20:28.536Z"
   },
   {
    "duration": 7,
    "start_time": "2021-12-28T13:20:28.563Z"
   },
   {
    "duration": 61,
    "start_time": "2021-12-28T13:20:28.572Z"
   },
   {
    "duration": 101,
    "start_time": "2021-12-28T13:20:28.636Z"
   },
   {
    "duration": 492,
    "start_time": "2021-12-28T13:20:28.741Z"
   },
   {
    "duration": 10,
    "start_time": "2021-12-28T13:20:29.236Z"
   },
   {
    "duration": 1422,
    "start_time": "2021-12-28T13:20:51.293Z"
   },
   {
    "duration": 48,
    "start_time": "2021-12-28T13:20:52.717Z"
   },
   {
    "duration": 21,
    "start_time": "2021-12-28T13:20:52.768Z"
   },
   {
    "duration": 13,
    "start_time": "2021-12-28T13:20:52.792Z"
   },
   {
    "duration": 7,
    "start_time": "2021-12-28T13:20:52.824Z"
   },
   {
    "duration": 8,
    "start_time": "2021-12-28T13:20:52.833Z"
   },
   {
    "duration": 7,
    "start_time": "2021-12-28T13:20:52.843Z"
   },
   {
    "duration": 6,
    "start_time": "2021-12-28T13:20:52.854Z"
   },
   {
    "duration": 8,
    "start_time": "2021-12-28T13:20:52.865Z"
   },
   {
    "duration": 47,
    "start_time": "2021-12-28T13:20:52.876Z"
   },
   {
    "duration": 9,
    "start_time": "2021-12-28T13:20:52.926Z"
   },
   {
    "duration": 29,
    "start_time": "2021-12-28T13:20:52.939Z"
   },
   {
    "duration": 7,
    "start_time": "2021-12-28T13:20:52.971Z"
   },
   {
    "duration": 155,
    "start_time": "2021-12-28T13:20:52.981Z"
   },
   {
    "duration": 85,
    "start_time": "2021-12-28T13:20:53.139Z"
   },
   {
    "duration": 352,
    "start_time": "2021-12-28T13:20:53.228Z"
   },
   {
    "duration": 6,
    "start_time": "2021-12-28T13:20:53.583Z"
   },
   {
    "duration": 1379,
    "start_time": "2021-12-28T13:21:16.175Z"
   },
   {
    "duration": 46,
    "start_time": "2021-12-28T13:21:17.557Z"
   },
   {
    "duration": 26,
    "start_time": "2021-12-28T13:21:17.606Z"
   },
   {
    "duration": 53,
    "start_time": "2021-12-28T13:21:17.635Z"
   },
   {
    "duration": 7,
    "start_time": "2021-12-28T13:21:17.690Z"
   },
   {
    "duration": 8,
    "start_time": "2021-12-28T13:21:17.700Z"
   },
   {
    "duration": 10,
    "start_time": "2021-12-28T13:21:17.711Z"
   },
   {
    "duration": 7,
    "start_time": "2021-12-28T13:21:17.723Z"
   },
   {
    "duration": 9,
    "start_time": "2021-12-28T13:21:17.734Z"
   },
   {
    "duration": 6,
    "start_time": "2021-12-28T13:21:17.746Z"
   },
   {
    "duration": 10,
    "start_time": "2021-12-28T13:21:17.754Z"
   },
   {
    "duration": 70,
    "start_time": "2021-12-28T13:21:17.767Z"
   },
   {
    "duration": 6,
    "start_time": "2021-12-28T13:21:17.840Z"
   },
   {
    "duration": 75,
    "start_time": "2021-12-28T13:21:17.849Z"
   },
   {
    "duration": 97,
    "start_time": "2021-12-28T13:21:17.928Z"
   },
   {
    "duration": 353,
    "start_time": "2021-12-28T13:21:18.027Z"
   },
   {
    "duration": 7,
    "start_time": "2021-12-28T13:21:18.383Z"
   },
   {
    "duration": 1421,
    "start_time": "2021-12-28T13:21:35.228Z"
   },
   {
    "duration": 45,
    "start_time": "2021-12-28T13:21:36.651Z"
   },
   {
    "duration": 30,
    "start_time": "2021-12-28T13:21:36.699Z"
   },
   {
    "duration": 13,
    "start_time": "2021-12-28T13:21:36.732Z"
   },
   {
    "duration": 7,
    "start_time": "2021-12-28T13:21:36.747Z"
   },
   {
    "duration": 8,
    "start_time": "2021-12-28T13:21:36.756Z"
   },
   {
    "duration": 7,
    "start_time": "2021-12-28T13:21:36.766Z"
   },
   {
    "duration": 8,
    "start_time": "2021-12-28T13:21:36.775Z"
   },
   {
    "duration": 8,
    "start_time": "2021-12-28T13:21:36.825Z"
   },
   {
    "duration": 7,
    "start_time": "2021-12-28T13:21:36.837Z"
   },
   {
    "duration": 9,
    "start_time": "2021-12-28T13:21:36.847Z"
   },
   {
    "duration": 66,
    "start_time": "2021-12-28T13:21:36.859Z"
   },
   {
    "duration": 8,
    "start_time": "2021-12-28T13:21:36.928Z"
   },
   {
    "duration": 102,
    "start_time": "2021-12-28T13:21:36.939Z"
   },
   {
    "duration": 4,
    "start_time": "2021-12-28T13:21:37.124Z"
   },
   {
    "duration": 521,
    "start_time": "2021-12-28T13:21:37.132Z"
   },
   {
    "duration": 8,
    "start_time": "2021-12-28T13:21:37.656Z"
   },
   {
    "duration": 1415,
    "start_time": "2021-12-28T13:22:03.798Z"
   },
   {
    "duration": 47,
    "start_time": "2021-12-28T13:22:05.216Z"
   },
   {
    "duration": 21,
    "start_time": "2021-12-28T13:22:05.266Z"
   },
   {
    "duration": 37,
    "start_time": "2021-12-28T13:22:05.290Z"
   },
   {
    "duration": 7,
    "start_time": "2021-12-28T13:22:05.329Z"
   },
   {
    "duration": 8,
    "start_time": "2021-12-28T13:22:05.338Z"
   },
   {
    "duration": 6,
    "start_time": "2021-12-28T13:22:05.349Z"
   },
   {
    "duration": 6,
    "start_time": "2021-12-28T13:22:05.357Z"
   },
   {
    "duration": 7,
    "start_time": "2021-12-28T13:22:05.369Z"
   },
   {
    "duration": 44,
    "start_time": "2021-12-28T13:22:05.379Z"
   },
   {
    "duration": 10,
    "start_time": "2021-12-28T13:22:05.426Z"
   },
   {
    "duration": 22,
    "start_time": "2021-12-28T13:22:05.438Z"
   },
   {
    "duration": 6,
    "start_time": "2021-12-28T13:22:05.463Z"
   },
   {
    "duration": 155,
    "start_time": "2021-12-28T13:22:05.471Z"
   },
   {
    "duration": 101,
    "start_time": "2021-12-28T13:22:05.629Z"
   },
   {
    "duration": 353,
    "start_time": "2021-12-28T13:22:05.733Z"
   },
   {
    "duration": 6,
    "start_time": "2021-12-28T13:22:06.089Z"
   },
   {
    "duration": 1411,
    "start_time": "2021-12-28T13:22:25.300Z"
   },
   {
    "duration": 48,
    "start_time": "2021-12-28T13:22:26.714Z"
   },
   {
    "duration": 22,
    "start_time": "2021-12-28T13:22:26.765Z"
   },
   {
    "duration": 37,
    "start_time": "2021-12-28T13:22:26.790Z"
   },
   {
    "duration": 7,
    "start_time": "2021-12-28T13:22:26.830Z"
   },
   {
    "duration": 7,
    "start_time": "2021-12-28T13:22:26.840Z"
   },
   {
    "duration": 8,
    "start_time": "2021-12-28T13:22:26.849Z"
   },
   {
    "duration": 13,
    "start_time": "2021-12-28T13:22:26.860Z"
   },
   {
    "duration": 13,
    "start_time": "2021-12-28T13:22:26.876Z"
   },
   {
    "duration": 9,
    "start_time": "2021-12-28T13:22:26.892Z"
   },
   {
    "duration": 8,
    "start_time": "2021-12-28T13:22:26.923Z"
   },
   {
    "duration": 21,
    "start_time": "2021-12-28T13:22:26.934Z"
   },
   {
    "duration": 6,
    "start_time": "2021-12-28T13:22:26.958Z"
   },
   {
    "duration": 158,
    "start_time": "2021-12-28T13:22:26.967Z"
   },
   {
    "duration": 4,
    "start_time": "2021-12-28T13:22:27.127Z"
   },
   {
    "duration": 367,
    "start_time": "2021-12-28T13:22:27.133Z"
   },
   {
    "duration": 6,
    "start_time": "2021-12-28T13:22:27.502Z"
   },
   {
    "duration": 1975,
    "start_time": "2021-12-28T13:23:00.323Z"
   },
   {
    "duration": 65,
    "start_time": "2021-12-28T13:23:02.302Z"
   },
   {
    "duration": 30,
    "start_time": "2021-12-28T13:23:02.371Z"
   },
   {
    "duration": 35,
    "start_time": "2021-12-28T13:23:02.404Z"
   },
   {
    "duration": 22,
    "start_time": "2021-12-28T13:23:02.443Z"
   },
   {
    "duration": 17,
    "start_time": "2021-12-28T13:23:02.468Z"
   },
   {
    "duration": 17,
    "start_time": "2021-12-28T13:23:02.488Z"
   },
   {
    "duration": 14,
    "start_time": "2021-12-28T13:23:02.510Z"
   },
   {
    "duration": 22,
    "start_time": "2021-12-28T13:23:02.527Z"
   },
   {
    "duration": 15,
    "start_time": "2021-12-28T13:23:02.553Z"
   },
   {
    "duration": 19,
    "start_time": "2021-12-28T13:23:02.570Z"
   },
   {
    "duration": 36,
    "start_time": "2021-12-28T13:23:02.592Z"
   },
   {
    "duration": 16,
    "start_time": "2021-12-28T13:23:02.631Z"
   },
   {
    "duration": 85,
    "start_time": "2021-12-28T13:23:02.650Z"
   },
   {
    "duration": 26,
    "start_time": "2021-12-28T13:23:02.822Z"
   },
   {
    "duration": 433,
    "start_time": "2021-12-28T13:23:02.852Z"
   },
   {
    "duration": 8,
    "start_time": "2021-12-28T13:23:03.287Z"
   },
   {
    "duration": 32221,
    "start_time": "2021-12-28T13:23:03.297Z"
   },
   {
    "duration": 26,
    "start_time": "2021-12-28T13:23:35.520Z"
   },
   {
    "duration": 6,
    "start_time": "2021-12-28T13:23:35.548Z"
   },
   {
    "duration": 503,
    "start_time": "2021-12-28T13:23:35.557Z"
   },
   {
    "duration": 1476,
    "start_time": "2021-12-28T13:30:52.814Z"
   },
   {
    "duration": 55,
    "start_time": "2021-12-28T13:30:54.293Z"
   },
   {
    "duration": 20,
    "start_time": "2021-12-28T13:30:54.351Z"
   },
   {
    "duration": 14,
    "start_time": "2021-12-28T13:30:54.374Z"
   },
   {
    "duration": 60,
    "start_time": "2021-12-28T13:30:54.390Z"
   },
   {
    "duration": 9,
    "start_time": "2021-12-28T13:30:54.452Z"
   },
   {
    "duration": 66,
    "start_time": "2021-12-28T13:30:54.464Z"
   },
   {
    "duration": 490,
    "start_time": "2021-12-28T13:30:54.533Z"
   },
   {
    "duration": 12442,
    "start_time": "2021-12-28T13:30:55.028Z"
   },
   {
    "duration": 10,
    "start_time": "2021-12-28T13:31:07.473Z"
   },
   {
    "duration": 362,
    "start_time": "2021-12-28T13:31:07.486Z"
   },
   {
    "duration": 1838,
    "start_time": "2021-12-28T13:31:53.622Z"
   },
   {
    "duration": 48,
    "start_time": "2021-12-28T13:31:55.462Z"
   },
   {
    "duration": 26,
    "start_time": "2021-12-28T13:31:55.513Z"
   },
   {
    "duration": 13,
    "start_time": "2021-12-28T13:31:55.542Z"
   },
   {
    "duration": 71,
    "start_time": "2021-12-28T13:31:55.558Z"
   },
   {
    "duration": 9,
    "start_time": "2021-12-28T13:31:55.632Z"
   },
   {
    "duration": 180,
    "start_time": "2021-12-28T13:31:55.644Z"
   },
   {
    "duration": 359,
    "start_time": "2021-12-28T13:31:55.829Z"
   },
   {
    "duration": 9393,
    "start_time": "2021-12-28T13:31:56.191Z"
   },
   {
    "duration": 7,
    "start_time": "2021-12-28T13:32:05.587Z"
   },
   {
    "duration": 465,
    "start_time": "2021-12-28T13:32:05.597Z"
   },
   {
    "duration": 1417,
    "start_time": "2021-12-28T13:32:51.990Z"
   },
   {
    "duration": 48,
    "start_time": "2021-12-28T13:32:53.410Z"
   },
   {
    "duration": 27,
    "start_time": "2021-12-28T13:32:53.461Z"
   },
   {
    "duration": 40,
    "start_time": "2021-12-28T13:32:53.491Z"
   },
   {
    "duration": 57,
    "start_time": "2021-12-28T13:32:53.535Z"
   },
   {
    "duration": 35,
    "start_time": "2021-12-28T13:32:53.595Z"
   },
   {
    "duration": 191,
    "start_time": "2021-12-28T13:32:53.633Z"
   },
   {
    "duration": 368,
    "start_time": "2021-12-28T13:32:53.827Z"
   },
   {
    "duration": 9936,
    "start_time": "2021-12-28T13:32:54.198Z"
   },
   {
    "duration": 6,
    "start_time": "2021-12-28T13:33:04.136Z"
   },
   {
    "duration": 465,
    "start_time": "2021-12-28T13:33:04.145Z"
   },
   {
    "duration": 1396,
    "start_time": "2021-12-28T13:33:53.946Z"
   },
   {
    "duration": 45,
    "start_time": "2021-12-28T13:33:55.344Z"
   },
   {
    "duration": 32,
    "start_time": "2021-12-28T13:33:55.392Z"
   },
   {
    "duration": 13,
    "start_time": "2021-12-28T13:33:55.427Z"
   },
   {
    "duration": 38,
    "start_time": "2021-12-28T13:33:55.442Z"
   },
   {
    "duration": 8,
    "start_time": "2021-12-28T13:33:55.483Z"
   },
   {
    "duration": 129,
    "start_time": "2021-12-28T13:33:55.494Z"
   },
   {
    "duration": 459,
    "start_time": "2021-12-28T13:33:55.627Z"
   },
   {
    "duration": 18448,
    "start_time": "2021-12-28T13:33:56.091Z"
   },
   {
    "duration": 5,
    "start_time": "2021-12-28T13:34:14.542Z"
   },
   {
    "duration": 486,
    "start_time": "2021-12-28T13:34:14.550Z"
   },
   {
    "duration": 34011,
    "start_time": "2021-12-28T13:38:48.884Z"
   },
   {
    "duration": 3077,
    "start_time": "2021-12-28T13:41:02.051Z"
   },
   {
    "duration": 2219,
    "start_time": "2021-12-28T13:41:37.821Z"
   },
   {
    "duration": 2125,
    "start_time": "2021-12-28T13:43:06.705Z"
   },
   {
    "duration": 63,
    "start_time": "2021-12-28T13:43:08.834Z"
   },
   {
    "duration": 32,
    "start_time": "2021-12-28T13:43:08.902Z"
   },
   {
    "duration": 47,
    "start_time": "2021-12-28T13:43:08.938Z"
   },
   {
    "duration": 44,
    "start_time": "2021-12-28T13:43:08.989Z"
   },
   {
    "duration": 10,
    "start_time": "2021-12-28T13:43:09.035Z"
   },
   {
    "duration": 71,
    "start_time": "2021-12-28T13:43:09.052Z"
   },
   {
    "duration": 520,
    "start_time": "2021-12-28T13:43:09.127Z"
   },
   {
    "duration": 3287,
    "start_time": "2021-12-28T13:43:09.650Z"
   },
   {
    "duration": 637,
    "start_time": "2021-12-28T13:43:12.940Z"
   },
   {
    "duration": 2152,
    "start_time": "2021-12-28T13:43:30.101Z"
   },
   {
    "duration": 2336,
    "start_time": "2021-12-28T13:43:39.942Z"
   },
   {
    "duration": 2148,
    "start_time": "2021-12-28T13:43:50.846Z"
   },
   {
    "duration": 2776,
    "start_time": "2021-12-28T13:44:17.442Z"
   },
   {
    "duration": 2699,
    "start_time": "2021-12-28T13:44:29.038Z"
   },
   {
    "duration": 3209,
    "start_time": "2021-12-28T13:44:40.948Z"
   },
   {
    "duration": 2679,
    "start_time": "2021-12-28T13:44:51.058Z"
   },
   {
    "duration": 3153,
    "start_time": "2021-12-28T13:44:58.557Z"
   },
   {
    "duration": 3043,
    "start_time": "2021-12-28T13:45:08.803Z"
   },
   {
    "duration": 3119,
    "start_time": "2021-12-28T13:45:16.528Z"
   },
   {
    "duration": 2844,
    "start_time": "2021-12-28T13:45:24.313Z"
   },
   {
    "duration": 2966,
    "start_time": "2021-12-28T13:45:31.679Z"
   },
   {
    "duration": 3178,
    "start_time": "2021-12-28T13:45:39.134Z"
   },
   {
    "duration": 3516,
    "start_time": "2021-12-28T13:45:50.640Z"
   },
   {
    "duration": 2693,
    "start_time": "2021-12-28T13:46:03.239Z"
   },
   {
    "duration": 2009,
    "start_time": "2021-12-28T13:46:13.546Z"
   },
   {
    "duration": 2085,
    "start_time": "2021-12-28T13:46:20.910Z"
   },
   {
    "duration": 35740,
    "start_time": "2021-12-28T13:46:38.505Z"
   },
   {
    "duration": 1310,
    "start_time": "2021-12-28T13:47:33.377Z"
   },
   {
    "duration": 47,
    "start_time": "2021-12-28T13:47:34.689Z"
   },
   {
    "duration": 21,
    "start_time": "2021-12-28T13:47:34.739Z"
   },
   {
    "duration": 31,
    "start_time": "2021-12-28T13:47:34.764Z"
   },
   {
    "duration": 59,
    "start_time": "2021-12-28T13:47:34.797Z"
   },
   {
    "duration": 14,
    "start_time": "2021-12-28T13:47:34.859Z"
   },
   {
    "duration": 55,
    "start_time": "2021-12-28T13:47:34.875Z"
   },
   {
    "duration": 528,
    "start_time": "2021-12-28T13:47:34.933Z"
   },
   {
    "duration": 1593,
    "start_time": "2021-12-28T13:47:35.465Z"
   },
   {
    "duration": 445,
    "start_time": "2021-12-28T13:47:37.060Z"
   },
   {
    "duration": 1323,
    "start_time": "2021-12-28T13:49:21.483Z"
   },
   {
    "duration": 44,
    "start_time": "2021-12-28T13:49:22.809Z"
   },
   {
    "duration": 21,
    "start_time": "2021-12-28T13:49:22.856Z"
   },
   {
    "duration": 13,
    "start_time": "2021-12-28T13:49:22.880Z"
   },
   {
    "duration": 62,
    "start_time": "2021-12-28T13:49:22.896Z"
   },
   {
    "duration": 8,
    "start_time": "2021-12-28T13:49:22.960Z"
   },
   {
    "duration": 64,
    "start_time": "2021-12-28T13:49:22.970Z"
   },
   {
    "duration": 341,
    "start_time": "2021-12-28T13:49:23.125Z"
   },
   {
    "duration": 1824,
    "start_time": "2021-12-28T13:49:23.471Z"
   },
   {
    "duration": 430,
    "start_time": "2021-12-28T13:49:25.298Z"
   },
   {
    "duration": 4,
    "start_time": "2021-12-28T14:00:44.872Z"
   },
   {
    "duration": 434,
    "start_time": "2021-12-28T14:02:08.138Z"
   },
   {
    "duration": 5,
    "start_time": "2021-12-28T14:02:19.688Z"
   },
   {
    "duration": 23,
    "start_time": "2021-12-28T14:02:26.064Z"
   },
   {
    "duration": 111,
    "start_time": "2021-12-28T14:02:49.494Z"
   },
   {
    "duration": 20,
    "start_time": "2021-12-28T14:02:56.859Z"
   },
   {
    "duration": 10,
    "start_time": "2021-12-28T14:03:13.499Z"
   },
   {
    "duration": 268,
    "start_time": "2021-12-28T14:04:20.576Z"
   },
   {
    "duration": 5,
    "start_time": "2021-12-28T14:04:27.731Z"
   },
   {
    "duration": 8,
    "start_time": "2021-12-28T14:04:29.712Z"
   },
   {
    "duration": 22,
    "start_time": "2021-12-28T14:05:36.117Z"
   },
   {
    "duration": 21,
    "start_time": "2021-12-28T14:05:52.108Z"
   },
   {
    "duration": 21,
    "start_time": "2021-12-28T14:05:59.035Z"
   },
   {
    "duration": 20,
    "start_time": "2021-12-28T14:06:27.269Z"
   },
   {
    "duration": 8,
    "start_time": "2021-12-28T14:06:46.692Z"
   },
   {
    "duration": 12,
    "start_time": "2021-12-28T14:06:55.348Z"
   },
   {
    "duration": 298,
    "start_time": "2021-12-28T14:07:05.083Z"
   },
   {
    "duration": 421,
    "start_time": "2021-12-28T14:07:27.540Z"
   },
   {
    "duration": 361,
    "start_time": "2021-12-28T14:07:34.214Z"
   },
   {
    "duration": 9,
    "start_time": "2021-12-28T14:08:37.695Z"
   },
   {
    "duration": 22,
    "start_time": "2021-12-28T14:08:50.011Z"
   },
   {
    "duration": 274,
    "start_time": "2021-12-28T14:08:58.759Z"
   },
   {
    "duration": 4,
    "start_time": "2021-12-28T14:10:55.533Z"
   },
   {
    "duration": 8,
    "start_time": "2021-12-28T14:10:57.588Z"
   },
   {
    "duration": 7,
    "start_time": "2021-12-28T14:11:06.694Z"
   },
   {
    "duration": 16,
    "start_time": "2021-12-28T14:11:49.220Z"
   },
   {
    "duration": 14,
    "start_time": "2021-12-28T14:13:10.137Z"
   },
   {
    "duration": 517,
    "start_time": "2021-12-28T14:13:28.091Z"
   },
   {
    "duration": 670,
    "start_time": "2021-12-28T14:13:45.388Z"
   },
   {
    "duration": 407,
    "start_time": "2021-12-28T14:13:50.428Z"
   },
   {
    "duration": 475,
    "start_time": "2021-12-28T14:14:01.977Z"
   },
   {
    "duration": 419,
    "start_time": "2021-12-28T14:14:15.567Z"
   },
   {
    "duration": 481,
    "start_time": "2021-12-28T14:14:24.058Z"
   },
   {
    "duration": 1862,
    "start_time": "2021-12-28T14:15:33.129Z"
   },
   {
    "duration": 66,
    "start_time": "2021-12-28T14:15:34.995Z"
   },
   {
    "duration": 22,
    "start_time": "2021-12-28T14:15:35.064Z"
   },
   {
    "duration": 34,
    "start_time": "2021-12-28T14:15:35.089Z"
   },
   {
    "duration": 41,
    "start_time": "2021-12-28T14:15:35.125Z"
   },
   {
    "duration": 9,
    "start_time": "2021-12-28T14:15:35.168Z"
   },
   {
    "duration": 51,
    "start_time": "2021-12-28T14:15:35.180Z"
   },
   {
    "duration": 491,
    "start_time": "2021-12-28T14:15:35.235Z"
   },
   {
    "duration": 1699,
    "start_time": "2021-12-28T14:15:35.730Z"
   },
   {
    "duration": 434,
    "start_time": "2021-12-28T14:15:37.432Z"
   },
   {
    "duration": 520,
    "start_time": "2021-12-28T14:15:37.869Z"
   },
   {
    "duration": 1485,
    "start_time": "2021-12-28T14:16:30.883Z"
   },
   {
    "duration": 52,
    "start_time": "2021-12-28T14:16:32.372Z"
   },
   {
    "duration": 23,
    "start_time": "2021-12-28T14:16:32.428Z"
   },
   {
    "duration": 15,
    "start_time": "2021-12-28T14:16:32.454Z"
   },
   {
    "duration": 68,
    "start_time": "2021-12-28T14:16:32.471Z"
   },
   {
    "duration": 10,
    "start_time": "2021-12-28T14:16:32.541Z"
   },
   {
    "duration": 77,
    "start_time": "2021-12-28T14:16:32.553Z"
   },
   {
    "duration": 606,
    "start_time": "2021-12-28T14:16:32.634Z"
   },
   {
    "duration": 1978,
    "start_time": "2021-12-28T14:16:33.245Z"
   },
   {
    "duration": 452,
    "start_time": "2021-12-28T14:16:35.226Z"
   },
   {
    "duration": 747,
    "start_time": "2021-12-28T14:16:35.681Z"
   },
   {
    "duration": 736,
    "start_time": "2021-12-28T14:16:36.431Z"
   },
   {
    "duration": 730,
    "start_time": "2021-12-28T14:16:37.170Z"
   },
   {
    "duration": 490,
    "start_time": "2021-12-28T14:17:14.155Z"
   },
   {
    "duration": 550,
    "start_time": "2021-12-28T14:18:39.176Z"
   },
   {
    "duration": 541,
    "start_time": "2021-12-28T14:19:12.215Z"
   },
   {
    "duration": 485,
    "start_time": "2021-12-28T14:19:30.597Z"
   },
   {
    "duration": 51,
    "start_time": "2021-12-28T14:22:04.815Z"
   },
   {
    "duration": 21,
    "start_time": "2021-12-28T14:22:29.654Z"
   },
   {
    "duration": 1366,
    "start_time": "2021-12-28T14:26:39.522Z"
   },
   {
    "duration": 60,
    "start_time": "2021-12-28T14:26:40.891Z"
   },
   {
    "duration": 21,
    "start_time": "2021-12-28T14:26:40.954Z"
   },
   {
    "duration": 57,
    "start_time": "2021-12-28T14:26:40.977Z"
   },
   {
    "duration": 10,
    "start_time": "2021-12-28T14:26:41.036Z"
   },
   {
    "duration": 79,
    "start_time": "2021-12-28T14:26:41.048Z"
   },
   {
    "duration": 421,
    "start_time": "2021-12-28T14:26:41.130Z"
   },
   {
    "duration": 1457,
    "start_time": "2021-12-28T14:26:41.553Z"
   },
   {
    "duration": 472,
    "start_time": "2021-12-28T14:26:43.013Z"
   },
   {
    "duration": 460,
    "start_time": "2021-12-28T14:26:43.488Z"
   },
   {
    "duration": 450,
    "start_time": "2021-12-28T14:26:43.950Z"
   },
   {
    "duration": 447,
    "start_time": "2021-12-28T14:26:44.403Z"
   },
   {
    "duration": 360,
    "start_time": "2021-12-28T14:32:59.789Z"
   },
   {
    "duration": 455,
    "start_time": "2021-12-28T14:33:25.575Z"
   },
   {
    "duration": 428,
    "start_time": "2021-12-28T14:35:25.129Z"
   },
   {
    "duration": 318,
    "start_time": "2021-12-28T14:35:32.613Z"
   },
   {
    "duration": 295,
    "start_time": "2021-12-28T14:35:36.993Z"
   },
   {
    "duration": 341,
    "start_time": "2021-12-28T14:35:43.143Z"
   },
   {
    "duration": 1315,
    "start_time": "2021-12-28T14:36:37.976Z"
   },
   {
    "duration": 64,
    "start_time": "2021-12-28T14:36:39.294Z"
   },
   {
    "duration": 22,
    "start_time": "2021-12-28T14:36:39.361Z"
   },
   {
    "duration": 60,
    "start_time": "2021-12-28T14:36:39.387Z"
   },
   {
    "duration": 9,
    "start_time": "2021-12-28T14:36:39.449Z"
   },
   {
    "duration": 68,
    "start_time": "2021-12-28T14:36:39.460Z"
   },
   {
    "duration": 415,
    "start_time": "2021-12-28T14:36:39.531Z"
   },
   {
    "duration": 401,
    "start_time": "2021-12-28T14:36:39.949Z"
   },
   {
    "duration": 1565,
    "start_time": "2021-12-28T14:36:40.353Z"
   },
   {
    "duration": 277,
    "start_time": "2021-12-28T14:36:41.920Z"
   },
   {
    "duration": 438,
    "start_time": "2021-12-28T14:36:42.200Z"
   },
   {
    "duration": 439,
    "start_time": "2021-12-28T14:36:42.640Z"
   },
   {
    "duration": 628,
    "start_time": "2021-12-28T14:36:43.081Z"
   },
   {
    "duration": 146,
    "start_time": "2021-12-28T15:05:25.213Z"
   },
   {
    "duration": 705,
    "start_time": "2021-12-28T15:05:44.429Z"
   },
   {
    "duration": 425,
    "start_time": "2021-12-28T15:06:28.245Z"
   },
   {
    "duration": 500,
    "start_time": "2021-12-28T15:06:52.770Z"
   },
   {
    "duration": 593,
    "start_time": "2021-12-28T15:07:54.424Z"
   },
   {
    "duration": 759,
    "start_time": "2021-12-28T15:08:30.111Z"
   },
   {
    "duration": 627,
    "start_time": "2021-12-28T15:08:46.908Z"
   },
   {
    "duration": 14,
    "start_time": "2021-12-28T15:09:17.344Z"
   },
   {
    "duration": 506,
    "start_time": "2021-12-28T15:09:22.385Z"
   },
   {
    "duration": 577,
    "start_time": "2021-12-28T15:09:25.774Z"
   },
   {
    "duration": 365,
    "start_time": "2021-12-28T15:09:39.334Z"
   },
   {
    "duration": 5,
    "start_time": "2021-12-28T15:09:53.661Z"
   },
   {
    "duration": 1580,
    "start_time": "2021-12-28T15:10:00.309Z"
   },
   {
    "duration": 55,
    "start_time": "2021-12-28T15:10:01.891Z"
   },
   {
    "duration": 20,
    "start_time": "2021-12-28T15:10:01.949Z"
   },
   {
    "duration": 559,
    "start_time": "2021-12-28T15:10:01.972Z"
   },
   {
    "duration": 378,
    "start_time": "2021-12-28T15:10:02.533Z"
   },
   {
    "duration": 42,
    "start_time": "2021-12-28T15:10:02.914Z"
   },
   {
    "duration": 9,
    "start_time": "2021-12-28T15:10:02.958Z"
   },
   {
    "duration": 64,
    "start_time": "2021-12-28T15:10:02.969Z"
   },
   {
    "duration": 343,
    "start_time": "2021-12-28T15:10:03.126Z"
   },
   {
    "duration": 310,
    "start_time": "2021-12-28T15:10:03.472Z"
   },
   {
    "duration": 1730,
    "start_time": "2021-12-28T15:10:03.784Z"
   },
   {
    "duration": 346,
    "start_time": "2021-12-28T15:10:05.517Z"
   },
   {
    "duration": 438,
    "start_time": "2021-12-28T15:10:05.865Z"
   },
   {
    "duration": 440,
    "start_time": "2021-12-28T15:10:06.306Z"
   },
   {
    "duration": 452,
    "start_time": "2021-12-28T15:10:06.748Z"
   },
   {
    "duration": 1119,
    "start_time": "2021-12-28T15:11:14.804Z"
   },
   {
    "duration": 99,
    "start_time": "2021-12-28T15:11:29.424Z"
   },
   {
    "duration": 414,
    "start_time": "2021-12-28T15:11:33.696Z"
   },
   {
    "duration": 352,
    "start_time": "2021-12-28T15:13:36.547Z"
   },
   {
    "duration": 414,
    "start_time": "2021-12-28T15:14:36.893Z"
   },
   {
    "duration": 386,
    "start_time": "2021-12-28T15:14:55.629Z"
   },
   {
    "duration": 546,
    "start_time": "2021-12-28T15:16:02.770Z"
   },
   {
    "duration": 673,
    "start_time": "2021-12-28T15:16:23.921Z"
   },
   {
    "duration": 656,
    "start_time": "2021-12-28T15:17:14.019Z"
   },
   {
    "duration": 308,
    "start_time": "2021-12-28T15:17:20.711Z"
   },
   {
    "duration": 1007,
    "start_time": "2021-12-28T15:17:41.486Z"
   },
   {
    "duration": 763,
    "start_time": "2021-12-28T15:17:54.899Z"
   },
   {
    "duration": 773,
    "start_time": "2021-12-28T15:18:06.041Z"
   },
   {
    "duration": 807,
    "start_time": "2021-12-28T15:18:30.012Z"
   },
   {
    "duration": 295,
    "start_time": "2021-12-28T15:19:10.198Z"
   },
   {
    "duration": 674,
    "start_time": "2021-12-28T15:19:15.478Z"
   },
   {
    "duration": 435,
    "start_time": "2021-12-28T15:19:20.712Z"
   },
   {
    "duration": 387,
    "start_time": "2021-12-28T15:19:29.346Z"
   },
   {
    "duration": 384,
    "start_time": "2021-12-28T15:20:52.755Z"
   },
   {
    "duration": 665,
    "start_time": "2021-12-28T15:21:08.130Z"
   },
   {
    "duration": 283,
    "start_time": "2021-12-28T15:24:17.869Z"
   },
   {
    "duration": 584,
    "start_time": "2021-12-28T15:24:39.167Z"
   },
   {
    "duration": 596,
    "start_time": "2021-12-28T15:24:51.589Z"
   },
   {
    "duration": 540,
    "start_time": "2021-12-28T15:24:57.828Z"
   },
   {
    "duration": 563,
    "start_time": "2021-12-28T15:25:16.909Z"
   },
   {
    "duration": 585,
    "start_time": "2021-12-28T15:25:30.800Z"
   },
   {
    "duration": 496,
    "start_time": "2021-12-28T15:29:03.867Z"
   },
   {
    "duration": 1881,
    "start_time": "2021-12-28T15:30:52.753Z"
   },
   {
    "duration": 102,
    "start_time": "2021-12-28T15:33:30.076Z"
   },
   {
    "duration": 2122,
    "start_time": "2021-12-28T15:34:26.612Z"
   },
   {
    "duration": 294,
    "start_time": "2021-12-28T15:36:27.694Z"
   },
   {
    "duration": 1094,
    "start_time": "2021-12-28T15:36:39.216Z"
   },
   {
    "duration": 1522,
    "start_time": "2021-12-28T15:37:44.642Z"
   },
   {
    "duration": 57,
    "start_time": "2021-12-28T15:37:46.167Z"
   },
   {
    "duration": 20,
    "start_time": "2021-12-28T15:37:46.227Z"
   },
   {
    "duration": 579,
    "start_time": "2021-12-28T15:37:46.249Z"
   },
   {
    "duration": 505,
    "start_time": "2021-12-28T15:37:46.830Z"
   },
   {
    "duration": 2495,
    "start_time": "2021-12-28T15:37:47.337Z"
   },
   {
    "duration": 1192,
    "start_time": "2021-12-28T15:37:49.835Z"
   },
   {
    "duration": 42,
    "start_time": "2021-12-28T15:37:51.031Z"
   },
   {
    "duration": 10,
    "start_time": "2021-12-28T15:37:51.076Z"
   },
   {
    "duration": 132,
    "start_time": "2021-12-28T15:37:51.090Z"
   },
   {
    "duration": 532,
    "start_time": "2021-12-28T15:37:51.228Z"
   },
   {
    "duration": 438,
    "start_time": "2021-12-28T15:37:51.763Z"
   },
   {
    "duration": 1731,
    "start_time": "2021-12-28T15:37:52.203Z"
   },
   {
    "duration": 422,
    "start_time": "2021-12-28T15:37:53.937Z"
   },
   {
    "duration": 625,
    "start_time": "2021-12-28T15:37:54.362Z"
   },
   {
    "duration": 450,
    "start_time": "2021-12-28T15:37:54.990Z"
   },
   {
    "duration": 565,
    "start_time": "2021-12-28T15:37:55.442Z"
   },
   {
    "duration": 1546,
    "start_time": "2021-12-28T15:39:55.718Z"
   },
   {
    "duration": 55,
    "start_time": "2021-12-28T15:39:57.267Z"
   },
   {
    "duration": 21,
    "start_time": "2021-12-28T15:39:57.324Z"
   },
   {
    "duration": 571,
    "start_time": "2021-12-28T15:39:57.347Z"
   },
   {
    "duration": 558,
    "start_time": "2021-12-28T15:39:57.924Z"
   },
   {
    "duration": 2241,
    "start_time": "2021-12-28T15:39:58.485Z"
   },
   {
    "duration": 1060,
    "start_time": "2021-12-28T15:40:00.735Z"
   },
   {
    "duration": 56,
    "start_time": "2021-12-28T15:40:01.797Z"
   },
   {
    "duration": 11,
    "start_time": "2021-12-28T15:40:01.856Z"
   },
   {
    "duration": 66,
    "start_time": "2021-12-28T15:40:01.870Z"
   },
   {
    "duration": 404,
    "start_time": "2021-12-28T15:40:02.025Z"
   },
   {
    "duration": 315,
    "start_time": "2021-12-28T15:40:02.431Z"
   },
   {
    "duration": 1904,
    "start_time": "2021-12-28T15:40:02.748Z"
   },
   {
    "duration": 313,
    "start_time": "2021-12-28T15:40:04.654Z"
   },
   {
    "duration": 459,
    "start_time": "2021-12-28T15:40:04.969Z"
   },
   {
    "duration": 451,
    "start_time": "2021-12-28T15:40:05.431Z"
   },
   {
    "duration": 449,
    "start_time": "2021-12-28T15:40:05.885Z"
   },
   {
    "duration": 1559,
    "start_time": "2021-12-28T15:40:38.512Z"
   },
   {
    "duration": 57,
    "start_time": "2021-12-28T15:40:40.073Z"
   },
   {
    "duration": 22,
    "start_time": "2021-12-28T15:40:40.134Z"
   },
   {
    "duration": 580,
    "start_time": "2021-12-28T15:40:40.159Z"
   },
   {
    "duration": 485,
    "start_time": "2021-12-28T15:40:40.741Z"
   },
   {
    "duration": 2503,
    "start_time": "2021-12-28T15:40:41.228Z"
   },
   {
    "duration": 1106,
    "start_time": "2021-12-28T15:40:43.733Z"
   },
   {
    "duration": 37,
    "start_time": "2021-12-28T15:40:44.842Z"
   },
   {
    "duration": 9,
    "start_time": "2021-12-28T15:40:44.883Z"
   },
   {
    "duration": 42,
    "start_time": "2021-12-28T15:40:44.894Z"
   },
   {
    "duration": 503,
    "start_time": "2021-12-28T15:40:44.939Z"
   },
   {
    "duration": 296,
    "start_time": "2021-12-28T15:40:45.444Z"
   },
   {
    "duration": 1463,
    "start_time": "2021-12-28T15:40:45.742Z"
   },
   {
    "duration": 278,
    "start_time": "2021-12-28T15:40:47.208Z"
   },
   {
    "duration": 444,
    "start_time": "2021-12-28T15:40:47.489Z"
   },
   {
    "duration": 487,
    "start_time": "2021-12-28T15:40:47.936Z"
   },
   {
    "duration": 449,
    "start_time": "2021-12-28T15:40:48.426Z"
   },
   {
    "duration": 1757,
    "start_time": "2021-12-28T15:41:38.933Z"
   },
   {
    "duration": 58,
    "start_time": "2021-12-28T15:41:40.693Z"
   },
   {
    "duration": 21,
    "start_time": "2021-12-28T15:41:40.754Z"
   },
   {
    "duration": 630,
    "start_time": "2021-12-28T15:41:40.778Z"
   },
   {
    "duration": 521,
    "start_time": "2021-12-28T15:41:41.411Z"
   },
   {
    "duration": 2089,
    "start_time": "2021-12-28T15:41:41.934Z"
   },
   {
    "duration": 1147,
    "start_time": "2021-12-28T15:41:44.027Z"
   },
   {
    "duration": 56,
    "start_time": "2021-12-28T15:41:45.178Z"
   },
   {
    "duration": 12,
    "start_time": "2021-12-28T15:41:45.237Z"
   },
   {
    "duration": 80,
    "start_time": "2021-12-28T15:41:45.252Z"
   },
   {
    "duration": 435,
    "start_time": "2021-12-28T15:41:45.425Z"
   },
   {
    "duration": 316,
    "start_time": "2021-12-28T15:41:45.862Z"
   },
   {
    "duration": 2373,
    "start_time": "2021-12-28T15:41:46.180Z"
   },
   {
    "duration": 298,
    "start_time": "2021-12-28T15:41:48.556Z"
   },
   {
    "duration": 477,
    "start_time": "2021-12-28T15:41:48.856Z"
   },
   {
    "duration": 455,
    "start_time": "2021-12-28T15:41:49.336Z"
   },
   {
    "duration": 454,
    "start_time": "2021-12-28T15:41:49.793Z"
   },
   {
    "duration": 1715,
    "start_time": "2021-12-28T16:39:22.966Z"
   },
   {
    "duration": 66,
    "start_time": "2021-12-28T16:39:24.683Z"
   },
   {
    "duration": 18,
    "start_time": "2021-12-28T16:39:24.752Z"
   },
   {
    "duration": 104776,
    "start_time": "2021-12-28T16:39:53.615Z"
   },
   {
    "duration": 521,
    "start_time": "2021-12-28T16:41:38.393Z"
   },
   {
    "duration": 3901,
    "start_time": "2021-12-28T16:41:38.917Z"
   },
   {
    "duration": 1698,
    "start_time": "2021-12-28T16:41:42.822Z"
   },
   {
    "duration": 38,
    "start_time": "2021-12-28T16:45:44.964Z"
   },
   {
    "duration": 9,
    "start_time": "2021-12-28T16:48:23.631Z"
   },
   {
    "duration": 95,
    "start_time": "2021-12-28T16:48:26.625Z"
   },
   {
    "duration": 342,
    "start_time": "2021-12-28T16:48:48.780Z"
   },
   {
    "duration": 320,
    "start_time": "2021-12-28T16:48:50.442Z"
   },
   {
    "duration": 1872,
    "start_time": "2021-12-28T16:48:56.393Z"
   },
   {
    "duration": 292,
    "start_time": "2021-12-28T16:48:59.401Z"
   },
   {
    "duration": 435,
    "start_time": "2021-12-28T16:49:05.385Z"
   },
   {
    "duration": 464,
    "start_time": "2021-12-28T16:49:11.482Z"
   },
   {
    "duration": 455,
    "start_time": "2021-12-28T16:49:12.082Z"
   },
   {
    "duration": 249,
    "start_time": "2021-12-28T16:52:10.915Z"
   },
   {
    "duration": 1134,
    "start_time": "2021-12-28T18:01:06.186Z"
   },
   {
    "duration": 44,
    "start_time": "2021-12-28T18:01:07.321Z"
   },
   {
    "duration": 13,
    "start_time": "2021-12-28T18:01:07.367Z"
   },
   {
    "duration": 331,
    "start_time": "2021-12-28T18:01:07.382Z"
   },
   {
    "duration": 369,
    "start_time": "2021-12-28T18:01:07.715Z"
   },
   {
    "duration": 3061,
    "start_time": "2021-12-28T18:01:08.086Z"
   },
   {
    "duration": 828,
    "start_time": "2021-12-28T18:01:11.149Z"
   },
   {
    "duration": 25,
    "start_time": "2021-12-28T18:01:11.980Z"
   },
   {
    "duration": 6,
    "start_time": "2021-12-28T18:01:12.006Z"
   },
   {
    "duration": 129,
    "start_time": "2021-12-28T18:01:12.014Z"
   },
   {
    "duration": 350,
    "start_time": "2021-12-28T18:01:12.145Z"
   },
   {
    "duration": 186,
    "start_time": "2021-12-28T18:01:12.497Z"
   },
   {
    "duration": 1486,
    "start_time": "2021-12-28T18:01:12.685Z"
   },
   {
    "duration": 166,
    "start_time": "2021-12-28T18:01:14.173Z"
   },
   {
    "duration": 272,
    "start_time": "2021-12-28T18:01:14.341Z"
   },
   {
    "duration": 273,
    "start_time": "2021-12-28T18:01:14.615Z"
   },
   {
    "duration": 272,
    "start_time": "2021-12-28T18:01:14.890Z"
   },
   {
    "duration": 1578,
    "start_time": "2021-12-28T18:03:45.411Z"
   },
   {
    "duration": 59,
    "start_time": "2021-12-28T18:03:46.992Z"
   },
   {
    "duration": 16,
    "start_time": "2021-12-28T18:03:47.054Z"
   },
   {
    "duration": 409,
    "start_time": "2021-12-28T18:03:47.072Z"
   },
   {
    "duration": 433,
    "start_time": "2021-12-28T18:03:47.483Z"
   },
   {
    "duration": 1533,
    "start_time": "2021-12-28T18:03:47.918Z"
   },
   {
    "duration": 1038,
    "start_time": "2021-12-28T18:03:49.542Z"
   },
   {
    "duration": 26,
    "start_time": "2021-12-28T18:03:50.583Z"
   },
   {
    "duration": 6,
    "start_time": "2021-12-28T18:03:50.611Z"
   },
   {
    "duration": 47,
    "start_time": "2021-12-28T18:03:50.619Z"
   },
   {
    "duration": 422,
    "start_time": "2021-12-28T18:03:50.668Z"
   },
   {
    "duration": 185,
    "start_time": "2021-12-28T18:03:51.092Z"
   },
   {
    "duration": 1601,
    "start_time": "2021-12-28T18:03:51.278Z"
   },
   {
    "duration": 177,
    "start_time": "2021-12-28T18:03:52.881Z"
   },
   {
    "duration": 401,
    "start_time": "2021-12-28T18:03:53.059Z"
   },
   {
    "duration": 286,
    "start_time": "2021-12-28T18:03:53.462Z"
   },
   {
    "duration": 272,
    "start_time": "2021-12-28T18:03:53.750Z"
   },
   {
    "duration": 1160,
    "start_time": "2021-12-28T18:06:47.891Z"
   },
   {
    "duration": 45,
    "start_time": "2021-12-28T18:06:49.053Z"
   },
   {
    "duration": 12,
    "start_time": "2021-12-28T18:06:49.100Z"
   },
   {
    "duration": 328,
    "start_time": "2021-12-28T18:06:49.114Z"
   },
   {
    "duration": 374,
    "start_time": "2021-12-28T18:06:49.443Z"
   },
   {
    "duration": 1729,
    "start_time": "2021-12-28T18:06:49.818Z"
   },
   {
    "duration": 817,
    "start_time": "2021-12-28T18:06:51.549Z"
   },
   {
    "duration": 27,
    "start_time": "2021-12-28T18:06:52.368Z"
   },
   {
    "duration": 6,
    "start_time": "2021-12-28T18:06:52.398Z"
   },
   {
    "duration": 138,
    "start_time": "2021-12-28T18:06:52.406Z"
   },
   {
    "duration": 341,
    "start_time": "2021-12-28T18:06:52.546Z"
   },
   {
    "duration": 182,
    "start_time": "2021-12-28T18:06:52.889Z"
   },
   {
    "duration": 1248,
    "start_time": "2021-12-28T18:06:53.073Z"
   },
   {
    "duration": 162,
    "start_time": "2021-12-28T18:06:54.323Z"
   },
   {
    "duration": 259,
    "start_time": "2021-12-28T18:06:54.486Z"
   },
   {
    "duration": 276,
    "start_time": "2021-12-28T18:06:54.747Z"
   },
   {
    "duration": 273,
    "start_time": "2021-12-28T18:06:55.024Z"
   }
  ],
  "kernelspec": {
   "display_name": "Python 3 (ipykernel)",
   "language": "python",
   "name": "python3"
  },
  "language_info": {
   "codemirror_mode": {
    "name": "ipython",
    "version": 3
   },
   "file_extension": ".py",
   "mimetype": "text/x-python",
   "name": "python",
   "nbconvert_exporter": "python",
   "pygments_lexer": "ipython3",
   "version": "3.10.5"
  },
  "toc": {
   "base_numbering": 1,
   "nav_menu": {},
   "number_sections": true,
   "sideBar": true,
   "skip_h1_title": true,
   "title_cell": "Содержание",
   "title_sidebar": "Contents",
   "toc_cell": true,
   "toc_position": {
    "height": "calc(100% - 180px)",
    "left": "10px",
    "top": "150px",
    "width": "363.458px"
   },
   "toc_section_display": true,
   "toc_window_display": true
  }
 },
 "nbformat": 4,
 "nbformat_minor": 2
}
